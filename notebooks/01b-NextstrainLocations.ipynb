{
 "cells": [
  {
   "cell_type": "markdown",
   "metadata": {},
   "source": [
    "# Assign standard locations to strain information\n",
    "**[Work in progress]**\n",
    "\n",
    "This notebook downloads and standardizes SARS-CoV-2 strain information from [Nextstrain.org](https://nextstrain.org) obtained from [GISAID](https://www.gisaid.org/) for ingestion into a Knowledge Graph.\n",
    "\n",
    "Data source: [git repo](https://github.com/nextstrain/ncov)\n",
    "\n",
    "Author: Peter Rose (pwrose@ucsd.edu)"
   ]
  },
  {
   "cell_type": "code",
   "execution_count": 1,
   "metadata": {},
   "outputs": [],
   "source": [
    "import os\n",
    "import pandas as pd\n",
    "import dateutil\n",
    "from pathlib import Path"
   ]
  },
  {
   "cell_type": "code",
   "execution_count": 2,
   "metadata": {},
   "outputs": [],
   "source": [
    "pd.options.display.max_rows = None  # display all rows\n",
    "pd.options.display.max_columns = None  # display all columsns"
   ]
  },
  {
   "cell_type": "code",
   "execution_count": 3,
   "metadata": {},
   "outputs": [
    {
     "name": "stdout",
     "output_type": "stream",
     "text": [
      "/Users/peter/Library/Application Support/Neo4j Desktop/Application/neo4jDatabases/database-4af96121-2328-4e2f-ba60-6d8b728a26d5/installation-4.0.3\n"
     ]
    }
   ],
   "source": [
    "NEO4J_HOME = Path(os.getenv('NEO4J_HOME'))\n",
    "print(NEO4J_HOME)"
   ]
  },
  {
   "cell_type": "code",
   "execution_count": 4,
   "metadata": {},
   "outputs": [],
   "source": [
    "df = pd.read_csv(NEO4J_HOME / \"import/01b-Nextstrain.csv\")\n",
    "df = df.fillna('')"
   ]
  },
  {
   "cell_type": "code",
   "execution_count": 5,
   "metadata": {},
   "outputs": [
    {
     "data": {
      "text/html": [
       "<div>\n",
       "<style scoped>\n",
       "    .dataframe tbody tr th:only-of-type {\n",
       "        vertical-align: middle;\n",
       "    }\n",
       "\n",
       "    .dataframe tbody tr th {\n",
       "        vertical-align: top;\n",
       "    }\n",
       "\n",
       "    .dataframe thead th {\n",
       "        text-align: right;\n",
       "    }\n",
       "</style>\n",
       "<table border=\"1\" class=\"dataframe\">\n",
       "  <thead>\n",
       "    <tr style=\"text-align: right;\">\n",
       "      <th></th>\n",
       "      <th>id</th>\n",
       "      <th>name</th>\n",
       "      <th>alias</th>\n",
       "      <th>taxonomy_id</th>\n",
       "      <th>collection_date</th>\n",
       "      <th>host_taxonomy_id</th>\n",
       "      <th>sex</th>\n",
       "      <th>age</th>\n",
       "      <th>clade</th>\n",
       "      <th>country_exposure</th>\n",
       "      <th>admin1_exposure</th>\n",
       "      <th>country</th>\n",
       "      <th>division</th>\n",
       "      <th>location</th>\n",
       "    </tr>\n",
       "  </thead>\n",
       "  <tbody>\n",
       "    <tr>\n",
       "      <th>0</th>\n",
       "      <td>https://www.gisaid.org/EPI_ISL_418241</td>\n",
       "      <td>Algeria/G0638_2264/2020</td>\n",
       "      <td></td>\n",
       "      <td>taxonomy:2697049</td>\n",
       "      <td>2020-03-02</td>\n",
       "      <td>taxonomy:9606</td>\n",
       "      <td>female</td>\n",
       "      <td>28</td>\n",
       "      <td>A2a</td>\n",
       "      <td>Algeria</td>\n",
       "      <td>Boufarik</td>\n",
       "      <td>Algeria</td>\n",
       "      <td>Boufarik</td>\n",
       "      <td></td>\n",
       "    </tr>\n",
       "    <tr>\n",
       "      <th>1</th>\n",
       "      <td>https://www.gisaid.org/EPI_ISL_418242</td>\n",
       "      <td>Algeria/G0640_2265/2020</td>\n",
       "      <td></td>\n",
       "      <td>taxonomy:2697049</td>\n",
       "      <td>2020-03-08</td>\n",
       "      <td>taxonomy:9606</td>\n",
       "      <td>male</td>\n",
       "      <td>87</td>\n",
       "      <td>A2a</td>\n",
       "      <td>Algeria</td>\n",
       "      <td>Blida</td>\n",
       "      <td>Algeria</td>\n",
       "      <td>Blida</td>\n",
       "      <td></td>\n",
       "    </tr>\n",
       "    <tr>\n",
       "      <th>2</th>\n",
       "      <td>https://www.gisaid.org/EPI_ISL_420037</td>\n",
       "      <td>Algeria/G0860_2262/2020</td>\n",
       "      <td></td>\n",
       "      <td>taxonomy:2697049</td>\n",
       "      <td>2020-03-02</td>\n",
       "      <td>taxonomy:9606</td>\n",
       "      <td>male</td>\n",
       "      <td>41</td>\n",
       "      <td>A2a</td>\n",
       "      <td>Algeria</td>\n",
       "      <td>Boufarik</td>\n",
       "      <td>Algeria</td>\n",
       "      <td>Boufarik</td>\n",
       "      <td></td>\n",
       "    </tr>\n",
       "    <tr>\n",
       "      <th>3</th>\n",
       "      <td>https://www.gisaid.org/EPI_ISL_413485</td>\n",
       "      <td>Anhui/SZ005/2020</td>\n",
       "      <td></td>\n",
       "      <td>taxonomy:2697049</td>\n",
       "      <td>2020-01-24</td>\n",
       "      <td>taxonomy:9606</td>\n",
       "      <td>male</td>\n",
       "      <td>58</td>\n",
       "      <td>B</td>\n",
       "      <td>China</td>\n",
       "      <td>Anhui</td>\n",
       "      <td>China</td>\n",
       "      <td>Anhui</td>\n",
       "      <td>Suzhou</td>\n",
       "    </tr>\n",
       "    <tr>\n",
       "      <th>4</th>\n",
       "      <td>https://www.gisaid.org/EPI_ISL_420600</td>\n",
       "      <td>Argentina/C121/2020</td>\n",
       "      <td></td>\n",
       "      <td>taxonomy:2697049</td>\n",
       "      <td>2020-03-07</td>\n",
       "      <td>taxonomy:9606</td>\n",
       "      <td>male</td>\n",
       "      <td>51</td>\n",
       "      <td>A2a</td>\n",
       "      <td>Argentina</td>\n",
       "      <td></td>\n",
       "      <td>Argentina</td>\n",
       "      <td>Argentina</td>\n",
       "      <td></td>\n",
       "    </tr>\n",
       "  </tbody>\n",
       "</table>\n",
       "</div>"
      ],
      "text/plain": [
       "                                      id                     name alias  \\\n",
       "0  https://www.gisaid.org/EPI_ISL_418241  Algeria/G0638_2264/2020         \n",
       "1  https://www.gisaid.org/EPI_ISL_418242  Algeria/G0640_2265/2020         \n",
       "2  https://www.gisaid.org/EPI_ISL_420037  Algeria/G0860_2262/2020         \n",
       "3  https://www.gisaid.org/EPI_ISL_413485         Anhui/SZ005/2020         \n",
       "4  https://www.gisaid.org/EPI_ISL_420600      Argentina/C121/2020         \n",
       "\n",
       "        taxonomy_id collection_date host_taxonomy_id     sex age clade  \\\n",
       "0  taxonomy:2697049      2020-03-02    taxonomy:9606  female  28   A2a   \n",
       "1  taxonomy:2697049      2020-03-08    taxonomy:9606    male  87   A2a   \n",
       "2  taxonomy:2697049      2020-03-02    taxonomy:9606    male  41   A2a   \n",
       "3  taxonomy:2697049      2020-01-24    taxonomy:9606    male  58     B   \n",
       "4  taxonomy:2697049      2020-03-07    taxonomy:9606    male  51   A2a   \n",
       "\n",
       "  country_exposure admin1_exposure    country   division location  \n",
       "0          Algeria        Boufarik    Algeria   Boufarik           \n",
       "1          Algeria           Blida    Algeria      Blida           \n",
       "2          Algeria        Boufarik    Algeria   Boufarik           \n",
       "3            China           Anhui      China      Anhui   Suzhou  \n",
       "4        Argentina                  Argentina  Argentina           "
      ]
     },
     "execution_count": 5,
     "metadata": {},
     "output_type": "execute_result"
    }
   ],
   "source": [
    "df.head()"
   ]
  },
  {
   "cell_type": "markdown",
   "metadata": {},
   "source": [
    "# TODO: standardize location information so it can be linked to GeoNames"
   ]
  },
  {
   "cell_type": "code",
   "execution_count": null,
   "metadata": {},
   "outputs": [],
   "source": []
  }
 ],
 "metadata": {
  "kernelspec": {
   "display_name": "Python 3",
   "language": "python",
   "name": "python3"
  },
  "language_info": {
   "codemirror_mode": {
    "name": "ipython",
    "version": 3
   },
   "file_extension": ".py",
   "mimetype": "text/x-python",
   "name": "python",
   "nbconvert_exporter": "python",
   "pygments_lexer": "ipython3",
   "version": "3.8.2"
  }
 },
 "nbformat": 4,
 "nbformat_minor": 4
}

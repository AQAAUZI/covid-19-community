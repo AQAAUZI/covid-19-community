{
 "cells": [
  {
   "cell_type": "markdown",
   "metadata": {},
   "source": [
    "# Load Viral Genome Data from NCBI\n",
    "**[Work in progress]**\n",
    "\n",
    "This notebook downloads and standardizes viral genome data from NCBI for ingestion into a Knowledge Graph.\n",
    "\n",
    "Data source: [NCBI](https://www.ncbi.nlm.nih.gov)\n",
    "\n",
    "Author: Peter Rose (pwrose@ucsd.edu)"
   ]
  },
  {
   "cell_type": "code",
   "execution_count": 1,
   "metadata": {},
   "outputs": [],
   "source": [
    "import os\n",
    "import pandas as pd\n",
    "import dateutil\n",
    "from pathlib import Path\n",
    "from Bio import SeqIO\n",
    "from Bio import Entrez\n",
    "Entrez.email = \"covid19@mybinder.org\""
   ]
  },
  {
   "cell_type": "code",
   "execution_count": 2,
   "metadata": {},
   "outputs": [],
   "source": [
    "pd.options.display.max_rows = None  # display all rows\n",
    "pd.options.display.max_columns = None  # display all columsns"
   ]
  },
  {
   "cell_type": "code",
   "execution_count": 3,
   "metadata": {},
   "outputs": [
    {
     "name": "stdout",
     "output_type": "stream",
     "text": [
      "/Users/peter/Library/Application Support/Neo4j Desktop/Application/neo4jDatabases/database-4af96121-2328-4e2f-ba60-6d8b728a26d5/installation-4.0.3\n"
     ]
    }
   ],
   "source": [
    "NEO4J_HOME = Path(os.getenv('NEO4J_HOME'))\n",
    "print(NEO4J_HOME)"
   ]
  },
  {
   "cell_type": "markdown",
   "metadata": {},
   "source": [
    "### NCBI Data Source\n",
    "[NCBI Severe acute respiratory syndrome coronavirus 2 data hub](https://www.ncbi.nlm.nih.gov/labs/virus/vssi/#/virus?SeqType_s=Nucleotide&VirusLineage_ss=Severe%20acute%20respiratory%20syndrome%20coronavirus%202,%20taxid:2697049)"
   ]
  },
  {
   "cell_type": "code",
   "execution_count": 4,
   "metadata": {},
   "outputs": [],
   "source": [
    "# constants used to generate fasta url: \n",
    "# \"https://www.ncbi.nlm.nih.gov/nuccore/{genbank_accession}/?report=fasta\"\n",
    "\n",
    "ncbi_nuccore_url = \"https://www.ncbi.nlm.nih.gov/nuccore/\"\n",
    "fasta_format = \"/?report=fasta\""
   ]
  },
  {
   "cell_type": "markdown",
   "metadata": {},
   "source": [
    "### Download viral genome information"
   ]
  },
  {
   "cell_type": "code",
   "execution_count": 5,
   "metadata": {},
   "outputs": [],
   "source": [
    "# TODO loop over a list of taxonomy ids. \n",
    "\n",
    "# for now SARS-CoV-2 is hardcoded.\n",
    "tax_id = \"2697049\" # SARS-CoV-2, NC_045512\n",
    "#tax_id = \"694009\" # SARS, NC_004718\n",
    "#tax_id = \"1335626\" # MERS-CoV, NC_019843\n",
    "#tax_id = \"333387\" # Bat SARS coronavirus HKU3-1\n",
    "#tax_id = \"147711\" # Rhinovirus A\n",
    "#tax_id = \"147712\" # Rhinovirus B\n",
    "#tax_id = \"186538\" # Zaire ebolavirus, NC_002549\n",
    "\n",
    "#term = f\"txid{tax_id}[Organism]+refseq[filter]\" # format for reference sequences only"
   ]
  },
  {
   "cell_type": "markdown",
   "metadata": {},
   "source": [
    "### Download nucleotide accession numbers for the given taxonomy id"
   ]
  },
  {
   "cell_type": "code",
   "execution_count": 6,
   "metadata": {},
   "outputs": [
    {
     "name": "stdout",
     "output_type": "stream",
     "text": [
      "Nucleotides: 580\n"
     ]
    }
   ],
   "source": [
    "term = f\"txid{tax_id}[Organism]\"\n",
    "handle = Entrez.esearch(db=\"nucleotide\", retmax=5000, term=term, idtype=\"acc\")\n",
    "nuc_accessions = Entrez.read(handle)\n",
    "handle.close()\n",
    "print(\"Nucleotides:\", nuc_accessions['Count'])"
   ]
  },
  {
   "cell_type": "code",
   "execution_count": 7,
   "metadata": {},
   "outputs": [],
   "source": [
    "# TODO refactor function into a separate .py file\n",
    "def extract_genbank_features(gb_record, feature_type, qualifier_list) :\n",
    "    answers = list()\n",
    "    for (index, feature) in enumerate(gb_record.features) :\n",
    "        answer = dict()\n",
    "        if feature.type==feature_type :\n",
    "            for qualifier in qualifier_list:\n",
    "                if qualifier in feature.qualifiers :\n",
    "                    #print(feature, feature.qualifiers)\n",
    "                    # keep NCBI \"1\"-based indexing\n",
    "                    answer['start'] = min(feature.location) + 1\n",
    "                    answer['end'] = max(feature.location) + 1\n",
    "                    #There should only be one locus_tag per feature, but there\n",
    "                    #are usually several db_xref entries\n",
    "                    for value in feature.qualifiers[qualifier] :\n",
    "                        if value in answer :\n",
    "                                print(\"WARNING - Duplicate key %s for %s features %i and %i\" \\\n",
    "                                % (value, feature_type, answer[value], index))\n",
    "                        else :\n",
    "                            answer[qualifier] = value\n",
    "                else:\n",
    "                    answer[qualifier] = ''\n",
    "            answers.append(answer)\n",
    "    return answers"
   ]
  },
  {
   "cell_type": "code",
   "execution_count": 8,
   "metadata": {},
   "outputs": [],
   "source": [
    "def process_nucleotide_record(accession):\n",
    "    with Entrez.efetch(db=\"nucleotide\", rettype=\"gb\", retmode=\"text\", id=accession) as handle:\n",
    "        record = SeqIO.read(handle, \"gb\")\n",
    "    # TODO cache genbank files in a temporary directory, so they don't need to be downloaded from scratch\n",
    "    # every time this notebook is run\n",
    "    source = extract_genbank_features(record, 'source', ['db_xref','host','isolate','isolation_source','mol_type','collection_date','country'])   \n",
    "    source_df = pd.DataFrame(source)\n",
    "    source_df['genbank_accession'] = accession\n",
    "    source_df['complete'] = record.description.endswith('complete genome')\n",
    "    \n",
    "    return source_df"
   ]
  },
  {
   "cell_type": "markdown",
   "metadata": {},
   "source": [
    "### Concatenate all Genbank dataframes"
   ]
  },
  {
   "cell_type": "code",
   "execution_count": 9,
   "metadata": {},
   "outputs": [
    {
     "name": "stdout",
     "output_type": "stream",
     "text": [
      "MT308700.1 MT308699.1 MT308698.1 MT308697.1 MT308696.1 MT308695.1 MT308694.1 MT308693.1 MT308692.1 MT308704.1 MT308703.1 MT308702.1 MT308701.1 MT304491.1 MT304490.1 MT304489.1 MT304488.1 MT304487.1 MT304486.1 MT304485.1 MT304484.1 MT304483.1 MT304482.1 MT304481.1 MT304480.1 MT304479.1 MT304478.1 MT304477.1 MT304476.1 MT304475.1 MT304474.1 MT300186.1 MT293547.1 MT295465.1 MT295464.1 MT291836.1 MT291835.1 MT291834.1 MT291833.1 MT291832.1 MT291831.1 MT291830.1 MT291829.1 MT291828.1 MT291827.1 MT291826.1 MT293225.1 MT293224.1 MT293223.1 MT293222.1 MT293221.1 MT293220.1 MT293219.1 MT293218.1 MT293217.1 MT293216.1 MT293215.1 MT293214.1 MT293213.1 MT293212.1 MT293211.1 MT293210.1 MT293209.1 MT293208.1 MT293207.1 MT293206.1 MT293205.1 MT293204.1 MT293203.1 MT293202.1 MT293201.1 MT293200.1 MT293199.1 MT293198.1 MT293197.1 MT293196.1 MT293195.1 MT293194.1 MT293193.1 MT293192.1 MT293191.1 MT293190.1 MT293189.1 MT293188.1 MT293187.1 MT293186.1 MT293185.1 MT293184.1 MT293183.1 MT293182.1 MT293181.1 MT293180.1 MT293179.1 MT293178.1 MT293177.1 MT293176.1 MT293175.1 MT293174.1 MT293173.1 MT293172.1 MT293171.1 MT293170.1 MT293169.1 MT293168.1 MT293167.1 MT293166.1 MT293165.1 MT293164.1 MT293163.1 MT293162.1 MT293161.1 MT293160.1 MT293159.1 MT293158.1 MT293157.1 MT293156.1 MT281577.1 MT281530.1 MT273658.1 MT292582.1 MT292581.1 MT292580.1 MT292579.1 MT292578.1 MT292577.1 MT292576.1 MT292575.1 MT292574.1 MT292573.1 MT292572.1 MT292571.1 MT292570.1 MT292569.1 MT276598.1 MT276597.1 MT276331.1 MT276330.1 MT276329.1 MT276328.1 MT276327.1 MT276326.1 MT276325.1 MT276324.1 MT276323.1 MT263469.1 MT263468.1 MT263467.1 MT263466.1 MT263465.1 MT263464.1 MT263463.1 MT263462.1 MT263461.1 MT263460.1 MT263459.1 MT263458.1 MT263457.1 MT263456.1 MT263455.1 MT263454.1 MT263453.1 MT263452.1 MT263451.1 MT263450.1 MT263449.1 MT263448.1 MT263447.1 MT263446.1 MT263445.1 MT263444.1 MT263443.1 MT263442.1 MT263441.1 MT263440.1 MT263439.1 MT263438.1 MT263437.1 MT263436.1 MT263435.1 MT263434.1 MT263433.1 MT263432.1 MT263431.1 MT263430.1 MT263429.1 MT263428.1 MT263427.1 MT263426.1 MT263425.1 MT263424.1 MT263423.1 MT263422.1 MT263421.1 MT263420.1 MT263419.1 MT263418.1 MT263417.1 MT263416.1 MT263415.1 MT263414.1 MT263413.1 MT263412.1 MT263411.1 MT263410.1 MT263409.1 MT263408.1 MT263407.1 MT263406.1 MT263405.1 MT263404.1 MT263403.1 MT263402.1 MT263401.1 MT263400.1 MT263399.1 MT263398.1 MT263397.1 MT263396.1 MT263395.1 MT263394.1 MT263393.1 MT263392.1 MT263391.1 MT263390.1 MT263389.1 MT263388.1 MT263387.1 MT263386.1 MT263385.1 MT263384.1 MT263383.1 MT263382.1 MT263381.1 MT262916.1 MT262915.1 MT262914.1 MT262913.1 MT262912.1 MT262911.1 MT262910.1 MT262909.1 MT262908.1 MT262907.1 MT262906.1 MT262905.1 MT262904.1 MT262903.1 MT262902.1 MT262901.1 MT262900.1 MT262899.1 MT262898.1 MT262897.1 MT262896.1 MT263074.1 MT262993.1 MT259287.1 MT259286.1 MT259285.1 MT259284.1 MT259283.1 MT259282.1 MT259281.1 MT259280.1 MT259279.1 MT259278.1 MT259277.1 MT259276.1 MT259275.1 MT259274.1 MT259273.1 MT259272.1 MT259271.1 MT259270.1 MT259269.1 MT259268.1 MT259267.1 MT259266.1 MT259265.1 MT259264.1 MT259263.1 MT259262.1 MT259261.1 MT259260.1 MT259259.1 MT259258.1 MT259257.1 MT259256.1 MT259255.1 MT259254.1 MT259253.1 MT259252.1 MT259251.1 MT259250.1 MT259249.1 MT259248.1 MT259247.1 MT259246.1 MT259245.1 MT259244.1 MT259243.1 MT259242.1 MT259241.1 MT259240.1 MT259239.1 MT259238.1 MT259237.1 MT259236.1 MT259235.1 MT256918.1 MT256917.1 MT258383.1 MT258382.1 MT258381.1 MT258380.1 MT258379.1 MT258378.1 MT258377.1 MT256924.1 MT259231.1 MT259230.1 MT259229.1 MT259228.1 MT259227.1 MT259226.1 MT198652.2 MT253710.1 MT253709.1 MT253708.1 MT253707.1 MT253706.1 MT253705.1 MT253704.1 MT253703.1 MT253702.1 MT253701.1 MT253700.1 MT253699.1 MT253698.1 MT253697.1 MT253696.1 MT251980.1 MT251979.1 MT251978.1 MT251977.1 MT251976.1 MT251975.1 MT251974.1 MT251973.1 MT251972.1 MT246490.1 MT246489.1 MT246488.1 MT246487.1 MT246486.1 MT246485.1 MT246484.1 MT246483.1 MT246482.1 MT246481.1 MT246480.1 MT246479.1 MT246478.1 MT246477.1 MT246476.1 MT246475.1 MT246474.1 MT246473.1 MT246472.1 MT246471.1 MT246470.1 MT246469.1 MT246468.1 MT246467.1 MT246466.1 MT246465.1 MT246464.1 MT246463.1 MT246462.1 MT246461.1 MT246460.1 MT246459.1 MT246458.1 MT246457.1 MT246456.1 MT246455.1 MT246454.1 MT246453.1 MT246452.1 MT246451.1 MT246450.1 MT246449.1 MT240479.1 MT233523.1 MT233522.1 MT233521.1 MT233520.1 MT233519.1 MT232872.1 MT232871.1 MT232870.1 MT232869.1 MT226610.1 MT198653.1 MT198651.1 MT192773.1 MT192772.1 MT192765.1 MT192759.1 MT192758.1 MT186682.1 MT186681.1 MT186680.1 MT186679.1 MT186678.1 MT186677.1 MT186676.1 MT187977.1 MT123293.2 MT123292.2 MT123291.2 MT093631.2 MT163721.1 MT163720.1 MT163719.1 MT163718.1 MT163717.1 MT163716.1 MT163712.1 MT163738.1 MT163737.1 MT163715.1 MT163714.1 MT161607.1 MT159778.1 MT121215.1 MT152824.1 MT152900.1 MT135044.1 MT135043.1 MT135042.1 MT135041.1 MT126808.1 MT127116.1 MT127115.1 MT127114.1 MT127113.1 MT123290.1 MT111896.1 MT111895.1 MT093571.1 MT081068.1 MT081067.1 MT081066.1 MT081065.1 MT081064.1 MT081063.1 MT081062.1 MT081061.1 MT081060.1 MT081059.1 MT072667.1 MT072668.1 MT072688.1 MT066176.1 MT066175.1 MT066159.1 MT066158.1 MT066157.1 MT066156.1 MT050493.1 MT050417.1 MT050416.1 MT050415.1 MT050414.1 MT049951.1 MT042778.1 MT042777.1 MT042776.1 MT042775.1 MT042774.1 MT042773.1 MT012098.1 MT246667.1 MT233526.1 NC_045512.2 LC534419.1 LC534418.1 MN985325.1 MT020781.2 MN996531.1 MN996530.1 MN996529.1 MN996528.1 MN996527.1 MN908947.3 MT188341.1 MT188340.1 MT188339.1 MT184913.1 MT184912.1 MT184911.1 MT184910.1 MT184909.1 MT184908.1 MT184907.1 LC529905.1 LR757998.1 LR757997.1 LR757996.1 LR757995.1 MT159722.1 MT159721.1 MT159720.1 MT159719.1 MT159718.1 MT159717.1 MT159716.1 MT159715.1 MT159714.1 MT159713.1 MT159712.1 MT159711.1 MT159710.1 MT159709.1 MT159708.1 MT159707.1 MT159706.1 MT159705.1 LC528233.1 LC528232.1 MT118835.1 MT106054.1 MT106053.1 MT106052.1 LC523809.1 LC523808.1 LC523807.1 MT044258.1 MT044257.1 MT039888.1 MT039887.1 MT039890.1 MT039873.1 LC522350.1 MT027064.1 MT027063.1 MT027062.1 MT020881.1 MT020880.1 MT019533.1 MT019532.1 MT019531.1 MT019530.1 MT019529.1 MT008023.1 MT008022.1 MT007544.1 MN997409.1 MN994468.1 MN994467.1 MN988713.1 MN988669.1 MN988668.1 MN975268.1 MN975267.1 MN975266.1 MN975265.1 MN975264.1 MN975263.1 MN975262.1 MN938390.1 MN938389.1 MN938388.1 MN938387.1 MN938386.1 MN938385.1 MN938384.1 MN970004.1 MN970003.1 NC_045512 "
     ]
    }
   ],
   "source": [
    "nuc_ids = nuc_accessions['IdList']\n",
    "nuc_ids.append('NC_045512') # SARS-CoV-2 refseq is missing from list (why??). Add it back.\n",
    "df_list = []\n",
    "\n",
    "for nuc in nuc_ids:\n",
    "    print(nuc, end=' ')\n",
    "    df_list.append(process_nucleotide_record(nuc))\n",
    "    \n",
    "df1 = pd.concat(df_list)"
   ]
  },
  {
   "cell_type": "markdown",
   "metadata": {},
   "source": [
    "Let's work on a copy of the original data"
   ]
  },
  {
   "cell_type": "code",
   "execution_count": 10,
   "metadata": {},
   "outputs": [
    {
     "data": {
      "text/html": [
       "<div>\n",
       "<style scoped>\n",
       "    .dataframe tbody tr th:only-of-type {\n",
       "        vertical-align: middle;\n",
       "    }\n",
       "\n",
       "    .dataframe tbody tr th {\n",
       "        vertical-align: top;\n",
       "    }\n",
       "\n",
       "    .dataframe thead th {\n",
       "        text-align: right;\n",
       "    }\n",
       "</style>\n",
       "<table border=\"1\" class=\"dataframe\">\n",
       "  <thead>\n",
       "    <tr style=\"text-align: right;\">\n",
       "      <th></th>\n",
       "      <th>start</th>\n",
       "      <th>end</th>\n",
       "      <th>db_xref</th>\n",
       "      <th>host</th>\n",
       "      <th>isolate</th>\n",
       "      <th>isolation_source</th>\n",
       "      <th>mol_type</th>\n",
       "      <th>collection_date</th>\n",
       "      <th>country</th>\n",
       "      <th>genbank_accession</th>\n",
       "      <th>complete</th>\n",
       "    </tr>\n",
       "  </thead>\n",
       "  <tbody>\n",
       "    <tr>\n",
       "      <th>0</th>\n",
       "      <td>1</td>\n",
       "      <td>29792</td>\n",
       "      <td>taxon:2697049</td>\n",
       "      <td>Homo sapiens</td>\n",
       "      <td>SARS-CoV-2/human/USA/MI-SC2-0009/2020</td>\n",
       "      <td>swab</td>\n",
       "      <td>genomic RNA</td>\n",
       "      <td>2020-03-12</td>\n",
       "      <td>USA: MI</td>\n",
       "      <td>MT308700.1</td>\n",
       "      <td>False</td>\n",
       "    </tr>\n",
       "    <tr>\n",
       "      <th>0</th>\n",
       "      <td>1</td>\n",
       "      <td>29782</td>\n",
       "      <td>taxon:2697049</td>\n",
       "      <td>Homo sapiens</td>\n",
       "      <td>SARS-CoV-2/human/USA/MI-SC2-0008/2020</td>\n",
       "      <td>swab</td>\n",
       "      <td>genomic RNA</td>\n",
       "      <td>2020-03-12</td>\n",
       "      <td>USA: MI</td>\n",
       "      <td>MT308699.1</td>\n",
       "      <td>False</td>\n",
       "    </tr>\n",
       "    <tr>\n",
       "      <th>0</th>\n",
       "      <td>1</td>\n",
       "      <td>29783</td>\n",
       "      <td>taxon:2697049</td>\n",
       "      <td>Homo sapiens</td>\n",
       "      <td>SARS-CoV-2/human/USA/MI-SC2-0007/2020</td>\n",
       "      <td>swab</td>\n",
       "      <td>genomic RNA</td>\n",
       "      <td>2020-03-12</td>\n",
       "      <td>USA: MI</td>\n",
       "      <td>MT308698.1</td>\n",
       "      <td>False</td>\n",
       "    </tr>\n",
       "    <tr>\n",
       "      <th>0</th>\n",
       "      <td>1</td>\n",
       "      <td>29789</td>\n",
       "      <td>taxon:2697049</td>\n",
       "      <td>Homo sapiens</td>\n",
       "      <td>SARS-CoV-2/human/USA/MI-SC2-0006/2020</td>\n",
       "      <td>swab</td>\n",
       "      <td>genomic RNA</td>\n",
       "      <td>2020-03-11</td>\n",
       "      <td>USA: MI</td>\n",
       "      <td>MT308697.1</td>\n",
       "      <td>False</td>\n",
       "    </tr>\n",
       "    <tr>\n",
       "      <th>0</th>\n",
       "      <td>1</td>\n",
       "      <td>29767</td>\n",
       "      <td>taxon:2697049</td>\n",
       "      <td>Homo sapiens</td>\n",
       "      <td>SARS-CoV-2/human/USA/MI-SC2-0005/2020</td>\n",
       "      <td>swab</td>\n",
       "      <td>genomic RNA</td>\n",
       "      <td>2020-03-09</td>\n",
       "      <td>USA: MI</td>\n",
       "      <td>MT308696.1</td>\n",
       "      <td>False</td>\n",
       "    </tr>\n",
       "  </tbody>\n",
       "</table>\n",
       "</div>"
      ],
      "text/plain": [
       "   start    end        db_xref          host  \\\n",
       "0      1  29792  taxon:2697049  Homo sapiens   \n",
       "0      1  29782  taxon:2697049  Homo sapiens   \n",
       "0      1  29783  taxon:2697049  Homo sapiens   \n",
       "0      1  29789  taxon:2697049  Homo sapiens   \n",
       "0      1  29767  taxon:2697049  Homo sapiens   \n",
       "\n",
       "                                 isolate isolation_source     mol_type  \\\n",
       "0  SARS-CoV-2/human/USA/MI-SC2-0009/2020             swab  genomic RNA   \n",
       "0  SARS-CoV-2/human/USA/MI-SC2-0008/2020             swab  genomic RNA   \n",
       "0  SARS-CoV-2/human/USA/MI-SC2-0007/2020             swab  genomic RNA   \n",
       "0  SARS-CoV-2/human/USA/MI-SC2-0006/2020             swab  genomic RNA   \n",
       "0  SARS-CoV-2/human/USA/MI-SC2-0005/2020             swab  genomic RNA   \n",
       "\n",
       "  collection_date  country genbank_accession  complete  \n",
       "0      2020-03-12  USA: MI        MT308700.1     False  \n",
       "0      2020-03-12  USA: MI        MT308699.1     False  \n",
       "0      2020-03-12  USA: MI        MT308698.1     False  \n",
       "0      2020-03-11  USA: MI        MT308697.1     False  \n",
       "0      2020-03-09  USA: MI        MT308696.1     False  "
      ]
     },
     "execution_count": 10,
     "metadata": {},
     "output_type": "execute_result"
    }
   ],
   "source": [
    "df = df1.copy()\n",
    "df1.head()"
   ]
  },
  {
   "cell_type": "markdown",
   "metadata": {},
   "source": [
    "### Filter out incomplete records"
   ]
  },
  {
   "cell_type": "code",
   "execution_count": 11,
   "metadata": {},
   "outputs": [],
   "source": [
    "# incomplete genomes\n",
    "df.query('complete', inplace=True)"
   ]
  },
  {
   "cell_type": "code",
   "execution_count": 12,
   "metadata": {},
   "outputs": [],
   "source": [
    "# filter out any records that don't match the tax id, \n",
    "# e.g., tax_ids from organisms that are lower in the taxonomy tree.\n",
    "df.query(f\"db_xref == 'taxon:{tax_id}'\", inplace=True)"
   ]
  },
  {
   "cell_type": "code",
   "execution_count": 13,
   "metadata": {},
   "outputs": [
    {
     "data": {
      "text/html": [
       "<div>\n",
       "<style scoped>\n",
       "    .dataframe tbody tr th:only-of-type {\n",
       "        vertical-align: middle;\n",
       "    }\n",
       "\n",
       "    .dataframe tbody tr th {\n",
       "        vertical-align: top;\n",
       "    }\n",
       "\n",
       "    .dataframe thead th {\n",
       "        text-align: right;\n",
       "    }\n",
       "</style>\n",
       "<table border=\"1\" class=\"dataframe\">\n",
       "  <thead>\n",
       "    <tr style=\"text-align: right;\">\n",
       "      <th></th>\n",
       "      <th>start</th>\n",
       "      <th>end</th>\n",
       "      <th>db_xref</th>\n",
       "      <th>host</th>\n",
       "      <th>isolate</th>\n",
       "      <th>isolation_source</th>\n",
       "      <th>mol_type</th>\n",
       "      <th>collection_date</th>\n",
       "      <th>country</th>\n",
       "      <th>genbank_accession</th>\n",
       "      <th>complete</th>\n",
       "    </tr>\n",
       "  </thead>\n",
       "  <tbody>\n",
       "    <tr>\n",
       "      <th>0</th>\n",
       "      <td>1</td>\n",
       "      <td>29834</td>\n",
       "      <td>taxon:2697049</td>\n",
       "      <td>Homo sapiens</td>\n",
       "      <td>SARS-CoV-2/human/USA/UNC_200189/2020</td>\n",
       "      <td></td>\n",
       "      <td>genomic RNA</td>\n",
       "      <td>2020-04</td>\n",
       "      <td>USA: NC</td>\n",
       "      <td>MT308704.1</td>\n",
       "      <td>True</td>\n",
       "    </tr>\n",
       "    <tr>\n",
       "      <th>0</th>\n",
       "      <td>1</td>\n",
       "      <td>29834</td>\n",
       "      <td>taxon:2697049</td>\n",
       "      <td>Homo sapiens</td>\n",
       "      <td>SARS-CoV-2/human/USA/UNC_200181/2020</td>\n",
       "      <td></td>\n",
       "      <td>genomic RNA</td>\n",
       "      <td>2020-04</td>\n",
       "      <td>USA: NC</td>\n",
       "      <td>MT308703.1</td>\n",
       "      <td>True</td>\n",
       "    </tr>\n",
       "    <tr>\n",
       "      <th>0</th>\n",
       "      <td>1</td>\n",
       "      <td>29834</td>\n",
       "      <td>taxon:2697049</td>\n",
       "      <td>Homo sapiens</td>\n",
       "      <td>SARS-CoV-2/human/USA/UNC_200191/2020</td>\n",
       "      <td></td>\n",
       "      <td>genomic RNA</td>\n",
       "      <td>2020-04</td>\n",
       "      <td>USA: NC</td>\n",
       "      <td>MT308702.1</td>\n",
       "      <td>True</td>\n",
       "    </tr>\n",
       "    <tr>\n",
       "      <th>0</th>\n",
       "      <td>1</td>\n",
       "      <td>29882</td>\n",
       "      <td>taxon:2697049</td>\n",
       "      <td>Homo sapiens</td>\n",
       "      <td>SARS-CoV-2/human/USA/TX_2967/2020</td>\n",
       "      <td>nasopharyngeal (throat) washings</td>\n",
       "      <td>genomic RNA</td>\n",
       "      <td>2020-03-01</td>\n",
       "      <td>USA: TX</td>\n",
       "      <td>MT304491.1</td>\n",
       "      <td>True</td>\n",
       "    </tr>\n",
       "    <tr>\n",
       "      <th>0</th>\n",
       "      <td>1</td>\n",
       "      <td>29882</td>\n",
       "      <td>taxon:2697049</td>\n",
       "      <td>Homo sapiens</td>\n",
       "      <td>SARS-CoV-2/human/USA/TX_2817/2020</td>\n",
       "      <td>nasopharyngeal swab</td>\n",
       "      <td>genomic RNA</td>\n",
       "      <td>2020-03-01</td>\n",
       "      <td>USA: TX</td>\n",
       "      <td>MT304490.1</td>\n",
       "      <td>True</td>\n",
       "    </tr>\n",
       "  </tbody>\n",
       "</table>\n",
       "</div>"
      ],
      "text/plain": [
       "   start    end        db_xref          host  \\\n",
       "0      1  29834  taxon:2697049  Homo sapiens   \n",
       "0      1  29834  taxon:2697049  Homo sapiens   \n",
       "0      1  29834  taxon:2697049  Homo sapiens   \n",
       "0      1  29882  taxon:2697049  Homo sapiens   \n",
       "0      1  29882  taxon:2697049  Homo sapiens   \n",
       "\n",
       "                                isolate                  isolation_source  \\\n",
       "0  SARS-CoV-2/human/USA/UNC_200189/2020                                     \n",
       "0  SARS-CoV-2/human/USA/UNC_200181/2020                                     \n",
       "0  SARS-CoV-2/human/USA/UNC_200191/2020                                     \n",
       "0     SARS-CoV-2/human/USA/TX_2967/2020  nasopharyngeal (throat) washings   \n",
       "0     SARS-CoV-2/human/USA/TX_2817/2020               nasopharyngeal swab   \n",
       "\n",
       "      mol_type collection_date  country genbank_accession  complete  \n",
       "0  genomic RNA         2020-04  USA: NC        MT308704.1      True  \n",
       "0  genomic RNA         2020-04  USA: NC        MT308703.1      True  \n",
       "0  genomic RNA         2020-04  USA: NC        MT308702.1      True  \n",
       "0  genomic RNA      2020-03-01  USA: TX        MT304491.1      True  \n",
       "0  genomic RNA      2020-03-01  USA: TX        MT304490.1      True  "
      ]
     },
     "execution_count": 13,
     "metadata": {},
     "output_type": "execute_result"
    }
   ],
   "source": [
    "df.head()"
   ]
  },
  {
   "cell_type": "markdown",
   "metadata": {},
   "source": [
    "### Create unique and interoperable identifiers"
   ]
  },
  {
   "cell_type": "markdown",
   "metadata": {},
   "source": [
    "**id**: CURIE: [insdc](https://registry.identifiers.org/registry/insdc) (International Nucleotide Sequence Database Collaboration, INSDC)\n",
    "\n",
    "**id**: CURIE: [ncbiprotein](https://registry.identifiers.org/registry/ncbiprotein) (NCBI Reference Sequences, Refseq)\n",
    "\n",
    "**taxonomy_id**: CURIE: [taxonomy](https://registry.identifiers.org/registry/taxonomy) (NCBI Taxonomy)\n",
    "\n",
    "A [CURIE](https://en.wikipedia.org/wiki/CURIE) (Compact URI) is a compact abbreviation for Uniform Resource Identifiers (URIs) that can be resolved by [Identifiers.org](https://identifiers.org/)."
   ]
  },
  {
   "cell_type": "code",
   "execution_count": 14,
   "metadata": {},
   "outputs": [],
   "source": [
    "# remove version number from genbank accession to enable linking with other nodes\n",
    "df['id'] = \"insdc:\" + df['genbank_accession'].apply(lambda s: s.split('.')[0])\n",
    "# # NCBI reference sequences resolve through the ncbiprotein CURIE\n",
    "df['id'] = df['id'].str.replace('insdc:NC_', 'ncbiprotein:NC_')"
   ]
  },
  {
   "cell_type": "code",
   "execution_count": 15,
   "metadata": {},
   "outputs": [],
   "source": [
    "# parse taxonomy_id from db_xref record\n",
    "df['taxonomy_id'] = 'taxonomy:' + df['db_xref'].str.split(':', expand=True)[1]\n",
    "df.rename(columns={'isolate': 'name'}, inplace=True)"
   ]
  },
  {
   "cell_type": "markdown",
   "metadata": {},
   "source": [
    "### Standardize data"
   ]
  },
  {
   "cell_type": "code",
   "execution_count": 16,
   "metadata": {},
   "outputs": [],
   "source": [
    "# TODO: date standardization introduces artifacts, e.g. Dec 2019 -> 2019-12-01\n",
    "# Add column that specifies time granularity: Y, M, D\n",
    "df['collection_date'] = df['collection_date'].apply(lambda d: dateutil.parser.parse(d) if len(d) > 0 else '')"
   ]
  },
  {
   "cell_type": "markdown",
   "metadata": {},
   "source": [
    "Standardize host organism and demographics"
   ]
  },
  {
   "cell_type": "code",
   "execution_count": 17,
   "metadata": {},
   "outputs": [],
   "source": [
    "# TODO a find general solution to map host name to NCBI taxonomy**\n",
    "\n",
    "# some organism specifications are ambiguous, \n",
    "# they don't match a specificn NCBI taxonomy\n",
    "\n",
    "taxonomy_to_id = {'Human': '9606', \n",
    "                  'Homo sapiens': '9606',\n",
    "                  'Rhinolophus affinis': '59477', \n",
    "                  'Rhinolophus sp. (bat)': '49442', # ambiguous\n",
    "                  'bat': 'taxonomy:49442', # ambiguous\n",
    "                  'Manis javanica': '9974',\n",
    "                  'palm civet': '71116', # ambiguous\n",
    "                  'Canine': '9608' # ambiguous\n",
    "                 }"
   ]
  },
  {
   "cell_type": "markdown",
   "metadata": {},
   "source": [
    "Split host record into host, sex, and age (e.g., Homo sapiens; female; age 40 -> Homo sapiens, female, 40)"
   ]
  },
  {
   "cell_type": "code",
   "execution_count": 18,
   "metadata": {},
   "outputs": [],
   "source": [
    "# add placeholders in case the host record is empty to enbable 3-way split\n",
    "df['host'] = df['host'].apply(lambda s: ' ; ; ' if len(s) < 1 else s)\n",
    "df['host'] = df['host'].str.replace('age','')\n",
    "df[['host','sex','age']] = df['host'].str.split(';', 2, expand=True)\n",
    "df['host'] = df['host'].str.strip()\n",
    "\n",
    "# assign taxonomy id to host\n",
    "df['host_taxonomy_id'] = 'taxonomy:' + df['host'].apply(lambda s: taxonomy_to_id.get(s, ''))\n",
    "df['sex'] = df['sex'].str.strip()\n",
    "df['age'] = df['age'].str.strip()\n",
    "df = df.fillna('')"
   ]
  },
  {
   "cell_type": "code",
   "execution_count": 19,
   "metadata": {},
   "outputs": [
    {
     "data": {
      "text/html": [
       "<div>\n",
       "<style scoped>\n",
       "    .dataframe tbody tr th:only-of-type {\n",
       "        vertical-align: middle;\n",
       "    }\n",
       "\n",
       "    .dataframe tbody tr th {\n",
       "        vertical-align: top;\n",
       "    }\n",
       "\n",
       "    .dataframe thead th {\n",
       "        text-align: right;\n",
       "    }\n",
       "</style>\n",
       "<table border=\"1\" class=\"dataframe\">\n",
       "  <thead>\n",
       "    <tr style=\"text-align: right;\">\n",
       "      <th></th>\n",
       "      <th>start</th>\n",
       "      <th>end</th>\n",
       "      <th>db_xref</th>\n",
       "      <th>host</th>\n",
       "      <th>name</th>\n",
       "      <th>isolation_source</th>\n",
       "      <th>mol_type</th>\n",
       "      <th>collection_date</th>\n",
       "      <th>country</th>\n",
       "      <th>genbank_accession</th>\n",
       "      <th>complete</th>\n",
       "      <th>id</th>\n",
       "      <th>taxonomy_id</th>\n",
       "      <th>sex</th>\n",
       "      <th>age</th>\n",
       "      <th>host_taxonomy_id</th>\n",
       "    </tr>\n",
       "  </thead>\n",
       "  <tbody>\n",
       "    <tr>\n",
       "      <th>0</th>\n",
       "      <td>1</td>\n",
       "      <td>29834</td>\n",
       "      <td>taxon:2697049</td>\n",
       "      <td>Homo sapiens</td>\n",
       "      <td>SARS-CoV-2/human/USA/UNC_200189/2020</td>\n",
       "      <td></td>\n",
       "      <td>genomic RNA</td>\n",
       "      <td>2020-04-13</td>\n",
       "      <td>USA: NC</td>\n",
       "      <td>MT308704.1</td>\n",
       "      <td>True</td>\n",
       "      <td>insdc:MT308704</td>\n",
       "      <td>taxonomy:2697049</td>\n",
       "      <td></td>\n",
       "      <td></td>\n",
       "      <td>taxonomy:9606</td>\n",
       "    </tr>\n",
       "    <tr>\n",
       "      <th>0</th>\n",
       "      <td>1</td>\n",
       "      <td>29834</td>\n",
       "      <td>taxon:2697049</td>\n",
       "      <td>Homo sapiens</td>\n",
       "      <td>SARS-CoV-2/human/USA/UNC_200181/2020</td>\n",
       "      <td></td>\n",
       "      <td>genomic RNA</td>\n",
       "      <td>2020-04-13</td>\n",
       "      <td>USA: NC</td>\n",
       "      <td>MT308703.1</td>\n",
       "      <td>True</td>\n",
       "      <td>insdc:MT308703</td>\n",
       "      <td>taxonomy:2697049</td>\n",
       "      <td></td>\n",
       "      <td></td>\n",
       "      <td>taxonomy:9606</td>\n",
       "    </tr>\n",
       "    <tr>\n",
       "      <th>0</th>\n",
       "      <td>1</td>\n",
       "      <td>29834</td>\n",
       "      <td>taxon:2697049</td>\n",
       "      <td>Homo sapiens</td>\n",
       "      <td>SARS-CoV-2/human/USA/UNC_200191/2020</td>\n",
       "      <td></td>\n",
       "      <td>genomic RNA</td>\n",
       "      <td>2020-04-13</td>\n",
       "      <td>USA: NC</td>\n",
       "      <td>MT308702.1</td>\n",
       "      <td>True</td>\n",
       "      <td>insdc:MT308702</td>\n",
       "      <td>taxonomy:2697049</td>\n",
       "      <td></td>\n",
       "      <td></td>\n",
       "      <td>taxonomy:9606</td>\n",
       "    </tr>\n",
       "    <tr>\n",
       "      <th>0</th>\n",
       "      <td>1</td>\n",
       "      <td>29882</td>\n",
       "      <td>taxon:2697049</td>\n",
       "      <td>Homo sapiens</td>\n",
       "      <td>SARS-CoV-2/human/USA/TX_2967/2020</td>\n",
       "      <td>nasopharyngeal (throat) washings</td>\n",
       "      <td>genomic RNA</td>\n",
       "      <td>2020-03-01</td>\n",
       "      <td>USA: TX</td>\n",
       "      <td>MT304491.1</td>\n",
       "      <td>True</td>\n",
       "      <td>insdc:MT304491</td>\n",
       "      <td>taxonomy:2697049</td>\n",
       "      <td></td>\n",
       "      <td></td>\n",
       "      <td>taxonomy:9606</td>\n",
       "    </tr>\n",
       "    <tr>\n",
       "      <th>0</th>\n",
       "      <td>1</td>\n",
       "      <td>29882</td>\n",
       "      <td>taxon:2697049</td>\n",
       "      <td>Homo sapiens</td>\n",
       "      <td>SARS-CoV-2/human/USA/TX_2817/2020</td>\n",
       "      <td>nasopharyngeal swab</td>\n",
       "      <td>genomic RNA</td>\n",
       "      <td>2020-03-01</td>\n",
       "      <td>USA: TX</td>\n",
       "      <td>MT304490.1</td>\n",
       "      <td>True</td>\n",
       "      <td>insdc:MT304490</td>\n",
       "      <td>taxonomy:2697049</td>\n",
       "      <td></td>\n",
       "      <td></td>\n",
       "      <td>taxonomy:9606</td>\n",
       "    </tr>\n",
       "  </tbody>\n",
       "</table>\n",
       "</div>"
      ],
      "text/plain": [
       "   start    end        db_xref          host  \\\n",
       "0      1  29834  taxon:2697049  Homo sapiens   \n",
       "0      1  29834  taxon:2697049  Homo sapiens   \n",
       "0      1  29834  taxon:2697049  Homo sapiens   \n",
       "0      1  29882  taxon:2697049  Homo sapiens   \n",
       "0      1  29882  taxon:2697049  Homo sapiens   \n",
       "\n",
       "                                   name                  isolation_source  \\\n",
       "0  SARS-CoV-2/human/USA/UNC_200189/2020                                     \n",
       "0  SARS-CoV-2/human/USA/UNC_200181/2020                                     \n",
       "0  SARS-CoV-2/human/USA/UNC_200191/2020                                     \n",
       "0     SARS-CoV-2/human/USA/TX_2967/2020  nasopharyngeal (throat) washings   \n",
       "0     SARS-CoV-2/human/USA/TX_2817/2020               nasopharyngeal swab   \n",
       "\n",
       "      mol_type collection_date  country genbank_accession  complete  \\\n",
       "0  genomic RNA      2020-04-13  USA: NC        MT308704.1      True   \n",
       "0  genomic RNA      2020-04-13  USA: NC        MT308703.1      True   \n",
       "0  genomic RNA      2020-04-13  USA: NC        MT308702.1      True   \n",
       "0  genomic RNA      2020-03-01  USA: TX        MT304491.1      True   \n",
       "0  genomic RNA      2020-03-01  USA: TX        MT304490.1      True   \n",
       "\n",
       "               id       taxonomy_id sex age host_taxonomy_id  \n",
       "0  insdc:MT308704  taxonomy:2697049            taxonomy:9606  \n",
       "0  insdc:MT308703  taxonomy:2697049            taxonomy:9606  \n",
       "0  insdc:MT308702  taxonomy:2697049            taxonomy:9606  \n",
       "0  insdc:MT304491  taxonomy:2697049            taxonomy:9606  \n",
       "0  insdc:MT304490  taxonomy:2697049            taxonomy:9606  "
      ]
     },
     "execution_count": 19,
     "metadata": {},
     "output_type": "execute_result"
    }
   ],
   "source": [
    "df.head()"
   ]
  },
  {
   "cell_type": "markdown",
   "metadata": {},
   "source": [
    "### Assign locations\n",
    "**TODO replace this section with a general geoparsing solution**"
   ]
  },
  {
   "cell_type": "markdown",
   "metadata": {},
   "source": [
    "Fix inconsistencies and add missing location data"
   ]
  },
  {
   "cell_type": "code",
   "execution_count": 20,
   "metadata": {},
   "outputs": [],
   "source": [
    "locations = {\n",
    "    'India: Kerala State': 'India: Kerala',\n",
    "    'USA: Snohomish County, WA': 'USA: WA, Snohomish County',\n",
    "    'USA: San Francisco, CA': 'USA: CA, San Francisco',\n",
    "    'USA: Nashville, TN': 'USA: TN, Nashville',\n",
    "    'Canada: Toronto': 'Canada: Ontario, Toronto',\n",
    "    'China: Shenzhen': 'China: Guangdong, Shenzhen',\n",
    "    'China: Hangzhou': 'China: Zhejiang, Hangzhou',\n",
    "    'China: Wuhan': 'China: Hubei, Wuhan',\n",
    "    'Italy: Cagliari': 'Italy: Sardinia, Cagliari',\n",
    "    'Viet Nam: Ho Chi Minh city': 'Vietnam: Ho Chi Minh City'\n",
    "}\n",
    "df['country'] = df['country'].apply(lambda s: locations.get(s, s))"
   ]
  },
  {
   "cell_type": "code",
   "execution_count": 21,
   "metadata": {},
   "outputs": [],
   "source": [
    "states = {\n",
    "        # US\n",
    "        'AK': 'Alaska',\n",
    "        'AL': 'Alabama',\n",
    "        'AR': 'Arkansas',\n",
    "        'AS': 'American Samoa',\n",
    "        'AZ': 'Arizona',\n",
    "        'CA': 'California',\n",
    "        'CO': 'Colorado',\n",
    "        'CT': 'Connecticut',\n",
    "        'DC': 'District of Columbia',\n",
    "        'DE': 'Delaware',\n",
    "        'FL': 'Florida',\n",
    "        'GA': 'Georgia',\n",
    "        'GU': 'Guam',\n",
    "        'HI': 'Hawaii',\n",
    "        'IA': 'Iowa',\n",
    "        'ID': 'Idaho',\n",
    "        'IL': 'Illinois',\n",
    "        'IN': 'Indiana',\n",
    "        'KS': 'Kansas',\n",
    "        'KY': 'Kentucky',\n",
    "        'LA': 'Louisiana',\n",
    "        'MA': 'Massachusetts',\n",
    "        'MD': 'Maryland',\n",
    "        'ME': 'Maine',\n",
    "        'MI': 'Michigan',\n",
    "        'MN': 'Minnesota',\n",
    "        'MO': 'Missouri',\n",
    "        'MP': 'Northern Mariana Islands',\n",
    "        'MS': 'Mississippi',\n",
    "        'MT': 'Montana',\n",
    "        'NA': 'National',\n",
    "        'NC': 'North Carolina',\n",
    "        'ND': 'North Dakota',\n",
    "        'NE': 'Nebraska',\n",
    "        'NH': 'New Hampshire',\n",
    "        'NJ': 'New Jersey',\n",
    "        'NM': 'New Mexico',\n",
    "        'NV': 'Nevada',\n",
    "        'NY': 'New York',\n",
    "        'OH': 'Ohio',\n",
    "        'OK': 'Oklahoma',\n",
    "        'OR': 'Oregon',\n",
    "        'PA': 'Pennsylvania',\n",
    "        'PR': 'Puerto Rico',\n",
    "        'RI': 'Rhode Island',\n",
    "        'SC': 'South Carolina',\n",
    "        'SD': 'South Dakota',\n",
    "        'TN': 'Tennessee',\n",
    "        'TX': 'Texas',\n",
    "        'UT': 'Utah',\n",
    "        'VA': 'Virginia',\n",
    "        'VI': 'Virgin Islands',\n",
    "        'VT': 'Vermont',\n",
    "        'WA': 'Washington',\n",
    "        'WI': 'Wisconsin',\n",
    "        'WV': 'West Virginia',\n",
    "        'WY': 'Wyoming',\n",
    "        # Canada\n",
    "        'AB': 'Alberta',\n",
    "        'BC': 'British Columbia',\n",
    "        'MB': 'Manitoba',\n",
    "        'NB': 'New Brunswick',\n",
    "        'NL': 'Newfoundland and Labrador',\n",
    "        'NT': 'Northwest Territories',\n",
    "        'NS': 'Nova Scotia',\n",
    "        'NU': 'Nunavut',\n",
    "        'ON': 'Ontario',\n",
    "        'PE': 'Prince Edward Island',\n",
    "        'QC': 'Quebec',\n",
    "        'SK': 'Saskatchewan',\n",
    "        'YT': 'Yukon'\n",
    "}"
   ]
  },
  {
   "cell_type": "markdown",
   "metadata": {},
   "source": [
    "Split country records into administrative areas"
   ]
  },
  {
   "cell_type": "code",
   "execution_count": 22,
   "metadata": {},
   "outputs": [],
   "source": [
    "# add placeholders in case the country record is incomplete to enable 3-way split below\n",
    "df['country'] = df['country'].apply(lambda s: s if ':' in s else s + ': , ')\n",
    "df[['country','admin1','admin2']] = df['country'].str.split(':|,', 2, expand=True)\n",
    "df['country'] = df['country'].str.strip()\n",
    "df['admin2'] = df['admin2'].str.strip()\n",
    "df['admin1'] = df['admin1'].str.strip()\n",
    "\n",
    "# # expand states to full name\n",
    "df['admin1'] = df['admin1'].apply(lambda s: states.get(s, s))\n",
    "# create a unique ids\n",
    "# TODO use unique ids from Geonames.org\n",
    "df['country_id'] = df['country']\n",
    "df['admin1_id'] = df['country'] + '-' + df['admin1']\n",
    "df['admin2_id'] = df['country'] + '-' + df['admin1'] + '-' + df['admin2']\n",
    "\n",
    "df.fillna(value='', inplace = True)"
   ]
  },
  {
   "cell_type": "markdown",
   "metadata": {},
   "source": [
    "### Save data for Knowledge Graph Import"
   ]
  },
  {
   "cell_type": "code",
   "execution_count": 23,
   "metadata": {},
   "outputs": [
    {
     "data": {
      "text/html": [
       "<div>\n",
       "<style scoped>\n",
       "    .dataframe tbody tr th:only-of-type {\n",
       "        vertical-align: middle;\n",
       "    }\n",
       "\n",
       "    .dataframe tbody tr th {\n",
       "        vertical-align: top;\n",
       "    }\n",
       "\n",
       "    .dataframe thead th {\n",
       "        text-align: right;\n",
       "    }\n",
       "</style>\n",
       "<table border=\"1\" class=\"dataframe\">\n",
       "  <thead>\n",
       "    <tr style=\"text-align: right;\">\n",
       "      <th></th>\n",
       "      <th>id</th>\n",
       "      <th>name</th>\n",
       "      <th>taxonomy_id</th>\n",
       "      <th>collection_date</th>\n",
       "      <th>host_taxonomy_id</th>\n",
       "      <th>sex</th>\n",
       "      <th>age</th>\n",
       "      <th>isolation_source</th>\n",
       "    </tr>\n",
       "  </thead>\n",
       "  <tbody>\n",
       "    <tr>\n",
       "      <th>0</th>\n",
       "      <td>insdc:MT308704</td>\n",
       "      <td>SARS-CoV-2/human/USA/UNC_200189/2020</td>\n",
       "      <td>taxonomy:2697049</td>\n",
       "      <td>2020-04-13</td>\n",
       "      <td>taxonomy:9606</td>\n",
       "      <td></td>\n",
       "      <td></td>\n",
       "      <td></td>\n",
       "    </tr>\n",
       "    <tr>\n",
       "      <th>0</th>\n",
       "      <td>insdc:MT308703</td>\n",
       "      <td>SARS-CoV-2/human/USA/UNC_200181/2020</td>\n",
       "      <td>taxonomy:2697049</td>\n",
       "      <td>2020-04-13</td>\n",
       "      <td>taxonomy:9606</td>\n",
       "      <td></td>\n",
       "      <td></td>\n",
       "      <td></td>\n",
       "    </tr>\n",
       "    <tr>\n",
       "      <th>0</th>\n",
       "      <td>insdc:MT308702</td>\n",
       "      <td>SARS-CoV-2/human/USA/UNC_200191/2020</td>\n",
       "      <td>taxonomy:2697049</td>\n",
       "      <td>2020-04-13</td>\n",
       "      <td>taxonomy:9606</td>\n",
       "      <td></td>\n",
       "      <td></td>\n",
       "      <td></td>\n",
       "    </tr>\n",
       "    <tr>\n",
       "      <th>0</th>\n",
       "      <td>insdc:MT304491</td>\n",
       "      <td>SARS-CoV-2/human/USA/TX_2967/2020</td>\n",
       "      <td>taxonomy:2697049</td>\n",
       "      <td>2020-03-01</td>\n",
       "      <td>taxonomy:9606</td>\n",
       "      <td></td>\n",
       "      <td></td>\n",
       "      <td>nasopharyngeal (throat) washings</td>\n",
       "    </tr>\n",
       "    <tr>\n",
       "      <th>0</th>\n",
       "      <td>insdc:MT304490</td>\n",
       "      <td>SARS-CoV-2/human/USA/TX_2817/2020</td>\n",
       "      <td>taxonomy:2697049</td>\n",
       "      <td>2020-03-01</td>\n",
       "      <td>taxonomy:9606</td>\n",
       "      <td></td>\n",
       "      <td></td>\n",
       "      <td>nasopharyngeal swab</td>\n",
       "    </tr>\n",
       "  </tbody>\n",
       "</table>\n",
       "</div>"
      ],
      "text/plain": [
       "               id                                  name       taxonomy_id  \\\n",
       "0  insdc:MT308704  SARS-CoV-2/human/USA/UNC_200189/2020  taxonomy:2697049   \n",
       "0  insdc:MT308703  SARS-CoV-2/human/USA/UNC_200181/2020  taxonomy:2697049   \n",
       "0  insdc:MT308702  SARS-CoV-2/human/USA/UNC_200191/2020  taxonomy:2697049   \n",
       "0  insdc:MT304491     SARS-CoV-2/human/USA/TX_2967/2020  taxonomy:2697049   \n",
       "0  insdc:MT304490     SARS-CoV-2/human/USA/TX_2817/2020  taxonomy:2697049   \n",
       "\n",
       "  collection_date host_taxonomy_id sex age                  isolation_source  \n",
       "0      2020-04-13    taxonomy:9606                                            \n",
       "0      2020-04-13    taxonomy:9606                                            \n",
       "0      2020-04-13    taxonomy:9606                                            \n",
       "0      2020-03-01    taxonomy:9606          nasopharyngeal (throat) washings  \n",
       "0      2020-03-01    taxonomy:9606                       nasopharyngeal swab  "
      ]
     },
     "execution_count": 23,
     "metadata": {},
     "output_type": "execute_result"
    }
   ],
   "source": [
    "df = df[['id','name', 'taxonomy_id', 'collection_date', 'host_taxonomy_id',\n",
    "         'sex', 'age', 'isolation_source']]\n",
    "df.head()"
   ]
  },
  {
   "cell_type": "code",
   "execution_count": 24,
   "metadata": {},
   "outputs": [],
   "source": [
    "df.to_csv(NEO4J_HOME / \"import/01a-NCBIStrain.csv\", index=False)"
   ]
  },
  {
   "cell_type": "code",
   "execution_count": null,
   "metadata": {},
   "outputs": [],
   "source": []
  }
 ],
 "metadata": {
  "kernelspec": {
   "display_name": "Python 3",
   "language": "python",
   "name": "python3"
  },
  "language_info": {
   "codemirror_mode": {
    "name": "ipython",
    "version": 3
   },
   "file_extension": ".py",
   "mimetype": "text/x-python",
   "name": "python",
   "nbconvert_exporter": "python",
   "pygments_lexer": "ipython3",
   "version": "3.8.2"
  }
 },
 "nbformat": 4,
 "nbformat_minor": 4
}

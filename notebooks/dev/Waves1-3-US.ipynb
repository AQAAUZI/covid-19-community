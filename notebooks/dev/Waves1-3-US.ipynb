{
 "cells": [
  {
   "cell_type": "markdown",
   "metadata": {},
   "source": [
    "# Compile US-level cases, deaths, caseRate, and deathRate for specific days and weeks for waves 1 - 3.\n",
    "\n",
    "**[Work in progress]**\n",
    "\n",
    "Author: Peter Rose (pwrose@ucsd.edu)"
   ]
  },
  {
   "cell_type": "code",
   "execution_count": 1,
   "metadata": {},
   "outputs": [],
   "source": [
    "import os\n",
    "import pandas as pd\n",
    "from pathlib import Path\n",
    "from py2neo import Graph\n",
    "import time\n",
    "import unidecode\n",
    "import difflib\n",
    "from functools import reduce"
   ]
  },
  {
   "cell_type": "code",
   "execution_count": 2,
   "metadata": {},
   "outputs": [],
   "source": [
    "pd.options.display.max_rows = None  # display all rows\n",
    "pd.options.display.max_columns = None  # display all columsns"
   ]
  },
  {
   "cell_type": "markdown",
   "metadata": {},
   "source": [
    "#### Connect to COVID-19-Net Knowledge Graph"
   ]
  },
  {
   "cell_type": "code",
   "execution_count": 3,
   "metadata": {},
   "outputs": [],
   "source": [
    "graph = Graph(\"bolt://132.249.238.185:7687\", user=\"reader\", password=\"demo\")"
   ]
  },
  {
   "cell_type": "code",
   "execution_count": 4,
   "metadata": {},
   "outputs": [],
   "source": [
    "query = \"\"\"\n",
    "MATCH (k:Country{iso3: 'USA'})<-[:IN]-(Admin1)<-[:IN]-(a2:Admin2),\n",
    "      (a2)-[:HAS_DEMOGRAPHICS]->(d:Demographics{aggregationLevel: 'Admin2'}) \n",
    "\n",
    "WITH k, a2, d\n",
    "OPTIONAL MATCH (c:Cases{source:'JHU'})-[:REPORTED_IN]->(a2)\n",
    "WHERE c.date = date($date)\n",
    "      \n",
    "RETURN k.iso3 AS iso3, \n",
    "       sum(d.totalPopulation) as population, \n",
    "       sum(c.cases) AS cases, \n",
    "       sum(c.deaths) AS deaths,\n",
    "       sum(c.cases)*100000.0/sum(d.totalPopulation) AS caseRate, \n",
    "       sum(c.deaths)*100000.0/sum(d.totalPopulation) AS deathRate\n",
    "\"\"\""
   ]
  },
  {
   "cell_type": "markdown",
   "metadata": {},
   "source": [
    "### Data for 2020-02-28"
   ]
  },
  {
   "cell_type": "code",
   "execution_count": 5,
   "metadata": {},
   "outputs": [],
   "source": [
    "data_20200228 = graph.run(query, date='2020-02-28').to_data_frame() "
   ]
  },
  {
   "cell_type": "code",
   "execution_count": 6,
   "metadata": {},
   "outputs": [],
   "source": [
    "data_20200228.rename(columns={'cases': 'cases_2020-02-28', 'deaths': 'death_2020-02-28', \n",
    "                              'caseRate': 'caseRate_2020-02-28', 'deathRate': 'deathRate_2020-02-28'}, inplace=True)"
   ]
  },
  {
   "cell_type": "code",
   "execution_count": 7,
   "metadata": {},
   "outputs": [
    {
     "data": {
      "text/html": [
       "<div>\n",
       "<style scoped>\n",
       "    .dataframe tbody tr th:only-of-type {\n",
       "        vertical-align: middle;\n",
       "    }\n",
       "\n",
       "    .dataframe tbody tr th {\n",
       "        vertical-align: top;\n",
       "    }\n",
       "\n",
       "    .dataframe thead th {\n",
       "        text-align: right;\n",
       "    }\n",
       "</style>\n",
       "<table border=\"1\" class=\"dataframe\">\n",
       "  <thead>\n",
       "    <tr style=\"text-align: right;\">\n",
       "      <th></th>\n",
       "      <th>iso3</th>\n",
       "      <th>population</th>\n",
       "      <th>cases_2020-02-28</th>\n",
       "      <th>death_2020-02-28</th>\n",
       "      <th>caseRate_2020-02-28</th>\n",
       "      <th>deathRate_2020-02-28</th>\n",
       "    </tr>\n",
       "  </thead>\n",
       "  <tbody>\n",
       "    <tr>\n",
       "      <th>0</th>\n",
       "      <td>USA</td>\n",
       "      <td>322903030</td>\n",
       "      <td>17</td>\n",
       "      <td>0</td>\n",
       "      <td>0.005265</td>\n",
       "      <td>0.0</td>\n",
       "    </tr>\n",
       "  </tbody>\n",
       "</table>\n",
       "</div>"
      ],
      "text/plain": [
       "  iso3  population  cases_2020-02-28  death_2020-02-28  caseRate_2020-02-28  \\\n",
       "0  USA   322903030                17                 0             0.005265   \n",
       "\n",
       "   deathRate_2020-02-28  \n",
       "0                   0.0  "
      ]
     },
     "execution_count": 7,
     "metadata": {},
     "output_type": "execute_result"
    }
   ],
   "source": [
    "data_20200228.head()"
   ]
  },
  {
   "cell_type": "markdown",
   "metadata": {},
   "source": [
    "### Data for 2020-04-27"
   ]
  },
  {
   "cell_type": "code",
   "execution_count": 8,
   "metadata": {},
   "outputs": [],
   "source": [
    "data_20200427 = graph.run(query, date='2020-04-27').to_data_frame()"
   ]
  },
  {
   "cell_type": "code",
   "execution_count": 9,
   "metadata": {},
   "outputs": [],
   "source": [
    "data_20200427.rename(columns={'cases': 'cases_2020-04-27', 'deaths': 'death_2020-04-27', \n",
    "                              'caseRate': 'caseRate_2020-04-27', 'deathRate': 'deathRate_2020-04-27'}, inplace=True)"
   ]
  },
  {
   "cell_type": "code",
   "execution_count": 10,
   "metadata": {},
   "outputs": [
    {
     "data": {
      "text/html": [
       "<div>\n",
       "<style scoped>\n",
       "    .dataframe tbody tr th:only-of-type {\n",
       "        vertical-align: middle;\n",
       "    }\n",
       "\n",
       "    .dataframe tbody tr th {\n",
       "        vertical-align: top;\n",
       "    }\n",
       "\n",
       "    .dataframe thead th {\n",
       "        text-align: right;\n",
       "    }\n",
       "</style>\n",
       "<table border=\"1\" class=\"dataframe\">\n",
       "  <thead>\n",
       "    <tr style=\"text-align: right;\">\n",
       "      <th></th>\n",
       "      <th>iso3</th>\n",
       "      <th>population</th>\n",
       "      <th>cases_2020-04-27</th>\n",
       "      <th>death_2020-04-27</th>\n",
       "      <th>caseRate_2020-04-27</th>\n",
       "      <th>deathRate_2020-04-27</th>\n",
       "    </tr>\n",
       "  </thead>\n",
       "  <tbody>\n",
       "    <tr>\n",
       "      <th>0</th>\n",
       "      <td>USA</td>\n",
       "      <td>322903030</td>\n",
       "      <td>985175</td>\n",
       "      <td>52673</td>\n",
       "      <td>305.099336</td>\n",
       "      <td>16.312328</td>\n",
       "    </tr>\n",
       "  </tbody>\n",
       "</table>\n",
       "</div>"
      ],
      "text/plain": [
       "  iso3  population  cases_2020-04-27  death_2020-04-27  caseRate_2020-04-27  \\\n",
       "0  USA   322903030            985175             52673           305.099336   \n",
       "\n",
       "   deathRate_2020-04-27  \n",
       "0             16.312328  "
      ]
     },
     "execution_count": 10,
     "metadata": {},
     "output_type": "execute_result"
    }
   ],
   "source": [
    "data_20200427.head()"
   ]
  },
  {
   "cell_type": "markdown",
   "metadata": {},
   "source": [
    "### Data for 2020-08-05"
   ]
  },
  {
   "cell_type": "code",
   "execution_count": 11,
   "metadata": {},
   "outputs": [],
   "source": [
    "data_20200805 = graph.run(query, date='2020-08-05').to_data_frame() "
   ]
  },
  {
   "cell_type": "code",
   "execution_count": 12,
   "metadata": {},
   "outputs": [],
   "source": [
    "data_20200805.rename(columns={'cases': 'cases_2020-08-05', 'deaths': 'death_2020-08-05', \n",
    "                              'caseRate': 'caseRate_2020-08-05', 'deathRate': 'deathRate_2020-08-05'}, inplace=True)"
   ]
  },
  {
   "cell_type": "code",
   "execution_count": 13,
   "metadata": {},
   "outputs": [
    {
     "data": {
      "text/html": [
       "<div>\n",
       "<style scoped>\n",
       "    .dataframe tbody tr th:only-of-type {\n",
       "        vertical-align: middle;\n",
       "    }\n",
       "\n",
       "    .dataframe tbody tr th {\n",
       "        vertical-align: top;\n",
       "    }\n",
       "\n",
       "    .dataframe thead th {\n",
       "        text-align: right;\n",
       "    }\n",
       "</style>\n",
       "<table border=\"1\" class=\"dataframe\">\n",
       "  <thead>\n",
       "    <tr style=\"text-align: right;\">\n",
       "      <th></th>\n",
       "      <th>iso3</th>\n",
       "      <th>population</th>\n",
       "      <th>cases_2020-08-05</th>\n",
       "      <th>death_2020-08-05</th>\n",
       "      <th>caseRate_2020-08-05</th>\n",
       "      <th>deathRate_2020-08-05</th>\n",
       "    </tr>\n",
       "  </thead>\n",
       "  <tbody>\n",
       "    <tr>\n",
       "      <th>0</th>\n",
       "      <td>USA</td>\n",
       "      <td>322903030</td>\n",
       "      <td>4744188</td>\n",
       "      <td>156315</td>\n",
       "      <td>1469.229942</td>\n",
       "      <td>48.40927</td>\n",
       "    </tr>\n",
       "  </tbody>\n",
       "</table>\n",
       "</div>"
      ],
      "text/plain": [
       "  iso3  population  cases_2020-08-05  death_2020-08-05  caseRate_2020-08-05  \\\n",
       "0  USA   322903030           4744188            156315          1469.229942   \n",
       "\n",
       "   deathRate_2020-08-05  \n",
       "0              48.40927  "
      ]
     },
     "execution_count": 13,
     "metadata": {},
     "output_type": "execute_result"
    }
   ],
   "source": [
    "data_20200805.head()"
   ]
  },
  {
   "cell_type": "markdown",
   "metadata": {},
   "source": [
    "### Get 7-day averages"
   ]
  },
  {
   "cell_type": "code",
   "execution_count": 14,
   "metadata": {},
   "outputs": [],
   "source": [
    "# Wave 1: Feb. 21-27 (pre-launch) versus Jan 24-Jan 30 (comparison baseline)\n",
    "# Wave 2: Apr 20-26 versus Mar 23-29\n",
    "# Wave 3: July 29-Aug 4 versus June 30-July 6"
   ]
  },
  {
   "cell_type": "code",
   "execution_count": 15,
   "metadata": {},
   "outputs": [],
   "source": [
    "days = 7.0"
   ]
  },
  {
   "cell_type": "code",
   "execution_count": 16,
   "metadata": {},
   "outputs": [],
   "source": [
    "query = \"\"\"\n",
    "MATCH (k:Country{iso3: 'USA'})<-[:IN]-(a1:Admin1)<-[:IN]-(a2:Admin2),\n",
    "      (a2)-[:HAS_DEMOGRAPHICS]->(d:Demographics{aggregationLevel: 'Admin2'}) \n",
    "\n",
    "WITH k, a2, d\n",
    "\n",
    "OPTIONAL MATCH (c:Cases{source:'JHU'})-[:REPORTED_IN]->(a2)\n",
    "WHERE c.date >= date($startDate) AND c.date <= date($endDate)\n",
    "WITH k, d, sum(c.cases) AS cases, sum(c.deaths) AS deaths\n",
    "      \n",
    "RETURN k.iso3 AS iso3, \n",
    "       sum(d.totalPopulation) AS population, \n",
    "       sum(cases)/$days AS cases, sum(deaths)/$days AS deaths,\n",
    "       sum(cases)*100000.0/$days/sum(d.totalPopulation) as caseRate, \n",
    "       sum(deaths)*100000.0/$days/sum(d.totalPopulation) as deathRate\n",
    "\"\"\""
   ]
  },
  {
   "cell_type": "code",
   "execution_count": 17,
   "metadata": {},
   "outputs": [],
   "source": [
    "data_20200124_20200130 = graph.run(query, startDate='2020-01-24', endDate='2020-01-30', days=days).to_data_frame()  "
   ]
  },
  {
   "cell_type": "code",
   "execution_count": 18,
   "metadata": {},
   "outputs": [],
   "source": [
    "data_20200124_20200130.rename(columns={'cases': 'avgcases_2020-01-24_2020-01-30', 'deaths': 'avgdeath_2020-01-24_2020-01-30', \n",
    "                              'caseRate': 'avgcaseRate_2020-01-24_2020-01-30', 'deathRate': 'avgdeathRate_2020-01-24_2020-01-30'}, inplace=True)"
   ]
  },
  {
   "cell_type": "code",
   "execution_count": 19,
   "metadata": {},
   "outputs": [
    {
     "data": {
      "text/html": [
       "<div>\n",
       "<style scoped>\n",
       "    .dataframe tbody tr th:only-of-type {\n",
       "        vertical-align: middle;\n",
       "    }\n",
       "\n",
       "    .dataframe tbody tr th {\n",
       "        vertical-align: top;\n",
       "    }\n",
       "\n",
       "    .dataframe thead th {\n",
       "        text-align: right;\n",
       "    }\n",
       "</style>\n",
       "<table border=\"1\" class=\"dataframe\">\n",
       "  <thead>\n",
       "    <tr style=\"text-align: right;\">\n",
       "      <th></th>\n",
       "      <th>iso3</th>\n",
       "      <th>population</th>\n",
       "      <th>avgcases_2020-01-24_2020-01-30</th>\n",
       "      <th>avgdeath_2020-01-24_2020-01-30</th>\n",
       "      <th>avgcaseRate_2020-01-24_2020-01-30</th>\n",
       "      <th>avgdeathRate_2020-01-24_2020-01-30</th>\n",
       "    </tr>\n",
       "  </thead>\n",
       "  <tbody>\n",
       "    <tr>\n",
       "      <th>0</th>\n",
       "      <td>USA</td>\n",
       "      <td>322903030</td>\n",
       "      <td>4.428571</td>\n",
       "      <td>0.0</td>\n",
       "      <td>0.001371</td>\n",
       "      <td>0.0</td>\n",
       "    </tr>\n",
       "  </tbody>\n",
       "</table>\n",
       "</div>"
      ],
      "text/plain": [
       "  iso3  population  avgcases_2020-01-24_2020-01-30  \\\n",
       "0  USA   322903030                        4.428571   \n",
       "\n",
       "   avgdeath_2020-01-24_2020-01-30  avgcaseRate_2020-01-24_2020-01-30  \\\n",
       "0                             0.0                           0.001371   \n",
       "\n",
       "   avgdeathRate_2020-01-24_2020-01-30  \n",
       "0                                 0.0  "
      ]
     },
     "execution_count": 19,
     "metadata": {},
     "output_type": "execute_result"
    }
   ],
   "source": [
    "data_20200124_20200130.head()"
   ]
  },
  {
   "cell_type": "code",
   "execution_count": 20,
   "metadata": {},
   "outputs": [],
   "source": [
    "data_20200221_20200227 = graph.run(query, startDate='2020-02-21', endDate='2020-02-27', days=days).to_data_frame() "
   ]
  },
  {
   "cell_type": "code",
   "execution_count": 21,
   "metadata": {},
   "outputs": [],
   "source": [
    "data_20200221_20200227.rename(columns={'cases': 'avgcases_2020-02-21_2020-02-27', 'deaths': 'avgdeath_2020-02-21_2020-02-27', \n",
    "                              'caseRate': 'avgcaseRate_2020-02-21_2020-02-27', 'deathRate': 'avgdeathRate_2020-02-21_2020-02-27'}, inplace=True)"
   ]
  },
  {
   "cell_type": "code",
   "execution_count": 22,
   "metadata": {},
   "outputs": [
    {
     "data": {
      "text/html": [
       "<div>\n",
       "<style scoped>\n",
       "    .dataframe tbody tr th:only-of-type {\n",
       "        vertical-align: middle;\n",
       "    }\n",
       "\n",
       "    .dataframe tbody tr th {\n",
       "        vertical-align: top;\n",
       "    }\n",
       "\n",
       "    .dataframe thead th {\n",
       "        text-align: right;\n",
       "    }\n",
       "</style>\n",
       "<table border=\"1\" class=\"dataframe\">\n",
       "  <thead>\n",
       "    <tr style=\"text-align: right;\">\n",
       "      <th></th>\n",
       "      <th>iso3</th>\n",
       "      <th>population</th>\n",
       "      <th>avgcases_2020-02-21_2020-02-27</th>\n",
       "      <th>avgdeath_2020-02-21_2020-02-27</th>\n",
       "      <th>avgcaseRate_2020-02-21_2020-02-27</th>\n",
       "      <th>avgdeathRate_2020-02-21_2020-02-27</th>\n",
       "    </tr>\n",
       "  </thead>\n",
       "  <tbody>\n",
       "    <tr>\n",
       "      <th>0</th>\n",
       "      <td>USA</td>\n",
       "      <td>322903030</td>\n",
       "      <td>16.142857</td>\n",
       "      <td>0.0</td>\n",
       "      <td>0.004999</td>\n",
       "      <td>0.0</td>\n",
       "    </tr>\n",
       "  </tbody>\n",
       "</table>\n",
       "</div>"
      ],
      "text/plain": [
       "  iso3  population  avgcases_2020-02-21_2020-02-27  \\\n",
       "0  USA   322903030                       16.142857   \n",
       "\n",
       "   avgdeath_2020-02-21_2020-02-27  avgcaseRate_2020-02-21_2020-02-27  \\\n",
       "0                             0.0                           0.004999   \n",
       "\n",
       "   avgdeathRate_2020-02-21_2020-02-27  \n",
       "0                                 0.0  "
      ]
     },
     "execution_count": 22,
     "metadata": {},
     "output_type": "execute_result"
    }
   ],
   "source": [
    "data_20200221_20200227.head()"
   ]
  },
  {
   "cell_type": "code",
   "execution_count": 23,
   "metadata": {},
   "outputs": [],
   "source": [
    "data_20200323_20200329 = graph.run(query, startDate='2020-03-23', endDate='2020-03-29', days=days).to_data_frame() "
   ]
  },
  {
   "cell_type": "code",
   "execution_count": 24,
   "metadata": {},
   "outputs": [],
   "source": [
    "data_20200323_20200329.rename(columns={'cases': 'avgcases_2020-03-23_2020-03-29', 'deaths': 'avgdeath_2020-03-23_2020-03-29', \n",
    "                              'caseRate': 'avgcaseRate_2020-03-23_2020-03-29', 'deathRate': 'avgdeathRate_2020-03-23_2020-03-29'}, inplace=True)"
   ]
  },
  {
   "cell_type": "code",
   "execution_count": 25,
   "metadata": {},
   "outputs": [
    {
     "data": {
      "text/html": [
       "<div>\n",
       "<style scoped>\n",
       "    .dataframe tbody tr th:only-of-type {\n",
       "        vertical-align: middle;\n",
       "    }\n",
       "\n",
       "    .dataframe tbody tr th {\n",
       "        vertical-align: top;\n",
       "    }\n",
       "\n",
       "    .dataframe thead th {\n",
       "        text-align: right;\n",
       "    }\n",
       "</style>\n",
       "<table border=\"1\" class=\"dataframe\">\n",
       "  <thead>\n",
       "    <tr style=\"text-align: right;\">\n",
       "      <th></th>\n",
       "      <th>iso3</th>\n",
       "      <th>population</th>\n",
       "      <th>avgcases_2020-03-23_2020-03-29</th>\n",
       "      <th>avgdeath_2020-03-23_2020-03-29</th>\n",
       "      <th>avgcaseRate_2020-03-23_2020-03-29</th>\n",
       "      <th>avgdeathRate_2020-03-23_2020-03-29</th>\n",
       "    </tr>\n",
       "  </thead>\n",
       "  <tbody>\n",
       "    <tr>\n",
       "      <th>0</th>\n",
       "      <td>USA</td>\n",
       "      <td>322903030</td>\n",
       "      <td>87327.428571</td>\n",
       "      <td>1659.428571</td>\n",
       "      <td>27.044475</td>\n",
       "      <td>0.513909</td>\n",
       "    </tr>\n",
       "  </tbody>\n",
       "</table>\n",
       "</div>"
      ],
      "text/plain": [
       "  iso3  population  avgcases_2020-03-23_2020-03-29  \\\n",
       "0  USA   322903030                    87327.428571   \n",
       "\n",
       "   avgdeath_2020-03-23_2020-03-29  avgcaseRate_2020-03-23_2020-03-29  \\\n",
       "0                     1659.428571                          27.044475   \n",
       "\n",
       "   avgdeathRate_2020-03-23_2020-03-29  \n",
       "0                            0.513909  "
      ]
     },
     "execution_count": 25,
     "metadata": {},
     "output_type": "execute_result"
    }
   ],
   "source": [
    "data_20200323_20200329.head()"
   ]
  },
  {
   "cell_type": "code",
   "execution_count": 26,
   "metadata": {},
   "outputs": [],
   "source": [
    "data_20200420_20200426 = graph.run(query, startDate='2020-04-20', endDate='2020-04-26', days=days).to_data_frame() "
   ]
  },
  {
   "cell_type": "code",
   "execution_count": 27,
   "metadata": {},
   "outputs": [],
   "source": [
    "data_20200420_20200426.rename(columns={'cases': 'avgcases_2020-04-20_2020-04-26', 'deaths': 'avgdeath_2020-04-20_2020-04-26', \n",
    "                              'caseRate': 'avgcaseRate_2020-04-20_2020-04-26', 'deathRate': 'avgdeathRate_2020-04-20_2020-04-26'}, inplace=True)"
   ]
  },
  {
   "cell_type": "code",
   "execution_count": 28,
   "metadata": {},
   "outputs": [
    {
     "data": {
      "text/html": [
       "<div>\n",
       "<style scoped>\n",
       "    .dataframe tbody tr th:only-of-type {\n",
       "        vertical-align: middle;\n",
       "    }\n",
       "\n",
       "    .dataframe tbody tr th {\n",
       "        vertical-align: top;\n",
       "    }\n",
       "\n",
       "    .dataframe thead th {\n",
       "        text-align: right;\n",
       "    }\n",
       "</style>\n",
       "<table border=\"1\" class=\"dataframe\">\n",
       "  <thead>\n",
       "    <tr style=\"text-align: right;\">\n",
       "      <th></th>\n",
       "      <th>iso3</th>\n",
       "      <th>population</th>\n",
       "      <th>avgcases_2020-04-20_2020-04-26</th>\n",
       "      <th>avgdeath_2020-04-20_2020-04-26</th>\n",
       "      <th>avgcaseRate_2020-04-20_2020-04-26</th>\n",
       "      <th>avgdeathRate_2020-04-20_2020-04-26</th>\n",
       "    </tr>\n",
       "  </thead>\n",
       "  <tbody>\n",
       "    <tr>\n",
       "      <th>0</th>\n",
       "      <td>USA</td>\n",
       "      <td>322903030</td>\n",
       "      <td>871105.285714</td>\n",
       "      <td>45676.857143</td>\n",
       "      <td>269.773029</td>\n",
       "      <td>14.145689</td>\n",
       "    </tr>\n",
       "  </tbody>\n",
       "</table>\n",
       "</div>"
      ],
      "text/plain": [
       "  iso3  population  avgcases_2020-04-20_2020-04-26  \\\n",
       "0  USA   322903030                   871105.285714   \n",
       "\n",
       "   avgdeath_2020-04-20_2020-04-26  avgcaseRate_2020-04-20_2020-04-26  \\\n",
       "0                    45676.857143                         269.773029   \n",
       "\n",
       "   avgdeathRate_2020-04-20_2020-04-26  \n",
       "0                           14.145689  "
      ]
     },
     "execution_count": 28,
     "metadata": {},
     "output_type": "execute_result"
    }
   ],
   "source": [
    "data_20200420_20200426.head()"
   ]
  },
  {
   "cell_type": "code",
   "execution_count": 29,
   "metadata": {},
   "outputs": [],
   "source": [
    "data_20200630_20200706 = graph.run(query, startDate='2020-06-30', endDate='2020-07-06', days=days).to_data_frame() "
   ]
  },
  {
   "cell_type": "code",
   "execution_count": 30,
   "metadata": {},
   "outputs": [],
   "source": [
    "data_20200630_20200706.rename(columns={'cases': 'avgcases_2020-06-30_2020-07-06', 'deaths': 'avgdeath_2020-04-20_2020-07-06', \n",
    "                              'caseRate': 'avgcaseRate_2020-06-30_2020-07-06', 'deathRate': 'avgdeathRate_2020-06-30_2020-07-06'}, inplace=True)"
   ]
  },
  {
   "cell_type": "code",
   "execution_count": 31,
   "metadata": {},
   "outputs": [
    {
     "data": {
      "text/html": [
       "<div>\n",
       "<style scoped>\n",
       "    .dataframe tbody tr th:only-of-type {\n",
       "        vertical-align: middle;\n",
       "    }\n",
       "\n",
       "    .dataframe tbody tr th {\n",
       "        vertical-align: top;\n",
       "    }\n",
       "\n",
       "    .dataframe thead th {\n",
       "        text-align: right;\n",
       "    }\n",
       "</style>\n",
       "<table border=\"1\" class=\"dataframe\">\n",
       "  <thead>\n",
       "    <tr style=\"text-align: right;\">\n",
       "      <th></th>\n",
       "      <th>iso3</th>\n",
       "      <th>population</th>\n",
       "      <th>avgcases_2020-06-30_2020-07-06</th>\n",
       "      <th>avgdeath_2020-04-20_2020-07-06</th>\n",
       "      <th>avgcaseRate_2020-06-30_2020-07-06</th>\n",
       "      <th>avgdeathRate_2020-06-30_2020-07-06</th>\n",
       "    </tr>\n",
       "  </thead>\n",
       "  <tbody>\n",
       "    <tr>\n",
       "      <th>0</th>\n",
       "      <td>USA</td>\n",
       "      <td>322903030</td>\n",
       "      <td>2.752229e+06</td>\n",
       "      <td>127685.714286</td>\n",
       "      <td>852.339257</td>\n",
       "      <td>39.543052</td>\n",
       "    </tr>\n",
       "  </tbody>\n",
       "</table>\n",
       "</div>"
      ],
      "text/plain": [
       "  iso3  population  avgcases_2020-06-30_2020-07-06  \\\n",
       "0  USA   322903030                    2.752229e+06   \n",
       "\n",
       "   avgdeath_2020-04-20_2020-07-06  avgcaseRate_2020-06-30_2020-07-06  \\\n",
       "0                   127685.714286                         852.339257   \n",
       "\n",
       "   avgdeathRate_2020-06-30_2020-07-06  \n",
       "0                           39.543052  "
      ]
     },
     "execution_count": 31,
     "metadata": {},
     "output_type": "execute_result"
    }
   ],
   "source": [
    "data_20200630_20200706.head()"
   ]
  },
  {
   "cell_type": "code",
   "execution_count": 32,
   "metadata": {},
   "outputs": [],
   "source": [
    "data_20200729_20200804 = graph.run(query, startDate='2020-07-29', endDate='2020-08-04', days=days).to_data_frame() "
   ]
  },
  {
   "cell_type": "code",
   "execution_count": 33,
   "metadata": {},
   "outputs": [],
   "source": [
    "data_20200729_20200804.rename(columns={'cases': 'avgcases_2020-07-29_2020-08-04', 'deaths': 'avgdeath_2020-07-29_2020-08-04', \n",
    "                              'caseRate': 'avgcaseRate_2020-07-29_2020-08-04', 'deathRate': 'avgdeathRate_2020-07-29_2020-08-04'}, inplace=True)"
   ]
  },
  {
   "cell_type": "code",
   "execution_count": 34,
   "metadata": {},
   "outputs": [
    {
     "data": {
      "text/html": [
       "<div>\n",
       "<style scoped>\n",
       "    .dataframe tbody tr th:only-of-type {\n",
       "        vertical-align: middle;\n",
       "    }\n",
       "\n",
       "    .dataframe tbody tr th {\n",
       "        vertical-align: top;\n",
       "    }\n",
       "\n",
       "    .dataframe thead th {\n",
       "        text-align: right;\n",
       "    }\n",
       "</style>\n",
       "<table border=\"1\" class=\"dataframe\">\n",
       "  <thead>\n",
       "    <tr style=\"text-align: right;\">\n",
       "      <th></th>\n",
       "      <th>iso3</th>\n",
       "      <th>population</th>\n",
       "      <th>avgcases_2020-07-29_2020-08-04</th>\n",
       "      <th>avgdeath_2020-07-29_2020-08-04</th>\n",
       "      <th>avgcaseRate_2020-07-29_2020-08-04</th>\n",
       "      <th>avgdeathRate_2020-07-29_2020-08-04</th>\n",
       "    </tr>\n",
       "  </thead>\n",
       "  <tbody>\n",
       "    <tr>\n",
       "      <th>0</th>\n",
       "      <td>USA</td>\n",
       "      <td>322903030</td>\n",
       "      <td>4.532361e+06</td>\n",
       "      <td>152303.285714</td>\n",
       "      <td>1403.629221</td>\n",
       "      <td>47.16688</td>\n",
       "    </tr>\n",
       "  </tbody>\n",
       "</table>\n",
       "</div>"
      ],
      "text/plain": [
       "  iso3  population  avgcases_2020-07-29_2020-08-04  \\\n",
       "0  USA   322903030                    4.532361e+06   \n",
       "\n",
       "   avgdeath_2020-07-29_2020-08-04  avgcaseRate_2020-07-29_2020-08-04  \\\n",
       "0                   152303.285714                        1403.629221   \n",
       "\n",
       "   avgdeathRate_2020-07-29_2020-08-04  \n",
       "0                            47.16688  "
      ]
     },
     "execution_count": 34,
     "metadata": {},
     "output_type": "execute_result"
    }
   ],
   "source": [
    "data_20200729_20200804.head()"
   ]
  },
  {
   "cell_type": "markdown",
   "metadata": {},
   "source": [
    "#### Consistency check (these numbers should match the daily numbers in dataframe: data_20200805)"
   ]
  },
  {
   "cell_type": "code",
   "execution_count": 35,
   "metadata": {},
   "outputs": [],
   "source": [
    "data_20200805_20200805 = graph.run(query, startDate='2020-08-05', endDate='2020-08-05', days=1.0).to_data_frame() "
   ]
  },
  {
   "cell_type": "code",
   "execution_count": 36,
   "metadata": {},
   "outputs": [],
   "source": [
    "data_20200805_20200805 = data_20200805_20200805.merge(data_20200805, on=['iso3', 'population'])"
   ]
  },
  {
   "cell_type": "code",
   "execution_count": 37,
   "metadata": {},
   "outputs": [
    {
     "data": {
      "text/html": [
       "<div>\n",
       "<style scoped>\n",
       "    .dataframe tbody tr th:only-of-type {\n",
       "        vertical-align: middle;\n",
       "    }\n",
       "\n",
       "    .dataframe tbody tr th {\n",
       "        vertical-align: top;\n",
       "    }\n",
       "\n",
       "    .dataframe thead th {\n",
       "        text-align: right;\n",
       "    }\n",
       "</style>\n",
       "<table border=\"1\" class=\"dataframe\">\n",
       "  <thead>\n",
       "    <tr style=\"text-align: right;\">\n",
       "      <th></th>\n",
       "      <th>iso3</th>\n",
       "      <th>population</th>\n",
       "      <th>cases</th>\n",
       "      <th>deaths</th>\n",
       "      <th>caseRate</th>\n",
       "      <th>deathRate</th>\n",
       "      <th>cases_2020-08-05</th>\n",
       "      <th>death_2020-08-05</th>\n",
       "      <th>caseRate_2020-08-05</th>\n",
       "      <th>deathRate_2020-08-05</th>\n",
       "    </tr>\n",
       "  </thead>\n",
       "  <tbody>\n",
       "    <tr>\n",
       "      <th>0</th>\n",
       "      <td>USA</td>\n",
       "      <td>322903030</td>\n",
       "      <td>4744188.0</td>\n",
       "      <td>156315.0</td>\n",
       "      <td>1469.229942</td>\n",
       "      <td>48.40927</td>\n",
       "      <td>4744188</td>\n",
       "      <td>156315</td>\n",
       "      <td>1469.229942</td>\n",
       "      <td>48.40927</td>\n",
       "    </tr>\n",
       "  </tbody>\n",
       "</table>\n",
       "</div>"
      ],
      "text/plain": [
       "  iso3  population      cases    deaths     caseRate  deathRate  \\\n",
       "0  USA   322903030  4744188.0  156315.0  1469.229942   48.40927   \n",
       "\n",
       "   cases_2020-08-05  death_2020-08-05  caseRate_2020-08-05  \\\n",
       "0           4744188            156315          1469.229942   \n",
       "\n",
       "   deathRate_2020-08-05  \n",
       "0              48.40927  "
      ]
     },
     "execution_count": 37,
     "metadata": {},
     "output_type": "execute_result"
    }
   ],
   "source": [
    "data_20200805_20200805.head()"
   ]
  },
  {
   "cell_type": "markdown",
   "metadata": {},
   "source": [
    "### Merge dataframes"
   ]
  },
  {
   "cell_type": "code",
   "execution_count": 38,
   "metadata": {},
   "outputs": [],
   "source": [
    "data_frames = [data_20200228, data_20200427, data_20200805, data_20200124_20200130, data_20200221_20200227, \n",
    "               data_20200323_20200329, data_20200420_20200426, data_20200630_20200706, data_20200729_20200804]"
   ]
  },
  {
   "cell_type": "code",
   "execution_count": 39,
   "metadata": {},
   "outputs": [],
   "source": [
    "data = reduce(lambda  left,right: pd.merge(left,right,on=['iso3', 'population'], how='outer'), data_frames).fillna(0.0)"
   ]
  },
  {
   "cell_type": "code",
   "execution_count": 40,
   "metadata": {},
   "outputs": [
    {
     "data": {
      "text/html": [
       "<div>\n",
       "<style scoped>\n",
       "    .dataframe tbody tr th:only-of-type {\n",
       "        vertical-align: middle;\n",
       "    }\n",
       "\n",
       "    .dataframe tbody tr th {\n",
       "        vertical-align: top;\n",
       "    }\n",
       "\n",
       "    .dataframe thead th {\n",
       "        text-align: right;\n",
       "    }\n",
       "</style>\n",
       "<table border=\"1\" class=\"dataframe\">\n",
       "  <thead>\n",
       "    <tr style=\"text-align: right;\">\n",
       "      <th></th>\n",
       "      <th>iso3</th>\n",
       "      <th>population</th>\n",
       "      <th>cases_2020-02-28</th>\n",
       "      <th>death_2020-02-28</th>\n",
       "      <th>caseRate_2020-02-28</th>\n",
       "      <th>deathRate_2020-02-28</th>\n",
       "      <th>cases_2020-04-27</th>\n",
       "      <th>death_2020-04-27</th>\n",
       "      <th>caseRate_2020-04-27</th>\n",
       "      <th>deathRate_2020-04-27</th>\n",
       "      <th>cases_2020-08-05</th>\n",
       "      <th>death_2020-08-05</th>\n",
       "      <th>caseRate_2020-08-05</th>\n",
       "      <th>deathRate_2020-08-05</th>\n",
       "      <th>avgcases_2020-01-24_2020-01-30</th>\n",
       "      <th>avgdeath_2020-01-24_2020-01-30</th>\n",
       "      <th>avgcaseRate_2020-01-24_2020-01-30</th>\n",
       "      <th>avgdeathRate_2020-01-24_2020-01-30</th>\n",
       "      <th>avgcases_2020-02-21_2020-02-27</th>\n",
       "      <th>avgdeath_2020-02-21_2020-02-27</th>\n",
       "      <th>avgcaseRate_2020-02-21_2020-02-27</th>\n",
       "      <th>avgdeathRate_2020-02-21_2020-02-27</th>\n",
       "      <th>avgcases_2020-03-23_2020-03-29</th>\n",
       "      <th>avgdeath_2020-03-23_2020-03-29</th>\n",
       "      <th>avgcaseRate_2020-03-23_2020-03-29</th>\n",
       "      <th>avgdeathRate_2020-03-23_2020-03-29</th>\n",
       "      <th>avgcases_2020-04-20_2020-04-26</th>\n",
       "      <th>avgdeath_2020-04-20_2020-04-26</th>\n",
       "      <th>avgcaseRate_2020-04-20_2020-04-26</th>\n",
       "      <th>avgdeathRate_2020-04-20_2020-04-26</th>\n",
       "      <th>avgcases_2020-06-30_2020-07-06</th>\n",
       "      <th>avgdeath_2020-04-20_2020-07-06</th>\n",
       "      <th>avgcaseRate_2020-06-30_2020-07-06</th>\n",
       "      <th>avgdeathRate_2020-06-30_2020-07-06</th>\n",
       "      <th>avgcases_2020-07-29_2020-08-04</th>\n",
       "      <th>avgdeath_2020-07-29_2020-08-04</th>\n",
       "      <th>avgcaseRate_2020-07-29_2020-08-04</th>\n",
       "      <th>avgdeathRate_2020-07-29_2020-08-04</th>\n",
       "    </tr>\n",
       "  </thead>\n",
       "  <tbody>\n",
       "    <tr>\n",
       "      <th>0</th>\n",
       "      <td>USA</td>\n",
       "      <td>322903030</td>\n",
       "      <td>17</td>\n",
       "      <td>0</td>\n",
       "      <td>0.005265</td>\n",
       "      <td>0.0</td>\n",
       "      <td>985175</td>\n",
       "      <td>52673</td>\n",
       "      <td>305.099336</td>\n",
       "      <td>16.312328</td>\n",
       "      <td>4744188</td>\n",
       "      <td>156315</td>\n",
       "      <td>1469.229942</td>\n",
       "      <td>48.40927</td>\n",
       "      <td>4.428571</td>\n",
       "      <td>0.0</td>\n",
       "      <td>0.001371</td>\n",
       "      <td>0.0</td>\n",
       "      <td>16.142857</td>\n",
       "      <td>0.0</td>\n",
       "      <td>0.004999</td>\n",
       "      <td>0.0</td>\n",
       "      <td>87327.428571</td>\n",
       "      <td>1659.428571</td>\n",
       "      <td>27.044475</td>\n",
       "      <td>0.513909</td>\n",
       "      <td>871105.285714</td>\n",
       "      <td>45676.857143</td>\n",
       "      <td>269.773029</td>\n",
       "      <td>14.145689</td>\n",
       "      <td>2.752229e+06</td>\n",
       "      <td>127685.714286</td>\n",
       "      <td>852.339257</td>\n",
       "      <td>39.543052</td>\n",
       "      <td>4.532361e+06</td>\n",
       "      <td>152303.285714</td>\n",
       "      <td>1403.629221</td>\n",
       "      <td>47.16688</td>\n",
       "    </tr>\n",
       "  </tbody>\n",
       "</table>\n",
       "</div>"
      ],
      "text/plain": [
       "  iso3  population  cases_2020-02-28  death_2020-02-28  caseRate_2020-02-28  \\\n",
       "0  USA   322903030                17                 0             0.005265   \n",
       "\n",
       "   deathRate_2020-02-28  cases_2020-04-27  death_2020-04-27  \\\n",
       "0                   0.0            985175             52673   \n",
       "\n",
       "   caseRate_2020-04-27  deathRate_2020-04-27  cases_2020-08-05  \\\n",
       "0           305.099336             16.312328           4744188   \n",
       "\n",
       "   death_2020-08-05  caseRate_2020-08-05  deathRate_2020-08-05  \\\n",
       "0            156315          1469.229942              48.40927   \n",
       "\n",
       "   avgcases_2020-01-24_2020-01-30  avgdeath_2020-01-24_2020-01-30  \\\n",
       "0                        4.428571                             0.0   \n",
       "\n",
       "   avgcaseRate_2020-01-24_2020-01-30  avgdeathRate_2020-01-24_2020-01-30  \\\n",
       "0                           0.001371                                 0.0   \n",
       "\n",
       "   avgcases_2020-02-21_2020-02-27  avgdeath_2020-02-21_2020-02-27  \\\n",
       "0                       16.142857                             0.0   \n",
       "\n",
       "   avgcaseRate_2020-02-21_2020-02-27  avgdeathRate_2020-02-21_2020-02-27  \\\n",
       "0                           0.004999                                 0.0   \n",
       "\n",
       "   avgcases_2020-03-23_2020-03-29  avgdeath_2020-03-23_2020-03-29  \\\n",
       "0                    87327.428571                     1659.428571   \n",
       "\n",
       "   avgcaseRate_2020-03-23_2020-03-29  avgdeathRate_2020-03-23_2020-03-29  \\\n",
       "0                          27.044475                            0.513909   \n",
       "\n",
       "   avgcases_2020-04-20_2020-04-26  avgdeath_2020-04-20_2020-04-26  \\\n",
       "0                   871105.285714                    45676.857143   \n",
       "\n",
       "   avgcaseRate_2020-04-20_2020-04-26  avgdeathRate_2020-04-20_2020-04-26  \\\n",
       "0                         269.773029                           14.145689   \n",
       "\n",
       "   avgcases_2020-06-30_2020-07-06  avgdeath_2020-04-20_2020-07-06  \\\n",
       "0                    2.752229e+06                   127685.714286   \n",
       "\n",
       "   avgcaseRate_2020-06-30_2020-07-06  avgdeathRate_2020-06-30_2020-07-06  \\\n",
       "0                         852.339257                           39.543052   \n",
       "\n",
       "   avgcases_2020-07-29_2020-08-04  avgdeath_2020-07-29_2020-08-04  \\\n",
       "0                    4.532361e+06                   152303.285714   \n",
       "\n",
       "   avgcaseRate_2020-07-29_2020-08-04  avgdeathRate_2020-07-29_2020-08-04  \n",
       "0                        1403.629221                            47.16688  "
      ]
     },
     "execution_count": 40,
     "metadata": {},
     "output_type": "execute_result"
    }
   ],
   "source": [
    "data.head()"
   ]
  },
  {
   "cell_type": "code",
   "execution_count": 41,
   "metadata": {},
   "outputs": [],
   "source": [
    "data.to_csv(\"COVID_waves1to3_US_JHU.csv\", index=False)"
   ]
  }
 ],
 "metadata": {
  "kernelspec": {
   "display_name": "Python 3",
   "language": "python",
   "name": "python3"
  },
  "language_info": {
   "codemirror_mode": {
    "name": "ipython",
    "version": 3
   },
   "file_extension": ".py",
   "mimetype": "text/x-python",
   "name": "python",
   "nbconvert_exporter": "python",
   "pygments_lexer": "ipython3",
   "version": "3.7.8"
  }
 },
 "nbformat": 4,
 "nbformat_minor": 4
}

{
 "cells": [
  {
   "cell_type": "markdown",
   "metadata": {},
   "source": [
    "# Graph visualization\n",
    "Other options: https://stackoverflow.com/questions/59289134/constructing-networkx-graph-from-neo4j-query-result"
   ]
  },
  {
   "cell_type": "code",
   "execution_count": 7,
   "metadata": {},
   "outputs": [],
   "source": [
    "import os\n",
    "import re\n",
    "import pandas as pd\n",
    "from pathlib import Path\n",
    "from py2neo import Graph"
   ]
  },
  {
   "cell_type": "code",
   "execution_count": 8,
   "metadata": {},
   "outputs": [
    {
     "name": "stdout",
     "output_type": "stream",
     "text": [
      "/Users/peter/Library/Application Support/com.Neo4j.Relate/data/dbmss/dbms-8bf637fc-0d20-4d9f-9c6f-f7e72e92a4da/import\n"
     ]
    }
   ],
   "source": [
    "# Path will take care of handling operating system differences.\n",
    "NEO4J_IMPORT = Path(os.getenv('NEO4J_IMPORT'))\n",
    "print(NEO4J_IMPORT)"
   ]
  },
  {
   "cell_type": "code",
   "execution_count": 3,
   "metadata": {},
   "outputs": [],
   "source": [
    "graph = Graph(\"bolt://132.249.238.185:7687\", user=\"reader\", password=\"demo\")"
   ]
  },
  {
   "cell_type": "code",
   "execution_count": 4,
   "metadata": {},
   "outputs": [],
   "source": [
    "query = \"\"\"\n",
    "MATCH p=(c:NodeMetadata)-[]->(m:DataProvider) return p limit 100\n",
    "\"\"\"\n",
    "subgraph = graph.run(query).to_subgraph()"
   ]
  },
  {
   "cell_type": "code",
   "execution_count": 5,
   "metadata": {},
   "outputs": [
    {
     "data": {
      "text/plain": [
       "['DataProvider', 'NodeMetadata']"
      ]
     },
     "execution_count": 5,
     "metadata": {},
     "output_type": "execute_result"
    }
   ],
   "source": [
    "list(subgraph.labels())"
   ]
  },
  {
   "cell_type": "code",
   "execution_count": null,
   "metadata": {},
   "outputs": [],
   "source": [
    "options = {\"NodeMetadata\"}"
   ]
  },
  {
   "cell_type": "code",
   "execution_count": 70,
   "metadata": {},
   "outputs": [],
   "source": [
    "def neo_to_cytoscape(subgraph):\n",
    "    from py2neo.data import Node, Relationship\n",
    "#    [\n",
    "#         { 'data': { 'id': 'desktop', 'name': 'Cytoscape', 'href': 'http://cytoscape.org' } },\n",
    "#         { 'data': { 'id': 'a', 'name': 'Grid', 'href': 'http://cytoscape.org' } },\n",
    "#         { 'data': { 'id': 'b', 'name': 'Cola', 'href': 'http://cytoscape.org' } },\n",
    "#         { 'data': { 'id': 'c', 'name': 'Popper', 'href': 'http://cytoscape.org' } },\n",
    "#         { 'data': { 'id': 'js', 'name': 'Cytoscape.js', 'href': 'http://js.cytoscape.org' } }\n",
    "#     ],\n",
    "    nodes = []\n",
    "    for node in subgraph.nodes:\n",
    "   #     print(hash(node), node.labels)\n",
    "    #    print(dict(node))\n",
    "        nodes.append({'data': dict(node)})\n",
    "        #{ 'data': { 'id': 'desktop', 'name': 'Cytoscape', 'href': 'http://cytoscape.org' } },\n",
    "        \n",
    "    data = {'nodes': nodes}\n",
    "    print(data)"
   ]
  },
  {
   "cell_type": "code",
   "execution_count": 71,
   "metadata": {},
   "outputs": [
    {
     "name": "stdout",
     "output_type": "stream",
     "text": [
      "{'nodes': [{'data': {'name': 'Location', 'description': 'A geographic location', 'dataProviders': ['GeoNames', 'UNSD', 'USCensus', 'HUD', 'JHU'], 'shortDescription': 'Geographic location', 'example': 'World, ..., Country, State, Country, City, Cruise ship'}}, {'data': {'name': 'UNRegion', 'definitionSource': 'https://unstats.un.org/unsd/methodology/m49/', 'description': ' Continental regions according to the M49 standard defined by the Statistics Division of the United Nations Secretariat', 'dataProviders': ['UNSD'], 'shortDescription': ' Continental regions', 'example': 'Americas'}}, {'data': {'name': 'UNSubRegion', 'dataProviders': ['UNSD'], 'definitionSource': 'https://unstats.un.org/unsd/methodology/m49/', 'description': 'Subcontinental regions according to the M49 standard defined by the Statistics Division of the United Nations Secretariat', 'shortDescription': ' Subcontinental regions', 'example': 'Latin America and the Caribbean'}}, {'data': {'name': 'Structure', 'description': '3D coordinate and associated data for a macromolecular tertiary (3D) structure or part of a structure. The coordinate data may be predicted or real.', 'dataProviders': ['RCSB', 'PDBe', 'UniProt'], 'definitionSource': 'http://edamontology.org/data_0883', 'shortDescription': '3D coordinate and associated data for a macromolecular structure', 'example': 'pdb:7JR3'}}, {'data': {'name': 'Publication', 'definitionSource': 'http://purl.obolibrary.org/obo/IAO_0000311', 'description': 'A document that has been accepted by a publisher', 'dataProviders': ['EuropePMC', 'UniProt', 'NCBI', 'NextStrain'], 'shortDescription': 'Published document', 'example': 'PMC7106203'}}, {'data': {'name': 'SocialCharacteristics', 'dataProviders': ['USCensus'], 'description': 'Social characteristics from the American Community Survey 5-year 2018 estimates', 'definitionSource': 'https://www2.census.gov/programs-surveys/acs/tech_docs/subject_definitions/2018_ACSSubjectDefinitions.pdf', 'shortDescription': 'Social characteristics', 'example': 'Educational attainment'}}, {'data': {'name': 'Education', 'definitionSource': 'https://www2.census.gov/programs-surveys/acs/tech_docs/subject_definitions/2018_ACSSubjectDefinitions.pdf', 'description': 'Education attainment from the American Community Survey 5-year 2018 estimates', 'dataProviders': ['USCensus'], 'shortDescription': 'Education attainment', 'example': 'Highest degree'}}, {'data': {'name': 'ProteinName', 'description': 'Preferred name or synonym and associated accession number for a protein', 'dataProviders': ['UniProt', 'NCBI'], 'shortDescription': 'Name and accession number of a protein', 'example': 'Spike glycoprotein'}}, {'data': {'name': 'ProteinDomain', 'definitionSource': 'http://purl.obolibrary.org/obo/NCIT_C13379', 'description': 'A specific physical region or amino acid sequence in a protein which is associated with a particular function', 'dataProviders': ['Pfam', 'InterPro', 'UniProt', 'PDBj'], 'shortDescription': 'A structurally or functionally defined protein region', 'example': 'PF01234'}}, {'data': {'name': 'Chain', 'description': '3D coordinate and associated data for the tertiary (3D) structure of a macromolecule chain (peptide, DNA, RNA)', 'dataProviders': ['RCSB', 'PDBe', 'UniProt'], 'definitionSource': 'http://edamontology.org/data_1467', 'shortDescription': '3D coordinate and associated data for the tertiary (3D) structure of a macromolecule chain.', 'example': 'pdb:7JR3.A'}}, {'data': {'name': 'Gene', 'definitionSource': 'http://purl.obolibrary.org/obo/SO_0000704', 'description': 'Sequence of nucleotides in DNA or RNA that encodes the synthesis of a gene product, either RNA or protein', 'dataProviders': ['NCBI'], 'shortDescription': 'Sequence of nucleotides', 'example': 'SARS-CoV-2 S gene'}}, {'data': {'name': 'GeneName', 'description': 'Preferred name or synonym and associated accession number for a gene', 'dataProviders': ['UniProt', 'NCBI'], 'shortDescription': 'Name and accession number of a protein', 'example': 'ORF1ab'}}, {'data': {'name': 'Variant', 'dataProviders': ['CNCB', 'NCBI', 'UniProt'], 'definitionSource': 'http://purl.obolibrary.org/obo/SO_0001147', 'description': 'Natural sequence variants due to polymorphisms, disease-associated mutations, RNA editing and variations between strains, isolates or cultivars', 'shortDescription': 'Natural sequence variation', 'example': 'ORF8:c.184Gtg>Ctg'}}, {'data': {'name': 'Protein', 'definitionSource': 'http://purl.obolibrary.org/obo/SO_0000104', 'description': 'Proteins are large biomolecules consisting of chains of amino acid residues', 'dataProviders': ['NCBI', 'UniProt', 'IntAct'], 'shortDescription': 'Sequence of amino acids', 'example': 'Spike protein'}}, {'data': {'name': 'Genome', 'dataProviders': ['UniProt', 'NCBI'], 'definitionSource': 'http://purl.obolibrary.org/obo/SO_0001026', 'description': 'A genome is the sum of genetic material within a cell or virion', 'shortDescription': 'Genetic material within a cell or virion', 'example': 'Homo sapiens GRCh38.p13'}}, {'data': {'name': 'Chromosome', 'definitionSource': 'http://purl.obolibrary.org/obo/SO_0000340', 'description': 'Structural unit composed of a nucleic acid molecule which controls its own replication', 'dataProviders': ['UniProt', 'NCBI'], 'shortDescription': 'Part of a cell or virion that contains genetic information', 'example': 'Chromosome 1'}}, {'data': {'name': 'Strain', 'dataProviders': ['NCBI', 'CNCB', 'Nextstrain'], 'definitionSource': 'https://semanticscience.org/resource/SIO_010055.rdf', 'description': 'A population of organisms that is geneticaly different from others of the same species and possessing a set of defined characteristics', 'shortDescription': 'Genetic variant of an organism', 'example': 'COVID-19 strain'}}, {'data': {'name': 'Clade', 'definitionSource': 'http://purl.obolibrary.org/obo/APOLLO_SV_00000232', 'description': 'An identifier that denotes a group of organisms or groups of organisms based on common ancestors', 'dataProviders': ['Nextstrain'], 'shortDescription': 'Group of organisms based on common ancestors', 'example': 'SARS-CoV-2 A'}}, {'data': {'name': 'Outbreak', 'definitionSource': 'http://purl.obolibrary.org/obo/IDO_0000502', 'description': 'Statistically significant increase in disease occurance in a community, population, or region', 'dataProviders': ['DO', 'JHU'], 'shortDescription': 'Increase in disease occurance', 'example': 'COVID-19'}}, {'data': {'name': 'Organism', 'definitionSource': 'http://purl.obolibrary.org/obo/OBI_0100026', 'description': 'Individual living system, such as animal, plant, bacteria or virus, that is capable of replicating or reproducing, growth and maintenance in the right environment', 'dataProviders': ['NCBI'], 'shortDescription': 'Living system', 'example': 'Homo sapiens'}}, {'data': {'name': 'Host', 'description': 'A host organism provides an environment supportive for the survival, growth, maturation, or reproduction of a virus', 'dataProviders': ['NCBI', 'CNCB', 'Nextstrain'], 'definitionSource': 'http://purl.obolibrary.org/obo/IDO_0000531', 'shortDescription': 'Host organism for a virus', 'example': 'Homo sapiens'}}, {'data': {'name': 'Pathogen', 'definitionSource': 'http://purl.obolibrary.org/obo/IDO_0000528', 'description': 'A bacterium, virus, or other microorganism that can cause disease', 'dataProviders': ['NCBI', 'CNCB', 'Nextstrain'], 'shortDescription': 'Diseae causing organism', 'example': 'SARS-CoV-2'}}, {'data': {'name': 'CruiseShip', 'description': 'Cruise ship', 'definitionSource': 'http://www.productontology.org/doc/Cruise_ship', 'dataProviders': ['JHU'], 'shortDescription': 'Cruise ship', 'example': 'Diamond Princess'}}, {'data': {'name': 'USRegion', 'definitionSource': 'https://www.census.gov/geographies/reference-files/2017/demo/popest/2017-fips.html', 'description': 'Regions defined by the US Census Bureau', 'dataProviders': ['USCensus'], 'shortDescription': 'Regions of the US', 'example': 'West Region'}}, {'data': {'name': 'USDivision', 'dataProviders': ['USCensus'], 'definitionSource': 'https://www.census.gov/geographies/reference-files/2017/demo/popest/2017-fips.html', 'description': 'Divisions defined by the US Census Burea', 'shortDescription': 'Subregions of US', 'example': 'Pacific Division'}}, {'data': {'name': 'Cases', 'description': 'Number of case for outbreaks or diseases at specific dates and locations', 'dataProviders': ['JHU', 'SDHHSA'], 'shortDescription': 'Case counts'}}, {'data': {'name': 'City', 'definitionSource': 'http://www.geonames.org/', 'dataProviders': ['GeoNames', 'USCensus'], 'description': 'City', 'shortDescription': 'City', 'example': 'San Diego'}}, {'data': {'name': 'PostalCode', 'description': 'E.g., a ZIP Code is a postal code used by the United States Postal Service (USPS)', 'dataProviders': ['GeoNames', 'HUD'], 'definitionSource': 'http://purl.obolibrary.org/obo/OPMI_0000120', 'shortDescription': 'Postal Code', 'example': '92121'}}, {'data': {'name': 'Tract', 'definitionSource': 'https://www2.census.gov/geo/pdfs/education/CensusTracts.pdf', 'description': 'Census tracts are small, relatively permanent statistical subdivisions of a county', 'dataProviders': ['HUD'], 'shortDescription': 'Census tract', 'example': '06073008346'}}, {'data': {'name': 'Demographics', 'description': 'Population statistics from the American Community Survey 5-year 2018 estimates', 'dataProviders': ['USCensus'], 'definitionSource': 'https://www2.census.gov/programs-surveys/acs/tech_docs/subject_definitions/2018_ACSSubjectDefinitions.pdf', 'shortDescription': 'Population statistics', 'example': 'Race'}}, {'data': {'name': 'UNIntermediateRegion', 'description': 'Subdivisions of subcontinental regions according to the M49 standard defined by the Statistics Division of the United Nations Secretariat', 'dataProviders': ['UNSD'], 'definitionSource': 'https://unstats.un.org/unsd/methodology/m49/', 'shortDescription': 'Subdivisions of subcontinental regions', 'example': 'Caribbean'}}, {'data': {'name': 'Country', 'dataProviders': ['GeoNames'], 'definitionSource': 'http://www.geonames.org/', 'description': ' Countries and dependent Territories defined by ISO', 'shortDescription': 'Countries and dependent Territories', 'example': 'United States'}}, {'data': {'name': 'Admin1', 'dataProviders': ['GeoNames', 'USCensus'], 'definitionSource': 'http://www.geonames.org/', 'description': 'First administrative divisions, e.g, State, Province, Municipality', 'shortDescription': 'State, Province, Municipality', 'example': 'California'}}, {'data': {'name': 'Admin2', 'definitionSource': 'http://www.geonames.org/', 'description': 'Second administrative divisions: County in the US', 'dataProviders': ['GeoNames', 'USCensus'], 'shortDescription': ' County', 'example': 'San Diego County'}}, {'data': {'name': 'Disease Ontology', 'id': 'DO', 'url': 'https://disease-ontology.org/'}}, {'data': {'name': 'RCSB Protein Data Bank', 'id': 'RCSB', 'url': 'https://www.rcsb.org/'}}, {'data': {'name': 'Nextstrain', 'id': 'Nextstrain', 'url': 'https://nextstrain.org/'}}, {'data': {'name': 'IntAct Molecular Interaction Database', 'license': 'https://www.ebi.ac.uk/about/terms-of-use/', 'id': 'IntAct', 'url': 'https://www.ebi.ac.uk/intact/'}}, {'data': {'name': 'Europe PMC', 'license': 'https://www.ebi.ac.uk/about/terms-of-use/', 'id': 'EuropePMC', 'url': 'https://europepmc.org/'}}, {'data': {'name': 'National Center for Biotechnology Information', 'license': 'https://www.ncbi.nlm.nih.gov/home/about/policies/', 'id': 'NCBI', 'url': 'https://www.ncbi.nlm.nih.gov/'}}, {'data': {'name': 'China National Center for Bioinformation', 'license': 'https://creativecommons.org/licenses/by/3.0/', 'id': 'CNCB', 'url': 'https://bigd.big.ac.cn/ncov/release_genome?lang=en'}}, {'data': {'name': 'Universal Protein Resource', 'license': 'https://creativecommons.org/licenses/by/4.0/', 'id': 'UniProt', 'url': 'https://www.uniprot.org/'}}, {'data': {'name': 'Protein Data Bank in Europe', 'id': 'PDBe', 'url': 'https://www.ebi.ac.uk/pdbe/'}}, {'data': {'name': 'Statistics Division of the United Nations Secretariat', 'license': 'https://www.un.org/en/sections/about-website/terms-use/index.html', 'id': 'UNSD', 'url': 'https://unstats.un.org/home/'}}, {'data': {'name': 'COVID-19 Data Repository by the Center for Systems Science and Engineering (CSSE) at Johns Hopkins University', 'license': 'https://github.com/CSSEGISandData/COVID-19#covid-19-data-repository-by-the-center-for-systems-science-and-engineering-csse-at-johns-hopkins-university', 'id': 'JHU', 'url': 'https://github.com/CSSEGISandData/COVID-19'}}, {'data': {'name': 'County of San Diego, Health and Human Services Agency', 'license': 'https://www.sandiegocounty.gov/content/sdc/cosd/privacy.html', 'id': 'SDHHSA', 'url': 'https://www.sandiegocounty.gov/content/sdc/hhsa/programs/phs/community_epidemiology/dc/2019-nCoV/status.html'}}, {'data': {'name': 'Housing', 'dataProviders': ['USCensus'], 'definitionSource': 'https://www2.census.gov/programs-surveys/acs/tech_docs/subject_definitions/2018_ACSSubjectDefinitions.pdf', 'description': 'Housing characteristics from the American Community Survey 5-year 2018 estimates', 'shortDescription': 'Housing characteristics', 'example': 'Occupants per room'}}, {'data': {'name': 'GeoNames geographical database', 'license': 'https://creativecommons.org/licenses/by/4.0/', 'id': 'GeoNames', 'url': 'http://www.geonames.org/'}}, {'data': {'name': 'U.S. Census Bureau', 'license': 'https://www.census.gov/about/policies.html', 'id': 'USCensus', 'url': 'https://www.census.gov/en.html'}}, {'data': {'name': 'U.S. Department of Housing and Urban Development', 'license': 'https://www.huduser.gov/portal/datasets/pdrdatas.html', 'id': 'HUD', 'url': 'https://www.hud.gov/'}}, {'data': {'name': 'Poverty', 'dataProviders': ['USCensus'], 'definitionSource': 'https://www2.census.gov/programs-surveys/acs/tech_docs/subject_definitions/2018_ACSSubjectDefinitions.pdf', 'description': 'Families and people whose income in the past 12 month was below the poverty level', 'shortDescription': 'Income below poverty level', 'example': 'Percent of people in poverty'}}, {'data': {'name': 'Employment', 'dataProviders': ['USCensus'], 'definitionSource': 'https://www2.census.gov/programs-surveys/acs/tech_docs/subject_definitions/2018_ACSSubjectDefinitions.pdf', 'description': 'Employment status from the American Community Survey 5-year 2018 estimates', 'shortDescription': 'Employment status', 'example': 'Civilian labor force'}}, {'data': {'name': 'HealthInsurance', 'dataProviders': ['USCensus'], 'description': 'Health insurance coverage from the American Community Survey 5-year 2018 estimates', 'definitionSource': 'https://www2.census.gov/programs-surveys/acs/tech_docs/subject_definitions/2018_ACSSubjectDefinitions.pdf', 'shortDescription': 'Health insurance coverage', 'example': 'No health insurance'}}, {'data': {'name': 'Occupation', 'dataProviders': ['USCensus'], 'definitionSource': 'https://www2.census.gov/programs-surveys/acs/tech_docs/subject_definitions/2018_ACSSubjectDefinitions.pdf', 'description': 'Type of coccupation from the American Community Survey 5-year 2018 estimates', 'shortDescription': 'Type of occupation', 'example': 'Service occupation'}}, {'data': {'name': 'Computers', 'dataProviders': ['USCensus'], 'definitionSource': 'https://www2.census.gov/programs-surveys/acs/tech_docs/subject_definitions/2018_ACSSubjectDefinitions.pdf', 'description': 'Households that use computers and internet from the American Community Survey 5-year 2018 estimates', 'shortDescription': 'Computer and internet use', 'example': 'Broadband internet'}}, {'data': {'name': 'Economics', 'definitionSource': 'https://www2.census.gov/programs-surveys/acs/tech_docs/subject_definitions/2018_ACSSubjectDefinitions.pdf', 'description': 'Economic characteristics from the American Community Survey 5-year 2018 estimates', 'dataProviders': ['USCensus'], 'shortDescription': 'Economic characteristics', 'example': 'Income'}}, {'data': {'name': 'Commuting', 'dataProviders': ['USCensus'], 'definitionSource': 'https://www2.census.gov/programs-surveys/acs/tech_docs/subject_definitions/2018_ACSSubjectDefinitions.pdf', 'description': 'Commuting to work from the American Community Survey 5-year 2018 estimates', 'shortDescription': 'Commuting to work', 'example': 'Public transport'}}, {'data': {'name': 'Income', 'dataProviders': ['USCensus'], 'definitionSource': 'https://www2.census.gov/programs-surveys/acs/tech_docs/subject_definitions/2018_ACSSubjectDefinitions.pdf', 'description': 'Household income from the American Community Survey 5-year 2018 estimates', 'shortDescription': 'Household income', 'example': 'Mean household income'}}]}\n"
     ]
    }
   ],
   "source": [
    "neo_to_cytoscape(subgraph)"
   ]
  },
  {
   "cell_type": "code",
   "execution_count": 9,
   "metadata": {},
   "outputs": [],
   "source": [
    "import ipycytoscape"
   ]
  },
  {
   "cell_type": "code",
   "execution_count": 10,
   "metadata": {},
   "outputs": [],
   "source": [
    "data = {\n",
    "    'nodes': [\n",
    "        { 'data': { 'id': 'desktop', 'name': 'Cytoscape', 'href': 'http://cytoscape.org' } },\n",
    "        { 'data': { 'id': 'a', 'name': 'Grid', 'href': 'http://cytoscape.org' } },\n",
    "        { 'data': { 'id': 'b', 'name': 'Cola', 'href': 'http://cytoscape.org' } },\n",
    "        { 'data': { 'id': 'c', 'name': 'Popper', 'href': 'http://cytoscape.org' } },\n",
    "        { 'data': { 'id': 'js', 'name': 'Cytoscape.js', 'href': 'http://js.cytoscape.org' } }\n",
    "    ],\n",
    "    'edges': [\n",
    "        {'data': { 'source': 'desktop', 'target': 'js', 'name':'e1' }},\n",
    "        {'data': { 'source': 'a', 'target': 'b', 'name':'e2' }},\n",
    "        {'data': { 'source': 'a', 'target': 'c', 'name':'e3' }},\n",
    "        {'data': { 'source': 'b', 'target': 'c', 'name':'e4' }},\n",
    "        {'data': { 'source': 'js', 'target': 'b', 'name':'e5' }}\n",
    "    ]\n",
    "}"
   ]
  },
  {
   "cell_type": "code",
   "execution_count": 11,
   "metadata": {},
   "outputs": [],
   "source": [
    "cytoscapeobj = ipycytoscape.CytoscapeWidget()\n",
    "cytoscapeobj.graph.add_graph_from_json(data)"
   ]
  },
  {
   "cell_type": "code",
   "execution_count": 12,
   "metadata": {},
   "outputs": [],
   "source": [
    "cytoscapeobj.set_style([{\n",
    "                        'selector': 'node',\n",
    "                        'css': {\n",
    "                            'content': 'data(name)',\n",
    "                            'text-valign': 'center',\n",
    "                            'color': 'white',\n",
    "                            'text-outline-width': 2,\n",
    "                            'text-outline-color': 'green',\n",
    "                            'background-color': 'green'\n",
    "                        }\n",
    "                        },\n",
    "                        {\n",
    "                        'selector': 'edge',\n",
    "                        'css': {\n",
    "                            'content': 'data(name)',\n",
    "                            'text-valign': 'center',\n",
    "                            'color': 'black',\n",
    "                            'text-outline-color': 'green',\n",
    "                            'background-color': 'green'\n",
    "                        }\n",
    "                        },\n",
    "                        {\n",
    "                        'selector': ':selected',\n",
    "                        'css': {\n",
    "                            'background-color': 'black',\n",
    "                            'line-color': 'black',\n",
    "                            'target-arrow-color': 'black',\n",
    "                            'source-arrow-color': 'red'\n",
    "                        }}\n",
    "                        ])"
   ]
  },
  {
   "cell_type": "code",
   "execution_count": 13,
   "metadata": {},
   "outputs": [
    {
     "data": {
      "application/vnd.jupyter.widget-view+json": {
       "model_id": "3e4086e3e5a246aa90f3a269f0940f21",
       "version_major": 2,
       "version_minor": 0
      },
      "text/plain": [
       "CytoscapeWidget(cytoscape_layout={'name': 'cola'}, cytoscape_style=[{'selector': 'node', 'css': {'content': 'd…"
      ]
     },
     "metadata": {},
     "output_type": "display_data"
    }
   ],
   "source": [
    "cytoscapeobj"
   ]
  },
  {
   "cell_type": "code",
   "execution_count": null,
   "metadata": {},
   "outputs": [],
   "source": []
  },
  {
   "cell_type": "code",
   "execution_count": null,
   "metadata": {},
   "outputs": [],
   "source": []
  }
 ],
 "metadata": {
  "kernelspec": {
   "display_name": "Python 3",
   "language": "python",
   "name": "python3"
  },
  "language_info": {
   "codemirror_mode": {
    "name": "ipython",
    "version": 3
   },
   "file_extension": ".py",
   "mimetype": "text/x-python",
   "name": "python",
   "nbconvert_exporter": "python",
   "pygments_lexer": "ipython3",
   "version": "3.7.9"
  }
 },
 "nbformat": 4,
 "nbformat_minor": 4
}

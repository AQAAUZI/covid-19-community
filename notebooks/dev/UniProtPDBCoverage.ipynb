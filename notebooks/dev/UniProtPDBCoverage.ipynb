{
 "cells": [
  {
   "cell_type": "markdown",
   "metadata": {},
   "source": [
    "# UniProt Sequence Coverage by 3D Structures in PDB"
   ]
  },
  {
   "cell_type": "markdown",
   "metadata": {},
   "source": [
    "This notebook determines the coverage of UniProtKB sequences on a per protein chain basis for protein structures in the PDB."
   ]
  },
  {
   "cell_type": "code",
   "execution_count": 1,
   "metadata": {},
   "outputs": [],
   "source": [
    "import pandas as pd\n",
    "import matplotlib.pyplot as plt"
   ]
  },
  {
   "cell_type": "markdown",
   "metadata": {},
   "source": [
    "## Get UniProtKB Data\n",
    "UniProt id, preferred gene name, and sequence length ([see column names for RESTful web services](https://www.uniprot.org/help/uniprotkb_column_names))."
   ]
  },
  {
   "cell_type": "code",
   "execution_count": 2,
   "metadata": {},
   "outputs": [],
   "source": [
    "taxonomy_id = 9606\n",
    "taxonomy_id = 2697049\n",
    "columns = 'id,genes(PREFERRED),length'"
   ]
  },
  {
   "cell_type": "code",
   "execution_count": 3,
   "metadata": {},
   "outputs": [],
   "source": [
    "url = f'https://www.uniprot.org/uniprot/?query=organism:{taxonomy_id}&columns={columns}&format=tab'"
   ]
  },
  {
   "cell_type": "code",
   "execution_count": 22,
   "metadata": {
    "scrolled": true
   },
   "outputs": [
    {
     "data": {
      "text/html": [
       "<div>\n",
       "<style scoped>\n",
       "    .dataframe tbody tr th:only-of-type {\n",
       "        vertical-align: middle;\n",
       "    }\n",
       "\n",
       "    .dataframe tbody tr th {\n",
       "        vertical-align: top;\n",
       "    }\n",
       "\n",
       "    .dataframe thead th {\n",
       "        text-align: right;\n",
       "    }\n",
       "</style>\n",
       "<table border=\"1\" class=\"dataframe\">\n",
       "  <thead>\n",
       "    <tr style=\"text-align: right;\">\n",
       "      <th></th>\n",
       "      <th>Entry</th>\n",
       "      <th>GENE</th>\n",
       "      <th>Length</th>\n",
       "    </tr>\n",
       "  </thead>\n",
       "  <tbody>\n",
       "    <tr>\n",
       "      <th>0</th>\n",
       "      <td>P0DTC2</td>\n",
       "      <td>S</td>\n",
       "      <td>1273</td>\n",
       "    </tr>\n",
       "    <tr>\n",
       "      <th>1</th>\n",
       "      <td>P0DTC9</td>\n",
       "      <td>N</td>\n",
       "      <td>419</td>\n",
       "    </tr>\n",
       "    <tr>\n",
       "      <th>2</th>\n",
       "      <td>P0DTC1</td>\n",
       "      <td>NaN</td>\n",
       "      <td>4405</td>\n",
       "    </tr>\n",
       "    <tr>\n",
       "      <th>3</th>\n",
       "      <td>P0DTC7</td>\n",
       "      <td>NaN</td>\n",
       "      <td>121</td>\n",
       "    </tr>\n",
       "    <tr>\n",
       "      <th>4</th>\n",
       "      <td>P0DTD2</td>\n",
       "      <td>NaN</td>\n",
       "      <td>97</td>\n",
       "    </tr>\n",
       "    <tr>\n",
       "      <th>...</th>\n",
       "      <td>...</td>\n",
       "      <td>...</td>\n",
       "      <td>...</td>\n",
       "    </tr>\n",
       "    <tr>\n",
       "      <th>115</th>\n",
       "      <td>A0A679G9E9</td>\n",
       "      <td>S</td>\n",
       "      <td>1273</td>\n",
       "    </tr>\n",
       "    <tr>\n",
       "      <th>116</th>\n",
       "      <td>A0A6C0NA72</td>\n",
       "      <td>M</td>\n",
       "      <td>222</td>\n",
       "    </tr>\n",
       "    <tr>\n",
       "      <th>117</th>\n",
       "      <td>A0A6B9VKN0</td>\n",
       "      <td>orf8</td>\n",
       "      <td>121</td>\n",
       "    </tr>\n",
       "    <tr>\n",
       "      <th>118</th>\n",
       "      <td>A0A6C0N6C6</td>\n",
       "      <td>orf8</td>\n",
       "      <td>121</td>\n",
       "    </tr>\n",
       "    <tr>\n",
       "      <th>119</th>\n",
       "      <td>A0A6C0R2B4</td>\n",
       "      <td>orf6</td>\n",
       "      <td>61</td>\n",
       "    </tr>\n",
       "  </tbody>\n",
       "</table>\n",
       "<p>120 rows × 3 columns</p>\n",
       "</div>"
      ],
      "text/plain": [
       "          Entry  GENE  Length\n",
       "0        P0DTC2     S    1273\n",
       "1        P0DTC9     N     419\n",
       "2        P0DTC1   NaN    4405\n",
       "3        P0DTC7   NaN     121\n",
       "4        P0DTD2   NaN      97\n",
       "..          ...   ...     ...\n",
       "115  A0A679G9E9     S    1273\n",
       "116  A0A6C0NA72     M     222\n",
       "117  A0A6B9VKN0  orf8     121\n",
       "118  A0A6C0N6C6  orf8     121\n",
       "119  A0A6C0R2B4  orf6      61\n",
       "\n",
       "[120 rows x 3 columns]"
      ]
     },
     "execution_count": 22,
     "metadata": {},
     "output_type": "execute_result"
    }
   ],
   "source": [
    "unp = pd.read_csv(url, sep='\\t')\n",
    "unp.rename(columns={'Gene names  (primary )': 'GENE'}, inplace=True)  ## create name without spaces\n",
    "unp.head(1000)"
   ]
  },
  {
   "cell_type": "code",
   "execution_count": 5,
   "metadata": {},
   "outputs": [
    {
     "name": "stdout",
     "output_type": "stream",
     "text": [
      "Unique proteins:  120 for organism: 2697049\n",
      "Unique genes   :  20 for organism: 2697049\n"
     ]
    }
   ],
   "source": [
    "print('Unique proteins: ', len(unp['Entry'].unique()), 'for organism:', taxonomy_id)\n",
    "print('Unique genes   : ', len(unp['GENE'].unique()), 'for organism:', taxonomy_id)"
   ]
  },
  {
   "cell_type": "markdown",
   "metadata": {},
   "source": [
    "## Get UniProt segments covered by PDB residues\n",
    "Get continuous segments of the UniProt sequence covered by PDB residues from EBI [SIFTS](https://www.ebi.ac.uk/pdbe/docs/sifts/) project."
   ]
  },
  {
   "cell_type": "code",
   "execution_count": 8,
   "metadata": {},
   "outputs": [],
   "source": [
    "sifts_url = 'http://ftp.ebi.ac.uk/pub/databases/msd/sifts/flatfiles/tsv/uniprot_segments_observed.tsv.gz'"
   ]
  },
  {
   "cell_type": "code",
   "execution_count": 9,
   "metadata": {
    "scrolled": true
   },
   "outputs": [
    {
     "data": {
      "text/html": [
       "<div>\n",
       "<style scoped>\n",
       "    .dataframe tbody tr th:only-of-type {\n",
       "        vertical-align: middle;\n",
       "    }\n",
       "\n",
       "    .dataframe tbody tr th {\n",
       "        vertical-align: top;\n",
       "    }\n",
       "\n",
       "    .dataframe thead th {\n",
       "        text-align: right;\n",
       "    }\n",
       "</style>\n",
       "<table border=\"1\" class=\"dataframe\">\n",
       "  <thead>\n",
       "    <tr style=\"text-align: right;\">\n",
       "      <th></th>\n",
       "      <th>PDB</th>\n",
       "      <th>CHAIN</th>\n",
       "      <th>SP_PRIMARY</th>\n",
       "      <th>RES_BEG</th>\n",
       "      <th>RES_END</th>\n",
       "      <th>PDB_BEG</th>\n",
       "      <th>PDB_END</th>\n",
       "      <th>SP_BEG</th>\n",
       "      <th>SP_END</th>\n",
       "    </tr>\n",
       "  </thead>\n",
       "  <tbody>\n",
       "    <tr>\n",
       "      <th>0</th>\n",
       "      <td>128l</td>\n",
       "      <td>A</td>\n",
       "      <td>P00720</td>\n",
       "      <td>1</td>\n",
       "      <td>162</td>\n",
       "      <td>1</td>\n",
       "      <td>162</td>\n",
       "      <td>1</td>\n",
       "      <td>162</td>\n",
       "    </tr>\n",
       "    <tr>\n",
       "      <th>1</th>\n",
       "      <td>113l</td>\n",
       "      <td>A</td>\n",
       "      <td>P00720</td>\n",
       "      <td>1</td>\n",
       "      <td>162</td>\n",
       "      <td>1</td>\n",
       "      <td>162</td>\n",
       "      <td>1</td>\n",
       "      <td>162</td>\n",
       "    </tr>\n",
       "    <tr>\n",
       "      <th>2</th>\n",
       "      <td>123l</td>\n",
       "      <td>A</td>\n",
       "      <td>P00720</td>\n",
       "      <td>1</td>\n",
       "      <td>162</td>\n",
       "      <td>1</td>\n",
       "      <td>162</td>\n",
       "      <td>1</td>\n",
       "      <td>162</td>\n",
       "    </tr>\n",
       "    <tr>\n",
       "      <th>3</th>\n",
       "      <td>105m</td>\n",
       "      <td>A</td>\n",
       "      <td>P02185</td>\n",
       "      <td>1</td>\n",
       "      <td>153</td>\n",
       "      <td>1</td>\n",
       "      <td>153</td>\n",
       "      <td>2</td>\n",
       "      <td>154</td>\n",
       "    </tr>\n",
       "    <tr>\n",
       "      <th>4</th>\n",
       "      <td>120l</td>\n",
       "      <td>A</td>\n",
       "      <td>P00720</td>\n",
       "      <td>1</td>\n",
       "      <td>162</td>\n",
       "      <td>1</td>\n",
       "      <td>162</td>\n",
       "      <td>1</td>\n",
       "      <td>162</td>\n",
       "    </tr>\n",
       "  </tbody>\n",
       "</table>\n",
       "</div>"
      ],
      "text/plain": [
       "    PDB CHAIN SP_PRIMARY  RES_BEG  RES_END PDB_BEG PDB_END  SP_BEG  SP_END\n",
       "0  128l     A     P00720        1      162       1     162       1     162\n",
       "1  113l     A     P00720        1      162       1     162       1     162\n",
       "2  123l     A     P00720        1      162       1     162       1     162\n",
       "3  105m     A     P02185        1      153       1     153       2     154\n",
       "4  120l     A     P00720        1      162       1     162       1     162"
      ]
     },
     "execution_count": 9,
     "metadata": {},
     "output_type": "execute_result"
    }
   ],
   "source": [
    "segments = pd.read_csv(sifts_url, sep='\\t', skiprows=1)\n",
    "segments.head()"
   ]
  },
  {
   "cell_type": "markdown",
   "metadata": {},
   "source": [
    "Calculate length of each continuous segment. A chain may have one or more segments."
   ]
  },
  {
   "cell_type": "code",
   "execution_count": 10,
   "metadata": {},
   "outputs": [],
   "source": [
    "segments['SEG_LENGTH'] = segments['SP_END'] - segments['SP_BEG'] + 1"
   ]
  },
  {
   "cell_type": "markdown",
   "metadata": {},
   "source": [
    "Create a unique key for each chain. Use upper case for PDB IDs. Note, Chain IDs are case sensitive!"
   ]
  },
  {
   "cell_type": "code",
   "execution_count": 11,
   "metadata": {},
   "outputs": [],
   "source": [
    "segments['PDB_CHAIN_ID'] = segments['PDB'].str.upper()  + \".\" + segments['CHAIN']\n",
    "segments = segments[['PDB_CHAIN_ID','SP_PRIMARY','SP_BEG','SP_END','SEG_LENGTH']]"
   ]
  },
  {
   "cell_type": "code",
   "execution_count": 12,
   "metadata": {
    "scrolled": true
   },
   "outputs": [
    {
     "data": {
      "text/html": [
       "<div>\n",
       "<style scoped>\n",
       "    .dataframe tbody tr th:only-of-type {\n",
       "        vertical-align: middle;\n",
       "    }\n",
       "\n",
       "    .dataframe tbody tr th {\n",
       "        vertical-align: top;\n",
       "    }\n",
       "\n",
       "    .dataframe thead th {\n",
       "        text-align: right;\n",
       "    }\n",
       "</style>\n",
       "<table border=\"1\" class=\"dataframe\">\n",
       "  <thead>\n",
       "    <tr style=\"text-align: right;\">\n",
       "      <th></th>\n",
       "      <th>PDB_CHAIN_ID</th>\n",
       "      <th>SP_PRIMARY</th>\n",
       "      <th>SP_BEG</th>\n",
       "      <th>SP_END</th>\n",
       "      <th>SEG_LENGTH</th>\n",
       "    </tr>\n",
       "  </thead>\n",
       "  <tbody>\n",
       "    <tr>\n",
       "      <th>0</th>\n",
       "      <td>128L.A</td>\n",
       "      <td>P00720</td>\n",
       "      <td>1</td>\n",
       "      <td>162</td>\n",
       "      <td>162</td>\n",
       "    </tr>\n",
       "    <tr>\n",
       "      <th>1</th>\n",
       "      <td>113L.A</td>\n",
       "      <td>P00720</td>\n",
       "      <td>1</td>\n",
       "      <td>162</td>\n",
       "      <td>162</td>\n",
       "    </tr>\n",
       "    <tr>\n",
       "      <th>2</th>\n",
       "      <td>123L.A</td>\n",
       "      <td>P00720</td>\n",
       "      <td>1</td>\n",
       "      <td>162</td>\n",
       "      <td>162</td>\n",
       "    </tr>\n",
       "    <tr>\n",
       "      <th>3</th>\n",
       "      <td>105M.A</td>\n",
       "      <td>P02185</td>\n",
       "      <td>2</td>\n",
       "      <td>154</td>\n",
       "      <td>153</td>\n",
       "    </tr>\n",
       "    <tr>\n",
       "      <th>4</th>\n",
       "      <td>120L.A</td>\n",
       "      <td>P00720</td>\n",
       "      <td>1</td>\n",
       "      <td>162</td>\n",
       "      <td>162</td>\n",
       "    </tr>\n",
       "  </tbody>\n",
       "</table>\n",
       "</div>"
      ],
      "text/plain": [
       "  PDB_CHAIN_ID SP_PRIMARY  SP_BEG  SP_END  SEG_LENGTH\n",
       "0       128L.A     P00720       1     162         162\n",
       "1       113L.A     P00720       1     162         162\n",
       "2       123L.A     P00720       1     162         162\n",
       "3       105M.A     P02185       2     154         153\n",
       "4       120L.A     P00720       1     162         162"
      ]
     },
     "execution_count": 12,
     "metadata": {},
     "output_type": "execute_result"
    }
   ],
   "source": [
    "segments.head()"
   ]
  },
  {
   "cell_type": "markdown",
   "metadata": {},
   "source": [
    "## Create the intersection between the two dataframes"
   ]
  },
  {
   "cell_type": "code",
   "execution_count": 13,
   "metadata": {},
   "outputs": [],
   "source": [
    "coverage = segments.merge(unp, left_on=['SP_PRIMARY'], right_on=['Entry'])"
   ]
  },
  {
   "cell_type": "markdown",
   "metadata": {},
   "source": [
    "Calculate the coverage per segment."
   ]
  },
  {
   "cell_type": "code",
   "execution_count": 14,
   "metadata": {},
   "outputs": [
    {
     "data": {
      "text/html": [
       "<div>\n",
       "<style scoped>\n",
       "    .dataframe tbody tr th:only-of-type {\n",
       "        vertical-align: middle;\n",
       "    }\n",
       "\n",
       "    .dataframe tbody tr th {\n",
       "        vertical-align: top;\n",
       "    }\n",
       "\n",
       "    .dataframe thead th {\n",
       "        text-align: right;\n",
       "    }\n",
       "</style>\n",
       "<table border=\"1\" class=\"dataframe\">\n",
       "  <thead>\n",
       "    <tr style=\"text-align: right;\">\n",
       "      <th></th>\n",
       "      <th>PDB_CHAIN_ID</th>\n",
       "      <th>SP_PRIMARY</th>\n",
       "      <th>SP_BEG</th>\n",
       "      <th>SP_END</th>\n",
       "      <th>SEG_LENGTH</th>\n",
       "      <th>Entry</th>\n",
       "      <th>GENE</th>\n",
       "      <th>Length</th>\n",
       "      <th>coverage</th>\n",
       "    </tr>\n",
       "  </thead>\n",
       "  <tbody>\n",
       "    <tr>\n",
       "      <th>0</th>\n",
       "      <td>5RE9.A</td>\n",
       "      <td>P0DTD1</td>\n",
       "      <td>3264</td>\n",
       "      <td>3567</td>\n",
       "      <td>304</td>\n",
       "      <td>P0DTD1</td>\n",
       "      <td>rep</td>\n",
       "      <td>7096</td>\n",
       "      <td>0.042841</td>\n",
       "    </tr>\n",
       "    <tr>\n",
       "      <th>1</th>\n",
       "      <td>5REE.A</td>\n",
       "      <td>P0DTD1</td>\n",
       "      <td>3264</td>\n",
       "      <td>3567</td>\n",
       "      <td>304</td>\n",
       "      <td>P0DTD1</td>\n",
       "      <td>rep</td>\n",
       "      <td>7096</td>\n",
       "      <td>0.042841</td>\n",
       "    </tr>\n",
       "    <tr>\n",
       "      <th>2</th>\n",
       "      <td>5REN.A</td>\n",
       "      <td>P0DTD1</td>\n",
       "      <td>3264</td>\n",
       "      <td>3567</td>\n",
       "      <td>304</td>\n",
       "      <td>P0DTD1</td>\n",
       "      <td>rep</td>\n",
       "      <td>7096</td>\n",
       "      <td>0.042841</td>\n",
       "    </tr>\n",
       "    <tr>\n",
       "      <th>3</th>\n",
       "      <td>5REI.A</td>\n",
       "      <td>P0DTD1</td>\n",
       "      <td>3264</td>\n",
       "      <td>3567</td>\n",
       "      <td>304</td>\n",
       "      <td>P0DTD1</td>\n",
       "      <td>rep</td>\n",
       "      <td>7096</td>\n",
       "      <td>0.042841</td>\n",
       "    </tr>\n",
       "    <tr>\n",
       "      <th>4</th>\n",
       "      <td>5REW.A</td>\n",
       "      <td>P0DTD1</td>\n",
       "      <td>3264</td>\n",
       "      <td>3567</td>\n",
       "      <td>304</td>\n",
       "      <td>P0DTD1</td>\n",
       "      <td>rep</td>\n",
       "      <td>7096</td>\n",
       "      <td>0.042841</td>\n",
       "    </tr>\n",
       "  </tbody>\n",
       "</table>\n",
       "</div>"
      ],
      "text/plain": [
       "  PDB_CHAIN_ID SP_PRIMARY  SP_BEG  SP_END  SEG_LENGTH   Entry GENE  Length  \\\n",
       "0       5RE9.A     P0DTD1    3264    3567         304  P0DTD1  rep    7096   \n",
       "1       5REE.A     P0DTD1    3264    3567         304  P0DTD1  rep    7096   \n",
       "2       5REN.A     P0DTD1    3264    3567         304  P0DTD1  rep    7096   \n",
       "3       5REI.A     P0DTD1    3264    3567         304  P0DTD1  rep    7096   \n",
       "4       5REW.A     P0DTD1    3264    3567         304  P0DTD1  rep    7096   \n",
       "\n",
       "   coverage  \n",
       "0  0.042841  \n",
       "1  0.042841  \n",
       "2  0.042841  \n",
       "3  0.042841  \n",
       "4  0.042841  "
      ]
     },
     "execution_count": 14,
     "metadata": {},
     "output_type": "execute_result"
    }
   ],
   "source": [
    "coverage['coverage'] = coverage['SEG_LENGTH'] / coverage['Length']\n",
    "coverage.head()"
   ]
  },
  {
   "cell_type": "markdown",
   "metadata": {},
   "source": [
    "Sum up the coverage for each unique chain."
   ]
  },
  {
   "cell_type": "code",
   "execution_count": 15,
   "metadata": {
    "scrolled": true
   },
   "outputs": [
    {
     "data": {
      "text/html": [
       "<div>\n",
       "<style scoped>\n",
       "    .dataframe tbody tr th:only-of-type {\n",
       "        vertical-align: middle;\n",
       "    }\n",
       "\n",
       "    .dataframe tbody tr th {\n",
       "        vertical-align: top;\n",
       "    }\n",
       "\n",
       "    .dataframe thead th {\n",
       "        text-align: right;\n",
       "    }\n",
       "</style>\n",
       "<table border=\"1\" class=\"dataframe\">\n",
       "  <thead>\n",
       "    <tr style=\"text-align: right;\">\n",
       "      <th></th>\n",
       "      <th>PDB_CHAIN_ID</th>\n",
       "      <th>SP_PRIMARY</th>\n",
       "      <th>GENE</th>\n",
       "      <th>coverage</th>\n",
       "    </tr>\n",
       "  </thead>\n",
       "  <tbody>\n",
       "    <tr>\n",
       "      <th>0</th>\n",
       "      <td>5R7Y.A</td>\n",
       "      <td>P0DTD1</td>\n",
       "      <td>rep</td>\n",
       "      <td>0.042841</td>\n",
       "    </tr>\n",
       "    <tr>\n",
       "      <th>1</th>\n",
       "      <td>5R7Z.A</td>\n",
       "      <td>P0DTD1</td>\n",
       "      <td>rep</td>\n",
       "      <td>0.042841</td>\n",
       "    </tr>\n",
       "    <tr>\n",
       "      <th>2</th>\n",
       "      <td>5R80.A</td>\n",
       "      <td>P0DTD1</td>\n",
       "      <td>rep</td>\n",
       "      <td>0.042841</td>\n",
       "    </tr>\n",
       "    <tr>\n",
       "      <th>3</th>\n",
       "      <td>5R81.A</td>\n",
       "      <td>P0DTD1</td>\n",
       "      <td>rep</td>\n",
       "      <td>0.042841</td>\n",
       "    </tr>\n",
       "    <tr>\n",
       "      <th>4</th>\n",
       "      <td>5R82.A</td>\n",
       "      <td>P0DTD1</td>\n",
       "      <td>rep</td>\n",
       "      <td>0.042841</td>\n",
       "    </tr>\n",
       "  </tbody>\n",
       "</table>\n",
       "</div>"
      ],
      "text/plain": [
       "  PDB_CHAIN_ID SP_PRIMARY GENE  coverage\n",
       "0       5R7Y.A     P0DTD1  rep  0.042841\n",
       "1       5R7Z.A     P0DTD1  rep  0.042841\n",
       "2       5R80.A     P0DTD1  rep  0.042841\n",
       "3       5R81.A     P0DTD1  rep  0.042841\n",
       "4       5R82.A     P0DTD1  rep  0.042841"
      ]
     },
     "execution_count": 15,
     "metadata": {},
     "output_type": "execute_result"
    }
   ],
   "source": [
    "chain_cov = coverage.groupby(['PDB_CHAIN_ID','SP_PRIMARY','GENE']).sum()[['coverage']]\n",
    "chain_cov = chain_cov[(chain_cov['coverage'] <= 1.0)]  # there are a few cases where coverage > 1 (e.g., P69905, P01579, Q15848)\n",
    "chain_cov = chain_cov.reset_index()  # convert grouped dataframe to a regular dataframe\n",
    "chain_cov.head()"
   ]
  },
  {
   "cell_type": "code",
   "execution_count": 16,
   "metadata": {},
   "outputs": [
    {
     "name": "stdout",
     "output_type": "stream",
     "text": [
      "Unique chains    : 445\n",
      "Unique proteins  : 3\n",
      "Unique genes     : 3\n",
      "Average coverage : 0.16205190230276845\n",
      "Median coverage  : 0.04284103720405862\n"
     ]
    }
   ],
   "source": [
    "print('Unique chains    :', chain_cov.shape[0])\n",
    "print('Unique proteins  :', len(chain_cov['SP_PRIMARY'].unique()))\n",
    "print('Unique genes     :', len(chain_cov['GENE'].unique()))\n",
    "print('Average coverage :', chain_cov['coverage'].mean())\n",
    "print('Median coverage  :', chain_cov['coverage'].median())"
   ]
  },
  {
   "cell_type": "code",
   "execution_count": 17,
   "metadata": {},
   "outputs": [
    {
     "data": {
      "image/png": "[encoded data removed]",
      "text/plain": [
       "<Figure size 432x288 with 1 Axes>"
      ]
     },
     "metadata": {
      "needs_background": "light"
     },
     "output_type": "display_data"
    }
   ],
   "source": [
    "chain_cov.hist(bins=100);"
   ]
  },
  {
   "cell_type": "code",
   "execution_count": 18,
   "metadata": {},
   "outputs": [],
   "source": [
    "coverage['pdbId'] = coverage['PDB_CHAIN_ID'].str[:4]"
   ]
  },
  {
   "cell_type": "code",
   "execution_count": 19,
   "metadata": {},
   "outputs": [
    {
     "data": {
      "text/html": [
       "<div>\n",
       "<style scoped>\n",
       "    .dataframe tbody tr th:only-of-type {\n",
       "        vertical-align: middle;\n",
       "    }\n",
       "\n",
       "    .dataframe tbody tr th {\n",
       "        vertical-align: top;\n",
       "    }\n",
       "\n",
       "    .dataframe thead th {\n",
       "        text-align: right;\n",
       "    }\n",
       "</style>\n",
       "<table border=\"1\" class=\"dataframe\">\n",
       "  <thead>\n",
       "    <tr style=\"text-align: right;\">\n",
       "      <th></th>\n",
       "      <th>PDB_CHAIN_ID</th>\n",
       "      <th>SP_PRIMARY</th>\n",
       "      <th>SP_BEG</th>\n",
       "      <th>SP_END</th>\n",
       "      <th>SEG_LENGTH</th>\n",
       "      <th>Entry</th>\n",
       "      <th>GENE</th>\n",
       "      <th>Length</th>\n",
       "      <th>coverage</th>\n",
       "      <th>pdbId</th>\n",
       "    </tr>\n",
       "  </thead>\n",
       "  <tbody>\n",
       "    <tr>\n",
       "      <th>0</th>\n",
       "      <td>5RE9.A</td>\n",
       "      <td>P0DTD1</td>\n",
       "      <td>3264</td>\n",
       "      <td>3567</td>\n",
       "      <td>304</td>\n",
       "      <td>P0DTD1</td>\n",
       "      <td>rep</td>\n",
       "      <td>7096</td>\n",
       "      <td>0.042841</td>\n",
       "      <td>5RE9</td>\n",
       "    </tr>\n",
       "    <tr>\n",
       "      <th>1</th>\n",
       "      <td>5REE.A</td>\n",
       "      <td>P0DTD1</td>\n",
       "      <td>3264</td>\n",
       "      <td>3567</td>\n",
       "      <td>304</td>\n",
       "      <td>P0DTD1</td>\n",
       "      <td>rep</td>\n",
       "      <td>7096</td>\n",
       "      <td>0.042841</td>\n",
       "      <td>5REE</td>\n",
       "    </tr>\n",
       "    <tr>\n",
       "      <th>2</th>\n",
       "      <td>5REN.A</td>\n",
       "      <td>P0DTD1</td>\n",
       "      <td>3264</td>\n",
       "      <td>3567</td>\n",
       "      <td>304</td>\n",
       "      <td>P0DTD1</td>\n",
       "      <td>rep</td>\n",
       "      <td>7096</td>\n",
       "      <td>0.042841</td>\n",
       "      <td>5REN</td>\n",
       "    </tr>\n",
       "    <tr>\n",
       "      <th>3</th>\n",
       "      <td>5REI.A</td>\n",
       "      <td>P0DTD1</td>\n",
       "      <td>3264</td>\n",
       "      <td>3567</td>\n",
       "      <td>304</td>\n",
       "      <td>P0DTD1</td>\n",
       "      <td>rep</td>\n",
       "      <td>7096</td>\n",
       "      <td>0.042841</td>\n",
       "      <td>5REI</td>\n",
       "    </tr>\n",
       "    <tr>\n",
       "      <th>4</th>\n",
       "      <td>5REW.A</td>\n",
       "      <td>P0DTD1</td>\n",
       "      <td>3264</td>\n",
       "      <td>3567</td>\n",
       "      <td>304</td>\n",
       "      <td>P0DTD1</td>\n",
       "      <td>rep</td>\n",
       "      <td>7096</td>\n",
       "      <td>0.042841</td>\n",
       "      <td>5REW</td>\n",
       "    </tr>\n",
       "  </tbody>\n",
       "</table>\n",
       "</div>"
      ],
      "text/plain": [
       "  PDB_CHAIN_ID SP_PRIMARY  SP_BEG  SP_END  SEG_LENGTH   Entry GENE  Length  \\\n",
       "0       5RE9.A     P0DTD1    3264    3567         304  P0DTD1  rep    7096   \n",
       "1       5REE.A     P0DTD1    3264    3567         304  P0DTD1  rep    7096   \n",
       "2       5REN.A     P0DTD1    3264    3567         304  P0DTD1  rep    7096   \n",
       "3       5REI.A     P0DTD1    3264    3567         304  P0DTD1  rep    7096   \n",
       "4       5REW.A     P0DTD1    3264    3567         304  P0DTD1  rep    7096   \n",
       "\n",
       "   coverage pdbId  \n",
       "0  0.042841  5RE9  \n",
       "1  0.042841  5REE  \n",
       "2  0.042841  5REN  \n",
       "3  0.042841  5REI  \n",
       "4  0.042841  5REW  "
      ]
     },
     "execution_count": 19,
     "metadata": {},
     "output_type": "execute_result"
    }
   ],
   "source": [
    "coverage.head()"
   ]
  },
  {
   "cell_type": "code",
   "execution_count": 20,
   "metadata": {},
   "outputs": [
    {
     "data": {
      "text/plain": [
       "271"
      ]
     },
     "execution_count": 20,
     "metadata": {},
     "output_type": "execute_result"
    }
   ],
   "source": [
    "len(coverage['pdbId'].unique())"
   ]
  },
  {
   "cell_type": "code",
   "execution_count": 21,
   "metadata": {},
   "outputs": [
    {
     "data": {
      "text/plain": [
       "array(['P0DTD1', 'P0DTC9', 'P0DTC2', 'P0DTC1', 'P0DTC7', 'P0DTD2',\n",
       "       'P0DTC3'], dtype=object)"
      ]
     },
     "execution_count": 21,
     "metadata": {},
     "output_type": "execute_result"
    }
   ],
   "source": [
    "coverage['SP_PRIMARY'].unique()"
   ]
  },
  {
   "cell_type": "code",
   "execution_count": null,
   "metadata": {},
   "outputs": [],
   "source": [
    "coverage.info()"
   ]
  },
  {
   "cell_type": "code",
   "execution_count": null,
   "metadata": {},
   "outputs": [],
   "source": []
  }
 ],
 "metadata": {
  "kernelspec": {
   "display_name": "Python 3",
   "language": "python",
   "name": "python3"
  },
  "language_info": {
   "codemirror_mode": {
    "name": "ipython",
    "version": 3
   },
   "file_extension": ".py",
   "mimetype": "text/x-python",
   "name": "python",
   "nbconvert_exporter": "python",
   "pygments_lexer": "ipython3",
   "version": "3.8.3"
  }
 },
 "nbformat": 4,
 "nbformat_minor": 4
}

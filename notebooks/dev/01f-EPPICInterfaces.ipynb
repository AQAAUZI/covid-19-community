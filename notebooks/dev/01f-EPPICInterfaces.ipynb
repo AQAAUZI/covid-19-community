{
 "cells": [
  {
   "cell_type": "markdown",
   "metadata": {},
   "source": [
    "# Downloads EPPIC Interface Information\n",
    "**[Work in progress]**\n",
    "\n",
    "This notebook processes 3D biological interface info from EPPIC\n",
    "\n",
    "Data sources: \n",
    "[EPPIC](http://www.eppic-web.org/rest/)\n",
    "\n",
    "Author: Peter Rose (pwrose@ucsd.edu)"
   ]
  },
  {
   "cell_type": "code",
   "execution_count": 1,
   "metadata": {},
   "outputs": [],
   "source": [
    "import os\n",
    "import numpy as np\n",
    "import pandas as pd\n",
    "import requests\n",
    "import json\n",
    "import dateutil\n",
    "import urllib\n",
    "from pathlib import Path\n",
    "from py2neo import Graph"
   ]
  },
  {
   "cell_type": "code",
   "execution_count": 2,
   "metadata": {},
   "outputs": [],
   "source": [
    "pd.options.display.max_rows = None  # display all rows\n",
    "pd.options.display.max_columns = None  # display all columsns"
   ]
  },
  {
   "cell_type": "code",
   "execution_count": 3,
   "metadata": {},
   "outputs": [
    {
     "name": "stdout",
     "output_type": "stream",
     "text": [
      "/Users/peter/Library/Application Support/com.Neo4j.Relate/data/dbmss/dbms-8bf637fc-0d20-4d9f-9c6f-f7e72e92a4da/import\n"
     ]
    }
   ],
   "source": [
    "NEO4J_IMPORT = Path(os.getenv('NEO4J_IMPORT'))\n",
    "print(NEO4J_IMPORT)"
   ]
  },
  {
   "cell_type": "code",
   "execution_count": 4,
   "metadata": {},
   "outputs": [],
   "source": [
    "# Create a directory to cache variation data that could not be parsed\n",
    "CACHE_PROCESSED = Path(NEO4J_IMPORT / 'cache/domain_interactions/processed')\n",
    "CACHE_PROCESSED.mkdir(parents=True, exist_ok=True)"
   ]
  },
  {
   "cell_type": "code",
   "execution_count": 5,
   "metadata": {},
   "outputs": [],
   "source": [
    "# Create a directory to cache variation data that could not be parsed\n",
    "CACHE_SKIPPED = Path(NEO4J_IMPORT / 'cache/domain_interactions/skipped')\n",
    "CACHE_SKIPPED.mkdir(parents=True, exist_ok=True)"
   ]
  },
  {
   "cell_type": "markdown",
   "metadata": {},
   "source": [
    "### Get PDB chain - UniProt mappings"
   ]
  },
  {
   "cell_type": "code",
   "execution_count": 6,
   "metadata": {},
   "outputs": [],
   "source": [
    "sifts_url = 'ftp://ftp.ebi.ac.uk/pub/databases/msd/sifts/flatfiles/tsv/pdb_chain_uniprot.tsv.gz'"
   ]
  },
  {
   "cell_type": "code",
   "execution_count": 7,
   "metadata": {},
   "outputs": [
    {
     "name": "stdout",
     "output_type": "stream",
     "text": [
      "Number of chains: 548236\n"
     ]
    },
    {
     "data": {
      "text/html": [
       "<div>\n",
       "<style scoped>\n",
       "    .dataframe tbody tr th:only-of-type {\n",
       "        vertical-align: middle;\n",
       "    }\n",
       "\n",
       "    .dataframe tbody tr th {\n",
       "        vertical-align: top;\n",
       "    }\n",
       "\n",
       "    .dataframe thead th {\n",
       "        text-align: right;\n",
       "    }\n",
       "</style>\n",
       "<table border=\"1\" class=\"dataframe\">\n",
       "  <thead>\n",
       "    <tr style=\"text-align: right;\">\n",
       "      <th></th>\n",
       "      <th>pdbId</th>\n",
       "      <th>chain1</th>\n",
       "      <th>proteinAccession1</th>\n",
       "      <th>pdbChainId</th>\n",
       "      <th>chain2</th>\n",
       "      <th>proteinAccession2</th>\n",
       "    </tr>\n",
       "  </thead>\n",
       "  <tbody>\n",
       "    <tr>\n",
       "      <th>0</th>\n",
       "      <td>101M</td>\n",
       "      <td>A</td>\n",
       "      <td>P02185</td>\n",
       "      <td>pdb:101M.A</td>\n",
       "      <td>A</td>\n",
       "      <td>P02185</td>\n",
       "    </tr>\n",
       "    <tr>\n",
       "      <th>1</th>\n",
       "      <td>102L</td>\n",
       "      <td>A</td>\n",
       "      <td>P00720</td>\n",
       "      <td>pdb:102L.A</td>\n",
       "      <td>A</td>\n",
       "      <td>P00720</td>\n",
       "    </tr>\n",
       "    <tr>\n",
       "      <th>2</th>\n",
       "      <td>102L</td>\n",
       "      <td>A</td>\n",
       "      <td>P00720</td>\n",
       "      <td>pdb:102L.A</td>\n",
       "      <td>A</td>\n",
       "      <td>P00720</td>\n",
       "    </tr>\n",
       "    <tr>\n",
       "      <th>3</th>\n",
       "      <td>102M</td>\n",
       "      <td>A</td>\n",
       "      <td>P02185</td>\n",
       "      <td>pdb:102M.A</td>\n",
       "      <td>A</td>\n",
       "      <td>P02185</td>\n",
       "    </tr>\n",
       "    <tr>\n",
       "      <th>4</th>\n",
       "      <td>103L</td>\n",
       "      <td>A</td>\n",
       "      <td>P00720</td>\n",
       "      <td>pdb:103L.A</td>\n",
       "      <td>A</td>\n",
       "      <td>P00720</td>\n",
       "    </tr>\n",
       "  </tbody>\n",
       "</table>\n",
       "</div>"
      ],
      "text/plain": [
       "  pdbId chain1 proteinAccession1  pdbChainId chain2 proteinAccession2\n",
       "0  101M      A            P02185  pdb:101M.A      A            P02185\n",
       "1  102L      A            P00720  pdb:102L.A      A            P00720\n",
       "2  102L      A            P00720  pdb:102L.A      A            P00720\n",
       "3  102M      A            P02185  pdb:102M.A      A            P02185\n",
       "4  103L      A            P00720  pdb:103L.A      A            P00720"
      ]
     },
     "execution_count": 7,
     "metadata": {},
     "output_type": "execute_result"
    }
   ],
   "source": [
    "chains = pd.read_csv(sifts_url, sep='\\t', skiprows=1, dtype=str)\n",
    "chains['PDB'] = chains['PDB'].str.upper()\n",
    "chains = chains[['PDB', 'CHAIN', 'SP_PRIMARY']]\n",
    "chains.rename(columns={'PDB': 'pdbId', 'CHAIN': 'chain1', 'SP_PRIMARY': 'proteinAccession1'}, inplace=True)\n",
    "# add same info a chain 2 to simplify merging later on\n",
    "chains['pdbChainId'] = 'pdb:' + chains['pdbId'] + '.' + chains['chain1']\n",
    "chains['chain2'] = chains['chain1']\n",
    "chains['proteinAccession2'] = chains['proteinAccession1']\n",
    "print(\"Number of chains:\", chains.shape[0])\n",
    "chains.head()"
   ]
  },
  {
   "cell_type": "markdown",
   "metadata": {},
   "source": [
    "### Get Pfam Domain ranges"
   ]
  },
  {
   "cell_type": "code",
   "execution_count": 8,
   "metadata": {},
   "outputs": [],
   "source": [
    "domains = pd.read_csv(NEO4J_IMPORT / \"01g-PfamDomainPDB.csv\")"
   ]
  },
  {
   "cell_type": "code",
   "execution_count": 9,
   "metadata": {},
   "outputs": [],
   "source": [
    "domains = domains[['name', 'accession', 'pdbChainId', 'start', 'end']]\n",
    "\n",
    "# remove domains with insertion codes\n",
    "domains = domains[(domains['start'].str.isdigit()) & (domains['end'].str.isdigit())]\n",
    "\n",
    "domains['start'] = domains['start'].astype(int)\n",
    "domains['end'] = domains['end'].astype(int)"
   ]
  },
  {
   "cell_type": "code",
   "execution_count": 10,
   "metadata": {},
   "outputs": [
    {
     "data": {
      "text/html": [
       "<div>\n",
       "<style scoped>\n",
       "    .dataframe tbody tr th:only-of-type {\n",
       "        vertical-align: middle;\n",
       "    }\n",
       "\n",
       "    .dataframe tbody tr th {\n",
       "        vertical-align: top;\n",
       "    }\n",
       "\n",
       "    .dataframe thead th {\n",
       "        text-align: right;\n",
       "    }\n",
       "</style>\n",
       "<table border=\"1\" class=\"dataframe\">\n",
       "  <thead>\n",
       "    <tr style=\"text-align: right;\">\n",
       "      <th></th>\n",
       "      <th>name</th>\n",
       "      <th>accession</th>\n",
       "      <th>pdbChainId</th>\n",
       "      <th>start</th>\n",
       "      <th>end</th>\n",
       "    </tr>\n",
       "  </thead>\n",
       "  <tbody>\n",
       "    <tr>\n",
       "      <th>81164</th>\n",
       "      <td>RVP</td>\n",
       "      <td>pfam:PF00077</td>\n",
       "      <td>pdb:1OHR.A</td>\n",
       "      <td>6</td>\n",
       "      <td>97</td>\n",
       "    </tr>\n",
       "  </tbody>\n",
       "</table>\n",
       "</div>"
      ],
      "text/plain": [
       "      name     accession  pdbChainId  start  end\n",
       "81164  RVP  pfam:PF00077  pdb:1OHR.A      6   97"
      ]
     },
     "execution_count": 10,
     "metadata": {},
     "output_type": "execute_result"
    }
   ],
   "source": [
    "# TODO: for identical chains, Pfam only indexes the first chain, e.g. pdb:6VXX.A, but chains B and C are missing\n",
    "domains.query('pdbChainId == \"pdb:1OHR.A\"') # pdb:1OHR.B is identical and missing"
   ]
  },
  {
   "cell_type": "code",
   "execution_count": 11,
   "metadata": {},
   "outputs": [
    {
     "data": {
      "text/html": [
       "<div>\n",
       "<style scoped>\n",
       "    .dataframe tbody tr th:only-of-type {\n",
       "        vertical-align: middle;\n",
       "    }\n",
       "\n",
       "    .dataframe tbody tr th {\n",
       "        vertical-align: top;\n",
       "    }\n",
       "\n",
       "    .dataframe thead th {\n",
       "        text-align: right;\n",
       "    }\n",
       "</style>\n",
       "<table border=\"1\" class=\"dataframe\">\n",
       "  <thead>\n",
       "    <tr style=\"text-align: right;\">\n",
       "      <th></th>\n",
       "      <th>name</th>\n",
       "      <th>accession</th>\n",
       "      <th>pdbChainId</th>\n",
       "      <th>start</th>\n",
       "      <th>end</th>\n",
       "    </tr>\n",
       "  </thead>\n",
       "  <tbody>\n",
       "    <tr>\n",
       "      <th>0</th>\n",
       "      <td>Bromodomain</td>\n",
       "      <td>pfam:PF00439</td>\n",
       "      <td>pdb:5POC.A</td>\n",
       "      <td>40</td>\n",
       "      <td>120</td>\n",
       "    </tr>\n",
       "    <tr>\n",
       "      <th>1</th>\n",
       "      <td>Beta-lactamase</td>\n",
       "      <td>pfam:PF00144</td>\n",
       "      <td>pdb:3BLS.A</td>\n",
       "      <td>14</td>\n",
       "      <td>360</td>\n",
       "    </tr>\n",
       "    <tr>\n",
       "      <th>2</th>\n",
       "      <td>Apolipoprotein</td>\n",
       "      <td>pfam:PF01442</td>\n",
       "      <td>pdb:3R2P.A</td>\n",
       "      <td>46</td>\n",
       "      <td>182</td>\n",
       "    </tr>\n",
       "    <tr>\n",
       "      <th>3</th>\n",
       "      <td>DKCLD</td>\n",
       "      <td>pfam:PF08068</td>\n",
       "      <td>pdb:3MQK.A</td>\n",
       "      <td>20</td>\n",
       "      <td>66</td>\n",
       "    </tr>\n",
       "    <tr>\n",
       "      <th>4</th>\n",
       "      <td>TruB_N</td>\n",
       "      <td>pfam:PF01509</td>\n",
       "      <td>pdb:3MQK.A</td>\n",
       "      <td>70</td>\n",
       "      <td>121</td>\n",
       "    </tr>\n",
       "  </tbody>\n",
       "</table>\n",
       "</div>"
      ],
      "text/plain": [
       "             name     accession  pdbChainId  start  end\n",
       "0     Bromodomain  pfam:PF00439  pdb:5POC.A     40  120\n",
       "1  Beta-lactamase  pfam:PF00144  pdb:3BLS.A     14  360\n",
       "2  Apolipoprotein  pfam:PF01442  pdb:3R2P.A     46  182\n",
       "3           DKCLD  pfam:PF08068  pdb:3MQK.A     20   66\n",
       "4          TruB_N  pfam:PF01509  pdb:3MQK.A     70  121"
      ]
     },
     "execution_count": 11,
     "metadata": {},
     "output_type": "execute_result"
    }
   ],
   "source": [
    "domains.head()"
   ]
  },
  {
   "cell_type": "code",
   "execution_count": 12,
   "metadata": {},
   "outputs": [
    {
     "data": {
      "text/html": [
       "<div>\n",
       "<style scoped>\n",
       "    .dataframe tbody tr th:only-of-type {\n",
       "        vertical-align: middle;\n",
       "    }\n",
       "\n",
       "    .dataframe tbody tr th {\n",
       "        vertical-align: top;\n",
       "    }\n",
       "\n",
       "    .dataframe thead th {\n",
       "        text-align: right;\n",
       "    }\n",
       "</style>\n",
       "<table border=\"1\" class=\"dataframe\">\n",
       "  <thead>\n",
       "    <tr style=\"text-align: right;\">\n",
       "      <th></th>\n",
       "      <th>pdbId</th>\n",
       "      <th>chain1</th>\n",
       "      <th>proteinAccession1</th>\n",
       "      <th>pdbChainId</th>\n",
       "      <th>chain2</th>\n",
       "      <th>proteinAccession2</th>\n",
       "    </tr>\n",
       "  </thead>\n",
       "  <tbody>\n",
       "    <tr>\n",
       "      <th>0</th>\n",
       "      <td>101M</td>\n",
       "      <td>A</td>\n",
       "      <td>P02185</td>\n",
       "      <td>pdb:101M.A</td>\n",
       "      <td>A</td>\n",
       "      <td>P02185</td>\n",
       "    </tr>\n",
       "    <tr>\n",
       "      <th>1</th>\n",
       "      <td>102L</td>\n",
       "      <td>A</td>\n",
       "      <td>P00720</td>\n",
       "      <td>pdb:102L.A</td>\n",
       "      <td>A</td>\n",
       "      <td>P00720</td>\n",
       "    </tr>\n",
       "    <tr>\n",
       "      <th>2</th>\n",
       "      <td>102L</td>\n",
       "      <td>A</td>\n",
       "      <td>P00720</td>\n",
       "      <td>pdb:102L.A</td>\n",
       "      <td>A</td>\n",
       "      <td>P00720</td>\n",
       "    </tr>\n",
       "    <tr>\n",
       "      <th>3</th>\n",
       "      <td>102M</td>\n",
       "      <td>A</td>\n",
       "      <td>P02185</td>\n",
       "      <td>pdb:102M.A</td>\n",
       "      <td>A</td>\n",
       "      <td>P02185</td>\n",
       "    </tr>\n",
       "    <tr>\n",
       "      <th>4</th>\n",
       "      <td>103L</td>\n",
       "      <td>A</td>\n",
       "      <td>P00720</td>\n",
       "      <td>pdb:103L.A</td>\n",
       "      <td>A</td>\n",
       "      <td>P00720</td>\n",
       "    </tr>\n",
       "  </tbody>\n",
       "</table>\n",
       "</div>"
      ],
      "text/plain": [
       "  pdbId chain1 proteinAccession1  pdbChainId chain2 proteinAccession2\n",
       "0  101M      A            P02185  pdb:101M.A      A            P02185\n",
       "1  102L      A            P00720  pdb:102L.A      A            P00720\n",
       "2  102L      A            P00720  pdb:102L.A      A            P00720\n",
       "3  102M      A            P02185  pdb:102M.A      A            P02185\n",
       "4  103L      A            P00720  pdb:103L.A      A            P00720"
      ]
     },
     "execution_count": 12,
     "metadata": {},
     "output_type": "execute_result"
    }
   ],
   "source": [
    "chains.head()"
   ]
  },
  {
   "cell_type": "code",
   "execution_count": 13,
   "metadata": {},
   "outputs": [],
   "source": [
    "domains = pd.merge(domains, chains, on='pdbChainId')"
   ]
  },
  {
   "cell_type": "code",
   "execution_count": 14,
   "metadata": {},
   "outputs": [
    {
     "data": {
      "text/html": [
       "<div>\n",
       "<style scoped>\n",
       "    .dataframe tbody tr th:only-of-type {\n",
       "        vertical-align: middle;\n",
       "    }\n",
       "\n",
       "    .dataframe tbody tr th {\n",
       "        vertical-align: top;\n",
       "    }\n",
       "\n",
       "    .dataframe thead th {\n",
       "        text-align: right;\n",
       "    }\n",
       "</style>\n",
       "<table border=\"1\" class=\"dataframe\">\n",
       "  <thead>\n",
       "    <tr style=\"text-align: right;\">\n",
       "      <th></th>\n",
       "      <th>name</th>\n",
       "      <th>accession</th>\n",
       "      <th>pdbChainId</th>\n",
       "      <th>start</th>\n",
       "      <th>end</th>\n",
       "      <th>pdbId</th>\n",
       "      <th>chain1</th>\n",
       "      <th>proteinAccession1</th>\n",
       "      <th>chain2</th>\n",
       "      <th>proteinAccession2</th>\n",
       "    </tr>\n",
       "  </thead>\n",
       "  <tbody>\n",
       "    <tr>\n",
       "      <th>0</th>\n",
       "      <td>Bromodomain</td>\n",
       "      <td>pfam:PF00439</td>\n",
       "      <td>pdb:5POC.A</td>\n",
       "      <td>40</td>\n",
       "      <td>120</td>\n",
       "      <td>5POC</td>\n",
       "      <td>A</td>\n",
       "      <td>O95696</td>\n",
       "      <td>A</td>\n",
       "      <td>O95696</td>\n",
       "    </tr>\n",
       "    <tr>\n",
       "      <th>1</th>\n",
       "      <td>Beta-lactamase</td>\n",
       "      <td>pfam:PF00144</td>\n",
       "      <td>pdb:3BLS.A</td>\n",
       "      <td>14</td>\n",
       "      <td>360</td>\n",
       "      <td>3BLS</td>\n",
       "      <td>A</td>\n",
       "      <td>P00811</td>\n",
       "      <td>A</td>\n",
       "      <td>P00811</td>\n",
       "    </tr>\n",
       "    <tr>\n",
       "      <th>2</th>\n",
       "      <td>Apolipoprotein</td>\n",
       "      <td>pfam:PF01442</td>\n",
       "      <td>pdb:3R2P.A</td>\n",
       "      <td>46</td>\n",
       "      <td>182</td>\n",
       "      <td>3R2P</td>\n",
       "      <td>A</td>\n",
       "      <td>P02647</td>\n",
       "      <td>A</td>\n",
       "      <td>P02647</td>\n",
       "    </tr>\n",
       "    <tr>\n",
       "      <th>3</th>\n",
       "      <td>DKCLD</td>\n",
       "      <td>pfam:PF08068</td>\n",
       "      <td>pdb:3MQK.A</td>\n",
       "      <td>20</td>\n",
       "      <td>66</td>\n",
       "      <td>3MQK</td>\n",
       "      <td>A</td>\n",
       "      <td>Q7LWY0</td>\n",
       "      <td>A</td>\n",
       "      <td>Q7LWY0</td>\n",
       "    </tr>\n",
       "    <tr>\n",
       "      <th>4</th>\n",
       "      <td>TruB_N</td>\n",
       "      <td>pfam:PF01509</td>\n",
       "      <td>pdb:3MQK.A</td>\n",
       "      <td>70</td>\n",
       "      <td>121</td>\n",
       "      <td>3MQK</td>\n",
       "      <td>A</td>\n",
       "      <td>Q7LWY0</td>\n",
       "      <td>A</td>\n",
       "      <td>Q7LWY0</td>\n",
       "    </tr>\n",
       "  </tbody>\n",
       "</table>\n",
       "</div>"
      ],
      "text/plain": [
       "             name     accession  pdbChainId  start  end pdbId chain1  \\\n",
       "0     Bromodomain  pfam:PF00439  pdb:5POC.A     40  120  5POC      A   \n",
       "1  Beta-lactamase  pfam:PF00144  pdb:3BLS.A     14  360  3BLS      A   \n",
       "2  Apolipoprotein  pfam:PF01442  pdb:3R2P.A     46  182  3R2P      A   \n",
       "3           DKCLD  pfam:PF08068  pdb:3MQK.A     20   66  3MQK      A   \n",
       "4          TruB_N  pfam:PF01509  pdb:3MQK.A     70  121  3MQK      A   \n",
       "\n",
       "  proteinAccession1 chain2 proteinAccession2  \n",
       "0            O95696      A            O95696  \n",
       "1            P00811      A            P00811  \n",
       "2            P02647      A            P02647  \n",
       "3            Q7LWY0      A            Q7LWY0  \n",
       "4            Q7LWY0      A            Q7LWY0  "
      ]
     },
     "execution_count": 14,
     "metadata": {},
     "output_type": "execute_result"
    }
   ],
   "source": [
    "domains.head()"
   ]
  },
  {
   "cell_type": "code",
   "execution_count": 15,
   "metadata": {},
   "outputs": [],
   "source": [
    "pdb_entries_url = 'https://data.rcsb.org/rest/v1/holdings/current/entry_ids'"
   ]
  },
  {
   "cell_type": "code",
   "execution_count": 16,
   "metadata": {},
   "outputs": [],
   "source": [
    "try:\n",
    "    pdb_list = json.loads(requests.get(pdb_entries_url).text)\n",
    "except:\n",
    "    print(\"Could not load pdb entries\")   "
   ]
  },
  {
   "cell_type": "code",
   "execution_count": 18,
   "metadata": {},
   "outputs": [],
   "source": [
    "#pdb_id = '7cab'\n",
    "#pdb_id = '7d19'\n",
    "#pdb_id = '7dd2'\n",
    "#pdb_id = '6vxx' # 12/744\n",
    "#pdb_id = '6xdg'\n",
    "#pdb_id = '4hhb'\n",
    "#pdb_id = '1stp' #1/156\n",
    "#pdb_id = '1ohr' # 1/83\n",
    "#pdb_id = '3g46'\n",
    "#pdb_id = 'junk'\n",
    "#pdb_id = '3t6c' # D4\n",
    "#pdb_id =  '4evc' # T\n",
    "#pdb_id = '4po5' # O 48x\n",
    "#pdb_id = '1c8d' # I x60 no interfaces found???\n",
    "#pdb_id = '1rvv' # I x60\n",
    "#pdb_id = '1a34' # I x60\n",
    "#pdb_id = '1RVV' # I x60"
   ]
  },
  {
   "cell_type": "code",
   "execution_count": 19,
   "metadata": {},
   "outputs": [],
   "source": [
    "# https://stackoverflow.com/questions/52795561/flattening-nested-json-in-pandas-data-frame\n",
    "def flatten_json(nested_json, exclude=['']):\n",
    "    \"\"\"Flatten json object with nested keys into a single level.\n",
    "        Args:\n",
    "            nested_json: A nested json object.\n",
    "            exclude: Keys to exclude from output.\n",
    "        Returns:\n",
    "            The flattened json object if successful, None otherwise.\n",
    "    \"\"\"\n",
    "    out = {}\n",
    "\n",
    "    def flatten(x, name='', exclude=exclude):\n",
    "        if type(x) is dict:\n",
    "            for a in x:\n",
    "                if a not in exclude: flatten(x[a], name + a + '_')\n",
    "        elif type(x) is list:\n",
    "            i = 0\n",
    "            for a in x:\n",
    "                flatten(a, name + str(i) + '_')\n",
    "                i += 1\n",
    "        else:\n",
    "            out[name[:-1]] = x\n",
    "\n",
    "    flatten(nested_json)\n",
    "    return out"
   ]
  },
  {
   "cell_type": "markdown",
   "metadata": {},
   "source": [
    "### Get Biological Interfaces"
   ]
  },
  {
   "cell_type": "code",
   "execution_count": 20,
   "metadata": {},
   "outputs": [],
   "source": [
    "def download_interfaces(pdb_id):\n",
    "    interface_url = f'http://www.eppic-web.org/rest/api/v3/job/interfaces/{pdb_id.lower()}'\n",
    "    try:\n",
    "        response = json.loads(requests.get(interface_url).text)\n",
    "    except:\n",
    "        return pd.DataFrame()\n",
    "    \n",
    "    interfaces = pd.DataFrame(flatten_json(x) for x in response)\n",
    "    interfaces['pdbId'] = pdb_id.upper()\n",
    "\n",
    "    if interfaces.shape[0] > 0:\n",
    "        interfaces.query('interfaceScores_interfaceScore_3_callName == \"bio\"', inplace=True)\n",
    "        print('   interfaces:', interfaces.shape)\n",
    "        interfaces.rename(columns={'interfaceScores_interfaceScore_3_confidence': 'confidence'}, inplace=True)\n",
    "        return interfaces[['pdbId', 'interfaceId', 'clusterId', 'chain1', 'chain2', 'isologous', 'area', 'confidence']].copy()\n",
    "    else:\n",
    "        return pd.DataFrame()"
   ]
  },
  {
   "cell_type": "code",
   "execution_count": 21,
   "metadata": {},
   "outputs": [],
   "source": [
    "def get_interfaces(pdb_id):\n",
    "    interfaces = download_interfaces(pdb_id)\n",
    "    if interfaces.shape[0] > 0:\n",
    "        interfaces = interfaces.merge(chains[['pdbId', 'chain1', 'proteinAccession1']], on=['pdbId', 'chain1'])\n",
    "        interfaces = interfaces.merge(chains[['pdbId', 'chain2', 'proteinAccession2']], on=['pdbId', 'chain2'])\n",
    "    return interfaces"
   ]
  },
  {
   "cell_type": "markdown",
   "metadata": {},
   "source": [
    "### Get interface residues"
   ]
  },
  {
   "cell_type": "code",
   "execution_count": 22,
   "metadata": {},
   "outputs": [],
   "source": [
    "def download_contacts(pdb_id, interface_id):\n",
    "    contact_url = f'http://www.eppic-web.org/rest/api/v3/job/contacts/{pdb_id.lower()}/{interface_id}'\n",
    "    try:\n",
    "        response = json.loads(requests.get(contact_url).text)\n",
    "        return pd.DataFrame([flatten_json(x) for x in response])\n",
    "    except:\n",
    "        return pd.DataFrame()"
   ]
  },
  {
   "cell_type": "code",
   "execution_count": 23,
   "metadata": {},
   "outputs": [],
   "source": [
    "def get_interface_residues(pdb_id, interfaces):\n",
    "    interface_ids = interfaces['interfaceId'].values\n",
    "    contacts = pd.concat([download_contacts(pdb_id, i) for i in interface_ids], ignore_index=True)\n",
    "    contacts.rename(columns={'pdbCode': 'pdbId'}, inplace=True)\n",
    "    contacts['pdbId'] = contacts['pdbId'].str.upper()\n",
    "    \n",
    "    chain_contacts = contacts.merge(interfaces, on=['pdbId', 'interfaceId'])\n",
    "    print('   contacts:', chain_contacts.shape)\n",
    "    chain_contacts['pdbChainId1'] = 'pdb:' + chain_contacts['pdbId'] + '.' + chain_contacts['chain1']\n",
    "    chain_contacts['pdbChainId2'] = 'pdb:' + chain_contacts['pdbId'] + '.' + chain_contacts['chain2']\n",
    "    \n",
    "    return chain_contacts"
   ]
  },
  {
   "cell_type": "code",
   "execution_count": 24,
   "metadata": {},
   "outputs": [],
   "source": [
    "def unique_order(row):\n",
    "    if row.accession1 > row.accession2:\n",
    "        row.accession1, row.accession2 = row.accession2, row.accession1\n",
    "        row.proteinAccession1, row.proteinAccession2 = row.proteinAccession2, row.proteinAccession1\n",
    "        row.pdbChainId1, row.pdbChainId2 = row.pdbChainId2, row.pdbChainId1\n",
    "    return row"
   ]
  },
  {
   "cell_type": "code",
   "execution_count": 25,
   "metadata": {},
   "outputs": [],
   "source": [
    "def filter_domain_interactions(contacts, domains):\n",
    "    \n",
    "    # merge chain with domain boundary information\n",
    "    domain_contacts = contacts.merge(domains[['pdbId', 'proteinAccession1', 'accession', 'start', 'end']], on=['pdbId','proteinAccession1'], suffixes=['1','2'])\n",
    "    domain_contacts = domain_contacts.merge(domains[['pdbId', 'proteinAccession2', 'accession', 'start', 'end']], on=['pdbId','proteinAccession2'], suffixes=['1','2'])\n",
    "    \n",
    "    #print(\"Number of chain - chain contacts:\", domain_contacts.shape[0])\n",
    "    \n",
    "    # keep only contacts within the domain boundaries\n",
    "    domain_contacts = domain_contacts[(domain_contacts['firstResNumber'] >= domain_contacts['start1']) &\n",
    "                                      (domain_contacts['firstResNumber'] <= domain_contacts['end1']) &\n",
    "                                      (domain_contacts['secondResNumber'] >= domain_contacts['start2']) &\n",
    "                                      (domain_contacts['secondResNumber'] <= domain_contacts['end2'])]\n",
    "    \n",
    "    #print(\"Number of domain - domain contacts:\", domain_contacts.shape[0])\n",
    "    \n",
    "    # keep only subset of data required\n",
    "    domain_contacts = domain_contacts[['pdbChainId1', 'pdbChainId2', 'confidence', 'isologous', 'proteinAccession1', 'proteinAccession2', 'accession1', 'accession2']].copy()\n",
    "\n",
    "    # order domains in canonical order\n",
    "    domain_contacts = domain_contacts.apply(unique_order, axis=1)\n",
    "    domain_contacts.drop_duplicates(inplace=True)\n",
    "    \n",
    "    return domain_contacts"
   ]
  },
  {
   "cell_type": "code",
   "execution_count": 26,
   "metadata": {},
   "outputs": [],
   "source": [
    "def get_domain_interactions(pdb_id, domains):\n",
    "    interfaces = get_interfaces(pdb_id)\n",
    "    if interfaces.shape[0] > 0:\n",
    "        contacts = get_interface_residues(pdb_id, interfaces)\n",
    "        return filter_domain_interactions(contacts, domains)\n",
    "    else:\n",
    "        return pd.DataFrame()"
   ]
  },
  {
   "cell_type": "code",
   "execution_count": 27,
   "metadata": {},
   "outputs": [],
   "source": [
    "def process_pdbs(pdb_list):\n",
    "    for pdb_id in pdb_list:\n",
    "        print(pdb_id)\n",
    "        domain_interactions = get_domain_interactions(pdb_id, domains)\n",
    "        filename = pdb_id + '.csv'\n",
    "        if domain_interactions.shape[0] > 0:\n",
    "            domain_interactions.to_csv(CACHE_PROCESSED / filename, index=False)\n",
    "        else:\n",
    "            domain_interactions.to_csv(CACHE_SKIPPED / filename, index=False)   "
   ]
  },
  {
   "cell_type": "code",
   "execution_count": 28,
   "metadata": {},
   "outputs": [
    {
     "name": "stdout",
     "output_type": "stream",
     "text": [
      "3J3Q\n"
     ]
    }
   ],
   "source": [
    "process_pdbs(pdb_list)"
   ]
  }
 ],
 "metadata": {
  "kernelspec": {
   "display_name": "Python 3",
   "language": "python",
   "name": "python3"
  },
  "language_info": {
   "codemirror_mode": {
    "name": "ipython",
    "version": 3
   },
   "file_extension": ".py",
   "mimetype": "text/x-python",
   "name": "python",
   "nbconvert_exporter": "python",
   "pygments_lexer": "ipython3",
   "version": "3.7.9"
  }
 },
 "nbformat": 4,
 "nbformat_minor": 4
}

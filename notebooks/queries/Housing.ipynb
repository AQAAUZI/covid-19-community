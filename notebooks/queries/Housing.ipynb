{
 "cells": [
  {
   "cell_type": "markdown",
   "metadata": {},
   "source": [
    "# Example queries for Housing Characteristics on COVID-19 Knowledge Graph\n",
    "[Work in progress]\n",
    "\n",
    "This notebook demonstrates how to run Cypher queries to get [Housing Characteristics from the American Community Survey 2018 5-year data](https://data.census.gov/cedsci/table?tid=ACSDP5Y2018.DP04) at multiple levels of geographic granularity. "
   ]
  },
  {
   "cell_type": "code",
   "execution_count": 1,
   "metadata": {},
   "outputs": [],
   "source": [
    "import pandas as pd\n",
    "import matplotlib.pyplot as plt\n",
    "from py2neo import Graph"
   ]
  },
  {
   "cell_type": "code",
   "execution_count": 2,
   "metadata": {},
   "outputs": [],
   "source": [
    "pd.options.display.max_rows = None  # display all rows\n",
    "pd.options.display.max_columns = None  # display all columsns"
   ]
  },
  {
   "cell_type": "markdown",
   "metadata": {},
   "source": [
    "#### Connect to COVID-19-Net Knowledge Graph"
   ]
  },
  {
   "cell_type": "code",
   "execution_count": 3,
   "metadata": {},
   "outputs": [],
   "source": [
    "graph = Graph(\"bolt://132.249.238.185:7687\", user=\"reader\", password=\"demo\")"
   ]
  },
  {
   "cell_type": "markdown",
   "metadata": {},
   "source": [
    "## Housing Characteristics\n",
    "The following variables are available for queries. Variable names ending with Pct represent values in percent, whereas all other variables represent counts. For details see [Subject Definitions](https://www2.census.gov/programs-surveys/acs/tech_docs/subject_definitions/2018_ACSSubjectDefinitions.pdf)."
   ]
  },
  {
   "cell_type": "markdown",
   "metadata": {},
   "source": [
    "             # ROOMS\n",
    "             'DP04_0037E': 'medianRoomsInHousingUnit',\n",
    "             \n",
    "             # HOUSING TENURE\n",
    "             'DP04_0046E': 'ownerOccupiedHousingUnits',\n",
    "             'DP04_0046PE': 'ownerOccupiedHousingUnitsPct',\n",
    "             'DP04_0047E': 'renterOccupiedHousingUnits',\n",
    "             'DP04_0047PE': 'renterOccupiedHousingUnitsPct',\n",
    "             'DP04_0048E': 'averageHouseholdSizeOfOwnerOccupiedUnit',\n",
    "             'DP04_0049E': 'averageHouseholdSizeOfRenterOccupiedUnit',\n",
    "    \n",
    "             # VEHICLES AVAILABLE\n",
    "             'DP04_0057E': 'occupiedHousingUnitsWithVehicles',\n",
    "             'DP04_0058E': 'occupiedHousingUnitsNoVehicles',\n",
    "             'DP04_0058PE': 'occupiedHousingUnitsNoVehiclesPct',\n",
    "    \n",
    "             # OCCUPANTS PER ROOM\n",
    "             Note, the following variables contain special characters and need to be \n",
    "             quoted by backticks in Cypher queries (see examples below)\n",
    "             'DP04_0077E': 'occupantsPerRoom1.00orLess',\n",
    "             'DP04_0077PE': 'occupantsPerRoom1.00orLessPct',\n",
    "             'DP04_0078E': 'occupantsPerRoom1.01to1.50',\n",
    "             'DP04_0078PE': 'occupantsPerRoom1.01to1.50Pct',\n",
    "             'DP04_0079E': 'occupantsPerRoom1.51orMore',\n",
    "             'DP04_0079PE': 'occupantsPerRoom1.51orMorePct'"
   ]
  },
  {
   "cell_type": "markdown",
   "metadata": {},
   "source": [
    "## Geographic granularity\n",
    "Data are available at 3 levels of granularity:\n",
    "* US County\n",
    "* US Zip Code\n",
    "* US Census Tract"
   ]
  },
  {
   "cell_type": "markdown",
   "metadata": {},
   "source": [
    "## Query Examples"
   ]
  },
  {
   "cell_type": "markdown",
   "metadata": {},
   "source": [
    "### Get Data By US County"
   ]
  },
  {
   "cell_type": "markdown",
   "metadata": {},
   "source": [
    "If the state and county fips codes are available, housing characteristics can be retrieved directly.\n",
    "\n",
    "Note, fips codes are represented as strings."
   ]
  },
  {
   "cell_type": "markdown",
   "metadata": {},
   "source": [
    "##### Example: Average household size"
   ]
  },
  {
   "cell_type": "code",
   "execution_count": 4,
   "metadata": {},
   "outputs": [],
   "source": [
    "state_fips = '06'\n",
    "county_fips = '073'"
   ]
  },
  {
   "cell_type": "code",
   "execution_count": 5,
   "metadata": {},
   "outputs": [
    {
     "data": {
      "text/html": [
       "<div>\n",
       "<style scoped>\n",
       "    .dataframe tbody tr th:only-of-type {\n",
       "        vertical-align: middle;\n",
       "    }\n",
       "\n",
       "    .dataframe tbody tr th {\n",
       "        vertical-align: top;\n",
       "    }\n",
       "\n",
       "    .dataframe thead th {\n",
       "        text-align: right;\n",
       "    }\n",
       "</style>\n",
       "<table border=\"1\" class=\"dataframe\">\n",
       "  <thead>\n",
       "    <tr style=\"text-align: right;\">\n",
       "      <th></th>\n",
       "      <th>h.stateFips</th>\n",
       "      <th>h.countyFips</th>\n",
       "      <th>h.averageHouseholdSizeOfOwnerOccupiedUnit</th>\n",
       "      <th>h.averageHouseholdSizeOfRenterOccupiedUnit</th>\n",
       "    </tr>\n",
       "  </thead>\n",
       "  <tbody>\n",
       "    <tr>\n",
       "      <th>0</th>\n",
       "      <td>06</td>\n",
       "      <td>073</td>\n",
       "      <td>2.9</td>\n",
       "      <td>2.83</td>\n",
       "    </tr>\n",
       "  </tbody>\n",
       "</table>\n",
       "</div>"
      ],
      "text/plain": [
       "  h.stateFips h.countyFips  h.averageHouseholdSizeOfOwnerOccupiedUnit  \\\n",
       "0          06          073                                        2.9   \n",
       "\n",
       "   h.averageHouseholdSizeOfRenterOccupiedUnit  \n",
       "0                                        2.83  "
      ]
     },
     "execution_count": 5,
     "metadata": {},
     "output_type": "execute_result"
    }
   ],
   "source": [
    "query = \"\"\"\n",
    "MATCH (h:Housing{countyFips:$county_fips, stateFips:$state_fips})\n",
    "RETURN h.stateFips, h.countyFips, \n",
    "       h.averageHouseholdSizeOfOwnerOccupiedUnit, h.averageHouseholdSizeOfRenterOccupiedUnit\n",
    "       \n",
    "\"\"\"\n",
    "df = graph.run(query, county_fips=county_fips, state_fips=state_fips).to_data_frame()\n",
    "df.head()"
   ]
  },
  {
   "cell_type": "markdown",
   "metadata": {},
   "source": [
    "Example: Get the same data by traversing the KG"
   ]
  },
  {
   "cell_type": "code",
   "execution_count": 6,
   "metadata": {},
   "outputs": [],
   "source": [
    "county = 'Los Angeles County'"
   ]
  },
  {
   "cell_type": "code",
   "execution_count": 7,
   "metadata": {},
   "outputs": [
    {
     "data": {
      "text/html": [
       "<div>\n",
       "<style scoped>\n",
       "    .dataframe tbody tr th:only-of-type {\n",
       "        vertical-align: middle;\n",
       "    }\n",
       "\n",
       "    .dataframe tbody tr th {\n",
       "        vertical-align: top;\n",
       "    }\n",
       "\n",
       "    .dataframe thead th {\n",
       "        text-align: right;\n",
       "    }\n",
       "</style>\n",
       "<table border=\"1\" class=\"dataframe\">\n",
       "  <thead>\n",
       "    <tr style=\"text-align: right;\">\n",
       "      <th></th>\n",
       "      <th>a.name</th>\n",
       "      <th>h.stateFips</th>\n",
       "      <th>h.countyFips</th>\n",
       "      <th>h.averageHouseholdSizeOfOwnerOccupiedUnit</th>\n",
       "      <th>h.averageHouseholdSizeOfRenterOccupiedUnit</th>\n",
       "    </tr>\n",
       "  </thead>\n",
       "  <tbody>\n",
       "    <tr>\n",
       "      <th>0</th>\n",
       "      <td>Los Angeles County</td>\n",
       "      <td>06</td>\n",
       "      <td>037</td>\n",
       "      <td>3.19</td>\n",
       "      <td>2.84</td>\n",
       "    </tr>\n",
       "  </tbody>\n",
       "</table>\n",
       "</div>"
      ],
      "text/plain": [
       "               a.name h.stateFips h.countyFips  \\\n",
       "0  Los Angeles County          06          037   \n",
       "\n",
       "   h.averageHouseholdSizeOfOwnerOccupiedUnit  \\\n",
       "0                                       3.19   \n",
       "\n",
       "   h.averageHouseholdSizeOfRenterOccupiedUnit  \n",
       "0                                        2.84  "
      ]
     },
     "execution_count": 7,
     "metadata": {},
     "output_type": "execute_result"
    }
   ],
   "source": [
    "query = \"\"\"\n",
    "MATCH (a:Admin2{name:$admin2})-[:HAS_HOUSING]-(h:Housing)\n",
    "RETURN a.name, h.stateFips, h.countyFips, \n",
    "       h.averageHouseholdSizeOfOwnerOccupiedUnit, h.averageHouseholdSizeOfRenterOccupiedUnit\n",
    "\"\"\"\n",
    "df = graph.run(query, admin2=county).to_data_frame()\n",
    "df.head()"
   ]
  },
  {
   "cell_type": "markdown",
   "metadata": {},
   "source": [
    "### Get Data by US Postal Code\n",
    "\n",
    "Note, postal codes are represented as strings."
   ]
  },
  {
   "cell_type": "code",
   "execution_count": 8,
   "metadata": {},
   "outputs": [],
   "source": [
    "zip_code = '92130'"
   ]
  },
  {
   "cell_type": "code",
   "execution_count": 9,
   "metadata": {},
   "outputs": [
    {
     "data": {
      "text/html": [
       "<div>\n",
       "<style scoped>\n",
       "    .dataframe tbody tr th:only-of-type {\n",
       "        vertical-align: middle;\n",
       "    }\n",
       "\n",
       "    .dataframe tbody tr th {\n",
       "        vertical-align: top;\n",
       "    }\n",
       "\n",
       "    .dataframe thead th {\n",
       "        text-align: right;\n",
       "    }\n",
       "</style>\n",
       "<table border=\"1\" class=\"dataframe\">\n",
       "  <thead>\n",
       "    <tr style=\"text-align: right;\">\n",
       "      <th></th>\n",
       "      <th>h.postalCode</th>\n",
       "      <th>h.ownerOccupiedHousingUnitsPct</th>\n",
       "      <th>h.renterOccupiedHousingUnitsPct</th>\n",
       "    </tr>\n",
       "  </thead>\n",
       "  <tbody>\n",
       "    <tr>\n",
       "      <th>0</th>\n",
       "      <td>92130</td>\n",
       "      <td>66.5</td>\n",
       "      <td>33.5</td>\n",
       "    </tr>\n",
       "  </tbody>\n",
       "</table>\n",
       "</div>"
      ],
      "text/plain": [
       "  h.postalCode  h.ownerOccupiedHousingUnitsPct  \\\n",
       "0        92130                            66.5   \n",
       "\n",
       "   h.renterOccupiedHousingUnitsPct  \n",
       "0                             33.5  "
      ]
     },
     "execution_count": 9,
     "metadata": {},
     "output_type": "execute_result"
    }
   ],
   "source": [
    "query = \"\"\"\n",
    "MATCH (h:Housing{postalCode: $zip_code})\n",
    "RETURN h.postalCode, h.ownerOccupiedHousingUnitsPct, h.renterOccupiedHousingUnitsPct\n",
    "\"\"\"\n",
    "df = graph.run(query, zip_code=zip_code).to_data_frame()\n",
    "df.head()"
   ]
  },
  {
   "cell_type": "markdown",
   "metadata": {},
   "source": [
    "##### Example: List occupands per room for Zip codes with a place name\n",
    "\n",
    "Note, Zip code areas may cross city boundaries. Place names are the preferred names used by the US Postal Service."
   ]
  },
  {
   "cell_type": "code",
   "execution_count": 10,
   "metadata": {},
   "outputs": [
    {
     "data": {
      "text/html": [
       "<div>\n",
       "<style scoped>\n",
       "    .dataframe tbody tr th:only-of-type {\n",
       "        vertical-align: middle;\n",
       "    }\n",
       "\n",
       "    .dataframe tbody tr th {\n",
       "        vertical-align: top;\n",
       "    }\n",
       "\n",
       "    .dataframe thead th {\n",
       "        text-align: right;\n",
       "    }\n",
       "</style>\n",
       "<table border=\"1\" class=\"dataframe\">\n",
       "  <thead>\n",
       "    <tr style=\"text-align: right;\">\n",
       "      <th></th>\n",
       "      <th>Zip code</th>\n",
       "      <th>1.00 or less</th>\n",
       "      <th>1.01 to 1.50</th>\n",
       "      <th>1.51 or more</th>\n",
       "    </tr>\n",
       "  </thead>\n",
       "  <tbody>\n",
       "    <tr>\n",
       "      <th>0</th>\n",
       "      <td>91910</td>\n",
       "      <td>88.9</td>\n",
       "      <td>7.6</td>\n",
       "      <td>3.5</td>\n",
       "    </tr>\n",
       "    <tr>\n",
       "      <th>1</th>\n",
       "      <td>91911</td>\n",
       "      <td>85.8</td>\n",
       "      <td>8.8</td>\n",
       "      <td>5.3</td>\n",
       "    </tr>\n",
       "    <tr>\n",
       "      <th>2</th>\n",
       "      <td>91913</td>\n",
       "      <td>93.9</td>\n",
       "      <td>4.7</td>\n",
       "      <td>1.4</td>\n",
       "    </tr>\n",
       "    <tr>\n",
       "      <th>3</th>\n",
       "      <td>91914</td>\n",
       "      <td>98.5</td>\n",
       "      <td>1.2</td>\n",
       "      <td>0.3</td>\n",
       "    </tr>\n",
       "    <tr>\n",
       "      <th>4</th>\n",
       "      <td>91915</td>\n",
       "      <td>96.5</td>\n",
       "      <td>2.9</td>\n",
       "      <td>0.6</td>\n",
       "    </tr>\n",
       "  </tbody>\n",
       "</table>\n",
       "</div>"
      ],
      "text/plain": [
       "  Zip code  1.00 or less  1.01 to 1.50  1.51 or more\n",
       "0    91910          88.9           7.6           3.5\n",
       "1    91911          85.8           8.8           5.3\n",
       "2    91913          93.9           4.7           1.4\n",
       "3    91914          98.5           1.2           0.3\n",
       "4    91915          96.5           2.9           0.6"
      ]
     },
     "execution_count": 10,
     "metadata": {},
     "output_type": "execute_result"
    }
   ],
   "source": [
    "place_name = 'Chula Vista'\n",
    "\n",
    "query = \"\"\"\n",
    "MATCH (p:PostalCode{placeName:$place_name})-[:HAS_HOUSING]-(h:Housing)\n",
    "RETURN p.name AS `Zip code`, \n",
    "       h.`occupantsPerRoom1.00orLessPct` AS `1.00 or less`,\n",
    "       h.`occupantsPerRoom1.01to1.50Pct` AS  `1.01 to 1.50`,\n",
    "       h.`occupantsPerRoom1.51orMorePct` AS `1.51 or more`\n",
    "\"\"\"\n",
    "df = graph.run(query, place_name=place_name).to_data_frame()\n",
    "df.head()"
   ]
  },
  {
   "cell_type": "code",
   "execution_count": 11,
   "metadata": {},
   "outputs": [
    {
     "data": {
      "image/png": "[encoded data removed]",
      "text/plain": [
       "<Figure size 432x288 with 1 Axes>"
      ]
     },
     "metadata": {
      "needs_background": "light"
     },
     "output_type": "display_data"
    }
   ],
   "source": [
    "df.plot.bar(x='Zip code', \n",
    "            y=['1.00 or less', '1.01 to 1.50', '1.51 or more'], \n",
    "            title='Occupants per room', stacked=True, rot=0);"
   ]
  },
  {
   "cell_type": "markdown",
   "metadata": {},
   "source": [
    "### Get Data by US Census Tract\n",
    "\n",
    "Note, tracts are represented at strings."
   ]
  },
  {
   "cell_type": "markdown",
   "metadata": {},
   "source": [
    "##### Example: Occupants per room for a tract"
   ]
  },
  {
   "cell_type": "code",
   "execution_count": 12,
   "metadata": {},
   "outputs": [],
   "source": [
    "tract = '06073008324'"
   ]
  },
  {
   "cell_type": "code",
   "execution_count": 13,
   "metadata": {},
   "outputs": [
    {
     "data": {
      "text/html": [
       "<div>\n",
       "<style scoped>\n",
       "    .dataframe tbody tr th:only-of-type {\n",
       "        vertical-align: middle;\n",
       "    }\n",
       "\n",
       "    .dataframe tbody tr th {\n",
       "        vertical-align: top;\n",
       "    }\n",
       "\n",
       "    .dataframe thead th {\n",
       "        text-align: right;\n",
       "    }\n",
       "</style>\n",
       "<table border=\"1\" class=\"dataframe\">\n",
       "  <thead>\n",
       "    <tr style=\"text-align: right;\">\n",
       "      <th></th>\n",
       "      <th>h.tract</th>\n",
       "      <th>1.00 or less</th>\n",
       "      <th>1.01 to 1.50</th>\n",
       "      <th>1.51 or more</th>\n",
       "    </tr>\n",
       "  </thead>\n",
       "  <tbody>\n",
       "    <tr>\n",
       "      <th>0</th>\n",
       "      <td>06073008324</td>\n",
       "      <td>100.0</td>\n",
       "      <td>0.0</td>\n",
       "      <td>0.0</td>\n",
       "    </tr>\n",
       "  </tbody>\n",
       "</table>\n",
       "</div>"
      ],
      "text/plain": [
       "       h.tract  1.00 or less  1.01 to 1.50  1.51 or more\n",
       "0  06073008324         100.0           0.0           0.0"
      ]
     },
     "execution_count": 13,
     "metadata": {},
     "output_type": "execute_result"
    }
   ],
   "source": [
    "query = \"\"\"\n",
    "MATCH (h:Housing{tract: $tract})\n",
    "RETURN h.tract,\n",
    "       h.`occupantsPerRoom1.00orLessPct` AS `1.00 or less`,\n",
    "       h.`occupantsPerRoom1.01to1.50Pct` AS  `1.01 to 1.50`,\n",
    "       h.`occupantsPerRoom1.51orMorePct` AS `1.51 or more`\n",
    "\"\"\"\n",
    "df = graph.run(query, tract=tract).to_data_frame()\n",
    "df.head()"
   ]
  },
  {
   "cell_type": "markdown",
   "metadata": {},
   "source": [
    "##### Example: List occupants per from for all tracts in a county"
   ]
  },
  {
   "cell_type": "code",
   "execution_count": 14,
   "metadata": {},
   "outputs": [
    {
     "data": {
      "text/html": [
       "<div>\n",
       "<style scoped>\n",
       "    .dataframe tbody tr th:only-of-type {\n",
       "        vertical-align: middle;\n",
       "    }\n",
       "\n",
       "    .dataframe tbody tr th {\n",
       "        vertical-align: top;\n",
       "    }\n",
       "\n",
       "    .dataframe thead th {\n",
       "        text-align: right;\n",
       "    }\n",
       "</style>\n",
       "<table border=\"1\" class=\"dataframe\">\n",
       "  <thead>\n",
       "    <tr style=\"text-align: right;\">\n",
       "      <th></th>\n",
       "      <th>State</th>\n",
       "      <th>County</th>\n",
       "      <th>Tract</th>\n",
       "      <th>1.00 or less</th>\n",
       "      <th>1.01 to 1.50</th>\n",
       "      <th>1.51 or more</th>\n",
       "    </tr>\n",
       "  </thead>\n",
       "  <tbody>\n",
       "    <tr>\n",
       "      <th>0</th>\n",
       "      <td>California</td>\n",
       "      <td>Orange County</td>\n",
       "      <td>06059062625</td>\n",
       "      <td>96.5</td>\n",
       "      <td>2.0</td>\n",
       "      <td>1.6</td>\n",
       "    </tr>\n",
       "    <tr>\n",
       "      <th>1</th>\n",
       "      <td>California</td>\n",
       "      <td>Orange County</td>\n",
       "      <td>06059062614</td>\n",
       "      <td>96.9</td>\n",
       "      <td>1.7</td>\n",
       "      <td>1.4</td>\n",
       "    </tr>\n",
       "    <tr>\n",
       "      <th>2</th>\n",
       "      <td>California</td>\n",
       "      <td>Orange County</td>\n",
       "      <td>06059032061</td>\n",
       "      <td>97.3</td>\n",
       "      <td>1.3</td>\n",
       "      <td>1.4</td>\n",
       "    </tr>\n",
       "    <tr>\n",
       "      <th>3</th>\n",
       "      <td>California</td>\n",
       "      <td>Orange County</td>\n",
       "      <td>06059110109</td>\n",
       "      <td>96.3</td>\n",
       "      <td>1.9</td>\n",
       "      <td>1.8</td>\n",
       "    </tr>\n",
       "    <tr>\n",
       "      <th>4</th>\n",
       "      <td>California</td>\n",
       "      <td>Orange County</td>\n",
       "      <td>06059110001</td>\n",
       "      <td>97.3</td>\n",
       "      <td>2.7</td>\n",
       "      <td>0.0</td>\n",
       "    </tr>\n",
       "  </tbody>\n",
       "</table>\n",
       "</div>"
      ],
      "text/plain": [
       "        State         County        Tract  1.00 or less  1.01 to 1.50  \\\n",
       "0  California  Orange County  06059062625          96.5           2.0   \n",
       "1  California  Orange County  06059062614          96.9           1.7   \n",
       "2  California  Orange County  06059032061          97.3           1.3   \n",
       "3  California  Orange County  06059110109          96.3           1.9   \n",
       "4  California  Orange County  06059110001          97.3           2.7   \n",
       "\n",
       "   1.51 or more  \n",
       "0           1.6  \n",
       "1           1.4  \n",
       "2           1.4  \n",
       "3           1.8  \n",
       "4           0.0  "
      ]
     },
     "execution_count": 14,
     "metadata": {},
     "output_type": "execute_result"
    }
   ],
   "source": [
    "state = 'California'\n",
    "county = 'Orange County'\n",
    "\n",
    "query = \"\"\"\n",
    "MATCH (a1:Admin1{name: $admin1})-[:IN]-(a2:Admin2{name: $admin2})-[:IN]-(t:Tract)-[:HAS_HOUSING]-(h:Housing)\n",
    "RETURN a1.name AS State, a2.name AS County, t.name AS Tract,\n",
    "       h.`occupantsPerRoom1.00orLessPct` AS `1.00 or less`,\n",
    "       h.`occupantsPerRoom1.01to1.50Pct` AS  `1.01 to 1.50`,\n",
    "       h.`occupantsPerRoom1.51orMorePct` AS `1.51 or more`\n",
    "\"\"\"\n",
    "df = graph.run(query, admin1=state, admin2=county).to_data_frame()\n",
    "df.head()"
   ]
  }
 ],
 "metadata": {
  "kernelspec": {
   "display_name": "Python 3",
   "language": "python",
   "name": "python3"
  },
  "language_info": {
   "codemirror_mode": {
    "name": "ipython",
    "version": 3
   },
   "file_extension": ".py",
   "mimetype": "text/x-python",
   "name": "python",
   "nbconvert_exporter": "python",
   "pygments_lexer": "ipython3",
   "version": "3.8.3"
  }
 },
 "nbformat": 4,
 "nbformat_minor": 4
}

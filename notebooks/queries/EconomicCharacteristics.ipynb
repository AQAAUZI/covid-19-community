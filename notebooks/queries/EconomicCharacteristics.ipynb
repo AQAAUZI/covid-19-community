{
 "cells": [
  {
   "cell_type": "markdown",
   "metadata": {},
   "source": [
    "# Example queries for Economic Characteristics on COVID-19 Knowledge Graph\n",
    "[Work in progress]\n",
    "\n",
    "This notebook demonstrates how to run Cypher queries to get [Economic Characteristics from the American Community Survey 2018 5-year data](https://data.census.gov/cedsci/table?tid=ACSDP5Y2018.DP03) at multiple levels of geographic granularity. "
   ]
  },
  {
   "cell_type": "code",
   "execution_count": 41,
   "metadata": {},
   "outputs": [],
   "source": [
    "import pandas as pd\n",
    "import matplotlib.pyplot as plt\n",
    "from py2neo import Graph"
   ]
  },
  {
   "cell_type": "code",
   "execution_count": 42,
   "metadata": {},
   "outputs": [],
   "source": [
    "pd.options.display.max_rows = None  # display all rows\n",
    "pd.options.display.max_columns = None  # display all columsns"
   ]
  },
  {
   "cell_type": "markdown",
   "metadata": {},
   "source": [
    "#### Connect to COVID-19-Net Knowledge Graph"
   ]
  },
  {
   "cell_type": "code",
   "execution_count": 43,
   "metadata": {},
   "outputs": [],
   "source": [
    "graph = Graph(\"bolt://132.249.238.185:7687\", user=\"reader\", password=\"demo\")"
   ]
  },
  {
   "cell_type": "markdown",
   "metadata": {},
   "source": [
    "## Economic Characteristics\n",
    "The following variables are available for queries. Variable names ending with Pct represent values in percent, whereas all other variables represent counts. For details see [Subject Definitions](https://www2.census.gov/programs-surveys/acs/tech_docs/subject_definitions/2018_ACSSubjectDefinitions.pdf)."
   ]
  },
  {
   "cell_type": "markdown",
   "metadata": {},
   "source": [
    "#### Commuting"
   ]
  },
  {
   "cell_type": "markdown",
   "metadata": {},
   "source": [
    "             'DP03_0018E': 'workers16YearsAndOver',\n",
    "             'DP03_0019E': 'droveAloneToWorkInCarTruckOrVan',\n",
    "             'DP03_0019PE': 'droveAloneToWorkInCarTruckOrVanPct',\n",
    "             'DP03_0020E': 'carpooledToWorkInCarTruckOrVan',\n",
    "             'DP03_0020PE': 'carpooledToWorkInCarTruckOrVanPct',\n",
    "             'DP03_0021E': 'publicTransportToWork',\n",
    "             'DP03_0021PE': 'publicTransportToWorkPct',\n",
    "             'DP03_0022E': 'walkedToWork',\n",
    "             'DP03_0022PE': 'walkedToWorkPct',\n",
    "             'DP03_0023E': 'otherMeansOfCommutingToWork',\n",
    "             'DP03_0023PE': 'otherMeansOfCommutingToWorkPct',\n",
    "             'DP03_0024E': 'workedAtHome',\n",
    "             'DP03_0024PE': 'workedAtHomePct',\n",
    "             'DP03_0025E': 'meanTravelTimeToWorkMinutes',"
   ]
  },
  {
   "cell_type": "markdown",
   "metadata": {},
   "source": [
    "#### Employment"
   ]
  },
  {
   "cell_type": "markdown",
   "metadata": {},
   "source": [
    "             'DP03_0001E': 'population16YearsAndOver',\n",
    "             'DP03_0002E': 'population16YearsAndOverInLaborForce',\n",
    "             'DP03_0002PE': 'population16YearsAndOverInLaborForcePct',\n",
    "             'DP03_0003E': 'population16YearsAndOverInCivilianLaborForce',\n",
    "             'DP03_0003PE': 'population16YearsAndOverInCivilianLaborForcePct',\n",
    "             'DP03_0006E': 'population16YearsAndOverInArmedForces',\n",
    "             'DP03_0006PE': 'population16YearsAndOverInArmedForcesPct',\n",
    "             'DP03_0007E': 'population16YearsAndOverNotInLaborForce',\n",
    "             'DP03_0007PE': 'population16YearsAndOverNotInLaborForcePct',"
   ]
  },
  {
   "cell_type": "markdown",
   "metadata": {},
   "source": [
    "#### HealthInsurance"
   ]
  },
  {
   "cell_type": "markdown",
   "metadata": {},
   "source": [
    "             'DP03_0095E': 'civilianNoninstitutionalizedPopulation',\n",
    "             'DP03_0096E': 'withHealthInsuranceCoverage',\n",
    "             'DP03_0096PE': 'withHealthInsuranceCoveragePct',\n",
    "             'DP03_0097E': 'withPrivateHealthInsurance',\n",
    "             'DP03_0097PE': 'withPrivateHealthInsurancePct',\n",
    "             'DP03_0098E': 'withPublicCoverage',\n",
    "             'DP03_0098PE': 'withPublicCoveragePct',\n",
    "             'DP03_0099E': 'noHealthInsuranceCoverage',\n",
    "             'DP03_0099PE': 'noHealthInsuranceCoveragePct',"
   ]
  },
  {
   "cell_type": "markdown",
   "metadata": {},
   "source": [
    "#### Income"
   ]
  },
  {
   "cell_type": "markdown",
   "metadata": {},
   "source": [
    "             'DP03_0051E': 'totalHouseholds',\n",
    "             'DP03_0052E': 'householdIncomeLessThan10000USD',\n",
    "             'DP03_0052PE': 'householdIncomeLessThan10000USDPct',\n",
    "             'DP03_0053E': 'householdIncome10000To14999USD',\n",
    "             'DP03_0053PE': 'householdIncome10000To14999USDPct',\n",
    "             'DP03_0054E': 'householdIncome15000To24999USD',\n",
    "             'DP03_0054PE': 'householdIncome15000To24999USDPct',\n",
    "             'DP03_0055E': 'householdIncome25000To34999USD',\n",
    "             'DP03_0055PE': 'householdIncome25000To34999USDPct',\n",
    "             'DP03_0056E': 'householdIncome35000To49999USD',\n",
    "             'DP03_0056PE': 'householdIncome35000To49999USDPct',\n",
    "             'DP03_0057E': 'householdIncome50000To74999USD',\n",
    "             'DP03_0057PE': 'householdIncome50000To74999USDPct',\n",
    "             'DP03_0058E': 'householdIncome75000To99999USD',\n",
    "             'DP03_0058PE': 'householdIncome75000To99999USDPct',\n",
    "             'DP03_0059E': 'householdIncome100000To149999USD',\n",
    "             'DP03_0059PE': 'householdIncome100000To149999USDPct',\n",
    "             'DP03_0060E': 'householdIncome150000To199999USD',\n",
    "             'DP03_0060PE': 'householdIncome150000To199999USDPct',\n",
    "             'DP03_0061E': 'householdIncomeMoreThan200000USD',\n",
    "             'DP03_0061PE': 'householdIncomeMoreThan200000USDPct',\n",
    "             'DP03_0062E': 'medianHouseholdIncomeUSD',\n",
    "             'DP03_0063E': 'meanHouseholdIncomeUSD',"
   ]
  },
  {
   "cell_type": "markdown",
   "metadata": {},
   "source": [
    "#### Occupation"
   ]
  },
  {
   "cell_type": "markdown",
   "metadata": {},
   "source": [
    "             'DP03_0026E': 'civilianEmployedPopulation16YearsAndOver',\n",
    "             'DP03_0027E': 'managementBusinessScienceAndArtsOccupations',\n",
    "             'DP03_0027PE': 'managementBusinessScienceAndArtsOccupationsPct',\n",
    "             'DP03_0028E': 'serviceOccupations',\n",
    "             'DP03_0028PE': 'serviceOccupationsPct',\n",
    "             'DP03_0029E': 'salesAndOfficeOccupations',\n",
    "             'DP03_0029PE': 'salesAndOfficeOccupationsPct',\n",
    "             'DP03_0030E': 'naturalResourcesConstructionAndMaintenanceOccupations',\n",
    "             'DP03_0030PE': 'naturalResourcesConstructionAndMaintenanceOccupationsPct',\n",
    "             'DP03_0031E': 'productionTransportationAndMaterialMovingOccupations',\n",
    "             'DP03_0031PE': 'productionTransportationAndMaterialMovingOccupationsPct'"
   ]
  },
  {
   "cell_type": "markdown",
   "metadata": {},
   "source": [
    "## Geographic granularity\n",
    "Data are available at 3 levels of granularity:\n",
    "* US County\n",
    "* US Zip Code\n",
    "* US Census Tract"
   ]
  },
  {
   "cell_type": "markdown",
   "metadata": {},
   "source": [
    "## Query Examples"
   ]
  },
  {
   "cell_type": "markdown",
   "metadata": {},
   "source": [
    "### Get Data By US County"
   ]
  },
  {
   "cell_type": "markdown",
   "metadata": {},
   "source": [
    "If the state and county fips codes are available, economic characteristics can be retrieved directly.\n",
    "\n",
    "Note, fips codes are represented as strings."
   ]
  },
  {
   "cell_type": "markdown",
   "metadata": {},
   "source": [
    "##### Example: Commuting"
   ]
  },
  {
   "cell_type": "code",
   "execution_count": 44,
   "metadata": {},
   "outputs": [],
   "source": [
    "state_fips = '06'\n",
    "county_fips = '073'"
   ]
  },
  {
   "cell_type": "code",
   "execution_count": 45,
   "metadata": {},
   "outputs": [
    {
     "data": {
      "text/html": [
       "<div>\n",
       "<style scoped>\n",
       "    .dataframe tbody tr th:only-of-type {\n",
       "        vertical-align: middle;\n",
       "    }\n",
       "\n",
       "    .dataframe tbody tr th {\n",
       "        vertical-align: top;\n",
       "    }\n",
       "\n",
       "    .dataframe thead th {\n",
       "        text-align: right;\n",
       "    }\n",
       "</style>\n",
       "<table border=\"1\" class=\"dataframe\">\n",
       "  <thead>\n",
       "    <tr style=\"text-align: right;\">\n",
       "      <th></th>\n",
       "      <th>c.stateFips</th>\n",
       "      <th>c.countyFips</th>\n",
       "      <th>c.droveAloneToWorkInCarTruckOrVanPct</th>\n",
       "      <th>c.publicTransportToWorkPct</th>\n",
       "      <th>c.walkedToWorkPct</th>\n",
       "      <th>c.otherMeansOfCommutingToWorkPct</th>\n",
       "      <th>c.workedAtHomePct</th>\n",
       "    </tr>\n",
       "  </thead>\n",
       "  <tbody>\n",
       "    <tr>\n",
       "      <th>0</th>\n",
       "      <td>06</td>\n",
       "      <td>073</td>\n",
       "      <td>76.3</td>\n",
       "      <td>2.9</td>\n",
       "      <td>2.9</td>\n",
       "      <td>2.3</td>\n",
       "      <td>7.0</td>\n",
       "    </tr>\n",
       "  </tbody>\n",
       "</table>\n",
       "</div>"
      ],
      "text/plain": [
       "  c.stateFips c.countyFips  c.droveAloneToWorkInCarTruckOrVanPct  \\\n",
       "0          06          073                                  76.3   \n",
       "\n",
       "   c.publicTransportToWorkPct  c.walkedToWorkPct  \\\n",
       "0                         2.9                2.9   \n",
       "\n",
       "   c.otherMeansOfCommutingToWorkPct  c.workedAtHomePct  \n",
       "0                               2.3                7.0  "
      ]
     },
     "execution_count": 45,
     "metadata": {},
     "output_type": "execute_result"
    }
   ],
   "source": [
    "query = \"\"\"\n",
    "MATCH (c:Commuting{countyFips:$county_fips, stateFips:$state_fips})\n",
    "RETURN c.stateFips, c.countyFips, c.droveAloneToWorkInCarTruckOrVanPct, c.publicTransportToWorkPct, \n",
    "       c.walkedToWorkPct, c.otherMeansOfCommutingToWorkPct, c.workedAtHomePct\n",
    "\"\"\"\n",
    "df = graph.run(query, county_fips=county_fips, state_fips=state_fips).to_data_frame()\n",
    "df.head()"
   ]
  },
  {
   "cell_type": "markdown",
   "metadata": {},
   "source": [
    "Example: Get Employment characteristics using by following relationships"
   ]
  },
  {
   "cell_type": "code",
   "execution_count": 46,
   "metadata": {},
   "outputs": [],
   "source": [
    "county = 'Los Angeles County'"
   ]
  },
  {
   "cell_type": "code",
   "execution_count": 47,
   "metadata": {},
   "outputs": [
    {
     "data": {
      "text/html": [
       "<div>\n",
       "<style scoped>\n",
       "    .dataframe tbody tr th:only-of-type {\n",
       "        vertical-align: middle;\n",
       "    }\n",
       "\n",
       "    .dataframe tbody tr th {\n",
       "        vertical-align: top;\n",
       "    }\n",
       "\n",
       "    .dataframe thead th {\n",
       "        text-align: right;\n",
       "    }\n",
       "</style>\n",
       "<table border=\"1\" class=\"dataframe\">\n",
       "  <thead>\n",
       "    <tr style=\"text-align: right;\">\n",
       "      <th></th>\n",
       "      <th>a.name</th>\n",
       "      <th>e.population16YearsAndOverInLaborForcePct</th>\n",
       "      <th>e.population16YearsAndOverInCivilianLaborForcePct</th>\n",
       "      <th>e.population16YearsAndOverInArmedForcesPct</th>\n",
       "      <th>e.population16YearsAndOverNotInLaborForcePct</th>\n",
       "    </tr>\n",
       "  </thead>\n",
       "  <tbody>\n",
       "    <tr>\n",
       "      <th>0</th>\n",
       "      <td>Los Angeles County</td>\n",
       "      <td>64.5</td>\n",
       "      <td>64.4</td>\n",
       "      <td>0.0</td>\n",
       "      <td>35</td>\n",
       "    </tr>\n",
       "  </tbody>\n",
       "</table>\n",
       "</div>"
      ],
      "text/plain": [
       "               a.name  e.population16YearsAndOverInLaborForcePct  \\\n",
       "0  Los Angeles County                                       64.5   \n",
       "\n",
       "   e.population16YearsAndOverInCivilianLaborForcePct  \\\n",
       "0                                               64.4   \n",
       "\n",
       "   e.population16YearsAndOverInArmedForcesPct  \\\n",
       "0                                         0.0   \n",
       "\n",
       "   e.population16YearsAndOverNotInLaborForcePct  \n",
       "0                                            35  "
      ]
     },
     "execution_count": 47,
     "metadata": {},
     "output_type": "execute_result"
    }
   ],
   "source": [
    "query = \"\"\"\n",
    "MATCH (a:Admin2{name:$admin2})-[:HAS_ECONOMICS]-(:Economics)-[:HAS_EMPLOYMENT]-(e:Employment)\n",
    "RETURN a.name, e.population16YearsAndOverInLaborForcePct, e.population16YearsAndOverInCivilianLaborForcePct,\n",
    "       e.population16YearsAndOverInArmedForcesPct, e.population16YearsAndOverNotInLaborForcePct\n",
    "\"\"\"\n",
    "df = graph.run(query, admin2=county).to_data_frame()\n",
    "df.head()"
   ]
  },
  {
   "cell_type": "markdown",
   "metadata": {},
   "source": [
    "### Get Data by US Postal Code\n",
    "\n",
    "Note, postal codes are represented as strings."
   ]
  },
  {
   "cell_type": "code",
   "execution_count": 48,
   "metadata": {},
   "outputs": [],
   "source": [
    "zip_code = '92130'"
   ]
  },
  {
   "cell_type": "code",
   "execution_count": 49,
   "metadata": {},
   "outputs": [
    {
     "data": {
      "text/html": [
       "<div>\n",
       "<style scoped>\n",
       "    .dataframe tbody tr th:only-of-type {\n",
       "        vertical-align: middle;\n",
       "    }\n",
       "\n",
       "    .dataframe tbody tr th {\n",
       "        vertical-align: top;\n",
       "    }\n",
       "\n",
       "    .dataframe thead th {\n",
       "        text-align: right;\n",
       "    }\n",
       "</style>\n",
       "<table border=\"1\" class=\"dataframe\">\n",
       "  <thead>\n",
       "    <tr style=\"text-align: right;\">\n",
       "      <th></th>\n",
       "    </tr>\n",
       "  </thead>\n",
       "  <tbody>\n",
       "  </tbody>\n",
       "</table>\n",
       "</div>"
      ],
      "text/plain": [
       "Empty DataFrame\n",
       "Columns: []\n",
       "Index: []"
      ]
     },
     "execution_count": 49,
     "metadata": {},
     "output_type": "execute_result"
    }
   ],
   "source": [
    "query = \"\"\"\n",
    "MATCH (h:HealthInsurance{postalCode: $zip_code})\n",
    "RETURN h.postalCode, h.withHealthInsuranceCoveragePct, h.withPrivateHealthInsurancePct,\n",
    "       h.withPublicCoveragePct, h.noHealthInsuranceCoveragePct\n",
    "\"\"\"\n",
    "df = graph.run(query, zip_code=zip_code).to_data_frame()\n",
    "df.head()"
   ]
  },
  {
   "cell_type": "markdown",
   "metadata": {},
   "source": [
    "##### Example: List income data for Zip codes with a place name\n",
    "\n",
    "Note, Zip code areas may cross city boundaries. Place names are the preferred names used by the US Postal Service."
   ]
  },
  {
   "cell_type": "code",
   "execution_count": 57,
   "metadata": {},
   "outputs": [
    {
     "data": {
      "text/html": [
       "<div>\n",
       "<style scoped>\n",
       "    .dataframe tbody tr th:only-of-type {\n",
       "        vertical-align: middle;\n",
       "    }\n",
       "\n",
       "    .dataframe tbody tr th {\n",
       "        vertical-align: top;\n",
       "    }\n",
       "\n",
       "    .dataframe thead th {\n",
       "        text-align: right;\n",
       "    }\n",
       "</style>\n",
       "<table border=\"1\" class=\"dataframe\">\n",
       "  <thead>\n",
       "    <tr style=\"text-align: right;\">\n",
       "      <th></th>\n",
       "      <th>Zip code</th>\n",
       "      <th>Median Household Income</th>\n",
       "      <th>Mean Household Income</th>\n",
       "    </tr>\n",
       "  </thead>\n",
       "  <tbody>\n",
       "    <tr>\n",
       "      <th>0</th>\n",
       "      <td>91910</td>\n",
       "      <td>61922</td>\n",
       "      <td>None</td>\n",
       "    </tr>\n",
       "    <tr>\n",
       "      <th>1</th>\n",
       "      <td>91911</td>\n",
       "      <td>58598</td>\n",
       "      <td>None</td>\n",
       "    </tr>\n",
       "    <tr>\n",
       "      <th>2</th>\n",
       "      <td>91913</td>\n",
       "      <td>96617</td>\n",
       "      <td>None</td>\n",
       "    </tr>\n",
       "    <tr>\n",
       "      <th>3</th>\n",
       "      <td>91914</td>\n",
       "      <td>133730</td>\n",
       "      <td>None</td>\n",
       "    </tr>\n",
       "    <tr>\n",
       "      <th>4</th>\n",
       "      <td>91915</td>\n",
       "      <td>112083</td>\n",
       "      <td>None</td>\n",
       "    </tr>\n",
       "  </tbody>\n",
       "</table>\n",
       "</div>"
      ],
      "text/plain": [
       "  Zip code  Median Household Income Mean Household Income\n",
       "0    91910                    61922                  None\n",
       "1    91911                    58598                  None\n",
       "2    91913                    96617                  None\n",
       "3    91914                   133730                  None\n",
       "4    91915                   112083                  None"
      ]
     },
     "execution_count": 57,
     "metadata": {},
     "output_type": "execute_result"
    }
   ],
   "source": [
    "place_name = 'Chula Vista'\n",
    "\n",
    "query = \"\"\"\n",
    "MATCH (p:PostalCode{placeName:$place_name})-[:HAS_ECONOMICS]-(:Economics)-[:HAS_INCOME]-(i:Income)\n",
    "RETURN p.name AS `Zip code`, \n",
    "       i.medianHouseholdIncomeUSD AS `Median Household Income`, \n",
    "       i.meanHouseholdIncomeUSD AS `Mean Household Income`\n",
    "\"\"\"\n",
    "df = graph.run(query, place_name=place_name).to_data_frame()\n",
    "df.head()"
   ]
  },
  {
   "cell_type": "code",
   "execution_count": 59,
   "metadata": {},
   "outputs": [
    {
     "data": {
      "image/png": "[encoded data removed]",
      "text/plain": [
       "<Figure size 432x288 with 1 Axes>"
      ]
     },
     "metadata": {
      "needs_background": "light"
     },
     "output_type": "display_data"
    }
   ],
   "source": [
    "df.plot.bar(x='Zip code', \n",
    "            y=[\"Median Household Income\", \"Mean Household Income\"], \n",
    "            title='Income [USD]', rot=0);"
   ]
  },
  {
   "cell_type": "markdown",
   "metadata": {},
   "source": [
    "### Get Data by US Census Tract\n",
    "\n",
    "Note, tracts are represented at strings."
   ]
  },
  {
   "cell_type": "markdown",
   "metadata": {},
   "source": [
    "##### Example: Occupations for a tract"
   ]
  },
  {
   "cell_type": "code",
   "execution_count": 12,
   "metadata": {},
   "outputs": [],
   "source": [
    "tract = '06073008324'"
   ]
  },
  {
   "cell_type": "code",
   "execution_count": 13,
   "metadata": {},
   "outputs": [
    {
     "data": {
      "text/html": [
       "<div>\n",
       "<style scoped>\n",
       "    .dataframe tbody tr th:only-of-type {\n",
       "        vertical-align: middle;\n",
       "    }\n",
       "\n",
       "    .dataframe tbody tr th {\n",
       "        vertical-align: top;\n",
       "    }\n",
       "\n",
       "    .dataframe thead th {\n",
       "        text-align: right;\n",
       "    }\n",
       "</style>\n",
       "<table border=\"1\" class=\"dataframe\">\n",
       "  <thead>\n",
       "    <tr style=\"text-align: right;\">\n",
       "      <th></th>\n",
       "      <th>e.tract</th>\n",
       "      <th>e.someCollegeNoDegreePct</th>\n",
       "      <th>e.associatesDegreePct</th>\n",
       "      <th>e.bachelorsDegreePct</th>\n",
       "      <th>e.graduateOrProfessionalDegreePct</th>\n",
       "    </tr>\n",
       "  </thead>\n",
       "  <tbody>\n",
       "    <tr>\n",
       "      <th>0</th>\n",
       "      <td>06073008324</td>\n",
       "      <td>15.0</td>\n",
       "      <td>3.3</td>\n",
       "      <td>31.1</td>\n",
       "      <td>42.7</td>\n",
       "    </tr>\n",
       "  </tbody>\n",
       "</table>\n",
       "</div>"
      ],
      "text/plain": [
       "       e.tract  e.someCollegeNoDegreePct  e.associatesDegreePct  \\\n",
       "0  06073008324                      15.0                    3.3   \n",
       "\n",
       "   e.bachelorsDegreePct  e.graduateOrProfessionalDegreePct  \n",
       "0                  31.1                               42.7  "
      ]
     },
     "execution_count": 13,
     "metadata": {},
     "output_type": "execute_result"
    }
   ],
   "source": [
    "query = \"\"\"\n",
    "MATCH (o:Occupation{tract: $tract})\n",
    "RETURN o.tract,\n",
    "       o.managementBusinessScienceAndArtsOccupationsPct,\n",
    "       o.serviceOccupationsPct,\n",
    "       o.salesAndOfficeOccupationsPct,\n",
    "       o.naturalResourcesConstructionAndMaintenanceOccupationsPct,\n",
    "       o.productionTransportationAndMaterialMovingOccupationsPct\n",
    "\"\"\"\n",
    "df = graph.run(query, tract=tract).to_data_frame()\n",
    "df.head()"
   ]
  },
  {
   "cell_type": "markdown",
   "metadata": {},
   "source": [
    "##### Example: List Occupations for all tracts in a county"
   ]
  },
  {
   "cell_type": "code",
   "execution_count": 14,
   "metadata": {},
   "outputs": [
    {
     "data": {
      "text/html": [
       "<div>\n",
       "<style scoped>\n",
       "    .dataframe tbody tr th:only-of-type {\n",
       "        vertical-align: middle;\n",
       "    }\n",
       "\n",
       "    .dataframe tbody tr th {\n",
       "        vertical-align: top;\n",
       "    }\n",
       "\n",
       "    .dataframe thead th {\n",
       "        text-align: right;\n",
       "    }\n",
       "</style>\n",
       "<table border=\"1\" class=\"dataframe\">\n",
       "  <thead>\n",
       "    <tr style=\"text-align: right;\">\n",
       "      <th></th>\n",
       "    </tr>\n",
       "  </thead>\n",
       "  <tbody>\n",
       "  </tbody>\n",
       "</table>\n",
       "</div>"
      ],
      "text/plain": [
       "Empty DataFrame\n",
       "Columns: []\n",
       "Index: []"
      ]
     },
     "execution_count": 14,
     "metadata": {},
     "output_type": "execute_result"
    }
   ],
   "source": [
    "state = 'California'\n",
    "county = 'Orange County'\n",
    "\n",
    "query = \"\"\"\n",
    "MATCH (a1:Admin1{name: $admin1})-[:IN]-(a2:Admin2{name: $admin2})-[:IN]-(t:Tract)-[:HAS_ECONOMICS]-(:Economics)-[:HAS_OCCUPATION]-(o:Occupation)\n",
    "RETURN a1.name AS State, a2.name AS County, t.name AS Tract,\n",
    "       o.managementBusinessScienceAndArtsOccupationsPct,\n",
    "       o.serviceOccupationsPct,\n",
    "       o.salesAndOfficeOccupationsPct,\n",
    "       o.naturalResourcesConstructionAndMaintenanceOccupationsPct,\n",
    "       o.productionTransportationAndMaterialMovingOccupationsPct\n",
    "\"\"\"\n",
    "df = graph.run(query, admin1=state, admin2=county).to_data_frame()\n",
    "df.head()"
   ]
  }
 ],
 "metadata": {
  "kernelspec": {
   "display_name": "Python 3",
   "language": "python",
   "name": "python3"
  },
  "language_info": {
   "codemirror_mode": {
    "name": "ipython",
    "version": 3
   },
   "file_extension": ".py",
   "mimetype": "text/x-python",
   "name": "python",
   "nbconvert_exporter": "python",
   "pygments_lexer": "ipython3",
   "version": "3.8.3"
  }
 },
 "nbformat": 4,
 "nbformat_minor": 4
}

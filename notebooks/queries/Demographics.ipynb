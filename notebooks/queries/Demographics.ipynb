{
 "cells": [
  {
   "cell_type": "markdown",
   "metadata": {},
   "source": [
    "# Example queries for Demographics on COVID-19 Knowledge Graph\n",
    "[Work in progress]\n",
    "\n",
    "This notebook demonstrates how to run Cypher queries to get Demographics from the American Community Survey 5-year data at different levels of geographic granularity.\n",
    "\n",
    "Demographics includes total population, and population by sex, race, ethnicity, and age group."
   ]
  },
  {
   "cell_type": "code",
   "execution_count": 1,
   "metadata": {},
   "outputs": [],
   "source": [
    "import pandas as pd\n",
    "import matplotlib.pyplot as plt\n",
    "from py2neo import Graph"
   ]
  },
  {
   "cell_type": "code",
   "execution_count": 2,
   "metadata": {},
   "outputs": [],
   "source": [
    "pd.options.display.max_rows = None  # display all rows\n",
    "pd.options.display.max_columns = None  # display all columsns"
   ]
  },
  {
   "cell_type": "markdown",
   "metadata": {},
   "source": [
    "#### Connect to COVID-19-Net Knowledge Graph"
   ]
  },
  {
   "cell_type": "code",
   "execution_count": 3,
   "metadata": {},
   "outputs": [],
   "source": [
    "graph = Graph(\"bolt://132.249.238.185:7687\", user=\"reader\", password=\"demo\")"
   ]
  },
  {
   "cell_type": "markdown",
   "metadata": {},
   "source": [
    "### Get demographics by Zip code"
   ]
  },
  {
   "cell_type": "code",
   "execution_count": 4,
   "metadata": {},
   "outputs": [],
   "source": [
    "zip_code = '90210'"
   ]
  },
  {
   "cell_type": "markdown",
   "metadata": {},
   "source": [
    "##### Total population and sex"
   ]
  },
  {
   "cell_type": "code",
   "execution_count": 5,
   "metadata": {},
   "outputs": [
    {
     "data": {
      "text/html": [
       "<div>\n",
       "<style scoped>\n",
       "    .dataframe tbody tr th:only-of-type {\n",
       "        vertical-align: middle;\n",
       "    }\n",
       "\n",
       "    .dataframe tbody tr th {\n",
       "        vertical-align: top;\n",
       "    }\n",
       "\n",
       "    .dataframe thead th {\n",
       "        text-align: right;\n",
       "    }\n",
       "</style>\n",
       "<table border=\"1\" class=\"dataframe\">\n",
       "  <thead>\n",
       "    <tr style=\"text-align: right;\">\n",
       "      <th></th>\n",
       "      <th>p.name</th>\n",
       "      <th>d.totalPopulation</th>\n",
       "      <th>d.male</th>\n",
       "      <th>d.female</th>\n",
       "    </tr>\n",
       "  </thead>\n",
       "  <tbody>\n",
       "    <tr>\n",
       "      <th>0</th>\n",
       "      <td>90210</td>\n",
       "      <td>19909</td>\n",
       "      <td>9599</td>\n",
       "      <td>10310</td>\n",
       "    </tr>\n",
       "  </tbody>\n",
       "</table>\n",
       "</div>"
      ],
      "text/plain": [
       "  p.name  d.totalPopulation  d.male  d.female\n",
       "0  90210              19909    9599     10310"
      ]
     },
     "execution_count": 5,
     "metadata": {},
     "output_type": "execute_result"
    }
   ],
   "source": [
    "query = \"\"\"\n",
    "MATCH (p:PostalCode{name:$zip_code})-[:HAS_DEMOGRAPHICS]-(d:Demographics)\n",
    "RETURN p.name, d.totalPopulation, d.male, d.female\n",
    "\"\"\"\n",
    "df = graph.run(query, zip_code=zip_code).to_data_frame()\n",
    "df.head()"
   ]
  },
  {
   "cell_type": "markdown",
   "metadata": {},
   "source": [
    "##### Total population and race"
   ]
  },
  {
   "cell_type": "code",
   "execution_count": 6,
   "metadata": {},
   "outputs": [
    {
     "data": {
      "text/html": [
       "<div>\n",
       "<style scoped>\n",
       "    .dataframe tbody tr th:only-of-type {\n",
       "        vertical-align: middle;\n",
       "    }\n",
       "\n",
       "    .dataframe tbody tr th {\n",
       "        vertical-align: top;\n",
       "    }\n",
       "\n",
       "    .dataframe thead th {\n",
       "        text-align: right;\n",
       "    }\n",
       "</style>\n",
       "<table border=\"1\" class=\"dataframe\">\n",
       "  <thead>\n",
       "    <tr style=\"text-align: right;\">\n",
       "      <th></th>\n",
       "      <th>p.name</th>\n",
       "      <th>d.totalPopulation</th>\n",
       "      <th>d.white</th>\n",
       "      <th>d.blackOrAfricanAmerican</th>\n",
       "      <th>d.americanIndianAndAlaskaNative</th>\n",
       "      <th>d.asian</th>\n",
       "      <th>d.nativeHawaiianAndOtherPacificIslander</th>\n",
       "      <th>d.otherRace</th>\n",
       "      <th>d.twoOrMoreRaces</th>\n",
       "    </tr>\n",
       "  </thead>\n",
       "  <tbody>\n",
       "    <tr>\n",
       "      <th>0</th>\n",
       "      <td>90210</td>\n",
       "      <td>19909</td>\n",
       "      <td>16911</td>\n",
       "      <td>0</td>\n",
       "      <td>21</td>\n",
       "      <td>1782</td>\n",
       "      <td>0</td>\n",
       "      <td>313</td>\n",
       "      <td>684</td>\n",
       "    </tr>\n",
       "  </tbody>\n",
       "</table>\n",
       "</div>"
      ],
      "text/plain": [
       "  p.name  d.totalPopulation  d.white  d.blackOrAfricanAmerican  \\\n",
       "0  90210              19909    16911                         0   \n",
       "\n",
       "   d.americanIndianAndAlaskaNative  d.asian  \\\n",
       "0                               21     1782   \n",
       "\n",
       "   d.nativeHawaiianAndOtherPacificIslander  d.otherRace  d.twoOrMoreRaces  \n",
       "0                                        0          313               684  "
      ]
     },
     "execution_count": 6,
     "metadata": {},
     "output_type": "execute_result"
    }
   ],
   "source": [
    "query = \"\"\"\n",
    "MATCH (p:PostalCode{name:$zip_code})-[:HAS_DEMOGRAPHICS]-(d:Demographics)\n",
    "RETURN p.name, d.totalPopulation, d.white, d.blackOrAfricanAmerican, d.americanIndianAndAlaskaNative, \n",
    "       d.asian, d.nativeHawaiianAndOtherPacificIslander,d.otherRace, d.twoOrMoreRaces\n",
    "\"\"\"\n",
    "df = graph.run(query, zip_code=zip_code).to_data_frame()\n",
    "df.fillna(0, inplace=True)\n",
    "df.head()"
   ]
  },
  {
   "cell_type": "code",
   "execution_count": 7,
   "metadata": {},
   "outputs": [
    {
     "data": {
      "text/plain": [
       "0    19711\n",
       "dtype: int64"
      ]
     },
     "execution_count": 7,
     "metadata": {},
     "output_type": "execute_result"
    }
   ],
   "source": [
    "df['d.white'] + df['d.blackOrAfricanAmerican'] + df['d.americanIndianAndAlaskaNative'] + \\\n",
    "                df['d.asian'] + df['d.nativeHawaiianAndOtherPacificIslander'] + \\\n",
    "                df['d.otherRace'] + df['d.twoOrMoreRaces']"
   ]
  },
  {
   "cell_type": "markdown",
   "metadata": {},
   "source": [
    "##### Total population and ethnicity\n",
    "This example lists the total population and ethnicity for Zip codes with the place name Chula Vista (California)"
   ]
  },
  {
   "cell_type": "code",
   "execution_count": 8,
   "metadata": {},
   "outputs": [
    {
     "data": {
      "text/html": [
       "<div>\n",
       "<style scoped>\n",
       "    .dataframe tbody tr th:only-of-type {\n",
       "        vertical-align: middle;\n",
       "    }\n",
       "\n",
       "    .dataframe tbody tr th {\n",
       "        vertical-align: top;\n",
       "    }\n",
       "\n",
       "    .dataframe thead th {\n",
       "        text-align: right;\n",
       "    }\n",
       "</style>\n",
       "<table border=\"1\" class=\"dataframe\">\n",
       "  <thead>\n",
       "    <tr style=\"text-align: right;\">\n",
       "      <th></th>\n",
       "      <th>Zip code</th>\n",
       "      <th>p.placeName</th>\n",
       "      <th>d.totalPopulation</th>\n",
       "      <th>Hispanic or Latino</th>\n",
       "      <th>not Hispanic or Latino</th>\n",
       "    </tr>\n",
       "  </thead>\n",
       "  <tbody>\n",
       "    <tr>\n",
       "      <th>0</th>\n",
       "      <td>91910</td>\n",
       "      <td>Chula Vista</td>\n",
       "      <td>74297</td>\n",
       "      <td>45307</td>\n",
       "      <td>28990</td>\n",
       "    </tr>\n",
       "    <tr>\n",
       "      <th>1</th>\n",
       "      <td>91911</td>\n",
       "      <td>Chula Vista</td>\n",
       "      <td>85365</td>\n",
       "      <td>61189</td>\n",
       "      <td>24176</td>\n",
       "    </tr>\n",
       "    <tr>\n",
       "      <th>2</th>\n",
       "      <td>91913</td>\n",
       "      <td>Chula Vista</td>\n",
       "      <td>53072</td>\n",
       "      <td>24788</td>\n",
       "      <td>28284</td>\n",
       "    </tr>\n",
       "    <tr>\n",
       "      <th>3</th>\n",
       "      <td>91914</td>\n",
       "      <td>Chula Vista</td>\n",
       "      <td>16357</td>\n",
       "      <td>7490</td>\n",
       "      <td>8867</td>\n",
       "    </tr>\n",
       "    <tr>\n",
       "      <th>4</th>\n",
       "      <td>91915</td>\n",
       "      <td>Chula Vista</td>\n",
       "      <td>31740</td>\n",
       "      <td>15287</td>\n",
       "      <td>16453</td>\n",
       "    </tr>\n",
       "  </tbody>\n",
       "</table>\n",
       "</div>"
      ],
      "text/plain": [
       "  Zip code  p.placeName  d.totalPopulation  Hispanic or Latino  \\\n",
       "0    91910  Chula Vista              74297               45307   \n",
       "1    91911  Chula Vista              85365               61189   \n",
       "2    91913  Chula Vista              53072               24788   \n",
       "3    91914  Chula Vista              16357                7490   \n",
       "4    91915  Chula Vista              31740               15287   \n",
       "\n",
       "   not Hispanic or Latino  \n",
       "0                   28990  \n",
       "1                   24176  \n",
       "2                   28284  \n",
       "3                    8867  \n",
       "4                   16453  "
      ]
     },
     "execution_count": 8,
     "metadata": {},
     "output_type": "execute_result"
    }
   ],
   "source": [
    "place_name = 'Chula Vista'\n",
    "\n",
    "query = \"\"\"\n",
    "MATCH (p:PostalCode{placeName:$place_name})-[:HAS_DEMOGRAPHICS]-(d:Demographics)\n",
    "RETURN p.name as `Zip code`, p.placeName, d.totalPopulation, d.hispanicOrLatino as `Hispanic or Latino`, \n",
    "       d.notHispanicOrLatino as `not Hispanic or Latino`\n",
    "\"\"\"\n",
    "df = graph.run(query, place_name=place_name).to_data_frame()\n",
    "df.head()"
   ]
  },
  {
   "cell_type": "code",
   "execution_count": 9,
   "metadata": {},
   "outputs": [
    {
     "data": {
      "image/png": "[encoded data removed]",
      "text/plain": [
       "<Figure size 432x288 with 1 Axes>"
      ]
     },
     "metadata": {
      "needs_background": "light"
     },
     "output_type": "display_data"
    }
   ],
   "source": [
    "df.plot.bar(x='Zip code', y=['Hispanic or Latino', 'not Hispanic or Latino'], rot=0);"
   ]
  },
  {
   "cell_type": "markdown",
   "metadata": {},
   "source": [
    "##### Total population and age groups"
   ]
  },
  {
   "cell_type": "code",
   "execution_count": 10,
   "metadata": {},
   "outputs": [
    {
     "data": {
      "text/html": [
       "<div>\n",
       "<style scoped>\n",
       "    .dataframe tbody tr th:only-of-type {\n",
       "        vertical-align: middle;\n",
       "    }\n",
       "\n",
       "    .dataframe tbody tr th {\n",
       "        vertical-align: top;\n",
       "    }\n",
       "\n",
       "    .dataframe thead th {\n",
       "        text-align: right;\n",
       "    }\n",
       "</style>\n",
       "<table border=\"1\" class=\"dataframe\">\n",
       "  <thead>\n",
       "    <tr style=\"text-align: right;\">\n",
       "      <th></th>\n",
       "      <th>p.name</th>\n",
       "      <th>d.totalPopulation</th>\n",
       "      <th>d.age0_4</th>\n",
       "      <th>d.age5_9</th>\n",
       "      <th>d.age10_14</th>\n",
       "      <th>d.age15_19</th>\n",
       "      <th>d.age20_24</th>\n",
       "      <th>d.age25_34</th>\n",
       "      <th>d.age35_44</th>\n",
       "      <th>d.age45_54</th>\n",
       "      <th>d.age55_59</th>\n",
       "      <th>d.age60_64</th>\n",
       "      <th>d.age65_74</th>\n",
       "      <th>d.age75_84</th>\n",
       "      <th>d.age85_</th>\n",
       "    </tr>\n",
       "  </thead>\n",
       "  <tbody>\n",
       "    <tr>\n",
       "      <th>0</th>\n",
       "      <td>90210</td>\n",
       "      <td>19909</td>\n",
       "      <td>710</td>\n",
       "      <td>1014</td>\n",
       "      <td>1482</td>\n",
       "      <td>1066</td>\n",
       "      <td>519</td>\n",
       "      <td>1956</td>\n",
       "      <td>2292</td>\n",
       "      <td>3143</td>\n",
       "      <td>1282</td>\n",
       "      <td>1093</td>\n",
       "      <td>2562</td>\n",
       "      <td>1695</td>\n",
       "      <td>1095</td>\n",
       "    </tr>\n",
       "  </tbody>\n",
       "</table>\n",
       "</div>"
      ],
      "text/plain": [
       "  p.name  d.totalPopulation  d.age0_4  d.age5_9  d.age10_14  d.age15_19  \\\n",
       "0  90210              19909       710      1014        1482        1066   \n",
       "\n",
       "   d.age20_24  d.age25_34  d.age35_44  d.age45_54  d.age55_59  d.age60_64  \\\n",
       "0         519        1956        2292        3143        1282        1093   \n",
       "\n",
       "   d.age65_74  d.age75_84  d.age85_  \n",
       "0        2562        1695      1095  "
      ]
     },
     "execution_count": 10,
     "metadata": {},
     "output_type": "execute_result"
    }
   ],
   "source": [
    "query = \"\"\"\n",
    "MATCH (p:PostalCode{name:$zip_code})-[:HAS_DEMOGRAPHICS]-(d:Demographics)\n",
    "RETURN p.name, d.totalPopulation, d.age0_4, d.age5_9, d.age10_14, d.age15_19, d.age20_24, \n",
    "       d.age25_34, d.age35_44, d.age45_54, d.age55_59, d.age60_64, d.age65_74, d.age75_84, d.age85_\n",
    "\"\"\"\n",
    "df = graph.run(query, zip_code=zip_code).to_data_frame()\n",
    "df.head()"
   ]
  },
  {
   "cell_type": "markdown",
   "metadata": {},
   "source": [
    "Check: The sum of all age groups should add up to the total population."
   ]
  },
  {
   "cell_type": "code",
   "execution_count": 11,
   "metadata": {},
   "outputs": [
    {
     "data": {
      "text/plain": [
       "0    19909\n",
       "dtype: int64"
      ]
     },
     "execution_count": 11,
     "metadata": {},
     "output_type": "execute_result"
    }
   ],
   "source": [
    "df['d.age0_4'] + df['d.age5_9'] + df['d.age10_14'] + df['d.age15_19'] + df['d.age20_24'] + df['d.age25_34'] + \\\n",
    "                 df['d.age35_44'] + df['d.age45_54'] + df['d.age55_59'] + df['d.age60_64'] + df['d.age65_74'] + df['d.age75_84'] + \\\n",
    "                 df['d.age85_']"
   ]
  },
  {
   "cell_type": "markdown",
   "metadata": {},
   "source": [
    "# Get demographics by US Census tract"
   ]
  },
  {
   "cell_type": "markdown",
   "metadata": {},
   "source": [
    "##### Total population and race\n",
    "This example shows how to aggregate tract-level data to the county (Admin2) level"
   ]
  },
  {
   "cell_type": "code",
   "execution_count": 12,
   "metadata": {},
   "outputs": [],
   "source": [
    "county = 'San Diego County'"
   ]
  },
  {
   "cell_type": "code",
   "execution_count": 13,
   "metadata": {},
   "outputs": [
    {
     "data": {
      "text/html": [
       "<div>\n",
       "<style scoped>\n",
       "    .dataframe tbody tr th:only-of-type {\n",
       "        vertical-align: middle;\n",
       "    }\n",
       "\n",
       "    .dataframe tbody tr th {\n",
       "        vertical-align: top;\n",
       "    }\n",
       "\n",
       "    .dataframe thead th {\n",
       "        text-align: right;\n",
       "    }\n",
       "</style>\n",
       "<table border=\"1\" class=\"dataframe\">\n",
       "  <thead>\n",
       "    <tr style=\"text-align: right;\">\n",
       "      <th></th>\n",
       "      <th>County</th>\n",
       "      <th>Total</th>\n",
       "      <th>White</th>\n",
       "      <th>Black or African American</th>\n",
       "      <th>American Indian and Alaskan Native</th>\n",
       "      <th>Asian</th>\n",
       "      <th>Native Hawaiian and other Pacific Islander</th>\n",
       "      <th>other Race</th>\n",
       "      <th>two or more Races</th>\n",
       "    </tr>\n",
       "  </thead>\n",
       "  <tbody>\n",
       "    <tr>\n",
       "      <th>0</th>\n",
       "      <td>San Diego County</td>\n",
       "      <td>3302833</td>\n",
       "      <td>2335447</td>\n",
       "      <td>0</td>\n",
       "      <td>20980</td>\n",
       "      <td>390418</td>\n",
       "      <td>13903</td>\n",
       "      <td>205307</td>\n",
       "      <td>170366</td>\n",
       "    </tr>\n",
       "  </tbody>\n",
       "</table>\n",
       "</div>"
      ],
      "text/plain": [
       "             County    Total    White  Black or African American  \\\n",
       "0  San Diego County  3302833  2335447                          0   \n",
       "\n",
       "   American Indian and Alaskan Native   Asian  \\\n",
       "0                               20980  390418   \n",
       "\n",
       "   Native Hawaiian and other Pacific Islander  other Race  two or more Races  \n",
       "0                                       13903      205307             170366  "
      ]
     },
     "execution_count": 13,
     "metadata": {},
     "output_type": "execute_result"
    }
   ],
   "source": [
    "query = \"\"\"\n",
    "MATCH (a:Admin2{name: $county})<-[:IN]-(t:Tract)-[:HAS_DEMOGRAPHICS]-(d:Demographics)\n",
    "RETURN a.name AS County, sum(d.totalPopulation) as Total, sum(d.white) AS White, sum(d.blackOrAfricanAmerican) AS `Black or African American`, \n",
    "       sum(d.americanIndianAndAlaskaNative) AS `American Indian and Alaskan Native`, \n",
    "       sum(d.asian) AS Asian,\n",
    "       sum(d.nativeHawaiianAndOtherPacificIslander) AS `Native Hawaiian and other Pacific Islander`, \n",
    "       sum(d.otherRace) AS `other Race`, sum(d.twoOrMoreRaces) AS `two or more Races`\n",
    "\"\"\"\n",
    "df = graph.run(query, county=county).to_data_frame()\n",
    "df.fillna(0, inplace=True)\n",
    "df.head(100)"
   ]
  },
  {
   "cell_type": "code",
   "execution_count": 14,
   "metadata": {},
   "outputs": [
    {
     "data": {
      "image/png": "[encoded data removed]",
      "text/plain": [
       "<Figure size 432x288 with 1 Axes>"
      ]
     },
     "metadata": {
      "needs_background": "light"
     },
     "output_type": "display_data"
    }
   ],
   "source": [
    "df.plot.bar(x='County', y=['White', 'Black or African American', 'American Indian and Alaskan Native', 'Asian',\n",
    "                           'Native Hawaiian and other Pacific Islander', 'other Race', 'two or more Races'], rot=0).legend(bbox_to_anchor=(1.2, 0.5));"
   ]
  },
  {
   "cell_type": "markdown",
   "metadata": {},
   "source": [
    "##### Total population and age group\n",
    "This example shows how to aggregate tract-level data to the country level"
   ]
  },
  {
   "cell_type": "code",
   "execution_count": 15,
   "metadata": {},
   "outputs": [
    {
     "data": {
      "text/html": [
       "<div>\n",
       "<style scoped>\n",
       "    .dataframe tbody tr th:only-of-type {\n",
       "        vertical-align: middle;\n",
       "    }\n",
       "\n",
       "    .dataframe tbody tr th {\n",
       "        vertical-align: top;\n",
       "    }\n",
       "\n",
       "    .dataframe thead th {\n",
       "        text-align: right;\n",
       "    }\n",
       "</style>\n",
       "<table border=\"1\" class=\"dataframe\">\n",
       "  <thead>\n",
       "    <tr style=\"text-align: right;\">\n",
       "      <th></th>\n",
       "      <th>Country</th>\n",
       "      <th>Total</th>\n",
       "      <th>age0_4</th>\n",
       "      <th>age5_9</th>\n",
       "      <th>age10_14</th>\n",
       "      <th>age15_19</th>\n",
       "      <th>age20_24</th>\n",
       "      <th>age25_34</th>\n",
       "      <th>age35_44</th>\n",
       "      <th>age45_54</th>\n",
       "      <th>age55_59</th>\n",
       "      <th>age60_64</th>\n",
       "      <th>age65_74</th>\n",
       "      <th>age75_84</th>\n",
       "      <th>age85_</th>\n",
       "    </tr>\n",
       "  </thead>\n",
       "  <tbody>\n",
       "    <tr>\n",
       "      <th>0</th>\n",
       "      <td>United States</td>\n",
       "      <td>322903030</td>\n",
       "      <td>19836850</td>\n",
       "      <td>20311494</td>\n",
       "      <td>20817419</td>\n",
       "      <td>21204226</td>\n",
       "      <td>22286970</td>\n",
       "      <td>44567976</td>\n",
       "      <td>40763210</td>\n",
       "      <td>42589573</td>\n",
       "      <td>21611374</td>\n",
       "      <td>19675357</td>\n",
       "      <td>28535419</td>\n",
       "      <td>14497679</td>\n",
       "      <td>6205483</td>\n",
       "    </tr>\n",
       "  </tbody>\n",
       "</table>\n",
       "</div>"
      ],
      "text/plain": [
       "         Country      Total    age0_4    age5_9  age10_14  age15_19  age20_24  \\\n",
       "0  United States  322903030  19836850  20311494  20817419  21204226  22286970   \n",
       "\n",
       "   age25_34  age35_44  age45_54  age55_59  age60_64  age65_74  age75_84  \\\n",
       "0  44567976  40763210  42589573  21611374  19675357  28535419  14497679   \n",
       "\n",
       "    age85_  \n",
       "0  6205483  "
      ]
     },
     "execution_count": 15,
     "metadata": {},
     "output_type": "execute_result"
    }
   ],
   "source": [
    "query = \"\"\"\n",
    "MATCH (c:Country{iso:'US'})-[:IN]-(a1:Admin1)-[:IN]-(a2:Admin2)-[:HAS_DEMOGRAPHICS]-(d:Demographics)\n",
    "RETURN c.name AS Country, sum(d.totalPopulation) AS Total, \n",
    "       sum(d.age0_4) AS age0_4, sum(d.age5_9) AS age5_9, \n",
    "       sum(d.age10_14) AS age10_14, sum(d.age15_19) AS age15_19, sum(d.age20_24) AS age20_24, \n",
    "       sum(d.age25_34) AS age25_34, sum(d.age35_44) AS age35_44, sum(d.age45_54) AS age45_54, \n",
    "       sum(d.age55_59) AS age55_59, sum(d.age60_64) AS age60_64, sum(d.age65_74) as age65_74, \n",
    "       sum(d.age75_84) AS age75_84, sum(d.age85_) AS age85_\n",
    "\"\"\"\n",
    "df = graph.run(query).to_data_frame()\n",
    "df.head()"
   ]
  },
  {
   "cell_type": "code",
   "execution_count": 19,
   "metadata": {},
   "outputs": [
    {
     "data": {
      "image/png": "[encoded data removed]",
      "text/plain": [
       "<Figure size 1080x720 with 1 Axes>"
      ]
     },
     "metadata": {
      "needs_background": "light"
     },
     "output_type": "display_data"
    }
   ],
   "source": [
    "ax = df[['age0_4', 'age5_9', 'age10_14', 'age15_19','age20_24', 'age25_34', 'age35_44', 'age45_54', 'age55_59', \\\n",
    "         'age60_64', 'age65_74', 'age75_84', 'age85_']].plot(kind='bar', title =\"US Population by Age\", figsize=(15, 10), legend=True, fontsize=12)\n",
    "ax.set_xlabel(\"Age\", fontsize=12)\n",
    "ax.set_ylabel(\"Population\", fontsize=12)\n",
    "plt.show();"
   ]
  }
 ],
 "metadata": {
  "kernelspec": {
   "display_name": "Python 3",
   "language": "python",
   "name": "python3"
  },
  "language_info": {
   "codemirror_mode": {
    "name": "ipython",
    "version": 3
   },
   "file_extension": ".py",
   "mimetype": "text/x-python",
   "name": "python",
   "nbconvert_exporter": "python",
   "pygments_lexer": "ipython3",
   "version": "3.8.3"
  }
 },
 "nbformat": 4,
 "nbformat_minor": 4
}

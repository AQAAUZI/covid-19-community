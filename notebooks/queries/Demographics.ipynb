{
 "cells": [
  {
   "cell_type": "markdown",
   "metadata": {},
   "source": [
    "# Example queries for demographics on COVID-19 Knowledge Graph\n",
    "[Work in progress]\n",
    "\n",
    "This notebook demonstrates how to run Cypher queries to get Demographics from the American Community Survey 5-year data at different levels of geographic granularity.\n",
    "\n",
    "Demographics includes total population, and population by sex, race, ethnicity, and age group."
   ]
  },
  {
   "cell_type": "code",
   "execution_count": 29,
   "metadata": {},
   "outputs": [],
   "source": [
    "import datetime\n",
    "import pandas as pd\n",
    "from py2neo import Graph"
   ]
  },
  {
   "cell_type": "code",
   "execution_count": 30,
   "metadata": {},
   "outputs": [],
   "source": [
    "pd.options.display.max_rows = None  # display all rows\n",
    "pd.options.display.max_columns = None  # display all columsns"
   ]
  },
  {
   "cell_type": "markdown",
   "metadata": {},
   "source": [
    "#### Connect to COVID-19-Net Knowledge Graph"
   ]
  },
  {
   "cell_type": "code",
   "execution_count": 31,
   "metadata": {},
   "outputs": [],
   "source": [
    "graph = Graph(\"bolt://132.249.238.185:7687\", user=\"reader\", password=\"demo\")"
   ]
  },
  {
   "cell_type": "markdown",
   "metadata": {},
   "source": [
    "### Get demographics by Zip code"
   ]
  },
  {
   "cell_type": "code",
   "execution_count": 39,
   "metadata": {},
   "outputs": [],
   "source": [
    "zip_code = '90210'"
   ]
  },
  {
   "cell_type": "markdown",
   "metadata": {},
   "source": [
    "##### Total population and sex"
   ]
  },
  {
   "cell_type": "code",
   "execution_count": 40,
   "metadata": {},
   "outputs": [
    {
     "data": {
      "text/html": [
       "<div>\n",
       "<style scoped>\n",
       "    .dataframe tbody tr th:only-of-type {\n",
       "        vertical-align: middle;\n",
       "    }\n",
       "\n",
       "    .dataframe tbody tr th {\n",
       "        vertical-align: top;\n",
       "    }\n",
       "\n",
       "    .dataframe thead th {\n",
       "        text-align: right;\n",
       "    }\n",
       "</style>\n",
       "<table border=\"1\" class=\"dataframe\">\n",
       "  <thead>\n",
       "    <tr style=\"text-align: right;\">\n",
       "      <th></th>\n",
       "      <th>p.name</th>\n",
       "      <th>d.totalPopulation</th>\n",
       "      <th>d.male</th>\n",
       "      <th>d.female</th>\n",
       "    </tr>\n",
       "  </thead>\n",
       "  <tbody>\n",
       "    <tr>\n",
       "      <th>0</th>\n",
       "      <td>90210</td>\n",
       "      <td>19909</td>\n",
       "      <td>9599</td>\n",
       "      <td>10310</td>\n",
       "    </tr>\n",
       "  </tbody>\n",
       "</table>\n",
       "</div>"
      ],
      "text/plain": [
       "  p.name  d.totalPopulation  d.male  d.female\n",
       "0  90210              19909    9599     10310"
      ]
     },
     "execution_count": 40,
     "metadata": {},
     "output_type": "execute_result"
    }
   ],
   "source": [
    "query = \"\"\"\n",
    "MATCH (p:PostalCode{name:$zip_code})-[:HAS_DEMOGRAPHICS]-(d:Demographics)\n",
    "RETURN p.name, d.totalPopulation, d.male, d.female\n",
    "\"\"\"\n",
    "df = graph.run(query, zip_code=zip_code).to_data_frame()\n",
    "df.head()"
   ]
  },
  {
   "cell_type": "markdown",
   "metadata": {},
   "source": [
    "##### Total population and race"
   ]
  },
  {
   "cell_type": "code",
   "execution_count": 41,
   "metadata": {},
   "outputs": [
    {
     "data": {
      "text/html": [
       "<div>\n",
       "<style scoped>\n",
       "    .dataframe tbody tr th:only-of-type {\n",
       "        vertical-align: middle;\n",
       "    }\n",
       "\n",
       "    .dataframe tbody tr th {\n",
       "        vertical-align: top;\n",
       "    }\n",
       "\n",
       "    .dataframe thead th {\n",
       "        text-align: right;\n",
       "    }\n",
       "</style>\n",
       "<table border=\"1\" class=\"dataframe\">\n",
       "  <thead>\n",
       "    <tr style=\"text-align: right;\">\n",
       "      <th></th>\n",
       "      <th>p.name</th>\n",
       "      <th>d.totalPopulation</th>\n",
       "      <th>d.white</th>\n",
       "      <th>d.blackOrAfricanAmerican</th>\n",
       "      <th>d.americanIndianAndAlaskaNative</th>\n",
       "      <th>d.nativeHawaiianAndOtherPacificIslander</th>\n",
       "      <th>d.otherRace</th>\n",
       "      <th>d.twoOrMoreRaces</th>\n",
       "    </tr>\n",
       "  </thead>\n",
       "  <tbody>\n",
       "    <tr>\n",
       "      <th>0</th>\n",
       "      <td>90210</td>\n",
       "      <td>19909</td>\n",
       "      <td>16911</td>\n",
       "      <td>None</td>\n",
       "      <td>21</td>\n",
       "      <td>0</td>\n",
       "      <td>313</td>\n",
       "      <td>684</td>\n",
       "    </tr>\n",
       "  </tbody>\n",
       "</table>\n",
       "</div>"
      ],
      "text/plain": [
       "  p.name  d.totalPopulation  d.white d.blackOrAfricanAmerican  \\\n",
       "0  90210              19909    16911                     None   \n",
       "\n",
       "   d.americanIndianAndAlaskaNative  d.nativeHawaiianAndOtherPacificIslander  \\\n",
       "0                               21                                        0   \n",
       "\n",
       "   d.otherRace  d.twoOrMoreRaces  \n",
       "0          313               684  "
      ]
     },
     "execution_count": 41,
     "metadata": {},
     "output_type": "execute_result"
    }
   ],
   "source": [
    "query = \"\"\"\n",
    "MATCH (p:PostalCode{name:$zip_code})-[:HAS_DEMOGRAPHICS]-(d:Demographics)\n",
    "RETURN p.name, d.totalPopulation, d.white, d.blackOrAfricanAmerican, d.americanIndianAndAlaskaNative, \n",
    "       d.nativeHawaiianAndOtherPacificIslander,d.otherRace, d.twoOrMoreRaces\n",
    "\"\"\"\n",
    "df = graph.run(query, zip_code=zip_code).to_data_frame()\n",
    "df.head()"
   ]
  },
  {
   "cell_type": "markdown",
   "metadata": {},
   "source": [
    "##### Total population and ethnicity\n",
    "This example lists the total population and ethnicity for Zip codes with the place name Chula Vista (California)"
   ]
  },
  {
   "cell_type": "code",
   "execution_count": 57,
   "metadata": {},
   "outputs": [
    {
     "data": {
      "text/html": [
       "<div>\n",
       "<style scoped>\n",
       "    .dataframe tbody tr th:only-of-type {\n",
       "        vertical-align: middle;\n",
       "    }\n",
       "\n",
       "    .dataframe tbody tr th {\n",
       "        vertical-align: top;\n",
       "    }\n",
       "\n",
       "    .dataframe thead th {\n",
       "        text-align: right;\n",
       "    }\n",
       "</style>\n",
       "<table border=\"1\" class=\"dataframe\">\n",
       "  <thead>\n",
       "    <tr style=\"text-align: right;\">\n",
       "      <th></th>\n",
       "      <th>Zip code</th>\n",
       "      <th>p.placeName</th>\n",
       "      <th>d.totalPopulation</th>\n",
       "      <th>Hispanic or Latino</th>\n",
       "      <th>not Hispanic or Latino</th>\n",
       "    </tr>\n",
       "  </thead>\n",
       "  <tbody>\n",
       "    <tr>\n",
       "      <th>0</th>\n",
       "      <td>91910</td>\n",
       "      <td>Chula Vista</td>\n",
       "      <td>74297</td>\n",
       "      <td>45307</td>\n",
       "      <td>28990</td>\n",
       "    </tr>\n",
       "    <tr>\n",
       "      <th>1</th>\n",
       "      <td>91911</td>\n",
       "      <td>Chula Vista</td>\n",
       "      <td>85365</td>\n",
       "      <td>61189</td>\n",
       "      <td>24176</td>\n",
       "    </tr>\n",
       "    <tr>\n",
       "      <th>2</th>\n",
       "      <td>91913</td>\n",
       "      <td>Chula Vista</td>\n",
       "      <td>53072</td>\n",
       "      <td>24788</td>\n",
       "      <td>28284</td>\n",
       "    </tr>\n",
       "    <tr>\n",
       "      <th>3</th>\n",
       "      <td>91914</td>\n",
       "      <td>Chula Vista</td>\n",
       "      <td>16357</td>\n",
       "      <td>7490</td>\n",
       "      <td>8867</td>\n",
       "    </tr>\n",
       "    <tr>\n",
       "      <th>4</th>\n",
       "      <td>91915</td>\n",
       "      <td>Chula Vista</td>\n",
       "      <td>31740</td>\n",
       "      <td>15287</td>\n",
       "      <td>16453</td>\n",
       "    </tr>\n",
       "  </tbody>\n",
       "</table>\n",
       "</div>"
      ],
      "text/plain": [
       "  Zip code  p.placeName  d.totalPopulation  Hispanic or Latino  \\\n",
       "0    91910  Chula Vista              74297               45307   \n",
       "1    91911  Chula Vista              85365               61189   \n",
       "2    91913  Chula Vista              53072               24788   \n",
       "3    91914  Chula Vista              16357                7490   \n",
       "4    91915  Chula Vista              31740               15287   \n",
       "\n",
       "   not Hispanic or Latino  \n",
       "0                   28990  \n",
       "1                   24176  \n",
       "2                   28284  \n",
       "3                    8867  \n",
       "4                   16453  "
      ]
     },
     "execution_count": 57,
     "metadata": {},
     "output_type": "execute_result"
    }
   ],
   "source": [
    "place_name = 'Chula Vista'\n",
    "\n",
    "query = \"\"\"\n",
    "MATCH (p:PostalCode{placeName:$place_name})-[:HAS_DEMOGRAPHICS]-(d:Demographics)\n",
    "RETURN p.name as `Zip code`, p.placeName, d.totalPopulation, d.hispanicOrLatino as `Hispanic or Latino`, \n",
    "       d.notHispanicOrLatino as `not Hispanic or Latino`\n",
    "\"\"\"\n",
    "df = graph.run(query, place_name=place_name).to_data_frame()\n",
    "df.head()"
   ]
  },
  {
   "cell_type": "code",
   "execution_count": 59,
   "metadata": {},
   "outputs": [
    {
     "data": {
      "image/png": "[encoded data removed]",
      "text/plain": [
       "<Figure size 432x288 with 1 Axes>"
      ]
     },
     "metadata": {
      "needs_background": "light"
     },
     "output_type": "display_data"
    }
   ],
   "source": [
    "df.plot.bar(x='Zip code', y=['Hispanic or Latino', 'not Hispanic or Latino'], rot=0);"
   ]
  },
  {
   "cell_type": "markdown",
   "metadata": {},
   "source": [
    "##### Total population and age groups"
   ]
  },
  {
   "cell_type": "code",
   "execution_count": 65,
   "metadata": {},
   "outputs": [
    {
     "data": {
      "text/html": [
       "<div>\n",
       "<style scoped>\n",
       "    .dataframe tbody tr th:only-of-type {\n",
       "        vertical-align: middle;\n",
       "    }\n",
       "\n",
       "    .dataframe tbody tr th {\n",
       "        vertical-align: top;\n",
       "    }\n",
       "\n",
       "    .dataframe thead th {\n",
       "        text-align: right;\n",
       "    }\n",
       "</style>\n",
       "<table border=\"1\" class=\"dataframe\">\n",
       "  <thead>\n",
       "    <tr style=\"text-align: right;\">\n",
       "      <th></th>\n",
       "      <th>p.name</th>\n",
       "      <th>d.totalPopulation</th>\n",
       "      <th>d.age0_4</th>\n",
       "      <th>d.age5_9</th>\n",
       "      <th>d.age10_14</th>\n",
       "      <th>d.age15_19</th>\n",
       "      <th>d.age20_24</th>\n",
       "      <th>d.age25_34</th>\n",
       "      <th>d.age35_44</th>\n",
       "      <th>d.age45_54</th>\n",
       "      <th>d.age55_59</th>\n",
       "      <th>d.age65_74</th>\n",
       "      <th>d.age75_84</th>\n",
       "      <th>d.age85</th>\n",
       "    </tr>\n",
       "  </thead>\n",
       "  <tbody>\n",
       "    <tr>\n",
       "      <th>0</th>\n",
       "      <td>90210</td>\n",
       "      <td>19909</td>\n",
       "      <td>710</td>\n",
       "      <td>1014</td>\n",
       "      <td>1482</td>\n",
       "      <td>1066</td>\n",
       "      <td>519</td>\n",
       "      <td>1956</td>\n",
       "      <td>2292</td>\n",
       "      <td>3143</td>\n",
       "      <td>1282</td>\n",
       "      <td>2562</td>\n",
       "      <td>1695</td>\n",
       "      <td>None</td>\n",
       "    </tr>\n",
       "  </tbody>\n",
       "</table>\n",
       "</div>"
      ],
      "text/plain": [
       "  p.name  d.totalPopulation  d.age0_4  d.age5_9  d.age10_14  d.age15_19  \\\n",
       "0  90210              19909       710      1014        1482        1066   \n",
       "\n",
       "   d.age20_24  d.age25_34  d.age35_44  d.age45_54  d.age55_59  d.age65_74  \\\n",
       "0         519        1956        2292        3143        1282        2562   \n",
       "\n",
       "   d.age75_84 d.age85  \n",
       "0        1695    None  "
      ]
     },
     "execution_count": 65,
     "metadata": {},
     "output_type": "execute_result"
    }
   ],
   "source": [
    "query = \"\"\"\n",
    "MATCH (p:PostalCode{name:$zip_code})-[:HAS_DEMOGRAPHICS]-(d:Demographics)\n",
    "RETURN p.name, d.totalPopulation, d.age0_4, d.age5_9, d.age10_14, d.age15_19, d.age20_24, \n",
    "       d.age25_34, d.age35_44, d.age45_54, d.age55_59, d.age65_74, d.age75_84, d.age85\n",
    "\"\"\"\n",
    "df = graph.run(query, zip_code=zip_code).to_data_frame()\n",
    "df.head()"
   ]
  },
  {
   "cell_type": "markdown",
   "metadata": {},
   "source": [
    "# Get demographics by US Census tract"
   ]
  },
  {
   "cell_type": "markdown",
   "metadata": {},
   "source": [
    "##### Aggreated data for a US county (Admin2)"
   ]
  },
  {
   "cell_type": "code",
   "execution_count": 66,
   "metadata": {},
   "outputs": [],
   "source": [
    "county = 'San Diego County'"
   ]
  },
  {
   "cell_type": "code",
   "execution_count": 68,
   "metadata": {},
   "outputs": [
    {
     "data": {
      "text/html": [
       "<div>\n",
       "<style scoped>\n",
       "    .dataframe tbody tr th:only-of-type {\n",
       "        vertical-align: middle;\n",
       "    }\n",
       "\n",
       "    .dataframe tbody tr th {\n",
       "        vertical-align: top;\n",
       "    }\n",
       "\n",
       "    .dataframe thead th {\n",
       "        text-align: right;\n",
       "    }\n",
       "</style>\n",
       "<table border=\"1\" class=\"dataframe\">\n",
       "  <thead>\n",
       "    <tr style=\"text-align: right;\">\n",
       "      <th></th>\n",
       "    </tr>\n",
       "  </thead>\n",
       "  <tbody>\n",
       "  </tbody>\n",
       "</table>\n",
       "</div>"
      ],
      "text/plain": [
       "Empty DataFrame\n",
       "Columns: []\n",
       "Index: []"
      ]
     },
     "execution_count": 68,
     "metadata": {},
     "output_type": "execute_result"
    }
   ],
   "source": [
    "query = \"\"\"\n",
    "MATCH (a:Admin2{name: $county})<-[:IN]-(t:Tract)-[:HAS_DEMOGRAPHICS]-(d:Demographics)\n",
    "RETURN a.name as County, d.white as White, d.blackOrAfricanAmerican as `Black or African American`, \n",
    "       d.americanIndianAndAlaskaNative as `American Indian and Alaskan Native`, \n",
    "       d.nativeHawaiianAndOtherPacificIslander as `Native Hawaiian and other Pacific Islander`, \n",
    "       d.otherRace, as `other Race`, d.twoOrMoreRaces as `two or more Races`\n",
    "\"\"\"\n",
    "df = graph.run(query, county=county).to_data_frame()\n",
    "df.head()"
   ]
  },
  {
   "cell_type": "code",
   "execution_count": null,
   "metadata": {},
   "outputs": [],
   "source": [
    "df.plot.bar(x='County', y=['White', 'Black or African American', 'American Indian and Alaskan Native',\n",
    "                           'Native Hawaiian and other Pacific Islander', 'other Race', 'two or more Races'], rot=0);"
   ]
  }
 ],
 "metadata": {
  "kernelspec": {
   "display_name": "Python 3",
   "language": "python",
   "name": "python3"
  },
  "language_info": {
   "codemirror_mode": {
    "name": "ipython",
    "version": 3
   },
   "file_extension": ".py",
   "mimetype": "text/x-python",
   "name": "python",
   "nbconvert_exporter": "python",
   "pygments_lexer": "ipython3",
   "version": "3.8.3"
  }
 },
 "nbformat": 4,
 "nbformat_minor": 4
}

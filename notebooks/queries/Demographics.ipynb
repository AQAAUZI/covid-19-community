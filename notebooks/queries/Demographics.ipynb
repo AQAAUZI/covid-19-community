{
 "cells": [
  {
   "cell_type": "markdown",
   "metadata": {},
   "source": [
    "# Example queries for Demographics on COVID-19 Knowledge Graph\n",
    "[Work in progress]\n",
    "\n",
    "This notebook demonstrates how to run Cypher queries to get [Demographics from the American Community Survey 2018 5-year data](https://data.census.gov/cedsci/table?q=DP02&tid=ACSDP5Y2018.DP05) at multiple levels of geographic granularity. \n",
    "\n",
    "Demographics includes total population, and population by gender, race, ethnicity, and age group."
   ]
  },
  {
   "cell_type": "code",
   "execution_count": 1,
   "metadata": {},
   "outputs": [],
   "source": [
    "import pandas as pd\n",
    "import matplotlib.pyplot as plt\n",
    "from py2neo import Graph"
   ]
  },
  {
   "cell_type": "code",
   "execution_count": 2,
   "metadata": {},
   "outputs": [],
   "source": [
    "pd.options.display.max_rows = None  # display all rows\n",
    "pd.options.display.max_columns = None  # display all columsns"
   ]
  },
  {
   "cell_type": "markdown",
   "metadata": {},
   "source": [
    "#### Connect to COVID-19-Net Knowledge Graph"
   ]
  },
  {
   "cell_type": "code",
   "execution_count": 3,
   "metadata": {},
   "outputs": [],
   "source": [
    "graph = Graph(\"bolt://132.249.238.185:7687\", user=\"reader\", password=\"demo\")"
   ]
  },
  {
   "cell_type": "markdown",
   "metadata": {},
   "source": [
    "### Demographics\n",
    "The following characteristics are available for demographics. Characteristics ending with Pct are values in percent, whereas all other values are counts. For details see [Subject Definitions](https://www2.census.gov/programs-surveys/acs/tech_docs/subject_definitions/2018_ACSSubjectDefinitions.pdf)."
   ]
  },
  {
   "cell_type": "markdown",
   "metadata": {},
   "source": [
    "             'DP05_0001E': 'totalPopulation',\n",
    "             \n",
    "             # sex\n",
    "             'DP05_0002E': 'male',\n",
    "             'DP05_0003E': 'female',\n",
    "             \n",
    "             # age\n",
    "             'DP05_0005E': 'age0_4',\n",
    "             'DP05_0006E': 'age5_9',\n",
    "             'DP05_0007E': 'age10_14',\n",
    "             'DP05_0008E': 'age15_19',\n",
    "             'DP05_0009E': 'age20_24',\n",
    "             'DP05_0010E': 'age25_34',\n",
    "             'DP05_0011E': 'age35_44',\n",
    "             'DP05_0012E': 'age45_54',\n",
    "             'DP05_0013E': 'age55_59',\n",
    "             'DP05_0014E': 'age60_64',\n",
    "             'DP05_0015E': 'age65_74',\n",
    "             'DP05_0016E': 'age75_84',\n",
    "             'DP05_0017E': 'age85_',\n",
    "\n",
    "              # race\n",
    "             'DP05_0037E': 'white',\n",
    "             'DP05_0038E': 'blackOrAfricanAmerican',\n",
    "             'DP05_0039E': 'americanIndianAndAlaskaNative',\n",
    "             'DP05_0044E': 'asian',\n",
    "             'DP05_0052E': 'nativeHawaiianAndOtherPacificIslander',\n",
    "             'DP05_0057E': 'otherRace',\n",
    "             'DP05_0058E': 'twoOrMoreRaces',\n",
    "             \n",
    "              # ethnicity\n",
    "             'DP05_0071E': 'hispanicOrLatino',\n",
    "             'DP05_0076E': 'notHispanicOrLatino'"
   ]
  },
  {
   "cell_type": "markdown",
   "metadata": {},
   "source": [
    "##### Data are available at multiple levels of geographic granularity\n",
    "* US County\n",
    "* US Zip Code\n",
    "* US Census Tract"
   ]
  },
  {
   "cell_type": "markdown",
   "metadata": {},
   "source": [
    "### Get demographics by US County"
   ]
  },
  {
   "cell_type": "markdown",
   "metadata": {},
   "source": [
    "If the state and county fips codes are available, demographcis can be retrieved directly.\n",
    "\n",
    "Note, fips codes are represented as strings."
   ]
  },
  {
   "cell_type": "code",
   "execution_count": 4,
   "metadata": {},
   "outputs": [],
   "source": [
    "state_fips = '06'\n",
    "county_fips = '073'"
   ]
  },
  {
   "cell_type": "code",
   "execution_count": 5,
   "metadata": {},
   "outputs": [
    {
     "data": {
      "text/html": [
       "<div>\n",
       "<style scoped>\n",
       "    .dataframe tbody tr th:only-of-type {\n",
       "        vertical-align: middle;\n",
       "    }\n",
       "\n",
       "    .dataframe tbody tr th {\n",
       "        vertical-align: top;\n",
       "    }\n",
       "\n",
       "    .dataframe thead th {\n",
       "        text-align: right;\n",
       "    }\n",
       "</style>\n",
       "<table border=\"1\" class=\"dataframe\">\n",
       "  <thead>\n",
       "    <tr style=\"text-align: right;\">\n",
       "      <th></th>\n",
       "      <th>d.stateFips</th>\n",
       "      <th>d.countyFips</th>\n",
       "      <th>d.totalPopulation</th>\n",
       "      <th>White</th>\n",
       "      <th>Black or African American</th>\n",
       "      <th>American Indian and Alaskan Native</th>\n",
       "      <th>Asian</th>\n",
       "      <th>Native Hawaiian and other Pacific Islander</th>\n",
       "      <th>other Race</th>\n",
       "      <th>two or more Races</th>\n",
       "    </tr>\n",
       "  </thead>\n",
       "  <tbody>\n",
       "    <tr>\n",
       "      <th>0</th>\n",
       "      <td>06</td>\n",
       "      <td>073</td>\n",
       "      <td>3302833</td>\n",
       "      <td>2335447</td>\n",
       "      <td>166412</td>\n",
       "      <td>20980</td>\n",
       "      <td>390418</td>\n",
       "      <td>13903</td>\n",
       "      <td>205307</td>\n",
       "      <td>170366</td>\n",
       "    </tr>\n",
       "  </tbody>\n",
       "</table>\n",
       "</div>"
      ],
      "text/plain": [
       "  d.stateFips d.countyFips  d.totalPopulation    White  \\\n",
       "0          06          073            3302833  2335447   \n",
       "\n",
       "   Black or African American  American Indian and Alaskan Native   Asian  \\\n",
       "0                     166412                               20980  390418   \n",
       "\n",
       "   Native Hawaiian and other Pacific Islander  other Race  two or more Races  \n",
       "0                                       13903      205307             170366  "
      ]
     },
     "execution_count": 5,
     "metadata": {},
     "output_type": "execute_result"
    }
   ],
   "source": [
    "query = \"\"\"\n",
    "MATCH (d:Demographics{countyFips:$county_fips, stateFips:$state_fips})\n",
    "RETURN d.stateFips, d.countyFips, d.totalPopulation, \n",
    "       d.white AS `White`, \n",
    "       d.blackOrAfricanAmerican AS `Black or African American`, \n",
    "       d.americanIndianAndAlaskaNative AS `American Indian and Alaskan Native`, \n",
    "       d.asian AS `Asian`, \n",
    "       d.nativeHawaiianAndOtherPacificIslander AS `Native Hawaiian and other Pacific Islander`,\n",
    "       d.otherRace AS `other Race`,\n",
    "       d.twoOrMoreRaces AS `two or more Races`\n",
    "\"\"\"\n",
    "df = graph.run(query, county_fips=county_fips, state_fips=state_fips).to_data_frame()\n",
    "df.head()"
   ]
  },
  {
   "cell_type": "markdown",
   "metadata": {},
   "source": [
    "Example: Get the same data by traversing the KG"
   ]
  },
  {
   "cell_type": "code",
   "execution_count": 6,
   "metadata": {},
   "outputs": [],
   "source": [
    "county = 'San Diego County'"
   ]
  },
  {
   "cell_type": "code",
   "execution_count": 7,
   "metadata": {},
   "outputs": [
    {
     "data": {
      "text/html": [
       "<div>\n",
       "<style scoped>\n",
       "    .dataframe tbody tr th:only-of-type {\n",
       "        vertical-align: middle;\n",
       "    }\n",
       "\n",
       "    .dataframe tbody tr th {\n",
       "        vertical-align: top;\n",
       "    }\n",
       "\n",
       "    .dataframe thead th {\n",
       "        text-align: right;\n",
       "    }\n",
       "</style>\n",
       "<table border=\"1\" class=\"dataframe\">\n",
       "  <thead>\n",
       "    <tr style=\"text-align: right;\">\n",
       "      <th></th>\n",
       "      <th>County</th>\n",
       "      <th>White</th>\n",
       "      <th>Black or African American</th>\n",
       "      <th>American Indian and Alaskan Native</th>\n",
       "      <th>Asian</th>\n",
       "      <th>Native Hawaiian and other Pacific Islander</th>\n",
       "      <th>other Race</th>\n",
       "      <th>two or more Races</th>\n",
       "    </tr>\n",
       "  </thead>\n",
       "  <tbody>\n",
       "    <tr>\n",
       "      <th>0</th>\n",
       "      <td>San Diego County</td>\n",
       "      <td>2335447</td>\n",
       "      <td>166412</td>\n",
       "      <td>20980</td>\n",
       "      <td>390418</td>\n",
       "      <td>13903</td>\n",
       "      <td>205307</td>\n",
       "      <td>170366</td>\n",
       "    </tr>\n",
       "  </tbody>\n",
       "</table>\n",
       "</div>"
      ],
      "text/plain": [
       "             County    White  Black or African American  \\\n",
       "0  San Diego County  2335447                     166412   \n",
       "\n",
       "   American Indian and Alaskan Native   Asian  \\\n",
       "0                               20980  390418   \n",
       "\n",
       "   Native Hawaiian and other Pacific Islander  other Race  two or more Races  \n",
       "0                                       13903      205307             170366  "
      ]
     },
     "execution_count": 7,
     "metadata": {},
     "output_type": "execute_result"
    }
   ],
   "source": [
    "query = \"\"\"\n",
    "MATCH (a:Admin2{name:$admin2})-[:HAS_DEMOGRAPHICS]-(d:Demographics)\n",
    "RETURN a.name as County,\n",
    "       d.white AS `White`, \n",
    "       d.blackOrAfricanAmerican AS `Black or African American`, \n",
    "       d.americanIndianAndAlaskaNative AS `American Indian and Alaskan Native`, \n",
    "       d.asian AS `Asian`, \n",
    "       d.nativeHawaiianAndOtherPacificIslander AS `Native Hawaiian and other Pacific Islander`,\n",
    "       d.otherRace AS `other Race`,\n",
    "       d.twoOrMoreRaces AS `two or more Races`\n",
    "\"\"\"\n",
    "df = graph.run(query, admin2=county).to_data_frame()\n",
    "df.head()"
   ]
  },
  {
   "cell_type": "code",
   "execution_count": 8,
   "metadata": {},
   "outputs": [
    {
     "data": {
      "image/png": "[encoded data removed]",
      "text/plain": [
       "<Figure size 432x288 with 1 Axes>"
      ]
     },
     "metadata": {
      "needs_background": "light"
     },
     "output_type": "display_data"
    }
   ],
   "source": [
    "df.plot.bar(x='County', y=['White', 'Black or African American', 'American Indian and Alaskan Native', \n",
    "                           'Asian', 'Native Hawaiian and other Pacific Islander', 'other Race', \n",
    "                           'two or more Races'], title='Population by Race', rot=0).legend(bbox_to_anchor=(1.2, 0.5));"
   ]
  },
  {
   "cell_type": "markdown",
   "metadata": {},
   "source": [
    "### Get demographics by Zip code"
   ]
  },
  {
   "cell_type": "code",
   "execution_count": 9,
   "metadata": {},
   "outputs": [],
   "source": [
    "zip_code = '90210'"
   ]
  },
  {
   "cell_type": "markdown",
   "metadata": {},
   "source": [
    "##### Total population and gender"
   ]
  },
  {
   "cell_type": "code",
   "execution_count": 10,
   "metadata": {},
   "outputs": [
    {
     "data": {
      "text/html": [
       "<div>\n",
       "<style scoped>\n",
       "    .dataframe tbody tr th:only-of-type {\n",
       "        vertical-align: middle;\n",
       "    }\n",
       "\n",
       "    .dataframe tbody tr th {\n",
       "        vertical-align: top;\n",
       "    }\n",
       "\n",
       "    .dataframe thead th {\n",
       "        text-align: right;\n",
       "    }\n",
       "</style>\n",
       "<table border=\"1\" class=\"dataframe\">\n",
       "  <thead>\n",
       "    <tr style=\"text-align: right;\">\n",
       "      <th></th>\n",
       "      <th>d.postalCode</th>\n",
       "      <th>d.totalPopulation</th>\n",
       "      <th>d.male</th>\n",
       "      <th>d.female</th>\n",
       "    </tr>\n",
       "  </thead>\n",
       "  <tbody>\n",
       "    <tr>\n",
       "      <th>0</th>\n",
       "      <td>90210</td>\n",
       "      <td>19909</td>\n",
       "      <td>9599</td>\n",
       "      <td>10310</td>\n",
       "    </tr>\n",
       "  </tbody>\n",
       "</table>\n",
       "</div>"
      ],
      "text/plain": [
       "  d.postalCode  d.totalPopulation  d.male  d.female\n",
       "0        90210              19909    9599     10310"
      ]
     },
     "execution_count": 10,
     "metadata": {},
     "output_type": "execute_result"
    }
   ],
   "source": [
    "query = \"\"\"\n",
    "MATCH (d:Demographics{postalCode: $postal_code})\n",
    "RETURN d.postalCode, d.totalPopulation, d.male, d.female\n",
    "\"\"\"\n",
    "df = graph.run(query, postal_code=zip_code).to_data_frame()\n",
    "df.head()"
   ]
  },
  {
   "cell_type": "markdown",
   "metadata": {},
   "source": [
    "##### Total population and ethnicity\n",
    "Note, Zip code areas may cross city boundaries. Place names are the preferred names used by the US Postal Service."
   ]
  },
  {
   "cell_type": "code",
   "execution_count": 11,
   "metadata": {},
   "outputs": [
    {
     "data": {
      "text/html": [
       "<div>\n",
       "<style scoped>\n",
       "    .dataframe tbody tr th:only-of-type {\n",
       "        vertical-align: middle;\n",
       "    }\n",
       "\n",
       "    .dataframe tbody tr th {\n",
       "        vertical-align: top;\n",
       "    }\n",
       "\n",
       "    .dataframe thead th {\n",
       "        text-align: right;\n",
       "    }\n",
       "</style>\n",
       "<table border=\"1\" class=\"dataframe\">\n",
       "  <thead>\n",
       "    <tr style=\"text-align: right;\">\n",
       "      <th></th>\n",
       "      <th>Zip code</th>\n",
       "      <th>p.placeName</th>\n",
       "      <th>d.totalPopulation</th>\n",
       "      <th>Hispanic or Latino</th>\n",
       "      <th>not Hispanic or Latino</th>\n",
       "    </tr>\n",
       "  </thead>\n",
       "  <tbody>\n",
       "    <tr>\n",
       "      <th>0</th>\n",
       "      <td>91910</td>\n",
       "      <td>Chula Vista</td>\n",
       "      <td>74297</td>\n",
       "      <td>45307</td>\n",
       "      <td>28990</td>\n",
       "    </tr>\n",
       "    <tr>\n",
       "      <th>1</th>\n",
       "      <td>91911</td>\n",
       "      <td>Chula Vista</td>\n",
       "      <td>85365</td>\n",
       "      <td>61189</td>\n",
       "      <td>24176</td>\n",
       "    </tr>\n",
       "    <tr>\n",
       "      <th>2</th>\n",
       "      <td>91913</td>\n",
       "      <td>Chula Vista</td>\n",
       "      <td>53072</td>\n",
       "      <td>24788</td>\n",
       "      <td>28284</td>\n",
       "    </tr>\n",
       "    <tr>\n",
       "      <th>3</th>\n",
       "      <td>91914</td>\n",
       "      <td>Chula Vista</td>\n",
       "      <td>16357</td>\n",
       "      <td>7490</td>\n",
       "      <td>8867</td>\n",
       "    </tr>\n",
       "    <tr>\n",
       "      <th>4</th>\n",
       "      <td>91915</td>\n",
       "      <td>Chula Vista</td>\n",
       "      <td>31740</td>\n",
       "      <td>15287</td>\n",
       "      <td>16453</td>\n",
       "    </tr>\n",
       "  </tbody>\n",
       "</table>\n",
       "</div>"
      ],
      "text/plain": [
       "  Zip code  p.placeName  d.totalPopulation  Hispanic or Latino  \\\n",
       "0    91910  Chula Vista              74297               45307   \n",
       "1    91911  Chula Vista              85365               61189   \n",
       "2    91913  Chula Vista              53072               24788   \n",
       "3    91914  Chula Vista              16357                7490   \n",
       "4    91915  Chula Vista              31740               15287   \n",
       "\n",
       "   not Hispanic or Latino  \n",
       "0                   28990  \n",
       "1                   24176  \n",
       "2                   28284  \n",
       "3                    8867  \n",
       "4                   16453  "
      ]
     },
     "execution_count": 11,
     "metadata": {},
     "output_type": "execute_result"
    }
   ],
   "source": [
    "place_name = 'Chula Vista'\n",
    "\n",
    "query = \"\"\"\n",
    "MATCH (p:PostalCode{placeName:$place_name})-[:HAS_DEMOGRAPHICS]-(d:Demographics)\n",
    "RETURN p.name as `Zip code`, p.placeName, d.totalPopulation, d.hispanicOrLatino as `Hispanic or Latino`, \n",
    "       d.notHispanicOrLatino as `not Hispanic or Latino`\n",
    "\"\"\"\n",
    "df = graph.run(query, place_name=place_name).to_data_frame()\n",
    "df.head()"
   ]
  },
  {
   "cell_type": "code",
   "execution_count": 12,
   "metadata": {},
   "outputs": [
    {
     "data": {
      "image/png": "[encoded data removed]",
      "text/plain": [
       "<Figure size 432x288 with 1 Axes>"
      ]
     },
     "metadata": {
      "needs_background": "light"
     },
     "output_type": "display_data"
    }
   ],
   "source": [
    "df.plot.bar(x='Zip code', y=['Hispanic or Latino', 'not Hispanic or Latino'], rot=0);"
   ]
  },
  {
   "cell_type": "markdown",
   "metadata": {},
   "source": [
    "##### Total population and age groups"
   ]
  },
  {
   "cell_type": "code",
   "execution_count": 13,
   "metadata": {},
   "outputs": [
    {
     "data": {
      "text/html": [
       "<div>\n",
       "<style scoped>\n",
       "    .dataframe tbody tr th:only-of-type {\n",
       "        vertical-align: middle;\n",
       "    }\n",
       "\n",
       "    .dataframe tbody tr th {\n",
       "        vertical-align: top;\n",
       "    }\n",
       "\n",
       "    .dataframe thead th {\n",
       "        text-align: right;\n",
       "    }\n",
       "</style>\n",
       "<table border=\"1\" class=\"dataframe\">\n",
       "  <thead>\n",
       "    <tr style=\"text-align: right;\">\n",
       "      <th></th>\n",
       "      <th>p.name</th>\n",
       "      <th>d.totalPopulation</th>\n",
       "      <th>d.age0_4</th>\n",
       "      <th>d.age5_9</th>\n",
       "      <th>d.age10_14</th>\n",
       "      <th>d.age15_19</th>\n",
       "      <th>d.age20_24</th>\n",
       "      <th>d.age25_34</th>\n",
       "      <th>d.age35_44</th>\n",
       "      <th>d.age45_54</th>\n",
       "      <th>d.age55_59</th>\n",
       "      <th>d.age60_64</th>\n",
       "      <th>d.age65_74</th>\n",
       "      <th>d.age75_84</th>\n",
       "      <th>d.age85_</th>\n",
       "    </tr>\n",
       "  </thead>\n",
       "  <tbody>\n",
       "    <tr>\n",
       "      <th>0</th>\n",
       "      <td>90210</td>\n",
       "      <td>19909</td>\n",
       "      <td>710</td>\n",
       "      <td>1014</td>\n",
       "      <td>1482</td>\n",
       "      <td>1066</td>\n",
       "      <td>519</td>\n",
       "      <td>1956</td>\n",
       "      <td>2292</td>\n",
       "      <td>3143</td>\n",
       "      <td>1282</td>\n",
       "      <td>1093</td>\n",
       "      <td>2562</td>\n",
       "      <td>1695</td>\n",
       "      <td>1095</td>\n",
       "    </tr>\n",
       "  </tbody>\n",
       "</table>\n",
       "</div>"
      ],
      "text/plain": [
       "  p.name  d.totalPopulation  d.age0_4  d.age5_9  d.age10_14  d.age15_19  \\\n",
       "0  90210              19909       710      1014        1482        1066   \n",
       "\n",
       "   d.age20_24  d.age25_34  d.age35_44  d.age45_54  d.age55_59  d.age60_64  \\\n",
       "0         519        1956        2292        3143        1282        1093   \n",
       "\n",
       "   d.age65_74  d.age75_84  d.age85_  \n",
       "0        2562        1695      1095  "
      ]
     },
     "execution_count": 13,
     "metadata": {},
     "output_type": "execute_result"
    }
   ],
   "source": [
    "query = \"\"\"\n",
    "MATCH (p:PostalCode{name:$zip_code})-[:HAS_DEMOGRAPHICS]-(d:Demographics)\n",
    "RETURN p.name, d.totalPopulation, d.age0_4, d.age5_9, d.age10_14, d.age15_19, d.age20_24, \n",
    "       d.age25_34, d.age35_44, d.age45_54, d.age55_59, d.age60_64, d.age65_74, d.age75_84, d.age85_\n",
    "\"\"\"\n",
    "df = graph.run(query, zip_code=zip_code).to_data_frame()\n",
    "df.head()"
   ]
  },
  {
   "cell_type": "markdown",
   "metadata": {},
   "source": [
    "Check: The sum of all age groups should add up to the total population."
   ]
  },
  {
   "cell_type": "code",
   "execution_count": 14,
   "metadata": {},
   "outputs": [
    {
     "data": {
      "text/plain": [
       "0    19909\n",
       "dtype: int64"
      ]
     },
     "execution_count": 14,
     "metadata": {},
     "output_type": "execute_result"
    }
   ],
   "source": [
    "df['d.age0_4'] + df['d.age5_9'] + df['d.age10_14'] + df['d.age15_19'] + df['d.age20_24'] + df['d.age25_34'] + \\\n",
    "                 df['d.age35_44'] + df['d.age45_54'] + df['d.age55_59'] + df['d.age60_64'] + df['d.age65_74'] + df['d.age75_84'] + \\\n",
    "                 df['d.age85_']"
   ]
  },
  {
   "cell_type": "markdown",
   "metadata": {},
   "source": [
    "# Get demographics by US Census tract"
   ]
  },
  {
   "cell_type": "markdown",
   "metadata": {},
   "source": [
    "##### Total population and race"
   ]
  },
  {
   "cell_type": "code",
   "execution_count": 15,
   "metadata": {},
   "outputs": [],
   "source": [
    "county = 'San Diego County'"
   ]
  },
  {
   "cell_type": "code",
   "execution_count": 16,
   "metadata": {},
   "outputs": [
    {
     "data": {
      "text/html": [
       "<div>\n",
       "<style scoped>\n",
       "    .dataframe tbody tr th:only-of-type {\n",
       "        vertical-align: middle;\n",
       "    }\n",
       "\n",
       "    .dataframe tbody tr th {\n",
       "        vertical-align: top;\n",
       "    }\n",
       "\n",
       "    .dataframe thead th {\n",
       "        text-align: right;\n",
       "    }\n",
       "</style>\n",
       "<table border=\"1\" class=\"dataframe\">\n",
       "  <thead>\n",
       "    <tr style=\"text-align: right;\">\n",
       "      <th></th>\n",
       "      <th>County</th>\n",
       "      <th>Total</th>\n",
       "      <th>White</th>\n",
       "      <th>Black or African American</th>\n",
       "      <th>American Indian and Alaskan Native</th>\n",
       "      <th>Asian</th>\n",
       "      <th>Native Hawaiian and other Pacific Islander</th>\n",
       "      <th>other Race</th>\n",
       "      <th>two or more Races</th>\n",
       "    </tr>\n",
       "  </thead>\n",
       "  <tbody>\n",
       "    <tr>\n",
       "      <th>0</th>\n",
       "      <td>San Diego County</td>\n",
       "      <td>6183</td>\n",
       "      <td>4961</td>\n",
       "      <td>74</td>\n",
       "      <td>192</td>\n",
       "      <td>48</td>\n",
       "      <td>0</td>\n",
       "      <td>774</td>\n",
       "      <td>134</td>\n",
       "    </tr>\n",
       "    <tr>\n",
       "      <th>1</th>\n",
       "      <td>San Diego County</td>\n",
       "      <td>5480</td>\n",
       "      <td>3486</td>\n",
       "      <td>0</td>\n",
       "      <td>24</td>\n",
       "      <td>1443</td>\n",
       "      <td>23</td>\n",
       "      <td>184</td>\n",
       "      <td>320</td>\n",
       "    </tr>\n",
       "    <tr>\n",
       "      <th>2</th>\n",
       "      <td>San Diego County</td>\n",
       "      <td>5872</td>\n",
       "      <td>4227</td>\n",
       "      <td>270</td>\n",
       "      <td>0</td>\n",
       "      <td>413</td>\n",
       "      <td>151</td>\n",
       "      <td>368</td>\n",
       "      <td>443</td>\n",
       "    </tr>\n",
       "    <tr>\n",
       "      <th>3</th>\n",
       "      <td>San Diego County</td>\n",
       "      <td>3195</td>\n",
       "      <td>2701</td>\n",
       "      <td>139</td>\n",
       "      <td>0</td>\n",
       "      <td>125</td>\n",
       "      <td>13</td>\n",
       "      <td>119</td>\n",
       "      <td>98</td>\n",
       "    </tr>\n",
       "    <tr>\n",
       "      <th>4</th>\n",
       "      <td>San Diego County</td>\n",
       "      <td>3963</td>\n",
       "      <td>3327</td>\n",
       "      <td>72</td>\n",
       "      <td>19</td>\n",
       "      <td>372</td>\n",
       "      <td>0</td>\n",
       "      <td>31</td>\n",
       "      <td>142</td>\n",
       "    </tr>\n",
       "    <tr>\n",
       "      <th>5</th>\n",
       "      <td>San Diego County</td>\n",
       "      <td>4629</td>\n",
       "      <td>4099</td>\n",
       "      <td>0</td>\n",
       "      <td>0</td>\n",
       "      <td>370</td>\n",
       "      <td>0</td>\n",
       "      <td>30</td>\n",
       "      <td>130</td>\n",
       "    </tr>\n",
       "    <tr>\n",
       "      <th>6</th>\n",
       "      <td>San Diego County</td>\n",
       "      <td>5616</td>\n",
       "      <td>4281</td>\n",
       "      <td>200</td>\n",
       "      <td>82</td>\n",
       "      <td>389</td>\n",
       "      <td>18</td>\n",
       "      <td>579</td>\n",
       "      <td>67</td>\n",
       "    </tr>\n",
       "    <tr>\n",
       "      <th>7</th>\n",
       "      <td>San Diego County</td>\n",
       "      <td>3978</td>\n",
       "      <td>2757</td>\n",
       "      <td>265</td>\n",
       "      <td>13</td>\n",
       "      <td>285</td>\n",
       "      <td>82</td>\n",
       "      <td>235</td>\n",
       "      <td>341</td>\n",
       "    </tr>\n",
       "    <tr>\n",
       "      <th>8</th>\n",
       "      <td>San Diego County</td>\n",
       "      <td>3187</td>\n",
       "      <td>2689</td>\n",
       "      <td>3</td>\n",
       "      <td>0</td>\n",
       "      <td>202</td>\n",
       "      <td>0</td>\n",
       "      <td>21</td>\n",
       "      <td>272</td>\n",
       "    </tr>\n",
       "    <tr>\n",
       "      <th>9</th>\n",
       "      <td>San Diego County</td>\n",
       "      <td>7144</td>\n",
       "      <td>5569</td>\n",
       "      <td>268</td>\n",
       "      <td>0</td>\n",
       "      <td>616</td>\n",
       "      <td>116</td>\n",
       "      <td>166</td>\n",
       "      <td>409</td>\n",
       "    </tr>\n",
       "  </tbody>\n",
       "</table>\n",
       "</div>"
      ],
      "text/plain": [
       "             County  Total  White  Black or African American  \\\n",
       "0  San Diego County   6183   4961                         74   \n",
       "1  San Diego County   5480   3486                          0   \n",
       "2  San Diego County   5872   4227                        270   \n",
       "3  San Diego County   3195   2701                        139   \n",
       "4  San Diego County   3963   3327                         72   \n",
       "5  San Diego County   4629   4099                          0   \n",
       "6  San Diego County   5616   4281                        200   \n",
       "7  San Diego County   3978   2757                        265   \n",
       "8  San Diego County   3187   2689                          3   \n",
       "9  San Diego County   7144   5569                        268   \n",
       "\n",
       "   American Indian and Alaskan Native  Asian  \\\n",
       "0                                 192     48   \n",
       "1                                  24   1443   \n",
       "2                                   0    413   \n",
       "3                                   0    125   \n",
       "4                                  19    372   \n",
       "5                                   0    370   \n",
       "6                                  82    389   \n",
       "7                                  13    285   \n",
       "8                                   0    202   \n",
       "9                                   0    616   \n",
       "\n",
       "   Native Hawaiian and other Pacific Islander  other Race  two or more Races  \n",
       "0                                           0         774                134  \n",
       "1                                          23         184                320  \n",
       "2                                         151         368                443  \n",
       "3                                          13         119                 98  \n",
       "4                                           0          31                142  \n",
       "5                                           0          30                130  \n",
       "6                                          18         579                 67  \n",
       "7                                          82         235                341  \n",
       "8                                           0          21                272  \n",
       "9                                         116         166                409  "
      ]
     },
     "execution_count": 16,
     "metadata": {},
     "output_type": "execute_result"
    }
   ],
   "source": [
    "query = \"\"\"\n",
    "MATCH (a:Admin2{name: $admin2})<-[:IN]-(t:Tract)-[:HAS_DEMOGRAPHICS]-(d:Demographics)\n",
    "RETURN a.name AS County, \n",
    "       d.totalPopulation as Total, \n",
    "       d.white AS White, \n",
    "       d.blackOrAfricanAmerican AS `Black or African American`, \n",
    "       d.americanIndianAndAlaskaNative AS `American Indian and Alaskan Native`, \n",
    "       d.asian AS Asian,\n",
    "       d.nativeHawaiianAndOtherPacificIslander AS `Native Hawaiian and other Pacific Islander`, \n",
    "       d.otherRace AS `other Race`,\n",
    "       d.twoOrMoreRaces AS `two or more Races`\n",
    "\"\"\"\n",
    "df = graph.run(query, admin2=county).to_data_frame()\n",
    "df.fillna(0, inplace=True)\n",
    "df.head(10)"
   ]
  },
  {
   "cell_type": "markdown",
   "metadata": {},
   "source": [
    "##### Total population and age group\n",
    "This example shows how to aggregate tract-level data to the country level"
   ]
  },
  {
   "cell_type": "code",
   "execution_count": 17,
   "metadata": {},
   "outputs": [
    {
     "data": {
      "text/html": [
       "<div>\n",
       "<style scoped>\n",
       "    .dataframe tbody tr th:only-of-type {\n",
       "        vertical-align: middle;\n",
       "    }\n",
       "\n",
       "    .dataframe tbody tr th {\n",
       "        vertical-align: top;\n",
       "    }\n",
       "\n",
       "    .dataframe thead th {\n",
       "        text-align: right;\n",
       "    }\n",
       "</style>\n",
       "<table border=\"1\" class=\"dataframe\">\n",
       "  <thead>\n",
       "    <tr style=\"text-align: right;\">\n",
       "      <th></th>\n",
       "      <th>Country</th>\n",
       "      <th>Total</th>\n",
       "      <th>age0_4</th>\n",
       "      <th>age5_9</th>\n",
       "      <th>age10_14</th>\n",
       "      <th>age15_19</th>\n",
       "      <th>age20_24</th>\n",
       "      <th>age25_34</th>\n",
       "      <th>age35_44</th>\n",
       "      <th>age45_54</th>\n",
       "      <th>age55_59</th>\n",
       "      <th>age60_64</th>\n",
       "      <th>age65_74</th>\n",
       "      <th>age75_84</th>\n",
       "      <th>age85_</th>\n",
       "    </tr>\n",
       "  </thead>\n",
       "  <tbody>\n",
       "    <tr>\n",
       "      <th>0</th>\n",
       "      <td>United States</td>\n",
       "      <td>322903030</td>\n",
       "      <td>19836850</td>\n",
       "      <td>20311494</td>\n",
       "      <td>20817419</td>\n",
       "      <td>21204226</td>\n",
       "      <td>22286970</td>\n",
       "      <td>44567976</td>\n",
       "      <td>40763210</td>\n",
       "      <td>42589573</td>\n",
       "      <td>21611374</td>\n",
       "      <td>19675357</td>\n",
       "      <td>28535419</td>\n",
       "      <td>14497679</td>\n",
       "      <td>6205483</td>\n",
       "    </tr>\n",
       "  </tbody>\n",
       "</table>\n",
       "</div>"
      ],
      "text/plain": [
       "         Country      Total    age0_4    age5_9  age10_14  age15_19  age20_24  \\\n",
       "0  United States  322903030  19836850  20311494  20817419  21204226  22286970   \n",
       "\n",
       "   age25_34  age35_44  age45_54  age55_59  age60_64  age65_74  age75_84  \\\n",
       "0  44567976  40763210  42589573  21611374  19675357  28535419  14497679   \n",
       "\n",
       "    age85_  \n",
       "0  6205483  "
      ]
     },
     "execution_count": 17,
     "metadata": {},
     "output_type": "execute_result"
    }
   ],
   "source": [
    "query = \"\"\"\n",
    "MATCH (c:Country{iso:'US'})-[:IN]-(a1:Admin1)-[:IN]-(a2:Admin2)-[:HAS_DEMOGRAPHICS]-(d:Demographics)\n",
    "RETURN c.name AS Country, sum(d.totalPopulation) AS Total, \n",
    "       sum(d.age0_4) AS age0_4, sum(d.age5_9) AS age5_9, \n",
    "       sum(d.age10_14) AS age10_14, sum(d.age15_19) AS age15_19, sum(d.age20_24) AS age20_24, \n",
    "       sum(d.age25_34) AS age25_34, sum(d.age35_44) AS age35_44, sum(d.age45_54) AS age45_54, \n",
    "       sum(d.age55_59) AS age55_59, sum(d.age60_64) AS age60_64, sum(d.age65_74) as age65_74, \n",
    "       sum(d.age75_84) AS age75_84, sum(d.age85_) AS age85_\n",
    "\"\"\"\n",
    "df = graph.run(query).to_data_frame()\n",
    "df.head()"
   ]
  },
  {
   "cell_type": "code",
   "execution_count": 18,
   "metadata": {},
   "outputs": [
    {
     "data": {
      "image/png": "[encoded data removed]",
      "text/plain": [
       "<Figure size 1080x720 with 1 Axes>"
      ]
     },
     "metadata": {
      "needs_background": "light"
     },
     "output_type": "display_data"
    }
   ],
   "source": [
    "ax = df[['age0_4', 'age5_9', 'age10_14', 'age15_19','age20_24', 'age25_34', 'age35_44', 'age45_54', 'age55_59', \\\n",
    "         'age60_64', 'age65_74', 'age75_84', 'age85_']].plot(kind='bar', title =\"US Population by Age\", figsize=(15, 10), legend=True, fontsize=12)\n",
    "ax.set_xlabel(\"Age\", fontsize=12)\n",
    "ax.set_ylabel(\"Population\", fontsize=12)\n",
    "plt.show();"
   ]
  }
 ],
 "metadata": {
  "kernelspec": {
   "display_name": "Python 3",
   "language": "python",
   "name": "python3"
  },
  "language_info": {
   "codemirror_mode": {
    "name": "ipython",
    "version": 3
   },
   "file_extension": ".py",
   "mimetype": "text/x-python",
   "name": "python",
   "nbconvert_exporter": "python",
   "pygments_lexer": "ipython3",
   "version": "3.8.3"
  }
 },
 "nbformat": 4,
 "nbformat_minor": 4
}

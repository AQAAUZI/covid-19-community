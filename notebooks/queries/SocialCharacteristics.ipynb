{
 "cells": [
  {
   "cell_type": "markdown",
   "metadata": {},
   "source": [
    "# Example queries for Social Characteristics on COVID-19 Knowledge Graph\n",
    "[Work in progress]\n",
    "\n",
    "This notebook demonstrates how to run Cypher queries to get [Social Characteristics from the American Community Survey 2018 5-year data](https://data.census.gov/cedsci/table?q=DP02&tid=ACSDP5Y2018.DP02) at multiple levels of geographic granularity. \n",
    "\n",
    "Social Characteristics are currently limited to Educational Attainment."
   ]
  },
  {
   "cell_type": "code",
   "execution_count": 15,
   "metadata": {},
   "outputs": [],
   "source": [
    "import pandas as pd\n",
    "import matplotlib.pyplot as plt\n",
    "from py2neo import Graph"
   ]
  },
  {
   "cell_type": "code",
   "execution_count": 16,
   "metadata": {},
   "outputs": [],
   "source": [
    "pd.options.display.max_rows = None  # display all rows\n",
    "pd.options.display.max_columns = None  # display all columsns"
   ]
  },
  {
   "cell_type": "markdown",
   "metadata": {},
   "source": [
    "#### Connect to COVID-19-Net Knowledge Graph"
   ]
  },
  {
   "cell_type": "code",
   "execution_count": 17,
   "metadata": {},
   "outputs": [],
   "source": [
    "graph = Graph(\"bolt://132.249.238.185:7687\", user=\"reader\", password=\"demo\")"
   ]
  },
  {
   "cell_type": "markdown",
   "metadata": {},
   "source": [
    "### Educational Attainment\n",
    "The following characteristics are available for educational attainment. Characteristics ending with Pct are values in percent, whereas all other values are counts. For details see [Subject Definitions](https://www2.census.gov/programs-surveys/acs/tech_docs/subject_definitions/2018_ACSSubjectDefinitions.pdf)."
   ]
  },
  {
   "cell_type": "markdown",
   "metadata": {},
   "source": [
    "             'DP02_0058E': 'population25YearsAndOver',\n",
    "             'DP02_0059E': 'lessThan9thGrade',\n",
    "             'DP02_0059PE': 'lessThan9thGradePct',\n",
    "             'DP02_0060E': 'grade9thTo12thNoDiploma',\n",
    "             'DP02_0060PE': 'grade9thTo12thNoDiplomaPct',\n",
    "             'DP02_0061E': 'highSchoolGraduate',\n",
    "             'DP02_0061PE': 'highSchoolGraduatePct',\n",
    "             'DP02_0062E': 'someCollegeNoDegree',\n",
    "             'DP02_0062PE': 'someCollegeNoDegreePct',\n",
    "             'DP02_0063E': 'associatesDegree',\n",
    "             'DP02_0063PE': 'associatesDegreePct',\n",
    "             'DP02_0064E': 'bachelorsDegree',\n",
    "             'DP02_0064PE': 'bachelorsDegreePct',\n",
    "             'DP02_0065E': 'graduateOrProfessionalDegree',\n",
    "             'DP02_0065PE': 'graduateOrProfessionalDegreePct',\n",
    "             'DP02_0066E': 'highSchoolGraduateOrHigher',\n",
    "             'DP02_0066PE': 'highSchoolGraduateOrHigherPct',\n",
    "             'DP02_0067E': 'bachelorsDegreeOrHigher',\n",
    "             'DP02_0067PE': 'bachelorsDegreeOrHigherPct',"
   ]
  },
  {
   "cell_type": "markdown",
   "metadata": {},
   "source": [
    "##### Data are available at multiple levels of geographic granularity\n",
    "* US County\n",
    "* US Zip Code\n",
    "* US Census Tract"
   ]
  },
  {
   "cell_type": "markdown",
   "metadata": {},
   "source": [
    "### Get Data By US County"
   ]
  },
  {
   "cell_type": "markdown",
   "metadata": {},
   "source": [
    "If the state and county fips codes are available, social characteristics can be retrieved directly.\n",
    "\n",
    "Note, fips codes are represented as strings."
   ]
  },
  {
   "cell_type": "markdown",
   "metadata": {},
   "source": [
    "##### Example: Highschool and Bachelor's Degrees or higher"
   ]
  },
  {
   "cell_type": "code",
   "execution_count": 18,
   "metadata": {},
   "outputs": [],
   "source": [
    "state_fips = '06'\n",
    "county_fips = '073'"
   ]
  },
  {
   "cell_type": "code",
   "execution_count": 19,
   "metadata": {},
   "outputs": [
    {
     "data": {
      "text/html": [
       "<div>\n",
       "<style scoped>\n",
       "    .dataframe tbody tr th:only-of-type {\n",
       "        vertical-align: middle;\n",
       "    }\n",
       "\n",
       "    .dataframe tbody tr th {\n",
       "        vertical-align: top;\n",
       "    }\n",
       "\n",
       "    .dataframe thead th {\n",
       "        text-align: right;\n",
       "    }\n",
       "</style>\n",
       "<table border=\"1\" class=\"dataframe\">\n",
       "  <thead>\n",
       "    <tr style=\"text-align: right;\">\n",
       "      <th></th>\n",
       "    </tr>\n",
       "  </thead>\n",
       "  <tbody>\n",
       "  </tbody>\n",
       "</table>\n",
       "</div>"
      ],
      "text/plain": [
       "Empty DataFrame\n",
       "Columns: []\n",
       "Index: []"
      ]
     },
     "execution_count": 19,
     "metadata": {},
     "output_type": "execute_result"
    }
   ],
   "source": [
    "query = \"\"\"\n",
    "MATCH (e:Education{countyFips:$county_fips, stateFips:$state_fips})\n",
    "RETURN e.stateFips, e.countyFips, e.population25YearsAndOver, e.highSchoolGraduateOrHigher, e.bachelorsDegreeOrHigher, e.highSchoolGraduateOrHigherPct, e.bachelorsDegreeOrHigherPct\n",
    "\"\"\"\n",
    "df = graph.run(query, county_fips=county_fips, state_fips=state_fips).to_data_frame()\n",
    "df.head()"
   ]
  },
  {
   "cell_type": "markdown",
   "metadata": {},
   "source": [
    "Example: Get the same data using relationships"
   ]
  },
  {
   "cell_type": "code",
   "execution_count": 6,
   "metadata": {},
   "outputs": [],
   "source": [
    "county = 'San Diego County'"
   ]
  },
  {
   "cell_type": "code",
   "execution_count": 7,
   "metadata": {},
   "outputs": [
    {
     "data": {
      "text/html": [
       "<div>\n",
       "<style scoped>\n",
       "    .dataframe tbody tr th:only-of-type {\n",
       "        vertical-align: middle;\n",
       "    }\n",
       "\n",
       "    .dataframe tbody tr th {\n",
       "        vertical-align: top;\n",
       "    }\n",
       "\n",
       "    .dataframe thead th {\n",
       "        text-align: right;\n",
       "    }\n",
       "</style>\n",
       "<table border=\"1\" class=\"dataframe\">\n",
       "  <thead>\n",
       "    <tr style=\"text-align: right;\">\n",
       "      <th></th>\n",
       "      <th>a.name</th>\n",
       "      <th>e.population25YearsAndOver</th>\n",
       "      <th>e.highSchoolGraduateOrHigher</th>\n",
       "      <th>e.bachelorsDegreeOrHigher</th>\n",
       "      <th>e.highSchoolGraduateOrHigherPct</th>\n",
       "      <th>e.bachelorsDegreeOrHigherPct</th>\n",
       "    </tr>\n",
       "  </thead>\n",
       "  <tbody>\n",
       "    <tr>\n",
       "      <th>0</th>\n",
       "      <td>San Diego County</td>\n",
       "      <td>2223376</td>\n",
       "      <td>1937368</td>\n",
       "      <td>848022</td>\n",
       "      <td>87.1</td>\n",
       "      <td>38.1</td>\n",
       "    </tr>\n",
       "  </tbody>\n",
       "</table>\n",
       "</div>"
      ],
      "text/plain": [
       "             a.name  e.population25YearsAndOver  e.highSchoolGraduateOrHigher  \\\n",
       "0  San Diego County                     2223376                       1937368   \n",
       "\n",
       "   e.bachelorsDegreeOrHigher  e.highSchoolGraduateOrHigherPct  \\\n",
       "0                     848022                             87.1   \n",
       "\n",
       "   e.bachelorsDegreeOrHigherPct  \n",
       "0                          38.1  "
      ]
     },
     "execution_count": 7,
     "metadata": {},
     "output_type": "execute_result"
    }
   ],
   "source": [
    "query = \"\"\"\n",
    "MATCH (a:Admin2{name:$admin2})-[:HAS_SOCIAL_CHARACTERISTICS]-(s:SocialCharacteristics)-[:HAS_EDUCATION]-(e:Education)\n",
    "RETURN a.name, e.population25YearsAndOver, e.highSchoolGraduateOrHigher, e.bachelorsDegreeOrHigher, e.highSchoolGraduateOrHigherPct, e.bachelorsDegreeOrHigherPct\n",
    "\"\"\"\n",
    "df = graph.run(query, admin2=county).to_data_frame()\n",
    "df.head()"
   ]
  },
  {
   "cell_type": "markdown",
   "metadata": {},
   "source": [
    "### Get Data by US Postal Code\n",
    "\n",
    "Note, postal codes are represented as strings."
   ]
  },
  {
   "cell_type": "code",
   "execution_count": 8,
   "metadata": {},
   "outputs": [],
   "source": [
    "zip_code = '92130'"
   ]
  },
  {
   "cell_type": "code",
   "execution_count": 9,
   "metadata": {},
   "outputs": [
    {
     "data": {
      "text/html": [
       "<div>\n",
       "<style scoped>\n",
       "    .dataframe tbody tr th:only-of-type {\n",
       "        vertical-align: middle;\n",
       "    }\n",
       "\n",
       "    .dataframe tbody tr th {\n",
       "        vertical-align: top;\n",
       "    }\n",
       "\n",
       "    .dataframe thead th {\n",
       "        text-align: right;\n",
       "    }\n",
       "</style>\n",
       "<table border=\"1\" class=\"dataframe\">\n",
       "  <thead>\n",
       "    <tr style=\"text-align: right;\">\n",
       "      <th></th>\n",
       "      <th>e.postalCode</th>\n",
       "      <th>e.someCollegeNoDegreePct</th>\n",
       "      <th>e.associatesDegreePct</th>\n",
       "      <th>e.bachelorsDegreePct</th>\n",
       "      <th>e.graduateOrProfessionalDegreePct</th>\n",
       "    </tr>\n",
       "  </thead>\n",
       "  <tbody>\n",
       "    <tr>\n",
       "      <th>0</th>\n",
       "      <td>92130</td>\n",
       "      <td>11.1</td>\n",
       "      <td>3.4</td>\n",
       "      <td>33.4</td>\n",
       "      <td>45.1</td>\n",
       "    </tr>\n",
       "  </tbody>\n",
       "</table>\n",
       "</div>"
      ],
      "text/plain": [
       "  e.postalCode  e.someCollegeNoDegreePct  e.associatesDegreePct  \\\n",
       "0        92130                      11.1                    3.4   \n",
       "\n",
       "   e.bachelorsDegreePct  e.graduateOrProfessionalDegreePct  \n",
       "0                  33.4                               45.1  "
      ]
     },
     "execution_count": 9,
     "metadata": {},
     "output_type": "execute_result"
    }
   ],
   "source": [
    "query = \"\"\"\n",
    "MATCH (e:Education{postalCode: $zip_code})\n",
    "RETURN e.postalCode, e.someCollegeNoDegreePct, e.associatesDegreePct, e.bachelorsDegreePct, e.graduateOrProfessionalDegreePct\n",
    "\"\"\"\n",
    "df = graph.run(query, zip_code=zip_code).to_data_frame()\n",
    "df.head()"
   ]
  },
  {
   "cell_type": "markdown",
   "metadata": {},
   "source": [
    "##### Example: List educational data for Zip codes with a place name\n",
    "\n",
    "Note, Zip code areas may cross city boundaries. Place names are the preferred names used by the US Postal Service."
   ]
  },
  {
   "cell_type": "code",
   "execution_count": 10,
   "metadata": {},
   "outputs": [
    {
     "data": {
      "text/html": [
       "<div>\n",
       "<style scoped>\n",
       "    .dataframe tbody tr th:only-of-type {\n",
       "        vertical-align: middle;\n",
       "    }\n",
       "\n",
       "    .dataframe tbody tr th {\n",
       "        vertical-align: top;\n",
       "    }\n",
       "\n",
       "    .dataframe thead th {\n",
       "        text-align: right;\n",
       "    }\n",
       "</style>\n",
       "<table border=\"1\" class=\"dataframe\">\n",
       "  <thead>\n",
       "    <tr style=\"text-align: right;\">\n",
       "      <th></th>\n",
       "      <th>Zip code</th>\n",
       "      <th>Some college, no degree</th>\n",
       "      <th>Associate's degree</th>\n",
       "      <th>Bachelor's degree</th>\n",
       "      <th>Graduate or professional degree</th>\n",
       "    </tr>\n",
       "  </thead>\n",
       "  <tbody>\n",
       "    <tr>\n",
       "      <th>0</th>\n",
       "      <td>91910</td>\n",
       "      <td>25.1</td>\n",
       "      <td>8.2</td>\n",
       "      <td>17.2</td>\n",
       "      <td>7.9</td>\n",
       "    </tr>\n",
       "    <tr>\n",
       "      <th>1</th>\n",
       "      <td>91911</td>\n",
       "      <td>23.5</td>\n",
       "      <td>7.5</td>\n",
       "      <td>11.2</td>\n",
       "      <td>5.0</td>\n",
       "    </tr>\n",
       "    <tr>\n",
       "      <th>2</th>\n",
       "      <td>91913</td>\n",
       "      <td>24.6</td>\n",
       "      <td>10.2</td>\n",
       "      <td>28.8</td>\n",
       "      <td>11.9</td>\n",
       "    </tr>\n",
       "    <tr>\n",
       "      <th>3</th>\n",
       "      <td>91914</td>\n",
       "      <td>19.2</td>\n",
       "      <td>11.6</td>\n",
       "      <td>28.6</td>\n",
       "      <td>16.4</td>\n",
       "    </tr>\n",
       "    <tr>\n",
       "      <th>4</th>\n",
       "      <td>91915</td>\n",
       "      <td>25.0</td>\n",
       "      <td>12.6</td>\n",
       "      <td>31.1</td>\n",
       "      <td>11.6</td>\n",
       "    </tr>\n",
       "  </tbody>\n",
       "</table>\n",
       "</div>"
      ],
      "text/plain": [
       "  Zip code  Some college, no degree  Associate's degree  Bachelor's degree  \\\n",
       "0    91910                     25.1                 8.2               17.2   \n",
       "1    91911                     23.5                 7.5               11.2   \n",
       "2    91913                     24.6                10.2               28.8   \n",
       "3    91914                     19.2                11.6               28.6   \n",
       "4    91915                     25.0                12.6               31.1   \n",
       "\n",
       "   Graduate or professional degree  \n",
       "0                              7.9  \n",
       "1                              5.0  \n",
       "2                             11.9  \n",
       "3                             16.4  \n",
       "4                             11.6  "
      ]
     },
     "execution_count": 10,
     "metadata": {},
     "output_type": "execute_result"
    }
   ],
   "source": [
    "place_name = 'Chula Vista'\n",
    "\n",
    "query = \"\"\"\n",
    "MATCH (p:PostalCode{placeName:$place_name})-[:HAS_SOCIAL_CHARACTERISTICS]-(:SocialCharacteristics)-[:HAS_EDUCATION]-(e:Education)\n",
    "RETURN p.name AS `Zip code`, \n",
    "       e.someCollegeNoDegreePct AS `Some college, no degree`, e.associatesDegreePct AS `Associate's degree`, \n",
    "       e.bachelorsDegreePct AS `Bachelor's degree`, e.graduateOrProfessionalDegreePct AS `Graduate or professional degree`\n",
    "\"\"\"\n",
    "df = graph.run(query, place_name=place_name).to_data_frame()\n",
    "df.head()"
   ]
  },
  {
   "cell_type": "code",
   "execution_count": 11,
   "metadata": {},
   "outputs": [
    {
     "data": {
      "image/png": "[encoded data removed]",
      "text/plain": [
       "<Figure size 432x288 with 1 Axes>"
      ]
     },
     "metadata": {
      "needs_background": "light"
     },
     "output_type": "display_data"
    }
   ],
   "source": [
    "df.plot.bar(x='Zip code', \n",
    "            y=[\"Some college, no degree\", \"Associate's degree\", \n",
    "               \"Bachelor's degree\", \"Graduate or professional degree\"], \n",
    "            title='College Education [%]', stacked=True, rot=0);"
   ]
  },
  {
   "cell_type": "markdown",
   "metadata": {},
   "source": [
    "### Get Data by US Census Tract\n",
    "\n",
    "Note, tracts are represented at strings."
   ]
  },
  {
   "cell_type": "markdown",
   "metadata": {},
   "source": [
    "##### Example: College degrees for a tract"
   ]
  },
  {
   "cell_type": "code",
   "execution_count": 12,
   "metadata": {},
   "outputs": [],
   "source": [
    "tract = '06073008324'"
   ]
  },
  {
   "cell_type": "code",
   "execution_count": 13,
   "metadata": {},
   "outputs": [
    {
     "data": {
      "text/html": [
       "<div>\n",
       "<style scoped>\n",
       "    .dataframe tbody tr th:only-of-type {\n",
       "        vertical-align: middle;\n",
       "    }\n",
       "\n",
       "    .dataframe tbody tr th {\n",
       "        vertical-align: top;\n",
       "    }\n",
       "\n",
       "    .dataframe thead th {\n",
       "        text-align: right;\n",
       "    }\n",
       "</style>\n",
       "<table border=\"1\" class=\"dataframe\">\n",
       "  <thead>\n",
       "    <tr style=\"text-align: right;\">\n",
       "      <th></th>\n",
       "      <th>e.tract</th>\n",
       "      <th>e.someCollegeNoDegreePct</th>\n",
       "      <th>e.associatesDegreePct</th>\n",
       "      <th>e.bachelorsDegreePct</th>\n",
       "      <th>e.graduateOrProfessionalDegreePct</th>\n",
       "    </tr>\n",
       "  </thead>\n",
       "  <tbody>\n",
       "    <tr>\n",
       "      <th>0</th>\n",
       "      <td>06073008324</td>\n",
       "      <td>15.0</td>\n",
       "      <td>3.3</td>\n",
       "      <td>31.1</td>\n",
       "      <td>42.7</td>\n",
       "    </tr>\n",
       "  </tbody>\n",
       "</table>\n",
       "</div>"
      ],
      "text/plain": [
       "       e.tract  e.someCollegeNoDegreePct  e.associatesDegreePct  \\\n",
       "0  06073008324                      15.0                    3.3   \n",
       "\n",
       "   e.bachelorsDegreePct  e.graduateOrProfessionalDegreePct  \n",
       "0                  31.1                               42.7  "
      ]
     },
     "execution_count": 13,
     "metadata": {},
     "output_type": "execute_result"
    }
   ],
   "source": [
    "query = \"\"\"\n",
    "MATCH (e:Education{tract: $tract})\n",
    "RETURN e.tract, e.someCollegeNoDegreePct, e.associatesDegreePct, e.bachelorsDegreePct, e.graduateOrProfessionalDegreePct\n",
    "\"\"\"\n",
    "df = graph.run(query, tract=tract).to_data_frame()\n",
    "df.head()"
   ]
  },
  {
   "cell_type": "markdown",
   "metadata": {},
   "source": [
    "##### Example: List college degrees for all tracts in a county"
   ]
  },
  {
   "cell_type": "code",
   "execution_count": 14,
   "metadata": {},
   "outputs": [
    {
     "data": {
      "text/html": [
       "<div>\n",
       "<style scoped>\n",
       "    .dataframe tbody tr th:only-of-type {\n",
       "        vertical-align: middle;\n",
       "    }\n",
       "\n",
       "    .dataframe tbody tr th {\n",
       "        vertical-align: top;\n",
       "    }\n",
       "\n",
       "    .dataframe thead th {\n",
       "        text-align: right;\n",
       "    }\n",
       "</style>\n",
       "<table border=\"1\" class=\"dataframe\">\n",
       "  <thead>\n",
       "    <tr style=\"text-align: right;\">\n",
       "      <th></th>\n",
       "    </tr>\n",
       "  </thead>\n",
       "  <tbody>\n",
       "  </tbody>\n",
       "</table>\n",
       "</div>"
      ],
      "text/plain": [
       "Empty DataFrame\n",
       "Columns: []\n",
       "Index: []"
      ]
     },
     "execution_count": 14,
     "metadata": {},
     "output_type": "execute_result"
    }
   ],
   "source": [
    "state = 'California'\n",
    "county = 'Orange County'\n",
    "\n",
    "query = \"\"\"\n",
    "MATCH (a1:Admin1{name: $admin1})-[:IN]-(a2:Admin2{name: $admin2})-[:IN]-(t:Tract)-[:HAS_SOCIAL_CHARACTERISTICS]-(:SocialCharacteristics)-[:HAS_EDUCATION]-(e:Education)\n",
    "RETURN a1.name AS State, a2.name AS County, t.name AS Tract,\n",
    "       e.someCollegeNoDegreePct AS `Some college, no degree`, e.associatesDegreePct AS `Associate's degree`, \n",
    "       e.bachelorsDegreePct AS `Bachelor's degree`, e.graduateOrProfessionalDegreePct AS `Graduate or professional degree`\n",
    "\"\"\"\n",
    "df = graph.run(query, admin1=state, admin2=county).to_data_frame()\n",
    "df.head()"
   ]
  }
 ],
 "metadata": {
  "kernelspec": {
   "display_name": "Python 3",
   "language": "python",
   "name": "python3"
  },
  "language_info": {
   "codemirror_mode": {
    "name": "ipython",
    "version": 3
   },
   "file_extension": ".py",
   "mimetype": "text/x-python",
   "name": "python",
   "nbconvert_exporter": "python",
   "pygments_lexer": "ipython3",
   "version": "3.8.3"
  }
 },
 "nbformat": 4,
 "nbformat_minor": 4
}

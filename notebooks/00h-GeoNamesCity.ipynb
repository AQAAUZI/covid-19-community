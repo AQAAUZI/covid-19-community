{
 "cells": [
  {
   "cell_type": "markdown",
   "metadata": {},
   "source": [
    "# Cities"
   ]
  },
  {
   "cell_type": "markdown",
   "metadata": {},
   "source": [
    "**[Work in progress]**\n",
    "\n",
    "This notebook creates a .csv file with city information (cities > 1000 citizens) for ingestion into the Knowledge Graph.\n",
    "\n",
    "Data source: [GeoNames.org](https://download.geonames.org/export/dump/)\n",
    "\n",
    "Author: Peter Rose (pwrose@ucsd.edu)"
   ]
  },
  {
   "cell_type": "code",
   "execution_count": 1,
   "metadata": {},
   "outputs": [],
   "source": [
    "import os\n",
    "from io import BytesIO\n",
    "from zipfile import ZipFile\n",
    "from urllib.request import urlopen\n",
    "from pathlib import Path\n",
    "import pandas as pd"
   ]
  },
  {
   "cell_type": "code",
   "execution_count": 2,
   "metadata": {},
   "outputs": [],
   "source": [
    "pd.options.display.max_rows = None  # display all rows\n",
    "pd.options.display.max_columns = None  # display all columsns"
   ]
  },
  {
   "cell_type": "code",
   "execution_count": 3,
   "metadata": {},
   "outputs": [
    {
     "name": "stdout",
     "output_type": "stream",
     "text": [
      "/Users/peter/Library/Application Support/Neo4j Desktop/Application/neo4jDatabases/database-4af96121-2328-4e2f-ba60-6d8b728a26d5/installation-4.0.3\n"
     ]
    }
   ],
   "source": [
    "NEO4J_HOME = Path(os.getenv('NEO4J_HOME'))\n",
    "print(NEO4J_HOME)"
   ]
  },
  {
   "cell_type": "markdown",
   "metadata": {},
   "source": [
    "### Read City data"
   ]
  },
  {
   "cell_type": "code",
   "execution_count": 4,
   "metadata": {},
   "outputs": [],
   "source": [
    "names = [\n",
    "        'geonameid','name','asciiname','alternatenames','latitude','longitude','feature class',\n",
    "        'feature code','country code','cc2','admin1 code','admin2 code','admin3 code','admin4 code',\n",
    "        'population','elevation','dem','timezone','modification date'\n",
    "]"
   ]
  },
  {
   "cell_type": "markdown",
   "metadata": {},
   "source": [
    "Read city data (> 15,000 citizens)"
   ]
  },
  {
   "cell_type": "code",
   "execution_count": 5,
   "metadata": {},
   "outputs": [],
   "source": [
    "url = 'https://download.geonames.org/export/dump/cities15000.zip'\n",
    "file_name = \"cities15000.txt\"\n",
    "resp = urlopen(url)\n",
    "zipfile = ZipFile(BytesIO(resp.read()))\n",
    "city_15k = pd.read_csv(zipfile.open(file_name), sep=\"\\t\", low_memory=False, names=names)"
   ]
  },
  {
   "cell_type": "markdown",
   "metadata": {},
   "source": [
    "Read city data (> 5,000 citizens)"
   ]
  },
  {
   "cell_type": "code",
   "execution_count": 6,
   "metadata": {},
   "outputs": [],
   "source": [
    "url = 'https://download.geonames.org/export/dump/cities5000.zip'\n",
    "file_name = \"cities5000.txt\"\n",
    "resp = urlopen(url)\n",
    "zipfile = ZipFile(BytesIO(resp.read()))\n",
    "city_5k = pd.read_csv(zipfile.open(file_name), sep=\"\\t\", low_memory=False, names=names)"
   ]
  },
  {
   "cell_type": "markdown",
   "metadata": {},
   "source": [
    "Read city data (> 1000 citizens)"
   ]
  },
  {
   "cell_type": "code",
   "execution_count": 7,
   "metadata": {},
   "outputs": [],
   "source": [
    "url = 'https://download.geonames.org/export/dump/cities1000.zip'\n",
    "file_name = \"cities1000.txt\"\n",
    "resp = urlopen(url)\n",
    "zipfile = ZipFile(BytesIO(resp.read()))\n",
    "city_1k = pd.read_csv(zipfile.open(file_name), sep=\"\\t\", low_memory=False, names=names)"
   ]
  },
  {
   "cell_type": "code",
   "execution_count": 8,
   "metadata": {},
   "outputs": [],
   "source": [
    "# TODO read city data (> 500 citizens)"
   ]
  },
  {
   "cell_type": "code",
   "execution_count": 9,
   "metadata": {},
   "outputs": [],
   "source": [
    "city = pd.concat([city_15k, city_5k, city_1k])"
   ]
  },
  {
   "cell_type": "code",
   "execution_count": 10,
   "metadata": {},
   "outputs": [],
   "source": [
    "city = city[['geonameid', 'asciiname', 'country code', 'admin1 code', 'admin2 code', 'population', 'elevation']]\n",
    "city = city.fillna('')"
   ]
  },
  {
   "cell_type": "markdown",
   "metadata": {},
   "source": [
    "#### Remove duplicates"
   ]
  },
  {
   "cell_type": "code",
   "execution_count": 11,
   "metadata": {},
   "outputs": [],
   "source": [
    "city = city.drop_duplicates('geonameid')"
   ]
  },
  {
   "cell_type": "code",
   "execution_count": 12,
   "metadata": {},
   "outputs": [
    {
     "name": "stdout",
     "output_type": "stream",
     "text": [
      "Number of cities 136582\n"
     ]
    }
   ],
   "source": [
    "print('Number of cities', city.shape[0])"
   ]
  },
  {
   "cell_type": "code",
   "execution_count": 13,
   "metadata": {},
   "outputs": [],
   "source": [
    "def get_location_id(country, admin1, admin2):\n",
    "    location = country\n",
    "    if admin1 != '':\n",
    "        location = location + '.' + admin1\n",
    "    if admin2 != '':\n",
    "        location = location + '.' + admin2\n",
    "        \n",
    "    return location"
   ]
  },
  {
   "cell_type": "markdown",
   "metadata": {},
   "source": [
    "### Standardize column names for Knowlege Graph\n",
    "* id: unique identifier for country\n",
    "* name: name of node\n",
    "* parentId: unique identifier for continent\n",
    "* properties: camelCase"
   ]
  },
  {
   "cell_type": "code",
   "execution_count": 14,
   "metadata": {},
   "outputs": [],
   "source": [
    "city.rename(columns={'geonameid': 'id'}, inplace=True)\n",
    "city.rename(columns={'asciiname': 'name'}, inplace=True)\n",
    "city['parentId'] = city.apply(lambda row: get_location_id(row['country code'], \n",
    "                                                         row['admin1 code'], \n",
    "                                                         row['admin2 code']), axis=1)"
   ]
  },
  {
   "cell_type": "markdown",
   "metadata": {},
   "source": [
    "### Example"
   ]
  },
  {
   "cell_type": "code",
   "execution_count": 15,
   "metadata": {},
   "outputs": [
    {
     "data": {
      "text/html": [
       "<div>\n",
       "<style scoped>\n",
       "    .dataframe tbody tr th:only-of-type {\n",
       "        vertical-align: middle;\n",
       "    }\n",
       "\n",
       "    .dataframe tbody tr th {\n",
       "        vertical-align: top;\n",
       "    }\n",
       "\n",
       "    .dataframe thead th {\n",
       "        text-align: right;\n",
       "    }\n",
       "</style>\n",
       "<table border=\"1\" class=\"dataframe\">\n",
       "  <thead>\n",
       "    <tr style=\"text-align: right;\">\n",
       "      <th></th>\n",
       "      <th>id</th>\n",
       "      <th>name</th>\n",
       "      <th>country code</th>\n",
       "      <th>admin1 code</th>\n",
       "      <th>admin2 code</th>\n",
       "      <th>population</th>\n",
       "      <th>elevation</th>\n",
       "      <th>parentId</th>\n",
       "    </tr>\n",
       "  </thead>\n",
       "  <tbody>\n",
       "    <tr>\n",
       "      <th>4216</th>\n",
       "      <td>3621926</td>\n",
       "      <td>San Diego</td>\n",
       "      <td>CR</td>\n",
       "      <td>02</td>\n",
       "      <td>303</td>\n",
       "      <td>16991</td>\n",
       "      <td></td>\n",
       "      <td>CR.02.303</td>\n",
       "    </tr>\n",
       "    <tr>\n",
       "      <th>23222</th>\n",
       "      <td>5391811</td>\n",
       "      <td>San Diego</td>\n",
       "      <td>US</td>\n",
       "      <td>CA</td>\n",
       "      <td>073</td>\n",
       "      <td>1394928</td>\n",
       "      <td>20</td>\n",
       "      <td>US.CA.073</td>\n",
       "    </tr>\n",
       "    <tr>\n",
       "      <th>7927</th>\n",
       "      <td>3669947</td>\n",
       "      <td>San Diego</td>\n",
       "      <td>CO</td>\n",
       "      <td>10</td>\n",
       "      <td>20750</td>\n",
       "      <td>8014</td>\n",
       "      <td></td>\n",
       "      <td>CO.10.20750</td>\n",
       "    </tr>\n",
       "    <tr>\n",
       "      <th>52441</th>\n",
       "      <td>3590312</td>\n",
       "      <td>San Diego</td>\n",
       "      <td>GT</td>\n",
       "      <td>22</td>\n",
       "      <td></td>\n",
       "      <td>557</td>\n",
       "      <td></td>\n",
       "      <td>GT.22</td>\n",
       "    </tr>\n",
       "    <tr>\n",
       "      <th>52827</th>\n",
       "      <td>3602368</td>\n",
       "      <td>San Diego</td>\n",
       "      <td>HN</td>\n",
       "      <td>07</td>\n",
       "      <td></td>\n",
       "      <td>1306</td>\n",
       "      <td></td>\n",
       "      <td>HN.07</td>\n",
       "    </tr>\n",
       "    <tr>\n",
       "      <th>80408</th>\n",
       "      <td>3827294</td>\n",
       "      <td>San Diego</td>\n",
       "      <td>MX</td>\n",
       "      <td>17</td>\n",
       "      <td></td>\n",
       "      <td>1463</td>\n",
       "      <td></td>\n",
       "      <td>MX.17</td>\n",
       "    </tr>\n",
       "    <tr>\n",
       "      <th>80567</th>\n",
       "      <td>3973609</td>\n",
       "      <td>San Diego</td>\n",
       "      <td>MX</td>\n",
       "      <td>24</td>\n",
       "      <td>024</td>\n",
       "      <td>1065</td>\n",
       "      <td></td>\n",
       "      <td>MX.24.024</td>\n",
       "    </tr>\n",
       "    <tr>\n",
       "      <th>81257</th>\n",
       "      <td>3987339</td>\n",
       "      <td>San Diego</td>\n",
       "      <td>MX</td>\n",
       "      <td>25</td>\n",
       "      <td>006</td>\n",
       "      <td>1240</td>\n",
       "      <td></td>\n",
       "      <td>MX.25.006</td>\n",
       "    </tr>\n",
       "    <tr>\n",
       "      <th>82883</th>\n",
       "      <td>4024589</td>\n",
       "      <td>San Diego</td>\n",
       "      <td>MX</td>\n",
       "      <td>11</td>\n",
       "      <td>037</td>\n",
       "      <td>1407</td>\n",
       "      <td></td>\n",
       "      <td>MX.11.037</td>\n",
       "    </tr>\n",
       "    <tr>\n",
       "      <th>83811</th>\n",
       "      <td>8858713</td>\n",
       "      <td>San Diego</td>\n",
       "      <td>MX</td>\n",
       "      <td>21</td>\n",
       "      <td>174</td>\n",
       "      <td>2026</td>\n",
       "      <td></td>\n",
       "      <td>MX.21.174</td>\n",
       "    </tr>\n",
       "    <tr>\n",
       "      <th>85083</th>\n",
       "      <td>11085550</td>\n",
       "      <td>San Diego</td>\n",
       "      <td>MX</td>\n",
       "      <td>15</td>\n",
       "      <td>088</td>\n",
       "      <td>1063</td>\n",
       "      <td></td>\n",
       "      <td>MX.15.088</td>\n",
       "    </tr>\n",
       "    <tr>\n",
       "      <th>91714</th>\n",
       "      <td>1690158</td>\n",
       "      <td>San Diego</td>\n",
       "      <td>PH</td>\n",
       "      <td>40</td>\n",
       "      <td>33</td>\n",
       "      <td>2488</td>\n",
       "      <td></td>\n",
       "      <td>PH.40.33</td>\n",
       "    </tr>\n",
       "    <tr>\n",
       "      <th>91715</th>\n",
       "      <td>1690160</td>\n",
       "      <td>San Diego</td>\n",
       "      <td>PH</td>\n",
       "      <td>40</td>\n",
       "      <td>09</td>\n",
       "      <td>3451</td>\n",
       "      <td></td>\n",
       "      <td>PH.40.09</td>\n",
       "    </tr>\n",
       "    <tr>\n",
       "      <th>123814</th>\n",
       "      <td>4726311</td>\n",
       "      <td>San Diego</td>\n",
       "      <td>US</td>\n",
       "      <td>TX</td>\n",
       "      <td>131</td>\n",
       "      <td>4368</td>\n",
       "      <td>94</td>\n",
       "      <td>US.TX.131</td>\n",
       "    </tr>\n",
       "    <tr>\n",
       "      <th>134786</th>\n",
       "      <td>3628462</td>\n",
       "      <td>San Diego</td>\n",
       "      <td>VE</td>\n",
       "      <td>07</td>\n",
       "      <td>0812</td>\n",
       "      <td>0</td>\n",
       "      <td></td>\n",
       "      <td>VE.07.0812</td>\n",
       "    </tr>\n",
       "  </tbody>\n",
       "</table>\n",
       "</div>"
      ],
      "text/plain": [
       "              id       name country code admin1 code admin2 code  population  \\\n",
       "4216     3621926  San Diego           CR          02         303       16991   \n",
       "23222    5391811  San Diego           US          CA         073     1394928   \n",
       "7927     3669947  San Diego           CO          10       20750        8014   \n",
       "52441    3590312  San Diego           GT          22                     557   \n",
       "52827    3602368  San Diego           HN          07                    1306   \n",
       "80408    3827294  San Diego           MX          17                    1463   \n",
       "80567    3973609  San Diego           MX          24         024        1065   \n",
       "81257    3987339  San Diego           MX          25         006        1240   \n",
       "82883    4024589  San Diego           MX          11         037        1407   \n",
       "83811    8858713  San Diego           MX          21         174        2026   \n",
       "85083   11085550  San Diego           MX          15         088        1063   \n",
       "91714    1690158  San Diego           PH          40          33        2488   \n",
       "91715    1690160  San Diego           PH          40          09        3451   \n",
       "123814   4726311  San Diego           US          TX         131        4368   \n",
       "134786   3628462  San Diego           VE          07        0812           0   \n",
       "\n",
       "       elevation     parentId  \n",
       "4216                CR.02.303  \n",
       "23222         20    US.CA.073  \n",
       "7927              CO.10.20750  \n",
       "52441                   GT.22  \n",
       "52827                   HN.07  \n",
       "80408                   MX.17  \n",
       "80567               MX.24.024  \n",
       "81257               MX.25.006  \n",
       "82883               MX.11.037  \n",
       "83811               MX.21.174  \n",
       "85083               MX.15.088  \n",
       "91714                PH.40.33  \n",
       "91715                PH.40.09  \n",
       "123814        94    US.TX.131  \n",
       "134786             VE.07.0812  "
      ]
     },
     "execution_count": 15,
     "metadata": {},
     "output_type": "execute_result"
    }
   ],
   "source": [
    "city.query(\"name == 'San Diego'\")"
   ]
  },
  {
   "cell_type": "markdown",
   "metadata": {},
   "source": [
    "### Export a minimum subset for now"
   ]
  },
  {
   "cell_type": "code",
   "execution_count": 16,
   "metadata": {},
   "outputs": [],
   "source": [
    "city = city[['id', 'name', 'population', 'elevation', 'parentId']]\n",
    "city.fillna('', inplace=True)"
   ]
  },
  {
   "cell_type": "code",
   "execution_count": 17,
   "metadata": {},
   "outputs": [
    {
     "data": {
      "text/html": [
       "<div>\n",
       "<style scoped>\n",
       "    .dataframe tbody tr th:only-of-type {\n",
       "        vertical-align: middle;\n",
       "    }\n",
       "\n",
       "    .dataframe tbody tr th {\n",
       "        vertical-align: top;\n",
       "    }\n",
       "\n",
       "    .dataframe thead th {\n",
       "        text-align: right;\n",
       "    }\n",
       "</style>\n",
       "<table border=\"1\" class=\"dataframe\">\n",
       "  <thead>\n",
       "    <tr style=\"text-align: right;\">\n",
       "      <th></th>\n",
       "      <th>id</th>\n",
       "      <th>name</th>\n",
       "      <th>population</th>\n",
       "      <th>elevation</th>\n",
       "      <th>parentId</th>\n",
       "    </tr>\n",
       "  </thead>\n",
       "  <tbody>\n",
       "    <tr>\n",
       "      <th>0</th>\n",
       "      <td>3040051</td>\n",
       "      <td>les Escaldes</td>\n",
       "      <td>15853</td>\n",
       "      <td></td>\n",
       "      <td>AD.08</td>\n",
       "    </tr>\n",
       "    <tr>\n",
       "      <th>1</th>\n",
       "      <td>3041563</td>\n",
       "      <td>Andorra la Vella</td>\n",
       "      <td>20430</td>\n",
       "      <td></td>\n",
       "      <td>AD.07</td>\n",
       "    </tr>\n",
       "    <tr>\n",
       "      <th>2</th>\n",
       "      <td>290594</td>\n",
       "      <td>Umm Al Quwain City</td>\n",
       "      <td>62747</td>\n",
       "      <td></td>\n",
       "      <td>AE.07</td>\n",
       "    </tr>\n",
       "    <tr>\n",
       "      <th>3</th>\n",
       "      <td>291074</td>\n",
       "      <td>Ras Al Khaimah City</td>\n",
       "      <td>351943</td>\n",
       "      <td></td>\n",
       "      <td>AE.05</td>\n",
       "    </tr>\n",
       "    <tr>\n",
       "      <th>4</th>\n",
       "      <td>291580</td>\n",
       "      <td>Zayed City</td>\n",
       "      <td>63482</td>\n",
       "      <td></td>\n",
       "      <td>AE.01.103</td>\n",
       "    </tr>\n",
       "  </tbody>\n",
       "</table>\n",
       "</div>"
      ],
      "text/plain": [
       "        id                 name  population elevation   parentId\n",
       "0  3040051         les Escaldes       15853                AD.08\n",
       "1  3041563     Andorra la Vella       20430                AD.07\n",
       "2   290594   Umm Al Quwain City       62747                AE.07\n",
       "3   291074  Ras Al Khaimah City      351943                AE.05\n",
       "4   291580           Zayed City       63482            AE.01.103"
      ]
     },
     "execution_count": 17,
     "metadata": {},
     "output_type": "execute_result"
    }
   ],
   "source": [
    "city.head()"
   ]
  },
  {
   "cell_type": "code",
   "execution_count": 18,
   "metadata": {},
   "outputs": [],
   "source": [
    "city.to_csv(NEO4J_HOME / \"import/00h-GeoNamesCity.csv\", index=False)"
   ]
  }
 ],
 "metadata": {
  "kernelspec": {
   "display_name": "Python 3",
   "language": "python",
   "name": "python3"
  },
  "language_info": {
   "codemirror_mode": {
    "name": "ipython",
    "version": 3
   },
   "file_extension": ".py",
   "mimetype": "text/x-python",
   "name": "python",
   "nbconvert_exporter": "python",
   "pygments_lexer": "ipython3",
   "version": "3.8.2"
  }
 },
 "nbformat": 4,
 "nbformat_minor": 4
}

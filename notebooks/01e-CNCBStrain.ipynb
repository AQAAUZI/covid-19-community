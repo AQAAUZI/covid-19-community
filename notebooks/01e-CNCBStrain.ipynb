{
 "cells": [
  {
   "cell_type": "markdown",
   "metadata": {},
   "source": [
    "# Load SARS-CoV-2 Virus Strain Data from CNCB\n",
    "**[Work in progress]**\n",
    "\n",
    "This notebook downloads and standardizes viral strain and variation data from CNCB for ingestion into a Knowledge Graph.\n",
    "\n",
    "Data source: [China National Center for Bioinformation, 2019 Novel Coronavirus Resource (2019nCoVR)](https://bigd.big.ac.cn/ncov/release_genome)\n",
    "\n",
    "Author: Peter Rose (pwrose@ucsd.edu)"
   ]
  },
  {
   "cell_type": "code",
   "execution_count": 1,
   "metadata": {},
   "outputs": [],
   "source": [
    "import os\n",
    "import pandas as pd\n",
    "import dateutil\n",
    "import re\n",
    "from pathlib import Path\n",
    "import glob\n",
    "#from os import path\n",
    "import ftplib"
   ]
  },
  {
   "cell_type": "code",
   "execution_count": 2,
   "metadata": {},
   "outputs": [],
   "source": [
    "pd.options.display.max_rows = None  # display all rows\n",
    "pd.options.display.max_columns = None  # display all columsns"
   ]
  },
  {
   "cell_type": "code",
   "execution_count": 3,
   "metadata": {},
   "outputs": [
    {
     "name": "stdout",
     "output_type": "stream",
     "text": [
      "/Users/peter/Library/Application Support/Neo4j Desktop/Application/neo4jDatabases/database-4af96121-2328-4e2f-ba60-6d8b728a26d5/installation-4.0.3\n"
     ]
    }
   ],
   "source": [
    "# Path will take care of handling operating system differences.\n",
    "NEO4J_HOME = Path(os.getenv('NEO4J_HOME'))\n",
    "print(NEO4J_HOME)"
   ]
  },
  {
   "cell_type": "code",
   "execution_count": 4,
   "metadata": {},
   "outputs": [],
   "source": [
    "# Create a directory to cache variation data\n",
    "CACHE = Path(NEO4J_HOME / 'import/cache')\n",
    "CACHE.mkdir(exist_ok=True)"
   ]
  },
  {
   "cell_type": "markdown",
   "metadata": {},
   "source": [
    "## Download SARS-CoV-2 Strain metadata"
   ]
  },
  {
   "cell_type": "code",
   "execution_count": 5,
   "metadata": {},
   "outputs": [],
   "source": [
    "metadata_url = \"https://bigd.big.ac.cn/ncov/genome/export/meta\"\n",
    "annotation_url = \"ftp://download.big.ac.cn/GVM/Coronavirus/gff3/\" "
   ]
  },
  {
   "cell_type": "code",
   "execution_count": 6,
   "metadata": {},
   "outputs": [],
   "source": [
    "df = pd.read_excel(metadata_url, dtype='str')\n",
    "df.fillna('', inplace=True)"
   ]
  },
  {
   "cell_type": "code",
   "execution_count": 7,
   "metadata": {},
   "outputs": [
    {
     "name": "stdout",
     "output_type": "stream",
     "text": [
      "Total number of strains: 30735\n"
     ]
    }
   ],
   "source": [
    "print(\"Total number of strains:\", df.shape[0])"
   ]
  },
  {
   "cell_type": "code",
   "execution_count": 8,
   "metadata": {},
   "outputs": [],
   "source": [
    "df = df.query(\"`Sequence Quality` == 'High'\")\n",
    "df = df.query(\"`Nuc.Completeness` == 'Complete'\")"
   ]
  },
  {
   "cell_type": "code",
   "execution_count": 9,
   "metadata": {},
   "outputs": [
    {
     "name": "stdout",
     "output_type": "stream",
     "text": [
      "Number of complete high quality strains 14855\n"
     ]
    }
   ],
   "source": [
    "print(\"Number of complete high quality strains\", df.shape[0])"
   ]
  },
  {
   "cell_type": "code",
   "execution_count": 10,
   "metadata": {},
   "outputs": [
    {
     "data": {
      "text/html": [
       "<div>\n",
       "<style scoped>\n",
       "    .dataframe tbody tr th:only-of-type {\n",
       "        vertical-align: middle;\n",
       "    }\n",
       "\n",
       "    .dataframe tbody tr th {\n",
       "        vertical-align: top;\n",
       "    }\n",
       "\n",
       "    .dataframe thead th {\n",
       "        text-align: right;\n",
       "    }\n",
       "</style>\n",
       "<table border=\"1\" class=\"dataframe\">\n",
       "  <thead>\n",
       "    <tr style=\"text-align: right;\">\n",
       "      <th></th>\n",
       "      <th>Virus Strain Name</th>\n",
       "      <th>Accession ID</th>\n",
       "      <th>Data Source</th>\n",
       "      <th>Related ID</th>\n",
       "      <th>Nuc.Completeness</th>\n",
       "      <th>Sequence Length</th>\n",
       "      <th>Sequence Quality</th>\n",
       "      <th>Quality Assessment</th>\n",
       "      <th>Host</th>\n",
       "      <th>Sample Collection Date</th>\n",
       "      <th>Location</th>\n",
       "      <th>Originating Lab</th>\n",
       "      <th>Submission Date</th>\n",
       "      <th>Submitting Lab</th>\n",
       "    </tr>\n",
       "  </thead>\n",
       "  <tbody>\n",
       "    <tr>\n",
       "      <th>0</th>\n",
       "      <td>BetaCoV/Wuhan/HBCDC-HB-01/2019</td>\n",
       "      <td>NMDC60013088-01</td>\n",
       "      <td>NMDC</td>\n",
       "      <td>EPI_ISL_402132</td>\n",
       "      <td>Complete</td>\n",
       "      <td>29848</td>\n",
       "      <td>High</td>\n",
       "      <td>0/0/0/1/NO</td>\n",
       "      <td>Homo sapiens</td>\n",
       "      <td>2019-12-30</td>\n",
       "      <td>China / Hubei</td>\n",
       "      <td>Wuhan Jinyintan Hospital</td>\n",
       "      <td>2020-01-19</td>\n",
       "      <td>Hubei Provincial Center for Disease Control an...</td>\n",
       "    </tr>\n",
       "    <tr>\n",
       "      <th>1</th>\n",
       "      <td>BetaCoV/Nonthaburi/74/2020</td>\n",
       "      <td>EPI_ISL_403963</td>\n",
       "      <td>GISAID</td>\n",
       "      <td></td>\n",
       "      <td>Complete</td>\n",
       "      <td>29859</td>\n",
       "      <td>High</td>\n",
       "      <td>0/0/0/0/NO</td>\n",
       "      <td>Homo sapiens</td>\n",
       "      <td>2020-01-13</td>\n",
       "      <td>Thailand/ Nonthaburi Province</td>\n",
       "      <td>Bamrasnaradura Hospital</td>\n",
       "      <td>2020-01-17</td>\n",
       "      <td>Department of Medical Sciences, Ministry of Pu...</td>\n",
       "    </tr>\n",
       "    <tr>\n",
       "      <th>2</th>\n",
       "      <td>BetaCoV/Nonthaburi/61/2020</td>\n",
       "      <td>EPI_ISL_403962</td>\n",
       "      <td>GISAID</td>\n",
       "      <td></td>\n",
       "      <td>Complete</td>\n",
       "      <td>29848</td>\n",
       "      <td>High</td>\n",
       "      <td>0/0/0/0/NO</td>\n",
       "      <td>Homo sapiens</td>\n",
       "      <td>2020-01-08</td>\n",
       "      <td>Thailand/ Nonthaburi Province</td>\n",
       "      <td>Bamrasnaradura Hospital</td>\n",
       "      <td>2020-01-17</td>\n",
       "      <td>Department of Medical Sciences, Ministry of Pu...</td>\n",
       "    </tr>\n",
       "    <tr>\n",
       "      <th>3</th>\n",
       "      <td>BetaCoV/Wuhan/IVDC-HB-04/2020</td>\n",
       "      <td>NMDC60013085-01</td>\n",
       "      <td>NMDC</td>\n",
       "      <td>EPI_ISL_402120</td>\n",
       "      <td>Complete</td>\n",
       "      <td>29896</td>\n",
       "      <td>High</td>\n",
       "      <td>0/0/0/2/NO</td>\n",
       "      <td>Homo sapiens</td>\n",
       "      <td>2020-01-01</td>\n",
       "      <td>China / Hubei / Wuhan</td>\n",
       "      <td>National Institute for Viral Disease Control a...</td>\n",
       "      <td>2020-01-11</td>\n",
       "      <td>National Institute for Viral Disease Control a...</td>\n",
       "    </tr>\n",
       "    <tr>\n",
       "      <th>4</th>\n",
       "      <td>BetaCoV/Wuhan/IVDC-HB-01/2019</td>\n",
       "      <td>NMDC60013084-01</td>\n",
       "      <td>NMDC</td>\n",
       "      <td>EPI_ISL_402119</td>\n",
       "      <td>Complete</td>\n",
       "      <td>29891</td>\n",
       "      <td>High</td>\n",
       "      <td>0/0/0/0/NO</td>\n",
       "      <td>Homo sapiens</td>\n",
       "      <td>2019-12-30</td>\n",
       "      <td>China / Hubei / Wuhan</td>\n",
       "      <td>National Institute for Viral Disease Control a...</td>\n",
       "      <td>2020-01-10</td>\n",
       "      <td>National Institute for Viral Disease Control a...</td>\n",
       "    </tr>\n",
       "  </tbody>\n",
       "</table>\n",
       "</div>"
      ],
      "text/plain": [
       "                Virus Strain Name     Accession ID Data Source  \\\n",
       "0  BetaCoV/Wuhan/HBCDC-HB-01/2019  NMDC60013088-01        NMDC   \n",
       "1      BetaCoV/Nonthaburi/74/2020   EPI_ISL_403963      GISAID   \n",
       "2      BetaCoV/Nonthaburi/61/2020   EPI_ISL_403962      GISAID   \n",
       "3   BetaCoV/Wuhan/IVDC-HB-04/2020  NMDC60013085-01        NMDC   \n",
       "4   BetaCoV/Wuhan/IVDC-HB-01/2019  NMDC60013084-01        NMDC   \n",
       "\n",
       "       Related ID Nuc.Completeness Sequence Length Sequence Quality  \\\n",
       "0  EPI_ISL_402132         Complete           29848             High   \n",
       "1                         Complete           29859             High   \n",
       "2                         Complete           29848             High   \n",
       "3  EPI_ISL_402120         Complete           29896             High   \n",
       "4  EPI_ISL_402119         Complete           29891             High   \n",
       "\n",
       "  Quality Assessment          Host Sample Collection Date  \\\n",
       "0         0/0/0/1/NO  Homo sapiens             2019-12-30   \n",
       "1         0/0/0/0/NO  Homo sapiens             2020-01-13   \n",
       "2         0/0/0/0/NO  Homo sapiens             2020-01-08   \n",
       "3         0/0/0/2/NO  Homo sapiens             2020-01-01   \n",
       "4         0/0/0/0/NO  Homo sapiens             2019-12-30   \n",
       "\n",
       "                        Location  \\\n",
       "0                  China / Hubei   \n",
       "1  Thailand/ Nonthaburi Province   \n",
       "2  Thailand/ Nonthaburi Province   \n",
       "3          China / Hubei / Wuhan   \n",
       "4          China / Hubei / Wuhan   \n",
       "\n",
       "                                     Originating Lab Submission Date  \\\n",
       "0                           Wuhan Jinyintan Hospital      2020-01-19   \n",
       "1                            Bamrasnaradura Hospital      2020-01-17   \n",
       "2                            Bamrasnaradura Hospital      2020-01-17   \n",
       "3  National Institute for Viral Disease Control a...      2020-01-11   \n",
       "4  National Institute for Viral Disease Control a...      2020-01-10   \n",
       "\n",
       "                                      Submitting Lab  \n",
       "0  Hubei Provincial Center for Disease Control an...  \n",
       "1  Department of Medical Sciences, Ministry of Pu...  \n",
       "2  Department of Medical Sciences, Ministry of Pu...  \n",
       "3  National Institute for Viral Disease Control a...  \n",
       "4  National Institute for Viral Disease Control a...  "
      ]
     },
     "execution_count": 10,
     "metadata": {},
     "output_type": "execute_result"
    }
   ],
   "source": [
    "df.head()"
   ]
  },
  {
   "cell_type": "markdown",
   "metadata": {},
   "source": [
    "#### Create a separate row for each Accession and Related ID"
   ]
  },
  {
   "cell_type": "code",
   "execution_count": 11,
   "metadata": {},
   "outputs": [],
   "source": [
    "df['Accession ID'] = df['Accession ID'].str.strip()\n",
    "df['Related ID'] = df['Related ID'].str.strip()\n",
    "\n",
    "# combine all ids into a single column\n",
    "df['alias'] = df['Accession ID'] + df['Related ID'].apply(lambda s: ',' + s if len(s) > 0 else s)\n",
    "df['alias'] = df['alias'].str.replace(' ', '')\n",
    "\n",
    "# then \"explode\" ids into separate rows\n",
    "df['id'] = df['alias'].apply(lambda s: s.split(','))\n",
    "df = df.explode('id')\n",
    "df['id'] = df['id'].str.strip()\n",
    "df['alias'] = df['alias'].str.replace(',', ';')"
   ]
  },
  {
   "cell_type": "markdown",
   "metadata": {},
   "source": [
    "#### Assign taxonomy ids"
   ]
  },
  {
   "cell_type": "code",
   "execution_count": 12,
   "metadata": {},
   "outputs": [],
   "source": [
    "# TODO a find general solution to map host name to NCBI taxonomy**\n",
    "\n",
    "# some organism specifications are ambiguous, \n",
    "# they don't match a specificn NCBI taxonomy\n",
    "\n",
    "taxonomy_to_id = {'Human': 'taxonomy:9606', \n",
    "                  'Homo sapiens': 'taxonomy:9606',\n",
    "                  'Homo Sapiens': 'taxonomy:9606',\n",
    "                  'Rhinolophus affinis': 'taxonomy:59477', \n",
    "                  'Rhinolophus malayanus': 'taxonomy:608659', \n",
    "                  'Mustela lutreola': 'taxonomy:9666',\n",
    "                  'Panthera tigris jacksoni': 'taxonomy:419130',\n",
    "                  'Rhinolophus sp. (bat)': 'taxonomy:49442', # ambiguous\n",
    "                  'bat': 'taxonomy:49442', # ambiguous\n",
    "                  'Manis javanica': 'taxonomy:9974',\n",
    "                  'palm civet': 'taxonomy:71116', # ambiguous\n",
    "                  'Canine': 'taxonomy:9608', # ambiguous\n",
    "                  'canine': 'taxonomy:9608', # ambiguous\n",
    "                  'Felis catus': 'taxonomy:9685'\n",
    "                 }"
   ]
  },
  {
   "cell_type": "code",
   "execution_count": 13,
   "metadata": {},
   "outputs": [
    {
     "data": {
      "text/plain": [
       "array(['taxonomy:9606', 'taxonomy:59477', 'Environment', 'taxonomy:9974',\n",
       "       'taxonomy:608659', 'taxonomy:419130', 'taxonomy:9666',\n",
       "       'taxonomy:9608'], dtype=object)"
      ]
     },
     "execution_count": 13,
     "metadata": {},
     "output_type": "execute_result"
    }
   ],
   "source": [
    "# assign taxonomy id to host\n",
    "df['hostTaxonomyId'] = df['Host'].apply(lambda s: taxonomy_to_id.get(s, s))\n",
    "df['hostTaxonomyId'].unique()"
   ]
  },
  {
   "cell_type": "code",
   "execution_count": 14,
   "metadata": {},
   "outputs": [],
   "source": [
    "df['taxonomyId'] = 'taxonomy:2697049' # SARS-CoV-2"
   ]
  },
  {
   "cell_type": "markdown",
   "metadata": {},
   "source": [
    "#### Standardize node property names (CURIEs and URIs)"
   ]
  },
  {
   "cell_type": "code",
   "execution_count": 15,
   "metadata": {},
   "outputs": [],
   "source": [
    "df.rename(columns={'Virus Strain Name': 'name',\n",
    "                   'Sample Collection Date':'collectionDate',\n",
    "                   'Location':'location'}, \n",
    "          inplace=True)"
   ]
  },
  {
   "cell_type": "code",
   "execution_count": 16,
   "metadata": {},
   "outputs": [],
   "source": [
    "# https://registry.identifiers.org/registry/insdc\n",
    "insdc_pattern = re.compile('^([A-Z]\\d{5}|[A-Z]{2}\\d{6}|[A-Z]{4}\\d{8}|[A-J][A-Z]{2}\\d{5})(\\.\\d+)?$')"
   ]
  },
  {
   "cell_type": "code",
   "execution_count": 17,
   "metadata": {},
   "outputs": [],
   "source": [
    "def assign_curie(id):\n",
    "    id = id.strip()\n",
    "    # remove underscore to enable CURIE matching of NCBI reference sequences NC_...\n",
    "    id = id.replace('NC_', 'NC') \n",
    "    if len(id) > 0:\n",
    "        if id.startswith('EPI'):\n",
    "            return 'https://www.gisaid.org/' + id\n",
    "        elif id.startswith('NC_'):\n",
    "            # NCBI reference sequences resolve with ncbiprotein CURIE\n",
    "            return 'ncbiprotein:' + id\n",
    "        elif insdc_pattern.match(id) != None:\n",
    "            return 'insdc:' + id\n",
    "        else:\n",
    "            # TODO are URIs available for these cases?\n",
    "            return id\n",
    "    else:\n",
    "        return id"
   ]
  },
  {
   "cell_type": "code",
   "execution_count": 18,
   "metadata": {},
   "outputs": [
    {
     "data": {
      "text/html": [
       "<div>\n",
       "<style scoped>\n",
       "    .dataframe tbody tr th:only-of-type {\n",
       "        vertical-align: middle;\n",
       "    }\n",
       "\n",
       "    .dataframe tbody tr th {\n",
       "        vertical-align: top;\n",
       "    }\n",
       "\n",
       "    .dataframe thead th {\n",
       "        text-align: right;\n",
       "    }\n",
       "</style>\n",
       "<table border=\"1\" class=\"dataframe\">\n",
       "  <thead>\n",
       "    <tr style=\"text-align: right;\">\n",
       "      <th></th>\n",
       "      <th>id</th>\n",
       "      <th>name</th>\n",
       "      <th>alias</th>\n",
       "      <th>taxonomyId</th>\n",
       "      <th>hostTaxonomyId</th>\n",
       "      <th>collectionDate</th>\n",
       "      <th>location</th>\n",
       "    </tr>\n",
       "  </thead>\n",
       "  <tbody>\n",
       "    <tr>\n",
       "      <th>0</th>\n",
       "      <td>NMDC60013088-01</td>\n",
       "      <td>BetaCoV/Wuhan/HBCDC-HB-01/2019</td>\n",
       "      <td>NMDC60013088-01;EPI_ISL_402132</td>\n",
       "      <td>taxonomy:2697049</td>\n",
       "      <td>taxonomy:9606</td>\n",
       "      <td>2019-12-30</td>\n",
       "      <td>China / Hubei</td>\n",
       "    </tr>\n",
       "    <tr>\n",
       "      <th>0</th>\n",
       "      <td>https://www.gisaid.org/EPI_ISL_402132</td>\n",
       "      <td>BetaCoV/Wuhan/HBCDC-HB-01/2019</td>\n",
       "      <td>NMDC60013088-01;EPI_ISL_402132</td>\n",
       "      <td>taxonomy:2697049</td>\n",
       "      <td>taxonomy:9606</td>\n",
       "      <td>2019-12-30</td>\n",
       "      <td>China / Hubei</td>\n",
       "    </tr>\n",
       "    <tr>\n",
       "      <th>1</th>\n",
       "      <td>https://www.gisaid.org/EPI_ISL_403963</td>\n",
       "      <td>BetaCoV/Nonthaburi/74/2020</td>\n",
       "      <td>EPI_ISL_403963</td>\n",
       "      <td>taxonomy:2697049</td>\n",
       "      <td>taxonomy:9606</td>\n",
       "      <td>2020-01-13</td>\n",
       "      <td>Thailand/ Nonthaburi Province</td>\n",
       "    </tr>\n",
       "    <tr>\n",
       "      <th>2</th>\n",
       "      <td>https://www.gisaid.org/EPI_ISL_403962</td>\n",
       "      <td>BetaCoV/Nonthaburi/61/2020</td>\n",
       "      <td>EPI_ISL_403962</td>\n",
       "      <td>taxonomy:2697049</td>\n",
       "      <td>taxonomy:9606</td>\n",
       "      <td>2020-01-08</td>\n",
       "      <td>Thailand/ Nonthaburi Province</td>\n",
       "    </tr>\n",
       "    <tr>\n",
       "      <th>3</th>\n",
       "      <td>NMDC60013085-01</td>\n",
       "      <td>BetaCoV/Wuhan/IVDC-HB-04/2020</td>\n",
       "      <td>NMDC60013085-01;EPI_ISL_402120</td>\n",
       "      <td>taxonomy:2697049</td>\n",
       "      <td>taxonomy:9606</td>\n",
       "      <td>2020-01-01</td>\n",
       "      <td>China / Hubei / Wuhan</td>\n",
       "    </tr>\n",
       "  </tbody>\n",
       "</table>\n",
       "</div>"
      ],
      "text/plain": [
       "                                      id                            name  \\\n",
       "0                        NMDC60013088-01  BetaCoV/Wuhan/HBCDC-HB-01/2019   \n",
       "0  https://www.gisaid.org/EPI_ISL_402132  BetaCoV/Wuhan/HBCDC-HB-01/2019   \n",
       "1  https://www.gisaid.org/EPI_ISL_403963      BetaCoV/Nonthaburi/74/2020   \n",
       "2  https://www.gisaid.org/EPI_ISL_403962      BetaCoV/Nonthaburi/61/2020   \n",
       "3                        NMDC60013085-01   BetaCoV/Wuhan/IVDC-HB-04/2020   \n",
       "\n",
       "                            alias        taxonomyId hostTaxonomyId  \\\n",
       "0  NMDC60013088-01;EPI_ISL_402132  taxonomy:2697049  taxonomy:9606   \n",
       "0  NMDC60013088-01;EPI_ISL_402132  taxonomy:2697049  taxonomy:9606   \n",
       "1                  EPI_ISL_403963  taxonomy:2697049  taxonomy:9606   \n",
       "2                  EPI_ISL_403962  taxonomy:2697049  taxonomy:9606   \n",
       "3  NMDC60013085-01;EPI_ISL_402120  taxonomy:2697049  taxonomy:9606   \n",
       "\n",
       "  collectionDate                       location  \n",
       "0     2019-12-30                  China / Hubei  \n",
       "0     2019-12-30                  China / Hubei  \n",
       "1     2020-01-13  Thailand/ Nonthaburi Province  \n",
       "2     2020-01-08  Thailand/ Nonthaburi Province  \n",
       "3     2020-01-01          China / Hubei / Wuhan  "
      ]
     },
     "execution_count": 18,
     "metadata": {},
     "output_type": "execute_result"
    }
   ],
   "source": [
    "strains = df[['id', 'name', 'alias', 'taxonomyId', 'hostTaxonomyId','collectionDate', 'location']].copy()\n",
    "strains['id'] = strains['id'].apply(assign_curie)\n",
    "strains.head()"
   ]
  },
  {
   "cell_type": "code",
   "execution_count": 19,
   "metadata": {},
   "outputs": [],
   "source": [
    "strains.to_csv(NEO4J_HOME / \"import/01e-CNCBStrain.csv\", index=False)"
   ]
  },
  {
   "cell_type": "markdown",
   "metadata": {},
   "source": [
    "## Merge Metadata with Variation Data"
   ]
  },
  {
   "cell_type": "markdown",
   "metadata": {},
   "source": [
    "#### Get list of file names from FTP site"
   ]
  },
  {
   "cell_type": "code",
   "execution_count": 20,
   "metadata": {},
   "outputs": [
    {
     "data": {
      "text/plain": [
       "'221 Goodbye.'"
      ]
     },
     "execution_count": 20,
     "metadata": {},
     "output_type": "execute_result"
    }
   ],
   "source": [
    "server = \"download.big.ac.cn\"\n",
    "user = \"anonymous\"\n",
    "password = \"anonymous\"\n",
    "source = \"/GVM/Coronavirus/gff3/\"\n",
    "\n",
    "ftp = ftplib.FTP(server)\n",
    "ftp.login(user, password)\n",
    "ftp.cwd(source) \n",
    "filelist=ftp.nlst()\n",
    "ftp.quit()"
   ]
  },
  {
   "cell_type": "code",
   "execution_count": 21,
   "metadata": {},
   "outputs": [],
   "source": [
    "df_file = pd.DataFrame(filelist, columns=['filename'])"
   ]
  },
  {
   "cell_type": "markdown",
   "metadata": {},
   "source": [
    "Extract identifiers from file name\n",
    "\n",
    "Example: 2019-nCoV_CNA0013697_variants.gff3 -> CNA0013697"
   ]
  },
  {
   "cell_type": "code",
   "execution_count": 22,
   "metadata": {},
   "outputs": [],
   "source": [
    "df_file['id'] = df_file['filename'].str[10:]\n",
    "df_file['id'] = df_file['id'].str.replace('_variants.gff3','')"
   ]
  },
  {
   "cell_type": "code",
   "execution_count": 23,
   "metadata": {},
   "outputs": [],
   "source": [
    "df_file = df_file.query(\"id != ''\")"
   ]
  },
  {
   "cell_type": "code",
   "execution_count": 24,
   "metadata": {},
   "outputs": [
    {
     "name": "stdout",
     "output_type": "stream",
     "text": [
      "Number of available files: 14711\n"
     ]
    }
   ],
   "source": [
    "print(\"Number of available files:\", df_file.shape[0])"
   ]
  },
  {
   "cell_type": "code",
   "execution_count": 25,
   "metadata": {},
   "outputs": [
    {
     "data": {
      "text/html": [
       "<div>\n",
       "<style scoped>\n",
       "    .dataframe tbody tr th:only-of-type {\n",
       "        vertical-align: middle;\n",
       "    }\n",
       "\n",
       "    .dataframe tbody tr th {\n",
       "        vertical-align: top;\n",
       "    }\n",
       "\n",
       "    .dataframe thead th {\n",
       "        text-align: right;\n",
       "    }\n",
       "</style>\n",
       "<table border=\"1\" class=\"dataframe\">\n",
       "  <thead>\n",
       "    <tr style=\"text-align: right;\">\n",
       "      <th></th>\n",
       "      <th>filename</th>\n",
       "      <th>id</th>\n",
       "    </tr>\n",
       "  </thead>\n",
       "  <tbody>\n",
       "    <tr>\n",
       "      <th>0</th>\n",
       "      <td>2019-nCoV_CNA0013697_variants.gff3</td>\n",
       "      <td>CNA0013697</td>\n",
       "    </tr>\n",
       "    <tr>\n",
       "      <th>1</th>\n",
       "      <td>2019-nCoV_CNA0013698_variants.gff3</td>\n",
       "      <td>CNA0013698</td>\n",
       "    </tr>\n",
       "    <tr>\n",
       "      <th>2</th>\n",
       "      <td>2019-nCoV_CNA0013699_variants.gff3</td>\n",
       "      <td>CNA0013699</td>\n",
       "    </tr>\n",
       "    <tr>\n",
       "      <th>3</th>\n",
       "      <td>2019-nCoV_CNA0013700_variants.gff3</td>\n",
       "      <td>CNA0013700</td>\n",
       "    </tr>\n",
       "    <tr>\n",
       "      <th>4</th>\n",
       "      <td>2019-nCoV_CNA0013701_variants.gff3</td>\n",
       "      <td>CNA0013701</td>\n",
       "    </tr>\n",
       "  </tbody>\n",
       "</table>\n",
       "</div>"
      ],
      "text/plain": [
       "                             filename          id\n",
       "0  2019-nCoV_CNA0013697_variants.gff3  CNA0013697\n",
       "1  2019-nCoV_CNA0013698_variants.gff3  CNA0013698\n",
       "2  2019-nCoV_CNA0013699_variants.gff3  CNA0013699\n",
       "3  2019-nCoV_CNA0013700_variants.gff3  CNA0013700\n",
       "4  2019-nCoV_CNA0013701_variants.gff3  CNA0013701"
      ]
     },
     "execution_count": 25,
     "metadata": {},
     "output_type": "execute_result"
    }
   ],
   "source": [
    "df_file.head()"
   ]
  },
  {
   "cell_type": "code",
   "execution_count": 26,
   "metadata": {},
   "outputs": [],
   "source": [
    "df = df.merge(df_file, on='id')"
   ]
  },
  {
   "cell_type": "code",
   "execution_count": 27,
   "metadata": {},
   "outputs": [
    {
     "name": "stdout",
     "output_type": "stream",
     "text": [
      "Strains with a matching filename: 14630\n"
     ]
    }
   ],
   "source": [
    "print('Strains with a matching filename:', df.shape[0])"
   ]
  },
  {
   "cell_type": "code",
   "execution_count": 28,
   "metadata": {},
   "outputs": [],
   "source": [
    "df = df.sample(n=50, random_state=5)"
   ]
  },
  {
   "cell_type": "code",
   "execution_count": 29,
   "metadata": {},
   "outputs": [
    {
     "data": {
      "text/html": [
       "<div>\n",
       "<style scoped>\n",
       "    .dataframe tbody tr th:only-of-type {\n",
       "        vertical-align: middle;\n",
       "    }\n",
       "\n",
       "    .dataframe tbody tr th {\n",
       "        vertical-align: top;\n",
       "    }\n",
       "\n",
       "    .dataframe thead th {\n",
       "        text-align: right;\n",
       "    }\n",
       "</style>\n",
       "<table border=\"1\" class=\"dataframe\">\n",
       "  <thead>\n",
       "    <tr style=\"text-align: right;\">\n",
       "      <th></th>\n",
       "      <th>name</th>\n",
       "      <th>Accession ID</th>\n",
       "      <th>Data Source</th>\n",
       "      <th>Related ID</th>\n",
       "      <th>Nuc.Completeness</th>\n",
       "      <th>Sequence Length</th>\n",
       "      <th>Sequence Quality</th>\n",
       "      <th>Quality Assessment</th>\n",
       "      <th>Host</th>\n",
       "      <th>collectionDate</th>\n",
       "      <th>location</th>\n",
       "      <th>Originating Lab</th>\n",
       "      <th>Submission Date</th>\n",
       "      <th>Submitting Lab</th>\n",
       "      <th>alias</th>\n",
       "      <th>id</th>\n",
       "      <th>hostTaxonomyId</th>\n",
       "      <th>taxonomyId</th>\n",
       "      <th>filename</th>\n",
       "    </tr>\n",
       "  </thead>\n",
       "  <tbody>\n",
       "    <tr>\n",
       "      <th>10430</th>\n",
       "      <td>hCoV-19/USA/LA-SR0214/2020</td>\n",
       "      <td>EPI_ISL_437542</td>\n",
       "      <td>GISAID</td>\n",
       "      <td></td>\n",
       "      <td>Complete</td>\n",
       "      <td>29903</td>\n",
       "      <td>High</td>\n",
       "      <td>0/0/0/9/NO</td>\n",
       "      <td>Homo Sapiens</td>\n",
       "      <td>2020-04-03</td>\n",
       "      <td>United States / Louisiana / New Orleans</td>\n",
       "      <td>Robert Garry lab</td>\n",
       "      <td>2020-05-11</td>\n",
       "      <td>Andersen lab at Scripps Research</td>\n",
       "      <td>EPI_ISL_437542</td>\n",
       "      <td>EPI_ISL_437542</td>\n",
       "      <td>taxonomy:9606</td>\n",
       "      <td>taxonomy:2697049</td>\n",
       "      <td>2019-nCoV_EPI_ISL_437542_variants.gff3</td>\n",
       "    </tr>\n",
       "    <tr>\n",
       "      <th>553</th>\n",
       "      <td>hCoV-19/USA/WA-UW56/2020</td>\n",
       "      <td>EPI_ISL_415621</td>\n",
       "      <td>GISAID</td>\n",
       "      <td></td>\n",
       "      <td>Complete</td>\n",
       "      <td>29828</td>\n",
       "      <td>High</td>\n",
       "      <td>0/0/0/6/NO</td>\n",
       "      <td>Homo sapiens</td>\n",
       "      <td>2020-03-09</td>\n",
       "      <td>United States / Washington / Seattle</td>\n",
       "      <td>UW Virology Lab</td>\n",
       "      <td>2020-03-18</td>\n",
       "      <td>UW Virology Lab</td>\n",
       "      <td>EPI_ISL_415621</td>\n",
       "      <td>EPI_ISL_415621</td>\n",
       "      <td>taxonomy:9606</td>\n",
       "      <td>taxonomy:2697049</td>\n",
       "      <td>2019-nCoV_EPI_ISL_415621_variants.gff3</td>\n",
       "    </tr>\n",
       "    <tr>\n",
       "      <th>9930</th>\n",
       "      <td>hCoV-19/USA/WI-UW-304/2020</td>\n",
       "      <td>EPI_ISL_436598</td>\n",
       "      <td>GISAID</td>\n",
       "      <td></td>\n",
       "      <td>Complete</td>\n",
       "      <td>29782</td>\n",
       "      <td>High</td>\n",
       "      <td>0/0/0/9/NO</td>\n",
       "      <td>Homo Sapiens</td>\n",
       "      <td>2020-04-13</td>\n",
       "      <td>United States / Wisconsin / Milwaukee</td>\n",
       "      <td>University of Wisconsin-Madison AIDS Vaccine R...</td>\n",
       "      <td>2020-05-06</td>\n",
       "      <td>University of Wisconsin-Madison AIDS Vaccine R...</td>\n",
       "      <td>EPI_ISL_436598</td>\n",
       "      <td>EPI_ISL_436598</td>\n",
       "      <td>taxonomy:9606</td>\n",
       "      <td>taxonomy:2697049</td>\n",
       "      <td>2019-nCoV_EPI_ISL_436598_variants.gff3</td>\n",
       "    </tr>\n",
       "    <tr>\n",
       "      <th>4869</th>\n",
       "      <td>SARS-CoV-2/human/USA/VA_6377/2020</td>\n",
       "      <td>MT325612</td>\n",
       "      <td>GenBank</td>\n",
       "      <td></td>\n",
       "      <td>Complete</td>\n",
       "      <td>29882</td>\n",
       "      <td>High</td>\n",
       "      <td>0/2/0/8/18505~18506(2-2-1.00,SNP:18505; SNP:18...</td>\n",
       "      <td>Homo sapiens</td>\n",
       "      <td>2020-03-08</td>\n",
       "      <td>United States / VA</td>\n",
       "      <td></td>\n",
       "      <td>2020-04-10</td>\n",
       "      <td>Division of Viral Diseases, Centers for Diseas...</td>\n",
       "      <td>MT325612</td>\n",
       "      <td>MT325612</td>\n",
       "      <td>taxonomy:9606</td>\n",
       "      <td>taxonomy:2697049</td>\n",
       "      <td>2019-nCoV_MT325612_variants.gff3</td>\n",
       "    </tr>\n",
       "    <tr>\n",
       "      <th>13290</th>\n",
       "      <td>hCoV-19/Colombia/GVI-97769/2020</td>\n",
       "      <td>EPI_ISL_447802</td>\n",
       "      <td>GISAID</td>\n",
       "      <td></td>\n",
       "      <td>Complete</td>\n",
       "      <td>29717</td>\n",
       "      <td>High</td>\n",
       "      <td>0/0/0/7/28881~28883(3-3-1.00,SNP:28881; SNP:28...</td>\n",
       "      <td>Homo Sapiens</td>\n",
       "      <td>2020-04-04</td>\n",
       "      <td>Colombia / Norte de santander / Valledupar</td>\n",
       "      <td>Instituto Nacional de Salud, Bogotá, Colombia</td>\n",
       "      <td>2020-05-18</td>\n",
       "      <td>Grupo de Investigaciones Microbiológicas-UR (G...</td>\n",
       "      <td>EPI_ISL_447802</td>\n",
       "      <td>EPI_ISL_447802</td>\n",
       "      <td>taxonomy:9606</td>\n",
       "      <td>taxonomy:2697049</td>\n",
       "      <td>2019-nCoV_EPI_ISL_447802_variants.gff3</td>\n",
       "    </tr>\n",
       "  </tbody>\n",
       "</table>\n",
       "</div>"
      ],
      "text/plain": [
       "                                    name    Accession ID Data Source  \\\n",
       "10430         hCoV-19/USA/LA-SR0214/2020  EPI_ISL_437542      GISAID   \n",
       "553             hCoV-19/USA/WA-UW56/2020  EPI_ISL_415621      GISAID   \n",
       "9930          hCoV-19/USA/WI-UW-304/2020  EPI_ISL_436598      GISAID   \n",
       "4869   SARS-CoV-2/human/USA/VA_6377/2020        MT325612     GenBank   \n",
       "13290    hCoV-19/Colombia/GVI-97769/2020  EPI_ISL_447802      GISAID   \n",
       "\n",
       "      Related ID Nuc.Completeness Sequence Length Sequence Quality  \\\n",
       "10430                    Complete           29903             High   \n",
       "553                      Complete           29828             High   \n",
       "9930                     Complete           29782             High   \n",
       "4869                     Complete           29882             High   \n",
       "13290                    Complete           29717             High   \n",
       "\n",
       "                                      Quality Assessment          Host  \\\n",
       "10430                                         0/0/0/9/NO  Homo Sapiens   \n",
       "553                                           0/0/0/6/NO  Homo sapiens   \n",
       "9930                                          0/0/0/9/NO  Homo Sapiens   \n",
       "4869   0/2/0/8/18505~18506(2-2-1.00,SNP:18505; SNP:18...  Homo sapiens   \n",
       "13290  0/0/0/7/28881~28883(3-3-1.00,SNP:28881; SNP:28...  Homo Sapiens   \n",
       "\n",
       "      collectionDate                                    location  \\\n",
       "10430     2020-04-03     United States / Louisiana / New Orleans   \n",
       "553       2020-03-09        United States / Washington / Seattle   \n",
       "9930      2020-04-13       United States / Wisconsin / Milwaukee   \n",
       "4869      2020-03-08                          United States / VA   \n",
       "13290     2020-04-04  Colombia / Norte de santander / Valledupar   \n",
       "\n",
       "                                         Originating Lab Submission Date  \\\n",
       "10430                                   Robert Garry lab      2020-05-11   \n",
       "553                                      UW Virology Lab      2020-03-18   \n",
       "9930   University of Wisconsin-Madison AIDS Vaccine R...      2020-05-06   \n",
       "4869                                                          2020-04-10   \n",
       "13290      Instituto Nacional de Salud, Bogotá, Colombia      2020-05-18   \n",
       "\n",
       "                                          Submitting Lab           alias  \\\n",
       "10430                   Andersen lab at Scripps Research  EPI_ISL_437542   \n",
       "553                                      UW Virology Lab  EPI_ISL_415621   \n",
       "9930   University of Wisconsin-Madison AIDS Vaccine R...  EPI_ISL_436598   \n",
       "4869   Division of Viral Diseases, Centers for Diseas...        MT325612   \n",
       "13290  Grupo de Investigaciones Microbiológicas-UR (G...  EPI_ISL_447802   \n",
       "\n",
       "                   id hostTaxonomyId        taxonomyId  \\\n",
       "10430  EPI_ISL_437542  taxonomy:9606  taxonomy:2697049   \n",
       "553    EPI_ISL_415621  taxonomy:9606  taxonomy:2697049   \n",
       "9930   EPI_ISL_436598  taxonomy:9606  taxonomy:2697049   \n",
       "4869         MT325612  taxonomy:9606  taxonomy:2697049   \n",
       "13290  EPI_ISL_447802  taxonomy:9606  taxonomy:2697049   \n",
       "\n",
       "                                     filename  \n",
       "10430  2019-nCoV_EPI_ISL_437542_variants.gff3  \n",
       "553    2019-nCoV_EPI_ISL_415621_variants.gff3  \n",
       "9930   2019-nCoV_EPI_ISL_436598_variants.gff3  \n",
       "4869         2019-nCoV_MT325612_variants.gff3  \n",
       "13290  2019-nCoV_EPI_ISL_447802_variants.gff3  "
      ]
     },
     "execution_count": 29,
     "metadata": {},
     "output_type": "execute_result"
    }
   ],
   "source": [
    "df.head()"
   ]
  },
  {
   "cell_type": "markdown",
   "metadata": {},
   "source": [
    "Keep only unique entries (there are a few duplicate cases)"
   ]
  },
  {
   "cell_type": "code",
   "execution_count": 30,
   "metadata": {},
   "outputs": [],
   "source": [
    "df.drop_duplicates(subset='name', inplace=True)\n",
    "df.drop_duplicates(subset='id', inplace=True)"
   ]
  },
  {
   "cell_type": "code",
   "execution_count": 31,
   "metadata": {},
   "outputs": [
    {
     "name": "stdout",
     "output_type": "stream",
     "text": [
      "Strains with a matching filename: 50\n"
     ]
    }
   ],
   "source": [
    "print('Strains with a matching filename:', df.shape[0])"
   ]
  },
  {
   "cell_type": "markdown",
   "metadata": {},
   "source": [
    "#### Download variant annotations for each strain\n",
    "To avoid download the same files every time, they are cached, and newly downloaded files are added to the cache."
   ]
  },
  {
   "cell_type": "code",
   "execution_count": 32,
   "metadata": {},
   "outputs": [],
   "source": [
    "names = ['taxon1', 'variantType', 'name', 'start', 'end','x1', 'x2', 'x3','taxon2', 'x4', 'strainStart', 'taxon3', 'x5', 'strainEnd', 'ref', 'alt', 'vepAnnotation']"
   ]
  },
  {
   "cell_type": "code",
   "execution_count": 33,
   "metadata": {},
   "outputs": [],
   "source": [
    "def download_gff3(filename, url):\n",
    "    gff3 = pd.read_csv(url, header=None, comment='#', sep='[\\t|;]', engine='python', names=names)\n",
    "    gff3['ref'] = gff3['ref'].str.replace('REF=','')\n",
    "    gff3['alt'] = gff3['alt'].str.replace('ALT=','')\n",
    "    gff3['vepAnnotation'] = gff3['vepAnnotation'].str.replace('VEP=','')\n",
    "    # prepare for 3-way split (need at least two commas)\n",
    "    gff3['vepAnnotation'] = gff3['vepAnnotation'].apply(lambda s: s + ',,' if s.count(',') < 2 else s)\n",
    "    # 3-way split\n",
    "    gff3[['variantConsequence','proteinVariant','geneVariant']] = gff3['vepAnnotation'].str.split(',', n=2, expand=True)\n",
    "    gff3['geneVariant'] = gff3['geneVariant'].str.replace('gene-','')\n",
    "    gff3 = gff3[['name', 'variantType', 'start', 'end', 'ref', 'alt', 'variantConsequence', 'proteinVariant', 'geneVariant']]\n",
    "    \n",
    "    filename = row['filename'] + '.csv'\n",
    "    gff3.to_csv(CACHE / filename, index=False)"
   ]
  },
  {
   "cell_type": "code",
   "execution_count": 34,
   "metadata": {},
   "outputs": [],
   "source": [
    "for index, row in df.iterrows():\n",
    "    url = annotation_url + row['filename']\n",
    "    filename = row['filename'] + '.csv'\n",
    "    if not Path.exists(CACHE / filename):\n",
    "        try:\n",
    "            download_gff3(row['filename'], url)\n",
    "            print(row['filename'], end=' ')\n",
    "        except:\n",
    "            print('Download failed for: ', row['filename'])"
   ]
  },
  {
   "cell_type": "markdown",
   "metadata": {},
   "source": [
    "### Concatenate all variation data into a single dataframe"
   ]
  },
  {
   "cell_type": "code",
   "execution_count": 35,
   "metadata": {},
   "outputs": [],
   "source": [
    "# use all cached data files\n",
    "path = str(CACHE / '*.csv')\n",
    "filenames = glob.glob(path)\n",
    "\n",
    "# list of dataframes\n",
    "dfs = []\n",
    "\n",
    "for filename in filenames:\n",
    "    df = pd.read_csv(filename, index_col=None, header=0)\n",
    "    dfs.append(df)\n",
    "\n",
    "variations = pd.concat(dfs, axis=0, ignore_index=True)\n",
    "variations.fillna('', inplace=True)"
   ]
  },
  {
   "cell_type": "markdown",
   "metadata": {},
   "source": [
    "List of variant types and consequences:\n",
    "\n",
    "https://uswest.ensembl.org/info/genome/variation/prediction/classification.html\n",
    "\n",
    "https://uswest.ensembl.org/info/genome/variation/prediction/predicted_data.html#consequences"
   ]
  },
  {
   "cell_type": "markdown",
   "metadata": {},
   "source": [
    "#### Extract protein position and protein id from proteinVariant string\n",
    "\n",
    "Example: QHD43415.1:p.5828P>L\n",
    "\n",
    "proteinPosition: 5828\n",
    "proteinId: QHD43415"
   ]
  },
  {
   "cell_type": "code",
   "execution_count": 36,
   "metadata": {},
   "outputs": [],
   "source": [
    "position_pattern = re.compile(':p\\.(.*?)[A-Z|\\-]+')\n",
    "variations['proteinPosition'] = variations['proteinVariant'].apply(\n",
    "    lambda s: position_pattern.search(s).group(1) if ':p.' in s else '')"
   ]
  },
  {
   "cell_type": "code",
   "execution_count": 37,
   "metadata": {},
   "outputs": [],
   "source": [
    "variations['proteinId'] = variations['proteinVariant'].apply(\n",
    "    lambda s: s.split('.')[0] if '.' in s else '')"
   ]
  },
  {
   "cell_type": "code",
   "execution_count": 38,
   "metadata": {},
   "outputs": [
    {
     "data": {
      "text/plain": [
       "array(['', 'QHD43415', 'QHD43416', 'QHD43423', 'QHD43417', 'QHD43422',\n",
       "       'QHD43419', 'QHD43421', 'QHI42199', 'QHD43420', 'QHD43418'],\n",
       "      dtype=object)"
      ]
     },
     "execution_count": 38,
     "metadata": {},
     "output_type": "execute_result"
    }
   ],
   "source": [
    "variations['proteinId'].unique()"
   ]
  },
  {
   "cell_type": "markdown",
   "metadata": {},
   "source": [
    "#### Assign SARS-CoV-2 taxonomy id"
   ]
  },
  {
   "cell_type": "code",
   "execution_count": 39,
   "metadata": {},
   "outputs": [],
   "source": [
    "variations['taxonomyId'] = 'taxonomy:2697049'"
   ]
  },
  {
   "cell_type": "markdown",
   "metadata": {},
   "source": [
    "#### Assign Reference genome\n",
    "\n",
    "The first SARS-CoV-2 genome sequence is the reference for the variant annotation below.\n",
    "\n",
    "[Severe acute respiratory syndrome coronavirus 2 isolate Wuhan-Hu-1](https://www.ncbi.nlm.nih.gov/nuccore/MN908947)"
   ]
  },
  {
   "cell_type": "code",
   "execution_count": 40,
   "metadata": {},
   "outputs": [],
   "source": [
    "variations['referenceGenome'] = 'insdc:MN908947'"
   ]
  },
  {
   "cell_type": "code",
   "execution_count": 41,
   "metadata": {},
   "outputs": [
    {
     "name": "stdout",
     "output_type": "stream",
     "text": [
      "variantType: ['SNP' 'Deletion' 'Indel' 'Insertion']\n"
     ]
    }
   ],
   "source": [
    "print('variantType:', variations['variantType'].unique())"
   ]
  },
  {
   "cell_type": "code",
   "execution_count": 42,
   "metadata": {},
   "outputs": [
    {
     "name": "stdout",
     "output_type": "stream",
     "text": [
      "variantConsequence: ['upstream_gene_variant' 'synonymous_variant' 'missense_variant'\n",
      " 'intergenic_variant' 'downstream_gene_variant' 'coding_sequence_variant'\n",
      " 'inframe_deletion' 'stop_gained' 'frameshift_variant']\n"
     ]
    }
   ],
   "source": [
    "print(\"variantConsequence:\", variations['variantConsequence'].unique())"
   ]
  },
  {
   "cell_type": "code",
   "execution_count": 43,
   "metadata": {},
   "outputs": [
    {
     "name": "stdout",
     "output_type": "stream",
     "text": [
      "Number of variants: 1712\n"
     ]
    }
   ],
   "source": [
    "print(\"Number of variants:\", variations.shape[0])"
   ]
  },
  {
   "cell_type": "code",
   "execution_count": 44,
   "metadata": {},
   "outputs": [],
   "source": [
    "variations.to_csv(NEO4J_HOME / \"import/01e-CNCBVariant.csv\", index=False)"
   ]
  },
  {
   "cell_type": "code",
   "execution_count": 45,
   "metadata": {},
   "outputs": [
    {
     "data": {
      "text/html": [
       "<div>\n",
       "<style scoped>\n",
       "    .dataframe tbody tr th:only-of-type {\n",
       "        vertical-align: middle;\n",
       "    }\n",
       "\n",
       "    .dataframe tbody tr th {\n",
       "        vertical-align: top;\n",
       "    }\n",
       "\n",
       "    .dataframe thead th {\n",
       "        text-align: right;\n",
       "    }\n",
       "</style>\n",
       "<table border=\"1\" class=\"dataframe\">\n",
       "  <thead>\n",
       "    <tr style=\"text-align: right;\">\n",
       "      <th></th>\n",
       "      <th>name</th>\n",
       "      <th>variantType</th>\n",
       "      <th>start</th>\n",
       "      <th>end</th>\n",
       "      <th>ref</th>\n",
       "      <th>alt</th>\n",
       "      <th>variantConsequence</th>\n",
       "      <th>proteinVariant</th>\n",
       "      <th>geneVariant</th>\n",
       "      <th>proteinPosition</th>\n",
       "      <th>proteinId</th>\n",
       "      <th>taxonomyId</th>\n",
       "      <th>referenceGenome</th>\n",
       "    </tr>\n",
       "  </thead>\n",
       "  <tbody>\n",
       "    <tr>\n",
       "      <th>0</th>\n",
       "      <td>hCoV-19/Russia/Vector_88903/2020</td>\n",
       "      <td>SNP</td>\n",
       "      <td>241</td>\n",
       "      <td>241</td>\n",
       "      <td>C</td>\n",
       "      <td>T</td>\n",
       "      <td>upstream_gene_variant</td>\n",
       "      <td>DISTANCE=25</td>\n",
       "      <td>QHD43415.1,orf1ab</td>\n",
       "      <td></td>\n",
       "      <td></td>\n",
       "      <td>taxonomy:2697049</td>\n",
       "      <td>insdc:MN908947</td>\n",
       "    </tr>\n",
       "    <tr>\n",
       "      <th>1</th>\n",
       "      <td>hCoV-19/Russia/Vector_88903/2020</td>\n",
       "      <td>SNP</td>\n",
       "      <td>3037</td>\n",
       "      <td>3037</td>\n",
       "      <td>C</td>\n",
       "      <td>T</td>\n",
       "      <td>synonymous_variant</td>\n",
       "      <td>QHD43415.1:p.924F</td>\n",
       "      <td>orf1ab:c.2772ttC&gt;ttT</td>\n",
       "      <td>924</td>\n",
       "      <td>QHD43415</td>\n",
       "      <td>taxonomy:2697049</td>\n",
       "      <td>insdc:MN908947</td>\n",
       "    </tr>\n",
       "    <tr>\n",
       "      <th>2</th>\n",
       "      <td>hCoV-19/Russia/Vector_88903/2020</td>\n",
       "      <td>SNP</td>\n",
       "      <td>14408</td>\n",
       "      <td>14408</td>\n",
       "      <td>C</td>\n",
       "      <td>T</td>\n",
       "      <td>missense_variant</td>\n",
       "      <td>QHD43415.1:p.4715P&gt;L</td>\n",
       "      <td>orf1ab:c.14144cCt&gt;cTt</td>\n",
       "      <td>4715</td>\n",
       "      <td>QHD43415</td>\n",
       "      <td>taxonomy:2697049</td>\n",
       "      <td>insdc:MN908947</td>\n",
       "    </tr>\n",
       "    <tr>\n",
       "      <th>3</th>\n",
       "      <td>hCoV-19/Russia/Vector_88903/2020</td>\n",
       "      <td>SNP</td>\n",
       "      <td>23403</td>\n",
       "      <td>23403</td>\n",
       "      <td>A</td>\n",
       "      <td>G</td>\n",
       "      <td>missense_variant</td>\n",
       "      <td>QHD43416.1:p.614D&gt;G</td>\n",
       "      <td>S:c.1841gAt&gt;gGt</td>\n",
       "      <td>614</td>\n",
       "      <td>QHD43416</td>\n",
       "      <td>taxonomy:2697049</td>\n",
       "      <td>insdc:MN908947</td>\n",
       "    </tr>\n",
       "    <tr>\n",
       "      <th>4</th>\n",
       "      <td>hCoV-19/Russia/Vector_88903/2020</td>\n",
       "      <td>SNP</td>\n",
       "      <td>28881</td>\n",
       "      <td>28881</td>\n",
       "      <td>G</td>\n",
       "      <td>A</td>\n",
       "      <td>missense_variant</td>\n",
       "      <td>QHD43423.2:p.203R&gt;K</td>\n",
       "      <td>N:c.608aGg&gt;aAg</td>\n",
       "      <td>203</td>\n",
       "      <td>QHD43423</td>\n",
       "      <td>taxonomy:2697049</td>\n",
       "      <td>insdc:MN908947</td>\n",
       "    </tr>\n",
       "  </tbody>\n",
       "</table>\n",
       "</div>"
      ],
      "text/plain": [
       "                               name variantType  start    end ref alt  \\\n",
       "0  hCoV-19/Russia/Vector_88903/2020         SNP    241    241   C   T   \n",
       "1  hCoV-19/Russia/Vector_88903/2020         SNP   3037   3037   C   T   \n",
       "2  hCoV-19/Russia/Vector_88903/2020         SNP  14408  14408   C   T   \n",
       "3  hCoV-19/Russia/Vector_88903/2020         SNP  23403  23403   A   G   \n",
       "4  hCoV-19/Russia/Vector_88903/2020         SNP  28881  28881   G   A   \n",
       "\n",
       "      variantConsequence        proteinVariant            geneVariant  \\\n",
       "0  upstream_gene_variant           DISTANCE=25      QHD43415.1,orf1ab   \n",
       "1     synonymous_variant     QHD43415.1:p.924F   orf1ab:c.2772ttC>ttT   \n",
       "2       missense_variant  QHD43415.1:p.4715P>L  orf1ab:c.14144cCt>cTt   \n",
       "3       missense_variant   QHD43416.1:p.614D>G        S:c.1841gAt>gGt   \n",
       "4       missense_variant   QHD43423.2:p.203R>K         N:c.608aGg>aAg   \n",
       "\n",
       "  proteinPosition proteinId        taxonomyId referenceGenome  \n",
       "0                            taxonomy:2697049  insdc:MN908947  \n",
       "1             924  QHD43415  taxonomy:2697049  insdc:MN908947  \n",
       "2            4715  QHD43415  taxonomy:2697049  insdc:MN908947  \n",
       "3             614  QHD43416  taxonomy:2697049  insdc:MN908947  \n",
       "4             203  QHD43423  taxonomy:2697049  insdc:MN908947  "
      ]
     },
     "execution_count": 45,
     "metadata": {},
     "output_type": "execute_result"
    }
   ],
   "source": [
    "variations.head()"
   ]
  },
  {
   "cell_type": "code",
   "execution_count": null,
   "metadata": {},
   "outputs": [],
   "source": []
  },
  {
   "cell_type": "code",
   "execution_count": null,
   "metadata": {},
   "outputs": [],
   "source": []
  }
 ],
 "metadata": {
  "kernelspec": {
   "display_name": "Python 3",
   "language": "python",
   "name": "python3"
  },
  "language_info": {
   "codemirror_mode": {
    "name": "ipython",
    "version": 3
   },
   "file_extension": ".py",
   "mimetype": "text/x-python",
   "name": "python",
   "nbconvert_exporter": "python",
   "pygments_lexer": "ipython3",
   "version": "3.8.2"
  }
 },
 "nbformat": 4,
 "nbformat_minor": 4
}

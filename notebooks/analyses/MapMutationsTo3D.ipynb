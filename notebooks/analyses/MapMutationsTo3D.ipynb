{
 "cells": [
  {
   "cell_type": "markdown",
   "metadata": {},
   "source": [
    "# Maps SARS-CoV-2 Mutations to 3D Protein Structures\n",
    "[Work in progress]\n",
    "\n",
    "This notebook map mutation frequency of SARS-CoV-2 strains onto 3D protein structures in the [Protein Data Bank](https://www.wwpdb.org/)."
   ]
  },
  {
   "cell_type": "code",
   "execution_count": 1,
   "metadata": {},
   "outputs": [],
   "source": [
    "import math\n",
    "import pandas as pd\n",
    "import numpy as np\n",
    "import matplotlib.pyplot as plt\n",
    "import matplotlib.colors\n",
    "import matplotlib.cm as cm\n",
    "#import matplotlib\n",
    "from py2neo import Graph\n",
    "import ipywidgets as widgets\n",
    "from ipywidgets import interact, IntSlider\n",
    "import py3Dmol"
   ]
  },
  {
   "cell_type": "code",
   "execution_count": 2,
   "metadata": {},
   "outputs": [],
   "source": [
    "pd.options.display.max_rows = None  # display all rows\n",
    "pd.options.display.max_columns = None  # display all columsns"
   ]
  },
  {
   "cell_type": "markdown",
   "metadata": {},
   "source": [
    "#### Connect to COVID-19-Community Knowledge Graph"
   ]
  },
  {
   "cell_type": "code",
   "execution_count": 3,
   "metadata": {},
   "outputs": [],
   "source": [
    "graph = Graph(\"bolt://132.249.238.185:7687\", user=\"reader\", password=\"demo\")"
   ]
  },
  {
   "cell_type": "markdown",
   "metadata": {},
   "source": [
    "### Get list of SARS-CoV-2 proteins"
   ]
  },
  {
   "cell_type": "code",
   "execution_count": 4,
   "metadata": {},
   "outputs": [],
   "source": [
    "reference_genome = 'ncbiprotein:NC_045512' # Genbank reference sequence"
   ]
  },
  {
   "cell_type": "code",
   "execution_count": 5,
   "metadata": {},
   "outputs": [],
   "source": [
    "query = \"\"\"\n",
    "MATCH (r:Strain{id: $reference_genome})-[:HAS]->(g:Gene)-[:ENCODES]->(p:Protein)\n",
    "      -[:HAS_TERTIARY_STRUCTURE]->(:Chain)-[:IS_PART_OF_STRUCTURE]->(s:Structure)\n",
    "WHERE (g.end - g.start) < 10000 // exclude polyproteins\n",
    "RETURN DISTINCT(p.name) AS protein\n",
    "ORDER BY protein\n",
    "\"\"\"\n",
    "proteins = graph.run(query, reference_genome=reference_genome).to_data_frame()['protein'].values"
   ]
  },
  {
   "cell_type": "code",
   "execution_count": 6,
   "metadata": {},
   "outputs": [],
   "source": [
    "protein_widget = widgets.Dropdown(options=proteins, description='Select protein:', value='Spike glycoprotein')"
   ]
  },
  {
   "cell_type": "code",
   "execution_count": 45,
   "metadata": {},
   "outputs": [
    {
     "data": {
      "application/vnd.jupyter.widget-view+json": {
       "model_id": "c164dbeec9924e30b82db8f1ed424d89",
       "version_major": 2,
       "version_minor": 0
      },
      "text/plain": [
       "Dropdown(description='Select protein:', index=1, options=(\"2'-O-methyltransferase\", '3C-like proteinase', 'Hel…"
      ]
     },
     "metadata": {},
     "output_type": "display_data"
    }
   ],
   "source": [
    "display(protein_widget)"
   ]
  },
  {
   "cell_type": "code",
   "execution_count": 46,
   "metadata": {},
   "outputs": [
    {
     "name": "stdout",
     "output_type": "stream",
     "text": [
      "Protein name : 3C-like proteinase\n"
     ]
    }
   ],
   "source": [
    "protein_name = protein_widget.value\n",
    "print('Protein name :', protein_name)"
   ]
  },
  {
   "cell_type": "markdown",
   "metadata": {},
   "source": [
    "### Get total number of strains"
   ]
  },
  {
   "cell_type": "code",
   "execution_count": 47,
   "metadata": {},
   "outputs": [],
   "source": [
    "query = \"\"\"\n",
    "MATCH (s:Strain)\n",
    "WHERE s.hostTaxonomyId = 'taxonomy:9606'\n",
    "RETURN count(s)\n",
    "\"\"\""
   ]
  },
  {
   "cell_type": "code",
   "execution_count": 48,
   "metadata": {},
   "outputs": [],
   "source": [
    "strains = graph.evaluate(query)"
   ]
  },
  {
   "cell_type": "code",
   "execution_count": 49,
   "metadata": {},
   "outputs": [
    {
     "name": "stdout",
     "output_type": "stream",
     "text": [
      "Total number of human strains: 72371\n"
     ]
    }
   ],
   "source": [
    "print('Total number of human strains:', strains)"
   ]
  },
  {
   "cell_type": "markdown",
   "metadata": {},
   "source": [
    "### Get variants for selected protein"
   ]
  },
  {
   "cell_type": "code",
   "execution_count": 50,
   "metadata": {},
   "outputs": [],
   "source": [
    "query = \"\"\"\n",
    "MATCH (p:Protein{name: $protein_name})-[:HAS_VARIANT]->(v:Variant{variantConsequence:'missense_variant'})<-[:HAS_VARIANT]-(s:Strain)\n",
    "WHERE s.hostTaxonomyId = 'taxonomy:9606'\n",
    "RETURN v.proteinPosition as residue, count(v.proteinPosition) as missenseMutations\n",
    "ORDER BY residue\n",
    "\"\"\""
   ]
  },
  {
   "cell_type": "code",
   "execution_count": 51,
   "metadata": {},
   "outputs": [],
   "source": [
    "variants = graph.run(query, protein_name=protein_name).to_data_frame()"
   ]
  },
  {
   "cell_type": "code",
   "execution_count": 52,
   "metadata": {},
   "outputs": [],
   "source": [
    "variants['scale'] = variants['missenseMutations'].apply(np.log) / math.log(strains)"
   ]
  },
  {
   "cell_type": "markdown",
   "metadata": {},
   "source": [
    "#### Create a color scale based on the log mutation frequency"
   ]
  },
  {
   "cell_type": "code",
   "execution_count": 53,
   "metadata": {},
   "outputs": [],
   "source": [
    "n_colors = 100\n",
    "#colors = cm.coolwarm(np.linspace(0.0, 1.0, n_colors))\n",
    "colors = cm.Reds(np.linspace(0.0, 1.0, n_colors))\n",
    "col = np.empty(n_colors, dtype=object)\n",
    "\n",
    "for i, color in enumerate(colors):\n",
    "    col[i] = matplotlib.colors.rgb2hex(color)"
   ]
  },
  {
   "cell_type": "code",
   "execution_count": 54,
   "metadata": {},
   "outputs": [],
   "source": [
    "variants['color'] = variants['scale'].apply(lambda x: col[round(x*n_colors)])"
   ]
  },
  {
   "cell_type": "markdown",
   "metadata": {},
   "source": [
    "### Get PDB structures for selected protein"
   ]
  },
  {
   "cell_type": "code",
   "execution_count": 55,
   "metadata": {},
   "outputs": [],
   "source": [
    "query = \"\"\"\n",
    "MATCH (p:Protein{name: $protein_name})-[h:HAS_TERTIARY_STRUCTURE]->(c:Chain)-[:IS_PART_OF_STRUCTURE]->(s:Structure)\n",
    "RETURN p.name AS name, p.start, p.end, c.name, c.uniprotStart, c.uniprotEnd, c.pdbStart, c.pdbEnd, s.resolution AS resolution, s.description AS description, h.coverage AS coverage\n",
    "ORDER BY resolution, coverage DESC\n",
    "\"\"\""
   ]
  },
  {
   "cell_type": "code",
   "execution_count": 56,
   "metadata": {},
   "outputs": [],
   "source": [
    "chains = graph.run(query, protein_name=protein_name).to_data_frame()"
   ]
  },
  {
   "cell_type": "code",
   "execution_count": 57,
   "metadata": {},
   "outputs": [
    {
     "data": {
      "text/html": [
       "<div>\n",
       "<style scoped>\n",
       "    .dataframe tbody tr th:only-of-type {\n",
       "        vertical-align: middle;\n",
       "    }\n",
       "\n",
       "    .dataframe tbody tr th {\n",
       "        vertical-align: top;\n",
       "    }\n",
       "\n",
       "    .dataframe thead th {\n",
       "        text-align: right;\n",
       "    }\n",
       "</style>\n",
       "<table border=\"1\" class=\"dataframe\">\n",
       "  <thead>\n",
       "    <tr style=\"text-align: right;\">\n",
       "      <th></th>\n",
       "      <th>name</th>\n",
       "      <th>p.start</th>\n",
       "      <th>p.end</th>\n",
       "      <th>c.name</th>\n",
       "      <th>c.uniprotStart</th>\n",
       "      <th>c.uniprotEnd</th>\n",
       "      <th>c.pdbStart</th>\n",
       "      <th>c.pdbEnd</th>\n",
       "      <th>resolution</th>\n",
       "      <th>description</th>\n",
       "      <th>coverage</th>\n",
       "    </tr>\n",
       "  </thead>\n",
       "  <tbody>\n",
       "    <tr>\n",
       "      <th>0</th>\n",
       "      <td>3C-like proteinase</td>\n",
       "      <td>3264</td>\n",
       "      <td>3569</td>\n",
       "      <td>pdb:6YB7.A</td>\n",
       "      <td>[3264]</td>\n",
       "      <td>[3569]</td>\n",
       "      <td>[1]</td>\n",
       "      <td>[306]</td>\n",
       "      <td>1.25</td>\n",
       "      <td>Non-structural polyprotein 1ab</td>\n",
       "      <td>1.000000</td>\n",
       "    </tr>\n",
       "    <tr>\n",
       "      <th>1</th>\n",
       "      <td>3C-like proteinase</td>\n",
       "      <td>3264</td>\n",
       "      <td>3569</td>\n",
       "      <td>pdb:5R8T.A</td>\n",
       "      <td>[3264]</td>\n",
       "      <td>[3567]</td>\n",
       "      <td>[1]</td>\n",
       "      <td>[304]</td>\n",
       "      <td>1.27</td>\n",
       "      <td>SARS-CoV-2 main protease</td>\n",
       "      <td>0.993464</td>\n",
       "    </tr>\n",
       "    <tr>\n",
       "      <th>2</th>\n",
       "      <td>3C-like proteinase</td>\n",
       "      <td>3264</td>\n",
       "      <td>3569</td>\n",
       "      <td>pdb:6XKH.A</td>\n",
       "      <td>[3264]</td>\n",
       "      <td>[3569]</td>\n",
       "      <td>[1]</td>\n",
       "      <td>[306]</td>\n",
       "      <td>1.28</td>\n",
       "      <td>3C-like proteinase (3.4.22.69)</td>\n",
       "      <td>1.000000</td>\n",
       "    </tr>\n",
       "    <tr>\n",
       "      <th>3</th>\n",
       "      <td>3C-like proteinase</td>\n",
       "      <td>3264</td>\n",
       "      <td>3569</td>\n",
       "      <td>pdb:5R82.A</td>\n",
       "      <td>[3264]</td>\n",
       "      <td>[3567]</td>\n",
       "      <td>[1]</td>\n",
       "      <td>[304]</td>\n",
       "      <td>1.31</td>\n",
       "      <td>SARS-CoV-2 main protease</td>\n",
       "      <td>0.993464</td>\n",
       "    </tr>\n",
       "    <tr>\n",
       "      <th>4</th>\n",
       "      <td>3C-like proteinase</td>\n",
       "      <td>3264</td>\n",
       "      <td>3569</td>\n",
       "      <td>pdb:5RH4.A</td>\n",
       "      <td>[3264]</td>\n",
       "      <td>[3567]</td>\n",
       "      <td>[1]</td>\n",
       "      <td>[304]</td>\n",
       "      <td>1.34</td>\n",
       "      <td>3C-like proteinase (E.C.3.4.22.69)</td>\n",
       "      <td>0.993464</td>\n",
       "    </tr>\n",
       "  </tbody>\n",
       "</table>\n",
       "</div>"
      ],
      "text/plain": [
       "                 name  p.start  p.end      c.name c.uniprotStart c.uniprotEnd  \\\n",
       "0  3C-like proteinase     3264   3569  pdb:6YB7.A         [3264]       [3569]   \n",
       "1  3C-like proteinase     3264   3569  pdb:5R8T.A         [3264]       [3567]   \n",
       "2  3C-like proteinase     3264   3569  pdb:6XKH.A         [3264]       [3569]   \n",
       "3  3C-like proteinase     3264   3569  pdb:5R82.A         [3264]       [3567]   \n",
       "4  3C-like proteinase     3264   3569  pdb:5RH4.A         [3264]       [3567]   \n",
       "\n",
       "  c.pdbStart c.pdbEnd  resolution                         description  \\\n",
       "0        [1]    [306]        1.25      Non-structural polyprotein 1ab   \n",
       "1        [1]    [304]        1.27            SARS-CoV-2 main protease   \n",
       "2        [1]    [306]        1.28      3C-like proteinase (3.4.22.69)   \n",
       "3        [1]    [304]        1.31            SARS-CoV-2 main protease   \n",
       "4        [1]    [304]        1.34  3C-like proteinase (E.C.3.4.22.69)   \n",
       "\n",
       "   coverage  \n",
       "0  1.000000  \n",
       "1  0.993464  \n",
       "2  1.000000  \n",
       "3  0.993464  \n",
       "4  0.993464  "
      ]
     },
     "execution_count": 57,
     "metadata": {},
     "output_type": "execute_result"
    }
   ],
   "source": [
    "chains.head()"
   ]
  },
  {
   "cell_type": "code",
   "execution_count": 58,
   "metadata": {},
   "outputs": [],
   "source": [
    "chains.drop_duplicates(subset=['c.name'], inplace=True)"
   ]
  },
  {
   "cell_type": "code",
   "execution_count": 59,
   "metadata": {
    "jupyter": {
     "source_hidden": true
    }
   },
   "outputs": [],
   "source": [
    "def uniprot_to_pdb_mapping(row):\n",
    "    mapping = dict()\n",
    "    for (us,ue, ps, pe) in zip(row['c.uniprotStart'], row['c.uniprotEnd'], row['c.pdbStart'], row['c.pdbEnd']):\n",
    "        ps = int(ps)\n",
    "        pe = int(pe)\n",
    "        if (ue-us != pe-ps):\n",
    "            print('length mismatch:', row['c.name'], ue-us, pe-ps)\n",
    "        else:\n",
    "            offset = ps - us\n",
    "            for v in range(us, ue+1):\n",
    "                mapping[v] = offset + v\n",
    "                \n",
    "    #print(mapping)\n",
    "    return mapping"
   ]
  },
  {
   "cell_type": "code",
   "execution_count": 60,
   "metadata": {},
   "outputs": [],
   "source": [
    "chains['mapping'] = chains.apply(lambda row: uniprot_to_pdb_mapping(row), axis=1)"
   ]
  },
  {
   "cell_type": "code",
   "execution_count": 61,
   "metadata": {},
   "outputs": [
    {
     "data": {
      "text/html": [
       "<div>\n",
       "<style scoped>\n",
       "    .dataframe tbody tr th:only-of-type {\n",
       "        vertical-align: middle;\n",
       "    }\n",
       "\n",
       "    .dataframe tbody tr th {\n",
       "        vertical-align: top;\n",
       "    }\n",
       "\n",
       "    .dataframe thead th {\n",
       "        text-align: right;\n",
       "    }\n",
       "</style>\n",
       "<table border=\"1\" class=\"dataframe\">\n",
       "  <thead>\n",
       "    <tr style=\"text-align: right;\">\n",
       "      <th></th>\n",
       "      <th>name</th>\n",
       "      <th>p.start</th>\n",
       "      <th>p.end</th>\n",
       "      <th>c.name</th>\n",
       "      <th>c.uniprotStart</th>\n",
       "      <th>c.uniprotEnd</th>\n",
       "      <th>c.pdbStart</th>\n",
       "      <th>c.pdbEnd</th>\n",
       "      <th>resolution</th>\n",
       "      <th>description</th>\n",
       "      <th>coverage</th>\n",
       "      <th>mapping</th>\n",
       "    </tr>\n",
       "  </thead>\n",
       "  <tbody>\n",
       "    <tr>\n",
       "      <th>0</th>\n",
       "      <td>3C-like proteinase</td>\n",
       "      <td>3264</td>\n",
       "      <td>3569</td>\n",
       "      <td>pdb:6YB7.A</td>\n",
       "      <td>[3264]</td>\n",
       "      <td>[3569]</td>\n",
       "      <td>[1]</td>\n",
       "      <td>[306]</td>\n",
       "      <td>1.25</td>\n",
       "      <td>Non-structural polyprotein 1ab</td>\n",
       "      <td>1.000000</td>\n",
       "      <td>{3264: 1, 3265: 2, 3266: 3, 3267: 4, 3268: 5, ...</td>\n",
       "    </tr>\n",
       "    <tr>\n",
       "      <th>1</th>\n",
       "      <td>3C-like proteinase</td>\n",
       "      <td>3264</td>\n",
       "      <td>3569</td>\n",
       "      <td>pdb:5R8T.A</td>\n",
       "      <td>[3264]</td>\n",
       "      <td>[3567]</td>\n",
       "      <td>[1]</td>\n",
       "      <td>[304]</td>\n",
       "      <td>1.27</td>\n",
       "      <td>SARS-CoV-2 main protease</td>\n",
       "      <td>0.993464</td>\n",
       "      <td>{3264: 1, 3265: 2, 3266: 3, 3267: 4, 3268: 5, ...</td>\n",
       "    </tr>\n",
       "    <tr>\n",
       "      <th>2</th>\n",
       "      <td>3C-like proteinase</td>\n",
       "      <td>3264</td>\n",
       "      <td>3569</td>\n",
       "      <td>pdb:6XKH.A</td>\n",
       "      <td>[3264]</td>\n",
       "      <td>[3569]</td>\n",
       "      <td>[1]</td>\n",
       "      <td>[306]</td>\n",
       "      <td>1.28</td>\n",
       "      <td>3C-like proteinase (3.4.22.69)</td>\n",
       "      <td>1.000000</td>\n",
       "      <td>{3264: 1, 3265: 2, 3266: 3, 3267: 4, 3268: 5, ...</td>\n",
       "    </tr>\n",
       "    <tr>\n",
       "      <th>3</th>\n",
       "      <td>3C-like proteinase</td>\n",
       "      <td>3264</td>\n",
       "      <td>3569</td>\n",
       "      <td>pdb:5R82.A</td>\n",
       "      <td>[3264]</td>\n",
       "      <td>[3567]</td>\n",
       "      <td>[1]</td>\n",
       "      <td>[304]</td>\n",
       "      <td>1.31</td>\n",
       "      <td>SARS-CoV-2 main protease</td>\n",
       "      <td>0.993464</td>\n",
       "      <td>{3264: 1, 3265: 2, 3266: 3, 3267: 4, 3268: 5, ...</td>\n",
       "    </tr>\n",
       "    <tr>\n",
       "      <th>4</th>\n",
       "      <td>3C-like proteinase</td>\n",
       "      <td>3264</td>\n",
       "      <td>3569</td>\n",
       "      <td>pdb:5RH4.A</td>\n",
       "      <td>[3264]</td>\n",
       "      <td>[3567]</td>\n",
       "      <td>[1]</td>\n",
       "      <td>[304]</td>\n",
       "      <td>1.34</td>\n",
       "      <td>3C-like proteinase (E.C.3.4.22.69)</td>\n",
       "      <td>0.993464</td>\n",
       "      <td>{3264: 1, 3265: 2, 3266: 3, 3267: 4, 3268: 5, ...</td>\n",
       "    </tr>\n",
       "  </tbody>\n",
       "</table>\n",
       "</div>"
      ],
      "text/plain": [
       "                 name  p.start  p.end      c.name c.uniprotStart c.uniprotEnd  \\\n",
       "0  3C-like proteinase     3264   3569  pdb:6YB7.A         [3264]       [3569]   \n",
       "1  3C-like proteinase     3264   3569  pdb:5R8T.A         [3264]       [3567]   \n",
       "2  3C-like proteinase     3264   3569  pdb:6XKH.A         [3264]       [3569]   \n",
       "3  3C-like proteinase     3264   3569  pdb:5R82.A         [3264]       [3567]   \n",
       "4  3C-like proteinase     3264   3569  pdb:5RH4.A         [3264]       [3567]   \n",
       "\n",
       "  c.pdbStart c.pdbEnd  resolution                         description  \\\n",
       "0        [1]    [306]        1.25      Non-structural polyprotein 1ab   \n",
       "1        [1]    [304]        1.27            SARS-CoV-2 main protease   \n",
       "2        [1]    [306]        1.28      3C-like proteinase (3.4.22.69)   \n",
       "3        [1]    [304]        1.31            SARS-CoV-2 main protease   \n",
       "4        [1]    [304]        1.34  3C-like proteinase (E.C.3.4.22.69)   \n",
       "\n",
       "   coverage                                            mapping  \n",
       "0  1.000000  {3264: 1, 3265: 2, 3266: 3, 3267: 4, 3268: 5, ...  \n",
       "1  0.993464  {3264: 1, 3265: 2, 3266: 3, 3267: 4, 3268: 5, ...  \n",
       "2  1.000000  {3264: 1, 3265: 2, 3266: 3, 3267: 4, 3268: 5, ...  \n",
       "3  0.993464  {3264: 1, 3265: 2, 3266: 3, 3267: 4, 3268: 5, ...  \n",
       "4  0.993464  {3264: 1, 3265: 2, 3266: 3, 3267: 4, 3268: 5, ...  "
      ]
     },
     "execution_count": 61,
     "metadata": {},
     "output_type": "execute_result"
    }
   ],
   "source": [
    "chains.head()"
   ]
  },
  {
   "cell_type": "markdown",
   "metadata": {},
   "source": [
    "### Visualize mutation sites"
   ]
  },
  {
   "cell_type": "code",
   "execution_count": 62,
   "metadata": {
    "jupyter": {
     "source_hidden": true
    }
   },
   "outputs": [],
   "source": [
    "# Setup viewer\n",
    "def view_mutations(df, variants, *args):\n",
    "    chainIds = list(df['c.name'])\n",
    "\n",
    "    def view3d(show_bio_assembly, show_surface, show_labels, show_annotations, size, freq, i): \n",
    "        pdb_chain_id = chainIds[i].split(':')[1]\n",
    "        pdb_id, chain_id = pdb_chain_id.split('.')\n",
    "        global viewer1\n",
    "        viewer1 = py3Dmol.view(query='pdb:' + pdb_id, options={'doAssembly': show_bio_assembly}, width=size, height=size)\n",
    "\n",
    "        # polymer style\n",
    "        viewer1.setStyle({'cartoon': {'colorscheme': 'chain', 'width': 0.6, 'opacity':0.8}})\n",
    "\n",
    "        # non-polymer style\n",
    "        viewer1.setStyle({'hetflag': True}, {'stick':{'radius': 0.3, 'singleBond': False}})\n",
    "       \n",
    "        # highlight chain of interest in blue\n",
    "        viewer1.setStyle({'chain': chain_id},{'cartoon': {'color': 'blue'}})\n",
    "        \n",
    "        mapping = df['mapping'].iloc[i]\n",
    "\n",
    "        for row in variants.itertuples():\n",
    "            res_num = mapping.get(row.residue, 0)\n",
    "            col = row.color\n",
    "            if res_num > 0 and row.scale > freq:\n",
    "                mut_res = {'resi': res_num, 'chain': chain_id}\n",
    "                viewer1.addStyle(mut_res, {'sphere':{'color':col, 'opacity': 1.0}}) \n",
    "\n",
    "        description = df['description'].iloc[i]\n",
    "        resolution = df['resolution'].iloc[i]\n",
    "        coverage = df['coverage'].iloc[i]\n",
    "        \n",
    "        print(f\"PDB Id:{pdb_id}, chain Id:{chain_id}, resolution:{resolution}, sequence coverage:{coverage:.2f}\")\n",
    "        print(description)\n",
    "        \n",
    "        # print any specified additional columns from the dataframe\n",
    "        for a in args:\n",
    "            print(a + \": \" + df.iloc[i][a])\n",
    "\n",
    "        viewer1.zoomTo({'chain': chain_id})\n",
    "        viewer1.center({'chain': chain_id})\n",
    "        \n",
    "        if show_surface:\n",
    "             viewer1.addSurface(py3Dmol.SES,{'opacity':0.8,'color':'lightblue'},{'chain': chain_id})\n",
    "\n",
    "        return viewer1.show()\n",
    "       \n",
    "    s_widget = IntSlider(min=0, max=len(chainIds)-1, description='Structure', continuous_update=False)\n",
    "    \n",
    "    return interact(view3d, show_bio_assembly=False, show_surface=False, show_labels=True, show_annotations=False, size=750, freq=0.33, i=s_widget)\n",
    "\n",
    "def view_image1():\n",
    "    return viewer1.png()"
   ]
  },
  {
   "cell_type": "code",
   "execution_count": 63,
   "metadata": {},
   "outputs": [
    {
     "data": {
      "application/vnd.jupyter.widget-view+json": {
       "model_id": "840174b6e7314e7db2d2297127017ba2",
       "version_major": 2,
       "version_minor": 0
      },
      "text/plain": [
       "interactive(children=(Checkbox(value=False, description='show_bio_assembly'), Checkbox(value=False, descriptio…"
      ]
     },
     "metadata": {},
     "output_type": "display_data"
    }
   ],
   "source": [
    "view_mutations(chains, variants);"
   ]
  },
  {
   "cell_type": "code",
   "execution_count": null,
   "metadata": {},
   "outputs": [],
   "source": []
  },
  {
   "cell_type": "code",
   "execution_count": null,
   "metadata": {},
   "outputs": [],
   "source": []
  },
  {
   "cell_type": "code",
   "execution_count": null,
   "metadata": {},
   "outputs": [],
   "source": []
  }
 ],
 "metadata": {
  "kernelspec": {
   "display_name": "Python 3",
   "language": "python",
   "name": "python3"
  },
  "language_info": {
   "codemirror_mode": {
    "name": "ipython",
    "version": 3
   },
   "file_extension": ".py",
   "mimetype": "text/x-python",
   "name": "python",
   "nbconvert_exporter": "python",
   "pygments_lexer": "ipython3",
   "version": "3.7.8"
  }
 },
 "nbformat": 4,
 "nbformat_minor": 4
}

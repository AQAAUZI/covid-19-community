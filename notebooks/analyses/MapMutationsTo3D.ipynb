{
 "cells": [
  {
   "cell_type": "markdown",
   "metadata": {},
   "source": [
    "# Maps SARS-CoV-2 Mutations to 3D Protein Structures\n",
    "[Work in progress]\n",
    "\n",
    "This notebook map mutation frequency of SARS-CoV-2 strains onto 3D protein structures in the [Protein Data Bank](https://www.wwpdb.org/)."
   ]
  },
  {
   "cell_type": "code",
   "execution_count": 1,
   "metadata": {},
   "outputs": [],
   "source": [
    "import math\n",
    "import pandas as pd\n",
    "import numpy as np\n",
    "import matplotlib.pyplot as plt\n",
    "import matplotlib.colors\n",
    "import matplotlib.cm as cm\n",
    "#import matplotlib\n",
    "from py2neo import Graph\n",
    "import ipywidgets as widgets\n",
    "from ipywidgets import interact, IntSlider\n",
    "import py3Dmol"
   ]
  },
  {
   "cell_type": "code",
   "execution_count": 2,
   "metadata": {},
   "outputs": [],
   "source": [
    "pd.options.display.max_rows = None  # display all rows\n",
    "pd.options.display.max_columns = None  # display all columsns"
   ]
  },
  {
   "cell_type": "markdown",
   "metadata": {},
   "source": [
    "#### Connect to COVID-19-Community Knowledge Graph"
   ]
  },
  {
   "cell_type": "code",
   "execution_count": 3,
   "metadata": {},
   "outputs": [],
   "source": [
    "graph = Graph(\"bolt://132.249.238.185:7687\", user=\"reader\", password=\"demo\")"
   ]
  },
  {
   "cell_type": "markdown",
   "metadata": {},
   "source": [
    "### Get list of SARS-CoV-2 proteins"
   ]
  },
  {
   "cell_type": "code",
   "execution_count": 4,
   "metadata": {},
   "outputs": [],
   "source": [
    "reference_genome = 'refseq:NC_045512' # Genbank reference sequence\n",
    "taxonomy_id = 'taxonomy:2697049' # SARS-CoV-2 taxonomy id"
   ]
  },
  {
   "cell_type": "code",
   "execution_count": 5,
   "metadata": {},
   "outputs": [],
   "source": [
    "query = \"\"\"\n",
    "MATCH (p:Protein{taxonomyId:$taxonomy_id})-[t:HAS_TERTIARY_STRUCTURE]->(:Chain)-[:IS_PART_OF_STRUCTURE]->(s:Structure)\n",
    "WHERE t.coverage > 0.2 // exclude polyproteins\n",
    "RETURN DISTINCT(p.name) AS protein\n",
    "ORDER BY protein\n",
    "\"\"\"\n",
    "proteins = graph.run(query, taxonomy_id=taxonomy_id).to_data_frame()['protein'].values"
   ]
  },
  {
   "cell_type": "code",
   "execution_count": 6,
   "metadata": {},
   "outputs": [
    {
     "data": {
      "text/html": [
       "<div>\n",
       "<style scoped>\n",
       "    .dataframe tbody tr th:only-of-type {\n",
       "        vertical-align: middle;\n",
       "    }\n",
       "\n",
       "    .dataframe tbody tr th {\n",
       "        vertical-align: top;\n",
       "    }\n",
       "\n",
       "    .dataframe thead th {\n",
       "        text-align: right;\n",
       "    }\n",
       "</style>\n",
       "<table border=\"1\" class=\"dataframe\">\n",
       "  <thead>\n",
       "    <tr style=\"text-align: right;\">\n",
       "      <th></th>\n",
       "      <th>protein</th>\n",
       "    </tr>\n",
       "  </thead>\n",
       "  <tbody>\n",
       "    <tr>\n",
       "      <th>0</th>\n",
       "      <td>2'-O-methyltransferase</td>\n",
       "    </tr>\n",
       "    <tr>\n",
       "      <th>1</th>\n",
       "      <td>3C-like proteinase</td>\n",
       "    </tr>\n",
       "    <tr>\n",
       "      <th>2</th>\n",
       "      <td>Envelope small membrane protein</td>\n",
       "    </tr>\n",
       "    <tr>\n",
       "      <th>3</th>\n",
       "      <td>Helicase</td>\n",
       "    </tr>\n",
       "    <tr>\n",
       "      <th>4</th>\n",
       "      <td>Host translation inhibitor nsp1</td>\n",
       "    </tr>\n",
       "    <tr>\n",
       "      <th>5</th>\n",
       "      <td>Non-structural protein 10</td>\n",
       "    </tr>\n",
       "    <tr>\n",
       "      <th>6</th>\n",
       "      <td>Non-structural protein 7</td>\n",
       "    </tr>\n",
       "    <tr>\n",
       "      <th>7</th>\n",
       "      <td>Non-structural protein 8</td>\n",
       "    </tr>\n",
       "    <tr>\n",
       "      <th>8</th>\n",
       "      <td>Non-structural protein 9</td>\n",
       "    </tr>\n",
       "    <tr>\n",
       "      <th>9</th>\n",
       "      <td>Nucleoprotein</td>\n",
       "    </tr>\n",
       "    <tr>\n",
       "      <th>10</th>\n",
       "      <td>ORF3a protein</td>\n",
       "    </tr>\n",
       "    <tr>\n",
       "      <th>11</th>\n",
       "      <td>ORF7a protein</td>\n",
       "    </tr>\n",
       "    <tr>\n",
       "      <th>12</th>\n",
       "      <td>ORF8 protein</td>\n",
       "    </tr>\n",
       "    <tr>\n",
       "      <th>13</th>\n",
       "      <td>ORF9b protein</td>\n",
       "    </tr>\n",
       "    <tr>\n",
       "      <th>14</th>\n",
       "      <td>RNA-directed RNA polymerase</td>\n",
       "    </tr>\n",
       "    <tr>\n",
       "      <th>15</th>\n",
       "      <td>Spike glycoprotein</td>\n",
       "    </tr>\n",
       "    <tr>\n",
       "      <th>16</th>\n",
       "      <td>Spike protein S1</td>\n",
       "    </tr>\n",
       "    <tr>\n",
       "      <th>17</th>\n",
       "      <td>Spike protein S2</td>\n",
       "    </tr>\n",
       "    <tr>\n",
       "      <th>18</th>\n",
       "      <td>Spike protein S2'</td>\n",
       "    </tr>\n",
       "    <tr>\n",
       "      <th>19</th>\n",
       "      <td>Uridylate-specific endoribonuclease</td>\n",
       "    </tr>\n",
       "  </tbody>\n",
       "</table>\n",
       "</div>"
      ],
      "text/plain": [
       "                                protein\n",
       "0                2'-O-methyltransferase\n",
       "1                    3C-like proteinase\n",
       "2       Envelope small membrane protein\n",
       "3                              Helicase\n",
       "4       Host translation inhibitor nsp1\n",
       "5             Non-structural protein 10\n",
       "6              Non-structural protein 7\n",
       "7              Non-structural protein 8\n",
       "8              Non-structural protein 9\n",
       "9                         Nucleoprotein\n",
       "10                        ORF3a protein\n",
       "11                        ORF7a protein\n",
       "12                         ORF8 protein\n",
       "13                        ORF9b protein\n",
       "14          RNA-directed RNA polymerase\n",
       "15                   Spike glycoprotein\n",
       "16                     Spike protein S1\n",
       "17                     Spike protein S2\n",
       "18                    Spike protein S2'\n",
       "19  Uridylate-specific endoribonuclease"
      ]
     },
     "execution_count": 6,
     "metadata": {},
     "output_type": "execute_result"
    }
   ],
   "source": [
    "graph.run(query, taxonomy_id=taxonomy_id).to_data_frame()"
   ]
  },
  {
   "cell_type": "code",
   "execution_count": 7,
   "metadata": {},
   "outputs": [],
   "source": [
    "protein_widget = widgets.Dropdown(options=proteins, description='Select protein:', value='3C-like proteinase')"
   ]
  },
  {
   "cell_type": "code",
   "execution_count": 8,
   "metadata": {},
   "outputs": [
    {
     "data": {
      "application/vnd.jupyter.widget-view+json": {
       "model_id": "ce70bffceb4e4362bcd5934169fc94fb",
       "version_major": 2,
       "version_minor": 0
      },
      "text/plain": [
       "Dropdown(description='Select protein:', index=1, options=(\"2'-O-methyltransferase\", '3C-like proteinase', 'Env…"
      ]
     },
     "metadata": {},
     "output_type": "display_data"
    }
   ],
   "source": [
    "display(protein_widget)"
   ]
  },
  {
   "cell_type": "code",
   "execution_count": 9,
   "metadata": {},
   "outputs": [
    {
     "name": "stdout",
     "output_type": "stream",
     "text": [
      "Protein name : 3C-like proteinase\n"
     ]
    }
   ],
   "source": [
    "protein_name = protein_widget.value\n",
    "print('Protein name :', protein_name)"
   ]
  },
  {
   "cell_type": "markdown",
   "metadata": {},
   "source": [
    "### Get total number of strains"
   ]
  },
  {
   "cell_type": "code",
   "execution_count": 10,
   "metadata": {},
   "outputs": [],
   "source": [
    "query = \"\"\"\n",
    "MATCH (s:Strain)\n",
    "WHERE s.hostTaxonomyId = 'taxonomy:9606'\n",
    "RETURN count(s)\n",
    "\"\"\""
   ]
  },
  {
   "cell_type": "code",
   "execution_count": 11,
   "metadata": {},
   "outputs": [],
   "source": [
    "strains = graph.evaluate(query)"
   ]
  },
  {
   "cell_type": "code",
   "execution_count": 12,
   "metadata": {},
   "outputs": [
    {
     "name": "stdout",
     "output_type": "stream",
     "text": [
      "Total number of human strains: 96498\n"
     ]
    }
   ],
   "source": [
    "print('Total number of human strains:', strains)"
   ]
  },
  {
   "cell_type": "markdown",
   "metadata": {},
   "source": [
    "### Get variants for selected protein"
   ]
  },
  {
   "cell_type": "code",
   "execution_count": 13,
   "metadata": {},
   "outputs": [],
   "source": [
    "query = \"\"\"\n",
    "MATCH (p:Protein{name: $protein_name})-[:HAS_VARIANT]->(v:Variant{variantConsequence:'missense_variant'})<-[:HAS_VARIANT]-(s:Strain)\n",
    "WHERE s.hostTaxonomyId = 'taxonomy:9606'\n",
    "WITH v.proteinPosition AS residue, count(v.proteinVariant) AS count, \n",
    "       split(v.proteinVariant, ':')[1] + '(' + count(v.proteinVariant) + ')' AS mutation ORDER by count DESC\n",
    "WITH residue, count, mutation\n",
    "RETURN residue, collect(mutation) AS mutations, sum(count) AS count ORDER BY residue\n",
    "\"\"\""
   ]
  },
  {
   "cell_type": "code",
   "execution_count": 14,
   "metadata": {},
   "outputs": [],
   "source": [
    "variants = graph.run(query, protein_name=protein_name).to_data_frame()"
   ]
  },
  {
   "cell_type": "markdown",
   "metadata": {},
   "source": [
    "#### Add mutation annotation to each residue"
   ]
  },
  {
   "cell_type": "code",
   "execution_count": 15,
   "metadata": {},
   "outputs": [],
   "source": [
    "variants['annotation'] = variants['mutations'].apply(lambda x: ', '.join(x))"
   ]
  },
  {
   "cell_type": "code",
   "execution_count": 16,
   "metadata": {},
   "outputs": [],
   "source": [
    "variants['annotation'] = variants['annotation'].str.replace('p.', '')"
   ]
  },
  {
   "cell_type": "markdown",
   "metadata": {},
   "source": [
    "#### Create a color scale based on the log mutation frequency"
   ]
  },
  {
   "cell_type": "code",
   "execution_count": 17,
   "metadata": {},
   "outputs": [],
   "source": [
    "variants['scale'] = variants['count'].apply(np.log) / math.log(strains)"
   ]
  },
  {
   "cell_type": "code",
   "execution_count": 18,
   "metadata": {},
   "outputs": [
    {
     "data": {
      "text/html": [
       "<div>\n",
       "<style scoped>\n",
       "    .dataframe tbody tr th:only-of-type {\n",
       "        vertical-align: middle;\n",
       "    }\n",
       "\n",
       "    .dataframe tbody tr th {\n",
       "        vertical-align: top;\n",
       "    }\n",
       "\n",
       "    .dataframe thead th {\n",
       "        text-align: right;\n",
       "    }\n",
       "</style>\n",
       "<table border=\"1\" class=\"dataframe\">\n",
       "  <thead>\n",
       "    <tr style=\"text-align: right;\">\n",
       "      <th></th>\n",
       "      <th>residue</th>\n",
       "      <th>mutations</th>\n",
       "      <th>count</th>\n",
       "      <th>annotation</th>\n",
       "      <th>scale</th>\n",
       "    </tr>\n",
       "  </thead>\n",
       "  <tbody>\n",
       "  </tbody>\n",
       "</table>\n",
       "</div>"
      ],
      "text/plain": [
       "Empty DataFrame\n",
       "Columns: [residue, mutations, count, annotation, scale]\n",
       "Index: []"
      ]
     },
     "execution_count": 18,
     "metadata": {},
     "output_type": "execute_result"
    }
   ],
   "source": [
    "# TODO redundant Spike protein entries (imported from IntAct database) lead to double counting of variants and a scale factor > 1.\n",
    "# See: https://github.com/covid-19-net/covid-19-community/issues/195\n",
    "variants.query(\"scale > 1\")"
   ]
  },
  {
   "cell_type": "code",
   "execution_count": 19,
   "metadata": {},
   "outputs": [],
   "source": [
    "n_colors = 100\n",
    "colors = cm.Reds(np.linspace(0.0, 1.0, n_colors))\n",
    "col = np.empty(n_colors, dtype=object)\n",
    "\n",
    "for i, color in enumerate(colors):\n",
    "    col[i] = matplotlib.colors.rgb2hex(color)"
   ]
  },
  {
   "cell_type": "code",
   "execution_count": 20,
   "metadata": {},
   "outputs": [],
   "source": [
    "variants['color'] = variants['scale'].apply(lambda x: col[round(x*n_colors)])"
   ]
  },
  {
   "cell_type": "code",
   "execution_count": 21,
   "metadata": {},
   "outputs": [
    {
     "data": {
      "text/html": [
       "<div>\n",
       "<style scoped>\n",
       "    .dataframe tbody tr th:only-of-type {\n",
       "        vertical-align: middle;\n",
       "    }\n",
       "\n",
       "    .dataframe tbody tr th {\n",
       "        vertical-align: top;\n",
       "    }\n",
       "\n",
       "    .dataframe thead th {\n",
       "        text-align: right;\n",
       "    }\n",
       "</style>\n",
       "<table border=\"1\" class=\"dataframe\">\n",
       "  <thead>\n",
       "    <tr style=\"text-align: right;\">\n",
       "      <th></th>\n",
       "      <th>residue</th>\n",
       "      <th>mutations</th>\n",
       "      <th>count</th>\n",
       "      <th>annotation</th>\n",
       "      <th>scale</th>\n",
       "      <th>color</th>\n",
       "    </tr>\n",
       "  </thead>\n",
       "  <tbody>\n",
       "    <tr>\n",
       "      <th>0</th>\n",
       "      <td>3264</td>\n",
       "      <td>[p.3264S&gt;G(10), p.3264S&gt;N(1)]</td>\n",
       "      <td>11</td>\n",
       "      <td>3264S&gt;G(10), 3264S&gt;N(1)</td>\n",
       "      <td>0.208925</td>\n",
       "      <td>#fdc6b0</td>\n",
       "    </tr>\n",
       "    <tr>\n",
       "      <th>1</th>\n",
       "      <td>3266</td>\n",
       "      <td>[p.3266F&gt;L(1)]</td>\n",
       "      <td>1</td>\n",
       "      <td>3266F&gt;L(1)</td>\n",
       "      <td>0.000000</td>\n",
       "      <td>#fff5f0</td>\n",
       "    </tr>\n",
       "    <tr>\n",
       "      <th>2</th>\n",
       "      <td>3269</td>\n",
       "      <td>[p.3269M&gt;L(8), p.3269M&gt;I(3)]</td>\n",
       "      <td>11</td>\n",
       "      <td>3269M&gt;L(8), 3269M&gt;I(3)</td>\n",
       "      <td>0.208925</td>\n",
       "      <td>#fdc6b0</td>\n",
       "    </tr>\n",
       "    <tr>\n",
       "      <th>3</th>\n",
       "      <td>3270</td>\n",
       "      <td>[p.3270A&gt;T(8), p.3270A&gt;V(3)]</td>\n",
       "      <td>11</td>\n",
       "      <td>3270A&gt;T(8), 3270A&gt;V(3)</td>\n",
       "      <td>0.208925</td>\n",
       "      <td>#fdc6b0</td>\n",
       "    </tr>\n",
       "    <tr>\n",
       "      <th>4</th>\n",
       "      <td>3271</td>\n",
       "      <td>[p.3271F&gt;L(15)]</td>\n",
       "      <td>15</td>\n",
       "      <td>3271F&gt;L(15)</td>\n",
       "      <td>0.235949</td>\n",
       "      <td>#fcbda4</td>\n",
       "    </tr>\n",
       "  </tbody>\n",
       "</table>\n",
       "</div>"
      ],
      "text/plain": [
       "   residue                      mutations  count               annotation  \\\n",
       "0     3264  [p.3264S>G(10), p.3264S>N(1)]     11  3264S>G(10), 3264S>N(1)   \n",
       "1     3266                 [p.3266F>L(1)]      1               3266F>L(1)   \n",
       "2     3269   [p.3269M>L(8), p.3269M>I(3)]     11   3269M>L(8), 3269M>I(3)   \n",
       "3     3270   [p.3270A>T(8), p.3270A>V(3)]     11   3270A>T(8), 3270A>V(3)   \n",
       "4     3271                [p.3271F>L(15)]     15              3271F>L(15)   \n",
       "\n",
       "      scale    color  \n",
       "0  0.208925  #fdc6b0  \n",
       "1  0.000000  #fff5f0  \n",
       "2  0.208925  #fdc6b0  \n",
       "3  0.208925  #fdc6b0  \n",
       "4  0.235949  #fcbda4  "
      ]
     },
     "execution_count": 21,
     "metadata": {},
     "output_type": "execute_result"
    }
   ],
   "source": [
    "variants.head()"
   ]
  },
  {
   "cell_type": "markdown",
   "metadata": {},
   "source": [
    "### Get PDB structures for selected protein"
   ]
  },
  {
   "cell_type": "code",
   "execution_count": 22,
   "metadata": {},
   "outputs": [],
   "source": [
    "query = \"\"\"\n",
    "MATCH (p:Protein{name: $protein_name})-[h:HAS_TERTIARY_STRUCTURE]->(c:Chain)-[:IS_PART_OF_STRUCTURE]->(s:Structure)\n",
    "RETURN p.name AS name, p.start, p.end, c.name, c.uniprotStart, c.uniprotEnd, c.pdbStart, c.pdbEnd, s.resolution AS resolution, s.description AS description, h.coverage AS coverage\n",
    "ORDER BY resolution, coverage DESC\n",
    "\"\"\""
   ]
  },
  {
   "cell_type": "code",
   "execution_count": 23,
   "metadata": {},
   "outputs": [],
   "source": [
    "chains = graph.run(query, protein_name=protein_name).to_data_frame()"
   ]
  },
  {
   "cell_type": "code",
   "execution_count": 24,
   "metadata": {},
   "outputs": [
    {
     "data": {
      "text/html": [
       "<div>\n",
       "<style scoped>\n",
       "    .dataframe tbody tr th:only-of-type {\n",
       "        vertical-align: middle;\n",
       "    }\n",
       "\n",
       "    .dataframe tbody tr th {\n",
       "        vertical-align: top;\n",
       "    }\n",
       "\n",
       "    .dataframe thead th {\n",
       "        text-align: right;\n",
       "    }\n",
       "</style>\n",
       "<table border=\"1\" class=\"dataframe\">\n",
       "  <thead>\n",
       "    <tr style=\"text-align: right;\">\n",
       "      <th></th>\n",
       "      <th>name</th>\n",
       "      <th>p.start</th>\n",
       "      <th>p.end</th>\n",
       "      <th>c.name</th>\n",
       "      <th>c.uniprotStart</th>\n",
       "      <th>c.uniprotEnd</th>\n",
       "      <th>c.pdbStart</th>\n",
       "      <th>c.pdbEnd</th>\n",
       "      <th>resolution</th>\n",
       "      <th>description</th>\n",
       "      <th>coverage</th>\n",
       "    </tr>\n",
       "  </thead>\n",
       "  <tbody>\n",
       "    <tr>\n",
       "      <th>0</th>\n",
       "      <td>3C-like proteinase</td>\n",
       "      <td>3264</td>\n",
       "      <td>3569</td>\n",
       "      <td>pdb:7K3T.A</td>\n",
       "      <td>[3264]</td>\n",
       "      <td>[3569]</td>\n",
       "      <td>[1]</td>\n",
       "      <td>[306]</td>\n",
       "      <td>1.20</td>\n",
       "      <td>3C-like proteinase</td>\n",
       "      <td>1.000000</td>\n",
       "    </tr>\n",
       "    <tr>\n",
       "      <th>1</th>\n",
       "      <td>3C-like proteinase</td>\n",
       "      <td>3264</td>\n",
       "      <td>3569</td>\n",
       "      <td>pdb:6YB7.A</td>\n",
       "      <td>[3264]</td>\n",
       "      <td>[3569]</td>\n",
       "      <td>[1]</td>\n",
       "      <td>[306]</td>\n",
       "      <td>1.25</td>\n",
       "      <td>Non-structural polyprotein 1ab</td>\n",
       "      <td>1.000000</td>\n",
       "    </tr>\n",
       "    <tr>\n",
       "      <th>2</th>\n",
       "      <td>3C-like proteinase</td>\n",
       "      <td>3264</td>\n",
       "      <td>3569</td>\n",
       "      <td>pdb:7JKV.A</td>\n",
       "      <td>[3264]</td>\n",
       "      <td>[3564]</td>\n",
       "      <td>[1]</td>\n",
       "      <td>[301]</td>\n",
       "      <td>1.25</td>\n",
       "      <td>3C-like proteinase (E.C.3.4.22.69)</td>\n",
       "      <td>0.983660</td>\n",
       "    </tr>\n",
       "    <tr>\n",
       "      <th>3</th>\n",
       "      <td>3C-like proteinase</td>\n",
       "      <td>3264</td>\n",
       "      <td>3569</td>\n",
       "      <td>pdb:7JKV.B</td>\n",
       "      <td>[3264]</td>\n",
       "      <td>[3564]</td>\n",
       "      <td>[1]</td>\n",
       "      <td>[301]</td>\n",
       "      <td>1.25</td>\n",
       "      <td>3C-like proteinase (E.C.3.4.22.69)</td>\n",
       "      <td>0.983660</td>\n",
       "    </tr>\n",
       "    <tr>\n",
       "      <th>4</th>\n",
       "      <td>3C-like proteinase</td>\n",
       "      <td>3264</td>\n",
       "      <td>3569</td>\n",
       "      <td>pdb:5R8T.A</td>\n",
       "      <td>[3264]</td>\n",
       "      <td>[3567]</td>\n",
       "      <td>[1]</td>\n",
       "      <td>[304]</td>\n",
       "      <td>1.27</td>\n",
       "      <td>SARS-CoV-2 main protease</td>\n",
       "      <td>0.993464</td>\n",
       "    </tr>\n",
       "  </tbody>\n",
       "</table>\n",
       "</div>"
      ],
      "text/plain": [
       "                 name  p.start  p.end      c.name c.uniprotStart c.uniprotEnd  \\\n",
       "0  3C-like proteinase     3264   3569  pdb:7K3T.A         [3264]       [3569]   \n",
       "1  3C-like proteinase     3264   3569  pdb:6YB7.A         [3264]       [3569]   \n",
       "2  3C-like proteinase     3264   3569  pdb:7JKV.A         [3264]       [3564]   \n",
       "3  3C-like proteinase     3264   3569  pdb:7JKV.B         [3264]       [3564]   \n",
       "4  3C-like proteinase     3264   3569  pdb:5R8T.A         [3264]       [3567]   \n",
       "\n",
       "  c.pdbStart c.pdbEnd  resolution                         description  \\\n",
       "0        [1]    [306]        1.20                  3C-like proteinase   \n",
       "1        [1]    [306]        1.25      Non-structural polyprotein 1ab   \n",
       "2        [1]    [301]        1.25  3C-like proteinase (E.C.3.4.22.69)   \n",
       "3        [1]    [301]        1.25  3C-like proteinase (E.C.3.4.22.69)   \n",
       "4        [1]    [304]        1.27            SARS-CoV-2 main protease   \n",
       "\n",
       "   coverage  \n",
       "0  1.000000  \n",
       "1  1.000000  \n",
       "2  0.983660  \n",
       "3  0.983660  \n",
       "4  0.993464  "
      ]
     },
     "execution_count": 24,
     "metadata": {},
     "output_type": "execute_result"
    }
   ],
   "source": [
    "chains.head()"
   ]
  },
  {
   "cell_type": "code",
   "execution_count": 25,
   "metadata": {},
   "outputs": [],
   "source": [
    "chains.drop_duplicates(subset=['c.name'], inplace=True)"
   ]
  },
  {
   "cell_type": "markdown",
   "metadata": {},
   "source": [
    "#### Map uniprot residue numbers to PDB residue numbers"
   ]
  },
  {
   "cell_type": "code",
   "execution_count": 26,
   "metadata": {
    "jupyter": {
     "source_hidden": true
    }
   },
   "outputs": [],
   "source": [
    "def uniprot_to_pdb_mapping(row):\n",
    "    mapping = dict()\n",
    "    for (us,ue, ps, pe) in zip(row['c.uniprotStart'], row['c.uniprotEnd'], row['c.pdbStart'], row['c.pdbEnd']):\n",
    "        ps = int(ps)\n",
    "        pe = int(pe)\n",
    "        if (ue-us != pe-ps):\n",
    "            print('length mismatch:', row['c.name'], ue-us, pe-ps)\n",
    "        else:\n",
    "            offset = ps - us\n",
    "            for v in range(us, ue+1):\n",
    "                mapping[v] = offset + v\n",
    "                \n",
    "    #print(mapping)\n",
    "    return mapping"
   ]
  },
  {
   "cell_type": "code",
   "execution_count": 27,
   "metadata": {},
   "outputs": [],
   "source": [
    "chains['mapping'] = chains.apply(lambda row: uniprot_to_pdb_mapping(row), axis=1)"
   ]
  },
  {
   "cell_type": "code",
   "execution_count": 28,
   "metadata": {},
   "outputs": [
    {
     "data": {
      "text/html": [
       "<div>\n",
       "<style scoped>\n",
       "    .dataframe tbody tr th:only-of-type {\n",
       "        vertical-align: middle;\n",
       "    }\n",
       "\n",
       "    .dataframe tbody tr th {\n",
       "        vertical-align: top;\n",
       "    }\n",
       "\n",
       "    .dataframe thead th {\n",
       "        text-align: right;\n",
       "    }\n",
       "</style>\n",
       "<table border=\"1\" class=\"dataframe\">\n",
       "  <thead>\n",
       "    <tr style=\"text-align: right;\">\n",
       "      <th></th>\n",
       "      <th>name</th>\n",
       "      <th>p.start</th>\n",
       "      <th>p.end</th>\n",
       "      <th>c.name</th>\n",
       "      <th>c.uniprotStart</th>\n",
       "      <th>c.uniprotEnd</th>\n",
       "      <th>c.pdbStart</th>\n",
       "      <th>c.pdbEnd</th>\n",
       "      <th>resolution</th>\n",
       "      <th>description</th>\n",
       "      <th>coverage</th>\n",
       "      <th>mapping</th>\n",
       "    </tr>\n",
       "  </thead>\n",
       "  <tbody>\n",
       "    <tr>\n",
       "      <th>0</th>\n",
       "      <td>3C-like proteinase</td>\n",
       "      <td>3264</td>\n",
       "      <td>3569</td>\n",
       "      <td>pdb:7K3T.A</td>\n",
       "      <td>[3264]</td>\n",
       "      <td>[3569]</td>\n",
       "      <td>[1]</td>\n",
       "      <td>[306]</td>\n",
       "      <td>1.20</td>\n",
       "      <td>3C-like proteinase</td>\n",
       "      <td>1.000000</td>\n",
       "      <td>{3264: 1, 3265: 2, 3266: 3, 3267: 4, 3268: 5, ...</td>\n",
       "    </tr>\n",
       "    <tr>\n",
       "      <th>1</th>\n",
       "      <td>3C-like proteinase</td>\n",
       "      <td>3264</td>\n",
       "      <td>3569</td>\n",
       "      <td>pdb:6YB7.A</td>\n",
       "      <td>[3264]</td>\n",
       "      <td>[3569]</td>\n",
       "      <td>[1]</td>\n",
       "      <td>[306]</td>\n",
       "      <td>1.25</td>\n",
       "      <td>Non-structural polyprotein 1ab</td>\n",
       "      <td>1.000000</td>\n",
       "      <td>{3264: 1, 3265: 2, 3266: 3, 3267: 4, 3268: 5, ...</td>\n",
       "    </tr>\n",
       "    <tr>\n",
       "      <th>2</th>\n",
       "      <td>3C-like proteinase</td>\n",
       "      <td>3264</td>\n",
       "      <td>3569</td>\n",
       "      <td>pdb:7JKV.A</td>\n",
       "      <td>[3264]</td>\n",
       "      <td>[3564]</td>\n",
       "      <td>[1]</td>\n",
       "      <td>[301]</td>\n",
       "      <td>1.25</td>\n",
       "      <td>3C-like proteinase (E.C.3.4.22.69)</td>\n",
       "      <td>0.983660</td>\n",
       "      <td>{3264: 1, 3265: 2, 3266: 3, 3267: 4, 3268: 5, ...</td>\n",
       "    </tr>\n",
       "    <tr>\n",
       "      <th>3</th>\n",
       "      <td>3C-like proteinase</td>\n",
       "      <td>3264</td>\n",
       "      <td>3569</td>\n",
       "      <td>pdb:7JKV.B</td>\n",
       "      <td>[3264]</td>\n",
       "      <td>[3564]</td>\n",
       "      <td>[1]</td>\n",
       "      <td>[301]</td>\n",
       "      <td>1.25</td>\n",
       "      <td>3C-like proteinase (E.C.3.4.22.69)</td>\n",
       "      <td>0.983660</td>\n",
       "      <td>{3264: 1, 3265: 2, 3266: 3, 3267: 4, 3268: 5, ...</td>\n",
       "    </tr>\n",
       "    <tr>\n",
       "      <th>4</th>\n",
       "      <td>3C-like proteinase</td>\n",
       "      <td>3264</td>\n",
       "      <td>3569</td>\n",
       "      <td>pdb:5R8T.A</td>\n",
       "      <td>[3264]</td>\n",
       "      <td>[3567]</td>\n",
       "      <td>[1]</td>\n",
       "      <td>[304]</td>\n",
       "      <td>1.27</td>\n",
       "      <td>SARS-CoV-2 main protease</td>\n",
       "      <td>0.993464</td>\n",
       "      <td>{3264: 1, 3265: 2, 3266: 3, 3267: 4, 3268: 5, ...</td>\n",
       "    </tr>\n",
       "  </tbody>\n",
       "</table>\n",
       "</div>"
      ],
      "text/plain": [
       "                 name  p.start  p.end      c.name c.uniprotStart c.uniprotEnd  \\\n",
       "0  3C-like proteinase     3264   3569  pdb:7K3T.A         [3264]       [3569]   \n",
       "1  3C-like proteinase     3264   3569  pdb:6YB7.A         [3264]       [3569]   \n",
       "2  3C-like proteinase     3264   3569  pdb:7JKV.A         [3264]       [3564]   \n",
       "3  3C-like proteinase     3264   3569  pdb:7JKV.B         [3264]       [3564]   \n",
       "4  3C-like proteinase     3264   3569  pdb:5R8T.A         [3264]       [3567]   \n",
       "\n",
       "  c.pdbStart c.pdbEnd  resolution                         description  \\\n",
       "0        [1]    [306]        1.20                  3C-like proteinase   \n",
       "1        [1]    [306]        1.25      Non-structural polyprotein 1ab   \n",
       "2        [1]    [301]        1.25  3C-like proteinase (E.C.3.4.22.69)   \n",
       "3        [1]    [301]        1.25  3C-like proteinase (E.C.3.4.22.69)   \n",
       "4        [1]    [304]        1.27            SARS-CoV-2 main protease   \n",
       "\n",
       "   coverage                                            mapping  \n",
       "0  1.000000  {3264: 1, 3265: 2, 3266: 3, 3267: 4, 3268: 5, ...  \n",
       "1  1.000000  {3264: 1, 3265: 2, 3266: 3, 3267: 4, 3268: 5, ...  \n",
       "2  0.983660  {3264: 1, 3265: 2, 3266: 3, 3267: 4, 3268: 5, ...  \n",
       "3  0.983660  {3264: 1, 3265: 2, 3266: 3, 3267: 4, 3268: 5, ...  \n",
       "4  0.993464  {3264: 1, 3265: 2, 3266: 3, 3267: 4, 3268: 5, ...  "
      ]
     },
     "execution_count": 28,
     "metadata": {},
     "output_type": "execute_result"
    }
   ],
   "source": [
    "chains.head()"
   ]
  },
  {
   "cell_type": "markdown",
   "metadata": {},
   "source": [
    "### Visualize mutation sites\n",
    "\n",
    "Mutations are mapped onto protein chains for available 3D protein structures.\n",
    "\n",
    "Display options:\n",
    "\n",
    "|||\n",
    "|:-|:-|\n",
    "| *show_bio_assembly* | Toggle display of the biologically relevant quaternary structure |\n",
    "| *show_surface* | Toggle surface for protein chain |\n",
    "| *show_annotations* | Toggle display of mutation information<br>{PDBId}.{chainId}.{PDBResidue}: {UniProtResidue}{aminoAcid1}>{aminoAcid2}(# observations)<br>Example: 6Z43.A.614: 614D>G(58984), 614D>N(6) |\n",
    "| *size* | Change size of visualization |\n",
    "| *font* | Change font size of annotations |\n",
    "| *logFreq* | Change minimum threshold to display mutations based on normalized log of mutation frequency [0.0 - 1.0]|\n",
    "| *structure* | Move slider to browse through available structures |"
   ]
  },
  {
   "cell_type": "code",
   "execution_count": 29,
   "metadata": {},
   "outputs": [],
   "source": [
    "# Setup viewer\n",
    "def view_mutations(df, variants, *args):\n",
    "    chainIds = list(df['c.name'])\n",
    "\n",
    "    def view3d(show_bio_assembly, show_surface, show_annotations, size, font, logFreq, i): \n",
    "        pdb_chain_id = chainIds[i].split(':')[1]\n",
    "        pdb_id, chain_id = pdb_chain_id.split('.')\n",
    "        global viewer1\n",
    "        viewer1 = py3Dmol.view(query='pdb:' + pdb_id, options={'doAssembly': show_bio_assembly}, width=size, height=size)\n",
    "\n",
    "        # polymer style\n",
    "        viewer1.setStyle({'cartoon': {'colorscheme': 'chain', 'width': 0.6, 'opacity':0.8}})\n",
    "\n",
    "        # non-polymer style\n",
    "        viewer1.setStyle({'hetflag': True}, {'stick':{'radius': 0.3, 'singleBond': False}})\n",
    "       \n",
    "        # highlight chain of interest in blue\n",
    "        viewer1.setStyle({'chain': chain_id},{'cartoon': {'color': 'blue'}})\n",
    "        \n",
    "        mapping = df['mapping'].iloc[i]\n",
    "\n",
    "        for row in variants.itertuples():\n",
    "            # get PDB residue mapping from a UniProt residue number\n",
    "            res_num = mapping.get(row.residue, 0)\n",
    "            col = row.color\n",
    "            if res_num > 0 and row.scale > logFreq:\n",
    "                mut_res = {'resi': res_num, 'chain': chain_id}\n",
    "                viewer1.addStyle(mut_res, {'sphere':{'color':col, 'opacity': 1.0}}) \n",
    "\n",
    "                if show_annotations:\n",
    "                    annotation = row.annotation\n",
    "                    label = pdb_chain_id + \".\" + str(res_num) + \": \" + annotation\n",
    "                    viewer1.addLabel(label, {'fontSize':font,'fontColor': 'black','backgroundColor':'ivory', 'opacity': 1.0}, {'resi': res_num, 'chain': chain_id})\n",
    "\n",
    "        description = df['description'].iloc[i]\n",
    "        resolution = df['resolution'].iloc[i]\n",
    "        coverage = df['coverage'].iloc[i]\n",
    "        \n",
    "        print(f\"PDB Id:{pdb_id}, chain Id:{chain_id}, resolution:{resolution}, sequence coverage:{coverage:.2f}\")\n",
    "        print(description)\n",
    "        \n",
    "        # print any specified additional columns from the dataframe\n",
    "        for a in args:\n",
    "            print(a + \": \" + df.iloc[i][a])\n",
    "\n",
    "        viewer1.zoomTo({'chain': chain_id})\n",
    "        viewer1.center({'chain': chain_id})\n",
    "        \n",
    "        if show_surface:\n",
    "             viewer1.addSurface(py3Dmol.SES,{'opacity':0.8,'color':'lightblue'},{'chain': chain_id})\n",
    "\n",
    "        return viewer1.show()\n",
    "       \n",
    "    s_widget = IntSlider(min=0, max=len(chainIds)-1, description='structure', continuous_update=False)\n",
    "    \n",
    "    return interact(view3d, show_bio_assembly=False, show_surface=False, show_annotations=True, size=750, font=9, logFreq=0.33, i=s_widget)\n",
    "\n",
    "def view_image1():\n",
    "    return viewer1.png()"
   ]
  },
  {
   "cell_type": "code",
   "execution_count": 30,
   "metadata": {},
   "outputs": [
    {
     "data": {
      "application/vnd.jupyter.widget-view+json": {
       "model_id": "57fa54cd8c644b69802e7ade9ddcfcbd",
       "version_major": 2,
       "version_minor": 0
      },
      "text/plain": [
       "interactive(children=(Checkbox(value=False, description='show_bio_assembly'), Checkbox(value=False, descriptio…"
      ]
     },
     "metadata": {},
     "output_type": "display_data"
    }
   ],
   "source": [
    "view_mutations(chains, variants);"
   ]
  },
  {
   "cell_type": "code",
   "execution_count": null,
   "metadata": {},
   "outputs": [],
   "source": []
  }
 ],
 "metadata": {
  "kernelspec": {
   "display_name": "Python 3",
   "language": "python",
   "name": "python3"
  },
  "language_info": {
   "codemirror_mode": {
    "name": "ipython",
    "version": 3
   },
   "file_extension": ".py",
   "mimetype": "text/x-python",
   "name": "python",
   "nbconvert_exporter": "python",
   "pygments_lexer": "ipython3",
   "version": "3.7.8"
  }
 },
 "nbformat": 4,
 "nbformat_minor": 4
}

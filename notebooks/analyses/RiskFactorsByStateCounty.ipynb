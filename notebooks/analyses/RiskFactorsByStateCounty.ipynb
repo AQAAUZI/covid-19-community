{
 "cells": [
  {
   "cell_type": "markdown",
   "metadata": {},
   "source": [
    "# Explore Risk Factors for COVID-19 for Counties in US States\n",
    "[Work in progress]\n",
    "\n",
    "This notebook explores the relationsship between risk factors selected from the American Community Survey 2018 5-year estimates on COVID-19 confirmed case and death rate."
   ]
  },
  {
   "cell_type": "code",
   "execution_count": 23,
   "metadata": {},
   "outputs": [],
   "source": [
    "import math\n",
    "import numpy as np\n",
    "import pandas as pd\n",
    "import datetime\n",
    "import matplotlib.pyplot as plt\n",
    "import matplotlib.cm as cm\n",
    "from matplotlib.dates import DateFormatter\n",
    "from py2neo import Graph\n",
    "import ipywidgets as widgets"
   ]
  },
  {
   "cell_type": "code",
   "execution_count": 24,
   "metadata": {},
   "outputs": [],
   "source": [
    "pd.options.display.max_rows = None  # display all rows\n",
    "pd.options.display.max_columns = None  # display all columsns"
   ]
  },
  {
   "cell_type": "markdown",
   "metadata": {},
   "source": [
    "#### Connect to COVID-19-Net Knowledge Graph"
   ]
  },
  {
   "cell_type": "code",
   "execution_count": 25,
   "metadata": {},
   "outputs": [],
   "source": [
    "graph = Graph(\"bolt://132.249.238.185:7687\", user=\"reader\", password=\"demo\")"
   ]
  },
  {
   "cell_type": "markdown",
   "metadata": {},
   "source": [
    "#### Setup dropdown menus"
   ]
  },
  {
   "cell_type": "code",
   "execution_count": 26,
   "metadata": {},
   "outputs": [],
   "source": [
    "query = \"\"\"\n",
    "// get list of states in the US\n",
    "MATCH (a:Admin1)-[:IN]->(Country{name: 'United States'})\n",
    "RETURN a.name as state\n",
    "ORDER BY state\n",
    "\"\"\"\n",
    "states = graph.run(query).to_data_frame()['state'].values"
   ]
  },
  {
   "cell_type": "code",
   "execution_count": 27,
   "metadata": {},
   "outputs": [],
   "source": [
    "state_widget = widgets.Dropdown(options=states, description='Select state:')\n",
    "metric_widget = widgets.Dropdown(options=('confirmedRate', 'deathRate'), description='Select metric')"
   ]
  },
  {
   "cell_type": "markdown",
   "metadata": {},
   "source": [
    "### Query KG to get Confirmed Cases, Deaths, and Population for Counties in a State"
   ]
  },
  {
   "cell_type": "code",
   "execution_count": 28,
   "metadata": {
    "jupyter": {
     "source_hidden": true
    }
   },
   "outputs": [
    {
     "data": {
      "application/vnd.jupyter.widget-view+json": {
       "model_id": "334c0225932f41f6a137afb2d4839f79",
       "version_major": 2,
       "version_minor": 0
      },
      "text/plain": [
       "Dropdown(description='Select state:', options=('Alabama', 'Alaska', 'Arizona', 'Arkansas', 'California', 'Colo…"
      ]
     },
     "metadata": {},
     "output_type": "display_data"
    }
   ],
   "source": [
    "display(state_widget)"
   ]
  },
  {
   "cell_type": "code",
   "execution_count": 29,
   "metadata": {
    "jupyter": {
     "source_hidden": true
    }
   },
   "outputs": [
    {
     "data": {
      "application/vnd.jupyter.widget-view+json": {
       "model_id": "9c1e7fdee97c4d17922ff4b883e9dfd2",
       "version_major": 2,
       "version_minor": 0
      },
      "text/plain": [
       "Dropdown(description='Select metric', options=('confirmedRate', 'deathRate'), value='confirmedRate')"
      ]
     },
     "metadata": {},
     "output_type": "display_data"
    }
   ],
   "source": [
    "display(metric_widget)"
   ]
  },
  {
   "cell_type": "code",
   "execution_count": 30,
   "metadata": {},
   "outputs": [
    {
     "name": "stdout",
     "output_type": "stream",
     "text": [
      "State : Alabama\n",
      "Metric: confirmedRate\n"
     ]
    }
   ],
   "source": [
    "state = state_widget.value\n",
    "metric = metric_widget.value\n",
    "print('State :', state)\n",
    "print('Metric:', metric)"
   ]
  },
  {
   "cell_type": "code",
   "execution_count": 12,
   "metadata": {},
   "outputs": [],
   "source": [
    "# start date for time series\n",
    "start_date = '2020-04-01'"
   ]
  },
  {
   "cell_type": "markdown",
   "metadata": {},
   "source": [
    "#### Get confirmed cases and deaths for all counties in a state"
   ]
  },
  {
   "cell_type": "code",
   "execution_count": 13,
   "metadata": {},
   "outputs": [],
   "source": [
    "query = \"\"\"\n",
    "// get all counties (admin2) in a state (admin1)\n",
    "MATCH (a:Admin2)-[:IN]->(:Admin1{name: $admin1})\n",
    "\n",
    "// get COVID-19 cases for all counties\n",
    "MATCH (a)<-[:REPORTED_IN]-(c:Cases{source: 'JHU'}) \n",
    "WHERE c.date >= date($start_date)\n",
    "\n",
    "// get demographics for all counties\n",
    "MATCH (a)-[:HAS_DEMOGRAPHICS]->(d:Demographics) \n",
    "\n",
    "RETURN a.name AS name, c.date AS date, \n",
    "       c.cummulativeConfirmed*100000.0/d.totalPopulation AS confirmedRate, \n",
    "       c.cummulativeDeaths*100000.0/d.totalPopulation AS deathRate\n",
    "ORDER BY c.date ASC, a.name\n",
    "\"\"\"\n",
    "df = graph.run(query, admin1=state, start_date=start_date).to_data_frame()"
   ]
  },
  {
   "cell_type": "markdown",
   "metadata": {},
   "source": [
    "Reformat data"
   ]
  },
  {
   "cell_type": "code",
   "execution_count": 14,
   "metadata": {},
   "outputs": [
    {
     "data": {
      "text/html": [
       "<div>\n",
       "<style scoped>\n",
       "    .dataframe tbody tr th:only-of-type {\n",
       "        vertical-align: middle;\n",
       "    }\n",
       "\n",
       "    .dataframe tbody tr th {\n",
       "        vertical-align: top;\n",
       "    }\n",
       "\n",
       "    .dataframe thead th {\n",
       "        text-align: right;\n",
       "    }\n",
       "</style>\n",
       "<table border=\"1\" class=\"dataframe\">\n",
       "  <thead>\n",
       "    <tr style=\"text-align: right;\">\n",
       "      <th>name</th>\n",
       "      <th>Fairfield County</th>\n",
       "      <th>Hartford County</th>\n",
       "      <th>Litchfield County</th>\n",
       "      <th>Middlesex County</th>\n",
       "      <th>New Haven County</th>\n",
       "      <th>New London County</th>\n",
       "      <th>Tolland County</th>\n",
       "      <th>Windham County</th>\n",
       "    </tr>\n",
       "    <tr>\n",
       "      <th>date</th>\n",
       "      <th></th>\n",
       "      <th></th>\n",
       "      <th></th>\n",
       "      <th></th>\n",
       "      <th></th>\n",
       "      <th></th>\n",
       "      <th></th>\n",
       "      <th></th>\n",
       "    </tr>\n",
       "  </thead>\n",
       "  <tbody>\n",
       "    <tr>\n",
       "      <th>2020-04-01</th>\n",
       "      <td>210.303829</td>\n",
       "      <td>52.418048</td>\n",
       "      <td>71.572575</td>\n",
       "      <td>40.399589</td>\n",
       "      <td>71.101160</td>\n",
       "      <td>10.785440</td>\n",
       "      <td>40.325513</td>\n",
       "      <td>16.303695</td>\n",
       "    </tr>\n",
       "    <tr>\n",
       "      <th>2020-04-02</th>\n",
       "      <td>225.764231</td>\n",
       "      <td>60.241637</td>\n",
       "      <td>77.036130</td>\n",
       "      <td>45.296508</td>\n",
       "      <td>75.290427</td>\n",
       "      <td>10.785440</td>\n",
       "      <td>44.291957</td>\n",
       "      <td>18.019873</td>\n",
       "    </tr>\n",
       "    <tr>\n",
       "      <th>2020-04-03</th>\n",
       "      <td>287.605840</td>\n",
       "      <td>75.888816</td>\n",
       "      <td>94.519508</td>\n",
       "      <td>55.702463</td>\n",
       "      <td>103.684343</td>\n",
       "      <td>14.876470</td>\n",
       "      <td>52.224844</td>\n",
       "      <td>23.168409</td>\n",
       "    </tr>\n",
       "    <tr>\n",
       "      <th>2020-04-04</th>\n",
       "      <td>299.042302</td>\n",
       "      <td>81.141797</td>\n",
       "      <td>99.436707</td>\n",
       "      <td>61.211498</td>\n",
       "      <td>119.161355</td>\n",
       "      <td>21.198969</td>\n",
       "      <td>60.157732</td>\n",
       "      <td>26.600765</td>\n",
       "    </tr>\n",
       "    <tr>\n",
       "      <th>2020-04-05</th>\n",
       "      <td>322.974158</td>\n",
       "      <td>83.935936</td>\n",
       "      <td>107.632040</td>\n",
       "      <td>67.332648</td>\n",
       "      <td>135.220210</td>\n",
       "      <td>21.198969</td>\n",
       "      <td>62.140954</td>\n",
       "      <td>27.458855</td>\n",
       "    </tr>\n",
       "  </tbody>\n",
       "</table>\n",
       "</div>"
      ],
      "text/plain": [
       "name        Fairfield County  Hartford County  Litchfield County  \\\n",
       "date                                                               \n",
       "2020-04-01        210.303829        52.418048          71.572575   \n",
       "2020-04-02        225.764231        60.241637          77.036130   \n",
       "2020-04-03        287.605840        75.888816          94.519508   \n",
       "2020-04-04        299.042302        81.141797          99.436707   \n",
       "2020-04-05        322.974158        83.935936         107.632040   \n",
       "\n",
       "name        Middlesex County  New Haven County  New London County  \\\n",
       "date                                                                \n",
       "2020-04-01         40.399589         71.101160          10.785440   \n",
       "2020-04-02         45.296508         75.290427          10.785440   \n",
       "2020-04-03         55.702463        103.684343          14.876470   \n",
       "2020-04-04         61.211498        119.161355          21.198969   \n",
       "2020-04-05         67.332648        135.220210          21.198969   \n",
       "\n",
       "name        Tolland County  Windham County  \n",
       "date                                        \n",
       "2020-04-01       40.325513       16.303695  \n",
       "2020-04-02       44.291957       18.019873  \n",
       "2020-04-03       52.224844       23.168409  \n",
       "2020-04-04       60.157732       26.600765  \n",
       "2020-04-05       62.140954       27.458855  "
      ]
     },
     "execution_count": 14,
     "metadata": {},
     "output_type": "execute_result"
    }
   ],
   "source": [
    "# convert neo4j date object to datetime\n",
    "df['date'] = df['date'].astype(str)\n",
    "df['date'] = pd.to_datetime(df['date'], infer_datetime_format=False)  \n",
    "# pivot table\n",
    "df_date = df.pivot(index='date', columns='name', values=metric)\n",
    "df_date.fillna(0, inplace=True)\n",
    "df_date.head()"
   ]
  },
  {
   "cell_type": "markdown",
   "metadata": {},
   "source": [
    "### Get Risk Factors for Counties\n",
    "\n",
    "* Low income (< $15,000)\n",
    "* No health insurance\n",
    "* Service occupation\n",
    "* Low education level (no high school diploma)\n",
    "* High occupancy housing (> 1 occupant per room)"
   ]
  },
  {
   "cell_type": "code",
   "execution_count": 15,
   "metadata": {},
   "outputs": [
    {
     "data": {
      "text/html": [
       "<div>\n",
       "<style scoped>\n",
       "    .dataframe tbody tr th:only-of-type {\n",
       "        vertical-align: middle;\n",
       "    }\n",
       "\n",
       "    .dataframe tbody tr th {\n",
       "        vertical-align: top;\n",
       "    }\n",
       "\n",
       "    .dataframe thead th {\n",
       "        text-align: right;\n",
       "    }\n",
       "</style>\n",
       "<table border=\"1\" class=\"dataframe\">\n",
       "  <thead>\n",
       "    <tr style=\"text-align: right;\">\n",
       "      <th></th>\n",
       "      <th>name</th>\n",
       "      <th>minorityPct</th>\n",
       "      <th>lowIncomePct</th>\n",
       "      <th>noHealthInsurancePct</th>\n",
       "      <th>serviceOccupationPct</th>\n",
       "      <th>lowEducationPct</th>\n",
       "      <th>highOccupanyHousingPct</th>\n",
       "    </tr>\n",
       "  </thead>\n",
       "  <tbody>\n",
       "    <tr>\n",
       "      <th>0</th>\n",
       "      <td>Fairfield County</td>\n",
       "      <td>19</td>\n",
       "      <td>7.5</td>\n",
       "      <td>8.7</td>\n",
       "      <td>17.8</td>\n",
       "      <td>10.1</td>\n",
       "      <td>2.7</td>\n",
       "    </tr>\n",
       "    <tr>\n",
       "      <th>1</th>\n",
       "      <td>Hartford County</td>\n",
       "      <td>17</td>\n",
       "      <td>9.6</td>\n",
       "      <td>4.4</td>\n",
       "      <td>16.5</td>\n",
       "      <td>10.5</td>\n",
       "      <td>1.7</td>\n",
       "    </tr>\n",
       "    <tr>\n",
       "      <th>2</th>\n",
       "      <td>Litchfield County</td>\n",
       "      <td>5</td>\n",
       "      <td>6.2</td>\n",
       "      <td>4.2</td>\n",
       "      <td>16.5</td>\n",
       "      <td>7.4</td>\n",
       "      <td>0.9</td>\n",
       "    </tr>\n",
       "    <tr>\n",
       "      <th>3</th>\n",
       "      <td>Middlesex County</td>\n",
       "      <td>6</td>\n",
       "      <td>6.7</td>\n",
       "      <td>3.3</td>\n",
       "      <td>15.1</td>\n",
       "      <td>5.9</td>\n",
       "      <td>1.1</td>\n",
       "    </tr>\n",
       "    <tr>\n",
       "      <th>4</th>\n",
       "      <td>New Haven County</td>\n",
       "      <td>17</td>\n",
       "      <td>10.3</td>\n",
       "      <td>5.2</td>\n",
       "      <td>17.5</td>\n",
       "      <td>9.9</td>\n",
       "      <td>1.9</td>\n",
       "    </tr>\n",
       "  </tbody>\n",
       "</table>\n",
       "</div>"
      ],
      "text/plain": [
       "                name  minorityPct  lowIncomePct  noHealthInsurancePct  \\\n",
       "0   Fairfield County           19           7.5                   8.7   \n",
       "1    Hartford County           17           9.6                   4.4   \n",
       "2  Litchfield County            5           6.2                   4.2   \n",
       "3   Middlesex County            6           6.7                   3.3   \n",
       "4   New Haven County           17          10.3                   5.2   \n",
       "\n",
       "   serviceOccupationPct  lowEducationPct  highOccupanyHousingPct  \n",
       "0                  17.8             10.1                     2.7  \n",
       "1                  16.5             10.5                     1.7  \n",
       "2                  16.5              7.4                     0.9  \n",
       "3                  15.1              5.9                     1.1  \n",
       "4                  17.5              9.9                     1.9  "
      ]
     },
     "execution_count": 15,
     "metadata": {},
     "output_type": "execute_result"
    }
   ],
   "source": [
    "query = \"\"\"\n",
    "// get counties in state\n",
    "MATCH (a:Admin2)-[:IN]-(:Admin1{name: $admin1})\n",
    "\n",
    "// get population characteristics (American Community Survey 2018 5-year estimates)\n",
    "MATCH (a)-[:HAS_DEMOGRAPHICS]-(d:Demographics)\n",
    "MATCH (a)-[:HAS_ECONOMICS]-(:Economics)-[:HAS_INCOME]-(i:Income)\n",
    "MATCH (a)-[:HAS_ECONOMICS]-(:Economics)-[:HAS_HEALTH_INSURANCE]-(hi:HealthInsurance)\n",
    "MATCH (a)-[:HAS_ECONOMICS]-(:Economics)-[:HAS_OCCUPATION]-(o:Occupation)\n",
    "MATCH (a)-[:HAS_SOCIAL_CHARACTERISTICS]-(s:SocialCharacteristics)-[:HAS_EDUCATION]-(e:Education)\n",
    "MATCH (a)-[:HAS_HOUSING]-(h:Housing)\n",
    "\n",
    "// return risk factors\n",
    "RETURN a.name AS name, \n",
    "       d.hispanicOrLatino*100/d.totalPopulation AS minorityPct,\n",
    "       (i.householdIncomeLessThan10000USDPct + i.householdIncome10000To14999USDPct) AS lowIncomePct,\n",
    "       hi.noHealthInsuranceCoveragePct AS noHealthInsurancePct,\n",
    "       o.serviceOccupationsPct AS serviceOccupationPct,\n",
    "       e.lessThan9thGradePct + e.grade9thTo12thNoDiplomaPct AS lowEducationPct,\n",
    "       (h.`occupantsPerRoom1.01to1.50Pct` + h.`occupantsPerRoom1.51orMorePct`) AS highOccupanyHousingPct\n",
    "ORDER BY a.name\n",
    "\"\"\"\n",
    "risk_factors = graph.run(query, admin1=state).to_data_frame()\n",
    "risk_factors.head()"
   ]
  },
  {
   "cell_type": "markdown",
   "metadata": {},
   "source": [
    "Summary statistics for risk factors"
   ]
  },
  {
   "cell_type": "code",
   "execution_count": 16,
   "metadata": {},
   "outputs": [
    {
     "data": {
      "text/html": [
       "<div>\n",
       "<style scoped>\n",
       "    .dataframe tbody tr th:only-of-type {\n",
       "        vertical-align: middle;\n",
       "    }\n",
       "\n",
       "    .dataframe tbody tr th {\n",
       "        vertical-align: top;\n",
       "    }\n",
       "\n",
       "    .dataframe thead th {\n",
       "        text-align: right;\n",
       "    }\n",
       "</style>\n",
       "<table border=\"1\" class=\"dataframe\">\n",
       "  <thead>\n",
       "    <tr style=\"text-align: right;\">\n",
       "      <th></th>\n",
       "      <th>minorityPct</th>\n",
       "      <th>lowIncomePct</th>\n",
       "      <th>noHealthInsurancePct</th>\n",
       "      <th>serviceOccupationPct</th>\n",
       "      <th>lowEducationPct</th>\n",
       "      <th>highOccupanyHousingPct</th>\n",
       "    </tr>\n",
       "  </thead>\n",
       "  <tbody>\n",
       "    <tr>\n",
       "      <th>count</th>\n",
       "      <td>8.000000</td>\n",
       "      <td>8.00000</td>\n",
       "      <td>8.000000</td>\n",
       "      <td>8.000000</td>\n",
       "      <td>8.0000</td>\n",
       "      <td>8.000000</td>\n",
       "    </tr>\n",
       "    <tr>\n",
       "      <th>mean</th>\n",
       "      <td>11.250000</td>\n",
       "      <td>8.22500</td>\n",
       "      <td>4.637500</td>\n",
       "      <td>17.750000</td>\n",
       "      <td>8.5875</td>\n",
       "      <td>1.487500</td>\n",
       "    </tr>\n",
       "    <tr>\n",
       "      <th>std</th>\n",
       "      <td>5.775564</td>\n",
       "      <td>1.60067</td>\n",
       "      <td>1.767918</td>\n",
       "      <td>2.169924</td>\n",
       "      <td>2.1853</td>\n",
       "      <td>0.610474</td>\n",
       "    </tr>\n",
       "    <tr>\n",
       "      <th>min</th>\n",
       "      <td>5.000000</td>\n",
       "      <td>6.20000</td>\n",
       "      <td>3.100000</td>\n",
       "      <td>15.100000</td>\n",
       "      <td>5.5000</td>\n",
       "      <td>0.900000</td>\n",
       "    </tr>\n",
       "    <tr>\n",
       "      <th>25%</th>\n",
       "      <td>5.750000</td>\n",
       "      <td>6.85000</td>\n",
       "      <td>3.750000</td>\n",
       "      <td>16.500000</td>\n",
       "      <td>7.0250</td>\n",
       "      <td>1.050000</td>\n",
       "    </tr>\n",
       "    <tr>\n",
       "      <th>50%</th>\n",
       "      <td>10.500000</td>\n",
       "      <td>8.10000</td>\n",
       "      <td>4.250000</td>\n",
       "      <td>17.150000</td>\n",
       "      <td>9.0000</td>\n",
       "      <td>1.350000</td>\n",
       "    </tr>\n",
       "    <tr>\n",
       "      <th>75%</th>\n",
       "      <td>17.000000</td>\n",
       "      <td>9.67500</td>\n",
       "      <td>4.600000</td>\n",
       "      <td>18.325000</td>\n",
       "      <td>10.2000</td>\n",
       "      <td>1.750000</td>\n",
       "    </tr>\n",
       "    <tr>\n",
       "      <th>max</th>\n",
       "      <td>19.000000</td>\n",
       "      <td>10.30000</td>\n",
       "      <td>8.700000</td>\n",
       "      <td>21.900000</td>\n",
       "      <td>11.3000</td>\n",
       "      <td>2.700000</td>\n",
       "    </tr>\n",
       "  </tbody>\n",
       "</table>\n",
       "</div>"
      ],
      "text/plain": [
       "       minorityPct  lowIncomePct  noHealthInsurancePct  serviceOccupationPct  \\\n",
       "count     8.000000       8.00000              8.000000              8.000000   \n",
       "mean     11.250000       8.22500              4.637500             17.750000   \n",
       "std       5.775564       1.60067              1.767918              2.169924   \n",
       "min       5.000000       6.20000              3.100000             15.100000   \n",
       "25%       5.750000       6.85000              3.750000             16.500000   \n",
       "50%      10.500000       8.10000              4.250000             17.150000   \n",
       "75%      17.000000       9.67500              4.600000             18.325000   \n",
       "max      19.000000      10.30000              8.700000             21.900000   \n",
       "\n",
       "       lowEducationPct  highOccupanyHousingPct  \n",
       "count           8.0000                8.000000  \n",
       "mean            8.5875                1.487500  \n",
       "std             2.1853                0.610474  \n",
       "min             5.5000                0.900000  \n",
       "25%             7.0250                1.050000  \n",
       "50%             9.0000                1.350000  \n",
       "75%            10.2000                1.750000  \n",
       "max            11.3000                2.700000  "
      ]
     },
     "execution_count": 16,
     "metadata": {},
     "output_type": "execute_result"
    }
   ],
   "source": [
    "risk_factors.describe()"
   ]
  },
  {
   "cell_type": "markdown",
   "metadata": {},
   "source": [
    "##### Create color maps for risk factors (range: mean +/- 2 sigma, colors: blue-white-red)"
   ]
  },
  {
   "cell_type": "code",
   "execution_count": 17,
   "metadata": {},
   "outputs": [],
   "source": [
    "def get_color_map(factor):\n",
    "    sigma = 2\n",
    "    risk_factors[factor+'_z'] = (risk_factors[factor] - risk_factors[factor].mean())/risk_factors[factor].std()/sigma\n",
    "    risk_factors[factor+'_z'] = risk_factors[factor+'_z'].clip(-1, 1)\n",
    "    risk_factors[factor+'_z'] = (risk_factors[factor+'_z'] + 1) * 50\n",
    "    colors = cm.bwr(np.linspace(0, 1, 101))\n",
    "    risk_factors[factor+'col'] = risk_factors[factor+'_z'].apply(lambda z: colors[int(round(z))])\n",
    "    return risk_factors[factor+'col'].values"
   ]
  },
  {
   "cell_type": "code",
   "execution_count": 18,
   "metadata": {},
   "outputs": [],
   "source": [
    "col_minority = get_color_map('minorityPct')\n",
    "col_income = get_color_map('lowIncomePct')\n",
    "col_insurance = get_color_map('noHealthInsurancePct')\n",
    "col_service = get_color_map('serviceOccupationPct')\n",
    "col_education = get_color_map('lowEducationPct')\n",
    "col_occupancy = get_color_map('highOccupanyHousingPct')"
   ]
  },
  {
   "cell_type": "markdown",
   "metadata": {},
   "source": [
    "### Case rate for all counties color-coded by risk factor"
   ]
  },
  {
   "cell_type": "markdown",
   "metadata": {},
   "source": [
    "##### Set color map for risk factor"
   ]
  },
  {
   "cell_type": "code",
   "execution_count": 19,
   "metadata": {},
   "outputs": [],
   "source": [
    "#col_map = col_minority\n",
    "#col_map = col_income\n",
    "#col_map = col_insurance\n",
    "#col_map = col_service\n",
    "col_map = col_education\n",
    "#col_map = col_occupancy"
   ]
  },
  {
   "cell_type": "code",
   "execution_count": 20,
   "metadata": {},
   "outputs": [
    {
     "data": {
      "image/png": "[encoded data removed]",
      "text/plain": [
       "<Figure size 1152x576 with 1 Axes>"
      ]
     },
     "metadata": {
      "needs_background": "light"
     },
     "output_type": "display_data"
    }
   ],
   "source": [
    "ax = df_date.plot(figsize=(16, 8), color=col_map, legend=False, title=f'Confirmed cases for counties in {state} color-coded by risk factor');\n",
    "ax.set_xlabel(\"Date\");\n",
    "ax.set_ylabel(\"Confirmed rate per 100,000\");"
   ]
  },
  {
   "cell_type": "markdown",
   "metadata": {},
   "source": [
    "### Case counts by county color-coded by risk factor"
   ]
  },
  {
   "cell_type": "code",
   "execution_count": 21,
   "metadata": {},
   "outputs": [],
   "source": [
    "# dimensions for subplot layout\n",
    "cols = 5\n",
    "rows = math.ceil(df_date.shape[0]/cols)"
   ]
  },
  {
   "cell_type": "code",
   "execution_count": 22,
   "metadata": {},
   "outputs": [
    {
     "data": {
      "image/png": "[encoded data removed]",
      "text/plain": [
       "<Figure size 1152x4320 with 130 Axes>"
      ]
     },
     "metadata": {
      "needs_background": "light"
     },
     "output_type": "display_data"
    }
   ],
   "source": [
    "ax = df_date.plot(subplots=True, layout=(rows,cols), sharey=True, figsize=(16, 60), color=col_map);"
   ]
  },
  {
   "cell_type": "code",
   "execution_count": null,
   "metadata": {},
   "outputs": [],
   "source": []
  }
 ],
 "metadata": {
  "kernelspec": {
   "display_name": "Python 3",
   "language": "python",
   "name": "python3"
  },
  "language_info": {
   "codemirror_mode": {
    "name": "ipython",
    "version": 3
   },
   "file_extension": ".py",
   "mimetype": "text/x-python",
   "name": "python",
   "nbconvert_exporter": "python",
   "pygments_lexer": "ipython3",
   "version": "3.8.5"
  }
 },
 "nbformat": 4,
 "nbformat_minor": 4
}

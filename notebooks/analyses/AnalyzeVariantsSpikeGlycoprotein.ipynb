{
 "cells": [
  {
   "cell_type": "markdown",
   "metadata": {},
   "source": [
    "# Analyze SARS-CoV-2 Spike Glycoprotein Variants\n",
    "[Work in progress]\n",
    "\n",
    "This notebook queries the Knowledge Graph for variants in the SARS-CoV S gene and analyzes mutations that may affect the ACE2 binding to the Spike Glycoprotein as well we mutations at the polybasic cleavage site. In addition, it analyzes the geographic locations of the variants."
   ]
  },
  {
   "cell_type": "code",
   "execution_count": null,
   "metadata": {},
   "outputs": [],
   "source": [
    "import pandas as pd\n",
    "import numpy as np\n",
    "import matplotlib.pyplot as plt\n",
    "import matplotlib\n",
    "from py2neo import Graph"
   ]
  },
  {
   "cell_type": "code",
   "execution_count": null,
   "metadata": {},
   "outputs": [],
   "source": [
    "pd.options.display.max_rows = None  # display all rows\n",
    "pd.options.display.max_columns = None  # display all columsns"
   ]
  },
  {
   "cell_type": "code",
   "execution_count": null,
   "metadata": {},
   "outputs": [],
   "source": [
    "import py2neo\n",
    "py2neo.__version__"
   ]
  },
  {
   "cell_type": "markdown",
   "metadata": {},
   "source": [
    "#### Connect to COVID-19-Community Knowledge Graph"
   ]
  },
  {
   "cell_type": "code",
   "execution_count": null,
   "metadata": {},
   "outputs": [],
   "source": [
    "graph = Graph(\"bolt://132.249.238.185:7687\", user=\"reader\", password=\"demo\")"
   ]
  },
  {
   "cell_type": "markdown",
   "metadata": {},
   "source": [
    "## Analysis of missense mutations in the SARS-CoV-2 Spike glycoprotein"
   ]
  },
  {
   "cell_type": "markdown",
   "metadata": {},
   "source": [
    "![Spike protein](../../docs/Spikeprotein.png)\n",
    "\n",
    "**a.** ACE2 receptor binding domain of the SARS-CoV-2 spike protein. **b.** Polybasic cleavage site with three predicted O-glycosylation sites.\n",
    "\n",
    "Reference: Andersen, K.G., Rambaut, A., Lipkin, W.I. et al. The proximal origin of SARS-CoV-2. Nat Med 26, 450–452 (2020). [doi:10.1038/s41591-020-0820-9](https://doi.org/10.1038/s41591-020-0820-9)"
   ]
  },
  {
   "cell_type": "markdown",
   "metadata": {},
   "source": [
    "### Query KG for the S gene and its gene product"
   ]
  },
  {
   "cell_type": "markdown",
   "metadata": {},
   "source": [
    "Mutation data below are based on the Wuhan-Hu-1 ([NC_045512](http://identifiers.org/resolve?query=ncbiprotein:NC_045512)) reference sequence."
   ]
  },
  {
   "cell_type": "code",
   "execution_count": null,
   "metadata": {},
   "outputs": [],
   "source": [
    "gene_name = 'S'\n",
    "taxonomy_id = 'taxonomy:2697049' # SARS-CoV-2"
   ]
  },
  {
   "cell_type": "code",
   "execution_count": null,
   "metadata": {},
   "outputs": [],
   "source": [
    "query = \"\"\"\n",
    "MATCH (g:Gene{name: $gene_name, taxonomyId: $taxonomy_id})-[:ENCODES]->(p:Protein) \n",
    "RETURN g.name AS geneName, p.accession AS proteinAccession, p.sequence AS proteinSequence\n",
    "\"\"\"\n",
    "df = graph.run(query, gene_name=gene_name, taxonomy_id=taxonomy_id).to_data_frame()"
   ]
  },
  {
   "cell_type": "code",
   "execution_count": null,
   "metadata": {},
   "outputs": [],
   "source": [
    "df.head()"
   ]
  },
  {
   "cell_type": "code",
   "execution_count": null,
   "metadata": {},
   "outputs": [],
   "source": [
    "seq = df['proteinSequence'].iloc[0]"
   ]
  },
  {
   "cell_type": "code",
   "execution_count": null,
   "metadata": {},
   "outputs": [],
   "source": [
    "# TODO check why this sequence is shorter than the one in the figure above.\n",
    "print('Sequence of the Spike glycoprotein:', len(seq), 'residues')\n",
    "print(seq)"
   ]
  },
  {
   "cell_type": "markdown",
   "metadata": {},
   "source": [
    "### Type of Variants in Spike glycoprotein"
   ]
  },
  {
   "cell_type": "markdown",
   "metadata": {},
   "source": [
    "List of variant types and consequences:\n",
    "\n",
    "https://uswest.ensembl.org/info/genome/variation/prediction/classification.html\n",
    "\n",
    "https://uswest.ensembl.org/info/genome/variation/prediction/predicted_data.html#consequences"
   ]
  },
  {
   "cell_type": "code",
   "execution_count": null,
   "metadata": {},
   "outputs": [],
   "source": [
    "host_taxonomy_id = 'taxonomy:9606' # human"
   ]
  },
  {
   "cell_type": "code",
   "execution_count": null,
   "metadata": {},
   "outputs": [],
   "source": [
    "query = \"\"\"\n",
    "MATCH (g:Gene{name: $gene_name, taxonomyId: $taxonomy_id})-[:HAS_VARIANT]->(v:Variant)\n",
    "       <-[:HAS_VARIANT]-(s:Strain)\n",
    "WHERE s.hostTaxonomyId = $host_taxonomy_id\n",
    "RETURN DISTINCT(v.variantType), v.variantConsequence, count(s)\n",
    "ORDER BY v.variantType\n",
    "\"\"\""
   ]
  },
  {
   "cell_type": "code",
   "execution_count": null,
   "metadata": {},
   "outputs": [],
   "source": [
    "df = graph.run(query, gene_name=gene_name, taxonomy_id=taxonomy_id, host_taxonomy_id=host_taxonomy_id).to_data_frame()"
   ]
  },
  {
   "cell_type": "code",
   "execution_count": null,
   "metadata": {},
   "outputs": [],
   "source": [
    "df.head(20)"
   ]
  },
  {
   "cell_type": "markdown",
   "metadata": {},
   "source": [
    "### Frequency of mutation by sequence position\n",
    "**NOTE, some strains have been deposited in both in GISAID and NCBI under different strain ids. They will be double-counted in the analyses below.**\n",
    "\n",
    "Receptor-binding domain contact residues and O-linked glycan sites are highlighted in the plot below."
   ]
  },
  {
   "cell_type": "code",
   "execution_count": null,
   "metadata": {},
   "outputs": [],
   "source": [
    "query = \"\"\"\n",
    "MATCH (g:Gene{name: $gene_name, taxonomyId: $taxonomy_id})-[:HAS_VARIANT]->\n",
    "      (v:Variant{variantConsequence:'missense_variant'})<-[:HAS_VARIANT]-(s:Strain)\n",
    "WHERE s.hostTaxonomyId = $host_taxonomy_id\n",
    "RETURN v.proteinPosition AS proteinPosition, v.geneVariant as geneVariant, v.proteinVariant AS proteinVariant, \n",
    "       s.name as strain, s.collectionDate AS collectionDate\n",
    "ORDER by proteinPosition\n",
    "\"\"\""
   ]
  },
  {
   "cell_type": "code",
   "execution_count": null,
   "metadata": {},
   "outputs": [],
   "source": [
    "df = graph.run(query, gene_name=gene_name, taxonomy_id=taxonomy_id, \n",
    "               host_taxonomy_id=host_taxonomy_id).to_data_frame()"
   ]
  },
  {
   "cell_type": "code",
   "execution_count": null,
   "metadata": {},
   "outputs": [],
   "source": [
    "df.head(10)"
   ]
  },
  {
   "cell_type": "code",
   "execution_count": null,
   "metadata": {
    "jupyter": {
     "source_hidden": true
    }
   },
   "outputs": [],
   "source": [
    "positions = df['proteinPosition'].values"
   ]
  },
  {
   "cell_type": "code",
   "execution_count": null,
   "metadata": {},
   "outputs": [],
   "source": [
    "x = np.arange(len(seq)+1)\n",
    "y = np.zeros(len(seq)+1)\n",
    "for p in positions:\n",
    "    y[p] += 1\n",
    "\n",
    "plt.rcParams['figure.dpi'] = 300\n",
    "plt.rcParams[\"figure.figsize\"] = (20,8)\n",
    "\n",
    "plt.plot(x, y)\n",
    "plt.yscale('log')\n",
    "plt.xlabel('Sequence position')\n",
    "plt.ylabel('Number of mutations')\n",
    "plt.title('Mutations by Sequence Position')\n",
    "\n",
    "# receptor-binding domain (RBD) contact residues in red\n",
    "rbd = (x >= 455) & (x <= 505)\n",
    "plt.scatter(x[rbd], y[rbd], color='red') \n",
    "\n",
    "# O-linked glycan sites in orange\n",
    "ogs = (x >= 673) & (x <= 686)\n",
    "plt.scatter(x[ogs], y[ogs], color='darkorange') \n",
    "\n",
    "plt.annotate('614', xy=(600, 17000))\n",
    "plt.annotate('Receptor-binding domain', xy=(400, 100), color='red')\n",
    "plt.annotate('O-linked glycan sites', xy=(620, 100), color='darkorange')\n",
    "\n",
    "plt.show()"
   ]
  },
  {
   "cell_type": "markdown",
   "metadata": {},
   "source": [
    "##### Mutations at position 614"
   ]
  },
  {
   "cell_type": "code",
   "execution_count": null,
   "metadata": {},
   "outputs": [],
   "source": [
    "df.query('proteinPosition == 614').head(100)"
   ]
  },
  {
   "cell_type": "markdown",
   "metadata": {},
   "source": [
    "### Strains with mutations in the Spike glycoprotein receptor-binding domain (RBD)"
   ]
  },
  {
   "cell_type": "markdown",
   "metadata": {},
   "source": [
    "Six amino acids in the RBD of the spike protein have been shown to be critical for binding to ACE2 receptors: \n",
    "\n",
    "L455, F486, Q493, S494, N501, Y505\n",
    "\n",
    "Python uses zero-based indices, so we subtract 1 to find the position in the sequence."
   ]
  },
  {
   "cell_type": "code",
   "execution_count": null,
   "metadata": {},
   "outputs": [],
   "source": [
    "print(seq[455-1], seq[486-1], seq[493-1], seq[494-1], seq[501-1], seq[505-1])"
   ]
  },
  {
   "cell_type": "markdown",
   "metadata": {},
   "source": [
    "#### The following variants are missense mutations in the RBD"
   ]
  },
  {
   "cell_type": "code",
   "execution_count": null,
   "metadata": {},
   "outputs": [],
   "source": [
    "query = \"\"\"\n",
    "MATCH (g:Gene{name: $gene_name, taxonomyId: $taxonomy_id})-[:HAS_VARIANT]->(v:Variant{variantConsequence:'missense_variant'})\n",
    "<-[:HAS_VARIANT]-(s:Strain)-[:FOUND_IN]->(l:Location)\n",
    "WHERE v.proteinPosition IN [455, 486, 493, 494, 501, 505] AND s.hostTaxonomyId = 'taxonomy:9606'\n",
    "RETURN DISTINCT v.geneVariant as geneVariant, v.proteinVariant AS proteinVariant, \n",
    "s.name AS strainName, s.collectionDate AS collectionDate, l.name AS location, \n",
    "labels(l) AS locationType, s.id AS strainId\n",
    "\"\"\"\n",
    "df = graph.run(query, gene_name=gene_name, taxonomy_id=taxonomy_id).to_data_frame()"
   ]
  },
  {
   "cell_type": "code",
   "execution_count": null,
   "metadata": {},
   "outputs": [],
   "source": [
    "df.head()"
   ]
  },
  {
   "cell_type": "markdown",
   "metadata": {},
   "source": [
    "#### Find variants around these critical residues within a 5 amino acid window (+/- 2 residues)"
   ]
  },
  {
   "cell_type": "code",
   "execution_count": null,
   "metadata": {},
   "outputs": [],
   "source": [
    "query = \"\"\"\n",
    "MATCH (g:Gene{name: $gene_name, taxonomyId: $taxonomy_id})-[:HAS_VARIANT]->(v:Variant{variantConsequence:'missense_variant'})\n",
    "<-[:HAS_VARIANT]-(s:Strain)-[:FOUND_IN]->(l:Location)\n",
    "WHERE v.proteinPosition IN [453,454,455,456,457, 484,485,486,487,488, 491,492,493,494,495,496,\n",
    "                            499,500,501,502,503,504,505,506,507] \n",
    "      AND s.hostTaxonomyId = $host_taxonomy_id\n",
    "RETURN DISTINCT v.geneVariant as geneVariant, v.proteinVariant AS proteinVariant, \n",
    "s.name AS strainName, s.collectionDate AS collectionDate, s.sex AS sex, s.age as age, \n",
    "l.name AS location, l.location AS coordinates, labels(l) AS locationType, s.id AS strainId\n",
    "\"\"\"\n",
    "df = graph.run(query, gene_name=gene_name, taxonomy_id=taxonomy_id, host_taxonomy_id=host_taxonomy_id).to_data_frame()\n",
    "df.fillna('', inplace=True)\n",
    "df.head()"
   ]
  },
  {
   "cell_type": "markdown",
   "metadata": {},
   "source": [
    "### Find strains with mutations in the polybasic cleavage site\n",
    "This site has three predicted O-glycosylation sites:\n",
    "    \n",
    "S673, T678, S686"
   ]
  },
  {
   "cell_type": "code",
   "execution_count": null,
   "metadata": {},
   "outputs": [],
   "source": [
    "print(seq[673-1], seq[678-1], seq[686-1])"
   ]
  },
  {
   "cell_type": "code",
   "execution_count": null,
   "metadata": {},
   "outputs": [],
   "source": [
    "query = \"\"\"\n",
    "MATCH (g:Gene{name: $gene_name, taxonomyId: $taxonomy_id})-[:HAS_VARIANT]->(v:Variant{variantConsequence:'missense_variant'})\n",
    "<-[:HAS_VARIANT]-(s:Strain)-[:FOUND_IN]->(l:Location)\n",
    "WHERE v.proteinPosition IN [673, 678, 686] \n",
    "      AND s.hostTaxonomyId = $host_taxonomy_id\n",
    "RETURN DISTINCT v.geneVariant as geneVariant, v.proteinVariant AS proteinVariant, \n",
    "s.name AS strainName, s.collectionDate AS collectionDate, s.sex AS sex, s.age as age, \n",
    "l.name AS location, labels(l) AS locationType, s.id AS strainId\n",
    "\"\"\"\n",
    "df = graph.run(query, gene_name=gene_name, taxonomy_id=taxonomy_id, host_taxonomy_id=host_taxonomy_id).to_data_frame()\n",
    "df.fillna('', inplace=True)\n",
    "df.head()"
   ]
  },
  {
   "cell_type": "markdown",
   "metadata": {},
   "source": [
    "#### Find variants around these residues within a 5 amino acid window (+/- 2 residues)"
   ]
  },
  {
   "cell_type": "code",
   "execution_count": null,
   "metadata": {},
   "outputs": [],
   "source": [
    "query = \"\"\"\n",
    "MATCH (g:Gene{name: $gene_name, taxonomyId: $taxonomy_id})-[:HAS_VARIANT]->(v:Variant{variantConsequence:'missense_variant'})\n",
    "<-[:HAS_VARIANT]-(s:Strain)-[:FOUND_IN]->(l:Location)\n",
    "WHERE v.proteinPosition IN [671,672,673,674,675, 676,677,678,679,670, 684,685,686,687,688] \n",
    "      AND s.hostTaxonomyId = $host_taxonomy_id\n",
    "RETURN DISTINCT v.geneVariant as geneVariant, v.proteinVariant AS proteinVariant, \n",
    "s.name AS strainName, s.collectionDate AS collectionDate, s.sex AS sex, s.age as age, l.name AS location, \n",
    "labels(l) AS locationType, s.id AS strainId\n",
    "ORDER BY v.proteinVariant, s.collectionDate\n",
    "\"\"\"\n",
    "df = graph.run(query, gene_name=gene_name, taxonomy_id=taxonomy_id, host_taxonomy_id=host_taxonomy_id).to_data_frame()\n",
    "df.fillna('', inplace=True)\n",
    "df.head()"
   ]
  },
  {
   "cell_type": "markdown",
   "metadata": {},
   "source": [
    "### Mutations in the SARS-CoV-2 \"S\" gene at different geolocations"
   ]
  },
  {
   "cell_type": "code",
   "execution_count": null,
   "metadata": {},
   "outputs": [],
   "source": [
    "query = \"\"\"\n",
    "MATCH (g:Gene{name: $gene_name, taxonomyId: $taxonomy_id})-[:HAS_VARIANT]->(v:Variant{variantConsequence:'missense_variant'})\n",
    "<-[:HAS_VARIANT]-(s:Strain)-[:FOUND_IN]->(l1:Location)-[:IN*]->(r:USRegion{name:$region})\n",
    "MATCH (l1)-[:IN]->(l2)\n",
    "RETURN v.name AS geneVariant, l1.name, l1.location, labels(l1), l2.name, labels(l2), r.name AS region\n",
    "ORDER BY v.name, l1.name\n",
    "\"\"\""
   ]
  },
  {
   "cell_type": "markdown",
   "metadata": {},
   "source": [
    "#### Variants in the US West Region"
   ]
  },
  {
   "cell_type": "code",
   "execution_count": null,
   "metadata": {},
   "outputs": [],
   "source": [
    "region = 'West Region'\n",
    "west = graph.run(query, gene_name=gene_name, taxonomy_id=taxonomy_id, region=region).to_data_frame()\n",
    "west.head()"
   ]
  },
  {
   "cell_type": "markdown",
   "metadata": {},
   "source": [
    "#### Variants in the US Northeast Region"
   ]
  },
  {
   "cell_type": "code",
   "execution_count": null,
   "metadata": {},
   "outputs": [],
   "source": [
    "region = 'Northeast Region'\n",
    "northeast = graph.run(query, gene_name=gene_name, taxonomy_id=taxonomy_id, region=region).to_data_frame()\n",
    "northeast.head()"
   ]
  },
  {
   "cell_type": "markdown",
   "metadata": {},
   "source": [
    "#### Find variants in common"
   ]
  },
  {
   "cell_type": "code",
   "execution_count": null,
   "metadata": {},
   "outputs": [],
   "source": [
    "in_common = pd.merge(west, northeast, on='geneVariant')\n",
    "in_common[['geneVariant']].drop_duplicates().head(25)"
   ]
  },
  {
   "cell_type": "markdown",
   "metadata": {},
   "source": [
    "#### Find unique variants in the West region"
   ]
  },
  {
   "cell_type": "code",
   "execution_count": null,
   "metadata": {},
   "outputs": [],
   "source": [
    "in_west_only = pd.merge(west, northeast, on='geneVariant', how='left')\n",
    "in_west_only.head()"
   ]
  },
  {
   "cell_type": "code",
   "execution_count": null,
   "metadata": {},
   "outputs": [],
   "source": [
    "in_west_only.fillna('', inplace=True)\n",
    "in_west_only.query(\"`l1.name_y` == ''\", inplace=True)\n",
    "in_west_only = in_west_only[['geneVariant', 'l1.name_x', 'l1.location_x', 'labels(l1)_x', 'l2.name_x', 'labels(l2)_x', 'region_x']]\n",
    "in_west_only.head(25)"
   ]
  },
  {
   "cell_type": "markdown",
   "metadata": {},
   "source": [
    "#### Find unique variants in the Northeast region"
   ]
  },
  {
   "cell_type": "code",
   "execution_count": null,
   "metadata": {},
   "outputs": [],
   "source": [
    "in_northeast_only = pd.merge(northeast, west, on='geneVariant', how='left')\n",
    "in_northeast_only.fillna('', inplace=True)\n",
    "in_northeast_only.query(\"`l1.name_y` == ''\", inplace=True)\n",
    "in_northeast_only = in_northeast_only[['geneVariant', 'l1.name_x', 'l1.location_x', 'labels(l1)_x', 'l2.name_x', 'labels(l2)_x', 'region_x']]\n",
    "in_northeast_only.head(25)"
   ]
  }
 ],
 "metadata": {
  "kernelspec": {
   "display_name": "Python 3",
   "language": "python",
   "name": "python3"
  },
  "language_info": {
   "codemirror_mode": {
    "name": "ipython",
    "version": 3
   },
   "file_extension": ".py",
   "mimetype": "text/x-python",
   "name": "python",
   "nbconvert_exporter": "python",
   "pygments_lexer": "ipython3",
   "version": "3.7.8"
  }
 },
 "nbformat": 4,
 "nbformat_minor": 4
}

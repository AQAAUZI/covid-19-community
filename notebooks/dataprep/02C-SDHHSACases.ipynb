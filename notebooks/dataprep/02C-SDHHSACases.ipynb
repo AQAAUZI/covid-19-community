{
 "cells": [
  {
   "cell_type": "markdown",
   "metadata": {},
   "source": [
    "# COVID-19 Case Counts for San Diego County\n",
    "**[Work in progress]**\n",
    "\n",
    "This notebook loads COVID-19 case numbers for San Diego county by Zip code for ingestion into a Knowledge Graph.\n",
    "\n",
    "Data source: [County of San Diego, Health and Human Services Agency, Public Health Services, Epidemiology and Immunization Services Branch](https://www.sandiegocounty.gov/content/sdc/hhsa/programs/phs/community_epidemiology/dc/2019-nCoV/status.html)\n",
    "\n",
    "[County of San Diego - Coronavirus Disease 2019 (COVID-19) Dashboard](https://www.arcgis.com/apps/opsdashboard/index.html#/96feda77f12f46638b984fcb1d17bd24)\n",
    "\n",
    "Authors: Ilya Zaslavsky (zaslavsk@sdsc.edu), Peter Rose (pwrose@ucsd.edu)"
   ]
  },
  {
   "cell_type": "code",
   "execution_count": 1,
   "metadata": {},
   "outputs": [],
   "source": [
    "import os\n",
    "import pandas as pd\n",
    "from pathlib import Path\n",
    "from py2neo import Graph\n",
    "from arcgis.features import FeatureLayerCollection"
   ]
  },
  {
   "cell_type": "code",
   "execution_count": 2,
   "metadata": {},
   "outputs": [],
   "source": [
    "pd.options.display.max_rows = None  # display all rows\n",
    "pd.options.display.max_columns = None  # display all columsns"
   ]
  },
  {
   "cell_type": "code",
   "execution_count": 3,
   "metadata": {},
   "outputs": [
    {
     "name": "stdout",
     "output_type": "stream",
     "text": [
      "/Users/peter/Library/Application Support/Neo4j Desktop/Application/neo4jDatabases/database-19636412-9e74-4bac-8a4c-c6c8b49bb9d3/installation-4.1.0/import\n"
     ]
    }
   ],
   "source": [
    "NEO4J_IMPORT = Path(os.getenv('NEO4J_IMPORT'))\n",
    "print(NEO4J_IMPORT)"
   ]
  },
  {
   "cell_type": "markdown",
   "metadata": {},
   "source": [
    "### Get data from ArcGIS web service"
   ]
  },
  {
   "cell_type": "code",
   "execution_count": 4,
   "metadata": {},
   "outputs": [],
   "source": [
    "sd_dashboard_service = 'https://services1.arcgis.com/1vIhDJwtG5eNmiqX/ArcGIS/rest/services/CovidDashUpdate/FeatureServer'"
   ]
  },
  {
   "cell_type": "code",
   "execution_count": 5,
   "metadata": {},
   "outputs": [],
   "source": [
    "db_item = FeatureLayerCollection(sd_dashboard_service)"
   ]
  },
  {
   "cell_type": "markdown",
   "metadata": {},
   "source": [
    "### Clean up cummulative case counts"
   ]
  },
  {
   "cell_type": "code",
   "execution_count": 6,
   "metadata": {},
   "outputs": [],
   "source": [
    "cases = pd.DataFrame.spatial.from_layer(db_item.layers[0])"
   ]
  },
  {
   "cell_type": "code",
   "execution_count": 7,
   "metadata": {},
   "outputs": [
    {
     "name": "stdout",
     "output_type": "stream",
     "text": [
      "<class 'pandas.core.frame.DataFrame'>\n",
      "RangeIndex: 14186 entries, 0 to 14185\n",
      "Data columns (total 8 columns):\n",
      " #   Column                   Non-Null Count  Dtype         \n",
      "---  ------                   --------------  -----         \n",
      " 0   Case_Count               12478 non-null  float64       \n",
      " 1   OBJECTID                 14186 non-null  int64         \n",
      " 2   SDEP_SANGIS_ZIPCODE_ZIP  14186 non-null  int64         \n",
      " 3   SHAPE                    14186 non-null  geometry      \n",
      " 4   UpdateDate               14186 non-null  datetime64[ns]\n",
      " 5   ZipText                  14186 non-null  object        \n",
      " 6   Zip_Code                 9264 non-null   object        \n",
      " 7   rate_100k                0 non-null      object        \n",
      "dtypes: datetime64[ns](1), float64(1), geometry(1), int64(2), object(3)\n",
      "memory usage: 886.8+ KB\n"
     ]
    }
   ],
   "source": [
    "cases.info()"
   ]
  },
  {
   "cell_type": "code",
   "execution_count": 8,
   "metadata": {},
   "outputs": [],
   "source": [
    "cases.dropna(subset=['Case_Count'], inplace=True)"
   ]
  },
  {
   "cell_type": "code",
   "execution_count": 9,
   "metadata": {},
   "outputs": [
    {
     "name": "stdout",
     "output_type": "stream",
     "text": [
      "<class 'pandas.core.frame.DataFrame'>\n",
      "Int64Index: 12478 entries, 0 to 14184\n",
      "Data columns (total 8 columns):\n",
      " #   Column                   Non-Null Count  Dtype         \n",
      "---  ------                   --------------  -----         \n",
      " 0   Case_Count               12478 non-null  float64       \n",
      " 1   OBJECTID                 12478 non-null  int64         \n",
      " 2   SDEP_SANGIS_ZIPCODE_ZIP  12478 non-null  int64         \n",
      " 3   SHAPE                    12478 non-null  geometry      \n",
      " 4   UpdateDate               12478 non-null  datetime64[ns]\n",
      " 5   ZipText                  12478 non-null  object        \n",
      " 6   Zip_Code                 9168 non-null   object        \n",
      " 7   rate_100k                0 non-null      object        \n",
      "dtypes: datetime64[ns](1), float64(1), geometry(1), int64(2), object(3)\n",
      "memory usage: 877.4+ KB\n"
     ]
    }
   ],
   "source": [
    "cases.info()"
   ]
  },
  {
   "cell_type": "code",
   "execution_count": 10,
   "metadata": {},
   "outputs": [],
   "source": [
    "cases['cummulativeConfirmed'] = cases['Case_Count'].astype(int)\n",
    "cases['date'] = cases['UpdateDate'].dt.normalize()\n",
    "cases.rename(columns={'ZipText': 'zipCode'}, inplace=True)"
   ]
  },
  {
   "cell_type": "code",
   "execution_count": 11,
   "metadata": {},
   "outputs": [],
   "source": [
    "cases = cases[['zipCode', 'cummulativeConfirmed', 'date']]"
   ]
  },
  {
   "cell_type": "code",
   "execution_count": 12,
   "metadata": {},
   "outputs": [],
   "source": [
    "cases.to_csv(NEO4J_IMPORT / \"02c-SDHHSACases.csv\", index=False)"
   ]
  },
  {
   "cell_type": "code",
   "execution_count": 13,
   "metadata": {},
   "outputs": [
    {
     "data": {
      "text/html": [
       "<div>\n",
       "<style scoped>\n",
       "    .dataframe tbody tr th:only-of-type {\n",
       "        vertical-align: middle;\n",
       "    }\n",
       "\n",
       "    .dataframe tbody tr th {\n",
       "        vertical-align: top;\n",
       "    }\n",
       "\n",
       "    .dataframe thead th {\n",
       "        text-align: right;\n",
       "    }\n",
       "</style>\n",
       "<table border=\"1\" class=\"dataframe\">\n",
       "  <thead>\n",
       "    <tr style=\"text-align: right;\">\n",
       "      <th></th>\n",
       "      <th>zipCode</th>\n",
       "      <th>cummulativeConfirmed</th>\n",
       "      <th>date</th>\n",
       "    </tr>\n",
       "  </thead>\n",
       "  <tbody>\n",
       "    <tr>\n",
       "      <th>0</th>\n",
       "      <td>91901</td>\n",
       "      <td>1</td>\n",
       "      <td>2020-04-01</td>\n",
       "    </tr>\n",
       "    <tr>\n",
       "      <th>1</th>\n",
       "      <td>91902</td>\n",
       "      <td>9</td>\n",
       "      <td>2020-04-01</td>\n",
       "    </tr>\n",
       "    <tr>\n",
       "      <th>2</th>\n",
       "      <td>91910</td>\n",
       "      <td>23</td>\n",
       "      <td>2020-04-01</td>\n",
       "    </tr>\n",
       "    <tr>\n",
       "      <th>3</th>\n",
       "      <td>91911</td>\n",
       "      <td>21</td>\n",
       "      <td>2020-04-01</td>\n",
       "    </tr>\n",
       "    <tr>\n",
       "      <th>4</th>\n",
       "      <td>91913</td>\n",
       "      <td>20</td>\n",
       "      <td>2020-04-01</td>\n",
       "    </tr>\n",
       "  </tbody>\n",
       "</table>\n",
       "</div>"
      ],
      "text/plain": [
       "  zipCode  cummulativeConfirmed       date\n",
       "0   91901                     1 2020-04-01\n",
       "1   91902                     9 2020-04-01\n",
       "2   91910                    23 2020-04-01\n",
       "3   91911                    21 2020-04-01\n",
       "4   91913                    20 2020-04-01"
      ]
     },
     "execution_count": 13,
     "metadata": {},
     "output_type": "execute_result"
    }
   ],
   "source": [
    "cases.head()"
   ]
  },
  {
   "cell_type": "markdown",
   "metadata": {},
   "source": [
    "### TODO: Additional data available"
   ]
  },
  {
   "cell_type": "code",
   "execution_count": 14,
   "metadata": {},
   "outputs": [],
   "source": [
    "ConfirmHospitalICuDeaths_df = pd.DataFrame.spatial.from_layer(db_item.layers[1])"
   ]
  },
  {
   "cell_type": "code",
   "execution_count": 15,
   "metadata": {},
   "outputs": [
    {
     "name": "stdout",
     "output_type": "stream",
     "text": [
      "<class 'pandas.core.frame.DataFrame'>\n",
      "RangeIndex: 150 entries, 0 to 149\n",
      "Data columns (total 24 columns):\n",
      " #   Column                  Non-Null Count  Dtype         \n",
      "---  ------                  --------------  -----         \n",
      " 0   OBJECTID                150 non-null    int64         \n",
      " 1   Date                    150 non-null    datetime64[ns]\n",
      " 2   Tests                   146 non-null    float64       \n",
      " 3   Positives               150 non-null    int64         \n",
      " 4   Hospitalized            147 non-null    float64       \n",
      " 5   ICU                     141 non-null    float64       \n",
      " 6   Deaths                  140 non-null    float64       \n",
      " 7   NewCases                150 non-null    int64         \n",
      " 8   Age_9                   132 non-null    float64       \n",
      " 9   Age10_19                132 non-null    float64       \n",
      " 10  Age40_49                132 non-null    float64       \n",
      " 11  Age50_59                132 non-null    float64       \n",
      " 12  Age60_69                132 non-null    float64       \n",
      " 13  Age70_79                132 non-null    float64       \n",
      " 14  Age80_Plus              132 non-null    float64       \n",
      " 15  AgeUnknow               132 non-null    float64       \n",
      " 16  Age20_29                132 non-null    float64       \n",
      " 17  GenderFemale            132 non-null    float64       \n",
      " 18  GenderMale              132 non-null    float64       \n",
      " 19  GendeUnk                132 non-null    float64       \n",
      " 20  NewTests                144 non-null    float64       \n",
      " 21  Age30_39                132 non-null    float64       \n",
      " 22  Rolling_Perc_Pos_Cases  131 non-null    float64       \n",
      " 23  SHAPE                   118 non-null    geometry      \n",
      "dtypes: datetime64[ns](1), float64(19), geometry(1), int64(3)\n",
      "memory usage: 28.2 KB\n"
     ]
    }
   ],
   "source": [
    "ConfirmHospitalICuDeaths_df.info()"
   ]
  },
  {
   "cell_type": "code",
   "execution_count": 16,
   "metadata": {},
   "outputs": [
    {
     "data": {
      "text/html": [
       "<div>\n",
       "<style scoped>\n",
       "    .dataframe tbody tr th:only-of-type {\n",
       "        vertical-align: middle;\n",
       "    }\n",
       "\n",
       "    .dataframe tbody tr th {\n",
       "        vertical-align: top;\n",
       "    }\n",
       "\n",
       "    .dataframe thead th {\n",
       "        text-align: right;\n",
       "    }\n",
       "</style>\n",
       "<table border=\"1\" class=\"dataframe\">\n",
       "  <thead>\n",
       "    <tr style=\"text-align: right;\">\n",
       "      <th></th>\n",
       "      <th>OBJECTID</th>\n",
       "      <th>Date</th>\n",
       "      <th>Tests</th>\n",
       "      <th>Positives</th>\n",
       "      <th>Hospitalized</th>\n",
       "      <th>ICU</th>\n",
       "      <th>Deaths</th>\n",
       "      <th>NewCases</th>\n",
       "      <th>Age_9</th>\n",
       "      <th>Age10_19</th>\n",
       "      <th>Age40_49</th>\n",
       "      <th>Age50_59</th>\n",
       "      <th>Age60_69</th>\n",
       "      <th>Age70_79</th>\n",
       "      <th>Age80_Plus</th>\n",
       "      <th>AgeUnknow</th>\n",
       "      <th>Age20_29</th>\n",
       "      <th>GenderFemale</th>\n",
       "      <th>GenderMale</th>\n",
       "      <th>GendeUnk</th>\n",
       "      <th>NewTests</th>\n",
       "      <th>Age30_39</th>\n",
       "      <th>Rolling_Perc_Pos_Cases</th>\n",
       "      <th>SHAPE</th>\n",
       "    </tr>\n",
       "  </thead>\n",
       "  <tbody>\n",
       "    <tr>\n",
       "      <th>0</th>\n",
       "      <td>1</td>\n",
       "      <td>2020-03-11 08:00:00</td>\n",
       "      <td>123.0</td>\n",
       "      <td>5</td>\n",
       "      <td>NaN</td>\n",
       "      <td>NaN</td>\n",
       "      <td>NaN</td>\n",
       "      <td>1</td>\n",
       "      <td>NaN</td>\n",
       "      <td>NaN</td>\n",
       "      <td>NaN</td>\n",
       "      <td>NaN</td>\n",
       "      <td>NaN</td>\n",
       "      <td>NaN</td>\n",
       "      <td>NaN</td>\n",
       "      <td>NaN</td>\n",
       "      <td>NaN</td>\n",
       "      <td>NaN</td>\n",
       "      <td>NaN</td>\n",
       "      <td>NaN</td>\n",
       "      <td>NaN</td>\n",
       "      <td>NaN</td>\n",
       "      <td>NaN</td>\n",
       "      <td>{\"x\": -13358335.3445, \"y\": 3894443.7920999974,...</td>\n",
       "    </tr>\n",
       "    <tr>\n",
       "      <th>1</th>\n",
       "      <td>2</td>\n",
       "      <td>2020-03-12 08:00:00</td>\n",
       "      <td>147.0</td>\n",
       "      <td>10</td>\n",
       "      <td>NaN</td>\n",
       "      <td>NaN</td>\n",
       "      <td>NaN</td>\n",
       "      <td>5</td>\n",
       "      <td>NaN</td>\n",
       "      <td>NaN</td>\n",
       "      <td>NaN</td>\n",
       "      <td>NaN</td>\n",
       "      <td>NaN</td>\n",
       "      <td>NaN</td>\n",
       "      <td>NaN</td>\n",
       "      <td>NaN</td>\n",
       "      <td>NaN</td>\n",
       "      <td>NaN</td>\n",
       "      <td>NaN</td>\n",
       "      <td>NaN</td>\n",
       "      <td>NaN</td>\n",
       "      <td>NaN</td>\n",
       "      <td>NaN</td>\n",
       "      <td>{\"x\": -13358335.3445, \"y\": 3894443.7920999974,...</td>\n",
       "    </tr>\n",
       "    <tr>\n",
       "      <th>2</th>\n",
       "      <td>3</td>\n",
       "      <td>2020-03-13 08:00:00</td>\n",
       "      <td>273.0</td>\n",
       "      <td>19</td>\n",
       "      <td>NaN</td>\n",
       "      <td>NaN</td>\n",
       "      <td>NaN</td>\n",
       "      <td>9</td>\n",
       "      <td>NaN</td>\n",
       "      <td>NaN</td>\n",
       "      <td>NaN</td>\n",
       "      <td>NaN</td>\n",
       "      <td>NaN</td>\n",
       "      <td>NaN</td>\n",
       "      <td>NaN</td>\n",
       "      <td>NaN</td>\n",
       "      <td>NaN</td>\n",
       "      <td>NaN</td>\n",
       "      <td>NaN</td>\n",
       "      <td>NaN</td>\n",
       "      <td>52.0</td>\n",
       "      <td>NaN</td>\n",
       "      <td>NaN</td>\n",
       "      <td>{\"x\": -13358335.3445, \"y\": 3894443.7920999974,...</td>\n",
       "    </tr>\n",
       "    <tr>\n",
       "      <th>3</th>\n",
       "      <td>4</td>\n",
       "      <td>2020-03-14 08:00:00</td>\n",
       "      <td>288.0</td>\n",
       "      <td>25</td>\n",
       "      <td>12.0</td>\n",
       "      <td>NaN</td>\n",
       "      <td>NaN</td>\n",
       "      <td>6</td>\n",
       "      <td>NaN</td>\n",
       "      <td>NaN</td>\n",
       "      <td>NaN</td>\n",
       "      <td>NaN</td>\n",
       "      <td>NaN</td>\n",
       "      <td>NaN</td>\n",
       "      <td>NaN</td>\n",
       "      <td>NaN</td>\n",
       "      <td>NaN</td>\n",
       "      <td>NaN</td>\n",
       "      <td>NaN</td>\n",
       "      <td>NaN</td>\n",
       "      <td>14.0</td>\n",
       "      <td>NaN</td>\n",
       "      <td>NaN</td>\n",
       "      <td>{\"x\": -13361313.6588, \"y\": 3896230.780699998, ...</td>\n",
       "    </tr>\n",
       "    <tr>\n",
       "      <th>4</th>\n",
       "      <td>5</td>\n",
       "      <td>2020-03-15 08:00:00</td>\n",
       "      <td>313.0</td>\n",
       "      <td>37</td>\n",
       "      <td>10.0</td>\n",
       "      <td>NaN</td>\n",
       "      <td>NaN</td>\n",
       "      <td>12</td>\n",
       "      <td>NaN</td>\n",
       "      <td>NaN</td>\n",
       "      <td>NaN</td>\n",
       "      <td>NaN</td>\n",
       "      <td>NaN</td>\n",
       "      <td>NaN</td>\n",
       "      <td>NaN</td>\n",
       "      <td>NaN</td>\n",
       "      <td>NaN</td>\n",
       "      <td>NaN</td>\n",
       "      <td>NaN</td>\n",
       "      <td>NaN</td>\n",
       "      <td>25.0</td>\n",
       "      <td>NaN</td>\n",
       "      <td>NaN</td>\n",
       "      <td>{\"x\": -13358931.007399999, \"y\": 3896230.780699...</td>\n",
       "    </tr>\n",
       "  </tbody>\n",
       "</table>\n",
       "</div>"
      ],
      "text/plain": [
       "   OBJECTID                Date  Tests  Positives  Hospitalized  ICU  Deaths  \\\n",
       "0         1 2020-03-11 08:00:00  123.0          5           NaN  NaN     NaN   \n",
       "1         2 2020-03-12 08:00:00  147.0         10           NaN  NaN     NaN   \n",
       "2         3 2020-03-13 08:00:00  273.0         19           NaN  NaN     NaN   \n",
       "3         4 2020-03-14 08:00:00  288.0         25          12.0  NaN     NaN   \n",
       "4         5 2020-03-15 08:00:00  313.0         37          10.0  NaN     NaN   \n",
       "\n",
       "   NewCases  Age_9  Age10_19  Age40_49  Age50_59  Age60_69  Age70_79  \\\n",
       "0         1    NaN       NaN       NaN       NaN       NaN       NaN   \n",
       "1         5    NaN       NaN       NaN       NaN       NaN       NaN   \n",
       "2         9    NaN       NaN       NaN       NaN       NaN       NaN   \n",
       "3         6    NaN       NaN       NaN       NaN       NaN       NaN   \n",
       "4        12    NaN       NaN       NaN       NaN       NaN       NaN   \n",
       "\n",
       "   Age80_Plus  AgeUnknow  Age20_29  GenderFemale  GenderMale  GendeUnk  \\\n",
       "0         NaN        NaN       NaN           NaN         NaN       NaN   \n",
       "1         NaN        NaN       NaN           NaN         NaN       NaN   \n",
       "2         NaN        NaN       NaN           NaN         NaN       NaN   \n",
       "3         NaN        NaN       NaN           NaN         NaN       NaN   \n",
       "4         NaN        NaN       NaN           NaN         NaN       NaN   \n",
       "\n",
       "   NewTests  Age30_39  Rolling_Perc_Pos_Cases  \\\n",
       "0       NaN       NaN                     NaN   \n",
       "1       NaN       NaN                     NaN   \n",
       "2      52.0       NaN                     NaN   \n",
       "3      14.0       NaN                     NaN   \n",
       "4      25.0       NaN                     NaN   \n",
       "\n",
       "                                               SHAPE  \n",
       "0  {\"x\": -13358335.3445, \"y\": 3894443.7920999974,...  \n",
       "1  {\"x\": -13358335.3445, \"y\": 3894443.7920999974,...  \n",
       "2  {\"x\": -13358335.3445, \"y\": 3894443.7920999974,...  \n",
       "3  {\"x\": -13361313.6588, \"y\": 3896230.780699998, ...  \n",
       "4  {\"x\": -13358931.007399999, \"y\": 3896230.780699...  "
      ]
     },
     "execution_count": 16,
     "metadata": {},
     "output_type": "execute_result"
    }
   ],
   "source": [
    "ConfirmHospitalICuDeaths_df.head()"
   ]
  },
  {
   "cell_type": "code",
   "execution_count": 17,
   "metadata": {},
   "outputs": [],
   "source": [
    "AgeGenderPoints_df = pd.DataFrame.spatial.from_layer(db_item.layers[2])"
   ]
  },
  {
   "cell_type": "code",
   "execution_count": 18,
   "metadata": {},
   "outputs": [
    {
     "name": "stdout",
     "output_type": "stream",
     "text": [
      "<class 'pandas.core.frame.DataFrame'>\n",
      "RangeIndex: 221 entries, 0 to 220\n",
      "Data columns (total 5 columns):\n",
      " #   Column     Non-Null Count  Dtype         \n",
      "---  ------     --------------  -----         \n",
      " 0   OBJECTID   221 non-null    int64         \n",
      " 1   AgeGender  195 non-null    object        \n",
      " 2   Count_     208 non-null    float64       \n",
      " 3   Date       208 non-null    datetime64[ns]\n",
      " 4   SHAPE      221 non-null    geometry      \n",
      "dtypes: datetime64[ns](1), float64(1), geometry(1), int64(1), object(1)\n",
      "memory usage: 8.8+ KB\n"
     ]
    }
   ],
   "source": [
    "AgeGenderPoints_df.info()"
   ]
  },
  {
   "cell_type": "code",
   "execution_count": 19,
   "metadata": {},
   "outputs": [
    {
     "data": {
      "text/html": [
       "<div>\n",
       "<style scoped>\n",
       "    .dataframe tbody tr th:only-of-type {\n",
       "        vertical-align: middle;\n",
       "    }\n",
       "\n",
       "    .dataframe tbody tr th {\n",
       "        vertical-align: top;\n",
       "    }\n",
       "\n",
       "    .dataframe thead th {\n",
       "        text-align: right;\n",
       "    }\n",
       "</style>\n",
       "<table border=\"1\" class=\"dataframe\">\n",
       "  <thead>\n",
       "    <tr style=\"text-align: right;\">\n",
       "      <th></th>\n",
       "      <th>OBJECTID</th>\n",
       "      <th>AgeGender</th>\n",
       "      <th>Count_</th>\n",
       "      <th>Date</th>\n",
       "      <th>SHAPE</th>\n",
       "    </tr>\n",
       "  </thead>\n",
       "  <tbody>\n",
       "    <tr>\n",
       "      <th>0</th>\n",
       "      <td>1</td>\n",
       "      <td>0-9 years</td>\n",
       "      <td>0.0</td>\n",
       "      <td>2020-03-21</td>\n",
       "      <td>{\"x\": -13358931.007399999, \"y\": 3894443.792099...</td>\n",
       "    </tr>\n",
       "    <tr>\n",
       "      <th>1</th>\n",
       "      <td>2</td>\n",
       "      <td>10-19 years</td>\n",
       "      <td>2.0</td>\n",
       "      <td>2020-03-21</td>\n",
       "      <td>{\"x\": -13358931.007399999, \"y\": 3894443.792099...</td>\n",
       "    </tr>\n",
       "    <tr>\n",
       "      <th>2</th>\n",
       "      <td>3</td>\n",
       "      <td>20-29 years</td>\n",
       "      <td>27.0</td>\n",
       "      <td>2020-03-21</td>\n",
       "      <td>{\"x\": -13358931.007399999, \"y\": 3894443.792099...</td>\n",
       "    </tr>\n",
       "    <tr>\n",
       "      <th>3</th>\n",
       "      <td>4</td>\n",
       "      <td>30-39 years</td>\n",
       "      <td>37.0</td>\n",
       "      <td>2020-03-21</td>\n",
       "      <td>{\"x\": -13358931.007399999, \"y\": 3894443.792099...</td>\n",
       "    </tr>\n",
       "    <tr>\n",
       "      <th>4</th>\n",
       "      <td>5</td>\n",
       "      <td>40-49 years</td>\n",
       "      <td>29.0</td>\n",
       "      <td>2020-03-21</td>\n",
       "      <td>{\"x\": -13358931.007399999, \"y\": 3894443.792099...</td>\n",
       "    </tr>\n",
       "  </tbody>\n",
       "</table>\n",
       "</div>"
      ],
      "text/plain": [
       "   OBJECTID    AgeGender  Count_       Date  \\\n",
       "0         1    0-9 years     0.0 2020-03-21   \n",
       "1         2  10-19 years     2.0 2020-03-21   \n",
       "2         3  20-29 years    27.0 2020-03-21   \n",
       "3         4  30-39 years    37.0 2020-03-21   \n",
       "4         5  40-49 years    29.0 2020-03-21   \n",
       "\n",
       "                                               SHAPE  \n",
       "0  {\"x\": -13358931.007399999, \"y\": 3894443.792099...  \n",
       "1  {\"x\": -13358931.007399999, \"y\": 3894443.792099...  \n",
       "2  {\"x\": -13358931.007399999, \"y\": 3894443.792099...  \n",
       "3  {\"x\": -13358931.007399999, \"y\": 3894443.792099...  \n",
       "4  {\"x\": -13358931.007399999, \"y\": 3894443.792099...  "
      ]
     },
     "execution_count": 19,
     "metadata": {},
     "output_type": "execute_result"
    }
   ],
   "source": [
    "AgeGenderPoints_df.head()"
   ]
  },
  {
   "cell_type": "code",
   "execution_count": 20,
   "metadata": {},
   "outputs": [],
   "source": [
    "CompiledCopyDashUpdate_df = pd.DataFrame.spatial.from_layer(db_item.layers[3])"
   ]
  },
  {
   "cell_type": "code",
   "execution_count": 21,
   "metadata": {},
   "outputs": [
    {
     "name": "stdout",
     "output_type": "stream",
     "text": [
      "<class 'pandas.core.frame.DataFrame'>\n",
      "RangeIndex: 5453 entries, 0 to 5452\n",
      "Data columns (total 9 columns):\n",
      " #   Column          Non-Null Count  Dtype         \n",
      "---  ------          --------------  -----         \n",
      " 0   OBJECTID        5453 non-null   int64         \n",
      " 1   SHAPE           5450 non-null   geometry      \n",
      " 2   active          0 non-null      object        \n",
      " 3   confirmedcases  5451 non-null   float64       \n",
      " 4   deaths          0 non-null      object        \n",
      " 5   lastupdate      5453 non-null   datetime64[ns]\n",
      " 6   loctype         5453 non-null   object        \n",
      " 7   name            5453 non-null   object        \n",
      " 8   recovered       0 non-null      object        \n",
      "dtypes: datetime64[ns](1), float64(1), geometry(1), int64(1), object(5)\n",
      "memory usage: 383.5+ KB\n"
     ]
    }
   ],
   "source": [
    "CompiledCopyDashUpdate_df.info()"
   ]
  },
  {
   "cell_type": "code",
   "execution_count": 22,
   "metadata": {},
   "outputs": [
    {
     "data": {
      "text/html": [
       "<div>\n",
       "<style scoped>\n",
       "    .dataframe tbody tr th:only-of-type {\n",
       "        vertical-align: middle;\n",
       "    }\n",
       "\n",
       "    .dataframe tbody tr th {\n",
       "        vertical-align: top;\n",
       "    }\n",
       "\n",
       "    .dataframe thead th {\n",
       "        text-align: right;\n",
       "    }\n",
       "</style>\n",
       "<table border=\"1\" class=\"dataframe\">\n",
       "  <thead>\n",
       "    <tr style=\"text-align: right;\">\n",
       "      <th></th>\n",
       "      <th>OBJECTID</th>\n",
       "      <th>SHAPE</th>\n",
       "      <th>active</th>\n",
       "      <th>confirmedcases</th>\n",
       "      <th>deaths</th>\n",
       "      <th>lastupdate</th>\n",
       "      <th>loctype</th>\n",
       "      <th>name</th>\n",
       "      <th>recovered</th>\n",
       "    </tr>\n",
       "  </thead>\n",
       "  <tbody>\n",
       "    <tr>\n",
       "      <th>0</th>\n",
       "      <td>1</td>\n",
       "      <td>{\"x\": -13055943.7678, \"y\": 3911860.2880999967,...</td>\n",
       "      <td>None</td>\n",
       "      <td>15.0</td>\n",
       "      <td>None</td>\n",
       "      <td>2020-03-25 08:00:00</td>\n",
       "      <td>Incorporated City</td>\n",
       "      <td>CARLSBAD</td>\n",
       "      <td>None</td>\n",
       "    </tr>\n",
       "    <tr>\n",
       "      <th>1</th>\n",
       "      <td>2</td>\n",
       "      <td>{\"x\": -13025980.1151, \"y\": 3845995.7070999965,...</td>\n",
       "      <td>None</td>\n",
       "      <td>17.0</td>\n",
       "      <td>None</td>\n",
       "      <td>2020-03-25 08:00:00</td>\n",
       "      <td>Incorporated City</td>\n",
       "      <td>CHULA VISTA</td>\n",
       "      <td>None</td>\n",
       "    </tr>\n",
       "    <tr>\n",
       "      <th>2</th>\n",
       "      <td>3</td>\n",
       "      <td>{\"x\": -13040305.7757, \"y\": 3849683.3521, \"spat...</td>\n",
       "      <td>None</td>\n",
       "      <td>0.0</td>\n",
       "      <td>None</td>\n",
       "      <td>2020-03-25 08:00:00</td>\n",
       "      <td>Incorporated City</td>\n",
       "      <td>CORONADO</td>\n",
       "      <td>None</td>\n",
       "    </tr>\n",
       "    <tr>\n",
       "      <th>3</th>\n",
       "      <td>4</td>\n",
       "      <td>{\"x\": -13053598.1182, \"y\": 3890456.4196999967,...</td>\n",
       "      <td>None</td>\n",
       "      <td>5.0</td>\n",
       "      <td>None</td>\n",
       "      <td>2020-03-25 08:00:00</td>\n",
       "      <td>Incorporated City</td>\n",
       "      <td>DEL MAR</td>\n",
       "      <td>None</td>\n",
       "    </tr>\n",
       "    <tr>\n",
       "      <th>4</th>\n",
       "      <td>5</td>\n",
       "      <td>{\"x\": -13019977.8232, \"y\": 3869010.3783000037,...</td>\n",
       "      <td>None</td>\n",
       "      <td>19.0</td>\n",
       "      <td>None</td>\n",
       "      <td>2020-03-25 08:00:00</td>\n",
       "      <td>Incorporated City</td>\n",
       "      <td>EL CAJON</td>\n",
       "      <td>None</td>\n",
       "    </tr>\n",
       "  </tbody>\n",
       "</table>\n",
       "</div>"
      ],
      "text/plain": [
       "   OBJECTID                                              SHAPE active  \\\n",
       "0         1  {\"x\": -13055943.7678, \"y\": 3911860.2880999967,...   None   \n",
       "1         2  {\"x\": -13025980.1151, \"y\": 3845995.7070999965,...   None   \n",
       "2         3  {\"x\": -13040305.7757, \"y\": 3849683.3521, \"spat...   None   \n",
       "3         4  {\"x\": -13053598.1182, \"y\": 3890456.4196999967,...   None   \n",
       "4         5  {\"x\": -13019977.8232, \"y\": 3869010.3783000037,...   None   \n",
       "\n",
       "   confirmedcases deaths          lastupdate            loctype         name  \\\n",
       "0            15.0   None 2020-03-25 08:00:00  Incorporated City     CARLSBAD   \n",
       "1            17.0   None 2020-03-25 08:00:00  Incorporated City  CHULA VISTA   \n",
       "2             0.0   None 2020-03-25 08:00:00  Incorporated City     CORONADO   \n",
       "3             5.0   None 2020-03-25 08:00:00  Incorporated City      DEL MAR   \n",
       "4            19.0   None 2020-03-25 08:00:00  Incorporated City     EL CAJON   \n",
       "\n",
       "  recovered  \n",
       "0      None  \n",
       "1      None  \n",
       "2      None  \n",
       "3      None  \n",
       "4      None  "
      ]
     },
     "execution_count": 22,
     "metadata": {},
     "output_type": "execute_result"
    }
   ],
   "source": [
    "CompiledCopyDashUpdate_df.head()"
   ]
  },
  {
   "cell_type": "code",
   "execution_count": null,
   "metadata": {},
   "outputs": [],
   "source": []
  },
  {
   "cell_type": "code",
   "execution_count": null,
   "metadata": {},
   "outputs": [],
   "source": []
  }
 ],
 "metadata": {
  "kernelspec": {
   "display_name": "Python 3",
   "language": "python",
   "name": "python3"
  },
  "language_info": {
   "codemirror_mode": {
    "name": "ipython",
    "version": 3
   },
   "file_extension": ".py",
   "mimetype": "text/x-python",
   "name": "python",
   "nbconvert_exporter": "python",
   "pygments_lexer": "ipython3",
   "version": "3.8.3"
  }
 },
 "nbformat": 4,
 "nbformat_minor": 4
}

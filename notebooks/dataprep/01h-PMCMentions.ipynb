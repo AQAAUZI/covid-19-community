{
 "cells": [
  {
   "cell_type": "markdown",
   "metadata": {},
   "source": [
    "# Load Accession Numbers Mappings\n",
    "**[Work in progress]**\n",
    "\n",
    "This notebook downloads and standardizes accession numbers from life science and biological databases textmined from PubMedCentral full text articles by [Europe PMC](https://europepmc.org/) for ingestion into a Knowledge Graph.\n",
    "\n",
    "Data source: [Europe PMC](ftp://ftp.ebi.ac.uk/pub/databases/pmc/TextMinedTerms/)\n",
    "\n",
    "Author: Peter Rose (pwrose@ucsd.edu)"
   ]
  },
  {
   "cell_type": "code",
   "execution_count": 1,
   "metadata": {},
   "outputs": [],
   "source": [
    "import os\n",
    "import pandas as pd\n",
    "import dateutil\n",
    "from pathlib import Path"
   ]
  },
  {
   "cell_type": "code",
   "execution_count": 2,
   "metadata": {},
   "outputs": [],
   "source": [
    "pd.options.display.max_rows = None  # display all rows\n",
    "pd.options.display.max_columns = None  # display all columsns"
   ]
  },
  {
   "cell_type": "code",
   "execution_count": 3,
   "metadata": {},
   "outputs": [],
   "source": [
    "ftp = 'ftp://ftp.ebi.ac.uk/pub/databases/pmc/TextMinedTerms/'"
   ]
  },
  {
   "cell_type": "code",
   "execution_count": 4,
   "metadata": {},
   "outputs": [
    {
     "name": "stdout",
     "output_type": "stream",
     "text": [
      "/Users/peter/Library/Application Support/com.Neo4j.Relate/data/dbmss/dbms-8bf637fc-0d20-4d9f-9c6f-f7e72e92a4da/import\n"
     ]
    }
   ],
   "source": [
    "NEO4J_IMPORT = Path(os.getenv('NEO4J_IMPORT'))\n",
    "print(NEO4J_IMPORT)"
   ]
  },
  {
   "cell_type": "code",
   "execution_count": null,
   "metadata": {},
   "outputs": [],
   "source": []
  },
  {
   "cell_type": "markdown",
   "metadata": {},
   "source": [
    "## Assign unique identifiers for interoperabilitiy\n",
    "A [CURIE](https://en.wikipedia.org/wiki/CURIE) (Compact URI) is a compact abbreviation for Uniform Resource Identifiers (URIs). CURIEs consist of registered prefix and an accession number (prefix:accession). They provide a name space for identifiers to enable uniqueness of identifiers and interoperability among data resources.\n",
    "\n",
    "[Identifiers.org](http://identifiers.org/) provides a registry and resolution service for life science CURIEs. "
   ]
  },
  {
   "cell_type": "code",
   "execution_count": 5,
   "metadata": {},
   "outputs": [],
   "source": [
    "def assign_publication_id(row):\n",
    "    if row['PMCID'] != '':\n",
    "        # CURIE: pmc (PubMed Central, PMC)\n",
    "        return 'pmc:' + str(row['PMCID'])\n",
    "    elif row['SOURCE'] == 'PPR':\n",
    "        # no CURIE available, use URI for preprints\n",
    "        return 'https://europepmc.org/article/PPR/' + row['EXTID']\n",
    "    else:\n",
    "        return ''"
   ]
  },
  {
   "cell_type": "markdown",
   "metadata": {},
   "source": [
    "### UniProt\n",
    "**accession**: CURIE: [uniprot](https://registry.identifiers.org/registry/uniprot) ( UniProt Knowledgebase, UniProtKB)"
   ]
  },
  {
   "cell_type": "code",
   "execution_count": 6,
   "metadata": {},
   "outputs": [],
   "source": [
    "uniprot = pd.read_csv(ftp + \"uniprot.csv\", dtype=str)\n",
    "uniprot.fillna('', inplace=True)"
   ]
  },
  {
   "cell_type": "code",
   "execution_count": 7,
   "metadata": {},
   "outputs": [],
   "source": [
    "uniprot['id'] = uniprot.apply(assign_publication_id, axis=1)\n",
    "uniprot['accession'] = 'uniprot:' + uniprot['uniprot']\n",
    "uniprot = uniprot[['id','accession']]\n",
    "uniprot.query(\"id != ''\", inplace=True)"
   ]
  },
  {
   "cell_type": "code",
   "execution_count": 8,
   "metadata": {},
   "outputs": [
    {
     "data": {
      "text/plain": [
       "(387031, 2)"
      ]
     },
     "execution_count": 8,
     "metadata": {},
     "output_type": "execute_result"
    }
   ],
   "source": [
    "uniprot.shape"
   ]
  },
  {
   "cell_type": "markdown",
   "metadata": {},
   "source": [
    "### NCBI Reference Sequences\n",
    "**accession**: CURIE: [refseq](https://registry.identifiers.org/registry/refseq) (NCBI Reference Sequences, Refseq)"
   ]
  },
  {
   "cell_type": "code",
   "execution_count": 9,
   "metadata": {},
   "outputs": [
    {
     "data": {
      "text/html": [
       "<div>\n",
       "<style scoped>\n",
       "    .dataframe tbody tr th:only-of-type {\n",
       "        vertical-align: middle;\n",
       "    }\n",
       "\n",
       "    .dataframe tbody tr th {\n",
       "        vertical-align: top;\n",
       "    }\n",
       "\n",
       "    .dataframe thead th {\n",
       "        text-align: right;\n",
       "    }\n",
       "</style>\n",
       "<table border=\"1\" class=\"dataframe\">\n",
       "  <thead>\n",
       "    <tr style=\"text-align: right;\">\n",
       "      <th></th>\n",
       "      <th>refseq</th>\n",
       "      <th>PMCID</th>\n",
       "      <th>EXTID</th>\n",
       "      <th>SOURCE</th>\n",
       "    </tr>\n",
       "  </thead>\n",
       "  <tbody>\n",
       "    <tr>\n",
       "      <th>0</th>\n",
       "      <td>NM_015973</td>\n",
       "      <td>PMC7512552</td>\n",
       "      <td>32963006</td>\n",
       "      <td>MED</td>\n",
       "    </tr>\n",
       "    <tr>\n",
       "      <th>1</th>\n",
       "      <td>NM_001789</td>\n",
       "      <td>PMC7512552</td>\n",
       "      <td>32963006</td>\n",
       "      <td>MED</td>\n",
       "    </tr>\n",
       "    <tr>\n",
       "      <th>2</th>\n",
       "      <td>NM_001008708</td>\n",
       "      <td>PMC7512552</td>\n",
       "      <td>32963006</td>\n",
       "      <td>MED</td>\n",
       "    </tr>\n",
       "    <tr>\n",
       "      <th>3</th>\n",
       "      <td>NM_001100625</td>\n",
       "      <td>PMC7512552</td>\n",
       "      <td>32963006</td>\n",
       "      <td>MED</td>\n",
       "    </tr>\n",
       "    <tr>\n",
       "      <th>4</th>\n",
       "      <td>NM_018455</td>\n",
       "      <td>PMC7512552</td>\n",
       "      <td>32963006</td>\n",
       "      <td>MED</td>\n",
       "    </tr>\n",
       "  </tbody>\n",
       "</table>\n",
       "</div>"
      ],
      "text/plain": [
       "         refseq       PMCID     EXTID SOURCE\n",
       "0     NM_015973  PMC7512552  32963006    MED\n",
       "1     NM_001789  PMC7512552  32963006    MED\n",
       "2  NM_001008708  PMC7512552  32963006    MED\n",
       "3  NM_001100625  PMC7512552  32963006    MED\n",
       "4     NM_018455  PMC7512552  32963006    MED"
      ]
     },
     "execution_count": 9,
     "metadata": {},
     "output_type": "execute_result"
    }
   ],
   "source": [
    "refseq = pd.read_csv(ftp + \"refseq.csv\", dtype=str)\n",
    "refseq.fillna('', inplace=True)\n",
    "refseq.head()"
   ]
  },
  {
   "cell_type": "code",
   "execution_count": 10,
   "metadata": {},
   "outputs": [],
   "source": [
    "refseq['id'] = refseq.apply(assign_publication_id, axis=1)\n",
    "# Remove version number from refseq to match to the latest version\n",
    "refseq['accession'] = 'refseq:' + refseq['refseq'].str.split('.', expand=True)[0]\n",
    "refseq = refseq[['id','accession']]\n",
    "refseq.query(\"id != ''\", inplace=True)"
   ]
  },
  {
   "cell_type": "code",
   "execution_count": 11,
   "metadata": {},
   "outputs": [
    {
     "data": {
      "text/plain": [
       "(313536, 2)"
      ]
     },
     "execution_count": 11,
     "metadata": {},
     "output_type": "execute_result"
    }
   ],
   "source": [
    "refseq.shape"
   ]
  },
  {
   "cell_type": "markdown",
   "metadata": {},
   "source": [
    "### GISAID Genome Sequences\n",
    "**id**: CURIE: [pmc](https://registry.identifiers.org/registry/pmc) (PubMed Central, PMC)\n",
    "\n",
    "**accession**: URI: [https://www.gisaid.org/](https://www.gisaid.org/help/publish-with-gisaid-references) (Global Initiative on Sharing All Influenza Data, GISAID)\n"
   ]
  },
  {
   "cell_type": "code",
   "execution_count": 12,
   "metadata": {},
   "outputs": [],
   "source": [
    "gisaid = pd.read_csv(ftp + \"gisaid.csv\", dtype=str)\n",
    "gisaid.fillna('', inplace=True)"
   ]
  },
  {
   "cell_type": "code",
   "execution_count": 13,
   "metadata": {},
   "outputs": [],
   "source": [
    "gisaid['id'] = gisaid.apply(assign_publication_id, axis=1)"
   ]
  },
  {
   "cell_type": "code",
   "execution_count": 14,
   "metadata": {},
   "outputs": [],
   "source": [
    "gisaid['accession'] = 'https://www.gisaid.org/' + gisaid['gisaid']\n",
    "gisaid = gisaid[['id','accession']]\n",
    "gisaid.query(\"id != ''\", inplace=True)"
   ]
  },
  {
   "cell_type": "code",
   "execution_count": 15,
   "metadata": {},
   "outputs": [
    {
     "data": {
      "text/plain": [
       "(6696, 2)"
      ]
     },
     "execution_count": 15,
     "metadata": {},
     "output_type": "execute_result"
    }
   ],
   "source": [
    "gisaid.shape"
   ]
  },
  {
   "cell_type": "markdown",
   "metadata": {},
   "source": [
    "### Protein Data Bank\n",
    "**accession**: CURIE: [pdb](https://registry.identifiers.org/registry/pdb) (Protein Data Bank, PDB)"
   ]
  },
  {
   "cell_type": "code",
   "execution_count": 16,
   "metadata": {},
   "outputs": [],
   "source": [
    "pdb = pd.read_csv(ftp + \"pdb.csv\", dtype=str)\n",
    "pdb.fillna('', inplace=True)"
   ]
  },
  {
   "cell_type": "code",
   "execution_count": 17,
   "metadata": {},
   "outputs": [],
   "source": [
    "pdb['id'] = pdb.apply(assign_publication_id, axis=1)\n",
    "pdb['accession'] = 'pdb:' + pdb['pdb']\n",
    "pdb = pdb[['id','accession']]\n",
    "pdb.query(\"id != ''\", inplace=True)"
   ]
  },
  {
   "cell_type": "code",
   "execution_count": 18,
   "metadata": {},
   "outputs": [
    {
     "data": {
      "text/plain": [
       "(522980, 2)"
      ]
     },
     "execution_count": 18,
     "metadata": {},
     "output_type": "execute_result"
    }
   ],
   "source": [
    "pdb.shape"
   ]
  },
  {
   "cell_type": "markdown",
   "metadata": {},
   "source": [
    "# Match Dataset Mentions"
   ]
  },
  {
   "cell_type": "markdown",
   "metadata": {},
   "source": [
    "### Match by UniProt accessions"
   ]
  },
  {
   "cell_type": "code",
   "execution_count": 19,
   "metadata": {},
   "outputs": [
    {
     "data": {
      "text/html": [
       "<div>\n",
       "<style scoped>\n",
       "    .dataframe tbody tr th:only-of-type {\n",
       "        vertical-align: middle;\n",
       "    }\n",
       "\n",
       "    .dataframe tbody tr th {\n",
       "        vertical-align: top;\n",
       "    }\n",
       "\n",
       "    .dataframe thead th {\n",
       "        text-align: right;\n",
       "    }\n",
       "</style>\n",
       "<table border=\"1\" class=\"dataframe\">\n",
       "  <thead>\n",
       "    <tr style=\"text-align: right;\">\n",
       "      <th></th>\n",
       "      <th>accession</th>\n",
       "    </tr>\n",
       "  </thead>\n",
       "  <tbody>\n",
       "    <tr>\n",
       "      <th>0</th>\n",
       "      <td>uniprot:P0DTD1</td>\n",
       "    </tr>\n",
       "    <tr>\n",
       "      <th>16</th>\n",
       "      <td>uniprot:P0DTC7</td>\n",
       "    </tr>\n",
       "    <tr>\n",
       "      <th>18</th>\n",
       "      <td>uniprot:P0DTD2</td>\n",
       "    </tr>\n",
       "    <tr>\n",
       "      <th>19</th>\n",
       "      <td>uniprot:P0DTC9</td>\n",
       "    </tr>\n",
       "    <tr>\n",
       "      <th>20</th>\n",
       "      <td>uniprot:P0DTC3</td>\n",
       "    </tr>\n",
       "  </tbody>\n",
       "</table>\n",
       "</div>"
      ],
      "text/plain": [
       "         accession\n",
       "0   uniprot:P0DTD1\n",
       "16  uniprot:P0DTC7\n",
       "18  uniprot:P0DTD2\n",
       "19  uniprot:P0DTC9\n",
       "20  uniprot:P0DTC3"
      ]
     },
     "execution_count": 19,
     "metadata": {},
     "output_type": "execute_result"
    }
   ],
   "source": [
    "ref1 = pd.read_csv(NEO4J_IMPORT / \"01a-UniProtProtein.csv\")\n",
    "ref1 = ref1[['accession']]\n",
    "ref1 = ref1.drop_duplicates()\n",
    "ref1.head()"
   ]
  },
  {
   "cell_type": "code",
   "execution_count": 20,
   "metadata": {},
   "outputs": [],
   "source": [
    "pmc_uniprot = pd.merge(uniprot, ref1, on='accession')"
   ]
  },
  {
   "cell_type": "code",
   "execution_count": 21,
   "metadata": {},
   "outputs": [],
   "source": [
    "pmc_uniprot.to_csv(NEO4J_IMPORT / \"01h-PMC-UniProtProtein.csv\", index=False)"
   ]
  },
  {
   "cell_type": "code",
   "execution_count": 22,
   "metadata": {},
   "outputs": [
    {
     "name": "stdout",
     "output_type": "stream",
     "text": [
      "UniProt mentions: 161184\n"
     ]
    }
   ],
   "source": [
    "print('UniProt mentions:', pmc_uniprot.shape[0])"
   ]
  },
  {
   "cell_type": "code",
   "execution_count": 23,
   "metadata": {},
   "outputs": [
    {
     "data": {
      "text/html": [
       "<div>\n",
       "<style scoped>\n",
       "    .dataframe tbody tr th:only-of-type {\n",
       "        vertical-align: middle;\n",
       "    }\n",
       "\n",
       "    .dataframe tbody tr th {\n",
       "        vertical-align: top;\n",
       "    }\n",
       "\n",
       "    .dataframe thead th {\n",
       "        text-align: right;\n",
       "    }\n",
       "</style>\n",
       "<table border=\"1\" class=\"dataframe\">\n",
       "  <thead>\n",
       "    <tr style=\"text-align: right;\">\n",
       "      <th></th>\n",
       "      <th>id</th>\n",
       "      <th>accession</th>\n",
       "    </tr>\n",
       "  </thead>\n",
       "  <tbody>\n",
       "    <tr>\n",
       "      <th>0</th>\n",
       "      <td>pmc:PMC6713643</td>\n",
       "      <td>uniprot:P24385</td>\n",
       "    </tr>\n",
       "    <tr>\n",
       "      <th>1</th>\n",
       "      <td>pmc:PMC5761900</td>\n",
       "      <td>uniprot:P24385</td>\n",
       "    </tr>\n",
       "    <tr>\n",
       "      <th>2</th>\n",
       "      <td>pmc:PMC3275796</td>\n",
       "      <td>uniprot:P24385</td>\n",
       "    </tr>\n",
       "    <tr>\n",
       "      <th>3</th>\n",
       "      <td>pmc:PMC4823807</td>\n",
       "      <td>uniprot:P24385</td>\n",
       "    </tr>\n",
       "    <tr>\n",
       "      <th>4</th>\n",
       "      <td>pmc:PMC5474285</td>\n",
       "      <td>uniprot:P24385</td>\n",
       "    </tr>\n",
       "  </tbody>\n",
       "</table>\n",
       "</div>"
      ],
      "text/plain": [
       "               id       accession\n",
       "0  pmc:PMC6713643  uniprot:P24385\n",
       "1  pmc:PMC5761900  uniprot:P24385\n",
       "2  pmc:PMC3275796  uniprot:P24385\n",
       "3  pmc:PMC4823807  uniprot:P24385\n",
       "4  pmc:PMC5474285  uniprot:P24385"
      ]
     },
     "execution_count": 23,
     "metadata": {},
     "output_type": "execute_result"
    }
   ],
   "source": [
    "pmc_uniprot.head()"
   ]
  },
  {
   "cell_type": "markdown",
   "metadata": {},
   "source": [
    "### Match Strains by NCBI refSeq and GISAID accessions"
   ]
  },
  {
   "cell_type": "code",
   "execution_count": 24,
   "metadata": {},
   "outputs": [],
   "source": [
    "ref2 = pd.read_csv(NEO4J_IMPORT / \"01c-CNCBStrain.csv\")"
   ]
  },
  {
   "cell_type": "code",
   "execution_count": 25,
   "metadata": {},
   "outputs": [
    {
     "data": {
      "text/html": [
       "<div>\n",
       "<style scoped>\n",
       "    .dataframe tbody tr th:only-of-type {\n",
       "        vertical-align: middle;\n",
       "    }\n",
       "\n",
       "    .dataframe tbody tr th {\n",
       "        vertical-align: top;\n",
       "    }\n",
       "\n",
       "    .dataframe thead th {\n",
       "        text-align: right;\n",
       "    }\n",
       "</style>\n",
       "<table border=\"1\" class=\"dataframe\">\n",
       "  <thead>\n",
       "    <tr style=\"text-align: right;\">\n",
       "      <th></th>\n",
       "      <th>primaryAccession</th>\n",
       "      <th>secondaryAccession</th>\n",
       "    </tr>\n",
       "  </thead>\n",
       "  <tbody>\n",
       "    <tr>\n",
       "      <th>0</th>\n",
       "      <td>https://www.gisaid.org/EPI_ISL_402132</td>\n",
       "      <td>NMDC60013088-01</td>\n",
       "    </tr>\n",
       "    <tr>\n",
       "      <th>0</th>\n",
       "      <td>https://www.gisaid.org/EPI_ISL_402132</td>\n",
       "      <td>https://www.gisaid.org/EPI_ISL_402132</td>\n",
       "    </tr>\n",
       "    <tr>\n",
       "      <th>1</th>\n",
       "      <td>https://www.gisaid.org/EPI_ISL_403963</td>\n",
       "      <td>https://www.gisaid.org/EPI_ISL_403963</td>\n",
       "    </tr>\n",
       "    <tr>\n",
       "      <th>2</th>\n",
       "      <td>https://www.gisaid.org/EPI_ISL_403962</td>\n",
       "      <td>https://www.gisaid.org/EPI_ISL_403962</td>\n",
       "    </tr>\n",
       "    <tr>\n",
       "      <th>3</th>\n",
       "      <td>https://www.gisaid.org/EPI_ISL_402120</td>\n",
       "      <td>NMDC60013085-01</td>\n",
       "    </tr>\n",
       "  </tbody>\n",
       "</table>\n",
       "</div>"
      ],
      "text/plain": [
       "                        primaryAccession  \\\n",
       "0  https://www.gisaid.org/EPI_ISL_402132   \n",
       "0  https://www.gisaid.org/EPI_ISL_402132   \n",
       "1  https://www.gisaid.org/EPI_ISL_403963   \n",
       "2  https://www.gisaid.org/EPI_ISL_403962   \n",
       "3  https://www.gisaid.org/EPI_ISL_402120   \n",
       "\n",
       "                      secondaryAccession  \n",
       "0                        NMDC60013088-01  \n",
       "0  https://www.gisaid.org/EPI_ISL_402132  \n",
       "1  https://www.gisaid.org/EPI_ISL_403963  \n",
       "2  https://www.gisaid.org/EPI_ISL_403962  \n",
       "3                        NMDC60013085-01  "
      ]
     },
     "execution_count": 25,
     "metadata": {},
     "output_type": "execute_result"
    }
   ],
   "source": [
    "ref2['secondaryAccession'] = ref2['accessions'].str.split(';')\n",
    "ref2 = ref2.explode('secondaryAccession')\n",
    "ref2.rename(columns={'id': 'primaryAccession'}, inplace=True)\n",
    "ref2 = ref2[['primaryAccession', 'secondaryAccession']]\n",
    "ref2 = ref2.drop_duplicates()\n",
    "ref2.head()"
   ]
  },
  {
   "cell_type": "code",
   "execution_count": 26,
   "metadata": {},
   "outputs": [],
   "source": [
    "pmc_cncb1 = pd.merge(refseq, ref2, left_on='accession', right_on='secondaryAccession')"
   ]
  },
  {
   "cell_type": "code",
   "execution_count": 27,
   "metadata": {},
   "outputs": [
    {
     "data": {
      "text/html": [
       "<div>\n",
       "<style scoped>\n",
       "    .dataframe tbody tr th:only-of-type {\n",
       "        vertical-align: middle;\n",
       "    }\n",
       "\n",
       "    .dataframe tbody tr th {\n",
       "        vertical-align: top;\n",
       "    }\n",
       "\n",
       "    .dataframe thead th {\n",
       "        text-align: right;\n",
       "    }\n",
       "</style>\n",
       "<table border=\"1\" class=\"dataframe\">\n",
       "  <thead>\n",
       "    <tr style=\"text-align: right;\">\n",
       "      <th></th>\n",
       "      <th>id</th>\n",
       "      <th>accession</th>\n",
       "      <th>primaryAccession</th>\n",
       "      <th>secondaryAccession</th>\n",
       "    </tr>\n",
       "  </thead>\n",
       "  <tbody>\n",
       "    <tr>\n",
       "      <th>0</th>\n",
       "      <td>pmc:PMC7596387</td>\n",
       "      <td>refseq:NC_045512</td>\n",
       "      <td>insdc:MN908947</td>\n",
       "      <td>refseq:NC_045512</td>\n",
       "    </tr>\n",
       "    <tr>\n",
       "      <th>1</th>\n",
       "      <td>pmc:PMC7290700</td>\n",
       "      <td>refseq:NC_045512</td>\n",
       "      <td>insdc:MN908947</td>\n",
       "      <td>refseq:NC_045512</td>\n",
       "    </tr>\n",
       "    <tr>\n",
       "      <th>2</th>\n",
       "      <td>https://europepmc.org/article/PPR/PPR204419</td>\n",
       "      <td>refseq:NC_045512</td>\n",
       "      <td>insdc:MN908947</td>\n",
       "      <td>refseq:NC_045512</td>\n",
       "    </tr>\n",
       "    <tr>\n",
       "      <th>3</th>\n",
       "      <td>https://europepmc.org/article/PPR/PPR227723</td>\n",
       "      <td>refseq:NC_045512</td>\n",
       "      <td>insdc:MN908947</td>\n",
       "      <td>refseq:NC_045512</td>\n",
       "    </tr>\n",
       "    <tr>\n",
       "      <th>4</th>\n",
       "      <td>https://europepmc.org/article/PPR/PPR199641</td>\n",
       "      <td>refseq:NC_045512</td>\n",
       "      <td>insdc:MN908947</td>\n",
       "      <td>refseq:NC_045512</td>\n",
       "    </tr>\n",
       "  </tbody>\n",
       "</table>\n",
       "</div>"
      ],
      "text/plain": [
       "                                            id         accession  \\\n",
       "0                               pmc:PMC7596387  refseq:NC_045512   \n",
       "1                               pmc:PMC7290700  refseq:NC_045512   \n",
       "2  https://europepmc.org/article/PPR/PPR204419  refseq:NC_045512   \n",
       "3  https://europepmc.org/article/PPR/PPR227723  refseq:NC_045512   \n",
       "4  https://europepmc.org/article/PPR/PPR199641  refseq:NC_045512   \n",
       "\n",
       "  primaryAccession secondaryAccession  \n",
       "0   insdc:MN908947   refseq:NC_045512  \n",
       "1   insdc:MN908947   refseq:NC_045512  \n",
       "2   insdc:MN908947   refseq:NC_045512  \n",
       "3   insdc:MN908947   refseq:NC_045512  \n",
       "4   insdc:MN908947   refseq:NC_045512  "
      ]
     },
     "execution_count": 27,
     "metadata": {},
     "output_type": "execute_result"
    }
   ],
   "source": [
    "pmc_cncb1.head()"
   ]
  },
  {
   "cell_type": "markdown",
   "metadata": {},
   "source": [
    "Use primary accession to establish linkage"
   ]
  },
  {
   "cell_type": "code",
   "execution_count": 28,
   "metadata": {},
   "outputs": [],
   "source": [
    "pmc_cncb1['accession'] = pmc_cncb1['primaryAccession']"
   ]
  },
  {
   "cell_type": "code",
   "execution_count": 29,
   "metadata": {},
   "outputs": [],
   "source": [
    "pmc_cncb1 = pmc_cncb1[['id', 'accession']]"
   ]
  },
  {
   "cell_type": "code",
   "execution_count": 30,
   "metadata": {},
   "outputs": [
    {
     "name": "stdout",
     "output_type": "stream",
     "text": [
      "regseq mentions: 629\n"
     ]
    }
   ],
   "source": [
    "print('regseq mentions:', pmc_cncb1.shape[0])"
   ]
  },
  {
   "cell_type": "code",
   "execution_count": 31,
   "metadata": {},
   "outputs": [
    {
     "data": {
      "text/html": [
       "<div>\n",
       "<style scoped>\n",
       "    .dataframe tbody tr th:only-of-type {\n",
       "        vertical-align: middle;\n",
       "    }\n",
       "\n",
       "    .dataframe tbody tr th {\n",
       "        vertical-align: top;\n",
       "    }\n",
       "\n",
       "    .dataframe thead th {\n",
       "        text-align: right;\n",
       "    }\n",
       "</style>\n",
       "<table border=\"1\" class=\"dataframe\">\n",
       "  <thead>\n",
       "    <tr style=\"text-align: right;\">\n",
       "      <th></th>\n",
       "      <th>id</th>\n",
       "      <th>accession</th>\n",
       "    </tr>\n",
       "  </thead>\n",
       "  <tbody>\n",
       "    <tr>\n",
       "      <th>0</th>\n",
       "      <td>pmc:PMC7596387</td>\n",
       "      <td>insdc:MN908947</td>\n",
       "    </tr>\n",
       "    <tr>\n",
       "      <th>1</th>\n",
       "      <td>pmc:PMC7290700</td>\n",
       "      <td>insdc:MN908947</td>\n",
       "    </tr>\n",
       "    <tr>\n",
       "      <th>2</th>\n",
       "      <td>https://europepmc.org/article/PPR/PPR204419</td>\n",
       "      <td>insdc:MN908947</td>\n",
       "    </tr>\n",
       "    <tr>\n",
       "      <th>3</th>\n",
       "      <td>https://europepmc.org/article/PPR/PPR227723</td>\n",
       "      <td>insdc:MN908947</td>\n",
       "    </tr>\n",
       "    <tr>\n",
       "      <th>4</th>\n",
       "      <td>https://europepmc.org/article/PPR/PPR199641</td>\n",
       "      <td>insdc:MN908947</td>\n",
       "    </tr>\n",
       "  </tbody>\n",
       "</table>\n",
       "</div>"
      ],
      "text/plain": [
       "                                            id       accession\n",
       "0                               pmc:PMC7596387  insdc:MN908947\n",
       "1                               pmc:PMC7290700  insdc:MN908947\n",
       "2  https://europepmc.org/article/PPR/PPR204419  insdc:MN908947\n",
       "3  https://europepmc.org/article/PPR/PPR227723  insdc:MN908947\n",
       "4  https://europepmc.org/article/PPR/PPR199641  insdc:MN908947"
      ]
     },
     "execution_count": 31,
     "metadata": {},
     "output_type": "execute_result"
    }
   ],
   "source": [
    "pmc_cncb1.head()"
   ]
  },
  {
   "cell_type": "code",
   "execution_count": 32,
   "metadata": {},
   "outputs": [],
   "source": [
    "pmc_cncb2 = pd.merge(gisaid, ref2, left_on='accession', right_on='secondaryAccession')"
   ]
  },
  {
   "cell_type": "code",
   "execution_count": 33,
   "metadata": {},
   "outputs": [
    {
     "data": {
      "text/html": [
       "<div>\n",
       "<style scoped>\n",
       "    .dataframe tbody tr th:only-of-type {\n",
       "        vertical-align: middle;\n",
       "    }\n",
       "\n",
       "    .dataframe tbody tr th {\n",
       "        vertical-align: top;\n",
       "    }\n",
       "\n",
       "    .dataframe thead th {\n",
       "        text-align: right;\n",
       "    }\n",
       "</style>\n",
       "<table border=\"1\" class=\"dataframe\">\n",
       "  <thead>\n",
       "    <tr style=\"text-align: right;\">\n",
       "      <th></th>\n",
       "      <th>id</th>\n",
       "      <th>accession</th>\n",
       "      <th>primaryAccession</th>\n",
       "      <th>secondaryAccession</th>\n",
       "    </tr>\n",
       "  </thead>\n",
       "  <tbody>\n",
       "    <tr>\n",
       "      <th>0</th>\n",
       "      <td>https://europepmc.org/article/PPR/PPR167663</td>\n",
       "      <td>https://www.gisaid.org/EPI_ISL_402131</td>\n",
       "      <td>GWHABKP00000001</td>\n",
       "      <td>https://www.gisaid.org/EPI_ISL_402131</td>\n",
       "    </tr>\n",
       "    <tr>\n",
       "      <th>1</th>\n",
       "      <td>pmc:PMC7166309</td>\n",
       "      <td>https://www.gisaid.org/EPI_ISL_402131</td>\n",
       "      <td>GWHABKP00000001</td>\n",
       "      <td>https://www.gisaid.org/EPI_ISL_402131</td>\n",
       "    </tr>\n",
       "    <tr>\n",
       "      <th>2</th>\n",
       "      <td>https://europepmc.org/article/PPR/PPR190800</td>\n",
       "      <td>https://www.gisaid.org/EPI_ISL_402131</td>\n",
       "      <td>GWHABKP00000001</td>\n",
       "      <td>https://www.gisaid.org/EPI_ISL_402131</td>\n",
       "    </tr>\n",
       "    <tr>\n",
       "      <th>3</th>\n",
       "      <td>pmc:PMC7497811</td>\n",
       "      <td>https://www.gisaid.org/EPI_ISL_402131</td>\n",
       "      <td>GWHABKP00000001</td>\n",
       "      <td>https://www.gisaid.org/EPI_ISL_402131</td>\n",
       "    </tr>\n",
       "    <tr>\n",
       "      <th>4</th>\n",
       "      <td>pmc:PMC7205519</td>\n",
       "      <td>https://www.gisaid.org/EPI_ISL_402131</td>\n",
       "      <td>GWHABKP00000001</td>\n",
       "      <td>https://www.gisaid.org/EPI_ISL_402131</td>\n",
       "    </tr>\n",
       "  </tbody>\n",
       "</table>\n",
       "</div>"
      ],
      "text/plain": [
       "                                            id  \\\n",
       "0  https://europepmc.org/article/PPR/PPR167663   \n",
       "1                               pmc:PMC7166309   \n",
       "2  https://europepmc.org/article/PPR/PPR190800   \n",
       "3                               pmc:PMC7497811   \n",
       "4                               pmc:PMC7205519   \n",
       "\n",
       "                               accession primaryAccession  \\\n",
       "0  https://www.gisaid.org/EPI_ISL_402131  GWHABKP00000001   \n",
       "1  https://www.gisaid.org/EPI_ISL_402131  GWHABKP00000001   \n",
       "2  https://www.gisaid.org/EPI_ISL_402131  GWHABKP00000001   \n",
       "3  https://www.gisaid.org/EPI_ISL_402131  GWHABKP00000001   \n",
       "4  https://www.gisaid.org/EPI_ISL_402131  GWHABKP00000001   \n",
       "\n",
       "                      secondaryAccession  \n",
       "0  https://www.gisaid.org/EPI_ISL_402131  \n",
       "1  https://www.gisaid.org/EPI_ISL_402131  \n",
       "2  https://www.gisaid.org/EPI_ISL_402131  \n",
       "3  https://www.gisaid.org/EPI_ISL_402131  \n",
       "4  https://www.gisaid.org/EPI_ISL_402131  "
      ]
     },
     "execution_count": 33,
     "metadata": {},
     "output_type": "execute_result"
    }
   ],
   "source": [
    "pmc_cncb2.head()"
   ]
  },
  {
   "cell_type": "code",
   "execution_count": 34,
   "metadata": {},
   "outputs": [],
   "source": [
    "pmc_cncb2['accession'] = pmc_cncb2['primaryAccession']"
   ]
  },
  {
   "cell_type": "code",
   "execution_count": 35,
   "metadata": {},
   "outputs": [],
   "source": [
    "pmc_cncb2 = pmc_cncb2[['id', 'accession']]"
   ]
  },
  {
   "cell_type": "code",
   "execution_count": 36,
   "metadata": {},
   "outputs": [
    {
     "name": "stdout",
     "output_type": "stream",
     "text": [
      "GISAID mentions: 2840\n"
     ]
    }
   ],
   "source": [
    "print('GISAID mentions:', pmc_cncb2.shape[0])"
   ]
  },
  {
   "cell_type": "code",
   "execution_count": 37,
   "metadata": {},
   "outputs": [
    {
     "data": {
      "text/html": [
       "<div>\n",
       "<style scoped>\n",
       "    .dataframe tbody tr th:only-of-type {\n",
       "        vertical-align: middle;\n",
       "    }\n",
       "\n",
       "    .dataframe tbody tr th {\n",
       "        vertical-align: top;\n",
       "    }\n",
       "\n",
       "    .dataframe thead th {\n",
       "        text-align: right;\n",
       "    }\n",
       "</style>\n",
       "<table border=\"1\" class=\"dataframe\">\n",
       "  <thead>\n",
       "    <tr style=\"text-align: right;\">\n",
       "      <th></th>\n",
       "      <th>id</th>\n",
       "      <th>accession</th>\n",
       "    </tr>\n",
       "  </thead>\n",
       "  <tbody>\n",
       "    <tr>\n",
       "      <th>0</th>\n",
       "      <td>https://europepmc.org/article/PPR/PPR167663</td>\n",
       "      <td>GWHABKP00000001</td>\n",
       "    </tr>\n",
       "    <tr>\n",
       "      <th>1</th>\n",
       "      <td>pmc:PMC7166309</td>\n",
       "      <td>GWHABKP00000001</td>\n",
       "    </tr>\n",
       "    <tr>\n",
       "      <th>2</th>\n",
       "      <td>https://europepmc.org/article/PPR/PPR190800</td>\n",
       "      <td>GWHABKP00000001</td>\n",
       "    </tr>\n",
       "    <tr>\n",
       "      <th>3</th>\n",
       "      <td>pmc:PMC7497811</td>\n",
       "      <td>GWHABKP00000001</td>\n",
       "    </tr>\n",
       "    <tr>\n",
       "      <th>4</th>\n",
       "      <td>pmc:PMC7205519</td>\n",
       "      <td>GWHABKP00000001</td>\n",
       "    </tr>\n",
       "  </tbody>\n",
       "</table>\n",
       "</div>"
      ],
      "text/plain": [
       "                                            id        accession\n",
       "0  https://europepmc.org/article/PPR/PPR167663  GWHABKP00000001\n",
       "1                               pmc:PMC7166309  GWHABKP00000001\n",
       "2  https://europepmc.org/article/PPR/PPR190800  GWHABKP00000001\n",
       "3                               pmc:PMC7497811  GWHABKP00000001\n",
       "4                               pmc:PMC7205519  GWHABKP00000001"
      ]
     },
     "execution_count": 37,
     "metadata": {},
     "output_type": "execute_result"
    }
   ],
   "source": [
    "pmc_cncb2.head()"
   ]
  },
  {
   "cell_type": "code",
   "execution_count": 38,
   "metadata": {},
   "outputs": [],
   "source": [
    "pmc_cncb = pd.concat([pmc_cncb1, pmc_cncb2])"
   ]
  },
  {
   "cell_type": "code",
   "execution_count": 39,
   "metadata": {},
   "outputs": [],
   "source": [
    "pmc_cncb.to_csv(NEO4J_IMPORT / \"01h-PMC-CNCBStrain.csv\", index=False)"
   ]
  },
  {
   "cell_type": "markdown",
   "metadata": {},
   "source": [
    "### Match Genomes by refseq"
   ]
  },
  {
   "cell_type": "code",
   "execution_count": 40,
   "metadata": {},
   "outputs": [
    {
     "data": {
      "text/html": [
       "<div>\n",
       "<style scoped>\n",
       "    .dataframe tbody tr th:only-of-type {\n",
       "        vertical-align: middle;\n",
       "    }\n",
       "\n",
       "    .dataframe tbody tr th {\n",
       "        vertical-align: top;\n",
       "    }\n",
       "\n",
       "    .dataframe thead th {\n",
       "        text-align: right;\n",
       "    }\n",
       "</style>\n",
       "<table border=\"1\" class=\"dataframe\">\n",
       "  <thead>\n",
       "    <tr style=\"text-align: right;\">\n",
       "      <th></th>\n",
       "      <th>accession</th>\n",
       "    </tr>\n",
       "  </thead>\n",
       "  <tbody>\n",
       "    <tr>\n",
       "      <th>0</th>\n",
       "      <td>refseq:NC_045512</td>\n",
       "    </tr>\n",
       "    <tr>\n",
       "      <th>1</th>\n",
       "      <td>refseq:NC_038294</td>\n",
       "    </tr>\n",
       "    <tr>\n",
       "      <th>2</th>\n",
       "      <td>refseq:NC_004718</td>\n",
       "    </tr>\n",
       "    <tr>\n",
       "      <th>3</th>\n",
       "      <td>refseq:NC_002645</td>\n",
       "    </tr>\n",
       "    <tr>\n",
       "      <th>4</th>\n",
       "      <td>refseq:NC_000001</td>\n",
       "    </tr>\n",
       "  </tbody>\n",
       "</table>\n",
       "</div>"
      ],
      "text/plain": [
       "          accession\n",
       "0  refseq:NC_045512\n",
       "1  refseq:NC_038294\n",
       "2  refseq:NC_004718\n",
       "3  refseq:NC_002645\n",
       "4  refseq:NC_000001"
      ]
     },
     "execution_count": 40,
     "metadata": {},
     "output_type": "execute_result"
    }
   ],
   "source": [
    "ref3 = pd.read_csv(NEO4J_IMPORT / \"Genome.csv\")\n",
    "ref3 = ref3[['refSeq']]\n",
    "ref3 = ref3.drop_duplicates()\n",
    "ref3.rename(columns={'refSeq': 'accession'}, inplace=True)\n",
    "ref3.head()"
   ]
  },
  {
   "cell_type": "code",
   "execution_count": 41,
   "metadata": {},
   "outputs": [],
   "source": [
    "pmc_genome = pd.merge(refseq, ref3, on='accession')"
   ]
  },
  {
   "cell_type": "code",
   "execution_count": 42,
   "metadata": {},
   "outputs": [
    {
     "name": "stdout",
     "output_type": "stream",
     "text": [
      "regseq mentions: 3341\n"
     ]
    }
   ],
   "source": [
    "print('regseq mentions:', pmc_genome.shape[0])"
   ]
  },
  {
   "cell_type": "code",
   "execution_count": 43,
   "metadata": {},
   "outputs": [
    {
     "data": {
      "text/html": [
       "<div>\n",
       "<style scoped>\n",
       "    .dataframe tbody tr th:only-of-type {\n",
       "        vertical-align: middle;\n",
       "    }\n",
       "\n",
       "    .dataframe tbody tr th {\n",
       "        vertical-align: top;\n",
       "    }\n",
       "\n",
       "    .dataframe thead th {\n",
       "        text-align: right;\n",
       "    }\n",
       "</style>\n",
       "<table border=\"1\" class=\"dataframe\">\n",
       "  <thead>\n",
       "    <tr style=\"text-align: right;\">\n",
       "      <th></th>\n",
       "      <th>id</th>\n",
       "      <th>accession</th>\n",
       "    </tr>\n",
       "  </thead>\n",
       "  <tbody>\n",
       "    <tr>\n",
       "      <th>0</th>\n",
       "      <td>pmc:PMC2684143</td>\n",
       "      <td>refseq:NC_002645</td>\n",
       "    </tr>\n",
       "    <tr>\n",
       "      <th>1</th>\n",
       "      <td>pmc:PMC6390631</td>\n",
       "      <td>refseq:NC_002645</td>\n",
       "    </tr>\n",
       "    <tr>\n",
       "      <th>2</th>\n",
       "      <td>pmc:PMC3812135</td>\n",
       "      <td>refseq:NC_002645</td>\n",
       "    </tr>\n",
       "    <tr>\n",
       "      <th>3</th>\n",
       "      <td>pmc:PMC7121196</td>\n",
       "      <td>refseq:NC_002645</td>\n",
       "    </tr>\n",
       "    <tr>\n",
       "      <th>4</th>\n",
       "      <td>pmc:PMC3966378</td>\n",
       "      <td>refseq:NC_002645</td>\n",
       "    </tr>\n",
       "  </tbody>\n",
       "</table>\n",
       "</div>"
      ],
      "text/plain": [
       "               id         accession\n",
       "0  pmc:PMC2684143  refseq:NC_002645\n",
       "1  pmc:PMC6390631  refseq:NC_002645\n",
       "2  pmc:PMC3812135  refseq:NC_002645\n",
       "3  pmc:PMC7121196  refseq:NC_002645\n",
       "4  pmc:PMC3966378  refseq:NC_002645"
      ]
     },
     "execution_count": 43,
     "metadata": {},
     "output_type": "execute_result"
    }
   ],
   "source": [
    "pmc_genome.head()"
   ]
  },
  {
   "cell_type": "code",
   "execution_count": 44,
   "metadata": {},
   "outputs": [],
   "source": [
    "pmc_genome.to_csv(NEO4J_IMPORT / \"01h-PMC-Genome.csv\", index=False)"
   ]
  },
  {
   "cell_type": "markdown",
   "metadata": {},
   "source": [
    "### Match Protein-Protein Interactions by UniProt accession"
   ]
  },
  {
   "cell_type": "code",
   "execution_count": 45,
   "metadata": {},
   "outputs": [
    {
     "data": {
      "text/html": [
       "<div>\n",
       "<style scoped>\n",
       "    .dataframe tbody tr th:only-of-type {\n",
       "        vertical-align: middle;\n",
       "    }\n",
       "\n",
       "    .dataframe tbody tr th {\n",
       "        vertical-align: top;\n",
       "    }\n",
       "\n",
       "    .dataframe thead th {\n",
       "        text-align: right;\n",
       "    }\n",
       "</style>\n",
       "<table border=\"1\" class=\"dataframe\">\n",
       "  <thead>\n",
       "    <tr style=\"text-align: right;\">\n",
       "      <th></th>\n",
       "      <th>accession</th>\n",
       "    </tr>\n",
       "  </thead>\n",
       "  <tbody>\n",
       "    <tr>\n",
       "      <th>0</th>\n",
       "      <td>uniprot:A0A663DJA2</td>\n",
       "    </tr>\n",
       "    <tr>\n",
       "      <th>1</th>\n",
       "      <td>uniprot:A0MZ66</td>\n",
       "    </tr>\n",
       "    <tr>\n",
       "      <th>2</th>\n",
       "      <td>uniprot:A0PJW6</td>\n",
       "    </tr>\n",
       "    <tr>\n",
       "      <th>3</th>\n",
       "      <td>uniprot:A1L3X0</td>\n",
       "    </tr>\n",
       "    <tr>\n",
       "      <th>4</th>\n",
       "      <td>uniprot:A3KN83</td>\n",
       "    </tr>\n",
       "  </tbody>\n",
       "</table>\n",
       "</div>"
      ],
      "text/plain": [
       "            accession\n",
       "0  uniprot:A0A663DJA2\n",
       "1      uniprot:A0MZ66\n",
       "2      uniprot:A0PJW6\n",
       "3      uniprot:A1L3X0\n",
       "4      uniprot:A3KN83"
      ]
     },
     "execution_count": 45,
     "metadata": {},
     "output_type": "execute_result"
    }
   ],
   "source": [
    "ref4 = pd.read_csv(NEO4J_IMPORT / \"01e-ProteinProteinInteractionProtein.csv\")\n",
    "ref4 = ref4[['accession']]\n",
    "ref4 = ref4.drop_duplicates()\n",
    "ref4.head()               "
   ]
  },
  {
   "cell_type": "code",
   "execution_count": 46,
   "metadata": {},
   "outputs": [],
   "source": [
    "pmc_ppi = pd.merge(uniprot, ref4, on='accession')"
   ]
  },
  {
   "cell_type": "code",
   "execution_count": 47,
   "metadata": {},
   "outputs": [
    {
     "name": "stdout",
     "output_type": "stream",
     "text": [
      "Protein-Protein interaction mentions: 22543\n"
     ]
    }
   ],
   "source": [
    "print('Protein-Protein interaction mentions:', pmc_ppi.shape[0])"
   ]
  },
  {
   "cell_type": "code",
   "execution_count": 48,
   "metadata": {},
   "outputs": [
    {
     "data": {
      "text/html": [
       "<div>\n",
       "<style scoped>\n",
       "    .dataframe tbody tr th:only-of-type {\n",
       "        vertical-align: middle;\n",
       "    }\n",
       "\n",
       "    .dataframe tbody tr th {\n",
       "        vertical-align: top;\n",
       "    }\n",
       "\n",
       "    .dataframe thead th {\n",
       "        text-align: right;\n",
       "    }\n",
       "</style>\n",
       "<table border=\"1\" class=\"dataframe\">\n",
       "  <thead>\n",
       "    <tr style=\"text-align: right;\">\n",
       "      <th></th>\n",
       "      <th>id</th>\n",
       "      <th>accession</th>\n",
       "    </tr>\n",
       "  </thead>\n",
       "  <tbody>\n",
       "    <tr>\n",
       "      <th>0</th>\n",
       "      <td>pmc:PMC6713643</td>\n",
       "      <td>uniprot:Q92769</td>\n",
       "    </tr>\n",
       "    <tr>\n",
       "      <th>1</th>\n",
       "      <td>pmc:PMC6109601</td>\n",
       "      <td>uniprot:Q92769</td>\n",
       "    </tr>\n",
       "    <tr>\n",
       "      <th>2</th>\n",
       "      <td>pmc:PMC4182858</td>\n",
       "      <td>uniprot:Q92769</td>\n",
       "    </tr>\n",
       "    <tr>\n",
       "      <th>3</th>\n",
       "      <td>pmc:PMC4446364</td>\n",
       "      <td>uniprot:Q92769</td>\n",
       "    </tr>\n",
       "    <tr>\n",
       "      <th>4</th>\n",
       "      <td>pmc:PMC4253452</td>\n",
       "      <td>uniprot:Q92769</td>\n",
       "    </tr>\n",
       "  </tbody>\n",
       "</table>\n",
       "</div>"
      ],
      "text/plain": [
       "               id       accession\n",
       "0  pmc:PMC6713643  uniprot:Q92769\n",
       "1  pmc:PMC6109601  uniprot:Q92769\n",
       "2  pmc:PMC4182858  uniprot:Q92769\n",
       "3  pmc:PMC4446364  uniprot:Q92769\n",
       "4  pmc:PMC4253452  uniprot:Q92769"
      ]
     },
     "execution_count": 48,
     "metadata": {},
     "output_type": "execute_result"
    }
   ],
   "source": [
    "pmc_ppi.head()"
   ]
  },
  {
   "cell_type": "code",
   "execution_count": 49,
   "metadata": {},
   "outputs": [],
   "source": [
    "pmc_ppi.to_csv(NEO4J_IMPORT / \"01h-PMC-ProteinProteinInteraction.csv\", index=False)"
   ]
  },
  {
   "cell_type": "markdown",
   "metadata": {},
   "source": [
    "### Match Protein Structures by PDB ID"
   ]
  },
  {
   "cell_type": "code",
   "execution_count": 50,
   "metadata": {},
   "outputs": [
    {
     "data": {
      "text/html": [
       "<div>\n",
       "<style scoped>\n",
       "    .dataframe tbody tr th:only-of-type {\n",
       "        vertical-align: middle;\n",
       "    }\n",
       "\n",
       "    .dataframe tbody tr th {\n",
       "        vertical-align: top;\n",
       "    }\n",
       "\n",
       "    .dataframe thead th {\n",
       "        text-align: right;\n",
       "    }\n",
       "</style>\n",
       "<table border=\"1\" class=\"dataframe\">\n",
       "  <thead>\n",
       "    <tr style=\"text-align: right;\">\n",
       "      <th></th>\n",
       "      <th>accession</th>\n",
       "    </tr>\n",
       "  </thead>\n",
       "  <tbody>\n",
       "    <tr>\n",
       "      <th>0</th>\n",
       "      <td>pdb:6W9Q</td>\n",
       "    </tr>\n",
       "    <tr>\n",
       "      <th>1</th>\n",
       "      <td>pdb:6VXS</td>\n",
       "    </tr>\n",
       "    <tr>\n",
       "      <th>2</th>\n",
       "      <td>pdb:6W9C</td>\n",
       "    </tr>\n",
       "    <tr>\n",
       "      <th>3</th>\n",
       "      <td>pdb:6VWW</td>\n",
       "    </tr>\n",
       "    <tr>\n",
       "      <th>4</th>\n",
       "      <td>pdb:6VYO</td>\n",
       "    </tr>\n",
       "  </tbody>\n",
       "</table>\n",
       "</div>"
      ],
      "text/plain": [
       "  accession\n",
       "0  pdb:6W9Q\n",
       "1  pdb:6VXS\n",
       "2  pdb:6W9C\n",
       "3  pdb:6VWW\n",
       "4  pdb:6VYO"
      ]
     },
     "execution_count": 50,
     "metadata": {},
     "output_type": "execute_result"
    }
   ],
   "source": [
    "ref5 = pd.read_csv(NEO4J_IMPORT / \"01f-PDBStructure.csv\")\n",
    "ref5 = ref5[['pdbId']]\n",
    "ref5.rename(columns={'pdbId': 'accession'}, inplace=True)\n",
    "ref5 = ref5.drop_duplicates()\n",
    "ref5.head()   "
   ]
  },
  {
   "cell_type": "code",
   "execution_count": 51,
   "metadata": {},
   "outputs": [],
   "source": [
    "pmc_pdb = pd.merge(pdb, ref5, on='accession')"
   ]
  },
  {
   "cell_type": "code",
   "execution_count": 52,
   "metadata": {},
   "outputs": [
    {
     "name": "stdout",
     "output_type": "stream",
     "text": [
      "PDB mentions: 3963\n"
     ]
    }
   ],
   "source": [
    "print('PDB mentions:', pmc_pdb.shape[0])"
   ]
  },
  {
   "cell_type": "code",
   "execution_count": 53,
   "metadata": {},
   "outputs": [
    {
     "data": {
      "text/html": [
       "<div>\n",
       "<style scoped>\n",
       "    .dataframe tbody tr th:only-of-type {\n",
       "        vertical-align: middle;\n",
       "    }\n",
       "\n",
       "    .dataframe tbody tr th {\n",
       "        vertical-align: top;\n",
       "    }\n",
       "\n",
       "    .dataframe thead th {\n",
       "        text-align: right;\n",
       "    }\n",
       "</style>\n",
       "<table border=\"1\" class=\"dataframe\">\n",
       "  <thead>\n",
       "    <tr style=\"text-align: right;\">\n",
       "      <th></th>\n",
       "      <th>id</th>\n",
       "      <th>accession</th>\n",
       "    </tr>\n",
       "  </thead>\n",
       "  <tbody>\n",
       "    <tr>\n",
       "      <th>0</th>\n",
       "      <td>pmc:PMC7554297</td>\n",
       "      <td>pdb:6VYB</td>\n",
       "    </tr>\n",
       "    <tr>\n",
       "      <th>1</th>\n",
       "      <td>pmc:PMC7467145</td>\n",
       "      <td>pdb:6VYB</td>\n",
       "    </tr>\n",
       "    <tr>\n",
       "      <th>2</th>\n",
       "      <td>pmc:PMC7584483</td>\n",
       "      <td>pdb:6VYB</td>\n",
       "    </tr>\n",
       "    <tr>\n",
       "      <th>3</th>\n",
       "      <td>https://europepmc.org/article/PPR/PPR151136</td>\n",
       "      <td>pdb:6VYB</td>\n",
       "    </tr>\n",
       "    <tr>\n",
       "      <th>4</th>\n",
       "      <td>pmc:PMC7282679</td>\n",
       "      <td>pdb:6VYB</td>\n",
       "    </tr>\n",
       "  </tbody>\n",
       "</table>\n",
       "</div>"
      ],
      "text/plain": [
       "                                            id accession\n",
       "0                               pmc:PMC7554297  pdb:6VYB\n",
       "1                               pmc:PMC7467145  pdb:6VYB\n",
       "2                               pmc:PMC7584483  pdb:6VYB\n",
       "3  https://europepmc.org/article/PPR/PPR151136  pdb:6VYB\n",
       "4                               pmc:PMC7282679  pdb:6VYB"
      ]
     },
     "execution_count": 53,
     "metadata": {},
     "output_type": "execute_result"
    }
   ],
   "source": [
    "pmc_pdb.head()"
   ]
  },
  {
   "cell_type": "code",
   "execution_count": 54,
   "metadata": {},
   "outputs": [],
   "source": [
    "pmc_pdb.to_csv(NEO4J_IMPORT / \"01h-PMC-PDBStructures.csv\", index=False)"
   ]
  },
  {
   "cell_type": "code",
   "execution_count": 55,
   "metadata": {},
   "outputs": [],
   "source": [
    "pmc_ids = pd.concat([pmc_uniprot, pmc_cncb, pmc_genome, pmc_ppi, pmc_pdb])"
   ]
  },
  {
   "cell_type": "code",
   "execution_count": 56,
   "metadata": {},
   "outputs": [
    {
     "data": {
      "text/plain": [
       "(194500, 2)"
      ]
     },
     "execution_count": 56,
     "metadata": {},
     "output_type": "execute_result"
    }
   ],
   "source": [
    "pmc_ids.shape"
   ]
  },
  {
   "cell_type": "code",
   "execution_count": 57,
   "metadata": {},
   "outputs": [],
   "source": [
    "pmc_uniprot.query(\"id != ''\", inplace=True)"
   ]
  },
  {
   "cell_type": "code",
   "execution_count": 58,
   "metadata": {},
   "outputs": [
    {
     "data": {
      "text/plain": [
       "(194500, 2)"
      ]
     },
     "execution_count": 58,
     "metadata": {},
     "output_type": "execute_result"
    }
   ],
   "source": [
    "pmc_ids.shape"
   ]
  },
  {
   "cell_type": "code",
   "execution_count": 60,
   "metadata": {},
   "outputs": [],
   "source": [
    "pmc_ids.to_csv(NEO4J_IMPORT / \"01h-PMC-Ids.csv\", index=False)"
   ]
  }
 ],
 "metadata": {
  "kernelspec": {
   "display_name": "Python 3",
   "language": "python",
   "name": "python3"
  },
  "language_info": {
   "codemirror_mode": {
    "name": "ipython",
    "version": 3
   },
   "file_extension": ".py",
   "mimetype": "text/x-python",
   "name": "python",
   "nbconvert_exporter": "python",
   "pygments_lexer": "ipython3",
   "version": "3.7.8"
  }
 },
 "nbformat": 4,
 "nbformat_minor": 4
}

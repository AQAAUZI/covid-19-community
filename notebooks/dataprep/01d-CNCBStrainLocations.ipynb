{
 "cells": [
  {
   "cell_type": "markdown",
   "metadata": {},
   "source": [
    "# Assigns location to Strain Data from CNCB\n",
    "**[Work in progress]**\n",
    "\n",
    "This notebook standardizes location information for viral strain from CNCB for ingestion into a Knowledge Graph.\n",
    "\n",
    "Author: Peter Rose (pwrose@ucsd.edu)"
   ]
  },
  {
   "cell_type": "code",
   "execution_count": 1,
   "metadata": {},
   "outputs": [],
   "source": [
    "import os\n",
    "import pandas as pd\n",
    "#import dateutil\n",
    "from pathlib import Path\n",
    "#from os import path"
   ]
  },
  {
   "cell_type": "code",
   "execution_count": 2,
   "metadata": {},
   "outputs": [],
   "source": [
    "pd.options.display.max_rows = None  # display all rows\n",
    "pd.options.display.max_columns = None  # display all columsns"
   ]
  },
  {
   "cell_type": "code",
   "execution_count": 3,
   "metadata": {},
   "outputs": [
    {
     "name": "stdout",
     "output_type": "stream",
     "text": [
      "/Users/peter/Library/Application Support/Neo4j Desktop/Application/neo4jDatabases/database-19636412-9e74-4bac-8a4c-c6c8b49bb9d3/installation-4.1.0/import\n"
     ]
    }
   ],
   "source": [
    "NEO4J_IMPORT = Path(os.getenv('NEO4J_IMPORT'))\n",
    "print(NEO4J_IMPORT)"
   ]
  },
  {
   "cell_type": "markdown",
   "metadata": {},
   "source": [
    "## Standardize Location data for SARS-CoV-2 Strain metadata\n",
    "\n",
    "TODO this code should be replaced with a general solution.\n",
    "\n",
    "Below is a workaround for now."
   ]
  },
  {
   "cell_type": "code",
   "execution_count": 4,
   "metadata": {},
   "outputs": [],
   "source": [
    "df = pd.read_csv(NEO4J_IMPORT / \"01d-CNCBStrain.csv\", dtype='str')\n",
    "df.fillna('', inplace=True)"
   ]
  },
  {
   "cell_type": "code",
   "execution_count": 5,
   "metadata": {},
   "outputs": [
    {
     "data": {
      "text/html": [
       "<div>\n",
       "<style scoped>\n",
       "    .dataframe tbody tr th:only-of-type {\n",
       "        vertical-align: middle;\n",
       "    }\n",
       "\n",
       "    .dataframe tbody tr th {\n",
       "        vertical-align: top;\n",
       "    }\n",
       "\n",
       "    .dataframe thead th {\n",
       "        text-align: right;\n",
       "    }\n",
       "</style>\n",
       "<table border=\"1\" class=\"dataframe\">\n",
       "  <thead>\n",
       "    <tr style=\"text-align: right;\">\n",
       "      <th></th>\n",
       "      <th>id</th>\n",
       "      <th>name</th>\n",
       "      <th>alias</th>\n",
       "      <th>taxonomyId</th>\n",
       "      <th>hostTaxonomyId</th>\n",
       "      <th>collectionDate</th>\n",
       "      <th>location</th>\n",
       "    </tr>\n",
       "  </thead>\n",
       "  <tbody>\n",
       "    <tr>\n",
       "      <th>0</th>\n",
       "      <td>NMDC60013088-01</td>\n",
       "      <td>BetaCoV/Wuhan/HBCDC-HB-01/2019</td>\n",
       "      <td>NMDC60013088-01;EPI_ISL_402132</td>\n",
       "      <td>taxonomy:2697049</td>\n",
       "      <td>taxonomy:9606</td>\n",
       "      <td>2019-12-30</td>\n",
       "      <td>China / Hubei</td>\n",
       "    </tr>\n",
       "    <tr>\n",
       "      <th>1</th>\n",
       "      <td>https://www.gisaid.org/EPI_ISL_402132</td>\n",
       "      <td>BetaCoV/Wuhan/HBCDC-HB-01/2019</td>\n",
       "      <td>NMDC60013088-01;EPI_ISL_402132</td>\n",
       "      <td>taxonomy:2697049</td>\n",
       "      <td>taxonomy:9606</td>\n",
       "      <td>2019-12-30</td>\n",
       "      <td>China / Hubei</td>\n",
       "    </tr>\n",
       "    <tr>\n",
       "      <th>2</th>\n",
       "      <td>https://www.gisaid.org/EPI_ISL_403963</td>\n",
       "      <td>hCoV-19/Thailand/74/2020</td>\n",
       "      <td>EPI_ISL_403963</td>\n",
       "      <td>taxonomy:2697049</td>\n",
       "      <td>taxonomy:9606</td>\n",
       "      <td>2020-01-13</td>\n",
       "      <td>Thailand/ Nonthaburi Province</td>\n",
       "    </tr>\n",
       "    <tr>\n",
       "      <th>3</th>\n",
       "      <td>https://www.gisaid.org/EPI_ISL_403962</td>\n",
       "      <td>hCoV-19/Thailand/61/2020</td>\n",
       "      <td>EPI_ISL_403962</td>\n",
       "      <td>taxonomy:2697049</td>\n",
       "      <td>taxonomy:9606</td>\n",
       "      <td>2020-01-08</td>\n",
       "      <td>Thailand/ Nonthaburi Province</td>\n",
       "    </tr>\n",
       "    <tr>\n",
       "      <th>4</th>\n",
       "      <td>NMDC60013085-01</td>\n",
       "      <td>BetaCoV/Wuhan/IVDC-HB-04/2020</td>\n",
       "      <td>NMDC60013085-01;EPI_ISL_402120</td>\n",
       "      <td>taxonomy:2697049</td>\n",
       "      <td>taxonomy:9606</td>\n",
       "      <td>2020-01-01</td>\n",
       "      <td>China / Hubei / Wuhan</td>\n",
       "    </tr>\n",
       "  </tbody>\n",
       "</table>\n",
       "</div>"
      ],
      "text/plain": [
       "                                      id                            name  \\\n",
       "0                        NMDC60013088-01  BetaCoV/Wuhan/HBCDC-HB-01/2019   \n",
       "1  https://www.gisaid.org/EPI_ISL_402132  BetaCoV/Wuhan/HBCDC-HB-01/2019   \n",
       "2  https://www.gisaid.org/EPI_ISL_403963        hCoV-19/Thailand/74/2020   \n",
       "3  https://www.gisaid.org/EPI_ISL_403962        hCoV-19/Thailand/61/2020   \n",
       "4                        NMDC60013085-01   BetaCoV/Wuhan/IVDC-HB-04/2020   \n",
       "\n",
       "                            alias        taxonomyId hostTaxonomyId  \\\n",
       "0  NMDC60013088-01;EPI_ISL_402132  taxonomy:2697049  taxonomy:9606   \n",
       "1  NMDC60013088-01;EPI_ISL_402132  taxonomy:2697049  taxonomy:9606   \n",
       "2                  EPI_ISL_403963  taxonomy:2697049  taxonomy:9606   \n",
       "3                  EPI_ISL_403962  taxonomy:2697049  taxonomy:9606   \n",
       "4  NMDC60013085-01;EPI_ISL_402120  taxonomy:2697049  taxonomy:9606   \n",
       "\n",
       "  collectionDate                       location  \n",
       "0     2019-12-30                  China / Hubei  \n",
       "1     2019-12-30                  China / Hubei  \n",
       "2     2020-01-13  Thailand/ Nonthaburi Province  \n",
       "3     2020-01-08  Thailand/ Nonthaburi Province  \n",
       "4     2020-01-01          China / Hubei / Wuhan  "
      ]
     },
     "execution_count": 5,
     "metadata": {},
     "output_type": "execute_result"
    }
   ],
   "source": [
    "df.head()"
   ]
  },
  {
   "cell_type": "markdown",
   "metadata": {},
   "source": [
    "#### Split locations"
   ]
  },
  {
   "cell_type": "code",
   "execution_count": 6,
   "metadata": {},
   "outputs": [],
   "source": [
    "df['locationLevels'] = df['location'].str.count('/')"
   ]
  },
  {
   "cell_type": "markdown",
   "metadata": {},
   "source": [
    "### Standardize country names to match GeoNames.org"
   ]
  },
  {
   "cell_type": "code",
   "execution_count": 7,
   "metadata": {},
   "outputs": [],
   "source": [
    "df[['country', 'admin1', 'admin2', 'city']] = df['location'].str.split('/', n=3, expand=True)\n",
    "df['country'] = df['country'].str.strip()\n",
    "df['admin1'] = df['admin1'].str.strip()\n",
    "df['admin2'] = df['admin2'].str.strip()\n",
    "df['city'] = df['city'].str.strip()\n",
    "df.fillna('', inplace=True)"
   ]
  },
  {
   "cell_type": "markdown",
   "metadata": {},
   "source": [
    "Fix country names"
   ]
  },
  {
   "cell_type": "code",
   "execution_count": 8,
   "metadata": {},
   "outputs": [],
   "source": [
    "ref = pd.read_csv(\"../../reference_data/SpecialLocations.csv\", comment='#', dtype='str')"
   ]
  },
  {
   "cell_type": "markdown",
   "metadata": {},
   "source": [
    "Convert dataframe into a dictionary"
   ]
  },
  {
   "cell_type": "code",
   "execution_count": 9,
   "metadata": {},
   "outputs": [],
   "source": [
    "ref['val'] = ref[['geoname', 'type']].values.tolist()\n",
    "name_list = ref[['name', 'val']].values.tolist()\n",
    "name_dict = {name: val for name, val in name_list}"
   ]
  },
  {
   "cell_type": "code",
   "execution_count": 10,
   "metadata": {},
   "outputs": [],
   "source": [
    "def standardize_country(row):\n",
    "    country = row['country']\n",
    "    cname = name_dict.get(country)\n",
    "    if cname != None:\n",
    "        if cname[1] == 'Country':\n",
    "            return cname[0]\n",
    "        else:\n",
    "            return country\n",
    "    else:\n",
    "        return country"
   ]
  },
  {
   "cell_type": "code",
   "execution_count": 11,
   "metadata": {},
   "outputs": [],
   "source": [
    "df['country'] = df['country'].str.replace('\\u200eRomania','Romania')"
   ]
  },
  {
   "cell_type": "code",
   "execution_count": 12,
   "metadata": {},
   "outputs": [],
   "source": [
    "df['country'] = df.apply(standardize_country, axis=1)"
   ]
  },
  {
   "cell_type": "markdown",
   "metadata": {},
   "source": [
    "Check for country mismatches"
   ]
  },
  {
   "cell_type": "code",
   "execution_count": 13,
   "metadata": {},
   "outputs": [],
   "source": [
    "countries = pd.read_csv(NEO4J_IMPORT / \"00e-GeoNamesCountry.csv\")\n",
    "loc0 = df[['country']].copy()\n",
    "loc0 = loc0.merge(countries, left_on='country', right_on='name', how='left')"
   ]
  },
  {
   "cell_type": "code",
   "execution_count": 14,
   "metadata": {},
   "outputs": [
    {
     "name": "stdout",
     "output_type": "stream",
     "text": [
      "Country name mismatches:\n"
     ]
    },
    {
     "data": {
      "text/plain": [
       "array(['ISRAEL', 'Bahrein'], dtype=object)"
      ]
     },
     "execution_count": 14,
     "metadata": {},
     "output_type": "execute_result"
    }
   ],
   "source": [
    "loc0.fillna('', inplace=True)\n",
    "loc0 = loc0.query(\"name == ''\")\n",
    "print(\"Country name mismatches:\")\n",
    "loc0['country'].unique()"
   ]
  },
  {
   "cell_type": "markdown",
   "metadata": {},
   "source": [
    "Standardize Admin1 names to match GeoNames.org"
   ]
  },
  {
   "cell_type": "code",
   "execution_count": 15,
   "metadata": {},
   "outputs": [],
   "source": [
    "def standardize_admin1(row):\n",
    "    admin1 = row['admin1']\n",
    "    aname = name_dict.get(admin1)\n",
    "    if aname != None:\n",
    "        if aname[1] == 'Admin1':\n",
    "            return aname[0]\n",
    "        else:\n",
    "            return admin1\n",
    "    else:\n",
    "        return admin1"
   ]
  },
  {
   "cell_type": "code",
   "execution_count": 16,
   "metadata": {},
   "outputs": [],
   "source": [
    "df['admin1'] = df.apply(standardize_admin1, axis=1)"
   ]
  },
  {
   "cell_type": "markdown",
   "metadata": {},
   "source": [
    "Check for Admin1 mismatches"
   ]
  },
  {
   "cell_type": "code",
   "execution_count": 17,
   "metadata": {},
   "outputs": [],
   "source": [
    "admin1 = pd.read_csv(NEO4J_IMPORT / \"00f-GeoNamesAdmin1.csv\")\n",
    "loc1 = df[['admin1']].copy()\n",
    "loc1 = loc1.query(\"admin1 != ''\")\n",
    "loc1 = loc1.merge(admin1, left_on='admin1', right_on='name', how='left')"
   ]
  },
  {
   "cell_type": "code",
   "execution_count": 18,
   "metadata": {},
   "outputs": [
    {
     "name": "stdout",
     "output_type": "stream",
     "text": [
      "Admin1 name mismatches:\n"
     ]
    },
    {
     "data": {
      "text/plain": [
       "array(['Leuven', 'Kathmandu', 'Rhone-Alpes', 'Rome', 'Sihanoukville',\n",
       "       'Hong Kong', 'North Rhine Westphalia', 'Kerala State', 'Haarlem',\n",
       "       'Blaricum', 'Hardinxveld Giessendam', 'Naarden', 'Zeewolde',\n",
       "       'Nootdorp', 'Oisterwijk', 'Tilburg', 'Rotterdam', 'NSW',\n",
       "       'Helsinki', 'Argovie', 'Basel', 'Tessin', 'Zuid Holland',\n",
       "       'Noord Brabant', 'Noord Holland', 'Cork', 'Munich', 'Talca',\n",
       "       'Limerick', 'Grand-Est', 'Normandie', 'Hauts de France',\n",
       "       'Huldenberg', 'Kraainem', 'Sint-Niklaas', 'Brussels', 'Genève',\n",
       "       'Ho Chi Minh city', 'Tbilisi', 'IDF', 'Bourgogne-France-Comté',\n",
       "       'Hangzhou', 'Saint Petersburg', 'Copenhagen', 'Quangning',\n",
       "       'Vinhphuc', 'Riyadh', 'Hawali', 'Holsbeek', 'Kessel-Lo',\n",
       "       'Couthuin', 'Comunitat_Valenciana', 'Zielonogorskie',\n",
       "       'Ile de France', 'Bretagne', 'Dasman', 'Prague', 'ARA',\n",
       "       'New York City', 'Castilla y León', 'Liège', 'Amazonas State',\n",
       "       'Gilgit', 'Dilbeek', 'Kasterlee', 'Schoten', 'Sint-Pieters-Woluwe',\n",
       "       'Rixensart', 'Vorst', 'Duesseldorf', 'Marche', 'Reykjavik',\n",
       "       'Kostoliste', 'Kosice', 'Martin', 'Medellin', 'Touba',\n",
       "       'Centre-Val de Loire', 'Boufarik', 'Castilla-La Mancha',\n",
       "       'Castilla La Mancha', 'Castilla y Leon', 'Antwerp', 'Athens',\n",
       "       'Tipperary', 'Dublin', 'Louth', 'Wicklow', 'Houthalen-Helchteren',\n",
       "       'Zonhoven', 'Nevele', 'Ganshoren', 'Kalmthout', 'Chaineux',\n",
       "       'Gierle', 'Deinze', 'Beersel', 'Barcelona', 'Merelbeke', 'Oevel',\n",
       "       'Asse', 'Kaulile', 'Ellezelles', 'Eupen', 'KPK', 'Ramat Gan',\n",
       "       'LaRioja', 'Ghent', 'Comunitat Valenciana', 'BasqueCountry',\n",
       "       'Bourgogne-Franche Comte', 'St-Louis', 'Wuhan', 'Brussel',\n",
       "       'Yernee-fraineux', 'Montigny-le-Tilleul', 'Elsene', 'Waterloo',\n",
       "       'Braine-le-Chateau', 'Poppel', 'Winksele', 'Alken', 'Riemst',\n",
       "       'Neerpelt', 'Bree', 'Herstal', 'Seraing', 'Berloz', 'Bierset',\n",
       "       'Soumagne', 'Herve', 'Saive', 'Limbourg', 'Henri-chapelle',\n",
       "       'Theux', 'Temploux', 'Andenne', 'Havelange', 'Couvin',\n",
       "       'Courcelles', 'Haulchin', 'Geluwe', 'Gent', 'Sint-Gillis-Waas',\n",
       "       'Stekene', 'Waasmunster', 'Ronse', 'Etterbeek', 'Honnelles',\n",
       "       'Doornik', 'Villerot', 'Quevy', 'Watermaal-Bosvoorde',\n",
       "       'Anderlecht', 'Liege', 'Oudergem', 'Knokke-Heist', 'Boussu',\n",
       "       'La Louviere', 'Namur', 'Hemisem', 'Couillet', 'Tervuren',\n",
       "       'Zinnik', 'Beringen', 'Frameries', 'Tienen', 'Jemappes',\n",
       "       'Saisinne', 'Bassilly', 'Vilvoorde', 'Genappe',\n",
       "       'Sint-Agatha-Berchem', 'Mons', 'Quaregnon', 'Linter', 'Bierbeek',\n",
       "       'Trazegnies', 'Colfontaine', 'Ukkel', 'Zoutleeuw', 'Lummen',\n",
       "       'Zolder', 'Geraardsbergen', 'Sint-Truiden', 'Quevaucamps',\n",
       "       'Blandain', 'Tubize', 'Koersel', 'Mouscron', 'Wanze',\n",
       "       'Montignies-Sur-Sambre', 'Lasne', 'Saint-Ghislain',\n",
       "       'Nieuwerkerken', 'Forchies-la-marche', 'Tielt-Winge', 'Soignies',\n",
       "       'Boutersem', 'Ladeuze', 'Cuesmes', 'Saint-Saulve', 'Helden',\n",
       "       'Fontaine-l Eveque', 'Tertre', 'Jumet', 'Grimbergen', 'Herselt',\n",
       "       'Kain', 'Sint-Genesius-Rode', 'Lubbeek', 'Hasselt', 'Lanaken',\n",
       "       'Wandre', 'Oostrozebeke', 'Teramo', 'Castel di Sangro',\n",
       "       'Centre - Val de Loire', 'KZN', 'OHIO', 'Columbus OH',\n",
       "       'Estado de Mexico', 'CDMX', 'District of Columbia', 'Vasterbotten',\n",
       "       'Toulouse', 'Central Czechia and Prague', 'Northern territory',\n",
       "       'Saint-Petersburg', 'Doha', 'Västerbotten', 'Grand-est',\n",
       "       'Hauts De France', 'New Orleans', 'West Coast Region',\n",
       "       'Lipetsk Region', 'Krasnodar Region', 'St. Petersburg',\n",
       "       'Moscow Region', 'Krasnoyarsk Region', 'Sverdlovsk Region',\n",
       "       'Republic of Sakha (Yakutia)', 'Omsk Region', 'Khabarovsk Region',\n",
       "       'Samara Region', 'Republic of Kabardino-Balkaria',\n",
       "       'Republic of Buryatia', 'Perm Region', 'Republic of Crymea',\n",
       "       'Orenburg Region', 'Primorskiy Region', 'Pskov Region',\n",
       "       'Chechen Republic', 'Sakhalin Region', 'Tatarstan',\n",
       "       'Novosibirsk Region', 'Tver Region', 'Chelyabinsk Region',\n",
       "       'Malopolskie', 'Sormland', 'Varmland', 'Orebro lan',\n",
       "       'Ostergotland', 'Gavleborgs lan', 'Unknown', 'Minas gerais',\n",
       "       'Afyon', 'St.Petersburg', 'Buryat Republic', 'GP', 'West_Bengal',\n",
       "       'Ciudad Autonoma de Buenos Aires', 'Milheeze', 'Manila',\n",
       "       'Vysocina Region', 'Jamtland', 'Vastra Gotaland', 'Vastmanland',\n",
       "       'Mumbai', 'Nepal', 'Samut Prakarn', 'Puerto_Rico', 'Adıyaman',\n",
       "       'Balatonfured', 'Balassagyarmat', 'Szeged', 'Kecskemet',\n",
       "       'Oroshaza', 'Bekesszentandras', 'Dolnoslaskie', 'Virgin Islands',\n",
       "       'Rajsathan', 'Pittsburgh', 'Surabaya', 'Kraljevo', 'Novi Pazar',\n",
       "       'Makkah', 'Madinah', 'Jeddah', 'Kanto', 'Dolnoslakie', 'Telengana',\n",
       "       'MAKKAH', 'MADINAH', 'JEDDAH', 'Ischgl', 'Innsbruck',\n",
       "       'Matrei am Brenner', 'Strass im Zillertal', 'Elbigenalp',\n",
       "       'Aldrans', 'Ramsau im Zillertal', 'Steinach am Brenner', 'Zams',\n",
       "       'Seefeld in Tirol', 'Kematen In Tirol', 'Laengenfeld', 'St. Anton',\n",
       "       'Sistrans', 'Cruise ship', 'South Tyrol', 'Bourgogne',\n",
       "       'Bourgogne Franche comte', 'Hyderabad', 'Guam', 'Bucharest',\n",
       "       'Puerto Montt', 'Punta Arenas', 'Temuco', 'Chillan', 'Rancagua',\n",
       "       'Coyhaique', 'Puerto Rico', 'South Coast District',\n",
       "       'South District', 'North District', 'Tel Aviv District',\n",
       "       'Jerusalem District', 'Norte de santander', 'Ho Chi Minh City',\n",
       "       'Leningrad region', 'Wielkopolskie', 'Chattogram', 'Trondheim',\n",
       "       'Beirut', 'Pomorskie', 'Karachi', 'Jonkoping', 'Dane County',\n",
       "       'Madison', 'Mount Horeb', 'Verona', 'Lazio', 'Lombardia',\n",
       "       'Pomorze', 'Basel Land', 'Basel Stadt', 'Graubunden', 'Geneve',\n",
       "       'Varaždin County', 'Malopolska', 'Frankfurt', 'Navarra',\n",
       "       'Basque_Country', 'Leiden', 'Gavleborg', 'Vasternorrland', 'Split',\n",
       "       'Dubrovnik', 'Varazdin', 'Pula', 'Cacak', 'Kwara State',\n",
       "       'Ogun State', 'Osun State', 'Oyo State', 'Mazowieckie',\n",
       "       'Warminsko-Mazurskie', 'Wielkopolska', 'Nakhonnayok', 'Quangninh',\n",
       "       'Orebro', 'Armenia', 'Leticia', 'Bello', 'Cartagena',\n",
       "       'Bucaramanga', 'Cali', 'Cienaga', 'Tumaco', 'Pereira',\n",
       "       'Combined Wellington', 'Wairarapa', 'Counties Manukau',\n",
       "       'Nelson Marlborough', 'Waitemata', 'MidCentral', 'PA Trento',\n",
       "       \"Valle D'Aosta\", 'Basilicata', 'Rostock', 'Washington DC',\n",
       "       'North Batinah', 'Musca', 'South Batinah', 'Dakhiliyah', 'Buraimi',\n",
       "       'Muscta', 'Kaggevinne', 'Sterrebeek', 'Geetbets', 'Dour',\n",
       "       'La louvière', 'Seneffe', 'Havre', 'Baudour', \"Braine-l'alleud\",\n",
       "       'Machelen', 'Veltem-beisem', 'Sint-pieters-woluwe', 'Laken',\n",
       "       'Shape', 'Flénu', 'Jette', 'Molenstede', 'Luttre', 'Wilrijk',\n",
       "       'Givry', 'Mepel', 'Le roeulx', 'Temse', 'Neufmaison', 'Jurbise',\n",
       "       'Lotenhulle', 'Edingen', 'Thulin', 'Wilsele', 'Paal',\n",
       "       'Wadelincourt', 'Madegem', 'Quévy', 'Ghlin', 'Grand-Leez',\n",
       "       'Morlanwelz', 'Bury', 'Malle', 'Aarschot', 'Tessenderlo',\n",
       "       'Scherpenheuvel-Zichem', 'Overijse', 'Wespelaar', 'Ramsel',\n",
       "       'Puerto Natales', 'Novi Sad', 'Uzice', 'La Calamine', 'Bullingen',\n",
       "       'Membach', 'Olen', 'Balen', 'Rijkevorsel', 'Ciney', 'La Louvière',\n",
       "       'Binche', 'Casteau', 'Genval', 'Poperinge', 'Anzegem', 'Kuurne',\n",
       "       'Montignies-sur-sambre', 'Marcinelle', 'Mellet', 'Chatelet',\n",
       "       'Dolembreux', 'Bressoux', 'Voroux-les-Liers', 'Laakdaal',\n",
       "       'Oostmalle', 'Beerse', 'Zoersel', 'Wijnegem', 'Bottelare',\n",
       "       'Champion', 'Ettelgem', 'Oostende', 'Asper', 'Blankenberge',\n",
       "       'Berchem', 'Genk', 'Maaseik', 'Eisden', 'Beverst', 'Wingene',\n",
       "       'Torhout', 'Assebroek', 'Brugge', 'Beerst', 'Burdinne', 'Bevel',\n",
       "       'Antheit', 'Mol', 'Retie', 'Broechem', 'Arbre', 'Buzet',\n",
       "       'Fontaine-Valmont', 'Lamine', 'Waasmont', 'Ploegsteert', 'Ans',\n",
       "       'Lo', 'Deerlijk', 'Bevere', 'Blaasveld', 'Breendonk', 'Bornem',\n",
       "       'Vlamertinge', 'Harelbeke', 'Avelgem', 'Brasschaat', 'Ekeren',\n",
       "       'Aisemont', 'Goutroux', 'Beuzet', 'Ransart', 'Mariakerke',\n",
       "       'Lovendegem', 'Kalken', 'Gentbrugge', 'Overpelt', 'Lommel',\n",
       "       'Heppen', 'Grote-Brogel', 'Bocholt', 'Berg', 'Kermt', 'Lippelo',\n",
       "       'Buggenhout', 'Hamme', 'Aiseau', 'Sint-Jans-Molenbeek', 'Ere',\n",
       "       'Wezembeek-Oppem', 'Lessines', 'Antwerpen', 'Beveren-Waas',\n",
       "       'Basecles', 'Roucourt', 'Bazel', 'Bauffe', 'Vorselaar', 'Turnhout',\n",
       "       'Oud-Turnhout', 'Ravels', 'Grobbendonk', 'Bihac', 'Gorazde',\n",
       "       'Sarajevo', 'Novi Travnik', 'Maglaj', 'Breza', 'Ilidza', 'Cazin',\n",
       "       'Ilijas', 'DZ Vitez', 'Zepce', 'Gornji Vakuf', 'KZ Kakanj',\n",
       "       'ASTURIAS', 'Livno', 'Čelinac', 'Tuzla', 'Toronto', 'Blanden',\n",
       "       'Brugelette', 'Vloesberg', 'Rebecq', 'Kortenberg', 'Buissenal',\n",
       "       'Monceau-sur-sambre', 'Brunehaut', 'Lillois-witterzée',\n",
       "       'Western Cape Province', 'Narayanganj', 'Hannut', 'Graubünden',\n",
       "       'Zürich', 'Canary_Islands', 'San Diego', 'Laocai', 'Tangail',\n",
       "       'Mioveni', 'Rawalpindi', 'Basel-Stadt', 'Copiapo', 'La_Rioja',\n",
       "       'Balear_Islands', 'Paris', 'Rangpur', 'Kombo', 'Rabat',\n",
       "       'Litomerice-Brnay', 'Melnik', 'Jihlava', 'BAT-YAM', 'HOLON',\n",
       "       'YEHUD', 'ASHDOD', 'BENI-BRAK', 'TEL-AVIV', 'NETANYA', 'NETIVOT',\n",
       "       'YAVNE', 'GANI TIKVA', 'HUKUK', 'RAANANA', 'PARDESIA', 'RAMAT-GAN',\n",
       "       'JERUnited StatesLEM', 'KIRYAT-GAT', 'SHOAM', 'BEIT SHEMESH',\n",
       "       'PETAH-TIKVA', 'KFAR-HABAD', 'KIRYAT ONO', 'TVERIA', 'GEDERA',\n",
       "       'ELAD', 'ELKANA', 'MAALOT-TARSHICHA', 'RAMLA', 'HAIFA',\n",
       "       'TIRAT ZVI', 'ZEFAT', 'Jamtland Harjedalen', 'Jhenaidha', 'Narail',\n",
       "       'Bagherhat', 'Donostia-San Sebatian', 'Mayrhofen',\n",
       "       'Altenhof am Hausruck', 'Losenstein', 'Northern Mariana Islands',\n",
       "       'Hranice na Moravě', 'Heves County', 'Debrecen',\n",
       "       'Jász-Nagykun-Szolnok county', 'Borsod-Abaúj-Zemplén County',\n",
       "       'Csongrád County', 'Luzern', 'St Gallen', 'Sodermanland',\n",
       "       'Cotonou', 'Landen', 'Strepy-Bracquegnies', 'Molenbeek-Saint-Jean',\n",
       "       'Heverlee', 'Steenokkerzeel', 'Froyennes', 'Haasrode', 'Harchies',\n",
       "       'Ath', 'Tournai', 'Scherpenheuvel-Zchem', 'Braffe', 'Peer',\n",
       "       'Heusden-Zolder', 'Chercq', 'Diest', 'Naast', 'Halle',\n",
       "       'Braine-Le-Comte', 'Ixelles', 'Maurage', 'Kampenhout',\n",
       "       \"Braine-L'Alleud\", 'Halen', 'Veerle', 'Ecaussinnes', 'Nossegem',\n",
       "       'Kersbeek-miskom', 'Péruwelz', 'Luingne', 'Neufvilles', 'Duisberg',\n",
       "       'Beverloo', 'Flines-Les-Morta', 'Szabolcs-Szatmár-Bereg County',\n",
       "       'Quito', 'Békés County', 'Bács-Kiskun County', 'Ak',\n",
       "       'HokurikuShinsyu', 'Kansai', 'Chushikoku', 'Kyusyu', 'Chubu',\n",
       "       'Tohoku', 'Dupnitza', 'Rajshahi', 'Ragshahi', 'St-Louis (RTL)',\n",
       "       'Velingara', 'Yeumbeul', 'Guediawaye', 'Baden-Württemberg', 'Mbao',\n",
       "       'Kfar Saba', 'Califonia', 'Capital', 'Uijeongbu', 'Keur Massar',\n",
       "       'Tuebingen', 'unknown', 'Kefar Sava'], dtype=object)"
      ]
     },
     "execution_count": 18,
     "metadata": {},
     "output_type": "execute_result"
    }
   ],
   "source": [
    "loc1.fillna('', inplace=True)\n",
    "loc1 = loc1.query(\"name == ''\")\n",
    "print(\"Admin1 name mismatches:\")\n",
    "loc1['admin1'].unique()"
   ]
  },
  {
   "cell_type": "markdown",
   "metadata": {},
   "source": [
    "Check for Admin2 names"
   ]
  },
  {
   "cell_type": "code",
   "execution_count": 19,
   "metadata": {},
   "outputs": [],
   "source": [
    "admin2 = pd.read_csv(NEO4J_IMPORT / \"00g-GeoNamesAdmin2.csv\")\n",
    "loc2 = df[['admin2']].copy()\n",
    "loc2 = loc2.query(\"admin2 != ''\")\n",
    "loc2 = loc2.merge(admin2, left_on='admin2', right_on='name', how='left')"
   ]
  },
  {
   "cell_type": "code",
   "execution_count": 20,
   "metadata": {},
   "outputs": [
    {
     "name": "stdout",
     "output_type": "stream",
     "text": [
      "Admin2 name mismatches:\n"
     ]
    },
    {
     "data": {
      "text/plain": [
       "array(['Wuhan', 'Zhuhai City', 'Shenzhen City', 'Chicago', 'Los Angeles',\n",
       "       'Phoenix', 'Guangzhou City', \"Pu'er\", 'Clayton', 'Munich',\n",
       "       'Hangzhou', 'Sydney', 'Yongchuan', 'Chengdu', 'Kunming',\n",
       "       'Pingxiang', 'Zhongxian', 'Huaian', 'Qingdao', 'Contamines',\n",
       "       'Hefei', 'Jingzhou', 'Guangzhou', 'Tianmen', 'Suzhou',\n",
       "       'Heinsberg District', 'Weifang', 'Yorkshire', 'Kirkland', 'Tacoma',\n",
       "       'Strasbourg', 'Rouen', 'Compiègne', 'Reims', 'Pontoise',\n",
       "       'Crépy en Valois', 'Feira de Santana', 'Seattle',\n",
       "       'Crépy-en -Valois', 'Montreux-Chateau', 'Thise', 'Dane county',\n",
       "       'Château-Thierry', 'Garches', 'Longjumeau', 'Rennes',\n",
       "       'South Yorkshire', 'Northamtonshire', 'London', 'Dane',\n",
       "       'San Francisco County', 'NanChang', 'Manhattan', 'Brest', 'Tours',\n",
       "       'Crouy en Thelle', 'Levallois-Perret', 'Meudon la Forêt', 'Vanves',\n",
       "       'Lyon', 'Saint-Priest', 'Macon', 'Venissieux', 'Valence',\n",
       "       'Bourg-en-Bresse', 'Privas', 'Brooklyn', 'Fuyang', 'Compiegne',\n",
       "       'Orsay', 'Chateau-Thierry', 'Woippy', 'Gennevilliers',\n",
       "       'Saint-Thibault-des-Vignes', 'Asnières-sur-Seine', 'Spicheren',\n",
       "       'Juvisy-sur-Orge', 'Staten Island', 'Queens', 'Bronx', 'Fairbanks',\n",
       "       'Perth', 'Teramo', \"L'Aquila\", 'Jiujiang', 'Nanchang', 'Shangrao',\n",
       "       'Ganzhou', 'Jian', 'Saint Germain en Laye', 'Seine-Port',\n",
       "       'Abondant', 'Tweed Heads', 'COLUMBUS', 'Verona', 'Ketchikan',\n",
       "       'Nassau', 'Rockland', 'New York City', 'Suffolk county',\n",
       "       'Nassau county', 'New Taipei city', 'New Taipei City',\n",
       "       'Xishuangbanna', 'Wauwatosa', 'Milwaukee', 'Oak Creek',\n",
       "       'Elm Grove', 'Pewaukee', 'Greenfield', 'New Berlin', 'Grafton',\n",
       "       'Jackson', 'Brookfield', 'Campbellsp', 'Mequon', 'Franklin',\n",
       "       'South Milw', 'Glendale', 'Cudahy', 'Whitefish', 'Thiensvill',\n",
       "       'Port Washi', 'Racine', 'Gondrecourt-le-chateau',\n",
       "       'Chateau-thierry', 'Carentan', 'LA', 'Huizhou', 'Shanwei',\n",
       "       'Zhanjiang', 'Dongguan', 'Zhongshan', 'Shantou', 'Zhuhai',\n",
       "       'Lishui', 'Ulan-Ude', 'Unknown County', 'Darjeeling', 'Tehatta',\n",
       "       'East Medinipur', 'Bela - Ledec na Sazavou', 'Ahmedabad', 'Noida',\n",
       "       'Faribanks', 'Eielson AFB', 'Juneau', 'New Orleans', 'Anchorage',\n",
       "       'Wasilla', 'Elmendorf AFB', 'NYC', 'River Hills',\n",
       "       'Greater Milwaukee Area', 'Saukville', 'Slinger', 'Hartford',\n",
       "       'Brown Deer', 'SAINT ROSE', 'NEW ORLEANS', 'LOCKPORT', 'LULING',\n",
       "       'RACELAND', 'GHEENS', 'THIBODAUX', 'LACOMBE', 'HOUMA', 'SLIDELL',\n",
       "       'MARINGOUIN', 'Indianapolis', 'Mat-Su', 'Interior', 'Southeast',\n",
       "       'Dijon', 'Pecq', 'Guyancourt', 'Cergy', 'Asnieres sur Seine',\n",
       "       'Chalon sur Saone', 'Ham sous Varsberg', 'Montigny le Bretonneux',\n",
       "       'Ploudalmezeau', \"Nogent l'Artaud\", 'Houston', 'Prantij',\n",
       "       'Dhansura', 'Southeast Queensland', 'Northern Queensland',\n",
       "       'Sagunt', 'Alboraya', 'Lutxent', 'Elda',\n",
       "       'Tavernes_de_la_Valldigna', 'Olleria', 'Meliana', 'Beniganim',\n",
       "       'Gandia', 'Palma_de_Gandia', 'Bonrepos_i_Mirambell', 'Xeraco',\n",
       "       'Oliva', 'Modasa', 'Himatnagar', 'Dahegam', 'Togui', 'Buga',\n",
       "       'El cerrito', 'Ansermo', 'Kipen', 'New York', 'Wisconsin', 'Dahod',\n",
       "       'Westchester', 'Kraków', 'La_Linea', 'Zulueta', 'Alcobendas',\n",
       "       'Baranain', 'Donostia-San_Sebastian', 'Pittsburgh', 'Changzhou',\n",
       "       'Grodzisk Mazowiecki', 'NAPOLEONVILLE', 'MARRERO', 'METAIRIE',\n",
       "       'CHALMETTE', 'VIOLET', 'HAMMOND', 'KENNER', 'AVONDALE', 'Yichun',\n",
       "       'Fuzhou', 'Yingtan', 'Howrah', 'Valencia_h', 'Duque de Caxias',\n",
       "       'Bayad', 'Khedbrahma', 'Harbin', 'Münster', 'Shaoxing',\n",
       "       'Cape Town Metro', 'Kadi', 'Kalol', 'Las_Palmas', 'LeganA(c)s',\n",
       "       'Ambite', 'Rivas-Vaciamadrid', 'Valdaracete',\n",
       "       'Santiago_de_Compostela', 'Riveira', 'Muros', 'Lalin',\n",
       "       'PETROPOLIS', 'RIO DE JANEIRO', 'QUEIMADOS', 'NITEROI',\n",
       "       'DUQUE DE CAXIAS', 'NOVA IGUACU', 'Columbus', 'Samarinda',\n",
       "       'Manado', 'Alameda', 'Sao Bernardo do Campo', 'Copiapo', 'Chillan',\n",
       "       'Logrono_h', 'Alcaniz', 'Nadiad', 'Kapadvanj', 'Mahemdavad',\n",
       "       'Dhanera', 'East Haven', 'Waterbury', 'West Haven', 'Shelton',\n",
       "       'Babahoyo', 'Focsani', 'Iasi', 'Kynice', 'Itapecerica da Serra',\n",
       "       'Albacete', 'Alcala la Real', 'Churriana de la Vega', 'Guadix',\n",
       "       'Las Palmas', 'Ogijares', 'Otura', 'Pulianas', 'Velez Malaga',\n",
       "       'Palanpur', 'Mandvi', 'Bhuj', 'Shailokupa', 'Kalia', 'Sador',\n",
       "       'St. Louis', 'Prostějov', 'Lomas de Zamora', 'Savali', 'Bardoli',\n",
       "       'Choryasi', 'Unknown', 'Miami', 'Lafayette county',\n",
       "       'Columbia county', 'Jefferson county', 'Winnebago county',\n",
       "       'Rock county', 'Milwaukee county', 'Ozaukee county',\n",
       "       'Fond du Lac county', 'Washington county', 'Waukesha county',\n",
       "       'Chippewa county', 'Green county', 'Sauk county', 'El Paso county',\n",
       "       'Dubuque county', 'Richland county', 'Grant county',\n",
       "       'Monroe county', 'Racine county', 'Al Matariyyah', 'Imperial',\n",
       "       'Hobigonj', 'Moulvibazar', 'Talod', 'Chuda', 'Jetpur', 'Gondal',\n",
       "       'Olpad', 'Jackson county', 'Trempealeau county',\n",
       "       'Fairfield county', 'Mchenry county', 'Cook county', 'Lake county',\n",
       "       'Bergen county', 'Sheboygan county', 'Outagamie county',\n",
       "       'Dodge county', 'Westchester county', 'Onondaga county',\n",
       "       'Los Angeles county', 'Door county', 'East Baton Rouge',\n",
       "       'Manitowoc county', 'Vernon county', 'Brown county', 'unknown',\n",
       "       'Marin county', 'Naples'], dtype=object)"
      ]
     },
     "execution_count": 20,
     "metadata": {},
     "output_type": "execute_result"
    }
   ],
   "source": [
    "loc2.fillna('', inplace=True)\n",
    "loc2 = loc2.query(\"name == ''\")\n",
    "print(\"Admin2 name mismatches:\")\n",
    "loc2['admin2'].unique()"
   ]
  },
  {
   "cell_type": "markdown",
   "metadata": {},
   "source": [
    "Check city names"
   ]
  },
  {
   "cell_type": "code",
   "execution_count": 21,
   "metadata": {},
   "outputs": [],
   "source": [
    "city = pd.read_csv(NEO4J_IMPORT / \"00h-GeoNamesCity.csv\")\n",
    "loc3 = df[['city']].copy()"
   ]
  },
  {
   "cell_type": "code",
   "execution_count": 22,
   "metadata": {},
   "outputs": [],
   "source": [
    "loc3 = loc3.query(\"city != ''\")"
   ]
  },
  {
   "cell_type": "code",
   "execution_count": 23,
   "metadata": {},
   "outputs": [
    {
     "data": {
      "text/html": [
       "<div>\n",
       "<style scoped>\n",
       "    .dataframe tbody tr th:only-of-type {\n",
       "        vertical-align: middle;\n",
       "    }\n",
       "\n",
       "    .dataframe tbody tr th {\n",
       "        vertical-align: top;\n",
       "    }\n",
       "\n",
       "    .dataframe thead th {\n",
       "        text-align: right;\n",
       "    }\n",
       "</style>\n",
       "<table border=\"1\" class=\"dataframe\">\n",
       "  <thead>\n",
       "    <tr style=\"text-align: right;\">\n",
       "      <th></th>\n",
       "      <th>city</th>\n",
       "    </tr>\n",
       "  </thead>\n",
       "  <tbody>\n",
       "    <tr>\n",
       "      <th>544</th>\n",
       "      <td>Sheffield</td>\n",
       "    </tr>\n",
       "    <tr>\n",
       "      <th>10047</th>\n",
       "      <td>Havlickuv Brod</td>\n",
       "    </tr>\n",
       "    <tr>\n",
       "      <th>35887</th>\n",
       "      <td>Bilbao</td>\n",
       "    </tr>\n",
       "  </tbody>\n",
       "</table>\n",
       "</div>"
      ],
      "text/plain": [
       "                 city\n",
       "544         Sheffield\n",
       "10047  Havlickuv Brod\n",
       "35887          Bilbao"
      ]
     },
     "execution_count": 23,
     "metadata": {},
     "output_type": "execute_result"
    }
   ],
   "source": [
    "loc3"
   ]
  },
  {
   "cell_type": "code",
   "execution_count": 24,
   "metadata": {},
   "outputs": [],
   "source": [
    "loc3 = loc3.query(\"city != ''\")\n",
    "loc3 = loc3.merge(city, left_on='city', right_on='name', how='left')"
   ]
  },
  {
   "cell_type": "code",
   "execution_count": 25,
   "metadata": {},
   "outputs": [
    {
     "name": "stdout",
     "output_type": "stream",
     "text": [
      "City name mismatches:\n"
     ]
    },
    {
     "data": {
      "text/plain": [
       "array([], dtype=object)"
      ]
     },
     "execution_count": 25,
     "metadata": {},
     "output_type": "execute_result"
    }
   ],
   "source": [
    "loc3.fillna('', inplace=True)\n",
    "loc3 = loc3.query(\"name == ''\")\n",
    "print(\"City name mismatches:\")\n",
    "loc3['city'].unique()"
   ]
  },
  {
   "cell_type": "code",
   "execution_count": 26,
   "metadata": {},
   "outputs": [
    {
     "data": {
      "text/html": [
       "<div>\n",
       "<style scoped>\n",
       "    .dataframe tbody tr th:only-of-type {\n",
       "        vertical-align: middle;\n",
       "    }\n",
       "\n",
       "    .dataframe tbody tr th {\n",
       "        vertical-align: top;\n",
       "    }\n",
       "\n",
       "    .dataframe thead th {\n",
       "        text-align: right;\n",
       "    }\n",
       "</style>\n",
       "<table border=\"1\" class=\"dataframe\">\n",
       "  <thead>\n",
       "    <tr style=\"text-align: right;\">\n",
       "      <th></th>\n",
       "      <th>id</th>\n",
       "      <th>name</th>\n",
       "      <th>alias</th>\n",
       "      <th>taxonomyId</th>\n",
       "      <th>hostTaxonomyId</th>\n",
       "      <th>collectionDate</th>\n",
       "      <th>country</th>\n",
       "      <th>admin1</th>\n",
       "      <th>admin2</th>\n",
       "      <th>city</th>\n",
       "      <th>locationLevels</th>\n",
       "    </tr>\n",
       "  </thead>\n",
       "  <tbody>\n",
       "    <tr>\n",
       "      <th>0</th>\n",
       "      <td>NMDC60013088-01</td>\n",
       "      <td>BetaCoV/Wuhan/HBCDC-HB-01/2019</td>\n",
       "      <td>NMDC60013088-01;EPI_ISL_402132</td>\n",
       "      <td>taxonomy:2697049</td>\n",
       "      <td>taxonomy:9606</td>\n",
       "      <td>2019-12-30</td>\n",
       "      <td>China</td>\n",
       "      <td>Hubei</td>\n",
       "      <td></td>\n",
       "      <td></td>\n",
       "      <td>1</td>\n",
       "    </tr>\n",
       "    <tr>\n",
       "      <th>1</th>\n",
       "      <td>https://www.gisaid.org/EPI_ISL_402132</td>\n",
       "      <td>BetaCoV/Wuhan/HBCDC-HB-01/2019</td>\n",
       "      <td>NMDC60013088-01;EPI_ISL_402132</td>\n",
       "      <td>taxonomy:2697049</td>\n",
       "      <td>taxonomy:9606</td>\n",
       "      <td>2019-12-30</td>\n",
       "      <td>China</td>\n",
       "      <td>Hubei</td>\n",
       "      <td></td>\n",
       "      <td></td>\n",
       "      <td>1</td>\n",
       "    </tr>\n",
       "    <tr>\n",
       "      <th>2</th>\n",
       "      <td>https://www.gisaid.org/EPI_ISL_403963</td>\n",
       "      <td>hCoV-19/Thailand/74/2020</td>\n",
       "      <td>EPI_ISL_403963</td>\n",
       "      <td>taxonomy:2697049</td>\n",
       "      <td>taxonomy:9606</td>\n",
       "      <td>2020-01-13</td>\n",
       "      <td>Thailand</td>\n",
       "      <td>Nonthaburi</td>\n",
       "      <td></td>\n",
       "      <td></td>\n",
       "      <td>1</td>\n",
       "    </tr>\n",
       "    <tr>\n",
       "      <th>3</th>\n",
       "      <td>https://www.gisaid.org/EPI_ISL_403962</td>\n",
       "      <td>hCoV-19/Thailand/61/2020</td>\n",
       "      <td>EPI_ISL_403962</td>\n",
       "      <td>taxonomy:2697049</td>\n",
       "      <td>taxonomy:9606</td>\n",
       "      <td>2020-01-08</td>\n",
       "      <td>Thailand</td>\n",
       "      <td>Nonthaburi</td>\n",
       "      <td></td>\n",
       "      <td></td>\n",
       "      <td>1</td>\n",
       "    </tr>\n",
       "    <tr>\n",
       "      <th>4</th>\n",
       "      <td>NMDC60013085-01</td>\n",
       "      <td>BetaCoV/Wuhan/IVDC-HB-04/2020</td>\n",
       "      <td>NMDC60013085-01;EPI_ISL_402120</td>\n",
       "      <td>taxonomy:2697049</td>\n",
       "      <td>taxonomy:9606</td>\n",
       "      <td>2020-01-01</td>\n",
       "      <td>China</td>\n",
       "      <td>Hubei</td>\n",
       "      <td>Wuhan</td>\n",
       "      <td></td>\n",
       "      <td>2</td>\n",
       "    </tr>\n",
       "  </tbody>\n",
       "</table>\n",
       "</div>"
      ],
      "text/plain": [
       "                                      id                            name  \\\n",
       "0                        NMDC60013088-01  BetaCoV/Wuhan/HBCDC-HB-01/2019   \n",
       "1  https://www.gisaid.org/EPI_ISL_402132  BetaCoV/Wuhan/HBCDC-HB-01/2019   \n",
       "2  https://www.gisaid.org/EPI_ISL_403963        hCoV-19/Thailand/74/2020   \n",
       "3  https://www.gisaid.org/EPI_ISL_403962        hCoV-19/Thailand/61/2020   \n",
       "4                        NMDC60013085-01   BetaCoV/Wuhan/IVDC-HB-04/2020   \n",
       "\n",
       "                            alias        taxonomyId hostTaxonomyId  \\\n",
       "0  NMDC60013088-01;EPI_ISL_402132  taxonomy:2697049  taxonomy:9606   \n",
       "1  NMDC60013088-01;EPI_ISL_402132  taxonomy:2697049  taxonomy:9606   \n",
       "2                  EPI_ISL_403963  taxonomy:2697049  taxonomy:9606   \n",
       "3                  EPI_ISL_403962  taxonomy:2697049  taxonomy:9606   \n",
       "4  NMDC60013085-01;EPI_ISL_402120  taxonomy:2697049  taxonomy:9606   \n",
       "\n",
       "  collectionDate   country      admin1 admin2 city  locationLevels  \n",
       "0     2019-12-30     China       Hubei                           1  \n",
       "1     2019-12-30     China       Hubei                           1  \n",
       "2     2020-01-13  Thailand  Nonthaburi                           1  \n",
       "3     2020-01-08  Thailand  Nonthaburi                           1  \n",
       "4     2020-01-01     China       Hubei  Wuhan                    2  "
      ]
     },
     "execution_count": 26,
     "metadata": {},
     "output_type": "execute_result"
    }
   ],
   "source": [
    "strains = df[['id', 'name', 'alias', 'taxonomyId', 'hostTaxonomyId', 'collectionDate', \n",
    "              'country', 'admin1', 'admin2', 'city','locationLevels']]\n",
    "strains.head()"
   ]
  },
  {
   "cell_type": "code",
   "execution_count": 27,
   "metadata": {},
   "outputs": [],
   "source": [
    "strains.to_csv(NEO4J_IMPORT / \"01d-CNCBStrain.csv\", index=False)"
   ]
  }
 ],
 "metadata": {
  "kernelspec": {
   "display_name": "Python 3",
   "language": "python",
   "name": "python3"
  },
  "language_info": {
   "codemirror_mode": {
    "name": "ipython",
    "version": 3
   },
   "file_extension": ".py",
   "mimetype": "text/x-python",
   "name": "python",
   "nbconvert_exporter": "python",
   "pygments_lexer": "ipython3",
   "version": "3.8.3"
  }
 },
 "nbformat": 4,
 "nbformat_minor": 4
}

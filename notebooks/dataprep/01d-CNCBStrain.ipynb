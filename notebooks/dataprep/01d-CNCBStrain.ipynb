{
 "cells": [
  {
   "cell_type": "markdown",
   "metadata": {},
   "source": [
    "# Load SARS-CoV-2 Virus Strain Data from CNCB\n",
    "**[Work in progress]**\n",
    "\n",
    "This notebook downloads and standardizes viral strain and variation data from CNCB for ingestion into a Knowledge Graph.\n",
    "\n",
    "Data source: [China National Center for Bioinformation, 2019 Novel Coronavirus Resource (2019nCoVR)](https://bigd.big.ac.cn/ncov/release_genome)\n",
    "\n",
    "Author: Peter Rose (pwrose@ucsd.edu)"
   ]
  },
  {
   "cell_type": "code",
   "execution_count": 1,
   "metadata": {},
   "outputs": [],
   "source": [
    "import os\n",
    "import pandas as pd\n",
    "import dateutil\n",
    "import re\n",
    "from pathlib import Path\n",
    "import glob\n",
    "import ftplib"
   ]
  },
  {
   "cell_type": "code",
   "execution_count": 2,
   "metadata": {},
   "outputs": [],
   "source": [
    "pd.options.display.max_rows = None  # display all rows\n",
    "pd.options.display.max_columns = None  # display all columsns"
   ]
  },
  {
   "cell_type": "code",
   "execution_count": 3,
   "metadata": {},
   "outputs": [
    {
     "name": "stdout",
     "output_type": "stream",
     "text": [
      "/Users/peter/Library/Application Support/Neo4j Desktop/Application/neo4jDatabases/database-19636412-9e74-4bac-8a4c-c6c8b49bb9d3/installation-4.1.0/import\n"
     ]
    }
   ],
   "source": [
    "# Path will take care of handling operating system differences.\n",
    "NEO4J_IMPORT = Path(os.getenv('NEO4J_IMPORT'))\n",
    "print(NEO4J_IMPORT)"
   ]
  },
  {
   "cell_type": "code",
   "execution_count": 4,
   "metadata": {},
   "outputs": [],
   "source": [
    "# Create a directory to cache variation data\n",
    "CACHE = Path(NEO4J_IMPORT / 'cache')\n",
    "CACHE.mkdir(exist_ok=True)"
   ]
  },
  {
   "cell_type": "code",
   "execution_count": 5,
   "metadata": {},
   "outputs": [],
   "source": [
    "# Create a directory to cache variation data that could not be parsed\n",
    "CACHE_FAILED = Path(NEO4J_IMPORT / 'cache_failed')\n",
    "CACHE_FAILED.mkdir(exist_ok=True)"
   ]
  },
  {
   "cell_type": "markdown",
   "metadata": {},
   "source": [
    "## Download SARS-CoV-2 Strain metadata"
   ]
  },
  {
   "cell_type": "markdown",
   "metadata": {},
   "source": [
    "This notebook will download > 20,000 files. To work on a small sample (50 files), set \n",
    "\n",
    "`run_small_sample_only = True`"
   ]
  },
  {
   "cell_type": "code",
   "execution_count": 6,
   "metadata": {},
   "outputs": [],
   "source": [
    "run_small_sample_only = False"
   ]
  },
  {
   "cell_type": "code",
   "execution_count": 7,
   "metadata": {},
   "outputs": [],
   "source": [
    "metadata_url = \"https://bigd.big.ac.cn/ncov/genome/export/meta\"\n",
    "annotation_url = \"ftp://download.big.ac.cn/GVM/Coronavirus/gff3/\" "
   ]
  },
  {
   "cell_type": "code",
   "execution_count": 8,
   "metadata": {},
   "outputs": [],
   "source": [
    "df = pd.read_excel(metadata_url, dtype='str')\n",
    "df.fillna('', inplace=True)"
   ]
  },
  {
   "cell_type": "code",
   "execution_count": 9,
   "metadata": {},
   "outputs": [
    {
     "name": "stdout",
     "output_type": "stream",
     "text": [
      "Total number of strains: 64641\n"
     ]
    }
   ],
   "source": [
    "print(\"Total number of strains:\", df.shape[0])"
   ]
  },
  {
   "cell_type": "code",
   "execution_count": 10,
   "metadata": {},
   "outputs": [],
   "source": [
    "df = df.query(\"`Sequence Quality` == 'High'\")\n",
    "df = df.query(\"`Nuc.Completeness` == 'Complete'\")"
   ]
  },
  {
   "cell_type": "code",
   "execution_count": 11,
   "metadata": {},
   "outputs": [
    {
     "name": "stdout",
     "output_type": "stream",
     "text": [
      "Number of complete high quality strains 31658\n"
     ]
    }
   ],
   "source": [
    "print(\"Number of complete high quality strains\", df.shape[0])"
   ]
  },
  {
   "cell_type": "code",
   "execution_count": 12,
   "metadata": {},
   "outputs": [
    {
     "data": {
      "text/html": [
       "<div>\n",
       "<style scoped>\n",
       "    .dataframe tbody tr th:only-of-type {\n",
       "        vertical-align: middle;\n",
       "    }\n",
       "\n",
       "    .dataframe tbody tr th {\n",
       "        vertical-align: top;\n",
       "    }\n",
       "\n",
       "    .dataframe thead th {\n",
       "        text-align: right;\n",
       "    }\n",
       "</style>\n",
       "<table border=\"1\" class=\"dataframe\">\n",
       "  <thead>\n",
       "    <tr style=\"text-align: right;\">\n",
       "      <th></th>\n",
       "      <th>Virus Strain Name</th>\n",
       "      <th>Accession ID</th>\n",
       "      <th>Data Source</th>\n",
       "      <th>Related ID</th>\n",
       "      <th>Nuc.Completeness</th>\n",
       "      <th>Sequence Length</th>\n",
       "      <th>Sequence Quality</th>\n",
       "      <th>Quality Assessment</th>\n",
       "      <th>Host</th>\n",
       "      <th>Sample Collection Date</th>\n",
       "      <th>Location</th>\n",
       "      <th>Originating Lab</th>\n",
       "      <th>Submission Date</th>\n",
       "      <th>Submitting Lab</th>\n",
       "      <th>Create Time</th>\n",
       "      <th>Last Update Time</th>\n",
       "    </tr>\n",
       "  </thead>\n",
       "  <tbody>\n",
       "    <tr>\n",
       "      <th>0</th>\n",
       "      <td>BetaCoV/Wuhan/HBCDC-HB-01/2019</td>\n",
       "      <td>NMDC60013088-01</td>\n",
       "      <td>NMDC</td>\n",
       "      <td>EPI_ISL_402132</td>\n",
       "      <td>Complete</td>\n",
       "      <td>29848</td>\n",
       "      <td>High</td>\n",
       "      <td>0/0/0/1/NO</td>\n",
       "      <td>Homo sapiens</td>\n",
       "      <td>2019-12-30</td>\n",
       "      <td>China / Hubei</td>\n",
       "      <td>Hubei Provincial Center for Disease Control an...</td>\n",
       "      <td>2020-01-19</td>\n",
       "      <td>Hubei Provincial Center for Disease Control an...</td>\n",
       "      <td>2020-01-20 20:04:48</td>\n",
       "      <td>2020-05-07 23:03:25</td>\n",
       "    </tr>\n",
       "    <tr>\n",
       "      <th>1</th>\n",
       "      <td>hCoV-19/Thailand/74/2020</td>\n",
       "      <td>EPI_ISL_403963</td>\n",
       "      <td>GISAID</td>\n",
       "      <td></td>\n",
       "      <td>Complete</td>\n",
       "      <td>29859</td>\n",
       "      <td>High</td>\n",
       "      <td>0/0/0/0/NO</td>\n",
       "      <td>Homo sapiens</td>\n",
       "      <td>2020-01-13</td>\n",
       "      <td>Thailand/ Nonthaburi Province</td>\n",
       "      <td>Department of Medical Sciences, Ministry of Pu...</td>\n",
       "      <td>2020-01-17</td>\n",
       "      <td>Department of Medical Sciences, Ministry of Pu...</td>\n",
       "      <td>2020-01-20 20:04:48</td>\n",
       "      <td>2020-06-28 15:24:28</td>\n",
       "    </tr>\n",
       "    <tr>\n",
       "      <th>2</th>\n",
       "      <td>hCoV-19/Thailand/61/2020</td>\n",
       "      <td>EPI_ISL_403962</td>\n",
       "      <td>GISAID</td>\n",
       "      <td></td>\n",
       "      <td>Complete</td>\n",
       "      <td>29848</td>\n",
       "      <td>High</td>\n",
       "      <td>0/0/0/0/NO</td>\n",
       "      <td>Homo sapiens</td>\n",
       "      <td>2020-01-08</td>\n",
       "      <td>Thailand/ Nonthaburi Province</td>\n",
       "      <td>Department of Medical Sciences, Ministry of Pu...</td>\n",
       "      <td>2020-01-17</td>\n",
       "      <td>Department of Medical Sciences, Ministry of Pu...</td>\n",
       "      <td>2020-01-20 20:04:48</td>\n",
       "      <td>2020-06-28 15:24:28</td>\n",
       "    </tr>\n",
       "    <tr>\n",
       "      <th>3</th>\n",
       "      <td>BetaCoV/Wuhan/IVDC-HB-04/2020</td>\n",
       "      <td>NMDC60013085-01</td>\n",
       "      <td>NMDC</td>\n",
       "      <td>EPI_ISL_402120</td>\n",
       "      <td>Complete</td>\n",
       "      <td>29896</td>\n",
       "      <td>High</td>\n",
       "      <td>0/0/0/2/NO</td>\n",
       "      <td>Homo sapiens</td>\n",
       "      <td>2020-01-01</td>\n",
       "      <td>China / Hubei / Wuhan</td>\n",
       "      <td>National Institute for Viral Disease Control a...</td>\n",
       "      <td>2020-01-11</td>\n",
       "      <td>National Institute for Viral Disease Control a...</td>\n",
       "      <td>2020-01-20 20:04:48</td>\n",
       "      <td>2020-05-07 23:03:25</td>\n",
       "    </tr>\n",
       "    <tr>\n",
       "      <th>4</th>\n",
       "      <td>BetaCoV/Wuhan/IVDC-HB-01/2019</td>\n",
       "      <td>NMDC60013084-01</td>\n",
       "      <td>NMDC</td>\n",
       "      <td>EPI_ISL_402119</td>\n",
       "      <td>Complete</td>\n",
       "      <td>29891</td>\n",
       "      <td>High</td>\n",
       "      <td>0/0/0/0/NO</td>\n",
       "      <td>Homo sapiens</td>\n",
       "      <td>2019-12-30</td>\n",
       "      <td>China / Hubei / Wuhan</td>\n",
       "      <td>National Institute for Viral Disease Control a...</td>\n",
       "      <td>2020-01-10</td>\n",
       "      <td>National Institute for Viral Disease Control a...</td>\n",
       "      <td>2020-01-20 20:04:48</td>\n",
       "      <td>2020-05-07 23:03:25</td>\n",
       "    </tr>\n",
       "  </tbody>\n",
       "</table>\n",
       "</div>"
      ],
      "text/plain": [
       "                Virus Strain Name     Accession ID Data Source  \\\n",
       "0  BetaCoV/Wuhan/HBCDC-HB-01/2019  NMDC60013088-01        NMDC   \n",
       "1        hCoV-19/Thailand/74/2020   EPI_ISL_403963      GISAID   \n",
       "2        hCoV-19/Thailand/61/2020   EPI_ISL_403962      GISAID   \n",
       "3   BetaCoV/Wuhan/IVDC-HB-04/2020  NMDC60013085-01        NMDC   \n",
       "4   BetaCoV/Wuhan/IVDC-HB-01/2019  NMDC60013084-01        NMDC   \n",
       "\n",
       "       Related ID Nuc.Completeness Sequence Length Sequence Quality  \\\n",
       "0  EPI_ISL_402132         Complete           29848             High   \n",
       "1                         Complete           29859             High   \n",
       "2                         Complete           29848             High   \n",
       "3  EPI_ISL_402120         Complete           29896             High   \n",
       "4  EPI_ISL_402119         Complete           29891             High   \n",
       "\n",
       "  Quality Assessment          Host Sample Collection Date  \\\n",
       "0         0/0/0/1/NO  Homo sapiens             2019-12-30   \n",
       "1         0/0/0/0/NO  Homo sapiens             2020-01-13   \n",
       "2         0/0/0/0/NO  Homo sapiens             2020-01-08   \n",
       "3         0/0/0/2/NO  Homo sapiens             2020-01-01   \n",
       "4         0/0/0/0/NO  Homo sapiens             2019-12-30   \n",
       "\n",
       "                        Location  \\\n",
       "0                  China / Hubei   \n",
       "1  Thailand/ Nonthaburi Province   \n",
       "2  Thailand/ Nonthaburi Province   \n",
       "3          China / Hubei / Wuhan   \n",
       "4          China / Hubei / Wuhan   \n",
       "\n",
       "                                     Originating Lab Submission Date  \\\n",
       "0  Hubei Provincial Center for Disease Control an...      2020-01-19   \n",
       "1  Department of Medical Sciences, Ministry of Pu...      2020-01-17   \n",
       "2  Department of Medical Sciences, Ministry of Pu...      2020-01-17   \n",
       "3  National Institute for Viral Disease Control a...      2020-01-11   \n",
       "4  National Institute for Viral Disease Control a...      2020-01-10   \n",
       "\n",
       "                                      Submitting Lab          Create Time  \\\n",
       "0  Hubei Provincial Center for Disease Control an...  2020-01-20 20:04:48   \n",
       "1  Department of Medical Sciences, Ministry of Pu...  2020-01-20 20:04:48   \n",
       "2  Department of Medical Sciences, Ministry of Pu...  2020-01-20 20:04:48   \n",
       "3  National Institute for Viral Disease Control a...  2020-01-20 20:04:48   \n",
       "4  National Institute for Viral Disease Control a...  2020-01-20 20:04:48   \n",
       "\n",
       "      Last Update Time  \n",
       "0  2020-05-07 23:03:25  \n",
       "1  2020-06-28 15:24:28  \n",
       "2  2020-06-28 15:24:28  \n",
       "3  2020-05-07 23:03:25  \n",
       "4  2020-05-07 23:03:25  "
      ]
     },
     "execution_count": 12,
     "metadata": {},
     "output_type": "execute_result"
    }
   ],
   "source": [
    "df.head()"
   ]
  },
  {
   "cell_type": "markdown",
   "metadata": {},
   "source": [
    "#### Create a separate row for each Accession and Related ID"
   ]
  },
  {
   "cell_type": "code",
   "execution_count": 13,
   "metadata": {},
   "outputs": [],
   "source": [
    "df['Accession ID'] = df['Accession ID'].str.strip()\n",
    "df['Related ID'] = df['Related ID'].str.strip()\n",
    "\n",
    "# combine all ids into a single column\n",
    "df['alias'] = df['Accession ID'] + df['Related ID'].apply(lambda s: ',' + s if len(s) > 0 else s)\n",
    "df['alias'] = df['alias'].str.replace(' ', '')\n",
    "\n",
    "# then \"explode\" ids into separate rows\n",
    "df['id'] = df['alias'].apply(lambda s: s.split(','))\n",
    "df = df.explode('id')\n",
    "df['id'] = df['id'].str.strip()\n",
    "df['alias'] = df['alias'].str.replace(',', ';')"
   ]
  },
  {
   "cell_type": "markdown",
   "metadata": {},
   "source": [
    "#### Assign taxonomy ids"
   ]
  },
  {
   "cell_type": "code",
   "execution_count": 14,
   "metadata": {},
   "outputs": [],
   "source": [
    "# read Organism reference dictionary\n",
    "organism_to_id = dict()\n",
    "data = pd.read_csv(\"../../reference_data/OrganismDictionary.csv\", comment='#')\n",
    "for index, row in data.iterrows():\n",
    "    organism_to_id[row['organism']] = row['taxonomyId']"
   ]
  },
  {
   "cell_type": "code",
   "execution_count": 15,
   "metadata": {},
   "outputs": [
    {
     "data": {
      "text/plain": [
       "array(['taxonomy:9606', 'taxonomy:59477 ', 'Environment', 'taxonomy:9974',\n",
       "       'taxonomy:608659', 'taxonomy:419130', 'taxonomy:9666',\n",
       "       'taxonomy:9608', 'taxonomy:10090', 'taxonomy:9685'], dtype=object)"
      ]
     },
     "execution_count": 15,
     "metadata": {},
     "output_type": "execute_result"
    }
   ],
   "source": [
    "# assign taxonomy id to host\n",
    "df['Host'] = df['Host'].str.strip()\n",
    "df['hostTaxonomyId'] = df['Host'].apply(lambda s: organism_to_id.get(s.lower(), s))\n",
    "df['hostTaxonomyId'].unique()"
   ]
  },
  {
   "cell_type": "code",
   "execution_count": 16,
   "metadata": {},
   "outputs": [],
   "source": [
    "df['taxonomyId'] = 'taxonomy:2697049' # SARS-CoV-2"
   ]
  },
  {
   "cell_type": "markdown",
   "metadata": {},
   "source": [
    "#### Standardize node property names (CURIEs and URIs)"
   ]
  },
  {
   "cell_type": "code",
   "execution_count": 17,
   "metadata": {},
   "outputs": [],
   "source": [
    "df.rename(columns={'Virus Strain Name': 'name',\n",
    "                   'Sample Collection Date':'collectionDate',\n",
    "                   'Location':'location'}, \n",
    "          inplace=True)"
   ]
  },
  {
   "cell_type": "code",
   "execution_count": 18,
   "metadata": {},
   "outputs": [],
   "source": [
    "# https://registry.identifiers.org/registry/insdc\n",
    "insdc_pattern = re.compile('^([A-Z]\\d{5}|[A-Z]{2}\\d{6}|[A-Z]{4}\\d{8}|[A-J][A-Z]{2}\\d{5})(\\.\\d+)?$')"
   ]
  },
  {
   "cell_type": "code",
   "execution_count": 19,
   "metadata": {},
   "outputs": [],
   "source": [
    "def assign_curie(id):\n",
    "    id = id.strip()\n",
    "    # remove underscore to enable CURIE matching of NCBI reference sequences NC_...\n",
    "    id = id.replace('NC_', 'NC') \n",
    "    if len(id) > 0:\n",
    "        if id.startswith('EPI'):\n",
    "            return 'https://www.gisaid.org/' + id\n",
    "        elif id.startswith('NC_'):\n",
    "            # NCBI reference sequences resolve with ncbiprotein CURIE\n",
    "            return 'ncbiprotein:' + id\n",
    "        elif insdc_pattern.match(id) != None:\n",
    "            return 'insdc:' + id\n",
    "        else:\n",
    "            # TODO are URIs available for these cases?\n",
    "            return id\n",
    "    else:\n",
    "        return id"
   ]
  },
  {
   "cell_type": "code",
   "execution_count": 20,
   "metadata": {},
   "outputs": [
    {
     "data": {
      "text/html": [
       "<div>\n",
       "<style scoped>\n",
       "    .dataframe tbody tr th:only-of-type {\n",
       "        vertical-align: middle;\n",
       "    }\n",
       "\n",
       "    .dataframe tbody tr th {\n",
       "        vertical-align: top;\n",
       "    }\n",
       "\n",
       "    .dataframe thead th {\n",
       "        text-align: right;\n",
       "    }\n",
       "</style>\n",
       "<table border=\"1\" class=\"dataframe\">\n",
       "  <thead>\n",
       "    <tr style=\"text-align: right;\">\n",
       "      <th></th>\n",
       "      <th>id</th>\n",
       "      <th>name</th>\n",
       "      <th>alias</th>\n",
       "      <th>taxonomyId</th>\n",
       "      <th>hostTaxonomyId</th>\n",
       "      <th>collectionDate</th>\n",
       "      <th>location</th>\n",
       "    </tr>\n",
       "  </thead>\n",
       "  <tbody>\n",
       "    <tr>\n",
       "      <th>0</th>\n",
       "      <td>NMDC60013088-01</td>\n",
       "      <td>BetaCoV/Wuhan/HBCDC-HB-01/2019</td>\n",
       "      <td>NMDC60013088-01;EPI_ISL_402132</td>\n",
       "      <td>taxonomy:2697049</td>\n",
       "      <td>taxonomy:9606</td>\n",
       "      <td>2019-12-30</td>\n",
       "      <td>China / Hubei</td>\n",
       "    </tr>\n",
       "    <tr>\n",
       "      <th>0</th>\n",
       "      <td>https://www.gisaid.org/EPI_ISL_402132</td>\n",
       "      <td>BetaCoV/Wuhan/HBCDC-HB-01/2019</td>\n",
       "      <td>NMDC60013088-01;EPI_ISL_402132</td>\n",
       "      <td>taxonomy:2697049</td>\n",
       "      <td>taxonomy:9606</td>\n",
       "      <td>2019-12-30</td>\n",
       "      <td>China / Hubei</td>\n",
       "    </tr>\n",
       "    <tr>\n",
       "      <th>1</th>\n",
       "      <td>https://www.gisaid.org/EPI_ISL_403963</td>\n",
       "      <td>hCoV-19/Thailand/74/2020</td>\n",
       "      <td>EPI_ISL_403963</td>\n",
       "      <td>taxonomy:2697049</td>\n",
       "      <td>taxonomy:9606</td>\n",
       "      <td>2020-01-13</td>\n",
       "      <td>Thailand/ Nonthaburi Province</td>\n",
       "    </tr>\n",
       "    <tr>\n",
       "      <th>2</th>\n",
       "      <td>https://www.gisaid.org/EPI_ISL_403962</td>\n",
       "      <td>hCoV-19/Thailand/61/2020</td>\n",
       "      <td>EPI_ISL_403962</td>\n",
       "      <td>taxonomy:2697049</td>\n",
       "      <td>taxonomy:9606</td>\n",
       "      <td>2020-01-08</td>\n",
       "      <td>Thailand/ Nonthaburi Province</td>\n",
       "    </tr>\n",
       "    <tr>\n",
       "      <th>3</th>\n",
       "      <td>NMDC60013085-01</td>\n",
       "      <td>BetaCoV/Wuhan/IVDC-HB-04/2020</td>\n",
       "      <td>NMDC60013085-01;EPI_ISL_402120</td>\n",
       "      <td>taxonomy:2697049</td>\n",
       "      <td>taxonomy:9606</td>\n",
       "      <td>2020-01-01</td>\n",
       "      <td>China / Hubei / Wuhan</td>\n",
       "    </tr>\n",
       "  </tbody>\n",
       "</table>\n",
       "</div>"
      ],
      "text/plain": [
       "                                      id                            name  \\\n",
       "0                        NMDC60013088-01  BetaCoV/Wuhan/HBCDC-HB-01/2019   \n",
       "0  https://www.gisaid.org/EPI_ISL_402132  BetaCoV/Wuhan/HBCDC-HB-01/2019   \n",
       "1  https://www.gisaid.org/EPI_ISL_403963        hCoV-19/Thailand/74/2020   \n",
       "2  https://www.gisaid.org/EPI_ISL_403962        hCoV-19/Thailand/61/2020   \n",
       "3                        NMDC60013085-01   BetaCoV/Wuhan/IVDC-HB-04/2020   \n",
       "\n",
       "                            alias        taxonomyId hostTaxonomyId  \\\n",
       "0  NMDC60013088-01;EPI_ISL_402132  taxonomy:2697049  taxonomy:9606   \n",
       "0  NMDC60013088-01;EPI_ISL_402132  taxonomy:2697049  taxonomy:9606   \n",
       "1                  EPI_ISL_403963  taxonomy:2697049  taxonomy:9606   \n",
       "2                  EPI_ISL_403962  taxonomy:2697049  taxonomy:9606   \n",
       "3  NMDC60013085-01;EPI_ISL_402120  taxonomy:2697049  taxonomy:9606   \n",
       "\n",
       "  collectionDate                       location  \n",
       "0     2019-12-30                  China / Hubei  \n",
       "0     2019-12-30                  China / Hubei  \n",
       "1     2020-01-13  Thailand/ Nonthaburi Province  \n",
       "2     2020-01-08  Thailand/ Nonthaburi Province  \n",
       "3     2020-01-01          China / Hubei / Wuhan  "
      ]
     },
     "execution_count": 20,
     "metadata": {},
     "output_type": "execute_result"
    }
   ],
   "source": [
    "strains = df[['id', 'name', 'alias', 'taxonomyId', 'hostTaxonomyId','collectionDate', 'location']].copy()\n",
    "strains['id'] = strains['id'].apply(assign_curie)\n",
    "strains.head()"
   ]
  },
  {
   "cell_type": "code",
   "execution_count": 21,
   "metadata": {},
   "outputs": [],
   "source": [
    "strains.to_csv(NEO4J_IMPORT / \"01d-CNCBStrain.csv\", index=False)"
   ]
  },
  {
   "cell_type": "markdown",
   "metadata": {},
   "source": [
    "## Merge Metadata with Variation Data"
   ]
  },
  {
   "cell_type": "markdown",
   "metadata": {},
   "source": [
    "#### Get list of file names from FTP site"
   ]
  },
  {
   "cell_type": "code",
   "execution_count": 22,
   "metadata": {},
   "outputs": [
    {
     "data": {
      "text/plain": [
       "'221 Goodbye.'"
      ]
     },
     "execution_count": 22,
     "metadata": {},
     "output_type": "execute_result"
    }
   ],
   "source": [
    "server = \"download.big.ac.cn\"\n",
    "user = \"anonymous\"\n",
    "password = \"anonymous\"\n",
    "source = \"/GVM/Coronavirus/gff3/\"\n",
    "\n",
    "ftp = ftplib.FTP(server)\n",
    "ftp.login(user, password)\n",
    "ftp.cwd(source) \n",
    "filelist=ftp.nlst()\n",
    "ftp.quit()"
   ]
  },
  {
   "cell_type": "code",
   "execution_count": 23,
   "metadata": {},
   "outputs": [],
   "source": [
    "df_file = pd.DataFrame(filelist, columns=['filename'])"
   ]
  },
  {
   "cell_type": "markdown",
   "metadata": {},
   "source": [
    "Extract identifiers from file name\n",
    "\n",
    "Example: 2019-nCoV_CNA0013697_variants.gff3 -> CNA0013697"
   ]
  },
  {
   "cell_type": "code",
   "execution_count": 24,
   "metadata": {},
   "outputs": [],
   "source": [
    "df_file['id'] = df_file['filename'].str[10:]\n",
    "df_file['id'] = df_file['id'].str.replace('_variants.gff3','')"
   ]
  },
  {
   "cell_type": "code",
   "execution_count": 25,
   "metadata": {},
   "outputs": [],
   "source": [
    "df_file = df_file.query(\"id != ''\")"
   ]
  },
  {
   "cell_type": "code",
   "execution_count": 26,
   "metadata": {},
   "outputs": [
    {
     "name": "stdout",
     "output_type": "stream",
     "text": [
      "Number of available files: 31721\n"
     ]
    }
   ],
   "source": [
    "print(\"Number of available files:\", df_file.shape[0])"
   ]
  },
  {
   "cell_type": "code",
   "execution_count": 27,
   "metadata": {},
   "outputs": [
    {
     "data": {
      "text/html": [
       "<div>\n",
       "<style scoped>\n",
       "    .dataframe tbody tr th:only-of-type {\n",
       "        vertical-align: middle;\n",
       "    }\n",
       "\n",
       "    .dataframe tbody tr th {\n",
       "        vertical-align: top;\n",
       "    }\n",
       "\n",
       "    .dataframe thead th {\n",
       "        text-align: right;\n",
       "    }\n",
       "</style>\n",
       "<table border=\"1\" class=\"dataframe\">\n",
       "  <thead>\n",
       "    <tr style=\"text-align: right;\">\n",
       "      <th></th>\n",
       "      <th>filename</th>\n",
       "      <th>id</th>\n",
       "    </tr>\n",
       "  </thead>\n",
       "  <tbody>\n",
       "    <tr>\n",
       "      <th>0</th>\n",
       "      <td>2019-nCoV_CNA0007332_variants.gff3</td>\n",
       "      <td>CNA0007332</td>\n",
       "    </tr>\n",
       "    <tr>\n",
       "      <th>1</th>\n",
       "      <td>2019-nCoV_CNA0007334_variants.gff3</td>\n",
       "      <td>CNA0007334</td>\n",
       "    </tr>\n",
       "    <tr>\n",
       "      <th>2</th>\n",
       "      <td>2019-nCoV_CNA0007335_variants.gff3</td>\n",
       "      <td>CNA0007335</td>\n",
       "    </tr>\n",
       "    <tr>\n",
       "      <th>3</th>\n",
       "      <td>2019-nCoV_CNA0013697_variants.gff3</td>\n",
       "      <td>CNA0013697</td>\n",
       "    </tr>\n",
       "    <tr>\n",
       "      <th>4</th>\n",
       "      <td>2019-nCoV_CNA0013698_variants.gff3</td>\n",
       "      <td>CNA0013698</td>\n",
       "    </tr>\n",
       "  </tbody>\n",
       "</table>\n",
       "</div>"
      ],
      "text/plain": [
       "                             filename          id\n",
       "0  2019-nCoV_CNA0007332_variants.gff3  CNA0007332\n",
       "1  2019-nCoV_CNA0007334_variants.gff3  CNA0007334\n",
       "2  2019-nCoV_CNA0007335_variants.gff3  CNA0007335\n",
       "3  2019-nCoV_CNA0013697_variants.gff3  CNA0013697\n",
       "4  2019-nCoV_CNA0013698_variants.gff3  CNA0013698"
      ]
     },
     "execution_count": 27,
     "metadata": {},
     "output_type": "execute_result"
    }
   ],
   "source": [
    "df_file.head()"
   ]
  },
  {
   "cell_type": "code",
   "execution_count": 28,
   "metadata": {},
   "outputs": [],
   "source": [
    "df = df.merge(df_file, on='id')"
   ]
  },
  {
   "cell_type": "code",
   "execution_count": 29,
   "metadata": {},
   "outputs": [
    {
     "name": "stdout",
     "output_type": "stream",
     "text": [
      "Strains with a matching filename: 31642\n"
     ]
    }
   ],
   "source": [
    "print('Strains with a matching filename:', df.shape[0])"
   ]
  },
  {
   "cell_type": "code",
   "execution_count": 30,
   "metadata": {},
   "outputs": [],
   "source": [
    "if run_small_sample_only:\n",
    "    df = df.sample(n=50, random_state=5)"
   ]
  },
  {
   "cell_type": "code",
   "execution_count": 31,
   "metadata": {},
   "outputs": [
    {
     "data": {
      "text/html": [
       "<div>\n",
       "<style scoped>\n",
       "    .dataframe tbody tr th:only-of-type {\n",
       "        vertical-align: middle;\n",
       "    }\n",
       "\n",
       "    .dataframe tbody tr th {\n",
       "        vertical-align: top;\n",
       "    }\n",
       "\n",
       "    .dataframe thead th {\n",
       "        text-align: right;\n",
       "    }\n",
       "</style>\n",
       "<table border=\"1\" class=\"dataframe\">\n",
       "  <thead>\n",
       "    <tr style=\"text-align: right;\">\n",
       "      <th></th>\n",
       "      <th>name</th>\n",
       "      <th>Accession ID</th>\n",
       "      <th>Data Source</th>\n",
       "      <th>Related ID</th>\n",
       "      <th>Nuc.Completeness</th>\n",
       "      <th>Sequence Length</th>\n",
       "      <th>Sequence Quality</th>\n",
       "      <th>Quality Assessment</th>\n",
       "      <th>Host</th>\n",
       "      <th>collectionDate</th>\n",
       "      <th>location</th>\n",
       "      <th>Originating Lab</th>\n",
       "      <th>Submission Date</th>\n",
       "      <th>Submitting Lab</th>\n",
       "      <th>Create Time</th>\n",
       "      <th>Last Update Time</th>\n",
       "      <th>alias</th>\n",
       "      <th>id</th>\n",
       "      <th>hostTaxonomyId</th>\n",
       "      <th>taxonomyId</th>\n",
       "      <th>filename</th>\n",
       "    </tr>\n",
       "  </thead>\n",
       "  <tbody>\n",
       "    <tr>\n",
       "      <th>5671</th>\n",
       "      <td>SARS-CoV-2/human/USA/RI_0882/2020</td>\n",
       "      <td>MT344960</td>\n",
       "      <td>GenBank</td>\n",
       "      <td>EPI_ISL_426435</td>\n",
       "      <td>Complete</td>\n",
       "      <td>29882</td>\n",
       "      <td>High</td>\n",
       "      <td>0/0/0/7/NO</td>\n",
       "      <td>Homo sapiens</td>\n",
       "      <td>2020-03-09</td>\n",
       "      <td>United States / RI</td>\n",
       "      <td>Division of Viral Diseases, Centers for Diseas...</td>\n",
       "      <td>2020-04-15</td>\n",
       "      <td>Division of Viral Diseases, Centers for Diseas...</td>\n",
       "      <td>2020-04-17 14:20:21</td>\n",
       "      <td>2020-04-17 14:20:21</td>\n",
       "      <td>MT344960;EPI_ISL_426435</td>\n",
       "      <td>MT344960</td>\n",
       "      <td>taxonomy:9606</td>\n",
       "      <td>taxonomy:2697049</td>\n",
       "      <td>2019-nCoV_MT344960_variants.gff3</td>\n",
       "    </tr>\n",
       "    <tr>\n",
       "      <th>13331</th>\n",
       "      <td>hCoV-19/Israel/13075882/2020</td>\n",
       "      <td>EPI_ISL_447442</td>\n",
       "      <td>GISAID</td>\n",
       "      <td></td>\n",
       "      <td>Complete</td>\n",
       "      <td>29892</td>\n",
       "      <td>High</td>\n",
       "      <td>0/0/0/8/28881~28883(3-3-1.00,SNP:28881; SNP:28...</td>\n",
       "      <td>Homo Sapiens</td>\n",
       "      <td>2020-03-30</td>\n",
       "      <td>Israel / Tel Aviv District</td>\n",
       "      <td>Stern Lab</td>\n",
       "      <td>2020-05-17</td>\n",
       "      <td>Stern Lab</td>\n",
       "      <td>2020-05-18 01:37:26</td>\n",
       "      <td>2020-05-18 01:37:26</td>\n",
       "      <td>EPI_ISL_447442</td>\n",
       "      <td>EPI_ISL_447442</td>\n",
       "      <td>taxonomy:9606</td>\n",
       "      <td>taxonomy:2697049</td>\n",
       "      <td>2019-nCoV_EPI_ISL_447442_variants.gff3</td>\n",
       "    </tr>\n",
       "    <tr>\n",
       "      <th>27595</th>\n",
       "      <td>hCoV-19/England/OXON-B1781/2020</td>\n",
       "      <td>EPI_ISL_479044</td>\n",
       "      <td>GISAID</td>\n",
       "      <td></td>\n",
       "      <td>Complete</td>\n",
       "      <td>29903</td>\n",
       "      <td>High</td>\n",
       "      <td>0/0/0/8/NO</td>\n",
       "      <td>Homo Sapiens</td>\n",
       "      <td>2020-05-04</td>\n",
       "      <td>United Kingdom / England</td>\n",
       "      <td>Oxford Viromics, NDM, University of Oxford; Ox...</td>\n",
       "      <td>2020-06-30</td>\n",
       "      <td>COVID-19 Genomics UK (COG-UK) Consortium</td>\n",
       "      <td>2020-07-01 19:10:51</td>\n",
       "      <td>2020-07-01 19:10:51</td>\n",
       "      <td>EPI_ISL_479044</td>\n",
       "      <td>EPI_ISL_479044</td>\n",
       "      <td>taxonomy:9606</td>\n",
       "      <td>taxonomy:2697049</td>\n",
       "      <td>2019-nCoV_EPI_ISL_479044_variants.gff3</td>\n",
       "    </tr>\n",
       "    <tr>\n",
       "      <th>24890</th>\n",
       "      <td>hCoV-19/England/BIRM-5F8CE/2020</td>\n",
       "      <td>EPI_ISL_473347</td>\n",
       "      <td>GISAID</td>\n",
       "      <td></td>\n",
       "      <td>Complete</td>\n",
       "      <td>29876</td>\n",
       "      <td>High</td>\n",
       "      <td>2/0/1/8/28881~28883(3-3-1.00,SNP:28881; SNP:28...</td>\n",
       "      <td>Homo Sapiens</td>\n",
       "      <td>2020-05-18</td>\n",
       "      <td>United Kingdom / England</td>\n",
       "      <td>University of Birmingham</td>\n",
       "      <td>2020-06-23</td>\n",
       "      <td>COVID-19 Genomics UK (COG-UK) Consortium</td>\n",
       "      <td>2020-06-24 18:33:55</td>\n",
       "      <td>2020-06-24 18:33:55</td>\n",
       "      <td>EPI_ISL_473347</td>\n",
       "      <td>EPI_ISL_473347</td>\n",
       "      <td>taxonomy:9606</td>\n",
       "      <td>taxonomy:2697049</td>\n",
       "      <td>2019-nCoV_EPI_ISL_473347_variants.gff3</td>\n",
       "    </tr>\n",
       "    <tr>\n",
       "      <th>17560</th>\n",
       "      <td>hCoV-19/Croatia/7R-S8new/2020</td>\n",
       "      <td>EPI_ISL_455567</td>\n",
       "      <td>GISAID</td>\n",
       "      <td></td>\n",
       "      <td>Complete</td>\n",
       "      <td>29884</td>\n",
       "      <td>High</td>\n",
       "      <td>0/0/0/7/NO</td>\n",
       "      <td>Homo Sapiens</td>\n",
       "      <td>2020-03-29</td>\n",
       "      <td>Croatia / Istria</td>\n",
       "      <td>Institute for Public Health</td>\n",
       "      <td>2020-05-31</td>\n",
       "      <td>Laboratory for advanced genomics</td>\n",
       "      <td>2020-06-01 12:13:52</td>\n",
       "      <td>2020-06-01 12:13:52</td>\n",
       "      <td>EPI_ISL_455567</td>\n",
       "      <td>EPI_ISL_455567</td>\n",
       "      <td>taxonomy:9606</td>\n",
       "      <td>taxonomy:2697049</td>\n",
       "      <td>2019-nCoV_EPI_ISL_455567_variants.gff3</td>\n",
       "    </tr>\n",
       "  </tbody>\n",
       "</table>\n",
       "</div>"
      ],
      "text/plain": [
       "                                    name    Accession ID Data Source  \\\n",
       "5671   SARS-CoV-2/human/USA/RI_0882/2020        MT344960     GenBank   \n",
       "13331       hCoV-19/Israel/13075882/2020  EPI_ISL_447442      GISAID   \n",
       "27595    hCoV-19/England/OXON-B1781/2020  EPI_ISL_479044      GISAID   \n",
       "24890    hCoV-19/England/BIRM-5F8CE/2020  EPI_ISL_473347      GISAID   \n",
       "17560      hCoV-19/Croatia/7R-S8new/2020  EPI_ISL_455567      GISAID   \n",
       "\n",
       "           Related ID Nuc.Completeness Sequence Length Sequence Quality  \\\n",
       "5671   EPI_ISL_426435         Complete           29882             High   \n",
       "13331                         Complete           29892             High   \n",
       "27595                         Complete           29903             High   \n",
       "24890                         Complete           29876             High   \n",
       "17560                         Complete           29884             High   \n",
       "\n",
       "                                      Quality Assessment          Host  \\\n",
       "5671                                          0/0/0/7/NO  Homo sapiens   \n",
       "13331  0/0/0/8/28881~28883(3-3-1.00,SNP:28881; SNP:28...  Homo Sapiens   \n",
       "27595                                         0/0/0/8/NO  Homo Sapiens   \n",
       "24890  2/0/1/8/28881~28883(3-3-1.00,SNP:28881; SNP:28...  Homo Sapiens   \n",
       "17560                                         0/0/0/7/NO  Homo Sapiens   \n",
       "\n",
       "      collectionDate                    location  \\\n",
       "5671      2020-03-09          United States / RI   \n",
       "13331     2020-03-30  Israel / Tel Aviv District   \n",
       "27595     2020-05-04    United Kingdom / England   \n",
       "24890     2020-05-18    United Kingdom / England   \n",
       "17560     2020-03-29            Croatia / Istria   \n",
       "\n",
       "                                         Originating Lab Submission Date  \\\n",
       "5671   Division of Viral Diseases, Centers for Diseas...      2020-04-15   \n",
       "13331                                          Stern Lab      2020-05-17   \n",
       "27595  Oxford Viromics, NDM, University of Oxford; Ox...      2020-06-30   \n",
       "24890                           University of Birmingham      2020-06-23   \n",
       "17560                        Institute for Public Health      2020-05-31   \n",
       "\n",
       "                                          Submitting Lab          Create Time  \\\n",
       "5671   Division of Viral Diseases, Centers for Diseas...  2020-04-17 14:20:21   \n",
       "13331                                          Stern Lab  2020-05-18 01:37:26   \n",
       "27595           COVID-19 Genomics UK (COG-UK) Consortium  2020-07-01 19:10:51   \n",
       "24890           COVID-19 Genomics UK (COG-UK) Consortium  2020-06-24 18:33:55   \n",
       "17560                   Laboratory for advanced genomics  2020-06-01 12:13:52   \n",
       "\n",
       "          Last Update Time                    alias              id  \\\n",
       "5671   2020-04-17 14:20:21  MT344960;EPI_ISL_426435        MT344960   \n",
       "13331  2020-05-18 01:37:26           EPI_ISL_447442  EPI_ISL_447442   \n",
       "27595  2020-07-01 19:10:51           EPI_ISL_479044  EPI_ISL_479044   \n",
       "24890  2020-06-24 18:33:55           EPI_ISL_473347  EPI_ISL_473347   \n",
       "17560  2020-06-01 12:13:52           EPI_ISL_455567  EPI_ISL_455567   \n",
       "\n",
       "      hostTaxonomyId        taxonomyId                                filename  \n",
       "5671   taxonomy:9606  taxonomy:2697049        2019-nCoV_MT344960_variants.gff3  \n",
       "13331  taxonomy:9606  taxonomy:2697049  2019-nCoV_EPI_ISL_447442_variants.gff3  \n",
       "27595  taxonomy:9606  taxonomy:2697049  2019-nCoV_EPI_ISL_479044_variants.gff3  \n",
       "24890  taxonomy:9606  taxonomy:2697049  2019-nCoV_EPI_ISL_473347_variants.gff3  \n",
       "17560  taxonomy:9606  taxonomy:2697049  2019-nCoV_EPI_ISL_455567_variants.gff3  "
      ]
     },
     "execution_count": 31,
     "metadata": {},
     "output_type": "execute_result"
    }
   ],
   "source": [
    "df.head()"
   ]
  },
  {
   "cell_type": "markdown",
   "metadata": {},
   "source": [
    "Keep only unique entries (there are a few duplicate cases)"
   ]
  },
  {
   "cell_type": "code",
   "execution_count": 32,
   "metadata": {},
   "outputs": [],
   "source": [
    "df.drop_duplicates(subset='name', inplace=True)\n",
    "df.drop_duplicates(subset='id', inplace=True)"
   ]
  },
  {
   "cell_type": "code",
   "execution_count": 33,
   "metadata": {},
   "outputs": [
    {
     "name": "stdout",
     "output_type": "stream",
     "text": [
      "Strains with a matching filename: 50\n"
     ]
    }
   ],
   "source": [
    "print('Strains with a matching filename:', df.shape[0])"
   ]
  },
  {
   "cell_type": "markdown",
   "metadata": {},
   "source": [
    "#### Download variant annotations for each strain\n",
    "To avoid download the same files every time, they are cached, and newly downloaded files are added to the cache."
   ]
  },
  {
   "cell_type": "code",
   "execution_count": 34,
   "metadata": {},
   "outputs": [],
   "source": [
    "names = ['taxon1', 'variantType', 'name', 'start', 'end','x1', 'x2', 'x3','taxon2', 'x4', 'strainStart', 'taxon3', 'x5', 'strainEnd', 'ref', 'alt', 'vepAnnotation']"
   ]
  },
  {
   "cell_type": "code",
   "execution_count": 35,
   "metadata": {},
   "outputs": [],
   "source": [
    "def download_gff3(filename, url):\n",
    "    gff3 = pd.read_csv(url, header=None, comment='#', sep='[\\t|;]', engine='python', names=names)\n",
    "    try:\n",
    "        gff3['ref'] = gff3['ref'].str.replace('REF=','')\n",
    "        gff3['alt'] = gff3['alt'].str.replace('ALT=','')\n",
    "        gff3['vepAnnotation'] = gff3['vepAnnotation'].str.replace('VEP=','')\n",
    "        # prepare for 3-way split (need at least two commas)\n",
    "        gff3['vepAnnotation'] = gff3['vepAnnotation'].apply(lambda s: s + ',,' if s.count(',') < 2 else s)\n",
    "        # 3-way split\n",
    "        gff3[['variantConsequence','proteinVariant','geneVariant']] = gff3['vepAnnotation'].str.split(',', n=2, expand=True)\n",
    "        gff3['geneVariant'] = gff3['geneVariant'].str.replace('gene-','')\n",
    "        gff3 = gff3[['name', 'variantType', 'start', 'end', 'ref', 'alt', 'variantConsequence', 'proteinVariant', 'geneVariant']]\n",
    "    \n",
    "        filename = row['filename'] + '.csv'\n",
    "        gff3.to_csv(CACHE / filename, index=False)\n",
    "    except:\n",
    "        print('Parsing failed for: ', row['filename'])\n",
    "        # cache files that failed to parse so we don't reprocess them next time\n",
    "        filename = row['filename'] + '.csv'\n",
    "        gff3 = pd.read_csv(url, header=None, comment='#', sep='[\\t|;]', engine='python', names=names)\n",
    "        gff3.to_csv(CACHE_FAILED / filename, index=False)"
   ]
  },
  {
   "cell_type": "code",
   "execution_count": 36,
   "metadata": {},
   "outputs": [
    {
     "name": "stdout",
     "output_type": "stream",
     "text": [
      "2019-nCoV_MT344960_variants.gff3 2019-nCoV_EPI_ISL_479044_variants.gff3 2019-nCoV_EPI_ISL_473347_variants.gff3 2019-nCoV_EPI_ISL_455567_variants.gff3 2019-nCoV_EPI_ISL_463260_variants.gff3 2019-nCoV_EPI_ISL_456906_variants.gff3 2019-nCoV_MT706144_variants.gff3 2019-nCoV_EPI_ISL_486505_variants.gff3 2019-nCoV_EPI_ISL_463705_variants.gff3 2019-nCoV_EPI_ISL_444717_variants.gff3 2019-nCoV_NMDC60013174_variants.gff3 2019-nCoV_EPI_ISL_457988_variants.gff3 2019-nCoV_MT470146_variants.gff3 2019-nCoV_EPI_ISL_429815_variants.gff3 2019-nCoV_EPI_ISL_483316_variants.gff3 2019-nCoV_EPI_ISL_481676_variants.gff3 2019-nCoV_EPI_ISL_429421_variants.gff3 2019-nCoV_EPI_ISL_485193_variants.gff3 2019-nCoV_EPI_ISL_480365_variants.gff3 2019-nCoV_EPI_ISL_434047_variants.gff3 2019-nCoV_EPI_ISL_477005_variants.gff3 2019-nCoV_EPI_ISL_465708_variants.gff3 2019-nCoV_EPI_ISL_468482_variants.gff3 2019-nCoV_EPI_ISL_480998_variants.gff3 2019-nCoV_MT658504_variants.gff3 2019-nCoV_EPI_ISL_457594_variants.gff3 2019-nCoV_EPI_ISL_424483_variants.gff3 2019-nCoV_EPI_ISL_447858_variants.gff3 2019-nCoV_EPI_ISL_473045_variants.gff3 2019-nCoV_EPI_ISL_471472_variants.gff3 2019-nCoV_EPI_ISL_449276_variants.gff3 2019-nCoV_EPI_ISL_478860_variants.gff3 2019-nCoV_EPI_ISL_455192_variants.gff3 2019-nCoV_EPI_ISL_437931_variants.gff3 Parsing failed for:  2019-nCoV_EPI_ISL_425730_variants.gff3\n",
      "2019-nCoV_EPI_ISL_425730_variants.gff3 2019-nCoV_MT627755_variants.gff3 2019-nCoV_EPI_ISL_428253_variants.gff3 2019-nCoV_EPI_ISL_471613_variants.gff3 2019-nCoV_EPI_ISL_457127_variants.gff3 2019-nCoV_EPI_ISL_463429_variants.gff3 2019-nCoV_EPI_ISL_465309_variants.gff3 2019-nCoV_EPI_ISL_483596_variants.gff3 2019-nCoV_MT704135_variants.gff3 "
     ]
    }
   ],
   "source": [
    "for index, row in df.iterrows():\n",
    "    url = annotation_url + row['filename']\n",
    "    filename = row['filename'] + '.csv'\n",
    "    # skip files that have been processed in previous runs\n",
    "    if not (Path.exists(CACHE / filename) or Path.exists(CACHE_FAILED / filename)):\n",
    "        try:\n",
    "            download_gff3(row['filename'], url)\n",
    "            print(row['filename'], end=' ')\n",
    "        except:\n",
    "            print('Download failed for: ', row['filename'])"
   ]
  },
  {
   "cell_type": "markdown",
   "metadata": {},
   "source": [
    "### Concatenate all variation data into a single dataframe"
   ]
  },
  {
   "cell_type": "code",
   "execution_count": 37,
   "metadata": {},
   "outputs": [],
   "source": [
    "# use all cached data files\n",
    "path = str(CACHE / '*.gff3.csv')\n",
    "filenames = glob.glob(path)\n",
    "\n",
    "variations = pd.concat((pd.read_csv(f, index_col=None, header=0) for f in filenames))\n",
    "variations.fillna('', inplace=True)"
   ]
  },
  {
   "cell_type": "markdown",
   "metadata": {},
   "source": [
    "List of variant types and consequences:\n",
    "\n",
    "https://uswest.ensembl.org/info/genome/variation/prediction/classification.html\n",
    "\n",
    "https://uswest.ensembl.org/info/genome/variation/prediction/predicted_data.html#consequences"
   ]
  },
  {
   "cell_type": "markdown",
   "metadata": {},
   "source": [
    "#### Extract protein position and protein id from proteinVariant string\n",
    "\n",
    "Example: QHD43415.1:p.5828P>L\n",
    "\n",
    "proteinPosition: 5828\n",
    "proteinId: QHD43415"
   ]
  },
  {
   "cell_type": "code",
   "execution_count": 38,
   "metadata": {},
   "outputs": [],
   "source": [
    "position_pattern = re.compile(':p\\.(.*?)[A-Z|\\-]+')"
   ]
  },
  {
   "cell_type": "code",
   "execution_count": 39,
   "metadata": {},
   "outputs": [],
   "source": [
    "def extract_protein_position(s):\n",
    "    if s == '':\n",
    "        return s\n",
    "    else:\n",
    "        groups = position_pattern.search(s)\n",
    "        if groups == None:\n",
    "            return ''\n",
    "        else:\n",
    "            return groups.group(1)"
   ]
  },
  {
   "cell_type": "code",
   "execution_count": 40,
   "metadata": {},
   "outputs": [],
   "source": [
    "variations['proteinPosition'] = variations['proteinVariant'].apply(extract_protein_position)"
   ]
  },
  {
   "cell_type": "code",
   "execution_count": 41,
   "metadata": {},
   "outputs": [],
   "source": [
    "variations['proteinAccession'] = variations['proteinVariant'].apply(lambda s: s.split('.')[0] if '.' in s else '')"
   ]
  },
  {
   "cell_type": "code",
   "execution_count": 42,
   "metadata": {},
   "outputs": [
    {
     "data": {
      "text/plain": [
       "array(['QHD43415', 'QHD43416', 'QHD43422', '', 'QHD43417', 'QHI42199',\n",
       "       'QHD43423', 'QHD43419', 'QHD43418', 'QHD43421', 'QHD43420'],\n",
       "      dtype=object)"
      ]
     },
     "execution_count": 42,
     "metadata": {},
     "output_type": "execute_result"
    }
   ],
   "source": [
    "variations['proteinAccession'].unique()"
   ]
  },
  {
   "cell_type": "markdown",
   "metadata": {},
   "source": [
    "#### Assign SARS-CoV-2 taxonomy id"
   ]
  },
  {
   "cell_type": "code",
   "execution_count": 43,
   "metadata": {},
   "outputs": [],
   "source": [
    "variations['taxonomyId'] = 'taxonomy:2697049'"
   ]
  },
  {
   "cell_type": "markdown",
   "metadata": {},
   "source": [
    "#### Assign Reference genome\n",
    "\n",
    "The first SARS-CoV-2 genome sequence is the reference for the variant annotation below.\n",
    "\n",
    "[Severe acute respiratory syndrome coronavirus 2 isolate Wuhan-Hu-1](https://www.ncbi.nlm.nih.gov/nuccore/MN908947)"
   ]
  },
  {
   "cell_type": "code",
   "execution_count": 44,
   "metadata": {},
   "outputs": [],
   "source": [
    "# variations['referenceGenome'] = 'insdc:MN908947' -> same as NCBI reference sequence NC_045512\n",
    "variations['referenceGenome'] = 'ncbiprotein:NC_045512'"
   ]
  },
  {
   "cell_type": "code",
   "execution_count": 45,
   "metadata": {},
   "outputs": [],
   "source": [
    "variations['proteinAccession'] = variations['proteinAccession'].apply(lambda s: 'ncbiprotein:' + s if s != '' else s)"
   ]
  },
  {
   "cell_type": "code",
   "execution_count": 46,
   "metadata": {},
   "outputs": [
    {
     "name": "stdout",
     "output_type": "stream",
     "text": [
      "variantType: ['SNP' 'Deletion' 'Insertion' 'Indel']\n"
     ]
    }
   ],
   "source": [
    "print('variantType:', variations['variantType'].unique())"
   ]
  },
  {
   "cell_type": "code",
   "execution_count": 47,
   "metadata": {},
   "outputs": [
    {
     "name": "stdout",
     "output_type": "stream",
     "text": [
      "variantConsequence: ['synonymous_variant' 'missense_variant' 'intergenic_variant'\n",
      " 'upstream_gene_variant' 'downstream_gene_variant'\n",
      " 'coding_sequence_variant' 'inframe_deletion' 'inframe_insertion'\n",
      " 'frameshift_variant' 'stop_gained' 'protein_altering_variant'\n",
      " 'start_lost' 'stop_lost']\n"
     ]
    }
   ],
   "source": [
    "print(\"variantConsequence:\", variations['variantConsequence'].unique())"
   ]
  },
  {
   "cell_type": "code",
   "execution_count": 48,
   "metadata": {},
   "outputs": [
    {
     "name": "stdout",
     "output_type": "stream",
     "text": [
      "Number of variants: 47162\n"
     ]
    }
   ],
   "source": [
    "print(\"Number of variants:\", variations.shape[0])"
   ]
  },
  {
   "cell_type": "code",
   "execution_count": 49,
   "metadata": {},
   "outputs": [],
   "source": [
    "variations.to_csv(NEO4J_IMPORT / \"01d-CNCBVariant.csv\", index=False)"
   ]
  },
  {
   "cell_type": "code",
   "execution_count": 50,
   "metadata": {},
   "outputs": [
    {
     "data": {
      "text/html": [
       "<div>\n",
       "<style scoped>\n",
       "    .dataframe tbody tr th:only-of-type {\n",
       "        vertical-align: middle;\n",
       "    }\n",
       "\n",
       "    .dataframe tbody tr th {\n",
       "        vertical-align: top;\n",
       "    }\n",
       "\n",
       "    .dataframe thead th {\n",
       "        text-align: right;\n",
       "    }\n",
       "</style>\n",
       "<table border=\"1\" class=\"dataframe\">\n",
       "  <thead>\n",
       "    <tr style=\"text-align: right;\">\n",
       "      <th></th>\n",
       "      <th>name</th>\n",
       "      <th>variantType</th>\n",
       "      <th>start</th>\n",
       "      <th>end</th>\n",
       "      <th>ref</th>\n",
       "      <th>alt</th>\n",
       "      <th>variantConsequence</th>\n",
       "      <th>proteinVariant</th>\n",
       "      <th>geneVariant</th>\n",
       "      <th>proteinPosition</th>\n",
       "      <th>proteinAccession</th>\n",
       "      <th>taxonomyId</th>\n",
       "      <th>referenceGenome</th>\n",
       "    </tr>\n",
       "  </thead>\n",
       "  <tbody>\n",
       "    <tr>\n",
       "      <th>0</th>\n",
       "      <td>hCoV-19/Iceland/259/2020</td>\n",
       "      <td>SNP</td>\n",
       "      <td>8782</td>\n",
       "      <td>8782</td>\n",
       "      <td>C</td>\n",
       "      <td>T</td>\n",
       "      <td>synonymous_variant</td>\n",
       "      <td>QHD43415.1:p.2839S</td>\n",
       "      <td>orf1ab:c.8517agC&gt;agT</td>\n",
       "      <td>2839</td>\n",
       "      <td>ncbiprotein:QHD43415</td>\n",
       "      <td>taxonomy:2697049</td>\n",
       "      <td>ncbiprotein:NC_045512</td>\n",
       "    </tr>\n",
       "    <tr>\n",
       "      <th>1</th>\n",
       "      <td>hCoV-19/Iceland/259/2020</td>\n",
       "      <td>SNP</td>\n",
       "      <td>17747</td>\n",
       "      <td>17747</td>\n",
       "      <td>C</td>\n",
       "      <td>T</td>\n",
       "      <td>missense_variant</td>\n",
       "      <td>QHD43415.1:p.5828P&gt;L</td>\n",
       "      <td>orf1ab:c.17483cCt&gt;cTt</td>\n",
       "      <td>5828</td>\n",
       "      <td>ncbiprotein:QHD43415</td>\n",
       "      <td>taxonomy:2697049</td>\n",
       "      <td>ncbiprotein:NC_045512</td>\n",
       "    </tr>\n",
       "    <tr>\n",
       "      <th>2</th>\n",
       "      <td>hCoV-19/Iceland/259/2020</td>\n",
       "      <td>SNP</td>\n",
       "      <td>17858</td>\n",
       "      <td>17858</td>\n",
       "      <td>A</td>\n",
       "      <td>G</td>\n",
       "      <td>missense_variant</td>\n",
       "      <td>QHD43415.1:p.5865Y&gt;C</td>\n",
       "      <td>orf1ab:c.17594tAt&gt;tGt</td>\n",
       "      <td>5865</td>\n",
       "      <td>ncbiprotein:QHD43415</td>\n",
       "      <td>taxonomy:2697049</td>\n",
       "      <td>ncbiprotein:NC_045512</td>\n",
       "    </tr>\n",
       "    <tr>\n",
       "      <th>3</th>\n",
       "      <td>hCoV-19/Iceland/259/2020</td>\n",
       "      <td>SNP</td>\n",
       "      <td>18060</td>\n",
       "      <td>18060</td>\n",
       "      <td>C</td>\n",
       "      <td>T</td>\n",
       "      <td>synonymous_variant</td>\n",
       "      <td>QHD43415.1:p.5932L</td>\n",
       "      <td>orf1ab:c.17796ctC&gt;ctT</td>\n",
       "      <td>5932</td>\n",
       "      <td>ncbiprotein:QHD43415</td>\n",
       "      <td>taxonomy:2697049</td>\n",
       "      <td>ncbiprotein:NC_045512</td>\n",
       "    </tr>\n",
       "    <tr>\n",
       "      <th>4</th>\n",
       "      <td>hCoV-19/Iceland/259/2020</td>\n",
       "      <td>SNP</td>\n",
       "      <td>24694</td>\n",
       "      <td>24694</td>\n",
       "      <td>A</td>\n",
       "      <td>T</td>\n",
       "      <td>synonymous_variant</td>\n",
       "      <td>QHD43416.1:p.1044G</td>\n",
       "      <td>S:c.3132ggA&gt;ggT</td>\n",
       "      <td>1044</td>\n",
       "      <td>ncbiprotein:QHD43416</td>\n",
       "      <td>taxonomy:2697049</td>\n",
       "      <td>ncbiprotein:NC_045512</td>\n",
       "    </tr>\n",
       "  </tbody>\n",
       "</table>\n",
       "</div>"
      ],
      "text/plain": [
       "                       name variantType  start    end ref alt  \\\n",
       "0  hCoV-19/Iceland/259/2020         SNP   8782   8782   C   T   \n",
       "1  hCoV-19/Iceland/259/2020         SNP  17747  17747   C   T   \n",
       "2  hCoV-19/Iceland/259/2020         SNP  17858  17858   A   G   \n",
       "3  hCoV-19/Iceland/259/2020         SNP  18060  18060   C   T   \n",
       "4  hCoV-19/Iceland/259/2020         SNP  24694  24694   A   T   \n",
       "\n",
       "   variantConsequence        proteinVariant            geneVariant  \\\n",
       "0  synonymous_variant    QHD43415.1:p.2839S   orf1ab:c.8517agC>agT   \n",
       "1    missense_variant  QHD43415.1:p.5828P>L  orf1ab:c.17483cCt>cTt   \n",
       "2    missense_variant  QHD43415.1:p.5865Y>C  orf1ab:c.17594tAt>tGt   \n",
       "3  synonymous_variant    QHD43415.1:p.5932L  orf1ab:c.17796ctC>ctT   \n",
       "4  synonymous_variant    QHD43416.1:p.1044G        S:c.3132ggA>ggT   \n",
       "\n",
       "  proteinPosition      proteinAccession        taxonomyId  \\\n",
       "0            2839  ncbiprotein:QHD43415  taxonomy:2697049   \n",
       "1            5828  ncbiprotein:QHD43415  taxonomy:2697049   \n",
       "2            5865  ncbiprotein:QHD43415  taxonomy:2697049   \n",
       "3            5932  ncbiprotein:QHD43415  taxonomy:2697049   \n",
       "4            1044  ncbiprotein:QHD43416  taxonomy:2697049   \n",
       "\n",
       "         referenceGenome  \n",
       "0  ncbiprotein:NC_045512  \n",
       "1  ncbiprotein:NC_045512  \n",
       "2  ncbiprotein:NC_045512  \n",
       "3  ncbiprotein:NC_045512  \n",
       "4  ncbiprotein:NC_045512  "
      ]
     },
     "execution_count": 50,
     "metadata": {},
     "output_type": "execute_result"
    }
   ],
   "source": [
    "variations.head()"
   ]
  }
 ],
 "metadata": {
  "kernelspec": {
   "display_name": "Python 3",
   "language": "python",
   "name": "python3"
  },
  "language_info": {
   "codemirror_mode": {
    "name": "ipython",
    "version": 3
   },
   "file_extension": ".py",
   "mimetype": "text/x-python",
   "name": "python",
   "nbconvert_exporter": "python",
   "pygments_lexer": "ipython3",
   "version": "3.8.3"
  }
 },
 "nbformat": 4,
 "nbformat_minor": 4
}

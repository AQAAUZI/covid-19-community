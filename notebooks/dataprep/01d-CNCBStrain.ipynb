{
 "cells": [
  {
   "cell_type": "markdown",
   "metadata": {},
   "source": [
    "# Load SARS-CoV-2 Virus Strain Metadata from CNCB\n",
    "**[Work in progress]**\n",
    "\n",
    "This notebook downloads and standardizes viral strain data from CNCB for ingestion into a Knowledge Graph.\n",
    "\n",
    "Data source: [China National Center for Bioinformation, 2019 Novel Coronavirus Resource (2019nCoVR)](https://bigd.big.ac.cn/ncov/release_genome)\n",
    "\n",
    "Author: Peter Rose (pwrose@ucsd.edu)"
   ]
  },
  {
   "cell_type": "code",
   "execution_count": 1,
   "metadata": {},
   "outputs": [],
   "source": [
    "import os\n",
    "import shutil\n",
    "import glob\n",
    "import ftplib\n",
    "import re\n",
    "import dateutil\n",
    "import pandas as pd\n",
    "from pathlib import Path"
   ]
  },
  {
   "cell_type": "code",
   "execution_count": 2,
   "metadata": {},
   "outputs": [],
   "source": [
    "pd.options.display.max_rows = None  # display all rows\n",
    "pd.options.display.max_columns = None  # display all columsns"
   ]
  },
  {
   "cell_type": "code",
   "execution_count": 3,
   "metadata": {},
   "outputs": [],
   "source": [
    "metadata_url = \"https://bigd.big.ac.cn/ncov/genome/export/meta\""
   ]
  },
  {
   "cell_type": "code",
   "execution_count": 4,
   "metadata": {},
   "outputs": [
    {
     "name": "stdout",
     "output_type": "stream",
     "text": [
      "/Users/peter/Library/Application Support/Neo4j Desktop/Application/neo4jDatabases/database-328d8379-6ab4-4cc1-a397-2de37909d2e4/installation-4.1.0/import\n"
     ]
    }
   ],
   "source": [
    "# Path will take care of handling operating system differences.\n",
    "NEO4J_IMPORT = Path(os.getenv('NEO4J_IMPORT'))\n",
    "print(NEO4J_IMPORT)"
   ]
  },
  {
   "cell_type": "markdown",
   "metadata": {},
   "source": [
    "### Download strain metadata"
   ]
  },
  {
   "cell_type": "code",
   "execution_count": 5,
   "metadata": {},
   "outputs": [],
   "source": [
    "df = pd.read_excel(metadata_url, dtype='str')\n",
    "df.fillna('', inplace=True)"
   ]
  },
  {
   "cell_type": "code",
   "execution_count": 6,
   "metadata": {},
   "outputs": [
    {
     "name": "stdout",
     "output_type": "stream",
     "text": [
      "Total number of strains: 119277\n"
     ]
    }
   ],
   "source": [
    "print(\"Total number of strains:\", df.shape[0])"
   ]
  },
  {
   "cell_type": "code",
   "execution_count": 7,
   "metadata": {},
   "outputs": [],
   "source": [
    "df = df.query(\"`Sequence Quality` == 'High'\")\n",
    "df = df.query(\"`Nuc.Completeness` == 'Complete'\")"
   ]
  },
  {
   "cell_type": "code",
   "execution_count": 8,
   "metadata": {},
   "outputs": [
    {
     "name": "stdout",
     "output_type": "stream",
     "text": [
      "Number of complete high quality strains 64477\n"
     ]
    }
   ],
   "source": [
    "print(\"Number of complete high quality strains\", df.shape[0])"
   ]
  },
  {
   "cell_type": "code",
   "execution_count": 9,
   "metadata": {},
   "outputs": [
    {
     "data": {
      "text/html": [
       "<div>\n",
       "<style scoped>\n",
       "    .dataframe tbody tr th:only-of-type {\n",
       "        vertical-align: middle;\n",
       "    }\n",
       "\n",
       "    .dataframe tbody tr th {\n",
       "        vertical-align: top;\n",
       "    }\n",
       "\n",
       "    .dataframe thead th {\n",
       "        text-align: right;\n",
       "    }\n",
       "</style>\n",
       "<table border=\"1\" class=\"dataframe\">\n",
       "  <thead>\n",
       "    <tr style=\"text-align: right;\">\n",
       "      <th></th>\n",
       "      <th>Virus Strain Name</th>\n",
       "      <th>Accession ID</th>\n",
       "      <th>Data Source</th>\n",
       "      <th>Related ID</th>\n",
       "      <th>Nuc.Completeness</th>\n",
       "      <th>Sequence Length</th>\n",
       "      <th>Sequence Quality</th>\n",
       "      <th>Quality Assessment</th>\n",
       "      <th>Host</th>\n",
       "      <th>Sample Collection Date</th>\n",
       "      <th>Location</th>\n",
       "      <th>Originating Lab</th>\n",
       "      <th>Submission Date</th>\n",
       "      <th>Submitting Lab</th>\n",
       "      <th>Create Time</th>\n",
       "      <th>Last Update Time</th>\n",
       "    </tr>\n",
       "  </thead>\n",
       "  <tbody>\n",
       "    <tr>\n",
       "      <th>0</th>\n",
       "      <td>BetaCoV/Wuhan/HBCDC-HB-01/2019</td>\n",
       "      <td>NMDC60013088-01</td>\n",
       "      <td>NMDC</td>\n",
       "      <td>EPI_ISL_402132</td>\n",
       "      <td>Complete</td>\n",
       "      <td>29848</td>\n",
       "      <td>High</td>\n",
       "      <td>0/0/0/1/NO</td>\n",
       "      <td>Homo sapiens</td>\n",
       "      <td>2019-12-30</td>\n",
       "      <td>China / Hubei</td>\n",
       "      <td>Hubei Provincial Center for Disease Control an...</td>\n",
       "      <td>2020-01-19</td>\n",
       "      <td>Hubei Provincial Center for Disease Control an...</td>\n",
       "      <td>2020-01-20 20:04:48</td>\n",
       "      <td>2020-09-09 11:31:17</td>\n",
       "    </tr>\n",
       "    <tr>\n",
       "      <th>1</th>\n",
       "      <td>hCoV-19/Thailand/74/2020</td>\n",
       "      <td>EPI_ISL_403963</td>\n",
       "      <td>GISAID</td>\n",
       "      <td></td>\n",
       "      <td>Complete</td>\n",
       "      <td>29859</td>\n",
       "      <td>High</td>\n",
       "      <td>0/0/0/0/NO</td>\n",
       "      <td>Homo sapiens</td>\n",
       "      <td>2020-01-13</td>\n",
       "      <td>Thailand/ Nonthaburi Province</td>\n",
       "      <td>Department of Medical Sciences, Ministry of Pu...</td>\n",
       "      <td>2020-01-17</td>\n",
       "      <td>Department of Medical Sciences, Ministry of Pu...</td>\n",
       "      <td>2020-01-20 20:04:48</td>\n",
       "      <td>2020-09-09 11:31:17</td>\n",
       "    </tr>\n",
       "    <tr>\n",
       "      <th>2</th>\n",
       "      <td>hCoV-19/Thailand/61/2020</td>\n",
       "      <td>EPI_ISL_403962</td>\n",
       "      <td>GISAID</td>\n",
       "      <td></td>\n",
       "      <td>Complete</td>\n",
       "      <td>29848</td>\n",
       "      <td>High</td>\n",
       "      <td>0/0/0/0/NO</td>\n",
       "      <td>Homo sapiens</td>\n",
       "      <td>2020-01-08</td>\n",
       "      <td>Thailand/ Nonthaburi Province</td>\n",
       "      <td>Department of Medical Sciences, Ministry of Pu...</td>\n",
       "      <td>2020-01-17</td>\n",
       "      <td>Department of Medical Sciences, Ministry of Pu...</td>\n",
       "      <td>2020-01-20 20:04:48</td>\n",
       "      <td>2020-09-09 11:31:17</td>\n",
       "    </tr>\n",
       "    <tr>\n",
       "      <th>3</th>\n",
       "      <td>BetaCoV/Wuhan/IVDC-HB-04/2020</td>\n",
       "      <td>NMDC60013085-01</td>\n",
       "      <td>NMDC</td>\n",
       "      <td>EPI_ISL_402120</td>\n",
       "      <td>Complete</td>\n",
       "      <td>29896</td>\n",
       "      <td>High</td>\n",
       "      <td>0/0/0/2/NO</td>\n",
       "      <td>Homo sapiens</td>\n",
       "      <td>2020-01-01</td>\n",
       "      <td>China / Hubei / Wuhan</td>\n",
       "      <td>National Institute for Viral Disease Control a...</td>\n",
       "      <td>2020-01-11</td>\n",
       "      <td>National Institute for Viral Disease Control a...</td>\n",
       "      <td>2020-01-20 20:04:48</td>\n",
       "      <td>2020-09-09 11:31:17</td>\n",
       "    </tr>\n",
       "    <tr>\n",
       "      <th>4</th>\n",
       "      <td>BetaCoV/Wuhan/IVDC-HB-01/2019</td>\n",
       "      <td>NMDC60013084-01</td>\n",
       "      <td>NMDC</td>\n",
       "      <td>EPI_ISL_402119</td>\n",
       "      <td>Complete</td>\n",
       "      <td>29891</td>\n",
       "      <td>High</td>\n",
       "      <td>0/0/0/0/NO</td>\n",
       "      <td>Homo sapiens</td>\n",
       "      <td>2019-12-30</td>\n",
       "      <td>China / Hubei / Wuhan</td>\n",
       "      <td>National Institute for Viral Disease Control a...</td>\n",
       "      <td>2020-01-10</td>\n",
       "      <td>National Institute for Viral Disease Control a...</td>\n",
       "      <td>2020-01-20 20:04:48</td>\n",
       "      <td>2020-09-09 11:31:17</td>\n",
       "    </tr>\n",
       "  </tbody>\n",
       "</table>\n",
       "</div>"
      ],
      "text/plain": [
       "                Virus Strain Name     Accession ID Data Source  \\\n",
       "0  BetaCoV/Wuhan/HBCDC-HB-01/2019  NMDC60013088-01        NMDC   \n",
       "1        hCoV-19/Thailand/74/2020   EPI_ISL_403963      GISAID   \n",
       "2        hCoV-19/Thailand/61/2020   EPI_ISL_403962      GISAID   \n",
       "3   BetaCoV/Wuhan/IVDC-HB-04/2020  NMDC60013085-01        NMDC   \n",
       "4   BetaCoV/Wuhan/IVDC-HB-01/2019  NMDC60013084-01        NMDC   \n",
       "\n",
       "       Related ID Nuc.Completeness Sequence Length Sequence Quality  \\\n",
       "0  EPI_ISL_402132         Complete           29848             High   \n",
       "1                         Complete           29859             High   \n",
       "2                         Complete           29848             High   \n",
       "3  EPI_ISL_402120         Complete           29896             High   \n",
       "4  EPI_ISL_402119         Complete           29891             High   \n",
       "\n",
       "  Quality Assessment          Host Sample Collection Date  \\\n",
       "0         0/0/0/1/NO  Homo sapiens             2019-12-30   \n",
       "1         0/0/0/0/NO  Homo sapiens             2020-01-13   \n",
       "2         0/0/0/0/NO  Homo sapiens             2020-01-08   \n",
       "3         0/0/0/2/NO  Homo sapiens             2020-01-01   \n",
       "4         0/0/0/0/NO  Homo sapiens             2019-12-30   \n",
       "\n",
       "                        Location  \\\n",
       "0                  China / Hubei   \n",
       "1  Thailand/ Nonthaburi Province   \n",
       "2  Thailand/ Nonthaburi Province   \n",
       "3          China / Hubei / Wuhan   \n",
       "4          China / Hubei / Wuhan   \n",
       "\n",
       "                                     Originating Lab Submission Date  \\\n",
       "0  Hubei Provincial Center for Disease Control an...      2020-01-19   \n",
       "1  Department of Medical Sciences, Ministry of Pu...      2020-01-17   \n",
       "2  Department of Medical Sciences, Ministry of Pu...      2020-01-17   \n",
       "3  National Institute for Viral Disease Control a...      2020-01-11   \n",
       "4  National Institute for Viral Disease Control a...      2020-01-10   \n",
       "\n",
       "                                      Submitting Lab          Create Time  \\\n",
       "0  Hubei Provincial Center for Disease Control an...  2020-01-20 20:04:48   \n",
       "1  Department of Medical Sciences, Ministry of Pu...  2020-01-20 20:04:48   \n",
       "2  Department of Medical Sciences, Ministry of Pu...  2020-01-20 20:04:48   \n",
       "3  National Institute for Viral Disease Control a...  2020-01-20 20:04:48   \n",
       "4  National Institute for Viral Disease Control a...  2020-01-20 20:04:48   \n",
       "\n",
       "      Last Update Time  \n",
       "0  2020-09-09 11:31:17  \n",
       "1  2020-09-09 11:31:17  \n",
       "2  2020-09-09 11:31:17  \n",
       "3  2020-09-09 11:31:17  \n",
       "4  2020-09-09 11:31:17  "
      ]
     },
     "execution_count": 9,
     "metadata": {},
     "output_type": "execute_result"
    }
   ],
   "source": [
    "df.head()"
   ]
  },
  {
   "cell_type": "markdown",
   "metadata": {},
   "source": [
    "#### Create a separate row for each Accession and Related ID"
   ]
  },
  {
   "cell_type": "code",
   "execution_count": 10,
   "metadata": {},
   "outputs": [],
   "source": [
    "df['Accession ID'] = df['Accession ID'].str.strip()\n",
    "df['Related ID'] = df['Related ID'].str.strip()\n",
    "\n",
    "# combine all ids into a single column\n",
    "df['alias'] = df['Accession ID'] + df['Related ID'].apply(lambda s: ',' + s if len(s) > 0 else s)\n",
    "df['alias'] = df['alias'].str.replace(' ', '')\n",
    "\n",
    "# then \"explode\" ids into separate rows\n",
    "df['id'] = df['alias'].apply(lambda s: s.split(','))\n",
    "df = df.explode('id')\n",
    "df['id'] = df['id'].str.strip()\n",
    "df['alias'] = df['alias'].str.replace(',', ';')"
   ]
  },
  {
   "cell_type": "code",
   "execution_count": 11,
   "metadata": {},
   "outputs": [
    {
     "data": {
      "text/html": [
       "<div>\n",
       "<style scoped>\n",
       "    .dataframe tbody tr th:only-of-type {\n",
       "        vertical-align: middle;\n",
       "    }\n",
       "\n",
       "    .dataframe tbody tr th {\n",
       "        vertical-align: top;\n",
       "    }\n",
       "\n",
       "    .dataframe thead th {\n",
       "        text-align: right;\n",
       "    }\n",
       "</style>\n",
       "<table border=\"1\" class=\"dataframe\">\n",
       "  <thead>\n",
       "    <tr style=\"text-align: right;\">\n",
       "      <th></th>\n",
       "      <th>Virus Strain Name</th>\n",
       "      <th>Accession ID</th>\n",
       "      <th>Data Source</th>\n",
       "      <th>Related ID</th>\n",
       "      <th>Nuc.Completeness</th>\n",
       "      <th>Sequence Length</th>\n",
       "      <th>Sequence Quality</th>\n",
       "      <th>Quality Assessment</th>\n",
       "      <th>Host</th>\n",
       "      <th>Sample Collection Date</th>\n",
       "      <th>Location</th>\n",
       "      <th>Originating Lab</th>\n",
       "      <th>Submission Date</th>\n",
       "      <th>Submitting Lab</th>\n",
       "      <th>Create Time</th>\n",
       "      <th>Last Update Time</th>\n",
       "      <th>alias</th>\n",
       "      <th>id</th>\n",
       "    </tr>\n",
       "  </thead>\n",
       "  <tbody>\n",
       "    <tr>\n",
       "      <th>0</th>\n",
       "      <td>BetaCoV/Wuhan/HBCDC-HB-01/2019</td>\n",
       "      <td>NMDC60013088-01</td>\n",
       "      <td>NMDC</td>\n",
       "      <td>EPI_ISL_402132</td>\n",
       "      <td>Complete</td>\n",
       "      <td>29848</td>\n",
       "      <td>High</td>\n",
       "      <td>0/0/0/1/NO</td>\n",
       "      <td>Homo sapiens</td>\n",
       "      <td>2019-12-30</td>\n",
       "      <td>China / Hubei</td>\n",
       "      <td>Hubei Provincial Center for Disease Control an...</td>\n",
       "      <td>2020-01-19</td>\n",
       "      <td>Hubei Provincial Center for Disease Control an...</td>\n",
       "      <td>2020-01-20 20:04:48</td>\n",
       "      <td>2020-09-09 11:31:17</td>\n",
       "      <td>NMDC60013088-01;EPI_ISL_402132</td>\n",
       "      <td>NMDC60013088-01</td>\n",
       "    </tr>\n",
       "    <tr>\n",
       "      <th>0</th>\n",
       "      <td>BetaCoV/Wuhan/HBCDC-HB-01/2019</td>\n",
       "      <td>NMDC60013088-01</td>\n",
       "      <td>NMDC</td>\n",
       "      <td>EPI_ISL_402132</td>\n",
       "      <td>Complete</td>\n",
       "      <td>29848</td>\n",
       "      <td>High</td>\n",
       "      <td>0/0/0/1/NO</td>\n",
       "      <td>Homo sapiens</td>\n",
       "      <td>2019-12-30</td>\n",
       "      <td>China / Hubei</td>\n",
       "      <td>Hubei Provincial Center for Disease Control an...</td>\n",
       "      <td>2020-01-19</td>\n",
       "      <td>Hubei Provincial Center for Disease Control an...</td>\n",
       "      <td>2020-01-20 20:04:48</td>\n",
       "      <td>2020-09-09 11:31:17</td>\n",
       "      <td>NMDC60013088-01;EPI_ISL_402132</td>\n",
       "      <td>EPI_ISL_402132</td>\n",
       "    </tr>\n",
       "    <tr>\n",
       "      <th>1</th>\n",
       "      <td>hCoV-19/Thailand/74/2020</td>\n",
       "      <td>EPI_ISL_403963</td>\n",
       "      <td>GISAID</td>\n",
       "      <td></td>\n",
       "      <td>Complete</td>\n",
       "      <td>29859</td>\n",
       "      <td>High</td>\n",
       "      <td>0/0/0/0/NO</td>\n",
       "      <td>Homo sapiens</td>\n",
       "      <td>2020-01-13</td>\n",
       "      <td>Thailand/ Nonthaburi Province</td>\n",
       "      <td>Department of Medical Sciences, Ministry of Pu...</td>\n",
       "      <td>2020-01-17</td>\n",
       "      <td>Department of Medical Sciences, Ministry of Pu...</td>\n",
       "      <td>2020-01-20 20:04:48</td>\n",
       "      <td>2020-09-09 11:31:17</td>\n",
       "      <td>EPI_ISL_403963</td>\n",
       "      <td>EPI_ISL_403963</td>\n",
       "    </tr>\n",
       "    <tr>\n",
       "      <th>2</th>\n",
       "      <td>hCoV-19/Thailand/61/2020</td>\n",
       "      <td>EPI_ISL_403962</td>\n",
       "      <td>GISAID</td>\n",
       "      <td></td>\n",
       "      <td>Complete</td>\n",
       "      <td>29848</td>\n",
       "      <td>High</td>\n",
       "      <td>0/0/0/0/NO</td>\n",
       "      <td>Homo sapiens</td>\n",
       "      <td>2020-01-08</td>\n",
       "      <td>Thailand/ Nonthaburi Province</td>\n",
       "      <td>Department of Medical Sciences, Ministry of Pu...</td>\n",
       "      <td>2020-01-17</td>\n",
       "      <td>Department of Medical Sciences, Ministry of Pu...</td>\n",
       "      <td>2020-01-20 20:04:48</td>\n",
       "      <td>2020-09-09 11:31:17</td>\n",
       "      <td>EPI_ISL_403962</td>\n",
       "      <td>EPI_ISL_403962</td>\n",
       "    </tr>\n",
       "    <tr>\n",
       "      <th>3</th>\n",
       "      <td>BetaCoV/Wuhan/IVDC-HB-04/2020</td>\n",
       "      <td>NMDC60013085-01</td>\n",
       "      <td>NMDC</td>\n",
       "      <td>EPI_ISL_402120</td>\n",
       "      <td>Complete</td>\n",
       "      <td>29896</td>\n",
       "      <td>High</td>\n",
       "      <td>0/0/0/2/NO</td>\n",
       "      <td>Homo sapiens</td>\n",
       "      <td>2020-01-01</td>\n",
       "      <td>China / Hubei / Wuhan</td>\n",
       "      <td>National Institute for Viral Disease Control a...</td>\n",
       "      <td>2020-01-11</td>\n",
       "      <td>National Institute for Viral Disease Control a...</td>\n",
       "      <td>2020-01-20 20:04:48</td>\n",
       "      <td>2020-09-09 11:31:17</td>\n",
       "      <td>NMDC60013085-01;EPI_ISL_402120</td>\n",
       "      <td>NMDC60013085-01</td>\n",
       "    </tr>\n",
       "  </tbody>\n",
       "</table>\n",
       "</div>"
      ],
      "text/plain": [
       "                Virus Strain Name     Accession ID Data Source  \\\n",
       "0  BetaCoV/Wuhan/HBCDC-HB-01/2019  NMDC60013088-01        NMDC   \n",
       "0  BetaCoV/Wuhan/HBCDC-HB-01/2019  NMDC60013088-01        NMDC   \n",
       "1        hCoV-19/Thailand/74/2020   EPI_ISL_403963      GISAID   \n",
       "2        hCoV-19/Thailand/61/2020   EPI_ISL_403962      GISAID   \n",
       "3   BetaCoV/Wuhan/IVDC-HB-04/2020  NMDC60013085-01        NMDC   \n",
       "\n",
       "       Related ID Nuc.Completeness Sequence Length Sequence Quality  \\\n",
       "0  EPI_ISL_402132         Complete           29848             High   \n",
       "0  EPI_ISL_402132         Complete           29848             High   \n",
       "1                         Complete           29859             High   \n",
       "2                         Complete           29848             High   \n",
       "3  EPI_ISL_402120         Complete           29896             High   \n",
       "\n",
       "  Quality Assessment          Host Sample Collection Date  \\\n",
       "0         0/0/0/1/NO  Homo sapiens             2019-12-30   \n",
       "0         0/0/0/1/NO  Homo sapiens             2019-12-30   \n",
       "1         0/0/0/0/NO  Homo sapiens             2020-01-13   \n",
       "2         0/0/0/0/NO  Homo sapiens             2020-01-08   \n",
       "3         0/0/0/2/NO  Homo sapiens             2020-01-01   \n",
       "\n",
       "                        Location  \\\n",
       "0                  China / Hubei   \n",
       "0                  China / Hubei   \n",
       "1  Thailand/ Nonthaburi Province   \n",
       "2  Thailand/ Nonthaburi Province   \n",
       "3          China / Hubei / Wuhan   \n",
       "\n",
       "                                     Originating Lab Submission Date  \\\n",
       "0  Hubei Provincial Center for Disease Control an...      2020-01-19   \n",
       "0  Hubei Provincial Center for Disease Control an...      2020-01-19   \n",
       "1  Department of Medical Sciences, Ministry of Pu...      2020-01-17   \n",
       "2  Department of Medical Sciences, Ministry of Pu...      2020-01-17   \n",
       "3  National Institute for Viral Disease Control a...      2020-01-11   \n",
       "\n",
       "                                      Submitting Lab          Create Time  \\\n",
       "0  Hubei Provincial Center for Disease Control an...  2020-01-20 20:04:48   \n",
       "0  Hubei Provincial Center for Disease Control an...  2020-01-20 20:04:48   \n",
       "1  Department of Medical Sciences, Ministry of Pu...  2020-01-20 20:04:48   \n",
       "2  Department of Medical Sciences, Ministry of Pu...  2020-01-20 20:04:48   \n",
       "3  National Institute for Viral Disease Control a...  2020-01-20 20:04:48   \n",
       "\n",
       "      Last Update Time                           alias               id  \n",
       "0  2020-09-09 11:31:17  NMDC60013088-01;EPI_ISL_402132  NMDC60013088-01  \n",
       "0  2020-09-09 11:31:17  NMDC60013088-01;EPI_ISL_402132   EPI_ISL_402132  \n",
       "1  2020-09-09 11:31:17                  EPI_ISL_403963   EPI_ISL_403963  \n",
       "2  2020-09-09 11:31:17                  EPI_ISL_403962   EPI_ISL_403962  \n",
       "3  2020-09-09 11:31:17  NMDC60013085-01;EPI_ISL_402120  NMDC60013085-01  "
      ]
     },
     "execution_count": 11,
     "metadata": {},
     "output_type": "execute_result"
    }
   ],
   "source": [
    "df.head()"
   ]
  },
  {
   "cell_type": "markdown",
   "metadata": {},
   "source": [
    "#### Assign taxonomy ids"
   ]
  },
  {
   "cell_type": "code",
   "execution_count": 12,
   "metadata": {},
   "outputs": [],
   "source": [
    "# read Organism reference dictionary\n",
    "organism_to_id = dict()\n",
    "data = pd.read_csv(\"../../reference_data/OrganismDictionary.csv\", comment='#')\n",
    "for index, row in data.iterrows():\n",
    "    organism_to_id[row['organism']] = row['taxonomyId']"
   ]
  },
  {
   "cell_type": "code",
   "execution_count": 13,
   "metadata": {},
   "outputs": [
    {
     "data": {
      "text/plain": [
       "array(['taxonomy:9606', 'taxonomy:59477 ', 'Environment', 'taxonomy:9974',\n",
       "       'taxonomy:608659', 'taxonomy:419130', 'taxonomy:9666',\n",
       "       'taxonomy:9608', 'taxonomy:10090', 'taxonomy:9685', 'unknown',\n",
       "       'taxonomy:452646'], dtype=object)"
      ]
     },
     "execution_count": 13,
     "metadata": {},
     "output_type": "execute_result"
    }
   ],
   "source": [
    "# assign taxonomy id to host\n",
    "df['Host'] = df['Host'].str.strip()\n",
    "df['hostTaxonomyId'] = df['Host'].apply(lambda s: organism_to_id.get(s.lower(), s))\n",
    "df['hostTaxonomyId'].unique()"
   ]
  },
  {
   "cell_type": "code",
   "execution_count": 14,
   "metadata": {},
   "outputs": [],
   "source": [
    "df['taxonomyId'] = 'taxonomy:2697049' # SARS-CoV-2"
   ]
  },
  {
   "cell_type": "markdown",
   "metadata": {},
   "source": [
    "#### Standardize node property names (CURIEs and URIs)"
   ]
  },
  {
   "cell_type": "code",
   "execution_count": 15,
   "metadata": {},
   "outputs": [],
   "source": [
    "df.rename(columns={'Virus Strain Name': 'name',\n",
    "                   'Sample Collection Date':'collectionDate',\n",
    "                   'Location':'location'}, \n",
    "          inplace=True)"
   ]
  },
  {
   "cell_type": "code",
   "execution_count": 16,
   "metadata": {},
   "outputs": [],
   "source": [
    "# https://registry.identifiers.org/registry/insdc\n",
    "insdc_pattern = re.compile('^([A-Z]\\d{5}|[A-Z]{2}\\d{6}|[A-Z]{4}\\d{8}|[A-J][A-Z]{2}\\d{5})(\\.\\d+)?$')"
   ]
  },
  {
   "cell_type": "code",
   "execution_count": 17,
   "metadata": {},
   "outputs": [],
   "source": [
    "df[['loc0', 'loc1', 'loc2', 'loc3']] = df['location'].str.split('/', n=3, expand=True)\n",
    "# strip white space\n",
    "df = df.apply(lambda x: x.str.strip() if x.dtype == \"object\" else x)"
   ]
  },
  {
   "cell_type": "code",
   "execution_count": 18,
   "metadata": {},
   "outputs": [],
   "source": [
    "df['origLocation'] = df[['loc0', 'loc1', 'loc2', 'loc3']].apply(\n",
    "    lambda x: ','.join(x.dropna().astype(str)),\n",
    "    axis=1\n",
    ")"
   ]
  },
  {
   "cell_type": "code",
   "execution_count": 19,
   "metadata": {},
   "outputs": [],
   "source": [
    "def assign_curie(id):\n",
    "    id = id.strip()\n",
    "    # remove underscore to enable CURIE matching of NCBI reference sequences NC_...\n",
    "    id = id.replace('NC_', 'NC') \n",
    "    if len(id) > 0:\n",
    "        if id.startswith('EPI'):\n",
    "            return 'https://www.gisaid.org/' + id\n",
    "        elif id.startswith('NC_'):\n",
    "            # NCBI reference sequences resolve with ncbiprotein CURIE\n",
    "            return 'ncbiprotein:' + id\n",
    "        elif insdc_pattern.match(id) != None:\n",
    "            return 'insdc:' + id\n",
    "        else:\n",
    "            # TODO are URIs available for these cases?\n",
    "            return id\n",
    "    else:\n",
    "        return id"
   ]
  },
  {
   "cell_type": "code",
   "execution_count": 20,
   "metadata": {},
   "outputs": [],
   "source": [
    "df['id'] = df['id'].apply(assign_curie)"
   ]
  },
  {
   "cell_type": "markdown",
   "metadata": {},
   "source": [
    "### Save strain metadata"
   ]
  },
  {
   "cell_type": "code",
   "execution_count": 21,
   "metadata": {},
   "outputs": [],
   "source": [
    "strains = df[['id', 'name', 'alias', 'taxonomyId', 'hostTaxonomyId','collectionDate', 'location', 'origLocation']].copy()\n",
    "strains['id'] = strains['id'].apply(assign_curie)"
   ]
  },
  {
   "cell_type": "code",
   "execution_count": 22,
   "metadata": {},
   "outputs": [
    {
     "data": {
      "text/html": [
       "<div>\n",
       "<style scoped>\n",
       "    .dataframe tbody tr th:only-of-type {\n",
       "        vertical-align: middle;\n",
       "    }\n",
       "\n",
       "    .dataframe tbody tr th {\n",
       "        vertical-align: top;\n",
       "    }\n",
       "\n",
       "    .dataframe thead th {\n",
       "        text-align: right;\n",
       "    }\n",
       "</style>\n",
       "<table border=\"1\" class=\"dataframe\">\n",
       "  <thead>\n",
       "    <tr style=\"text-align: right;\">\n",
       "      <th></th>\n",
       "      <th>id</th>\n",
       "      <th>name</th>\n",
       "      <th>alias</th>\n",
       "      <th>taxonomyId</th>\n",
       "      <th>hostTaxonomyId</th>\n",
       "      <th>collectionDate</th>\n",
       "      <th>location</th>\n",
       "      <th>origLocation</th>\n",
       "    </tr>\n",
       "  </thead>\n",
       "  <tbody>\n",
       "    <tr>\n",
       "      <th>0</th>\n",
       "      <td>NMDC60013088-01</td>\n",
       "      <td>BetaCoV/Wuhan/HBCDC-HB-01/2019</td>\n",
       "      <td>NMDC60013088-01;EPI_ISL_402132</td>\n",
       "      <td>taxonomy:2697049</td>\n",
       "      <td>taxonomy:9606</td>\n",
       "      <td>2019-12-30</td>\n",
       "      <td>China / Hubei</td>\n",
       "      <td>China,Hubei</td>\n",
       "    </tr>\n",
       "    <tr>\n",
       "      <th>0</th>\n",
       "      <td>https://www.gisaid.org/EPI_ISL_402132</td>\n",
       "      <td>BetaCoV/Wuhan/HBCDC-HB-01/2019</td>\n",
       "      <td>NMDC60013088-01;EPI_ISL_402132</td>\n",
       "      <td>taxonomy:2697049</td>\n",
       "      <td>taxonomy:9606</td>\n",
       "      <td>2019-12-30</td>\n",
       "      <td>China / Hubei</td>\n",
       "      <td>China,Hubei</td>\n",
       "    </tr>\n",
       "    <tr>\n",
       "      <th>1</th>\n",
       "      <td>https://www.gisaid.org/EPI_ISL_403963</td>\n",
       "      <td>hCoV-19/Thailand/74/2020</td>\n",
       "      <td>EPI_ISL_403963</td>\n",
       "      <td>taxonomy:2697049</td>\n",
       "      <td>taxonomy:9606</td>\n",
       "      <td>2020-01-13</td>\n",
       "      <td>Thailand/ Nonthaburi Province</td>\n",
       "      <td>Thailand,Nonthaburi Province</td>\n",
       "    </tr>\n",
       "    <tr>\n",
       "      <th>2</th>\n",
       "      <td>https://www.gisaid.org/EPI_ISL_403962</td>\n",
       "      <td>hCoV-19/Thailand/61/2020</td>\n",
       "      <td>EPI_ISL_403962</td>\n",
       "      <td>taxonomy:2697049</td>\n",
       "      <td>taxonomy:9606</td>\n",
       "      <td>2020-01-08</td>\n",
       "      <td>Thailand/ Nonthaburi Province</td>\n",
       "      <td>Thailand,Nonthaburi Province</td>\n",
       "    </tr>\n",
       "    <tr>\n",
       "      <th>3</th>\n",
       "      <td>NMDC60013085-01</td>\n",
       "      <td>BetaCoV/Wuhan/IVDC-HB-04/2020</td>\n",
       "      <td>NMDC60013085-01;EPI_ISL_402120</td>\n",
       "      <td>taxonomy:2697049</td>\n",
       "      <td>taxonomy:9606</td>\n",
       "      <td>2020-01-01</td>\n",
       "      <td>China / Hubei / Wuhan</td>\n",
       "      <td>China,Hubei,Wuhan</td>\n",
       "    </tr>\n",
       "  </tbody>\n",
       "</table>\n",
       "</div>"
      ],
      "text/plain": [
       "                                      id                            name  \\\n",
       "0                        NMDC60013088-01  BetaCoV/Wuhan/HBCDC-HB-01/2019   \n",
       "0  https://www.gisaid.org/EPI_ISL_402132  BetaCoV/Wuhan/HBCDC-HB-01/2019   \n",
       "1  https://www.gisaid.org/EPI_ISL_403963        hCoV-19/Thailand/74/2020   \n",
       "2  https://www.gisaid.org/EPI_ISL_403962        hCoV-19/Thailand/61/2020   \n",
       "3                        NMDC60013085-01   BetaCoV/Wuhan/IVDC-HB-04/2020   \n",
       "\n",
       "                            alias        taxonomyId hostTaxonomyId  \\\n",
       "0  NMDC60013088-01;EPI_ISL_402132  taxonomy:2697049  taxonomy:9606   \n",
       "0  NMDC60013088-01;EPI_ISL_402132  taxonomy:2697049  taxonomy:9606   \n",
       "1                  EPI_ISL_403963  taxonomy:2697049  taxonomy:9606   \n",
       "2                  EPI_ISL_403962  taxonomy:2697049  taxonomy:9606   \n",
       "3  NMDC60013085-01;EPI_ISL_402120  taxonomy:2697049  taxonomy:9606   \n",
       "\n",
       "  collectionDate                       location                  origLocation  \n",
       "0     2019-12-30                  China / Hubei                   China,Hubei  \n",
       "0     2019-12-30                  China / Hubei                   China,Hubei  \n",
       "1     2020-01-13  Thailand/ Nonthaburi Province  Thailand,Nonthaburi Province  \n",
       "2     2020-01-08  Thailand/ Nonthaburi Province  Thailand,Nonthaburi Province  \n",
       "3     2020-01-01          China / Hubei / Wuhan             China,Hubei,Wuhan  "
      ]
     },
     "execution_count": 22,
     "metadata": {},
     "output_type": "execute_result"
    }
   ],
   "source": [
    "strains.head()"
   ]
  },
  {
   "cell_type": "code",
   "execution_count": 23,
   "metadata": {},
   "outputs": [
    {
     "name": "stdout",
     "output_type": "stream",
     "text": [
      "Number of strains: 78850\n"
     ]
    }
   ],
   "source": [
    "print('Number of strains:',strains.shape[0])"
   ]
  },
  {
   "cell_type": "code",
   "execution_count": 24,
   "metadata": {},
   "outputs": [],
   "source": [
    "strains.to_csv(NEO4J_IMPORT / \"01d-CNCBStrain.csv\", index=False)"
   ]
  }
 ],
 "metadata": {
  "kernelspec": {
   "display_name": "Python 3",
   "language": "python",
   "name": "python3"
  },
  "language_info": {
   "codemirror_mode": {
    "name": "ipython",
    "version": 3
   },
   "file_extension": ".py",
   "mimetype": "text/x-python",
   "name": "python",
   "nbconvert_exporter": "python",
   "pygments_lexer": "ipython3",
   "version": "3.7.8"
  }
 },
 "nbformat": 4,
 "nbformat_minor": 4
}

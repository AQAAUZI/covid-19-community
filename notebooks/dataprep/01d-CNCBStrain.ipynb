{
 "cells": [
  {
   "cell_type": "markdown",
   "metadata": {},
   "source": [
    "# Load SARS-CoV-2 Virus Strain Data from CNCB\n",
    "**[Work in progress]**\n",
    "\n",
    "This notebook downloads and standardizes viral strain and variation data from CNCB for ingestion into a Knowledge Graph.\n",
    "\n",
    "Data source: [China National Center for Bioinformation, 2019 Novel Coronavirus Resource (2019nCoVR)](https://bigd.big.ac.cn/ncov/release_genome)\n",
    "\n",
    "Author: Peter Rose (pwrose@ucsd.edu)"
   ]
  },
  {
   "cell_type": "code",
   "execution_count": 1,
   "metadata": {},
   "outputs": [],
   "source": [
    "import os\n",
    "import pandas as pd\n",
    "import dateutil\n",
    "import re\n",
    "from pathlib import Path\n",
    "import glob\n",
    "#from os import path\n",
    "import ftplib"
   ]
  },
  {
   "cell_type": "code",
   "execution_count": 2,
   "metadata": {},
   "outputs": [],
   "source": [
    "pd.options.display.max_rows = None  # display all rows\n",
    "pd.options.display.max_columns = None  # display all columsns"
   ]
  },
  {
   "cell_type": "code",
   "execution_count": 3,
   "metadata": {},
   "outputs": [
    {
     "name": "stdout",
     "output_type": "stream",
     "text": [
      "/Users/peter/Library/Application Support/Neo4j Desktop/Application/neo4jDatabases/database-4af96121-2328-4e2f-ba60-6d8b728a26d5/installation-4.0.3\n"
     ]
    }
   ],
   "source": [
    "# Path will take care of handling operating system differences.\n",
    "NEO4J_HOME = Path(os.getenv('NEO4J_HOME'))\n",
    "print(NEO4J_HOME)"
   ]
  },
  {
   "cell_type": "code",
   "execution_count": 4,
   "metadata": {},
   "outputs": [],
   "source": [
    "# Create a directory to cache variation data\n",
    "CACHE = Path(NEO4J_HOME / 'import/cache')\n",
    "CACHE.mkdir(exist_ok=True)"
   ]
  },
  {
   "cell_type": "markdown",
   "metadata": {},
   "source": [
    "## Download SARS-CoV-2 Strain metadata"
   ]
  },
  {
   "cell_type": "markdown",
   "metadata": {},
   "source": [
    "This notebook will download > 20,000 files. To work on a small sample (50 files), set \n",
    "\n",
    "`run_small_sample_only = True`"
   ]
  },
  {
   "cell_type": "code",
   "execution_count": 5,
   "metadata": {},
   "outputs": [],
   "source": [
    "run_small_sample_only = False"
   ]
  },
  {
   "cell_type": "code",
   "execution_count": 6,
   "metadata": {},
   "outputs": [],
   "source": [
    "metadata_url = \"https://bigd.big.ac.cn/ncov/genome/export/meta\"\n",
    "annotation_url = \"ftp://download.big.ac.cn/GVM/Coronavirus/gff3/\" "
   ]
  },
  {
   "cell_type": "code",
   "execution_count": 7,
   "metadata": {},
   "outputs": [],
   "source": [
    "df = pd.read_excel(metadata_url, dtype='str')\n",
    "df.fillna('', inplace=True)"
   ]
  },
  {
   "cell_type": "code",
   "execution_count": 8,
   "metadata": {},
   "outputs": [
    {
     "name": "stdout",
     "output_type": "stream",
     "text": [
      "Total number of strains: 42859\n"
     ]
    }
   ],
   "source": [
    "print(\"Total number of strains:\", df.shape[0])"
   ]
  },
  {
   "cell_type": "code",
   "execution_count": 9,
   "metadata": {},
   "outputs": [],
   "source": [
    "df = df.query(\"`Sequence Quality` == 'High'\")\n",
    "df = df.query(\"`Nuc.Completeness` == 'Complete'\")"
   ]
  },
  {
   "cell_type": "code",
   "execution_count": 10,
   "metadata": {},
   "outputs": [
    {
     "name": "stdout",
     "output_type": "stream",
     "text": [
      "Number of complete high quality strains 20940\n"
     ]
    }
   ],
   "source": [
    "print(\"Number of complete high quality strains\", df.shape[0])"
   ]
  },
  {
   "cell_type": "code",
   "execution_count": 11,
   "metadata": {},
   "outputs": [
    {
     "data": {
      "text/html": [
       "<div>\n",
       "<style scoped>\n",
       "    .dataframe tbody tr th:only-of-type {\n",
       "        vertical-align: middle;\n",
       "    }\n",
       "\n",
       "    .dataframe tbody tr th {\n",
       "        vertical-align: top;\n",
       "    }\n",
       "\n",
       "    .dataframe thead th {\n",
       "        text-align: right;\n",
       "    }\n",
       "</style>\n",
       "<table border=\"1\" class=\"dataframe\">\n",
       "  <thead>\n",
       "    <tr style=\"text-align: right;\">\n",
       "      <th></th>\n",
       "      <th>Virus Strain Name</th>\n",
       "      <th>Accession ID</th>\n",
       "      <th>Data Source</th>\n",
       "      <th>Related ID</th>\n",
       "      <th>Nuc.Completeness</th>\n",
       "      <th>Sequence Length</th>\n",
       "      <th>Sequence Quality</th>\n",
       "      <th>Quality Assessment</th>\n",
       "      <th>Host</th>\n",
       "      <th>Sample Collection Date</th>\n",
       "      <th>Location</th>\n",
       "      <th>Originating Lab</th>\n",
       "      <th>Submission Date</th>\n",
       "      <th>Submitting Lab</th>\n",
       "      <th>Create Time</th>\n",
       "      <th>Last Update Time</th>\n",
       "    </tr>\n",
       "  </thead>\n",
       "  <tbody>\n",
       "    <tr>\n",
       "      <th>0</th>\n",
       "      <td>BetaCoV/Wuhan/HBCDC-HB-01/2019</td>\n",
       "      <td>NMDC60013088-01</td>\n",
       "      <td>NMDC</td>\n",
       "      <td>EPI_ISL_402132</td>\n",
       "      <td>Complete</td>\n",
       "      <td>29848</td>\n",
       "      <td>High</td>\n",
       "      <td>0/0/0/1/NO</td>\n",
       "      <td>Homo sapiens</td>\n",
       "      <td>2019-12-30</td>\n",
       "      <td>China / Hubei</td>\n",
       "      <td>Hubei Provincial Center for Disease Control an...</td>\n",
       "      <td>2020-01-19</td>\n",
       "      <td>Hubei Provincial Center for Disease Control an...</td>\n",
       "      <td>2020-01-20 20:04:48</td>\n",
       "      <td>2020-05-07 23:03:25</td>\n",
       "    </tr>\n",
       "    <tr>\n",
       "      <th>1</th>\n",
       "      <td>BetaCoV/Nonthaburi/74/2020</td>\n",
       "      <td>EPI_ISL_403963</td>\n",
       "      <td>GISAID</td>\n",
       "      <td></td>\n",
       "      <td>Complete</td>\n",
       "      <td>29859</td>\n",
       "      <td>High</td>\n",
       "      <td>0/0/0/0/NO</td>\n",
       "      <td>Homo sapiens</td>\n",
       "      <td>2020-01-13</td>\n",
       "      <td>Thailand/ Nonthaburi Province</td>\n",
       "      <td>Department of Medical Sciences, Ministry of Pu...</td>\n",
       "      <td>2020-01-17</td>\n",
       "      <td>Department of Medical Sciences, Ministry of Pu...</td>\n",
       "      <td>2020-01-20 20:04:48</td>\n",
       "      <td>2020-01-20 20:04:48</td>\n",
       "    </tr>\n",
       "    <tr>\n",
       "      <th>2</th>\n",
       "      <td>BetaCoV/Nonthaburi/61/2020</td>\n",
       "      <td>EPI_ISL_403962</td>\n",
       "      <td>GISAID</td>\n",
       "      <td></td>\n",
       "      <td>Complete</td>\n",
       "      <td>29848</td>\n",
       "      <td>High</td>\n",
       "      <td>0/0/0/0/NO</td>\n",
       "      <td>Homo sapiens</td>\n",
       "      <td>2020-01-08</td>\n",
       "      <td>Thailand/ Nonthaburi Province</td>\n",
       "      <td>Department of Medical Sciences, Ministry of Pu...</td>\n",
       "      <td>2020-01-17</td>\n",
       "      <td>Department of Medical Sciences, Ministry of Pu...</td>\n",
       "      <td>2020-01-20 20:04:48</td>\n",
       "      <td>2020-01-20 20:04:48</td>\n",
       "    </tr>\n",
       "    <tr>\n",
       "      <th>3</th>\n",
       "      <td>BetaCoV/Wuhan/IVDC-HB-04/2020</td>\n",
       "      <td>NMDC60013085-01</td>\n",
       "      <td>NMDC</td>\n",
       "      <td>EPI_ISL_402120</td>\n",
       "      <td>Complete</td>\n",
       "      <td>29896</td>\n",
       "      <td>High</td>\n",
       "      <td>0/0/0/2/NO</td>\n",
       "      <td>Homo sapiens</td>\n",
       "      <td>2020-01-01</td>\n",
       "      <td>China / Hubei / Wuhan</td>\n",
       "      <td>National Institute for Viral Disease Control a...</td>\n",
       "      <td>2020-01-11</td>\n",
       "      <td>National Institute for Viral Disease Control a...</td>\n",
       "      <td>2020-01-20 20:04:48</td>\n",
       "      <td>2020-05-07 23:03:25</td>\n",
       "    </tr>\n",
       "    <tr>\n",
       "      <th>4</th>\n",
       "      <td>BetaCoV/Wuhan/IVDC-HB-01/2019</td>\n",
       "      <td>NMDC60013084-01</td>\n",
       "      <td>NMDC</td>\n",
       "      <td>EPI_ISL_402119</td>\n",
       "      <td>Complete</td>\n",
       "      <td>29891</td>\n",
       "      <td>High</td>\n",
       "      <td>0/0/0/0/NO</td>\n",
       "      <td>Homo sapiens</td>\n",
       "      <td>2019-12-30</td>\n",
       "      <td>China / Hubei / Wuhan</td>\n",
       "      <td>National Institute for Viral Disease Control a...</td>\n",
       "      <td>2020-01-10</td>\n",
       "      <td>National Institute for Viral Disease Control a...</td>\n",
       "      <td>2020-01-20 20:04:48</td>\n",
       "      <td>2020-05-07 23:03:25</td>\n",
       "    </tr>\n",
       "  </tbody>\n",
       "</table>\n",
       "</div>"
      ],
      "text/plain": [
       "                Virus Strain Name     Accession ID Data Source  \\\n",
       "0  BetaCoV/Wuhan/HBCDC-HB-01/2019  NMDC60013088-01        NMDC   \n",
       "1      BetaCoV/Nonthaburi/74/2020   EPI_ISL_403963      GISAID   \n",
       "2      BetaCoV/Nonthaburi/61/2020   EPI_ISL_403962      GISAID   \n",
       "3   BetaCoV/Wuhan/IVDC-HB-04/2020  NMDC60013085-01        NMDC   \n",
       "4   BetaCoV/Wuhan/IVDC-HB-01/2019  NMDC60013084-01        NMDC   \n",
       "\n",
       "       Related ID Nuc.Completeness Sequence Length Sequence Quality  \\\n",
       "0  EPI_ISL_402132         Complete           29848             High   \n",
       "1                         Complete           29859             High   \n",
       "2                         Complete           29848             High   \n",
       "3  EPI_ISL_402120         Complete           29896             High   \n",
       "4  EPI_ISL_402119         Complete           29891             High   \n",
       "\n",
       "  Quality Assessment          Host Sample Collection Date  \\\n",
       "0         0/0/0/1/NO  Homo sapiens             2019-12-30   \n",
       "1         0/0/0/0/NO  Homo sapiens             2020-01-13   \n",
       "2         0/0/0/0/NO  Homo sapiens             2020-01-08   \n",
       "3         0/0/0/2/NO  Homo sapiens             2020-01-01   \n",
       "4         0/0/0/0/NO  Homo sapiens             2019-12-30   \n",
       "\n",
       "                        Location  \\\n",
       "0                  China / Hubei   \n",
       "1  Thailand/ Nonthaburi Province   \n",
       "2  Thailand/ Nonthaburi Province   \n",
       "3          China / Hubei / Wuhan   \n",
       "4          China / Hubei / Wuhan   \n",
       "\n",
       "                                     Originating Lab Submission Date  \\\n",
       "0  Hubei Provincial Center for Disease Control an...      2020-01-19   \n",
       "1  Department of Medical Sciences, Ministry of Pu...      2020-01-17   \n",
       "2  Department of Medical Sciences, Ministry of Pu...      2020-01-17   \n",
       "3  National Institute for Viral Disease Control a...      2020-01-11   \n",
       "4  National Institute for Viral Disease Control a...      2020-01-10   \n",
       "\n",
       "                                      Submitting Lab          Create Time  \\\n",
       "0  Hubei Provincial Center for Disease Control an...  2020-01-20 20:04:48   \n",
       "1  Department of Medical Sciences, Ministry of Pu...  2020-01-20 20:04:48   \n",
       "2  Department of Medical Sciences, Ministry of Pu...  2020-01-20 20:04:48   \n",
       "3  National Institute for Viral Disease Control a...  2020-01-20 20:04:48   \n",
       "4  National Institute for Viral Disease Control a...  2020-01-20 20:04:48   \n",
       "\n",
       "      Last Update Time  \n",
       "0  2020-05-07 23:03:25  \n",
       "1  2020-01-20 20:04:48  \n",
       "2  2020-01-20 20:04:48  \n",
       "3  2020-05-07 23:03:25  \n",
       "4  2020-05-07 23:03:25  "
      ]
     },
     "execution_count": 11,
     "metadata": {},
     "output_type": "execute_result"
    }
   ],
   "source": [
    "df.head()"
   ]
  },
  {
   "cell_type": "markdown",
   "metadata": {},
   "source": [
    "#### Create a separate row for each Accession and Related ID"
   ]
  },
  {
   "cell_type": "code",
   "execution_count": 12,
   "metadata": {},
   "outputs": [],
   "source": [
    "df['Accession ID'] = df['Accession ID'].str.strip()\n",
    "df['Related ID'] = df['Related ID'].str.strip()\n",
    "\n",
    "# combine all ids into a single column\n",
    "df['alias'] = df['Accession ID'] + df['Related ID'].apply(lambda s: ',' + s if len(s) > 0 else s)\n",
    "df['alias'] = df['alias'].str.replace(' ', '')\n",
    "\n",
    "# then \"explode\" ids into separate rows\n",
    "df['id'] = df['alias'].apply(lambda s: s.split(','))\n",
    "df = df.explode('id')\n",
    "df['id'] = df['id'].str.strip()\n",
    "df['alias'] = df['alias'].str.replace(',', ';')"
   ]
  },
  {
   "cell_type": "markdown",
   "metadata": {},
   "source": [
    "#### Assign taxonomy ids"
   ]
  },
  {
   "cell_type": "code",
   "execution_count": 13,
   "metadata": {},
   "outputs": [],
   "source": [
    "# TODO a find general solution to map host name to NCBI taxonomy**\n",
    "\n",
    "# some organism specifications are ambiguous, \n",
    "# they don't match a specificn NCBI taxonomy\n",
    "\n",
    "taxonomy_to_id = {'Human': 'taxonomy:9606', \n",
    "                  'Homo sapiens': 'taxonomy:9606',\n",
    "                  'Homo Sapiens': 'taxonomy:9606',\n",
    "                  'Rhinolophus affinis': 'taxonomy:59477', \n",
    "                  'Rhinolophus malayanus': 'taxonomy:608659', \n",
    "                  'Mustela lutreola': 'taxonomy:9666',\n",
    "                  'Panthera tigris jacksoni': 'taxonomy:419130',\n",
    "                  'Rhinolophus sp. (bat)': 'taxonomy:49442', # ambiguous\n",
    "                  'bat': 'taxonomy:49442', # ambiguous\n",
    "                  'Manis javanica': 'taxonomy:9974',\n",
    "                  'palm civet': 'taxonomy:71116', # ambiguous\n",
    "                  'Canine': 'taxonomy:9608', # ambiguous\n",
    "                  'canine': 'taxonomy:9608', # ambiguous\n",
    "                  'Felis catus': 'taxonomy:9685'\n",
    "                 }"
   ]
  },
  {
   "cell_type": "code",
   "execution_count": 14,
   "metadata": {},
   "outputs": [
    {
     "data": {
      "text/plain": [
       "array(['taxonomy:9606', 'taxonomy:59477', 'Environment', 'taxonomy:9974',\n",
       "       'taxonomy:608659', 'taxonomy:419130', 'taxonomy:9666',\n",
       "       'taxonomy:9608', 'Homo Sapiens ', 'Mus musculus'], dtype=object)"
      ]
     },
     "execution_count": 14,
     "metadata": {},
     "output_type": "execute_result"
    }
   ],
   "source": [
    "# assign taxonomy id to host\n",
    "df['hostTaxonomyId'] = df['Host'].apply(lambda s: taxonomy_to_id.get(s, s))\n",
    "df['hostTaxonomyId'].unique()"
   ]
  },
  {
   "cell_type": "code",
   "execution_count": 15,
   "metadata": {},
   "outputs": [],
   "source": [
    "df['taxonomyId'] = 'taxonomy:2697049' # SARS-CoV-2"
   ]
  },
  {
   "cell_type": "markdown",
   "metadata": {},
   "source": [
    "#### Standardize node property names (CURIEs and URIs)"
   ]
  },
  {
   "cell_type": "code",
   "execution_count": 16,
   "metadata": {},
   "outputs": [],
   "source": [
    "df.rename(columns={'Virus Strain Name': 'name',\n",
    "                   'Sample Collection Date':'collectionDate',\n",
    "                   'Location':'location'}, \n",
    "          inplace=True)"
   ]
  },
  {
   "cell_type": "code",
   "execution_count": 17,
   "metadata": {},
   "outputs": [],
   "source": [
    "# https://registry.identifiers.org/registry/insdc\n",
    "insdc_pattern = re.compile('^([A-Z]\\d{5}|[A-Z]{2}\\d{6}|[A-Z]{4}\\d{8}|[A-J][A-Z]{2}\\d{5})(\\.\\d+)?$')"
   ]
  },
  {
   "cell_type": "code",
   "execution_count": 18,
   "metadata": {},
   "outputs": [],
   "source": [
    "def assign_curie(id):\n",
    "    id = id.strip()\n",
    "    # remove underscore to enable CURIE matching of NCBI reference sequences NC_...\n",
    "    id = id.replace('NC_', 'NC') \n",
    "    if len(id) > 0:\n",
    "        if id.startswith('EPI'):\n",
    "            return 'https://www.gisaid.org/' + id\n",
    "        elif id.startswith('NC_'):\n",
    "            # NCBI reference sequences resolve with ncbiprotein CURIE\n",
    "            return 'ncbiprotein:' + id\n",
    "        elif insdc_pattern.match(id) != None:\n",
    "            return 'insdc:' + id\n",
    "        else:\n",
    "            # TODO are URIs available for these cases?\n",
    "            return id\n",
    "    else:\n",
    "        return id"
   ]
  },
  {
   "cell_type": "code",
   "execution_count": 19,
   "metadata": {},
   "outputs": [
    {
     "data": {
      "text/html": [
       "<div>\n",
       "<style scoped>\n",
       "    .dataframe tbody tr th:only-of-type {\n",
       "        vertical-align: middle;\n",
       "    }\n",
       "\n",
       "    .dataframe tbody tr th {\n",
       "        vertical-align: top;\n",
       "    }\n",
       "\n",
       "    .dataframe thead th {\n",
       "        text-align: right;\n",
       "    }\n",
       "</style>\n",
       "<table border=\"1\" class=\"dataframe\">\n",
       "  <thead>\n",
       "    <tr style=\"text-align: right;\">\n",
       "      <th></th>\n",
       "      <th>id</th>\n",
       "      <th>name</th>\n",
       "      <th>alias</th>\n",
       "      <th>taxonomyId</th>\n",
       "      <th>hostTaxonomyId</th>\n",
       "      <th>collectionDate</th>\n",
       "      <th>location</th>\n",
       "    </tr>\n",
       "  </thead>\n",
       "  <tbody>\n",
       "    <tr>\n",
       "      <th>0</th>\n",
       "      <td>NMDC60013088-01</td>\n",
       "      <td>BetaCoV/Wuhan/HBCDC-HB-01/2019</td>\n",
       "      <td>NMDC60013088-01;EPI_ISL_402132</td>\n",
       "      <td>taxonomy:2697049</td>\n",
       "      <td>taxonomy:9606</td>\n",
       "      <td>2019-12-30</td>\n",
       "      <td>China / Hubei</td>\n",
       "    </tr>\n",
       "    <tr>\n",
       "      <th>0</th>\n",
       "      <td>https://www.gisaid.org/EPI_ISL_402132</td>\n",
       "      <td>BetaCoV/Wuhan/HBCDC-HB-01/2019</td>\n",
       "      <td>NMDC60013088-01;EPI_ISL_402132</td>\n",
       "      <td>taxonomy:2697049</td>\n",
       "      <td>taxonomy:9606</td>\n",
       "      <td>2019-12-30</td>\n",
       "      <td>China / Hubei</td>\n",
       "    </tr>\n",
       "    <tr>\n",
       "      <th>1</th>\n",
       "      <td>https://www.gisaid.org/EPI_ISL_403963</td>\n",
       "      <td>BetaCoV/Nonthaburi/74/2020</td>\n",
       "      <td>EPI_ISL_403963</td>\n",
       "      <td>taxonomy:2697049</td>\n",
       "      <td>taxonomy:9606</td>\n",
       "      <td>2020-01-13</td>\n",
       "      <td>Thailand/ Nonthaburi Province</td>\n",
       "    </tr>\n",
       "    <tr>\n",
       "      <th>2</th>\n",
       "      <td>https://www.gisaid.org/EPI_ISL_403962</td>\n",
       "      <td>BetaCoV/Nonthaburi/61/2020</td>\n",
       "      <td>EPI_ISL_403962</td>\n",
       "      <td>taxonomy:2697049</td>\n",
       "      <td>taxonomy:9606</td>\n",
       "      <td>2020-01-08</td>\n",
       "      <td>Thailand/ Nonthaburi Province</td>\n",
       "    </tr>\n",
       "    <tr>\n",
       "      <th>3</th>\n",
       "      <td>NMDC60013085-01</td>\n",
       "      <td>BetaCoV/Wuhan/IVDC-HB-04/2020</td>\n",
       "      <td>NMDC60013085-01;EPI_ISL_402120</td>\n",
       "      <td>taxonomy:2697049</td>\n",
       "      <td>taxonomy:9606</td>\n",
       "      <td>2020-01-01</td>\n",
       "      <td>China / Hubei / Wuhan</td>\n",
       "    </tr>\n",
       "  </tbody>\n",
       "</table>\n",
       "</div>"
      ],
      "text/plain": [
       "                                      id                            name  \\\n",
       "0                        NMDC60013088-01  BetaCoV/Wuhan/HBCDC-HB-01/2019   \n",
       "0  https://www.gisaid.org/EPI_ISL_402132  BetaCoV/Wuhan/HBCDC-HB-01/2019   \n",
       "1  https://www.gisaid.org/EPI_ISL_403963      BetaCoV/Nonthaburi/74/2020   \n",
       "2  https://www.gisaid.org/EPI_ISL_403962      BetaCoV/Nonthaburi/61/2020   \n",
       "3                        NMDC60013085-01   BetaCoV/Wuhan/IVDC-HB-04/2020   \n",
       "\n",
       "                            alias        taxonomyId hostTaxonomyId  \\\n",
       "0  NMDC60013088-01;EPI_ISL_402132  taxonomy:2697049  taxonomy:9606   \n",
       "0  NMDC60013088-01;EPI_ISL_402132  taxonomy:2697049  taxonomy:9606   \n",
       "1                  EPI_ISL_403963  taxonomy:2697049  taxonomy:9606   \n",
       "2                  EPI_ISL_403962  taxonomy:2697049  taxonomy:9606   \n",
       "3  NMDC60013085-01;EPI_ISL_402120  taxonomy:2697049  taxonomy:9606   \n",
       "\n",
       "  collectionDate                       location  \n",
       "0     2019-12-30                  China / Hubei  \n",
       "0     2019-12-30                  China / Hubei  \n",
       "1     2020-01-13  Thailand/ Nonthaburi Province  \n",
       "2     2020-01-08  Thailand/ Nonthaburi Province  \n",
       "3     2020-01-01          China / Hubei / Wuhan  "
      ]
     },
     "execution_count": 19,
     "metadata": {},
     "output_type": "execute_result"
    }
   ],
   "source": [
    "strains = df[['id', 'name', 'alias', 'taxonomyId', 'hostTaxonomyId','collectionDate', 'location']].copy()\n",
    "strains['id'] = strains['id'].apply(assign_curie)\n",
    "strains.head()"
   ]
  },
  {
   "cell_type": "code",
   "execution_count": 20,
   "metadata": {},
   "outputs": [],
   "source": [
    "strains.to_csv(NEO4J_HOME / \"import/01d-CNCBStrain.csv\", index=False)"
   ]
  },
  {
   "cell_type": "markdown",
   "metadata": {},
   "source": [
    "## Merge Metadata with Variation Data"
   ]
  },
  {
   "cell_type": "markdown",
   "metadata": {},
   "source": [
    "#### Get list of file names from FTP site"
   ]
  },
  {
   "cell_type": "code",
   "execution_count": 21,
   "metadata": {},
   "outputs": [
    {
     "data": {
      "text/plain": [
       "'221 Goodbye.'"
      ]
     },
     "execution_count": 21,
     "metadata": {},
     "output_type": "execute_result"
    }
   ],
   "source": [
    "server = \"download.big.ac.cn\"\n",
    "user = \"anonymous\"\n",
    "password = \"anonymous\"\n",
    "source = \"/GVM/Coronavirus/gff3/\"\n",
    "\n",
    "ftp = ftplib.FTP(server)\n",
    "ftp.login(user, password)\n",
    "ftp.cwd(source) \n",
    "filelist=ftp.nlst()\n",
    "ftp.quit()"
   ]
  },
  {
   "cell_type": "code",
   "execution_count": 22,
   "metadata": {},
   "outputs": [],
   "source": [
    "df_file = pd.DataFrame(filelist, columns=['filename'])"
   ]
  },
  {
   "cell_type": "markdown",
   "metadata": {},
   "source": [
    "Extract identifiers from file name\n",
    "\n",
    "Example: 2019-nCoV_CNA0013697_variants.gff3 -> CNA0013697"
   ]
  },
  {
   "cell_type": "code",
   "execution_count": 23,
   "metadata": {},
   "outputs": [],
   "source": [
    "df_file['id'] = df_file['filename'].str[10:]\n",
    "df_file['id'] = df_file['id'].str.replace('_variants.gff3','')"
   ]
  },
  {
   "cell_type": "code",
   "execution_count": 24,
   "metadata": {},
   "outputs": [],
   "source": [
    "df_file = df_file.query(\"id != ''\")"
   ]
  },
  {
   "cell_type": "code",
   "execution_count": 25,
   "metadata": {},
   "outputs": [
    {
     "name": "stdout",
     "output_type": "stream",
     "text": [
      "Number of available files: 20997\n"
     ]
    }
   ],
   "source": [
    "print(\"Number of available files:\", df_file.shape[0])"
   ]
  },
  {
   "cell_type": "code",
   "execution_count": 26,
   "metadata": {},
   "outputs": [
    {
     "data": {
      "text/html": [
       "<div>\n",
       "<style scoped>\n",
       "    .dataframe tbody tr th:only-of-type {\n",
       "        vertical-align: middle;\n",
       "    }\n",
       "\n",
       "    .dataframe tbody tr th {\n",
       "        vertical-align: top;\n",
       "    }\n",
       "\n",
       "    .dataframe thead th {\n",
       "        text-align: right;\n",
       "    }\n",
       "</style>\n",
       "<table border=\"1\" class=\"dataframe\">\n",
       "  <thead>\n",
       "    <tr style=\"text-align: right;\">\n",
       "      <th></th>\n",
       "      <th>filename</th>\n",
       "      <th>id</th>\n",
       "    </tr>\n",
       "  </thead>\n",
       "  <tbody>\n",
       "    <tr>\n",
       "      <th>0</th>\n",
       "      <td>2019-nCoV_CNA0007332_variants.gff3</td>\n",
       "      <td>CNA0007332</td>\n",
       "    </tr>\n",
       "    <tr>\n",
       "      <th>1</th>\n",
       "      <td>2019-nCoV_CNA0007334_variants.gff3</td>\n",
       "      <td>CNA0007334</td>\n",
       "    </tr>\n",
       "    <tr>\n",
       "      <th>2</th>\n",
       "      <td>2019-nCoV_CNA0007335_variants.gff3</td>\n",
       "      <td>CNA0007335</td>\n",
       "    </tr>\n",
       "    <tr>\n",
       "      <th>3</th>\n",
       "      <td>2019-nCoV_CNA0013697_variants.gff3</td>\n",
       "      <td>CNA0013697</td>\n",
       "    </tr>\n",
       "    <tr>\n",
       "      <th>4</th>\n",
       "      <td>2019-nCoV_CNA0013698_variants.gff3</td>\n",
       "      <td>CNA0013698</td>\n",
       "    </tr>\n",
       "  </tbody>\n",
       "</table>\n",
       "</div>"
      ],
      "text/plain": [
       "                             filename          id\n",
       "0  2019-nCoV_CNA0007332_variants.gff3  CNA0007332\n",
       "1  2019-nCoV_CNA0007334_variants.gff3  CNA0007334\n",
       "2  2019-nCoV_CNA0007335_variants.gff3  CNA0007335\n",
       "3  2019-nCoV_CNA0013697_variants.gff3  CNA0013697\n",
       "4  2019-nCoV_CNA0013698_variants.gff3  CNA0013698"
      ]
     },
     "execution_count": 26,
     "metadata": {},
     "output_type": "execute_result"
    }
   ],
   "source": [
    "df_file.head()"
   ]
  },
  {
   "cell_type": "code",
   "execution_count": 27,
   "metadata": {},
   "outputs": [],
   "source": [
    "df = df.merge(df_file, on='id')"
   ]
  },
  {
   "cell_type": "code",
   "execution_count": 28,
   "metadata": {},
   "outputs": [
    {
     "name": "stdout",
     "output_type": "stream",
     "text": [
      "Strains with a matching filename: 20920\n"
     ]
    }
   ],
   "source": [
    "print('Strains with a matching filename:', df.shape[0])"
   ]
  },
  {
   "cell_type": "code",
   "execution_count": 29,
   "metadata": {},
   "outputs": [],
   "source": [
    "if run_small_sample_only:\n",
    "    df = df.sample(n=50, random_state=5)"
   ]
  },
  {
   "cell_type": "code",
   "execution_count": 30,
   "metadata": {},
   "outputs": [
    {
     "data": {
      "text/html": [
       "<div>\n",
       "<style scoped>\n",
       "    .dataframe tbody tr th:only-of-type {\n",
       "        vertical-align: middle;\n",
       "    }\n",
       "\n",
       "    .dataframe tbody tr th {\n",
       "        vertical-align: top;\n",
       "    }\n",
       "\n",
       "    .dataframe thead th {\n",
       "        text-align: right;\n",
       "    }\n",
       "</style>\n",
       "<table border=\"1\" class=\"dataframe\">\n",
       "  <thead>\n",
       "    <tr style=\"text-align: right;\">\n",
       "      <th></th>\n",
       "      <th>name</th>\n",
       "      <th>Accession ID</th>\n",
       "      <th>Data Source</th>\n",
       "      <th>Related ID</th>\n",
       "      <th>Nuc.Completeness</th>\n",
       "      <th>Sequence Length</th>\n",
       "      <th>Sequence Quality</th>\n",
       "      <th>Quality Assessment</th>\n",
       "      <th>Host</th>\n",
       "      <th>collectionDate</th>\n",
       "      <th>location</th>\n",
       "      <th>Originating Lab</th>\n",
       "      <th>Submission Date</th>\n",
       "      <th>Submitting Lab</th>\n",
       "      <th>Create Time</th>\n",
       "      <th>Last Update Time</th>\n",
       "      <th>alias</th>\n",
       "      <th>id</th>\n",
       "      <th>hostTaxonomyId</th>\n",
       "      <th>taxonomyId</th>\n",
       "      <th>filename</th>\n",
       "    </tr>\n",
       "  </thead>\n",
       "  <tbody>\n",
       "    <tr>\n",
       "      <th>10334</th>\n",
       "      <td>SARS-CoV-2/human/USA/VA-DCLS-0199/2020</td>\n",
       "      <td>MT450900</td>\n",
       "      <td>GenBank</td>\n",
       "      <td>EPI_ISL_437414</td>\n",
       "      <td>Complete</td>\n",
       "      <td>29822</td>\n",
       "      <td>High</td>\n",
       "      <td>0/0/0/7/NO</td>\n",
       "      <td>Homo Sapiens</td>\n",
       "      <td>2020-04-11</td>\n",
       "      <td>United States / Virginia</td>\n",
       "      <td>Division of Consolidated Laboratories</td>\n",
       "      <td>2020-05-08</td>\n",
       "      <td>Division of Consolidated Laboratories</td>\n",
       "      <td>2020-05-09 14:55:56</td>\n",
       "      <td>2020-05-12 22:03:27</td>\n",
       "      <td>MT450900;EPI_ISL_437414</td>\n",
       "      <td>EPI_ISL_437414</td>\n",
       "      <td>taxonomy:9606</td>\n",
       "      <td>taxonomy:2697049</td>\n",
       "      <td>2019-nCoV_EPI_ISL_437414_variants.gff3</td>\n",
       "    </tr>\n",
       "    <tr>\n",
       "      <th>8946</th>\n",
       "      <td>hCoV-19/England/CAMB-78944/2020</td>\n",
       "      <td>EPI_ISL_433794</td>\n",
       "      <td>GISAID</td>\n",
       "      <td></td>\n",
       "      <td>Complete</td>\n",
       "      <td>29904</td>\n",
       "      <td>High</td>\n",
       "      <td>0/0/1/10/28881~28883(3-3-1.00,SNP:28881; SNP:2...</td>\n",
       "      <td>Homo Sapiens</td>\n",
       "      <td>2020-04-06</td>\n",
       "      <td>United Kingdom / England</td>\n",
       "      <td>COVID-19 Genomics UK (COG-UK) Consortium</td>\n",
       "      <td>2020-04-29</td>\n",
       "      <td>COVID-19 Genomics UK (COG-UK) Consortium</td>\n",
       "      <td>2020-04-30 06:00:00</td>\n",
       "      <td>2020-05-05 16:50:39</td>\n",
       "      <td>EPI_ISL_433794</td>\n",
       "      <td>EPI_ISL_433794</td>\n",
       "      <td>taxonomy:9606</td>\n",
       "      <td>taxonomy:2697049</td>\n",
       "      <td>2019-nCoV_EPI_ISL_433794_variants.gff3</td>\n",
       "    </tr>\n",
       "    <tr>\n",
       "      <th>7155</th>\n",
       "      <td>SARS-CoV-2/human/USA/WA-UW-4766/2020</td>\n",
       "      <td>MT375452</td>\n",
       "      <td>GenBank</td>\n",
       "      <td>EPI_ISL_429623</td>\n",
       "      <td>Complete</td>\n",
       "      <td>29867</td>\n",
       "      <td>High</td>\n",
       "      <td>0/0/0/8/NO</td>\n",
       "      <td>Homo Sapiens</td>\n",
       "      <td>2020-03-28</td>\n",
       "      <td>United States / Washington</td>\n",
       "      <td>Laboratory Medicine, University of Washington,...</td>\n",
       "      <td>2020-04-23</td>\n",
       "      <td>Laboratory Medicine, University of Washington,...</td>\n",
       "      <td>2020-04-24 16:40:34</td>\n",
       "      <td>2020-04-25 11:00:00</td>\n",
       "      <td>MT375452;EPI_ISL_429623</td>\n",
       "      <td>EPI_ISL_429623</td>\n",
       "      <td>taxonomy:9606</td>\n",
       "      <td>taxonomy:2697049</td>\n",
       "      <td>2019-nCoV_EPI_ISL_429623_variants.gff3</td>\n",
       "    </tr>\n",
       "    <tr>\n",
       "      <th>14754</th>\n",
       "      <td>hCoV-19/USA/NY-PV09436/2020</td>\n",
       "      <td>EPI_ISL_450113</td>\n",
       "      <td>GISAID</td>\n",
       "      <td></td>\n",
       "      <td>Complete</td>\n",
       "      <td>29724</td>\n",
       "      <td>High</td>\n",
       "      <td>0/0/0/7/28881~28883(3-3-1.00,SNP:28881; SNP:28...</td>\n",
       "      <td>Homo Sapiens</td>\n",
       "      <td>2020-03-10</td>\n",
       "      <td>United States / New York</td>\n",
       "      <td>MSHS Pathogen Surveillance Program</td>\n",
       "      <td>2020-05-20</td>\n",
       "      <td>MSHS Pathogen Surveillance Program</td>\n",
       "      <td>2020-05-21 01:22:48</td>\n",
       "      <td>2020-05-21 01:22:48</td>\n",
       "      <td>EPI_ISL_450113</td>\n",
       "      <td>EPI_ISL_450113</td>\n",
       "      <td>taxonomy:9606</td>\n",
       "      <td>taxonomy:2697049</td>\n",
       "      <td>2019-nCoV_EPI_ISL_450113_variants.gff3</td>\n",
       "    </tr>\n",
       "    <tr>\n",
       "      <th>11975</th>\n",
       "      <td>hCoV-19/England/LOND-D4023/2020</td>\n",
       "      <td>EPI_ISL_444085</td>\n",
       "      <td>GISAID</td>\n",
       "      <td></td>\n",
       "      <td>Complete</td>\n",
       "      <td>29903</td>\n",
       "      <td>High</td>\n",
       "      <td>0/0/0/7/NO</td>\n",
       "      <td>Homo Sapiens</td>\n",
       "      <td>2020-04-04</td>\n",
       "      <td>United Kingdom / England</td>\n",
       "      <td>COVID-19 Genomics UK (COG-UK) Consortium</td>\n",
       "      <td>2020-05-13</td>\n",
       "      <td>COVID-19 Genomics UK (COG-UK) Consortium</td>\n",
       "      <td>2020-05-14 12:43:32</td>\n",
       "      <td>2020-05-14 12:43:32</td>\n",
       "      <td>EPI_ISL_444085</td>\n",
       "      <td>EPI_ISL_444085</td>\n",
       "      <td>taxonomy:9606</td>\n",
       "      <td>taxonomy:2697049</td>\n",
       "      <td>2019-nCoV_EPI_ISL_444085_variants.gff3</td>\n",
       "    </tr>\n",
       "  </tbody>\n",
       "</table>\n",
       "</div>"
      ],
      "text/plain": [
       "                                         name    Accession ID Data Source  \\\n",
       "10334  SARS-CoV-2/human/USA/VA-DCLS-0199/2020        MT450900     GenBank   \n",
       "8946          hCoV-19/England/CAMB-78944/2020  EPI_ISL_433794      GISAID   \n",
       "7155     SARS-CoV-2/human/USA/WA-UW-4766/2020        MT375452     GenBank   \n",
       "14754             hCoV-19/USA/NY-PV09436/2020  EPI_ISL_450113      GISAID   \n",
       "11975         hCoV-19/England/LOND-D4023/2020  EPI_ISL_444085      GISAID   \n",
       "\n",
       "           Related ID Nuc.Completeness Sequence Length Sequence Quality  \\\n",
       "10334  EPI_ISL_437414         Complete           29822             High   \n",
       "8946                          Complete           29904             High   \n",
       "7155   EPI_ISL_429623         Complete           29867             High   \n",
       "14754                         Complete           29724             High   \n",
       "11975                         Complete           29903             High   \n",
       "\n",
       "                                      Quality Assessment          Host  \\\n",
       "10334                                         0/0/0/7/NO  Homo Sapiens   \n",
       "8946   0/0/1/10/28881~28883(3-3-1.00,SNP:28881; SNP:2...  Homo Sapiens   \n",
       "7155                                          0/0/0/8/NO  Homo Sapiens   \n",
       "14754  0/0/0/7/28881~28883(3-3-1.00,SNP:28881; SNP:28...  Homo Sapiens   \n",
       "11975                                         0/0/0/7/NO  Homo Sapiens   \n",
       "\n",
       "      collectionDate                    location  \\\n",
       "10334     2020-04-11    United States / Virginia   \n",
       "8946      2020-04-06    United Kingdom / England   \n",
       "7155      2020-03-28  United States / Washington   \n",
       "14754     2020-03-10    United States / New York   \n",
       "11975     2020-04-04    United Kingdom / England   \n",
       "\n",
       "                                         Originating Lab Submission Date  \\\n",
       "10334              Division of Consolidated Laboratories      2020-05-08   \n",
       "8946            COVID-19 Genomics UK (COG-UK) Consortium      2020-04-29   \n",
       "7155   Laboratory Medicine, University of Washington,...      2020-04-23   \n",
       "14754                 MSHS Pathogen Surveillance Program      2020-05-20   \n",
       "11975           COVID-19 Genomics UK (COG-UK) Consortium      2020-05-13   \n",
       "\n",
       "                                          Submitting Lab          Create Time  \\\n",
       "10334              Division of Consolidated Laboratories  2020-05-09 14:55:56   \n",
       "8946            COVID-19 Genomics UK (COG-UK) Consortium  2020-04-30 06:00:00   \n",
       "7155   Laboratory Medicine, University of Washington,...  2020-04-24 16:40:34   \n",
       "14754                 MSHS Pathogen Surveillance Program  2020-05-21 01:22:48   \n",
       "11975           COVID-19 Genomics UK (COG-UK) Consortium  2020-05-14 12:43:32   \n",
       "\n",
       "          Last Update Time                    alias              id  \\\n",
       "10334  2020-05-12 22:03:27  MT450900;EPI_ISL_437414  EPI_ISL_437414   \n",
       "8946   2020-05-05 16:50:39           EPI_ISL_433794  EPI_ISL_433794   \n",
       "7155   2020-04-25 11:00:00  MT375452;EPI_ISL_429623  EPI_ISL_429623   \n",
       "14754  2020-05-21 01:22:48           EPI_ISL_450113  EPI_ISL_450113   \n",
       "11975  2020-05-14 12:43:32           EPI_ISL_444085  EPI_ISL_444085   \n",
       "\n",
       "      hostTaxonomyId        taxonomyId                                filename  \n",
       "10334  taxonomy:9606  taxonomy:2697049  2019-nCoV_EPI_ISL_437414_variants.gff3  \n",
       "8946   taxonomy:9606  taxonomy:2697049  2019-nCoV_EPI_ISL_433794_variants.gff3  \n",
       "7155   taxonomy:9606  taxonomy:2697049  2019-nCoV_EPI_ISL_429623_variants.gff3  \n",
       "14754  taxonomy:9606  taxonomy:2697049  2019-nCoV_EPI_ISL_450113_variants.gff3  \n",
       "11975  taxonomy:9606  taxonomy:2697049  2019-nCoV_EPI_ISL_444085_variants.gff3  "
      ]
     },
     "execution_count": 30,
     "metadata": {},
     "output_type": "execute_result"
    }
   ],
   "source": [
    "df.head()"
   ]
  },
  {
   "cell_type": "markdown",
   "metadata": {},
   "source": [
    "Keep only unique entries (there are a few duplicate cases)"
   ]
  },
  {
   "cell_type": "code",
   "execution_count": 31,
   "metadata": {},
   "outputs": [],
   "source": [
    "df.drop_duplicates(subset='name', inplace=True)\n",
    "df.drop_duplicates(subset='id', inplace=True)"
   ]
  },
  {
   "cell_type": "code",
   "execution_count": 32,
   "metadata": {},
   "outputs": [
    {
     "name": "stdout",
     "output_type": "stream",
     "text": [
      "Strains with a matching filename: 50\n"
     ]
    }
   ],
   "source": [
    "print('Strains with a matching filename:', df.shape[0])"
   ]
  },
  {
   "cell_type": "markdown",
   "metadata": {},
   "source": [
    "#### Download variant annotations for each strain\n",
    "To avoid download the same files every time, they are cached, and newly downloaded files are added to the cache."
   ]
  },
  {
   "cell_type": "code",
   "execution_count": 33,
   "metadata": {},
   "outputs": [],
   "source": [
    "names = ['taxon1', 'variantType', 'name', 'start', 'end','x1', 'x2', 'x3','taxon2', 'x4', 'strainStart', 'taxon3', 'x5', 'strainEnd', 'ref', 'alt', 'vepAnnotation']"
   ]
  },
  {
   "cell_type": "code",
   "execution_count": 34,
   "metadata": {},
   "outputs": [],
   "source": [
    "def download_gff3(filename, url):\n",
    "    gff3 = pd.read_csv(url, header=None, comment='#', sep='[\\t|;]', engine='python', names=names)\n",
    "    gff3['ref'] = gff3['ref'].str.replace('REF=','')\n",
    "    gff3['alt'] = gff3['alt'].str.replace('ALT=','')\n",
    "    gff3['vepAnnotation'] = gff3['vepAnnotation'].str.replace('VEP=','')\n",
    "    # prepare for 3-way split (need at least two commas)\n",
    "    gff3['vepAnnotation'] = gff3['vepAnnotation'].apply(lambda s: s + ',,' if s.count(',') < 2 else s)\n",
    "    # 3-way split\n",
    "    gff3[['variantConsequence','proteinVariant','geneVariant']] = gff3['vepAnnotation'].str.split(',', n=2, expand=True)\n",
    "    gff3['geneVariant'] = gff3['geneVariant'].str.replace('gene-','')\n",
    "    gff3 = gff3[['name', 'variantType', 'start', 'end', 'ref', 'alt', 'variantConsequence', 'proteinVariant', 'geneVariant']]\n",
    "    \n",
    "    filename = row['filename'] + '.csv'\n",
    "    gff3.to_csv(CACHE / filename, index=False)"
   ]
  },
  {
   "cell_type": "code",
   "execution_count": 35,
   "metadata": {},
   "outputs": [
    {
     "name": "stdout",
     "output_type": "stream",
     "text": [
      "2019-nCoV_EPI_ISL_437414_variants.gff3 2019-nCoV_EPI_ISL_433794_variants.gff3 2019-nCoV_EPI_ISL_429623_variants.gff3 2019-nCoV_EPI_ISL_450113_variants.gff3 2019-nCoV_EPI_ISL_444085_variants.gff3 2019-nCoV_EPI_ISL_460879_variants.gff3 2019-nCoV_EPI_ISL_450089_variants.gff3 2019-nCoV_EPI_ISL_460586_variants.gff3 2019-nCoV_EPI_ISL_447955_variants.gff3 2019-nCoV_EPI_ISL_434261_variants.gff3 2019-nCoV_EPI_ISL_450160_variants.gff3 2019-nCoV_EPI_ISL_451803_variants.gff3 2019-nCoV_EPI_ISL_439214_variants.gff3 2019-nCoV_EPI_ISL_448518_variants.gff3 2019-nCoV_EPI_ISL_419791_variants.gff3 2019-nCoV_EPI_ISL_445737_variants.gff3 2019-nCoV_EPI_ISL_424530_variants.gff3 2019-nCoV_EPI_ISL_434049_variants.gff3 2019-nCoV_EPI_ISL_416653_variants.gff3 2019-nCoV_EPI_ISL_462210_variants.gff3 2019-nCoV_EPI_ISL_450140_variants.gff3 2019-nCoV_EPI_ISL_416634_variants.gff3 2019-nCoV_EPI_ISL_426892_variants.gff3 2019-nCoV_EPI_ISL_414635_variants.gff3 2019-nCoV_EPI_ISL_444439_variants.gff3 2019-nCoV_EPI_ISL_445181_variants.gff3 2019-nCoV_EPI_ISL_439333_variants.gff3 2019-nCoV_EPI_ISL_428776_variants.gff3 2019-nCoV_EPI_ISL_424510_variants.gff3 2019-nCoV_EPI_ISL_436448_variants.gff3 2019-nCoV_EPI_ISL_434831_variants.gff3 2019-nCoV_EPI_ISL_462852_variants.gff3 2019-nCoV_EPI_ISL_461076_variants.gff3 2019-nCoV_EPI_ISL_462410_variants.gff3 2019-nCoV_EPI_ISL_454381_variants.gff3 2019-nCoV_EPI_ISL_461378_variants.gff3 2019-nCoV_EPI_ISL_427397_variants.gff3 2019-nCoV_EPI_ISL_460018_variants.gff3 2019-nCoV_EPI_ISL_423727_variants.gff3 2019-nCoV_EPI_ISL_428843_variants.gff3 2019-nCoV_EPI_ISL_458189_variants.gff3 2019-nCoV_EPI_ISL_421744_variants.gff3 2019-nCoV_EPI_ISL_451102_variants.gff3 2019-nCoV_EPI_ISL_443286_variants.gff3 2019-nCoV_EPI_ISL_437298_variants.gff3 2019-nCoV_EPI_ISL_454473_variants.gff3 2019-nCoV_EPI_ISL_453824_variants.gff3 "
     ]
    }
   ],
   "source": [
    "for index, row in df.iterrows():\n",
    "    url = annotation_url + row['filename']\n",
    "    filename = row['filename'] + '.csv'\n",
    "    if not Path.exists(CACHE / filename):\n",
    "        try:\n",
    "            download_gff3(row['filename'], url)\n",
    "            print(row['filename'], end=' ')\n",
    "        except:\n",
    "            print('Download failed for: ', row['filename'])"
   ]
  },
  {
   "cell_type": "markdown",
   "metadata": {},
   "source": [
    "### Concatenate all variation data into a single dataframe"
   ]
  },
  {
   "cell_type": "code",
   "execution_count": 36,
   "metadata": {},
   "outputs": [],
   "source": [
    "# use all cached data files\n",
    "path = str(CACHE / '*.csv')\n",
    "filenames = glob.glob(path)\n",
    "\n",
    "variations = pd.concat((pd.read_csv(f, index_col=None, header=0) for f in filenames))\n",
    "\n",
    "# list of dataframes\n",
    "# dfs = []\n",
    "\n",
    "# for filename in filenames:\n",
    "#     df = pd.read_csv(filename, index_col=None, header=0)\n",
    "#     dfs.append(df)\n",
    "\n",
    "# variations = pd.concat(dfs, axis=0, ignore_index=True)\n",
    "variations.fillna('', inplace=True)"
   ]
  },
  {
   "cell_type": "markdown",
   "metadata": {},
   "source": [
    "List of variant types and consequences:\n",
    "\n",
    "https://uswest.ensembl.org/info/genome/variation/prediction/classification.html\n",
    "\n",
    "https://uswest.ensembl.org/info/genome/variation/prediction/predicted_data.html#consequences"
   ]
  },
  {
   "cell_type": "markdown",
   "metadata": {},
   "source": [
    "#### Extract protein position and protein id from proteinVariant string\n",
    "\n",
    "Example: QHD43415.1:p.5828P>L\n",
    "\n",
    "proteinPosition: 5828\n",
    "proteinId: QHD43415"
   ]
  },
  {
   "cell_type": "code",
   "execution_count": 37,
   "metadata": {},
   "outputs": [],
   "source": [
    "position_pattern = re.compile(':p\\.(.*?)[A-Z|\\-]+')"
   ]
  },
  {
   "cell_type": "code",
   "execution_count": 38,
   "metadata": {},
   "outputs": [],
   "source": [
    "def extract_protein_position(s):\n",
    "    if s == '':\n",
    "        return s\n",
    "    else:\n",
    "        groups = position_pattern.search(s)\n",
    "        if groups == None:\n",
    "            return ''\n",
    "        else:\n",
    "            return groups.group(1)"
   ]
  },
  {
   "cell_type": "code",
   "execution_count": 39,
   "metadata": {},
   "outputs": [],
   "source": [
    "variations['proteinPosition'] = variations['proteinVariant'].apply(extract_protein_position)"
   ]
  },
  {
   "cell_type": "code",
   "execution_count": 40,
   "metadata": {},
   "outputs": [],
   "source": [
    "variations['proteinId'] = variations['proteinVariant'].apply(lambda s: s.split('.')[0] if '.' in s else '')"
   ]
  },
  {
   "cell_type": "code",
   "execution_count": 41,
   "metadata": {},
   "outputs": [
    {
     "data": {
      "text/plain": [
       "array(['', 'QHD43415', 'QHD43416', 'QHD43417', 'QHD43423', 'QHD43422',\n",
       "       'QHD43419', 'QHI42199', 'QHD43418', 'QHD43420', 'QHD43421'],\n",
       "      dtype=object)"
      ]
     },
     "execution_count": 41,
     "metadata": {},
     "output_type": "execute_result"
    }
   ],
   "source": [
    "variations['proteinId'].unique()"
   ]
  },
  {
   "cell_type": "markdown",
   "metadata": {},
   "source": [
    "#### Assign SARS-CoV-2 taxonomy id"
   ]
  },
  {
   "cell_type": "code",
   "execution_count": 42,
   "metadata": {},
   "outputs": [],
   "source": [
    "variations['taxonomyId'] = 'taxonomy:2697049'"
   ]
  },
  {
   "cell_type": "markdown",
   "metadata": {},
   "source": [
    "#### Assign Reference genome\n",
    "\n",
    "The first SARS-CoV-2 genome sequence is the reference for the variant annotation below.\n",
    "\n",
    "[Severe acute respiratory syndrome coronavirus 2 isolate Wuhan-Hu-1](https://www.ncbi.nlm.nih.gov/nuccore/MN908947)"
   ]
  },
  {
   "cell_type": "code",
   "execution_count": 43,
   "metadata": {},
   "outputs": [],
   "source": [
    "variations['referenceGenome'] = 'insdc:MN908947'"
   ]
  },
  {
   "cell_type": "code",
   "execution_count": 44,
   "metadata": {},
   "outputs": [],
   "source": [
    "variations['proteinId'] = variations['proteinId'].apply(lambda s: 'uniprot:' + s if s != '' else s)"
   ]
  },
  {
   "cell_type": "code",
   "execution_count": 45,
   "metadata": {},
   "outputs": [
    {
     "name": "stdout",
     "output_type": "stream",
     "text": [
      "variantType: ['Deletion' 'SNP' 'Insertion' 'Indel']\n"
     ]
    }
   ],
   "source": [
    "print('variantType:', variations['variantType'].unique())"
   ]
  },
  {
   "cell_type": "code",
   "execution_count": 46,
   "metadata": {},
   "outputs": [
    {
     "name": "stdout",
     "output_type": "stream",
     "text": [
      "variantConsequence: ['intergenic_variant' 'upstream_gene_variant' 'missense_variant'\n",
      " 'synonymous_variant' 'downstream_gene_variant' 'coding_sequence_variant'\n",
      " 'inframe_deletion' 'inframe_insertion' 'frameshift_variant' 'stop_gained'\n",
      " 'protein_altering_variant']\n"
     ]
    }
   ],
   "source": [
    "print(\"variantConsequence:\", variations['variantConsequence'].unique())"
   ]
  },
  {
   "cell_type": "code",
   "execution_count": 47,
   "metadata": {},
   "outputs": [
    {
     "name": "stdout",
     "output_type": "stream",
     "text": [
      "Number of variants: 28426\n"
     ]
    }
   ],
   "source": [
    "print(\"Number of variants:\", variations.shape[0])"
   ]
  },
  {
   "cell_type": "code",
   "execution_count": 48,
   "metadata": {},
   "outputs": [],
   "source": [
    "variations.to_csv(NEO4J_HOME / \"import/01d-CNCBVariant.csv\", index=False)"
   ]
  },
  {
   "cell_type": "code",
   "execution_count": 49,
   "metadata": {},
   "outputs": [
    {
     "data": {
      "text/html": [
       "<div>\n",
       "<style scoped>\n",
       "    .dataframe tbody tr th:only-of-type {\n",
       "        vertical-align: middle;\n",
       "    }\n",
       "\n",
       "    .dataframe tbody tr th {\n",
       "        vertical-align: top;\n",
       "    }\n",
       "\n",
       "    .dataframe thead th {\n",
       "        text-align: right;\n",
       "    }\n",
       "</style>\n",
       "<table border=\"1\" class=\"dataframe\">\n",
       "  <thead>\n",
       "    <tr style=\"text-align: right;\">\n",
       "      <th></th>\n",
       "      <th>name</th>\n",
       "      <th>variantType</th>\n",
       "      <th>start</th>\n",
       "      <th>end</th>\n",
       "      <th>ref</th>\n",
       "      <th>alt</th>\n",
       "      <th>variantConsequence</th>\n",
       "      <th>proteinVariant</th>\n",
       "      <th>geneVariant</th>\n",
       "      <th>proteinPosition</th>\n",
       "      <th>proteinId</th>\n",
       "      <th>taxonomyId</th>\n",
       "      <th>referenceGenome</th>\n",
       "    </tr>\n",
       "  </thead>\n",
       "  <tbody>\n",
       "    <tr>\n",
       "      <th>0</th>\n",
       "      <td>hCoV-19/USA/NY-PV09028/2020</td>\n",
       "      <td>Deletion</td>\n",
       "      <td>1</td>\n",
       "      <td>64</td>\n",
       "      <td>AATTAAAGGTTTATACCTTCCCAGGTAACAAACCAACCAACTTTCG...</td>\n",
       "      <td>-</td>\n",
       "      <td>intergenic_variant</td>\n",
       "      <td></td>\n",
       "      <td></td>\n",
       "      <td></td>\n",
       "      <td></td>\n",
       "      <td>taxonomy:2697049</td>\n",
       "      <td>insdc:MN908947</td>\n",
       "    </tr>\n",
       "    <tr>\n",
       "      <th>1</th>\n",
       "      <td>hCoV-19/USA/NY-PV09028/2020</td>\n",
       "      <td>SNP</td>\n",
       "      <td>241</td>\n",
       "      <td>241</td>\n",
       "      <td>C</td>\n",
       "      <td>T</td>\n",
       "      <td>upstream_gene_variant</td>\n",
       "      <td>DISTANCE=25</td>\n",
       "      <td>QHD43415.1,orf1ab</td>\n",
       "      <td></td>\n",
       "      <td></td>\n",
       "      <td>taxonomy:2697049</td>\n",
       "      <td>insdc:MN908947</td>\n",
       "    </tr>\n",
       "    <tr>\n",
       "      <th>2</th>\n",
       "      <td>hCoV-19/USA/NY-PV09028/2020</td>\n",
       "      <td>SNP</td>\n",
       "      <td>1059</td>\n",
       "      <td>1059</td>\n",
       "      <td>C</td>\n",
       "      <td>T</td>\n",
       "      <td>missense_variant</td>\n",
       "      <td>QHD43415.1:p.265T&gt;I</td>\n",
       "      <td>orf1ab:c.794aCc&gt;aTc</td>\n",
       "      <td>265</td>\n",
       "      <td>uniprot:QHD43415</td>\n",
       "      <td>taxonomy:2697049</td>\n",
       "      <td>insdc:MN908947</td>\n",
       "    </tr>\n",
       "    <tr>\n",
       "      <th>3</th>\n",
       "      <td>hCoV-19/USA/NY-PV09028/2020</td>\n",
       "      <td>SNP</td>\n",
       "      <td>3037</td>\n",
       "      <td>3037</td>\n",
       "      <td>C</td>\n",
       "      <td>T</td>\n",
       "      <td>synonymous_variant</td>\n",
       "      <td>QHD43415.1:p.924F</td>\n",
       "      <td>orf1ab:c.2772ttC&gt;ttT</td>\n",
       "      <td>924</td>\n",
       "      <td>uniprot:QHD43415</td>\n",
       "      <td>taxonomy:2697049</td>\n",
       "      <td>insdc:MN908947</td>\n",
       "    </tr>\n",
       "    <tr>\n",
       "      <th>4</th>\n",
       "      <td>hCoV-19/USA/NY-PV09028/2020</td>\n",
       "      <td>SNP</td>\n",
       "      <td>10851</td>\n",
       "      <td>10851</td>\n",
       "      <td>C</td>\n",
       "      <td>T</td>\n",
       "      <td>missense_variant</td>\n",
       "      <td>QHD43415.1:p.3529A&gt;V</td>\n",
       "      <td>orf1ab:c.10586gCt&gt;gTt</td>\n",
       "      <td>3529</td>\n",
       "      <td>uniprot:QHD43415</td>\n",
       "      <td>taxonomy:2697049</td>\n",
       "      <td>insdc:MN908947</td>\n",
       "    </tr>\n",
       "  </tbody>\n",
       "</table>\n",
       "</div>"
      ],
      "text/plain": [
       "                          name variantType  start    end  \\\n",
       "0  hCoV-19/USA/NY-PV09028/2020    Deletion      1     64   \n",
       "1  hCoV-19/USA/NY-PV09028/2020         SNP    241    241   \n",
       "2  hCoV-19/USA/NY-PV09028/2020         SNP   1059   1059   \n",
       "3  hCoV-19/USA/NY-PV09028/2020         SNP   3037   3037   \n",
       "4  hCoV-19/USA/NY-PV09028/2020         SNP  10851  10851   \n",
       "\n",
       "                                                 ref alt  \\\n",
       "0  AATTAAAGGTTTATACCTTCCCAGGTAACAAACCAACCAACTTTCG...   -   \n",
       "1                                                  C   T   \n",
       "2                                                  C   T   \n",
       "3                                                  C   T   \n",
       "4                                                  C   T   \n",
       "\n",
       "      variantConsequence        proteinVariant            geneVariant  \\\n",
       "0     intergenic_variant                                                \n",
       "1  upstream_gene_variant           DISTANCE=25      QHD43415.1,orf1ab   \n",
       "2       missense_variant   QHD43415.1:p.265T>I    orf1ab:c.794aCc>aTc   \n",
       "3     synonymous_variant     QHD43415.1:p.924F   orf1ab:c.2772ttC>ttT   \n",
       "4       missense_variant  QHD43415.1:p.3529A>V  orf1ab:c.10586gCt>gTt   \n",
       "\n",
       "  proteinPosition         proteinId        taxonomyId referenceGenome  \n",
       "0                                    taxonomy:2697049  insdc:MN908947  \n",
       "1                                    taxonomy:2697049  insdc:MN908947  \n",
       "2             265  uniprot:QHD43415  taxonomy:2697049  insdc:MN908947  \n",
       "3             924  uniprot:QHD43415  taxonomy:2697049  insdc:MN908947  \n",
       "4            3529  uniprot:QHD43415  taxonomy:2697049  insdc:MN908947  "
      ]
     },
     "execution_count": 49,
     "metadata": {},
     "output_type": "execute_result"
    }
   ],
   "source": [
    "variations.head()"
   ]
  },
  {
   "cell_type": "code",
   "execution_count": null,
   "metadata": {},
   "outputs": [],
   "source": []
  },
  {
   "cell_type": "code",
   "execution_count": null,
   "metadata": {},
   "outputs": [],
   "source": []
  }
 ],
 "metadata": {
  "kernelspec": {
   "display_name": "Python 3",
   "language": "python",
   "name": "python3"
  },
  "language_info": {
   "codemirror_mode": {
    "name": "ipython",
    "version": 3
   },
   "file_extension": ".py",
   "mimetype": "text/x-python",
   "name": "python",
   "nbconvert_exporter": "python",
   "pygments_lexer": "ipython3",
   "version": "3.8.3"
  }
 },
 "nbformat": 4,
 "nbformat_minor": 4
}

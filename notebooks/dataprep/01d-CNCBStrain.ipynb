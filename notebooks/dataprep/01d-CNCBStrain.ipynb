{
 "cells": [
  {
   "cell_type": "markdown",
   "metadata": {},
   "source": [
    "# Load SARS-CoV-2 Virus Strain Data from CNCB\n",
    "**[Work in progress]**\n",
    "\n",
    "This notebook downloads and standardizes viral strain and variation data from CNCB for ingestion into a Knowledge Graph.\n",
    "\n",
    "Data source: [China National Center for Bioinformation, 2019 Novel Coronavirus Resource (2019nCoVR)](https://bigd.big.ac.cn/ncov/release_genome)\n",
    "\n",
    "Author: Peter Rose (pwrose@ucsd.edu)"
   ]
  },
  {
   "cell_type": "code",
   "execution_count": 63,
   "metadata": {},
   "outputs": [],
   "source": [
    "import os\n",
    "import pandas as pd\n",
    "import dateutil\n",
    "import re\n",
    "from pathlib import Path\n",
    "import glob\n",
    "import ftplib"
   ]
  },
  {
   "cell_type": "code",
   "execution_count": 64,
   "metadata": {},
   "outputs": [],
   "source": [
    "pd.options.display.max_rows = None  # display all rows\n",
    "pd.options.display.max_columns = None  # display all columsns"
   ]
  },
  {
   "cell_type": "code",
   "execution_count": 65,
   "metadata": {},
   "outputs": [
    {
     "name": "stdout",
     "output_type": "stream",
     "text": [
      "/Users/peter/Library/Application Support/Neo4j Desktop/Application/neo4jDatabases/database-4af96121-2328-4e2f-ba60-6d8b728a26d5/installation-4.0.3\n"
     ]
    }
   ],
   "source": [
    "# Path will take care of handling operating system differences.\n",
    "NEO4J_HOME = Path(os.getenv('NEO4J_HOME'))\n",
    "print(NEO4J_HOME)"
   ]
  },
  {
   "cell_type": "code",
   "execution_count": 66,
   "metadata": {},
   "outputs": [],
   "source": [
    "# Create a directory to cache variation data\n",
    "CACHE = Path(NEO4J_HOME / 'import/cache')\n",
    "CACHE.mkdir(exist_ok=True)"
   ]
  },
  {
   "cell_type": "code",
   "execution_count": 67,
   "metadata": {},
   "outputs": [],
   "source": [
    "# Create a directory to cache variation data that could not be parsed\n",
    "CACHE_FAILED = Path(NEO4J_HOME / 'import/cache_failed')\n",
    "CACHE_FAILED.mkdir(exist_ok=True)"
   ]
  },
  {
   "cell_type": "markdown",
   "metadata": {},
   "source": [
    "## Download SARS-CoV-2 Strain metadata"
   ]
  },
  {
   "cell_type": "markdown",
   "metadata": {},
   "source": [
    "This notebook will download > 20,000 files. To work on a small sample (50 files), set \n",
    "\n",
    "`run_small_sample_only = True`"
   ]
  },
  {
   "cell_type": "code",
   "execution_count": 68,
   "metadata": {},
   "outputs": [],
   "source": [
    "run_small_sample_only = False"
   ]
  },
  {
   "cell_type": "code",
   "execution_count": 69,
   "metadata": {},
   "outputs": [],
   "source": [
    "metadata_url = \"https://bigd.big.ac.cn/ncov/genome/export/meta\"\n",
    "annotation_url = \"ftp://download.big.ac.cn/GVM/Coronavirus/gff3/\" "
   ]
  },
  {
   "cell_type": "code",
   "execution_count": 70,
   "metadata": {},
   "outputs": [],
   "source": [
    "df = pd.read_excel(metadata_url, dtype='str')\n",
    "df.fillna('', inplace=True)"
   ]
  },
  {
   "cell_type": "code",
   "execution_count": 71,
   "metadata": {},
   "outputs": [
    {
     "name": "stdout",
     "output_type": "stream",
     "text": [
      "Total number of strains: 50973\n"
     ]
    }
   ],
   "source": [
    "print(\"Total number of strains:\", df.shape[0])"
   ]
  },
  {
   "cell_type": "code",
   "execution_count": 72,
   "metadata": {},
   "outputs": [],
   "source": [
    "df = df.query(\"`Sequence Quality` == 'High'\")\n",
    "df = df.query(\"`Nuc.Completeness` == 'Complete'\")"
   ]
  },
  {
   "cell_type": "code",
   "execution_count": 73,
   "metadata": {},
   "outputs": [
    {
     "name": "stdout",
     "output_type": "stream",
     "text": [
      "Number of complete high quality strains 24261\n"
     ]
    }
   ],
   "source": [
    "print(\"Number of complete high quality strains\", df.shape[0])"
   ]
  },
  {
   "cell_type": "code",
   "execution_count": 74,
   "metadata": {},
   "outputs": [
    {
     "data": {
      "text/html": [
       "<div>\n",
       "<style scoped>\n",
       "    .dataframe tbody tr th:only-of-type {\n",
       "        vertical-align: middle;\n",
       "    }\n",
       "\n",
       "    .dataframe tbody tr th {\n",
       "        vertical-align: top;\n",
       "    }\n",
       "\n",
       "    .dataframe thead th {\n",
       "        text-align: right;\n",
       "    }\n",
       "</style>\n",
       "<table border=\"1\" class=\"dataframe\">\n",
       "  <thead>\n",
       "    <tr style=\"text-align: right;\">\n",
       "      <th></th>\n",
       "      <th>Virus Strain Name</th>\n",
       "      <th>Accession ID</th>\n",
       "      <th>Data Source</th>\n",
       "      <th>Related ID</th>\n",
       "      <th>Nuc.Completeness</th>\n",
       "      <th>Sequence Length</th>\n",
       "      <th>Sequence Quality</th>\n",
       "      <th>Quality Assessment</th>\n",
       "      <th>Host</th>\n",
       "      <th>Sample Collection Date</th>\n",
       "      <th>Location</th>\n",
       "      <th>Originating Lab</th>\n",
       "      <th>Submission Date</th>\n",
       "      <th>Submitting Lab</th>\n",
       "      <th>Create Time</th>\n",
       "      <th>Last Update Time</th>\n",
       "    </tr>\n",
       "  </thead>\n",
       "  <tbody>\n",
       "    <tr>\n",
       "      <th>0</th>\n",
       "      <td>BetaCoV/Wuhan/HBCDC-HB-01/2019</td>\n",
       "      <td>NMDC60013088-01</td>\n",
       "      <td>NMDC</td>\n",
       "      <td>EPI_ISL_402132</td>\n",
       "      <td>Complete</td>\n",
       "      <td>29848</td>\n",
       "      <td>High</td>\n",
       "      <td>0/0/0/1/NO</td>\n",
       "      <td>Homo sapiens</td>\n",
       "      <td>2019-12-30</td>\n",
       "      <td>China / Hubei</td>\n",
       "      <td>Hubei Provincial Center for Disease Control an...</td>\n",
       "      <td>2020-01-19</td>\n",
       "      <td>Hubei Provincial Center for Disease Control an...</td>\n",
       "      <td>2020-01-20 20:04:48</td>\n",
       "      <td>2020-05-07 23:03:25</td>\n",
       "    </tr>\n",
       "    <tr>\n",
       "      <th>1</th>\n",
       "      <td>BetaCoV/Nonthaburi/74/2020</td>\n",
       "      <td>EPI_ISL_403963</td>\n",
       "      <td>GISAID</td>\n",
       "      <td></td>\n",
       "      <td>Complete</td>\n",
       "      <td>29859</td>\n",
       "      <td>High</td>\n",
       "      <td>0/0/0/0/NO</td>\n",
       "      <td>Homo sapiens</td>\n",
       "      <td>2020-01-13</td>\n",
       "      <td>Thailand/ Nonthaburi Province</td>\n",
       "      <td>Department of Medical Sciences, Ministry of Pu...</td>\n",
       "      <td>2020-01-17</td>\n",
       "      <td>Department of Medical Sciences, Ministry of Pu...</td>\n",
       "      <td>2020-01-20 20:04:48</td>\n",
       "      <td>2020-01-20 20:04:48</td>\n",
       "    </tr>\n",
       "    <tr>\n",
       "      <th>2</th>\n",
       "      <td>BetaCoV/Nonthaburi/61/2020</td>\n",
       "      <td>EPI_ISL_403962</td>\n",
       "      <td>GISAID</td>\n",
       "      <td></td>\n",
       "      <td>Complete</td>\n",
       "      <td>29848</td>\n",
       "      <td>High</td>\n",
       "      <td>0/0/0/0/NO</td>\n",
       "      <td>Homo sapiens</td>\n",
       "      <td>2020-01-08</td>\n",
       "      <td>Thailand/ Nonthaburi Province</td>\n",
       "      <td>Department of Medical Sciences, Ministry of Pu...</td>\n",
       "      <td>2020-01-17</td>\n",
       "      <td>Department of Medical Sciences, Ministry of Pu...</td>\n",
       "      <td>2020-01-20 20:04:48</td>\n",
       "      <td>2020-01-20 20:04:48</td>\n",
       "    </tr>\n",
       "    <tr>\n",
       "      <th>3</th>\n",
       "      <td>BetaCoV/Wuhan/IVDC-HB-04/2020</td>\n",
       "      <td>NMDC60013085-01</td>\n",
       "      <td>NMDC</td>\n",
       "      <td>EPI_ISL_402120</td>\n",
       "      <td>Complete</td>\n",
       "      <td>29896</td>\n",
       "      <td>High</td>\n",
       "      <td>0/0/0/2/NO</td>\n",
       "      <td>Homo sapiens</td>\n",
       "      <td>2020-01-01</td>\n",
       "      <td>China / Hubei / Wuhan</td>\n",
       "      <td>National Institute for Viral Disease Control a...</td>\n",
       "      <td>2020-01-11</td>\n",
       "      <td>National Institute for Viral Disease Control a...</td>\n",
       "      <td>2020-01-20 20:04:48</td>\n",
       "      <td>2020-05-07 23:03:25</td>\n",
       "    </tr>\n",
       "    <tr>\n",
       "      <th>4</th>\n",
       "      <td>BetaCoV/Wuhan/IVDC-HB-01/2019</td>\n",
       "      <td>NMDC60013084-01</td>\n",
       "      <td>NMDC</td>\n",
       "      <td>EPI_ISL_402119</td>\n",
       "      <td>Complete</td>\n",
       "      <td>29891</td>\n",
       "      <td>High</td>\n",
       "      <td>0/0/0/0/NO</td>\n",
       "      <td>Homo sapiens</td>\n",
       "      <td>2019-12-30</td>\n",
       "      <td>China / Hubei / Wuhan</td>\n",
       "      <td>National Institute for Viral Disease Control a...</td>\n",
       "      <td>2020-01-10</td>\n",
       "      <td>National Institute for Viral Disease Control a...</td>\n",
       "      <td>2020-01-20 20:04:48</td>\n",
       "      <td>2020-05-07 23:03:25</td>\n",
       "    </tr>\n",
       "  </tbody>\n",
       "</table>\n",
       "</div>"
      ],
      "text/plain": [
       "                Virus Strain Name     Accession ID Data Source  \\\n",
       "0  BetaCoV/Wuhan/HBCDC-HB-01/2019  NMDC60013088-01        NMDC   \n",
       "1      BetaCoV/Nonthaburi/74/2020   EPI_ISL_403963      GISAID   \n",
       "2      BetaCoV/Nonthaburi/61/2020   EPI_ISL_403962      GISAID   \n",
       "3   BetaCoV/Wuhan/IVDC-HB-04/2020  NMDC60013085-01        NMDC   \n",
       "4   BetaCoV/Wuhan/IVDC-HB-01/2019  NMDC60013084-01        NMDC   \n",
       "\n",
       "       Related ID Nuc.Completeness Sequence Length Sequence Quality  \\\n",
       "0  EPI_ISL_402132         Complete           29848             High   \n",
       "1                         Complete           29859             High   \n",
       "2                         Complete           29848             High   \n",
       "3  EPI_ISL_402120         Complete           29896             High   \n",
       "4  EPI_ISL_402119         Complete           29891             High   \n",
       "\n",
       "  Quality Assessment          Host Sample Collection Date  \\\n",
       "0         0/0/0/1/NO  Homo sapiens             2019-12-30   \n",
       "1         0/0/0/0/NO  Homo sapiens             2020-01-13   \n",
       "2         0/0/0/0/NO  Homo sapiens             2020-01-08   \n",
       "3         0/0/0/2/NO  Homo sapiens             2020-01-01   \n",
       "4         0/0/0/0/NO  Homo sapiens             2019-12-30   \n",
       "\n",
       "                        Location  \\\n",
       "0                  China / Hubei   \n",
       "1  Thailand/ Nonthaburi Province   \n",
       "2  Thailand/ Nonthaburi Province   \n",
       "3          China / Hubei / Wuhan   \n",
       "4          China / Hubei / Wuhan   \n",
       "\n",
       "                                     Originating Lab Submission Date  \\\n",
       "0  Hubei Provincial Center for Disease Control an...      2020-01-19   \n",
       "1  Department of Medical Sciences, Ministry of Pu...      2020-01-17   \n",
       "2  Department of Medical Sciences, Ministry of Pu...      2020-01-17   \n",
       "3  National Institute for Viral Disease Control a...      2020-01-11   \n",
       "4  National Institute for Viral Disease Control a...      2020-01-10   \n",
       "\n",
       "                                      Submitting Lab          Create Time  \\\n",
       "0  Hubei Provincial Center for Disease Control an...  2020-01-20 20:04:48   \n",
       "1  Department of Medical Sciences, Ministry of Pu...  2020-01-20 20:04:48   \n",
       "2  Department of Medical Sciences, Ministry of Pu...  2020-01-20 20:04:48   \n",
       "3  National Institute for Viral Disease Control a...  2020-01-20 20:04:48   \n",
       "4  National Institute for Viral Disease Control a...  2020-01-20 20:04:48   \n",
       "\n",
       "      Last Update Time  \n",
       "0  2020-05-07 23:03:25  \n",
       "1  2020-01-20 20:04:48  \n",
       "2  2020-01-20 20:04:48  \n",
       "3  2020-05-07 23:03:25  \n",
       "4  2020-05-07 23:03:25  "
      ]
     },
     "execution_count": 74,
     "metadata": {},
     "output_type": "execute_result"
    }
   ],
   "source": [
    "df.head()"
   ]
  },
  {
   "cell_type": "markdown",
   "metadata": {},
   "source": [
    "#### Create a separate row for each Accession and Related ID"
   ]
  },
  {
   "cell_type": "code",
   "execution_count": 75,
   "metadata": {},
   "outputs": [],
   "source": [
    "df['Accession ID'] = df['Accession ID'].str.strip()\n",
    "df['Related ID'] = df['Related ID'].str.strip()\n",
    "\n",
    "# combine all ids into a single column\n",
    "df['alias'] = df['Accession ID'] + df['Related ID'].apply(lambda s: ',' + s if len(s) > 0 else s)\n",
    "df['alias'] = df['alias'].str.replace(' ', '')\n",
    "\n",
    "# then \"explode\" ids into separate rows\n",
    "df['id'] = df['alias'].apply(lambda s: s.split(','))\n",
    "df = df.explode('id')\n",
    "df['id'] = df['id'].str.strip()\n",
    "df['alias'] = df['alias'].str.replace(',', ';')"
   ]
  },
  {
   "cell_type": "markdown",
   "metadata": {},
   "source": [
    "#### Assign taxonomy ids"
   ]
  },
  {
   "cell_type": "code",
   "execution_count": 76,
   "metadata": {},
   "outputs": [],
   "source": [
    "# read Organism reference dictionary\n",
    "organism_to_id = dict()\n",
    "data = pd.read_csv(\"../../reference_data/OrganismDictionary.csv\", comment='#')\n",
    "for index, row in data.iterrows():\n",
    "    organism_to_id[row['organism']] = row['taxonomyId']"
   ]
  },
  {
   "cell_type": "code",
   "execution_count": 77,
   "metadata": {},
   "outputs": [
    {
     "data": {
      "text/plain": [
       "array(['taxonomy:9606', 'taxonomy:59477 ', 'Environment', 'taxonomy:9974',\n",
       "       'taxonomy:608659', 'taxonomy:419130', 'taxonomy:9666',\n",
       "       'taxonomy:9608', 'taxonomy:10090'], dtype=object)"
      ]
     },
     "execution_count": 77,
     "metadata": {},
     "output_type": "execute_result"
    }
   ],
   "source": [
    "# assign taxonomy id to host\n",
    "df['Host'] = df['Host'].str.strip()\n",
    "df['hostTaxonomyId'] = df['Host'].apply(lambda s: organism_to_id.get(s.lower(), s))\n",
    "df['hostTaxonomyId'].unique()"
   ]
  },
  {
   "cell_type": "code",
   "execution_count": 78,
   "metadata": {},
   "outputs": [],
   "source": [
    "df['taxonomyId'] = 'taxonomy:2697049' # SARS-CoV-2"
   ]
  },
  {
   "cell_type": "markdown",
   "metadata": {},
   "source": [
    "#### Standardize node property names (CURIEs and URIs)"
   ]
  },
  {
   "cell_type": "code",
   "execution_count": 79,
   "metadata": {},
   "outputs": [],
   "source": [
    "df.rename(columns={'Virus Strain Name': 'name',\n",
    "                   'Sample Collection Date':'collectionDate',\n",
    "                   'Location':'location'}, \n",
    "          inplace=True)"
   ]
  },
  {
   "cell_type": "code",
   "execution_count": 80,
   "metadata": {},
   "outputs": [],
   "source": [
    "# https://registry.identifiers.org/registry/insdc\n",
    "insdc_pattern = re.compile('^([A-Z]\\d{5}|[A-Z]{2}\\d{6}|[A-Z]{4}\\d{8}|[A-J][A-Z]{2}\\d{5})(\\.\\d+)?$')"
   ]
  },
  {
   "cell_type": "code",
   "execution_count": 81,
   "metadata": {},
   "outputs": [],
   "source": [
    "def assign_curie(id):\n",
    "    id = id.strip()\n",
    "    # remove underscore to enable CURIE matching of NCBI reference sequences NC_...\n",
    "    id = id.replace('NC_', 'NC') \n",
    "    if len(id) > 0:\n",
    "        if id.startswith('EPI'):\n",
    "            return 'https://www.gisaid.org/' + id\n",
    "        elif id.startswith('NC_'):\n",
    "            # NCBI reference sequences resolve with ncbiprotein CURIE\n",
    "            return 'ncbiprotein:' + id\n",
    "        elif insdc_pattern.match(id) != None:\n",
    "            return 'insdc:' + id\n",
    "        else:\n",
    "            # TODO are URIs available for these cases?\n",
    "            return id\n",
    "    else:\n",
    "        return id"
   ]
  },
  {
   "cell_type": "code",
   "execution_count": 82,
   "metadata": {},
   "outputs": [
    {
     "data": {
      "text/html": [
       "<div>\n",
       "<style scoped>\n",
       "    .dataframe tbody tr th:only-of-type {\n",
       "        vertical-align: middle;\n",
       "    }\n",
       "\n",
       "    .dataframe tbody tr th {\n",
       "        vertical-align: top;\n",
       "    }\n",
       "\n",
       "    .dataframe thead th {\n",
       "        text-align: right;\n",
       "    }\n",
       "</style>\n",
       "<table border=\"1\" class=\"dataframe\">\n",
       "  <thead>\n",
       "    <tr style=\"text-align: right;\">\n",
       "      <th></th>\n",
       "      <th>id</th>\n",
       "      <th>name</th>\n",
       "      <th>alias</th>\n",
       "      <th>taxonomyId</th>\n",
       "      <th>hostTaxonomyId</th>\n",
       "      <th>collectionDate</th>\n",
       "      <th>location</th>\n",
       "    </tr>\n",
       "  </thead>\n",
       "  <tbody>\n",
       "    <tr>\n",
       "      <th>0</th>\n",
       "      <td>NMDC60013088-01</td>\n",
       "      <td>BetaCoV/Wuhan/HBCDC-HB-01/2019</td>\n",
       "      <td>NMDC60013088-01;EPI_ISL_402132</td>\n",
       "      <td>taxonomy:2697049</td>\n",
       "      <td>taxonomy:9606</td>\n",
       "      <td>2019-12-30</td>\n",
       "      <td>China / Hubei</td>\n",
       "    </tr>\n",
       "    <tr>\n",
       "      <th>0</th>\n",
       "      <td>https://www.gisaid.org/EPI_ISL_402132</td>\n",
       "      <td>BetaCoV/Wuhan/HBCDC-HB-01/2019</td>\n",
       "      <td>NMDC60013088-01;EPI_ISL_402132</td>\n",
       "      <td>taxonomy:2697049</td>\n",
       "      <td>taxonomy:9606</td>\n",
       "      <td>2019-12-30</td>\n",
       "      <td>China / Hubei</td>\n",
       "    </tr>\n",
       "    <tr>\n",
       "      <th>1</th>\n",
       "      <td>https://www.gisaid.org/EPI_ISL_403963</td>\n",
       "      <td>BetaCoV/Nonthaburi/74/2020</td>\n",
       "      <td>EPI_ISL_403963</td>\n",
       "      <td>taxonomy:2697049</td>\n",
       "      <td>taxonomy:9606</td>\n",
       "      <td>2020-01-13</td>\n",
       "      <td>Thailand/ Nonthaburi Province</td>\n",
       "    </tr>\n",
       "    <tr>\n",
       "      <th>2</th>\n",
       "      <td>https://www.gisaid.org/EPI_ISL_403962</td>\n",
       "      <td>BetaCoV/Nonthaburi/61/2020</td>\n",
       "      <td>EPI_ISL_403962</td>\n",
       "      <td>taxonomy:2697049</td>\n",
       "      <td>taxonomy:9606</td>\n",
       "      <td>2020-01-08</td>\n",
       "      <td>Thailand/ Nonthaburi Province</td>\n",
       "    </tr>\n",
       "    <tr>\n",
       "      <th>3</th>\n",
       "      <td>NMDC60013085-01</td>\n",
       "      <td>BetaCoV/Wuhan/IVDC-HB-04/2020</td>\n",
       "      <td>NMDC60013085-01;EPI_ISL_402120</td>\n",
       "      <td>taxonomy:2697049</td>\n",
       "      <td>taxonomy:9606</td>\n",
       "      <td>2020-01-01</td>\n",
       "      <td>China / Hubei / Wuhan</td>\n",
       "    </tr>\n",
       "  </tbody>\n",
       "</table>\n",
       "</div>"
      ],
      "text/plain": [
       "                                      id                            name  \\\n",
       "0                        NMDC60013088-01  BetaCoV/Wuhan/HBCDC-HB-01/2019   \n",
       "0  https://www.gisaid.org/EPI_ISL_402132  BetaCoV/Wuhan/HBCDC-HB-01/2019   \n",
       "1  https://www.gisaid.org/EPI_ISL_403963      BetaCoV/Nonthaburi/74/2020   \n",
       "2  https://www.gisaid.org/EPI_ISL_403962      BetaCoV/Nonthaburi/61/2020   \n",
       "3                        NMDC60013085-01   BetaCoV/Wuhan/IVDC-HB-04/2020   \n",
       "\n",
       "                            alias        taxonomyId hostTaxonomyId  \\\n",
       "0  NMDC60013088-01;EPI_ISL_402132  taxonomy:2697049  taxonomy:9606   \n",
       "0  NMDC60013088-01;EPI_ISL_402132  taxonomy:2697049  taxonomy:9606   \n",
       "1                  EPI_ISL_403963  taxonomy:2697049  taxonomy:9606   \n",
       "2                  EPI_ISL_403962  taxonomy:2697049  taxonomy:9606   \n",
       "3  NMDC60013085-01;EPI_ISL_402120  taxonomy:2697049  taxonomy:9606   \n",
       "\n",
       "  collectionDate                       location  \n",
       "0     2019-12-30                  China / Hubei  \n",
       "0     2019-12-30                  China / Hubei  \n",
       "1     2020-01-13  Thailand/ Nonthaburi Province  \n",
       "2     2020-01-08  Thailand/ Nonthaburi Province  \n",
       "3     2020-01-01          China / Hubei / Wuhan  "
      ]
     },
     "execution_count": 82,
     "metadata": {},
     "output_type": "execute_result"
    }
   ],
   "source": [
    "strains = df[['id', 'name', 'alias', 'taxonomyId', 'hostTaxonomyId','collectionDate', 'location']].copy()\n",
    "strains['id'] = strains['id'].apply(assign_curie)\n",
    "strains.head()"
   ]
  },
  {
   "cell_type": "code",
   "execution_count": 83,
   "metadata": {},
   "outputs": [],
   "source": [
    "strains.to_csv(NEO4J_HOME / \"import/01d-CNCBStrain.csv\", index=False)"
   ]
  },
  {
   "cell_type": "markdown",
   "metadata": {},
   "source": [
    "## Merge Metadata with Variation Data"
   ]
  },
  {
   "cell_type": "markdown",
   "metadata": {},
   "source": [
    "#### Get list of file names from FTP site"
   ]
  },
  {
   "cell_type": "code",
   "execution_count": 84,
   "metadata": {},
   "outputs": [
    {
     "data": {
      "text/plain": [
       "'221 Goodbye.'"
      ]
     },
     "execution_count": 84,
     "metadata": {},
     "output_type": "execute_result"
    }
   ],
   "source": [
    "server = \"download.big.ac.cn\"\n",
    "user = \"anonymous\"\n",
    "password = \"anonymous\"\n",
    "source = \"/GVM/Coronavirus/gff3/\"\n",
    "\n",
    "ftp = ftplib.FTP(server)\n",
    "ftp.login(user, password)\n",
    "ftp.cwd(source) \n",
    "filelist=ftp.nlst()\n",
    "ftp.quit()"
   ]
  },
  {
   "cell_type": "code",
   "execution_count": 85,
   "metadata": {},
   "outputs": [],
   "source": [
    "df_file = pd.DataFrame(filelist, columns=['filename'])"
   ]
  },
  {
   "cell_type": "markdown",
   "metadata": {},
   "source": [
    "Extract identifiers from file name\n",
    "\n",
    "Example: 2019-nCoV_CNA0013697_variants.gff3 -> CNA0013697"
   ]
  },
  {
   "cell_type": "code",
   "execution_count": 86,
   "metadata": {},
   "outputs": [],
   "source": [
    "df_file['id'] = df_file['filename'].str[10:]\n",
    "df_file['id'] = df_file['id'].str.replace('_variants.gff3','')"
   ]
  },
  {
   "cell_type": "code",
   "execution_count": 87,
   "metadata": {},
   "outputs": [],
   "source": [
    "df_file = df_file.query(\"id != ''\")"
   ]
  },
  {
   "cell_type": "code",
   "execution_count": 88,
   "metadata": {},
   "outputs": [
    {
     "name": "stdout",
     "output_type": "stream",
     "text": [
      "Number of available files: 24548\n"
     ]
    }
   ],
   "source": [
    "print(\"Number of available files:\", df_file.shape[0])"
   ]
  },
  {
   "cell_type": "code",
   "execution_count": 89,
   "metadata": {},
   "outputs": [
    {
     "data": {
      "text/html": [
       "<div>\n",
       "<style scoped>\n",
       "    .dataframe tbody tr th:only-of-type {\n",
       "        vertical-align: middle;\n",
       "    }\n",
       "\n",
       "    .dataframe tbody tr th {\n",
       "        vertical-align: top;\n",
       "    }\n",
       "\n",
       "    .dataframe thead th {\n",
       "        text-align: right;\n",
       "    }\n",
       "</style>\n",
       "<table border=\"1\" class=\"dataframe\">\n",
       "  <thead>\n",
       "    <tr style=\"text-align: right;\">\n",
       "      <th></th>\n",
       "      <th>filename</th>\n",
       "      <th>id</th>\n",
       "    </tr>\n",
       "  </thead>\n",
       "  <tbody>\n",
       "    <tr>\n",
       "      <th>0</th>\n",
       "      <td>2019-nCoV_CNA0007332_variants.gff3</td>\n",
       "      <td>CNA0007332</td>\n",
       "    </tr>\n",
       "    <tr>\n",
       "      <th>1</th>\n",
       "      <td>2019-nCoV_CNA0007334_variants.gff3</td>\n",
       "      <td>CNA0007334</td>\n",
       "    </tr>\n",
       "    <tr>\n",
       "      <th>2</th>\n",
       "      <td>2019-nCoV_CNA0007335_variants.gff3</td>\n",
       "      <td>CNA0007335</td>\n",
       "    </tr>\n",
       "    <tr>\n",
       "      <th>3</th>\n",
       "      <td>2019-nCoV_CNA0013697_variants.gff3</td>\n",
       "      <td>CNA0013697</td>\n",
       "    </tr>\n",
       "    <tr>\n",
       "      <th>4</th>\n",
       "      <td>2019-nCoV_CNA0013698_variants.gff3</td>\n",
       "      <td>CNA0013698</td>\n",
       "    </tr>\n",
       "  </tbody>\n",
       "</table>\n",
       "</div>"
      ],
      "text/plain": [
       "                             filename          id\n",
       "0  2019-nCoV_CNA0007332_variants.gff3  CNA0007332\n",
       "1  2019-nCoV_CNA0007334_variants.gff3  CNA0007334\n",
       "2  2019-nCoV_CNA0007335_variants.gff3  CNA0007335\n",
       "3  2019-nCoV_CNA0013697_variants.gff3  CNA0013697\n",
       "4  2019-nCoV_CNA0013698_variants.gff3  CNA0013698"
      ]
     },
     "execution_count": 89,
     "metadata": {},
     "output_type": "execute_result"
    }
   ],
   "source": [
    "df_file.head()"
   ]
  },
  {
   "cell_type": "code",
   "execution_count": 90,
   "metadata": {},
   "outputs": [],
   "source": [
    "df = df.merge(df_file, on='id')"
   ]
  },
  {
   "cell_type": "code",
   "execution_count": 91,
   "metadata": {},
   "outputs": [
    {
     "name": "stdout",
     "output_type": "stream",
     "text": [
      "Strains with a matching filename: 24245\n"
     ]
    }
   ],
   "source": [
    "print('Strains with a matching filename:', df.shape[0])"
   ]
  },
  {
   "cell_type": "code",
   "execution_count": 92,
   "metadata": {},
   "outputs": [],
   "source": [
    "if run_small_sample_only:\n",
    "    df = df.sample(n=50, random_state=5)"
   ]
  },
  {
   "cell_type": "code",
   "execution_count": 93,
   "metadata": {},
   "outputs": [
    {
     "data": {
      "text/html": [
       "<div>\n",
       "<style scoped>\n",
       "    .dataframe tbody tr th:only-of-type {\n",
       "        vertical-align: middle;\n",
       "    }\n",
       "\n",
       "    .dataframe tbody tr th {\n",
       "        vertical-align: top;\n",
       "    }\n",
       "\n",
       "    .dataframe thead th {\n",
       "        text-align: right;\n",
       "    }\n",
       "</style>\n",
       "<table border=\"1\" class=\"dataframe\">\n",
       "  <thead>\n",
       "    <tr style=\"text-align: right;\">\n",
       "      <th></th>\n",
       "      <th>name</th>\n",
       "      <th>Accession ID</th>\n",
       "      <th>Data Source</th>\n",
       "      <th>Related ID</th>\n",
       "      <th>Nuc.Completeness</th>\n",
       "      <th>Sequence Length</th>\n",
       "      <th>Sequence Quality</th>\n",
       "      <th>Quality Assessment</th>\n",
       "      <th>Host</th>\n",
       "      <th>collectionDate</th>\n",
       "      <th>location</th>\n",
       "      <th>Originating Lab</th>\n",
       "      <th>Submission Date</th>\n",
       "      <th>Submitting Lab</th>\n",
       "      <th>Create Time</th>\n",
       "      <th>Last Update Time</th>\n",
       "      <th>alias</th>\n",
       "      <th>id</th>\n",
       "      <th>hostTaxonomyId</th>\n",
       "      <th>taxonomyId</th>\n",
       "      <th>filename</th>\n",
       "    </tr>\n",
       "  </thead>\n",
       "  <tbody>\n",
       "    <tr>\n",
       "      <th>0</th>\n",
       "      <td>BetaCoV/Wuhan/HBCDC-HB-01/2019</td>\n",
       "      <td>NMDC60013088-01</td>\n",
       "      <td>NMDC</td>\n",
       "      <td>EPI_ISL_402132</td>\n",
       "      <td>Complete</td>\n",
       "      <td>29848</td>\n",
       "      <td>High</td>\n",
       "      <td>0/0/0/1/NO</td>\n",
       "      <td>Homo sapiens</td>\n",
       "      <td>2019-12-30</td>\n",
       "      <td>China / Hubei</td>\n",
       "      <td>Hubei Provincial Center for Disease Control an...</td>\n",
       "      <td>2020-01-19</td>\n",
       "      <td>Hubei Provincial Center for Disease Control an...</td>\n",
       "      <td>2020-01-20 20:04:48</td>\n",
       "      <td>2020-05-07 23:03:25</td>\n",
       "      <td>NMDC60013088-01;EPI_ISL_402132</td>\n",
       "      <td>EPI_ISL_402132</td>\n",
       "      <td>taxonomy:9606</td>\n",
       "      <td>taxonomy:2697049</td>\n",
       "      <td>2019-nCoV_EPI_ISL_402132_variants.gff3</td>\n",
       "    </tr>\n",
       "    <tr>\n",
       "      <th>1</th>\n",
       "      <td>BetaCoV/Nonthaburi/74/2020</td>\n",
       "      <td>EPI_ISL_403963</td>\n",
       "      <td>GISAID</td>\n",
       "      <td></td>\n",
       "      <td>Complete</td>\n",
       "      <td>29859</td>\n",
       "      <td>High</td>\n",
       "      <td>0/0/0/0/NO</td>\n",
       "      <td>Homo sapiens</td>\n",
       "      <td>2020-01-13</td>\n",
       "      <td>Thailand/ Nonthaburi Province</td>\n",
       "      <td>Department of Medical Sciences, Ministry of Pu...</td>\n",
       "      <td>2020-01-17</td>\n",
       "      <td>Department of Medical Sciences, Ministry of Pu...</td>\n",
       "      <td>2020-01-20 20:04:48</td>\n",
       "      <td>2020-01-20 20:04:48</td>\n",
       "      <td>EPI_ISL_403963</td>\n",
       "      <td>EPI_ISL_403963</td>\n",
       "      <td>taxonomy:9606</td>\n",
       "      <td>taxonomy:2697049</td>\n",
       "      <td>2019-nCoV_EPI_ISL_403963_variants.gff3</td>\n",
       "    </tr>\n",
       "    <tr>\n",
       "      <th>2</th>\n",
       "      <td>BetaCoV/Nonthaburi/61/2020</td>\n",
       "      <td>EPI_ISL_403962</td>\n",
       "      <td>GISAID</td>\n",
       "      <td></td>\n",
       "      <td>Complete</td>\n",
       "      <td>29848</td>\n",
       "      <td>High</td>\n",
       "      <td>0/0/0/0/NO</td>\n",
       "      <td>Homo sapiens</td>\n",
       "      <td>2020-01-08</td>\n",
       "      <td>Thailand/ Nonthaburi Province</td>\n",
       "      <td>Department of Medical Sciences, Ministry of Pu...</td>\n",
       "      <td>2020-01-17</td>\n",
       "      <td>Department of Medical Sciences, Ministry of Pu...</td>\n",
       "      <td>2020-01-20 20:04:48</td>\n",
       "      <td>2020-01-20 20:04:48</td>\n",
       "      <td>EPI_ISL_403962</td>\n",
       "      <td>EPI_ISL_403962</td>\n",
       "      <td>taxonomy:9606</td>\n",
       "      <td>taxonomy:2697049</td>\n",
       "      <td>2019-nCoV_EPI_ISL_403962_variants.gff3</td>\n",
       "    </tr>\n",
       "    <tr>\n",
       "      <th>3</th>\n",
       "      <td>BetaCoV/Wuhan/IVDC-HB-04/2020</td>\n",
       "      <td>NMDC60013085-01</td>\n",
       "      <td>NMDC</td>\n",
       "      <td>EPI_ISL_402120</td>\n",
       "      <td>Complete</td>\n",
       "      <td>29896</td>\n",
       "      <td>High</td>\n",
       "      <td>0/0/0/2/NO</td>\n",
       "      <td>Homo sapiens</td>\n",
       "      <td>2020-01-01</td>\n",
       "      <td>China / Hubei / Wuhan</td>\n",
       "      <td>National Institute for Viral Disease Control a...</td>\n",
       "      <td>2020-01-11</td>\n",
       "      <td>National Institute for Viral Disease Control a...</td>\n",
       "      <td>2020-01-20 20:04:48</td>\n",
       "      <td>2020-05-07 23:03:25</td>\n",
       "      <td>NMDC60013085-01;EPI_ISL_402120</td>\n",
       "      <td>EPI_ISL_402120</td>\n",
       "      <td>taxonomy:9606</td>\n",
       "      <td>taxonomy:2697049</td>\n",
       "      <td>2019-nCoV_EPI_ISL_402120_variants.gff3</td>\n",
       "    </tr>\n",
       "    <tr>\n",
       "      <th>4</th>\n",
       "      <td>BetaCoV/Wuhan/IVDC-HB-01/2019</td>\n",
       "      <td>NMDC60013084-01</td>\n",
       "      <td>NMDC</td>\n",
       "      <td>EPI_ISL_402119</td>\n",
       "      <td>Complete</td>\n",
       "      <td>29891</td>\n",
       "      <td>High</td>\n",
       "      <td>0/0/0/0/NO</td>\n",
       "      <td>Homo sapiens</td>\n",
       "      <td>2019-12-30</td>\n",
       "      <td>China / Hubei / Wuhan</td>\n",
       "      <td>National Institute for Viral Disease Control a...</td>\n",
       "      <td>2020-01-10</td>\n",
       "      <td>National Institute for Viral Disease Control a...</td>\n",
       "      <td>2020-01-20 20:04:48</td>\n",
       "      <td>2020-05-07 23:03:25</td>\n",
       "      <td>NMDC60013084-01;EPI_ISL_402119</td>\n",
       "      <td>EPI_ISL_402119</td>\n",
       "      <td>taxonomy:9606</td>\n",
       "      <td>taxonomy:2697049</td>\n",
       "      <td>2019-nCoV_EPI_ISL_402119_variants.gff3</td>\n",
       "    </tr>\n",
       "  </tbody>\n",
       "</table>\n",
       "</div>"
      ],
      "text/plain": [
       "                             name     Accession ID Data Source  \\\n",
       "0  BetaCoV/Wuhan/HBCDC-HB-01/2019  NMDC60013088-01        NMDC   \n",
       "1      BetaCoV/Nonthaburi/74/2020   EPI_ISL_403963      GISAID   \n",
       "2      BetaCoV/Nonthaburi/61/2020   EPI_ISL_403962      GISAID   \n",
       "3   BetaCoV/Wuhan/IVDC-HB-04/2020  NMDC60013085-01        NMDC   \n",
       "4   BetaCoV/Wuhan/IVDC-HB-01/2019  NMDC60013084-01        NMDC   \n",
       "\n",
       "       Related ID Nuc.Completeness Sequence Length Sequence Quality  \\\n",
       "0  EPI_ISL_402132         Complete           29848             High   \n",
       "1                         Complete           29859             High   \n",
       "2                         Complete           29848             High   \n",
       "3  EPI_ISL_402120         Complete           29896             High   \n",
       "4  EPI_ISL_402119         Complete           29891             High   \n",
       "\n",
       "  Quality Assessment          Host collectionDate  \\\n",
       "0         0/0/0/1/NO  Homo sapiens     2019-12-30   \n",
       "1         0/0/0/0/NO  Homo sapiens     2020-01-13   \n",
       "2         0/0/0/0/NO  Homo sapiens     2020-01-08   \n",
       "3         0/0/0/2/NO  Homo sapiens     2020-01-01   \n",
       "4         0/0/0/0/NO  Homo sapiens     2019-12-30   \n",
       "\n",
       "                        location  \\\n",
       "0                  China / Hubei   \n",
       "1  Thailand/ Nonthaburi Province   \n",
       "2  Thailand/ Nonthaburi Province   \n",
       "3          China / Hubei / Wuhan   \n",
       "4          China / Hubei / Wuhan   \n",
       "\n",
       "                                     Originating Lab Submission Date  \\\n",
       "0  Hubei Provincial Center for Disease Control an...      2020-01-19   \n",
       "1  Department of Medical Sciences, Ministry of Pu...      2020-01-17   \n",
       "2  Department of Medical Sciences, Ministry of Pu...      2020-01-17   \n",
       "3  National Institute for Viral Disease Control a...      2020-01-11   \n",
       "4  National Institute for Viral Disease Control a...      2020-01-10   \n",
       "\n",
       "                                      Submitting Lab          Create Time  \\\n",
       "0  Hubei Provincial Center for Disease Control an...  2020-01-20 20:04:48   \n",
       "1  Department of Medical Sciences, Ministry of Pu...  2020-01-20 20:04:48   \n",
       "2  Department of Medical Sciences, Ministry of Pu...  2020-01-20 20:04:48   \n",
       "3  National Institute for Viral Disease Control a...  2020-01-20 20:04:48   \n",
       "4  National Institute for Viral Disease Control a...  2020-01-20 20:04:48   \n",
       "\n",
       "      Last Update Time                           alias              id  \\\n",
       "0  2020-05-07 23:03:25  NMDC60013088-01;EPI_ISL_402132  EPI_ISL_402132   \n",
       "1  2020-01-20 20:04:48                  EPI_ISL_403963  EPI_ISL_403963   \n",
       "2  2020-01-20 20:04:48                  EPI_ISL_403962  EPI_ISL_403962   \n",
       "3  2020-05-07 23:03:25  NMDC60013085-01;EPI_ISL_402120  EPI_ISL_402120   \n",
       "4  2020-05-07 23:03:25  NMDC60013084-01;EPI_ISL_402119  EPI_ISL_402119   \n",
       "\n",
       "  hostTaxonomyId        taxonomyId                                filename  \n",
       "0  taxonomy:9606  taxonomy:2697049  2019-nCoV_EPI_ISL_402132_variants.gff3  \n",
       "1  taxonomy:9606  taxonomy:2697049  2019-nCoV_EPI_ISL_403963_variants.gff3  \n",
       "2  taxonomy:9606  taxonomy:2697049  2019-nCoV_EPI_ISL_403962_variants.gff3  \n",
       "3  taxonomy:9606  taxonomy:2697049  2019-nCoV_EPI_ISL_402120_variants.gff3  \n",
       "4  taxonomy:9606  taxonomy:2697049  2019-nCoV_EPI_ISL_402119_variants.gff3  "
      ]
     },
     "execution_count": 93,
     "metadata": {},
     "output_type": "execute_result"
    }
   ],
   "source": [
    "df.head()"
   ]
  },
  {
   "cell_type": "markdown",
   "metadata": {},
   "source": [
    "Keep only unique entries (there are a few duplicate cases)"
   ]
  },
  {
   "cell_type": "code",
   "execution_count": 94,
   "metadata": {},
   "outputs": [],
   "source": [
    "df.drop_duplicates(subset='name', inplace=True)\n",
    "df.drop_duplicates(subset='id', inplace=True)"
   ]
  },
  {
   "cell_type": "code",
   "execution_count": 95,
   "metadata": {},
   "outputs": [
    {
     "name": "stdout",
     "output_type": "stream",
     "text": [
      "Strains with a matching filename: 24244\n"
     ]
    }
   ],
   "source": [
    "print('Strains with a matching filename:', df.shape[0])"
   ]
  },
  {
   "cell_type": "markdown",
   "metadata": {},
   "source": [
    "#### Download variant annotations for each strain\n",
    "To avoid download the same files every time, they are cached, and newly downloaded files are added to the cache."
   ]
  },
  {
   "cell_type": "code",
   "execution_count": 96,
   "metadata": {},
   "outputs": [],
   "source": [
    "names = ['taxon1', 'variantType', 'name', 'start', 'end','x1', 'x2', 'x3','taxon2', 'x4', 'strainStart', 'taxon3', 'x5', 'strainEnd', 'ref', 'alt', 'vepAnnotation']"
   ]
  },
  {
   "cell_type": "code",
   "execution_count": 97,
   "metadata": {},
   "outputs": [],
   "source": [
    "def download_gff3(filename, url):\n",
    "    gff3 = pd.read_csv(url, header=None, comment='#', sep='[\\t|;]', engine='python', names=names)\n",
    "    try:\n",
    "        gff3['ref'] = gff3['ref'].str.replace('REF=','')\n",
    "        gff3['alt'] = gff3['alt'].str.replace('ALT=','')\n",
    "        gff3['vepAnnotation'] = gff3['vepAnnotation'].str.replace('VEP=','')\n",
    "        # prepare for 3-way split (need at least two commas)\n",
    "        gff3['vepAnnotation'] = gff3['vepAnnotation'].apply(lambda s: s + ',,' if s.count(',') < 2 else s)\n",
    "        # 3-way split\n",
    "        gff3[['variantConsequence','proteinVariant','geneVariant']] = gff3['vepAnnotation'].str.split(',', n=2, expand=True)\n",
    "        gff3['geneVariant'] = gff3['geneVariant'].str.replace('gene-','')\n",
    "        gff3 = gff3[['name', 'variantType', 'start', 'end', 'ref', 'alt', 'variantConsequence', 'proteinVariant', 'geneVariant']]\n",
    "    \n",
    "        filename = row['filename'] + '.csv'\n",
    "        gff3.to_csv(CACHE / filename, index=False)\n",
    "    except:\n",
    "        print('Parsing failed for: ', row['filename'])\n",
    "        # cache files that failed to parse so we don't reprocess them next time\n",
    "        filename = row['filename'] + '.csv'\n",
    "        gff3 = pd.read_csv(url, header=None, comment='#', sep='[\\t|;]', engine='python', names=names)\n",
    "        gff3.to_csv(CACHE_FAILED / filename, index=False)"
   ]
  },
  {
   "cell_type": "code",
   "execution_count": null,
   "metadata": {},
   "outputs": [
    {
     "name": "stdout",
     "output_type": "stream",
     "text": [
      "2019-nCoV_EPI_ISL_416658_variants.gff3 2019-nCoV_EPI_ISL_416659_variants.gff3 2019-nCoV_EPI_ISL_416660_variants.gff3 2019-nCoV_EPI_ISL_416661_variants.gff3 2019-nCoV_EPI_ISL_416662_variants.gff3 2019-nCoV_EPI_ISL_416663_variants.gff3 2019-nCoV_EPI_ISL_416664_variants.gff3 2019-nCoV_EPI_ISL_416665_variants.gff3 2019-nCoV_EPI_ISL_416666_variants.gff3 2019-nCoV_EPI_ISL_416667_variants.gff3 2019-nCoV_EPI_ISL_416669_variants.gff3 2019-nCoV_EPI_ISL_416671_variants.gff3 2019-nCoV_EPI_ISL_416674_variants.gff3 2019-nCoV_EPI_ISL_416675_variants.gff3 2019-nCoV_EPI_ISL_416676_variants.gff3 2019-nCoV_EPI_ISL_416677_variants.gff3 2019-nCoV_EPI_ISL_416678_variants.gff3 2019-nCoV_EPI_ISL_416679_variants.gff3 2019-nCoV_EPI_ISL_416680_variants.gff3 2019-nCoV_EPI_ISL_416681_variants.gff3 2019-nCoV_EPI_ISL_416682_variants.gff3 2019-nCoV_EPI_ISL_416683_variants.gff3 2019-nCoV_EPI_ISL_416684_variants.gff3 2019-nCoV_EPI_ISL_416686_variants.gff3 2019-nCoV_EPI_ISL_416687_variants.gff3 2019-nCoV_EPI_ISL_416688_variants.gff3 2019-nCoV_EPI_ISL_416689_variants.gff3 2019-nCoV_EPI_ISL_416690_variants.gff3 2019-nCoV_EPI_ISL_416691_variants.gff3 2019-nCoV_EPI_ISL_416693_variants.gff3 2019-nCoV_EPI_ISL_416694_variants.gff3 2019-nCoV_EPI_ISL_416696_variants.gff3 2019-nCoV_EPI_ISL_416697_variants.gff3 2019-nCoV_EPI_ISL_416698_variants.gff3 2019-nCoV_EPI_ISL_416699_variants.gff3 2019-nCoV_EPI_ISL_416700_variants.gff3 2019-nCoV_EPI_ISL_416701_variants.gff3 2019-nCoV_EPI_ISL_416703_variants.gff3 2019-nCoV_EPI_ISL_416705_variants.gff3 2019-nCoV_EPI_ISL_416706_variants.gff3 2019-nCoV_EPI_ISL_416707_variants.gff3 2019-nCoV_EPI_ISL_416709_variants.gff3 2019-nCoV_EPI_ISL_416710_variants.gff3 2019-nCoV_EPI_ISL_416711_variants.gff3 2019-nCoV_EPI_ISL_416712_variants.gff3 2019-nCoV_EPI_ISL_416713_variants.gff3 2019-nCoV_EPI_ISL_416714_variants.gff3 2019-nCoV_EPI_ISL_416715_variants.gff3 2019-nCoV_EPI_ISL_416716_variants.gff3 2019-nCoV_EPI_ISL_416717_variants.gff3 2019-nCoV_EPI_ISL_416718_variants.gff3 2019-nCoV_EPI_ISL_416721_variants.gff3 2019-nCoV_EPI_ISL_416723_variants.gff3 2019-nCoV_EPI_ISL_416724_variants.gff3 2019-nCoV_EPI_ISL_416725_variants.gff3 2019-nCoV_EPI_ISL_416726_variants.gff3 2019-nCoV_EPI_ISL_416727_variants.gff3 2019-nCoV_EPI_ISL_416728_variants.gff3 2019-nCoV_EPI_ISL_416729_variants.gff3 2019-nCoV_EPI_ISL_416730_variants.gff3 2019-nCoV_EPI_ISL_416731_variants.gff3 2019-nCoV_EPI_ISL_416732_variants.gff3 2019-nCoV_EPI_ISL_416733_variants.gff3 2019-nCoV_EPI_ISL_416734_variants.gff3 2019-nCoV_EPI_ISL_416739_variants.gff3 2019-nCoV_EPI_ISL_416740_variants.gff3 2019-nCoV_EPI_ISL_416741_variants.gff3 2019-nCoV_EPI_ISL_416742_variants.gff3 2019-nCoV_EPI_ISL_416743_variants.gff3 2019-nCoV_EPI_ISL_416744_variants.gff3 2019-nCoV_EPI_ISL_416745_variants.gff3 2019-nCoV_EPI_ISL_416746_variants.gff3 2019-nCoV_EPI_ISL_416747_variants.gff3 2019-nCoV_EPI_ISL_416748_variants.gff3 2019-nCoV_EPI_ISL_416749_variants.gff3 2019-nCoV_EPI_ISL_416750_variants.gff3 2019-nCoV_EPI_ISL_416751_variants.gff3 2019-nCoV_EPI_ISL_416752_variants.gff3 2019-nCoV_EPI_ISL_416753_variants.gff3 2019-nCoV_EPI_ISL_416754_variants.gff3 2019-nCoV_EPI_ISL_416756_variants.gff3 2019-nCoV_EPI_ISL_416757_variants.gff3 2019-nCoV_EPI_ISL_416758_variants.gff3 2019-nCoV_EPI_ISL_416829_variants.gff3 2019-nCoV_EPI_ISL_416830_variants.gff3 2019-nCoV_EPI_ISL_416831_variants.gff3 2019-nCoV_EPI_ISL_416832_variants.gff3 2019-nCoV_EPI_ISL_416866_variants.gff3 2019-nCoV_EPI_ISL_416884_variants.gff3 2019-nCoV_EPI_ISL_416886_variants.gff3 2019-nCoV_EPI_ISL_416994_variants.gff3 2019-nCoV_EPI_ISL_417004_variants.gff3 2019-nCoV_EPI_ISL_417007_variants.gff3 2019-nCoV_EPI_ISL_417008_variants.gff3 2019-nCoV_EPI_ISL_417009_variants.gff3 2019-nCoV_EPI_ISL_417010_variants.gff3 2019-nCoV_EPI_ISL_417014_variants.gff3 2019-nCoV_EPI_ISL_417015_variants.gff3 2019-nCoV_EPI_ISL_417016_variants.gff3 2019-nCoV_EPI_ISL_417017_variants.gff3 2019-nCoV_EPI_ISL_417018_variants.gff3 2019-nCoV_EPI_ISL_417019_variants.gff3 2019-nCoV_EPI_ISL_417020_variants.gff3 2019-nCoV_EPI_ISL_417021_variants.gff3 2019-nCoV_EPI_ISL_417022_variants.gff3 2019-nCoV_EPI_ISL_417023_variants.gff3 2019-nCoV_EPI_ISL_417025_variants.gff3 2019-nCoV_EPI_ISL_417028_variants.gff3 2019-nCoV_EPI_ISL_417030_variants.gff3 2019-nCoV_EPI_ISL_417031_variants.gff3 2019-nCoV_EPI_ISL_417032_variants.gff3 2019-nCoV_EPI_ISL_417033_variants.gff3 2019-nCoV_EPI_ISL_417064_variants.gff3 2019-nCoV_EPI_ISL_417065_variants.gff3 2019-nCoV_EPI_ISL_417066_variants.gff3 2019-nCoV_EPI_ISL_417068_variants.gff3 2019-nCoV_EPI_ISL_417069_variants.gff3 2019-nCoV_EPI_ISL_417070_variants.gff3 2019-nCoV_EPI_ISL_417071_variants.gff3 2019-nCoV_EPI_ISL_417072_variants.gff3 2019-nCoV_EPI_ISL_417074_variants.gff3 2019-nCoV_EPI_ISL_417075_variants.gff3 2019-nCoV_EPI_ISL_417076_variants.gff3 2019-nCoV_EPI_ISL_417077_variants.gff3 2019-nCoV_EPI_ISL_417079_variants.gff3 2019-nCoV_EPI_ISL_417081_variants.gff3 2019-nCoV_EPI_ISL_417082_variants.gff3 2019-nCoV_EPI_ISL_417085_variants.gff3 2019-nCoV_EPI_ISL_417086_variants.gff3 2019-nCoV_EPI_ISL_417087_variants.gff3 2019-nCoV_EPI_ISL_417088_variants.gff3 2019-nCoV_EPI_ISL_417089_variants.gff3 2019-nCoV_EPI_ISL_417091_variants.gff3 2019-nCoV_EPI_ISL_417092_variants.gff3 2019-nCoV_EPI_ISL_417093_variants.gff3 2019-nCoV_EPI_ISL_417095_variants.gff3 2019-nCoV_EPI_ISL_417096_variants.gff3 2019-nCoV_EPI_ISL_417097_variants.gff3 2019-nCoV_EPI_ISL_417098_variants.gff3 2019-nCoV_EPI_ISL_417099_variants.gff3 2019-nCoV_EPI_ISL_417100_variants.gff3 2019-nCoV_EPI_ISL_417101_variants.gff3 2019-nCoV_EPI_ISL_417102_variants.gff3 2019-nCoV_EPI_ISL_417103_variants.gff3 2019-nCoV_EPI_ISL_417104_variants.gff3 2019-nCoV_EPI_ISL_417105_variants.gff3 2019-nCoV_EPI_ISL_417106_variants.gff3 2019-nCoV_EPI_ISL_417107_variants.gff3 2019-nCoV_EPI_ISL_417108_variants.gff3 2019-nCoV_EPI_ISL_417110_variants.gff3 2019-nCoV_EPI_ISL_417112_variants.gff3 2019-nCoV_EPI_ISL_417114_variants.gff3 2019-nCoV_EPI_ISL_417116_variants.gff3 2019-nCoV_EPI_ISL_417117_variants.gff3 2019-nCoV_EPI_ISL_417118_variants.gff3 2019-nCoV_EPI_ISL_417119_variants.gff3 2019-nCoV_EPI_ISL_417120_variants.gff3 2019-nCoV_EPI_ISL_417121_variants.gff3 2019-nCoV_EPI_ISL_417122_variants.gff3 2019-nCoV_EPI_ISL_417123_variants.gff3 2019-nCoV_EPI_ISL_417124_variants.gff3 2019-nCoV_EPI_ISL_417125_variants.gff3 2019-nCoV_EPI_ISL_417126_variants.gff3 2019-nCoV_EPI_ISL_417127_variants.gff3 2019-nCoV_EPI_ISL_417128_variants.gff3 2019-nCoV_EPI_ISL_417129_variants.gff3 2019-nCoV_EPI_ISL_417132_variants.gff3 2019-nCoV_EPI_ISL_417133_variants.gff3 2019-nCoV_EPI_ISL_417134_variants.gff3 2019-nCoV_EPI_ISL_417135_variants.gff3 2019-nCoV_EPI_ISL_417136_variants.gff3 2019-nCoV_EPI_ISL_417137_variants.gff3 2019-nCoV_EPI_ISL_417139_variants.gff3 2019-nCoV_EPI_ISL_417140_variants.gff3 2019-nCoV_EPI_ISL_417141_variants.gff3 2019-nCoV_EPI_ISL_417142_variants.gff3 2019-nCoV_EPI_ISL_417143_variants.gff3 2019-nCoV_EPI_ISL_417144_variants.gff3 2019-nCoV_EPI_ISL_417145_variants.gff3 2019-nCoV_EPI_ISL_417146_variants.gff3 2019-nCoV_EPI_ISL_417147_variants.gff3 2019-nCoV_EPI_ISL_417148_variants.gff3 2019-nCoV_EPI_ISL_417149_variants.gff3 2019-nCoV_EPI_ISL_417150_variants.gff3 2019-nCoV_EPI_ISL_417151_variants.gff3 2019-nCoV_EPI_ISL_417152_variants.gff3 2019-nCoV_EPI_ISL_417153_variants.gff3 2019-nCoV_EPI_ISL_417154_variants.gff3 2019-nCoV_EPI_ISL_417155_variants.gff3 2019-nCoV_EPI_ISL_417156_variants.gff3 2019-nCoV_EPI_ISL_417157_variants.gff3 2019-nCoV_EPI_ISL_417158_variants.gff3 2019-nCoV_EPI_ISL_417159_variants.gff3 2019-nCoV_EPI_ISL_417160_variants.gff3 2019-nCoV_EPI_ISL_417161_variants.gff3 2019-nCoV_EPI_ISL_417162_variants.gff3 2019-nCoV_EPI_ISL_417163_variants.gff3 2019-nCoV_EPI_ISL_417164_variants.gff3 2019-nCoV_EPI_ISL_417167_variants.gff3 2019-nCoV_EPI_ISL_417168_variants.gff3 2019-nCoV_EPI_ISL_417169_variants.gff3 2019-nCoV_EPI_ISL_417170_variants.gff3 2019-nCoV_EPI_ISL_417171_variants.gff3 2019-nCoV_EPI_ISL_417172_variants.gff3 2019-nCoV_EPI_ISL_417175_variants.gff3 2019-nCoV_EPI_ISL_417178_variants.gff3 2019-nCoV_EPI_ISL_417185_variants.gff3 2019-nCoV_EPI_ISL_417187_variants.gff3 2019-nCoV_EPI_ISL_417188_variants.gff3 2019-nCoV_EPI_ISL_417193_variants.gff3 2019-nCoV_EPI_ISL_417197_variants.gff3 2019-nCoV_MT226610_variants.gff3 2019-nCoV_GWHACDD01000001_variants.gff3 2019-nCoV_EPI_ISL_414690_variants.gff3 2019-nCoV_EPI_ISL_417191_variants.gff3 2019-nCoV_EPI_ISL_417200_variants.gff3 2019-nCoV_EPI_ISL_417201_variants.gff3 2019-nCoV_EPI_ISL_417202_variants.gff3 2019-nCoV_EPI_ISL_417203_variants.gff3 2019-nCoV_EPI_ISL_417204_variants.gff3 2019-nCoV_EPI_ISL_417211_variants.gff3 2019-nCoV_EPI_ISL_417212_variants.gff3 2019-nCoV_EPI_ISL_417222_variants.gff3 2019-nCoV_EPI_ISL_417226_variants.gff3 2019-nCoV_EPI_ISL_417227_variants.gff3 2019-nCoV_EPI_ISL_417231_variants.gff3 2019-nCoV_EPI_ISL_417232_variants.gff3 2019-nCoV_EPI_ISL_417233_variants.gff3 2019-nCoV_EPI_ISL_417234_variants.gff3 2019-nCoV_EPI_ISL_417235_variants.gff3 2019-nCoV_EPI_ISL_417236_variants.gff3 2019-nCoV_EPI_ISL_417240_variants.gff3 2019-nCoV_EPI_ISL_417244_variants.gff3 2019-nCoV_EPI_ISL_417246_variants.gff3 2019-nCoV_EPI_ISL_417248_variants.gff3 2019-nCoV_EPI_ISL_417252_variants.gff3 2019-nCoV_EPI_ISL_417255_variants.gff3 2019-nCoV_EPI_ISL_417256_variants.gff3 2019-nCoV_EPI_ISL_417258_variants.gff3 2019-nCoV_EPI_ISL_417260_variants.gff3 2019-nCoV_EPI_ISL_417264_variants.gff3 2019-nCoV_EPI_ISL_417265_variants.gff3 2019-nCoV_EPI_ISL_417266_variants.gff3 2019-nCoV_EPI_ISL_417268_variants.gff3 2019-nCoV_EPI_ISL_417272_variants.gff3 2019-nCoV_EPI_ISL_417276_variants.gff3 2019-nCoV_EPI_ISL_417279_variants.gff3 2019-nCoV_EPI_ISL_417280_variants.gff3 2019-nCoV_EPI_ISL_417282_variants.gff3 2019-nCoV_EPI_ISL_417283_variants.gff3 2019-nCoV_EPI_ISL_417285_variants.gff3 2019-nCoV_EPI_ISL_417286_variants.gff3 2019-nCoV_EPI_ISL_417289_variants.gff3 2019-nCoV_EPI_ISL_417291_variants.gff3 2019-nCoV_EPI_ISL_417293_variants.gff3 2019-nCoV_EPI_ISL_417295_variants.gff3 2019-nCoV_EPI_ISL_417297_variants.gff3 2019-nCoV_EPI_ISL_417299_variants.gff3 2019-nCoV_EPI_ISL_417301_variants.gff3 2019-nCoV_EPI_ISL_417302_variants.gff3 2019-nCoV_EPI_ISL_417311_variants.gff3 2019-nCoV_EPI_ISL_417312_variants.gff3 2019-nCoV_EPI_ISL_417313_variants.gff3 2019-nCoV_EPI_ISL_417315_variants.gff3 2019-nCoV_EPI_ISL_417318_variants.gff3 2019-nCoV_EPI_ISL_417320_variants.gff3 2019-nCoV_EPI_ISL_417330_variants.gff3 2019-nCoV_EPI_ISL_417334_variants.gff3 2019-nCoV_EPI_ISL_417335_variants.gff3 2019-nCoV_EPI_ISL_417336_variants.gff3 2019-nCoV_EPI_ISL_417337_variants.gff3 2019-nCoV_EPI_ISL_417338_variants.gff3 2019-nCoV_EPI_ISL_417339_variants.gff3 2019-nCoV_EPI_ISL_417340_variants.gff3 2019-nCoV_EPI_ISL_417341_variants.gff3 2019-nCoV_EPI_ISL_417342_variants.gff3 2019-nCoV_EPI_ISL_417343_variants.gff3 2019-nCoV_EPI_ISL_417344_variants.gff3 2019-nCoV_EPI_ISL_417345_variants.gff3 2019-nCoV_EPI_ISL_417346_variants.gff3 2019-nCoV_EPI_ISL_417347_variants.gff3 2019-nCoV_EPI_ISL_417349_variants.gff3 2019-nCoV_EPI_ISL_417352_variants.gff3 2019-nCoV_EPI_ISL_417353_variants.gff3 2019-nCoV_EPI_ISL_417354_variants.gff3 2019-nCoV_EPI_ISL_417356_variants.gff3 2019-nCoV_EPI_ISL_417358_variants.gff3 2019-nCoV_EPI_ISL_417359_variants.gff3 2019-nCoV_EPI_ISL_417360_variants.gff3 2019-nCoV_EPI_ISL_417361_variants.gff3 2019-nCoV_EPI_ISL_417362_variants.gff3 2019-nCoV_EPI_ISL_417363_variants.gff3 2019-nCoV_EPI_ISL_417364_variants.gff3 2019-nCoV_EPI_ISL_417365_variants.gff3 2019-nCoV_EPI_ISL_417366_variants.gff3 2019-nCoV_EPI_ISL_417367_variants.gff3 2019-nCoV_EPI_ISL_417368_variants.gff3 2019-nCoV_EPI_ISL_417369_variants.gff3 2019-nCoV_EPI_ISL_417370_variants.gff3 2019-nCoV_EPI_ISL_417371_variants.gff3 2019-nCoV_EPI_ISL_417372_variants.gff3 2019-nCoV_EPI_ISL_417373_variants.gff3 2019-nCoV_EPI_ISL_417374_variants.gff3 2019-nCoV_EPI_ISL_417376_variants.gff3 2019-nCoV_EPI_ISL_417377_variants.gff3 2019-nCoV_EPI_ISL_417378_variants.gff3 2019-nCoV_EPI_ISL_417379_variants.gff3 2019-nCoV_EPI_ISL_417380_variants.gff3 2019-nCoV_EPI_ISL_417381_variants.gff3 2019-nCoV_EPI_ISL_417382_variants.gff3 2019-nCoV_EPI_ISL_417383_variants.gff3 2019-nCoV_EPI_ISL_417384_variants.gff3 2019-nCoV_EPI_ISL_417385_variants.gff3 2019-nCoV_EPI_ISL_417386_variants.gff3 2019-nCoV_EPI_ISL_417387_variants.gff3 2019-nCoV_EPI_ISL_417388_variants.gff3 2019-nCoV_EPI_ISL_417389_variants.gff3 2019-nCoV_EPI_ISL_417390_variants.gff3 2019-nCoV_EPI_ISL_417391_variants.gff3 2019-nCoV_EPI_ISL_417392_variants.gff3 2019-nCoV_EPI_ISL_417393_variants.gff3 2019-nCoV_EPI_ISL_417394_variants.gff3 2019-nCoV_EPI_ISL_417395_variants.gff3 2019-nCoV_EPI_ISL_417396_variants.gff3 2019-nCoV_EPI_ISL_417397_variants.gff3 2019-nCoV_EPI_ISL_417398_variants.gff3 2019-nCoV_EPI_ISL_417399_variants.gff3 2019-nCoV_EPI_ISL_417400_variants.gff3 2019-nCoV_EPI_ISL_417401_variants.gff3 2019-nCoV_EPI_ISL_417402_variants.gff3 2019-nCoV_EPI_ISL_417403_variants.gff3 2019-nCoV_EPI_ISL_417404_variants.gff3 2019-nCoV_EPI_ISL_417405_variants.gff3 2019-nCoV_EPI_ISL_417406_variants.gff3 2019-nCoV_EPI_ISL_417407_variants.gff3 2019-nCoV_EPI_ISL_417408_variants.gff3 2019-nCoV_EPI_ISL_417409_variants.gff3 2019-nCoV_EPI_ISL_417410_variants.gff3 2019-nCoV_EPI_ISL_417411_variants.gff3 2019-nCoV_EPI_ISL_417412_variants.gff3 2019-nCoV_EPI_ISL_417418_variants.gff3 2019-nCoV_EPI_ISL_417419_variants.gff3 2019-nCoV_EPI_ISL_417420_variants.gff3 2019-nCoV_EPI_ISL_417421_variants.gff3 2019-nCoV_EPI_ISL_417422_variants.gff3 2019-nCoV_EPI_ISL_417423_variants.gff3 2019-nCoV_EPI_ISL_417424_variants.gff3 2019-nCoV_EPI_ISL_417425_variants.gff3 2019-nCoV_EPI_ISL_417426_variants.gff3 2019-nCoV_EPI_ISL_417427_variants.gff3 2019-nCoV_EPI_ISL_417429_variants.gff3 2019-nCoV_EPI_ISL_417430_variants.gff3 2019-nCoV_GWHACDE01000001_variants.gff3 2019-nCoV_GWHACDF01000001_variants.gff3 2019-nCoV_GWHACDG01000001_variants.gff3 2019-nCoV_GWHACDH01000001_variants.gff3 2019-nCoV_GWHACDI01000001_variants.gff3 2019-nCoV_GWHACDJ01000001_variants.gff3 2019-nCoV_EPI_ISL_417413_variants.gff3 2019-nCoV_EPI_ISL_417437_variants.gff3 2019-nCoV_EPI_ISL_417447_variants.gff3 2019-nCoV_EPI_ISL_417448_variants.gff3 2019-nCoV_EPI_ISL_417449_variants.gff3 2019-nCoV_EPI_ISL_417451_variants.gff3 2019-nCoV_EPI_ISL_417452_variants.gff3 2019-nCoV_EPI_ISL_417453_variants.gff3 2019-nCoV_EPI_ISL_417454_variants.gff3 2019-nCoV_EPI_ISL_417455_variants.gff3 2019-nCoV_EPI_ISL_417456_variants.gff3 2019-nCoV_EPI_ISL_417457_variants.gff3 2019-nCoV_EPI_ISL_417458_variants.gff3 2019-nCoV_EPI_ISL_417459_variants.gff3 2019-nCoV_EPI_ISL_417460_variants.gff3 2019-nCoV_EPI_ISL_417461_variants.gff3 2019-nCoV_EPI_ISL_417462_variants.gff3 2019-nCoV_EPI_ISL_417463_variants.gff3 2019-nCoV_EPI_ISL_417464_variants.gff3 2019-nCoV_EPI_ISL_417465_variants.gff3 2019-nCoV_EPI_ISL_417466_variants.gff3 2019-nCoV_EPI_ISL_417467_variants.gff3 2019-nCoV_EPI_ISL_417468_variants.gff3 2019-nCoV_EPI_ISL_417469_variants.gff3 2019-nCoV_EPI_ISL_417470_variants.gff3 2019-nCoV_EPI_ISL_417471_variants.gff3 2019-nCoV_EPI_ISL_417472_variants.gff3 2019-nCoV_EPI_ISL_417473_variants.gff3 2019-nCoV_EPI_ISL_417474_variants.gff3 2019-nCoV_EPI_ISL_417475_variants.gff3 2019-nCoV_EPI_ISL_417476_variants.gff3 2019-nCoV_EPI_ISL_417477_variants.gff3 2019-nCoV_EPI_ISL_417478_variants.gff3 2019-nCoV_EPI_ISL_417479_variants.gff3 2019-nCoV_EPI_ISL_417480_variants.gff3 2019-nCoV_EPI_ISL_417483_variants.gff3 2019-nCoV_EPI_ISL_417484_variants.gff3 2019-nCoV_EPI_ISL_417486_variants.gff3 2019-nCoV_EPI_ISL_417487_variants.gff3 2019-nCoV_EPI_ISL_417488_variants.gff3 2019-nCoV_EPI_ISL_417491_variants.gff3 2019-nCoV_EPI_ISL_417492_variants.gff3 2019-nCoV_EPI_ISL_417493_variants.gff3 2019-nCoV_EPI_ISL_417494_variants.gff3 2019-nCoV_EPI_ISL_417495_variants.gff3 2019-nCoV_EPI_ISL_417496_variants.gff3 2019-nCoV_EPI_ISL_417497_variants.gff3 2019-nCoV_EPI_ISL_417498_variants.gff3 2019-nCoV_EPI_ISL_417499_variants.gff3 2019-nCoV_EPI_ISL_417500_variants.gff3 2019-nCoV_EPI_ISL_417501_variants.gff3 2019-nCoV_EPI_ISL_417502_variants.gff3 2019-nCoV_EPI_ISL_417503_variants.gff3 2019-nCoV_EPI_ISL_417504_variants.gff3 2019-nCoV_EPI_ISL_417505_variants.gff3 2019-nCoV_EPI_ISL_417506_variants.gff3 2019-nCoV_EPI_ISL_417507_variants.gff3 2019-nCoV_EPI_ISL_417508_variants.gff3 2019-nCoV_EPI_ISL_417509_variants.gff3 2019-nCoV_EPI_ISL_417510_variants.gff3 2019-nCoV_EPI_ISL_417512_variants.gff3 2019-nCoV_EPI_ISL_417513_variants.gff3 2019-nCoV_EPI_ISL_417514_variants.gff3 2019-nCoV_EPI_ISL_417515_variants.gff3 2019-nCoV_EPI_ISL_417516_variants.gff3 2019-nCoV_EPI_ISL_417519_variants.gff3 2019-nCoV_EPI_ISL_417520_variants.gff3 2019-nCoV_EPI_ISL_417521_variants.gff3 2019-nCoV_EPI_ISL_417522_variants.gff3 2019-nCoV_EPI_ISL_417523_variants.gff3 2019-nCoV_EPI_ISL_417524_variants.gff3 2019-nCoV_EPI_ISL_417525_variants.gff3 2019-nCoV_EPI_ISL_417526_variants.gff3 2019-nCoV_EPI_ISL_417527_variants.gff3 2019-nCoV_EPI_ISL_417528_variants.gff3 2019-nCoV_EPI_ISL_417529_variants.gff3 2019-nCoV_EPI_ISL_417530_variants.gff3 2019-nCoV_EPI_ISL_417531_variants.gff3 2019-nCoV_EPI_ISL_417532_variants.gff3 2019-nCoV_EPI_ISL_417533_variants.gff3 2019-nCoV_EPI_ISL_417534_variants.gff3 2019-nCoV_EPI_ISL_417536_variants.gff3 2019-nCoV_EPI_ISL_417538_variants.gff3 2019-nCoV_EPI_ISL_417540_variants.gff3 2019-nCoV_EPI_ISL_417541_variants.gff3 2019-nCoV_EPI_ISL_417542_variants.gff3 2019-nCoV_EPI_ISL_417543_variants.gff3 2019-nCoV_EPI_ISL_417544_variants.gff3 2019-nCoV_EPI_ISL_417545_variants.gff3 2019-nCoV_EPI_ISL_417548_variants.gff3 2019-nCoV_EPI_ISL_417549_variants.gff3 2019-nCoV_EPI_ISL_417550_variants.gff3 2019-nCoV_EPI_ISL_417551_variants.gff3 2019-nCoV_EPI_ISL_417553_variants.gff3 2019-nCoV_EPI_ISL_417555_variants.gff3 2019-nCoV_EPI_ISL_417556_variants.gff3 2019-nCoV_EPI_ISL_417557_variants.gff3 2019-nCoV_EPI_ISL_417560_variants.gff3 2019-nCoV_EPI_ISL_417561_variants.gff3 2019-nCoV_EPI_ISL_417562_variants.gff3 2019-nCoV_EPI_ISL_417563_variants.gff3 2019-nCoV_EPI_ISL_417564_variants.gff3 2019-nCoV_EPI_ISL_417565_variants.gff3 2019-nCoV_EPI_ISL_417566_variants.gff3 2019-nCoV_EPI_ISL_417567_variants.gff3 2019-nCoV_EPI_ISL_417568_variants.gff3 2019-nCoV_EPI_ISL_417569_variants.gff3 2019-nCoV_EPI_ISL_417570_variants.gff3 2019-nCoV_EPI_ISL_417571_variants.gff3 2019-nCoV_EPI_ISL_417572_variants.gff3 2019-nCoV_EPI_ISL_417573_variants.gff3 2019-nCoV_EPI_ISL_417574_variants.gff3 2019-nCoV_EPI_ISL_417575_variants.gff3 2019-nCoV_EPI_ISL_417576_variants.gff3 2019-nCoV_EPI_ISL_417577_variants.gff3 2019-nCoV_EPI_ISL_417580_variants.gff3 2019-nCoV_EPI_ISL_417581_variants.gff3 2019-nCoV_EPI_ISL_417582_variants.gff3 2019-nCoV_EPI_ISL_417583_variants.gff3 2019-nCoV_EPI_ISL_417584_variants.gff3 2019-nCoV_EPI_ISL_417585_variants.gff3 2019-nCoV_EPI_ISL_417586_variants.gff3 2019-nCoV_EPI_ISL_417587_variants.gff3 2019-nCoV_EPI_ISL_417588_variants.gff3 2019-nCoV_EPI_ISL_417589_variants.gff3 2019-nCoV_EPI_ISL_417590_variants.gff3 Parsing failed for:  2019-nCoV_EPI_ISL_417591_variants.gff3\n",
      "2019-nCoV_EPI_ISL_417591_variants.gff3 2019-nCoV_EPI_ISL_417592_variants.gff3 2019-nCoV_EPI_ISL_417593_variants.gff3 2019-nCoV_EPI_ISL_417594_variants.gff3 2019-nCoV_EPI_ISL_417595_variants.gff3 2019-nCoV_EPI_ISL_417597_variants.gff3 2019-nCoV_EPI_ISL_417598_variants.gff3 2019-nCoV_EPI_ISL_417600_variants.gff3 Parsing failed for:  2019-nCoV_EPI_ISL_417602_variants.gff3\n",
      "2019-nCoV_EPI_ISL_417602_variants.gff3 2019-nCoV_EPI_ISL_417607_variants.gff3 2019-nCoV_EPI_ISL_417608_variants.gff3 2019-nCoV_EPI_ISL_417609_variants.gff3 2019-nCoV_EPI_ISL_417612_variants.gff3 2019-nCoV_EPI_ISL_417614_variants.gff3 2019-nCoV_EPI_ISL_417615_variants.gff3 2019-nCoV_EPI_ISL_417618_variants.gff3 2019-nCoV_EPI_ISL_417619_variants.gff3 2019-nCoV_EPI_ISL_417621_variants.gff3 2019-nCoV_EPI_ISL_417622_variants.gff3 2019-nCoV_EPI_ISL_417625_variants.gff3 2019-nCoV_EPI_ISL_417626_variants.gff3 2019-nCoV_EPI_ISL_417627_variants.gff3 2019-nCoV_EPI_ISL_417629_variants.gff3 2019-nCoV_EPI_ISL_417630_variants.gff3 2019-nCoV_EPI_ISL_417632_variants.gff3 2019-nCoV_EPI_ISL_417634_variants.gff3 2019-nCoV_EPI_ISL_417635_variants.gff3 2019-nCoV_EPI_ISL_417636_variants.gff3 2019-nCoV_EPI_ISL_417637_variants.gff3 2019-nCoV_EPI_ISL_417639_variants.gff3 2019-nCoV_EPI_ISL_417641_variants.gff3 2019-nCoV_EPI_ISL_417642_variants.gff3 2019-nCoV_EPI_ISL_417643_variants.gff3 2019-nCoV_EPI_ISL_417644_variants.gff3 2019-nCoV_EPI_ISL_417645_variants.gff3 2019-nCoV_EPI_ISL_417646_variants.gff3 2019-nCoV_EPI_ISL_417647_variants.gff3 2019-nCoV_EPI_ISL_417649_variants.gff3 2019-nCoV_EPI_ISL_417650_variants.gff3 2019-nCoV_EPI_ISL_417652_variants.gff3 2019-nCoV_EPI_ISL_417653_variants.gff3 2019-nCoV_EPI_ISL_417654_variants.gff3 2019-nCoV_EPI_ISL_417655_variants.gff3 2019-nCoV_EPI_ISL_417659_variants.gff3 2019-nCoV_EPI_ISL_417663_variants.gff3 2019-nCoV_EPI_ISL_417665_variants.gff3 2019-nCoV_EPI_ISL_417666_variants.gff3 2019-nCoV_EPI_ISL_417667_variants.gff3 2019-nCoV_EPI_ISL_417672_variants.gff3 2019-nCoV_EPI_ISL_417676_variants.gff3 2019-nCoV_EPI_ISL_417677_variants.gff3 2019-nCoV_EPI_ISL_417678_variants.gff3 2019-nCoV_EPI_ISL_417680_variants.gff3 2019-nCoV_EPI_ISL_417681_variants.gff3 2019-nCoV_EPI_ISL_417682_variants.gff3 2019-nCoV_EPI_ISL_417683_variants.gff3 2019-nCoV_EPI_ISL_417684_variants.gff3 2019-nCoV_EPI_ISL_417685_variants.gff3 2019-nCoV_EPI_ISL_417688_variants.gff3 2019-nCoV_EPI_ISL_417690_variants.gff3 2019-nCoV_EPI_ISL_417691_variants.gff3 2019-nCoV_EPI_ISL_417692_variants.gff3 2019-nCoV_EPI_ISL_417693_variants.gff3 2019-nCoV_EPI_ISL_417694_variants.gff3 2019-nCoV_EPI_ISL_417696_variants.gff3 2019-nCoV_EPI_ISL_417698_variants.gff3 2019-nCoV_EPI_ISL_417699_variants.gff3 2019-nCoV_EPI_ISL_417700_variants.gff3 2019-nCoV_EPI_ISL_417703_variants.gff3 2019-nCoV_EPI_ISL_417705_variants.gff3 2019-nCoV_EPI_ISL_417706_variants.gff3 2019-nCoV_EPI_ISL_417709_variants.gff3 2019-nCoV_EPI_ISL_417711_variants.gff3 2019-nCoV_EPI_ISL_417712_variants.gff3 2019-nCoV_EPI_ISL_417713_variants.gff3 2019-nCoV_EPI_ISL_417714_variants.gff3 2019-nCoV_EPI_ISL_417715_variants.gff3 2019-nCoV_EPI_ISL_417716_variants.gff3 2019-nCoV_EPI_ISL_417717_variants.gff3 2019-nCoV_EPI_ISL_417720_variants.gff3 2019-nCoV_EPI_ISL_417722_variants.gff3 2019-nCoV_EPI_ISL_417724_variants.gff3 2019-nCoV_EPI_ISL_417725_variants.gff3 2019-nCoV_EPI_ISL_417727_variants.gff3 2019-nCoV_EPI_ISL_417728_variants.gff3 2019-nCoV_EPI_ISL_417730_variants.gff3 2019-nCoV_EPI_ISL_417731_variants.gff3 2019-nCoV_EPI_ISL_417732_variants.gff3 2019-nCoV_EPI_ISL_417733_variants.gff3 2019-nCoV_EPI_ISL_417734_variants.gff3 2019-nCoV_EPI_ISL_417735_variants.gff3 2019-nCoV_EPI_ISL_417736_variants.gff3 2019-nCoV_EPI_ISL_417737_variants.gff3 2019-nCoV_EPI_ISL_417739_variants.gff3 2019-nCoV_EPI_ISL_417740_variants.gff3 2019-nCoV_EPI_ISL_417741_variants.gff3 2019-nCoV_EPI_ISL_417742_variants.gff3 2019-nCoV_EPI_ISL_417743_variants.gff3 2019-nCoV_EPI_ISL_417744_variants.gff3 2019-nCoV_EPI_ISL_417745_variants.gff3 2019-nCoV_EPI_ISL_417746_variants.gff3 2019-nCoV_EPI_ISL_417748_variants.gff3 2019-nCoV_EPI_ISL_417749_variants.gff3 2019-nCoV_EPI_ISL_417750_variants.gff3 2019-nCoV_EPI_ISL_417752_variants.gff3 2019-nCoV_EPI_ISL_417753_variants.gff3 2019-nCoV_EPI_ISL_417754_variants.gff3 2019-nCoV_EPI_ISL_417757_variants.gff3 2019-nCoV_EPI_ISL_417758_variants.gff3 2019-nCoV_EPI_ISL_417759_variants.gff3 2019-nCoV_EPI_ISL_417761_variants.gff3 2019-nCoV_EPI_ISL_417762_variants.gff3 2019-nCoV_EPI_ISL_417763_variants.gff3 2019-nCoV_EPI_ISL_417766_variants.gff3 2019-nCoV_EPI_ISL_417770_variants.gff3 2019-nCoV_EPI_ISL_417771_variants.gff3 2019-nCoV_EPI_ISL_417772_variants.gff3 2019-nCoV_EPI_ISL_417773_variants.gff3 2019-nCoV_EPI_ISL_417774_variants.gff3 2019-nCoV_EPI_ISL_417775_variants.gff3 2019-nCoV_EPI_ISL_417777_variants.gff3 2019-nCoV_EPI_ISL_417779_variants.gff3 2019-nCoV_EPI_ISL_417783_variants.gff3 2019-nCoV_EPI_ISL_417784_variants.gff3 2019-nCoV_EPI_ISL_417785_variants.gff3 2019-nCoV_EPI_ISL_417786_variants.gff3 2019-nCoV_EPI_ISL_417787_variants.gff3 2019-nCoV_EPI_ISL_417788_variants.gff3 2019-nCoV_EPI_ISL_417789_variants.gff3 2019-nCoV_EPI_ISL_417790_variants.gff3 2019-nCoV_EPI_ISL_417791_variants.gff3 2019-nCoV_EPI_ISL_417793_variants.gff3 2019-nCoV_EPI_ISL_417795_variants.gff3 2019-nCoV_EPI_ISL_417796_variants.gff3 2019-nCoV_EPI_ISL_417797_variants.gff3 2019-nCoV_EPI_ISL_417798_variants.gff3 2019-nCoV_EPI_ISL_417799_variants.gff3 2019-nCoV_EPI_ISL_417800_variants.gff3 2019-nCoV_EPI_ISL_417801_variants.gff3 2019-nCoV_EPI_ISL_417802_variants.gff3 2019-nCoV_EPI_ISL_417803_variants.gff3 2019-nCoV_EPI_ISL_417804_variants.gff3 2019-nCoV_EPI_ISL_417805_variants.gff3 2019-nCoV_EPI_ISL_417806_variants.gff3 2019-nCoV_EPI_ISL_417808_variants.gff3 2019-nCoV_EPI_ISL_417809_variants.gff3 2019-nCoV_EPI_ISL_417810_variants.gff3 2019-nCoV_EPI_ISL_417812_variants.gff3 2019-nCoV_EPI_ISL_417813_variants.gff3 2019-nCoV_EPI_ISL_417814_variants.gff3 2019-nCoV_EPI_ISL_417815_variants.gff3 2019-nCoV_EPI_ISL_417817_variants.gff3 2019-nCoV_EPI_ISL_417818_variants.gff3 2019-nCoV_EPI_ISL_417819_variants.gff3 2019-nCoV_EPI_ISL_417820_variants.gff3 2019-nCoV_EPI_ISL_417822_variants.gff3 2019-nCoV_EPI_ISL_417823_variants.gff3 2019-nCoV_EPI_ISL_417824_variants.gff3 2019-nCoV_EPI_ISL_417825_variants.gff3 2019-nCoV_EPI_ISL_417826_variants.gff3 2019-nCoV_EPI_ISL_417827_variants.gff3 2019-nCoV_EPI_ISL_417829_variants.gff3 2019-nCoV_EPI_ISL_417830_variants.gff3 2019-nCoV_EPI_ISL_417831_variants.gff3 2019-nCoV_EPI_ISL_417832_variants.gff3 2019-nCoV_EPI_ISL_417833_variants.gff3 2019-nCoV_EPI_ISL_417834_variants.gff3 2019-nCoV_EPI_ISL_417835_variants.gff3 2019-nCoV_EPI_ISL_417836_variants.gff3 2019-nCoV_EPI_ISL_417837_variants.gff3 2019-nCoV_EPI_ISL_417838_variants.gff3 2019-nCoV_EPI_ISL_417839_variants.gff3 2019-nCoV_EPI_ISL_417840_variants.gff3 2019-nCoV_EPI_ISL_417842_variants.gff3 2019-nCoV_EPI_ISL_417844_variants.gff3 2019-nCoV_EPI_ISL_417846_variants.gff3 2019-nCoV_EPI_ISL_417851_variants.gff3 2019-nCoV_EPI_ISL_417852_variants.gff3 2019-nCoV_EPI_ISL_417853_variants.gff3 2019-nCoV_EPI_ISL_417854_variants.gff3 2019-nCoV_EPI_ISL_417855_variants.gff3 2019-nCoV_EPI_ISL_417857_variants.gff3 2019-nCoV_EPI_ISL_417862_variants.gff3 2019-nCoV_EPI_ISL_417863_variants.gff3 2019-nCoV_EPI_ISL_417864_variants.gff3 2019-nCoV_EPI_ISL_417865_variants.gff3 2019-nCoV_EPI_ISL_417866_variants.gff3 2019-nCoV_EPI_ISL_417867_variants.gff3 2019-nCoV_EPI_ISL_417868_variants.gff3 2019-nCoV_EPI_ISL_417871_variants.gff3 2019-nCoV_EPI_ISL_417872_variants.gff3 2019-nCoV_EPI_ISL_417873_variants.gff3 2019-nCoV_EPI_ISL_417876_variants.gff3 2019-nCoV_EPI_ISL_417877_variants.gff3 2019-nCoV_EPI_ISL_417878_variants.gff3 2019-nCoV_EPI_ISL_417879_variants.gff3 2019-nCoV_MT253696_variants.gff3 2019-nCoV_MT253697_variants.gff3 2019-nCoV_MT253698_variants.gff3 2019-nCoV_MT253699_variants.gff3 2019-nCoV_MT253700_variants.gff3 2019-nCoV_MT253701_variants.gff3 2019-nCoV_MT253702_variants.gff3 2019-nCoV_MT253703_variants.gff3 2019-nCoV_MT253704_variants.gff3 2019-nCoV_MT253705_variants.gff3 2019-nCoV_MT253706_variants.gff3 2019-nCoV_MT253707_variants.gff3 2019-nCoV_MT253708_variants.gff3 2019-nCoV_MT253709_variants.gff3 2019-nCoV_MT253710_variants.gff3 2019-nCoV_EPI_ISL_417880_variants.gff3 2019-nCoV_EPI_ISL_417917_variants.gff3 2019-nCoV_EPI_ISL_417918_variants.gff3 2019-nCoV_EPI_ISL_417921_variants.gff3 2019-nCoV_EPI_ISL_417922_variants.gff3 2019-nCoV_EPI_ISL_417923_variants.gff3 2019-nCoV_EPI_ISL_417924_variants.gff3 2019-nCoV_EPI_ISL_417931_variants.gff3 2019-nCoV_EPI_ISL_417932_variants.gff3 2019-nCoV_EPI_ISL_417933_variants.gff3 2019-nCoV_EPI_ISL_417935_variants.gff3 2019-nCoV_EPI_ISL_417937_variants.gff3 2019-nCoV_EPI_ISL_417938_variants.gff3 2019-nCoV_EPI_ISL_417939_variants.gff3 2019-nCoV_EPI_ISL_417946_variants.gff3 2019-nCoV_EPI_ISL_417947_variants.gff3 2019-nCoV_EPI_ISL_417948_variants.gff3 2019-nCoV_EPI_ISL_417950_variants.gff3 2019-nCoV_EPI_ISL_417952_variants.gff3 2019-nCoV_EPI_ISL_417954_variants.gff3 2019-nCoV_EPI_ISL_417957_variants.gff3 2019-nCoV_EPI_ISL_417958_variants.gff3 2019-nCoV_EPI_ISL_417961_variants.gff3 2019-nCoV_EPI_ISL_417963_variants.gff3 2019-nCoV_EPI_ISL_417964_variants.gff3 2019-nCoV_EPI_ISL_417965_variants.gff3 2019-nCoV_EPI_ISL_417967_variants.gff3 2019-nCoV_EPI_ISL_417969_variants.gff3 2019-nCoV_EPI_ISL_417971_variants.gff3 2019-nCoV_EPI_ISL_417972_variants.gff3 2019-nCoV_EPI_ISL_417974_variants.gff3 2019-nCoV_EPI_ISL_417975_variants.gff3 2019-nCoV_EPI_ISL_417976_variants.gff3 2019-nCoV_EPI_ISL_417978_variants.gff3 2019-nCoV_EPI_ISL_417979_variants.gff3 2019-nCoV_EPI_ISL_417980_variants.gff3 2019-nCoV_EPI_ISL_417981_variants.gff3 2019-nCoV_EPI_ISL_417986_variants.gff3 2019-nCoV_EPI_ISL_417987_variants.gff3 2019-nCoV_EPI_ISL_417988_variants.gff3 2019-nCoV_EPI_ISL_417989_variants.gff3 2019-nCoV_EPI_ISL_417991_variants.gff3 2019-nCoV_EPI_ISL_417992_variants.gff3 2019-nCoV_EPI_ISL_417993_variants.gff3 2019-nCoV_EPI_ISL_417994_variants.gff3 2019-nCoV_EPI_ISL_417995_variants.gff3 2019-nCoV_EPI_ISL_417996_variants.gff3 2019-nCoV_EPI_ISL_417997_variants.gff3 2019-nCoV_EPI_ISL_417998_variants.gff3 2019-nCoV_EPI_ISL_417999_variants.gff3 2019-nCoV_EPI_ISL_418000_variants.gff3 2019-nCoV_EPI_ISL_418001_variants.gff3 2019-nCoV_EPI_ISL_418002_variants.gff3 2019-nCoV_EPI_ISL_418003_variants.gff3 2019-nCoV_EPI_ISL_418004_variants.gff3 2019-nCoV_EPI_ISL_418005_variants.gff3 2019-nCoV_EPI_ISL_418006_variants.gff3 2019-nCoV_EPI_ISL_418007_variants.gff3 2019-nCoV_EPI_ISL_418008_variants.gff3 2019-nCoV_EPI_ISL_418009_variants.gff3 2019-nCoV_EPI_ISL_418010_variants.gff3 2019-nCoV_EPI_ISL_418011_variants.gff3 2019-nCoV_EPI_ISL_418012_variants.gff3 2019-nCoV_EPI_ISL_418013_variants.gff3 2019-nCoV_EPI_ISL_418014_variants.gff3 2019-nCoV_EPI_ISL_418016_variants.gff3 2019-nCoV_EPI_ISL_418017_variants.gff3 2019-nCoV_EPI_ISL_418018_variants.gff3 2019-nCoV_EPI_ISL_418019_variants.gff3 2019-nCoV_EPI_ISL_418020_variants.gff3 2019-nCoV_EPI_ISL_418021_variants.gff3 2019-nCoV_EPI_ISL_418022_variants.gff3 2019-nCoV_EPI_ISL_418023_variants.gff3 2019-nCoV_EPI_ISL_418024_variants.gff3 2019-nCoV_EPI_ISL_418025_variants.gff3 2019-nCoV_EPI_ISL_418026_variants.gff3 2019-nCoV_EPI_ISL_418028_variants.gff3 2019-nCoV_EPI_ISL_418029_variants.gff3 2019-nCoV_EPI_ISL_418030_variants.gff3 2019-nCoV_EPI_ISL_418032_variants.gff3 2019-nCoV_EPI_ISL_418033_variants.gff3 2019-nCoV_EPI_ISL_418034_variants.gff3 2019-nCoV_EPI_ISL_418036_variants.gff3 2019-nCoV_EPI_ISL_418037_variants.gff3 2019-nCoV_EPI_ISL_418038_variants.gff3 2019-nCoV_EPI_ISL_418039_variants.gff3 2019-nCoV_EPI_ISL_418040_variants.gff3 2019-nCoV_EPI_ISL_418041_variants.gff3 2019-nCoV_EPI_ISL_418042_variants.gff3 2019-nCoV_EPI_ISL_418043_variants.gff3 2019-nCoV_EPI_ISL_418044_variants.gff3 2019-nCoV_EPI_ISL_418045_variants.gff3 2019-nCoV_EPI_ISL_418046_variants.gff3 2019-nCoV_EPI_ISL_418047_variants.gff3 2019-nCoV_EPI_ISL_418050_variants.gff3 2019-nCoV_EPI_ISL_418051_variants.gff3 2019-nCoV_EPI_ISL_418053_variants.gff3 2019-nCoV_EPI_ISL_418054_variants.gff3 2019-nCoV_EPI_ISL_418055_variants.gff3 2019-nCoV_EPI_ISL_418056_variants.gff3 2019-nCoV_EPI_ISL_418057_variants.gff3 2019-nCoV_EPI_ISL_418059_variants.gff3 2019-nCoV_EPI_ISL_418060_variants.gff3 2019-nCoV_EPI_ISL_418061_variants.gff3 2019-nCoV_EPI_ISL_418062_variants.gff3 2019-nCoV_EPI_ISL_418064_variants.gff3 2019-nCoV_EPI_ISL_418067_variants.gff3 2019-nCoV_EPI_ISL_418069_variants.gff3 2019-nCoV_EPI_ISL_418070_variants.gff3 2019-nCoV_EPI_ISL_418072_variants.gff3 2019-nCoV_EPI_ISL_418075_variants.gff3 2019-nCoV_EPI_ISL_418076_variants.gff3 2019-nCoV_EPI_ISL_418077_variants.gff3 2019-nCoV_EPI_ISL_418080_variants.gff3 2019-nCoV_EPI_ISL_418081_variants.gff3 2019-nCoV_EPI_ISL_418082_variants.gff3 2019-nCoV_EPI_ISL_418110_variants.gff3 2019-nCoV_EPI_ISL_418136_variants.gff3 2019-nCoV_EPI_ISL_418144_variants.gff3 2019-nCoV_EPI_ISL_418147_variants.gff3 2019-nCoV_EPI_ISL_418149_variants.gff3 2019-nCoV_EPI_ISL_418156_variants.gff3 2019-nCoV_EPI_ISL_418158_variants.gff3 2019-nCoV_EPI_ISL_418159_variants.gff3 2019-nCoV_EPI_ISL_418163_variants.gff3 2019-nCoV_EPI_ISL_418182_variants.gff3 2019-nCoV_EPI_ISL_418183_variants.gff3 2019-nCoV_EPI_ISL_418184_variants.gff3 2019-nCoV_EPI_ISL_418187_variants.gff3 2019-nCoV_EPI_ISL_418188_variants.gff3 2019-nCoV_EPI_ISL_418192_variants.gff3 2019-nCoV_EPI_ISL_418193_variants.gff3 2019-nCoV_EPI_ISL_418196_variants.gff3 2019-nCoV_EPI_ISL_418197_variants.gff3 2019-nCoV_EPI_ISL_418198_variants.gff3 2019-nCoV_EPI_ISL_418199_variants.gff3 2019-nCoV_EPI_ISL_418203_variants.gff3 2019-nCoV_EPI_ISL_418204_variants.gff3 2019-nCoV_EPI_ISL_418207_variants.gff3 2019-nCoV_EPI_ISL_418208_variants.gff3 2019-nCoV_EPI_ISL_418209_variants.gff3 2019-nCoV_EPI_ISL_418210_variants.gff3 2019-nCoV_EPI_ISL_418211_variants.gff3 2019-nCoV_EPI_ISL_418212_variants.gff3 2019-nCoV_EPI_ISL_418213_variants.gff3 2019-nCoV_EPI_ISL_418216_variants.gff3 2019-nCoV_EPI_ISL_418218_variants.gff3 2019-nCoV_EPI_ISL_418219_variants.gff3 2019-nCoV_EPI_ISL_418220_variants.gff3 2019-nCoV_EPI_ISL_418222_variants.gff3 2019-nCoV_EPI_ISL_418223_variants.gff3 2019-nCoV_EPI_ISL_418224_variants.gff3 2019-nCoV_EPI_ISL_418225_variants.gff3 2019-nCoV_EPI_ISL_418226_variants.gff3 2019-nCoV_EPI_ISL_418227_variants.gff3 2019-nCoV_EPI_ISL_418228_variants.gff3 2019-nCoV_EPI_ISL_418229_variants.gff3 2019-nCoV_EPI_ISL_418230_variants.gff3 2019-nCoV_EPI_ISL_418231_variants.gff3 2019-nCoV_EPI_ISL_418232_variants.gff3 2019-nCoV_EPI_ISL_418233_variants.gff3 2019-nCoV_EPI_ISL_418234_variants.gff3 2019-nCoV_EPI_ISL_418235_variants.gff3 2019-nCoV_EPI_ISL_418236_variants.gff3 2019-nCoV_EPI_ISL_418237_variants.gff3 2019-nCoV_EPI_ISL_418238_variants.gff3 2019-nCoV_EPI_ISL_418240_variants.gff3 2019-nCoV_EPI_ISL_418241_variants.gff3 2019-nCoV_EPI_ISL_418242_variants.gff3 2019-nCoV_EPI_ISL_417445_variants.gff3 2019-nCoV_EPI_ISL_417446_variants.gff3 2019-nCoV_EPI_ISL_417518_variants.gff3 2019-nCoV_EPI_ISL_418251_variants.gff3 2019-nCoV_EPI_ISL_418256_variants.gff3 2019-nCoV_EPI_ISL_418246_variants.gff3 2019-nCoV_EPI_ISL_418252_variants.gff3 2019-nCoV_EPI_ISL_418245_variants.gff3 2019-nCoV_EPI_ISL_418257_variants.gff3 2019-nCoV_EPI_ISL_418247_variants.gff3 2019-nCoV_EPI_ISL_418244_variants.gff3 2019-nCoV_EPI_ISL_418248_variants.gff3 2019-nCoV_EPI_ISL_418249_variants.gff3 2019-nCoV_EPI_ISL_418253_variants.gff3 2019-nCoV_EPI_ISL_418255_variants.gff3 2019-nCoV_EPI_ISL_418250_variants.gff3 2019-nCoV_EPI_ISL_418258_variants.gff3 2019-nCoV_EPI_ISL_418365_variants.gff3 2019-nCoV_EPI_ISL_418326_variants.gff3 2019-nCoV_EPI_ISL_418377_variants.gff3 2019-nCoV_EPI_ISL_418335_variants.gff3 2019-nCoV_EPI_ISL_418367_variants.gff3 2019-nCoV_EPI_ISL_418354_variants.gff3 2019-nCoV_EPI_ISL_418411_variants.gff3 2019-nCoV_EPI_ISL_418345_variants.gff3 2019-nCoV_EPI_ISL_418318_variants.gff3 2019-nCoV_EPI_ISL_418372_variants.gff3 2019-nCoV_EPI_ISL_418410_variants.gff3 2019-nCoV_EPI_ISL_418320_variants.gff3 2019-nCoV_EPI_ISL_418306_variants.gff3 2019-nCoV_EPI_ISL_418325_variants.gff3 2019-nCoV_EPI_ISL_418361_variants.gff3 2019-nCoV_EPI_ISL_418418_variants.gff3 2019-nCoV_EPI_ISL_418427_variants.gff3 2019-nCoV_EPI_ISL_418348_variants.gff3 2019-nCoV_EPI_ISL_418366_variants.gff3 2019-nCoV_EPI_ISL_418332_variants.gff3 2019-nCoV_EPI_ISL_418352_variants.gff3 2019-nCoV_EPI_ISL_418317_variants.gff3 2019-nCoV_EPI_ISL_418330_variants.gff3 2019-nCoV_EPI_ISL_418336_variants.gff3 2019-nCoV_EPI_ISL_418413_variants.gff3 2019-nCoV_EPI_ISL_418327_variants.gff3 2019-nCoV_EPI_ISL_418333_variants.gff3 2019-nCoV_EPI_ISL_418303_variants.gff3 2019-nCoV_EPI_ISL_418270_variants.gff3 2019-nCoV_EPI_ISL_418376_variants.gff3 2019-nCoV_EPI_ISL_418371_variants.gff3 2019-nCoV_EPI_ISL_418382_variants.gff3 2019-nCoV_EPI_ISL_418353_variants.gff3 2019-nCoV_EPI_ISL_418416_variants.gff3 2019-nCoV_EPI_ISL_418362_variants.gff3 2019-nCoV_EPI_ISL_418363_variants.gff3 2019-nCoV_EPI_ISL_418346_variants.gff3 2019-nCoV_EPI_ISL_418356_variants.gff3 2019-nCoV_EPI_ISL_418414_variants.gff3 2019-nCoV_EPI_ISL_418295_variants.gff3 2019-nCoV_EPI_ISL_418331_variants.gff3 2019-nCoV_EPI_ISL_418419_variants.gff3 2019-nCoV_EPI_ISL_418402_variants.gff3 2019-nCoV_EPI_ISL_418426_variants.gff3 2019-nCoV_EPI_ISL_418328_variants.gff3 2019-nCoV_EPI_ISL_418375_variants.gff3 2019-nCoV_EPI_ISL_418424_variants.gff3 2019-nCoV_EPI_ISL_418304_variants.gff3 2019-nCoV_EPI_ISL_418392_variants.gff3 2019-nCoV_EPI_ISL_418339_variants.gff3 2019-nCoV_EPI_ISL_418264_variants.gff3 2019-nCoV_EPI_ISL_418423_variants.gff3 2019-nCoV_EPI_ISL_418380_variants.gff3 2019-nCoV_EPI_ISL_418430_variants.gff3 2019-nCoV_EPI_ISL_418406_variants.gff3 2019-nCoV_EPI_ISL_418386_variants.gff3 2019-nCoV_EPI_ISL_418340_variants.gff3 2019-nCoV_EPI_ISL_418403_variants.gff3 2019-nCoV_EPI_ISL_418391_variants.gff3 2019-nCoV_EPI_ISL_418263_variants.gff3 2019-nCoV_EPI_ISL_418322_variants.gff3 2019-nCoV_EPI_ISL_418347_variants.gff3 2019-nCoV_EPI_ISL_418305_variants.gff3 2019-nCoV_EPI_ISL_418420_variants.gff3 2019-nCoV_EPI_ISL_418341_variants.gff3 2019-nCoV_EPI_ISL_418307_variants.gff3 2019-nCoV_EPI_ISL_418432_variants.gff3 2019-nCoV_EPI_ISL_418302_variants.gff3 2019-nCoV_EPI_ISL_418323_variants.gff3 2019-nCoV_EPI_ISL_418364_variants.gff3 2019-nCoV_EPI_ISL_418412_variants.gff3 2019-nCoV_EPI_ISL_418313_variants.gff3 2019-nCoV_EPI_ISL_418373_variants.gff3 2019-nCoV_EPI_ISL_418404_variants.gff3 2019-nCoV_EPI_ISL_418370_variants.gff3 2019-nCoV_EPI_ISL_418374_variants.gff3 2019-nCoV_EPI_ISL_418350_variants.gff3 2019-nCoV_EPI_ISL_418351_variants.gff3 2019-nCoV_EPI_ISL_418358_variants.gff3 2019-nCoV_EPI_ISL_418349_variants.gff3 2019-nCoV_EPI_ISL_418369_variants.gff3 2019-nCoV_EPI_ISL_418360_variants.gff3 2019-nCoV_EPI_ISL_418344_variants.gff3 2019-nCoV_EPI_ISL_418329_variants.gff3 2019-nCoV_EPI_ISL_418428_variants.gff3 2019-nCoV_EPI_ISL_418338_variants.gff3 2019-nCoV_EPI_ISL_418390_variants.gff3 2019-nCoV_EPI_ISL_418337_variants.gff3 2019-nCoV_EPI_ISL_418401_variants.gff3 2019-nCoV_EPI_ISL_418422_variants.gff3 2019-nCoV_EPI_ISL_418324_variants.gff3 2019-nCoV_EPI_ISL_418379_variants.gff3 2019-nCoV_EPI_ISL_418425_variants.gff3 2019-nCoV_EPI_ISL_418355_variants.gff3 2019-nCoV_EPI_ISL_418395_variants.gff3 2019-nCoV_EPI_ISL_418368_variants.gff3 2019-nCoV_EPI_ISL_418334_variants.gff3 2019-nCoV_EPI_ISL_418417_variants.gff3 2019-nCoV_EPI_ISL_418429_variants.gff3 2019-nCoV_EPI_ISL_418359_variants.gff3 2019-nCoV_EPI_ISL_418548_variants.gff3 2019-nCoV_EPI_ISL_418580_variants.gff3 2019-nCoV_EPI_ISL_418581_variants.gff3 2019-nCoV_EPI_ISL_418582_variants.gff3 2019-nCoV_EPI_ISL_418583_variants.gff3 2019-nCoV_EPI_ISL_418624_variants.gff3 2019-nCoV_EPI_ISL_418626_variants.gff3 2019-nCoV_EPI_ISL_418627_variants.gff3 2019-nCoV_EPI_ISL_418628_variants.gff3 2019-nCoV_EPI_ISL_418629_variants.gff3 2019-nCoV_EPI_ISL_418630_variants.gff3 2019-nCoV_EPI_ISL_418631_variants.gff3 2019-nCoV_EPI_ISL_418632_variants.gff3 2019-nCoV_EPI_ISL_418634_variants.gff3 2019-nCoV_EPI_ISL_418635_variants.gff3 2019-nCoV_EPI_ISL_418639_variants.gff3 2019-nCoV_EPI_ISL_418640_variants.gff3 2019-nCoV_EPI_ISL_418645_variants.gff3 2019-nCoV_EPI_ISL_418646_variants.gff3 2019-nCoV_EPI_ISL_418648_variants.gff3 2019-nCoV_EPI_ISL_418650_variants.gff3 2019-nCoV_EPI_ISL_418651_variants.gff3 2019-nCoV_EPI_ISL_418653_variants.gff3 2019-nCoV_EPI_ISL_418655_variants.gff3 2019-nCoV_EPI_ISL_418656_variants.gff3 2019-nCoV_EPI_ISL_418657_variants.gff3 2019-nCoV_EPI_ISL_418659_variants.gff3 2019-nCoV_EPI_ISL_418660_variants.gff3 2019-nCoV_EPI_ISL_418661_variants.gff3 2019-nCoV_EPI_ISL_418663_variants.gff3 2019-nCoV_EPI_ISL_418664_variants.gff3 2019-nCoV_EPI_ISL_418667_variants.gff3 2019-nCoV_EPI_ISL_418668_variants.gff3 2019-nCoV_EPI_ISL_418669_variants.gff3 2019-nCoV_EPI_ISL_418670_variants.gff3 2019-nCoV_EPI_ISL_418671_variants.gff3 2019-nCoV_EPI_ISL_418672_variants.gff3 2019-nCoV_EPI_ISL_418673_variants.gff3 2019-nCoV_EPI_ISL_418675_variants.gff3 2019-nCoV_EPI_ISL_418676_variants.gff3 2019-nCoV_EPI_ISL_418677_variants.gff3 2019-nCoV_EPI_ISL_418678_variants.gff3 2019-nCoV_EPI_ISL_418679_variants.gff3 2019-nCoV_EPI_ISL_418680_variants.gff3 2019-nCoV_EPI_ISL_418681_variants.gff3 2019-nCoV_EPI_ISL_418687_variants.gff3 2019-nCoV_EPI_ISL_418690_variants.gff3 2019-nCoV_EPI_ISL_418691_variants.gff3 2019-nCoV_EPI_ISL_418692_variants.gff3 2019-nCoV_EPI_ISL_418696_variants.gff3 2019-nCoV_EPI_ISL_418698_variants.gff3 2019-nCoV_EPI_ISL_418700_variants.gff3 2019-nCoV_EPI_ISL_418701_variants.gff3 2019-nCoV_EPI_ISL_418702_variants.gff3 2019-nCoV_EPI_ISL_418704_variants.gff3 2019-nCoV_EPI_ISL_418706_variants.gff3 2019-nCoV_EPI_ISL_418707_variants.gff3 2019-nCoV_EPI_ISL_418708_variants.gff3 2019-nCoV_EPI_ISL_418711_variants.gff3 2019-nCoV_EPI_ISL_418718_variants.gff3 2019-nCoV_EPI_ISL_418723_variants.gff3 2019-nCoV_EPI_ISL_418729_variants.gff3 2019-nCoV_EPI_ISL_418734_variants.gff3 2019-nCoV_EPI_ISL_418739_variants.gff3 2019-nCoV_EPI_ISL_418749_variants.gff3 2019-nCoV_EPI_ISL_418751_variants.gff3 2019-nCoV_EPI_ISL_418756_variants.gff3 2019-nCoV_EPI_ISL_418770_variants.gff3 2019-nCoV_EPI_ISL_418771_variants.gff3 2019-nCoV_EPI_ISL_418772_variants.gff3 2019-nCoV_EPI_ISL_418773_variants.gff3 2019-nCoV_EPI_ISL_418774_variants.gff3 2019-nCoV_EPI_ISL_418775_variants.gff3 2019-nCoV_EPI_ISL_418776_variants.gff3 2019-nCoV_EPI_ISL_418777_variants.gff3 2019-nCoV_EPI_ISL_418778_variants.gff3 2019-nCoV_EPI_ISL_418779_variants.gff3 2019-nCoV_EPI_ISL_418780_variants.gff3 2019-nCoV_EPI_ISL_418781_variants.gff3 2019-nCoV_EPI_ISL_418782_variants.gff3 2019-nCoV_EPI_ISL_418783_variants.gff3 2019-nCoV_EPI_ISL_418784_variants.gff3 2019-nCoV_EPI_ISL_418786_variants.gff3 2019-nCoV_EPI_ISL_418787_variants.gff3 2019-nCoV_EPI_ISL_418789_variants.gff3 2019-nCoV_EPI_ISL_418790_variants.gff3 2019-nCoV_EPI_ISL_418791_variants.gff3 2019-nCoV_EPI_ISL_418792_variants.gff3 2019-nCoV_EPI_ISL_418793_variants.gff3 2019-nCoV_EPI_ISL_418794_variants.gff3 2019-nCoV_EPI_ISL_418795_variants.gff3 2019-nCoV_EPI_ISL_418796_variants.gff3 2019-nCoV_EPI_ISL_418797_variants.gff3 2019-nCoV_EPI_ISL_418798_variants.gff3 2019-nCoV_EPI_ISL_418800_variants.gff3 2019-nCoV_MT256924_variants.gff3 2019-nCoV_EPI_ISL_418799_variants.gff3 2019-nCoV_EPI_ISL_418801_variants.gff3 2019-nCoV_EPI_ISL_418802_variants.gff3 2019-nCoV_EPI_ISL_418803_variants.gff3 2019-nCoV_EPI_ISL_418804_variants.gff3 2019-nCoV_EPI_ISL_418805_variants.gff3 2019-nCoV_EPI_ISL_418806_variants.gff3 2019-nCoV_EPI_ISL_418807_variants.gff3 2019-nCoV_EPI_ISL_418808_variants.gff3 2019-nCoV_EPI_ISL_418809_variants.gff3 2019-nCoV_EPI_ISL_418810_variants.gff3 2019-nCoV_EPI_ISL_418811_variants.gff3 2019-nCoV_EPI_ISL_418812_variants.gff3 2019-nCoV_EPI_ISL_418813_variants.gff3 2019-nCoV_EPI_ISL_418814_variants.gff3 2019-nCoV_EPI_ISL_418815_variants.gff3 2019-nCoV_EPI_ISL_418816_variants.gff3 2019-nCoV_EPI_ISL_418817_variants.gff3 2019-nCoV_EPI_ISL_418818_variants.gff3 2019-nCoV_EPI_ISL_418819_variants.gff3 2019-nCoV_EPI_ISL_418820_variants.gff3 2019-nCoV_EPI_ISL_418821_variants.gff3 2019-nCoV_EPI_ISL_418822_variants.gff3 2019-nCoV_EPI_ISL_418823_variants.gff3 2019-nCoV_EPI_ISL_418824_variants.gff3 2019-nCoV_EPI_ISL_418825_variants.gff3 2019-nCoV_EPI_ISL_418826_variants.gff3 2019-nCoV_EPI_ISL_418829_variants.gff3 2019-nCoV_EPI_ISL_418830_variants.gff3 2019-nCoV_EPI_ISL_418831_variants.gff3 2019-nCoV_EPI_ISL_418832_variants.gff3 2019-nCoV_EPI_ISL_418833_variants.gff3 2019-nCoV_EPI_ISL_418835_variants.gff3 2019-nCoV_EPI_ISL_418836_variants.gff3 2019-nCoV_EPI_ISL_418837_variants.gff3 2019-nCoV_EPI_ISL_418838_variants.gff3 2019-nCoV_EPI_ISL_418839_variants.gff3 2019-nCoV_EPI_ISL_418841_variants.gff3 2019-nCoV_EPI_ISL_418842_variants.gff3 2019-nCoV_EPI_ISL_418843_variants.gff3 2019-nCoV_EPI_ISL_418845_variants.gff3 2019-nCoV_EPI_ISL_418846_variants.gff3 2019-nCoV_EPI_ISL_418847_variants.gff3 2019-nCoV_EPI_ISL_418848_variants.gff3 2019-nCoV_EPI_ISL_418849_variants.gff3 2019-nCoV_EPI_ISL_418851_variants.gff3 2019-nCoV_EPI_ISL_418852_variants.gff3 2019-nCoV_EPI_ISL_418853_variants.gff3 2019-nCoV_EPI_ISL_418854_variants.gff3 2019-nCoV_EPI_ISL_418855_variants.gff3 2019-nCoV_EPI_ISL_418857_variants.gff3 2019-nCoV_EPI_ISL_418858_variants.gff3 2019-nCoV_EPI_ISL_418860_variants.gff3 2019-nCoV_EPI_ISL_418861_variants.gff3 2019-nCoV_EPI_ISL_418863_variants.gff3 2019-nCoV_EPI_ISL_418864_variants.gff3 2019-nCoV_EPI_ISL_418956_variants.gff3 2019-nCoV_EPI_ISL_418957_variants.gff3 2019-nCoV_EPI_ISL_418958_variants.gff3 2019-nCoV_EPI_ISL_418964_variants.gff3 2019-nCoV_EPI_ISL_418965_variants.gff3 2019-nCoV_EPI_ISL_418967_variants.gff3 2019-nCoV_EPI_ISL_418972_variants.gff3 2019-nCoV_EPI_ISL_418973_variants.gff3 2019-nCoV_EPI_ISL_418974_variants.gff3 2019-nCoV_EPI_ISL_418976_variants.gff3 2019-nCoV_EPI_ISL_418977_variants.gff3 2019-nCoV_EPI_ISL_418978_variants.gff3 2019-nCoV_EPI_ISL_418980_variants.gff3 2019-nCoV_EPI_ISL_418981_variants.gff3 2019-nCoV_EPI_ISL_418982_variants.gff3 2019-nCoV_EPI_ISL_418983_variants.gff3 2019-nCoV_EPI_ISL_418984_variants.gff3 2019-nCoV_EPI_ISL_418985_variants.gff3 2019-nCoV_EPI_ISL_418987_variants.gff3 2019-nCoV_EPI_ISL_418989_variants.gff3 2019-nCoV_LC534418_variants.gff3 2019-nCoV_LC534419_variants.gff3 2019-nCoV_MT262993_variants.gff3 2019-nCoV_MT263381_variants.gff3 2019-nCoV_MT263382_variants.gff3 2019-nCoV_MT263383_variants.gff3 2019-nCoV_MT263384_variants.gff3 2019-nCoV_MT263386_variants.gff3 2019-nCoV_MT263388_variants.gff3 2019-nCoV_MT263390_variants.gff3 2019-nCoV_MT263391_variants.gff3 2019-nCoV_MT263392_variants.gff3 2019-nCoV_MT263394_variants.gff3 2019-nCoV_MT263395_variants.gff3 2019-nCoV_MT263396_variants.gff3 2019-nCoV_MT263398_variants.gff3 2019-nCoV_MT263399_variants.gff3 2019-nCoV_MT263400_variants.gff3 2019-nCoV_MT263402_variants.gff3 2019-nCoV_MT263403_variants.gff3 2019-nCoV_MT263404_variants.gff3 2019-nCoV_MT263405_variants.gff3 2019-nCoV_MT263406_variants.gff3 2019-nCoV_MT263408_variants.gff3 2019-nCoV_MT263410_variants.gff3 2019-nCoV_MT263411_variants.gff3 2019-nCoV_MT263412_variants.gff3 2019-nCoV_MT263413_variants.gff3 2019-nCoV_MT263414_variants.gff3 2019-nCoV_MT263415_variants.gff3 2019-nCoV_MT263416_variants.gff3 2019-nCoV_MT263417_variants.gff3 2019-nCoV_MT263419_variants.gff3 2019-nCoV_MT263420_variants.gff3 2019-nCoV_MT263421_variants.gff3 2019-nCoV_MT263422_variants.gff3 2019-nCoV_MT263423_variants.gff3 2019-nCoV_MT263424_variants.gff3 2019-nCoV_MT263425_variants.gff3 2019-nCoV_MT263428_variants.gff3 2019-nCoV_MT263429_variants.gff3 2019-nCoV_MT263430_variants.gff3 2019-nCoV_MT263431_variants.gff3 2019-nCoV_MT263432_variants.gff3 2019-nCoV_MT263433_variants.gff3 2019-nCoV_MT263434_variants.gff3 2019-nCoV_MT263435_variants.gff3 2019-nCoV_MT263436_variants.gff3 2019-nCoV_MT263437_variants.gff3 2019-nCoV_MT263438_variants.gff3 2019-nCoV_MT263439_variants.gff3 2019-nCoV_MT263440_variants.gff3 2019-nCoV_MT263441_variants.gff3 2019-nCoV_MT263442_variants.gff3 2019-nCoV_MT263443_variants.gff3 2019-nCoV_MT263444_variants.gff3 2019-nCoV_MT263445_variants.gff3 2019-nCoV_MT263446_variants.gff3 2019-nCoV_MT263447_variants.gff3 2019-nCoV_MT263448_variants.gff3 2019-nCoV_MT263449_variants.gff3 2019-nCoV_MT263450_variants.gff3 2019-nCoV_MT263451_variants.gff3 2019-nCoV_MT263452_variants.gff3 2019-nCoV_MT263454_variants.gff3 2019-nCoV_MT263456_variants.gff3 2019-nCoV_MT263457_variants.gff3 2019-nCoV_MT263458_variants.gff3 2019-nCoV_MT263459_variants.gff3 2019-nCoV_MT263462_variants.gff3 2019-nCoV_MT263463_variants.gff3 2019-nCoV_MT263464_variants.gff3 2019-nCoV_MT263465_variants.gff3 2019-nCoV_MT263467_variants.gff3 2019-nCoV_MT263468_variants.gff3 2019-nCoV_MT263469_variants.gff3 2019-nCoV_EPI_ISL_418990_variants.gff3 2019-nCoV_EPI_ISL_418991_variants.gff3 2019-nCoV_EPI_ISL_418992_variants.gff3 2019-nCoV_EPI_ISL_418993_variants.gff3 2019-nCoV_EPI_ISL_418994_variants.gff3 2019-nCoV_EPI_ISL_418995_variants.gff3 2019-nCoV_EPI_ISL_418998_variants.gff3 2019-nCoV_EPI_ISL_418999_variants.gff3 2019-nCoV_EPI_ISL_419000_variants.gff3 2019-nCoV_EPI_ISL_419001_variants.gff3 2019-nCoV_EPI_ISL_419169_variants.gff3 2019-nCoV_EPI_ISL_419170_variants.gff3 2019-nCoV_EPI_ISL_419171_variants.gff3 2019-nCoV_EPI_ISL_419172_variants.gff3 2019-nCoV_EPI_ISL_419173_variants.gff3 2019-nCoV_EPI_ISL_419174_variants.gff3 2019-nCoV_EPI_ISL_419175_variants.gff3 2019-nCoV_EPI_ISL_419176_variants.gff3 2019-nCoV_EPI_ISL_419177_variants.gff3 2019-nCoV_EPI_ISL_419178_variants.gff3 2019-nCoV_EPI_ISL_419179_variants.gff3 2019-nCoV_EPI_ISL_419180_variants.gff3 2019-nCoV_EPI_ISL_419181_variants.gff3 2019-nCoV_EPI_ISL_419182_variants.gff3 2019-nCoV_EPI_ISL_419183_variants.gff3 2019-nCoV_EPI_ISL_419184_variants.gff3 2019-nCoV_EPI_ISL_419185_variants.gff3 2019-nCoV_EPI_ISL_419186_variants.gff3 2019-nCoV_EPI_ISL_419187_variants.gff3 2019-nCoV_EPI_ISL_419188_variants.gff3 2019-nCoV_EPI_ISL_419210_variants.gff3 2019-nCoV_EPI_ISL_419214_variants.gff3 2019-nCoV_EPI_ISL_419215_variants.gff3 2019-nCoV_EPI_ISL_419216_variants.gff3 2019-nCoV_EPI_ISL_419222_variants.gff3 2019-nCoV_EPI_ISL_419224_variants.gff3 2019-nCoV_EPI_ISL_419226_variants.gff3 2019-nCoV_EPI_ISL_419228_variants.gff3 2019-nCoV_EPI_ISL_419230_variants.gff3 2019-nCoV_EPI_ISL_419231_variants.gff3 2019-nCoV_EPI_ISL_419232_variants.gff3 2019-nCoV_EPI_ISL_419233_variants.gff3 2019-nCoV_EPI_ISL_419234_variants.gff3 2019-nCoV_EPI_ISL_419235_variants.gff3 2019-nCoV_EPI_ISL_419237_variants.gff3 2019-nCoV_EPI_ISL_419238_variants.gff3 2019-nCoV_EPI_ISL_419240_variants.gff3 2019-nCoV_EPI_ISL_419247_variants.gff3 2019-nCoV_EPI_ISL_419250_variants.gff3 2019-nCoV_EPI_ISL_419254_variants.gff3 2019-nCoV_EPI_ISL_419255_variants.gff3 2019-nCoV_EPI_ISL_419256_variants.gff3 2019-nCoV_EPI_ISL_419259_variants.gff3 2019-nCoV_EPI_ISL_419260_variants.gff3 2019-nCoV_EPI_ISL_419261_variants.gff3 2019-nCoV_EPI_ISL_419262_variants.gff3 2019-nCoV_EPI_ISL_419263_variants.gff3 2019-nCoV_EPI_ISL_419296_variants.gff3 2019-nCoV_EPI_ISL_419297_variants.gff3 2019-nCoV_EPI_ISL_419298_variants.gff3 2019-nCoV_EPI_ISL_419299_variants.gff3 2019-nCoV_EPI_ISL_419300_variants.gff3 2019-nCoV_EPI_ISL_419301_variants.gff3 2019-nCoV_EPI_ISL_419302_variants.gff3 2019-nCoV_EPI_ISL_419303_variants.gff3 2019-nCoV_EPI_ISL_419304_variants.gff3 2019-nCoV_EPI_ISL_419305_variants.gff3 2019-nCoV_EPI_ISL_419306_variants.gff3 2019-nCoV_EPI_ISL_419307_variants.gff3 2019-nCoV_EPI_ISL_419308_variants.gff3 2019-nCoV_EPI_ISL_419309_variants.gff3 2019-nCoV_EPI_ISL_419310_variants.gff3 2019-nCoV_EPI_ISL_419311_variants.gff3 2019-nCoV_EPI_ISL_419386_variants.gff3 2019-nCoV_EPI_ISL_419387_variants.gff3 2019-nCoV_EPI_ISL_419388_variants.gff3 2019-nCoV_EPI_ISL_419390_variants.gff3 2019-nCoV_EPI_ISL_419391_variants.gff3 2019-nCoV_EPI_ISL_419392_variants.gff3 2019-nCoV_EPI_ISL_419393_variants.gff3 2019-nCoV_EPI_ISL_419394_variants.gff3 2019-nCoV_EPI_ISL_419395_variants.gff3 2019-nCoV_EPI_ISL_419396_variants.gff3 2019-nCoV_EPI_ISL_419397_variants.gff3 2019-nCoV_EPI_ISL_419406_variants.gff3 2019-nCoV_EPI_ISL_419407_variants.gff3 2019-nCoV_EPI_ISL_419409_variants.gff3 2019-nCoV_EPI_ISL_419421_variants.gff3 2019-nCoV_EPI_ISL_419428_variants.gff3 2019-nCoV_EPI_ISL_419438_variants.gff3 2019-nCoV_EPI_ISL_419440_variants.gff3 2019-nCoV_EPI_ISL_419443_variants.gff3 2019-nCoV_EPI_ISL_419453_variants.gff3 2019-nCoV_EPI_ISL_419472_variants.gff3 2019-nCoV_EPI_ISL_419474_variants.gff3 2019-nCoV_EPI_ISL_419496_variants.gff3 2019-nCoV_EPI_ISL_419499_variants.gff3 2019-nCoV_EPI_ISL_419508_variants.gff3 2019-nCoV_EPI_ISL_419541_variants.gff3 2019-nCoV_EPI_ISL_419542_variants.gff3 2019-nCoV_EPI_ISL_419543_variants.gff3 2019-nCoV_EPI_ISL_419544_variants.gff3 2019-nCoV_EPI_ISL_419545_variants.gff3 2019-nCoV_EPI_ISL_419546_variants.gff3 2019-nCoV_EPI_ISL_419548_variants.gff3 2019-nCoV_EPI_ISL_419549_variants.gff3 2019-nCoV_EPI_ISL_419550_variants.gff3 2019-nCoV_EPI_ISL_419551_variants.gff3 2019-nCoV_EPI_ISL_419552_variants.gff3 2019-nCoV_EPI_ISL_419553_variants.gff3 2019-nCoV_EPI_ISL_419554_variants.gff3 2019-nCoV_EPI_ISL_419555_variants.gff3 2019-nCoV_EPI_ISL_419556_variants.gff3 2019-nCoV_EPI_ISL_419557_variants.gff3 2019-nCoV_EPI_ISL_419558_variants.gff3 2019-nCoV_EPI_ISL_419559_variants.gff3 2019-nCoV_EPI_ISL_419561_variants.gff3 2019-nCoV_EPI_ISL_419563_variants.gff3 2019-nCoV_EPI_ISL_419564_variants.gff3 2019-nCoV_EPI_ISL_419566_variants.gff3 2019-nCoV_EPI_ISL_419568_variants.gff3 2019-nCoV_EPI_ISL_419573_variants.gff3 2019-nCoV_EPI_ISL_419578_variants.gff3 2019-nCoV_EPI_ISL_419579_variants.gff3 2019-nCoV_EPI_ISL_419580_variants.gff3 2019-nCoV_EPI_ISL_419582_variants.gff3 2019-nCoV_EPI_ISL_419583_variants.gff3 2019-nCoV_EPI_ISL_419584_variants.gff3 2019-nCoV_EPI_ISL_419586_variants.gff3 2019-nCoV_EPI_ISL_419587_variants.gff3 2019-nCoV_EPI_ISL_419588_variants.gff3 2019-nCoV_EPI_ISL_419589_variants.gff3 2019-nCoV_EPI_ISL_419590_variants.gff3 2019-nCoV_EPI_ISL_419593_variants.gff3 2019-nCoV_EPI_ISL_419594_variants.gff3 2019-nCoV_EPI_ISL_419595_variants.gff3 2019-nCoV_EPI_ISL_419596_variants.gff3 2019-nCoV_EPI_ISL_419597_variants.gff3 2019-nCoV_EPI_ISL_419600_variants.gff3 2019-nCoV_EPI_ISL_419601_variants.gff3 2019-nCoV_EPI_ISL_419602_variants.gff3 2019-nCoV_EPI_ISL_419606_variants.gff3 2019-nCoV_EPI_ISL_419607_variants.gff3 2019-nCoV_EPI_ISL_419651_variants.gff3 2019-nCoV_EPI_ISL_419656_variants.gff3 2019-nCoV_EPI_ISL_419658_variants.gff3 2019-nCoV_EPI_ISL_419659_variants.gff3 2019-nCoV_EPI_ISL_419660_variants.gff3 2019-nCoV_EPI_ISL_419661_variants.gff3 2019-nCoV_EPI_ISL_419664_variants.gff3 2019-nCoV_EPI_ISL_419665_variants.gff3 2019-nCoV_EPI_ISL_419666_variants.gff3 2019-nCoV_EPI_ISL_419669_variants.gff3 2019-nCoV_EPI_ISL_419670_variants.gff3 2019-nCoV_EPI_ISL_419671_variants.gff3 2019-nCoV_EPI_ISL_419672_variants.gff3 2019-nCoV_EPI_ISL_419673_variants.gff3 2019-nCoV_EPI_ISL_419674_variants.gff3 2019-nCoV_EPI_ISL_419675_variants.gff3 2019-nCoV_EPI_ISL_419676_variants.gff3 2019-nCoV_EPI_ISL_419677_variants.gff3 2019-nCoV_EPI_ISL_419678_variants.gff3 2019-nCoV_EPI_ISL_419679_variants.gff3 2019-nCoV_EPI_ISL_419680_variants.gff3 2019-nCoV_EPI_ISL_419681_variants.gff3 2019-nCoV_EPI_ISL_419691_variants.gff3 2019-nCoV_EPI_ISL_419692_variants.gff3 2019-nCoV_EPI_ISL_419693_variants.gff3 2019-nCoV_EPI_ISL_419696_variants.gff3 2019-nCoV_EPI_ISL_419697_variants.gff3 2019-nCoV_EPI_ISL_419698_variants.gff3 2019-nCoV_EPI_ISL_419700_variants.gff3 2019-nCoV_EPI_ISL_419702_variants.gff3 2019-nCoV_EPI_ISL_419703_variants.gff3 2019-nCoV_EPI_ISL_419704_variants.gff3 2019-nCoV_EPI_ISL_419705_variants.gff3 2019-nCoV_EPI_ISL_419706_variants.gff3 2019-nCoV_EPI_ISL_419707_variants.gff3 2019-nCoV_EPI_ISL_419708_variants.gff3 2019-nCoV_EPI_ISL_419709_variants.gff3 2019-nCoV_EPI_ISL_419710_variants.gff3 2019-nCoV_EPI_ISL_419711_variants.gff3 2019-nCoV_EPI_ISL_419712_variants.gff3 2019-nCoV_EPI_ISL_419713_variants.gff3 2019-nCoV_EPI_ISL_419714_variants.gff3 2019-nCoV_EPI_ISL_419715_variants.gff3 2019-nCoV_EPI_ISL_419716_variants.gff3 2019-nCoV_EPI_ISL_419717_variants.gff3 2019-nCoV_EPI_ISL_419718_variants.gff3 2019-nCoV_EPI_ISL_419725_variants.gff3 2019-nCoV_EPI_ISL_419728_variants.gff3 2019-nCoV_EPI_ISL_419729_variants.gff3 2019-nCoV_EPI_ISL_419730_variants.gff3 2019-nCoV_EPI_ISL_419731_variants.gff3 2019-nCoV_EPI_ISL_419732_variants.gff3 2019-nCoV_EPI_ISL_419736_variants.gff3 2019-nCoV_EPI_ISL_419737_variants.gff3 2019-nCoV_EPI_ISL_419740_variants.gff3 2019-nCoV_EPI_ISL_419741_variants.gff3 2019-nCoV_EPI_ISL_419743_variants.gff3 2019-nCoV_EPI_ISL_419744_variants.gff3 2019-nCoV_EPI_ISL_419745_variants.gff3 2019-nCoV_EPI_ISL_419746_variants.gff3 2019-nCoV_EPI_ISL_419747_variants.gff3 2019-nCoV_EPI_ISL_419748_variants.gff3 2019-nCoV_EPI_ISL_419749_variants.gff3 2019-nCoV_EPI_ISL_419750_variants.gff3 2019-nCoV_EPI_ISL_419751_variants.gff3 2019-nCoV_EPI_ISL_419752_variants.gff3 2019-nCoV_EPI_ISL_419753_variants.gff3 2019-nCoV_EPI_ISL_419755_variants.gff3 2019-nCoV_EPI_ISL_419756_variants.gff3 2019-nCoV_EPI_ISL_419757_variants.gff3 2019-nCoV_EPI_ISL_419758_variants.gff3 2019-nCoV_EPI_ISL_419759_variants.gff3 2019-nCoV_EPI_ISL_419760_variants.gff3 2019-nCoV_EPI_ISL_419761_variants.gff3 2019-nCoV_EPI_ISL_419762_variants.gff3 2019-nCoV_EPI_ISL_419763_variants.gff3 2019-nCoV_EPI_ISL_419764_variants.gff3 2019-nCoV_EPI_ISL_419765_variants.gff3 2019-nCoV_EPI_ISL_419766_variants.gff3 2019-nCoV_EPI_ISL_419767_variants.gff3 2019-nCoV_EPI_ISL_419768_variants.gff3 2019-nCoV_EPI_ISL_419769_variants.gff3 2019-nCoV_EPI_ISL_419770_variants.gff3 2019-nCoV_EPI_ISL_419771_variants.gff3 2019-nCoV_EPI_ISL_419772_variants.gff3 2019-nCoV_EPI_ISL_419774_variants.gff3 2019-nCoV_EPI_ISL_419776_variants.gff3 2019-nCoV_EPI_ISL_419777_variants.gff3 2019-nCoV_EPI_ISL_419779_variants.gff3 2019-nCoV_EPI_ISL_419780_variants.gff3 2019-nCoV_EPI_ISL_419781_variants.gff3 2019-nCoV_EPI_ISL_419782_variants.gff3 2019-nCoV_EPI_ISL_419783_variants.gff3 2019-nCoV_EPI_ISL_419784_variants.gff3 2019-nCoV_EPI_ISL_419785_variants.gff3 2019-nCoV_EPI_ISL_419786_variants.gff3 2019-nCoV_EPI_ISL_419789_variants.gff3 2019-nCoV_EPI_ISL_419790_variants.gff3 2019-nCoV_EPI_ISL_419792_variants.gff3 2019-nCoV_EPI_ISL_419793_variants.gff3 2019-nCoV_EPI_ISL_419794_variants.gff3 2019-nCoV_EPI_ISL_419795_variants.gff3 2019-nCoV_EPI_ISL_419796_variants.gff3 2019-nCoV_EPI_ISL_419797_variants.gff3 2019-nCoV_EPI_ISL_419798_variants.gff3 2019-nCoV_EPI_ISL_419799_variants.gff3 2019-nCoV_EPI_ISL_419800_variants.gff3 2019-nCoV_EPI_ISL_419801_variants.gff3 2019-nCoV_EPI_ISL_419802_variants.gff3 2019-nCoV_EPI_ISL_419803_variants.gff3 2019-nCoV_EPI_ISL_419804_variants.gff3 2019-nCoV_EPI_ISL_419805_variants.gff3 2019-nCoV_EPI_ISL_419807_variants.gff3 2019-nCoV_EPI_ISL_419808_variants.gff3 2019-nCoV_EPI_ISL_419809_variants.gff3 2019-nCoV_EPI_ISL_419810_variants.gff3 2019-nCoV_EPI_ISL_419811_variants.gff3 2019-nCoV_EPI_ISL_419812_variants.gff3 2019-nCoV_EPI_ISL_419814_variants.gff3 2019-nCoV_EPI_ISL_419816_variants.gff3 2019-nCoV_EPI_ISL_419818_variants.gff3 2019-nCoV_EPI_ISL_419819_variants.gff3 2019-nCoV_EPI_ISL_419820_variants.gff3 2019-nCoV_EPI_ISL_419821_variants.gff3 2019-nCoV_EPI_ISL_419822_variants.gff3 2019-nCoV_EPI_ISL_419823_variants.gff3 2019-nCoV_EPI_ISL_419824_variants.gff3 2019-nCoV_EPI_ISL_419825_variants.gff3 2019-nCoV_EPI_ISL_419826_variants.gff3 2019-nCoV_EPI_ISL_419827_variants.gff3 2019-nCoV_EPI_ISL_419828_variants.gff3 2019-nCoV_EPI_ISL_419829_variants.gff3 2019-nCoV_EPI_ISL_419830_variants.gff3 2019-nCoV_EPI_ISL_419831_variants.gff3 2019-nCoV_EPI_ISL_419832_variants.gff3 2019-nCoV_EPI_ISL_419834_variants.gff3 2019-nCoV_EPI_ISL_419835_variants.gff3 2019-nCoV_EPI_ISL_419836_variants.gff3 2019-nCoV_EPI_ISL_419837_variants.gff3 2019-nCoV_EPI_ISL_419838_variants.gff3 2019-nCoV_EPI_ISL_419839_variants.gff3 2019-nCoV_EPI_ISL_419840_variants.gff3 2019-nCoV_EPI_ISL_419841_variants.gff3 2019-nCoV_EPI_ISL_419842_variants.gff3 2019-nCoV_EPI_ISL_419843_variants.gff3 2019-nCoV_EPI_ISL_419844_variants.gff3 2019-nCoV_EPI_ISL_419845_variants.gff3 2019-nCoV_EPI_ISL_419846_variants.gff3 2019-nCoV_EPI_ISL_419848_variants.gff3 2019-nCoV_EPI_ISL_419849_variants.gff3 2019-nCoV_EPI_ISL_419850_variants.gff3 2019-nCoV_EPI_ISL_419851_variants.gff3 2019-nCoV_EPI_ISL_419852_variants.gff3 2019-nCoV_EPI_ISL_419853_variants.gff3 2019-nCoV_EPI_ISL_419854_variants.gff3 2019-nCoV_EPI_ISL_419855_variants.gff3 2019-nCoV_EPI_ISL_419856_variants.gff3 2019-nCoV_EPI_ISL_419857_variants.gff3 2019-nCoV_EPI_ISL_419859_variants.gff3 2019-nCoV_EPI_ISL_419860_variants.gff3 2019-nCoV_EPI_ISL_419862_variants.gff3 2019-nCoV_EPI_ISL_419863_variants.gff3 2019-nCoV_EPI_ISL_419864_variants.gff3 2019-nCoV_EPI_ISL_419866_variants.gff3 2019-nCoV_EPI_ISL_419867_variants.gff3 2019-nCoV_EPI_ISL_419868_variants.gff3 2019-nCoV_EPI_ISL_419869_variants.gff3 2019-nCoV_EPI_ISL_419870_variants.gff3 2019-nCoV_EPI_ISL_419871_variants.gff3 2019-nCoV_EPI_ISL_419872_variants.gff3 "
     ]
    }
   ],
   "source": [
    "for index, row in df.iterrows():\n",
    "    url = annotation_url + row['filename']\n",
    "    filename = row['filename'] + '.csv'\n",
    "    # skip files that have been processed in previous runs\n",
    "    if not (Path.exists(CACHE / filename) or Path.exists(CACHE_FAILED / filename)):\n",
    "        try:\n",
    "            download_gff3(row['filename'], url)\n",
    "            print(row['filename'], end=' ')\n",
    "        except:\n",
    "            print('Download failed for: ', row['filename'])"
   ]
  },
  {
   "cell_type": "markdown",
   "metadata": {},
   "source": [
    "### Concatenate all variation data into a single dataframe"
   ]
  },
  {
   "cell_type": "code",
   "execution_count": 37,
   "metadata": {},
   "outputs": [],
   "source": [
    "# use all cached data files\n",
    "path = str(CACHE / '*.gff3.csv')\n",
    "filenames = glob.glob(path)\n",
    "\n",
    "variations = pd.concat((pd.read_csv(f, index_col=None, header=0) for f in filenames))\n",
    "variations.fillna('', inplace=True)"
   ]
  },
  {
   "cell_type": "markdown",
   "metadata": {},
   "source": [
    "List of variant types and consequences:\n",
    "\n",
    "https://uswest.ensembl.org/info/genome/variation/prediction/classification.html\n",
    "\n",
    "https://uswest.ensembl.org/info/genome/variation/prediction/predicted_data.html#consequences"
   ]
  },
  {
   "cell_type": "markdown",
   "metadata": {},
   "source": [
    "#### Extract protein position and protein id from proteinVariant string\n",
    "\n",
    "Example: QHD43415.1:p.5828P>L\n",
    "\n",
    "proteinPosition: 5828\n",
    "proteinId: QHD43415"
   ]
  },
  {
   "cell_type": "code",
   "execution_count": 38,
   "metadata": {},
   "outputs": [],
   "source": [
    "position_pattern = re.compile(':p\\.(.*?)[A-Z|\\-]+')"
   ]
  },
  {
   "cell_type": "code",
   "execution_count": 39,
   "metadata": {},
   "outputs": [],
   "source": [
    "def extract_protein_position(s):\n",
    "    if s == '':\n",
    "        return s\n",
    "    else:\n",
    "        groups = position_pattern.search(s)\n",
    "        if groups == None:\n",
    "            return ''\n",
    "        else:\n",
    "            return groups.group(1)"
   ]
  },
  {
   "cell_type": "code",
   "execution_count": 40,
   "metadata": {},
   "outputs": [],
   "source": [
    "variations['proteinPosition'] = variations['proteinVariant'].apply(extract_protein_position)"
   ]
  },
  {
   "cell_type": "code",
   "execution_count": 41,
   "metadata": {},
   "outputs": [],
   "source": [
    "variations['proteinAccession'] = variations['proteinVariant'].apply(lambda s: s.split('.')[0] if '.' in s else '')"
   ]
  },
  {
   "cell_type": "code",
   "execution_count": 42,
   "metadata": {},
   "outputs": [
    {
     "data": {
      "text/plain": [
       "array(['', 'QHD43415', 'QHD43416', 'QHD43417', 'QHD43423', 'QHD43422',\n",
       "       'QHD43419', 'QHD43420', 'QHD43421', 'QHD43418', 'QHI42199'],\n",
       "      dtype=object)"
      ]
     },
     "execution_count": 42,
     "metadata": {},
     "output_type": "execute_result"
    }
   ],
   "source": [
    "variations['proteinAccession'].unique()"
   ]
  },
  {
   "cell_type": "markdown",
   "metadata": {},
   "source": [
    "#### Assign SARS-CoV-2 taxonomy id"
   ]
  },
  {
   "cell_type": "code",
   "execution_count": 43,
   "metadata": {},
   "outputs": [],
   "source": [
    "variations['taxonomyId'] = 'taxonomy:2697049'"
   ]
  },
  {
   "cell_type": "markdown",
   "metadata": {},
   "source": [
    "#### Assign Reference genome\n",
    "\n",
    "The first SARS-CoV-2 genome sequence is the reference for the variant annotation below.\n",
    "\n",
    "[Severe acute respiratory syndrome coronavirus 2 isolate Wuhan-Hu-1](https://www.ncbi.nlm.nih.gov/nuccore/MN908947)"
   ]
  },
  {
   "cell_type": "code",
   "execution_count": 44,
   "metadata": {},
   "outputs": [],
   "source": [
    "# variations['referenceGenome'] = 'insdc:MN908947' -> same as NCBI reference sequence NC_045512\n",
    "variations['referenceGenome'] = 'ncbiprotein:NC_045512'"
   ]
  },
  {
   "cell_type": "code",
   "execution_count": 45,
   "metadata": {},
   "outputs": [],
   "source": [
    "variations['proteinAccession'] = variations['proteinAccession'].apply(lambda s: 'ncbiprotein:' + s if s != '' else s)"
   ]
  },
  {
   "cell_type": "code",
   "execution_count": 46,
   "metadata": {},
   "outputs": [
    {
     "name": "stdout",
     "output_type": "stream",
     "text": [
      "variantType: ['Deletion' 'SNP' 'Insertion' 'Indel']\n"
     ]
    }
   ],
   "source": [
    "print('variantType:', variations['variantType'].unique())"
   ]
  },
  {
   "cell_type": "code",
   "execution_count": 47,
   "metadata": {},
   "outputs": [
    {
     "name": "stdout",
     "output_type": "stream",
     "text": [
      "variantConsequence: ['intergenic_variant' 'upstream_gene_variant' 'missense_variant'\n",
      " 'synonymous_variant' 'downstream_gene_variant' 'inframe_deletion'\n",
      " 'coding_sequence_variant' 'inframe_insertion' 'frameshift_variant'\n",
      " 'stop_gained' 'protein_altering_variant' 'start_lost' 'stop_lost']\n"
     ]
    }
   ],
   "source": [
    "print(\"variantConsequence:\", variations['variantConsequence'].unique())"
   ]
  },
  {
   "cell_type": "code",
   "execution_count": 48,
   "metadata": {},
   "outputs": [
    {
     "name": "stdout",
     "output_type": "stream",
     "text": [
      "Number of variants: 34358\n"
     ]
    }
   ],
   "source": [
    "print(\"Number of variants:\", variations.shape[0])"
   ]
  },
  {
   "cell_type": "code",
   "execution_count": 49,
   "metadata": {},
   "outputs": [],
   "source": [
    "variations.to_csv(NEO4J_HOME / \"import/01d-CNCBVariant.csv\", index=False)"
   ]
  },
  {
   "cell_type": "code",
   "execution_count": 50,
   "metadata": {},
   "outputs": [
    {
     "data": {
      "text/html": [
       "<div>\n",
       "<style scoped>\n",
       "    .dataframe tbody tr th:only-of-type {\n",
       "        vertical-align: middle;\n",
       "    }\n",
       "\n",
       "    .dataframe tbody tr th {\n",
       "        vertical-align: top;\n",
       "    }\n",
       "\n",
       "    .dataframe thead th {\n",
       "        text-align: right;\n",
       "    }\n",
       "</style>\n",
       "<table border=\"1\" class=\"dataframe\">\n",
       "  <thead>\n",
       "    <tr style=\"text-align: right;\">\n",
       "      <th></th>\n",
       "      <th>name</th>\n",
       "      <th>variantType</th>\n",
       "      <th>start</th>\n",
       "      <th>end</th>\n",
       "      <th>ref</th>\n",
       "      <th>alt</th>\n",
       "      <th>variantConsequence</th>\n",
       "      <th>proteinVariant</th>\n",
       "      <th>geneVariant</th>\n",
       "      <th>proteinPosition</th>\n",
       "      <th>proteinAccession</th>\n",
       "      <th>taxonomyId</th>\n",
       "      <th>referenceGenome</th>\n",
       "    </tr>\n",
       "  </thead>\n",
       "  <tbody>\n",
       "    <tr>\n",
       "      <th>0</th>\n",
       "      <td>hCoV-19/USA/NY-PV09028/2020</td>\n",
       "      <td>Deletion</td>\n",
       "      <td>1</td>\n",
       "      <td>64</td>\n",
       "      <td>AATTAAAGGTTTATACCTTCCCAGGTAACAAACCAACCAACTTTCG...</td>\n",
       "      <td>-</td>\n",
       "      <td>intergenic_variant</td>\n",
       "      <td></td>\n",
       "      <td></td>\n",
       "      <td></td>\n",
       "      <td></td>\n",
       "      <td>taxonomy:2697049</td>\n",
       "      <td>ncbiprotein:NC_045512</td>\n",
       "    </tr>\n",
       "    <tr>\n",
       "      <th>1</th>\n",
       "      <td>hCoV-19/USA/NY-PV09028/2020</td>\n",
       "      <td>SNP</td>\n",
       "      <td>241</td>\n",
       "      <td>241</td>\n",
       "      <td>C</td>\n",
       "      <td>T</td>\n",
       "      <td>upstream_gene_variant</td>\n",
       "      <td>DISTANCE=25</td>\n",
       "      <td>QHD43415.1,orf1ab</td>\n",
       "      <td></td>\n",
       "      <td></td>\n",
       "      <td>taxonomy:2697049</td>\n",
       "      <td>ncbiprotein:NC_045512</td>\n",
       "    </tr>\n",
       "    <tr>\n",
       "      <th>2</th>\n",
       "      <td>hCoV-19/USA/NY-PV09028/2020</td>\n",
       "      <td>SNP</td>\n",
       "      <td>1059</td>\n",
       "      <td>1059</td>\n",
       "      <td>C</td>\n",
       "      <td>T</td>\n",
       "      <td>missense_variant</td>\n",
       "      <td>QHD43415.1:p.265T&gt;I</td>\n",
       "      <td>orf1ab:c.794aCc&gt;aTc</td>\n",
       "      <td>265</td>\n",
       "      <td>ncbiprotein:QHD43415</td>\n",
       "      <td>taxonomy:2697049</td>\n",
       "      <td>ncbiprotein:NC_045512</td>\n",
       "    </tr>\n",
       "    <tr>\n",
       "      <th>3</th>\n",
       "      <td>hCoV-19/USA/NY-PV09028/2020</td>\n",
       "      <td>SNP</td>\n",
       "      <td>3037</td>\n",
       "      <td>3037</td>\n",
       "      <td>C</td>\n",
       "      <td>T</td>\n",
       "      <td>synonymous_variant</td>\n",
       "      <td>QHD43415.1:p.924F</td>\n",
       "      <td>orf1ab:c.2772ttC&gt;ttT</td>\n",
       "      <td>924</td>\n",
       "      <td>ncbiprotein:QHD43415</td>\n",
       "      <td>taxonomy:2697049</td>\n",
       "      <td>ncbiprotein:NC_045512</td>\n",
       "    </tr>\n",
       "    <tr>\n",
       "      <th>4</th>\n",
       "      <td>hCoV-19/USA/NY-PV09028/2020</td>\n",
       "      <td>SNP</td>\n",
       "      <td>10851</td>\n",
       "      <td>10851</td>\n",
       "      <td>C</td>\n",
       "      <td>T</td>\n",
       "      <td>missense_variant</td>\n",
       "      <td>QHD43415.1:p.3529A&gt;V</td>\n",
       "      <td>orf1ab:c.10586gCt&gt;gTt</td>\n",
       "      <td>3529</td>\n",
       "      <td>ncbiprotein:QHD43415</td>\n",
       "      <td>taxonomy:2697049</td>\n",
       "      <td>ncbiprotein:NC_045512</td>\n",
       "    </tr>\n",
       "  </tbody>\n",
       "</table>\n",
       "</div>"
      ],
      "text/plain": [
       "                          name variantType  start    end  \\\n",
       "0  hCoV-19/USA/NY-PV09028/2020    Deletion      1     64   \n",
       "1  hCoV-19/USA/NY-PV09028/2020         SNP    241    241   \n",
       "2  hCoV-19/USA/NY-PV09028/2020         SNP   1059   1059   \n",
       "3  hCoV-19/USA/NY-PV09028/2020         SNP   3037   3037   \n",
       "4  hCoV-19/USA/NY-PV09028/2020         SNP  10851  10851   \n",
       "\n",
       "                                                 ref alt  \\\n",
       "0  AATTAAAGGTTTATACCTTCCCAGGTAACAAACCAACCAACTTTCG...   -   \n",
       "1                                                  C   T   \n",
       "2                                                  C   T   \n",
       "3                                                  C   T   \n",
       "4                                                  C   T   \n",
       "\n",
       "      variantConsequence        proteinVariant            geneVariant  \\\n",
       "0     intergenic_variant                                                \n",
       "1  upstream_gene_variant           DISTANCE=25      QHD43415.1,orf1ab   \n",
       "2       missense_variant   QHD43415.1:p.265T>I    orf1ab:c.794aCc>aTc   \n",
       "3     synonymous_variant     QHD43415.1:p.924F   orf1ab:c.2772ttC>ttT   \n",
       "4       missense_variant  QHD43415.1:p.3529A>V  orf1ab:c.10586gCt>gTt   \n",
       "\n",
       "  proteinPosition      proteinAccession        taxonomyId  \\\n",
       "0                                        taxonomy:2697049   \n",
       "1                                        taxonomy:2697049   \n",
       "2             265  ncbiprotein:QHD43415  taxonomy:2697049   \n",
       "3             924  ncbiprotein:QHD43415  taxonomy:2697049   \n",
       "4            3529  ncbiprotein:QHD43415  taxonomy:2697049   \n",
       "\n",
       "         referenceGenome  \n",
       "0  ncbiprotein:NC_045512  \n",
       "1  ncbiprotein:NC_045512  \n",
       "2  ncbiprotein:NC_045512  \n",
       "3  ncbiprotein:NC_045512  \n",
       "4  ncbiprotein:NC_045512  "
      ]
     },
     "execution_count": 50,
     "metadata": {},
     "output_type": "execute_result"
    }
   ],
   "source": [
    "variations.head()"
   ]
  },
  {
   "cell_type": "code",
   "execution_count": null,
   "metadata": {},
   "outputs": [],
   "source": []
  }
 ],
 "metadata": {
  "kernelspec": {
   "display_name": "Python 3",
   "language": "python",
   "name": "python3"
  },
  "language_info": {
   "codemirror_mode": {
    "name": "ipython",
    "version": 3
   },
   "file_extension": ".py",
   "mimetype": "text/x-python",
   "name": "python",
   "nbconvert_exporter": "python",
   "pygments_lexer": "ipython3",
   "version": "3.8.3"
  }
 },
 "nbformat": 4,
 "nbformat_minor": 4
}

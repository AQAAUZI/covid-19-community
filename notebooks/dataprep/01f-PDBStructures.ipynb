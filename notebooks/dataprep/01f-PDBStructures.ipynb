{
 "cells": [
  {
   "cell_type": "markdown",
   "metadata": {},
   "source": [
    "# Downloads PDB Structure Information\n",
    "**[Work in progress]**\n",
    "\n",
    "This notebook downloads 3D-structure information for SARS-CoV-2 proteins\n",
    "\n",
    "Data sources: \n",
    "[RCSB Protein Data Bank](https://www.rcsb.org), \n",
    "[PDBe Protein Data Bank Europe](https://www.ebi.ac.uk/pdbe/)\n",
    "\n",
    "Author: Peter Rose (pwrose@ucsd.edu)"
   ]
  },
  {
   "cell_type": "code",
   "execution_count": 1,
   "metadata": {},
   "outputs": [],
   "source": [
    "import os\n",
    "import numpy as np\n",
    "import pandas as pd\n",
    "import requests\n",
    "import json\n",
    "import dateutil\n",
    "from pathlib import Path\n",
    "from py2neo import Graph\n",
    "from rcsbsearch import TextQuery\n",
    "from rcsbsearch import rcsb_attributes as attrs"
   ]
  },
  {
   "cell_type": "code",
   "execution_count": 2,
   "metadata": {},
   "outputs": [],
   "source": [
    "pd.options.display.max_rows = None  # display all rows\n",
    "pd.options.display.max_columns = None  # display all columsns"
   ]
  },
  {
   "cell_type": "code",
   "execution_count": 3,
   "metadata": {},
   "outputs": [
    {
     "name": "stdout",
     "output_type": "stream",
     "text": [
      "/Users/peter/Library/Application Support/Neo4j Desktop/Application/neo4jDatabases/database-328d8379-6ab4-4cc1-a397-2de37909d2e4/installation-4.1.0/import\n"
     ]
    }
   ],
   "source": [
    "NEO4J_IMPORT = Path(os.getenv('NEO4J_IMPORT'))\n",
    "print(NEO4J_IMPORT)"
   ]
  },
  {
   "cell_type": "code",
   "execution_count": 4,
   "metadata": {},
   "outputs": [],
   "source": [
    "taxonomy_id = '2697049'"
   ]
  },
  {
   "cell_type": "markdown",
   "metadata": {},
   "source": [
    "### Find PDB Structures containing SARS-CoV-2 proteins or nucleic acids"
   ]
  },
  {
   "cell_type": "code",
   "execution_count": 5,
   "metadata": {},
   "outputs": [],
   "source": [
    "# Create terminals for each query\n",
    "#q1 = TextQuery(taxonomy_id)\n",
    "q2 = attrs.rcsb_entity_source_organism.taxonomy_lineage.id == taxonomy_id\n",
    "\n",
    "# combined using bitwise operators (&, |, ~, etc)\n",
    "#query = q1 & q2  # AND of all queries\n",
    "query = q2\n",
    "\n",
    "# Call the query to execute it\n",
    "entries = query('entry')\n",
    "df = pd.DataFrame(entries, columns=['pdbId'])"
   ]
  },
  {
   "cell_type": "code",
   "execution_count": 6,
   "metadata": {},
   "outputs": [
    {
     "data": {
      "text/html": [
       "<div>\n",
       "<style scoped>\n",
       "    .dataframe tbody tr th:only-of-type {\n",
       "        vertical-align: middle;\n",
       "    }\n",
       "\n",
       "    .dataframe tbody tr th {\n",
       "        vertical-align: top;\n",
       "    }\n",
       "\n",
       "    .dataframe thead th {\n",
       "        text-align: right;\n",
       "    }\n",
       "</style>\n",
       "<table border=\"1\" class=\"dataframe\">\n",
       "  <thead>\n",
       "    <tr style=\"text-align: right;\">\n",
       "      <th></th>\n",
       "      <th>pdbId</th>\n",
       "    </tr>\n",
       "  </thead>\n",
       "  <tbody>\n",
       "    <tr>\n",
       "      <th>0</th>\n",
       "      <td>5R84</td>\n",
       "    </tr>\n",
       "    <tr>\n",
       "      <th>1</th>\n",
       "      <td>5R83</td>\n",
       "    </tr>\n",
       "    <tr>\n",
       "      <th>2</th>\n",
       "      <td>5R7Y</td>\n",
       "    </tr>\n",
       "    <tr>\n",
       "      <th>3</th>\n",
       "      <td>5R80</td>\n",
       "    </tr>\n",
       "    <tr>\n",
       "      <th>4</th>\n",
       "      <td>5R82</td>\n",
       "    </tr>\n",
       "  </tbody>\n",
       "</table>\n",
       "</div>"
      ],
      "text/plain": [
       "  pdbId\n",
       "0  5R84\n",
       "1  5R83\n",
       "2  5R7Y\n",
       "3  5R80\n",
       "4  5R82"
      ]
     },
     "execution_count": 6,
     "metadata": {},
     "output_type": "execute_result"
    }
   ],
   "source": [
    "df.head()"
   ]
  },
  {
   "cell_type": "code",
   "execution_count": 7,
   "metadata": {},
   "outputs": [
    {
     "name": "stdout",
     "output_type": "stream",
     "text": [
      "Number of structures: 371\n"
     ]
    }
   ],
   "source": [
    "print(\"Number of structures:\", df['pdbId'].shape[0])"
   ]
  },
  {
   "cell_type": "markdown",
   "metadata": {},
   "source": [
    "### Get structure metadata"
   ]
  },
  {
   "cell_type": "code",
   "execution_count": 8,
   "metadata": {},
   "outputs": [],
   "source": [
    "def get_pdb_entry_data(row):\n",
    "    pdb_id = row['pdbId']\n",
    "    \n",
    "    response = json.loads(requests.get(f'http://data.rcsb.org/rest/v1/core/entry/{pdb_id}').text)\n",
    "    \n",
    "    data = np.empty(9, dtype=object)\n",
    "    data[0] = pdb_id\n",
    "    data[1] = response['struct']['title']\n",
    "    data[2] = response['struct']['pdbx_descriptor']\n",
    "    data[3] = response['rcsb_accession_info']['deposit_date']\n",
    "    data[4] = response['rcsb_accession_info']['initial_release_date']\n",
    "    data[5] = response['pdbx_vrpt_summary'].get('pdbresolution', '')\n",
    "    data[6] = response['pdbx_vrpt_summary'].get('pdbr', '')\n",
    "    data[7] = response['pdbx_vrpt_summary'].get('pdbrfree', '')      \n",
    "    data[8] = response['exptl'][0]['method']\n",
    "    \n",
    "    return data"
   ]
  },
  {
   "cell_type": "code",
   "execution_count": 9,
   "metadata": {},
   "outputs": [],
   "source": [
    "structures = df.apply(get_pdb_entry_data, axis=1, result_type='expand')"
   ]
  },
  {
   "cell_type": "code",
   "execution_count": 10,
   "metadata": {},
   "outputs": [],
   "source": [
    "structures.columns = ['pdbId', 'title', 'description', 'depositDate', 'releaseDate', 'resolution', 'rFactor', 'rFree', 'method']"
   ]
  },
  {
   "cell_type": "code",
   "execution_count": 11,
   "metadata": {},
   "outputs": [],
   "source": [
    "structures['depositDate'] = structures['depositDate'].apply(lambda d: dateutil.parser.parse(d[:10]))\n",
    "structures['releaseDate'] = structures['releaseDate'].apply(lambda d: dateutil.parser.parse(d[:10]))"
   ]
  },
  {
   "cell_type": "code",
   "execution_count": 12,
   "metadata": {},
   "outputs": [],
   "source": [
    "structures['pdbId'] = 'pdb:' + structures['pdbId']"
   ]
  },
  {
   "cell_type": "code",
   "execution_count": 13,
   "metadata": {},
   "outputs": [
    {
     "data": {
      "text/html": [
       "<div>\n",
       "<style scoped>\n",
       "    .dataframe tbody tr th:only-of-type {\n",
       "        vertical-align: middle;\n",
       "    }\n",
       "\n",
       "    .dataframe tbody tr th {\n",
       "        vertical-align: top;\n",
       "    }\n",
       "\n",
       "    .dataframe thead th {\n",
       "        text-align: right;\n",
       "    }\n",
       "</style>\n",
       "<table border=\"1\" class=\"dataframe\">\n",
       "  <thead>\n",
       "    <tr style=\"text-align: right;\">\n",
       "      <th></th>\n",
       "      <th>pdbId</th>\n",
       "      <th>title</th>\n",
       "      <th>description</th>\n",
       "      <th>depositDate</th>\n",
       "      <th>releaseDate</th>\n",
       "      <th>resolution</th>\n",
       "      <th>rFactor</th>\n",
       "      <th>rFree</th>\n",
       "      <th>method</th>\n",
       "    </tr>\n",
       "  </thead>\n",
       "  <tbody>\n",
       "    <tr>\n",
       "      <th>0</th>\n",
       "      <td>pdb:5R84</td>\n",
       "      <td>PanDDA analysis group deposition -- Crystal St...</td>\n",
       "      <td>SARS-CoV-2 main protease</td>\n",
       "      <td>2020-03-02</td>\n",
       "      <td>2020-03-10</td>\n",
       "      <td>1.83</td>\n",
       "      <td>0.22</td>\n",
       "      <td>0.29</td>\n",
       "      <td>X-RAY DIFFRACTION</td>\n",
       "    </tr>\n",
       "    <tr>\n",
       "      <th>1</th>\n",
       "      <td>pdb:5R83</td>\n",
       "      <td>PanDDA analysis group deposition -- Crystal St...</td>\n",
       "      <td>SARS-CoV-2 main protease</td>\n",
       "      <td>2020-03-02</td>\n",
       "      <td>2020-03-10</td>\n",
       "      <td>1.58</td>\n",
       "      <td>0.18</td>\n",
       "      <td>0.21</td>\n",
       "      <td>X-RAY DIFFRACTION</td>\n",
       "    </tr>\n",
       "    <tr>\n",
       "      <th>2</th>\n",
       "      <td>pdb:5R7Y</td>\n",
       "      <td>PanDDA analysis group deposition -- Crystal St...</td>\n",
       "      <td>SARS-CoV-2 main protease</td>\n",
       "      <td>2020-03-02</td>\n",
       "      <td>2020-03-10</td>\n",
       "      <td>1.65</td>\n",
       "      <td>0.18</td>\n",
       "      <td>0.24</td>\n",
       "      <td>X-RAY DIFFRACTION</td>\n",
       "    </tr>\n",
       "    <tr>\n",
       "      <th>3</th>\n",
       "      <td>pdb:5R80</td>\n",
       "      <td>PanDDA analysis group deposition -- Crystal St...</td>\n",
       "      <td>SARS-CoV-2 main protease</td>\n",
       "      <td>2020-03-02</td>\n",
       "      <td>2020-03-10</td>\n",
       "      <td>1.93</td>\n",
       "      <td>0.17</td>\n",
       "      <td>0.23</td>\n",
       "      <td>X-RAY DIFFRACTION</td>\n",
       "    </tr>\n",
       "    <tr>\n",
       "      <th>4</th>\n",
       "      <td>pdb:5R82</td>\n",
       "      <td>PanDDA analysis group deposition -- Crystal St...</td>\n",
       "      <td>SARS-CoV-2 main protease</td>\n",
       "      <td>2020-03-02</td>\n",
       "      <td>2020-03-10</td>\n",
       "      <td>1.31</td>\n",
       "      <td>0.18</td>\n",
       "      <td>0.21</td>\n",
       "      <td>X-RAY DIFFRACTION</td>\n",
       "    </tr>\n",
       "  </tbody>\n",
       "</table>\n",
       "</div>"
      ],
      "text/plain": [
       "      pdbId                                              title  \\\n",
       "0  pdb:5R84  PanDDA analysis group deposition -- Crystal St...   \n",
       "1  pdb:5R83  PanDDA analysis group deposition -- Crystal St...   \n",
       "2  pdb:5R7Y  PanDDA analysis group deposition -- Crystal St...   \n",
       "3  pdb:5R80  PanDDA analysis group deposition -- Crystal St...   \n",
       "4  pdb:5R82  PanDDA analysis group deposition -- Crystal St...   \n",
       "\n",
       "                description depositDate releaseDate resolution rFactor rFree  \\\n",
       "0  SARS-CoV-2 main protease  2020-03-02  2020-03-10       1.83    0.22  0.29   \n",
       "1  SARS-CoV-2 main protease  2020-03-02  2020-03-10       1.58    0.18  0.21   \n",
       "2  SARS-CoV-2 main protease  2020-03-02  2020-03-10       1.65    0.18  0.24   \n",
       "3  SARS-CoV-2 main protease  2020-03-02  2020-03-10       1.93    0.17  0.23   \n",
       "4  SARS-CoV-2 main protease  2020-03-02  2020-03-10       1.31    0.18  0.21   \n",
       "\n",
       "              method  \n",
       "0  X-RAY DIFFRACTION  \n",
       "1  X-RAY DIFFRACTION  \n",
       "2  X-RAY DIFFRACTION  \n",
       "3  X-RAY DIFFRACTION  \n",
       "4  X-RAY DIFFRACTION  "
      ]
     },
     "execution_count": 13,
     "metadata": {},
     "output_type": "execute_result"
    }
   ],
   "source": [
    "structures.head()"
   ]
  },
  {
   "cell_type": "code",
   "execution_count": 14,
   "metadata": {},
   "outputs": [],
   "source": [
    "structures.to_csv(NEO4J_IMPORT / \"01f-PDBStructure.csv\", index=False)"
   ]
  },
  {
   "cell_type": "markdown",
   "metadata": {},
   "source": [
    "### Get PDB Chain - UniProt sequence mappings"
   ]
  },
  {
   "cell_type": "code",
   "execution_count": 15,
   "metadata": {},
   "outputs": [],
   "source": [
    "sifts_url = 'http://ftp.ebi.ac.uk/pub/databases/msd/sifts/flatfiles/tsv/uniprot_segments_observed.tsv.gz'"
   ]
  },
  {
   "cell_type": "code",
   "execution_count": 16,
   "metadata": {},
   "outputs": [
    {
     "data": {
      "text/html": [
       "<div>\n",
       "<style scoped>\n",
       "    .dataframe tbody tr th:only-of-type {\n",
       "        vertical-align: middle;\n",
       "    }\n",
       "\n",
       "    .dataframe tbody tr th {\n",
       "        vertical-align: top;\n",
       "    }\n",
       "\n",
       "    .dataframe thead th {\n",
       "        text-align: right;\n",
       "    }\n",
       "</style>\n",
       "<table border=\"1\" class=\"dataframe\">\n",
       "  <thead>\n",
       "    <tr style=\"text-align: right;\">\n",
       "      <th></th>\n",
       "      <th>PDB</th>\n",
       "      <th>CHAIN</th>\n",
       "      <th>SP_PRIMARY</th>\n",
       "      <th>RES_BEG</th>\n",
       "      <th>RES_END</th>\n",
       "      <th>PDB_BEG</th>\n",
       "      <th>PDB_END</th>\n",
       "      <th>SP_BEG</th>\n",
       "      <th>SP_END</th>\n",
       "    </tr>\n",
       "  </thead>\n",
       "  <tbody>\n",
       "    <tr>\n",
       "      <th>0</th>\n",
       "      <td>105m</td>\n",
       "      <td>A</td>\n",
       "      <td>P02185</td>\n",
       "      <td>1</td>\n",
       "      <td>153</td>\n",
       "      <td>1</td>\n",
       "      <td>153</td>\n",
       "      <td>2</td>\n",
       "      <td>154</td>\n",
       "    </tr>\n",
       "    <tr>\n",
       "      <th>1</th>\n",
       "      <td>113l</td>\n",
       "      <td>A</td>\n",
       "      <td>P00720</td>\n",
       "      <td>1</td>\n",
       "      <td>162</td>\n",
       "      <td>1</td>\n",
       "      <td>162</td>\n",
       "      <td>1</td>\n",
       "      <td>162</td>\n",
       "    </tr>\n",
       "    <tr>\n",
       "      <th>2</th>\n",
       "      <td>120l</td>\n",
       "      <td>A</td>\n",
       "      <td>P00720</td>\n",
       "      <td>1</td>\n",
       "      <td>162</td>\n",
       "      <td>1</td>\n",
       "      <td>162</td>\n",
       "      <td>1</td>\n",
       "      <td>162</td>\n",
       "    </tr>\n",
       "    <tr>\n",
       "      <th>3</th>\n",
       "      <td>185l</td>\n",
       "      <td>A</td>\n",
       "      <td>P00720</td>\n",
       "      <td>1</td>\n",
       "      <td>162</td>\n",
       "      <td>1</td>\n",
       "      <td>162</td>\n",
       "      <td>1</td>\n",
       "      <td>162</td>\n",
       "    </tr>\n",
       "    <tr>\n",
       "      <th>4</th>\n",
       "      <td>128l</td>\n",
       "      <td>A</td>\n",
       "      <td>P00720</td>\n",
       "      <td>1</td>\n",
       "      <td>162</td>\n",
       "      <td>1</td>\n",
       "      <td>162</td>\n",
       "      <td>1</td>\n",
       "      <td>162</td>\n",
       "    </tr>\n",
       "  </tbody>\n",
       "</table>\n",
       "</div>"
      ],
      "text/plain": [
       "    PDB CHAIN SP_PRIMARY RES_BEG RES_END PDB_BEG PDB_END SP_BEG SP_END\n",
       "0  105m     A     P02185       1     153       1     153      2    154\n",
       "1  113l     A     P00720       1     162       1     162      1    162\n",
       "2  120l     A     P00720       1     162       1     162      1    162\n",
       "3  185l     A     P00720       1     162       1     162      1    162\n",
       "4  128l     A     P00720       1     162       1     162      1    162"
      ]
     },
     "execution_count": 16,
     "metadata": {},
     "output_type": "execute_result"
    }
   ],
   "source": [
    "segments = pd.read_csv(sifts_url, sep='\\t', skiprows=1, dtype=str)\n",
    "segments.head()"
   ]
  },
  {
   "cell_type": "code",
   "execution_count": 17,
   "metadata": {},
   "outputs": [],
   "source": [
    "segments.rename(columns={'PDB': 'pdbId', 'CHAIN': 'chainId', 'SP_PRIMARY': 'accession'}, inplace=True)\n",
    "segments.rename(columns={'RES_BEG': 'seqresStart', 'RES_END': 'seqresEnd'}, inplace=True)\n",
    "segments.rename(columns={'PDB_BEG': 'pdbStart', 'PDB_END': 'pdbEnd'}, inplace=True)\n",
    "segments.rename(columns={'SP_BEG': 'uniprotStart', 'SP_END': 'uniprotEnd'}, inplace=True)"
   ]
  },
  {
   "cell_type": "code",
   "execution_count": 18,
   "metadata": {},
   "outputs": [
    {
     "data": {
      "text/html": [
       "<div>\n",
       "<style scoped>\n",
       "    .dataframe tbody tr th:only-of-type {\n",
       "        vertical-align: middle;\n",
       "    }\n",
       "\n",
       "    .dataframe tbody tr th {\n",
       "        vertical-align: top;\n",
       "    }\n",
       "\n",
       "    .dataframe thead th {\n",
       "        text-align: right;\n",
       "    }\n",
       "</style>\n",
       "<table border=\"1\" class=\"dataframe\">\n",
       "  <thead>\n",
       "    <tr style=\"text-align: right;\">\n",
       "      <th></th>\n",
       "      <th>pdbId</th>\n",
       "      <th>chainId</th>\n",
       "      <th>accession</th>\n",
       "      <th>seqresStart</th>\n",
       "      <th>seqresEnd</th>\n",
       "      <th>pdbStart</th>\n",
       "      <th>pdbEnd</th>\n",
       "      <th>uniprotStart</th>\n",
       "      <th>uniprotEnd</th>\n",
       "    </tr>\n",
       "  </thead>\n",
       "  <tbody>\n",
       "    <tr>\n",
       "      <th>0</th>\n",
       "      <td>105m</td>\n",
       "      <td>A</td>\n",
       "      <td>P02185</td>\n",
       "      <td>1</td>\n",
       "      <td>153</td>\n",
       "      <td>1</td>\n",
       "      <td>153</td>\n",
       "      <td>2</td>\n",
       "      <td>154</td>\n",
       "    </tr>\n",
       "    <tr>\n",
       "      <th>1</th>\n",
       "      <td>113l</td>\n",
       "      <td>A</td>\n",
       "      <td>P00720</td>\n",
       "      <td>1</td>\n",
       "      <td>162</td>\n",
       "      <td>1</td>\n",
       "      <td>162</td>\n",
       "      <td>1</td>\n",
       "      <td>162</td>\n",
       "    </tr>\n",
       "    <tr>\n",
       "      <th>2</th>\n",
       "      <td>120l</td>\n",
       "      <td>A</td>\n",
       "      <td>P00720</td>\n",
       "      <td>1</td>\n",
       "      <td>162</td>\n",
       "      <td>1</td>\n",
       "      <td>162</td>\n",
       "      <td>1</td>\n",
       "      <td>162</td>\n",
       "    </tr>\n",
       "    <tr>\n",
       "      <th>3</th>\n",
       "      <td>185l</td>\n",
       "      <td>A</td>\n",
       "      <td>P00720</td>\n",
       "      <td>1</td>\n",
       "      <td>162</td>\n",
       "      <td>1</td>\n",
       "      <td>162</td>\n",
       "      <td>1</td>\n",
       "      <td>162</td>\n",
       "    </tr>\n",
       "    <tr>\n",
       "      <th>4</th>\n",
       "      <td>128l</td>\n",
       "      <td>A</td>\n",
       "      <td>P00720</td>\n",
       "      <td>1</td>\n",
       "      <td>162</td>\n",
       "      <td>1</td>\n",
       "      <td>162</td>\n",
       "      <td>1</td>\n",
       "      <td>162</td>\n",
       "    </tr>\n",
       "  </tbody>\n",
       "</table>\n",
       "</div>"
      ],
      "text/plain": [
       "  pdbId chainId accession seqresStart seqresEnd pdbStart pdbEnd uniprotStart  \\\n",
       "0  105m       A    P02185           1       153        1    153            2   \n",
       "1  113l       A    P00720           1       162        1    162            1   \n",
       "2  120l       A    P00720           1       162        1    162            1   \n",
       "3  185l       A    P00720           1       162        1    162            1   \n",
       "4  128l       A    P00720           1       162        1    162            1   \n",
       "\n",
       "  uniprotEnd  \n",
       "0        154  \n",
       "1        162  \n",
       "2        162  \n",
       "3        162  \n",
       "4        162  "
      ]
     },
     "execution_count": 18,
     "metadata": {},
     "output_type": "execute_result"
    }
   ],
   "source": [
    "segments.head()"
   ]
  },
  {
   "cell_type": "code",
   "execution_count": 19,
   "metadata": {},
   "outputs": [],
   "source": [
    "segments['pdbId'] = segments['pdbId'].str.upper()"
   ]
  },
  {
   "cell_type": "code",
   "execution_count": 20,
   "metadata": {},
   "outputs": [],
   "source": [
    "segments['pdbChainId'] = segments['pdbId'] + \".\" + segments['chainId']"
   ]
  },
  {
   "cell_type": "code",
   "execution_count": 21,
   "metadata": {},
   "outputs": [],
   "source": [
    "coverage = segments.merge(df, on='pdbId')"
   ]
  },
  {
   "cell_type": "markdown",
   "metadata": {},
   "source": [
    "### Sort segments by uniprot residue number"
   ]
  },
  {
   "cell_type": "code",
   "execution_count": 22,
   "metadata": {},
   "outputs": [],
   "source": [
    "coverage['uniprotStart'] = coverage['uniprotStart'].astype(int)\n",
    "coverage.sort_values(by='uniprotStart', inplace=True)\n",
    "coverage['uniprotStart'] = coverage['uniprotStart'].astype(str)"
   ]
  },
  {
   "cell_type": "markdown",
   "metadata": {},
   "source": [
    "### Assign CURIES"
   ]
  },
  {
   "cell_type": "code",
   "execution_count": 23,
   "metadata": {},
   "outputs": [],
   "source": [
    "coverage['accession'] = 'uniprot:' + coverage['accession']\n",
    "coverage['pdbId'] = 'pdb:' + coverage['pdbId']\n",
    "coverage['pdbChainId'] = 'pdb:' + coverage['pdbChainId']"
   ]
  },
  {
   "cell_type": "code",
   "execution_count": 24,
   "metadata": {},
   "outputs": [
    {
     "data": {
      "text/html": [
       "<div>\n",
       "<style scoped>\n",
       "    .dataframe tbody tr th:only-of-type {\n",
       "        vertical-align: middle;\n",
       "    }\n",
       "\n",
       "    .dataframe tbody tr th {\n",
       "        vertical-align: top;\n",
       "    }\n",
       "\n",
       "    .dataframe thead th {\n",
       "        text-align: right;\n",
       "    }\n",
       "</style>\n",
       "<table border=\"1\" class=\"dataframe\">\n",
       "  <thead>\n",
       "    <tr style=\"text-align: right;\">\n",
       "      <th></th>\n",
       "      <th>pdbId</th>\n",
       "      <th>chainId</th>\n",
       "      <th>accession</th>\n",
       "      <th>seqresStart</th>\n",
       "      <th>seqresEnd</th>\n",
       "      <th>pdbStart</th>\n",
       "      <th>pdbEnd</th>\n",
       "      <th>uniprotStart</th>\n",
       "      <th>uniprotEnd</th>\n",
       "      <th>pdbChainId</th>\n",
       "    </tr>\n",
       "  </thead>\n",
       "  <tbody>\n",
       "    <tr>\n",
       "      <th>316</th>\n",
       "      <td>pdb:6YVA</td>\n",
       "      <td>C</td>\n",
       "      <td>uniprot:Q64339</td>\n",
       "      <td>1</td>\n",
       "      <td>155</td>\n",
       "      <td>1</td>\n",
       "      <td>155</td>\n",
       "      <td>1</td>\n",
       "      <td>155</td>\n",
       "      <td>pdb:6YVA.C</td>\n",
       "    </tr>\n",
       "    <tr>\n",
       "      <th>140</th>\n",
       "      <td>pdb:6ZME</td>\n",
       "      <td>LY</td>\n",
       "      <td>uniprot:P61254</td>\n",
       "      <td>1</td>\n",
       "      <td>134</td>\n",
       "      <td>1</td>\n",
       "      <td>134</td>\n",
       "      <td>1</td>\n",
       "      <td>134</td>\n",
       "      <td>pdb:6ZME.LY</td>\n",
       "    </tr>\n",
       "    <tr>\n",
       "      <th>138</th>\n",
       "      <td>pdb:6ZME</td>\n",
       "      <td>LW</td>\n",
       "      <td>uniprot:P83731</td>\n",
       "      <td>1</td>\n",
       "      <td>124</td>\n",
       "      <td>1</td>\n",
       "      <td>124</td>\n",
       "      <td>1</td>\n",
       "      <td>124</td>\n",
       "      <td>pdb:6ZME.LW</td>\n",
       "    </tr>\n",
       "    <tr>\n",
       "      <th>123</th>\n",
       "      <td>pdb:6ZME</td>\n",
       "      <td>LH</td>\n",
       "      <td>uniprot:P32969</td>\n",
       "      <td>1</td>\n",
       "      <td>190</td>\n",
       "      <td>1</td>\n",
       "      <td>190</td>\n",
       "      <td>1</td>\n",
       "      <td>190</td>\n",
       "      <td>pdb:6ZME.LH</td>\n",
       "    </tr>\n",
       "    <tr>\n",
       "      <th>117</th>\n",
       "      <td>pdb:6ZME</td>\n",
       "      <td>LC</td>\n",
       "      <td>uniprot:P36578</td>\n",
       "      <td>1</td>\n",
       "      <td>368</td>\n",
       "      <td>1</td>\n",
       "      <td>368</td>\n",
       "      <td>1</td>\n",
       "      <td>368</td>\n",
       "      <td>pdb:6ZME.LC</td>\n",
       "    </tr>\n",
       "  </tbody>\n",
       "</table>\n",
       "</div>"
      ],
      "text/plain": [
       "        pdbId chainId       accession seqresStart seqresEnd pdbStart pdbEnd  \\\n",
       "316  pdb:6YVA       C  uniprot:Q64339           1       155        1    155   \n",
       "140  pdb:6ZME      LY  uniprot:P61254           1       134        1    134   \n",
       "138  pdb:6ZME      LW  uniprot:P83731           1       124        1    124   \n",
       "123  pdb:6ZME      LH  uniprot:P32969           1       190        1    190   \n",
       "117  pdb:6ZME      LC  uniprot:P36578           1       368        1    368   \n",
       "\n",
       "    uniprotStart uniprotEnd   pdbChainId  \n",
       "316            1        155   pdb:6YVA.C  \n",
       "140            1        134  pdb:6ZME.LY  \n",
       "138            1        124  pdb:6ZME.LW  \n",
       "123            1        190  pdb:6ZME.LH  \n",
       "117            1        368  pdb:6ZME.LC  "
      ]
     },
     "execution_count": 24,
     "metadata": {},
     "output_type": "execute_result"
    }
   ],
   "source": [
    "coverage.head()"
   ]
  },
  {
   "cell_type": "markdown",
   "metadata": {},
   "source": [
    "### Group data by PDB chains"
   ]
  },
  {
   "cell_type": "code",
   "execution_count": 25,
   "metadata": {},
   "outputs": [],
   "source": [
    "coverage = coverage.groupby(['pdbId','chainId','pdbChainId','accession']).agg(list).reset_index()"
   ]
  },
  {
   "cell_type": "code",
   "execution_count": 26,
   "metadata": {},
   "outputs": [
    {
     "data": {
      "text/html": [
       "<div>\n",
       "<style scoped>\n",
       "    .dataframe tbody tr th:only-of-type {\n",
       "        vertical-align: middle;\n",
       "    }\n",
       "\n",
       "    .dataframe tbody tr th {\n",
       "        vertical-align: top;\n",
       "    }\n",
       "\n",
       "    .dataframe thead th {\n",
       "        text-align: right;\n",
       "    }\n",
       "</style>\n",
       "<table border=\"1\" class=\"dataframe\">\n",
       "  <thead>\n",
       "    <tr style=\"text-align: right;\">\n",
       "      <th></th>\n",
       "      <th>pdbId</th>\n",
       "      <th>chainId</th>\n",
       "      <th>pdbChainId</th>\n",
       "      <th>accession</th>\n",
       "      <th>seqresStart</th>\n",
       "      <th>seqresEnd</th>\n",
       "      <th>pdbStart</th>\n",
       "      <th>pdbEnd</th>\n",
       "      <th>uniprotStart</th>\n",
       "      <th>uniprotEnd</th>\n",
       "    </tr>\n",
       "  </thead>\n",
       "  <tbody>\n",
       "    <tr>\n",
       "      <th>1250</th>\n",
       "      <td>pdb:7JTL</td>\n",
       "      <td>A</td>\n",
       "      <td>pdb:7JTL.A</td>\n",
       "      <td>uniprot:P0DTC8</td>\n",
       "      <td>[4, 53]</td>\n",
       "      <td>[50, 107]</td>\n",
       "      <td>[18, 67]</td>\n",
       "      <td>[64, 121]</td>\n",
       "      <td>[18, 67]</td>\n",
       "      <td>[64, 121]</td>\n",
       "    </tr>\n",
       "    <tr>\n",
       "      <th>1251</th>\n",
       "      <td>pdb:7JTL</td>\n",
       "      <td>B</td>\n",
       "      <td>pdb:7JTL.B</td>\n",
       "      <td>uniprot:P0DTC8</td>\n",
       "      <td>[5, 55]</td>\n",
       "      <td>[51, 107]</td>\n",
       "      <td>[19, 69]</td>\n",
       "      <td>[65, 121]</td>\n",
       "      <td>[19, 69]</td>\n",
       "      <td>[65, 121]</td>\n",
       "    </tr>\n",
       "    <tr>\n",
       "      <th>1252</th>\n",
       "      <td>pdb:7JU7</td>\n",
       "      <td>A</td>\n",
       "      <td>pdb:7JU7.A</td>\n",
       "      <td>uniprot:P0DTD1</td>\n",
       "      <td>[1]</td>\n",
       "      <td>[304]</td>\n",
       "      <td>[1]</td>\n",
       "      <td>[304]</td>\n",
       "      <td>[3264]</td>\n",
       "      <td>[3567]</td>\n",
       "    </tr>\n",
       "    <tr>\n",
       "      <th>1253</th>\n",
       "      <td>pdb:7JUN</td>\n",
       "      <td>A</td>\n",
       "      <td>pdb:7JUN.A</td>\n",
       "      <td>uniprot:P0DTD1</td>\n",
       "      <td>[1]</td>\n",
       "      <td>[306]</td>\n",
       "      <td>[1]</td>\n",
       "      <td>[306]</td>\n",
       "      <td>[3264]</td>\n",
       "      <td>[3569]</td>\n",
       "    </tr>\n",
       "    <tr>\n",
       "      <th>1254</th>\n",
       "      <td>pdb:7JYC</td>\n",
       "      <td>A</td>\n",
       "      <td>pdb:7JYC.A</td>\n",
       "      <td>uniprot:P0DTD1</td>\n",
       "      <td>[1]</td>\n",
       "      <td>[306]</td>\n",
       "      <td>[1]</td>\n",
       "      <td>[306]</td>\n",
       "      <td>[3264]</td>\n",
       "      <td>[3569]</td>\n",
       "    </tr>\n",
       "  </tbody>\n",
       "</table>\n",
       "</div>"
      ],
      "text/plain": [
       "         pdbId chainId  pdbChainId       accession seqresStart  seqresEnd  \\\n",
       "1250  pdb:7JTL       A  pdb:7JTL.A  uniprot:P0DTC8     [4, 53]  [50, 107]   \n",
       "1251  pdb:7JTL       B  pdb:7JTL.B  uniprot:P0DTC8     [5, 55]  [51, 107]   \n",
       "1252  pdb:7JU7       A  pdb:7JU7.A  uniprot:P0DTD1         [1]      [304]   \n",
       "1253  pdb:7JUN       A  pdb:7JUN.A  uniprot:P0DTD1         [1]      [306]   \n",
       "1254  pdb:7JYC       A  pdb:7JYC.A  uniprot:P0DTD1         [1]      [306]   \n",
       "\n",
       "      pdbStart     pdbEnd uniprotStart uniprotEnd  \n",
       "1250  [18, 67]  [64, 121]     [18, 67]  [64, 121]  \n",
       "1251  [19, 69]  [65, 121]     [19, 69]  [65, 121]  \n",
       "1252       [1]      [304]       [3264]     [3567]  \n",
       "1253       [1]      [306]       [3264]     [3569]  \n",
       "1254       [1]      [306]       [3264]     [3569]  "
      ]
     },
     "execution_count": 26,
     "metadata": {},
     "output_type": "execute_result"
    }
   ],
   "source": [
    "coverage.tail()"
   ]
  },
  {
   "cell_type": "markdown",
   "metadata": {},
   "source": [
    "### Create semicolon separated string of residue numbers so they can be represented in a csv file"
   ]
  },
  {
   "cell_type": "code",
   "execution_count": 27,
   "metadata": {},
   "outputs": [],
   "source": [
    "coverage['uniprotStart'] = coverage['uniprotStart'].apply(lambda x: ';'.join(x))\n",
    "coverage['uniprotEnd'] = coverage['uniprotEnd'].apply(lambda x: ';'.join(x))\n",
    "coverage['seqresStart'] = coverage['seqresStart'].apply(lambda x: ';'.join(x))\n",
    "coverage['seqresEnd'] = coverage['seqresEnd'].apply(lambda x: ';'.join(x))\n",
    "coverage['pdbStart'] = coverage['pdbStart'].apply(lambda x: ';'.join(x))\n",
    "coverage['pdbEnd'] = coverage['pdbEnd'].apply(lambda x: ';'.join(x))"
   ]
  },
  {
   "cell_type": "code",
   "execution_count": 28,
   "metadata": {},
   "outputs": [
    {
     "data": {
      "text/html": [
       "<div>\n",
       "<style scoped>\n",
       "    .dataframe tbody tr th:only-of-type {\n",
       "        vertical-align: middle;\n",
       "    }\n",
       "\n",
       "    .dataframe tbody tr th {\n",
       "        vertical-align: top;\n",
       "    }\n",
       "\n",
       "    .dataframe thead th {\n",
       "        text-align: right;\n",
       "    }\n",
       "</style>\n",
       "<table border=\"1\" class=\"dataframe\">\n",
       "  <thead>\n",
       "    <tr style=\"text-align: right;\">\n",
       "      <th></th>\n",
       "      <th>pdbId</th>\n",
       "      <th>chainId</th>\n",
       "      <th>pdbChainId</th>\n",
       "      <th>accession</th>\n",
       "      <th>seqresStart</th>\n",
       "      <th>seqresEnd</th>\n",
       "      <th>pdbStart</th>\n",
       "      <th>pdbEnd</th>\n",
       "      <th>uniprotStart</th>\n",
       "      <th>uniprotEnd</th>\n",
       "    </tr>\n",
       "  </thead>\n",
       "  <tbody>\n",
       "    <tr>\n",
       "      <th>1250</th>\n",
       "      <td>pdb:7JTL</td>\n",
       "      <td>A</td>\n",
       "      <td>pdb:7JTL.A</td>\n",
       "      <td>uniprot:P0DTC8</td>\n",
       "      <td>4;53</td>\n",
       "      <td>50;107</td>\n",
       "      <td>18;67</td>\n",
       "      <td>64;121</td>\n",
       "      <td>18;67</td>\n",
       "      <td>64;121</td>\n",
       "    </tr>\n",
       "    <tr>\n",
       "      <th>1251</th>\n",
       "      <td>pdb:7JTL</td>\n",
       "      <td>B</td>\n",
       "      <td>pdb:7JTL.B</td>\n",
       "      <td>uniprot:P0DTC8</td>\n",
       "      <td>5;55</td>\n",
       "      <td>51;107</td>\n",
       "      <td>19;69</td>\n",
       "      <td>65;121</td>\n",
       "      <td>19;69</td>\n",
       "      <td>65;121</td>\n",
       "    </tr>\n",
       "    <tr>\n",
       "      <th>1252</th>\n",
       "      <td>pdb:7JU7</td>\n",
       "      <td>A</td>\n",
       "      <td>pdb:7JU7.A</td>\n",
       "      <td>uniprot:P0DTD1</td>\n",
       "      <td>1</td>\n",
       "      <td>304</td>\n",
       "      <td>1</td>\n",
       "      <td>304</td>\n",
       "      <td>3264</td>\n",
       "      <td>3567</td>\n",
       "    </tr>\n",
       "    <tr>\n",
       "      <th>1253</th>\n",
       "      <td>pdb:7JUN</td>\n",
       "      <td>A</td>\n",
       "      <td>pdb:7JUN.A</td>\n",
       "      <td>uniprot:P0DTD1</td>\n",
       "      <td>1</td>\n",
       "      <td>306</td>\n",
       "      <td>1</td>\n",
       "      <td>306</td>\n",
       "      <td>3264</td>\n",
       "      <td>3569</td>\n",
       "    </tr>\n",
       "    <tr>\n",
       "      <th>1254</th>\n",
       "      <td>pdb:7JYC</td>\n",
       "      <td>A</td>\n",
       "      <td>pdb:7JYC.A</td>\n",
       "      <td>uniprot:P0DTD1</td>\n",
       "      <td>1</td>\n",
       "      <td>306</td>\n",
       "      <td>1</td>\n",
       "      <td>306</td>\n",
       "      <td>3264</td>\n",
       "      <td>3569</td>\n",
       "    </tr>\n",
       "  </tbody>\n",
       "</table>\n",
       "</div>"
      ],
      "text/plain": [
       "         pdbId chainId  pdbChainId       accession seqresStart seqresEnd  \\\n",
       "1250  pdb:7JTL       A  pdb:7JTL.A  uniprot:P0DTC8        4;53    50;107   \n",
       "1251  pdb:7JTL       B  pdb:7JTL.B  uniprot:P0DTC8        5;55    51;107   \n",
       "1252  pdb:7JU7       A  pdb:7JU7.A  uniprot:P0DTD1           1       304   \n",
       "1253  pdb:7JUN       A  pdb:7JUN.A  uniprot:P0DTD1           1       306   \n",
       "1254  pdb:7JYC       A  pdb:7JYC.A  uniprot:P0DTD1           1       306   \n",
       "\n",
       "     pdbStart  pdbEnd uniprotStart uniprotEnd  \n",
       "1250    18;67  64;121        18;67     64;121  \n",
       "1251    19;69  65;121        19;69     65;121  \n",
       "1252        1     304         3264       3567  \n",
       "1253        1     306         3264       3569  \n",
       "1254        1     306         3264       3569  "
      ]
     },
     "execution_count": 28,
     "metadata": {},
     "output_type": "execute_result"
    }
   ],
   "source": [
    "coverage.tail()"
   ]
  },
  {
   "cell_type": "code",
   "execution_count": 29,
   "metadata": {},
   "outputs": [],
   "source": [
    "coverage.to_csv(NEO4J_IMPORT / \"01f-PDBChain.csv\", index=False)"
   ]
  }
 ],
 "metadata": {
  "kernelspec": {
   "display_name": "Python 3",
   "language": "python",
   "name": "python3"
  },
  "language_info": {
   "codemirror_mode": {
    "name": "ipython",
    "version": 3
   },
   "file_extension": ".py",
   "mimetype": "text/x-python",
   "name": "python",
   "nbconvert_exporter": "python",
   "pygments_lexer": "ipython3",
   "version": "3.8.5"
  }
 },
 "nbformat": 4,
 "nbformat_minor": 4
}

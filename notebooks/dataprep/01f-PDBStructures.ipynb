{
 "cells": [
  {
   "cell_type": "markdown",
   "metadata": {},
   "source": [
    "# Downloads PDB Structure Information\n",
    "**[Work in progress]**\n",
    "\n",
    "This notebook downloads 3D-structure information for SARS-CoV-2 proteins\n",
    "\n",
    "Data sources: \n",
    "[RCSB Protein Data Bank](https://www.rcsb.org), \n",
    "[PDBe Protein Data Bank Europe](https://www.ebi.ac.uk/pdbe/)\n",
    "\n",
    "Author: Peter Rose (pwrose@ucsd.edu)"
   ]
  },
  {
   "cell_type": "code",
   "execution_count": 19,
   "metadata": {},
   "outputs": [],
   "source": [
    "import os\n",
    "import numpy as np\n",
    "import pandas as pd\n",
    "import requests\n",
    "import json\n",
    "import dateutil\n",
    "from pathlib import Path\n",
    "from py2neo import Graph\n",
    "from rcsbsearch import TextQuery\n",
    "from rcsbsearch import rcsb_attributes as attrs"
   ]
  },
  {
   "cell_type": "code",
   "execution_count": 20,
   "metadata": {},
   "outputs": [],
   "source": [
    "pd.options.display.max_rows = None  # display all rows\n",
    "pd.options.display.max_columns = None  # display all columsns"
   ]
  },
  {
   "cell_type": "code",
   "execution_count": 21,
   "metadata": {},
   "outputs": [
    {
     "name": "stdout",
     "output_type": "stream",
     "text": [
      "/Users/peter/Library/Application Support/Neo4j Desktop/Application/neo4jDatabases/database-328d8379-6ab4-4cc1-a397-2de37909d2e4/installation-4.1.0/import\n"
     ]
    }
   ],
   "source": [
    "NEO4J_IMPORT = Path(os.getenv('NEO4J_IMPORT'))\n",
    "print(NEO4J_IMPORT)"
   ]
  },
  {
   "cell_type": "code",
   "execution_count": 22,
   "metadata": {},
   "outputs": [],
   "source": [
    "taxonomy_id = '2697049'"
   ]
  },
  {
   "cell_type": "markdown",
   "metadata": {},
   "source": [
    "### Find PDB Structures containing SARS-CoV-2 proteins or nucleic acids"
   ]
  },
  {
   "cell_type": "code",
   "execution_count": 23,
   "metadata": {},
   "outputs": [],
   "source": [
    "query = attrs.rcsb_entity_source_organism.taxonomy_lineage.id == taxonomy_id\n",
    "entries = query('entry')\n",
    "df = pd.DataFrame(entries, columns=['pdbId'])"
   ]
  },
  {
   "cell_type": "code",
   "execution_count": 24,
   "metadata": {},
   "outputs": [
    {
     "data": {
      "text/html": [
       "<div>\n",
       "<style scoped>\n",
       "    .dataframe tbody tr th:only-of-type {\n",
       "        vertical-align: middle;\n",
       "    }\n",
       "\n",
       "    .dataframe tbody tr th {\n",
       "        vertical-align: top;\n",
       "    }\n",
       "\n",
       "    .dataframe thead th {\n",
       "        text-align: right;\n",
       "    }\n",
       "</style>\n",
       "<table border=\"1\" class=\"dataframe\">\n",
       "  <thead>\n",
       "    <tr style=\"text-align: right;\">\n",
       "      <th></th>\n",
       "      <th>pdbId</th>\n",
       "    </tr>\n",
       "  </thead>\n",
       "  <tbody>\n",
       "    <tr>\n",
       "      <th>0</th>\n",
       "      <td>5R84</td>\n",
       "    </tr>\n",
       "    <tr>\n",
       "      <th>1</th>\n",
       "      <td>5R83</td>\n",
       "    </tr>\n",
       "    <tr>\n",
       "      <th>2</th>\n",
       "      <td>5R7Y</td>\n",
       "    </tr>\n",
       "    <tr>\n",
       "      <th>3</th>\n",
       "      <td>5R80</td>\n",
       "    </tr>\n",
       "    <tr>\n",
       "      <th>4</th>\n",
       "      <td>5R82</td>\n",
       "    </tr>\n",
       "  </tbody>\n",
       "</table>\n",
       "</div>"
      ],
      "text/plain": [
       "  pdbId\n",
       "0  5R84\n",
       "1  5R83\n",
       "2  5R7Y\n",
       "3  5R80\n",
       "4  5R82"
      ]
     },
     "execution_count": 24,
     "metadata": {},
     "output_type": "execute_result"
    }
   ],
   "source": [
    "df.head()"
   ]
  },
  {
   "cell_type": "code",
   "execution_count": 25,
   "metadata": {},
   "outputs": [
    {
     "name": "stdout",
     "output_type": "stream",
     "text": [
      "Number of structures: 489\n"
     ]
    }
   ],
   "source": [
    "print(\"Number of structures:\", df['pdbId'].shape[0])"
   ]
  },
  {
   "cell_type": "markdown",
   "metadata": {},
   "source": [
    "### Get structure metadata"
   ]
  },
  {
   "cell_type": "code",
   "execution_count": 26,
   "metadata": {},
   "outputs": [],
   "source": [
    "def get_pdb_entry_data(row):\n",
    "    pdb_id = row['pdbId']\n",
    "    \n",
    "    response = json.loads(requests.get(f'http://data.rcsb.org/rest/v1/core/entry/{pdb_id}').text)\n",
    "    \n",
    "    data = np.empty(9, dtype=object)\n",
    "\n",
    "    data[0] = pdb_id\n",
    "    data[1] = response['struct']['title']\n",
    "    data[2] = response['struct'].get('pdbx_descriptor', '')\n",
    "    data[3] = response['rcsb_accession_info']['deposit_date']\n",
    "    data[4] = response['rcsb_accession_info']['initial_release_date']\n",
    "    data[5] = response['pdbx_vrpt_summary'].get('pdbresolution', '')\n",
    "    data[6] = response['pdbx_vrpt_summary'].get('pdbr', '')\n",
    "    data[7] = response['pdbx_vrpt_summary'].get('pdbrfree', '')      \n",
    "    data[8] = response['exptl'][0]['method']\n",
    "    \n",
    "    return data"
   ]
  },
  {
   "cell_type": "code",
   "execution_count": 27,
   "metadata": {},
   "outputs": [],
   "source": [
    "structures = df.apply(get_pdb_entry_data, axis=1, result_type='expand')"
   ]
  },
  {
   "cell_type": "code",
   "execution_count": 28,
   "metadata": {},
   "outputs": [],
   "source": [
    "structures.columns = ['pdbId', 'title', 'description', 'depositDate', 'releaseDate', 'resolution', 'rFactor', 'rFree', 'method']"
   ]
  },
  {
   "cell_type": "code",
   "execution_count": 29,
   "metadata": {},
   "outputs": [],
   "source": [
    "structures['depositDate'] = structures['depositDate'].apply(lambda d: dateutil.parser.parse(d[:10]))\n",
    "structures['releaseDate'] = structures['releaseDate'].apply(lambda d: dateutil.parser.parse(d[:10]))"
   ]
  },
  {
   "cell_type": "code",
   "execution_count": 30,
   "metadata": {},
   "outputs": [],
   "source": [
    "structures['pdbId'] = 'pdb:' + structures['pdbId']"
   ]
  },
  {
   "cell_type": "code",
   "execution_count": 31,
   "metadata": {},
   "outputs": [
    {
     "data": {
      "text/html": [
       "<div>\n",
       "<style scoped>\n",
       "    .dataframe tbody tr th:only-of-type {\n",
       "        vertical-align: middle;\n",
       "    }\n",
       "\n",
       "    .dataframe tbody tr th {\n",
       "        vertical-align: top;\n",
       "    }\n",
       "\n",
       "    .dataframe thead th {\n",
       "        text-align: right;\n",
       "    }\n",
       "</style>\n",
       "<table border=\"1\" class=\"dataframe\">\n",
       "  <thead>\n",
       "    <tr style=\"text-align: right;\">\n",
       "      <th></th>\n",
       "      <th>pdbId</th>\n",
       "      <th>title</th>\n",
       "      <th>description</th>\n",
       "      <th>depositDate</th>\n",
       "      <th>releaseDate</th>\n",
       "      <th>resolution</th>\n",
       "      <th>rFactor</th>\n",
       "      <th>rFree</th>\n",
       "      <th>method</th>\n",
       "    </tr>\n",
       "  </thead>\n",
       "  <tbody>\n",
       "    <tr>\n",
       "      <th>0</th>\n",
       "      <td>pdb:5R84</td>\n",
       "      <td>PanDDA analysis group deposition -- Crystal St...</td>\n",
       "      <td>SARS-CoV-2 main protease</td>\n",
       "      <td>2020-03-03</td>\n",
       "      <td>2020-03-11</td>\n",
       "      <td>1.83</td>\n",
       "      <td>0.22</td>\n",
       "      <td>0.29</td>\n",
       "      <td>X-RAY DIFFRACTION</td>\n",
       "    </tr>\n",
       "    <tr>\n",
       "      <th>1</th>\n",
       "      <td>pdb:5R83</td>\n",
       "      <td>PanDDA analysis group deposition -- Crystal St...</td>\n",
       "      <td>SARS-CoV-2 main protease</td>\n",
       "      <td>2020-03-03</td>\n",
       "      <td>2020-03-11</td>\n",
       "      <td>1.58</td>\n",
       "      <td>0.18</td>\n",
       "      <td>0.21</td>\n",
       "      <td>X-RAY DIFFRACTION</td>\n",
       "    </tr>\n",
       "    <tr>\n",
       "      <th>2</th>\n",
       "      <td>pdb:5R7Y</td>\n",
       "      <td>PanDDA analysis group deposition -- Crystal St...</td>\n",
       "      <td>SARS-CoV-2 main protease</td>\n",
       "      <td>2020-03-03</td>\n",
       "      <td>2020-03-11</td>\n",
       "      <td>1.65</td>\n",
       "      <td>0.18</td>\n",
       "      <td>0.24</td>\n",
       "      <td>X-RAY DIFFRACTION</td>\n",
       "    </tr>\n",
       "    <tr>\n",
       "      <th>3</th>\n",
       "      <td>pdb:5R80</td>\n",
       "      <td>PanDDA analysis group deposition -- Crystal St...</td>\n",
       "      <td>SARS-CoV-2 main protease</td>\n",
       "      <td>2020-03-03</td>\n",
       "      <td>2020-03-11</td>\n",
       "      <td>1.93</td>\n",
       "      <td>0.17</td>\n",
       "      <td>0.23</td>\n",
       "      <td>X-RAY DIFFRACTION</td>\n",
       "    </tr>\n",
       "    <tr>\n",
       "      <th>4</th>\n",
       "      <td>pdb:5R82</td>\n",
       "      <td>PanDDA analysis group deposition -- Crystal St...</td>\n",
       "      <td>SARS-CoV-2 main protease</td>\n",
       "      <td>2020-03-03</td>\n",
       "      <td>2020-03-11</td>\n",
       "      <td>1.31</td>\n",
       "      <td>0.18</td>\n",
       "      <td>0.21</td>\n",
       "      <td>X-RAY DIFFRACTION</td>\n",
       "    </tr>\n",
       "  </tbody>\n",
       "</table>\n",
       "</div>"
      ],
      "text/plain": [
       "      pdbId                                              title  \\\n",
       "0  pdb:5R84  PanDDA analysis group deposition -- Crystal St...   \n",
       "1  pdb:5R83  PanDDA analysis group deposition -- Crystal St...   \n",
       "2  pdb:5R7Y  PanDDA analysis group deposition -- Crystal St...   \n",
       "3  pdb:5R80  PanDDA analysis group deposition -- Crystal St...   \n",
       "4  pdb:5R82  PanDDA analysis group deposition -- Crystal St...   \n",
       "\n",
       "                description depositDate releaseDate resolution rFactor rFree  \\\n",
       "0  SARS-CoV-2 main protease  2020-03-03  2020-03-11       1.83    0.22  0.29   \n",
       "1  SARS-CoV-2 main protease  2020-03-03  2020-03-11       1.58    0.18  0.21   \n",
       "2  SARS-CoV-2 main protease  2020-03-03  2020-03-11       1.65    0.18  0.24   \n",
       "3  SARS-CoV-2 main protease  2020-03-03  2020-03-11       1.93    0.17  0.23   \n",
       "4  SARS-CoV-2 main protease  2020-03-03  2020-03-11       1.31    0.18  0.21   \n",
       "\n",
       "              method  \n",
       "0  X-RAY DIFFRACTION  \n",
       "1  X-RAY DIFFRACTION  \n",
       "2  X-RAY DIFFRACTION  \n",
       "3  X-RAY DIFFRACTION  \n",
       "4  X-RAY DIFFRACTION  "
      ]
     },
     "execution_count": 31,
     "metadata": {},
     "output_type": "execute_result"
    }
   ],
   "source": [
    "structures.head()"
   ]
  },
  {
   "cell_type": "code",
   "execution_count": 32,
   "metadata": {},
   "outputs": [],
   "source": [
    "structures.to_csv(NEO4J_IMPORT / \"01f-PDBStructure.csv\", index=False)"
   ]
  },
  {
   "cell_type": "markdown",
   "metadata": {},
   "source": [
    "### Get PDB Chain - UniProt sequence mappings"
   ]
  },
  {
   "cell_type": "code",
   "execution_count": 15,
   "metadata": {},
   "outputs": [],
   "source": [
    "sifts_url = 'http://ftp.ebi.ac.uk/pub/databases/msd/sifts/flatfiles/tsv/uniprot_segments_observed.tsv.gz'"
   ]
  },
  {
   "cell_type": "code",
   "execution_count": 16,
   "metadata": {},
   "outputs": [
    {
     "data": {
      "text/html": [
       "<div>\n",
       "<style scoped>\n",
       "    .dataframe tbody tr th:only-of-type {\n",
       "        vertical-align: middle;\n",
       "    }\n",
       "\n",
       "    .dataframe tbody tr th {\n",
       "        vertical-align: top;\n",
       "    }\n",
       "\n",
       "    .dataframe thead th {\n",
       "        text-align: right;\n",
       "    }\n",
       "</style>\n",
       "<table border=\"1\" class=\"dataframe\">\n",
       "  <thead>\n",
       "    <tr style=\"text-align: right;\">\n",
       "      <th></th>\n",
       "      <th>PDB</th>\n",
       "      <th>CHAIN</th>\n",
       "      <th>SP_PRIMARY</th>\n",
       "      <th>RES_BEG</th>\n",
       "      <th>RES_END</th>\n",
       "      <th>PDB_BEG</th>\n",
       "      <th>PDB_END</th>\n",
       "      <th>SP_BEG</th>\n",
       "      <th>SP_END</th>\n",
       "    </tr>\n",
       "  </thead>\n",
       "  <tbody>\n",
       "    <tr>\n",
       "      <th>0</th>\n",
       "      <td>113l</td>\n",
       "      <td>A</td>\n",
       "      <td>P00720</td>\n",
       "      <td>1</td>\n",
       "      <td>162</td>\n",
       "      <td>1</td>\n",
       "      <td>162</td>\n",
       "      <td>1</td>\n",
       "      <td>162</td>\n",
       "    </tr>\n",
       "    <tr>\n",
       "      <th>1</th>\n",
       "      <td>105m</td>\n",
       "      <td>A</td>\n",
       "      <td>P02185</td>\n",
       "      <td>1</td>\n",
       "      <td>153</td>\n",
       "      <td>1</td>\n",
       "      <td>153</td>\n",
       "      <td>2</td>\n",
       "      <td>154</td>\n",
       "    </tr>\n",
       "    <tr>\n",
       "      <th>2</th>\n",
       "      <td>120l</td>\n",
       "      <td>A</td>\n",
       "      <td>P00720</td>\n",
       "      <td>1</td>\n",
       "      <td>162</td>\n",
       "      <td>1</td>\n",
       "      <td>162</td>\n",
       "      <td>1</td>\n",
       "      <td>162</td>\n",
       "    </tr>\n",
       "    <tr>\n",
       "      <th>3</th>\n",
       "      <td>123l</td>\n",
       "      <td>A</td>\n",
       "      <td>P00720</td>\n",
       "      <td>1</td>\n",
       "      <td>162</td>\n",
       "      <td>1</td>\n",
       "      <td>162</td>\n",
       "      <td>1</td>\n",
       "      <td>162</td>\n",
       "    </tr>\n",
       "    <tr>\n",
       "      <th>4</th>\n",
       "      <td>128l</td>\n",
       "      <td>A</td>\n",
       "      <td>P00720</td>\n",
       "      <td>1</td>\n",
       "      <td>162</td>\n",
       "      <td>1</td>\n",
       "      <td>162</td>\n",
       "      <td>1</td>\n",
       "      <td>162</td>\n",
       "    </tr>\n",
       "  </tbody>\n",
       "</table>\n",
       "</div>"
      ],
      "text/plain": [
       "    PDB CHAIN SP_PRIMARY RES_BEG RES_END PDB_BEG PDB_END SP_BEG SP_END\n",
       "0  113l     A     P00720       1     162       1     162      1    162\n",
       "1  105m     A     P02185       1     153       1     153      2    154\n",
       "2  120l     A     P00720       1     162       1     162      1    162\n",
       "3  123l     A     P00720       1     162       1     162      1    162\n",
       "4  128l     A     P00720       1     162       1     162      1    162"
      ]
     },
     "execution_count": 16,
     "metadata": {},
     "output_type": "execute_result"
    }
   ],
   "source": [
    "segments = pd.read_csv(sifts_url, sep='\\t', skiprows=1, dtype=str)\n",
    "segments.head()"
   ]
  },
  {
   "cell_type": "code",
   "execution_count": 17,
   "metadata": {},
   "outputs": [],
   "source": [
    "segments.rename(columns={'PDB': 'pdbId', 'CHAIN': 'chainId', 'SP_PRIMARY': 'accession'}, inplace=True)\n",
    "segments.rename(columns={'RES_BEG': 'seqresStart', 'RES_END': 'seqresEnd'}, inplace=True)\n",
    "segments.rename(columns={'PDB_BEG': 'pdbStart', 'PDB_END': 'pdbEnd'}, inplace=True)\n",
    "segments.rename(columns={'SP_BEG': 'uniprotStart', 'SP_END': 'uniprotEnd'}, inplace=True)"
   ]
  },
  {
   "cell_type": "code",
   "execution_count": 18,
   "metadata": {},
   "outputs": [
    {
     "data": {
      "text/html": [
       "<div>\n",
       "<style scoped>\n",
       "    .dataframe tbody tr th:only-of-type {\n",
       "        vertical-align: middle;\n",
       "    }\n",
       "\n",
       "    .dataframe tbody tr th {\n",
       "        vertical-align: top;\n",
       "    }\n",
       "\n",
       "    .dataframe thead th {\n",
       "        text-align: right;\n",
       "    }\n",
       "</style>\n",
       "<table border=\"1\" class=\"dataframe\">\n",
       "  <thead>\n",
       "    <tr style=\"text-align: right;\">\n",
       "      <th></th>\n",
       "      <th>pdbId</th>\n",
       "      <th>chainId</th>\n",
       "      <th>accession</th>\n",
       "      <th>seqresStart</th>\n",
       "      <th>seqresEnd</th>\n",
       "      <th>pdbStart</th>\n",
       "      <th>pdbEnd</th>\n",
       "      <th>uniprotStart</th>\n",
       "      <th>uniprotEnd</th>\n",
       "    </tr>\n",
       "  </thead>\n",
       "  <tbody>\n",
       "    <tr>\n",
       "      <th>0</th>\n",
       "      <td>113l</td>\n",
       "      <td>A</td>\n",
       "      <td>P00720</td>\n",
       "      <td>1</td>\n",
       "      <td>162</td>\n",
       "      <td>1</td>\n",
       "      <td>162</td>\n",
       "      <td>1</td>\n",
       "      <td>162</td>\n",
       "    </tr>\n",
       "    <tr>\n",
       "      <th>1</th>\n",
       "      <td>105m</td>\n",
       "      <td>A</td>\n",
       "      <td>P02185</td>\n",
       "      <td>1</td>\n",
       "      <td>153</td>\n",
       "      <td>1</td>\n",
       "      <td>153</td>\n",
       "      <td>2</td>\n",
       "      <td>154</td>\n",
       "    </tr>\n",
       "    <tr>\n",
       "      <th>2</th>\n",
       "      <td>120l</td>\n",
       "      <td>A</td>\n",
       "      <td>P00720</td>\n",
       "      <td>1</td>\n",
       "      <td>162</td>\n",
       "      <td>1</td>\n",
       "      <td>162</td>\n",
       "      <td>1</td>\n",
       "      <td>162</td>\n",
       "    </tr>\n",
       "    <tr>\n",
       "      <th>3</th>\n",
       "      <td>123l</td>\n",
       "      <td>A</td>\n",
       "      <td>P00720</td>\n",
       "      <td>1</td>\n",
       "      <td>162</td>\n",
       "      <td>1</td>\n",
       "      <td>162</td>\n",
       "      <td>1</td>\n",
       "      <td>162</td>\n",
       "    </tr>\n",
       "    <tr>\n",
       "      <th>4</th>\n",
       "      <td>128l</td>\n",
       "      <td>A</td>\n",
       "      <td>P00720</td>\n",
       "      <td>1</td>\n",
       "      <td>162</td>\n",
       "      <td>1</td>\n",
       "      <td>162</td>\n",
       "      <td>1</td>\n",
       "      <td>162</td>\n",
       "    </tr>\n",
       "  </tbody>\n",
       "</table>\n",
       "</div>"
      ],
      "text/plain": [
       "  pdbId chainId accession seqresStart seqresEnd pdbStart pdbEnd uniprotStart  \\\n",
       "0  113l       A    P00720           1       162        1    162            1   \n",
       "1  105m       A    P02185           1       153        1    153            2   \n",
       "2  120l       A    P00720           1       162        1    162            1   \n",
       "3  123l       A    P00720           1       162        1    162            1   \n",
       "4  128l       A    P00720           1       162        1    162            1   \n",
       "\n",
       "  uniprotEnd  \n",
       "0        162  \n",
       "1        154  \n",
       "2        162  \n",
       "3        162  \n",
       "4        162  "
      ]
     },
     "execution_count": 18,
     "metadata": {},
     "output_type": "execute_result"
    }
   ],
   "source": [
    "segments.head()"
   ]
  },
  {
   "cell_type": "code",
   "execution_count": 19,
   "metadata": {},
   "outputs": [],
   "source": [
    "segments['pdbId'] = segments['pdbId'].str.upper()"
   ]
  },
  {
   "cell_type": "code",
   "execution_count": 20,
   "metadata": {},
   "outputs": [],
   "source": [
    "segments['pdbChainId'] = segments['pdbId'] + \".\" + segments['chainId']"
   ]
  },
  {
   "cell_type": "code",
   "execution_count": 21,
   "metadata": {},
   "outputs": [],
   "source": [
    "coverage = segments.merge(df, on='pdbId')"
   ]
  },
  {
   "cell_type": "markdown",
   "metadata": {},
   "source": [
    "### Sort segments by uniprot residue number"
   ]
  },
  {
   "cell_type": "code",
   "execution_count": 22,
   "metadata": {},
   "outputs": [],
   "source": [
    "coverage['uniprotStart'] = coverage['uniprotStart'].astype(int)\n",
    "coverage['uniprotEnd'] = coverage['uniprotEnd'].astype(int)\n",
    "coverage['length'] = coverage['uniprotEnd'] - coverage['uniprotStart'] + 1\n",
    "coverage.sort_values(by='uniprotStart', inplace=True)\n",
    "coverage['uniprotStart'] = coverage['uniprotStart'].astype(str)\n",
    "coverage['uniprotEnd'] = coverage['uniprotEnd'].astype(str)"
   ]
  },
  {
   "cell_type": "markdown",
   "metadata": {},
   "source": [
    "### Assign CURIES"
   ]
  },
  {
   "cell_type": "code",
   "execution_count": 23,
   "metadata": {},
   "outputs": [],
   "source": [
    "coverage['accession'] = 'uniprot:' + coverage['accession']\n",
    "coverage['pdbId'] = 'pdb:' + coverage['pdbId']\n",
    "coverage['pdbChainId'] = 'pdb:' + coverage['pdbChainId']"
   ]
  },
  {
   "cell_type": "code",
   "execution_count": 24,
   "metadata": {},
   "outputs": [
    {
     "data": {
      "text/html": [
       "<div>\n",
       "<style scoped>\n",
       "    .dataframe tbody tr th:only-of-type {\n",
       "        vertical-align: middle;\n",
       "    }\n",
       "\n",
       "    .dataframe tbody tr th {\n",
       "        vertical-align: top;\n",
       "    }\n",
       "\n",
       "    .dataframe thead th {\n",
       "        text-align: right;\n",
       "    }\n",
       "</style>\n",
       "<table border=\"1\" class=\"dataframe\">\n",
       "  <thead>\n",
       "    <tr style=\"text-align: right;\">\n",
       "      <th></th>\n",
       "      <th>pdbId</th>\n",
       "      <th>chainId</th>\n",
       "      <th>accession</th>\n",
       "      <th>seqresStart</th>\n",
       "      <th>seqresEnd</th>\n",
       "      <th>pdbStart</th>\n",
       "      <th>pdbEnd</th>\n",
       "      <th>uniprotStart</th>\n",
       "      <th>uniprotEnd</th>\n",
       "      <th>pdbChainId</th>\n",
       "      <th>length</th>\n",
       "    </tr>\n",
       "  </thead>\n",
       "  <tbody>\n",
       "    <tr>\n",
       "      <th>796</th>\n",
       "      <td>pdb:6ZM7</td>\n",
       "      <td>LH</td>\n",
       "      <td>uniprot:P32969</td>\n",
       "      <td>1</td>\n",
       "      <td>190</td>\n",
       "      <td>1</td>\n",
       "      <td>190</td>\n",
       "      <td>1</td>\n",
       "      <td>190</td>\n",
       "      <td>pdb:6ZM7.LH</td>\n",
       "      <td>190</td>\n",
       "    </tr>\n",
       "    <tr>\n",
       "      <th>829</th>\n",
       "      <td>pdb:6ZM7</td>\n",
       "      <td>Ln</td>\n",
       "      <td>uniprot:P62945</td>\n",
       "      <td>1</td>\n",
       "      <td>24</td>\n",
       "      <td>1</td>\n",
       "      <td>24</td>\n",
       "      <td>1</td>\n",
       "      <td>24</td>\n",
       "      <td>pdb:6ZM7.Ln</td>\n",
       "      <td>24</td>\n",
       "    </tr>\n",
       "    <tr>\n",
       "      <th>198</th>\n",
       "      <td>pdb:6ZME</td>\n",
       "      <td>SK</td>\n",
       "      <td>uniprot:P46783</td>\n",
       "      <td>1</td>\n",
       "      <td>98</td>\n",
       "      <td>1</td>\n",
       "      <td>98</td>\n",
       "      <td>1</td>\n",
       "      <td>98</td>\n",
       "      <td>pdb:6ZME.SK</td>\n",
       "      <td>98</td>\n",
       "    </tr>\n",
       "    <tr>\n",
       "      <th>178</th>\n",
       "      <td>pdb:6ZME</td>\n",
       "      <td>Ln</td>\n",
       "      <td>uniprot:P62945</td>\n",
       "      <td>1</td>\n",
       "      <td>24</td>\n",
       "      <td>1</td>\n",
       "      <td>24</td>\n",
       "      <td>1</td>\n",
       "      <td>24</td>\n",
       "      <td>pdb:6ZME.Ln</td>\n",
       "      <td>24</td>\n",
       "    </tr>\n",
       "    <tr>\n",
       "      <th>162</th>\n",
       "      <td>pdb:6ZME</td>\n",
       "      <td>LY</td>\n",
       "      <td>uniprot:P61254</td>\n",
       "      <td>1</td>\n",
       "      <td>134</td>\n",
       "      <td>1</td>\n",
       "      <td>134</td>\n",
       "      <td>1</td>\n",
       "      <td>134</td>\n",
       "      <td>pdb:6ZME.LY</td>\n",
       "      <td>134</td>\n",
       "    </tr>\n",
       "  </tbody>\n",
       "</table>\n",
       "</div>"
      ],
      "text/plain": [
       "        pdbId chainId       accession seqresStart seqresEnd pdbStart pdbEnd  \\\n",
       "796  pdb:6ZM7      LH  uniprot:P32969           1       190        1    190   \n",
       "829  pdb:6ZM7      Ln  uniprot:P62945           1        24        1     24   \n",
       "198  pdb:6ZME      SK  uniprot:P46783           1        98        1     98   \n",
       "178  pdb:6ZME      Ln  uniprot:P62945           1        24        1     24   \n",
       "162  pdb:6ZME      LY  uniprot:P61254           1       134        1    134   \n",
       "\n",
       "    uniprotStart uniprotEnd   pdbChainId  length  \n",
       "796            1        190  pdb:6ZM7.LH     190  \n",
       "829            1         24  pdb:6ZM7.Ln      24  \n",
       "198            1         98  pdb:6ZME.SK      98  \n",
       "178            1         24  pdb:6ZME.Ln      24  \n",
       "162            1        134  pdb:6ZME.LY     134  "
      ]
     },
     "execution_count": 24,
     "metadata": {},
     "output_type": "execute_result"
    }
   ],
   "source": [
    "coverage.head()"
   ]
  },
  {
   "cell_type": "markdown",
   "metadata": {},
   "source": [
    "### Group data by PDB chains"
   ]
  },
  {
   "cell_type": "code",
   "execution_count": 25,
   "metadata": {},
   "outputs": [],
   "source": [
    "coverage = coverage.groupby(['pdbId','chainId','pdbChainId','accession']).agg(list).reset_index()"
   ]
  },
  {
   "cell_type": "code",
   "execution_count": 26,
   "metadata": {},
   "outputs": [
    {
     "data": {
      "text/html": [
       "<div>\n",
       "<style scoped>\n",
       "    .dataframe tbody tr th:only-of-type {\n",
       "        vertical-align: middle;\n",
       "    }\n",
       "\n",
       "    .dataframe tbody tr th {\n",
       "        vertical-align: top;\n",
       "    }\n",
       "\n",
       "    .dataframe thead th {\n",
       "        text-align: right;\n",
       "    }\n",
       "</style>\n",
       "<table border=\"1\" class=\"dataframe\">\n",
       "  <thead>\n",
       "    <tr style=\"text-align: right;\">\n",
       "      <th></th>\n",
       "      <th>pdbId</th>\n",
       "      <th>chainId</th>\n",
       "      <th>pdbChainId</th>\n",
       "      <th>accession</th>\n",
       "      <th>seqresStart</th>\n",
       "      <th>seqresEnd</th>\n",
       "      <th>pdbStart</th>\n",
       "      <th>pdbEnd</th>\n",
       "      <th>uniprotStart</th>\n",
       "      <th>uniprotEnd</th>\n",
       "      <th>length</th>\n",
       "    </tr>\n",
       "  </thead>\n",
       "  <tbody>\n",
       "    <tr>\n",
       "      <th>371</th>\n",
       "      <td>pdb:7JZ0</td>\n",
       "      <td>D</td>\n",
       "      <td>pdb:7JZ0.D</td>\n",
       "      <td>uniprot:P0DTD1</td>\n",
       "      <td>[20]</td>\n",
       "      <td>[134]</td>\n",
       "      <td>[4271]</td>\n",
       "      <td>[4385]</td>\n",
       "      <td>[4271]</td>\n",
       "      <td>[4385]</td>\n",
       "      <td>[115]</td>\n",
       "    </tr>\n",
       "    <tr>\n",
       "      <th>372</th>\n",
       "      <td>pdb:7JZU</td>\n",
       "      <td>B</td>\n",
       "      <td>pdb:7JZU.B</td>\n",
       "      <td>uniprot:P0DTC2</td>\n",
       "      <td>[334]</td>\n",
       "      <td>[526]</td>\n",
       "      <td>[334]</td>\n",
       "      <td>[526]</td>\n",
       "      <td>[334]</td>\n",
       "      <td>[526]</td>\n",
       "      <td>[193]</td>\n",
       "    </tr>\n",
       "    <tr>\n",
       "      <th>373</th>\n",
       "      <td>pdb:7K1O</td>\n",
       "      <td>A</td>\n",
       "      <td>pdb:7K1O.A</td>\n",
       "      <td>uniprot:P0DTD1</td>\n",
       "      <td>[25]</td>\n",
       "      <td>[369]</td>\n",
       "      <td>[2]</td>\n",
       "      <td>[346]</td>\n",
       "      <td>[6453]</td>\n",
       "      <td>[6797]</td>\n",
       "      <td>[345]</td>\n",
       "    </tr>\n",
       "    <tr>\n",
       "      <th>374</th>\n",
       "      <td>pdb:7K1O</td>\n",
       "      <td>B</td>\n",
       "      <td>pdb:7K1O.B</td>\n",
       "      <td>uniprot:P0DTD1</td>\n",
       "      <td>[25]</td>\n",
       "      <td>[369]</td>\n",
       "      <td>[2]</td>\n",
       "      <td>[346]</td>\n",
       "      <td>[6453]</td>\n",
       "      <td>[6797]</td>\n",
       "      <td>[345]</td>\n",
       "    </tr>\n",
       "    <tr>\n",
       "      <th>375</th>\n",
       "      <td>pdb:7K1O</td>\n",
       "      <td>C</td>\n",
       "      <td>pdb:7K1O.C</td>\n",
       "      <td>uniprot:P0DTD1</td>\n",
       "      <td>[25]</td>\n",
       "      <td>[369]</td>\n",
       "      <td>[2]</td>\n",
       "      <td>[346]</td>\n",
       "      <td>[6453]</td>\n",
       "      <td>[6797]</td>\n",
       "      <td>[345]</td>\n",
       "    </tr>\n",
       "  </tbody>\n",
       "</table>\n",
       "</div>"
      ],
      "text/plain": [
       "        pdbId chainId  pdbChainId       accession seqresStart seqresEnd  \\\n",
       "371  pdb:7JZ0       D  pdb:7JZ0.D  uniprot:P0DTD1        [20]     [134]   \n",
       "372  pdb:7JZU       B  pdb:7JZU.B  uniprot:P0DTC2       [334]     [526]   \n",
       "373  pdb:7K1O       A  pdb:7K1O.A  uniprot:P0DTD1        [25]     [369]   \n",
       "374  pdb:7K1O       B  pdb:7K1O.B  uniprot:P0DTD1        [25]     [369]   \n",
       "375  pdb:7K1O       C  pdb:7K1O.C  uniprot:P0DTD1        [25]     [369]   \n",
       "\n",
       "    pdbStart  pdbEnd uniprotStart uniprotEnd length  \n",
       "371   [4271]  [4385]       [4271]     [4385]  [115]  \n",
       "372    [334]   [526]        [334]      [526]  [193]  \n",
       "373      [2]   [346]       [6453]     [6797]  [345]  \n",
       "374      [2]   [346]       [6453]     [6797]  [345]  \n",
       "375      [2]   [346]       [6453]     [6797]  [345]  "
      ]
     },
     "execution_count": 26,
     "metadata": {},
     "output_type": "execute_result"
    }
   ],
   "source": [
    "coverage.tail()"
   ]
  },
  {
   "cell_type": "markdown",
   "metadata": {},
   "source": [
    "### Create semicolon separated string of residue numbers so they can be represented in a csv file"
   ]
  },
  {
   "cell_type": "code",
   "execution_count": 27,
   "metadata": {},
   "outputs": [],
   "source": [
    "coverage['uniprotStart'] = coverage['uniprotStart'].apply(lambda x: ';'.join(x))\n",
    "coverage['uniprotEnd'] = coverage['uniprotEnd'].apply(lambda x: ';'.join(x))\n",
    "coverage['seqresStart'] = coverage['seqresStart'].apply(lambda x: ';'.join(x))\n",
    "coverage['seqresEnd'] = coverage['seqresEnd'].apply(lambda x: ';'.join(x))\n",
    "coverage['pdbStart'] = coverage['pdbStart'].apply(lambda x: ';'.join(x))\n",
    "coverage['pdbEnd'] = coverage['pdbEnd'].apply(lambda x: ';'.join(x))"
   ]
  },
  {
   "cell_type": "code",
   "execution_count": 28,
   "metadata": {},
   "outputs": [],
   "source": [
    "coverage['residues'] = coverage['length'].apply(lambda x: sum(x))"
   ]
  },
  {
   "cell_type": "code",
   "execution_count": 29,
   "metadata": {},
   "outputs": [
    {
     "data": {
      "text/html": [
       "<div>\n",
       "<style scoped>\n",
       "    .dataframe tbody tr th:only-of-type {\n",
       "        vertical-align: middle;\n",
       "    }\n",
       "\n",
       "    .dataframe tbody tr th {\n",
       "        vertical-align: top;\n",
       "    }\n",
       "\n",
       "    .dataframe thead th {\n",
       "        text-align: right;\n",
       "    }\n",
       "</style>\n",
       "<table border=\"1\" class=\"dataframe\">\n",
       "  <thead>\n",
       "    <tr style=\"text-align: right;\">\n",
       "      <th></th>\n",
       "      <th>pdbId</th>\n",
       "      <th>chainId</th>\n",
       "      <th>pdbChainId</th>\n",
       "      <th>accession</th>\n",
       "      <th>seqresStart</th>\n",
       "      <th>seqresEnd</th>\n",
       "      <th>pdbStart</th>\n",
       "      <th>pdbEnd</th>\n",
       "      <th>uniprotStart</th>\n",
       "      <th>uniprotEnd</th>\n",
       "      <th>length</th>\n",
       "      <th>residues</th>\n",
       "    </tr>\n",
       "  </thead>\n",
       "  <tbody>\n",
       "    <tr>\n",
       "      <th>371</th>\n",
       "      <td>pdb:7JZ0</td>\n",
       "      <td>D</td>\n",
       "      <td>pdb:7JZ0.D</td>\n",
       "      <td>uniprot:P0DTD1</td>\n",
       "      <td>20</td>\n",
       "      <td>134</td>\n",
       "      <td>4271</td>\n",
       "      <td>4385</td>\n",
       "      <td>4271</td>\n",
       "      <td>4385</td>\n",
       "      <td>[115]</td>\n",
       "      <td>115</td>\n",
       "    </tr>\n",
       "    <tr>\n",
       "      <th>372</th>\n",
       "      <td>pdb:7JZU</td>\n",
       "      <td>B</td>\n",
       "      <td>pdb:7JZU.B</td>\n",
       "      <td>uniprot:P0DTC2</td>\n",
       "      <td>334</td>\n",
       "      <td>526</td>\n",
       "      <td>334</td>\n",
       "      <td>526</td>\n",
       "      <td>334</td>\n",
       "      <td>526</td>\n",
       "      <td>[193]</td>\n",
       "      <td>193</td>\n",
       "    </tr>\n",
       "    <tr>\n",
       "      <th>373</th>\n",
       "      <td>pdb:7K1O</td>\n",
       "      <td>A</td>\n",
       "      <td>pdb:7K1O.A</td>\n",
       "      <td>uniprot:P0DTD1</td>\n",
       "      <td>25</td>\n",
       "      <td>369</td>\n",
       "      <td>2</td>\n",
       "      <td>346</td>\n",
       "      <td>6453</td>\n",
       "      <td>6797</td>\n",
       "      <td>[345]</td>\n",
       "      <td>345</td>\n",
       "    </tr>\n",
       "    <tr>\n",
       "      <th>374</th>\n",
       "      <td>pdb:7K1O</td>\n",
       "      <td>B</td>\n",
       "      <td>pdb:7K1O.B</td>\n",
       "      <td>uniprot:P0DTD1</td>\n",
       "      <td>25</td>\n",
       "      <td>369</td>\n",
       "      <td>2</td>\n",
       "      <td>346</td>\n",
       "      <td>6453</td>\n",
       "      <td>6797</td>\n",
       "      <td>[345]</td>\n",
       "      <td>345</td>\n",
       "    </tr>\n",
       "    <tr>\n",
       "      <th>375</th>\n",
       "      <td>pdb:7K1O</td>\n",
       "      <td>C</td>\n",
       "      <td>pdb:7K1O.C</td>\n",
       "      <td>uniprot:P0DTD1</td>\n",
       "      <td>25</td>\n",
       "      <td>369</td>\n",
       "      <td>2</td>\n",
       "      <td>346</td>\n",
       "      <td>6453</td>\n",
       "      <td>6797</td>\n",
       "      <td>[345]</td>\n",
       "      <td>345</td>\n",
       "    </tr>\n",
       "  </tbody>\n",
       "</table>\n",
       "</div>"
      ],
      "text/plain": [
       "        pdbId chainId  pdbChainId       accession seqresStart seqresEnd  \\\n",
       "371  pdb:7JZ0       D  pdb:7JZ0.D  uniprot:P0DTD1          20       134   \n",
       "372  pdb:7JZU       B  pdb:7JZU.B  uniprot:P0DTC2         334       526   \n",
       "373  pdb:7K1O       A  pdb:7K1O.A  uniprot:P0DTD1          25       369   \n",
       "374  pdb:7K1O       B  pdb:7K1O.B  uniprot:P0DTD1          25       369   \n",
       "375  pdb:7K1O       C  pdb:7K1O.C  uniprot:P0DTD1          25       369   \n",
       "\n",
       "    pdbStart pdbEnd uniprotStart uniprotEnd length  residues  \n",
       "371     4271   4385         4271       4385  [115]       115  \n",
       "372      334    526          334        526  [193]       193  \n",
       "373        2    346         6453       6797  [345]       345  \n",
       "374        2    346         6453       6797  [345]       345  \n",
       "375        2    346         6453       6797  [345]       345  "
      ]
     },
     "execution_count": 29,
     "metadata": {},
     "output_type": "execute_result"
    }
   ],
   "source": [
    "coverage.tail()"
   ]
  },
  {
   "cell_type": "code",
   "execution_count": 30,
   "metadata": {},
   "outputs": [],
   "source": [
    "coverage.to_csv(NEO4J_IMPORT / \"01f-PDBChain.csv\", index=False)"
   ]
  }
 ],
 "metadata": {
  "kernelspec": {
   "display_name": "Python 3",
   "language": "python",
   "name": "python3"
  },
  "language_info": {
   "codemirror_mode": {
    "name": "ipython",
    "version": 3
   },
   "file_extension": ".py",
   "mimetype": "text/x-python",
   "name": "python",
   "nbconvert_exporter": "python",
   "pygments_lexer": "ipython3",
   "version": "3.7.8"
  }
 },
 "nbformat": 4,
 "nbformat_minor": 4
}

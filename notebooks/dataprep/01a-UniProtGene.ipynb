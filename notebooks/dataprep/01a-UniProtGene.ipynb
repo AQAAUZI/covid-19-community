{
 "cells": [
  {
   "cell_type": "markdown",
   "metadata": {},
   "source": [
    "# UniProt Gene to Protein Mappings\n",
    "**[Work in progress]**\n",
    "\n",
    "This notebook downloads and standardizes Chromosome and Gene information for viral and human proteins for ingestion into the Knowledge Graph.\n",
    "\n",
    "Data source: [UniProt](https://www.uniprot.org/)\n",
    "\n",
    "Authors: Peter Rose (pwrose@ucsd.edu)"
   ]
  },
  {
   "cell_type": "code",
   "execution_count": 1,
   "metadata": {},
   "outputs": [],
   "source": [
    "import os\n",
    "import re\n",
    "import hashlib \n",
    "import urllib\n",
    "\n",
    "import pandas as pd\n",
    "import numpy as np\n",
    "\n",
    "from pathlib import Path\n",
    "from Bio import SeqIO\n",
    "\n",
    "\n",
    "pd.options.display.max_rows = None  # display all rows\n",
    "pd.options.display.max_columns = None  # display all columsns"
   ]
  },
  {
   "cell_type": "code",
   "execution_count": 2,
   "metadata": {},
   "outputs": [
    {
     "name": "stdout",
     "output_type": "stream",
     "text": [
      "/Users/peter/Library/Application Support/com.Neo4j.Relate/data/dbmss/dbms-8bf637fc-0d20-4d9f-9c6f-f7e72e92a4da/import\n"
     ]
    }
   ],
   "source": [
    "NEO4J_IMPORT = Path(os.getenv('NEO4J_IMPORT'))\n",
    "print(NEO4J_IMPORT)"
   ]
  },
  {
   "cell_type": "markdown",
   "metadata": {},
   "source": [
    "### Get list of organisms to be processed"
   ]
  },
  {
   "cell_type": "code",
   "execution_count": 3,
   "metadata": {},
   "outputs": [],
   "source": [
    "genomes = pd.read_csv(\"../../reference_data/Genome.csv\", dtype=str)"
   ]
  },
  {
   "cell_type": "code",
   "execution_count": 4,
   "metadata": {},
   "outputs": [],
   "source": [
    "genomes['taxonomy'] = genomes['taxonomyId'].apply(lambda x: x.split(':')[1])"
   ]
  },
  {
   "cell_type": "markdown",
   "metadata": {},
   "source": [
    "### Download data from UniProt using web services\n",
    "https://www.uniprot.org/help/uniprotkb_column_names"
   ]
  },
  {
   "cell_type": "code",
   "execution_count": 5,
   "metadata": {},
   "outputs": [],
   "source": [
    "columns = 'id,genes,sequence,proteome,organism-id'"
   ]
  },
  {
   "cell_type": "code",
   "execution_count": 6,
   "metadata": {},
   "outputs": [],
   "source": [
    "urls = [f'https://www.uniprot.org/uniprot/?query=organism:{taxon}+AND+reviewed:yes&columns={columns}&format=tab'\n",
    "        for taxon in genomes['taxonomy'].unique()]"
   ]
  },
  {
   "cell_type": "code",
   "execution_count": 7,
   "metadata": {},
   "outputs": [
    {
     "name": "stdout",
     "output_type": "stream",
     "text": [
      "['https://www.uniprot.org/uniprot/?query=organism:2697049+AND+reviewed:yes&columns=id,genes,sequence,proteome,organism-id&format=tab', 'https://www.uniprot.org/uniprot/?query=organism:1263720+AND+reviewed:yes&columns=id,genes,sequence,proteome,organism-id&format=tab', 'https://www.uniprot.org/uniprot/?query=organism:694009+AND+reviewed:yes&columns=id,genes,sequence,proteome,organism-id&format=tab', 'https://www.uniprot.org/uniprot/?query=organism:443239+AND+reviewed:yes&columns=id,genes,sequence,proteome,organism-id&format=tab', 'https://www.uniprot.org/uniprot/?query=organism:31631+AND+reviewed:yes&columns=id,genes,sequence,proteome,organism-id&format=tab', 'https://www.uniprot.org/uniprot/?query=organism:11137+AND+reviewed:yes&columns=id,genes,sequence,proteome,organism-id&format=tab', 'https://www.uniprot.org/uniprot/?query=organism:277944+AND+reviewed:yes&columns=id,genes,sequence,proteome,organism-id&format=tab', 'https://www.uniprot.org/uniprot/?query=organism:9606+AND+reviewed:yes&columns=id,genes,sequence,proteome,organism-id&format=tab']\n"
     ]
    }
   ],
   "source": [
    "print(urls)"
   ]
  },
  {
   "cell_type": "code",
   "execution_count": 8,
   "metadata": {},
   "outputs": [],
   "source": [
    "unp = pd.concat((pd.read_csv(url, sep='\\t', dtype='str') for url in urls))"
   ]
  },
  {
   "cell_type": "code",
   "execution_count": 9,
   "metadata": {},
   "outputs": [],
   "source": [
    "unp.reset_index(drop=True,inplace=True)"
   ]
  },
  {
   "cell_type": "markdown",
   "metadata": {},
   "source": [
    "### Standardize data"
   ]
  },
  {
   "cell_type": "code",
   "execution_count": 10,
   "metadata": {},
   "outputs": [],
   "source": [
    "unp.fillna('', inplace=True)"
   ]
  },
  {
   "cell_type": "markdown",
   "metadata": {},
   "source": [
    "Add missing gene name for UniProt entry P0DTC7\n",
    "I've filed an issue about the missing gene name to the UniProt help desk."
   ]
  },
  {
   "cell_type": "code",
   "execution_count": 11,
   "metadata": {},
   "outputs": [],
   "source": [
    "index = unp.query(\"Entry == 'P0DTC1'\").index.values[0]\n",
    "unp.at[index, 'Gene names'] = '1a'"
   ]
  },
  {
   "cell_type": "code",
   "execution_count": 12,
   "metadata": {},
   "outputs": [
    {
     "name": "stdout",
     "output_type": "stream",
     "text": [
      "(20457, 5)\n"
     ]
    }
   ],
   "source": [
    "print(unp.shape)"
   ]
  },
  {
   "cell_type": "code",
   "execution_count": 13,
   "metadata": {},
   "outputs": [],
   "source": [
    "unp['proteome'] = unp['Proteomes'].apply(lambda r: r.split(','))"
   ]
  },
  {
   "cell_type": "code",
   "execution_count": 14,
   "metadata": {},
   "outputs": [],
   "source": [
    "unp = unp.explode('proteome')"
   ]
  },
  {
   "cell_type": "code",
   "execution_count": 15,
   "metadata": {},
   "outputs": [],
   "source": [
    "unp[['proteome', 'chromosome']] = unp['proteome'].str.split(':', expand=True)"
   ]
  },
  {
   "cell_type": "code",
   "execution_count": 16,
   "metadata": {},
   "outputs": [
    {
     "data": {
      "text/html": [
       "<div>\n",
       "<style scoped>\n",
       "    .dataframe tbody tr th:only-of-type {\n",
       "        vertical-align: middle;\n",
       "    }\n",
       "\n",
       "    .dataframe tbody tr th {\n",
       "        vertical-align: top;\n",
       "    }\n",
       "\n",
       "    .dataframe thead th {\n",
       "        text-align: right;\n",
       "    }\n",
       "</style>\n",
       "<table border=\"1\" class=\"dataframe\">\n",
       "  <thead>\n",
       "    <tr style=\"text-align: right;\">\n",
       "      <th></th>\n",
       "      <th>Entry</th>\n",
       "      <th>Gene names</th>\n",
       "      <th>Sequence</th>\n",
       "      <th>Proteomes</th>\n",
       "      <th>Organism ID</th>\n",
       "      <th>proteome</th>\n",
       "      <th>chromosome</th>\n",
       "    </tr>\n",
       "  </thead>\n",
       "  <tbody>\n",
       "    <tr>\n",
       "      <th>0</th>\n",
       "      <td>P0DTD1</td>\n",
       "      <td>rep 1a-1b</td>\n",
       "      <td>MESLVPGFNEKTHVQLSLPVLQVRDVLVRGFGDSVEEVLSEARQHL...</td>\n",
       "      <td>UP000464024: Genome</td>\n",
       "      <td>2697049</td>\n",
       "      <td>UP000464024</td>\n",
       "      <td>Genome</td>\n",
       "    </tr>\n",
       "    <tr>\n",
       "      <th>1</th>\n",
       "      <td>P0DTC7</td>\n",
       "      <td>7a</td>\n",
       "      <td>MKIILFLALITLATCELYHYQECVRGTTVLLKEPCSSGTYEGNSPF...</td>\n",
       "      <td>UP000464024: Genome</td>\n",
       "      <td>2697049</td>\n",
       "      <td>UP000464024</td>\n",
       "      <td>Genome</td>\n",
       "    </tr>\n",
       "    <tr>\n",
       "      <th>2</th>\n",
       "      <td>P0DTD2</td>\n",
       "      <td>9b</td>\n",
       "      <td>MDPKISEMHPALRLVDPQIQLAVTRMENAVGRDQNNVGPKVYPIIL...</td>\n",
       "      <td>UP000464024: Genome</td>\n",
       "      <td>2697049</td>\n",
       "      <td>UP000464024</td>\n",
       "      <td>Genome</td>\n",
       "    </tr>\n",
       "    <tr>\n",
       "      <th>3</th>\n",
       "      <td>P0DTC9</td>\n",
       "      <td>N</td>\n",
       "      <td>MSDNGPQNQRNAPRITFGGPSDSTGSNQNGERSGARSKQRRPQGLP...</td>\n",
       "      <td>UP000464024: Genome</td>\n",
       "      <td>2697049</td>\n",
       "      <td>UP000464024</td>\n",
       "      <td>Genome</td>\n",
       "    </tr>\n",
       "    <tr>\n",
       "      <th>4</th>\n",
       "      <td>P0DTC3</td>\n",
       "      <td>3a</td>\n",
       "      <td>MDLFMRIFTIGTVTLKQGEIKDATPSDFVRATATIPIQASLPFGWL...</td>\n",
       "      <td>UP000464024: Genome</td>\n",
       "      <td>2697049</td>\n",
       "      <td>UP000464024</td>\n",
       "      <td>Genome</td>\n",
       "    </tr>\n",
       "  </tbody>\n",
       "</table>\n",
       "</div>"
      ],
      "text/plain": [
       "    Entry Gene names                                           Sequence  \\\n",
       "0  P0DTD1  rep 1a-1b  MESLVPGFNEKTHVQLSLPVLQVRDVLVRGFGDSVEEVLSEARQHL...   \n",
       "1  P0DTC7         7a  MKIILFLALITLATCELYHYQECVRGTTVLLKEPCSSGTYEGNSPF...   \n",
       "2  P0DTD2         9b  MDPKISEMHPALRLVDPQIQLAVTRMENAVGRDQNNVGPKVYPIIL...   \n",
       "3  P0DTC9          N  MSDNGPQNQRNAPRITFGGPSDSTGSNQNGERSGARSKQRRPQGLP...   \n",
       "4  P0DTC3         3a  MDLFMRIFTIGTVTLKQGEIKDATPSDFVRATATIPIQASLPFGWL...   \n",
       "\n",
       "             Proteomes Organism ID     proteome chromosome  \n",
       "0  UP000464024: Genome     2697049  UP000464024     Genome  \n",
       "1  UP000464024: Genome     2697049  UP000464024     Genome  \n",
       "2  UP000464024: Genome     2697049  UP000464024     Genome  \n",
       "3  UP000464024: Genome     2697049  UP000464024     Genome  \n",
       "4  UP000464024: Genome     2697049  UP000464024     Genome  "
      ]
     },
     "execution_count": 16,
     "metadata": {},
     "output_type": "execute_result"
    }
   ],
   "source": [
    "unp.head()"
   ]
  },
  {
   "cell_type": "code",
   "execution_count": 17,
   "metadata": {},
   "outputs": [],
   "source": [
    "unp.fillna('', inplace=True)"
   ]
  },
  {
   "cell_type": "markdown",
   "metadata": {},
   "source": [
    "Assigned first gene name as the preferred gene name"
   ]
  },
  {
   "cell_type": "code",
   "execution_count": 18,
   "metadata": {},
   "outputs": [],
   "source": [
    "unp['name'] = unp['Gene names'].str.split(' ', expand=True)[0]"
   ]
  },
  {
   "cell_type": "markdown",
   "metadata": {},
   "source": [
    "Create a semicolon separate list of gene name synomymes so it can be represented in a CSV file"
   ]
  },
  {
   "cell_type": "code",
   "execution_count": 19,
   "metadata": {},
   "outputs": [],
   "source": [
    "unp['synonymes'] = unp['Gene names'].str.replace(' ', ';')"
   ]
  },
  {
   "cell_type": "code",
   "execution_count": 20,
   "metadata": {},
   "outputs": [],
   "source": [
    "unp['chromosome'] = unp['chromosome'].str.strip()"
   ]
  },
  {
   "cell_type": "markdown",
   "metadata": {},
   "source": [
    "For consistency, name chromomsomes as 'Viral Chromosome'"
   ]
  },
  {
   "cell_type": "code",
   "execution_count": 21,
   "metadata": {},
   "outputs": [],
   "source": [
    "unp['chromosome'] = unp['chromosome'].str.replace('Genome', 'Viral Chromosome')"
   ]
  },
  {
   "cell_type": "markdown",
   "metadata": {},
   "source": [
    "Assign unique identifiers (CURIEs)"
   ]
  },
  {
   "cell_type": "code",
   "execution_count": 22,
   "metadata": {},
   "outputs": [],
   "source": [
    "unp['taxonomyId'] = 'taxonomy:' + unp['Organism ID']"
   ]
  },
  {
   "cell_type": "markdown",
   "metadata": {},
   "source": [
    "The protein sequence md5 hashcode is used to link to the protein level"
   ]
  },
  {
   "cell_type": "code",
   "execution_count": 23,
   "metadata": {},
   "outputs": [],
   "source": [
    "unp['id'] = unp['Sequence'].apply(lambda seq: 'md5:' + hashlib.md5(seq.encode()).hexdigest())"
   ]
  },
  {
   "cell_type": "markdown",
   "metadata": {},
   "source": [
    "### Save genes"
   ]
  },
  {
   "cell_type": "code",
   "execution_count": 24,
   "metadata": {},
   "outputs": [],
   "source": [
    "gene = unp[['id', 'taxonomyId', 'name', 'synonymes', 'chromosome']].copy()\n",
    "gene.drop_duplicates(inplace=True)\n",
    "gene.to_csv(NEO4J_IMPORT / '01a-UniProtGene.csv', index = False)"
   ]
  },
  {
   "cell_type": "code",
   "execution_count": 25,
   "metadata": {},
   "outputs": [
    {
     "data": {
      "text/html": [
       "<div>\n",
       "<style scoped>\n",
       "    .dataframe tbody tr th:only-of-type {\n",
       "        vertical-align: middle;\n",
       "    }\n",
       "\n",
       "    .dataframe tbody tr th {\n",
       "        vertical-align: top;\n",
       "    }\n",
       "\n",
       "    .dataframe thead th {\n",
       "        text-align: right;\n",
       "    }\n",
       "</style>\n",
       "<table border=\"1\" class=\"dataframe\">\n",
       "  <thead>\n",
       "    <tr style=\"text-align: right;\">\n",
       "      <th></th>\n",
       "      <th>id</th>\n",
       "      <th>taxonomyId</th>\n",
       "      <th>name</th>\n",
       "      <th>synonymes</th>\n",
       "      <th>chromosome</th>\n",
       "    </tr>\n",
       "  </thead>\n",
       "  <tbody>\n",
       "    <tr>\n",
       "      <th>10692</th>\n",
       "      <td>md5:6b3bd79a7ec1f17c3499536a7f0b941e</td>\n",
       "      <td>taxonomy:9606</td>\n",
       "      <td>HACD1</td>\n",
       "      <td>HACD1;PTPLA</td>\n",
       "      <td>Chromosome 10</td>\n",
       "    </tr>\n",
       "    <tr>\n",
       "      <th>12697</th>\n",
       "      <td>md5:bd6f52c713012fcf14328c0ad20302b1</td>\n",
       "      <td>taxonomy:9606</td>\n",
       "      <td>AP1M2</td>\n",
       "      <td>AP1M2</td>\n",
       "      <td>Chromosome 19</td>\n",
       "    </tr>\n",
       "    <tr>\n",
       "      <th>11689</th>\n",
       "      <td>md5:ddaa9c02a66ee77d6cefbae79d1f9af3</td>\n",
       "      <td>taxonomy:9606</td>\n",
       "      <td>SENP5</td>\n",
       "      <td>SENP5;FKSG45</td>\n",
       "      <td>Chromosome 3</td>\n",
       "    </tr>\n",
       "    <tr>\n",
       "      <th>1565</th>\n",
       "      <td>md5:8d4bf7acc2a2a6decd2bb4b6052840cd</td>\n",
       "      <td>taxonomy:9606</td>\n",
       "      <td>ZMYND8</td>\n",
       "      <td>ZMYND8;KIAA1125;PRKCBP1;RACK7</td>\n",
       "      <td>Chromosome 20</td>\n",
       "    </tr>\n",
       "    <tr>\n",
       "      <th>12977</th>\n",
       "      <td>md5:eefe3d9635a4130e00044c5dcbc19a79</td>\n",
       "      <td>taxonomy:9606</td>\n",
       "      <td>GRIA2</td>\n",
       "      <td>GRIA2;GLUR2</td>\n",
       "      <td>Chromosome 4</td>\n",
       "    </tr>\n",
       "  </tbody>\n",
       "</table>\n",
       "</div>"
      ],
      "text/plain": [
       "                                         id     taxonomyId    name  \\\n",
       "10692  md5:6b3bd79a7ec1f17c3499536a7f0b941e  taxonomy:9606   HACD1   \n",
       "12697  md5:bd6f52c713012fcf14328c0ad20302b1  taxonomy:9606   AP1M2   \n",
       "11689  md5:ddaa9c02a66ee77d6cefbae79d1f9af3  taxonomy:9606   SENP5   \n",
       "1565   md5:8d4bf7acc2a2a6decd2bb4b6052840cd  taxonomy:9606  ZMYND8   \n",
       "12977  md5:eefe3d9635a4130e00044c5dcbc19a79  taxonomy:9606   GRIA2   \n",
       "\n",
       "                           synonymes     chromosome  \n",
       "10692                    HACD1;PTPLA  Chromosome 10  \n",
       "12697                          AP1M2  Chromosome 19  \n",
       "11689                   SENP5;FKSG45   Chromosome 3  \n",
       "1565   ZMYND8;KIAA1125;PRKCBP1;RACK7  Chromosome 20  \n",
       "12977                    GRIA2;GLUR2   Chromosome 4  "
      ]
     },
     "execution_count": 25,
     "metadata": {},
     "output_type": "execute_result"
    }
   ],
   "source": [
    "gene.sample(5)"
   ]
  }
 ],
 "metadata": {
  "kernelspec": {
   "display_name": "Python 3",
   "language": "python",
   "name": "python3"
  },
  "language_info": {
   "codemirror_mode": {
    "name": "ipython",
    "version": 3
   },
   "file_extension": ".py",
   "mimetype": "text/x-python",
   "name": "python",
   "nbconvert_exporter": "python",
   "pygments_lexer": "ipython3",
   "version": "3.7.8"
  }
 },
 "nbformat": 4,
 "nbformat_minor": 4
}

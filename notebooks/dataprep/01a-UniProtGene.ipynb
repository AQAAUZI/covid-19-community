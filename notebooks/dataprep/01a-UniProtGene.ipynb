{
 "cells": [
  {
   "cell_type": "markdown",
   "metadata": {},
   "source": [
    "# UniProt Gene to Protein Mappings\n",
    "**[Work in progress]**\n",
    "\n",
    "This notebook downloads and standardizes Chromosome and Gene information for viral and human proteins for ingestion into the Knowledge Graph.\n",
    "\n",
    "Data source: [UniProt](https://www.uniprot.org/)\n",
    "\n",
    "Authors: Peter Rose (pwrose@ucsd.edu)"
   ]
  },
  {
   "cell_type": "code",
   "execution_count": 1,
   "metadata": {},
   "outputs": [],
   "source": [
    "import os\n",
    "import re\n",
    "import hashlib \n",
    "import pandas as pd\n",
    "import numpy as np\n",
    "from pathlib import Path"
   ]
  },
  {
   "cell_type": "code",
   "execution_count": 2,
   "metadata": {},
   "outputs": [],
   "source": [
    "pd.options.display.max_rows = None  # display all rows\n",
    "pd.options.display.max_columns = None  # display all columns"
   ]
  },
  {
   "cell_type": "code",
   "execution_count": 3,
   "metadata": {},
   "outputs": [
    {
     "name": "stdout",
     "output_type": "stream",
     "text": [
      "/Users/peter/Library/Application Support/com.Neo4j.Relate/data/dbmss/dbms-8bf637fc-0d20-4d9f-9c6f-f7e72e92a4da/import\n"
     ]
    }
   ],
   "source": [
    "NEO4J_IMPORT = Path(os.getenv('NEO4J_IMPORT'))\n",
    "print(NEO4J_IMPORT)"
   ]
  },
  {
   "cell_type": "markdown",
   "metadata": {},
   "source": [
    "### Get list of organisms to be processed"
   ]
  },
  {
   "cell_type": "code",
   "execution_count": 4,
   "metadata": {},
   "outputs": [],
   "source": [
    "organisms = pd.read_csv(\"../../reference_data/Organism.csv\", dtype=str)"
   ]
  },
  {
   "cell_type": "code",
   "execution_count": 5,
   "metadata": {},
   "outputs": [],
   "source": [
    "organisms = organisms[organisms['id'].str.startswith('taxonomy')]\n",
    "# remove CURIE\n",
    "organisms['taxonomy'] = organisms['id'].apply(lambda x: x.split(':')[1])\n",
    "taxonomy_ids = organisms['taxonomy'].unique()"
   ]
  },
  {
   "cell_type": "markdown",
   "metadata": {},
   "source": [
    "### Download data from UniProt using web services\n",
    "https://www.uniprot.org/help/uniprotkb_column_names"
   ]
  },
  {
   "cell_type": "code",
   "execution_count": 6,
   "metadata": {},
   "outputs": [],
   "source": [
    "columns = 'id,genes,sequence,proteome,organism-id'"
   ]
  },
  {
   "cell_type": "code",
   "execution_count": 7,
   "metadata": {},
   "outputs": [
    {
     "name": "stdout",
     "output_type": "stream",
     "text": [
      "Downloaded 18413 genes for taxonomy id 2697049\n",
      "Downloaded 10 genes for taxonomy id 1263720\n",
      "Downloaded 96 genes for taxonomy id 694009\n",
      "Downloaded 9 genes for taxonomy id 443239\n",
      "Downloaded 1578 genes for taxonomy id 31631\n",
      "Downloaded 455 genes for taxonomy id 11137\n",
      "Downloaded 985 genes for taxonomy id 277944\n",
      "Downloaded 14 genes for taxonomy id 12131\n",
      "Downloaded 16 genes for taxonomy id 12134\n",
      "Downloaded 10 genes for taxonomy id 766791\n",
      "Downloaded 146 genes for taxonomy id 693998\n",
      "Downloaded 15 genes for taxonomy id 1487703\n",
      "Downloaded 12 genes for taxonomy id 285949\n",
      "Downloaded 194237 genes for taxonomy id 9606\n",
      "Downloaded 86618 genes for taxonomy id 10090\n",
      "Downloaded 144 genes for taxonomy id 59477\n",
      "Downloaded 22 genes for taxonomy id 608659\n",
      "Downloaded 0 genes for taxonomy id 49442\n",
      "Downloaded 80 genes for taxonomy id 9974\n",
      "Downloaded 187 genes for taxonomy id 143292\n",
      "Downloaded 0 genes for taxonomy id 71116\n",
      "Downloaded 0 genes for taxonomy id 9608\n",
      "Downloaded 41789 genes for taxonomy id 9685\n",
      "Downloaded 54 genes for taxonomy id 9666\n",
      "Downloaded 5 genes for taxonomy id 419130\n",
      "Downloaded 16339 genes for taxonomy id 452646\n",
      "Downloaded 32225 genes for taxonomy id 10036\n",
      "Downloaded 249 genes for taxonomy id 9689\n",
      "Downloaded 223 genes for taxonomy id 9694\n"
     ]
    }
   ],
   "source": [
    "dfs = list()\n",
    "for taxon in taxonomy_ids:\n",
    "    url = f'https://www.uniprot.org/uniprot/?query=organism:{taxon}&columns={columns}&format=tab'\n",
    "    try:\n",
    "        df = pd.read_csv(url, sep='\\t', dtype='str')\n",
    "        if df.shape[0] > 0:\n",
    "            print(f'Downloaded {df.shape[0]} genes for taxonomy id {taxon}')\n",
    "            dfs.append(df)\n",
    "        else:\n",
    "            print(f'Downloaded 0 genes for taxonomy id {taxon}')\n",
    "    except:\n",
    "        print(f'Downloaded 0 genes for taxonomy id {taxon}')"
   ]
  },
  {
   "cell_type": "code",
   "execution_count": 8,
   "metadata": {},
   "outputs": [],
   "source": [
    "unp = pd.concat(dfs)"
   ]
  },
  {
   "cell_type": "code",
   "execution_count": 9,
   "metadata": {},
   "outputs": [],
   "source": [
    "unp.reset_index(drop=True,inplace=True)"
   ]
  },
  {
   "cell_type": "markdown",
   "metadata": {},
   "source": [
    "### Standardize data"
   ]
  },
  {
   "cell_type": "code",
   "execution_count": 10,
   "metadata": {},
   "outputs": [],
   "source": [
    "unp.fillna('', inplace=True)"
   ]
  },
  {
   "cell_type": "markdown",
   "metadata": {},
   "source": [
    "Add missing gene name for UniProt entry P0DTC7\n",
    "I've filed an issue about the missing gene name to the UniProt help desk."
   ]
  },
  {
   "cell_type": "code",
   "execution_count": 11,
   "metadata": {},
   "outputs": [],
   "source": [
    "index = unp.query(\"Entry == 'P0DTC1'\").index.values[0]\n",
    "unp.at[index, 'Gene names'] = '1a'"
   ]
  },
  {
   "cell_type": "code",
   "execution_count": 12,
   "metadata": {},
   "outputs": [
    {
     "name": "stdout",
     "output_type": "stream",
     "text": [
      "(393931, 5)\n"
     ]
    }
   ],
   "source": [
    "print(unp.shape)"
   ]
  },
  {
   "cell_type": "code",
   "execution_count": 13,
   "metadata": {},
   "outputs": [],
   "source": [
    "unp['proteome'] = unp['Proteomes'].apply(lambda r: r.split(','))"
   ]
  },
  {
   "cell_type": "code",
   "execution_count": 14,
   "metadata": {},
   "outputs": [],
   "source": [
    "unp = unp.explode('proteome')"
   ]
  },
  {
   "cell_type": "code",
   "execution_count": 15,
   "metadata": {},
   "outputs": [],
   "source": [
    "unp[['proteome', 'chromosome']] = unp['proteome'].str.split(':', expand=True)"
   ]
  },
  {
   "cell_type": "code",
   "execution_count": 16,
   "metadata": {},
   "outputs": [
    {
     "data": {
      "text/html": [
       "<div>\n",
       "<style scoped>\n",
       "    .dataframe tbody tr th:only-of-type {\n",
       "        vertical-align: middle;\n",
       "    }\n",
       "\n",
       "    .dataframe tbody tr th {\n",
       "        vertical-align: top;\n",
       "    }\n",
       "\n",
       "    .dataframe thead th {\n",
       "        text-align: right;\n",
       "    }\n",
       "</style>\n",
       "<table border=\"1\" class=\"dataframe\">\n",
       "  <thead>\n",
       "    <tr style=\"text-align: right;\">\n",
       "      <th></th>\n",
       "      <th>Entry</th>\n",
       "      <th>Gene names</th>\n",
       "      <th>Sequence</th>\n",
       "      <th>Proteomes</th>\n",
       "      <th>Organism ID</th>\n",
       "      <th>proteome</th>\n",
       "      <th>chromosome</th>\n",
       "    </tr>\n",
       "  </thead>\n",
       "  <tbody>\n",
       "    <tr>\n",
       "      <th>0</th>\n",
       "      <td>P0DTC5</td>\n",
       "      <td>M</td>\n",
       "      <td>MADSNGTITVEELKKLLEQWNLVIGFLFLTWICLLQFAYANRNRFL...</td>\n",
       "      <td>UP000464024: Genome</td>\n",
       "      <td>2697049</td>\n",
       "      <td>UP000464024</td>\n",
       "      <td>Genome</td>\n",
       "    </tr>\n",
       "    <tr>\n",
       "      <th>1</th>\n",
       "      <td>P0DTC1</td>\n",
       "      <td>1a</td>\n",
       "      <td>MESLVPGFNEKTHVQLSLPVLQVRDVLVRGFGDSVEEVLSEARQHL...</td>\n",
       "      <td>UP000464024: Genome</td>\n",
       "      <td>2697049</td>\n",
       "      <td>UP000464024</td>\n",
       "      <td>Genome</td>\n",
       "    </tr>\n",
       "    <tr>\n",
       "      <th>2</th>\n",
       "      <td>P0DTD3</td>\n",
       "      <td>ORF14</td>\n",
       "      <td>MLQSCYNFLKEQHCQKASTQKGAEAAVKPLLVPHHVVATVQEIQLQ...</td>\n",
       "      <td>UP000464024: Genome</td>\n",
       "      <td>2697049</td>\n",
       "      <td>UP000464024</td>\n",
       "      <td>Genome</td>\n",
       "    </tr>\n",
       "    <tr>\n",
       "      <th>3</th>\n",
       "      <td>P0DTC4</td>\n",
       "      <td>E 4</td>\n",
       "      <td>MYSFVSEETGTLIVNSVLLFLAFVVFLLVTLAILTALRLCAYCCNI...</td>\n",
       "      <td>UP000464024: Genome</td>\n",
       "      <td>2697049</td>\n",
       "      <td>UP000464024</td>\n",
       "      <td>Genome</td>\n",
       "    </tr>\n",
       "    <tr>\n",
       "      <th>4</th>\n",
       "      <td>P0DTC2</td>\n",
       "      <td>S 2</td>\n",
       "      <td>MFVFLVLLPLVSSQCVNLTTRTQLPPAYTNSFTRGVYYPDKVFRSS...</td>\n",
       "      <td>UP000464024: Genome</td>\n",
       "      <td>2697049</td>\n",
       "      <td>UP000464024</td>\n",
       "      <td>Genome</td>\n",
       "    </tr>\n",
       "  </tbody>\n",
       "</table>\n",
       "</div>"
      ],
      "text/plain": [
       "    Entry Gene names                                           Sequence  \\\n",
       "0  P0DTC5          M  MADSNGTITVEELKKLLEQWNLVIGFLFLTWICLLQFAYANRNRFL...   \n",
       "1  P0DTC1         1a  MESLVPGFNEKTHVQLSLPVLQVRDVLVRGFGDSVEEVLSEARQHL...   \n",
       "2  P0DTD3      ORF14  MLQSCYNFLKEQHCQKASTQKGAEAAVKPLLVPHHVVATVQEIQLQ...   \n",
       "3  P0DTC4        E 4  MYSFVSEETGTLIVNSVLLFLAFVVFLLVTLAILTALRLCAYCCNI...   \n",
       "4  P0DTC2        S 2  MFVFLVLLPLVSSQCVNLTTRTQLPPAYTNSFTRGVYYPDKVFRSS...   \n",
       "\n",
       "             Proteomes Organism ID     proteome chromosome  \n",
       "0  UP000464024: Genome     2697049  UP000464024     Genome  \n",
       "1  UP000464024: Genome     2697049  UP000464024     Genome  \n",
       "2  UP000464024: Genome     2697049  UP000464024     Genome  \n",
       "3  UP000464024: Genome     2697049  UP000464024     Genome  \n",
       "4  UP000464024: Genome     2697049  UP000464024     Genome  "
      ]
     },
     "execution_count": 16,
     "metadata": {},
     "output_type": "execute_result"
    }
   ],
   "source": [
    "unp.head()"
   ]
  },
  {
   "cell_type": "code",
   "execution_count": 17,
   "metadata": {},
   "outputs": [],
   "source": [
    "unp.fillna('', inplace=True)"
   ]
  },
  {
   "cell_type": "markdown",
   "metadata": {},
   "source": [
    "Assigned first gene name as the preferred gene name"
   ]
  },
  {
   "cell_type": "code",
   "execution_count": 18,
   "metadata": {},
   "outputs": [],
   "source": [
    "unp['name'] = unp['Gene names'].str.split(' ', expand=True)[0]"
   ]
  },
  {
   "cell_type": "markdown",
   "metadata": {},
   "source": [
    "Create a semicolon separate list of gene name synomymes so it can be represented in a CSV file"
   ]
  },
  {
   "cell_type": "code",
   "execution_count": 19,
   "metadata": {},
   "outputs": [],
   "source": [
    "unp['synonymes'] = unp['Gene names'].str.replace(' ', ';')"
   ]
  },
  {
   "cell_type": "code",
   "execution_count": 20,
   "metadata": {},
   "outputs": [],
   "source": [
    "unp['chromosome'] = unp['chromosome'].str.strip()"
   ]
  },
  {
   "cell_type": "markdown",
   "metadata": {},
   "source": [
    "For consistency, name chromomsomes as 'Viral Chromosome'"
   ]
  },
  {
   "cell_type": "code",
   "execution_count": 21,
   "metadata": {},
   "outputs": [],
   "source": [
    "unp['chromosome'] = unp['chromosome'].str.replace('Genome', 'Viral Chromosome')"
   ]
  },
  {
   "cell_type": "markdown",
   "metadata": {},
   "source": [
    "The protein sequence md5 hashcode is used to link to the protein level"
   ]
  },
  {
   "cell_type": "code",
   "execution_count": 22,
   "metadata": {},
   "outputs": [],
   "source": [
    "unp['id'] = unp['Sequence'].apply(lambda seq: 'md5:' + hashlib.md5(seq.encode()).hexdigest())"
   ]
  },
  {
   "cell_type": "code",
   "execution_count": 23,
   "metadata": {},
   "outputs": [],
   "source": [
    "# disambiguate id by taxonomyId (same sequence for different organisms)\n",
    "unp['id'] = unp['id'] + '-' + unp['Organism ID']"
   ]
  },
  {
   "cell_type": "markdown",
   "metadata": {},
   "source": [
    "Assign unique identifiers (CURIEs)"
   ]
  },
  {
   "cell_type": "code",
   "execution_count": 24,
   "metadata": {},
   "outputs": [],
   "source": [
    "unp['taxonomyId'] = 'taxonomy:' + unp['Organism ID']"
   ]
  },
  {
   "cell_type": "markdown",
   "metadata": {},
   "source": [
    "### Save genes"
   ]
  },
  {
   "cell_type": "code",
   "execution_count": 25,
   "metadata": {},
   "outputs": [],
   "source": [
    "gene = unp[['id', 'taxonomyId', 'name', 'synonymes', 'chromosome']].copy()\n",
    "gene.drop_duplicates(inplace=True)\n",
    "gene.to_csv(NEO4J_IMPORT / '01a-UniProtGene.csv', index = False)"
   ]
  },
  {
   "cell_type": "code",
   "execution_count": 26,
   "metadata": {},
   "outputs": [
    {
     "data": {
      "text/html": [
       "<div>\n",
       "<style scoped>\n",
       "    .dataframe tbody tr th:only-of-type {\n",
       "        vertical-align: middle;\n",
       "    }\n",
       "\n",
       "    .dataframe tbody tr th {\n",
       "        vertical-align: top;\n",
       "    }\n",
       "\n",
       "    .dataframe thead th {\n",
       "        text-align: right;\n",
       "    }\n",
       "</style>\n",
       "<table border=\"1\" class=\"dataframe\">\n",
       "  <thead>\n",
       "    <tr style=\"text-align: right;\">\n",
       "      <th></th>\n",
       "      <th>id</th>\n",
       "      <th>taxonomyId</th>\n",
       "      <th>name</th>\n",
       "      <th>synonymes</th>\n",
       "      <th>chromosome</th>\n",
       "    </tr>\n",
       "  </thead>\n",
       "  <tbody>\n",
       "    <tr>\n",
       "      <th>349143</th>\n",
       "      <td>md5:25dfec4a3ecea2c926a9ef73adf964e5-452646</td>\n",
       "      <td>taxonomy:452646</td>\n",
       "      <td>TTL</td>\n",
       "      <td>TTL</td>\n",
       "      <td></td>\n",
       "    </tr>\n",
       "    <tr>\n",
       "      <th>353274</th>\n",
       "      <td>md5:072bc8f58849408ed7aa5aaa900524df-452646</td>\n",
       "      <td>taxonomy:452646</td>\n",
       "      <td>Q4JCQ8</td>\n",
       "      <td>Q4JCQ8</td>\n",
       "      <td></td>\n",
       "    </tr>\n",
       "    <tr>\n",
       "      <th>26578</th>\n",
       "      <td>md5:066cb7b88e47572767efcf8b52d55d51-9606</td>\n",
       "      <td>taxonomy:9606</td>\n",
       "      <td>TSPAN17</td>\n",
       "      <td>TSPAN17;FBXO23;TM4SF17</td>\n",
       "      <td>Chromosome 5</td>\n",
       "    </tr>\n",
       "    <tr>\n",
       "      <th>235449</th>\n",
       "      <td>md5:636d7f540464d89e5e4a318e2d553eb8-10090</td>\n",
       "      <td>taxonomy:10090</td>\n",
       "      <td>Olfr137</td>\n",
       "      <td>Olfr137</td>\n",
       "      <td>Chromosome 17</td>\n",
       "    </tr>\n",
       "    <tr>\n",
       "      <th>349591</th>\n",
       "      <td>md5:a3e8410b6dd70f1ce4576d041d86cedf-452646</td>\n",
       "      <td>taxonomy:452646</td>\n",
       "      <td>H0Y3M2</td>\n",
       "      <td>H0Y3M2</td>\n",
       "      <td></td>\n",
       "    </tr>\n",
       "  </tbody>\n",
       "</table>\n",
       "</div>"
      ],
      "text/plain": [
       "                                                 id       taxonomyId     name  \\\n",
       "349143  md5:25dfec4a3ecea2c926a9ef73adf964e5-452646  taxonomy:452646      TTL   \n",
       "353274  md5:072bc8f58849408ed7aa5aaa900524df-452646  taxonomy:452646   Q4JCQ8   \n",
       "26578     md5:066cb7b88e47572767efcf8b52d55d51-9606    taxonomy:9606  TSPAN17   \n",
       "235449   md5:636d7f540464d89e5e4a318e2d553eb8-10090   taxonomy:10090  Olfr137   \n",
       "349591  md5:a3e8410b6dd70f1ce4576d041d86cedf-452646  taxonomy:452646   H0Y3M2   \n",
       "\n",
       "                     synonymes     chromosome  \n",
       "349143                     TTL                 \n",
       "353274                  Q4JCQ8                 \n",
       "26578   TSPAN17;FBXO23;TM4SF17   Chromosome 5  \n",
       "235449                 Olfr137  Chromosome 17  \n",
       "349591                  H0Y3M2                 "
      ]
     },
     "execution_count": 26,
     "metadata": {},
     "output_type": "execute_result"
    }
   ],
   "source": [
    "gene.sample(5)"
   ]
  },
  {
   "cell_type": "markdown",
   "metadata": {},
   "source": [
    "#### Genes with no names"
   ]
  },
  {
   "cell_type": "code",
   "execution_count": 27,
   "metadata": {},
   "outputs": [
    {
     "data": {
      "text/html": [
       "<div>\n",
       "<style scoped>\n",
       "    .dataframe tbody tr th:only-of-type {\n",
       "        vertical-align: middle;\n",
       "    }\n",
       "\n",
       "    .dataframe tbody tr th {\n",
       "        vertical-align: top;\n",
       "    }\n",
       "\n",
       "    .dataframe thead th {\n",
       "        text-align: right;\n",
       "    }\n",
       "</style>\n",
       "<table border=\"1\" class=\"dataframe\">\n",
       "  <thead>\n",
       "    <tr style=\"text-align: right;\">\n",
       "      <th></th>\n",
       "      <th>id</th>\n",
       "      <th>taxonomyId</th>\n",
       "      <th>name</th>\n",
       "      <th>synonymes</th>\n",
       "      <th>chromosome</th>\n",
       "    </tr>\n",
       "  </thead>\n",
       "  <tbody>\n",
       "    <tr>\n",
       "      <th>42</th>\n",
       "      <td>md5:44ac354326e066c8a56b733a2eb409b1-2697049</td>\n",
       "      <td>taxonomy:2697049</td>\n",
       "      <td></td>\n",
       "      <td></td>\n",
       "      <td></td>\n",
       "    </tr>\n",
       "    <tr>\n",
       "      <th>132</th>\n",
       "      <td>md5:3921b4859e760676e600fbf687bb10ee-2697049</td>\n",
       "      <td>taxonomy:2697049</td>\n",
       "      <td></td>\n",
       "      <td></td>\n",
       "      <td></td>\n",
       "    </tr>\n",
       "    <tr>\n",
       "      <th>612</th>\n",
       "      <td>md5:a0e6d3d9c4e7aac7fca20d7ea58d7398-2697049</td>\n",
       "      <td>taxonomy:2697049</td>\n",
       "      <td></td>\n",
       "      <td></td>\n",
       "      <td></td>\n",
       "    </tr>\n",
       "    <tr>\n",
       "      <th>646</th>\n",
       "      <td>md5:0e5acbb538e201e15bdc6ad30f2c37f6-2697049</td>\n",
       "      <td>taxonomy:2697049</td>\n",
       "      <td></td>\n",
       "      <td></td>\n",
       "      <td></td>\n",
       "    </tr>\n",
       "    <tr>\n",
       "      <th>815</th>\n",
       "      <td>md5:7b37cc2515fc1acbd1d73dc4e63fd420-2697049</td>\n",
       "      <td>taxonomy:2697049</td>\n",
       "      <td></td>\n",
       "      <td></td>\n",
       "      <td></td>\n",
       "    </tr>\n",
       "  </tbody>\n",
       "</table>\n",
       "</div>"
      ],
      "text/plain": [
       "                                               id        taxonomyId name  \\\n",
       "42   md5:44ac354326e066c8a56b733a2eb409b1-2697049  taxonomy:2697049        \n",
       "132  md5:3921b4859e760676e600fbf687bb10ee-2697049  taxonomy:2697049        \n",
       "612  md5:a0e6d3d9c4e7aac7fca20d7ea58d7398-2697049  taxonomy:2697049        \n",
       "646  md5:0e5acbb538e201e15bdc6ad30f2c37f6-2697049  taxonomy:2697049        \n",
       "815  md5:7b37cc2515fc1acbd1d73dc4e63fd420-2697049  taxonomy:2697049        \n",
       "\n",
       "    synonymes chromosome  \n",
       "42                        \n",
       "132                       \n",
       "612                       \n",
       "646                       \n",
       "815                       "
      ]
     },
     "execution_count": 27,
     "metadata": {},
     "output_type": "execute_result"
    }
   ],
   "source": [
    "gene.query(\"name == ''\").head()"
   ]
  }
 ],
 "metadata": {
  "kernelspec": {
   "display_name": "Python 3",
   "language": "python",
   "name": "python3"
  },
  "language_info": {
   "codemirror_mode": {
    "name": "ipython",
    "version": 3
   },
   "file_extension": ".py",
   "mimetype": "text/x-python",
   "name": "python",
   "nbconvert_exporter": "python",
   "pygments_lexer": "ipython3",
   "version": "3.7.8"
  }
 },
 "nbformat": 4,
 "nbformat_minor": 4
}

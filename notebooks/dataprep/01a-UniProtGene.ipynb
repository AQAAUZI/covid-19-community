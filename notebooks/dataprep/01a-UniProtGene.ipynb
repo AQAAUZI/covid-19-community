{
 "cells": [
  {
   "cell_type": "markdown",
   "metadata": {},
   "source": [
    "# UniProt Gene to Protein Mappings\n",
    "**[Work in progress]**\n",
    "\n",
    "This notebook downloads and standardizes Chromosome and Gene information for viral and human proteins for ingestion into the Knowledge Graph.\n",
    "\n",
    "Data source: [UniProt](https://www.uniprot.org/)\n",
    "\n",
    "Authors: Peter Rose (pwrose@ucsd.edu)"
   ]
  },
  {
   "cell_type": "code",
   "execution_count": 1,
   "metadata": {},
   "outputs": [],
   "source": [
    "import os\n",
    "import re\n",
    "import hashlib \n",
    "import urllib\n",
    "\n",
    "import pandas as pd\n",
    "import numpy as np\n",
    "\n",
    "from pathlib import Path\n",
    "from Bio import SeqIO\n",
    "\n",
    "\n",
    "pd.options.display.max_rows = None  # display all rows\n",
    "pd.options.display.max_columns = None  # display all columsns"
   ]
  },
  {
   "cell_type": "code",
   "execution_count": 2,
   "metadata": {},
   "outputs": [
    {
     "name": "stdout",
     "output_type": "stream",
     "text": [
      "/Users/peter/Library/Application Support/com.Neo4j.Relate/data/dbmss/dbms-8bf637fc-0d20-4d9f-9c6f-f7e72e92a4da/import\n"
     ]
    }
   ],
   "source": [
    "NEO4J_IMPORT = Path(os.getenv('NEO4J_IMPORT'))\n",
    "print(NEO4J_IMPORT)"
   ]
  },
  {
   "cell_type": "markdown",
   "metadata": {},
   "source": [
    "### Get list of organisms to be processed"
   ]
  },
  {
   "cell_type": "code",
   "execution_count": 3,
   "metadata": {},
   "outputs": [],
   "source": [
    "#genomes = pd.read_csv(\"../../reference_data/Genome.csv\", dtype=str)"
   ]
  },
  {
   "cell_type": "code",
   "execution_count": 4,
   "metadata": {},
   "outputs": [],
   "source": [
    "#genomes['taxonomy'] = genomes['taxonomyId'].apply(lambda x: x.split(':')[1])"
   ]
  },
  {
   "cell_type": "code",
   "execution_count": 5,
   "metadata": {},
   "outputs": [],
   "source": [
    "organisms = pd.read_csv(\"../../reference_data/Organism.csv\", dtype=str)"
   ]
  },
  {
   "cell_type": "code",
   "execution_count": 6,
   "metadata": {},
   "outputs": [],
   "source": [
    "organisms = organisms[organisms['id'].str.startswith('taxonomy')]\n",
    "# remove CURIE\n",
    "organisms['taxonomy'] = organisms['id'].apply(lambda x: x.split(':')[1])\n",
    "taxonomy_ids = organisms['taxonomy'].unique()"
   ]
  },
  {
   "cell_type": "markdown",
   "metadata": {},
   "source": [
    "### Download data from UniProt using web services\n",
    "https://www.uniprot.org/help/uniprotkb_column_names"
   ]
  },
  {
   "cell_type": "code",
   "execution_count": 7,
   "metadata": {},
   "outputs": [],
   "source": [
    "columns = 'id,genes,sequence,proteome,organism-id'"
   ]
  },
  {
   "cell_type": "code",
   "execution_count": 8,
   "metadata": {},
   "outputs": [],
   "source": [
    "urls = [f'https://www.uniprot.org/uniprot/?query=organism:{taxon}&columns={columns}&format=tab'\n",
    "        for taxon in taxonomy_ids]\n",
    "#urls = [f'https://www.uniprot.org/uniprot/?query=organism:{taxon}+AND+reviewed:yes&columns={columns}&format=tab'\n",
    "#        for taxon in genomes['taxonomy'].unique()]"
   ]
  },
  {
   "cell_type": "code",
   "execution_count": 9,
   "metadata": {},
   "outputs": [
    {
     "name": "stdout",
     "output_type": "stream",
     "text": [
      "['https://www.uniprot.org/uniprot/?query=organism:2697049&columns=id,genes,sequence,proteome,organism-id&format=tab', 'https://www.uniprot.org/uniprot/?query=organism:1263720&columns=id,genes,sequence,proteome,organism-id&format=tab', 'https://www.uniprot.org/uniprot/?query=organism:694009&columns=id,genes,sequence,proteome,organism-id&format=tab', 'https://www.uniprot.org/uniprot/?query=organism:443239&columns=id,genes,sequence,proteome,organism-id&format=tab', 'https://www.uniprot.org/uniprot/?query=organism:31631&columns=id,genes,sequence,proteome,organism-id&format=tab', 'https://www.uniprot.org/uniprot/?query=organism:11137&columns=id,genes,sequence,proteome,organism-id&format=tab', 'https://www.uniprot.org/uniprot/?query=organism:277944&columns=id,genes,sequence,proteome,organism-id&format=tab', 'https://www.uniprot.org/uniprot/?query=organism:12131&columns=id,genes,sequence,proteome,organism-id&format=tab', 'https://www.uniprot.org/uniprot/?query=organism:12134&columns=id,genes,sequence,proteome,organism-id&format=tab', 'https://www.uniprot.org/uniprot/?query=organism:9606&columns=id,genes,sequence,proteome,organism-id&format=tab', 'https://www.uniprot.org/uniprot/?query=organism:10090&columns=id,genes,sequence,proteome,organism-id&format=tab', 'https://www.uniprot.org/uniprot/?query=organism:59477&columns=id,genes,sequence,proteome,organism-id&format=tab', 'https://www.uniprot.org/uniprot/?query=organism:608659&columns=id,genes,sequence,proteome,organism-id&format=tab', 'https://www.uniprot.org/uniprot/?query=organism:49442&columns=id,genes,sequence,proteome,organism-id&format=tab', 'https://www.uniprot.org/uniprot/?query=organism:9974&columns=id,genes,sequence,proteome,organism-id&format=tab', 'https://www.uniprot.org/uniprot/?query=organism:143292&columns=id,genes,sequence,proteome,organism-id&format=tab', 'https://www.uniprot.org/uniprot/?query=organism:71116&columns=id,genes,sequence,proteome,organism-id&format=tab', 'https://www.uniprot.org/uniprot/?query=organism:9608&columns=id,genes,sequence,proteome,organism-id&format=tab', 'https://www.uniprot.org/uniprot/?query=organism:9685&columns=id,genes,sequence,proteome,organism-id&format=tab', 'https://www.uniprot.org/uniprot/?query=organism:9666&columns=id,genes,sequence,proteome,organism-id&format=tab', 'https://www.uniprot.org/uniprot/?query=organism:419130&columns=id,genes,sequence,proteome,organism-id&format=tab', 'https://www.uniprot.org/uniprot/?query=organism:452646&columns=id,genes,sequence,proteome,organism-id&format=tab', 'https://www.uniprot.org/uniprot/?query=organism:10036&columns=id,genes,sequence,proteome,organism-id&format=tab', 'https://www.uniprot.org/uniprot/?query=organism:9689&columns=id,genes,sequence,proteome,organism-id&format=tab', 'https://www.uniprot.org/uniprot/?query=organism:9694&columns=id,genes,sequence,proteome,organism-id&format=tab']\n"
     ]
    }
   ],
   "source": [
    "print(urls)"
   ]
  },
  {
   "cell_type": "code",
   "execution_count": 15,
   "metadata": {},
   "outputs": [
    {
     "name": "stdout",
     "output_type": "stream",
     "text": [
      "https://www.uniprot.org/uniprot/?query=organism:2697049&columns=id,genes,sequence,proteome,organism-id&format=tab\n",
      "(18413, 5)\n",
      "https://www.uniprot.org/uniprot/?query=organism:1263720&columns=id,genes,sequence,proteome,organism-id&format=tab\n",
      "(10, 5)\n",
      "https://www.uniprot.org/uniprot/?query=organism:694009&columns=id,genes,sequence,proteome,organism-id&format=tab\n",
      "(96, 5)\n",
      "https://www.uniprot.org/uniprot/?query=organism:443239&columns=id,genes,sequence,proteome,organism-id&format=tab\n",
      "(9, 5)\n",
      "https://www.uniprot.org/uniprot/?query=organism:31631&columns=id,genes,sequence,proteome,organism-id&format=tab\n",
      "(1578, 5)\n",
      "https://www.uniprot.org/uniprot/?query=organism:11137&columns=id,genes,sequence,proteome,organism-id&format=tab\n",
      "(455, 5)\n",
      "https://www.uniprot.org/uniprot/?query=organism:277944&columns=id,genes,sequence,proteome,organism-id&format=tab\n",
      "(985, 5)\n",
      "https://www.uniprot.org/uniprot/?query=organism:12131&columns=id,genes,sequence,proteome,organism-id&format=tab\n",
      "(14, 5)\n",
      "https://www.uniprot.org/uniprot/?query=organism:12134&columns=id,genes,sequence,proteome,organism-id&format=tab\n",
      "(16, 5)\n",
      "https://www.uniprot.org/uniprot/?query=organism:9606&columns=id,genes,sequence,proteome,organism-id&format=tab\n",
      "(194237, 5)\n",
      "https://www.uniprot.org/uniprot/?query=organism:10090&columns=id,genes,sequence,proteome,organism-id&format=tab\n",
      "(86618, 5)\n",
      "https://www.uniprot.org/uniprot/?query=organism:59477&columns=id,genes,sequence,proteome,organism-id&format=tab\n",
      "(144, 5)\n",
      "https://www.uniprot.org/uniprot/?query=organism:608659&columns=id,genes,sequence,proteome,organism-id&format=tab\n",
      "(22, 5)\n",
      "https://www.uniprot.org/uniprot/?query=organism:49442&columns=id,genes,sequence,proteome,organism-id&format=tab\n",
      "No genes found\n",
      "https://www.uniprot.org/uniprot/?query=organism:9974&columns=id,genes,sequence,proteome,organism-id&format=tab\n",
      "(80, 5)\n",
      "https://www.uniprot.org/uniprot/?query=organism:143292&columns=id,genes,sequence,proteome,organism-id&format=tab\n",
      "(187, 5)\n",
      "https://www.uniprot.org/uniprot/?query=organism:71116&columns=id,genes,sequence,proteome,organism-id&format=tab\n",
      "No genes found\n",
      "https://www.uniprot.org/uniprot/?query=organism:9608&columns=id,genes,sequence,proteome,organism-id&format=tab\n",
      "No genes found\n",
      "https://www.uniprot.org/uniprot/?query=organism:9685&columns=id,genes,sequence,proteome,organism-id&format=tab\n",
      "(41789, 5)\n",
      "https://www.uniprot.org/uniprot/?query=organism:9666&columns=id,genes,sequence,proteome,organism-id&format=tab\n",
      "(54, 5)\n",
      "https://www.uniprot.org/uniprot/?query=organism:419130&columns=id,genes,sequence,proteome,organism-id&format=tab\n",
      "(5, 5)\n",
      "https://www.uniprot.org/uniprot/?query=organism:452646&columns=id,genes,sequence,proteome,organism-id&format=tab\n",
      "(16339, 5)\n",
      "https://www.uniprot.org/uniprot/?query=organism:10036&columns=id,genes,sequence,proteome,organism-id&format=tab\n",
      "(32225, 5)\n",
      "https://www.uniprot.org/uniprot/?query=organism:9689&columns=id,genes,sequence,proteome,organism-id&format=tab\n",
      "(249, 5)\n",
      "https://www.uniprot.org/uniprot/?query=organism:9694&columns=id,genes,sequence,proteome,organism-id&format=tab\n",
      "(223, 5)\n"
     ]
    }
   ],
   "source": [
    "dfs = list()\n",
    "for url in urls:\n",
    "    try:\n",
    "        print(url)\n",
    "        df = pd.read_csv(url, sep='\\t', dtype='str')\n",
    "        print(df.shape)\n",
    "        if df.shape[0] > 0:\n",
    "            dfs.append(df)\n",
    "    except:\n",
    "        print('No genes found')"
   ]
  },
  {
   "cell_type": "code",
   "execution_count": 16,
   "metadata": {},
   "outputs": [],
   "source": [
    "unp = pd.concat(dfs)\n",
    "#unp = pd.concat((pd.read_csv(url, sep='\\t', dtype='str') for url in urls))"
   ]
  },
  {
   "cell_type": "code",
   "execution_count": 17,
   "metadata": {},
   "outputs": [],
   "source": [
    "unp.reset_index(drop=True,inplace=True)"
   ]
  },
  {
   "cell_type": "markdown",
   "metadata": {},
   "source": [
    "### Standardize data"
   ]
  },
  {
   "cell_type": "code",
   "execution_count": 18,
   "metadata": {},
   "outputs": [],
   "source": [
    "unp.fillna('', inplace=True)"
   ]
  },
  {
   "cell_type": "markdown",
   "metadata": {},
   "source": [
    "Add missing gene name for UniProt entry P0DTC7\n",
    "I've filed an issue about the missing gene name to the UniProt help desk."
   ]
  },
  {
   "cell_type": "code",
   "execution_count": 19,
   "metadata": {},
   "outputs": [],
   "source": [
    "index = unp.query(\"Entry == 'P0DTC1'\").index.values[0]\n",
    "unp.at[index, 'Gene names'] = '1a'"
   ]
  },
  {
   "cell_type": "code",
   "execution_count": 20,
   "metadata": {},
   "outputs": [
    {
     "name": "stdout",
     "output_type": "stream",
     "text": [
      "(393748, 5)\n"
     ]
    }
   ],
   "source": [
    "print(unp.shape)"
   ]
  },
  {
   "cell_type": "code",
   "execution_count": 21,
   "metadata": {},
   "outputs": [],
   "source": [
    "unp['proteome'] = unp['Proteomes'].apply(lambda r: r.split(','))"
   ]
  },
  {
   "cell_type": "code",
   "execution_count": 22,
   "metadata": {},
   "outputs": [],
   "source": [
    "unp = unp.explode('proteome')"
   ]
  },
  {
   "cell_type": "code",
   "execution_count": 23,
   "metadata": {},
   "outputs": [],
   "source": [
    "unp[['proteome', 'chromosome']] = unp['proteome'].str.split(':', expand=True)"
   ]
  },
  {
   "cell_type": "code",
   "execution_count": 24,
   "metadata": {},
   "outputs": [
    {
     "data": {
      "text/html": [
       "<div>\n",
       "<style scoped>\n",
       "    .dataframe tbody tr th:only-of-type {\n",
       "        vertical-align: middle;\n",
       "    }\n",
       "\n",
       "    .dataframe tbody tr th {\n",
       "        vertical-align: top;\n",
       "    }\n",
       "\n",
       "    .dataframe thead th {\n",
       "        text-align: right;\n",
       "    }\n",
       "</style>\n",
       "<table border=\"1\" class=\"dataframe\">\n",
       "  <thead>\n",
       "    <tr style=\"text-align: right;\">\n",
       "      <th></th>\n",
       "      <th>Entry</th>\n",
       "      <th>Gene names</th>\n",
       "      <th>Sequence</th>\n",
       "      <th>Proteomes</th>\n",
       "      <th>Organism ID</th>\n",
       "      <th>proteome</th>\n",
       "      <th>chromosome</th>\n",
       "    </tr>\n",
       "  </thead>\n",
       "  <tbody>\n",
       "    <tr>\n",
       "      <th>0</th>\n",
       "      <td>P0DTC5</td>\n",
       "      <td>M</td>\n",
       "      <td>MADSNGTITVEELKKLLEQWNLVIGFLFLTWICLLQFAYANRNRFL...</td>\n",
       "      <td>UP000464024: Genome</td>\n",
       "      <td>2697049</td>\n",
       "      <td>UP000464024</td>\n",
       "      <td>Genome</td>\n",
       "    </tr>\n",
       "    <tr>\n",
       "      <th>1</th>\n",
       "      <td>P0DTC1</td>\n",
       "      <td>1a</td>\n",
       "      <td>MESLVPGFNEKTHVQLSLPVLQVRDVLVRGFGDSVEEVLSEARQHL...</td>\n",
       "      <td>UP000464024: Genome</td>\n",
       "      <td>2697049</td>\n",
       "      <td>UP000464024</td>\n",
       "      <td>Genome</td>\n",
       "    </tr>\n",
       "    <tr>\n",
       "      <th>2</th>\n",
       "      <td>P0DTD3</td>\n",
       "      <td>ORF14</td>\n",
       "      <td>MLQSCYNFLKEQHCQKASTQKGAEAAVKPLLVPHHVVATVQEIQLQ...</td>\n",
       "      <td>UP000464024: Genome</td>\n",
       "      <td>2697049</td>\n",
       "      <td>UP000464024</td>\n",
       "      <td>Genome</td>\n",
       "    </tr>\n",
       "    <tr>\n",
       "      <th>3</th>\n",
       "      <td>P0DTC4</td>\n",
       "      <td>E 4</td>\n",
       "      <td>MYSFVSEETGTLIVNSVLLFLAFVVFLLVTLAILTALRLCAYCCNI...</td>\n",
       "      <td>UP000464024: Genome</td>\n",
       "      <td>2697049</td>\n",
       "      <td>UP000464024</td>\n",
       "      <td>Genome</td>\n",
       "    </tr>\n",
       "    <tr>\n",
       "      <th>4</th>\n",
       "      <td>P0DTC2</td>\n",
       "      <td>S 2</td>\n",
       "      <td>MFVFLVLLPLVSSQCVNLTTRTQLPPAYTNSFTRGVYYPDKVFRSS...</td>\n",
       "      <td>UP000464024: Genome</td>\n",
       "      <td>2697049</td>\n",
       "      <td>UP000464024</td>\n",
       "      <td>Genome</td>\n",
       "    </tr>\n",
       "  </tbody>\n",
       "</table>\n",
       "</div>"
      ],
      "text/plain": [
       "    Entry Gene names                                           Sequence  \\\n",
       "0  P0DTC5          M  MADSNGTITVEELKKLLEQWNLVIGFLFLTWICLLQFAYANRNRFL...   \n",
       "1  P0DTC1         1a  MESLVPGFNEKTHVQLSLPVLQVRDVLVRGFGDSVEEVLSEARQHL...   \n",
       "2  P0DTD3      ORF14  MLQSCYNFLKEQHCQKASTQKGAEAAVKPLLVPHHVVATVQEIQLQ...   \n",
       "3  P0DTC4        E 4  MYSFVSEETGTLIVNSVLLFLAFVVFLLVTLAILTALRLCAYCCNI...   \n",
       "4  P0DTC2        S 2  MFVFLVLLPLVSSQCVNLTTRTQLPPAYTNSFTRGVYYPDKVFRSS...   \n",
       "\n",
       "             Proteomes Organism ID     proteome chromosome  \n",
       "0  UP000464024: Genome     2697049  UP000464024     Genome  \n",
       "1  UP000464024: Genome     2697049  UP000464024     Genome  \n",
       "2  UP000464024: Genome     2697049  UP000464024     Genome  \n",
       "3  UP000464024: Genome     2697049  UP000464024     Genome  \n",
       "4  UP000464024: Genome     2697049  UP000464024     Genome  "
      ]
     },
     "execution_count": 24,
     "metadata": {},
     "output_type": "execute_result"
    }
   ],
   "source": [
    "unp.head()"
   ]
  },
  {
   "cell_type": "code",
   "execution_count": 25,
   "metadata": {},
   "outputs": [],
   "source": [
    "unp.fillna('', inplace=True)"
   ]
  },
  {
   "cell_type": "markdown",
   "metadata": {},
   "source": [
    "Assigned first gene name as the preferred gene name"
   ]
  },
  {
   "cell_type": "code",
   "execution_count": 26,
   "metadata": {},
   "outputs": [],
   "source": [
    "unp['name'] = unp['Gene names'].str.split(' ', expand=True)[0]"
   ]
  },
  {
   "cell_type": "markdown",
   "metadata": {},
   "source": [
    "Create a semicolon separate list of gene name synomymes so it can be represented in a CSV file"
   ]
  },
  {
   "cell_type": "code",
   "execution_count": 27,
   "metadata": {},
   "outputs": [],
   "source": [
    "unp['synonymes'] = unp['Gene names'].str.replace(' ', ';')"
   ]
  },
  {
   "cell_type": "code",
   "execution_count": 28,
   "metadata": {},
   "outputs": [],
   "source": [
    "unp['chromosome'] = unp['chromosome'].str.strip()"
   ]
  },
  {
   "cell_type": "markdown",
   "metadata": {},
   "source": [
    "For consistency, name chromomsomes as 'Viral Chromosome'"
   ]
  },
  {
   "cell_type": "code",
   "execution_count": 29,
   "metadata": {},
   "outputs": [],
   "source": [
    "unp['chromosome'] = unp['chromosome'].str.replace('Genome', 'Viral Chromosome')"
   ]
  },
  {
   "cell_type": "markdown",
   "metadata": {},
   "source": [
    "Assign unique identifiers (CURIEs)"
   ]
  },
  {
   "cell_type": "code",
   "execution_count": 30,
   "metadata": {},
   "outputs": [],
   "source": [
    "unp['taxonomyId'] = 'taxonomy:' + unp['Organism ID']"
   ]
  },
  {
   "cell_type": "markdown",
   "metadata": {},
   "source": [
    "The protein sequence md5 hashcode is used to link to the protein level"
   ]
  },
  {
   "cell_type": "code",
   "execution_count": 31,
   "metadata": {},
   "outputs": [],
   "source": [
    "unp['id'] = unp['Sequence'].apply(lambda seq: 'md5:' + hashlib.md5(seq.encode()).hexdigest())"
   ]
  },
  {
   "cell_type": "markdown",
   "metadata": {},
   "source": [
    "### Save genes"
   ]
  },
  {
   "cell_type": "code",
   "execution_count": 32,
   "metadata": {},
   "outputs": [],
   "source": [
    "gene = unp[['id', 'taxonomyId', 'name', 'synonymes', 'chromosome']].copy()\n",
    "gene.drop_duplicates(inplace=True)\n",
    "gene.to_csv(NEO4J_IMPORT / '01a-UniProtGene.csv', index = False)"
   ]
  },
  {
   "cell_type": "code",
   "execution_count": 33,
   "metadata": {},
   "outputs": [
    {
     "data": {
      "text/html": [
       "<div>\n",
       "<style scoped>\n",
       "    .dataframe tbody tr th:only-of-type {\n",
       "        vertical-align: middle;\n",
       "    }\n",
       "\n",
       "    .dataframe tbody tr th {\n",
       "        vertical-align: top;\n",
       "    }\n",
       "\n",
       "    .dataframe thead th {\n",
       "        text-align: right;\n",
       "    }\n",
       "</style>\n",
       "<table border=\"1\" class=\"dataframe\">\n",
       "  <thead>\n",
       "    <tr style=\"text-align: right;\">\n",
       "      <th></th>\n",
       "      <th>id</th>\n",
       "      <th>taxonomyId</th>\n",
       "      <th>name</th>\n",
       "      <th>synonymes</th>\n",
       "      <th>chromosome</th>\n",
       "    </tr>\n",
       "  </thead>\n",
       "  <tbody>\n",
       "    <tr>\n",
       "      <th>38896</th>\n",
       "      <td>md5:e28eaf30c70af2a0974dfa2c150dabc9</td>\n",
       "      <td>taxonomy:9606</td>\n",
       "      <td>HLA-DQB2</td>\n",
       "      <td>HLA-DQB2;HLA-DXB</td>\n",
       "      <td>Chromosome 6</td>\n",
       "    </tr>\n",
       "    <tr>\n",
       "      <th>127132</th>\n",
       "      <td>md5:c65f849a442b70a039117af1e45f6200</td>\n",
       "      <td>taxonomy:9606</td>\n",
       "      <td>HLA-C</td>\n",
       "      <td>HLA-C</td>\n",
       "      <td></td>\n",
       "    </tr>\n",
       "    <tr>\n",
       "      <th>388919</th>\n",
       "      <td>md5:3b10f38e2dae53e12417f0a7bab73183</td>\n",
       "      <td>taxonomy:10036</td>\n",
       "      <td>Rnf112</td>\n",
       "      <td>Rnf112</td>\n",
       "      <td>Viral Chromosome assembly</td>\n",
       "    </tr>\n",
       "    <tr>\n",
       "      <th>85186</th>\n",
       "      <td>md5:a3435e64a8eb097319ab810b77c16976</td>\n",
       "      <td>taxonomy:9606</td>\n",
       "      <td>LITAF</td>\n",
       "      <td>LITAF</td>\n",
       "      <td>Chromosome 16</td>\n",
       "    </tr>\n",
       "    <tr>\n",
       "      <th>42574</th>\n",
       "      <td>md5:dd5896560806b3664e43218be885e71d</td>\n",
       "      <td>taxonomy:9606</td>\n",
       "      <td>HLA-DQA1</td>\n",
       "      <td>HLA-DQA1</td>\n",
       "      <td></td>\n",
       "    </tr>\n",
       "  </tbody>\n",
       "</table>\n",
       "</div>"
      ],
      "text/plain": [
       "                                          id      taxonomyId      name  \\\n",
       "38896   md5:e28eaf30c70af2a0974dfa2c150dabc9   taxonomy:9606  HLA-DQB2   \n",
       "127132  md5:c65f849a442b70a039117af1e45f6200   taxonomy:9606     HLA-C   \n",
       "388919  md5:3b10f38e2dae53e12417f0a7bab73183  taxonomy:10036    Rnf112   \n",
       "85186   md5:a3435e64a8eb097319ab810b77c16976   taxonomy:9606     LITAF   \n",
       "42574   md5:dd5896560806b3664e43218be885e71d   taxonomy:9606  HLA-DQA1   \n",
       "\n",
       "               synonymes                 chromosome  \n",
       "38896   HLA-DQB2;HLA-DXB               Chromosome 6  \n",
       "127132             HLA-C                             \n",
       "388919            Rnf112  Viral Chromosome assembly  \n",
       "85186              LITAF              Chromosome 16  \n",
       "42574           HLA-DQA1                             "
      ]
     },
     "execution_count": 33,
     "metadata": {},
     "output_type": "execute_result"
    }
   ],
   "source": [
    "gene.sample(5)"
   ]
  },
  {
   "cell_type": "markdown",
   "metadata": {},
   "source": [
    "#### Genes with no names"
   ]
  },
  {
   "cell_type": "code",
   "execution_count": 34,
   "metadata": {},
   "outputs": [
    {
     "data": {
      "text/html": [
       "<div>\n",
       "<style scoped>\n",
       "    .dataframe tbody tr th:only-of-type {\n",
       "        vertical-align: middle;\n",
       "    }\n",
       "\n",
       "    .dataframe tbody tr th {\n",
       "        vertical-align: top;\n",
       "    }\n",
       "\n",
       "    .dataframe thead th {\n",
       "        text-align: right;\n",
       "    }\n",
       "</style>\n",
       "<table border=\"1\" class=\"dataframe\">\n",
       "  <thead>\n",
       "    <tr style=\"text-align: right;\">\n",
       "      <th></th>\n",
       "      <th>id</th>\n",
       "      <th>taxonomyId</th>\n",
       "      <th>name</th>\n",
       "      <th>synonymes</th>\n",
       "      <th>chromosome</th>\n",
       "    </tr>\n",
       "  </thead>\n",
       "  <tbody>\n",
       "    <tr>\n",
       "      <th>42</th>\n",
       "      <td>md5:44ac354326e066c8a56b733a2eb409b1</td>\n",
       "      <td>taxonomy:2697049</td>\n",
       "      <td></td>\n",
       "      <td></td>\n",
       "      <td></td>\n",
       "    </tr>\n",
       "    <tr>\n",
       "      <th>132</th>\n",
       "      <td>md5:3921b4859e760676e600fbf687bb10ee</td>\n",
       "      <td>taxonomy:2697049</td>\n",
       "      <td></td>\n",
       "      <td></td>\n",
       "      <td></td>\n",
       "    </tr>\n",
       "    <tr>\n",
       "      <th>612</th>\n",
       "      <td>md5:a0e6d3d9c4e7aac7fca20d7ea58d7398</td>\n",
       "      <td>taxonomy:2697049</td>\n",
       "      <td></td>\n",
       "      <td></td>\n",
       "      <td></td>\n",
       "    </tr>\n",
       "    <tr>\n",
       "      <th>646</th>\n",
       "      <td>md5:0e5acbb538e201e15bdc6ad30f2c37f6</td>\n",
       "      <td>taxonomy:2697049</td>\n",
       "      <td></td>\n",
       "      <td></td>\n",
       "      <td></td>\n",
       "    </tr>\n",
       "    <tr>\n",
       "      <th>815</th>\n",
       "      <td>md5:7b37cc2515fc1acbd1d73dc4e63fd420</td>\n",
       "      <td>taxonomy:2697049</td>\n",
       "      <td></td>\n",
       "      <td></td>\n",
       "      <td></td>\n",
       "    </tr>\n",
       "  </tbody>\n",
       "</table>\n",
       "</div>"
      ],
      "text/plain": [
       "                                       id        taxonomyId name synonymes  \\\n",
       "42   md5:44ac354326e066c8a56b733a2eb409b1  taxonomy:2697049                  \n",
       "132  md5:3921b4859e760676e600fbf687bb10ee  taxonomy:2697049                  \n",
       "612  md5:a0e6d3d9c4e7aac7fca20d7ea58d7398  taxonomy:2697049                  \n",
       "646  md5:0e5acbb538e201e15bdc6ad30f2c37f6  taxonomy:2697049                  \n",
       "815  md5:7b37cc2515fc1acbd1d73dc4e63fd420  taxonomy:2697049                  \n",
       "\n",
       "    chromosome  \n",
       "42              \n",
       "132             \n",
       "612             \n",
       "646             \n",
       "815             "
      ]
     },
     "execution_count": 34,
     "metadata": {},
     "output_type": "execute_result"
    }
   ],
   "source": [
    "gene.query(\"name == ''\").head()"
   ]
  },
  {
   "cell_type": "code",
   "execution_count": null,
   "metadata": {},
   "outputs": [],
   "source": []
  }
 ],
 "metadata": {
  "kernelspec": {
   "display_name": "Python 3",
   "language": "python",
   "name": "python3"
  },
  "language_info": {
   "codemirror_mode": {
    "name": "ipython",
    "version": 3
   },
   "file_extension": ".py",
   "mimetype": "text/x-python",
   "name": "python",
   "nbconvert_exporter": "python",
   "pygments_lexer": "ipython3",
   "version": "3.7.8"
  }
 },
 "nbformat": 4,
 "nbformat_minor": 4
}

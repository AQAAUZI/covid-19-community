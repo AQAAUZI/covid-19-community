{
 "cells": [
  {
   "cell_type": "markdown",
   "metadata": {},
   "source": [
    "# UniProt Gene to Protein Mappings\n",
    "**[Work in progress]**\n",
    "\n",
    "This notebook downloads and standardizes Chromosome and Gene information for viral and human proteins for ingestion into the Knowledge Graph.\n",
    "\n",
    "Data source: [UniProt](https://www.uniprot.org/)\n",
    "\n",
    "Authors: Peter Rose (pwrose@ucsd.edu)"
   ]
  },
  {
   "cell_type": "code",
   "execution_count": 1,
   "metadata": {},
   "outputs": [],
   "source": [
    "import os\n",
    "import re\n",
    "import hashlib \n",
    "import pandas as pd\n",
    "import numpy as np\n",
    "from pathlib import Path"
   ]
  },
  {
   "cell_type": "code",
   "execution_count": 2,
   "metadata": {},
   "outputs": [],
   "source": [
    "pd.options.display.max_rows = None  # display all rows\n",
    "pd.options.display.max_columns = None  # display all columns"
   ]
  },
  {
   "cell_type": "code",
   "execution_count": 3,
   "metadata": {},
   "outputs": [
    {
     "name": "stdout",
     "output_type": "stream",
     "text": [
      "/Users/peter/Library/Application Support/com.Neo4j.Relate/data/dbmss/dbms-8bf637fc-0d20-4d9f-9c6f-f7e72e92a4da/import\n"
     ]
    }
   ],
   "source": [
    "NEO4J_IMPORT = Path(os.getenv('NEO4J_IMPORT'))\n",
    "print(NEO4J_IMPORT)"
   ]
  },
  {
   "cell_type": "markdown",
   "metadata": {},
   "source": [
    "### Get list of organisms to be processed"
   ]
  },
  {
   "cell_type": "code",
   "execution_count": 4,
   "metadata": {},
   "outputs": [],
   "source": [
    "organisms = pd.read_csv(\"../../reference_data/Organism.csv\", dtype=str)"
   ]
  },
  {
   "cell_type": "code",
   "execution_count": 5,
   "metadata": {},
   "outputs": [],
   "source": [
    "organisms = organisms[organisms['id'].str.startswith('taxonomy')]\n",
    "# remove CURIE\n",
    "organisms['taxonomy'] = organisms['id'].apply(lambda x: x.split(':')[1])\n",
    "taxonomy_ids = organisms['taxonomy'].unique()"
   ]
  },
  {
   "cell_type": "markdown",
   "metadata": {},
   "source": [
    "### Download data from UniProt using web services\n",
    "https://www.uniprot.org/help/uniprotkb_column_names"
   ]
  },
  {
   "cell_type": "code",
   "execution_count": 6,
   "metadata": {},
   "outputs": [],
   "source": [
    "columns = 'id,genes,sequence,proteome,organism-id,reviewed'"
   ]
  },
  {
   "cell_type": "code",
   "execution_count": 7,
   "metadata": {},
   "outputs": [
    {
     "name": "stdout",
     "output_type": "stream",
     "text": [
      "Downloaded 18413 genes for taxonomy id 2697049\n",
      "Downloaded 10 genes for taxonomy id 1263720\n",
      "Downloaded 96 genes for taxonomy id 694009\n",
      "Downloaded 9 genes for taxonomy id 443239\n",
      "Downloaded 1578 genes for taxonomy id 31631\n",
      "Downloaded 455 genes for taxonomy id 11137\n",
      "Downloaded 985 genes for taxonomy id 277944\n",
      "Downloaded 10 genes for taxonomy id 2709072\n",
      "Downloaded 42 genes for taxonomy id 2708335\n",
      "Downloaded 14 genes for taxonomy id 12131\n",
      "Downloaded 16 genes for taxonomy id 12134\n",
      "Downloaded 10 genes for taxonomy id 766791\n",
      "Downloaded 146 genes for taxonomy id 693998\n",
      "Downloaded 15 genes for taxonomy id 1487703\n",
      "Downloaded 12 genes for taxonomy id 285949\n",
      "Downloaded 194237 genes for taxonomy id 9606\n",
      "Downloaded 86618 genes for taxonomy id 10090\n",
      "Downloaded 34082 genes for taxonomy id 59479\n",
      "Downloaded 144 genes for taxonomy id 59477\n",
      "Downloaded 22 genes for taxonomy id 608659\n",
      "Downloaded 0 genes for taxonomy id 49442\n",
      "Downloaded 80 genes for taxonomy id 9974\n",
      "Downloaded 187 genes for taxonomy id 143292\n",
      "Downloaded 0 genes for taxonomy id 71116\n",
      "Downloaded 0 genes for taxonomy id 9608\n",
      "Downloaded 49965 genes for taxonomy id 9615\n",
      "Downloaded 41789 genes for taxonomy id 9685\n",
      "Downloaded 54 genes for taxonomy id 9666\n",
      "Downloaded 5 genes for taxonomy id 419130\n",
      "Downloaded 16339 genes for taxonomy id 452646\n",
      "Downloaded 32225 genes for taxonomy id 10036\n",
      "Downloaded 249 genes for taxonomy id 9689\n",
      "Downloaded 223 genes for taxonomy id 9694\n",
      "Downloaded 0 genes for taxonomy id 151659\n"
     ]
    }
   ],
   "source": [
    "dfs = list()\n",
    "for taxon in taxonomy_ids:\n",
    "    url = f'https://www.uniprot.org/uniprot/?query=organism:{taxon}&columns={columns}&format=tab'\n",
    "    try:\n",
    "        df = pd.read_csv(url, sep='\\t', dtype='str')\n",
    "        if df.shape[0] > 0:\n",
    "            print(f'Downloaded {df.shape[0]} genes for taxonomy id {taxon}')\n",
    "            dfs.append(df)\n",
    "        else:\n",
    "            print(f'Downloaded 0 genes for taxonomy id {taxon}')\n",
    "    except:\n",
    "        print(f'Downloaded 0 genes for taxonomy id {taxon}')"
   ]
  },
  {
   "cell_type": "code",
   "execution_count": 8,
   "metadata": {},
   "outputs": [],
   "source": [
    "unp = pd.concat(dfs)"
   ]
  },
  {
   "cell_type": "code",
   "execution_count": 9,
   "metadata": {},
   "outputs": [],
   "source": [
    "unp.reset_index(drop=True,inplace=True)"
   ]
  },
  {
   "cell_type": "markdown",
   "metadata": {},
   "source": [
    "### Standardize data"
   ]
  },
  {
   "cell_type": "code",
   "execution_count": 10,
   "metadata": {},
   "outputs": [],
   "source": [
    "unp.fillna('', inplace=True)"
   ]
  },
  {
   "cell_type": "markdown",
   "metadata": {},
   "source": [
    "Add missing gene name for UniProt entry P0DTC7\n",
    "I've filed an issue about the missing gene name to the UniProt help desk."
   ]
  },
  {
   "cell_type": "code",
   "execution_count": 11,
   "metadata": {},
   "outputs": [],
   "source": [
    "index = unp.query(\"Entry == 'P0DTC1'\").index.values[0]\n",
    "unp.at[index, 'Gene names'] = '1a'"
   ]
  },
  {
   "cell_type": "code",
   "execution_count": 12,
   "metadata": {},
   "outputs": [
    {
     "name": "stdout",
     "output_type": "stream",
     "text": [
      "(478030, 6)\n"
     ]
    }
   ],
   "source": [
    "print(unp.shape)"
   ]
  },
  {
   "cell_type": "code",
   "execution_count": 13,
   "metadata": {},
   "outputs": [],
   "source": [
    "unp['reviewed'] = unp['Status'].apply(lambda s: 'True' if s == 'reviewed' else 'False')"
   ]
  },
  {
   "cell_type": "code",
   "execution_count": 14,
   "metadata": {},
   "outputs": [],
   "source": [
    "unp['proteome'] = unp['Proteomes'].apply(lambda r: r.split(','))"
   ]
  },
  {
   "cell_type": "code",
   "execution_count": 15,
   "metadata": {},
   "outputs": [],
   "source": [
    "unp = unp.explode('proteome')"
   ]
  },
  {
   "cell_type": "code",
   "execution_count": 16,
   "metadata": {},
   "outputs": [],
   "source": [
    "unp[['proteome', 'chromosome']] = unp['proteome'].str.split(':', expand=True)"
   ]
  },
  {
   "cell_type": "code",
   "execution_count": 17,
   "metadata": {},
   "outputs": [
    {
     "data": {
      "text/html": [
       "<div>\n",
       "<style scoped>\n",
       "    .dataframe tbody tr th:only-of-type {\n",
       "        vertical-align: middle;\n",
       "    }\n",
       "\n",
       "    .dataframe tbody tr th {\n",
       "        vertical-align: top;\n",
       "    }\n",
       "\n",
       "    .dataframe thead th {\n",
       "        text-align: right;\n",
       "    }\n",
       "</style>\n",
       "<table border=\"1\" class=\"dataframe\">\n",
       "  <thead>\n",
       "    <tr style=\"text-align: right;\">\n",
       "      <th></th>\n",
       "      <th>Entry</th>\n",
       "      <th>Gene names</th>\n",
       "      <th>Sequence</th>\n",
       "      <th>Proteomes</th>\n",
       "      <th>Organism ID</th>\n",
       "      <th>Status</th>\n",
       "      <th>reviewed</th>\n",
       "      <th>proteome</th>\n",
       "      <th>chromosome</th>\n",
       "    </tr>\n",
       "  </thead>\n",
       "  <tbody>\n",
       "    <tr>\n",
       "      <th>0</th>\n",
       "      <td>P0DTC5</td>\n",
       "      <td>M</td>\n",
       "      <td>MADSNGTITVEELKKLLEQWNLVIGFLFLTWICLLQFAYANRNRFL...</td>\n",
       "      <td>UP000464024: Genome</td>\n",
       "      <td>2697049</td>\n",
       "      <td>reviewed</td>\n",
       "      <td>True</td>\n",
       "      <td>UP000464024</td>\n",
       "      <td>Genome</td>\n",
       "    </tr>\n",
       "    <tr>\n",
       "      <th>1</th>\n",
       "      <td>P0DTC1</td>\n",
       "      <td>1a</td>\n",
       "      <td>MESLVPGFNEKTHVQLSLPVLQVRDVLVRGFGDSVEEVLSEARQHL...</td>\n",
       "      <td>UP000464024: Genome</td>\n",
       "      <td>2697049</td>\n",
       "      <td>reviewed</td>\n",
       "      <td>True</td>\n",
       "      <td>UP000464024</td>\n",
       "      <td>Genome</td>\n",
       "    </tr>\n",
       "    <tr>\n",
       "      <th>2</th>\n",
       "      <td>P0DTD3</td>\n",
       "      <td>ORF14</td>\n",
       "      <td>MLQSCYNFLKEQHCQKASTQKGAEAAVKPLLVPHHVVATVQEIQLQ...</td>\n",
       "      <td>UP000464024: Genome</td>\n",
       "      <td>2697049</td>\n",
       "      <td>reviewed</td>\n",
       "      <td>True</td>\n",
       "      <td>UP000464024</td>\n",
       "      <td>Genome</td>\n",
       "    </tr>\n",
       "    <tr>\n",
       "      <th>3</th>\n",
       "      <td>P0DTC4</td>\n",
       "      <td>E 4</td>\n",
       "      <td>MYSFVSEETGTLIVNSVLLFLAFVVFLLVTLAILTALRLCAYCCNI...</td>\n",
       "      <td>UP000464024: Genome</td>\n",
       "      <td>2697049</td>\n",
       "      <td>reviewed</td>\n",
       "      <td>True</td>\n",
       "      <td>UP000464024</td>\n",
       "      <td>Genome</td>\n",
       "    </tr>\n",
       "    <tr>\n",
       "      <th>4</th>\n",
       "      <td>P0DTC2</td>\n",
       "      <td>S 2</td>\n",
       "      <td>MFVFLVLLPLVSSQCVNLTTRTQLPPAYTNSFTRGVYYPDKVFRSS...</td>\n",
       "      <td>UP000464024: Genome</td>\n",
       "      <td>2697049</td>\n",
       "      <td>reviewed</td>\n",
       "      <td>True</td>\n",
       "      <td>UP000464024</td>\n",
       "      <td>Genome</td>\n",
       "    </tr>\n",
       "  </tbody>\n",
       "</table>\n",
       "</div>"
      ],
      "text/plain": [
       "    Entry Gene names                                           Sequence  \\\n",
       "0  P0DTC5          M  MADSNGTITVEELKKLLEQWNLVIGFLFLTWICLLQFAYANRNRFL...   \n",
       "1  P0DTC1         1a  MESLVPGFNEKTHVQLSLPVLQVRDVLVRGFGDSVEEVLSEARQHL...   \n",
       "2  P0DTD3      ORF14  MLQSCYNFLKEQHCQKASTQKGAEAAVKPLLVPHHVVATVQEIQLQ...   \n",
       "3  P0DTC4        E 4  MYSFVSEETGTLIVNSVLLFLAFVVFLLVTLAILTALRLCAYCCNI...   \n",
       "4  P0DTC2        S 2  MFVFLVLLPLVSSQCVNLTTRTQLPPAYTNSFTRGVYYPDKVFRSS...   \n",
       "\n",
       "             Proteomes Organism ID    Status reviewed     proteome chromosome  \n",
       "0  UP000464024: Genome     2697049  reviewed     True  UP000464024     Genome  \n",
       "1  UP000464024: Genome     2697049  reviewed     True  UP000464024     Genome  \n",
       "2  UP000464024: Genome     2697049  reviewed     True  UP000464024     Genome  \n",
       "3  UP000464024: Genome     2697049  reviewed     True  UP000464024     Genome  \n",
       "4  UP000464024: Genome     2697049  reviewed     True  UP000464024     Genome  "
      ]
     },
     "execution_count": 17,
     "metadata": {},
     "output_type": "execute_result"
    }
   ],
   "source": [
    "unp.head()"
   ]
  },
  {
   "cell_type": "code",
   "execution_count": 18,
   "metadata": {},
   "outputs": [],
   "source": [
    "unp.fillna('', inplace=True)"
   ]
  },
  {
   "cell_type": "markdown",
   "metadata": {},
   "source": [
    "Assigned first gene name as the preferred gene name"
   ]
  },
  {
   "cell_type": "code",
   "execution_count": 19,
   "metadata": {},
   "outputs": [],
   "source": [
    "unp['name'] = unp['Gene names'].str.split(' ', expand=True)[0]"
   ]
  },
  {
   "cell_type": "markdown",
   "metadata": {},
   "source": [
    "Create a semicolon separate list of gene name synomymes so it can be represented in a CSV file"
   ]
  },
  {
   "cell_type": "code",
   "execution_count": 20,
   "metadata": {},
   "outputs": [],
   "source": [
    "unp['synonymes'] = unp['Gene names'].str.replace(' ', ';')"
   ]
  },
  {
   "cell_type": "code",
   "execution_count": 21,
   "metadata": {},
   "outputs": [],
   "source": [
    "unp['chromosome'] = unp['chromosome'].str.strip()"
   ]
  },
  {
   "cell_type": "markdown",
   "metadata": {},
   "source": [
    "For consistency, name chromomsomes as 'Viral Chromosome'"
   ]
  },
  {
   "cell_type": "code",
   "execution_count": 22,
   "metadata": {},
   "outputs": [],
   "source": [
    "unp['chromosome'] = unp['chromosome'].str.replace('Genome', 'Viral Chromosome')"
   ]
  },
  {
   "cell_type": "markdown",
   "metadata": {},
   "source": [
    "The protein sequence md5 hashcode is used to link to the protein level"
   ]
  },
  {
   "cell_type": "code",
   "execution_count": 23,
   "metadata": {},
   "outputs": [],
   "source": [
    "unp['id'] = unp['Sequence'].apply(lambda seq: 'md5:' + hashlib.md5(seq.encode()).hexdigest())"
   ]
  },
  {
   "cell_type": "code",
   "execution_count": 24,
   "metadata": {},
   "outputs": [],
   "source": [
    "# disambiguate id by taxonomyId (same sequence for different organisms)\n",
    "unp['id'] = unp['id'] + '-' + unp['Organism ID']"
   ]
  },
  {
   "cell_type": "markdown",
   "metadata": {},
   "source": [
    "Assign unique identifiers (CURIEs)"
   ]
  },
  {
   "cell_type": "code",
   "execution_count": 25,
   "metadata": {},
   "outputs": [],
   "source": [
    "unp['taxonomyId'] = 'taxonomy:' + unp['Organism ID']"
   ]
  },
  {
   "cell_type": "code",
   "execution_count": 27,
   "metadata": {},
   "outputs": [],
   "source": [
    "unp.sort_values('reviewed', ascending=False, inplace=True)"
   ]
  },
  {
   "cell_type": "code",
   "execution_count": 28,
   "metadata": {},
   "outputs": [
    {
     "data": {
      "text/plain": [
       "480363"
      ]
     },
     "execution_count": 28,
     "metadata": {},
     "output_type": "execute_result"
    }
   ],
   "source": [
    "unp.shape[0]"
   ]
  },
  {
   "cell_type": "code",
   "execution_count": 29,
   "metadata": {},
   "outputs": [
    {
     "data": {
      "text/html": [
       "<div>\n",
       "<style scoped>\n",
       "    .dataframe tbody tr th:only-of-type {\n",
       "        vertical-align: middle;\n",
       "    }\n",
       "\n",
       "    .dataframe tbody tr th {\n",
       "        vertical-align: top;\n",
       "    }\n",
       "\n",
       "    .dataframe thead th {\n",
       "        text-align: right;\n",
       "    }\n",
       "</style>\n",
       "<table border=\"1\" class=\"dataframe\">\n",
       "  <thead>\n",
       "    <tr style=\"text-align: right;\">\n",
       "      <th></th>\n",
       "      <th>Entry</th>\n",
       "      <th>Gene names</th>\n",
       "      <th>Sequence</th>\n",
       "      <th>Proteomes</th>\n",
       "      <th>Organism ID</th>\n",
       "      <th>Status</th>\n",
       "      <th>reviewed</th>\n",
       "      <th>proteome</th>\n",
       "      <th>chromosome</th>\n",
       "      <th>name</th>\n",
       "      <th>synonymes</th>\n",
       "      <th>id</th>\n",
       "      <th>taxonomyId</th>\n",
       "    </tr>\n",
       "  </thead>\n",
       "  <tbody>\n",
       "    <tr>\n",
       "      <th>307711</th>\n",
       "      <td>A0A671DWL3</td>\n",
       "      <td>ARPC1B</td>\n",
       "      <td>MAYHSFLVEPISCHAWNKDRTQIAICPNNHEVHIYEKSGAKWVKVH...</td>\n",
       "      <td>UP000472240: Chromosome 7</td>\n",
       "      <td>59479</td>\n",
       "      <td>unreviewed</td>\n",
       "      <td>False</td>\n",
       "      <td>UP000472240</td>\n",
       "      <td>Chromosome 7</td>\n",
       "      <td>ARPC1B</td>\n",
       "      <td>ARPC1B</td>\n",
       "      <td>md5:42ce192deb3b841178e73e35779fe78e-59479</td>\n",
       "      <td>taxonomy:59479</td>\n",
       "    </tr>\n",
       "    <tr>\n",
       "      <th>445030</th>\n",
       "      <td>U6CPG2</td>\n",
       "      <td>KYNU</td>\n",
       "      <td>MEPSSLELAADTVQRIASELGCLPTDERVALHLDEEDKLRHFKEHF...</td>\n",
       "      <td></td>\n",
       "      <td>452646</td>\n",
       "      <td>unreviewed</td>\n",
       "      <td>False</td>\n",
       "      <td></td>\n",
       "      <td></td>\n",
       "      <td>KYNU</td>\n",
       "      <td>KYNU</td>\n",
       "      <td>md5:fbd57511337be3ad1e1f8392c9c3afb1-452646</td>\n",
       "      <td>taxonomy:452646</td>\n",
       "    </tr>\n",
       "    <tr>\n",
       "      <th>445401</th>\n",
       "      <td>Q60440</td>\n",
       "      <td>IL4</td>\n",
       "      <td>MGLRPQLAAILLCLLACTGNWTLGCHHGALKEIIHILNQVTEKGTP...</td>\n",
       "      <td>UP000189706: Genome assembly</td>\n",
       "      <td>10036</td>\n",
       "      <td>reviewed</td>\n",
       "      <td>True</td>\n",
       "      <td>UP000189706</td>\n",
       "      <td>Viral Chromosome assembly</td>\n",
       "      <td>IL4</td>\n",
       "      <td>IL4</td>\n",
       "      <td>md5:0362442d30093cd5ade7f8da040babf5-10036</td>\n",
       "      <td>taxonomy:10036</td>\n",
       "    </tr>\n",
       "    <tr>\n",
       "      <th>249412</th>\n",
       "      <td>A0A0G2JFN5</td>\n",
       "      <td>Larp1b</td>\n",
       "      <td>MANWPTPGELVNTG</td>\n",
       "      <td>UP000000589: Chromosome 3</td>\n",
       "      <td>10090</td>\n",
       "      <td>unreviewed</td>\n",
       "      <td>False</td>\n",
       "      <td>UP000000589</td>\n",
       "      <td>Chromosome 3</td>\n",
       "      <td>Larp1b</td>\n",
       "      <td>Larp1b</td>\n",
       "      <td>md5:1931786fa609882db26db295d5ee650d-10090</td>\n",
       "      <td>taxonomy:10090</td>\n",
       "    </tr>\n",
       "    <tr>\n",
       "      <th>316459</th>\n",
       "      <td>A0A671EAC0</td>\n",
       "      <td>GCG</td>\n",
       "      <td>MKSIYFVAGLFVMLVQSSWQRSLQDSEEKSSSFPAPQTDPFNDPEQ...</td>\n",
       "      <td>UP000472240: Chromosome 8</td>\n",
       "      <td>59479</td>\n",
       "      <td>unreviewed</td>\n",
       "      <td>False</td>\n",
       "      <td>UP000472240</td>\n",
       "      <td>Chromosome 8</td>\n",
       "      <td>GCG</td>\n",
       "      <td>GCG</td>\n",
       "      <td>md5:60b751eb762b115cead9e500f28469ab-59479</td>\n",
       "      <td>taxonomy:59479</td>\n",
       "    </tr>\n",
       "  </tbody>\n",
       "</table>\n",
       "</div>"
      ],
      "text/plain": [
       "             Entry Gene names  \\\n",
       "307711  A0A671DWL3     ARPC1B   \n",
       "445030      U6CPG2       KYNU   \n",
       "445401      Q60440        IL4   \n",
       "249412  A0A0G2JFN5     Larp1b   \n",
       "316459  A0A671EAC0        GCG   \n",
       "\n",
       "                                                 Sequence  \\\n",
       "307711  MAYHSFLVEPISCHAWNKDRTQIAICPNNHEVHIYEKSGAKWVKVH...   \n",
       "445030  MEPSSLELAADTVQRIASELGCLPTDERVALHLDEEDKLRHFKEHF...   \n",
       "445401  MGLRPQLAAILLCLLACTGNWTLGCHHGALKEIIHILNQVTEKGTP...   \n",
       "249412                                     MANWPTPGELVNTG   \n",
       "316459  MKSIYFVAGLFVMLVQSSWQRSLQDSEEKSSSFPAPQTDPFNDPEQ...   \n",
       "\n",
       "                           Proteomes Organism ID      Status reviewed  \\\n",
       "307711     UP000472240: Chromosome 7       59479  unreviewed    False   \n",
       "445030                                    452646  unreviewed    False   \n",
       "445401  UP000189706: Genome assembly       10036    reviewed     True   \n",
       "249412     UP000000589: Chromosome 3       10090  unreviewed    False   \n",
       "316459     UP000472240: Chromosome 8       59479  unreviewed    False   \n",
       "\n",
       "           proteome                 chromosome    name synonymes  \\\n",
       "307711  UP000472240               Chromosome 7  ARPC1B    ARPC1B   \n",
       "445030                                            KYNU      KYNU   \n",
       "445401  UP000189706  Viral Chromosome assembly     IL4       IL4   \n",
       "249412  UP000000589               Chromosome 3  Larp1b    Larp1b   \n",
       "316459  UP000472240               Chromosome 8     GCG       GCG   \n",
       "\n",
       "                                                 id       taxonomyId  \n",
       "307711   md5:42ce192deb3b841178e73e35779fe78e-59479   taxonomy:59479  \n",
       "445030  md5:fbd57511337be3ad1e1f8392c9c3afb1-452646  taxonomy:452646  \n",
       "445401   md5:0362442d30093cd5ade7f8da040babf5-10036   taxonomy:10036  \n",
       "249412   md5:1931786fa609882db26db295d5ee650d-10090   taxonomy:10090  \n",
       "316459   md5:60b751eb762b115cead9e500f28469ab-59479   taxonomy:59479  "
      ]
     },
     "execution_count": 29,
     "metadata": {},
     "output_type": "execute_result"
    }
   ],
   "source": [
    "unp.sample(5)"
   ]
  },
  {
   "cell_type": "code",
   "execution_count": 30,
   "metadata": {},
   "outputs": [],
   "source": [
    "unp.drop_duplicates(subset=['id'], inplace=True)"
   ]
  },
  {
   "cell_type": "code",
   "execution_count": 31,
   "metadata": {},
   "outputs": [
    {
     "data": {
      "text/plain": [
       "446821"
      ]
     },
     "execution_count": 31,
     "metadata": {},
     "output_type": "execute_result"
    }
   ],
   "source": [
    "unp.shape[0]"
   ]
  },
  {
   "cell_type": "markdown",
   "metadata": {},
   "source": [
    "### Save genes"
   ]
  },
  {
   "cell_type": "code",
   "execution_count": 32,
   "metadata": {},
   "outputs": [],
   "source": [
    "gene = unp[['id', 'taxonomyId', 'name', 'synonymes', 'chromosome', 'reviewed']].copy()\n",
    "gene.drop_duplicates(inplace=True)\n",
    "gene.to_csv(NEO4J_IMPORT / '01a-UniProtGene.csv', index = False)"
   ]
  },
  {
   "cell_type": "code",
   "execution_count": 33,
   "metadata": {},
   "outputs": [
    {
     "data": {
      "text/html": [
       "<div>\n",
       "<style scoped>\n",
       "    .dataframe tbody tr th:only-of-type {\n",
       "        vertical-align: middle;\n",
       "    }\n",
       "\n",
       "    .dataframe tbody tr th {\n",
       "        vertical-align: top;\n",
       "    }\n",
       "\n",
       "    .dataframe thead th {\n",
       "        text-align: right;\n",
       "    }\n",
       "</style>\n",
       "<table border=\"1\" class=\"dataframe\">\n",
       "  <thead>\n",
       "    <tr style=\"text-align: right;\">\n",
       "      <th></th>\n",
       "      <th>id</th>\n",
       "      <th>taxonomyId</th>\n",
       "      <th>name</th>\n",
       "      <th>synonymes</th>\n",
       "      <th>chromosome</th>\n",
       "      <th>reviewed</th>\n",
       "    </tr>\n",
       "  </thead>\n",
       "  <tbody>\n",
       "    <tr>\n",
       "      <th>259596</th>\n",
       "      <td>md5:c3a7575cb54d21d76400cd182d25efe2-10090</td>\n",
       "      <td>taxonomy:10090</td>\n",
       "      <td>Psmc4</td>\n",
       "      <td>Psmc4</td>\n",
       "      <td>Chromosome 7</td>\n",
       "      <td>False</td>\n",
       "    </tr>\n",
       "    <tr>\n",
       "      <th>156834</th>\n",
       "      <td>md5:3e0df6dee5eed8ca7d44e8fd19af0e9c-9606</td>\n",
       "      <td>taxonomy:9606</td>\n",
       "      <td>CALM2</td>\n",
       "      <td>CALM2</td>\n",
       "      <td>Chromosome 2</td>\n",
       "      <td>False</td>\n",
       "    </tr>\n",
       "    <tr>\n",
       "      <th>441442</th>\n",
       "      <td>md5:536ee579e2f4bc7d8af6e5041aac5dfd-452646</td>\n",
       "      <td>taxonomy:452646</td>\n",
       "      <td>ZN202</td>\n",
       "      <td>ZN202</td>\n",
       "      <td></td>\n",
       "      <td>False</td>\n",
       "    </tr>\n",
       "    <tr>\n",
       "      <th>205236</th>\n",
       "      <td>md5:b78ff3e7aea2d86fedce2f63fdae57e1-9606</td>\n",
       "      <td>taxonomy:9606</td>\n",
       "      <td>CAST</td>\n",
       "      <td>CAST</td>\n",
       "      <td>Chromosome 5</td>\n",
       "      <td>False</td>\n",
       "    </tr>\n",
       "    <tr>\n",
       "      <th>213477</th>\n",
       "      <td>md5:e56ccc771c6fb579c604519a245d26c9-9606</td>\n",
       "      <td>taxonomy:9606</td>\n",
       "      <td>KCNJ10</td>\n",
       "      <td>KCNJ10</td>\n",
       "      <td>Chromosome 1</td>\n",
       "      <td>False</td>\n",
       "    </tr>\n",
       "  </tbody>\n",
       "</table>\n",
       "</div>"
      ],
      "text/plain": [
       "                                                 id       taxonomyId    name  \\\n",
       "259596   md5:c3a7575cb54d21d76400cd182d25efe2-10090   taxonomy:10090   Psmc4   \n",
       "156834    md5:3e0df6dee5eed8ca7d44e8fd19af0e9c-9606    taxonomy:9606   CALM2   \n",
       "441442  md5:536ee579e2f4bc7d8af6e5041aac5dfd-452646  taxonomy:452646   ZN202   \n",
       "205236    md5:b78ff3e7aea2d86fedce2f63fdae57e1-9606    taxonomy:9606    CAST   \n",
       "213477    md5:e56ccc771c6fb579c604519a245d26c9-9606    taxonomy:9606  KCNJ10   \n",
       "\n",
       "       synonymes    chromosome reviewed  \n",
       "259596     Psmc4  Chromosome 7    False  \n",
       "156834     CALM2  Chromosome 2    False  \n",
       "441442     ZN202                  False  \n",
       "205236      CAST  Chromosome 5    False  \n",
       "213477    KCNJ10  Chromosome 1    False  "
      ]
     },
     "execution_count": 33,
     "metadata": {},
     "output_type": "execute_result"
    }
   ],
   "source": [
    "gene.sample(5)"
   ]
  },
  {
   "cell_type": "markdown",
   "metadata": {},
   "source": [
    "#### Genes with no names"
   ]
  },
  {
   "cell_type": "code",
   "execution_count": 34,
   "metadata": {},
   "outputs": [
    {
     "data": {
      "text/html": [
       "<div>\n",
       "<style scoped>\n",
       "    .dataframe tbody tr th:only-of-type {\n",
       "        vertical-align: middle;\n",
       "    }\n",
       "\n",
       "    .dataframe tbody tr th {\n",
       "        vertical-align: top;\n",
       "    }\n",
       "\n",
       "    .dataframe thead th {\n",
       "        text-align: right;\n",
       "    }\n",
       "</style>\n",
       "<table border=\"1\" class=\"dataframe\">\n",
       "  <thead>\n",
       "    <tr style=\"text-align: right;\">\n",
       "      <th></th>\n",
       "      <th>id</th>\n",
       "      <th>taxonomyId</th>\n",
       "      <th>name</th>\n",
       "      <th>synonymes</th>\n",
       "      <th>chromosome</th>\n",
       "      <th>reviewed</th>\n",
       "    </tr>\n",
       "  </thead>\n",
       "  <tbody>\n",
       "    <tr>\n",
       "      <th>39315</th>\n",
       "      <td>md5:3ffe9916b5a7a6316ffe86be634cb8e4-9606</td>\n",
       "      <td>taxonomy:9606</td>\n",
       "      <td></td>\n",
       "      <td></td>\n",
       "      <td>Unplaced</td>\n",
       "      <td>True</td>\n",
       "    </tr>\n",
       "    <tr>\n",
       "      <th>38831</th>\n",
       "      <td>md5:a090464ae3cf84b0fb45ca4506c55e1f-9606</td>\n",
       "      <td>taxonomy:9606</td>\n",
       "      <td></td>\n",
       "      <td></td>\n",
       "      <td></td>\n",
       "      <td>True</td>\n",
       "    </tr>\n",
       "    <tr>\n",
       "      <th>40120</th>\n",
       "      <td>md5:6e86bef8a617461c8480d108406d1932-9606</td>\n",
       "      <td>taxonomy:9606</td>\n",
       "      <td></td>\n",
       "      <td></td>\n",
       "      <td>Unplaced</td>\n",
       "      <td>True</td>\n",
       "    </tr>\n",
       "    <tr>\n",
       "      <th>40399</th>\n",
       "      <td>md5:096c7955063334efe5646f1065bbe2e3-9606</td>\n",
       "      <td>taxonomy:9606</td>\n",
       "      <td></td>\n",
       "      <td></td>\n",
       "      <td>Unplaced</td>\n",
       "      <td>True</td>\n",
       "    </tr>\n",
       "    <tr>\n",
       "      <th>37310</th>\n",
       "      <td>md5:0aef285f24e9c644c02aab0ee7d71793-9606</td>\n",
       "      <td>taxonomy:9606</td>\n",
       "      <td></td>\n",
       "      <td></td>\n",
       "      <td></td>\n",
       "      <td>True</td>\n",
       "    </tr>\n",
       "  </tbody>\n",
       "</table>\n",
       "</div>"
      ],
      "text/plain": [
       "                                              id     taxonomyId name  \\\n",
       "39315  md5:3ffe9916b5a7a6316ffe86be634cb8e4-9606  taxonomy:9606        \n",
       "38831  md5:a090464ae3cf84b0fb45ca4506c55e1f-9606  taxonomy:9606        \n",
       "40120  md5:6e86bef8a617461c8480d108406d1932-9606  taxonomy:9606        \n",
       "40399  md5:096c7955063334efe5646f1065bbe2e3-9606  taxonomy:9606        \n",
       "37310  md5:0aef285f24e9c644c02aab0ee7d71793-9606  taxonomy:9606        \n",
       "\n",
       "      synonymes chromosome reviewed  \n",
       "39315             Unplaced     True  \n",
       "38831                          True  \n",
       "40120             Unplaced     True  \n",
       "40399             Unplaced     True  \n",
       "37310                          True  "
      ]
     },
     "execution_count": 34,
     "metadata": {},
     "output_type": "execute_result"
    }
   ],
   "source": [
    "gene.query(\"name == ''\").head()"
   ]
  }
 ],
 "metadata": {
  "kernelspec": {
   "display_name": "Python 3",
   "language": "python",
   "name": "python3"
  },
  "language_info": {
   "codemirror_mode": {
    "name": "ipython",
    "version": 3
   },
   "file_extension": ".py",
   "mimetype": "text/x-python",
   "name": "python",
   "nbconvert_exporter": "python",
   "pygments_lexer": "ipython3",
   "version": "3.7.9"
  }
 },
 "nbformat": 4,
 "nbformat_minor": 4
}

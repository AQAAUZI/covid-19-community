{
 "cells": [
  {
   "cell_type": "markdown",
   "metadata": {},
   "source": [
    "# Selected Economic Characteristics: Health Insurance Coverage from the American Community Survey\n",
    "\n",
    "**[Work in progress]**\n",
    "\n",
    "This notebook downloads [selected economic characteristics (DP03)](https://data.census.gov/cedsci/table?tid=ACSDP5Y2018.DP03) from the American Community Survey 5-Year Data (2009-2018).\n",
    "\n",
    "Data source: [American Community Survey 5-Year Data (2009-2018)](https://www.census.gov/data/developers/data-sets/acs-5year.html)\n",
    "\n",
    "Authors: Peter Rose (pwrose@ucsd.edu), Ilya Zaslavsky (zaslavsk@sdsc.edu)"
   ]
  },
  {
   "cell_type": "code",
   "execution_count": 1,
   "metadata": {},
   "outputs": [],
   "source": [
    "import os\n",
    "import pandas as pd\n",
    "from pathlib import Path\n",
    "import time"
   ]
  },
  {
   "cell_type": "code",
   "execution_count": 2,
   "metadata": {},
   "outputs": [],
   "source": [
    "pd.options.display.max_rows = None  # display all rows\n",
    "pd.options.display.max_columns = None  # display all columsns"
   ]
  },
  {
   "cell_type": "code",
   "execution_count": 3,
   "metadata": {},
   "outputs": [
    {
     "name": "stdout",
     "output_type": "stream",
     "text": [
      "/Users/peter/Library/Application Support/Neo4j Desktop/Application/neo4jDatabases/database-19636412-9e74-4bac-8a4c-c6c8b49bb9d3/installation-4.1.0/import\n"
     ]
    }
   ],
   "source": [
    "NEO4J_IMPORT = Path(os.getenv('NEO4J_IMPORT'))\n",
    "print(NEO4J_IMPORT)"
   ]
  },
  {
   "cell_type": "markdown",
   "metadata": {},
   "source": [
    "## Download selected variables\n",
    "\n",
    "* [Selected economic characteristics for US](https://data.census.gov/cedsci/table?tid=ACSDP5Y2018.DP03)\n",
    "\n",
    "* [List of variables as HTML](https://api.census.gov/data/2018/acs/acs5/profile/groups/DP03.html) or [JSON](https://api.census.gov/data/2018/acs/acs5/profile/groups/DP03/)\n",
    "\n",
    "* [Description of variables](https://www2.census.gov/programs-surveys/acs/tech_docs/subject_definitions/2018_ACSSubjectDefinitions.pdf)\n",
    "\n",
    "* [Example URLs for API](https://api.census.gov/data/2018/acs/acs5/profile/examples.html)"
   ]
  },
  {
   "cell_type": "markdown",
   "metadata": {},
   "source": [
    "### Specify variables from DP03 group and assign property names\n",
    "\n",
    "Names must follow the [Neo4j property naming conventions](https://neo4j.com/docs/getting-started/current/graphdb-concepts/#graphdb-naming-rules-and-recommendations)."
   ]
  },
  {
   "cell_type": "code",
   "execution_count": 4,
   "metadata": {},
   "outputs": [],
   "source": [
    "variables = {# HEALTH INSURANCE COVERAGE\n",
    "             'DP03_0095E': 'civilianNoninstitutionalizedPopulation',\n",
    "             'DP03_0096E': 'withHealthInsuranceCoverage',\n",
    "             'DP03_0096PE': 'withHealthInsuranceCoveragePct',\n",
    "             'DP03_0097E': 'withPrivateHealthInsurance',\n",
    "             'DP03_0097PE': 'withPrivateHealthInsurancePct',\n",
    "             'DP03_0098E': 'withPublicCoverage',\n",
    "             'DP03_0098PE': 'withPublicCoveragePct',\n",
    "             'DP03_0099E': 'noHealthInsuranceCoverage',\n",
    "             'DP03_0099PE': 'noHealthInsuranceCoveragePct',\n",
    "            }"
   ]
  },
  {
   "cell_type": "code",
   "execution_count": 5,
   "metadata": {},
   "outputs": [],
   "source": [
    "fields = \",\".join(variables.keys())"
   ]
  },
  {
   "cell_type": "code",
   "execution_count": 6,
   "metadata": {},
   "outputs": [
    {
     "name": "stdout",
     "output_type": "stream",
     "text": [
      "h.civilianNoninstitutionalizedPopulation = toInteger(row.civilianNoninstitutionalizedPopulation),\n",
      "h.withHealthInsuranceCoverage = toInteger(row.withHealthInsuranceCoverage),\n",
      "h.withHealthInsuranceCoveragePct = toFloat(row.withHealthInsuranceCoveragePct),\n",
      "h.withPrivateHealthInsurance = toInteger(row.withPrivateHealthInsurance),\n",
      "h.withPrivateHealthInsurancePct = toFloat(row.withPrivateHealthInsurancePct),\n",
      "h.withPublicCoverage = toInteger(row.withPublicCoverage),\n",
      "h.withPublicCoveragePct = toFloat(row.withPublicCoveragePct),\n",
      "h.noHealthInsuranceCoverage = toInteger(row.noHealthInsuranceCoverage),\n",
      "h.noHealthInsuranceCoveragePct = toFloat(row.noHealthInsuranceCoveragePct),\n"
     ]
    }
   ],
   "source": [
    "for v in variables.values():\n",
    "    if 'Pct' in v:\n",
    "        print('h.' + v + ' = toFloat(row.' + v + '),')\n",
    "    else:\n",
    "        print('h.' + v + ' = toInteger(row.' + v + '),')"
   ]
  },
  {
   "cell_type": "code",
   "execution_count": 7,
   "metadata": {},
   "outputs": [
    {
     "name": "stdout",
     "output_type": "stream",
     "text": [
      "9\n"
     ]
    }
   ],
   "source": [
    "print(len(variables.keys()))"
   ]
  },
  {
   "cell_type": "markdown",
   "metadata": {},
   "source": [
    "## Download county-level data using US Census API"
   ]
  },
  {
   "cell_type": "code",
   "execution_count": 8,
   "metadata": {},
   "outputs": [],
   "source": [
    "url_county = f'https://api.census.gov/data/2018/acs/acs5/profile?get={fields}&for=county:*'"
   ]
  },
  {
   "cell_type": "code",
   "execution_count": 9,
   "metadata": {},
   "outputs": [
    {
     "data": {
      "text/html": [
       "<div>\n",
       "<style scoped>\n",
       "    .dataframe tbody tr th:only-of-type {\n",
       "        vertical-align: middle;\n",
       "    }\n",
       "\n",
       "    .dataframe tbody tr th {\n",
       "        vertical-align: top;\n",
       "    }\n",
       "\n",
       "    .dataframe thead th {\n",
       "        text-align: right;\n",
       "    }\n",
       "</style>\n",
       "<table border=\"1\" class=\"dataframe\">\n",
       "  <thead>\n",
       "    <tr style=\"text-align: right;\">\n",
       "      <th></th>\n",
       "      <th>0</th>\n",
       "      <th>1</th>\n",
       "      <th>2</th>\n",
       "      <th>3</th>\n",
       "      <th>4</th>\n",
       "      <th>5</th>\n",
       "      <th>6</th>\n",
       "      <th>7</th>\n",
       "      <th>8</th>\n",
       "      <th>9</th>\n",
       "      <th>10</th>\n",
       "    </tr>\n",
       "  </thead>\n",
       "  <tbody>\n",
       "    <tr>\n",
       "      <th>0</th>\n",
       "      <td>DP03_0095E</td>\n",
       "      <td>DP03_0096E</td>\n",
       "      <td>DP03_0096PE</td>\n",
       "      <td>DP03_0097E</td>\n",
       "      <td>DP03_0097PE</td>\n",
       "      <td>DP03_0098E</td>\n",
       "      <td>DP03_0098PE</td>\n",
       "      <td>DP03_0099E</td>\n",
       "      <td>DP03_0099PE</td>\n",
       "      <td>state</td>\n",
       "      <td>county</td>\n",
       "    </tr>\n",
       "    <tr>\n",
       "      <th>1</th>\n",
       "      <td>46637</td>\n",
       "      <td>38131</td>\n",
       "      <td>81.8</td>\n",
       "      <td>19632</td>\n",
       "      <td>42.1</td>\n",
       "      <td>22656</td>\n",
       "      <td>48.6</td>\n",
       "      <td>8506</td>\n",
       "      <td>18.2</td>\n",
       "      <td>28</td>\n",
       "      <td>151</td>\n",
       "    </tr>\n",
       "    <tr>\n",
       "      <th>2</th>\n",
       "      <td>11920</td>\n",
       "      <td>10119</td>\n",
       "      <td>84.9</td>\n",
       "      <td>6012</td>\n",
       "      <td>50.4</td>\n",
       "      <td>5472</td>\n",
       "      <td>45.9</td>\n",
       "      <td>1801</td>\n",
       "      <td>15.1</td>\n",
       "      <td>28</td>\n",
       "      <td>111</td>\n",
       "    </tr>\n",
       "    <tr>\n",
       "      <th>3</th>\n",
       "      <td>8195</td>\n",
       "      <td>7501</td>\n",
       "      <td>91.5</td>\n",
       "      <td>4048</td>\n",
       "      <td>49.4</td>\n",
       "      <td>4201</td>\n",
       "      <td>51.3</td>\n",
       "      <td>694</td>\n",
       "      <td>8.5</td>\n",
       "      <td>28</td>\n",
       "      <td>019</td>\n",
       "    </tr>\n",
       "    <tr>\n",
       "      <th>4</th>\n",
       "      <td>23252</td>\n",
       "      <td>20610</td>\n",
       "      <td>88.6</td>\n",
       "      <td>13867</td>\n",
       "      <td>59.6</td>\n",
       "      <td>9319</td>\n",
       "      <td>40.1</td>\n",
       "      <td>2642</td>\n",
       "      <td>11.4</td>\n",
       "      <td>28</td>\n",
       "      <td>057</td>\n",
       "    </tr>\n",
       "  </tbody>\n",
       "</table>\n",
       "</div>"
      ],
      "text/plain": [
       "            0           1            2           3            4           5  \\\n",
       "0  DP03_0095E  DP03_0096E  DP03_0096PE  DP03_0097E  DP03_0097PE  DP03_0098E   \n",
       "1       46637       38131         81.8       19632         42.1       22656   \n",
       "2       11920       10119         84.9        6012         50.4        5472   \n",
       "3        8195        7501         91.5        4048         49.4        4201   \n",
       "4       23252       20610         88.6       13867         59.6        9319   \n",
       "\n",
       "             6           7            8      9      10  \n",
       "0  DP03_0098PE  DP03_0099E  DP03_0099PE  state  county  \n",
       "1         48.6        8506         18.2     28     151  \n",
       "2         45.9        1801         15.1     28     111  \n",
       "3         51.3         694          8.5     28     019  \n",
       "4         40.1        2642         11.4     28     057  "
      ]
     },
     "execution_count": 9,
     "metadata": {},
     "output_type": "execute_result"
    }
   ],
   "source": [
    "df = pd.read_json(url_county, dtype='str')\n",
    "df.fillna('', inplace=True)\n",
    "df.head()"
   ]
  },
  {
   "cell_type": "markdown",
   "metadata": {},
   "source": [
    "##### Add column names"
   ]
  },
  {
   "cell_type": "code",
   "execution_count": 10,
   "metadata": {},
   "outputs": [],
   "source": [
    "df = df[1:].copy() # skip first row of labels\n",
    "columns = list(variables.values())\n",
    "columns.append('stateFips')\n",
    "columns.append('countyFips')\n",
    "df.columns = columns"
   ]
  },
  {
   "cell_type": "markdown",
   "metadata": {},
   "source": [
    "Remove Puerto Rico (stateFips = 72) to limit data to US States\n",
    "\n",
    "TODO handle data for Puerto Rico (GeoNames represents Puerto Rico as a country)"
   ]
  },
  {
   "cell_type": "code",
   "execution_count": 11,
   "metadata": {},
   "outputs": [],
   "source": [
    "df.query(\"stateFips != '72'\", inplace=True)"
   ]
  },
  {
   "cell_type": "markdown",
   "metadata": {},
   "source": [
    "Save list of state fips (required later to get tract data by state)"
   ]
  },
  {
   "cell_type": "code",
   "execution_count": 12,
   "metadata": {},
   "outputs": [
    {
     "name": "stdout",
     "output_type": "stream",
     "text": [
      "['01', '02', '04', '05', '06', '08', '09', '10', '11', '12', '13', '15', '16', '17', '18', '19', '20', '21', '22', '23', '24', '25', '26', '27', '28', '29', '30', '31', '32', '33', '34', '35', '36', '37', '38', '39', '40', '41', '42', '44', '45', '46', '47', '48', '49', '50', '51', '53', '54', '55', '56']\n"
     ]
    }
   ],
   "source": [
    "stateFips = list(df['stateFips'].unique())\n",
    "stateFips.sort()\n",
    "print(stateFips)"
   ]
  },
  {
   "cell_type": "code",
   "execution_count": 13,
   "metadata": {},
   "outputs": [
    {
     "data": {
      "text/html": [
       "<div>\n",
       "<style scoped>\n",
       "    .dataframe tbody tr th:only-of-type {\n",
       "        vertical-align: middle;\n",
       "    }\n",
       "\n",
       "    .dataframe tbody tr th {\n",
       "        vertical-align: top;\n",
       "    }\n",
       "\n",
       "    .dataframe thead th {\n",
       "        text-align: right;\n",
       "    }\n",
       "</style>\n",
       "<table border=\"1\" class=\"dataframe\">\n",
       "  <thead>\n",
       "    <tr style=\"text-align: right;\">\n",
       "      <th></th>\n",
       "      <th>civilianNoninstitutionalizedPopulation</th>\n",
       "      <th>withHealthInsuranceCoverage</th>\n",
       "      <th>withHealthInsuranceCoveragePct</th>\n",
       "      <th>withPrivateHealthInsurance</th>\n",
       "      <th>withPrivateHealthInsurancePct</th>\n",
       "      <th>withPublicCoverage</th>\n",
       "      <th>withPublicCoveragePct</th>\n",
       "      <th>noHealthInsuranceCoverage</th>\n",
       "      <th>noHealthInsuranceCoveragePct</th>\n",
       "      <th>stateFips</th>\n",
       "      <th>countyFips</th>\n",
       "    </tr>\n",
       "  </thead>\n",
       "  <tbody>\n",
       "    <tr>\n",
       "      <th>1</th>\n",
       "      <td>46637</td>\n",
       "      <td>38131</td>\n",
       "      <td>81.8</td>\n",
       "      <td>19632</td>\n",
       "      <td>42.1</td>\n",
       "      <td>22656</td>\n",
       "      <td>48.6</td>\n",
       "      <td>8506</td>\n",
       "      <td>18.2</td>\n",
       "      <td>28</td>\n",
       "      <td>151</td>\n",
       "    </tr>\n",
       "    <tr>\n",
       "      <th>2</th>\n",
       "      <td>11920</td>\n",
       "      <td>10119</td>\n",
       "      <td>84.9</td>\n",
       "      <td>6012</td>\n",
       "      <td>50.4</td>\n",
       "      <td>5472</td>\n",
       "      <td>45.9</td>\n",
       "      <td>1801</td>\n",
       "      <td>15.1</td>\n",
       "      <td>28</td>\n",
       "      <td>111</td>\n",
       "    </tr>\n",
       "    <tr>\n",
       "      <th>3</th>\n",
       "      <td>8195</td>\n",
       "      <td>7501</td>\n",
       "      <td>91.5</td>\n",
       "      <td>4048</td>\n",
       "      <td>49.4</td>\n",
       "      <td>4201</td>\n",
       "      <td>51.3</td>\n",
       "      <td>694</td>\n",
       "      <td>8.5</td>\n",
       "      <td>28</td>\n",
       "      <td>019</td>\n",
       "    </tr>\n",
       "    <tr>\n",
       "      <th>4</th>\n",
       "      <td>23252</td>\n",
       "      <td>20610</td>\n",
       "      <td>88.6</td>\n",
       "      <td>13867</td>\n",
       "      <td>59.6</td>\n",
       "      <td>9319</td>\n",
       "      <td>40.1</td>\n",
       "      <td>2642</td>\n",
       "      <td>11.4</td>\n",
       "      <td>28</td>\n",
       "      <td>057</td>\n",
       "    </tr>\n",
       "    <tr>\n",
       "      <th>5</th>\n",
       "      <td>9963</td>\n",
       "      <td>9122</td>\n",
       "      <td>91.6</td>\n",
       "      <td>5799</td>\n",
       "      <td>58.2</td>\n",
       "      <td>4680</td>\n",
       "      <td>47.0</td>\n",
       "      <td>841</td>\n",
       "      <td>8.4</td>\n",
       "      <td>28</td>\n",
       "      <td>015</td>\n",
       "    </tr>\n",
       "  </tbody>\n",
       "</table>\n",
       "</div>"
      ],
      "text/plain": [
       "  civilianNoninstitutionalizedPopulation withHealthInsuranceCoverage  \\\n",
       "1                                  46637                       38131   \n",
       "2                                  11920                       10119   \n",
       "3                                   8195                        7501   \n",
       "4                                  23252                       20610   \n",
       "5                                   9963                        9122   \n",
       "\n",
       "  withHealthInsuranceCoveragePct withPrivateHealthInsurance  \\\n",
       "1                           81.8                      19632   \n",
       "2                           84.9                       6012   \n",
       "3                           91.5                       4048   \n",
       "4                           88.6                      13867   \n",
       "5                           91.6                       5799   \n",
       "\n",
       "  withPrivateHealthInsurancePct withPublicCoverage withPublicCoveragePct  \\\n",
       "1                          42.1              22656                  48.6   \n",
       "2                          50.4               5472                  45.9   \n",
       "3                          49.4               4201                  51.3   \n",
       "4                          59.6               9319                  40.1   \n",
       "5                          58.2               4680                  47.0   \n",
       "\n",
       "  noHealthInsuranceCoverage noHealthInsuranceCoveragePct stateFips countyFips  \n",
       "1                      8506                         18.2        28        151  \n",
       "2                      1801                         15.1        28        111  \n",
       "3                       694                          8.5        28        019  \n",
       "4                      2642                         11.4        28        057  \n",
       "5                       841                          8.4        28        015  "
      ]
     },
     "execution_count": 13,
     "metadata": {},
     "output_type": "execute_result"
    }
   ],
   "source": [
    "df.head()"
   ]
  },
  {
   "cell_type": "code",
   "execution_count": 14,
   "metadata": {},
   "outputs": [
    {
     "data": {
      "text/html": [
       "<div>\n",
       "<style scoped>\n",
       "    .dataframe tbody tr th:only-of-type {\n",
       "        vertical-align: middle;\n",
       "    }\n",
       "\n",
       "    .dataframe tbody tr th {\n",
       "        vertical-align: top;\n",
       "    }\n",
       "\n",
       "    .dataframe thead th {\n",
       "        text-align: right;\n",
       "    }\n",
       "</style>\n",
       "<table border=\"1\" class=\"dataframe\">\n",
       "  <thead>\n",
       "    <tr style=\"text-align: right;\">\n",
       "      <th></th>\n",
       "      <th>civilianNoninstitutionalizedPopulation</th>\n",
       "      <th>withHealthInsuranceCoverage</th>\n",
       "      <th>withHealthInsuranceCoveragePct</th>\n",
       "      <th>withPrivateHealthInsurance</th>\n",
       "      <th>withPrivateHealthInsurancePct</th>\n",
       "      <th>withPublicCoverage</th>\n",
       "      <th>withPublicCoveragePct</th>\n",
       "      <th>noHealthInsuranceCoverage</th>\n",
       "      <th>noHealthInsuranceCoveragePct</th>\n",
       "      <th>stateFips</th>\n",
       "      <th>countyFips</th>\n",
       "    </tr>\n",
       "  </thead>\n",
       "  <tbody>\n",
       "    <tr>\n",
       "      <th>1869</th>\n",
       "      <td>3204470</td>\n",
       "      <td>2924868</td>\n",
       "      <td>91.3</td>\n",
       "      <td>2185866</td>\n",
       "      <td>68.2</td>\n",
       "      <td>1056014</td>\n",
       "      <td>33.0</td>\n",
       "      <td>279602</td>\n",
       "      <td>8.7</td>\n",
       "      <td>06</td>\n",
       "      <td>073</td>\n",
       "    </tr>\n",
       "  </tbody>\n",
       "</table>\n",
       "</div>"
      ],
      "text/plain": [
       "     civilianNoninstitutionalizedPopulation withHealthInsuranceCoverage  \\\n",
       "1869                                3204470                     2924868   \n",
       "\n",
       "     withHealthInsuranceCoveragePct withPrivateHealthInsurance  \\\n",
       "1869                           91.3                    2185866   \n",
       "\n",
       "     withPrivateHealthInsurancePct withPublicCoverage withPublicCoveragePct  \\\n",
       "1869                          68.2            1056014                  33.0   \n",
       "\n",
       "     noHealthInsuranceCoverage noHealthInsuranceCoveragePct stateFips  \\\n",
       "1869                    279602                          8.7        06   \n",
       "\n",
       "     countyFips  \n",
       "1869        073  "
      ]
     },
     "execution_count": 14,
     "metadata": {},
     "output_type": "execute_result"
    }
   ],
   "source": [
    "# Example data\n",
    "df[(df['stateFips'] == '06') & (df['countyFips'] == '073')]"
   ]
  },
  {
   "cell_type": "code",
   "execution_count": 15,
   "metadata": {},
   "outputs": [],
   "source": [
    "df['source'] = 'American Community Survey 5 year'\n",
    "df['aggregationLevel'] = 'Admin2'"
   ]
  },
  {
   "cell_type": "markdown",
   "metadata": {},
   "source": [
    "### Save data"
   ]
  },
  {
   "cell_type": "code",
   "execution_count": 16,
   "metadata": {},
   "outputs": [],
   "source": [
    "df.to_csv(NEO4J_IMPORT / \"03a-USCensusDP03HealthInsuranceAdmin2.csv\", index=False)"
   ]
  },
  {
   "cell_type": "markdown",
   "metadata": {},
   "source": [
    "## Download zip-level data using US Census API"
   ]
  },
  {
   "cell_type": "code",
   "execution_count": 17,
   "metadata": {},
   "outputs": [],
   "source": [
    "url_zip = f'https://api.census.gov/data/2018/acs/acs5/profile?get={fields}&for=zip%20code%20tabulation%20area:*'"
   ]
  },
  {
   "cell_type": "code",
   "execution_count": 18,
   "metadata": {},
   "outputs": [
    {
     "data": {
      "text/html": [
       "<div>\n",
       "<style scoped>\n",
       "    .dataframe tbody tr th:only-of-type {\n",
       "        vertical-align: middle;\n",
       "    }\n",
       "\n",
       "    .dataframe tbody tr th {\n",
       "        vertical-align: top;\n",
       "    }\n",
       "\n",
       "    .dataframe thead th {\n",
       "        text-align: right;\n",
       "    }\n",
       "</style>\n",
       "<table border=\"1\" class=\"dataframe\">\n",
       "  <thead>\n",
       "    <tr style=\"text-align: right;\">\n",
       "      <th></th>\n",
       "      <th>0</th>\n",
       "      <th>1</th>\n",
       "      <th>2</th>\n",
       "      <th>3</th>\n",
       "      <th>4</th>\n",
       "      <th>5</th>\n",
       "      <th>6</th>\n",
       "      <th>7</th>\n",
       "      <th>8</th>\n",
       "      <th>9</th>\n",
       "    </tr>\n",
       "  </thead>\n",
       "  <tbody>\n",
       "    <tr>\n",
       "      <th>0</th>\n",
       "      <td>DP03_0095E</td>\n",
       "      <td>DP03_0096E</td>\n",
       "      <td>DP03_0096PE</td>\n",
       "      <td>DP03_0097E</td>\n",
       "      <td>DP03_0097PE</td>\n",
       "      <td>DP03_0098E</td>\n",
       "      <td>DP03_0098PE</td>\n",
       "      <td>DP03_0099E</td>\n",
       "      <td>DP03_0099PE</td>\n",
       "      <td>zip code tabulation area</td>\n",
       "    </tr>\n",
       "    <tr>\n",
       "      <th>1</th>\n",
       "      <td>8642</td>\n",
       "      <td>8047</td>\n",
       "      <td>93.1</td>\n",
       "      <td>5451</td>\n",
       "      <td>63.1</td>\n",
       "      <td>3843</td>\n",
       "      <td>44.5</td>\n",
       "      <td>595</td>\n",
       "      <td>6.9</td>\n",
       "      <td>43964</td>\n",
       "    </tr>\n",
       "    <tr>\n",
       "      <th>2</th>\n",
       "      <td>51044</td>\n",
       "      <td>44666</td>\n",
       "      <td>87.5</td>\n",
       "      <td>32359</td>\n",
       "      <td>63.4</td>\n",
       "      <td>16177</td>\n",
       "      <td>31.7</td>\n",
       "      <td>6378</td>\n",
       "      <td>12.5</td>\n",
       "      <td>28216</td>\n",
       "    </tr>\n",
       "    <tr>\n",
       "      <th>3</th>\n",
       "      <td>71605</td>\n",
       "      <td>68080</td>\n",
       "      <td>95.1</td>\n",
       "      <td>63326</td>\n",
       "      <td>88.4</td>\n",
       "      <td>10197</td>\n",
       "      <td>14.2</td>\n",
       "      <td>3525</td>\n",
       "      <td>4.9</td>\n",
       "      <td>28277</td>\n",
       "    </tr>\n",
       "    <tr>\n",
       "      <th>4</th>\n",
       "      <td>27266</td>\n",
       "      <td>25164</td>\n",
       "      <td>92.3</td>\n",
       "      <td>22128</td>\n",
       "      <td>81.2</td>\n",
       "      <td>4916</td>\n",
       "      <td>18.0</td>\n",
       "      <td>2102</td>\n",
       "      <td>7.7</td>\n",
       "      <td>28278</td>\n",
       "    </tr>\n",
       "  </tbody>\n",
       "</table>\n",
       "</div>"
      ],
      "text/plain": [
       "            0           1            2           3            4           5  \\\n",
       "0  DP03_0095E  DP03_0096E  DP03_0096PE  DP03_0097E  DP03_0097PE  DP03_0098E   \n",
       "1        8642        8047         93.1        5451         63.1        3843   \n",
       "2       51044       44666         87.5       32359         63.4       16177   \n",
       "3       71605       68080         95.1       63326         88.4       10197   \n",
       "4       27266       25164         92.3       22128         81.2        4916   \n",
       "\n",
       "             6           7            8                         9  \n",
       "0  DP03_0098PE  DP03_0099E  DP03_0099PE  zip code tabulation area  \n",
       "1         44.5         595          6.9                     43964  \n",
       "2         31.7        6378         12.5                     28216  \n",
       "3         14.2        3525          4.9                     28277  \n",
       "4         18.0        2102          7.7                     28278  "
      ]
     },
     "execution_count": 18,
     "metadata": {},
     "output_type": "execute_result"
    }
   ],
   "source": [
    "df = pd.read_json(url_zip, dtype='str')\n",
    "df.fillna('', inplace=True)\n",
    "df.head()"
   ]
  },
  {
   "cell_type": "markdown",
   "metadata": {},
   "source": [
    "##### Add column names"
   ]
  },
  {
   "cell_type": "code",
   "execution_count": 19,
   "metadata": {},
   "outputs": [],
   "source": [
    "df = df[1:].copy() # skip first row\n",
    "columns = list(variables.values())\n",
    "columns.append('postalCode')\n",
    "df.columns = columns"
   ]
  },
  {
   "cell_type": "code",
   "execution_count": 20,
   "metadata": {},
   "outputs": [
    {
     "data": {
      "text/html": [
       "<div>\n",
       "<style scoped>\n",
       "    .dataframe tbody tr th:only-of-type {\n",
       "        vertical-align: middle;\n",
       "    }\n",
       "\n",
       "    .dataframe tbody tr th {\n",
       "        vertical-align: top;\n",
       "    }\n",
       "\n",
       "    .dataframe thead th {\n",
       "        text-align: right;\n",
       "    }\n",
       "</style>\n",
       "<table border=\"1\" class=\"dataframe\">\n",
       "  <thead>\n",
       "    <tr style=\"text-align: right;\">\n",
       "      <th></th>\n",
       "      <th>civilianNoninstitutionalizedPopulation</th>\n",
       "      <th>withHealthInsuranceCoverage</th>\n",
       "      <th>withHealthInsuranceCoveragePct</th>\n",
       "      <th>withPrivateHealthInsurance</th>\n",
       "      <th>withPrivateHealthInsurancePct</th>\n",
       "      <th>withPublicCoverage</th>\n",
       "      <th>withPublicCoveragePct</th>\n",
       "      <th>noHealthInsuranceCoverage</th>\n",
       "      <th>noHealthInsuranceCoveragePct</th>\n",
       "      <th>postalCode</th>\n",
       "    </tr>\n",
       "  </thead>\n",
       "  <tbody>\n",
       "    <tr>\n",
       "      <th>1</th>\n",
       "      <td>8642</td>\n",
       "      <td>8047</td>\n",
       "      <td>93.1</td>\n",
       "      <td>5451</td>\n",
       "      <td>63.1</td>\n",
       "      <td>3843</td>\n",
       "      <td>44.5</td>\n",
       "      <td>595</td>\n",
       "      <td>6.9</td>\n",
       "      <td>43964</td>\n",
       "    </tr>\n",
       "    <tr>\n",
       "      <th>2</th>\n",
       "      <td>51044</td>\n",
       "      <td>44666</td>\n",
       "      <td>87.5</td>\n",
       "      <td>32359</td>\n",
       "      <td>63.4</td>\n",
       "      <td>16177</td>\n",
       "      <td>31.7</td>\n",
       "      <td>6378</td>\n",
       "      <td>12.5</td>\n",
       "      <td>28216</td>\n",
       "    </tr>\n",
       "    <tr>\n",
       "      <th>3</th>\n",
       "      <td>71605</td>\n",
       "      <td>68080</td>\n",
       "      <td>95.1</td>\n",
       "      <td>63326</td>\n",
       "      <td>88.4</td>\n",
       "      <td>10197</td>\n",
       "      <td>14.2</td>\n",
       "      <td>3525</td>\n",
       "      <td>4.9</td>\n",
       "      <td>28277</td>\n",
       "    </tr>\n",
       "    <tr>\n",
       "      <th>4</th>\n",
       "      <td>27266</td>\n",
       "      <td>25164</td>\n",
       "      <td>92.3</td>\n",
       "      <td>22128</td>\n",
       "      <td>81.2</td>\n",
       "      <td>4916</td>\n",
       "      <td>18.0</td>\n",
       "      <td>2102</td>\n",
       "      <td>7.7</td>\n",
       "      <td>28278</td>\n",
       "    </tr>\n",
       "    <tr>\n",
       "      <th>5</th>\n",
       "      <td>27078</td>\n",
       "      <td>23973</td>\n",
       "      <td>88.5</td>\n",
       "      <td>16638</td>\n",
       "      <td>61.4</td>\n",
       "      <td>11833</td>\n",
       "      <td>43.7</td>\n",
       "      <td>3105</td>\n",
       "      <td>11.5</td>\n",
       "      <td>28303</td>\n",
       "    </tr>\n",
       "  </tbody>\n",
       "</table>\n",
       "</div>"
      ],
      "text/plain": [
       "  civilianNoninstitutionalizedPopulation withHealthInsuranceCoverage  \\\n",
       "1                                   8642                        8047   \n",
       "2                                  51044                       44666   \n",
       "3                                  71605                       68080   \n",
       "4                                  27266                       25164   \n",
       "5                                  27078                       23973   \n",
       "\n",
       "  withHealthInsuranceCoveragePct withPrivateHealthInsurance  \\\n",
       "1                           93.1                       5451   \n",
       "2                           87.5                      32359   \n",
       "3                           95.1                      63326   \n",
       "4                           92.3                      22128   \n",
       "5                           88.5                      16638   \n",
       "\n",
       "  withPrivateHealthInsurancePct withPublicCoverage withPublicCoveragePct  \\\n",
       "1                          63.1               3843                  44.5   \n",
       "2                          63.4              16177                  31.7   \n",
       "3                          88.4              10197                  14.2   \n",
       "4                          81.2               4916                  18.0   \n",
       "5                          61.4              11833                  43.7   \n",
       "\n",
       "  noHealthInsuranceCoverage noHealthInsuranceCoveragePct postalCode  \n",
       "1                       595                          6.9      43964  \n",
       "2                      6378                         12.5      28216  \n",
       "3                      3525                          4.9      28277  \n",
       "4                      2102                          7.7      28278  \n",
       "5                      3105                         11.5      28303  "
      ]
     },
     "execution_count": 20,
     "metadata": {},
     "output_type": "execute_result"
    }
   ],
   "source": [
    "df.head()"
   ]
  },
  {
   "cell_type": "code",
   "execution_count": 21,
   "metadata": {},
   "outputs": [
    {
     "data": {
      "text/html": [
       "<div>\n",
       "<style scoped>\n",
       "    .dataframe tbody tr th:only-of-type {\n",
       "        vertical-align: middle;\n",
       "    }\n",
       "\n",
       "    .dataframe tbody tr th {\n",
       "        vertical-align: top;\n",
       "    }\n",
       "\n",
       "    .dataframe thead th {\n",
       "        text-align: right;\n",
       "    }\n",
       "</style>\n",
       "<table border=\"1\" class=\"dataframe\">\n",
       "  <thead>\n",
       "    <tr style=\"text-align: right;\">\n",
       "      <th></th>\n",
       "      <th>civilianNoninstitutionalizedPopulation</th>\n",
       "      <th>withHealthInsuranceCoverage</th>\n",
       "      <th>withHealthInsuranceCoveragePct</th>\n",
       "      <th>withPrivateHealthInsurance</th>\n",
       "      <th>withPrivateHealthInsurancePct</th>\n",
       "      <th>withPublicCoverage</th>\n",
       "      <th>withPublicCoveragePct</th>\n",
       "      <th>noHealthInsuranceCoverage</th>\n",
       "      <th>noHealthInsuranceCoveragePct</th>\n",
       "      <th>postalCode</th>\n",
       "    </tr>\n",
       "  </thead>\n",
       "  <tbody>\n",
       "    <tr>\n",
       "      <th>30897</th>\n",
       "      <td>19866</td>\n",
       "      <td>18989</td>\n",
       "      <td>95.6</td>\n",
       "      <td>16129</td>\n",
       "      <td>81.2</td>\n",
       "      <td>6086</td>\n",
       "      <td>30.6</td>\n",
       "      <td>877</td>\n",
       "      <td>4.4</td>\n",
       "      <td>90210</td>\n",
       "    </tr>\n",
       "  </tbody>\n",
       "</table>\n",
       "</div>"
      ],
      "text/plain": [
       "      civilianNoninstitutionalizedPopulation withHealthInsuranceCoverage  \\\n",
       "30897                                  19866                       18989   \n",
       "\n",
       "      withHealthInsuranceCoveragePct withPrivateHealthInsurance  \\\n",
       "30897                           95.6                      16129   \n",
       "\n",
       "      withPrivateHealthInsurancePct withPublicCoverage withPublicCoveragePct  \\\n",
       "30897                          81.2               6086                  30.6   \n",
       "\n",
       "      noHealthInsuranceCoverage noHealthInsuranceCoveragePct postalCode  \n",
       "30897                       877                          4.4      90210  "
      ]
     },
     "execution_count": 21,
     "metadata": {},
     "output_type": "execute_result"
    }
   ],
   "source": [
    "# Example data\n",
    "df.query(\"postalCode == '90210'\")"
   ]
  },
  {
   "cell_type": "code",
   "execution_count": 22,
   "metadata": {},
   "outputs": [],
   "source": [
    "df['source'] = 'American Community Survey 5 year'\n",
    "df['aggregationLevel'] = 'PostalCode'"
   ]
  },
  {
   "cell_type": "markdown",
   "metadata": {},
   "source": [
    "### Save data"
   ]
  },
  {
   "cell_type": "code",
   "execution_count": 23,
   "metadata": {},
   "outputs": [],
   "source": [
    "df.to_csv(NEO4J_IMPORT / \"03a-USCensusDP03HealthInsuranceZip.csv\", index=False)"
   ]
  },
  {
   "cell_type": "markdown",
   "metadata": {},
   "source": [
    "## Download tract-level data using US Census API\n",
    "Tract-level data are only available by state, so we need to loop over all states."
   ]
  },
  {
   "cell_type": "code",
   "execution_count": 24,
   "metadata": {},
   "outputs": [],
   "source": [
    "def get_tract_data(state):\n",
    "    url_tract = f'https://api.census.gov/data/2018/acs/acs5/profile?get={fields}&for=tract:*&in=state:{state}'\n",
    "    df = pd.read_json(url_tract, dtype='str')\n",
    "    time.sleep(1)\n",
    "    # skip first row of labels\n",
    "    df = df[1:].copy()\n",
    "    # Add column names\n",
    "    columns = list(variables.values())\n",
    "    columns.append('stateFips')\n",
    "    columns.append('countyFips')\n",
    "    columns.append('tract')\n",
    "    df.columns = columns\n",
    "    return df"
   ]
  },
  {
   "cell_type": "code",
   "execution_count": 25,
   "metadata": {},
   "outputs": [],
   "source": [
    "df = pd.concat((get_tract_data(state) for state in stateFips))\n",
    "df.fillna('', inplace=True)"
   ]
  },
  {
   "cell_type": "code",
   "execution_count": 26,
   "metadata": {},
   "outputs": [],
   "source": [
    "df['tract'] = df['stateFips'] + df['countyFips'] + df['tract']"
   ]
  },
  {
   "cell_type": "code",
   "execution_count": 27,
   "metadata": {},
   "outputs": [],
   "source": [
    "df['source'] = 'American Community Survey 5 year'\n",
    "df['aggregationLevel'] = 'Tract'"
   ]
  },
  {
   "cell_type": "code",
   "execution_count": 28,
   "metadata": {},
   "outputs": [
    {
     "data": {
      "text/html": [
       "<div>\n",
       "<style scoped>\n",
       "    .dataframe tbody tr th:only-of-type {\n",
       "        vertical-align: middle;\n",
       "    }\n",
       "\n",
       "    .dataframe tbody tr th {\n",
       "        vertical-align: top;\n",
       "    }\n",
       "\n",
       "    .dataframe thead th {\n",
       "        text-align: right;\n",
       "    }\n",
       "</style>\n",
       "<table border=\"1\" class=\"dataframe\">\n",
       "  <thead>\n",
       "    <tr style=\"text-align: right;\">\n",
       "      <th></th>\n",
       "      <th>civilianNoninstitutionalizedPopulation</th>\n",
       "      <th>withHealthInsuranceCoverage</th>\n",
       "      <th>withHealthInsuranceCoveragePct</th>\n",
       "      <th>withPrivateHealthInsurance</th>\n",
       "      <th>withPrivateHealthInsurancePct</th>\n",
       "      <th>withPublicCoverage</th>\n",
       "      <th>withPublicCoveragePct</th>\n",
       "      <th>noHealthInsuranceCoverage</th>\n",
       "      <th>noHealthInsuranceCoveragePct</th>\n",
       "      <th>stateFips</th>\n",
       "      <th>countyFips</th>\n",
       "      <th>tract</th>\n",
       "      <th>source</th>\n",
       "      <th>aggregationLevel</th>\n",
       "    </tr>\n",
       "  </thead>\n",
       "  <tbody>\n",
       "    <tr>\n",
       "      <th>56</th>\n",
       "      <td>7210</td>\n",
       "      <td>6886</td>\n",
       "      <td>95.5</td>\n",
       "      <td>6090</td>\n",
       "      <td>84.5</td>\n",
       "      <td>1829</td>\n",
       "      <td>25.4</td>\n",
       "      <td>324</td>\n",
       "      <td>4.5</td>\n",
       "      <td>06</td>\n",
       "      <td>073</td>\n",
       "      <td>06073008324</td>\n",
       "      <td>American Community Survey 5 year</td>\n",
       "      <td>Tract</td>\n",
       "    </tr>\n",
       "    <tr>\n",
       "      <th>57</th>\n",
       "      <td>2049</td>\n",
       "      <td>1928</td>\n",
       "      <td>94.1</td>\n",
       "      <td>1801</td>\n",
       "      <td>87.9</td>\n",
       "      <td>173</td>\n",
       "      <td>8.4</td>\n",
       "      <td>121</td>\n",
       "      <td>5.9</td>\n",
       "      <td>06</td>\n",
       "      <td>073</td>\n",
       "      <td>06073008339</td>\n",
       "      <td>American Community Survey 5 year</td>\n",
       "      <td>Tract</td>\n",
       "    </tr>\n",
       "    <tr>\n",
       "      <th>58</th>\n",
       "      <td>7016</td>\n",
       "      <td>6782</td>\n",
       "      <td>96.7</td>\n",
       "      <td>5473</td>\n",
       "      <td>78.0</td>\n",
       "      <td>2182</td>\n",
       "      <td>31.1</td>\n",
       "      <td>234</td>\n",
       "      <td>3.3</td>\n",
       "      <td>06</td>\n",
       "      <td>073</td>\n",
       "      <td>06073008347</td>\n",
       "      <td>American Community Survey 5 year</td>\n",
       "      <td>Tract</td>\n",
       "    </tr>\n",
       "    <tr>\n",
       "      <th>59</th>\n",
       "      <td>9756</td>\n",
       "      <td>9535</td>\n",
       "      <td>97.7</td>\n",
       "      <td>8266</td>\n",
       "      <td>84.7</td>\n",
       "      <td>2122</td>\n",
       "      <td>21.8</td>\n",
       "      <td>221</td>\n",
       "      <td>2.3</td>\n",
       "      <td>06</td>\n",
       "      <td>073</td>\n",
       "      <td>06073008354</td>\n",
       "      <td>American Community Survey 5 year</td>\n",
       "      <td>Tract</td>\n",
       "    </tr>\n",
       "    <tr>\n",
       "      <th>60</th>\n",
       "      <td>6576</td>\n",
       "      <td>5673</td>\n",
       "      <td>86.3</td>\n",
       "      <td>4454</td>\n",
       "      <td>67.7</td>\n",
       "      <td>1728</td>\n",
       "      <td>26.3</td>\n",
       "      <td>903</td>\n",
       "      <td>13.7</td>\n",
       "      <td>06</td>\n",
       "      <td>073</td>\n",
       "      <td>06073008505</td>\n",
       "      <td>American Community Survey 5 year</td>\n",
       "      <td>Tract</td>\n",
       "    </tr>\n",
       "  </tbody>\n",
       "</table>\n",
       "</div>"
      ],
      "text/plain": [
       "   civilianNoninstitutionalizedPopulation withHealthInsuranceCoverage  \\\n",
       "56                                   7210                        6886   \n",
       "57                                   2049                        1928   \n",
       "58                                   7016                        6782   \n",
       "59                                   9756                        9535   \n",
       "60                                   6576                        5673   \n",
       "\n",
       "   withHealthInsuranceCoveragePct withPrivateHealthInsurance  \\\n",
       "56                           95.5                       6090   \n",
       "57                           94.1                       1801   \n",
       "58                           96.7                       5473   \n",
       "59                           97.7                       8266   \n",
       "60                           86.3                       4454   \n",
       "\n",
       "   withPrivateHealthInsurancePct withPublicCoverage withPublicCoveragePct  \\\n",
       "56                          84.5               1829                  25.4   \n",
       "57                          87.9                173                   8.4   \n",
       "58                          78.0               2182                  31.1   \n",
       "59                          84.7               2122                  21.8   \n",
       "60                          67.7               1728                  26.3   \n",
       "\n",
       "   noHealthInsuranceCoverage noHealthInsuranceCoveragePct stateFips  \\\n",
       "56                       324                          4.5        06   \n",
       "57                       121                          5.9        06   \n",
       "58                       234                          3.3        06   \n",
       "59                       221                          2.3        06   \n",
       "60                       903                         13.7        06   \n",
       "\n",
       "   countyFips        tract                            source aggregationLevel  \n",
       "56        073  06073008324  American Community Survey 5 year            Tract  \n",
       "57        073  06073008339  American Community Survey 5 year            Tract  \n",
       "58        073  06073008347  American Community Survey 5 year            Tract  \n",
       "59        073  06073008354  American Community Survey 5 year            Tract  \n",
       "60        073  06073008505  American Community Survey 5 year            Tract  "
      ]
     },
     "execution_count": 28,
     "metadata": {},
     "output_type": "execute_result"
    }
   ],
   "source": [
    "# Example data for San Diego County\n",
    "df[(df['stateFips'] == '06') & (df['countyFips'] == '073')].head()"
   ]
  },
  {
   "cell_type": "markdown",
   "metadata": {},
   "source": [
    "### Save data"
   ]
  },
  {
   "cell_type": "code",
   "execution_count": 29,
   "metadata": {},
   "outputs": [],
   "source": [
    "df.to_csv(NEO4J_IMPORT / \"03a-USCensusDP03InsuranceTract.csv\", index=False)"
   ]
  },
  {
   "cell_type": "code",
   "execution_count": 30,
   "metadata": {},
   "outputs": [
    {
     "data": {
      "text/plain": [
       "(73056, 14)"
      ]
     },
     "execution_count": 30,
     "metadata": {},
     "output_type": "execute_result"
    }
   ],
   "source": [
    "df.shape"
   ]
  }
 ],
 "metadata": {
  "kernelspec": {
   "display_name": "Python 3",
   "language": "python",
   "name": "python3"
  },
  "language_info": {
   "codemirror_mode": {
    "name": "ipython",
    "version": 3
   },
   "file_extension": ".py",
   "mimetype": "text/x-python",
   "name": "python",
   "nbconvert_exporter": "python",
   "pygments_lexer": "ipython3",
   "version": "3.8.3"
  }
 },
 "nbformat": 4,
 "nbformat_minor": 4
}

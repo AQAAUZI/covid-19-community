{
 "cells": [
  {
   "cell_type": "markdown",
   "metadata": {},
   "source": [
    "# Load SARS-CoV-2 Strain Variant Data from CNCB\n",
    "**[Work in progress]**\n",
    "\n",
    "This notebook downloads and standardizes viral strain variation data from CNCB for ingestion into a Knowledge Graph.\n",
    "\n",
    "Data source: [China National Center for Bioinformation, 2019 Novel Coronavirus Resource (2019nCoVR)](https://bigd.big.ac.cn/ncov/release_genome)\n",
    "\n",
    "Author: Peter Rose (pwrose@ucsd.edu)"
   ]
  },
  {
   "cell_type": "code",
   "execution_count": 1,
   "metadata": {},
   "outputs": [],
   "source": [
    "import os\n",
    "import shutil\n",
    "import glob\n",
    "import ftplib\n",
    "import re\n",
    "import dateutil\n",
    "import pandas as pd\n",
    "from pathlib import Path"
   ]
  },
  {
   "cell_type": "code",
   "execution_count": 2,
   "metadata": {},
   "outputs": [],
   "source": [
    "pd.options.display.max_rows = None  # display all rows\n",
    "pd.options.display.max_columns = None  # display all columsns"
   ]
  },
  {
   "cell_type": "code",
   "execution_count": 3,
   "metadata": {},
   "outputs": [
    {
     "name": "stdout",
     "output_type": "stream",
     "text": [
      "/Users/peter/Library/Application Support/Neo4j Desktop/Application/neo4jDatabases/database-328d8379-6ab4-4cc1-a397-2de37909d2e4/installation-4.1.0/import\n"
     ]
    }
   ],
   "source": [
    "# Path will take care of handling operating system differences.\n",
    "NEO4J_IMPORT = Path(os.getenv('NEO4J_IMPORT'))\n",
    "print(NEO4J_IMPORT)"
   ]
  },
  {
   "cell_type": "code",
   "execution_count": 4,
   "metadata": {},
   "outputs": [],
   "source": [
    "# Create a directory to cache variation data\n",
    "#CACHE = Path(NEO4J_IMPORT / 'cache')\n",
    "#CACHE.mkdir(exist_ok=True)"
   ]
  },
  {
   "cell_type": "code",
   "execution_count": 5,
   "metadata": {},
   "outputs": [],
   "source": [
    "# Create a directory to cache variation data that could not be parsed\n",
    "CACHE_FAILED = Path(NEO4J_IMPORT / 'cache/failed/cncb')\n",
    "CACHE_FAILED.mkdir(parents=True, exist_ok=True)"
   ]
  },
  {
   "cell_type": "code",
   "execution_count": 6,
   "metadata": {},
   "outputs": [],
   "source": [
    "# Create a directory to cache raw variation data gff3 files\n",
    "CACHE_RAW_CNCB = Path(NEO4J_IMPORT / 'cache/raw/cncb')\n",
    "CACHE_RAW_CNCB.mkdir(parents=True, exist_ok=True)"
   ]
  },
  {
   "cell_type": "code",
   "execution_count": 7,
   "metadata": {},
   "outputs": [],
   "source": [
    "# Create a directory to cache processed variation data csv files\n",
    "CACHE_PROCESSED_CNCB = Path(NEO4J_IMPORT / 'cache/processed/cncb')\n",
    "CACHE_PROCESSED_CNCB.mkdir(parents=True, exist_ok=True)"
   ]
  },
  {
   "cell_type": "markdown",
   "metadata": {},
   "source": [
    "## Download SARS-CoV-2 Variation Data"
   ]
  },
  {
   "cell_type": "markdown",
   "metadata": {},
   "source": [
    "This notebook will download > 60,000 files. Set limit to a small number for testing"
   ]
  },
  {
   "cell_type": "markdown",
   "metadata": {},
   "source": [
    "Limit currently set to 1000 downloads per day to avoid timeouts"
   ]
  },
  {
   "cell_type": "code",
   "execution_count": 8,
   "metadata": {},
   "outputs": [],
   "source": [
    "limit = 1000"
   ]
  },
  {
   "cell_type": "markdown",
   "metadata": {},
   "source": [
    "Variation data are available on this FTP server\n",
    "ftp://download.big.ac.cn/GVM/Coronavirus/gff3/\" "
   ]
  },
  {
   "cell_type": "code",
   "execution_count": 9,
   "metadata": {},
   "outputs": [],
   "source": [
    "ftp_server = \"download.big.ac.cn\"\n",
    "user = \"anonymous\"\n",
    "password = \"anonymous\"\n",
    "source = \"/GVM/Coronavirus/gff3/\""
   ]
  },
  {
   "cell_type": "markdown",
   "metadata": {},
   "source": [
    "Create a list of local and remote directories"
   ]
  },
  {
   "cell_type": "code",
   "execution_count": 10,
   "metadata": {},
   "outputs": [],
   "source": [
    "# directories on the FTP server\n",
    "remote_dirs = []\n",
    "# local directories to cache raw data files\n",
    "raw_dirs = []\n",
    "# local directories to cache processed data files\n",
    "proc_dirs = []\n",
    "\n",
    "# subdirectories are named: a ... n (note, this may change)\n",
    "subdirs = [chr(x) for x in range(ord('a'), ord('n') + 1)]\n",
    "\n",
    "for subdir in subdirs:\n",
    "    remote_dirs.append(source + subdir)\n",
    "    raw_dirs.append(CACHE_RAW_CNCB / subdir)\n",
    "    proc_dirs.append(CACHE_PROCESSED_CNCB / subdir)"
   ]
  },
  {
   "cell_type": "markdown",
   "metadata": {},
   "source": [
    "Setup local cache directories if they don't exit"
   ]
  },
  {
   "cell_type": "code",
   "execution_count": 11,
   "metadata": {},
   "outputs": [],
   "source": [
    "for subdir in raw_dirs:\n",
    "    subdir.mkdir(exist_ok=True)\n",
    "for subdir in proc_dirs:   \n",
    "    subdir.mkdir(exist_ok=True)"
   ]
  },
  {
   "cell_type": "markdown",
   "metadata": {},
   "source": [
    "Download and cache data files with variant information"
   ]
  },
  {
   "cell_type": "code",
   "execution_count": 12,
   "metadata": {},
   "outputs": [],
   "source": [
    "def update_cache(ftp_server, user, password, remote_dir, raw_dir, limit):\n",
    "    ftp = ftplib.FTP(ftp_server)\n",
    "    ftp.login(user, password)\n",
    "    ftp.cwd(remote_dir)\n",
    "    \n",
    "    downloads = 0\n",
    "    for file in ftp.nlst():\n",
    "        filename = raw_dir / file\n",
    "        if not Path.exists(filename) and downloads < limit:\n",
    "            downloads += 1\n",
    "            with open(filename, 'wb') as f:\n",
    "                ftp.retrbinary(f'RETR {file}', f.write)\n",
    "\n",
    "    ftp.quit()\n",
    "    return downloads"
   ]
  },
  {
   "cell_type": "code",
   "execution_count": 13,
   "metadata": {},
   "outputs": [
    {
     "name": "stdout",
     "output_type": "stream",
     "text": [
      "downloaded 1: /GVM/Coronavirus/gff3/a -> /Users/peter/Library/Application Support/Neo4j Desktop/Application/neo4jDatabases/database-328d8379-6ab4-4cc1-a397-2de37909d2e4/installation-4.1.0/import/cache/raw/cncb/a\n",
      "downloaded 1: /GVM/Coronavirus/gff3/b -> /Users/peter/Library/Application Support/Neo4j Desktop/Application/neo4jDatabases/database-328d8379-6ab4-4cc1-a397-2de37909d2e4/installation-4.1.0/import/cache/raw/cncb/b\n",
      "downloaded 0: /GVM/Coronavirus/gff3/c -> /Users/peter/Library/Application Support/Neo4j Desktop/Application/neo4jDatabases/database-328d8379-6ab4-4cc1-a397-2de37909d2e4/installation-4.1.0/import/cache/raw/cncb/c\n",
      "downloaded 0: /GVM/Coronavirus/gff3/d -> /Users/peter/Library/Application Support/Neo4j Desktop/Application/neo4jDatabases/database-328d8379-6ab4-4cc1-a397-2de37909d2e4/installation-4.1.0/import/cache/raw/cncb/d\n",
      "downloaded 0: /GVM/Coronavirus/gff3/e -> /Users/peter/Library/Application Support/Neo4j Desktop/Application/neo4jDatabases/database-328d8379-6ab4-4cc1-a397-2de37909d2e4/installation-4.1.0/import/cache/raw/cncb/e\n",
      "downloaded 0: /GVM/Coronavirus/gff3/f -> /Users/peter/Library/Application Support/Neo4j Desktop/Application/neo4jDatabases/database-328d8379-6ab4-4cc1-a397-2de37909d2e4/installation-4.1.0/import/cache/raw/cncb/f\n",
      "downloaded 0: /GVM/Coronavirus/gff3/g -> /Users/peter/Library/Application Support/Neo4j Desktop/Application/neo4jDatabases/database-328d8379-6ab4-4cc1-a397-2de37909d2e4/installation-4.1.0/import/cache/raw/cncb/g\n",
      "downloaded 0: /GVM/Coronavirus/gff3/h -> /Users/peter/Library/Application Support/Neo4j Desktop/Application/neo4jDatabases/database-328d8379-6ab4-4cc1-a397-2de37909d2e4/installation-4.1.0/import/cache/raw/cncb/h\n",
      "downloaded 0: /GVM/Coronavirus/gff3/i -> /Users/peter/Library/Application Support/Neo4j Desktop/Application/neo4jDatabases/database-328d8379-6ab4-4cc1-a397-2de37909d2e4/installation-4.1.0/import/cache/raw/cncb/i\n",
      "downloaded 0: /GVM/Coronavirus/gff3/j -> /Users/peter/Library/Application Support/Neo4j Desktop/Application/neo4jDatabases/database-328d8379-6ab4-4cc1-a397-2de37909d2e4/installation-4.1.0/import/cache/raw/cncb/j\n",
      "downloaded 0: /GVM/Coronavirus/gff3/k -> /Users/peter/Library/Application Support/Neo4j Desktop/Application/neo4jDatabases/database-328d8379-6ab4-4cc1-a397-2de37909d2e4/installation-4.1.0/import/cache/raw/cncb/k\n",
      "downloaded 0: /GVM/Coronavirus/gff3/l -> /Users/peter/Library/Application Support/Neo4j Desktop/Application/neo4jDatabases/database-328d8379-6ab4-4cc1-a397-2de37909d2e4/installation-4.1.0/import/cache/raw/cncb/l\n",
      "downloaded 0: /GVM/Coronavirus/gff3/m -> /Users/peter/Library/Application Support/Neo4j Desktop/Application/neo4jDatabases/database-328d8379-6ab4-4cc1-a397-2de37909d2e4/installation-4.1.0/import/cache/raw/cncb/m\n",
      "downloaded 0: /GVM/Coronavirus/gff3/n -> /Users/peter/Library/Application Support/Neo4j Desktop/Application/neo4jDatabases/database-328d8379-6ab4-4cc1-a397-2de37909d2e4/installation-4.1.0/import/cache/raw/cncb/n\n"
     ]
    }
   ],
   "source": [
    "for remote_dir, raw_dir in zip(remote_dirs, raw_dirs):\n",
    "    downloads = update_cache(ftp_server, user, password, remote_dir, raw_dir, limit)\n",
    "    print(f'downloaded {downloads}: {remote_dir} -> {raw_dir}')"
   ]
  },
  {
   "cell_type": "code",
   "execution_count": 14,
   "metadata": {},
   "outputs": [],
   "source": [
    "def parse_strain_id(filename):\n",
    "    # parse strain id from file name, e.g. ..cache/raw/cncb/a/2019-nCoV_EPI_ISL_484968_variants.gff3 -> EPI_ISL_484968\n",
    "    return Path(filename).stem[10:-9]"
   ]
  },
  {
   "cell_type": "code",
   "execution_count": 15,
   "metadata": {},
   "outputs": [],
   "source": [
    "def parse_base_path(filename):\n",
    "    # parse base path from file name, e.g. ..cache/raw/cncb/n/2019-nCoV_EPI_ISL_484968_variants.gff3 -> /n/2019-nCoV_EPI_ISL_484968_variants.\n",
    "    return re.split('cncb', filename)[1][1:-5]"
   ]
  },
  {
   "cell_type": "markdown",
   "metadata": {},
   "source": [
    "Create a dataframe of raw files and strain identifiers"
   ]
  },
  {
   "cell_type": "code",
   "execution_count": 16,
   "metadata": {},
   "outputs": [
    {
     "name": "stdout",
     "output_type": "stream",
     "text": [
      "Cached raw gff3 files: 3497\n"
     ]
    }
   ],
   "source": [
    "raw_files = glob.glob(f'{CACHE_RAW_CNCB}/*/*.gff3')\n",
    "raw_files_df = pd.DataFrame(raw_files, columns=['raw_filename'])\n",
    "raw_files_df['id'] = raw_files_df['raw_filename'].apply(parse_strain_id)\n",
    "print(\"Cached raw gff3 files:\", raw_files_df.shape[0])"
   ]
  },
  {
   "cell_type": "markdown",
   "metadata": {},
   "source": [
    "Create a dataframe of processed files and strain identifiers"
   ]
  },
  {
   "cell_type": "code",
   "execution_count": 17,
   "metadata": {},
   "outputs": [
    {
     "name": "stdout",
     "output_type": "stream",
     "text": [
      "Cached processed csv files: 3484\n"
     ]
    }
   ],
   "source": [
    "proc_files = glob.glob(f'{CACHE_PROCESSED_CNCB}/*/*.csv')\n",
    "proc_files_df = pd.DataFrame(proc_files, columns=['proc_filename'])\n",
    "proc_files_df['id'] = proc_files_df['proc_filename'].apply(parse_strain_id)\n",
    "print(\"Cached processed csv files:\", proc_files_df.shape[0])"
   ]
  },
  {
   "cell_type": "code",
   "execution_count": 18,
   "metadata": {},
   "outputs": [],
   "source": [
    "unproc_files_df = pd.merge(raw_files_df, proc_files_df, on='id', how='outer', indicator=True).query('_merge==\"left_only\"')"
   ]
  },
  {
   "cell_type": "code",
   "execution_count": 19,
   "metadata": {},
   "outputs": [
    {
     "name": "stdout",
     "output_type": "stream",
     "text": [
      "Files to be processed: 13\n"
     ]
    }
   ],
   "source": [
    "print(\"Files to be processed:\", unproc_files_df.shape[0])"
   ]
  },
  {
   "cell_type": "code",
   "execution_count": 20,
   "metadata": {},
   "outputs": [],
   "source": [
    "names = ['taxon1', 'variantType', 'name', 'start', 'end','x1', 'x2', 'x3','taxon2', 'x4', 'ref', 'alt', 'vepAnnotation']"
   ]
  },
  {
   "cell_type": "code",
   "execution_count": 21,
   "metadata": {},
   "outputs": [],
   "source": [
    "def split_vep(record):\n",
    "    # split variant effect predictor record\n",
    "    items = record.split(',')\n",
    "    num_items = len(items)\n",
    "    # example: ['intergenic_variant']\n",
    "    if num_items == 1:\n",
    "        return items[0] + ',,,'\n",
    "    # example: ['missense_variant', 'QHD43415.1:p.1036D>E', 'gene-orf1ab:c.3108gaC>gaA']\n",
    "    elif num_items == 3:\n",
    "        return items[0] + ',' + items[1] + ',' + items[2] + ','\n",
    "    # example: ['upstream_gene_variant', 'DISTANCE=25', 'QHD43415.1', 'gene-orf1ab']     \n",
    "    elif num_items == 4:\n",
    "        return items[0] + ',' +  items[2] + ',' + items[3] + ',' + items[1]\n",
    "    else:\n",
    "        return ',,,'"
   ]
  },
  {
   "cell_type": "code",
   "execution_count": 22,
   "metadata": {},
   "outputs": [],
   "source": [
    "def parse_gff3(raw_file):\n",
    "    filename =  parse_base_path(raw_file)  + '.csv'\n",
    "    #print('parsing:', raw_file, filename)\n",
    "    gff3 = pd.read_csv(raw_file, header=None, comment='#', sep='[\\t;]', engine='python', names=names)\n",
    "    try:\n",
    "        gff3['vepAnnotation'] = gff3['vepAnnotation'].str.replace('VEP=','')\n",
    "        gff3['vepAnnotation'] = gff3['vepAnnotation'].apply(split_vep)\n",
    "        gff3[['variantConsequence','proteinVariant','geneVariant', 'distance']] = gff3['vepAnnotation'].str.split(',', expand=True)\n",
    "        gff3['geneVariant'] = gff3['geneVariant'].str.replace('gene-','')\n",
    "        gff3['distance'] = gff3['distance'].str.replace('DISTANCE=', '')\n",
    "        gff3['ref'] = gff3['ref'].str.replace('REF=','')\n",
    "        gff3['alt'] = gff3['alt'].str.replace('ALT=','')\n",
    "        gff3 = gff3[['name', 'variantType', 'start', 'end', 'ref', 'alt', 'variantConsequence', 'proteinVariant', 'geneVariant', 'distance']]\n",
    "        gff3['id'] = parse_strain_id(raw_file)\n",
    "\n",
    "        gff3.to_csv(CACHE_PROCESSED_CNCB / filename, index=False)\n",
    "        return True\n",
    "    except:\n",
    "        print('Parsing failed for: ', filename)\n",
    "        # cache files that failed to be parsed for manual inspection\n",
    "        shutil.copy(raw_file, CACHE_FAILED)\n",
    "        return False"
   ]
  },
  {
   "cell_type": "code",
   "execution_count": 23,
   "metadata": {},
   "outputs": [
    {
     "name": "stdout",
     "output_type": "stream",
     "text": [
      "Parsing failed for:  a/2019-nCoV_EPI_ISL_418635_variants.csv\n",
      "Parsing failed for:  a/2019-nCoV_EPI_ISL_417602_variants.csv\n",
      "Parsing failed for:  a/2019-nCoV_EPI_ISL_415583_variants.csv\n",
      "Parsing failed for:  a/2019-nCoV_EPI_ISL_417591_variants.csv\n",
      "Parsing failed for:  a/2019-nCoV_EPI_ISL_420534_variants.csv\n"
     ]
    }
   ],
   "source": [
    "status = raw_files_df['raw_filename'].apply(parse_gff3)"
   ]
  },
  {
   "cell_type": "markdown",
   "metadata": {},
   "source": [
    "#### Standardize node property names (CURIEs and URIs)"
   ]
  },
  {
   "cell_type": "code",
   "execution_count": 24,
   "metadata": {},
   "outputs": [],
   "source": [
    "# https://registry.identifiers.org/registry/insdc\n",
    "insdc_pattern = re.compile('^([A-Z]\\d{5}|[A-Z]{2}\\d{6}|[A-Z]{4}\\d{8}|[A-J][A-Z]{2}\\d{5})(\\.\\d+)?$')"
   ]
  },
  {
   "cell_type": "code",
   "execution_count": 25,
   "metadata": {},
   "outputs": [],
   "source": [
    "def assign_curie(id):\n",
    "    id = id.strip()\n",
    "    # remove underscore to enable CURIE matching of NCBI reference sequences NC_...\n",
    "    id = id.replace('NC_', 'NC') \n",
    "    if len(id) > 0:\n",
    "        if id.startswith('EPI'):\n",
    "            return 'https://www.gisaid.org/' + id\n",
    "        elif id.startswith('NC_'):\n",
    "            # NCBI reference sequences resolve with ncbiprotein CURIE\n",
    "            return 'ncbiprotein:' + id\n",
    "        elif insdc_pattern.match(id) != None:\n",
    "            return 'insdc:' + id\n",
    "        else:\n",
    "            # TODO are URIs available for these cases?\n",
    "            return id\n",
    "    else:\n",
    "        return id"
   ]
  },
  {
   "cell_type": "code",
   "execution_count": 26,
   "metadata": {},
   "outputs": [
    {
     "name": "stdout",
     "output_type": "stream",
     "text": [
      "Number of cached files loaded: 3492\n"
     ]
    }
   ],
   "source": [
    "# use all processed data files\n",
    "path = str(CACHE_PROCESSED_CNCB / '*/*.csv')\n",
    "filenames = glob.glob(path)\n",
    "\n",
    "variations = pd.concat((pd.read_csv(f, index_col=None, header=0) for f in filenames))\n",
    "variations.fillna('', inplace=True)\n",
    "\n",
    "print('Number of cached files loaded:',len(filenames))"
   ]
  },
  {
   "cell_type": "markdown",
   "metadata": {},
   "source": [
    "List of variant types and consequences:\n",
    "\n",
    "https://uswest.ensembl.org/info/genome/variation/prediction/classification.html\n",
    "\n",
    "https://uswest.ensembl.org/info/genome/variation/prediction/predicted_data.html#consequences"
   ]
  },
  {
   "cell_type": "markdown",
   "metadata": {},
   "source": [
    "#### Extract protein position and protein id from proteinVariant string\n",
    "\n",
    "Example: QHD43415.1:p.5828P>L\n",
    "\n",
    "proteinPosition: 5828\n",
    "proteinId: QHD43415"
   ]
  },
  {
   "cell_type": "code",
   "execution_count": 27,
   "metadata": {},
   "outputs": [],
   "source": [
    "position_pattern = re.compile(':p\\.(.*?)[A-Z|\\-]+')"
   ]
  },
  {
   "cell_type": "code",
   "execution_count": 28,
   "metadata": {},
   "outputs": [],
   "source": [
    "def extract_protein_position(s):\n",
    "    if s == '':\n",
    "        return s\n",
    "    else:\n",
    "        groups = position_pattern.search(s)\n",
    "        if groups == None:\n",
    "            return ''\n",
    "        else:\n",
    "            return groups.group(1)"
   ]
  },
  {
   "cell_type": "code",
   "execution_count": 29,
   "metadata": {},
   "outputs": [],
   "source": [
    "variations['proteinPosition'] = variations['proteinVariant'].apply(extract_protein_position)"
   ]
  },
  {
   "cell_type": "code",
   "execution_count": 30,
   "metadata": {},
   "outputs": [],
   "source": [
    "variations['proteinAccession'] = variations['proteinVariant'].apply(lambda s: s.split('.')[0] if '.' in s else '')"
   ]
  },
  {
   "cell_type": "code",
   "execution_count": 31,
   "metadata": {},
   "outputs": [
    {
     "data": {
      "text/plain": [
       "array(['', 'QHD43415', 'QHD43417', 'QHD43416', 'QHD43419', 'QHD43423',\n",
       "       'QHD43421', 'QHD43422', 'QHI42199', 'QHD43420', 'QHD43418'],\n",
       "      dtype=object)"
      ]
     },
     "execution_count": 31,
     "metadata": {},
     "output_type": "execute_result"
    }
   ],
   "source": [
    "variations['proteinAccession'].unique()"
   ]
  },
  {
   "cell_type": "markdown",
   "metadata": {},
   "source": [
    "#### Assign SARS-CoV-2 taxonomy id"
   ]
  },
  {
   "cell_type": "code",
   "execution_count": 32,
   "metadata": {},
   "outputs": [],
   "source": [
    "variations['taxonomyId'] = 'taxonomy:2697049'"
   ]
  },
  {
   "cell_type": "markdown",
   "metadata": {},
   "source": [
    "#### Assign Reference genome\n",
    "\n",
    "The first SARS-CoV-2 genome sequence is the reference for the variant annotation below.\n",
    "\n",
    "[Severe acute respiratory syndrome coronavirus 2 isolate Wuhan-Hu-1](https://www.ncbi.nlm.nih.gov/nuccore/MN908947)"
   ]
  },
  {
   "cell_type": "code",
   "execution_count": 33,
   "metadata": {},
   "outputs": [],
   "source": [
    "# variations['referenceGenome'] = 'insdc:MN908947' -> same as NCBI reference sequence NC_045512\n",
    "variations['referenceGenome'] = 'ncbiprotein:NC_045512'"
   ]
  },
  {
   "cell_type": "code",
   "execution_count": 34,
   "metadata": {},
   "outputs": [],
   "source": [
    "variations['proteinAccession'] = variations['proteinAccession'].apply(lambda s: 'ncbiprotein:' + s if s != '' else s)"
   ]
  },
  {
   "cell_type": "markdown",
   "metadata": {},
   "source": [
    "Fix a misspelled terms"
   ]
  },
  {
   "cell_type": "code",
   "execution_count": 35,
   "metadata": {},
   "outputs": [],
   "source": [
    "variations['variantConsequence'] = variations['variantConsequence'].replace('intergenic_variant||intergenic_variant', 'intergenic_variant')"
   ]
  },
  {
   "cell_type": "code",
   "execution_count": 36,
   "metadata": {},
   "outputs": [],
   "source": [
    "variations['variantConsequence'] = variations['variantConsequence'].replace('intergenic_variant||intergenic_varia', 'intergenic_variant')"
   ]
  },
  {
   "cell_type": "code",
   "execution_count": 37,
   "metadata": {},
   "outputs": [
    {
     "name": "stdout",
     "output_type": "stream",
     "text": [
      "variantType: ['Deletion' 'SNP' 'Insertion' 'Indel']\n"
     ]
    }
   ],
   "source": [
    "print('variantType:', variations['variantType'].unique())"
   ]
  },
  {
   "cell_type": "code",
   "execution_count": 38,
   "metadata": {},
   "outputs": [
    {
     "name": "stdout",
     "output_type": "stream",
     "text": [
      "variantConsequence: ['intergenic_variant' 'synonymous_variant' 'inframe_deletion'\n",
      " 'missense_variant' 'upstream_gene_variant' 'downstream_gene_variant'\n",
      " 'coding_sequence_variant' 'stop_gained' 'frameshift_variant'\n",
      " 'protein_altering_variant' 'inframe_insertion' 'stop_lost' 'start_lost']\n"
     ]
    }
   ],
   "source": [
    "print(\"variantConsequence:\", variations['variantConsequence'].unique())"
   ]
  },
  {
   "cell_type": "code",
   "execution_count": 39,
   "metadata": {},
   "outputs": [
    {
     "data": {
      "text/html": [
       "<div>\n",
       "<style scoped>\n",
       "    .dataframe tbody tr th:only-of-type {\n",
       "        vertical-align: middle;\n",
       "    }\n",
       "\n",
       "    .dataframe tbody tr th {\n",
       "        vertical-align: top;\n",
       "    }\n",
       "\n",
       "    .dataframe thead th {\n",
       "        text-align: right;\n",
       "    }\n",
       "</style>\n",
       "<table border=\"1\" class=\"dataframe\">\n",
       "  <thead>\n",
       "    <tr style=\"text-align: right;\">\n",
       "      <th></th>\n",
       "      <th>name</th>\n",
       "      <th>variantType</th>\n",
       "      <th>start</th>\n",
       "      <th>end</th>\n",
       "      <th>ref</th>\n",
       "      <th>alt</th>\n",
       "      <th>variantConsequence</th>\n",
       "      <th>proteinVariant</th>\n",
       "      <th>geneVariant</th>\n",
       "      <th>distance</th>\n",
       "      <th>id</th>\n",
       "      <th>proteinPosition</th>\n",
       "      <th>proteinAccession</th>\n",
       "      <th>taxonomyId</th>\n",
       "      <th>referenceGenome</th>\n",
       "    </tr>\n",
       "  </thead>\n",
       "  <tbody>\n",
       "    <tr>\n",
       "      <th>0</th>\n",
       "      <td>hCov-19/Netherlands/NoordBrabant/51/2020</td>\n",
       "      <td>Deletion</td>\n",
       "      <td>1</td>\n",
       "      <td>43</td>\n",
       "      <td>AATTAAAGGTTTATACCTTCCCAGGTAACAAACCAACCAACTTT</td>\n",
       "      <td>-</td>\n",
       "      <td>intergenic_variant</td>\n",
       "      <td></td>\n",
       "      <td></td>\n",
       "      <td></td>\n",
       "      <td>EPI_ISL_415507</td>\n",
       "      <td></td>\n",
       "      <td></td>\n",
       "      <td>taxonomy:2697049</td>\n",
       "      <td>ncbiprotein:NC_045512</td>\n",
       "    </tr>\n",
       "    <tr>\n",
       "      <th>1</th>\n",
       "      <td>hCov-19/Netherlands/NoordBrabant/51/2020</td>\n",
       "      <td>SNP</td>\n",
       "      <td>514</td>\n",
       "      <td>514</td>\n",
       "      <td>T</td>\n",
       "      <td>C</td>\n",
       "      <td>synonymous_variant</td>\n",
       "      <td>QHD43415.1:p.83H</td>\n",
       "      <td>orf1ab:c.249caT&gt;caC</td>\n",
       "      <td></td>\n",
       "      <td>EPI_ISL_415507</td>\n",
       "      <td>83</td>\n",
       "      <td>ncbiprotein:QHD43415</td>\n",
       "      <td>taxonomy:2697049</td>\n",
       "      <td>ncbiprotein:NC_045512</td>\n",
       "    </tr>\n",
       "    <tr>\n",
       "      <th>2</th>\n",
       "      <td>hCov-19/Netherlands/NoordBrabant/51/2020</td>\n",
       "      <td>Deletion</td>\n",
       "      <td>1604</td>\n",
       "      <td>1607</td>\n",
       "      <td>AATG</td>\n",
       "      <td>A</td>\n",
       "      <td>inframe_deletion</td>\n",
       "      <td>QHD43415.1:p.447-448ND&gt;N</td>\n",
       "      <td>orf1ab:c.1340-1342aATGac&gt;aac</td>\n",
       "      <td></td>\n",
       "      <td>EPI_ISL_415507</td>\n",
       "      <td>447</td>\n",
       "      <td>ncbiprotein:QHD43415</td>\n",
       "      <td>taxonomy:2697049</td>\n",
       "      <td>ncbiprotein:NC_045512</td>\n",
       "    </tr>\n",
       "    <tr>\n",
       "      <th>3</th>\n",
       "      <td>hCov-19/Netherlands/NoordBrabant/51/2020</td>\n",
       "      <td>Deletion</td>\n",
       "      <td>29829</td>\n",
       "      <td>29903</td>\n",
       "      <td>TGCTATCCCCATGTGATTTTAATAGCTTCTTAGGAGAATGACAAAA...</td>\n",
       "      <td>T</td>\n",
       "      <td>intergenic_variant</td>\n",
       "      <td></td>\n",
       "      <td></td>\n",
       "      <td></td>\n",
       "      <td>EPI_ISL_415507</td>\n",
       "      <td></td>\n",
       "      <td></td>\n",
       "      <td>taxonomy:2697049</td>\n",
       "      <td>ncbiprotein:NC_045512</td>\n",
       "    </tr>\n",
       "    <tr>\n",
       "      <th>0</th>\n",
       "      <td>hCoV-19/England/200990725/2020</td>\n",
       "      <td>SNP</td>\n",
       "      <td>2480</td>\n",
       "      <td>2480</td>\n",
       "      <td>A</td>\n",
       "      <td>G</td>\n",
       "      <td>missense_variant</td>\n",
       "      <td>QHD43415.1:p.739I&gt;V</td>\n",
       "      <td>orf1ab:c.2215Att&gt;Gtt</td>\n",
       "      <td></td>\n",
       "      <td>EPI_ISL_414007</td>\n",
       "      <td>739</td>\n",
       "      <td>ncbiprotein:QHD43415</td>\n",
       "      <td>taxonomy:2697049</td>\n",
       "      <td>ncbiprotein:NC_045512</td>\n",
       "    </tr>\n",
       "  </tbody>\n",
       "</table>\n",
       "</div>"
      ],
      "text/plain": [
       "                                       name variantType  start    end  \\\n",
       "0  hCov-19/Netherlands/NoordBrabant/51/2020    Deletion      1     43   \n",
       "1  hCov-19/Netherlands/NoordBrabant/51/2020         SNP    514    514   \n",
       "2  hCov-19/Netherlands/NoordBrabant/51/2020    Deletion   1604   1607   \n",
       "3  hCov-19/Netherlands/NoordBrabant/51/2020    Deletion  29829  29903   \n",
       "0            hCoV-19/England/200990725/2020         SNP   2480   2480   \n",
       "\n",
       "                                                 ref alt  variantConsequence  \\\n",
       "0       AATTAAAGGTTTATACCTTCCCAGGTAACAAACCAACCAACTTT   -  intergenic_variant   \n",
       "1                                                  T   C  synonymous_variant   \n",
       "2                                               AATG   A    inframe_deletion   \n",
       "3  TGCTATCCCCATGTGATTTTAATAGCTTCTTAGGAGAATGACAAAA...   T  intergenic_variant   \n",
       "0                                                  A   G    missense_variant   \n",
       "\n",
       "             proteinVariant                   geneVariant distance  \\\n",
       "0                                                                    \n",
       "1          QHD43415.1:p.83H           orf1ab:c.249caT>caC            \n",
       "2  QHD43415.1:p.447-448ND>N  orf1ab:c.1340-1342aATGac>aac            \n",
       "3                                                                    \n",
       "0       QHD43415.1:p.739I>V          orf1ab:c.2215Att>Gtt            \n",
       "\n",
       "               id proteinPosition      proteinAccession        taxonomyId  \\\n",
       "0  EPI_ISL_415507                                        taxonomy:2697049   \n",
       "1  EPI_ISL_415507              83  ncbiprotein:QHD43415  taxonomy:2697049   \n",
       "2  EPI_ISL_415507             447  ncbiprotein:QHD43415  taxonomy:2697049   \n",
       "3  EPI_ISL_415507                                        taxonomy:2697049   \n",
       "0  EPI_ISL_414007             739  ncbiprotein:QHD43415  taxonomy:2697049   \n",
       "\n",
       "         referenceGenome  \n",
       "0  ncbiprotein:NC_045512  \n",
       "1  ncbiprotein:NC_045512  \n",
       "2  ncbiprotein:NC_045512  \n",
       "3  ncbiprotein:NC_045512  \n",
       "0  ncbiprotein:NC_045512  "
      ]
     },
     "execution_count": 39,
     "metadata": {},
     "output_type": "execute_result"
    }
   ],
   "source": [
    "variations.head()"
   ]
  },
  {
   "cell_type": "code",
   "execution_count": 40,
   "metadata": {},
   "outputs": [
    {
     "name": "stdout",
     "output_type": "stream",
     "text": [
      "Number of variants: 62793\n"
     ]
    }
   ],
   "source": [
    "print(\"Number of variants:\", variations.shape[0])"
   ]
  },
  {
   "cell_type": "code",
   "execution_count": 41,
   "metadata": {},
   "outputs": [],
   "source": [
    "variations.to_csv(NEO4J_IMPORT / \"01d-CNCBVariant.csv\", index=False)"
   ]
  }
 ],
 "metadata": {
  "kernelspec": {
   "display_name": "Python 3",
   "language": "python",
   "name": "python3"
  },
  "language_info": {
   "codemirror_mode": {
    "name": "ipython",
    "version": 3
   },
   "file_extension": ".py",
   "mimetype": "text/x-python",
   "name": "python",
   "nbconvert_exporter": "python",
   "pygments_lexer": "ipython3",
   "version": "3.7.8"
  }
 },
 "nbformat": 4,
 "nbformat_minor": 4
}

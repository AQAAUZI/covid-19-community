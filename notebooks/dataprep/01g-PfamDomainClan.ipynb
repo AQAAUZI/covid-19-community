{
 "cells": [
  {
   "cell_type": "markdown",
   "metadata": {},
   "source": [
    "# Pfam Domain and Clan Data\n",
    "**[Work in progress]**\n",
    "\n",
    "This notebook downloads Pfam domain and clan (family) data.\n",
    "\n",
    "Data source: [Pfam](https://pfam.xfam.org/)\n",
    "\n",
    "Author: Peter Rose (pwrose@ucsd.edu)"
   ]
  },
  {
   "cell_type": "code",
   "execution_count": 1,
   "metadata": {},
   "outputs": [],
   "source": [
    "import os\n",
    "import pandas as pd\n",
    "from pathlib import Path"
   ]
  },
  {
   "cell_type": "code",
   "execution_count": 2,
   "metadata": {},
   "outputs": [],
   "source": [
    "pd.options.display.max_rows = None  # display all rows\n",
    "pd.options.display.max_columns = None  # display all columsns"
   ]
  },
  {
   "cell_type": "code",
   "execution_count": 3,
   "metadata": {},
   "outputs": [
    {
     "name": "stdout",
     "output_type": "stream",
     "text": [
      "/Users/peter/Library/Application Support/com.Neo4j.Relate/data/dbmss/dbms-8bf637fc-0d20-4d9f-9c6f-f7e72e92a4da/import\n"
     ]
    }
   ],
   "source": [
    "NEO4J_IMPORT = Path(os.getenv('NEO4J_IMPORT'))\n",
    "print(NEO4J_IMPORT)"
   ]
  },
  {
   "cell_type": "markdown",
   "metadata": {},
   "source": [
    "### Download data"
   ]
  },
  {
   "cell_type": "code",
   "execution_count": 4,
   "metadata": {},
   "outputs": [],
   "source": [
    "pfam_url = 'ftp://ftp.ebi.ac.uk/pub/databases/Pfam/current_release/Pfam-A.clans.tsv.gz'"
   ]
  },
  {
   "cell_type": "code",
   "execution_count": 5,
   "metadata": {},
   "outputs": [],
   "source": [
    "df = pd.read_csv(pfam_url, sep='\\t', dtype=str, header=0,\n",
    "                 names=['accession', 'clanId', 'clanName', 'name', 'description'])"
   ]
  },
  {
   "cell_type": "markdown",
   "metadata": {},
   "source": [
    "### Assign CURIEs and standard names"
   ]
  },
  {
   "cell_type": "code",
   "execution_count": 6,
   "metadata": {},
   "outputs": [],
   "source": [
    "df['accession'] = 'pfam:' + df['accession']"
   ]
  },
  {
   "cell_type": "code",
   "execution_count": 7,
   "metadata": {},
   "outputs": [
    {
     "data": {
      "text/html": [
       "<div>\n",
       "<style scoped>\n",
       "    .dataframe tbody tr th:only-of-type {\n",
       "        vertical-align: middle;\n",
       "    }\n",
       "\n",
       "    .dataframe tbody tr th {\n",
       "        vertical-align: top;\n",
       "    }\n",
       "\n",
       "    .dataframe thead th {\n",
       "        text-align: right;\n",
       "    }\n",
       "</style>\n",
       "<table border=\"1\" class=\"dataframe\">\n",
       "  <thead>\n",
       "    <tr style=\"text-align: right;\">\n",
       "      <th></th>\n",
       "      <th>accession</th>\n",
       "      <th>clanId</th>\n",
       "      <th>clanName</th>\n",
       "      <th>name</th>\n",
       "      <th>description</th>\n",
       "    </tr>\n",
       "  </thead>\n",
       "  <tbody>\n",
       "    <tr>\n",
       "      <th>0</th>\n",
       "      <td>pfam:PF00002</td>\n",
       "      <td>CL0192</td>\n",
       "      <td>GPCR_A</td>\n",
       "      <td>7tm_2</td>\n",
       "      <td>7 transmembrane receptor (Secretin family)</td>\n",
       "    </tr>\n",
       "    <tr>\n",
       "      <th>1</th>\n",
       "      <td>pfam:PF00003</td>\n",
       "      <td>CL0192</td>\n",
       "      <td>GPCR_A</td>\n",
       "      <td>7tm_3</td>\n",
       "      <td>7 transmembrane sweet-taste receptor of 3 GCPR</td>\n",
       "    </tr>\n",
       "    <tr>\n",
       "      <th>2</th>\n",
       "      <td>pfam:PF00004</td>\n",
       "      <td>CL0023</td>\n",
       "      <td>P-loop_NTPase</td>\n",
       "      <td>AAA</td>\n",
       "      <td>ATPase family associated with various cellular...</td>\n",
       "    </tr>\n",
       "    <tr>\n",
       "      <th>3</th>\n",
       "      <td>pfam:PF00005</td>\n",
       "      <td>CL0023</td>\n",
       "      <td>P-loop_NTPase</td>\n",
       "      <td>ABC_tran</td>\n",
       "      <td>ABC transporter</td>\n",
       "    </tr>\n",
       "    <tr>\n",
       "      <th>4</th>\n",
       "      <td>pfam:PF00006</td>\n",
       "      <td>CL0023</td>\n",
       "      <td>P-loop_NTPase</td>\n",
       "      <td>ATP-synt_ab</td>\n",
       "      <td>ATP synthase alpha/beta family, nucleotide-bin...</td>\n",
       "    </tr>\n",
       "  </tbody>\n",
       "</table>\n",
       "</div>"
      ],
      "text/plain": [
       "      accession  clanId       clanName         name  \\\n",
       "0  pfam:PF00002  CL0192         GPCR_A        7tm_2   \n",
       "1  pfam:PF00003  CL0192         GPCR_A        7tm_3   \n",
       "2  pfam:PF00004  CL0023  P-loop_NTPase          AAA   \n",
       "3  pfam:PF00005  CL0023  P-loop_NTPase     ABC_tran   \n",
       "4  pfam:PF00006  CL0023  P-loop_NTPase  ATP-synt_ab   \n",
       "\n",
       "                                         description  \n",
       "0         7 transmembrane receptor (Secretin family)  \n",
       "1     7 transmembrane sweet-taste receptor of 3 GCPR  \n",
       "2  ATPase family associated with various cellular...  \n",
       "3                                    ABC transporter  \n",
       "4  ATP synthase alpha/beta family, nucleotide-bin...  "
      ]
     },
     "execution_count": 7,
     "metadata": {},
     "output_type": "execute_result"
    }
   ],
   "source": [
    "df.head()"
   ]
  },
  {
   "cell_type": "code",
   "execution_count": 8,
   "metadata": {},
   "outputs": [],
   "source": [
    "df.to_csv(NEO4J_IMPORT / \"01g-PfamDomainClan.csv\", index=False)"
   ]
  }
 ],
 "metadata": {
  "kernelspec": {
   "display_name": "Python 3",
   "language": "python",
   "name": "python3"
  },
  "language_info": {
   "codemirror_mode": {
    "name": "ipython",
    "version": 3
   },
   "file_extension": ".py",
   "mimetype": "text/x-python",
   "name": "python",
   "nbconvert_exporter": "python",
   "pygments_lexer": "ipython3",
   "version": "3.7.8"
  }
 },
 "nbformat": 4,
 "nbformat_minor": 4
}

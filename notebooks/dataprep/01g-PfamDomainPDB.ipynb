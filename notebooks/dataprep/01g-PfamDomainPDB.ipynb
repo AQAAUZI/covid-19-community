{
 "cells": [
  {
   "cell_type": "markdown",
   "metadata": {},
   "source": [
    "# Downloads PDB - Pfam Domain Mappings\n",
    "**[Work in progress]**\n",
    "\n",
    "This notebook downloads Pfam domain information for PDB structures.\n",
    "\n",
    "Data source: [Pfam](https://pfam.xfam.org/)\n",
    "\n",
    "Author: Peter Rose (pwrose@ucsd.edu)"
   ]
  },
  {
   "cell_type": "code",
   "execution_count": 1,
   "metadata": {},
   "outputs": [],
   "source": [
    "import os\n",
    "import pandas as pd\n",
    "from pathlib import Path"
   ]
  },
  {
   "cell_type": "code",
   "execution_count": 2,
   "metadata": {},
   "outputs": [],
   "source": [
    "pd.options.display.max_rows = None  # display all rows\n",
    "pd.options.display.max_columns = None  # display all columsns"
   ]
  },
  {
   "cell_type": "code",
   "execution_count": 3,
   "metadata": {},
   "outputs": [
    {
     "name": "stdout",
     "output_type": "stream",
     "text": [
      "/Users/peter/Library/Application Support/com.Neo4j.Relate/data/dbmss/dbms-8bf637fc-0d20-4d9f-9c6f-f7e72e92a4da/import\n"
     ]
    }
   ],
   "source": [
    "NEO4J_IMPORT = Path(os.getenv('NEO4J_IMPORT'))\n",
    "print(NEO4J_IMPORT)"
   ]
  },
  {
   "cell_type": "markdown",
   "metadata": {},
   "source": [
    "### Download data"
   ]
  },
  {
   "cell_type": "code",
   "execution_count": 4,
   "metadata": {},
   "outputs": [],
   "source": [
    "pdb_pfam_url = 'ftp://ftp.ebi.ac.uk/pub/databases/Pfam/mappings/pdb_pfam_mapping.txt'"
   ]
  },
  {
   "cell_type": "code",
   "execution_count": 5,
   "metadata": {},
   "outputs": [],
   "source": [
    "df = pd.read_csv(pdb_pfam_url, sep='\\t', dtype=str)"
   ]
  },
  {
   "cell_type": "markdown",
   "metadata": {},
   "source": [
    "### Assign CURIEs and standard names"
   ]
  },
  {
   "cell_type": "code",
   "execution_count": 6,
   "metadata": {},
   "outputs": [],
   "source": [
    "df['accession'] = 'pfam:' + df['PFAM_ACC'].str.split('.', expand=True)[0]"
   ]
  },
  {
   "cell_type": "code",
   "execution_count": 7,
   "metadata": {},
   "outputs": [],
   "source": [
    "df['pdbChainId'] = 'pdb:' + df['PDB_ID'] + '.' + df['CHAIN_ID']"
   ]
  },
  {
   "cell_type": "code",
   "execution_count": 8,
   "metadata": {},
   "outputs": [],
   "source": [
    "df.rename(columns={'PFAM_Name': 'name'}, inplace=True)\n",
    "df.rename(columns={'PFAM_desc': 'description'}, inplace=True)\n",
    "df.rename(columns={'PdbResNumStart': 'start'}, inplace=True)\n",
    "df.rename(columns={'PdbResNumEnd': 'end'}, inplace=True)"
   ]
  },
  {
   "cell_type": "code",
   "execution_count": 9,
   "metadata": {},
   "outputs": [
    {
     "data": {
      "text/html": [
       "<div>\n",
       "<style scoped>\n",
       "    .dataframe tbody tr th:only-of-type {\n",
       "        vertical-align: middle;\n",
       "    }\n",
       "\n",
       "    .dataframe tbody tr th {\n",
       "        vertical-align: top;\n",
       "    }\n",
       "\n",
       "    .dataframe thead th {\n",
       "        text-align: right;\n",
       "    }\n",
       "</style>\n",
       "<table border=\"1\" class=\"dataframe\">\n",
       "  <thead>\n",
       "    <tr style=\"text-align: right;\">\n",
       "      <th></th>\n",
       "      <th>PDB_ID</th>\n",
       "      <th>CHAIN_ID</th>\n",
       "      <th>start</th>\n",
       "      <th>end</th>\n",
       "      <th>PFAM_ACC</th>\n",
       "      <th>name</th>\n",
       "      <th>description</th>\n",
       "      <th>eValue</th>\n",
       "      <th>accession</th>\n",
       "      <th>pdbChainId</th>\n",
       "    </tr>\n",
       "  </thead>\n",
       "  <tbody>\n",
       "    <tr>\n",
       "      <th>0</th>\n",
       "      <td>2FGX</td>\n",
       "      <td>A</td>\n",
       "      <td>9</td>\n",
       "      <td>84</td>\n",
       "      <td>PF05768.14</td>\n",
       "      <td>DUF836</td>\n",
       "      <td>Glutaredoxin-like domain (DUF836)</td>\n",
       "      <td>9.4E-19</td>\n",
       "      <td>pfam:PF05768</td>\n",
       "      <td>pdb:2FGX.A</td>\n",
       "    </tr>\n",
       "    <tr>\n",
       "      <th>1</th>\n",
       "      <td>4U2F</td>\n",
       "      <td>A</td>\n",
       "      <td>16</td>\n",
       "      <td>229</td>\n",
       "      <td>PF01738.18</td>\n",
       "      <td>DLH</td>\n",
       "      <td>Dienelactone hydrolase family</td>\n",
       "      <td>0.0</td>\n",
       "      <td>pfam:PF01738</td>\n",
       "      <td>pdb:4U2F.A</td>\n",
       "    </tr>\n",
       "    <tr>\n",
       "      <th>2</th>\n",
       "      <td>3MUV</td>\n",
       "      <td>P</td>\n",
       "      <td>12</td>\n",
       "      <td>82</td>\n",
       "      <td>PF00076.22</td>\n",
       "      <td>RRM_1</td>\n",
       "      <td>RNA recognition motif. (a.k.a. RRM, RBD, or RN...</td>\n",
       "      <td>7.1E-13</td>\n",
       "      <td>pfam:PF00076</td>\n",
       "      <td>pdb:3MUV.P</td>\n",
       "    </tr>\n",
       "    <tr>\n",
       "      <th>3</th>\n",
       "      <td>4H7O</td>\n",
       "      <td>A</td>\n",
       "      <td>9</td>\n",
       "      <td>112</td>\n",
       "      <td>PF06426.14</td>\n",
       "      <td>SATase_N</td>\n",
       "      <td>Serine acetyltransferase, N-terminal</td>\n",
       "      <td>3.6E-39</td>\n",
       "      <td>pfam:PF06426</td>\n",
       "      <td>pdb:4H7O.A</td>\n",
       "    </tr>\n",
       "    <tr>\n",
       "      <th>4</th>\n",
       "      <td>4H7O</td>\n",
       "      <td>A</td>\n",
       "      <td>193</td>\n",
       "      <td>226</td>\n",
       "      <td>PF00132.24</td>\n",
       "      <td>Hexapep</td>\n",
       "      <td>Bacterial transferase hexapeptide (six repeats)</td>\n",
       "      <td>1.6E-11</td>\n",
       "      <td>pfam:PF00132</td>\n",
       "      <td>pdb:4H7O.A</td>\n",
       "    </tr>\n",
       "  </tbody>\n",
       "</table>\n",
       "</div>"
      ],
      "text/plain": [
       "  PDB_ID CHAIN_ID start  end    PFAM_ACC      name  \\\n",
       "0   2FGX        A     9   84  PF05768.14    DUF836   \n",
       "1   4U2F        A    16  229  PF01738.18       DLH   \n",
       "2   3MUV        P    12   82  PF00076.22     RRM_1   \n",
       "3   4H7O        A     9  112  PF06426.14  SATase_N   \n",
       "4   4H7O        A   193  226  PF00132.24   Hexapep   \n",
       "\n",
       "                                         description   eValue     accession  \\\n",
       "0                  Glutaredoxin-like domain (DUF836)  9.4E-19  pfam:PF05768   \n",
       "1                      Dienelactone hydrolase family      0.0  pfam:PF01738   \n",
       "2  RNA recognition motif. (a.k.a. RRM, RBD, or RN...  7.1E-13  pfam:PF00076   \n",
       "3               Serine acetyltransferase, N-terminal  3.6E-39  pfam:PF06426   \n",
       "4    Bacterial transferase hexapeptide (six repeats)  1.6E-11  pfam:PF00132   \n",
       "\n",
       "   pdbChainId  \n",
       "0  pdb:2FGX.A  \n",
       "1  pdb:4U2F.A  \n",
       "2  pdb:3MUV.P  \n",
       "3  pdb:4H7O.A  \n",
       "4  pdb:4H7O.A  "
      ]
     },
     "execution_count": 9,
     "metadata": {},
     "output_type": "execute_result"
    }
   ],
   "source": [
    "df.head()"
   ]
  },
  {
   "cell_type": "code",
   "execution_count": 10,
   "metadata": {},
   "outputs": [],
   "source": [
    "df.to_csv(NEO4J_IMPORT / \"01g-PfamDomainPDB.csv\", index=False)"
   ]
  }
 ],
 "metadata": {
  "kernelspec": {
   "display_name": "Python 3",
   "language": "python",
   "name": "python3"
  },
  "language_info": {
   "codemirror_mode": {
    "name": "ipython",
    "version": 3
   },
   "file_extension": ".py",
   "mimetype": "text/x-python",
   "name": "python",
   "nbconvert_exporter": "python",
   "pygments_lexer": "ipython3",
   "version": "3.7.8"
  }
 },
 "nbformat": 4,
 "nbformat_minor": 4
}

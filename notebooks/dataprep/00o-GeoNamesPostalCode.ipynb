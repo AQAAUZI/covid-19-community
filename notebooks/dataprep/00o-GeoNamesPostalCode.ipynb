{
 "cells": [
  {
   "cell_type": "markdown",
   "metadata": {},
   "source": [
    "# Postal Code for the US"
   ]
  },
  {
   "cell_type": "markdown",
   "metadata": {},
   "source": [
    "**[Work in progress]**\n",
    "\n",
    "This notebook adds US zip code, place name, latitude, longitude data to .csv files for ingestion into the Knowledge Graph.\n",
    "\n",
    "Data source: [GeoNames.org](http://download.geonames.org/export/zip/)\n",
    "\n",
    "Author: Peter Rose (pwrose@ucsd.edu)"
   ]
  },
  {
   "cell_type": "code",
   "execution_count": 1,
   "metadata": {},
   "outputs": [],
   "source": [
    "import os\n",
    "from pathlib import Path\n",
    "from io import BytesIO\n",
    "import requests\n",
    "from zipfile import ZipFile\n",
    "import pandas as pd"
   ]
  },
  {
   "cell_type": "code",
   "execution_count": 2,
   "metadata": {},
   "outputs": [],
   "source": [
    "pd.options.display.max_rows = None  # display all rows\n",
    "pd.options.display.max_columns = None  # display all columsns"
   ]
  },
  {
   "cell_type": "code",
   "execution_count": 3,
   "metadata": {},
   "outputs": [
    {
     "name": "stdout",
     "output_type": "stream",
     "text": [
      "/Users/peter/Library/Application Support/Neo4j Desktop/Application/neo4jDatabases/database-4af96121-2328-4e2f-ba60-6d8b728a26d5/installation-4.0.3\n"
     ]
    }
   ],
   "source": [
    "NEO4J_HOME = Path(os.getenv('NEO4J_HOME'))\n",
    "print(NEO4J_HOME)"
   ]
  },
  {
   "cell_type": "markdown",
   "metadata": {},
   "source": [
    "### Download data from GeoNames"
   ]
  },
  {
   "cell_type": "code",
   "execution_count": 4,
   "metadata": {},
   "outputs": [],
   "source": [
    "zip_url = 'http://download.geonames.org/export/zip/US.zip'"
   ]
  },
  {
   "cell_type": "code",
   "execution_count": 5,
   "metadata": {},
   "outputs": [
    {
     "name": "stdout",
     "output_type": "stream",
     "text": [
      "File in zip: readme.txt\n",
      "File in zip: US.txt\n"
     ]
    }
   ],
   "source": [
    "content = requests.get(zip_url)\n",
    "zf = ZipFile(BytesIO(content.content))\n",
    "\n",
    "for item in zf.namelist():\n",
    "    print(\"File in zip: \"+  item)"
   ]
  },
  {
   "cell_type": "raw",
   "metadata": {},
   "source": [
    "country code      : iso country code, 2 characters\n",
    "postal code       : varchar(20)\n",
    "place name        : varchar(180)\n",
    "admin name1       : 1. order subdivision (state) varchar(100)\n",
    "admin code1       : 1. order subdivision (state) varchar(20)\n",
    "admin name2       : 2. order subdivision (county/province) varchar(100)\n",
    "admin code2       : 2. order subdivision (county/province) varchar(20)\n",
    "admin name3       : 3. order subdivision (community) varchar(100)\n",
    "admin code3       : 3. order subdivision (community) varchar(20)\n",
    "latitude          : estimated latitude (wgs84)\n",
    "longitude         : estimated longitude (wgs84)\n",
    "accuracy          : accuracy of lat/lng from 1=estimated, 4=geonameid, 6=centroid of addresses or shape"
   ]
  },
  {
   "cell_type": "code",
   "execution_count": 6,
   "metadata": {},
   "outputs": [],
   "source": [
    "columns = ['country code', 'postal code', 'place name', 'admin name1', 'admin code1', 'admin name2', 'admin code2', \n",
    "           'admin name3', 'admin code3', 'latitude', 'longitude', 'accuracy']"
   ]
  },
  {
   "cell_type": "code",
   "execution_count": 7,
   "metadata": {},
   "outputs": [],
   "source": [
    "df = pd.read_csv(zf.open('US.txt'), names=columns, sep='\\t', dtype='str', header=0)\n",
    "df.fillna('', inplace=True)"
   ]
  },
  {
   "cell_type": "code",
   "execution_count": 8,
   "metadata": {},
   "outputs": [
    {
     "data": {
      "text/html": [
       "<div>\n",
       "<style scoped>\n",
       "    .dataframe tbody tr th:only-of-type {\n",
       "        vertical-align: middle;\n",
       "    }\n",
       "\n",
       "    .dataframe tbody tr th {\n",
       "        vertical-align: top;\n",
       "    }\n",
       "\n",
       "    .dataframe thead th {\n",
       "        text-align: right;\n",
       "    }\n",
       "</style>\n",
       "<table border=\"1\" class=\"dataframe\">\n",
       "  <thead>\n",
       "    <tr style=\"text-align: right;\">\n",
       "      <th></th>\n",
       "      <th>country code</th>\n",
       "      <th>postal code</th>\n",
       "      <th>place name</th>\n",
       "      <th>admin name1</th>\n",
       "      <th>admin code1</th>\n",
       "      <th>admin name2</th>\n",
       "      <th>admin code2</th>\n",
       "      <th>admin name3</th>\n",
       "      <th>admin code3</th>\n",
       "      <th>latitude</th>\n",
       "      <th>longitude</th>\n",
       "      <th>accuracy</th>\n",
       "    </tr>\n",
       "  </thead>\n",
       "  <tbody>\n",
       "    <tr>\n",
       "      <th>0</th>\n",
       "      <td>US</td>\n",
       "      <td>99571</td>\n",
       "      <td>Cold Bay</td>\n",
       "      <td>Alaska</td>\n",
       "      <td>AK</td>\n",
       "      <td>Aleutians East</td>\n",
       "      <td>013</td>\n",
       "      <td></td>\n",
       "      <td></td>\n",
       "      <td>55.1858</td>\n",
       "      <td>-162.7211</td>\n",
       "      <td>1</td>\n",
       "    </tr>\n",
       "    <tr>\n",
       "      <th>1</th>\n",
       "      <td>US</td>\n",
       "      <td>99583</td>\n",
       "      <td>False Pass</td>\n",
       "      <td>Alaska</td>\n",
       "      <td>AK</td>\n",
       "      <td>Aleutians East</td>\n",
       "      <td>013</td>\n",
       "      <td></td>\n",
       "      <td></td>\n",
       "      <td>54.8542</td>\n",
       "      <td>-163.4113</td>\n",
       "      <td>1</td>\n",
       "    </tr>\n",
       "    <tr>\n",
       "      <th>2</th>\n",
       "      <td>US</td>\n",
       "      <td>99612</td>\n",
       "      <td>King Cove</td>\n",
       "      <td>Alaska</td>\n",
       "      <td>AK</td>\n",
       "      <td>Aleutians East</td>\n",
       "      <td>013</td>\n",
       "      <td></td>\n",
       "      <td></td>\n",
       "      <td>55.0628</td>\n",
       "      <td>-162.3056</td>\n",
       "      <td>1</td>\n",
       "    </tr>\n",
       "    <tr>\n",
       "      <th>3</th>\n",
       "      <td>US</td>\n",
       "      <td>99661</td>\n",
       "      <td>Sand Point</td>\n",
       "      <td>Alaska</td>\n",
       "      <td>AK</td>\n",
       "      <td>Aleutians East</td>\n",
       "      <td>013</td>\n",
       "      <td></td>\n",
       "      <td></td>\n",
       "      <td>55.3192</td>\n",
       "      <td>-160.4914</td>\n",
       "      <td>1</td>\n",
       "    </tr>\n",
       "    <tr>\n",
       "      <th>4</th>\n",
       "      <td>US</td>\n",
       "      <td>99546</td>\n",
       "      <td>Adak</td>\n",
       "      <td>Alaska</td>\n",
       "      <td>AK</td>\n",
       "      <td>Aleutians West (CA)</td>\n",
       "      <td>016</td>\n",
       "      <td></td>\n",
       "      <td></td>\n",
       "      <td>51.874</td>\n",
       "      <td>-176.634</td>\n",
       "      <td>1</td>\n",
       "    </tr>\n",
       "  </tbody>\n",
       "</table>\n",
       "</div>"
      ],
      "text/plain": [
       "  country code postal code  place name admin name1 admin code1  \\\n",
       "0           US       99571    Cold Bay      Alaska          AK   \n",
       "1           US       99583  False Pass      Alaska          AK   \n",
       "2           US       99612   King Cove      Alaska          AK   \n",
       "3           US       99661  Sand Point      Alaska          AK   \n",
       "4           US       99546        Adak      Alaska          AK   \n",
       "\n",
       "           admin name2 admin code2 admin name3 admin code3 latitude  \\\n",
       "0       Aleutians East         013                          55.1858   \n",
       "1       Aleutians East         013                          54.8542   \n",
       "2       Aleutians East         013                          55.0628   \n",
       "3       Aleutians East         013                          55.3192   \n",
       "4  Aleutians West (CA)         016                           51.874   \n",
       "\n",
       "   longitude accuracy  \n",
       "0  -162.7211        1  \n",
       "1  -163.4113        1  \n",
       "2  -162.3056        1  \n",
       "3  -160.4914        1  \n",
       "4   -176.634        1  "
      ]
     },
     "execution_count": 8,
     "metadata": {},
     "output_type": "execute_result"
    }
   ],
   "source": [
    "df.head()"
   ]
  },
  {
   "cell_type": "code",
   "execution_count": 9,
   "metadata": {},
   "outputs": [
    {
     "data": {
      "text/html": [
       "<div>\n",
       "<style scoped>\n",
       "    .dataframe tbody tr th:only-of-type {\n",
       "        vertical-align: middle;\n",
       "    }\n",
       "\n",
       "    .dataframe tbody tr th {\n",
       "        vertical-align: top;\n",
       "    }\n",
       "\n",
       "    .dataframe thead th {\n",
       "        text-align: right;\n",
       "    }\n",
       "</style>\n",
       "<table border=\"1\" class=\"dataframe\">\n",
       "  <thead>\n",
       "    <tr style=\"text-align: right;\">\n",
       "      <th></th>\n",
       "      <th>country code</th>\n",
       "      <th>postal code</th>\n",
       "      <th>place name</th>\n",
       "      <th>admin name1</th>\n",
       "      <th>admin code1</th>\n",
       "      <th>admin name2</th>\n",
       "      <th>admin code2</th>\n",
       "      <th>admin name3</th>\n",
       "      <th>admin code3</th>\n",
       "      <th>latitude</th>\n",
       "      <th>longitude</th>\n",
       "      <th>accuracy</th>\n",
       "    </tr>\n",
       "  </thead>\n",
       "  <tbody>\n",
       "    <tr>\n",
       "      <th>4190</th>\n",
       "      <td>US</td>\n",
       "      <td>92130</td>\n",
       "      <td>San Diego</td>\n",
       "      <td>California</td>\n",
       "      <td>CA</td>\n",
       "      <td>San Diego</td>\n",
       "      <td>073</td>\n",
       "      <td></td>\n",
       "      <td></td>\n",
       "      <td>32.9555</td>\n",
       "      <td>-117.2252</td>\n",
       "      <td>4</td>\n",
       "    </tr>\n",
       "  </tbody>\n",
       "</table>\n",
       "</div>"
      ],
      "text/plain": [
       "     country code postal code place name admin name1 admin code1 admin name2  \\\n",
       "4190           US       92130  San Diego  California          CA   San Diego   \n",
       "\n",
       "     admin code2 admin name3 admin code3 latitude  longitude accuracy  \n",
       "4190         073                          32.9555  -117.2252        4  "
      ]
     },
     "execution_count": 9,
     "metadata": {},
     "output_type": "execute_result"
    }
   ],
   "source": [
    "df.query(\"`postal code` == '92130'\")"
   ]
  },
  {
   "cell_type": "code",
   "execution_count": 10,
   "metadata": {},
   "outputs": [],
   "source": [
    "df.rename(columns={'postal code': 'zip'}, inplace=True)\n",
    "df.rename(columns={'place name': 'placeName'}, inplace=True)"
   ]
  },
  {
   "cell_type": "markdown",
   "metadata": {},
   "source": [
    "Create a GeoNames code for admin2 division"
   ]
  },
  {
   "cell_type": "code",
   "execution_count": 11,
   "metadata": {},
   "outputs": [],
   "source": [
    "df['admin2_id'] = df['country code'] + '.' + df['admin code1'] + '.' + df['admin code2']"
   ]
  },
  {
   "cell_type": "code",
   "execution_count": 12,
   "metadata": {},
   "outputs": [],
   "source": [
    "df = df[['zip', 'admin2_id', 'placeName', 'latitude', 'longitude']]"
   ]
  },
  {
   "cell_type": "code",
   "execution_count": 13,
   "metadata": {},
   "outputs": [
    {
     "data": {
      "text/html": [
       "<div>\n",
       "<style scoped>\n",
       "    .dataframe tbody tr th:only-of-type {\n",
       "        vertical-align: middle;\n",
       "    }\n",
       "\n",
       "    .dataframe tbody tr th {\n",
       "        vertical-align: top;\n",
       "    }\n",
       "\n",
       "    .dataframe thead th {\n",
       "        text-align: right;\n",
       "    }\n",
       "</style>\n",
       "<table border=\"1\" class=\"dataframe\">\n",
       "  <thead>\n",
       "    <tr style=\"text-align: right;\">\n",
       "      <th></th>\n",
       "      <th>zip</th>\n",
       "      <th>admin2_id</th>\n",
       "      <th>placeName</th>\n",
       "      <th>latitude</th>\n",
       "      <th>longitude</th>\n",
       "    </tr>\n",
       "  </thead>\n",
       "  <tbody>\n",
       "    <tr>\n",
       "      <th>4190</th>\n",
       "      <td>92130</td>\n",
       "      <td>US.CA.073</td>\n",
       "      <td>San Diego</td>\n",
       "      <td>32.9555</td>\n",
       "      <td>-117.2252</td>\n",
       "    </tr>\n",
       "  </tbody>\n",
       "</table>\n",
       "</div>"
      ],
      "text/plain": [
       "        zip  admin2_id  placeName latitude  longitude\n",
       "4190  92130  US.CA.073  San Diego  32.9555  -117.2252"
      ]
     },
     "execution_count": 13,
     "metadata": {},
     "output_type": "execute_result"
    }
   ],
   "source": [
    "df.query(\"zip == '92130'\")"
   ]
  },
  {
   "cell_type": "code",
   "execution_count": 14,
   "metadata": {},
   "outputs": [],
   "source": [
    "df.to_csv(NEO4J_HOME / \"import/00o-GeoNamesPostalCode.csv\", index=False)"
   ]
  },
  {
   "cell_type": "code",
   "execution_count": 15,
   "metadata": {},
   "outputs": [
    {
     "data": {
      "text/html": [
       "<div>\n",
       "<style scoped>\n",
       "    .dataframe tbody tr th:only-of-type {\n",
       "        vertical-align: middle;\n",
       "    }\n",
       "\n",
       "    .dataframe tbody tr th {\n",
       "        vertical-align: top;\n",
       "    }\n",
       "\n",
       "    .dataframe thead th {\n",
       "        text-align: right;\n",
       "    }\n",
       "</style>\n",
       "<table border=\"1\" class=\"dataframe\">\n",
       "  <thead>\n",
       "    <tr style=\"text-align: right;\">\n",
       "      <th></th>\n",
       "      <th>zip</th>\n",
       "      <th>admin2_id</th>\n",
       "      <th>placeName</th>\n",
       "      <th>latitude</th>\n",
       "      <th>longitude</th>\n",
       "    </tr>\n",
       "  </thead>\n",
       "  <tbody>\n",
       "    <tr>\n",
       "      <th>0</th>\n",
       "      <td>99571</td>\n",
       "      <td>US.AK.013</td>\n",
       "      <td>Cold Bay</td>\n",
       "      <td>55.1858</td>\n",
       "      <td>-162.7211</td>\n",
       "    </tr>\n",
       "    <tr>\n",
       "      <th>1</th>\n",
       "      <td>99583</td>\n",
       "      <td>US.AK.013</td>\n",
       "      <td>False Pass</td>\n",
       "      <td>54.8542</td>\n",
       "      <td>-163.4113</td>\n",
       "    </tr>\n",
       "    <tr>\n",
       "      <th>2</th>\n",
       "      <td>99612</td>\n",
       "      <td>US.AK.013</td>\n",
       "      <td>King Cove</td>\n",
       "      <td>55.0628</td>\n",
       "      <td>-162.3056</td>\n",
       "    </tr>\n",
       "    <tr>\n",
       "      <th>3</th>\n",
       "      <td>99661</td>\n",
       "      <td>US.AK.013</td>\n",
       "      <td>Sand Point</td>\n",
       "      <td>55.3192</td>\n",
       "      <td>-160.4914</td>\n",
       "    </tr>\n",
       "    <tr>\n",
       "      <th>4</th>\n",
       "      <td>99546</td>\n",
       "      <td>US.AK.016</td>\n",
       "      <td>Adak</td>\n",
       "      <td>51.874</td>\n",
       "      <td>-176.634</td>\n",
       "    </tr>\n",
       "  </tbody>\n",
       "</table>\n",
       "</div>"
      ],
      "text/plain": [
       "     zip  admin2_id   placeName latitude  longitude\n",
       "0  99571  US.AK.013    Cold Bay  55.1858  -162.7211\n",
       "1  99583  US.AK.013  False Pass  54.8542  -163.4113\n",
       "2  99612  US.AK.013   King Cove  55.0628  -162.3056\n",
       "3  99661  US.AK.013  Sand Point  55.3192  -160.4914\n",
       "4  99546  US.AK.016        Adak   51.874   -176.634"
      ]
     },
     "execution_count": 15,
     "metadata": {},
     "output_type": "execute_result"
    }
   ],
   "source": [
    "df.head()"
   ]
  }
 ],
 "metadata": {
  "kernelspec": {
   "display_name": "Python 3",
   "language": "python",
   "name": "python3"
  },
  "language_info": {
   "codemirror_mode": {
    "name": "ipython",
    "version": 3
   },
   "file_extension": ".py",
   "mimetype": "text/x-python",
   "name": "python",
   "nbconvert_exporter": "python",
   "pygments_lexer": "ipython3",
   "version": "3.8.3"
  }
 },
 "nbformat": 4,
 "nbformat_minor": 4
}

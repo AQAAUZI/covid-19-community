{
 "cells": [
  {
   "cell_type": "markdown",
   "metadata": {},
   "source": [
    "# Protein Protein Interaction Data\n",
    "**[Work in progress]**\n",
    "\n",
    "This notebook downloads and standardizes viral-host protein data from IntAct for ingestion into the Knowledge Graph.\n",
    "\n",
    "Data source: [IntAct](https://www.ebi.ac.uk/intact/query/pubid:IM-27814)\n",
    "\n",
    "Authors: Kaushik Ganapathy, Eric Yu, Peter Rose (krganapa@ucsd.edu, ery010@ucsd.edu, pwrose@ucsd.edu)"
   ]
  },
  {
   "cell_type": "code",
   "execution_count": 1,
   "metadata": {},
   "outputs": [],
   "source": [
    "import os\n",
    "import re\n",
    "import hashlib \n",
    "\n",
    "import pandas as pd\n",
    "import numpy as np\n",
    "\n",
    "from pathlib import Path\n",
    "from Bio import SeqIO\n",
    "\n",
    "pd.options.display.max_rows = None  # display all rows\n",
    "pd.options.display.max_columns = None  # display all columsns"
   ]
  },
  {
   "cell_type": "code",
   "execution_count": 2,
   "metadata": {},
   "outputs": [
    {
     "name": "stdout",
     "output_type": "stream",
     "text": [
      "/Users/peter/Library/Application Support/Neo4j Desktop/Application/neo4jDatabases/database-4af96121-2328-4e2f-ba60-6d8b728a26d5/installation-4.0.3\n"
     ]
    }
   ],
   "source": [
    "NEO4J_HOME = Path(os.getenv('NEO4J_HOME'))\n",
    "print(NEO4J_HOME)"
   ]
  },
  {
   "cell_type": "markdown",
   "metadata": {},
   "source": [
    "https://www.uniprot.org/help/uniprotkb_column_names\n",
    "https://www.uniprot.org/uniprot/P0DTD1#PRO_0000449630"
   ]
  },
  {
   "cell_type": "markdown",
   "metadata": {},
   "source": [
    "### Retrieve interaction data from IntAct"
   ]
  },
  {
   "cell_type": "markdown",
   "metadata": {},
   "source": [
    "##### Query for interactions with SARS-CoV-2: \"taxid:2697049\""
   ]
  },
  {
   "cell_type": "code",
   "execution_count": 3,
   "metadata": {},
   "outputs": [],
   "source": [
    "data = pd.read_csv(\"https://www.ebi.ac.uk/intact/export?format=mitab_25&query=taxid%3A2697049&negative=false&spoke=false&ontology=false&sort=intact-miscore&asc=false\", sep='\\t')"
   ]
  },
  {
   "cell_type": "code",
   "execution_count": 4,
   "metadata": {},
   "outputs": [
    {
     "name": "stdout",
     "output_type": "stream",
     "text": [
      "Number of interactions: 1036\n"
     ]
    }
   ],
   "source": [
    "print('Number of interactions:', data.shape[0])"
   ]
  },
  {
   "cell_type": "code",
   "execution_count": 5,
   "metadata": {},
   "outputs": [
    {
     "data": {
      "text/html": [
       "<div>\n",
       "<style scoped>\n",
       "    .dataframe tbody tr th:only-of-type {\n",
       "        vertical-align: middle;\n",
       "    }\n",
       "\n",
       "    .dataframe tbody tr th {\n",
       "        vertical-align: top;\n",
       "    }\n",
       "\n",
       "    .dataframe thead th {\n",
       "        text-align: right;\n",
       "    }\n",
       "</style>\n",
       "<table border=\"1\" class=\"dataframe\">\n",
       "  <thead>\n",
       "    <tr style=\"text-align: right;\">\n",
       "      <th></th>\n",
       "      <th>#ID(s) interactor A</th>\n",
       "      <th>ID(s) interactor B</th>\n",
       "      <th>Alt. ID(s) interactor A</th>\n",
       "      <th>Alt. ID(s) interactor B</th>\n",
       "      <th>Alias(es) interactor A</th>\n",
       "      <th>Alias(es) interactor B</th>\n",
       "      <th>Interaction detection method(s)</th>\n",
       "      <th>Publication 1st author(s)</th>\n",
       "      <th>Publication Identifier(s)</th>\n",
       "      <th>Taxid interactor A</th>\n",
       "      <th>Taxid interactor B</th>\n",
       "      <th>Interaction type(s)</th>\n",
       "      <th>Source database(s)</th>\n",
       "      <th>Interaction identifier(s)</th>\n",
       "      <th>Confidence value(s)</th>\n",
       "    </tr>\n",
       "  </thead>\n",
       "  <tbody>\n",
       "    <tr>\n",
       "      <th>0</th>\n",
       "      <td>uniprotkb:P0DTC2</td>\n",
       "      <td>uniprotkb:P0DTC2</td>\n",
       "      <td>intact:EBI-25474821</td>\n",
       "      <td>intact:EBI-25474821</td>\n",
       "      <td>psi-mi:spike_sars2-1(display_long)|uniprotkb:S...</td>\n",
       "      <td>psi-mi:spike_sars2-1(display_long)|uniprotkb:S...</td>\n",
       "      <td>psi-mi:\"MI:0410\"(3D electron microscopy)</td>\n",
       "      <td>Walls et al. (2020)</td>\n",
       "      <td>pubmed:32155444|imex:IM-27846</td>\n",
       "      <td>taxid:2697049(SARS-CoV-2)|taxid:2697049(SARS-C...</td>\n",
       "      <td>taxid:2697049(SARS-CoV-2)|taxid:2697049(SARS-C...</td>\n",
       "      <td>psi-mi:\"MI:0407\"(direct interaction)</td>\n",
       "      <td>psi-mi:\"MI:0469\"(IntAct)</td>\n",
       "      <td>intact:EBI-25495631|wwpdb:6vyb|wwpdb:6vxx|imex...</td>\n",
       "      <td>intact-miscore:0.74</td>\n",
       "    </tr>\n",
       "    <tr>\n",
       "      <th>1</th>\n",
       "      <td>uniprotkb:P0DTC2</td>\n",
       "      <td>uniprotkb:P0DTC2</td>\n",
       "      <td>intact:EBI-25474821</td>\n",
       "      <td>intact:EBI-25474821</td>\n",
       "      <td>psi-mi:spike_sars2-1(display_long)|uniprotkb:S...</td>\n",
       "      <td>psi-mi:spike_sars2-1(display_long)|uniprotkb:S...</td>\n",
       "      <td>psi-mi:\"MI:0114\"(x-ray crystallography)</td>\n",
       "      <td>Xia et al. (2020)</td>\n",
       "      <td>imex:IM-27873|pubmed:32231345</td>\n",
       "      <td>taxid:2697049(SARS-CoV-2)|taxid:2697049(SARS-C...</td>\n",
       "      <td>taxid:2697049(SARS-CoV-2)|taxid:2697049(SARS-C...</td>\n",
       "      <td>psi-mi:\"MI:0407\"(direct interaction)</td>\n",
       "      <td>psi-mi:\"MI:0469\"(IntAct)</td>\n",
       "      <td>intact:EBI-25503580|wwpdb:6LXT|imex:IM-27873-1</td>\n",
       "      <td>intact-miscore:0.74</td>\n",
       "    </tr>\n",
       "    <tr>\n",
       "      <th>2</th>\n",
       "      <td>uniprotkb:P0DTD1-PRO_0000449632</td>\n",
       "      <td>uniprotkb:P0DTD1-PRO_0000449632</td>\n",
       "      <td>intact:EBI-25475891</td>\n",
       "      <td>intact:EBI-25475891</td>\n",
       "      <td>psi-mi:p0dtd1-pro_0000449632(display_long)|uni...</td>\n",
       "      <td>psi-mi:p0dtd1-pro_0000449632(display_long)|uni...</td>\n",
       "      <td>psi-mi:\"MI:0114\"(x-ray crystallography)</td>\n",
       "      <td>Kim. et al. (2020)</td>\n",
       "      <td>pubmed:32304108|imex:IM-27884</td>\n",
       "      <td>taxid:2697049(SARS-CoV-2)|taxid:2697049(SARS-C...</td>\n",
       "      <td>taxid:2697049(SARS-CoV-2)|taxid:2697049(SARS-C...</td>\n",
       "      <td>psi-mi:\"MI:0407\"(direct interaction)</td>\n",
       "      <td>psi-mi:\"MI:0469\"(IntAct)</td>\n",
       "      <td>intact:EBI-25504928|imex:IM-27884-1|wwpdb:6vww...</td>\n",
       "      <td>intact-miscore:0.44</td>\n",
       "    </tr>\n",
       "    <tr>\n",
       "      <th>3</th>\n",
       "      <td>uniprotkb:P0DTC2</td>\n",
       "      <td>uniprotkb:P0DTC2</td>\n",
       "      <td>intact:EBI-25474821</td>\n",
       "      <td>intact:EBI-25474821</td>\n",
       "      <td>psi-mi:spike_sars2-1(display_long)|uniprotkb:S...</td>\n",
       "      <td>psi-mi:spike_sars2-1(display_long)|uniprotkb:S...</td>\n",
       "      <td>psi-mi:\"MI:2338\"(electron tomography)</td>\n",
       "      <td>Wrapp et al. (2020)</td>\n",
       "      <td>pubmed:32075877|imex:IM-27946</td>\n",
       "      <td>taxid:2697049(SARS-CoV-2)|taxid:2697049(SARS-C...</td>\n",
       "      <td>taxid:2697049(SARS-CoV-2)|taxid:2697049(SARS-C...</td>\n",
       "      <td>psi-mi:\"MI:0407\"(direct interaction)</td>\n",
       "      <td>psi-mi:\"MI:0469\"(IntAct)</td>\n",
       "      <td>intact:EBI-25590861|imex:IM-27946-1|wwpdb:6vsb</td>\n",
       "      <td>intact-miscore:0.74</td>\n",
       "    </tr>\n",
       "    <tr>\n",
       "      <th>4</th>\n",
       "      <td>uniprotkb:P0DTC2</td>\n",
       "      <td>uniprotkb:P0DTC2</td>\n",
       "      <td>intact:EBI-25474821</td>\n",
       "      <td>intact:EBI-25474821</td>\n",
       "      <td>psi-mi:spike_sars2-1(display_long)|uniprotkb:S...</td>\n",
       "      <td>psi-mi:spike_sars2-1(display_long)|uniprotkb:S...</td>\n",
       "      <td>psi-mi:\"MI:0071\"(molecular sieving)</td>\n",
       "      <td>Wrapp et al. (2020)</td>\n",
       "      <td>pubmed:32075877|imex:IM-27946</td>\n",
       "      <td>taxid:2697049(SARS-CoV-2)|taxid:2697049(SARS-C...</td>\n",
       "      <td>taxid:2697049(SARS-CoV-2)|taxid:2697049(SARS-C...</td>\n",
       "      <td>psi-mi:\"MI:0407\"(direct interaction)</td>\n",
       "      <td>psi-mi:\"MI:0469\"(IntAct)</td>\n",
       "      <td>intact:EBI-25591137|imex:IM-27946-11</td>\n",
       "      <td>intact-miscore:0.74</td>\n",
       "    </tr>\n",
       "  </tbody>\n",
       "</table>\n",
       "</div>"
      ],
      "text/plain": [
       "               #ID(s) interactor A               ID(s) interactor B  \\\n",
       "0                 uniprotkb:P0DTC2                 uniprotkb:P0DTC2   \n",
       "1                 uniprotkb:P0DTC2                 uniprotkb:P0DTC2   \n",
       "2  uniprotkb:P0DTD1-PRO_0000449632  uniprotkb:P0DTD1-PRO_0000449632   \n",
       "3                 uniprotkb:P0DTC2                 uniprotkb:P0DTC2   \n",
       "4                 uniprotkb:P0DTC2                 uniprotkb:P0DTC2   \n",
       "\n",
       "  Alt. ID(s) interactor A Alt. ID(s) interactor B  \\\n",
       "0     intact:EBI-25474821     intact:EBI-25474821   \n",
       "1     intact:EBI-25474821     intact:EBI-25474821   \n",
       "2     intact:EBI-25475891     intact:EBI-25475891   \n",
       "3     intact:EBI-25474821     intact:EBI-25474821   \n",
       "4     intact:EBI-25474821     intact:EBI-25474821   \n",
       "\n",
       "                              Alias(es) interactor A  \\\n",
       "0  psi-mi:spike_sars2-1(display_long)|uniprotkb:S...   \n",
       "1  psi-mi:spike_sars2-1(display_long)|uniprotkb:S...   \n",
       "2  psi-mi:p0dtd1-pro_0000449632(display_long)|uni...   \n",
       "3  psi-mi:spike_sars2-1(display_long)|uniprotkb:S...   \n",
       "4  psi-mi:spike_sars2-1(display_long)|uniprotkb:S...   \n",
       "\n",
       "                              Alias(es) interactor B  \\\n",
       "0  psi-mi:spike_sars2-1(display_long)|uniprotkb:S...   \n",
       "1  psi-mi:spike_sars2-1(display_long)|uniprotkb:S...   \n",
       "2  psi-mi:p0dtd1-pro_0000449632(display_long)|uni...   \n",
       "3  psi-mi:spike_sars2-1(display_long)|uniprotkb:S...   \n",
       "4  psi-mi:spike_sars2-1(display_long)|uniprotkb:S...   \n",
       "\n",
       "            Interaction detection method(s) Publication 1st author(s)  \\\n",
       "0  psi-mi:\"MI:0410\"(3D electron microscopy)       Walls et al. (2020)   \n",
       "1   psi-mi:\"MI:0114\"(x-ray crystallography)         Xia et al. (2020)   \n",
       "2   psi-mi:\"MI:0114\"(x-ray crystallography)        Kim. et al. (2020)   \n",
       "3     psi-mi:\"MI:2338\"(electron tomography)       Wrapp et al. (2020)   \n",
       "4       psi-mi:\"MI:0071\"(molecular sieving)       Wrapp et al. (2020)   \n",
       "\n",
       "       Publication Identifier(s)  \\\n",
       "0  pubmed:32155444|imex:IM-27846   \n",
       "1  imex:IM-27873|pubmed:32231345   \n",
       "2  pubmed:32304108|imex:IM-27884   \n",
       "3  pubmed:32075877|imex:IM-27946   \n",
       "4  pubmed:32075877|imex:IM-27946   \n",
       "\n",
       "                                  Taxid interactor A  \\\n",
       "0  taxid:2697049(SARS-CoV-2)|taxid:2697049(SARS-C...   \n",
       "1  taxid:2697049(SARS-CoV-2)|taxid:2697049(SARS-C...   \n",
       "2  taxid:2697049(SARS-CoV-2)|taxid:2697049(SARS-C...   \n",
       "3  taxid:2697049(SARS-CoV-2)|taxid:2697049(SARS-C...   \n",
       "4  taxid:2697049(SARS-CoV-2)|taxid:2697049(SARS-C...   \n",
       "\n",
       "                                  Taxid interactor B  \\\n",
       "0  taxid:2697049(SARS-CoV-2)|taxid:2697049(SARS-C...   \n",
       "1  taxid:2697049(SARS-CoV-2)|taxid:2697049(SARS-C...   \n",
       "2  taxid:2697049(SARS-CoV-2)|taxid:2697049(SARS-C...   \n",
       "3  taxid:2697049(SARS-CoV-2)|taxid:2697049(SARS-C...   \n",
       "4  taxid:2697049(SARS-CoV-2)|taxid:2697049(SARS-C...   \n",
       "\n",
       "                    Interaction type(s)        Source database(s)  \\\n",
       "0  psi-mi:\"MI:0407\"(direct interaction)  psi-mi:\"MI:0469\"(IntAct)   \n",
       "1  psi-mi:\"MI:0407\"(direct interaction)  psi-mi:\"MI:0469\"(IntAct)   \n",
       "2  psi-mi:\"MI:0407\"(direct interaction)  psi-mi:\"MI:0469\"(IntAct)   \n",
       "3  psi-mi:\"MI:0407\"(direct interaction)  psi-mi:\"MI:0469\"(IntAct)   \n",
       "4  psi-mi:\"MI:0407\"(direct interaction)  psi-mi:\"MI:0469\"(IntAct)   \n",
       "\n",
       "                           Interaction identifier(s)  Confidence value(s)  \n",
       "0  intact:EBI-25495631|wwpdb:6vyb|wwpdb:6vxx|imex...  intact-miscore:0.74  \n",
       "1     intact:EBI-25503580|wwpdb:6LXT|imex:IM-27873-1  intact-miscore:0.74  \n",
       "2  intact:EBI-25504928|imex:IM-27884-1|wwpdb:6vww...  intact-miscore:0.44  \n",
       "3     intact:EBI-25590861|imex:IM-27946-1|wwpdb:6vsb  intact-miscore:0.74  \n",
       "4               intact:EBI-25591137|imex:IM-27946-11  intact-miscore:0.74  "
      ]
     },
     "execution_count": 5,
     "metadata": {},
     "output_type": "execute_result"
    }
   ],
   "source": [
    "data.head()"
   ]
  },
  {
   "cell_type": "markdown",
   "metadata": {},
   "source": [
    "### Process Data"
   ]
  },
  {
   "cell_type": "code",
   "execution_count": 6,
   "metadata": {},
   "outputs": [],
   "source": [
    "data.rename(columns={'#ID(s) interactor A': 'interactorA', 'ID(s) interactor B': 'interactorB'}, inplace=True)"
   ]
  },
  {
   "cell_type": "code",
   "execution_count": 7,
   "metadata": {},
   "outputs": [],
   "source": [
    "data = data.replace('uniprotkb','uniprot', regex=True)"
   ]
  },
  {
   "cell_type": "markdown",
   "metadata": {},
   "source": [
    "#### Extract UniProt accession number and Uniprot protein id from interactor columns"
   ]
  },
  {
   "cell_type": "code",
   "execution_count": 8,
   "metadata": {},
   "outputs": [],
   "source": [
    "# uniprot:P0DTD1-PRO_0000449619 -> P0DTD1-PRO_0000449619\n",
    "data['id_a'] = data['interactorA'].str.replace('uniprot:', '')\n",
    "data['id_b'] = data['interactorB'].str.replace('uniprot:', '')\n",
    "\n",
    "# P0DTD1-PRO_0000449619 -> P0DTD1 (UniProt accession number)\n",
    "data['accession_a'] = data['id_a'].str.split('-', expand=True)[0]\n",
    "data['accession_b'] = data['id_b'].str.split('-', expand=True)[0]\n",
    "\n",
    "# P0DTD1-PRO_0000449619 -> PRO_0000449619 (UniProt protein id)\n",
    "data['pro_id_a'] = data['id_a'].str.split('-', expand=True)[1]\n",
    "data['pro_id_b'] = data['id_b'].str.split('-', expand=True)[1]\n",
    "\n",
    "# Add CURIE \"uniprot.chain\" as prefix (see https://registry.identifiers.org/registry/uniprot.chain)\n",
    "data['pro_id_a'] = data['pro_id_a'].str.replace('PRO_', 'uniprot.chain:PRO_')\n",
    "data['pro_id_b'] = data['pro_id_b'].str.replace('PRO_', 'uniprot.chain:PRO_')\n",
    "\n",
    "data.fillna('', inplace=True)"
   ]
  },
  {
   "cell_type": "markdown",
   "metadata": {},
   "source": [
    "#### Extract pubmed id\n",
    "Example: imex:IM-27912|pubmed:32275855 -> 2275855"
   ]
  },
  {
   "cell_type": "code",
   "execution_count": 9,
   "metadata": {},
   "outputs": [],
   "source": [
    "position_pattern = re.compile('pubmed:(\\d*).')\n",
    "\n",
    "def extract_pubmed_id(s):\n",
    "    groups = position_pattern.search(s)\n",
    "    if groups == None:\n",
    "        return ''\n",
    "    else:\n",
    "        return groups.group(1)"
   ]
  },
  {
   "cell_type": "code",
   "execution_count": 10,
   "metadata": {},
   "outputs": [],
   "source": [
    "data['pubmedId'] = data['Publication Identifier(s)'].apply(extract_pubmed_id)"
   ]
  },
  {
   "cell_type": "markdown",
   "metadata": {},
   "source": [
    "#### Extract taxonomy id\n",
    "Example: taxid:9606(human)|taxid:9606(Homo sapiens) -> 9606"
   ]
  },
  {
   "cell_type": "code",
   "execution_count": 11,
   "metadata": {},
   "outputs": [],
   "source": [
    "position_pattern = re.compile('taxid:(\\d*)\\(')\n",
    "\n",
    "def extract_tax_id(s):\n",
    "    groups = position_pattern.search(s)\n",
    "    if groups == None:\n",
    "        return ''\n",
    "    else:\n",
    "        return groups.group(1)"
   ]
  },
  {
   "cell_type": "code",
   "execution_count": 12,
   "metadata": {},
   "outputs": [],
   "source": [
    "data['taxonomy_id_a'] = data['Taxid interactor A'].apply(extract_tax_id)\n",
    "data['taxonomy_id_b'] = data['Taxid interactor B'].apply(extract_tax_id)"
   ]
  },
  {
   "cell_type": "code",
   "execution_count": 13,
   "metadata": {},
   "outputs": [],
   "source": [
    "data = data[['id_a', 'id_b', 'accession_a', 'accession_b', 'pro_id_a', 'pro_id_b', 'taxonomy_id_a', 'taxonomy_id_b', 'pubmedId']]"
   ]
  },
  {
   "cell_type": "code",
   "execution_count": 14,
   "metadata": {},
   "outputs": [
    {
     "data": {
      "text/html": [
       "<div>\n",
       "<style scoped>\n",
       "    .dataframe tbody tr th:only-of-type {\n",
       "        vertical-align: middle;\n",
       "    }\n",
       "\n",
       "    .dataframe tbody tr th {\n",
       "        vertical-align: top;\n",
       "    }\n",
       "\n",
       "    .dataframe thead th {\n",
       "        text-align: right;\n",
       "    }\n",
       "</style>\n",
       "<table border=\"1\" class=\"dataframe\">\n",
       "  <thead>\n",
       "    <tr style=\"text-align: right;\">\n",
       "      <th></th>\n",
       "      <th>id_a</th>\n",
       "      <th>id_b</th>\n",
       "      <th>accession_a</th>\n",
       "      <th>accession_b</th>\n",
       "      <th>pro_id_a</th>\n",
       "      <th>pro_id_b</th>\n",
       "      <th>taxonomy_id_a</th>\n",
       "      <th>taxonomy_id_b</th>\n",
       "      <th>pubmedId</th>\n",
       "    </tr>\n",
       "  </thead>\n",
       "  <tbody>\n",
       "    <tr>\n",
       "      <th>0</th>\n",
       "      <td>P0DTC2</td>\n",
       "      <td>P0DTC2</td>\n",
       "      <td>P0DTC2</td>\n",
       "      <td>P0DTC2</td>\n",
       "      <td></td>\n",
       "      <td></td>\n",
       "      <td>2697049</td>\n",
       "      <td>2697049</td>\n",
       "      <td>32155444</td>\n",
       "    </tr>\n",
       "    <tr>\n",
       "      <th>1</th>\n",
       "      <td>P0DTC2</td>\n",
       "      <td>P0DTC2</td>\n",
       "      <td>P0DTC2</td>\n",
       "      <td>P0DTC2</td>\n",
       "      <td></td>\n",
       "      <td></td>\n",
       "      <td>2697049</td>\n",
       "      <td>2697049</td>\n",
       "      <td>3223134</td>\n",
       "    </tr>\n",
       "    <tr>\n",
       "      <th>2</th>\n",
       "      <td>P0DTD1-PRO_0000449632</td>\n",
       "      <td>P0DTD1-PRO_0000449632</td>\n",
       "      <td>P0DTD1</td>\n",
       "      <td>P0DTD1</td>\n",
       "      <td>uniprot.chain:PRO_0000449632</td>\n",
       "      <td>uniprot.chain:PRO_0000449632</td>\n",
       "      <td>2697049</td>\n",
       "      <td>2697049</td>\n",
       "      <td>32304108</td>\n",
       "    </tr>\n",
       "    <tr>\n",
       "      <th>3</th>\n",
       "      <td>P0DTC2</td>\n",
       "      <td>P0DTC2</td>\n",
       "      <td>P0DTC2</td>\n",
       "      <td>P0DTC2</td>\n",
       "      <td></td>\n",
       "      <td></td>\n",
       "      <td>2697049</td>\n",
       "      <td>2697049</td>\n",
       "      <td>32075877</td>\n",
       "    </tr>\n",
       "    <tr>\n",
       "      <th>4</th>\n",
       "      <td>P0DTC2</td>\n",
       "      <td>P0DTC2</td>\n",
       "      <td>P0DTC2</td>\n",
       "      <td>P0DTC2</td>\n",
       "      <td></td>\n",
       "      <td></td>\n",
       "      <td>2697049</td>\n",
       "      <td>2697049</td>\n",
       "      <td>32075877</td>\n",
       "    </tr>\n",
       "  </tbody>\n",
       "</table>\n",
       "</div>"
      ],
      "text/plain": [
       "                    id_a                   id_b accession_a accession_b  \\\n",
       "0                 P0DTC2                 P0DTC2      P0DTC2      P0DTC2   \n",
       "1                 P0DTC2                 P0DTC2      P0DTC2      P0DTC2   \n",
       "2  P0DTD1-PRO_0000449632  P0DTD1-PRO_0000449632      P0DTD1      P0DTD1   \n",
       "3                 P0DTC2                 P0DTC2      P0DTC2      P0DTC2   \n",
       "4                 P0DTC2                 P0DTC2      P0DTC2      P0DTC2   \n",
       "\n",
       "                       pro_id_a                      pro_id_b taxonomy_id_a  \\\n",
       "0                                                                   2697049   \n",
       "1                                                                   2697049   \n",
       "2  uniprot.chain:PRO_0000449632  uniprot.chain:PRO_0000449632       2697049   \n",
       "3                                                                   2697049   \n",
       "4                                                                   2697049   \n",
       "\n",
       "  taxonomy_id_b  pubmedId  \n",
       "0       2697049  32155444  \n",
       "1       2697049   3223134  \n",
       "2       2697049  32304108  \n",
       "3       2697049  32075877  \n",
       "4       2697049  32075877  "
      ]
     },
     "execution_count": 14,
     "metadata": {},
     "output_type": "execute_result"
    }
   ],
   "source": [
    "data.head()"
   ]
  },
  {
   "cell_type": "markdown",
   "metadata": {},
   "source": [
    "#### Restrict data to SARS-CoV-2 - human protein-protein interactions (TODO: expand to SARS, MERS, etc.)"
   ]
  },
  {
   "cell_type": "code",
   "execution_count": 15,
   "metadata": {},
   "outputs": [],
   "source": [
    "data = data[((data['taxonomy_id_a'] == '2697049') & (data['taxonomy_id_b'] == '9606')) |\n",
    "            ((data['taxonomy_id_b'] == '2697049') & (data['taxonomy_id_a'] == '9606'))]"
   ]
  },
  {
   "cell_type": "code",
   "execution_count": 16,
   "metadata": {},
   "outputs": [],
   "source": [
    "data.drop_duplicates(inplace=True)"
   ]
  },
  {
   "cell_type": "markdown",
   "metadata": {},
   "source": [
    "#### Retrieve Protein names and sequences from UniProt.org"
   ]
  },
  {
   "cell_type": "markdown",
   "metadata": {},
   "source": [
    "Collect unique accession numbers"
   ]
  },
  {
   "cell_type": "code",
   "execution_count": 17,
   "metadata": {},
   "outputs": [],
   "source": [
    "a = data['accession_a'].unique()\n",
    "b = data['accession_b'].unique()\n",
    "ids = np.unique(np.concatenate((a, b)))"
   ]
  },
  {
   "cell_type": "code",
   "execution_count": 18,
   "metadata": {},
   "outputs": [],
   "source": [
    "def split_chains(accession, chains):\n",
    "    chain_list = []\n",
    "    for chain in chains:\n",
    "        items = chain.split(';')\n",
    "        feature_dict = {}\n",
    "        \n",
    "        try:\n",
    "            if len(items) > 1:\n",
    "                feature_dict['accession'] = accession\n",
    "                for item in items:\n",
    "                    item = item.strip()\n",
    "                    if '..' in item:\n",
    "                        feature_dict['start'] = int(items[0].split('..')[0])\n",
    "                        feature_dict['end'] = int(items[0].split('..')[1])\n",
    "                    elif item.startswith(\"/note=\"):\n",
    "                        name = item[6:].replace('\\\"', '')\n",
    "                        feature_dict['name'] = name\n",
    "                    elif item.startswith(\"/id=\"):\n",
    "                        pro_id = item[4:].replace('\\\"', '')\n",
    "                        feature_dict['proId'] = 'uniprot.chain:' + pro_id\n",
    "                chain_list.append(feature_dict)\n",
    "        except:\n",
    "            print('Skipping incomplete features for', accession, ':', chain)\n",
    "            \n",
    "    df = pd.DataFrame(chain_list)\n",
    "    df.dropna(inplace=True)\n",
    "    return df"
   ]
  },
  {
   "cell_type": "code",
   "execution_count": 19,
   "metadata": {},
   "outputs": [
    {
     "name": "stdout",
     "output_type": "stream",
     "text": [
      "A3KN83 A7MCY6 O00116 O00124 O00148 O00203 O00231 O00411 O00469 O00566 O00567 O14578 O14656 O14745 O14818 O14874 O14975 O14980 O15027 O15226 O15381 O15397 O43169 O43292 O43395 O43592 O43633 O43660 O43795 O43818 O43823 O43852 O60293 O60573 O60762 O60832 O60884 O60885 O75347 O75439 O75506 O75534 O75569 O75592 O75688 O75746 O75934 O75964 O76021 O76024 O76061 O76094 O94826 O94973 O95070 O95071 O95104 O95260 O95347 O95391 O95573 O95613 O95684 O95757 O95816 O95831 O96028 P00338 P00387 P00750 P04075 P04406 P05023 P05026 P05556 P06280 P06493 P06576 P06733 P06753 P07195 P07203 P07355 P08621 P08708 P08865 P09012 P09132 P09601 P09622 P09874 P09884 P0C7P0 P0DN76 P0DP23 P0DTC1 P0DTC2 P0DTC3 P0DTC4 P0DTC5 P0DTC6 P0DTC7 P0DTC8 P0DTC9 P0DTD1 P0DTD2 P0DTD3 P0DTD8 P10155 P11233 P11310 P11387 P11586 P11940 P12004 P12109 P12268 P13797 P13804 P13861 P13984 P14735 P15151 P15924 P16435 P16615 P16989 P17612 P17987 P19105 P19784 P21964 P22234 P22314 P25205 P25398 P25440 P25705 P25789 P26358 P26599 P27105 P27348 P27448 P28300 P29122 P30043 P30153 P30876 P31323 P31689 P31948 P33176 P33527 P34932 P35241 P35250 P35251 P35555 P35556 P35606 P35613 P35658 P35998 P37198 P38159 P38435 P38606 P40227 P40938 P40939 P42285 P42677 P42696 P46013 P46087 P46109 P46379 P46782 P46783 P47755 P47756 P48556 P48643 P49327 P49368 P49454 P49642 P49643 P50402 P50897 P50990 P50991 P51148 P51149 P51570 P51665 P52306 P52907 P52948 P53007 P53396 P53618 P53621 P55085 P55786 P55789 P55884 P57088 P57678 P58166 P59998 P60228 P60660 P60900 P61006 P61011 P61019 P61026 P61106 P61158 P61586 P61916 P61962 P61970 P62072 P62140 P62191 P62195 P62263 P62269 P62330 P62820 P62873 P62877 P63218 P63244 P67870 P67936 P78406 P82650 P82663 P82675 Q00325 Q00765 Q02978 Q04724 Q04726 Q06787 Q07021 Q08117 Q08378 Q08379 Q08431 Q10713 Q12770 Q12788 Q12789 Q12907 Q13151 Q13200 Q13206 Q13243 Q13283 Q13310 Q13438 Q13443 Q13523 Q13546 Q13561 Q13610 Q13617 Q13724 Q13868 Q14137 Q14152 Q14157 Q14181 Q14257 Q14315 Q14498 Q14739 Q14789 Q15008 Q15020 Q15024 Q15056 Q15293 Q15365 Q15366 Q15369 Q15370 Q15818 Q15904 Q15942 Q16576 Q16875 Q16891 Q1KMD3 Q2M389 Q2NL82 Q2PZI1 Q2T9J0 Q2TAA5 Q3KQU3 Q3ZCQ8 Q4G0J3 Q4KMQ2 Q4V328 Q58FF8 Q5BJF2 Q5EBL8 Q5H9R7 Q5JRX3 Q5JSZ5 Q5JTV8 Q5JWF2 Q5SSJ5 Q5SW79 Q5T1M5 Q5T6F2 Q5T9A4 Q5VT06 Q5VT66 Q5VU43 Q5VUA4 Q66GS9 Q6NXT4 Q6NXT6 Q6P2E9 Q6PKG0 Q6PML9 Q6UUV7 Q6UW63 Q6UX04 Q6Y7W6 Q6ZRP7 Q70EL1 Q76N32 Q7KZF4 Q7KZI7 Q7L2J0 Q7L8L6 Q7LGA3 Q7Z2K6 Q7Z2T5 Q7Z3B4 Q7Z4H7 Q7Z4H8 Q7Z4Q2 Q7Z5G4 Q7Z7A1 Q86UE4 Q86UT6 Q86VM9 Q86VR2 Q86YB8 Q86YT6 Q8IUD2 Q8IV08 Q8IWA5 Q8IWF2 Q8IWJ2 Q8IWR0 Q8IWR1 Q8IXB1 Q8IZ52 Q8N0X7 Q8N0Z8 Skipping incomplete features for Q8N183 : ?..169;  /note=\"NADH dehydrogenase [ubiquinone] 1 alpha subcomplex assembly factor 2\";  /id=\"PRO_0000020054\"\n",
      "Q8N3C7 Q8N4C6 Q8N5C6 Q8N6S5 Q8N766 Q8N8E3 Q8N9T8 Q8NBJ5 Q8NBX0 Q8NC51 Q8NCA5 Q8NEJ9 Q8NEW0 Q8TAD8 Q8TD10 Q8TD19 Q8TEM1 Q8TEQ8 Q8WTT2 Q8WTV0 Q8WUY8 Q8WVC6 Q92552 Q92615 Q92769 Q92820 Q92900 Q92945 Q92974 Q92995 Q969X5 Q96A26 Q96AY3 Q96B26 Q96CN9 Q96CS3 Q96CW1 Q96CW5 Q96D53 Q96DA6 Q96DZ1 Q96ER3 Skipping incomplete features for Q96EY1 : ?..480;  /note=\"DnaJ homolog subfamily A member 3, mitochondrial\";  /id=\"PRO_0000007256\"\n",
      "Q96F45 Q96F46 Q96HR9 Q96HW7 Q96I59 Q96IV0 Q96IZ5 Q96JC1 Q96K12 Q96MM7 Q96N16 Q96N67 Q96S52 Q96S66 Q96SB4 Q96SN8 Q99081 Q99460 Q99470 Q99519 Q99567 Q99615 Q99720 Q99832 Q99848 Q99959 Q99988 Q99996 Q9BQ95 Q9BQE4 Q9BQQ3 Q9BQS8 Q9BQT8 Q9BRN9 Q9BS26 Q9BSC4 Q9BSF4 Q9BSJ2 Q9BU02 Q9BUJ2 Q9BUQ8 Q9BV19 Q9BV73 Q9BVK2 Q9BVL2 Skipping incomplete features for Q9BW92 : ?..718;  /note=\"Threonine--tRNA ligase, mitochondrial\";  /id=\"PRO_0000254586\"\n",
      "Q9BYF1 Q9BZE4 Q9BZQ6 Q9C0B5 Q9C0D3 Q9GZR7 Q9GZU3 Q9H078 Q9H0A0 Q9H0D6 Q9H173 Q9H270 Q9H2H8 Q9H2P9 Q9H3K2 Q9H488 Q9H4F8 Q9H4P4 Q9H5H4 Q9H6F5 Q9H773 Q9H7F0 Q9H7Z7 Q9H845 Q9H8W4 Q9H936 Q9HAU0 Q9HAV7 Q9HC36 Q9HCE1 Q9HD40 Q9NNW5 Q9NP72 Q9NQC3 Q9NQT4 Q9NQT5 Q9NR30 Q9NRN7 Q9NTJ3 Q9NU22 Q9NV92 Q9NVH1 Q9NVI7 Q9NW13 Q9NWT1 Q9NX58 Q9NXA8 Q9NXF1 Q9NXH9 Q9NXK8 Q9NXS2 Q9NY61 Q9NYL9 Q9NYU1 Q9NZ01 Q9NZJ7 Q9NZL9 Q9P015 Q9P035 Q9P0L2 Q9P2E5 Q9UBF2 Q9UBU6 Q9UBX3 Q9UBX5 Q9UDR5 Q9UH99 Q9UHD2 Q9UHI6 Q9UHI8 Q9UHX1 Q9UJC3 Q9UJV9 Q9UJZ1 Q9UKA9 Q9UKD2 Q9UL15 Q9ULT8 Q9ULV4 Q9ULX6 Q9UM54 Q9UN86 Q9UNM6 Q9UNQ2 Q9Y265 Q9Y276 Q9Y2I6 Q9Y312 Q9Y375 Q9Y383 Q9Y399 Q9Y3A6 Q9Y3U8 Q9Y4L1 Q9Y5A9 Q9Y5J6 Q9Y5J7 Q9Y5J9 Q9Y673 Q9Y680 Q9Y6E2 Q9Y6M9 Uniprot accession not found: intact:EBI\n"
     ]
    }
   ],
   "source": [
    "seq_dfs = []\n",
    "for accession in ids:\n",
    "    url = f'https://www.uniprot.org/uniprot/?query=accession:{accession}&columns=id,sequence,length,protein%20names,feature(CHAIN),organism-id&format=tab'\n",
    "    try:\n",
    "        df = pd.read_csv(url, sep='\\t')\n",
    "        df.fillna('', inplace=True)\n",
    "        \n",
    "        whole_chain = df.copy()\n",
    "        \n",
    "        start = 1\n",
    "        end = whole_chain.iloc[0]['Length']\n",
    "\n",
    "        whole_chain['accession'] = accession\n",
    "        whole_chain['start'] = start\n",
    "        whole_chain['end'] = end\n",
    "        whole_chain['name'] = whole_chain['Protein names']\n",
    "        whole_chain['name'] = whole_chain['Protein names'].str.split('\\(', expand=True)\n",
    "        whole_chain['proId'] =''\n",
    "        whole_chain = whole_chain[['accession', 'start', 'end', 'name', 'proId']]\n",
    "        \n",
    "        # process features (Chains)\n",
    "        feature_string = df['Chain'].values[0]\n",
    "        if (feature_string != ''):\n",
    "            chains = feature_string.split(\"CHAIN \")\n",
    "            chain_df = split_chains(accession, chains)\n",
    "            if chain_df.shape[0] > 0:\n",
    "                # Add the whole chain if it is not in the list of chains\n",
    "                if chain_df.iloc[0]['start'] != start or chain_df.iloc[0]['end'] != end:\n",
    "                    chain_df = pd.concat([whole_chain, chain_df])\n",
    "                    \n",
    "                df = df.merge(chain_df, left_on='Entry', right_on='accession', how='left')\n",
    "                print(accession, end=' ')\n",
    "                seq_dfs.append(df)\n",
    "        else:\n",
    "            df = df.merge(whole_chain, left_on='Entry', right_on='accession', how='left')\n",
    "            seq_dfs.append(df)\n",
    "    except:\n",
    "        print(\"Uniprot accession not found:\", accession)\n",
    "        \n",
    "seq = pd.concat(seq_dfs, axis=0, ignore_index=True)"
   ]
  },
  {
   "cell_type": "markdown",
   "metadata": {},
   "source": [
    "#### Cleave sequences into peptides"
   ]
  },
  {
   "cell_type": "code",
   "execution_count": 20,
   "metadata": {},
   "outputs": [],
   "source": [
    "def get_subsequence(row):\n",
    "    start = row['start']\n",
    "    end = row['end']\n",
    "    sequence = row['Sequence']\n",
    "    return sequence[start-1: end]"
   ]
  },
  {
   "cell_type": "code",
   "execution_count": 21,
   "metadata": {},
   "outputs": [],
   "source": [
    "seq['sequence'] = seq.apply(lambda row: get_subsequence(row), axis=1)"
   ]
  },
  {
   "cell_type": "markdown",
   "metadata": {},
   "source": [
    "Set flag if protein chain is full length"
   ]
  },
  {
   "cell_type": "code",
   "execution_count": 22,
   "metadata": {},
   "outputs": [],
   "source": [
    "seq['fullLength'] = (seq['start'] == 1) & (seq['end'] == seq['Length'])"
   ]
  },
  {
   "cell_type": "code",
   "execution_count": 23,
   "metadata": {},
   "outputs": [],
   "source": [
    "seq['id'] = seq['sequence'].apply(lambda seq: 'md5:' + hashlib.md5(seq.encode()).hexdigest())"
   ]
  },
  {
   "cell_type": "code",
   "execution_count": 24,
   "metadata": {},
   "outputs": [],
   "source": [
    "seq.rename(columns={'Organism ID': 'taxonomyId'}, inplace=True)"
   ]
  },
  {
   "cell_type": "code",
   "execution_count": 25,
   "metadata": {},
   "outputs": [],
   "source": [
    "seq['name'] = seq['name'].str.strip()"
   ]
  },
  {
   "cell_type": "code",
   "execution_count": 26,
   "metadata": {},
   "outputs": [
    {
     "data": {
      "text/html": [
       "<div>\n",
       "<style scoped>\n",
       "    .dataframe tbody tr th:only-of-type {\n",
       "        vertical-align: middle;\n",
       "    }\n",
       "\n",
       "    .dataframe tbody tr th {\n",
       "        vertical-align: top;\n",
       "    }\n",
       "\n",
       "    .dataframe thead th {\n",
       "        text-align: right;\n",
       "    }\n",
       "</style>\n",
       "<table border=\"1\" class=\"dataframe\">\n",
       "  <thead>\n",
       "    <tr style=\"text-align: right;\">\n",
       "      <th></th>\n",
       "      <th>Entry</th>\n",
       "      <th>Sequence</th>\n",
       "      <th>Length</th>\n",
       "      <th>Protein names</th>\n",
       "      <th>Chain</th>\n",
       "      <th>taxonomyId</th>\n",
       "      <th>accession</th>\n",
       "      <th>start</th>\n",
       "      <th>end</th>\n",
       "      <th>name</th>\n",
       "      <th>proId</th>\n",
       "      <th>sequence</th>\n",
       "      <th>fullLength</th>\n",
       "      <th>id</th>\n",
       "    </tr>\n",
       "  </thead>\n",
       "  <tbody>\n",
       "    <tr>\n",
       "      <th>0</th>\n",
       "      <td>A0A663DJA2</td>\n",
       "      <td>MGYINVFAFPFTIYSLLLCRMNSRNYIAQVDVVNFNLT</td>\n",
       "      <td>38</td>\n",
       "      <td>ORF10 proteiin (ORF10 protein)</td>\n",
       "      <td></td>\n",
       "      <td>2697049</td>\n",
       "      <td>A0A663DJA2</td>\n",
       "      <td>1</td>\n",
       "      <td>38</td>\n",
       "      <td>ORF10 proteiin</td>\n",
       "      <td></td>\n",
       "      <td>MGYINVFAFPFTIYSLLLCRMNSRNYIAQVDVVNFNLT</td>\n",
       "      <td>True</td>\n",
       "      <td>md5:06bfef85cf1319e805e05f5bee3ec601</td>\n",
       "    </tr>\n",
       "    <tr>\n",
       "      <th>1</th>\n",
       "      <td>A3KN83</td>\n",
       "      <td>MVEPGQDLLLAALSESGISPNDLFDIDGGDAGLATPMPTPSVQQSV...</td>\n",
       "      <td>1393</td>\n",
       "      <td>Protein strawberry notch homolog 1 (Monocyte p...</td>\n",
       "      <td>CHAIN 1..1393;  /note=\"Protein strawberry notc...</td>\n",
       "      <td>9606</td>\n",
       "      <td>A3KN83</td>\n",
       "      <td>1</td>\n",
       "      <td>1393</td>\n",
       "      <td>Protein strawberry notch homolog 1</td>\n",
       "      <td>uniprot.chain:PRO_0000314555</td>\n",
       "      <td>MVEPGQDLLLAALSESGISPNDLFDIDGGDAGLATPMPTPSVQQSV...</td>\n",
       "      <td>True</td>\n",
       "      <td>md5:a8f6908047b03fcfde873a516979cacd</td>\n",
       "    </tr>\n",
       "    <tr>\n",
       "      <th>2</th>\n",
       "      <td>A7MCY6</td>\n",
       "      <td>MESMFEDDISILTQEALGPSEVWLDSPGDPSLGGDMCSASHFALIT...</td>\n",
       "      <td>615</td>\n",
       "      <td>TANK-binding kinase 1-binding protein 1 (TBK1-...</td>\n",
       "      <td>CHAIN 1..615;  /note=\"TANK-binding kinase 1-bi...</td>\n",
       "      <td>9606</td>\n",
       "      <td>A7MCY6</td>\n",
       "      <td>1</td>\n",
       "      <td>615</td>\n",
       "      <td>TANK-binding kinase 1-binding protein 1</td>\n",
       "      <td>uniprot.chain:PRO_0000324654</td>\n",
       "      <td>MESMFEDDISILTQEALGPSEVWLDSPGDPSLGGDMCSASHFALIT...</td>\n",
       "      <td>True</td>\n",
       "      <td>md5:38a1c0fe55ce1552e3e417004717dd21</td>\n",
       "    </tr>\n",
       "    <tr>\n",
       "      <th>3</th>\n",
       "      <td>O00116</td>\n",
       "      <td>MAEAAAAAGGTGLGAGASYGSAADRDRDPDPDRAGRRLRVLSGHLL...</td>\n",
       "      <td>658</td>\n",
       "      <td>Alkyldihydroxyacetonephosphate synthase, perox...</td>\n",
       "      <td>CHAIN 59..658;  /note=\"Alkyldihydroxyacetoneph...</td>\n",
       "      <td>9606</td>\n",
       "      <td>O00116</td>\n",
       "      <td>1</td>\n",
       "      <td>658</td>\n",
       "      <td>Alkyldihydroxyacetonephosphate synthase, perox...</td>\n",
       "      <td></td>\n",
       "      <td>MAEAAAAAGGTGLGAGASYGSAADRDRDPDPDRAGRRLRVLSGHLL...</td>\n",
       "      <td>True</td>\n",
       "      <td>md5:9357ca15dc8abc6d5efb4d6b3f7c5b80</td>\n",
       "    </tr>\n",
       "    <tr>\n",
       "      <th>4</th>\n",
       "      <td>O00116</td>\n",
       "      <td>MAEAAAAAGGTGLGAGASYGSAADRDRDPDPDRAGRRLRVLSGHLL...</td>\n",
       "      <td>658</td>\n",
       "      <td>Alkyldihydroxyacetonephosphate synthase, perox...</td>\n",
       "      <td>CHAIN 59..658;  /note=\"Alkyldihydroxyacetoneph...</td>\n",
       "      <td>9606</td>\n",
       "      <td>O00116</td>\n",
       "      <td>59</td>\n",
       "      <td>658</td>\n",
       "      <td>Alkyldihydroxyacetonephosphate synthase, perox...</td>\n",
       "      <td>uniprot.chain:PRO_0000020431</td>\n",
       "      <td>KARRAASAATAAPTATPAAQESGTIPKKRQEVMKWNGWGYNDSKFI...</td>\n",
       "      <td>False</td>\n",
       "      <td>md5:edf403cd7e4b04b81da14b792d847d76</td>\n",
       "    </tr>\n",
       "  </tbody>\n",
       "</table>\n",
       "</div>"
      ],
      "text/plain": [
       "        Entry                                           Sequence  Length  \\\n",
       "0  A0A663DJA2             MGYINVFAFPFTIYSLLLCRMNSRNYIAQVDVVNFNLT      38   \n",
       "1      A3KN83  MVEPGQDLLLAALSESGISPNDLFDIDGGDAGLATPMPTPSVQQSV...    1393   \n",
       "2      A7MCY6  MESMFEDDISILTQEALGPSEVWLDSPGDPSLGGDMCSASHFALIT...     615   \n",
       "3      O00116  MAEAAAAAGGTGLGAGASYGSAADRDRDPDPDRAGRRLRVLSGHLL...     658   \n",
       "4      O00116  MAEAAAAAGGTGLGAGASYGSAADRDRDPDPDRAGRRLRVLSGHLL...     658   \n",
       "\n",
       "                                       Protein names  \\\n",
       "0                     ORF10 proteiin (ORF10 protein)   \n",
       "1  Protein strawberry notch homolog 1 (Monocyte p...   \n",
       "2  TANK-binding kinase 1-binding protein 1 (TBK1-...   \n",
       "3  Alkyldihydroxyacetonephosphate synthase, perox...   \n",
       "4  Alkyldihydroxyacetonephosphate synthase, perox...   \n",
       "\n",
       "                                               Chain  taxonomyId   accession  \\\n",
       "0                                                        2697049  A0A663DJA2   \n",
       "1  CHAIN 1..1393;  /note=\"Protein strawberry notc...        9606      A3KN83   \n",
       "2  CHAIN 1..615;  /note=\"TANK-binding kinase 1-bi...        9606      A7MCY6   \n",
       "3  CHAIN 59..658;  /note=\"Alkyldihydroxyacetoneph...        9606      O00116   \n",
       "4  CHAIN 59..658;  /note=\"Alkyldihydroxyacetoneph...        9606      O00116   \n",
       "\n",
       "   start   end                                               name  \\\n",
       "0      1    38                                     ORF10 proteiin   \n",
       "1      1  1393                 Protein strawberry notch homolog 1   \n",
       "2      1   615            TANK-binding kinase 1-binding protein 1   \n",
       "3      1   658  Alkyldihydroxyacetonephosphate synthase, perox...   \n",
       "4     59   658  Alkyldihydroxyacetonephosphate synthase, perox...   \n",
       "\n",
       "                          proId  \\\n",
       "0                                 \n",
       "1  uniprot.chain:PRO_0000314555   \n",
       "2  uniprot.chain:PRO_0000324654   \n",
       "3                                 \n",
       "4  uniprot.chain:PRO_0000020431   \n",
       "\n",
       "                                            sequence  fullLength  \\\n",
       "0             MGYINVFAFPFTIYSLLLCRMNSRNYIAQVDVVNFNLT        True   \n",
       "1  MVEPGQDLLLAALSESGISPNDLFDIDGGDAGLATPMPTPSVQQSV...        True   \n",
       "2  MESMFEDDISILTQEALGPSEVWLDSPGDPSLGGDMCSASHFALIT...        True   \n",
       "3  MAEAAAAAGGTGLGAGASYGSAADRDRDPDPDRAGRRLRVLSGHLL...        True   \n",
       "4  KARRAASAATAAPTATPAAQESGTIPKKRQEVMKWNGWGYNDSKFI...       False   \n",
       "\n",
       "                                     id  \n",
       "0  md5:06bfef85cf1319e805e05f5bee3ec601  \n",
       "1  md5:a8f6908047b03fcfde873a516979cacd  \n",
       "2  md5:38a1c0fe55ce1552e3e417004717dd21  \n",
       "3  md5:9357ca15dc8abc6d5efb4d6b3f7c5b80  \n",
       "4  md5:edf403cd7e4b04b81da14b792d847d76  "
      ]
     },
     "execution_count": 26,
     "metadata": {},
     "output_type": "execute_result"
    }
   ],
   "source": [
    "seq.head()"
   ]
  },
  {
   "cell_type": "markdown",
   "metadata": {},
   "source": [
    "### Save proteins"
   ]
  },
  {
   "cell_type": "code",
   "execution_count": 27,
   "metadata": {},
   "outputs": [],
   "source": [
    "proteins = seq[['id', 'name', 'accession', 'proId', 'sequence', 'start', 'end', 'fullLength', 'taxonomyId']].copy()\n",
    "proteins['accession'] = 'uniprot:' + proteins['accession']\n",
    "proteins['taxonomyId'] = 'taxonomy:' + proteins['taxonomyId'].astype(str)\n",
    "proteins.to_csv(NEO4J_HOME / 'import/01e-ProteinProteinInteractionProtein.csv', index = False)"
   ]
  },
  {
   "cell_type": "code",
   "execution_count": 28,
   "metadata": {},
   "outputs": [
    {
     "name": "stdout",
     "output_type": "stream",
     "text": [
      "Number of proteins: 855\n"
     ]
    }
   ],
   "source": [
    "print('Number of proteins:', proteins.shape[0])"
   ]
  },
  {
   "cell_type": "code",
   "execution_count": 29,
   "metadata": {},
   "outputs": [
    {
     "data": {
      "text/html": [
       "<div>\n",
       "<style scoped>\n",
       "    .dataframe tbody tr th:only-of-type {\n",
       "        vertical-align: middle;\n",
       "    }\n",
       "\n",
       "    .dataframe tbody tr th {\n",
       "        vertical-align: top;\n",
       "    }\n",
       "\n",
       "    .dataframe thead th {\n",
       "        text-align: right;\n",
       "    }\n",
       "</style>\n",
       "<table border=\"1\" class=\"dataframe\">\n",
       "  <thead>\n",
       "    <tr style=\"text-align: right;\">\n",
       "      <th></th>\n",
       "      <th>id</th>\n",
       "      <th>name</th>\n",
       "      <th>accession</th>\n",
       "      <th>proId</th>\n",
       "      <th>sequence</th>\n",
       "      <th>start</th>\n",
       "      <th>end</th>\n",
       "      <th>fullLength</th>\n",
       "      <th>taxonomyId</th>\n",
       "    </tr>\n",
       "  </thead>\n",
       "  <tbody>\n",
       "    <tr>\n",
       "      <th>0</th>\n",
       "      <td>md5:06bfef85cf1319e805e05f5bee3ec601</td>\n",
       "      <td>ORF10 proteiin</td>\n",
       "      <td>uniprot:A0A663DJA2</td>\n",
       "      <td></td>\n",
       "      <td>MGYINVFAFPFTIYSLLLCRMNSRNYIAQVDVVNFNLT</td>\n",
       "      <td>1</td>\n",
       "      <td>38</td>\n",
       "      <td>True</td>\n",
       "      <td>taxonomy:2697049</td>\n",
       "    </tr>\n",
       "    <tr>\n",
       "      <th>1</th>\n",
       "      <td>md5:a8f6908047b03fcfde873a516979cacd</td>\n",
       "      <td>Protein strawberry notch homolog 1</td>\n",
       "      <td>uniprot:A3KN83</td>\n",
       "      <td>uniprot.chain:PRO_0000314555</td>\n",
       "      <td>MVEPGQDLLLAALSESGISPNDLFDIDGGDAGLATPMPTPSVQQSV...</td>\n",
       "      <td>1</td>\n",
       "      <td>1393</td>\n",
       "      <td>True</td>\n",
       "      <td>taxonomy:9606</td>\n",
       "    </tr>\n",
       "    <tr>\n",
       "      <th>2</th>\n",
       "      <td>md5:38a1c0fe55ce1552e3e417004717dd21</td>\n",
       "      <td>TANK-binding kinase 1-binding protein 1</td>\n",
       "      <td>uniprot:A7MCY6</td>\n",
       "      <td>uniprot.chain:PRO_0000324654</td>\n",
       "      <td>MESMFEDDISILTQEALGPSEVWLDSPGDPSLGGDMCSASHFALIT...</td>\n",
       "      <td>1</td>\n",
       "      <td>615</td>\n",
       "      <td>True</td>\n",
       "      <td>taxonomy:9606</td>\n",
       "    </tr>\n",
       "    <tr>\n",
       "      <th>3</th>\n",
       "      <td>md5:9357ca15dc8abc6d5efb4d6b3f7c5b80</td>\n",
       "      <td>Alkyldihydroxyacetonephosphate synthase, perox...</td>\n",
       "      <td>uniprot:O00116</td>\n",
       "      <td></td>\n",
       "      <td>MAEAAAAAGGTGLGAGASYGSAADRDRDPDPDRAGRRLRVLSGHLL...</td>\n",
       "      <td>1</td>\n",
       "      <td>658</td>\n",
       "      <td>True</td>\n",
       "      <td>taxonomy:9606</td>\n",
       "    </tr>\n",
       "    <tr>\n",
       "      <th>4</th>\n",
       "      <td>md5:edf403cd7e4b04b81da14b792d847d76</td>\n",
       "      <td>Alkyldihydroxyacetonephosphate synthase, perox...</td>\n",
       "      <td>uniprot:O00116</td>\n",
       "      <td>uniprot.chain:PRO_0000020431</td>\n",
       "      <td>KARRAASAATAAPTATPAAQESGTIPKKRQEVMKWNGWGYNDSKFI...</td>\n",
       "      <td>59</td>\n",
       "      <td>658</td>\n",
       "      <td>False</td>\n",
       "      <td>taxonomy:9606</td>\n",
       "    </tr>\n",
       "  </tbody>\n",
       "</table>\n",
       "</div>"
      ],
      "text/plain": [
       "                                     id  \\\n",
       "0  md5:06bfef85cf1319e805e05f5bee3ec601   \n",
       "1  md5:a8f6908047b03fcfde873a516979cacd   \n",
       "2  md5:38a1c0fe55ce1552e3e417004717dd21   \n",
       "3  md5:9357ca15dc8abc6d5efb4d6b3f7c5b80   \n",
       "4  md5:edf403cd7e4b04b81da14b792d847d76   \n",
       "\n",
       "                                                name           accession  \\\n",
       "0                                     ORF10 proteiin  uniprot:A0A663DJA2   \n",
       "1                 Protein strawberry notch homolog 1      uniprot:A3KN83   \n",
       "2            TANK-binding kinase 1-binding protein 1      uniprot:A7MCY6   \n",
       "3  Alkyldihydroxyacetonephosphate synthase, perox...      uniprot:O00116   \n",
       "4  Alkyldihydroxyacetonephosphate synthase, perox...      uniprot:O00116   \n",
       "\n",
       "                          proId  \\\n",
       "0                                 \n",
       "1  uniprot.chain:PRO_0000314555   \n",
       "2  uniprot.chain:PRO_0000324654   \n",
       "3                                 \n",
       "4  uniprot.chain:PRO_0000020431   \n",
       "\n",
       "                                            sequence  start   end  fullLength  \\\n",
       "0             MGYINVFAFPFTIYSLLLCRMNSRNYIAQVDVVNFNLT      1    38        True   \n",
       "1  MVEPGQDLLLAALSESGISPNDLFDIDGGDAGLATPMPTPSVQQSV...      1  1393        True   \n",
       "2  MESMFEDDISILTQEALGPSEVWLDSPGDPSLGGDMCSASHFALIT...      1   615        True   \n",
       "3  MAEAAAAAGGTGLGAGASYGSAADRDRDPDPDRAGRRLRVLSGHLL...      1   658        True   \n",
       "4  KARRAASAATAAPTATPAAQESGTIPKKRQEVMKWNGWGYNDSKFI...     59   658       False   \n",
       "\n",
       "         taxonomyId  \n",
       "0  taxonomy:2697049  \n",
       "1     taxonomy:9606  \n",
       "2     taxonomy:9606  \n",
       "3     taxonomy:9606  \n",
       "4     taxonomy:9606  "
      ]
     },
     "execution_count": 29,
     "metadata": {},
     "output_type": "execute_result"
    }
   ],
   "source": [
    "proteins.head()"
   ]
  },
  {
   "cell_type": "markdown",
   "metadata": {},
   "source": [
    "### Merge interaction data with sequence data"
   ]
  },
  {
   "cell_type": "code",
   "execution_count": 30,
   "metadata": {},
   "outputs": [],
   "source": [
    "sequences = seq[['accession', 'proId', 'id']].copy()\n",
    "sequences_full_length = seq.query('fullLength')\n",
    "sequences_full_length = sequences_full_length[['accession', 'proId', 'id']].copy()"
   ]
  },
  {
   "cell_type": "code",
   "execution_count": 31,
   "metadata": {},
   "outputs": [
    {
     "data": {
      "text/html": [
       "<div>\n",
       "<style scoped>\n",
       "    .dataframe tbody tr th:only-of-type {\n",
       "        vertical-align: middle;\n",
       "    }\n",
       "\n",
       "    .dataframe tbody tr th {\n",
       "        vertical-align: top;\n",
       "    }\n",
       "\n",
       "    .dataframe thead th {\n",
       "        text-align: right;\n",
       "    }\n",
       "</style>\n",
       "<table border=\"1\" class=\"dataframe\">\n",
       "  <thead>\n",
       "    <tr style=\"text-align: right;\">\n",
       "      <th></th>\n",
       "      <th>accession</th>\n",
       "      <th>proId</th>\n",
       "      <th>id</th>\n",
       "    </tr>\n",
       "  </thead>\n",
       "  <tbody>\n",
       "    <tr>\n",
       "      <th>0</th>\n",
       "      <td>A0A663DJA2</td>\n",
       "      <td></td>\n",
       "      <td>md5:06bfef85cf1319e805e05f5bee3ec601</td>\n",
       "    </tr>\n",
       "    <tr>\n",
       "      <th>1</th>\n",
       "      <td>A3KN83</td>\n",
       "      <td>uniprot.chain:PRO_0000314555</td>\n",
       "      <td>md5:a8f6908047b03fcfde873a516979cacd</td>\n",
       "    </tr>\n",
       "    <tr>\n",
       "      <th>2</th>\n",
       "      <td>A7MCY6</td>\n",
       "      <td>uniprot.chain:PRO_0000324654</td>\n",
       "      <td>md5:38a1c0fe55ce1552e3e417004717dd21</td>\n",
       "    </tr>\n",
       "    <tr>\n",
       "      <th>3</th>\n",
       "      <td>O00116</td>\n",
       "      <td></td>\n",
       "      <td>md5:9357ca15dc8abc6d5efb4d6b3f7c5b80</td>\n",
       "    </tr>\n",
       "    <tr>\n",
       "      <th>5</th>\n",
       "      <td>O00124</td>\n",
       "      <td>uniprot.chain:PRO_0000211033</td>\n",
       "      <td>md5:5291ee7a85d801c849a32f90c955a077</td>\n",
       "    </tr>\n",
       "  </tbody>\n",
       "</table>\n",
       "</div>"
      ],
      "text/plain": [
       "    accession                         proId  \\\n",
       "0  A0A663DJA2                                 \n",
       "1      A3KN83  uniprot.chain:PRO_0000314555   \n",
       "2      A7MCY6  uniprot.chain:PRO_0000324654   \n",
       "3      O00116                                 \n",
       "5      O00124  uniprot.chain:PRO_0000211033   \n",
       "\n",
       "                                     id  \n",
       "0  md5:06bfef85cf1319e805e05f5bee3ec601  \n",
       "1  md5:a8f6908047b03fcfde873a516979cacd  \n",
       "2  md5:38a1c0fe55ce1552e3e417004717dd21  \n",
       "3  md5:9357ca15dc8abc6d5efb4d6b3f7c5b80  \n",
       "5  md5:5291ee7a85d801c849a32f90c955a077  "
      ]
     },
     "execution_count": 31,
     "metadata": {},
     "output_type": "execute_result"
    }
   ],
   "source": [
    "sequences_full_length.head()"
   ]
  },
  {
   "cell_type": "code",
   "execution_count": 32,
   "metadata": {},
   "outputs": [
    {
     "data": {
      "text/html": [
       "<div>\n",
       "<style scoped>\n",
       "    .dataframe tbody tr th:only-of-type {\n",
       "        vertical-align: middle;\n",
       "    }\n",
       "\n",
       "    .dataframe tbody tr th {\n",
       "        vertical-align: top;\n",
       "    }\n",
       "\n",
       "    .dataframe thead th {\n",
       "        text-align: right;\n",
       "    }\n",
       "</style>\n",
       "<table border=\"1\" class=\"dataframe\">\n",
       "  <thead>\n",
       "    <tr style=\"text-align: right;\">\n",
       "      <th></th>\n",
       "      <th>accession</th>\n",
       "      <th>proId</th>\n",
       "      <th>id</th>\n",
       "    </tr>\n",
       "  </thead>\n",
       "  <tbody>\n",
       "    <tr>\n",
       "      <th>710</th>\n",
       "      <td>Q9BYF1</td>\n",
       "      <td></td>\n",
       "      <td>md5:906dc56d5c9c5513eef859ee82e80267</td>\n",
       "    </tr>\n",
       "  </tbody>\n",
       "</table>\n",
       "</div>"
      ],
      "text/plain": [
       "    accession proId                                    id\n",
       "710    Q9BYF1        md5:906dc56d5c9c5513eef859ee82e80267"
      ]
     },
     "execution_count": 32,
     "metadata": {},
     "output_type": "execute_result"
    }
   ],
   "source": [
    "sequences_full_length.query(\"accession == 'Q9BYF1'\")"
   ]
  },
  {
   "cell_type": "code",
   "execution_count": 33,
   "metadata": {},
   "outputs": [],
   "source": [
    "interact = data[['accession_a', 'accession_b', 'pro_id_a', 'pro_id_b', 'pubmedId']]"
   ]
  },
  {
   "cell_type": "code",
   "execution_count": 34,
   "metadata": {},
   "outputs": [
    {
     "data": {
      "text/html": [
       "<div>\n",
       "<style scoped>\n",
       "    .dataframe tbody tr th:only-of-type {\n",
       "        vertical-align: middle;\n",
       "    }\n",
       "\n",
       "    .dataframe tbody tr th {\n",
       "        vertical-align: top;\n",
       "    }\n",
       "\n",
       "    .dataframe thead th {\n",
       "        text-align: right;\n",
       "    }\n",
       "</style>\n",
       "<table border=\"1\" class=\"dataframe\">\n",
       "  <thead>\n",
       "    <tr style=\"text-align: right;\">\n",
       "      <th></th>\n",
       "      <th>accession_a</th>\n",
       "      <th>accession_b</th>\n",
       "      <th>pro_id_a</th>\n",
       "      <th>pro_id_b</th>\n",
       "      <th>pubmedId</th>\n",
       "    </tr>\n",
       "  </thead>\n",
       "  <tbody>\n",
       "    <tr>\n",
       "      <th>60</th>\n",
       "      <td>P0DTC2</td>\n",
       "      <td>Q9C0B5</td>\n",
       "      <td></td>\n",
       "      <td></td>\n",
       "      <td></td>\n",
       "    </tr>\n",
       "    <tr>\n",
       "      <th>61</th>\n",
       "      <td>P0DTC2</td>\n",
       "      <td>Q7Z5G4</td>\n",
       "      <td></td>\n",
       "      <td></td>\n",
       "      <td></td>\n",
       "    </tr>\n",
       "    <tr>\n",
       "      <th>599</th>\n",
       "      <td>P0DTC2</td>\n",
       "      <td>P62269</td>\n",
       "      <td></td>\n",
       "      <td></td>\n",
       "      <td></td>\n",
       "    </tr>\n",
       "    <tr>\n",
       "      <th>600</th>\n",
       "      <td>P0DTC2</td>\n",
       "      <td>Q96N67</td>\n",
       "      <td></td>\n",
       "      <td></td>\n",
       "      <td></td>\n",
       "    </tr>\n",
       "    <tr>\n",
       "      <th>601</th>\n",
       "      <td>P0DTC2</td>\n",
       "      <td>P63244</td>\n",
       "      <td></td>\n",
       "      <td></td>\n",
       "      <td></td>\n",
       "    </tr>\n",
       "    <tr>\n",
       "      <th>602</th>\n",
       "      <td>P0DTC2</td>\n",
       "      <td>P40227</td>\n",
       "      <td></td>\n",
       "      <td></td>\n",
       "      <td></td>\n",
       "    </tr>\n",
       "    <tr>\n",
       "      <th>603</th>\n",
       "      <td>P0DTC2</td>\n",
       "      <td>P07195</td>\n",
       "      <td></td>\n",
       "      <td></td>\n",
       "      <td></td>\n",
       "    </tr>\n",
       "    <tr>\n",
       "      <th>604</th>\n",
       "      <td>P0DTC2</td>\n",
       "      <td>P08621</td>\n",
       "      <td></td>\n",
       "      <td></td>\n",
       "      <td></td>\n",
       "    </tr>\n",
       "    <tr>\n",
       "      <th>605</th>\n",
       "      <td>P0DTC2</td>\n",
       "      <td>P60660</td>\n",
       "      <td></td>\n",
       "      <td></td>\n",
       "      <td></td>\n",
       "    </tr>\n",
       "    <tr>\n",
       "      <th>606</th>\n",
       "      <td>P0DTC2</td>\n",
       "      <td>P47756</td>\n",
       "      <td></td>\n",
       "      <td></td>\n",
       "      <td></td>\n",
       "    </tr>\n",
       "    <tr>\n",
       "      <th>607</th>\n",
       "      <td>P0DTC2</td>\n",
       "      <td>P52907</td>\n",
       "      <td></td>\n",
       "      <td></td>\n",
       "      <td></td>\n",
       "    </tr>\n",
       "    <tr>\n",
       "      <th>608</th>\n",
       "      <td>P0DTC2</td>\n",
       "      <td>Q9NYL9</td>\n",
       "      <td></td>\n",
       "      <td></td>\n",
       "      <td></td>\n",
       "    </tr>\n",
       "    <tr>\n",
       "      <th>609</th>\n",
       "      <td>P0DTC2</td>\n",
       "      <td>P13797</td>\n",
       "      <td></td>\n",
       "      <td></td>\n",
       "      <td></td>\n",
       "    </tr>\n",
       "    <tr>\n",
       "      <th>610</th>\n",
       "      <td>P0DTC2</td>\n",
       "      <td>Q9ULV4</td>\n",
       "      <td></td>\n",
       "      <td></td>\n",
       "      <td></td>\n",
       "    </tr>\n",
       "    <tr>\n",
       "      <th>611</th>\n",
       "      <td>P0DTC2</td>\n",
       "      <td>P59998</td>\n",
       "      <td></td>\n",
       "      <td></td>\n",
       "      <td></td>\n",
       "    </tr>\n",
       "    <tr>\n",
       "      <th>612</th>\n",
       "      <td>P0DTC2</td>\n",
       "      <td>P61158</td>\n",
       "      <td></td>\n",
       "      <td></td>\n",
       "      <td></td>\n",
       "    </tr>\n",
       "    <tr>\n",
       "      <th>613</th>\n",
       "      <td>P0DTC2</td>\n",
       "      <td>Q9UM54</td>\n",
       "      <td></td>\n",
       "      <td></td>\n",
       "      <td></td>\n",
       "    </tr>\n",
       "    <tr>\n",
       "      <th>943</th>\n",
       "      <td>P0DTC2</td>\n",
       "      <td>P35613</td>\n",
       "      <td></td>\n",
       "      <td></td>\n",
       "      <td></td>\n",
       "    </tr>\n",
       "  </tbody>\n",
       "</table>\n",
       "</div>"
      ],
      "text/plain": [
       "    accession_a accession_b pro_id_a pro_id_b pubmedId\n",
       "60       P0DTC2      Q9C0B5                           \n",
       "61       P0DTC2      Q7Z5G4                           \n",
       "599      P0DTC2      P62269                           \n",
       "600      P0DTC2      Q96N67                           \n",
       "601      P0DTC2      P63244                           \n",
       "602      P0DTC2      P40227                           \n",
       "603      P0DTC2      P07195                           \n",
       "604      P0DTC2      P08621                           \n",
       "605      P0DTC2      P60660                           \n",
       "606      P0DTC2      P47756                           \n",
       "607      P0DTC2      P52907                           \n",
       "608      P0DTC2      Q9NYL9                           \n",
       "609      P0DTC2      P13797                           \n",
       "610      P0DTC2      Q9ULV4                           \n",
       "611      P0DTC2      P59998                           \n",
       "612      P0DTC2      P61158                           \n",
       "613      P0DTC2      Q9UM54                           \n",
       "943      P0DTC2      P35613                           "
      ]
     },
     "execution_count": 34,
     "metadata": {},
     "output_type": "execute_result"
    }
   ],
   "source": [
    "interact.query(\"accession_a == 'P0DTC2'\")"
   ]
  },
  {
   "cell_type": "markdown",
   "metadata": {},
   "source": [
    "Split dataframe into two parts, depending on the presence of a protein id for interactor A. Each part is processed differently."
   ]
  },
  {
   "cell_type": "code",
   "execution_count": 35,
   "metadata": {},
   "outputs": [],
   "source": [
    "interact_pro_a = interact.query(\"pro_id_a != ''\").copy()\n",
    "interact_acc_a = interact.query(\"pro_id_a == ''\").copy()"
   ]
  },
  {
   "cell_type": "code",
   "execution_count": 36,
   "metadata": {},
   "outputs": [],
   "source": [
    "interact_pro_a = interact_pro_a.merge(sequences, left_on='pro_id_a', right_on='proId', how='left')\n",
    "interact_pro_a.fillna('', inplace=True)"
   ]
  },
  {
   "cell_type": "code",
   "execution_count": 37,
   "metadata": {},
   "outputs": [],
   "source": [
    "interact_acc_a = interact_acc_a.merge(sequences_full_length, left_on='accession_a', right_on='accession', how='left')\n",
    "interact_acc_a.fillna('', inplace=True)"
   ]
  },
  {
   "cell_type": "markdown",
   "metadata": {},
   "source": [
    "Concatenate the dataframes back together"
   ]
  },
  {
   "cell_type": "code",
   "execution_count": 38,
   "metadata": {},
   "outputs": [],
   "source": [
    "interact = pd.concat([interact_pro_a, interact_acc_a])\n",
    "interact.rename(columns={'id': 'id_a'}, inplace=True)"
   ]
  },
  {
   "cell_type": "code",
   "execution_count": 39,
   "metadata": {},
   "outputs": [
    {
     "name": "stdout",
     "output_type": "stream",
     "text": [
      "total interactions: 963\n"
     ]
    }
   ],
   "source": [
    "print('total interactions:', interact.shape[0])"
   ]
  },
  {
   "cell_type": "markdown",
   "metadata": {},
   "source": [
    "Split dataframe into two parts, depending on the presence of a protein id for interactor B. Each part is processed differently."
   ]
  },
  {
   "cell_type": "code",
   "execution_count": 40,
   "metadata": {},
   "outputs": [],
   "source": [
    "interact_pro_b = interact.query(\"pro_id_b != ''\").copy()\n",
    "interact_acc_b = interact.query(\"pro_id_b == ''\").copy()"
   ]
  },
  {
   "cell_type": "code",
   "execution_count": 41,
   "metadata": {},
   "outputs": [],
   "source": [
    "interact_pro_b = interact_pro_b.merge(sequences, left_on='pro_id_b', right_on='proId', how='left')\n",
    "interact_pro_b.fillna('', inplace=True)"
   ]
  },
  {
   "cell_type": "code",
   "execution_count": 42,
   "metadata": {},
   "outputs": [],
   "source": [
    "interact_acc_b = interact_acc_b.merge(sequences_full_length, left_on='accession_b', right_on='accession', how='left')\n",
    "interact_acc_b.fillna('', inplace=True)"
   ]
  },
  {
   "cell_type": "markdown",
   "metadata": {},
   "source": [
    "Concatenate the dataframes back together"
   ]
  },
  {
   "cell_type": "code",
   "execution_count": 43,
   "metadata": {},
   "outputs": [
    {
     "data": {
      "text/html": [
       "<div>\n",
       "<style scoped>\n",
       "    .dataframe tbody tr th:only-of-type {\n",
       "        vertical-align: middle;\n",
       "    }\n",
       "\n",
       "    .dataframe tbody tr th {\n",
       "        vertical-align: top;\n",
       "    }\n",
       "\n",
       "    .dataframe thead th {\n",
       "        text-align: right;\n",
       "    }\n",
       "</style>\n",
       "<table border=\"1\" class=\"dataframe\">\n",
       "  <thead>\n",
       "    <tr style=\"text-align: right;\">\n",
       "      <th></th>\n",
       "      <th>accession_a</th>\n",
       "      <th>accession_b</th>\n",
       "      <th>pro_id_a</th>\n",
       "      <th>pro_id_b</th>\n",
       "      <th>pubmedId</th>\n",
       "      <th>accession_x</th>\n",
       "      <th>proId_x</th>\n",
       "      <th>id_a</th>\n",
       "      <th>accession_y</th>\n",
       "      <th>proId_y</th>\n",
       "      <th>id_b</th>\n",
       "    </tr>\n",
       "  </thead>\n",
       "  <tbody>\n",
       "    <tr>\n",
       "      <th>0</th>\n",
       "      <td>O75347</td>\n",
       "      <td>P0DTC1</td>\n",
       "      <td></td>\n",
       "      <td>uniprot.chain:PRO_0000449645</td>\n",
       "      <td></td>\n",
       "      <td>O75347</td>\n",
       "      <td></td>\n",
       "      <td>md5:895df31d01af35825589954917c6b682</td>\n",
       "      <td>P0DTC1</td>\n",
       "      <td>uniprot.chain:PRO_0000449645</td>\n",
       "      <td>md5:63d2c81f37726f44c600eb5225676a66</td>\n",
       "    </tr>\n",
       "    <tr>\n",
       "      <th>1</th>\n",
       "      <td>Q92769</td>\n",
       "      <td>P0DTD1</td>\n",
       "      <td></td>\n",
       "      <td>uniprot.chain:PRO_0000449623</td>\n",
       "      <td></td>\n",
       "      <td>Q92769</td>\n",
       "      <td>uniprot.chain:PRO_0000114693</td>\n",
       "      <td>md5:6d48f5d9d96f10557d680247a7cdcfe9</td>\n",
       "      <td>P0DTD1</td>\n",
       "      <td>uniprot.chain:PRO_0000449623</td>\n",
       "      <td>md5:dc6436f559bc873ac013085f6e56d467</td>\n",
       "    </tr>\n",
       "    <tr>\n",
       "      <th>2</th>\n",
       "      <td>Q9UJZ1</td>\n",
       "      <td>intact:EBI</td>\n",
       "      <td></td>\n",
       "      <td>25475912</td>\n",
       "      <td></td>\n",
       "      <td>Q9UJZ1</td>\n",
       "      <td></td>\n",
       "      <td>md5:4f0a474a755af072900d84d3cacc6d92</td>\n",
       "      <td></td>\n",
       "      <td></td>\n",
       "      <td></td>\n",
       "    </tr>\n",
       "    <tr>\n",
       "      <th>3</th>\n",
       "      <td>P61158</td>\n",
       "      <td>P0DTD1</td>\n",
       "      <td></td>\n",
       "      <td>uniprot.chain:PRO_0000449633</td>\n",
       "      <td></td>\n",
       "      <td>P61158</td>\n",
       "      <td></td>\n",
       "      <td>md5:c07966db47593469f42f4ee1a7b0ccdf</td>\n",
       "      <td>P0DTD1</td>\n",
       "      <td>uniprot.chain:PRO_0000449633</td>\n",
       "      <td>md5:42b973dceb72cdea04fda203c55b67bc</td>\n",
       "    </tr>\n",
       "    <tr>\n",
       "      <th>0</th>\n",
       "      <td>P0DTD1</td>\n",
       "      <td>Q14181</td>\n",
       "      <td>uniprot.chain:PRO_0000449619</td>\n",
       "      <td></td>\n",
       "      <td></td>\n",
       "      <td>P0DTD1</td>\n",
       "      <td>uniprot.chain:PRO_0000449619</td>\n",
       "      <td>md5:5c2c364f44079728c451280435c4236a</td>\n",
       "      <td>Q14181</td>\n",
       "      <td>uniprot.chain:PRO_0000194035</td>\n",
       "      <td>md5:41e036ebe08ce3a96edad90d8f2efef0</td>\n",
       "    </tr>\n",
       "  </tbody>\n",
       "</table>\n",
       "</div>"
      ],
      "text/plain": [
       "  accession_a accession_b                      pro_id_a  \\\n",
       "0      O75347      P0DTC1                                 \n",
       "1      Q92769      P0DTD1                                 \n",
       "2      Q9UJZ1  intact:EBI                                 \n",
       "3      P61158      P0DTD1                                 \n",
       "0      P0DTD1      Q14181  uniprot.chain:PRO_0000449619   \n",
       "\n",
       "                       pro_id_b pubmedId accession_x  \\\n",
       "0  uniprot.chain:PRO_0000449645               O75347   \n",
       "1  uniprot.chain:PRO_0000449623               Q92769   \n",
       "2                      25475912               Q9UJZ1   \n",
       "3  uniprot.chain:PRO_0000449633               P61158   \n",
       "0                                             P0DTD1   \n",
       "\n",
       "                        proId_x                                  id_a  \\\n",
       "0                                md5:895df31d01af35825589954917c6b682   \n",
       "1  uniprot.chain:PRO_0000114693  md5:6d48f5d9d96f10557d680247a7cdcfe9   \n",
       "2                                md5:4f0a474a755af072900d84d3cacc6d92   \n",
       "3                                md5:c07966db47593469f42f4ee1a7b0ccdf   \n",
       "0  uniprot.chain:PRO_0000449619  md5:5c2c364f44079728c451280435c4236a   \n",
       "\n",
       "  accession_y                       proId_y  \\\n",
       "0      P0DTC1  uniprot.chain:PRO_0000449645   \n",
       "1      P0DTD1  uniprot.chain:PRO_0000449623   \n",
       "2                                             \n",
       "3      P0DTD1  uniprot.chain:PRO_0000449633   \n",
       "0      Q14181  uniprot.chain:PRO_0000194035   \n",
       "\n",
       "                                   id_b  \n",
       "0  md5:63d2c81f37726f44c600eb5225676a66  \n",
       "1  md5:dc6436f559bc873ac013085f6e56d467  \n",
       "2                                        \n",
       "3  md5:42b973dceb72cdea04fda203c55b67bc  \n",
       "0  md5:41e036ebe08ce3a96edad90d8f2efef0  "
      ]
     },
     "execution_count": 43,
     "metadata": {},
     "output_type": "execute_result"
    }
   ],
   "source": [
    "interact = pd.concat([interact_pro_b, interact_acc_b])\n",
    "interact.rename(columns={'id': 'id_b'}, inplace=True)\n",
    "interact.head()"
   ]
  },
  {
   "cell_type": "code",
   "execution_count": 44,
   "metadata": {},
   "outputs": [
    {
     "data": {
      "text/html": [
       "<div>\n",
       "<style scoped>\n",
       "    .dataframe tbody tr th:only-of-type {\n",
       "        vertical-align: middle;\n",
       "    }\n",
       "\n",
       "    .dataframe tbody tr th {\n",
       "        vertical-align: top;\n",
       "    }\n",
       "\n",
       "    .dataframe thead th {\n",
       "        text-align: right;\n",
       "    }\n",
       "</style>\n",
       "<table border=\"1\" class=\"dataframe\">\n",
       "  <thead>\n",
       "    <tr style=\"text-align: right;\">\n",
       "      <th></th>\n",
       "      <th>accession_a</th>\n",
       "      <th>accession_b</th>\n",
       "      <th>pro_id_a</th>\n",
       "      <th>pro_id_b</th>\n",
       "      <th>pubmedId</th>\n",
       "      <th>accession_x</th>\n",
       "      <th>proId_x</th>\n",
       "      <th>id_a</th>\n",
       "      <th>accession_y</th>\n",
       "      <th>proId_y</th>\n",
       "      <th>id_b</th>\n",
       "    </tr>\n",
       "  </thead>\n",
       "  <tbody>\n",
       "    <tr>\n",
       "      <th>259</th>\n",
       "      <td>P0DTC1</td>\n",
       "      <td>Q9UM54</td>\n",
       "      <td>uniprot.chain:PRO_0000449645</td>\n",
       "      <td></td>\n",
       "      <td></td>\n",
       "      <td>P0DTC1</td>\n",
       "      <td>uniprot.chain:PRO_0000449645</td>\n",
       "      <td>md5:63d2c81f37726f44c600eb5225676a66</td>\n",
       "      <td>Q9UM54</td>\n",
       "      <td>uniprot.chain:PRO_0000123464</td>\n",
       "      <td>md5:6c4869132f6880065ac9e8d67ff15787</td>\n",
       "    </tr>\n",
       "    <tr>\n",
       "      <th>260</th>\n",
       "      <td>P0DTC1</td>\n",
       "      <td>O43795</td>\n",
       "      <td>uniprot.chain:PRO_0000449645</td>\n",
       "      <td></td>\n",
       "      <td></td>\n",
       "      <td>P0DTC1</td>\n",
       "      <td>uniprot.chain:PRO_0000449645</td>\n",
       "      <td>md5:63d2c81f37726f44c600eb5225676a66</td>\n",
       "      <td>O43795</td>\n",
       "      <td>uniprot.chain:PRO_0000123442</td>\n",
       "      <td>md5:250d73405f887504ee3046934f5cd258</td>\n",
       "    </tr>\n",
       "    <tr>\n",
       "      <th>261</th>\n",
       "      <td>P0DTC1</td>\n",
       "      <td>P61158</td>\n",
       "      <td>uniprot.chain:PRO_0000449645</td>\n",
       "      <td></td>\n",
       "      <td></td>\n",
       "      <td>P0DTC1</td>\n",
       "      <td>uniprot.chain:PRO_0000449645</td>\n",
       "      <td>md5:63d2c81f37726f44c600eb5225676a66</td>\n",
       "      <td>P61158</td>\n",
       "      <td></td>\n",
       "      <td>md5:c07966db47593469f42f4ee1a7b0ccdf</td>\n",
       "    </tr>\n",
       "  </tbody>\n",
       "</table>\n",
       "</div>"
      ],
      "text/plain": [
       "    accession_a accession_b                      pro_id_a pro_id_b pubmedId  \\\n",
       "259      P0DTC1      Q9UM54  uniprot.chain:PRO_0000449645                     \n",
       "260      P0DTC1      O43795  uniprot.chain:PRO_0000449645                     \n",
       "261      P0DTC1      P61158  uniprot.chain:PRO_0000449645                     \n",
       "\n",
       "    accession_x                       proId_x  \\\n",
       "259      P0DTC1  uniprot.chain:PRO_0000449645   \n",
       "260      P0DTC1  uniprot.chain:PRO_0000449645   \n",
       "261      P0DTC1  uniprot.chain:PRO_0000449645   \n",
       "\n",
       "                                     id_a accession_y  \\\n",
       "259  md5:63d2c81f37726f44c600eb5225676a66      Q9UM54   \n",
       "260  md5:63d2c81f37726f44c600eb5225676a66      O43795   \n",
       "261  md5:63d2c81f37726f44c600eb5225676a66      P61158   \n",
       "\n",
       "                          proId_y                                  id_b  \n",
       "259  uniprot.chain:PRO_0000123464  md5:6c4869132f6880065ac9e8d67ff15787  \n",
       "260  uniprot.chain:PRO_0000123442  md5:250d73405f887504ee3046934f5cd258  \n",
       "261                                md5:c07966db47593469f42f4ee1a7b0ccdf  "
      ]
     },
     "execution_count": 44,
     "metadata": {},
     "output_type": "execute_result"
    }
   ],
   "source": [
    "interact.query(\"accession_a == 'P0DTC1'\")"
   ]
  },
  {
   "cell_type": "markdown",
   "metadata": {},
   "source": [
    "### Save interactions"
   ]
  },
  {
   "cell_type": "markdown",
   "metadata": {},
   "source": [
    "Remove interactions without md5 ids"
   ]
  },
  {
   "cell_type": "code",
   "execution_count": 45,
   "metadata": {},
   "outputs": [],
   "source": [
    "interact = interact[(interact['id_a'] != '') & (interact['id_b'] != '')]"
   ]
  },
  {
   "cell_type": "code",
   "execution_count": 46,
   "metadata": {},
   "outputs": [],
   "source": [
    "interact = interact[['id_a', 'id_b']]\n",
    "interact.drop_duplicates(inplace=True)\n",
    "interact.to_csv(NEO4J_HOME / 'import/01e-ProteinProteinInteraction.csv', index = False)"
   ]
  },
  {
   "cell_type": "code",
   "execution_count": 47,
   "metadata": {},
   "outputs": [
    {
     "name": "stdout",
     "output_type": "stream",
     "text": [
      "Number of interactions: 951\n"
     ]
    }
   ],
   "source": [
    "print('Number of interactions:', interact.shape[0])"
   ]
  },
  {
   "cell_type": "code",
   "execution_count": 48,
   "metadata": {},
   "outputs": [
    {
     "data": {
      "text/html": [
       "<div>\n",
       "<style scoped>\n",
       "    .dataframe tbody tr th:only-of-type {\n",
       "        vertical-align: middle;\n",
       "    }\n",
       "\n",
       "    .dataframe tbody tr th {\n",
       "        vertical-align: top;\n",
       "    }\n",
       "\n",
       "    .dataframe thead th {\n",
       "        text-align: right;\n",
       "    }\n",
       "</style>\n",
       "<table border=\"1\" class=\"dataframe\">\n",
       "  <thead>\n",
       "    <tr style=\"text-align: right;\">\n",
       "      <th></th>\n",
       "      <th>id_a</th>\n",
       "      <th>id_b</th>\n",
       "    </tr>\n",
       "  </thead>\n",
       "  <tbody>\n",
       "    <tr>\n",
       "      <th>0</th>\n",
       "      <td>md5:895df31d01af35825589954917c6b682</td>\n",
       "      <td>md5:63d2c81f37726f44c600eb5225676a66</td>\n",
       "    </tr>\n",
       "    <tr>\n",
       "      <th>1</th>\n",
       "      <td>md5:6d48f5d9d96f10557d680247a7cdcfe9</td>\n",
       "      <td>md5:dc6436f559bc873ac013085f6e56d467</td>\n",
       "    </tr>\n",
       "    <tr>\n",
       "      <th>3</th>\n",
       "      <td>md5:c07966db47593469f42f4ee1a7b0ccdf</td>\n",
       "      <td>md5:42b973dceb72cdea04fda203c55b67bc</td>\n",
       "    </tr>\n",
       "    <tr>\n",
       "      <th>0</th>\n",
       "      <td>md5:5c2c364f44079728c451280435c4236a</td>\n",
       "      <td>md5:41e036ebe08ce3a96edad90d8f2efef0</td>\n",
       "    </tr>\n",
       "    <tr>\n",
       "      <th>1</th>\n",
       "      <td>md5:5c2c364f44079728c451280435c4236a</td>\n",
       "      <td>md5:9b6eac378c77b98ec8ea9925973fbd03</td>\n",
       "    </tr>\n",
       "  </tbody>\n",
       "</table>\n",
       "</div>"
      ],
      "text/plain": [
       "                                   id_a                                  id_b\n",
       "0  md5:895df31d01af35825589954917c6b682  md5:63d2c81f37726f44c600eb5225676a66\n",
       "1  md5:6d48f5d9d96f10557d680247a7cdcfe9  md5:dc6436f559bc873ac013085f6e56d467\n",
       "3  md5:c07966db47593469f42f4ee1a7b0ccdf  md5:42b973dceb72cdea04fda203c55b67bc\n",
       "0  md5:5c2c364f44079728c451280435c4236a  md5:41e036ebe08ce3a96edad90d8f2efef0\n",
       "1  md5:5c2c364f44079728c451280435c4236a  md5:9b6eac378c77b98ec8ea9925973fbd03"
      ]
     },
     "execution_count": 48,
     "metadata": {},
     "output_type": "execute_result"
    }
   ],
   "source": [
    "interact.head()"
   ]
  },
  {
   "cell_type": "code",
   "execution_count": null,
   "metadata": {},
   "outputs": [],
   "source": []
  }
 ],
 "metadata": {
  "kernelspec": {
   "display_name": "Python 3",
   "language": "python",
   "name": "python3"
  },
  "language_info": {
   "codemirror_mode": {
    "name": "ipython",
    "version": 3
   },
   "file_extension": ".py",
   "mimetype": "text/x-python",
   "name": "python",
   "nbconvert_exporter": "python",
   "pygments_lexer": "ipython3",
   "version": "3.8.3"
  }
 },
 "nbformat": 4,
 "nbformat_minor": 4
}

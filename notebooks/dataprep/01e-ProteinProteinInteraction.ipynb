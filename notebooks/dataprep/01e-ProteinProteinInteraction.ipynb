{
 "cells": [
  {
   "cell_type": "markdown",
   "metadata": {},
   "source": [
    "# Protein Protein Interaction Data\n",
    "**[Work in progress]**\n",
    "\n",
    "This notebook downloads and standardizes viral-host protein data from IntAct for ingestion into the Knowledge Graph.\n",
    "\n",
    "Data source: [IntAct](https://www.ebi.ac.uk/intact/query/pubid:IM-27814)\n",
    "\n",
    "Authors: Kaushik Ganapathy, Eric Yu, Peter Rose (krganapa@ucsd.edu, ery010@ucsd.edu, pwrose@ucsd.edu)"
   ]
  },
  {
   "cell_type": "code",
   "execution_count": 1,
   "metadata": {},
   "outputs": [],
   "source": [
    "import os\n",
    "import re\n",
    "import hashlib \n",
    "\n",
    "import pandas as pd\n",
    "import numpy as np\n",
    "\n",
    "from pathlib import Path\n",
    "from Bio import SeqIO\n",
    "\n",
    "pd.options.display.max_rows = None  # display all rows\n",
    "pd.options.display.max_columns = None  # display all columsns"
   ]
  },
  {
   "cell_type": "code",
   "execution_count": 2,
   "metadata": {},
   "outputs": [
    {
     "name": "stdout",
     "output_type": "stream",
     "text": [
      "/Users/peter/Library/Application Support/com.Neo4j.Relate/data/dbmss/dbms-8bf637fc-0d20-4d9f-9c6f-f7e72e92a4da/import\n"
     ]
    }
   ],
   "source": [
    "NEO4J_IMPORT = Path(os.getenv('NEO4J_IMPORT'))\n",
    "print(NEO4J_IMPORT)"
   ]
  },
  {
   "cell_type": "markdown",
   "metadata": {},
   "source": [
    "https://www.uniprot.org/help/uniprotkb_column_names\n",
    "https://www.uniprot.org/uniprot/P0DTD1#PRO_0000449630"
   ]
  },
  {
   "cell_type": "markdown",
   "metadata": {},
   "source": [
    "### Get list of organisms to include in the Knowledge Graph"
   ]
  },
  {
   "cell_type": "code",
   "execution_count": 3,
   "metadata": {},
   "outputs": [],
   "source": [
    "organisms = pd.read_csv(\"../../reference_data/Organism.csv\", dtype=str)"
   ]
  },
  {
   "cell_type": "code",
   "execution_count": 4,
   "metadata": {},
   "outputs": [],
   "source": [
    "organisms = organisms[organisms['id'].str.startswith('taxonomy')]\n",
    "# remove CURIE\n",
    "organisms['taxonomy'] = organisms['id'].apply(lambda x: x.split(':')[1])\n",
    "taxonomy_ids = organisms['taxonomy'].unique()"
   ]
  },
  {
   "cell_type": "code",
   "execution_count": 5,
   "metadata": {},
   "outputs": [
    {
     "data": {
      "text/plain": [
       "array(['2697049', '1263720', '694009', '443239', '31631', '11137',\n",
       "       '277944', '12131', '12134', '9606', '10090', '59477', '608659',\n",
       "       '49442', '9974', '143292', '71116', '9608', '9685', '9666',\n",
       "       '419130', '452646', '10036', '9689', '9694'], dtype=object)"
      ]
     },
     "execution_count": 5,
     "metadata": {},
     "output_type": "execute_result"
    }
   ],
   "source": [
    "taxonomy_ids"
   ]
  },
  {
   "cell_type": "markdown",
   "metadata": {},
   "source": [
    "### Retrieve interaction data from IntAct"
   ]
  },
  {
   "cell_type": "code",
   "execution_count": 6,
   "metadata": {},
   "outputs": [],
   "source": [
    "urls = [f'https://www.ebi.ac.uk/intact/export?format=mitab_25&query=taxid%3A{taxon}&negative=false&spoke=false&ontology=false&sort=intact-miscore&asc=false'\n",
    "        for taxon in taxonomy_ids]"
   ]
  },
  {
   "cell_type": "code",
   "execution_count": 7,
   "metadata": {},
   "outputs": [],
   "source": [
    "data = pd.concat((pd.read_csv(url, sep='\\t', dtype='str') for url in urls))"
   ]
  },
  {
   "cell_type": "code",
   "execution_count": 8,
   "metadata": {},
   "outputs": [
    {
     "name": "stdout",
     "output_type": "stream",
     "text": [
      "Number of interactions: 780441\n"
     ]
    }
   ],
   "source": [
    "print('Number of interactions:', data.shape[0])"
   ]
  },
  {
   "cell_type": "code",
   "execution_count": 9,
   "metadata": {},
   "outputs": [
    {
     "data": {
      "text/html": [
       "<div>\n",
       "<style scoped>\n",
       "    .dataframe tbody tr th:only-of-type {\n",
       "        vertical-align: middle;\n",
       "    }\n",
       "\n",
       "    .dataframe tbody tr th {\n",
       "        vertical-align: top;\n",
       "    }\n",
       "\n",
       "    .dataframe thead th {\n",
       "        text-align: right;\n",
       "    }\n",
       "</style>\n",
       "<table border=\"1\" class=\"dataframe\">\n",
       "  <thead>\n",
       "    <tr style=\"text-align: right;\">\n",
       "      <th></th>\n",
       "      <th>#ID(s) interactor A</th>\n",
       "      <th>ID(s) interactor B</th>\n",
       "      <th>Alt. ID(s) interactor A</th>\n",
       "      <th>Alt. ID(s) interactor B</th>\n",
       "      <th>Alias(es) interactor A</th>\n",
       "      <th>Alias(es) interactor B</th>\n",
       "      <th>Interaction detection method(s)</th>\n",
       "      <th>Publication 1st author(s)</th>\n",
       "      <th>Publication Identifier(s)</th>\n",
       "      <th>Taxid interactor A</th>\n",
       "      <th>Taxid interactor B</th>\n",
       "      <th>Interaction type(s)</th>\n",
       "      <th>Source database(s)</th>\n",
       "      <th>Interaction identifier(s)</th>\n",
       "      <th>Confidence value(s)</th>\n",
       "    </tr>\n",
       "  </thead>\n",
       "  <tbody>\n",
       "    <tr>\n",
       "      <th>0</th>\n",
       "      <td>uniprotkb:P0DTC2</td>\n",
       "      <td>uniprotkb:P0DTC2</td>\n",
       "      <td>intact:EBI-25474821</td>\n",
       "      <td>intact:EBI-25474821</td>\n",
       "      <td>psi-mi:spike_sars2-6(display_long)|uniprotkb:S...</td>\n",
       "      <td>psi-mi:spike_sars2-6(display_long)|uniprotkb:S...</td>\n",
       "      <td>psi-mi:\"MI:0410\"(3D electron microscopy)</td>\n",
       "      <td>Walls et al. (2020)</td>\n",
       "      <td>pubmed:32155444|imex:IM-27846</td>\n",
       "      <td>taxid:2697049(SARS-CoV-2)|taxid:2697049(SARS-C...</td>\n",
       "      <td>taxid:2697049(SARS-CoV-2)|taxid:2697049(SARS-C...</td>\n",
       "      <td>psi-mi:\"MI:0407\"(direct interaction)</td>\n",
       "      <td>psi-mi:\"MI:0469\"(IntAct)</td>\n",
       "      <td>intact:EBI-25495631|wwpdb:6vyb|wwpdb:6vxx|imex...</td>\n",
       "      <td>intact-miscore:0.94</td>\n",
       "    </tr>\n",
       "    <tr>\n",
       "      <th>1</th>\n",
       "      <td>uniprotkb:P0DTC2</td>\n",
       "      <td>uniprotkb:P0DTC2</td>\n",
       "      <td>intact:EBI-25474821</td>\n",
       "      <td>intact:EBI-25474821</td>\n",
       "      <td>psi-mi:spike_sars2-6(display_long)|uniprotkb:S...</td>\n",
       "      <td>psi-mi:spike_sars2-6(display_long)|uniprotkb:S...</td>\n",
       "      <td>psi-mi:\"MI:0114\"(x-ray crystallography)</td>\n",
       "      <td>Xia et al. (2020)</td>\n",
       "      <td>imex:IM-27873|pubmed:32231345</td>\n",
       "      <td>taxid:2697049(SARS-CoV-2)|taxid:2697049(SARS-C...</td>\n",
       "      <td>taxid:2697049(SARS-CoV-2)|taxid:2697049(SARS-C...</td>\n",
       "      <td>psi-mi:\"MI:0407\"(direct interaction)</td>\n",
       "      <td>psi-mi:\"MI:0469\"(IntAct)</td>\n",
       "      <td>intact:EBI-25503580|wwpdb:6LXT|imex:IM-27873-1</td>\n",
       "      <td>intact-miscore:0.94</td>\n",
       "    </tr>\n",
       "    <tr>\n",
       "      <th>2</th>\n",
       "      <td>uniprotkb:P0DTD1-PRO_0000449632</td>\n",
       "      <td>uniprotkb:P0DTD1-PRO_0000449632</td>\n",
       "      <td>intact:EBI-25475891</td>\n",
       "      <td>intact:EBI-25475891</td>\n",
       "      <td>psi-mi:p0dtd1-pro_0000449632(display_long)|uni...</td>\n",
       "      <td>psi-mi:p0dtd1-pro_0000449632(display_long)|uni...</td>\n",
       "      <td>psi-mi:\"MI:0114\"(x-ray crystallography)</td>\n",
       "      <td>Kim. et al. (2020)</td>\n",
       "      <td>pubmed:32304108|imex:IM-27884</td>\n",
       "      <td>taxid:2697049(SARS-CoV-2)|taxid:2697049(SARS-C...</td>\n",
       "      <td>taxid:2697049(SARS-CoV-2)|taxid:2697049(SARS-C...</td>\n",
       "      <td>psi-mi:\"MI:0407\"(direct interaction)</td>\n",
       "      <td>psi-mi:\"MI:0469\"(IntAct)</td>\n",
       "      <td>intact:EBI-25504928|imex:IM-27884-1|wwpdb:6vww...</td>\n",
       "      <td>intact-miscore:0.44</td>\n",
       "    </tr>\n",
       "    <tr>\n",
       "      <th>3</th>\n",
       "      <td>uniprotkb:P0DTD1-PRO_0000449625</td>\n",
       "      <td>uniprotkb:P0DTD1-PRO_0000449626</td>\n",
       "      <td>intact:EBI-25475871</td>\n",
       "      <td>intact:EBI-25475874</td>\n",
       "      <td>psi-mi:p0dtd1-pro_0000449625(display_long)|uni...</td>\n",
       "      <td>psi-mi:p0dtd1-pro_0000449626(display_long)|uni...</td>\n",
       "      <td>psi-mi:\"MI:0410\"(3D electron microscopy)</td>\n",
       "      <td>Gao et al. (2020)</td>\n",
       "      <td>pubmed:32277040|imex:IM-27888</td>\n",
       "      <td>taxid:2697049(SARS-CoV-2)|taxid:2697049(SARS-C...</td>\n",
       "      <td>taxid:2697049(SARS-CoV-2)|taxid:2697049(SARS-C...</td>\n",
       "      <td>psi-mi:\"MI:0915\"(physical association)</td>\n",
       "      <td>psi-mi:\"MI:0469\"(IntAct)</td>\n",
       "      <td>intact:EBI-25506373|wwpdb:7btf|wwpdb:6M71|imex...</td>\n",
       "      <td>intact-miscore:0.94</td>\n",
       "    </tr>\n",
       "    <tr>\n",
       "      <th>4</th>\n",
       "      <td>uniprotkb:P0DTD1-PRO_0000449625</td>\n",
       "      <td>uniprotkb:P0DTD1-PRO_0000449629</td>\n",
       "      <td>intact:EBI-25475871</td>\n",
       "      <td>intact:EBI-25475885</td>\n",
       "      <td>psi-mi:p0dtd1-pro_0000449625(display_long)|uni...</td>\n",
       "      <td>psi-mi:p0dtd1-pro_0000449629(display_long)|uni...</td>\n",
       "      <td>psi-mi:\"MI:0410\"(3D electron microscopy)</td>\n",
       "      <td>Gao et al. (2020)</td>\n",
       "      <td>pubmed:32277040|imex:IM-27888</td>\n",
       "      <td>taxid:2697049(SARS-CoV-2)|taxid:2697049(SARS-C...</td>\n",
       "      <td>taxid:2697049(SARS-CoV-2)|taxid:2697049(SARS-C...</td>\n",
       "      <td>psi-mi:\"MI:0915\"(physical association)</td>\n",
       "      <td>psi-mi:\"MI:0469\"(IntAct)</td>\n",
       "      <td>intact:EBI-25506373|wwpdb:7btf|wwpdb:6M71|imex...</td>\n",
       "      <td>intact-miscore:0.86</td>\n",
       "    </tr>\n",
       "  </tbody>\n",
       "</table>\n",
       "</div>"
      ],
      "text/plain": [
       "               #ID(s) interactor A               ID(s) interactor B  \\\n",
       "0                 uniprotkb:P0DTC2                 uniprotkb:P0DTC2   \n",
       "1                 uniprotkb:P0DTC2                 uniprotkb:P0DTC2   \n",
       "2  uniprotkb:P0DTD1-PRO_0000449632  uniprotkb:P0DTD1-PRO_0000449632   \n",
       "3  uniprotkb:P0DTD1-PRO_0000449625  uniprotkb:P0DTD1-PRO_0000449626   \n",
       "4  uniprotkb:P0DTD1-PRO_0000449625  uniprotkb:P0DTD1-PRO_0000449629   \n",
       "\n",
       "  Alt. ID(s) interactor A Alt. ID(s) interactor B  \\\n",
       "0     intact:EBI-25474821     intact:EBI-25474821   \n",
       "1     intact:EBI-25474821     intact:EBI-25474821   \n",
       "2     intact:EBI-25475891     intact:EBI-25475891   \n",
       "3     intact:EBI-25475871     intact:EBI-25475874   \n",
       "4     intact:EBI-25475871     intact:EBI-25475885   \n",
       "\n",
       "                              Alias(es) interactor A  \\\n",
       "0  psi-mi:spike_sars2-6(display_long)|uniprotkb:S...   \n",
       "1  psi-mi:spike_sars2-6(display_long)|uniprotkb:S...   \n",
       "2  psi-mi:p0dtd1-pro_0000449632(display_long)|uni...   \n",
       "3  psi-mi:p0dtd1-pro_0000449625(display_long)|uni...   \n",
       "4  psi-mi:p0dtd1-pro_0000449625(display_long)|uni...   \n",
       "\n",
       "                              Alias(es) interactor B  \\\n",
       "0  psi-mi:spike_sars2-6(display_long)|uniprotkb:S...   \n",
       "1  psi-mi:spike_sars2-6(display_long)|uniprotkb:S...   \n",
       "2  psi-mi:p0dtd1-pro_0000449632(display_long)|uni...   \n",
       "3  psi-mi:p0dtd1-pro_0000449626(display_long)|uni...   \n",
       "4  psi-mi:p0dtd1-pro_0000449629(display_long)|uni...   \n",
       "\n",
       "            Interaction detection method(s) Publication 1st author(s)  \\\n",
       "0  psi-mi:\"MI:0410\"(3D electron microscopy)       Walls et al. (2020)   \n",
       "1   psi-mi:\"MI:0114\"(x-ray crystallography)         Xia et al. (2020)   \n",
       "2   psi-mi:\"MI:0114\"(x-ray crystallography)        Kim. et al. (2020)   \n",
       "3  psi-mi:\"MI:0410\"(3D electron microscopy)         Gao et al. (2020)   \n",
       "4  psi-mi:\"MI:0410\"(3D electron microscopy)         Gao et al. (2020)   \n",
       "\n",
       "       Publication Identifier(s)  \\\n",
       "0  pubmed:32155444|imex:IM-27846   \n",
       "1  imex:IM-27873|pubmed:32231345   \n",
       "2  pubmed:32304108|imex:IM-27884   \n",
       "3  pubmed:32277040|imex:IM-27888   \n",
       "4  pubmed:32277040|imex:IM-27888   \n",
       "\n",
       "                                  Taxid interactor A  \\\n",
       "0  taxid:2697049(SARS-CoV-2)|taxid:2697049(SARS-C...   \n",
       "1  taxid:2697049(SARS-CoV-2)|taxid:2697049(SARS-C...   \n",
       "2  taxid:2697049(SARS-CoV-2)|taxid:2697049(SARS-C...   \n",
       "3  taxid:2697049(SARS-CoV-2)|taxid:2697049(SARS-C...   \n",
       "4  taxid:2697049(SARS-CoV-2)|taxid:2697049(SARS-C...   \n",
       "\n",
       "                                  Taxid interactor B  \\\n",
       "0  taxid:2697049(SARS-CoV-2)|taxid:2697049(SARS-C...   \n",
       "1  taxid:2697049(SARS-CoV-2)|taxid:2697049(SARS-C...   \n",
       "2  taxid:2697049(SARS-CoV-2)|taxid:2697049(SARS-C...   \n",
       "3  taxid:2697049(SARS-CoV-2)|taxid:2697049(SARS-C...   \n",
       "4  taxid:2697049(SARS-CoV-2)|taxid:2697049(SARS-C...   \n",
       "\n",
       "                      Interaction type(s)        Source database(s)  \\\n",
       "0    psi-mi:\"MI:0407\"(direct interaction)  psi-mi:\"MI:0469\"(IntAct)   \n",
       "1    psi-mi:\"MI:0407\"(direct interaction)  psi-mi:\"MI:0469\"(IntAct)   \n",
       "2    psi-mi:\"MI:0407\"(direct interaction)  psi-mi:\"MI:0469\"(IntAct)   \n",
       "3  psi-mi:\"MI:0915\"(physical association)  psi-mi:\"MI:0469\"(IntAct)   \n",
       "4  psi-mi:\"MI:0915\"(physical association)  psi-mi:\"MI:0469\"(IntAct)   \n",
       "\n",
       "                           Interaction identifier(s)  Confidence value(s)  \n",
       "0  intact:EBI-25495631|wwpdb:6vyb|wwpdb:6vxx|imex...  intact-miscore:0.94  \n",
       "1     intact:EBI-25503580|wwpdb:6LXT|imex:IM-27873-1  intact-miscore:0.94  \n",
       "2  intact:EBI-25504928|imex:IM-27884-1|wwpdb:6vww...  intact-miscore:0.44  \n",
       "3  intact:EBI-25506373|wwpdb:7btf|wwpdb:6M71|imex...  intact-miscore:0.94  \n",
       "4  intact:EBI-25506373|wwpdb:7btf|wwpdb:6M71|imex...  intact-miscore:0.86  "
      ]
     },
     "execution_count": 9,
     "metadata": {},
     "output_type": "execute_result"
    }
   ],
   "source": [
    "data.head()"
   ]
  },
  {
   "cell_type": "markdown",
   "metadata": {},
   "source": [
    "### Process Data"
   ]
  },
  {
   "cell_type": "code",
   "execution_count": 10,
   "metadata": {},
   "outputs": [],
   "source": [
    "# change CURIE from wwpdb to pdb\n",
    "data['interactionId'] = data['Interaction identifier(s)'].str.replace('wwpdb', 'pdb')\n",
    "# represent one-to-many relationship as semicolon separated string\n",
    "data['interactionId'] = data['interactionId'].str.replace('|', ';')"
   ]
  },
  {
   "cell_type": "markdown",
   "metadata": {},
   "source": [
    "#### Remove duplicates"
   ]
  },
  {
   "cell_type": "code",
   "execution_count": 11,
   "metadata": {},
   "outputs": [],
   "source": [
    "data.drop_duplicates(subset=['interactionId'], inplace=True)"
   ]
  },
  {
   "cell_type": "code",
   "execution_count": 12,
   "metadata": {},
   "outputs": [
    {
     "name": "stdout",
     "output_type": "stream",
     "text": [
      "Number of interactions without duplicates: 446520\n"
     ]
    }
   ],
   "source": [
    "print('Number of interactions without duplicates:', data.shape[0])"
   ]
  },
  {
   "cell_type": "code",
   "execution_count": 13,
   "metadata": {},
   "outputs": [
    {
     "data": {
      "text/html": [
       "<div>\n",
       "<style scoped>\n",
       "    .dataframe tbody tr th:only-of-type {\n",
       "        vertical-align: middle;\n",
       "    }\n",
       "\n",
       "    .dataframe tbody tr th {\n",
       "        vertical-align: top;\n",
       "    }\n",
       "\n",
       "    .dataframe thead th {\n",
       "        text-align: right;\n",
       "    }\n",
       "</style>\n",
       "<table border=\"1\" class=\"dataframe\">\n",
       "  <thead>\n",
       "    <tr style=\"text-align: right;\">\n",
       "      <th></th>\n",
       "      <th>#ID(s) interactor A</th>\n",
       "      <th>ID(s) interactor B</th>\n",
       "      <th>Alt. ID(s) interactor A</th>\n",
       "      <th>Alt. ID(s) interactor B</th>\n",
       "      <th>Alias(es) interactor A</th>\n",
       "      <th>Alias(es) interactor B</th>\n",
       "      <th>Interaction detection method(s)</th>\n",
       "      <th>Publication 1st author(s)</th>\n",
       "      <th>Publication Identifier(s)</th>\n",
       "      <th>Taxid interactor A</th>\n",
       "      <th>Taxid interactor B</th>\n",
       "      <th>Interaction type(s)</th>\n",
       "      <th>Source database(s)</th>\n",
       "      <th>Interaction identifier(s)</th>\n",
       "      <th>Confidence value(s)</th>\n",
       "      <th>interactionId</th>\n",
       "    </tr>\n",
       "  </thead>\n",
       "  <tbody>\n",
       "    <tr>\n",
       "      <th>0</th>\n",
       "      <td>uniprotkb:P0DTC2</td>\n",
       "      <td>uniprotkb:P0DTC2</td>\n",
       "      <td>intact:EBI-25474821</td>\n",
       "      <td>intact:EBI-25474821</td>\n",
       "      <td>psi-mi:spike_sars2-6(display_long)|uniprotkb:S...</td>\n",
       "      <td>psi-mi:spike_sars2-6(display_long)|uniprotkb:S...</td>\n",
       "      <td>psi-mi:\"MI:0410\"(3D electron microscopy)</td>\n",
       "      <td>Walls et al. (2020)</td>\n",
       "      <td>pubmed:32155444|imex:IM-27846</td>\n",
       "      <td>taxid:2697049(SARS-CoV-2)|taxid:2697049(SARS-C...</td>\n",
       "      <td>taxid:2697049(SARS-CoV-2)|taxid:2697049(SARS-C...</td>\n",
       "      <td>psi-mi:\"MI:0407\"(direct interaction)</td>\n",
       "      <td>psi-mi:\"MI:0469\"(IntAct)</td>\n",
       "      <td>intact:EBI-25495631|wwpdb:6vyb|wwpdb:6vxx|imex...</td>\n",
       "      <td>intact-miscore:0.94</td>\n",
       "      <td>intact:EBI-25495631;pdb:6vyb;pdb:6vxx;imex:IM-...</td>\n",
       "    </tr>\n",
       "    <tr>\n",
       "      <th>1</th>\n",
       "      <td>uniprotkb:P0DTC2</td>\n",
       "      <td>uniprotkb:P0DTC2</td>\n",
       "      <td>intact:EBI-25474821</td>\n",
       "      <td>intact:EBI-25474821</td>\n",
       "      <td>psi-mi:spike_sars2-6(display_long)|uniprotkb:S...</td>\n",
       "      <td>psi-mi:spike_sars2-6(display_long)|uniprotkb:S...</td>\n",
       "      <td>psi-mi:\"MI:0114\"(x-ray crystallography)</td>\n",
       "      <td>Xia et al. (2020)</td>\n",
       "      <td>imex:IM-27873|pubmed:32231345</td>\n",
       "      <td>taxid:2697049(SARS-CoV-2)|taxid:2697049(SARS-C...</td>\n",
       "      <td>taxid:2697049(SARS-CoV-2)|taxid:2697049(SARS-C...</td>\n",
       "      <td>psi-mi:\"MI:0407\"(direct interaction)</td>\n",
       "      <td>psi-mi:\"MI:0469\"(IntAct)</td>\n",
       "      <td>intact:EBI-25503580|wwpdb:6LXT|imex:IM-27873-1</td>\n",
       "      <td>intact-miscore:0.94</td>\n",
       "      <td>intact:EBI-25503580;pdb:6LXT;imex:IM-27873-1</td>\n",
       "    </tr>\n",
       "    <tr>\n",
       "      <th>2</th>\n",
       "      <td>uniprotkb:P0DTD1-PRO_0000449632</td>\n",
       "      <td>uniprotkb:P0DTD1-PRO_0000449632</td>\n",
       "      <td>intact:EBI-25475891</td>\n",
       "      <td>intact:EBI-25475891</td>\n",
       "      <td>psi-mi:p0dtd1-pro_0000449632(display_long)|uni...</td>\n",
       "      <td>psi-mi:p0dtd1-pro_0000449632(display_long)|uni...</td>\n",
       "      <td>psi-mi:\"MI:0114\"(x-ray crystallography)</td>\n",
       "      <td>Kim. et al. (2020)</td>\n",
       "      <td>pubmed:32304108|imex:IM-27884</td>\n",
       "      <td>taxid:2697049(SARS-CoV-2)|taxid:2697049(SARS-C...</td>\n",
       "      <td>taxid:2697049(SARS-CoV-2)|taxid:2697049(SARS-C...</td>\n",
       "      <td>psi-mi:\"MI:0407\"(direct interaction)</td>\n",
       "      <td>psi-mi:\"MI:0469\"(IntAct)</td>\n",
       "      <td>intact:EBI-25504928|imex:IM-27884-1|wwpdb:6vww...</td>\n",
       "      <td>intact-miscore:0.44</td>\n",
       "      <td>intact:EBI-25504928;imex:IM-27884-1;pdb:6vww;p...</td>\n",
       "    </tr>\n",
       "    <tr>\n",
       "      <th>3</th>\n",
       "      <td>uniprotkb:P0DTD1-PRO_0000449625</td>\n",
       "      <td>uniprotkb:P0DTD1-PRO_0000449626</td>\n",
       "      <td>intact:EBI-25475871</td>\n",
       "      <td>intact:EBI-25475874</td>\n",
       "      <td>psi-mi:p0dtd1-pro_0000449625(display_long)|uni...</td>\n",
       "      <td>psi-mi:p0dtd1-pro_0000449626(display_long)|uni...</td>\n",
       "      <td>psi-mi:\"MI:0410\"(3D electron microscopy)</td>\n",
       "      <td>Gao et al. (2020)</td>\n",
       "      <td>pubmed:32277040|imex:IM-27888</td>\n",
       "      <td>taxid:2697049(SARS-CoV-2)|taxid:2697049(SARS-C...</td>\n",
       "      <td>taxid:2697049(SARS-CoV-2)|taxid:2697049(SARS-C...</td>\n",
       "      <td>psi-mi:\"MI:0915\"(physical association)</td>\n",
       "      <td>psi-mi:\"MI:0469\"(IntAct)</td>\n",
       "      <td>intact:EBI-25506373|wwpdb:7btf|wwpdb:6M71|imex...</td>\n",
       "      <td>intact-miscore:0.94</td>\n",
       "      <td>intact:EBI-25506373;pdb:7btf;pdb:6M71;imex:IM-...</td>\n",
       "    </tr>\n",
       "    <tr>\n",
       "      <th>5</th>\n",
       "      <td>uniprotkb:P0DTD1-PRO_0000449626</td>\n",
       "      <td>uniprotkb:P0DTD1-PRO_0000449625</td>\n",
       "      <td>intact:EBI-25475874</td>\n",
       "      <td>intact:EBI-25475871</td>\n",
       "      <td>psi-mi:p0dtd1-pro_0000449626(display_long)|uni...</td>\n",
       "      <td>psi-mi:p0dtd1-pro_0000449625(display_long)|uni...</td>\n",
       "      <td>psi-mi:\"MI:0071\"(molecular sieving)</td>\n",
       "      <td>Gao et al. (2020)</td>\n",
       "      <td>pubmed:32277040|imex:IM-27888</td>\n",
       "      <td>taxid:2697049(SARS-CoV-2)|taxid:2697049(SARS-C...</td>\n",
       "      <td>taxid:2697049(SARS-CoV-2)|taxid:2697049(SARS-C...</td>\n",
       "      <td>psi-mi:\"MI:0407\"(direct interaction)</td>\n",
       "      <td>psi-mi:\"MI:0469\"(IntAct)</td>\n",
       "      <td>intact:EBI-25510487|imex:IM-27888-3</td>\n",
       "      <td>intact-miscore:0.94</td>\n",
       "      <td>intact:EBI-25510487;imex:IM-27888-3</td>\n",
       "    </tr>\n",
       "  </tbody>\n",
       "</table>\n",
       "</div>"
      ],
      "text/plain": [
       "               #ID(s) interactor A               ID(s) interactor B  \\\n",
       "0                 uniprotkb:P0DTC2                 uniprotkb:P0DTC2   \n",
       "1                 uniprotkb:P0DTC2                 uniprotkb:P0DTC2   \n",
       "2  uniprotkb:P0DTD1-PRO_0000449632  uniprotkb:P0DTD1-PRO_0000449632   \n",
       "3  uniprotkb:P0DTD1-PRO_0000449625  uniprotkb:P0DTD1-PRO_0000449626   \n",
       "5  uniprotkb:P0DTD1-PRO_0000449626  uniprotkb:P0DTD1-PRO_0000449625   \n",
       "\n",
       "  Alt. ID(s) interactor A Alt. ID(s) interactor B  \\\n",
       "0     intact:EBI-25474821     intact:EBI-25474821   \n",
       "1     intact:EBI-25474821     intact:EBI-25474821   \n",
       "2     intact:EBI-25475891     intact:EBI-25475891   \n",
       "3     intact:EBI-25475871     intact:EBI-25475874   \n",
       "5     intact:EBI-25475874     intact:EBI-25475871   \n",
       "\n",
       "                              Alias(es) interactor A  \\\n",
       "0  psi-mi:spike_sars2-6(display_long)|uniprotkb:S...   \n",
       "1  psi-mi:spike_sars2-6(display_long)|uniprotkb:S...   \n",
       "2  psi-mi:p0dtd1-pro_0000449632(display_long)|uni...   \n",
       "3  psi-mi:p0dtd1-pro_0000449625(display_long)|uni...   \n",
       "5  psi-mi:p0dtd1-pro_0000449626(display_long)|uni...   \n",
       "\n",
       "                              Alias(es) interactor B  \\\n",
       "0  psi-mi:spike_sars2-6(display_long)|uniprotkb:S...   \n",
       "1  psi-mi:spike_sars2-6(display_long)|uniprotkb:S...   \n",
       "2  psi-mi:p0dtd1-pro_0000449632(display_long)|uni...   \n",
       "3  psi-mi:p0dtd1-pro_0000449626(display_long)|uni...   \n",
       "5  psi-mi:p0dtd1-pro_0000449625(display_long)|uni...   \n",
       "\n",
       "            Interaction detection method(s) Publication 1st author(s)  \\\n",
       "0  psi-mi:\"MI:0410\"(3D electron microscopy)       Walls et al. (2020)   \n",
       "1   psi-mi:\"MI:0114\"(x-ray crystallography)         Xia et al. (2020)   \n",
       "2   psi-mi:\"MI:0114\"(x-ray crystallography)        Kim. et al. (2020)   \n",
       "3  psi-mi:\"MI:0410\"(3D electron microscopy)         Gao et al. (2020)   \n",
       "5       psi-mi:\"MI:0071\"(molecular sieving)         Gao et al. (2020)   \n",
       "\n",
       "       Publication Identifier(s)  \\\n",
       "0  pubmed:32155444|imex:IM-27846   \n",
       "1  imex:IM-27873|pubmed:32231345   \n",
       "2  pubmed:32304108|imex:IM-27884   \n",
       "3  pubmed:32277040|imex:IM-27888   \n",
       "5  pubmed:32277040|imex:IM-27888   \n",
       "\n",
       "                                  Taxid interactor A  \\\n",
       "0  taxid:2697049(SARS-CoV-2)|taxid:2697049(SARS-C...   \n",
       "1  taxid:2697049(SARS-CoV-2)|taxid:2697049(SARS-C...   \n",
       "2  taxid:2697049(SARS-CoV-2)|taxid:2697049(SARS-C...   \n",
       "3  taxid:2697049(SARS-CoV-2)|taxid:2697049(SARS-C...   \n",
       "5  taxid:2697049(SARS-CoV-2)|taxid:2697049(SARS-C...   \n",
       "\n",
       "                                  Taxid interactor B  \\\n",
       "0  taxid:2697049(SARS-CoV-2)|taxid:2697049(SARS-C...   \n",
       "1  taxid:2697049(SARS-CoV-2)|taxid:2697049(SARS-C...   \n",
       "2  taxid:2697049(SARS-CoV-2)|taxid:2697049(SARS-C...   \n",
       "3  taxid:2697049(SARS-CoV-2)|taxid:2697049(SARS-C...   \n",
       "5  taxid:2697049(SARS-CoV-2)|taxid:2697049(SARS-C...   \n",
       "\n",
       "                      Interaction type(s)        Source database(s)  \\\n",
       "0    psi-mi:\"MI:0407\"(direct interaction)  psi-mi:\"MI:0469\"(IntAct)   \n",
       "1    psi-mi:\"MI:0407\"(direct interaction)  psi-mi:\"MI:0469\"(IntAct)   \n",
       "2    psi-mi:\"MI:0407\"(direct interaction)  psi-mi:\"MI:0469\"(IntAct)   \n",
       "3  psi-mi:\"MI:0915\"(physical association)  psi-mi:\"MI:0469\"(IntAct)   \n",
       "5    psi-mi:\"MI:0407\"(direct interaction)  psi-mi:\"MI:0469\"(IntAct)   \n",
       "\n",
       "                           Interaction identifier(s)  Confidence value(s)  \\\n",
       "0  intact:EBI-25495631|wwpdb:6vyb|wwpdb:6vxx|imex...  intact-miscore:0.94   \n",
       "1     intact:EBI-25503580|wwpdb:6LXT|imex:IM-27873-1  intact-miscore:0.94   \n",
       "2  intact:EBI-25504928|imex:IM-27884-1|wwpdb:6vww...  intact-miscore:0.44   \n",
       "3  intact:EBI-25506373|wwpdb:7btf|wwpdb:6M71|imex...  intact-miscore:0.94   \n",
       "5                intact:EBI-25510487|imex:IM-27888-3  intact-miscore:0.94   \n",
       "\n",
       "                                       interactionId  \n",
       "0  intact:EBI-25495631;pdb:6vyb;pdb:6vxx;imex:IM-...  \n",
       "1       intact:EBI-25503580;pdb:6LXT;imex:IM-27873-1  \n",
       "2  intact:EBI-25504928;imex:IM-27884-1;pdb:6vww;p...  \n",
       "3  intact:EBI-25506373;pdb:7btf;pdb:6M71;imex:IM-...  \n",
       "5                intact:EBI-25510487;imex:IM-27888-3  "
      ]
     },
     "execution_count": 13,
     "metadata": {},
     "output_type": "execute_result"
    }
   ],
   "source": [
    "data.head()"
   ]
  },
  {
   "cell_type": "markdown",
   "metadata": {},
   "source": [
    "#### Apply naming conventions"
   ]
  },
  {
   "cell_type": "code",
   "execution_count": 14,
   "metadata": {},
   "outputs": [],
   "source": [
    "data.rename(columns={'Alt. ID(s) interactor A': 'interactorA', 'Alt. ID(s) interactor B': 'interactorB'}, inplace=True)"
   ]
  },
  {
   "cell_type": "code",
   "execution_count": 15,
   "metadata": {},
   "outputs": [],
   "source": [
    "#data.rename(columns={'#ID(s) interactor A': 'interactorA', 'ID(s) interactor B': 'interactorB'}, inplace=True)"
   ]
  },
  {
   "cell_type": "markdown",
   "metadata": {},
   "source": [
    "#### Extract UniProt accession number and Uniprot protein ids from interactor columns"
   ]
  },
  {
   "cell_type": "code",
   "execution_count": 16,
   "metadata": {},
   "outputs": [],
   "source": [
    "# uniprot:P0DTD1-PRO_0000449619 -> P0DTD1-PRO_0000449619\n",
    "data['id_a'] = data['#ID(s) interactor A'].str.replace('uniprotkb:', '')\n",
    "data['id_b'] = data['ID(s) interactor B'].str.replace('uniprotkb:', '')\n",
    "\n",
    "# P0DTD1-PRO_0000449619 -> P0DTD1 (UniProt accession number)\n",
    "data['accession_a'] = data['id_a'].str.split('-PRO', expand=True)[0]\n",
    "data['accession_b'] = data['id_b'].str.split('-PRO', expand=True)[0]\n",
    "\n",
    "# Remove isoform id: Q9UBL6-2 -> Q9UBL6\n",
    "data['accession_a'] = data['accession_a'].str.split('-', expand=True)[0]\n",
    "data['accession_b'] = data['accession_b'].str.split('-', expand=True)[0]\n",
    "\n",
    "# ADD CURIE \"uniprot\" as prefix (see https://registry.identifiers.org/registry/uniprot)\n",
    "data['accession_a'] = 'uniprot:' + data['accession_a']\n",
    "data['accession_b'] = 'uniprot:' + data['accession_b']\n",
    "\n",
    "# P0DTD1-PRO_0000449619 -> PRO_0000449619 (UniProt protein id)\n",
    "data['pro_id_a'] = data['id_a'].str.split('-PRO', expand=True)[1]\n",
    "data['pro_id_b'] = data['id_b'].str.split('-PRO', expand=True)[1]\n",
    "\n",
    "# Add CURIE \"uniprot.chain\" as prefix (see https://registry.identifiers.org/registry/uniprot.chain)\n",
    "data['pro_id_a'] = data['pro_id_a'].str.replace('_', 'uniprot.chain:PRO_')\n",
    "data['pro_id_b'] = data['pro_id_b'].str.replace('_', 'uniprot.chain:PRO_')\n",
    "\n",
    "data.fillna('', inplace=True)"
   ]
  },
  {
   "cell_type": "code",
   "execution_count": 17,
   "metadata": {},
   "outputs": [],
   "source": [
    "# extract text descriptions in  parenthesis\n",
    "data['detectionMethod'] = data['Interaction detection method(s)'].str.extract('.*\\((.*)\\).*') \n",
    "data['interactionType'] = data['Interaction type(s)'].str.extract('.*\\((.*)\\).*') "
   ]
  },
  {
   "cell_type": "code",
   "execution_count": 18,
   "metadata": {},
   "outputs": [],
   "source": [
    "# set no-numerical values to \"\"\n",
    "data['confidenceValue'] = data['Confidence value(s)'].str.split(':', expand=True)[1]\n",
    "data['confidenceValue'] = data['confidenceValue'].apply(lambda s: s if s and s.replace('.','',1).isdigit() else '')"
   ]
  },
  {
   "cell_type": "code",
   "execution_count": 19,
   "metadata": {},
   "outputs": [
    {
     "data": {
      "text/plain": [
       "array(['0.94', '0.44', '0.93', '0.37', '0.70', '0.84', '0.49', '0.36',\n",
       "       '0.56', '0.99', '0.62', '0.50', '0.53', '0.35', '0.40', '0.27',\n",
       "       '0.64', '0.59', '0.32', '0.54', '0.80', '0.77', '0.72', '0.71',\n",
       "       '0.68', '0.46', '0.66', '0.63', '0.87', '0.52', '0.51', '0.73',\n",
       "       '0.81', '0.67', '0.89', '0.98', '0.91', '0.65', '0.57', '0.74',\n",
       "       '0.61', '0.75', '0.76', '0.69', '0.43', '0.55', '0.60', '0.58',\n",
       "       '0.82', '0.78', '0.83', '0.88', '0.96', '0.97', '0.90', '0.95',\n",
       "       '0.85', '0.86', '0.92', '0.79', '0.41', '0.48', '', '0.28', '0.47',\n",
       "       '0.31', '0.22', '0.45', '0.23', '0.34'], dtype=object)"
      ]
     },
     "execution_count": 19,
     "metadata": {},
     "output_type": "execute_result"
    }
   ],
   "source": [
    "data['confidenceValue'].unique()"
   ]
  },
  {
   "cell_type": "markdown",
   "metadata": {},
   "source": [
    "#### Extract pubmed id\n",
    "Example: imex:IM-27912|pubmed:32275855 -> 2275855"
   ]
  },
  {
   "cell_type": "code",
   "execution_count": 20,
   "metadata": {},
   "outputs": [],
   "source": [
    "data['pubmedId'] = data['Publication Identifier(s)'].str.extract('pubmed:(\\d*)')\n",
    "# add CURIE prefix if pubmedId exists\n",
    "data['pubmedId'] = data['pubmedId'].apply(lambda s: 'pubmed:' + s if len(s) > 0 else '')"
   ]
  },
  {
   "cell_type": "markdown",
   "metadata": {},
   "source": [
    "#### Extract taxonomy id\n",
    "Example: taxid:9606(human)|taxid:9606(Homo sapiens) -> 9606"
   ]
  },
  {
   "cell_type": "code",
   "execution_count": 21,
   "metadata": {},
   "outputs": [],
   "source": [
    "position_pattern = re.compile('taxid:(\\d*)\\(')\n",
    "\n",
    "def extract_tax_id(s):\n",
    "    groups = position_pattern.search(s)\n",
    "    if groups == None:\n",
    "        return ''\n",
    "    else:\n",
    "        return groups.group(1)"
   ]
  },
  {
   "cell_type": "code",
   "execution_count": 22,
   "metadata": {},
   "outputs": [],
   "source": [
    "#data['taxonomy_id_a'] = data['Taxid interactor A'].apply(extract_tax_id)\n",
    "#data['taxonomy_id_b'] = data['Taxid interactor B'].apply(extract_tax_id)\n",
    "data['taxonomy_id_a'] = data['Taxid interactor A'].str.extract('taxid:(\\d*)\\(')\n",
    "data['taxonomy_id_b'] = data['Taxid interactor B'].str.extract('taxid:(\\d*)\\(')"
   ]
  },
  {
   "cell_type": "code",
   "execution_count": 23,
   "metadata": {},
   "outputs": [],
   "source": [
    "data = data[['id_a', 'id_b', 'accession_a', 'accession_b', 'pro_id_a', 'pro_id_b', 'interactorA', 'interactorB', 'taxonomy_id_a', 'taxonomy_id_b', 'interactionId', 'interactionType', 'detectionMethod', 'confidenceValue','pubmedId']]"
   ]
  },
  {
   "cell_type": "code",
   "execution_count": 24,
   "metadata": {},
   "outputs": [
    {
     "data": {
      "text/html": [
       "<div>\n",
       "<style scoped>\n",
       "    .dataframe tbody tr th:only-of-type {\n",
       "        vertical-align: middle;\n",
       "    }\n",
       "\n",
       "    .dataframe tbody tr th {\n",
       "        vertical-align: top;\n",
       "    }\n",
       "\n",
       "    .dataframe thead th {\n",
       "        text-align: right;\n",
       "    }\n",
       "</style>\n",
       "<table border=\"1\" class=\"dataframe\">\n",
       "  <thead>\n",
       "    <tr style=\"text-align: right;\">\n",
       "      <th></th>\n",
       "      <th>id_a</th>\n",
       "      <th>id_b</th>\n",
       "      <th>accession_a</th>\n",
       "      <th>accession_b</th>\n",
       "      <th>pro_id_a</th>\n",
       "      <th>pro_id_b</th>\n",
       "      <th>interactorA</th>\n",
       "      <th>interactorB</th>\n",
       "      <th>taxonomy_id_a</th>\n",
       "      <th>taxonomy_id_b</th>\n",
       "      <th>interactionId</th>\n",
       "      <th>interactionType</th>\n",
       "      <th>detectionMethod</th>\n",
       "      <th>confidenceValue</th>\n",
       "      <th>pubmedId</th>\n",
       "    </tr>\n",
       "  </thead>\n",
       "  <tbody>\n",
       "    <tr>\n",
       "      <th>0</th>\n",
       "      <td>P0DTC2</td>\n",
       "      <td>P0DTC2</td>\n",
       "      <td>uniprot:P0DTC2</td>\n",
       "      <td>uniprot:P0DTC2</td>\n",
       "      <td></td>\n",
       "      <td></td>\n",
       "      <td>intact:EBI-25474821</td>\n",
       "      <td>intact:EBI-25474821</td>\n",
       "      <td>2697049</td>\n",
       "      <td>2697049</td>\n",
       "      <td>intact:EBI-25495631;pdb:6vyb;pdb:6vxx;imex:IM-...</td>\n",
       "      <td>direct interaction</td>\n",
       "      <td>3D electron microscopy</td>\n",
       "      <td>0.94</td>\n",
       "      <td>pubmed:32155444</td>\n",
       "    </tr>\n",
       "    <tr>\n",
       "      <th>1</th>\n",
       "      <td>P0DTC2</td>\n",
       "      <td>P0DTC2</td>\n",
       "      <td>uniprot:P0DTC2</td>\n",
       "      <td>uniprot:P0DTC2</td>\n",
       "      <td></td>\n",
       "      <td></td>\n",
       "      <td>intact:EBI-25474821</td>\n",
       "      <td>intact:EBI-25474821</td>\n",
       "      <td>2697049</td>\n",
       "      <td>2697049</td>\n",
       "      <td>intact:EBI-25503580;pdb:6LXT;imex:IM-27873-1</td>\n",
       "      <td>direct interaction</td>\n",
       "      <td>x-ray crystallography</td>\n",
       "      <td>0.94</td>\n",
       "      <td>pubmed:32231345</td>\n",
       "    </tr>\n",
       "    <tr>\n",
       "      <th>2</th>\n",
       "      <td>P0DTD1-PRO_0000449632</td>\n",
       "      <td>P0DTD1-PRO_0000449632</td>\n",
       "      <td>uniprot:P0DTD1</td>\n",
       "      <td>uniprot:P0DTD1</td>\n",
       "      <td>uniprot.chain:PRO_0000449632</td>\n",
       "      <td>uniprot.chain:PRO_0000449632</td>\n",
       "      <td>intact:EBI-25475891</td>\n",
       "      <td>intact:EBI-25475891</td>\n",
       "      <td>2697049</td>\n",
       "      <td>2697049</td>\n",
       "      <td>intact:EBI-25504928;imex:IM-27884-1;pdb:6vww;p...</td>\n",
       "      <td>direct interaction</td>\n",
       "      <td>x-ray crystallography</td>\n",
       "      <td>0.44</td>\n",
       "      <td>pubmed:32304108</td>\n",
       "    </tr>\n",
       "    <tr>\n",
       "      <th>3</th>\n",
       "      <td>P0DTD1-PRO_0000449625</td>\n",
       "      <td>P0DTD1-PRO_0000449626</td>\n",
       "      <td>uniprot:P0DTD1</td>\n",
       "      <td>uniprot:P0DTD1</td>\n",
       "      <td>uniprot.chain:PRO_0000449625</td>\n",
       "      <td>uniprot.chain:PRO_0000449626</td>\n",
       "      <td>intact:EBI-25475871</td>\n",
       "      <td>intact:EBI-25475874</td>\n",
       "      <td>2697049</td>\n",
       "      <td>2697049</td>\n",
       "      <td>intact:EBI-25506373;pdb:7btf;pdb:6M71;imex:IM-...</td>\n",
       "      <td>physical association</td>\n",
       "      <td>3D electron microscopy</td>\n",
       "      <td>0.94</td>\n",
       "      <td>pubmed:32277040</td>\n",
       "    </tr>\n",
       "    <tr>\n",
       "      <th>5</th>\n",
       "      <td>P0DTD1-PRO_0000449626</td>\n",
       "      <td>P0DTD1-PRO_0000449625</td>\n",
       "      <td>uniprot:P0DTD1</td>\n",
       "      <td>uniprot:P0DTD1</td>\n",
       "      <td>uniprot.chain:PRO_0000449626</td>\n",
       "      <td>uniprot.chain:PRO_0000449625</td>\n",
       "      <td>intact:EBI-25475874</td>\n",
       "      <td>intact:EBI-25475871</td>\n",
       "      <td>2697049</td>\n",
       "      <td>2697049</td>\n",
       "      <td>intact:EBI-25510487;imex:IM-27888-3</td>\n",
       "      <td>direct interaction</td>\n",
       "      <td>molecular sieving</td>\n",
       "      <td>0.94</td>\n",
       "      <td>pubmed:32277040</td>\n",
       "    </tr>\n",
       "  </tbody>\n",
       "</table>\n",
       "</div>"
      ],
      "text/plain": [
       "                    id_a                   id_b     accession_a  \\\n",
       "0                 P0DTC2                 P0DTC2  uniprot:P0DTC2   \n",
       "1                 P0DTC2                 P0DTC2  uniprot:P0DTC2   \n",
       "2  P0DTD1-PRO_0000449632  P0DTD1-PRO_0000449632  uniprot:P0DTD1   \n",
       "3  P0DTD1-PRO_0000449625  P0DTD1-PRO_0000449626  uniprot:P0DTD1   \n",
       "5  P0DTD1-PRO_0000449626  P0DTD1-PRO_0000449625  uniprot:P0DTD1   \n",
       "\n",
       "      accession_b                      pro_id_a                      pro_id_b  \\\n",
       "0  uniprot:P0DTC2                                                               \n",
       "1  uniprot:P0DTC2                                                               \n",
       "2  uniprot:P0DTD1  uniprot.chain:PRO_0000449632  uniprot.chain:PRO_0000449632   \n",
       "3  uniprot:P0DTD1  uniprot.chain:PRO_0000449625  uniprot.chain:PRO_0000449626   \n",
       "5  uniprot:P0DTD1  uniprot.chain:PRO_0000449626  uniprot.chain:PRO_0000449625   \n",
       "\n",
       "           interactorA          interactorB taxonomy_id_a taxonomy_id_b  \\\n",
       "0  intact:EBI-25474821  intact:EBI-25474821       2697049       2697049   \n",
       "1  intact:EBI-25474821  intact:EBI-25474821       2697049       2697049   \n",
       "2  intact:EBI-25475891  intact:EBI-25475891       2697049       2697049   \n",
       "3  intact:EBI-25475871  intact:EBI-25475874       2697049       2697049   \n",
       "5  intact:EBI-25475874  intact:EBI-25475871       2697049       2697049   \n",
       "\n",
       "                                       interactionId       interactionType  \\\n",
       "0  intact:EBI-25495631;pdb:6vyb;pdb:6vxx;imex:IM-...    direct interaction   \n",
       "1       intact:EBI-25503580;pdb:6LXT;imex:IM-27873-1    direct interaction   \n",
       "2  intact:EBI-25504928;imex:IM-27884-1;pdb:6vww;p...    direct interaction   \n",
       "3  intact:EBI-25506373;pdb:7btf;pdb:6M71;imex:IM-...  physical association   \n",
       "5                intact:EBI-25510487;imex:IM-27888-3    direct interaction   \n",
       "\n",
       "          detectionMethod confidenceValue         pubmedId  \n",
       "0  3D electron microscopy            0.94  pubmed:32155444  \n",
       "1   x-ray crystallography            0.94  pubmed:32231345  \n",
       "2   x-ray crystallography            0.44  pubmed:32304108  \n",
       "3  3D electron microscopy            0.94  pubmed:32277040  \n",
       "5       molecular sieving            0.94  pubmed:32277040  "
      ]
     },
     "execution_count": 24,
     "metadata": {},
     "output_type": "execute_result"
    }
   ],
   "source": [
    "data.head()"
   ]
  },
  {
   "cell_type": "markdown",
   "metadata": {},
   "source": [
    "#### Restrict data to the set of currently supported taxonomy ids"
   ]
  },
  {
   "cell_type": "code",
   "execution_count": 25,
   "metadata": {},
   "outputs": [],
   "source": [
    "data = data[data['taxonomy_id_a'].isin(taxonomy_ids) & data['taxonomy_id_b'].isin(taxonomy_ids)]"
   ]
  },
  {
   "cell_type": "markdown",
   "metadata": {},
   "source": [
    "Remove data with accession numbers that are not UniProt accession numbers"
   ]
  },
  {
   "cell_type": "code",
   "execution_count": 26,
   "metadata": {},
   "outputs": [],
   "source": [
    "data = data[~(data['id_a'].str.contains(':')) & ~(data['id_b'].str.contains(':'))]"
   ]
  },
  {
   "cell_type": "markdown",
   "metadata": {},
   "source": [
    "Remove self-interactions (they make graph display too crowded)"
   ]
  },
  {
   "cell_type": "code",
   "execution_count": 27,
   "metadata": {},
   "outputs": [],
   "source": [
    "data = data[~(data['accession_a'] == data['accession_b'])]"
   ]
  },
  {
   "cell_type": "code",
   "execution_count": 28,
   "metadata": {},
   "outputs": [
    {
     "data": {
      "text/plain": [
       "(382232, 15)"
      ]
     },
     "execution_count": 28,
     "metadata": {},
     "output_type": "execute_result"
    }
   ],
   "source": [
    "data.shape"
   ]
  },
  {
   "cell_type": "code",
   "execution_count": 29,
   "metadata": {},
   "outputs": [],
   "source": [
    "data['source'] = 'IntAct'"
   ]
  },
  {
   "cell_type": "markdown",
   "metadata": {},
   "source": [
    "### Save interaction data"
   ]
  },
  {
   "cell_type": "code",
   "execution_count": 30,
   "metadata": {},
   "outputs": [],
   "source": [
    "#data = data[['accession_a', 'accession_b', 'pro_id_a', 'pro_id_b', 'interactorA', 'interactorB', 'source', 'pubmedId']]\n",
    "data.drop_duplicates(inplace=True)\n",
    "data.to_csv(NEO4J_IMPORT / '01e-ProteinProteinInteraction.csv', index = False)"
   ]
  },
  {
   "cell_type": "code",
   "execution_count": 31,
   "metadata": {},
   "outputs": [
    {
     "name": "stdout",
     "output_type": "stream",
     "text": [
      "Number of interactions: 382232\n"
     ]
    }
   ],
   "source": [
    "print('Number of interactions:', data.shape[0])"
   ]
  },
  {
   "cell_type": "code",
   "execution_count": 32,
   "metadata": {},
   "outputs": [
    {
     "data": {
      "text/html": [
       "<div>\n",
       "<style scoped>\n",
       "    .dataframe tbody tr th:only-of-type {\n",
       "        vertical-align: middle;\n",
       "    }\n",
       "\n",
       "    .dataframe tbody tr th {\n",
       "        vertical-align: top;\n",
       "    }\n",
       "\n",
       "    .dataframe thead th {\n",
       "        text-align: right;\n",
       "    }\n",
       "</style>\n",
       "<table border=\"1\" class=\"dataframe\">\n",
       "  <thead>\n",
       "    <tr style=\"text-align: right;\">\n",
       "      <th></th>\n",
       "      <th>id_a</th>\n",
       "      <th>id_b</th>\n",
       "      <th>accession_a</th>\n",
       "      <th>accession_b</th>\n",
       "      <th>pro_id_a</th>\n",
       "      <th>pro_id_b</th>\n",
       "      <th>interactorA</th>\n",
       "      <th>interactorB</th>\n",
       "      <th>taxonomy_id_a</th>\n",
       "      <th>taxonomy_id_b</th>\n",
       "      <th>interactionId</th>\n",
       "      <th>interactionType</th>\n",
       "      <th>detectionMethod</th>\n",
       "      <th>confidenceValue</th>\n",
       "      <th>pubmedId</th>\n",
       "      <th>source</th>\n",
       "    </tr>\n",
       "  </thead>\n",
       "  <tbody>\n",
       "    <tr>\n",
       "      <th>117726</th>\n",
       "      <td>P35240</td>\n",
       "      <td>Q9UNE7</td>\n",
       "      <td>uniprot:P35240</td>\n",
       "      <td>uniprot:Q9UNE7</td>\n",
       "      <td></td>\n",
       "      <td></td>\n",
       "      <td>intact:EBI-1014472|uniprotkb:O95683|uniprotkb:...</td>\n",
       "      <td>intact:EBI-357085|uniprotkb:O60526|uniprotkb:Q...</td>\n",
       "      <td>9606</td>\n",
       "      <td>9606</td>\n",
       "      <td>intact:EBI-25878302;imex:IM-28217-54057</td>\n",
       "      <td>physical association</td>\n",
       "      <td>two hybrid array</td>\n",
       "      <td>0.56</td>\n",
       "      <td>pubmed:32814053</td>\n",
       "      <td>IntAct</td>\n",
       "    </tr>\n",
       "    <tr>\n",
       "      <th>469693</th>\n",
       "      <td>Q8TCT0</td>\n",
       "      <td>O60566</td>\n",
       "      <td>uniprot:Q8TCT0</td>\n",
       "      <td>uniprot:O60566</td>\n",
       "      <td></td>\n",
       "      <td></td>\n",
       "      <td>intact:EBI-10274247|uniprotkb:A8K611|uniprotkb...</td>\n",
       "      <td>intact:EBI-1001438|uniprotkb:O60501|uniprotkb:...</td>\n",
       "      <td>9606</td>\n",
       "      <td>9606</td>\n",
       "      <td>intact:EBI-11137874;imex:IM-24272-1123</td>\n",
       "      <td>association</td>\n",
       "      <td>anti tag coimmunoprecipitation</td>\n",
       "      <td>0.35</td>\n",
       "      <td>pubmed:26496610</td>\n",
       "      <td>IntAct</td>\n",
       "    </tr>\n",
       "    <tr>\n",
       "      <th>137772</th>\n",
       "      <td>Q9H8Y8</td>\n",
       "      <td>Q96HD9</td>\n",
       "      <td>uniprot:Q9H8Y8</td>\n",
       "      <td>uniprot:Q96HD9</td>\n",
       "      <td></td>\n",
       "      <td></td>\n",
       "      <td>intact:EBI-739467|uniprotkb:Q96I74|uniprotkb:Q...</td>\n",
       "      <td>intact:EBI-3916242</td>\n",
       "      <td>9606</td>\n",
       "      <td>9606</td>\n",
       "      <td>intact:EBI-22269183;imex:IM-27553-833</td>\n",
       "      <td>physical association</td>\n",
       "      <td>two hybrid array</td>\n",
       "      <td>0.87</td>\n",
       "      <td>pubmed:29892012</td>\n",
       "      <td>IntAct</td>\n",
       "    </tr>\n",
       "    <tr>\n",
       "      <th>94050</th>\n",
       "      <td>P42858</td>\n",
       "      <td>O00300</td>\n",
       "      <td>uniprot:P42858</td>\n",
       "      <td>uniprot:O00300</td>\n",
       "      <td></td>\n",
       "      <td></td>\n",
       "      <td>intact:EBI-466029|uniprotkb:Q9UQB7</td>\n",
       "      <td>intact:EBI-15481185|uniprotkb:B2R9A8|uniprotkb...</td>\n",
       "      <td>9606</td>\n",
       "      <td>9606</td>\n",
       "      <td>intact:EBI-26251576;imex:IM-28217-47651</td>\n",
       "      <td>physical association</td>\n",
       "      <td>validated two hybrid</td>\n",
       "      <td>0.56</td>\n",
       "      <td>pubmed:32814053</td>\n",
       "      <td>IntAct</td>\n",
       "    </tr>\n",
       "    <tr>\n",
       "      <th>417530</th>\n",
       "      <td>Q9H7E9</td>\n",
       "      <td>Q9UMY1</td>\n",
       "      <td>uniprot:Q9H7E9</td>\n",
       "      <td>uniprot:Q9UMY1</td>\n",
       "      <td></td>\n",
       "      <td></td>\n",
       "      <td>intact:EBI-715389|uniprotkb:A6NGC0|uniprotkb:Q...</td>\n",
       "      <td>intact:EBI-2862609|uniprotkb:Q9Y3U7|uniprotkb:...</td>\n",
       "      <td>9606</td>\n",
       "      <td>9606</td>\n",
       "      <td>intact:EBI-7109820;mint:MINT-8250490;imex:IM-1...</td>\n",
       "      <td>physical association</td>\n",
       "      <td>two hybrid</td>\n",
       "      <td>0.37</td>\n",
       "      <td>pubmed:21900206</td>\n",
       "      <td>IntAct</td>\n",
       "    </tr>\n",
       "  </tbody>\n",
       "</table>\n",
       "</div>"
      ],
      "text/plain": [
       "          id_a    id_b     accession_a     accession_b pro_id_a pro_id_b  \\\n",
       "117726  P35240  Q9UNE7  uniprot:P35240  uniprot:Q9UNE7                     \n",
       "469693  Q8TCT0  O60566  uniprot:Q8TCT0  uniprot:O60566                     \n",
       "137772  Q9H8Y8  Q96HD9  uniprot:Q9H8Y8  uniprot:Q96HD9                     \n",
       "94050   P42858  O00300  uniprot:P42858  uniprot:O00300                     \n",
       "417530  Q9H7E9  Q9UMY1  uniprot:Q9H7E9  uniprot:Q9UMY1                     \n",
       "\n",
       "                                              interactorA  \\\n",
       "117726  intact:EBI-1014472|uniprotkb:O95683|uniprotkb:...   \n",
       "469693  intact:EBI-10274247|uniprotkb:A8K611|uniprotkb...   \n",
       "137772  intact:EBI-739467|uniprotkb:Q96I74|uniprotkb:Q...   \n",
       "94050                  intact:EBI-466029|uniprotkb:Q9UQB7   \n",
       "417530  intact:EBI-715389|uniprotkb:A6NGC0|uniprotkb:Q...   \n",
       "\n",
       "                                              interactorB taxonomy_id_a  \\\n",
       "117726  intact:EBI-357085|uniprotkb:O60526|uniprotkb:Q...          9606   \n",
       "469693  intact:EBI-1001438|uniprotkb:O60501|uniprotkb:...          9606   \n",
       "137772                                 intact:EBI-3916242          9606   \n",
       "94050   intact:EBI-15481185|uniprotkb:B2R9A8|uniprotkb...          9606   \n",
       "417530  intact:EBI-2862609|uniprotkb:Q9Y3U7|uniprotkb:...          9606   \n",
       "\n",
       "       taxonomy_id_b                                      interactionId  \\\n",
       "117726          9606            intact:EBI-25878302;imex:IM-28217-54057   \n",
       "469693          9606             intact:EBI-11137874;imex:IM-24272-1123   \n",
       "137772          9606              intact:EBI-22269183;imex:IM-27553-833   \n",
       "94050           9606            intact:EBI-26251576;imex:IM-28217-47651   \n",
       "417530          9606  intact:EBI-7109820;mint:MINT-8250490;imex:IM-1...   \n",
       "\n",
       "             interactionType                 detectionMethod confidenceValue  \\\n",
       "117726  physical association                two hybrid array            0.56   \n",
       "469693           association  anti tag coimmunoprecipitation            0.35   \n",
       "137772  physical association                two hybrid array            0.87   \n",
       "94050   physical association            validated two hybrid            0.56   \n",
       "417530  physical association                      two hybrid            0.37   \n",
       "\n",
       "               pubmedId  source  \n",
       "117726  pubmed:32814053  IntAct  \n",
       "469693  pubmed:26496610  IntAct  \n",
       "137772  pubmed:29892012  IntAct  \n",
       "94050   pubmed:32814053  IntAct  \n",
       "417530  pubmed:21900206  IntAct  "
      ]
     },
     "execution_count": 32,
     "metadata": {},
     "output_type": "execute_result"
    }
   ],
   "source": [
    "data.sample(5)"
   ]
  },
  {
   "cell_type": "code",
   "execution_count": null,
   "metadata": {},
   "outputs": [],
   "source": []
  }
 ],
 "metadata": {
  "kernelspec": {
   "display_name": "Python 3",
   "language": "python",
   "name": "python3"
  },
  "language_info": {
   "codemirror_mode": {
    "name": "ipython",
    "version": 3
   },
   "file_extension": ".py",
   "mimetype": "text/x-python",
   "name": "python",
   "nbconvert_exporter": "python",
   "pygments_lexer": "ipython3",
   "version": "3.7.8"
  }
 },
 "nbformat": 4,
 "nbformat_minor": 4
}

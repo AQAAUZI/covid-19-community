{
 "cells": [
  {
   "cell_type": "markdown",
   "metadata": {},
   "source": [
    "# Protein Protein Interaction Data\n",
    "**[Work in progress]**\n",
    "\n",
    "This notebook downloads and standardizes viral-host protein data from IntAct for ingestion into the Knowledge Graph.\n",
    "\n",
    "Data source: [IntAct](https://www.ebi.ac.uk/intact/query/pubid:IM-27814)\n",
    "\n",
    "Authors: Kaushik Ganapathy, Eric Yu, Peter Rose (krganapa@ucsd.edu, ery010@ucsd.edu, pwrose@ucsd.edu)"
   ]
  },
  {
   "cell_type": "code",
   "execution_count": 1,
   "metadata": {},
   "outputs": [],
   "source": [
    "import os\n",
    "import re\n",
    "import hashlib \n",
    "\n",
    "import pandas as pd\n",
    "import numpy as np\n",
    "\n",
    "from pathlib import Path\n",
    "from Bio import SeqIO\n",
    "\n",
    "pd.options.display.max_rows = None  # display all rows\n",
    "pd.options.display.max_columns = None  # display all columsns"
   ]
  },
  {
   "cell_type": "code",
   "execution_count": 2,
   "metadata": {},
   "outputs": [
    {
     "name": "stdout",
     "output_type": "stream",
     "text": [
      "/Users/peter/Library/Application Support/com.Neo4j.Relate/data/dbmss/dbms-8bf637fc-0d20-4d9f-9c6f-f7e72e92a4da/import\n"
     ]
    }
   ],
   "source": [
    "NEO4J_IMPORT = Path(os.getenv('NEO4J_IMPORT'))\n",
    "print(NEO4J_IMPORT)"
   ]
  },
  {
   "cell_type": "markdown",
   "metadata": {},
   "source": [
    "https://www.uniprot.org/help/uniprotkb_column_names\n",
    "https://www.uniprot.org/uniprot/P0DTD1#PRO_0000449630"
   ]
  },
  {
   "cell_type": "markdown",
   "metadata": {},
   "source": [
    "### Get list of organisms to include in the Knowledge Graph"
   ]
  },
  {
   "cell_type": "code",
   "execution_count": 3,
   "metadata": {},
   "outputs": [],
   "source": [
    "genomes = pd.read_csv(\"../../reference_data/Genome.csv\", dtype=str)"
   ]
  },
  {
   "cell_type": "code",
   "execution_count": 4,
   "metadata": {},
   "outputs": [],
   "source": [
    "genomes['taxonomy'] = genomes['taxonomyId'].apply(lambda x: x.split(':')[1])"
   ]
  },
  {
   "cell_type": "code",
   "execution_count": 5,
   "metadata": {},
   "outputs": [],
   "source": [
    "taxonomy_ids = set(genomes['taxonomy'].unique())"
   ]
  },
  {
   "cell_type": "code",
   "execution_count": 6,
   "metadata": {},
   "outputs": [
    {
     "data": {
      "text/plain": [
       "{'11137', '1263720', '2697049', '694009', '9606'}"
      ]
     },
     "execution_count": 6,
     "metadata": {},
     "output_type": "execute_result"
    }
   ],
   "source": [
    "taxonomy_ids"
   ]
  },
  {
   "cell_type": "markdown",
   "metadata": {},
   "source": [
    "### Retrieve interaction data from IntAct"
   ]
  },
  {
   "cell_type": "code",
   "execution_count": 7,
   "metadata": {},
   "outputs": [],
   "source": [
    "urls = [f'https://www.ebi.ac.uk/intact/export?format=mitab_25&query=taxid%3A{taxon}&negative=false&spoke=false&ontology=false&sort=intact-miscore&asc=false'\n",
    "        for taxon in taxonomy_ids]"
   ]
  },
  {
   "cell_type": "code",
   "execution_count": 8,
   "metadata": {},
   "outputs": [],
   "source": [
    "data = pd.concat((pd.read_csv(url, sep='\\t', dtype='str') for url in urls))"
   ]
  },
  {
   "cell_type": "code",
   "execution_count": 9,
   "metadata": {},
   "outputs": [
    {
     "name": "stdout",
     "output_type": "stream",
     "text": [
      "Number of interactions: 694543\n"
     ]
    }
   ],
   "source": [
    "print('Number of interactions:', data.shape[0])"
   ]
  },
  {
   "cell_type": "code",
   "execution_count": 10,
   "metadata": {},
   "outputs": [
    {
     "data": {
      "text/html": [
       "<div>\n",
       "<style scoped>\n",
       "    .dataframe tbody tr th:only-of-type {\n",
       "        vertical-align: middle;\n",
       "    }\n",
       "\n",
       "    .dataframe tbody tr th {\n",
       "        vertical-align: top;\n",
       "    }\n",
       "\n",
       "    .dataframe thead th {\n",
       "        text-align: right;\n",
       "    }\n",
       "</style>\n",
       "<table border=\"1\" class=\"dataframe\">\n",
       "  <thead>\n",
       "    <tr style=\"text-align: right;\">\n",
       "      <th></th>\n",
       "      <th>#ID(s) interactor A</th>\n",
       "      <th>ID(s) interactor B</th>\n",
       "      <th>Alt. ID(s) interactor A</th>\n",
       "      <th>Alt. ID(s) interactor B</th>\n",
       "      <th>Alias(es) interactor A</th>\n",
       "      <th>Alias(es) interactor B</th>\n",
       "      <th>Interaction detection method(s)</th>\n",
       "      <th>Publication 1st author(s)</th>\n",
       "      <th>Publication Identifier(s)</th>\n",
       "      <th>Taxid interactor A</th>\n",
       "      <th>Taxid interactor B</th>\n",
       "      <th>Interaction type(s)</th>\n",
       "      <th>Source database(s)</th>\n",
       "      <th>Interaction identifier(s)</th>\n",
       "      <th>Confidence value(s)</th>\n",
       "    </tr>\n",
       "  </thead>\n",
       "  <tbody>\n",
       "    <tr>\n",
       "      <th>0</th>\n",
       "      <td>uniprotkb:P15423</td>\n",
       "      <td>uniprotkb:P15423</td>\n",
       "      <td>intact:EBI-25474626|uniprotkb:P89342|uniprotkb...</td>\n",
       "      <td>intact:EBI-25474626|uniprotkb:P89342|uniprotkb...</td>\n",
       "      <td>psi-mi:spike_cvh22(display_long)|uniprotkb:E2(...</td>\n",
       "      <td>psi-mi:spike_cvh22(display_long)|uniprotkb:E2(...</td>\n",
       "      <td>psi-mi:\"MI:0410\"(3D electron microscopy)</td>\n",
       "      <td>Li et al. (2019)</td>\n",
       "      <td>pubmed:31650956|imex:IM-27809</td>\n",
       "      <td>taxid:11137(hcov-229e)|taxid:11137(Human coron...</td>\n",
       "      <td>taxid:11137(hcov-229e)|taxid:11137(Human coron...</td>\n",
       "      <td>psi-mi:\"MI:0915\"(physical association)</td>\n",
       "      <td>psi-mi:\"MI:0469\"(IntAct)</td>\n",
       "      <td>intact:EBI-25474657|pdbe:6u7h|emdb:EMD-20668|i...</td>\n",
       "      <td>intact-miscore:0.32</td>\n",
       "    </tr>\n",
       "    <tr>\n",
       "      <th>1</th>\n",
       "      <td>uniprotkb:P0C6X1-PRO_0000037301</td>\n",
       "      <td>uniprotkb:P0C6X1-PRO_0000037301</td>\n",
       "      <td>intact:EBI-25708564</td>\n",
       "      <td>intact:EBI-25708564</td>\n",
       "      <td>psi-mi:p0c6x1-pro_0000037301(display_long)|uni...</td>\n",
       "      <td>psi-mi:p0c6x1-pro_0000037301(display_long)|uni...</td>\n",
       "      <td>psi-mi:\"MI:0114\"(x-ray crystallography)</td>\n",
       "      <td>Ponnusamy et al. (2008)</td>\n",
       "      <td>pubmed:18694760|imex:IM-28148</td>\n",
       "      <td>taxid:11137(hcov-229e)|taxid:11137(Human coron...</td>\n",
       "      <td>taxid:11137(hcov-229e)|taxid:11137(Human coron...</td>\n",
       "      <td>psi-mi:\"MI:0407\"(direct interaction)</td>\n",
       "      <td>psi-mi:\"MI:0469\"(IntAct)</td>\n",
       "      <td>intact:EBI-25708571|pdbe:2J97|imex:IM-28148-1</td>\n",
       "      <td>intact-miscore:0.61</td>\n",
       "    </tr>\n",
       "    <tr>\n",
       "      <th>2</th>\n",
       "      <td>uniprotkb:P0C6X1-PRO_0000037301</td>\n",
       "      <td>uniprotkb:P0C6X1-PRO_0000037301</td>\n",
       "      <td>intact:EBI-25708564</td>\n",
       "      <td>intact:EBI-25708564</td>\n",
       "      <td>psi-mi:p0c6x1-pro_0000037301(display_long)|uni...</td>\n",
       "      <td>psi-mi:p0c6x1-pro_0000037301(display_long)|uni...</td>\n",
       "      <td>psi-mi:\"MI:0114\"(x-ray crystallography)</td>\n",
       "      <td>Ponnusamy et al. (2008)</td>\n",
       "      <td>pubmed:18694760|imex:IM-28148</td>\n",
       "      <td>taxid:11137(hcov-229e)|taxid:11137(Human coron...</td>\n",
       "      <td>taxid:11137(hcov-229e)|taxid:11137(Human coron...</td>\n",
       "      <td>psi-mi:\"MI:0407\"(direct interaction)</td>\n",
       "      <td>psi-mi:\"MI:0469\"(IntAct)</td>\n",
       "      <td>intact:EBI-25749642|pdbe:2J98|imex:IM-28148-10</td>\n",
       "      <td>intact-miscore:0.61</td>\n",
       "    </tr>\n",
       "    <tr>\n",
       "      <th>3</th>\n",
       "      <td>uniprotkb:P0C6X1-PRO_0000037301</td>\n",
       "      <td>uniprotkb:P0C6X1-PRO_0000037301</td>\n",
       "      <td>intact:EBI-25708564</td>\n",
       "      <td>intact:EBI-25708564</td>\n",
       "      <td>psi-mi:p0c6x1-pro_0000037301(display_long)|uni...</td>\n",
       "      <td>psi-mi:p0c6x1-pro_0000037301(display_long)|uni...</td>\n",
       "      <td>psi-mi:\"MI:0030\"(cross-linking study)</td>\n",
       "      <td>Ponnusamy et al. (2008)</td>\n",
       "      <td>pubmed:18694760|imex:IM-28148</td>\n",
       "      <td>taxid:11137(hcov-229e)|taxid:11137(Human coron...</td>\n",
       "      <td>taxid:11137(hcov-229e)|taxid:11137(Human coron...</td>\n",
       "      <td>psi-mi:\"MI:0915\"(physical association)</td>\n",
       "      <td>psi-mi:\"MI:0469\"(IntAct)</td>\n",
       "      <td>intact:EBI-25711856|imex:IM-28148-3</td>\n",
       "      <td>intact-miscore:0.61</td>\n",
       "    </tr>\n",
       "    <tr>\n",
       "      <th>4</th>\n",
       "      <td>uniprotkb:P0C6X1-PRO_0000037301</td>\n",
       "      <td>uniprotkb:P0C6X1-PRO_0000037301</td>\n",
       "      <td>intact:EBI-25708564</td>\n",
       "      <td>intact:EBI-25708564</td>\n",
       "      <td>psi-mi:p0c6x1-pro_0000037301(display_long)|uni...</td>\n",
       "      <td>psi-mi:p0c6x1-pro_0000037301(display_long)|uni...</td>\n",
       "      <td>psi-mi:\"MI:0030\"(cross-linking study)</td>\n",
       "      <td>Ponnusamy et al. (2008)</td>\n",
       "      <td>pubmed:18694760|imex:IM-28148</td>\n",
       "      <td>taxid:11137(hcov-229e)|taxid:11137(Human coron...</td>\n",
       "      <td>taxid:11137(hcov-229e)|taxid:11137(Human coron...</td>\n",
       "      <td>psi-mi:\"MI:0407\"(direct interaction)</td>\n",
       "      <td>psi-mi:\"MI:0469\"(IntAct)</td>\n",
       "      <td>intact:EBI-25712141|imex:IM-28148-5</td>\n",
       "      <td>intact-miscore:0.61</td>\n",
       "    </tr>\n",
       "    <tr>\n",
       "      <th>5</th>\n",
       "      <td>uniprotkb:P0C6X1-PRO_0000037301</td>\n",
       "      <td>uniprotkb:P0C6X1-PRO_0000037301</td>\n",
       "      <td>intact:EBI-25708564</td>\n",
       "      <td>intact:EBI-25708564</td>\n",
       "      <td>psi-mi:p0c6x1-pro_0000037301(display_long)|uni...</td>\n",
       "      <td>psi-mi:p0c6x1-pro_0000037301(display_long)|uni...</td>\n",
       "      <td>psi-mi:\"MI:0030\"(cross-linking study)</td>\n",
       "      <td>Ponnusamy et al. (2008)</td>\n",
       "      <td>pubmed:18694760|imex:IM-28148</td>\n",
       "      <td>taxid:11137(hcov-229e)|taxid:11137(Human coron...</td>\n",
       "      <td>taxid:11137(hcov-229e)|taxid:11137(Human coron...</td>\n",
       "      <td>psi-mi:\"MI:0915\"(physical association)</td>\n",
       "      <td>psi-mi:\"MI:0469\"(IntAct)</td>\n",
       "      <td>intact:EBI-25748324|imex:IM-28148-8</td>\n",
       "      <td>intact-miscore:0.61</td>\n",
       "    </tr>\n",
       "    <tr>\n",
       "      <th>6</th>\n",
       "      <td>uniprotkb:P0C6X1-PRO_0000037300</td>\n",
       "      <td>uniprotkb:P0C6X1-PRO_0000037299</td>\n",
       "      <td>intact:EBI-26366585</td>\n",
       "      <td>intact:EBI-26366570</td>\n",
       "      <td>psi-mi:p0c6x1-pro_0000037300(display_long)|uni...</td>\n",
       "      <td>psi-mi:p0c6x1-pro_0000037299(display_long)|uni...</td>\n",
       "      <td>psi-mi:\"MI:0069\"(mass spectrometry studies of ...</td>\n",
       "      <td>Krichel et al. (2020)</td>\n",
       "      <td>doi:10.1101/2020.09.30.320762|imex:IM-28416|pu...</td>\n",
       "      <td>taxid:11137(hcov-229e)|taxid:11137(Human coron...</td>\n",
       "      <td>taxid:11137(hcov-229e)|taxid:11137(Human coron...</td>\n",
       "      <td>psi-mi:\"MI:0407\"(direct interaction)</td>\n",
       "      <td>psi-mi:\"MI:0469\"(IntAct)</td>\n",
       "      <td>intact:EBI-26366564|imex:IM-28416-29</td>\n",
       "      <td>intact-miscore:0.56</td>\n",
       "    </tr>\n",
       "    <tr>\n",
       "      <th>7</th>\n",
       "      <td>uniprotkb:P0C6X1-PRO_0000037300</td>\n",
       "      <td>uniprotkb:P0C6X1-PRO_0000037299</td>\n",
       "      <td>intact:EBI-26366585</td>\n",
       "      <td>intact:EBI-26366570</td>\n",
       "      <td>psi-mi:p0c6x1-pro_0000037300(display_long)|uni...</td>\n",
       "      <td>psi-mi:p0c6x1-pro_0000037299(display_long)|uni...</td>\n",
       "      <td>psi-mi:\"MI:0069\"(mass spectrometry studies of ...</td>\n",
       "      <td>Krichel et al. (2020)</td>\n",
       "      <td>doi:10.1101/2020.09.30.320762|imex:IM-28416|pu...</td>\n",
       "      <td>taxid:11137(hcov-229e)|taxid:11137(Human coron...</td>\n",
       "      <td>taxid:11137(hcov-229e)|taxid:11137(Human coron...</td>\n",
       "      <td>psi-mi:\"MI:0407\"(direct interaction)</td>\n",
       "      <td>psi-mi:\"MI:0469\"(IntAct)</td>\n",
       "      <td>intact:EBI-26366593|imex:IM-28416-43</td>\n",
       "      <td>intact-miscore:0.56</td>\n",
       "    </tr>\n",
       "    <tr>\n",
       "      <th>8</th>\n",
       "      <td>uniprotkb:P0C6X1-PRO_0000037300</td>\n",
       "      <td>uniprotkb:P0C6X1-PRO_0000037299</td>\n",
       "      <td>intact:EBI-26366585</td>\n",
       "      <td>intact:EBI-26366570</td>\n",
       "      <td>psi-mi:p0c6x1-pro_0000037300(display_long)|uni...</td>\n",
       "      <td>psi-mi:p0c6x1-pro_0000037299(display_long)|uni...</td>\n",
       "      <td>psi-mi:\"MI:0069\"(mass spectrometry studies of ...</td>\n",
       "      <td>Krichel et al. (2020)</td>\n",
       "      <td>doi:10.1101/2020.09.30.320762|imex:IM-28416|pu...</td>\n",
       "      <td>taxid:11137(hcov-229e)|taxid:11137(Human coron...</td>\n",
       "      <td>taxid:11137(hcov-229e)|taxid:11137(Human coron...</td>\n",
       "      <td>psi-mi:\"MI:0407\"(direct interaction)</td>\n",
       "      <td>psi-mi:\"MI:0469\"(IntAct)</td>\n",
       "      <td>intact:EBI-26366601|imex:IM-28416-31</td>\n",
       "      <td>intact-miscore:0.56</td>\n",
       "    </tr>\n",
       "    <tr>\n",
       "      <th>9</th>\n",
       "      <td>uniprotkb:P0C6X1-PRO_0000037297</td>\n",
       "      <td>uniprotkb:P0C6X1</td>\n",
       "      <td>intact:EBI-26366728</td>\n",
       "      <td>intact:EBI-25637276|uniprotkb:Q05002|uniprotkb...</td>\n",
       "      <td>psi-mi:p0c6x1-pro_0000037297(display_long)|uni...</td>\n",
       "      <td>psi-mi:r1ab_cvh22(display_long)|uniprotkb:rep(...</td>\n",
       "      <td>psi-mi:\"MI:0435\"(protease assay)</td>\n",
       "      <td>Krichel et al. (2020)</td>\n",
       "      <td>doi:10.1101/2020.09.30.320762|imex:IM-28416|pu...</td>\n",
       "      <td>taxid:11137(hcov-229e)|taxid:11137(Human coron...</td>\n",
       "      <td>taxid:11137(hcov-229e)|taxid:11137(Human coron...</td>\n",
       "      <td>psi-mi:\"MI:0570\"(protein cleavage)</td>\n",
       "      <td>psi-mi:\"MI:0469\"(IntAct)</td>\n",
       "      <td>intact:EBI-26366721|imex:IM-28416-47</td>\n",
       "      <td>intact-miscore:0.44</td>\n",
       "    </tr>\n",
       "  </tbody>\n",
       "</table>\n",
       "</div>"
      ],
      "text/plain": [
       "               #ID(s) interactor A               ID(s) interactor B  \\\n",
       "0                 uniprotkb:P15423                 uniprotkb:P15423   \n",
       "1  uniprotkb:P0C6X1-PRO_0000037301  uniprotkb:P0C6X1-PRO_0000037301   \n",
       "2  uniprotkb:P0C6X1-PRO_0000037301  uniprotkb:P0C6X1-PRO_0000037301   \n",
       "3  uniprotkb:P0C6X1-PRO_0000037301  uniprotkb:P0C6X1-PRO_0000037301   \n",
       "4  uniprotkb:P0C6X1-PRO_0000037301  uniprotkb:P0C6X1-PRO_0000037301   \n",
       "5  uniprotkb:P0C6X1-PRO_0000037301  uniprotkb:P0C6X1-PRO_0000037301   \n",
       "6  uniprotkb:P0C6X1-PRO_0000037300  uniprotkb:P0C6X1-PRO_0000037299   \n",
       "7  uniprotkb:P0C6X1-PRO_0000037300  uniprotkb:P0C6X1-PRO_0000037299   \n",
       "8  uniprotkb:P0C6X1-PRO_0000037300  uniprotkb:P0C6X1-PRO_0000037299   \n",
       "9  uniprotkb:P0C6X1-PRO_0000037297                 uniprotkb:P0C6X1   \n",
       "\n",
       "                             Alt. ID(s) interactor A  \\\n",
       "0  intact:EBI-25474626|uniprotkb:P89342|uniprotkb...   \n",
       "1                                intact:EBI-25708564   \n",
       "2                                intact:EBI-25708564   \n",
       "3                                intact:EBI-25708564   \n",
       "4                                intact:EBI-25708564   \n",
       "5                                intact:EBI-25708564   \n",
       "6                                intact:EBI-26366585   \n",
       "7                                intact:EBI-26366585   \n",
       "8                                intact:EBI-26366585   \n",
       "9                                intact:EBI-26366728   \n",
       "\n",
       "                             Alt. ID(s) interactor B  \\\n",
       "0  intact:EBI-25474626|uniprotkb:P89342|uniprotkb...   \n",
       "1                                intact:EBI-25708564   \n",
       "2                                intact:EBI-25708564   \n",
       "3                                intact:EBI-25708564   \n",
       "4                                intact:EBI-25708564   \n",
       "5                                intact:EBI-25708564   \n",
       "6                                intact:EBI-26366570   \n",
       "7                                intact:EBI-26366570   \n",
       "8                                intact:EBI-26366570   \n",
       "9  intact:EBI-25637276|uniprotkb:Q05002|uniprotkb...   \n",
       "\n",
       "                              Alias(es) interactor A  \\\n",
       "0  psi-mi:spike_cvh22(display_long)|uniprotkb:E2(...   \n",
       "1  psi-mi:p0c6x1-pro_0000037301(display_long)|uni...   \n",
       "2  psi-mi:p0c6x1-pro_0000037301(display_long)|uni...   \n",
       "3  psi-mi:p0c6x1-pro_0000037301(display_long)|uni...   \n",
       "4  psi-mi:p0c6x1-pro_0000037301(display_long)|uni...   \n",
       "5  psi-mi:p0c6x1-pro_0000037301(display_long)|uni...   \n",
       "6  psi-mi:p0c6x1-pro_0000037300(display_long)|uni...   \n",
       "7  psi-mi:p0c6x1-pro_0000037300(display_long)|uni...   \n",
       "8  psi-mi:p0c6x1-pro_0000037300(display_long)|uni...   \n",
       "9  psi-mi:p0c6x1-pro_0000037297(display_long)|uni...   \n",
       "\n",
       "                              Alias(es) interactor B  \\\n",
       "0  psi-mi:spike_cvh22(display_long)|uniprotkb:E2(...   \n",
       "1  psi-mi:p0c6x1-pro_0000037301(display_long)|uni...   \n",
       "2  psi-mi:p0c6x1-pro_0000037301(display_long)|uni...   \n",
       "3  psi-mi:p0c6x1-pro_0000037301(display_long)|uni...   \n",
       "4  psi-mi:p0c6x1-pro_0000037301(display_long)|uni...   \n",
       "5  psi-mi:p0c6x1-pro_0000037301(display_long)|uni...   \n",
       "6  psi-mi:p0c6x1-pro_0000037299(display_long)|uni...   \n",
       "7  psi-mi:p0c6x1-pro_0000037299(display_long)|uni...   \n",
       "8  psi-mi:p0c6x1-pro_0000037299(display_long)|uni...   \n",
       "9  psi-mi:r1ab_cvh22(display_long)|uniprotkb:rep(...   \n",
       "\n",
       "                     Interaction detection method(s)  \\\n",
       "0           psi-mi:\"MI:0410\"(3D electron microscopy)   \n",
       "1            psi-mi:\"MI:0114\"(x-ray crystallography)   \n",
       "2            psi-mi:\"MI:0114\"(x-ray crystallography)   \n",
       "3              psi-mi:\"MI:0030\"(cross-linking study)   \n",
       "4              psi-mi:\"MI:0030\"(cross-linking study)   \n",
       "5              psi-mi:\"MI:0030\"(cross-linking study)   \n",
       "6  psi-mi:\"MI:0069\"(mass spectrometry studies of ...   \n",
       "7  psi-mi:\"MI:0069\"(mass spectrometry studies of ...   \n",
       "8  psi-mi:\"MI:0069\"(mass spectrometry studies of ...   \n",
       "9                   psi-mi:\"MI:0435\"(protease assay)   \n",
       "\n",
       "  Publication 1st author(s)  \\\n",
       "0          Li et al. (2019)   \n",
       "1   Ponnusamy et al. (2008)   \n",
       "2   Ponnusamy et al. (2008)   \n",
       "3   Ponnusamy et al. (2008)   \n",
       "4   Ponnusamy et al. (2008)   \n",
       "5   Ponnusamy et al. (2008)   \n",
       "6     Krichel et al. (2020)   \n",
       "7     Krichel et al. (2020)   \n",
       "8     Krichel et al. (2020)   \n",
       "9     Krichel et al. (2020)   \n",
       "\n",
       "                           Publication Identifier(s)  \\\n",
       "0                      pubmed:31650956|imex:IM-27809   \n",
       "1                      pubmed:18694760|imex:IM-28148   \n",
       "2                      pubmed:18694760|imex:IM-28148   \n",
       "3                      pubmed:18694760|imex:IM-28148   \n",
       "4                      pubmed:18694760|imex:IM-28148   \n",
       "5                      pubmed:18694760|imex:IM-28148   \n",
       "6  doi:10.1101/2020.09.30.320762|imex:IM-28416|pu...   \n",
       "7  doi:10.1101/2020.09.30.320762|imex:IM-28416|pu...   \n",
       "8  doi:10.1101/2020.09.30.320762|imex:IM-28416|pu...   \n",
       "9  doi:10.1101/2020.09.30.320762|imex:IM-28416|pu...   \n",
       "\n",
       "                                  Taxid interactor A  \\\n",
       "0  taxid:11137(hcov-229e)|taxid:11137(Human coron...   \n",
       "1  taxid:11137(hcov-229e)|taxid:11137(Human coron...   \n",
       "2  taxid:11137(hcov-229e)|taxid:11137(Human coron...   \n",
       "3  taxid:11137(hcov-229e)|taxid:11137(Human coron...   \n",
       "4  taxid:11137(hcov-229e)|taxid:11137(Human coron...   \n",
       "5  taxid:11137(hcov-229e)|taxid:11137(Human coron...   \n",
       "6  taxid:11137(hcov-229e)|taxid:11137(Human coron...   \n",
       "7  taxid:11137(hcov-229e)|taxid:11137(Human coron...   \n",
       "8  taxid:11137(hcov-229e)|taxid:11137(Human coron...   \n",
       "9  taxid:11137(hcov-229e)|taxid:11137(Human coron...   \n",
       "\n",
       "                                  Taxid interactor B  \\\n",
       "0  taxid:11137(hcov-229e)|taxid:11137(Human coron...   \n",
       "1  taxid:11137(hcov-229e)|taxid:11137(Human coron...   \n",
       "2  taxid:11137(hcov-229e)|taxid:11137(Human coron...   \n",
       "3  taxid:11137(hcov-229e)|taxid:11137(Human coron...   \n",
       "4  taxid:11137(hcov-229e)|taxid:11137(Human coron...   \n",
       "5  taxid:11137(hcov-229e)|taxid:11137(Human coron...   \n",
       "6  taxid:11137(hcov-229e)|taxid:11137(Human coron...   \n",
       "7  taxid:11137(hcov-229e)|taxid:11137(Human coron...   \n",
       "8  taxid:11137(hcov-229e)|taxid:11137(Human coron...   \n",
       "9  taxid:11137(hcov-229e)|taxid:11137(Human coron...   \n",
       "\n",
       "                      Interaction type(s)        Source database(s)  \\\n",
       "0  psi-mi:\"MI:0915\"(physical association)  psi-mi:\"MI:0469\"(IntAct)   \n",
       "1    psi-mi:\"MI:0407\"(direct interaction)  psi-mi:\"MI:0469\"(IntAct)   \n",
       "2    psi-mi:\"MI:0407\"(direct interaction)  psi-mi:\"MI:0469\"(IntAct)   \n",
       "3  psi-mi:\"MI:0915\"(physical association)  psi-mi:\"MI:0469\"(IntAct)   \n",
       "4    psi-mi:\"MI:0407\"(direct interaction)  psi-mi:\"MI:0469\"(IntAct)   \n",
       "5  psi-mi:\"MI:0915\"(physical association)  psi-mi:\"MI:0469\"(IntAct)   \n",
       "6    psi-mi:\"MI:0407\"(direct interaction)  psi-mi:\"MI:0469\"(IntAct)   \n",
       "7    psi-mi:\"MI:0407\"(direct interaction)  psi-mi:\"MI:0469\"(IntAct)   \n",
       "8    psi-mi:\"MI:0407\"(direct interaction)  psi-mi:\"MI:0469\"(IntAct)   \n",
       "9      psi-mi:\"MI:0570\"(protein cleavage)  psi-mi:\"MI:0469\"(IntAct)   \n",
       "\n",
       "                           Interaction identifier(s)  Confidence value(s)  \n",
       "0  intact:EBI-25474657|pdbe:6u7h|emdb:EMD-20668|i...  intact-miscore:0.32  \n",
       "1      intact:EBI-25708571|pdbe:2J97|imex:IM-28148-1  intact-miscore:0.61  \n",
       "2     intact:EBI-25749642|pdbe:2J98|imex:IM-28148-10  intact-miscore:0.61  \n",
       "3                intact:EBI-25711856|imex:IM-28148-3  intact-miscore:0.61  \n",
       "4                intact:EBI-25712141|imex:IM-28148-5  intact-miscore:0.61  \n",
       "5                intact:EBI-25748324|imex:IM-28148-8  intact-miscore:0.61  \n",
       "6               intact:EBI-26366564|imex:IM-28416-29  intact-miscore:0.56  \n",
       "7               intact:EBI-26366593|imex:IM-28416-43  intact-miscore:0.56  \n",
       "8               intact:EBI-26366601|imex:IM-28416-31  intact-miscore:0.56  \n",
       "9               intact:EBI-26366721|imex:IM-28416-47  intact-miscore:0.44  "
      ]
     },
     "execution_count": 10,
     "metadata": {},
     "output_type": "execute_result"
    }
   ],
   "source": [
    "data.head(10)"
   ]
  },
  {
   "cell_type": "markdown",
   "metadata": {},
   "source": [
    "### Process Data"
   ]
  },
  {
   "cell_type": "code",
   "execution_count": 11,
   "metadata": {},
   "outputs": [],
   "source": [
    "data.rename(columns={'#ID(s) interactor A': 'interactorA', 'ID(s) interactor B': 'interactorB'}, inplace=True)"
   ]
  },
  {
   "cell_type": "markdown",
   "metadata": {},
   "source": [
    "#### Extract UniProt accession number and Uniprot protein ids from interactor columns"
   ]
  },
  {
   "cell_type": "code",
   "execution_count": 12,
   "metadata": {},
   "outputs": [],
   "source": [
    "# uniprot:P0DTD1-PRO_0000449619 -> P0DTD1-PRO_0000449619\n",
    "data['id_a'] = data['interactorA'].str.replace('uniprotkb:', '')\n",
    "data['id_b'] = data['interactorB'].str.replace('uniprotkb:', '')\n",
    "\n",
    "# P0DTD1-PRO_0000449619 -> P0DTD1 (UniProt accession number)\n",
    "data['accession_a'] = data['id_a'].str.split('-PRO', expand=True)[0]\n",
    "data['accession_b'] = data['id_b'].str.split('-PRO', expand=True)[0]\n",
    "\n",
    "# Remove isoform id: Q9UBL6-2 -> Q9UBL6\n",
    "data['accession_a'] = data['accession_a'].str.split('-', expand=True)[0]\n",
    "data['accession_b'] = data['accession_b'].str.split('-', expand=True)[0]\n",
    "\n",
    "# ADD CURIE \"uniprot\" as prefix (see https://registry.identifiers.org/registry/uniprot)\n",
    "data['accession_a'] = 'uniprot:' + data['accession_a']\n",
    "data['accession_b'] = 'uniprot:' + data['accession_b']\n",
    "\n",
    "# P0DTD1-PRO_0000449619 -> PRO_0000449619 (UniProt protein id)\n",
    "data['pro_id_a'] = data['id_a'].str.split('-PRO', expand=True)[1]\n",
    "data['pro_id_b'] = data['id_b'].str.split('-PRO', expand=True)[1]\n",
    "\n",
    "# Add CURIE \"uniprot.chain\" as prefix (see https://registry.identifiers.org/registry/uniprot.chain)\n",
    "data['pro_id_a'] = data['pro_id_a'].str.replace('_', 'uniprot.chain:PRO_')\n",
    "data['pro_id_b'] = data['pro_id_b'].str.replace('_', 'uniprot.chain:PRO_')\n",
    "\n",
    "data.fillna('', inplace=True)"
   ]
  },
  {
   "cell_type": "markdown",
   "metadata": {},
   "source": [
    "### Remove duplicates"
   ]
  },
  {
   "cell_type": "markdown",
   "metadata": {},
   "source": [
    "Create a unique interaction id"
   ]
  },
  {
   "cell_type": "code",
   "execution_count": 13,
   "metadata": {},
   "outputs": [],
   "source": [
    "data['interaction_id'] = data[['id_a', 'id_b']].apply(lambda x: x[0] + x[1] if x[0] < x[1] else x[1] + x[0], axis=1)"
   ]
  },
  {
   "cell_type": "code",
   "execution_count": 14,
   "metadata": {},
   "outputs": [
    {
     "data": {
      "text/plain": [
       "(694543, 22)"
      ]
     },
     "execution_count": 14,
     "metadata": {},
     "output_type": "execute_result"
    }
   ],
   "source": [
    "data.shape"
   ]
  },
  {
   "cell_type": "code",
   "execution_count": 15,
   "metadata": {},
   "outputs": [],
   "source": [
    "data.drop_duplicates(subset=['interaction_id'], inplace=True)"
   ]
  },
  {
   "cell_type": "code",
   "execution_count": 16,
   "metadata": {},
   "outputs": [
    {
     "data": {
      "text/plain": [
       "(378593, 22)"
      ]
     },
     "execution_count": 16,
     "metadata": {},
     "output_type": "execute_result"
    }
   ],
   "source": [
    "data.shape"
   ]
  },
  {
   "cell_type": "code",
   "execution_count": 17,
   "metadata": {},
   "outputs": [
    {
     "data": {
      "text/html": [
       "<div>\n",
       "<style scoped>\n",
       "    .dataframe tbody tr th:only-of-type {\n",
       "        vertical-align: middle;\n",
       "    }\n",
       "\n",
       "    .dataframe tbody tr th {\n",
       "        vertical-align: top;\n",
       "    }\n",
       "\n",
       "    .dataframe thead th {\n",
       "        text-align: right;\n",
       "    }\n",
       "</style>\n",
       "<table border=\"1\" class=\"dataframe\">\n",
       "  <thead>\n",
       "    <tr style=\"text-align: right;\">\n",
       "      <th></th>\n",
       "      <th>interactorA</th>\n",
       "      <th>interactorB</th>\n",
       "      <th>Alt. ID(s) interactor A</th>\n",
       "      <th>Alt. ID(s) interactor B</th>\n",
       "      <th>Alias(es) interactor A</th>\n",
       "      <th>Alias(es) interactor B</th>\n",
       "      <th>Interaction detection method(s)</th>\n",
       "      <th>Publication 1st author(s)</th>\n",
       "      <th>Publication Identifier(s)</th>\n",
       "      <th>Taxid interactor A</th>\n",
       "      <th>Taxid interactor B</th>\n",
       "      <th>Interaction type(s)</th>\n",
       "      <th>Source database(s)</th>\n",
       "      <th>Interaction identifier(s)</th>\n",
       "      <th>Confidence value(s)</th>\n",
       "      <th>id_a</th>\n",
       "      <th>id_b</th>\n",
       "      <th>accession_a</th>\n",
       "      <th>accession_b</th>\n",
       "      <th>pro_id_a</th>\n",
       "      <th>pro_id_b</th>\n",
       "      <th>interaction_id</th>\n",
       "    </tr>\n",
       "  </thead>\n",
       "  <tbody>\n",
       "    <tr>\n",
       "      <th>0</th>\n",
       "      <td>uniprotkb:P15423</td>\n",
       "      <td>uniprotkb:P15423</td>\n",
       "      <td>intact:EBI-25474626|uniprotkb:P89342|uniprotkb...</td>\n",
       "      <td>intact:EBI-25474626|uniprotkb:P89342|uniprotkb...</td>\n",
       "      <td>psi-mi:spike_cvh22(display_long)|uniprotkb:E2(...</td>\n",
       "      <td>psi-mi:spike_cvh22(display_long)|uniprotkb:E2(...</td>\n",
       "      <td>psi-mi:\"MI:0410\"(3D electron microscopy)</td>\n",
       "      <td>Li et al. (2019)</td>\n",
       "      <td>pubmed:31650956|imex:IM-27809</td>\n",
       "      <td>taxid:11137(hcov-229e)|taxid:11137(Human coron...</td>\n",
       "      <td>taxid:11137(hcov-229e)|taxid:11137(Human coron...</td>\n",
       "      <td>psi-mi:\"MI:0915\"(physical association)</td>\n",
       "      <td>psi-mi:\"MI:0469\"(IntAct)</td>\n",
       "      <td>intact:EBI-25474657|pdbe:6u7h|emdb:EMD-20668|i...</td>\n",
       "      <td>intact-miscore:0.32</td>\n",
       "      <td>P15423</td>\n",
       "      <td>P15423</td>\n",
       "      <td>uniprot:P15423</td>\n",
       "      <td>uniprot:P15423</td>\n",
       "      <td></td>\n",
       "      <td></td>\n",
       "      <td>P15423P15423</td>\n",
       "    </tr>\n",
       "    <tr>\n",
       "      <th>1</th>\n",
       "      <td>uniprotkb:P0C6X1-PRO_0000037301</td>\n",
       "      <td>uniprotkb:P0C6X1-PRO_0000037301</td>\n",
       "      <td>intact:EBI-25708564</td>\n",
       "      <td>intact:EBI-25708564</td>\n",
       "      <td>psi-mi:p0c6x1-pro_0000037301(display_long)|uni...</td>\n",
       "      <td>psi-mi:p0c6x1-pro_0000037301(display_long)|uni...</td>\n",
       "      <td>psi-mi:\"MI:0114\"(x-ray crystallography)</td>\n",
       "      <td>Ponnusamy et al. (2008)</td>\n",
       "      <td>pubmed:18694760|imex:IM-28148</td>\n",
       "      <td>taxid:11137(hcov-229e)|taxid:11137(Human coron...</td>\n",
       "      <td>taxid:11137(hcov-229e)|taxid:11137(Human coron...</td>\n",
       "      <td>psi-mi:\"MI:0407\"(direct interaction)</td>\n",
       "      <td>psi-mi:\"MI:0469\"(IntAct)</td>\n",
       "      <td>intact:EBI-25708571|pdbe:2J97|imex:IM-28148-1</td>\n",
       "      <td>intact-miscore:0.61</td>\n",
       "      <td>P0C6X1-PRO_0000037301</td>\n",
       "      <td>P0C6X1-PRO_0000037301</td>\n",
       "      <td>uniprot:P0C6X1</td>\n",
       "      <td>uniprot:P0C6X1</td>\n",
       "      <td>uniprot.chain:PRO_0000037301</td>\n",
       "      <td>uniprot.chain:PRO_0000037301</td>\n",
       "      <td>P0C6X1-PRO_0000037301P0C6X1-PRO_0000037301</td>\n",
       "    </tr>\n",
       "    <tr>\n",
       "      <th>6</th>\n",
       "      <td>uniprotkb:P0C6X1-PRO_0000037300</td>\n",
       "      <td>uniprotkb:P0C6X1-PRO_0000037299</td>\n",
       "      <td>intact:EBI-26366585</td>\n",
       "      <td>intact:EBI-26366570</td>\n",
       "      <td>psi-mi:p0c6x1-pro_0000037300(display_long)|uni...</td>\n",
       "      <td>psi-mi:p0c6x1-pro_0000037299(display_long)|uni...</td>\n",
       "      <td>psi-mi:\"MI:0069\"(mass spectrometry studies of ...</td>\n",
       "      <td>Krichel et al. (2020)</td>\n",
       "      <td>doi:10.1101/2020.09.30.320762|imex:IM-28416|pu...</td>\n",
       "      <td>taxid:11137(hcov-229e)|taxid:11137(Human coron...</td>\n",
       "      <td>taxid:11137(hcov-229e)|taxid:11137(Human coron...</td>\n",
       "      <td>psi-mi:\"MI:0407\"(direct interaction)</td>\n",
       "      <td>psi-mi:\"MI:0469\"(IntAct)</td>\n",
       "      <td>intact:EBI-26366564|imex:IM-28416-29</td>\n",
       "      <td>intact-miscore:0.56</td>\n",
       "      <td>P0C6X1-PRO_0000037300</td>\n",
       "      <td>P0C6X1-PRO_0000037299</td>\n",
       "      <td>uniprot:P0C6X1</td>\n",
       "      <td>uniprot:P0C6X1</td>\n",
       "      <td>uniprot.chain:PRO_0000037300</td>\n",
       "      <td>uniprot.chain:PRO_0000037299</td>\n",
       "      <td>P0C6X1-PRO_0000037299P0C6X1-PRO_0000037300</td>\n",
       "    </tr>\n",
       "    <tr>\n",
       "      <th>9</th>\n",
       "      <td>uniprotkb:P0C6X1-PRO_0000037297</td>\n",
       "      <td>uniprotkb:P0C6X1</td>\n",
       "      <td>intact:EBI-26366728</td>\n",
       "      <td>intact:EBI-25637276|uniprotkb:Q05002|uniprotkb...</td>\n",
       "      <td>psi-mi:p0c6x1-pro_0000037297(display_long)|uni...</td>\n",
       "      <td>psi-mi:r1ab_cvh22(display_long)|uniprotkb:rep(...</td>\n",
       "      <td>psi-mi:\"MI:0435\"(protease assay)</td>\n",
       "      <td>Krichel et al. (2020)</td>\n",
       "      <td>doi:10.1101/2020.09.30.320762|imex:IM-28416|pu...</td>\n",
       "      <td>taxid:11137(hcov-229e)|taxid:11137(Human coron...</td>\n",
       "      <td>taxid:11137(hcov-229e)|taxid:11137(Human coron...</td>\n",
       "      <td>psi-mi:\"MI:0570\"(protein cleavage)</td>\n",
       "      <td>psi-mi:\"MI:0469\"(IntAct)</td>\n",
       "      <td>intact:EBI-26366721|imex:IM-28416-47</td>\n",
       "      <td>intact-miscore:0.44</td>\n",
       "      <td>P0C6X1-PRO_0000037297</td>\n",
       "      <td>P0C6X1</td>\n",
       "      <td>uniprot:P0C6X1</td>\n",
       "      <td>uniprot:P0C6X1</td>\n",
       "      <td>uniprot.chain:PRO_0000037297</td>\n",
       "      <td></td>\n",
       "      <td>P0C6X1P0C6X1-PRO_0000037297</td>\n",
       "    </tr>\n",
       "    <tr>\n",
       "      <th>11</th>\n",
       "      <td>uniprotkb:P15130</td>\n",
       "      <td>uniprotkb:P15130</td>\n",
       "      <td>intact:EBI-8172439|uniprotkb:Q66175|intact:MIN...</td>\n",
       "      <td>intact:EBI-8172439|uniprotkb:Q66175|intact:MIN...</td>\n",
       "      <td>psi-mi:ncap_cvh22(display_long)|uniprotkb:N(ge...</td>\n",
       "      <td>psi-mi:ncap_cvh22(display_long)|uniprotkb:N(ge...</td>\n",
       "      <td>psi-mi:\"MI:0028\"(cosedimentation in solution)</td>\n",
       "      <td>Lo et al. (2013)</td>\n",
       "      <td>pubmed:23178926|mint:MINT-8401903|imex:IM-27962</td>\n",
       "      <td>taxid:11137(hcov-229e)|taxid:11137(Human coron...</td>\n",
       "      <td>taxid:11137(hcov-229e)|taxid:11137(Human coron...</td>\n",
       "      <td>psi-mi:\"MI:0407\"(direct interaction)</td>\n",
       "      <td>psi-mi:\"MI:0471\"(MINT)</td>\n",
       "      <td>intact:EBI-8172458|mint:MINT-8401926|imex:IM-2...</td>\n",
       "      <td>intact-miscore:0.62</td>\n",
       "      <td>P15130</td>\n",
       "      <td>P15130</td>\n",
       "      <td>uniprot:P15130</td>\n",
       "      <td>uniprot:P15130</td>\n",
       "      <td></td>\n",
       "      <td></td>\n",
       "      <td>P15130P15130</td>\n",
       "    </tr>\n",
       "  </tbody>\n",
       "</table>\n",
       "</div>"
      ],
      "text/plain": [
       "                        interactorA                      interactorB  \\\n",
       "0                  uniprotkb:P15423                 uniprotkb:P15423   \n",
       "1   uniprotkb:P0C6X1-PRO_0000037301  uniprotkb:P0C6X1-PRO_0000037301   \n",
       "6   uniprotkb:P0C6X1-PRO_0000037300  uniprotkb:P0C6X1-PRO_0000037299   \n",
       "9   uniprotkb:P0C6X1-PRO_0000037297                 uniprotkb:P0C6X1   \n",
       "11                 uniprotkb:P15130                 uniprotkb:P15130   \n",
       "\n",
       "                              Alt. ID(s) interactor A  \\\n",
       "0   intact:EBI-25474626|uniprotkb:P89342|uniprotkb...   \n",
       "1                                 intact:EBI-25708564   \n",
       "6                                 intact:EBI-26366585   \n",
       "9                                 intact:EBI-26366728   \n",
       "11  intact:EBI-8172439|uniprotkb:Q66175|intact:MIN...   \n",
       "\n",
       "                              Alt. ID(s) interactor B  \\\n",
       "0   intact:EBI-25474626|uniprotkb:P89342|uniprotkb...   \n",
       "1                                 intact:EBI-25708564   \n",
       "6                                 intact:EBI-26366570   \n",
       "9   intact:EBI-25637276|uniprotkb:Q05002|uniprotkb...   \n",
       "11  intact:EBI-8172439|uniprotkb:Q66175|intact:MIN...   \n",
       "\n",
       "                               Alias(es) interactor A  \\\n",
       "0   psi-mi:spike_cvh22(display_long)|uniprotkb:E2(...   \n",
       "1   psi-mi:p0c6x1-pro_0000037301(display_long)|uni...   \n",
       "6   psi-mi:p0c6x1-pro_0000037300(display_long)|uni...   \n",
       "9   psi-mi:p0c6x1-pro_0000037297(display_long)|uni...   \n",
       "11  psi-mi:ncap_cvh22(display_long)|uniprotkb:N(ge...   \n",
       "\n",
       "                               Alias(es) interactor B  \\\n",
       "0   psi-mi:spike_cvh22(display_long)|uniprotkb:E2(...   \n",
       "1   psi-mi:p0c6x1-pro_0000037301(display_long)|uni...   \n",
       "6   psi-mi:p0c6x1-pro_0000037299(display_long)|uni...   \n",
       "9   psi-mi:r1ab_cvh22(display_long)|uniprotkb:rep(...   \n",
       "11  psi-mi:ncap_cvh22(display_long)|uniprotkb:N(ge...   \n",
       "\n",
       "                      Interaction detection method(s)  \\\n",
       "0            psi-mi:\"MI:0410\"(3D electron microscopy)   \n",
       "1             psi-mi:\"MI:0114\"(x-ray crystallography)   \n",
       "6   psi-mi:\"MI:0069\"(mass spectrometry studies of ...   \n",
       "9                    psi-mi:\"MI:0435\"(protease assay)   \n",
       "11      psi-mi:\"MI:0028\"(cosedimentation in solution)   \n",
       "\n",
       "   Publication 1st author(s)  \\\n",
       "0           Li et al. (2019)   \n",
       "1    Ponnusamy et al. (2008)   \n",
       "6      Krichel et al. (2020)   \n",
       "9      Krichel et al. (2020)   \n",
       "11          Lo et al. (2013)   \n",
       "\n",
       "                            Publication Identifier(s)  \\\n",
       "0                       pubmed:31650956|imex:IM-27809   \n",
       "1                       pubmed:18694760|imex:IM-28148   \n",
       "6   doi:10.1101/2020.09.30.320762|imex:IM-28416|pu...   \n",
       "9   doi:10.1101/2020.09.30.320762|imex:IM-28416|pu...   \n",
       "11    pubmed:23178926|mint:MINT-8401903|imex:IM-27962   \n",
       "\n",
       "                                   Taxid interactor A  \\\n",
       "0   taxid:11137(hcov-229e)|taxid:11137(Human coron...   \n",
       "1   taxid:11137(hcov-229e)|taxid:11137(Human coron...   \n",
       "6   taxid:11137(hcov-229e)|taxid:11137(Human coron...   \n",
       "9   taxid:11137(hcov-229e)|taxid:11137(Human coron...   \n",
       "11  taxid:11137(hcov-229e)|taxid:11137(Human coron...   \n",
       "\n",
       "                                   Taxid interactor B  \\\n",
       "0   taxid:11137(hcov-229e)|taxid:11137(Human coron...   \n",
       "1   taxid:11137(hcov-229e)|taxid:11137(Human coron...   \n",
       "6   taxid:11137(hcov-229e)|taxid:11137(Human coron...   \n",
       "9   taxid:11137(hcov-229e)|taxid:11137(Human coron...   \n",
       "11  taxid:11137(hcov-229e)|taxid:11137(Human coron...   \n",
       "\n",
       "                       Interaction type(s)        Source database(s)  \\\n",
       "0   psi-mi:\"MI:0915\"(physical association)  psi-mi:\"MI:0469\"(IntAct)   \n",
       "1     psi-mi:\"MI:0407\"(direct interaction)  psi-mi:\"MI:0469\"(IntAct)   \n",
       "6     psi-mi:\"MI:0407\"(direct interaction)  psi-mi:\"MI:0469\"(IntAct)   \n",
       "9       psi-mi:\"MI:0570\"(protein cleavage)  psi-mi:\"MI:0469\"(IntAct)   \n",
       "11    psi-mi:\"MI:0407\"(direct interaction)    psi-mi:\"MI:0471\"(MINT)   \n",
       "\n",
       "                            Interaction identifier(s)  Confidence value(s)  \\\n",
       "0   intact:EBI-25474657|pdbe:6u7h|emdb:EMD-20668|i...  intact-miscore:0.32   \n",
       "1       intact:EBI-25708571|pdbe:2J97|imex:IM-28148-1  intact-miscore:0.61   \n",
       "6                intact:EBI-26366564|imex:IM-28416-29  intact-miscore:0.56   \n",
       "9                intact:EBI-26366721|imex:IM-28416-47  intact-miscore:0.44   \n",
       "11  intact:EBI-8172458|mint:MINT-8401926|imex:IM-2...  intact-miscore:0.62   \n",
       "\n",
       "                     id_a                   id_b     accession_a  \\\n",
       "0                  P15423                 P15423  uniprot:P15423   \n",
       "1   P0C6X1-PRO_0000037301  P0C6X1-PRO_0000037301  uniprot:P0C6X1   \n",
       "6   P0C6X1-PRO_0000037300  P0C6X1-PRO_0000037299  uniprot:P0C6X1   \n",
       "9   P0C6X1-PRO_0000037297                 P0C6X1  uniprot:P0C6X1   \n",
       "11                 P15130                 P15130  uniprot:P15130   \n",
       "\n",
       "       accession_b                      pro_id_a  \\\n",
       "0   uniprot:P15423                                 \n",
       "1   uniprot:P0C6X1  uniprot.chain:PRO_0000037301   \n",
       "6   uniprot:P0C6X1  uniprot.chain:PRO_0000037300   \n",
       "9   uniprot:P0C6X1  uniprot.chain:PRO_0000037297   \n",
       "11  uniprot:P15130                                 \n",
       "\n",
       "                        pro_id_b                              interaction_id  \n",
       "0                                                               P15423P15423  \n",
       "1   uniprot.chain:PRO_0000037301  P0C6X1-PRO_0000037301P0C6X1-PRO_0000037301  \n",
       "6   uniprot.chain:PRO_0000037299  P0C6X1-PRO_0000037299P0C6X1-PRO_0000037300  \n",
       "9                                                P0C6X1P0C6X1-PRO_0000037297  \n",
       "11                                                              P15130P15130  "
      ]
     },
     "execution_count": 17,
     "metadata": {},
     "output_type": "execute_result"
    }
   ],
   "source": [
    "data.head()"
   ]
  },
  {
   "cell_type": "markdown",
   "metadata": {},
   "source": [
    "#### Extract pubmed id\n",
    "Example: imex:IM-27912|pubmed:32275855 -> 2275855"
   ]
  },
  {
   "cell_type": "code",
   "execution_count": 18,
   "metadata": {},
   "outputs": [],
   "source": [
    "position_pattern = re.compile('pubmed:(\\d*).')\n",
    "position_pattern = re.compile('pubmed:(\\d*)')\n",
    "\n",
    "def extract_pubmed_id(s):\n",
    "    groups = position_pattern.search(s)\n",
    "    if groups == None:\n",
    "        return ''\n",
    "    else:\n",
    "        return groups.group(1)"
   ]
  },
  {
   "cell_type": "code",
   "execution_count": 19,
   "metadata": {},
   "outputs": [],
   "source": [
    "data['pubmedId'] = data['Publication Identifier(s)'].apply(extract_pubmed_id)"
   ]
  },
  {
   "cell_type": "markdown",
   "metadata": {},
   "source": [
    "#### Extract taxonomy id\n",
    "Example: taxid:9606(human)|taxid:9606(Homo sapiens) -> 9606"
   ]
  },
  {
   "cell_type": "code",
   "execution_count": 20,
   "metadata": {},
   "outputs": [],
   "source": [
    "position_pattern = re.compile('taxid:(\\d*)\\(')\n",
    "\n",
    "def extract_tax_id(s):\n",
    "    groups = position_pattern.search(s)\n",
    "    if groups == None:\n",
    "        return ''\n",
    "    else:\n",
    "        return groups.group(1)"
   ]
  },
  {
   "cell_type": "code",
   "execution_count": 21,
   "metadata": {},
   "outputs": [],
   "source": [
    "data['taxonomy_id_a'] = data['Taxid interactor A'].apply(extract_tax_id)\n",
    "data['taxonomy_id_b'] = data['Taxid interactor B'].apply(extract_tax_id)"
   ]
  },
  {
   "cell_type": "code",
   "execution_count": 22,
   "metadata": {},
   "outputs": [],
   "source": [
    "data = data[['id_a', 'id_b', 'accession_a', 'accession_b', 'pro_id_a', 'pro_id_b', 'taxonomy_id_a', 'taxonomy_id_b', 'pubmedId']]"
   ]
  },
  {
   "cell_type": "code",
   "execution_count": 23,
   "metadata": {},
   "outputs": [
    {
     "data": {
      "text/html": [
       "<div>\n",
       "<style scoped>\n",
       "    .dataframe tbody tr th:only-of-type {\n",
       "        vertical-align: middle;\n",
       "    }\n",
       "\n",
       "    .dataframe tbody tr th {\n",
       "        vertical-align: top;\n",
       "    }\n",
       "\n",
       "    .dataframe thead th {\n",
       "        text-align: right;\n",
       "    }\n",
       "</style>\n",
       "<table border=\"1\" class=\"dataframe\">\n",
       "  <thead>\n",
       "    <tr style=\"text-align: right;\">\n",
       "      <th></th>\n",
       "      <th>id_a</th>\n",
       "      <th>id_b</th>\n",
       "      <th>accession_a</th>\n",
       "      <th>accession_b</th>\n",
       "      <th>pro_id_a</th>\n",
       "      <th>pro_id_b</th>\n",
       "      <th>taxonomy_id_a</th>\n",
       "      <th>taxonomy_id_b</th>\n",
       "      <th>pubmedId</th>\n",
       "    </tr>\n",
       "  </thead>\n",
       "  <tbody>\n",
       "    <tr>\n",
       "      <th>0</th>\n",
       "      <td>P15423</td>\n",
       "      <td>P15423</td>\n",
       "      <td>uniprot:P15423</td>\n",
       "      <td>uniprot:P15423</td>\n",
       "      <td></td>\n",
       "      <td></td>\n",
       "      <td>11137</td>\n",
       "      <td>11137</td>\n",
       "      <td>31650956</td>\n",
       "    </tr>\n",
       "    <tr>\n",
       "      <th>1</th>\n",
       "      <td>P0C6X1-PRO_0000037301</td>\n",
       "      <td>P0C6X1-PRO_0000037301</td>\n",
       "      <td>uniprot:P0C6X1</td>\n",
       "      <td>uniprot:P0C6X1</td>\n",
       "      <td>uniprot.chain:PRO_0000037301</td>\n",
       "      <td>uniprot.chain:PRO_0000037301</td>\n",
       "      <td>11137</td>\n",
       "      <td>11137</td>\n",
       "      <td>18694760</td>\n",
       "    </tr>\n",
       "    <tr>\n",
       "      <th>6</th>\n",
       "      <td>P0C6X1-PRO_0000037300</td>\n",
       "      <td>P0C6X1-PRO_0000037299</td>\n",
       "      <td>uniprot:P0C6X1</td>\n",
       "      <td>uniprot:P0C6X1</td>\n",
       "      <td>uniprot.chain:PRO_0000037300</td>\n",
       "      <td>uniprot.chain:PRO_0000037299</td>\n",
       "      <td>11137</td>\n",
       "      <td>11137</td>\n",
       "      <td>33024972</td>\n",
       "    </tr>\n",
       "    <tr>\n",
       "      <th>9</th>\n",
       "      <td>P0C6X1-PRO_0000037297</td>\n",
       "      <td>P0C6X1</td>\n",
       "      <td>uniprot:P0C6X1</td>\n",
       "      <td>uniprot:P0C6X1</td>\n",
       "      <td>uniprot.chain:PRO_0000037297</td>\n",
       "      <td></td>\n",
       "      <td>11137</td>\n",
       "      <td>11137</td>\n",
       "      <td>33024972</td>\n",
       "    </tr>\n",
       "    <tr>\n",
       "      <th>11</th>\n",
       "      <td>P15130</td>\n",
       "      <td>P15130</td>\n",
       "      <td>uniprot:P15130</td>\n",
       "      <td>uniprot:P15130</td>\n",
       "      <td></td>\n",
       "      <td></td>\n",
       "      <td>11137</td>\n",
       "      <td>11137</td>\n",
       "      <td>23178926</td>\n",
       "    </tr>\n",
       "  </tbody>\n",
       "</table>\n",
       "</div>"
      ],
      "text/plain": [
       "                     id_a                   id_b     accession_a  \\\n",
       "0                  P15423                 P15423  uniprot:P15423   \n",
       "1   P0C6X1-PRO_0000037301  P0C6X1-PRO_0000037301  uniprot:P0C6X1   \n",
       "6   P0C6X1-PRO_0000037300  P0C6X1-PRO_0000037299  uniprot:P0C6X1   \n",
       "9   P0C6X1-PRO_0000037297                 P0C6X1  uniprot:P0C6X1   \n",
       "11                 P15130                 P15130  uniprot:P15130   \n",
       "\n",
       "       accession_b                      pro_id_a  \\\n",
       "0   uniprot:P15423                                 \n",
       "1   uniprot:P0C6X1  uniprot.chain:PRO_0000037301   \n",
       "6   uniprot:P0C6X1  uniprot.chain:PRO_0000037300   \n",
       "9   uniprot:P0C6X1  uniprot.chain:PRO_0000037297   \n",
       "11  uniprot:P15130                                 \n",
       "\n",
       "                        pro_id_b taxonomy_id_a taxonomy_id_b  pubmedId  \n",
       "0                                        11137         11137  31650956  \n",
       "1   uniprot.chain:PRO_0000037301         11137         11137  18694760  \n",
       "6   uniprot.chain:PRO_0000037299         11137         11137  33024972  \n",
       "9                                        11137         11137  33024972  \n",
       "11                                       11137         11137  23178926  "
      ]
     },
     "execution_count": 23,
     "metadata": {},
     "output_type": "execute_result"
    }
   ],
   "source": [
    "data.head()"
   ]
  },
  {
   "cell_type": "markdown",
   "metadata": {},
   "source": [
    "#### Restrict data to the set of currently supported taxonomy ids"
   ]
  },
  {
   "cell_type": "code",
   "execution_count": 24,
   "metadata": {},
   "outputs": [],
   "source": [
    "data = data[data['taxonomy_id_a'].isin(taxonomy_ids) & data['taxonomy_id_b'].isin(taxonomy_ids)]"
   ]
  },
  {
   "cell_type": "markdown",
   "metadata": {},
   "source": [
    "Remove data with accession numbers that are not UniProt accession numbers"
   ]
  },
  {
   "cell_type": "code",
   "execution_count": 25,
   "metadata": {},
   "outputs": [],
   "source": [
    "data = data[~(data['id_a'].str.contains(':')) & ~(data['id_b'].str.contains(':'))]"
   ]
  },
  {
   "cell_type": "markdown",
   "metadata": {},
   "source": [
    "Remove self-interactions (they make graph display too crowded)"
   ]
  },
  {
   "cell_type": "code",
   "execution_count": 26,
   "metadata": {},
   "outputs": [],
   "source": [
    "data = data[~(data['accession_a'] == data['accession_b'])]"
   ]
  },
  {
   "cell_type": "code",
   "execution_count": 27,
   "metadata": {},
   "outputs": [
    {
     "data": {
      "text/plain": [
       "(292809, 9)"
      ]
     },
     "execution_count": 27,
     "metadata": {},
     "output_type": "execute_result"
    }
   ],
   "source": [
    "data.shape"
   ]
  },
  {
   "cell_type": "code",
   "execution_count": 28,
   "metadata": {},
   "outputs": [],
   "source": [
    "data['source'] = 'IntAct'"
   ]
  },
  {
   "cell_type": "markdown",
   "metadata": {},
   "source": [
    "### Save interaction data"
   ]
  },
  {
   "cell_type": "code",
   "execution_count": 29,
   "metadata": {},
   "outputs": [],
   "source": [
    "data = data[['accession_a', 'accession_b', 'pro_id_a', 'pro_id_b', 'source', 'pubmedId']]\n",
    "data.drop_duplicates(inplace=True)\n",
    "data.to_csv(NEO4J_IMPORT / '01e-ProteinProteinInteraction.csv', index = False)"
   ]
  },
  {
   "cell_type": "code",
   "execution_count": 30,
   "metadata": {},
   "outputs": [
    {
     "name": "stdout",
     "output_type": "stream",
     "text": [
      "Number of interactions: 291365\n"
     ]
    }
   ],
   "source": [
    "print('Number of interactions:', data.shape[0])"
   ]
  },
  {
   "cell_type": "code",
   "execution_count": 31,
   "metadata": {},
   "outputs": [
    {
     "data": {
      "text/html": [
       "<div>\n",
       "<style scoped>\n",
       "    .dataframe tbody tr th:only-of-type {\n",
       "        vertical-align: middle;\n",
       "    }\n",
       "\n",
       "    .dataframe tbody tr th {\n",
       "        vertical-align: top;\n",
       "    }\n",
       "\n",
       "    .dataframe thead th {\n",
       "        text-align: right;\n",
       "    }\n",
       "</style>\n",
       "<table border=\"1\" class=\"dataframe\">\n",
       "  <thead>\n",
       "    <tr style=\"text-align: right;\">\n",
       "      <th></th>\n",
       "      <th>accession_a</th>\n",
       "      <th>accession_b</th>\n",
       "      <th>pro_id_a</th>\n",
       "      <th>pro_id_b</th>\n",
       "      <th>source</th>\n",
       "      <th>pubmedId</th>\n",
       "    </tr>\n",
       "  </thead>\n",
       "  <tbody>\n",
       "    <tr>\n",
       "      <th>495103</th>\n",
       "      <td>uniprot:F5H1C8</td>\n",
       "      <td>uniprot:P20674</td>\n",
       "      <td></td>\n",
       "      <td></td>\n",
       "      <td>IntAct</td>\n",
       "      <td>30833792</td>\n",
       "    </tr>\n",
       "    <tr>\n",
       "      <th>171544</th>\n",
       "      <td>uniprot:Q9UBB9</td>\n",
       "      <td>uniprot:O75127</td>\n",
       "      <td></td>\n",
       "      <td></td>\n",
       "      <td>IntAct</td>\n",
       "      <td>32296183</td>\n",
       "    </tr>\n",
       "    <tr>\n",
       "      <th>417681</th>\n",
       "      <td>uniprot:P38936</td>\n",
       "      <td>uniprot:Q04724</td>\n",
       "      <td></td>\n",
       "      <td></td>\n",
       "      <td>IntAct</td>\n",
       "      <td>21900206</td>\n",
       "    </tr>\n",
       "    <tr>\n",
       "      <th>36998</th>\n",
       "      <td>uniprot:P57081</td>\n",
       "      <td>uniprot:Q9UBP6</td>\n",
       "      <td></td>\n",
       "      <td></td>\n",
       "      <td>IntAct</td>\n",
       "      <td>26751069</td>\n",
       "    </tr>\n",
       "    <tr>\n",
       "      <th>546518</th>\n",
       "      <td>uniprot:Q9H8H2</td>\n",
       "      <td>uniprot:P01859</td>\n",
       "      <td></td>\n",
       "      <td></td>\n",
       "      <td>IntAct</td>\n",
       "      <td>28514442</td>\n",
       "    </tr>\n",
       "  </tbody>\n",
       "</table>\n",
       "</div>"
      ],
      "text/plain": [
       "           accession_a     accession_b pro_id_a pro_id_b  source  pubmedId\n",
       "495103  uniprot:F5H1C8  uniprot:P20674                    IntAct  30833792\n",
       "171544  uniprot:Q9UBB9  uniprot:O75127                    IntAct  32296183\n",
       "417681  uniprot:P38936  uniprot:Q04724                    IntAct  21900206\n",
       "36998   uniprot:P57081  uniprot:Q9UBP6                    IntAct  26751069\n",
       "546518  uniprot:Q9H8H2  uniprot:P01859                    IntAct  28514442"
      ]
     },
     "execution_count": 31,
     "metadata": {},
     "output_type": "execute_result"
    }
   ],
   "source": [
    "data.sample(5)"
   ]
  }
 ],
 "metadata": {
  "kernelspec": {
   "display_name": "Python 3",
   "language": "python",
   "name": "python3"
  },
  "language_info": {
   "codemirror_mode": {
    "name": "ipython",
    "version": 3
   },
   "file_extension": ".py",
   "mimetype": "text/x-python",
   "name": "python",
   "nbconvert_exporter": "python",
   "pygments_lexer": "ipython3",
   "version": "3.7.8"
  }
 },
 "nbformat": 4,
 "nbformat_minor": 4
}

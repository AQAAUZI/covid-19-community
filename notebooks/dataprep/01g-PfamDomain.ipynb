{
 "cells": [
  {
   "cell_type": "markdown",
   "metadata": {},
   "source": [
    "# Downloads PDB - Pfam Domain Mappings\n",
    "**[Work in progress]**\n",
    "\n",
    "This notebook downloads Pfam domain information for PDB structures.\n",
    "\n",
    "Data source: [Pfam](https://pfam.xfam.org/)\n",
    "\n",
    "Author: Peter Rose (pwrose@ucsd.edu)"
   ]
  },
  {
   "cell_type": "code",
   "execution_count": 1,
   "metadata": {},
   "outputs": [],
   "source": [
    "import os\n",
    "import pandas as pd\n",
    "from pathlib import Path"
   ]
  },
  {
   "cell_type": "code",
   "execution_count": 2,
   "metadata": {},
   "outputs": [],
   "source": [
    "pd.options.display.max_rows = None  # display all rows\n",
    "pd.options.display.max_columns = None  # display all columsns"
   ]
  },
  {
   "cell_type": "code",
   "execution_count": 3,
   "metadata": {},
   "outputs": [
    {
     "name": "stdout",
     "output_type": "stream",
     "text": [
      "/Users/peter/Library/Application Support/com.Neo4j.Relate/data/dbmss/dbms-8bf637fc-0d20-4d9f-9c6f-f7e72e92a4da/import\n"
     ]
    }
   ],
   "source": [
    "NEO4J_IMPORT = Path(os.getenv('NEO4J_IMPORT'))\n",
    "print(NEO4J_IMPORT)"
   ]
  },
  {
   "cell_type": "markdown",
   "metadata": {},
   "source": [
    "### Download data"
   ]
  },
  {
   "cell_type": "code",
   "execution_count": 4,
   "metadata": {},
   "outputs": [],
   "source": [
    "pdb_pfam_url = 'ftp://ftp.ebi.ac.uk/pub/databases/Pfam/mappings/pdb_pfam_mapping.txt'"
   ]
  },
  {
   "cell_type": "code",
   "execution_count": 5,
   "metadata": {},
   "outputs": [],
   "source": [
    "df = pd.read_csv(pdb_pfam_url, sep='\\t', dtype=str)"
   ]
  },
  {
   "cell_type": "markdown",
   "metadata": {},
   "source": [
    "### Assign CURIEs and standard names"
   ]
  },
  {
   "cell_type": "code",
   "execution_count": 6,
   "metadata": {},
   "outputs": [],
   "source": [
    "df['accession'] = 'pfam:' + df['PFAM_ACC'].str.split('.', expand=True)[0]"
   ]
  },
  {
   "cell_type": "code",
   "execution_count": 7,
   "metadata": {},
   "outputs": [],
   "source": [
    "df['pdbChainId'] = 'pdb:' + df['PDB_ID'] + '.' + df['CHAIN_ID']"
   ]
  },
  {
   "cell_type": "code",
   "execution_count": 8,
   "metadata": {},
   "outputs": [],
   "source": [
    "df.rename(columns={'PFAM_Name': 'name'}, inplace=True)\n",
    "df.rename(columns={'PFAM_desc': 'description'}, inplace=True)\n",
    "df.rename(columns={'PdbResNumStart': 'start'}, inplace=True)\n",
    "df.rename(columns={'PdbResNumEnd': 'end'}, inplace=True)"
   ]
  },
  {
   "cell_type": "code",
   "execution_count": 9,
   "metadata": {},
   "outputs": [
    {
     "data": {
      "text/html": [
       "<div>\n",
       "<style scoped>\n",
       "    .dataframe tbody tr th:only-of-type {\n",
       "        vertical-align: middle;\n",
       "    }\n",
       "\n",
       "    .dataframe tbody tr th {\n",
       "        vertical-align: top;\n",
       "    }\n",
       "\n",
       "    .dataframe thead th {\n",
       "        text-align: right;\n",
       "    }\n",
       "</style>\n",
       "<table border=\"1\" class=\"dataframe\">\n",
       "  <thead>\n",
       "    <tr style=\"text-align: right;\">\n",
       "      <th></th>\n",
       "      <th>PDB_ID</th>\n",
       "      <th>CHAIN_ID</th>\n",
       "      <th>start</th>\n",
       "      <th>end</th>\n",
       "      <th>PFAM_ACC</th>\n",
       "      <th>name</th>\n",
       "      <th>description</th>\n",
       "      <th>eValue</th>\n",
       "      <th>accession</th>\n",
       "      <th>pdbChainId</th>\n",
       "    </tr>\n",
       "  </thead>\n",
       "  <tbody>\n",
       "    <tr>\n",
       "      <th>0</th>\n",
       "      <td>5POC</td>\n",
       "      <td>A</td>\n",
       "      <td>40</td>\n",
       "      <td>120</td>\n",
       "      <td>PF00439.25</td>\n",
       "      <td>Bromodomain</td>\n",
       "      <td>Bromodomain</td>\n",
       "      <td>5.3E-26</td>\n",
       "      <td>pfam:PF00439</td>\n",
       "      <td>pdb:5POC.A</td>\n",
       "    </tr>\n",
       "    <tr>\n",
       "      <th>1</th>\n",
       "      <td>3BLS</td>\n",
       "      <td>A</td>\n",
       "      <td>14</td>\n",
       "      <td>360</td>\n",
       "      <td>PF00144.24</td>\n",
       "      <td>Beta-lactamase</td>\n",
       "      <td>Beta-lactamase</td>\n",
       "      <td>0.0</td>\n",
       "      <td>pfam:PF00144</td>\n",
       "      <td>pdb:3BLS.A</td>\n",
       "    </tr>\n",
       "    <tr>\n",
       "      <th>2</th>\n",
       "      <td>3R2P</td>\n",
       "      <td>A</td>\n",
       "      <td>46</td>\n",
       "      <td>182</td>\n",
       "      <td>PF01442.18</td>\n",
       "      <td>Apolipoprotein</td>\n",
       "      <td>Apolipoprotein A1/A4/E domain</td>\n",
       "      <td>2.8E-45</td>\n",
       "      <td>pfam:PF01442</td>\n",
       "      <td>pdb:3R2P.A</td>\n",
       "    </tr>\n",
       "    <tr>\n",
       "      <th>3</th>\n",
       "      <td>3MQK</td>\n",
       "      <td>A</td>\n",
       "      <td>20</td>\n",
       "      <td>66</td>\n",
       "      <td>PF08068.12</td>\n",
       "      <td>DKCLD</td>\n",
       "      <td>DKCLD (NUC011) domain</td>\n",
       "      <td>7.8E-18</td>\n",
       "      <td>pfam:PF08068</td>\n",
       "      <td>pdb:3MQK.A</td>\n",
       "    </tr>\n",
       "    <tr>\n",
       "      <th>4</th>\n",
       "      <td>3MQK</td>\n",
       "      <td>A</td>\n",
       "      <td>70</td>\n",
       "      <td>121</td>\n",
       "      <td>PF01509.18</td>\n",
       "      <td>TruB_N</td>\n",
       "      <td>TruB family pseudouridylate synthase (N termin...</td>\n",
       "      <td>3.7E-26</td>\n",
       "      <td>pfam:PF01509</td>\n",
       "      <td>pdb:3MQK.A</td>\n",
       "    </tr>\n",
       "  </tbody>\n",
       "</table>\n",
       "</div>"
      ],
      "text/plain": [
       "  PDB_ID CHAIN_ID start  end    PFAM_ACC            name  \\\n",
       "0   5POC        A    40  120  PF00439.25     Bromodomain   \n",
       "1   3BLS        A    14  360  PF00144.24  Beta-lactamase   \n",
       "2   3R2P        A    46  182  PF01442.18  Apolipoprotein   \n",
       "3   3MQK        A    20   66  PF08068.12           DKCLD   \n",
       "4   3MQK        A    70  121  PF01509.18          TruB_N   \n",
       "\n",
       "                                         description   eValue     accession  \\\n",
       "0                                        Bromodomain  5.3E-26  pfam:PF00439   \n",
       "1                                     Beta-lactamase      0.0  pfam:PF00144   \n",
       "2                      Apolipoprotein A1/A4/E domain  2.8E-45  pfam:PF01442   \n",
       "3                              DKCLD (NUC011) domain  7.8E-18  pfam:PF08068   \n",
       "4  TruB family pseudouridylate synthase (N termin...  3.7E-26  pfam:PF01509   \n",
       "\n",
       "   pdbChainId  \n",
       "0  pdb:5POC.A  \n",
       "1  pdb:3BLS.A  \n",
       "2  pdb:3R2P.A  \n",
       "3  pdb:3MQK.A  \n",
       "4  pdb:3MQK.A  "
      ]
     },
     "execution_count": 9,
     "metadata": {},
     "output_type": "execute_result"
    }
   ],
   "source": [
    "df.head()"
   ]
  },
  {
   "cell_type": "code",
   "execution_count": 10,
   "metadata": {},
   "outputs": [],
   "source": [
    "df.to_csv(NEO4J_IMPORT / \"01g-PfamDomain.csv\", index=False)"
   ]
  }
 ],
 "metadata": {
  "kernelspec": {
   "display_name": "Python 3",
   "language": "python",
   "name": "python3"
  },
  "language_info": {
   "codemirror_mode": {
    "name": "ipython",
    "version": 3
   },
   "file_extension": ".py",
   "mimetype": "text/x-python",
   "name": "python",
   "nbconvert_exporter": "python",
   "pygments_lexer": "ipython3",
   "version": "3.7.8"
  }
 },
 "nbformat": 4,
 "nbformat_minor": 4
}

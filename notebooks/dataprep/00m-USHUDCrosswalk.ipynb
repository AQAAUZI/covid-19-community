{
 "cells": [
  {
   "cell_type": "markdown",
   "metadata": {},
   "source": [
    "# US Postal Service ZIP codes to US County Census Track Mapping"
   ]
  },
  {
   "cell_type": "markdown",
   "metadata": {},
   "source": [
    "**[Work in progress]**\n",
    "\n",
    "This notebook creates .csv files with mappings between US Postal Service ZIP codes and US County Census Track codes provide by the U.S. Department of Housing and Urban Development (HUD).\n",
    "\n",
    "Reference: Wilson, Ron and Din, Alexander, 2018. “Understanding and Enhancing the U.S. Department of Housing and Urban Development’s ZIP Code Crosswalk Files”, [Cityscape: A Journal of Policy Development and Research, Volume 20 Number 2, 277 – 294.]( https://www.huduser.gov/portal/periodicals/cityscpe/vol20num2/ch16.pdf)\n",
    "\n",
    "Data source: [HUD USPS ZIP CODE CROSSWALK FILES](https://www.huduser.gov/portal/datasets/usps_crosswalk.html)\n",
    "\n",
    "Author: Peter Rose (pwrose@ucsd.edu)"
   ]
  },
  {
   "cell_type": "code",
   "execution_count": 1,
   "metadata": {},
   "outputs": [],
   "source": [
    "import os\n",
    "from pathlib import Path\n",
    "import pandas as pd"
   ]
  },
  {
   "cell_type": "code",
   "execution_count": 2,
   "metadata": {},
   "outputs": [],
   "source": [
    "pd.options.display.max_rows = None  # display all rows\n",
    "pd.options.display.max_columns = None  # display all columsns"
   ]
  },
  {
   "cell_type": "code",
   "execution_count": 3,
   "metadata": {},
   "outputs": [
    {
     "name": "stdout",
     "output_type": "stream",
     "text": [
      "/Users/peter/Library/Application Support/Neo4j Desktop/Application/neo4jDatabases/database-4af96121-2328-4e2f-ba60-6d8b728a26d5/installation-4.0.3\n"
     ]
    }
   ],
   "source": [
    "NEO4J_HOME = Path(os.getenv('NEO4J_HOME'))\n",
    "print(NEO4J_HOME)"
   ]
  },
  {
   "cell_type": "markdown",
   "metadata": {},
   "source": [
    "### 2020Q1 USPS ZIP code to US Country mappings"
   ]
  },
  {
   "cell_type": "code",
   "execution_count": 4,
   "metadata": {},
   "outputs": [],
   "source": [
    "zip_to_county_url = 'https://www.huduser.gov/portal/datasets/usps/ZIP_COUNTY_032020.xlsx'"
   ]
  },
  {
   "cell_type": "code",
   "execution_count": 5,
   "metadata": {},
   "outputs": [],
   "source": [
    "zip_to_county = pd.read_excel(zip_to_county_url, dtype='str')"
   ]
  },
  {
   "cell_type": "code",
   "execution_count": 6,
   "metadata": {},
   "outputs": [],
   "source": [
    "zip_to_county.rename(columns={'COUNTY': 'countyFips', 'ZIP': 'zip', 'RES_RATIO': 'resRatio'}, inplace=True)\n",
    "zip_to_county.rename(columns={'BUS_RATIO': 'busRatio', 'OTH_RATIO': 'othRatio', 'TOT_RATIO': 'totRatio'}, inplace=True)"
   ]
  },
  {
   "cell_type": "markdown",
   "metadata": {},
   "source": [
    "Example of one Zip area that maps to multiple counties."
   ]
  },
  {
   "cell_type": "code",
   "execution_count": 7,
   "metadata": {},
   "outputs": [
    {
     "data": {
      "text/html": [
       "<div>\n",
       "<style scoped>\n",
       "    .dataframe tbody tr th:only-of-type {\n",
       "        vertical-align: middle;\n",
       "    }\n",
       "\n",
       "    .dataframe tbody tr th {\n",
       "        vertical-align: top;\n",
       "    }\n",
       "\n",
       "    .dataframe thead th {\n",
       "        text-align: right;\n",
       "    }\n",
       "</style>\n",
       "<table border=\"1\" class=\"dataframe\">\n",
       "  <thead>\n",
       "    <tr style=\"text-align: right;\">\n",
       "      <th></th>\n",
       "      <th>zip</th>\n",
       "      <th>countyFips</th>\n",
       "      <th>resRatio</th>\n",
       "      <th>busRatio</th>\n",
       "      <th>othRatio</th>\n",
       "      <th>totRatio</th>\n",
       "    </tr>\n",
       "  </thead>\n",
       "  <tbody>\n",
       "    <tr>\n",
       "      <th>9710</th>\n",
       "      <td>21771</td>\n",
       "      <td>24027</td>\n",
       "      <td>0.10808996307485734</td>\n",
       "      <td>0.035147392290249435</td>\n",
       "      <td>0.024193548387096774</td>\n",
       "      <td>0.10230614455966569</td>\n",
       "    </tr>\n",
       "    <tr>\n",
       "      <th>9711</th>\n",
       "      <td>21771</td>\n",
       "      <td>24013</td>\n",
       "      <td>0.46273917421953675</td>\n",
       "      <td>0.8140589569160998</td>\n",
       "      <td>0.7580645161290323</td>\n",
       "      <td>0.48955270082030644</td>\n",
       "    </tr>\n",
       "    <tr>\n",
       "      <th>9712</th>\n",
       "      <td>21771</td>\n",
       "      <td>24031</td>\n",
       "      <td>0.011581067472306143</td>\n",
       "      <td>0.003401360544217687</td>\n",
       "      <td>0</td>\n",
       "      <td>0.010911623587679926</td>\n",
       "    </tr>\n",
       "    <tr>\n",
       "      <th>9713</th>\n",
       "      <td>21771</td>\n",
       "      <td>24021</td>\n",
       "      <td>0.41758979523329975</td>\n",
       "      <td>0.1473922902494331</td>\n",
       "      <td>0.21774193548387097</td>\n",
       "      <td>0.3972295310323479</td>\n",
       "    </tr>\n",
       "  </tbody>\n",
       "</table>\n",
       "</div>"
      ],
      "text/plain": [
       "        zip countyFips              resRatio              busRatio  \\\n",
       "9710  21771      24027   0.10808996307485734  0.035147392290249435   \n",
       "9711  21771      24013   0.46273917421953675    0.8140589569160998   \n",
       "9712  21771      24031  0.011581067472306143  0.003401360544217687   \n",
       "9713  21771      24021   0.41758979523329975    0.1473922902494331   \n",
       "\n",
       "                  othRatio              totRatio  \n",
       "9710  0.024193548387096774   0.10230614455966569  \n",
       "9711    0.7580645161290323   0.48955270082030644  \n",
       "9712                     0  0.010911623587679926  \n",
       "9713   0.21774193548387097    0.3972295310323479  "
      ]
     },
     "execution_count": 7,
     "metadata": {},
     "output_type": "execute_result"
    }
   ],
   "source": [
    "zip_to_county.query(\"zip == '21771'\")"
   ]
  },
  {
   "cell_type": "code",
   "execution_count": 8,
   "metadata": {},
   "outputs": [],
   "source": [
    "zip_to_county.to_csv(NEO4J_HOME / \"import/00m-USHUDCrosswalkZipToCounty2020Q1.csv\", index=False)"
   ]
  },
  {
   "cell_type": "markdown",
   "metadata": {},
   "source": [
    "### 2020Q1 USPS ZIP to US Census Tract mappings"
   ]
  },
  {
   "cell_type": "code",
   "execution_count": 9,
   "metadata": {},
   "outputs": [],
   "source": [
    "zip_to_tract_url = 'https://www.huduser.gov/portal/datasets/usps/ZIP_TRACT_032020.xlsx'"
   ]
  },
  {
   "cell_type": "code",
   "execution_count": 10,
   "metadata": {},
   "outputs": [],
   "source": [
    "zip_to_tract = pd.read_excel(zip_to_tract_url, dtype='str')"
   ]
  },
  {
   "cell_type": "code",
   "execution_count": 11,
   "metadata": {},
   "outputs": [],
   "source": [
    "zip_to_tract.rename(columns={'TRACT': 'tract', 'ZIP': 'zip', 'RES_RATIO': 'resRatio'}, inplace=True)\n",
    "zip_to_tract.rename(columns={'BUS_RATIO': 'busRatio', 'OTH_RATIO': 'othRatio', 'TOT_RATIO': 'totRatio'}, inplace=True)"
   ]
  },
  {
   "cell_type": "code",
   "execution_count": 12,
   "metadata": {},
   "outputs": [
    {
     "data": {
      "text/html": [
       "<div>\n",
       "<style scoped>\n",
       "    .dataframe tbody tr th:only-of-type {\n",
       "        vertical-align: middle;\n",
       "    }\n",
       "\n",
       "    .dataframe tbody tr th {\n",
       "        vertical-align: top;\n",
       "    }\n",
       "\n",
       "    .dataframe thead th {\n",
       "        text-align: right;\n",
       "    }\n",
       "</style>\n",
       "<table border=\"1\" class=\"dataframe\">\n",
       "  <thead>\n",
       "    <tr style=\"text-align: right;\">\n",
       "      <th></th>\n",
       "      <th>zip</th>\n",
       "      <th>tract</th>\n",
       "      <th>resRatio</th>\n",
       "      <th>busRatio</th>\n",
       "      <th>othRatio</th>\n",
       "      <th>totRatio</th>\n",
       "    </tr>\n",
       "  </thead>\n",
       "  <tbody>\n",
       "    <tr>\n",
       "      <th>0</th>\n",
       "      <td>00501</td>\n",
       "      <td>36103158607</td>\n",
       "      <td>0</td>\n",
       "      <td>1</td>\n",
       "      <td>0</td>\n",
       "      <td>1</td>\n",
       "    </tr>\n",
       "    <tr>\n",
       "      <th>1</th>\n",
       "      <td>00601</td>\n",
       "      <td>72001956800</td>\n",
       "      <td>0.01481610597873453</td>\n",
       "      <td>0.01256281407035176</td>\n",
       "      <td>0.0440251572327044</td>\n",
       "      <td>0.015411503018748014</td>\n",
       "    </tr>\n",
       "    <tr>\n",
       "      <th>2</th>\n",
       "      <td>00601</td>\n",
       "      <td>72113071700</td>\n",
       "      <td>0.16105978734530244</td>\n",
       "      <td>0.20603015075376885</td>\n",
       "      <td>0.1320754716981132</td>\n",
       "      <td>0.16317127422942485</td>\n",
       "    </tr>\n",
       "    <tr>\n",
       "      <th>3</th>\n",
       "      <td>00601</td>\n",
       "      <td>72001956600</td>\n",
       "      <td>0.17291267212829003</td>\n",
       "      <td>0.3542713567839196</td>\n",
       "      <td>0.3584905660377358</td>\n",
       "      <td>0.1890689545598983</td>\n",
       "    </tr>\n",
       "    <tr>\n",
       "      <th>4</th>\n",
       "      <td>00601</td>\n",
       "      <td>72001956700</td>\n",
       "      <td>0.651211434547673</td>\n",
       "      <td>0.4271356783919598</td>\n",
       "      <td>0.46540880503144655</td>\n",
       "      <td>0.6323482681919288</td>\n",
       "    </tr>\n",
       "  </tbody>\n",
       "</table>\n",
       "</div>"
      ],
      "text/plain": [
       "     zip        tract             resRatio             busRatio  \\\n",
       "0  00501  36103158607                    0                    1   \n",
       "1  00601  72001956800  0.01481610597873453  0.01256281407035176   \n",
       "2  00601  72113071700  0.16105978734530244  0.20603015075376885   \n",
       "3  00601  72001956600  0.17291267212829003   0.3542713567839196   \n",
       "4  00601  72001956700    0.651211434547673   0.4271356783919598   \n",
       "\n",
       "              othRatio              totRatio  \n",
       "0                    0                     1  \n",
       "1   0.0440251572327044  0.015411503018748014  \n",
       "2   0.1320754716981132   0.16317127422942485  \n",
       "3   0.3584905660377358    0.1890689545598983  \n",
       "4  0.46540880503144655    0.6323482681919288  "
      ]
     },
     "execution_count": 12,
     "metadata": {},
     "output_type": "execute_result"
    }
   ],
   "source": [
    "zip_to_tract.head()"
   ]
  },
  {
   "cell_type": "code",
   "execution_count": 13,
   "metadata": {},
   "outputs": [
    {
     "data": {
      "text/html": [
       "<div>\n",
       "<style scoped>\n",
       "    .dataframe tbody tr th:only-of-type {\n",
       "        vertical-align: middle;\n",
       "    }\n",
       "\n",
       "    .dataframe tbody tr th {\n",
       "        vertical-align: top;\n",
       "    }\n",
       "\n",
       "    .dataframe thead th {\n",
       "        text-align: right;\n",
       "    }\n",
       "</style>\n",
       "<table border=\"1\" class=\"dataframe\">\n",
       "  <thead>\n",
       "    <tr style=\"text-align: right;\">\n",
       "      <th></th>\n",
       "      <th>zip</th>\n",
       "      <th>tract</th>\n",
       "      <th>resRatio</th>\n",
       "      <th>busRatio</th>\n",
       "      <th>othRatio</th>\n",
       "      <th>totRatio</th>\n",
       "    </tr>\n",
       "  </thead>\n",
       "  <tbody>\n",
       "    <tr>\n",
       "      <th>156595</th>\n",
       "      <td>92121</td>\n",
       "      <td>06073008346</td>\n",
       "      <td>0.5238353196099675</td>\n",
       "      <td>0.2380638788277906</td>\n",
       "      <td>0.2620481927710843</td>\n",
       "      <td>0.29728601252609604</td>\n",
       "    </tr>\n",
       "    <tr>\n",
       "      <th>156596</th>\n",
       "      <td>92121</td>\n",
       "      <td>06073008350</td>\n",
       "      <td>0</td>\n",
       "      <td>0.49078037537043134</td>\n",
       "      <td>0.4716867469879518</td>\n",
       "      <td>0.39290187891440503</td>\n",
       "    </tr>\n",
       "    <tr>\n",
       "      <th>156597</th>\n",
       "      <td>92121</td>\n",
       "      <td>06073009400</td>\n",
       "      <td>0</td>\n",
       "      <td>0.00032927230819888045</td>\n",
       "      <td>0</td>\n",
       "      <td>0.00020876826722338206</td>\n",
       "    </tr>\n",
       "    <tr>\n",
       "      <th>156598</th>\n",
       "      <td>92121</td>\n",
       "      <td>06073008339</td>\n",
       "      <td>0.4761646803900325</td>\n",
       "      <td>0.2708264734935792</td>\n",
       "      <td>0.26626506024096386</td>\n",
       "      <td>0.3096033402922756</td>\n",
       "    </tr>\n",
       "  </tbody>\n",
       "</table>\n",
       "</div>"
      ],
      "text/plain": [
       "          zip        tract            resRatio                busRatio  \\\n",
       "156595  92121  06073008346  0.5238353196099675      0.2380638788277906   \n",
       "156596  92121  06073008350                   0     0.49078037537043134   \n",
       "156597  92121  06073009400                   0  0.00032927230819888045   \n",
       "156598  92121  06073008339  0.4761646803900325      0.2708264734935792   \n",
       "\n",
       "                   othRatio                totRatio  \n",
       "156595   0.2620481927710843     0.29728601252609604  \n",
       "156596   0.4716867469879518     0.39290187891440503  \n",
       "156597                    0  0.00020876826722338206  \n",
       "156598  0.26626506024096386      0.3096033402922756  "
      ]
     },
     "execution_count": 13,
     "metadata": {},
     "output_type": "execute_result"
    }
   ],
   "source": [
    "zip_to_tract.query(\"zip == '92121'\")"
   ]
  },
  {
   "cell_type": "code",
   "execution_count": 14,
   "metadata": {},
   "outputs": [],
   "source": [
    "zip_to_tract.to_csv(NEO4J_HOME / \"import/00m-USHUDCrosswalkZipToTract2020Q1.csv\", index=False)"
   ]
  }
 ],
 "metadata": {
  "kernelspec": {
   "display_name": "Python 3",
   "language": "python",
   "name": "python3"
  },
  "language_info": {
   "codemirror_mode": {
    "name": "ipython",
    "version": 3
   },
   "file_extension": ".py",
   "mimetype": "text/x-python",
   "name": "python",
   "nbconvert_exporter": "python",
   "pygments_lexer": "ipython3",
   "version": "3.8.3"
  }
 },
 "nbformat": 4,
 "nbformat_minor": 4
}

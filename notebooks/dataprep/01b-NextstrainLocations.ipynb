{
 "cells": [
  {
   "cell_type": "markdown",
   "metadata": {},
   "source": [
    "# Assign standard locations to strain metadata\n",
    "**[Work in progress]**\n",
    "\n",
    "Data source: [Nextstrain.org](https://nextstrain.org/ncov/global)\n",
    "\n",
    "Author: Peter Rose (pwrose@ucsd.edu)"
   ]
  },
  {
   "cell_type": "code",
   "execution_count": 1,
   "metadata": {},
   "outputs": [],
   "source": [
    "import os\n",
    "import pandas as pd\n",
    "import dateutil\n",
    "from pathlib import Path"
   ]
  },
  {
   "cell_type": "code",
   "execution_count": 2,
   "metadata": {},
   "outputs": [],
   "source": [
    "pd.options.display.max_rows = None  # display all rows\n",
    "pd.options.display.max_columns = None  # display all columsns"
   ]
  },
  {
   "cell_type": "code",
   "execution_count": 3,
   "metadata": {},
   "outputs": [
    {
     "name": "stdout",
     "output_type": "stream",
     "text": [
      "/Users/peter/Library/Application Support/Neo4j Desktop/Application/neo4jDatabases/database-19636412-9e74-4bac-8a4c-c6c8b49bb9d3/installation-4.1.0/import\n"
     ]
    }
   ],
   "source": [
    "NEO4J_IMPORT = Path(os.getenv('NEO4J_IMPORT'))\n",
    "print(NEO4J_IMPORT)"
   ]
  },
  {
   "cell_type": "code",
   "execution_count": 4,
   "metadata": {},
   "outputs": [],
   "source": [
    "df = pd.read_csv(NEO4J_IMPORT / \"01b-Nextstrain.csv\")\n",
    "df = df.fillna('')"
   ]
  },
  {
   "cell_type": "code",
   "execution_count": 5,
   "metadata": {},
   "outputs": [
    {
     "data": {
      "text/html": [
       "<div>\n",
       "<style scoped>\n",
       "    .dataframe tbody tr th:only-of-type {\n",
       "        vertical-align: middle;\n",
       "    }\n",
       "\n",
       "    .dataframe tbody tr th {\n",
       "        vertical-align: top;\n",
       "    }\n",
       "\n",
       "    .dataframe thead th {\n",
       "        text-align: right;\n",
       "    }\n",
       "</style>\n",
       "<table border=\"1\" class=\"dataframe\">\n",
       "  <thead>\n",
       "    <tr style=\"text-align: right;\">\n",
       "      <th></th>\n",
       "      <th>id</th>\n",
       "      <th>name</th>\n",
       "      <th>taxonomyId</th>\n",
       "      <th>collectionDate</th>\n",
       "      <th>hostTaxonomyId</th>\n",
       "      <th>sex</th>\n",
       "      <th>age</th>\n",
       "      <th>clade</th>\n",
       "      <th>exposureCountry</th>\n",
       "      <th>exposureAdmin1</th>\n",
       "    </tr>\n",
       "  </thead>\n",
       "  <tbody>\n",
       "    <tr>\n",
       "      <th>0</th>\n",
       "      <td>https://www.gisaid.org/EPI_ISL_406798</td>\n",
       "      <td>Wuhan/WH01/2019</td>\n",
       "      <td>taxonomy:2697049</td>\n",
       "      <td>2019-12-26</td>\n",
       "      <td>taxonomy:9606</td>\n",
       "      <td>male</td>\n",
       "      <td>44</td>\n",
       "      <td>19A</td>\n",
       "      <td>China</td>\n",
       "      <td>Hubei</td>\n",
       "    </tr>\n",
       "    <tr>\n",
       "      <th>1</th>\n",
       "      <td>https://www.gisaid.org/EPI_ISL_402121</td>\n",
       "      <td>Wuhan/IVDC-HB-05/2019</td>\n",
       "      <td>taxonomy:2697049</td>\n",
       "      <td>2019-12-30</td>\n",
       "      <td>taxonomy:9606</td>\n",
       "      <td>male</td>\n",
       "      <td>32</td>\n",
       "      <td>19A</td>\n",
       "      <td>China</td>\n",
       "      <td>Hubei</td>\n",
       "    </tr>\n",
       "    <tr>\n",
       "      <th>2</th>\n",
       "      <td>https://www.gisaid.org/EPI_ISL_402128</td>\n",
       "      <td>Wuhan/WIV05/2019</td>\n",
       "      <td>taxonomy:2697049</td>\n",
       "      <td>2019-12-30</td>\n",
       "      <td>taxonomy:9606</td>\n",
       "      <td>female</td>\n",
       "      <td>52</td>\n",
       "      <td>19A</td>\n",
       "      <td>China</td>\n",
       "      <td>Hubei</td>\n",
       "    </tr>\n",
       "    <tr>\n",
       "      <th>3</th>\n",
       "      <td>https://www.gisaid.org/EPI_ISL_402130</td>\n",
       "      <td>Wuhan/WIV07/2019</td>\n",
       "      <td>taxonomy:2697049</td>\n",
       "      <td>2019-12-30</td>\n",
       "      <td>taxonomy:9606</td>\n",
       "      <td>male</td>\n",
       "      <td>56</td>\n",
       "      <td>19A</td>\n",
       "      <td>China</td>\n",
       "      <td>Hubei</td>\n",
       "    </tr>\n",
       "    <tr>\n",
       "      <th>4</th>\n",
       "      <td>https://www.gisaid.org/EPI_ISL_457733</td>\n",
       "      <td>Taiwan/TSGH-37/2020</td>\n",
       "      <td>taxonomy:2697049</td>\n",
       "      <td>2020-02-08</td>\n",
       "      <td>taxonomy:9606</td>\n",
       "      <td>male</td>\n",
       "      <td>21</td>\n",
       "      <td>19A</td>\n",
       "      <td>Taiwan</td>\n",
       "      <td>Taiwan</td>\n",
       "    </tr>\n",
       "  </tbody>\n",
       "</table>\n",
       "</div>"
      ],
      "text/plain": [
       "                                      id                   name  \\\n",
       "0  https://www.gisaid.org/EPI_ISL_406798        Wuhan/WH01/2019   \n",
       "1  https://www.gisaid.org/EPI_ISL_402121  Wuhan/IVDC-HB-05/2019   \n",
       "2  https://www.gisaid.org/EPI_ISL_402128       Wuhan/WIV05/2019   \n",
       "3  https://www.gisaid.org/EPI_ISL_402130       Wuhan/WIV07/2019   \n",
       "4  https://www.gisaid.org/EPI_ISL_457733    Taiwan/TSGH-37/2020   \n",
       "\n",
       "         taxonomyId collectionDate hostTaxonomyId     sex age clade  \\\n",
       "0  taxonomy:2697049     2019-12-26  taxonomy:9606    male  44   19A   \n",
       "1  taxonomy:2697049     2019-12-30  taxonomy:9606    male  32   19A   \n",
       "2  taxonomy:2697049     2019-12-30  taxonomy:9606  female  52   19A   \n",
       "3  taxonomy:2697049     2019-12-30  taxonomy:9606    male  56   19A   \n",
       "4  taxonomy:2697049     2020-02-08  taxonomy:9606    male  21   19A   \n",
       "\n",
       "  exposureCountry exposureAdmin1  \n",
       "0           China          Hubei  \n",
       "1           China          Hubei  \n",
       "2           China          Hubei  \n",
       "3           China          Hubei  \n",
       "4          Taiwan         Taiwan  "
      ]
     },
     "execution_count": 5,
     "metadata": {},
     "output_type": "execute_result"
    }
   ],
   "source": [
    "df.head()"
   ]
  },
  {
   "cell_type": "markdown",
   "metadata": {},
   "source": [
    "# TODO: standardize location information so it can be linked to GeoNames"
   ]
  },
  {
   "cell_type": "code",
   "execution_count": null,
   "metadata": {},
   "outputs": [],
   "source": []
  }
 ],
 "metadata": {
  "kernelspec": {
   "display_name": "Python 3",
   "language": "python",
   "name": "python3"
  },
  "language_info": {
   "codemirror_mode": {
    "name": "ipython",
    "version": 3
   },
   "file_extension": ".py",
   "mimetype": "text/x-python",
   "name": "python",
   "nbconvert_exporter": "python",
   "pygments_lexer": "ipython3",
   "version": "3.8.3"
  }
 },
 "nbformat": 4,
 "nbformat_minor": 4
}

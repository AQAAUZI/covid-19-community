{
 "cells": [
  {
   "cell_type": "markdown",
   "metadata": {},
   "source": [
    "# Load Viral Genome Data from NCBI\n",
    "**[Work in progress]**\n",
    "\n",
    "This notebook downloads and standardizes viral genome data from NCBI for ingestion into a Knowledge Graph.\n",
    "\n",
    "Data source: [NCBI](https://www.ncbi.nlm.nih.gov)\n",
    "\n",
    "Author: Peter Rose (pwrose@ucsd.edu)"
   ]
  },
  {
   "cell_type": "code",
   "execution_count": 1,
   "metadata": {},
   "outputs": [],
   "source": [
    "import os\n",
    "import re\n",
    "import pandas as pd\n",
    "import dateutil\n",
    "import time\n",
    "from pathlib import Path\n",
    "import hashlib \n",
    "\n",
    "from Bio import SeqIO\n",
    "from Bio import Entrez\n",
    "Entrez.email = \"covid19@mybinder.org\""
   ]
  },
  {
   "cell_type": "code",
   "execution_count": 2,
   "metadata": {},
   "outputs": [],
   "source": [
    "pd.options.display.max_rows = None  # display all rows\n",
    "pd.options.display.max_columns = None  # display all columsns"
   ]
  },
  {
   "cell_type": "code",
   "execution_count": 3,
   "metadata": {},
   "outputs": [
    {
     "name": "stdout",
     "output_type": "stream",
     "text": [
      "/Users/peter/Library/Application Support/com.Neo4j.Relate/data/dbmss/dbms-8bf637fc-0d20-4d9f-9c6f-f7e72e92a4da/import\n"
     ]
    }
   ],
   "source": [
    "# Path will take care of handling operating system differences.\n",
    "NEO4J_IMPORT = Path(os.getenv('NEO4J_IMPORT'))\n",
    "print(NEO4J_IMPORT)"
   ]
  },
  {
   "cell_type": "markdown",
   "metadata": {},
   "source": [
    "### Download viral genome information"
   ]
  },
  {
   "cell_type": "code",
   "execution_count": 4,
   "metadata": {},
   "outputs": [],
   "source": [
    "# TODO loop over a list of taxonomy ids. \n",
    "\n",
    "# for now SARS-CoV-2 is hardcoded.\n",
    "#tax_id = \"2697049\" # SARS-CoV-2, NC_045512\n",
    "#tax_id = \"227984\" # SARS, NC_004718\n",
    "#tax_id = \"1335626\" # MERS-CoV, NC_019843, NC_038294(UniProt)\n",
    "\n",
    "#tax_id = \"147711\" # Rhinovirus A NC_001617\n",
    "#tax_id = \"147712\" # Rhinovirus B (B14: NC_001490)\n",
    "#https://www.ncbi.nlm.nih.gov/genomes/GenomesGroup.cgi?taxid=12058&host=human\n",
    "\n",
    "#tax_id = \"186538\" # Zaire ebolavirus, NC_002549\n",
    "\n",
    "# https://www.ncbi.nlm.nih.gov/ipg/YP_009724389.1 identical protein groups\n",
    "#https://www.ebi.ac.uk/uniprot/api/covid-19/uniprotkb/accession/P0DTC1.txt"
   ]
  },
  {
   "cell_type": "code",
   "execution_count": 5,
   "metadata": {},
   "outputs": [],
   "source": [
    "organisms = pd.read_csv(\"../../reference_data/Organism.csv\")"
   ]
  },
  {
   "cell_type": "code",
   "execution_count": 6,
   "metadata": {},
   "outputs": [],
   "source": [
    "pathogens = organisms.query(\"type == 'Pathogen'\")\n",
    "#refSeq = pathogens['genomeAccession'].values"
   ]
  },
  {
   "cell_type": "code",
   "execution_count": 7,
   "metadata": {},
   "outputs": [],
   "source": [
    "genomes = pd.read_csv(\"../../reference_data/Genome.csv\", dtype=str)\n",
    "# restrict list to viral genomes\n",
    "genomes = genomes.query(\"chromosome == 'Genome'\")"
   ]
  },
  {
   "cell_type": "code",
   "execution_count": 8,
   "metadata": {},
   "outputs": [],
   "source": [
    "refSeq = genomes['refSeq'].str.split(':', expand=True)[1]"
   ]
  },
  {
   "cell_type": "code",
   "execution_count": 9,
   "metadata": {},
   "outputs": [
    {
     "data": {
      "text/plain": [
       "0    NC_045512\n",
       "1    NC_038294\n",
       "2    NC_004718\n",
       "3    NC_002645\n",
       "Name: 1, dtype: object"
      ]
     },
     "execution_count": 9,
     "metadata": {},
     "output_type": "execute_result"
    }
   ],
   "source": [
    "refSeq"
   ]
  },
  {
   "cell_type": "markdown",
   "metadata": {},
   "source": [
    "### Download reference sequence nucleotide accession numbers for the given taxonomy id"
   ]
  },
  {
   "cell_type": "code",
   "execution_count": 10,
   "metadata": {},
   "outputs": [],
   "source": [
    "# TODO refactor function into a separate .py file\n",
    "def extract_genbank_features(gb_record, feature_type, qualifier_list) :\n",
    "    answers = list()\n",
    "    for (index, feature) in enumerate(gb_record.features) :\n",
    "        answer = dict()\n",
    "        if feature.type==feature_type :\n",
    "            for qualifier in qualifier_list:\n",
    "                if qualifier in feature.qualifiers :\n",
    "                    #print(feature, feature.qualifiers)\n",
    "                    # keep NCBI \"1\"-based indexing\n",
    "                    answer['start'] = min(feature.location) + 1\n",
    "                    answer['end'] = max(feature.location) + 1\n",
    "                    #There should only be one locus_tag per feature, but there\n",
    "                    #are usually several db_xref entries\n",
    "                    for value in feature.qualifiers[qualifier] :\n",
    "                        if value in answer :\n",
    "                                print(\"WARNING - Duplicate key %s for %s features %i and %i\" \\\n",
    "                                % (value, feature_type, answer[value], index))\n",
    "                        else :\n",
    "                            answer[qualifier] = value\n",
    "                else:\n",
    "                    answer[qualifier] = ''\n",
    "            answers.append(answer)\n",
    "    return answers"
   ]
  },
  {
   "cell_type": "code",
   "execution_count": 11,
   "metadata": {},
   "outputs": [],
   "source": [
    "def process_protein_record(accession):\n",
    "    with Entrez.efetch(db=\"nucleotide\", rettype=\"gb\", retmode=\"text\", id=accession) as handle:\n",
    "        record = SeqIO.read(handle, \"gb\")\n",
    "        print(record)\n",
    "    \n",
    "    source = extract_genbank_features(record, \"source\", [\"db_xref\"])\n",
    "    taxonomy = source[0]['db_xref']\n",
    "    protein = extract_genbank_features(record, \"CDS\", [\"gene\",\"locus_tag\",\"db_xref\",\"product\",\"protein_id\"])\n",
    "    protein_df = pd.DataFrame(protein)\n",
    "    protein_df['fullLength'] = 'True'\n",
    "\n",
    "    mature_peptide = extract_genbank_features(record, \"mat_peptide\", [\"gene\",\"locus_tag\",\"db_xref\",\"product\",\"protein_id\"])\n",
    "    \n",
    "    # some reference sequences are missing the mature peptides (why???)\n",
    "    if len(mature_peptide) > 0:\n",
    "        mature_peptide_df = pd.DataFrame(mature_peptide)\n",
    "        mature_peptide_df['fullLength'] = 'False'\n",
    "\n",
    "        # assign db_xref to the mature proteins based on the precursor's gene id\n",
    "        mature_peptide_df['db_xref'] = mature_peptide_df['gene'].apply(lambda g: protein_df.query(f\"gene=='{g}'\")['db_xref'][0])\n",
    "        df = pd.concat([protein_df, mature_peptide_df])\n",
    "    else:\n",
    "        df = protein_df\n",
    "        \n",
    "    df['taxonomyId'] = taxonomy\n",
    "    df['genomeName'] = record.description\n",
    "    df['genbank_accession'] = accession\n",
    "    \n",
    "    return df"
   ]
  },
  {
   "cell_type": "markdown",
   "metadata": {},
   "source": [
    "### Concatenate all Genbank dataframes"
   ]
  },
  {
   "cell_type": "code",
   "execution_count": 12,
   "metadata": {},
   "outputs": [
    {
     "name": "stdout",
     "output_type": "stream",
     "text": [
      "ID: NC_045512.2\n",
      "Name: NC_045512\n",
      "Description: Severe acute respiratory syndrome coronavirus 2 isolate Wuhan-Hu-1, complete genome\n",
      "Database cross-references: BioProject:PRJNA485481\n",
      "Number of features: 57\n",
      "/molecule_type=ss-RNA\n",
      "/topology=linear\n",
      "/data_file_division=VRL\n",
      "/date=18-JUL-2020\n",
      "/accessions=['NC_045512']\n",
      "/sequence_version=2\n",
      "/keywords=['RefSeq']\n",
      "/source=Severe acute respiratory syndrome coronavirus 2 (SARS-CoV-2)\n",
      "/organism=Severe acute respiratory syndrome coronavirus 2\n",
      "/taxonomy=['Viruses', 'Riboviria', 'Orthornavirae', 'Pisuviricota', 'Pisoniviricetes', 'Nidovirales', 'Cornidovirineae', 'Coronaviridae', 'Orthocoronavirinae', 'Betacoronavirus', 'Sarbecovirus']\n",
      "/references=[Reference(title='A new coronavirus associated with human respiratory disease in China', ...), Reference(title='Programmed ribosomal frameshifting in decoding the SARS-CoV genome', ...), Reference(title='The structure of a rigorously conserved RNA element within the SARS virus genome', ...), Reference(title=\"A phylogenetically conserved hairpin-type 3' untranslated region pseudoknot functions in coronavirus RNA replication\", ...), Reference(title='Direct Submission', ...), Reference(title='Direct Submission', ...)]\n",
      "/comment=REVIEWED REFSEQ: This record has been curated by NCBI staff. The\n",
      "reference sequence is identical to MN908947.\n",
      "On Jan 17, 2020 this sequence version replaced NC_045512.1.\n",
      "Annotation was added using homology to SARSr-CoV NC_004718.3. ###\n",
      "Formerly called 'Wuhan seafood market pneumonia virus.' If you have\n",
      "questions or suggestions, please email us at info@ncbi.nlm.nih.gov\n",
      "and include the accession number NC_045512.### Protein structures\n",
      "can be found at\n",
      "https://www.ncbi.nlm.nih.gov/structure/?term=sars-cov-2.### Find\n",
      "all other Severe acute respiratory syndrome coronavirus 2\n",
      "(SARS-CoV-2) sequences at\n",
      "https://www.ncbi.nlm.nih.gov/genbank/sars-cov-2-seqs/\n",
      "COMPLETENESS: full length.\n",
      "/structured_comment=OrderedDict([('Assembly-Data', OrderedDict([('Assembly Method', 'Megahit v. V1.1.3'), ('Sequencing Technology', 'Illumina')]))])\n",
      "Seq('ATTAAAGGTTTATACCTTCCCAGGTAACAAACCAACCAACTTTCGATCTCTTGT...AAA')\n",
      "ID: NC_038294.1\n",
      "Name: NC_038294\n",
      "Description: Betacoronavirus England 1 isolate H123990006, complete genome\n",
      "Database cross-references: BioProject:PRJNA485481\n",
      "Number of features: 22\n",
      "/molecule_type=RNA\n",
      "/topology=linear\n",
      "/data_file_division=VRL\n",
      "/date=19-AUG-2020\n",
      "/accessions=['NC_038294']\n",
      "/sequence_version=1\n",
      "/keywords=['RefSeq']\n",
      "/source=Betacoronavirus England 1\n",
      "/organism=Betacoronavirus England 1\n",
      "/taxonomy=['Viruses', 'Riboviria', 'Orthornavirae', 'Pisuviricota', 'Pisoniviricetes', 'Nidovirales', 'Cornidovirineae', 'Coronaviridae', 'Orthocoronavirinae', 'Betacoronavirus', 'Merbecovirus']\n",
      "/references=[Reference(title='Middle East respiratory syndrome coronavirus (MERS-CoV): announcement of the Coronavirus Study Group', ...), Reference(title='Full-genome deep sequencing and phylogenetic analysis of novel human betacoronavirus', ...), Reference(title='Direct Submission', ...), Reference(title='Direct Submission', ...), Reference(title='Direct Submission', ...)]\n",
      "/comment=REVIEWED REFSEQ: This record has been curated by NCBI staff. The\n",
      "reference sequence is identical to KC164505.\n",
      "Annotation was based on information found in PMID: 23170002 and the\n",
      "annotation of Middle East respiratory syndrome coronavirus\n",
      "strain#HCoV-EMC, NC_019843.3. The sequence of NC_019843.3 is 99.67%\n",
      "similar to this sequence.\n",
      "COMPLETENESS: full length.\n",
      "Seq('ATTTAAGTGAATAGCTTGGCTATCTCACTTCCCCTCGTTCTCTTGCAGAACTTT...AAA')\n",
      "ID: NC_004718.3\n",
      "Name: NC_004718\n",
      "Description: SARS coronavirus Tor2, complete genome\n",
      "Database cross-references: BioProject:PRJNA485481\n",
      "Number of features: 45\n",
      "/molecule_type=RNA\n",
      "/topology=linear\n",
      "/data_file_division=VRL\n",
      "/date=15-SEP-2020\n",
      "/accessions=['NC_004718']\n",
      "/sequence_version=3\n",
      "/keywords=['RefSeq']\n",
      "/source=SARS coronavirus Tor2\n",
      "/organism=SARS coronavirus Tor2\n",
      "/taxonomy=['Viruses', 'Riboviria', 'Orthornavirae', 'Pisuviricota', 'Pisoniviricetes', 'Nidovirales', 'Cornidovirineae', 'Coronaviridae', 'Orthocoronavirinae', 'Betacoronavirus', 'Sarbecovirus']\n",
      "/references=[Reference(title='Analysis of multimerization of the SARS coronavirus nucleocapsid protein', ...), Reference(title='Direct Submission', ...), Reference(title='Direct Submission', ...), Reference(title='Direct Submission', ...), Reference(title='Direct Submission', ...)]\n",
      "/comment=REVIEWED REFSEQ: This record has been curated by NCBI staff. The\n",
      "reference sequence is identical to AY274119.\n",
      "On or before Mar 28, 2016 this sequence version replaced\n",
      "NC_028858.1, NC_028866.1, NC_028884.1, NC_028893.1, NC_028873.1,\n",
      "NC_028845.1, NC_009696.1, NC_009695.1, NC_013664.1, NC_009693.1,\n",
      "NC_009694.1, NC_004718.2.\n",
      "Annotation based on that found in PMID: 31987001, PMID: 31967327\n",
      "and the annotation of P0C6X7.1.\n",
      "COMPLETENESS: full length.\n",
      "Seq('ATATTAGGTTTTTACCTACCCAGGAAAAGCCAACCAACCTCGATCTCTTGTAGA...AAA')\n",
      "ID: NC_002645.1\n",
      "Name: NC_002645\n",
      "Description: Human coronavirus 229E, complete genome\n",
      "Database cross-references: BioProject:PRJNA485481\n",
      "Number of features: 16\n",
      "/molecule_type=RNA\n",
      "/topology=linear\n",
      "/data_file_division=VRL\n",
      "/date=13-AUG-2018\n",
      "/accessions=['NC_002645']\n",
      "/sequence_version=1\n",
      "/keywords=['RefSeq']\n",
      "/source=Human coronavirus 229E\n",
      "/organism=Human coronavirus 229E\n",
      "/taxonomy=['Viruses', 'Riboviria', 'Orthornavirae', 'Pisuviricota', 'Pisoniviricetes', 'Nidovirales', 'Cornidovirineae', 'Coronaviridae', 'Orthocoronavirinae', 'Alphacoronavirus', 'Duvinacovirus']\n",
      "/references=[Reference(title='Infectious RNA transcribed in vitro from a cDNA copy of the human coronavirus genome cloned in vaccinia virus', ...), Reference(title='Direct Submission', ...), Reference(title='Direct Submission', ...)]\n",
      "/comment=PROVISIONAL REFSEQ: This record has not yet been subject to final\n",
      "NCBI review. The reference sequence is identical to AF304460.\n",
      "COMPLETENESS: full length.\n",
      "Seq('ACTTAAGTACCTTATCTATCTACAGATAGAAAAGTTGCTTTTTAGACTTTGTGT...AAA')\n"
     ]
    }
   ],
   "source": [
    "df = pd.concat((process_protein_record(accession)) for accession in refSeq)"
   ]
  },
  {
   "cell_type": "markdown",
   "metadata": {},
   "source": [
    "#### Get protein sequence and calculate md5 hash code as a unique id"
   ]
  },
  {
   "cell_type": "code",
   "execution_count": 13,
   "metadata": {},
   "outputs": [],
   "source": [
    "def get_sequence(accession):\n",
    "    with Entrez.efetch(db=\"protein\", rettype=\"gb\", retmode=\"text\", id=accession) as handle:\n",
    "        record = SeqIO.read(handle, \"gb\")\n",
    "        time.sleep(2)\n",
    "        return str(record.seq)"
   ]
  },
  {
   "cell_type": "code",
   "execution_count": 14,
   "metadata": {},
   "outputs": [],
   "source": [
    "df['sequence'] = df['protein_id'].apply(get_sequence)"
   ]
  },
  {
   "cell_type": "code",
   "execution_count": 15,
   "metadata": {},
   "outputs": [],
   "source": [
    "df['id'] = df['sequence'].apply(lambda seq: 'md5:' + hashlib.md5(seq.encode()).hexdigest())"
   ]
  },
  {
   "cell_type": "markdown",
   "metadata": {},
   "source": [
    "### Create unique and interoperable identifiers"
   ]
  },
  {
   "cell_type": "markdown",
   "metadata": {},
   "source": [
    "**proteinAccession**: CURIE: [ncbiprotein](https://registry.identifiers.org/registry/ncbiprotein) (NCBI Reference Sequences, Refseq)\n",
    "\n",
    "**geneAccession**: CURIE: [ncbigene](https://registry.identifiers.org/registry/ncbigene (NCBI Gene)\n",
    "\n",
    "A [CURIE](https://en.wikipedia.org/wiki/CURIE) (Compact URI) is a compact abbreviation for Uniform Resource Identifiers (URIs) that can be resolved by [Identifiers.org](https://identifiers.org/)."
   ]
  },
  {
   "cell_type": "code",
   "execution_count": 16,
   "metadata": {},
   "outputs": [],
   "source": [
    "df['proteinAccession'] = 'ncbiprotein:' + df['protein_id'].apply(lambda s: s.split('.')[0])\n",
    "df['geneAccession'] = 'ncbigene:' + df['db_xref'].str.split(':', expand=True)[1]\n",
    "df.rename(columns={'gene': 'geneName', 'product': 'proteinName', 'start': 'geneStart', 'end': 'geneEnd'}, inplace=True)\n",
    "df.fillna('', inplace=True)"
   ]
  },
  {
   "cell_type": "code",
   "execution_count": 17,
   "metadata": {},
   "outputs": [
    {
     "data": {
      "text/html": [
       "<div>\n",
       "<style scoped>\n",
       "    .dataframe tbody tr th:only-of-type {\n",
       "        vertical-align: middle;\n",
       "    }\n",
       "\n",
       "    .dataframe tbody tr th {\n",
       "        vertical-align: top;\n",
       "    }\n",
       "\n",
       "    .dataframe thead th {\n",
       "        text-align: right;\n",
       "    }\n",
       "</style>\n",
       "<table border=\"1\" class=\"dataframe\">\n",
       "  <thead>\n",
       "    <tr style=\"text-align: right;\">\n",
       "      <th></th>\n",
       "      <th>geneStart</th>\n",
       "      <th>geneEnd</th>\n",
       "      <th>geneName</th>\n",
       "      <th>locus_tag</th>\n",
       "      <th>db_xref</th>\n",
       "      <th>proteinName</th>\n",
       "      <th>protein_id</th>\n",
       "      <th>fullLength</th>\n",
       "      <th>taxonomyId</th>\n",
       "      <th>genomeName</th>\n",
       "      <th>genbank_accession</th>\n",
       "      <th>sequence</th>\n",
       "      <th>id</th>\n",
       "      <th>proteinAccession</th>\n",
       "      <th>geneAccession</th>\n",
       "    </tr>\n",
       "  </thead>\n",
       "  <tbody>\n",
       "    <tr>\n",
       "      <th>0</th>\n",
       "      <td>266</td>\n",
       "      <td>21555</td>\n",
       "      <td>ORF1ab</td>\n",
       "      <td>GU280_gp01</td>\n",
       "      <td>GeneID:43740578</td>\n",
       "      <td>ORF1ab polyprotein</td>\n",
       "      <td>YP_009724389.1</td>\n",
       "      <td>True</td>\n",
       "      <td>taxon:2697049</td>\n",
       "      <td>Severe acute respiratory syndrome coronavirus ...</td>\n",
       "      <td>NC_045512</td>\n",
       "      <td>MESLVPGFNEKTHVQLSLPVLQVRDVLVRGFGDSVEEVLSEARQHL...</td>\n",
       "      <td>md5:e6608b50fcd6e004708a875615ddf2d9</td>\n",
       "      <td>ncbiprotein:YP_009724389</td>\n",
       "      <td>ncbigene:43740578</td>\n",
       "    </tr>\n",
       "    <tr>\n",
       "      <th>1</th>\n",
       "      <td>266</td>\n",
       "      <td>13483</td>\n",
       "      <td>ORF1ab</td>\n",
       "      <td>GU280_gp01</td>\n",
       "      <td>GeneID:43740578</td>\n",
       "      <td>ORF1a polyprotein</td>\n",
       "      <td>YP_009725295.1</td>\n",
       "      <td>True</td>\n",
       "      <td>taxon:2697049</td>\n",
       "      <td>Severe acute respiratory syndrome coronavirus ...</td>\n",
       "      <td>NC_045512</td>\n",
       "      <td>MESLVPGFNEKTHVQLSLPVLQVRDVLVRGFGDSVEEVLSEARQHL...</td>\n",
       "      <td>md5:e781b58591b8dbdd15f84dcbdec82105</td>\n",
       "      <td>ncbiprotein:YP_009725295</td>\n",
       "      <td>ncbigene:43740578</td>\n",
       "    </tr>\n",
       "    <tr>\n",
       "      <th>2</th>\n",
       "      <td>21563</td>\n",
       "      <td>25384</td>\n",
       "      <td>S</td>\n",
       "      <td>GU280_gp02</td>\n",
       "      <td>GeneID:43740568</td>\n",
       "      <td>surface glycoprotein</td>\n",
       "      <td>YP_009724390.1</td>\n",
       "      <td>True</td>\n",
       "      <td>taxon:2697049</td>\n",
       "      <td>Severe acute respiratory syndrome coronavirus ...</td>\n",
       "      <td>NC_045512</td>\n",
       "      <td>MFVFLVLLPLVSSQCVNLTTRTQLPPAYTNSFTRGVYYPDKVFRSS...</td>\n",
       "      <td>md5:4c35f09aac2f7be4f3cffd30c6aecac8</td>\n",
       "      <td>ncbiprotein:YP_009724390</td>\n",
       "      <td>ncbigene:43740568</td>\n",
       "    </tr>\n",
       "    <tr>\n",
       "      <th>3</th>\n",
       "      <td>25393</td>\n",
       "      <td>26220</td>\n",
       "      <td>ORF3a</td>\n",
       "      <td>GU280_gp03</td>\n",
       "      <td>GeneID:43740569</td>\n",
       "      <td>ORF3a protein</td>\n",
       "      <td>YP_009724391.1</td>\n",
       "      <td>True</td>\n",
       "      <td>taxon:2697049</td>\n",
       "      <td>Severe acute respiratory syndrome coronavirus ...</td>\n",
       "      <td>NC_045512</td>\n",
       "      <td>MDLFMRIFTIGTVTLKQGEIKDATPSDFVRATATIPIQASLPFGWL...</td>\n",
       "      <td>md5:f5c8b89ceac3f14e456577557df1ef40</td>\n",
       "      <td>ncbiprotein:YP_009724391</td>\n",
       "      <td>ncbigene:43740569</td>\n",
       "    </tr>\n",
       "    <tr>\n",
       "      <th>4</th>\n",
       "      <td>26245</td>\n",
       "      <td>26472</td>\n",
       "      <td>E</td>\n",
       "      <td>GU280_gp04</td>\n",
       "      <td>GeneID:43740570</td>\n",
       "      <td>envelope protein</td>\n",
       "      <td>YP_009724392.1</td>\n",
       "      <td>True</td>\n",
       "      <td>taxon:2697049</td>\n",
       "      <td>Severe acute respiratory syndrome coronavirus ...</td>\n",
       "      <td>NC_045512</td>\n",
       "      <td>MYSFVSEETGTLIVNSVLLFLAFVVFLLVTLAILTALRLCAYCCNI...</td>\n",
       "      <td>md5:375e0f905c315e06a99c80b736c125d2</td>\n",
       "      <td>ncbiprotein:YP_009724392</td>\n",
       "      <td>ncbigene:43740570</td>\n",
       "    </tr>\n",
       "  </tbody>\n",
       "</table>\n",
       "</div>"
      ],
      "text/plain": [
       "   geneStart  geneEnd geneName   locus_tag          db_xref  \\\n",
       "0        266    21555   ORF1ab  GU280_gp01  GeneID:43740578   \n",
       "1        266    13483   ORF1ab  GU280_gp01  GeneID:43740578   \n",
       "2      21563    25384        S  GU280_gp02  GeneID:43740568   \n",
       "3      25393    26220    ORF3a  GU280_gp03  GeneID:43740569   \n",
       "4      26245    26472        E  GU280_gp04  GeneID:43740570   \n",
       "\n",
       "            proteinName      protein_id fullLength     taxonomyId  \\\n",
       "0    ORF1ab polyprotein  YP_009724389.1       True  taxon:2697049   \n",
       "1     ORF1a polyprotein  YP_009725295.1       True  taxon:2697049   \n",
       "2  surface glycoprotein  YP_009724390.1       True  taxon:2697049   \n",
       "3         ORF3a protein  YP_009724391.1       True  taxon:2697049   \n",
       "4      envelope protein  YP_009724392.1       True  taxon:2697049   \n",
       "\n",
       "                                          genomeName genbank_accession  \\\n",
       "0  Severe acute respiratory syndrome coronavirus ...         NC_045512   \n",
       "1  Severe acute respiratory syndrome coronavirus ...         NC_045512   \n",
       "2  Severe acute respiratory syndrome coronavirus ...         NC_045512   \n",
       "3  Severe acute respiratory syndrome coronavirus ...         NC_045512   \n",
       "4  Severe acute respiratory syndrome coronavirus ...         NC_045512   \n",
       "\n",
       "                                            sequence  \\\n",
       "0  MESLVPGFNEKTHVQLSLPVLQVRDVLVRGFGDSVEEVLSEARQHL...   \n",
       "1  MESLVPGFNEKTHVQLSLPVLQVRDVLVRGFGDSVEEVLSEARQHL...   \n",
       "2  MFVFLVLLPLVSSQCVNLTTRTQLPPAYTNSFTRGVYYPDKVFRSS...   \n",
       "3  MDLFMRIFTIGTVTLKQGEIKDATPSDFVRATATIPIQASLPFGWL...   \n",
       "4  MYSFVSEETGTLIVNSVLLFLAFVVFLLVTLAILTALRLCAYCCNI...   \n",
       "\n",
       "                                     id          proteinAccession  \\\n",
       "0  md5:e6608b50fcd6e004708a875615ddf2d9  ncbiprotein:YP_009724389   \n",
       "1  md5:e781b58591b8dbdd15f84dcbdec82105  ncbiprotein:YP_009725295   \n",
       "2  md5:4c35f09aac2f7be4f3cffd30c6aecac8  ncbiprotein:YP_009724390   \n",
       "3  md5:f5c8b89ceac3f14e456577557df1ef40  ncbiprotein:YP_009724391   \n",
       "4  md5:375e0f905c315e06a99c80b736c125d2  ncbiprotein:YP_009724392   \n",
       "\n",
       "       geneAccession  \n",
       "0  ncbigene:43740578  \n",
       "1  ncbigene:43740578  \n",
       "2  ncbigene:43740568  \n",
       "3  ncbigene:43740569  \n",
       "4  ncbigene:43740570  "
      ]
     },
     "execution_count": 17,
     "metadata": {},
     "output_type": "execute_result"
    }
   ],
   "source": [
    "df.head()"
   ]
  },
  {
   "cell_type": "markdown",
   "metadata": {},
   "source": [
    "### Save data for Knowledge Graph Import"
   ]
  },
  {
   "cell_type": "code",
   "execution_count": 18,
   "metadata": {},
   "outputs": [
    {
     "data": {
      "text/html": [
       "<div>\n",
       "<style scoped>\n",
       "    .dataframe tbody tr th:only-of-type {\n",
       "        vertical-align: middle;\n",
       "    }\n",
       "\n",
       "    .dataframe tbody tr th {\n",
       "        vertical-align: top;\n",
       "    }\n",
       "\n",
       "    .dataframe thead th {\n",
       "        text-align: right;\n",
       "    }\n",
       "</style>\n",
       "<table border=\"1\" class=\"dataframe\">\n",
       "  <thead>\n",
       "    <tr style=\"text-align: right;\">\n",
       "      <th></th>\n",
       "      <th>id</th>\n",
       "      <th>geneName</th>\n",
       "      <th>geneStart</th>\n",
       "      <th>geneEnd</th>\n",
       "      <th>geneAccession</th>\n",
       "      <th>proteinAccession</th>\n",
       "      <th>proteinName</th>\n",
       "    </tr>\n",
       "  </thead>\n",
       "  <tbody>\n",
       "    <tr>\n",
       "      <th>0</th>\n",
       "      <td>md5:e6608b50fcd6e004708a875615ddf2d9</td>\n",
       "      <td>ORF1ab</td>\n",
       "      <td>266</td>\n",
       "      <td>21555</td>\n",
       "      <td>ncbigene:43740578</td>\n",
       "      <td>ncbiprotein:YP_009724389</td>\n",
       "      <td>ORF1ab polyprotein</td>\n",
       "    </tr>\n",
       "    <tr>\n",
       "      <th>1</th>\n",
       "      <td>md5:e781b58591b8dbdd15f84dcbdec82105</td>\n",
       "      <td>ORF1ab</td>\n",
       "      <td>266</td>\n",
       "      <td>13483</td>\n",
       "      <td>ncbigene:43740578</td>\n",
       "      <td>ncbiprotein:YP_009725295</td>\n",
       "      <td>ORF1a polyprotein</td>\n",
       "    </tr>\n",
       "    <tr>\n",
       "      <th>2</th>\n",
       "      <td>md5:4c35f09aac2f7be4f3cffd30c6aecac8</td>\n",
       "      <td>S</td>\n",
       "      <td>21563</td>\n",
       "      <td>25384</td>\n",
       "      <td>ncbigene:43740568</td>\n",
       "      <td>ncbiprotein:YP_009724390</td>\n",
       "      <td>surface glycoprotein</td>\n",
       "    </tr>\n",
       "    <tr>\n",
       "      <th>3</th>\n",
       "      <td>md5:f5c8b89ceac3f14e456577557df1ef40</td>\n",
       "      <td>ORF3a</td>\n",
       "      <td>25393</td>\n",
       "      <td>26220</td>\n",
       "      <td>ncbigene:43740569</td>\n",
       "      <td>ncbiprotein:YP_009724391</td>\n",
       "      <td>ORF3a protein</td>\n",
       "    </tr>\n",
       "    <tr>\n",
       "      <th>4</th>\n",
       "      <td>md5:375e0f905c315e06a99c80b736c125d2</td>\n",
       "      <td>E</td>\n",
       "      <td>26245</td>\n",
       "      <td>26472</td>\n",
       "      <td>ncbigene:43740570</td>\n",
       "      <td>ncbiprotein:YP_009724392</td>\n",
       "      <td>envelope protein</td>\n",
       "    </tr>\n",
       "  </tbody>\n",
       "</table>\n",
       "</div>"
      ],
      "text/plain": [
       "                                     id geneName  geneStart  geneEnd  \\\n",
       "0  md5:e6608b50fcd6e004708a875615ddf2d9   ORF1ab        266    21555   \n",
       "1  md5:e781b58591b8dbdd15f84dcbdec82105   ORF1ab        266    13483   \n",
       "2  md5:4c35f09aac2f7be4f3cffd30c6aecac8        S      21563    25384   \n",
       "3  md5:f5c8b89ceac3f14e456577557df1ef40    ORF3a      25393    26220   \n",
       "4  md5:375e0f905c315e06a99c80b736c125d2        E      26245    26472   \n",
       "\n",
       "       geneAccession          proteinAccession           proteinName  \n",
       "0  ncbigene:43740578  ncbiprotein:YP_009724389    ORF1ab polyprotein  \n",
       "1  ncbigene:43740578  ncbiprotein:YP_009725295     ORF1a polyprotein  \n",
       "2  ncbigene:43740568  ncbiprotein:YP_009724390  surface glycoprotein  \n",
       "3  ncbigene:43740569  ncbiprotein:YP_009724391         ORF3a protein  \n",
       "4  ncbigene:43740570  ncbiprotein:YP_009724392      envelope protein  "
      ]
     },
     "execution_count": 18,
     "metadata": {},
     "output_type": "execute_result"
    }
   ],
   "source": [
    "df = df[['id', 'geneName', 'geneStart', 'geneEnd', 'geneAccession', 'proteinAccession', 'proteinName']]\n",
    "df.head()"
   ]
  },
  {
   "cell_type": "code",
   "execution_count": 19,
   "metadata": {},
   "outputs": [],
   "source": [
    "df.to_csv(NEO4J_IMPORT / \"01b-NCBIGeneProtein.csv\", index=False)"
   ]
  }
 ],
 "metadata": {
  "kernelspec": {
   "display_name": "Python 3",
   "language": "python",
   "name": "python3"
  },
  "language_info": {
   "codemirror_mode": {
    "name": "ipython",
    "version": 3
   },
   "file_extension": ".py",
   "mimetype": "text/x-python",
   "name": "python",
   "nbconvert_exporter": "python",
   "pygments_lexer": "ipython3",
   "version": "3.7.8"
  }
 },
 "nbformat": 4,
 "nbformat_minor": 4
}

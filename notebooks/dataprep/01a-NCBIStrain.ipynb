{
 "cells": [
  {
   "cell_type": "markdown",
   "metadata": {},
   "source": [
    "# Viral Genome Data from NCBI\n",
    "**[Work in progress]**\n",
    "\n",
    "This notebook downloads and standardizes viral genome data from NCBI for ingestion into the Knowledge Graph.\n",
    "\n",
    "Data source: [NCBI](https://www.ncbi.nlm.nih.gov)\n",
    "\n",
    "Author: Peter Rose (pwrose@ucsd.edu)"
   ]
  },
  {
   "cell_type": "code",
   "execution_count": 1,
   "metadata": {},
   "outputs": [],
   "source": [
    "import os\n",
    "import pandas as pd\n",
    "import dateutil\n",
    "from pathlib import Path\n",
    "from Bio import SeqIO\n",
    "from Bio import Entrez\n",
    "Entrez.email = \"covid19@mybinder.org\""
   ]
  },
  {
   "cell_type": "code",
   "execution_count": 2,
   "metadata": {},
   "outputs": [],
   "source": [
    "pd.options.display.max_rows = None  # display all rows\n",
    "pd.options.display.max_columns = None  # display all columsns"
   ]
  },
  {
   "cell_type": "code",
   "execution_count": 3,
   "metadata": {},
   "outputs": [
    {
     "name": "stdout",
     "output_type": "stream",
     "text": [
      "/Users/peter/Library/Application Support/Neo4j Desktop/Application/neo4jDatabases/database-4af96121-2328-4e2f-ba60-6d8b728a26d5/installation-4.0.3\n"
     ]
    }
   ],
   "source": [
    "NEO4J_HOME = Path(os.getenv('NEO4J_HOME'))\n",
    "print(NEO4J_HOME)"
   ]
  },
  {
   "cell_type": "markdown",
   "metadata": {},
   "source": [
    "### NCBI Data Source\n",
    "[NCBI Severe acute respiratory syndrome coronavirus 2 data hub](https://www.ncbi.nlm.nih.gov/labs/virus/vssi/#/virus?SeqType_s=Nucleotide&VirusLineage_ss=Severe%20acute%20respiratory%20syndrome%20coronavirus%202,%20taxid:2697049)"
   ]
  },
  {
   "cell_type": "code",
   "execution_count": 4,
   "metadata": {},
   "outputs": [],
   "source": [
    "# constants used to generate fasta url: \n",
    "# \"https://www.ncbi.nlm.nih.gov/nuccore/{genbank_accession}/?report=fasta\"\n",
    "\n",
    "ncbi_nuccore_url = \"https://www.ncbi.nlm.nih.gov/nuccore/\"\n",
    "fasta_format = \"/?report=fasta\""
   ]
  },
  {
   "cell_type": "markdown",
   "metadata": {},
   "source": [
    "### Download viral genome information"
   ]
  },
  {
   "cell_type": "code",
   "execution_count": 5,
   "metadata": {},
   "outputs": [],
   "source": [
    "# TODO loop over a list of taxonomy ids. \n",
    "\n",
    "# for now SARS-CoV-2 is hardcoded.\n",
    "tax_id = \"2697049\" # SARS-CoV-2, NC_045512\n",
    "#tax_id = \"694009\" # SARS, NC_004718\n",
    "#tax_id = \"1335626\" # MERS-CoV, NC_019843\n",
    "#tax_id = \"333387\" # Bat SARS coronavirus HKU3-1\n",
    "#tax_id = \"147711\" # Rhinovirus A\n",
    "#tax_id = \"147712\" # Rhinovirus B\n",
    "#tax_id = \"186538\" # Zaire ebolavirus, NC_002549\n",
    "\n",
    "#term = f\"txid{tax_id}[Organism]+refseq[filter]\" # format for reference sequences only"
   ]
  },
  {
   "cell_type": "markdown",
   "metadata": {},
   "source": [
    "### Download nucleotide accession numbers for the given taxonomy id"
   ]
  },
  {
   "cell_type": "code",
   "execution_count": 6,
   "metadata": {},
   "outputs": [
    {
     "name": "stdout",
     "output_type": "stream",
     "text": [
      "Nucleotides: 1\n"
     ]
    }
   ],
   "source": [
    "#term = f\"txid{tax_id}[Organism]\"\n",
    "term = f\"txid{tax_id}[Organism]+refseq[filter]\"\n",
    "handle = Entrez.esearch(db=\"nucleotide\", retmax=5000, term=term, idtype=\"acc\")\n",
    "nuc_accessions = Entrez.read(handle)\n",
    "handle.close()\n",
    "print(\"Nucleotides:\", nuc_accessions['Count'])"
   ]
  },
  {
   "cell_type": "code",
   "execution_count": 7,
   "metadata": {},
   "outputs": [],
   "source": [
    "# TODO refactor function into a separate .py file\n",
    "def extract_genbank_features(gb_record, feature_type, qualifier_list) :\n",
    "    answers = list()\n",
    "    for (index, feature) in enumerate(gb_record.features) :\n",
    "        answer = dict()\n",
    "        if feature.type==feature_type :\n",
    "            for qualifier in qualifier_list:\n",
    "                if qualifier in feature.qualifiers :\n",
    "                    #print(feature, feature.qualifiers)\n",
    "                    # keep NCBI \"1\"-based indexing\n",
    "                    answer['start'] = min(feature.location) + 1\n",
    "                    answer['end'] = max(feature.location) + 1\n",
    "                    #There should only be one locus_tag per feature, but there\n",
    "                    #are usually several db_xref entries\n",
    "                    for value in feature.qualifiers[qualifier] :\n",
    "                        if value in answer :\n",
    "                                print(\"WARNING - Duplicate key %s for %s features %i and %i\" \\\n",
    "                                % (value, feature_type, answer[value], index))\n",
    "                        else :\n",
    "                            answer[qualifier] = value\n",
    "                else:\n",
    "                    answer[qualifier] = ''\n",
    "            answers.append(answer)\n",
    "    return answers"
   ]
  },
  {
   "cell_type": "code",
   "execution_count": 8,
   "metadata": {},
   "outputs": [],
   "source": [
    "def process_nucleotide_record(accession):\n",
    "    with Entrez.efetch(db=\"nucleotide\", rettype=\"gb\", retmode=\"text\", id=accession) as handle:\n",
    "        record = SeqIO.read(handle, \"gb\")\n",
    "    # TODO cache genbank files in a temporary directory, so they don't need to be downloaded from scratch\n",
    "    # every time this notebook is run\n",
    "    source = extract_genbank_features(record, 'source', ['db_xref','host','isolate','isolation_source','mol_type','collection_date','country'])   \n",
    "    source_df = pd.DataFrame(source)\n",
    "    source_df['genbank_accession'] = accession\n",
    "    source_df['complete'] = record.description.endswith('complete genome')\n",
    "    \n",
    "    return source_df"
   ]
  },
  {
   "cell_type": "markdown",
   "metadata": {},
   "source": [
    "### Concatenate all Genbank dataframes"
   ]
  },
  {
   "cell_type": "code",
   "execution_count": 9,
   "metadata": {},
   "outputs": [
    {
     "name": "stdout",
     "output_type": "stream",
     "text": [
      "NC_045512.2 "
     ]
    }
   ],
   "source": [
    "nuc_ids = nuc_accessions['IdList']\n",
    "#nuc_ids.append('NC_045512') # SARS-CoV-2 refseq is missing from list (why??). Add it back.\n",
    "df_list = []\n",
    "\n",
    "for nuc in nuc_ids:\n",
    "    print(nuc, end=' ')\n",
    "    df_list.append(process_nucleotide_record(nuc))\n",
    "    \n",
    "df1 = pd.concat(df_list)"
   ]
  },
  {
   "cell_type": "markdown",
   "metadata": {},
   "source": [
    "Let's work on a copy of the original data"
   ]
  },
  {
   "cell_type": "code",
   "execution_count": 10,
   "metadata": {},
   "outputs": [
    {
     "data": {
      "text/html": [
       "<div>\n",
       "<style scoped>\n",
       "    .dataframe tbody tr th:only-of-type {\n",
       "        vertical-align: middle;\n",
       "    }\n",
       "\n",
       "    .dataframe tbody tr th {\n",
       "        vertical-align: top;\n",
       "    }\n",
       "\n",
       "    .dataframe thead th {\n",
       "        text-align: right;\n",
       "    }\n",
       "</style>\n",
       "<table border=\"1\" class=\"dataframe\">\n",
       "  <thead>\n",
       "    <tr style=\"text-align: right;\">\n",
       "      <th></th>\n",
       "      <th>start</th>\n",
       "      <th>end</th>\n",
       "      <th>db_xref</th>\n",
       "      <th>host</th>\n",
       "      <th>isolate</th>\n",
       "      <th>isolation_source</th>\n",
       "      <th>mol_type</th>\n",
       "      <th>collection_date</th>\n",
       "      <th>country</th>\n",
       "      <th>genbank_accession</th>\n",
       "      <th>complete</th>\n",
       "    </tr>\n",
       "  </thead>\n",
       "  <tbody>\n",
       "    <tr>\n",
       "      <th>0</th>\n",
       "      <td>1</td>\n",
       "      <td>29903</td>\n",
       "      <td>taxon:2697049</td>\n",
       "      <td>Homo sapiens</td>\n",
       "      <td>Wuhan-Hu-1</td>\n",
       "      <td></td>\n",
       "      <td>genomic RNA</td>\n",
       "      <td>Dec-2019</td>\n",
       "      <td>China</td>\n",
       "      <td>NC_045512.2</td>\n",
       "      <td>True</td>\n",
       "    </tr>\n",
       "  </tbody>\n",
       "</table>\n",
       "</div>"
      ],
      "text/plain": [
       "   start    end        db_xref          host     isolate isolation_source  \\\n",
       "0      1  29903  taxon:2697049  Homo sapiens  Wuhan-Hu-1                    \n",
       "\n",
       "      mol_type collection_date country genbank_accession  complete  \n",
       "0  genomic RNA        Dec-2019   China       NC_045512.2      True  "
      ]
     },
     "execution_count": 10,
     "metadata": {},
     "output_type": "execute_result"
    }
   ],
   "source": [
    "df = df1.copy()\n",
    "df1.head()"
   ]
  },
  {
   "cell_type": "markdown",
   "metadata": {},
   "source": [
    "### Filter out incomplete records"
   ]
  },
  {
   "cell_type": "code",
   "execution_count": 11,
   "metadata": {},
   "outputs": [],
   "source": [
    "# incomplete genomes\n",
    "df.query('complete', inplace=True)"
   ]
  },
  {
   "cell_type": "code",
   "execution_count": 12,
   "metadata": {},
   "outputs": [],
   "source": [
    "# filter out any records that don't match the tax id, \n",
    "# e.g., tax_ids from organisms that are lower in the taxonomy tree.\n",
    "df.query(f\"db_xref == 'taxon:{tax_id}'\", inplace=True)"
   ]
  },
  {
   "cell_type": "code",
   "execution_count": 13,
   "metadata": {},
   "outputs": [
    {
     "data": {
      "text/html": [
       "<div>\n",
       "<style scoped>\n",
       "    .dataframe tbody tr th:only-of-type {\n",
       "        vertical-align: middle;\n",
       "    }\n",
       "\n",
       "    .dataframe tbody tr th {\n",
       "        vertical-align: top;\n",
       "    }\n",
       "\n",
       "    .dataframe thead th {\n",
       "        text-align: right;\n",
       "    }\n",
       "</style>\n",
       "<table border=\"1\" class=\"dataframe\">\n",
       "  <thead>\n",
       "    <tr style=\"text-align: right;\">\n",
       "      <th></th>\n",
       "      <th>start</th>\n",
       "      <th>end</th>\n",
       "      <th>db_xref</th>\n",
       "      <th>host</th>\n",
       "      <th>isolate</th>\n",
       "      <th>isolation_source</th>\n",
       "      <th>mol_type</th>\n",
       "      <th>collection_date</th>\n",
       "      <th>country</th>\n",
       "      <th>genbank_accession</th>\n",
       "      <th>complete</th>\n",
       "    </tr>\n",
       "  </thead>\n",
       "  <tbody>\n",
       "    <tr>\n",
       "      <th>0</th>\n",
       "      <td>1</td>\n",
       "      <td>29903</td>\n",
       "      <td>taxon:2697049</td>\n",
       "      <td>Homo sapiens</td>\n",
       "      <td>Wuhan-Hu-1</td>\n",
       "      <td></td>\n",
       "      <td>genomic RNA</td>\n",
       "      <td>Dec-2019</td>\n",
       "      <td>China</td>\n",
       "      <td>NC_045512.2</td>\n",
       "      <td>True</td>\n",
       "    </tr>\n",
       "  </tbody>\n",
       "</table>\n",
       "</div>"
      ],
      "text/plain": [
       "   start    end        db_xref          host     isolate isolation_source  \\\n",
       "0      1  29903  taxon:2697049  Homo sapiens  Wuhan-Hu-1                    \n",
       "\n",
       "      mol_type collection_date country genbank_accession  complete  \n",
       "0  genomic RNA        Dec-2019   China       NC_045512.2      True  "
      ]
     },
     "execution_count": 13,
     "metadata": {},
     "output_type": "execute_result"
    }
   ],
   "source": [
    "df.head()"
   ]
  },
  {
   "cell_type": "markdown",
   "metadata": {},
   "source": [
    "### Create unique and interoperable identifiers"
   ]
  },
  {
   "cell_type": "markdown",
   "metadata": {},
   "source": [
    "**id**: CURIE: [insdc](https://registry.identifiers.org/registry/insdc) (International Nucleotide Sequence Database Collaboration, INSDC)\n",
    "\n",
    "**id**: CURIE: [ncbiprotein](https://registry.identifiers.org/registry/ncbiprotein) (NCBI Reference Sequences, Refseq)\n",
    "\n",
    "**taxonomy_id**: CURIE: [taxonomy](https://registry.identifiers.org/registry/taxonomy) (NCBI Taxonomy)\n",
    "\n",
    "A [CURIE](https://en.wikipedia.org/wiki/CURIE) (Compact URI) is a compact abbreviation for Uniform Resource Identifiers (URIs) that can be resolved by [Identifiers.org](https://identifiers.org/)."
   ]
  },
  {
   "cell_type": "code",
   "execution_count": 14,
   "metadata": {},
   "outputs": [],
   "source": [
    "# remove version number from genbank accession to enable linking with other nodes\n",
    "df['id'] = \"insdc:\" + df['genbank_accession'].apply(lambda s: s.split('.')[0])\n",
    "# # NCBI reference sequences resolve through the ncbiprotein CURIE\n",
    "df['id'] = df['id'].str.replace('insdc:NC_', 'ncbiprotein:NC_')"
   ]
  },
  {
   "cell_type": "code",
   "execution_count": 15,
   "metadata": {},
   "outputs": [],
   "source": [
    "# parse taxonomy_id from db_xref record\n",
    "df['taxonomy_id'] = 'taxonomy:' + df['db_xref'].str.split(':', expand=True)[1]\n",
    "df.rename(columns={'isolate': 'name'}, inplace=True)"
   ]
  },
  {
   "cell_type": "markdown",
   "metadata": {},
   "source": [
    "### Standardize data"
   ]
  },
  {
   "cell_type": "code",
   "execution_count": 16,
   "metadata": {},
   "outputs": [],
   "source": [
    "# TODO: date standardization introduces artifacts, e.g. Dec 2019 -> 2019-12-01\n",
    "# Add column that specifies time granularity: Y, M, D\n",
    "df['collection_date'] = df['collection_date'].apply(lambda d: dateutil.parser.parse(d) if len(d) > 0 else '')"
   ]
  },
  {
   "cell_type": "markdown",
   "metadata": {},
   "source": [
    "Standardize host organism and demographics"
   ]
  },
  {
   "cell_type": "code",
   "execution_count": 17,
   "metadata": {},
   "outputs": [],
   "source": [
    "# TODO a find general solution to map host name to NCBI taxonomy**\n",
    "\n",
    "# some organism specifications are ambiguous, \n",
    "# they don't match a specificn NCBI taxonomy\n",
    "\n",
    "taxonomy_to_id = {'Human': '9606', \n",
    "                  'Homo sapiens': '9606',\n",
    "                  'Rhinolophus affinis': '59477', \n",
    "                  'Mustela lutreola': '9666',\n",
    "                  'Panthera tigris jacksoni': '419130',\n",
    "                  'Rhinolophus sp. (bat)': '49442', # ambiguous\n",
    "                  'bat': 'taxonomy:49442', # ambiguous\n",
    "                  'Manis javanica': '9974',\n",
    "                  'palm civet': '71116', # ambiguous\n",
    "                  'Canine': '9608' # ambiguous\n",
    "                 }"
   ]
  },
  {
   "cell_type": "markdown",
   "metadata": {},
   "source": [
    "Split host record into host, sex, and age (e.g., Homo sapiens; female; age 40 -> Homo sapiens, female, 40)"
   ]
  },
  {
   "cell_type": "code",
   "execution_count": 18,
   "metadata": {},
   "outputs": [],
   "source": [
    "# add placeholders in case the host record is empty to enbable 3-way split\n",
    "#df['host'] = df['host'].apply(lambda s: ' ; ; ' if len(s) < 1 else s)\n",
    "df['host'] = df['host'].apply(lambda s: s + ' ; ; ' if s.count(';') < 1 else s)\n",
    "df['host'] = df['host'].str.replace('age','')\n",
    "df[['host','sex','age']] = df['host'].str.split(';', 2, expand=True)\n",
    "df['host'] = df['host'].str.strip()\n",
    "\n",
    "# assign taxonomy id to host\n",
    "df['host_taxonomy_id'] = 'taxonomy:' + df['host'].apply(lambda s: taxonomy_to_id.get(s, ''))\n",
    "df['sex'] = df['sex'].str.strip()\n",
    "df['age'] = df['age'].str.strip()\n",
    "df = df.fillna('')"
   ]
  },
  {
   "cell_type": "markdown",
   "metadata": {},
   "source": [
    "### List entries where taxonomy cannot be assigned"
   ]
  },
  {
   "cell_type": "code",
   "execution_count": 19,
   "metadata": {},
   "outputs": [
    {
     "data": {
      "text/html": [
       "<div>\n",
       "<style scoped>\n",
       "    .dataframe tbody tr th:only-of-type {\n",
       "        vertical-align: middle;\n",
       "    }\n",
       "\n",
       "    .dataframe tbody tr th {\n",
       "        vertical-align: top;\n",
       "    }\n",
       "\n",
       "    .dataframe thead th {\n",
       "        text-align: right;\n",
       "    }\n",
       "</style>\n",
       "<table border=\"1\" class=\"dataframe\">\n",
       "  <thead>\n",
       "    <tr style=\"text-align: right;\">\n",
       "      <th></th>\n",
       "      <th>start</th>\n",
       "      <th>end</th>\n",
       "      <th>db_xref</th>\n",
       "      <th>host</th>\n",
       "      <th>name</th>\n",
       "      <th>isolation_source</th>\n",
       "      <th>mol_type</th>\n",
       "      <th>collection_date</th>\n",
       "      <th>country</th>\n",
       "      <th>genbank_accession</th>\n",
       "      <th>complete</th>\n",
       "      <th>id</th>\n",
       "      <th>taxonomy_id</th>\n",
       "      <th>sex</th>\n",
       "      <th>age</th>\n",
       "      <th>host_taxonomy_id</th>\n",
       "    </tr>\n",
       "  </thead>\n",
       "  <tbody>\n",
       "  </tbody>\n",
       "</table>\n",
       "</div>"
      ],
      "text/plain": [
       "Empty DataFrame\n",
       "Columns: [start, end, db_xref, host, name, isolation_source, mol_type, collection_date, country, genbank_accession, complete, id, taxonomy_id, sex, age, host_taxonomy_id]\n",
       "Index: []"
      ]
     },
     "execution_count": 19,
     "metadata": {},
     "output_type": "execute_result"
    }
   ],
   "source": [
    "df.query(\"host_taxonomy_id == 'taxonomy:'\")"
   ]
  },
  {
   "cell_type": "code",
   "execution_count": 20,
   "metadata": {},
   "outputs": [
    {
     "data": {
      "text/html": [
       "<div>\n",
       "<style scoped>\n",
       "    .dataframe tbody tr th:only-of-type {\n",
       "        vertical-align: middle;\n",
       "    }\n",
       "\n",
       "    .dataframe tbody tr th {\n",
       "        vertical-align: top;\n",
       "    }\n",
       "\n",
       "    .dataframe thead th {\n",
       "        text-align: right;\n",
       "    }\n",
       "</style>\n",
       "<table border=\"1\" class=\"dataframe\">\n",
       "  <thead>\n",
       "    <tr style=\"text-align: right;\">\n",
       "      <th></th>\n",
       "      <th>start</th>\n",
       "      <th>end</th>\n",
       "      <th>db_xref</th>\n",
       "      <th>host</th>\n",
       "      <th>name</th>\n",
       "      <th>isolation_source</th>\n",
       "      <th>mol_type</th>\n",
       "      <th>collection_date</th>\n",
       "      <th>country</th>\n",
       "      <th>genbank_accession</th>\n",
       "      <th>complete</th>\n",
       "      <th>id</th>\n",
       "      <th>taxonomy_id</th>\n",
       "      <th>sex</th>\n",
       "      <th>age</th>\n",
       "      <th>host_taxonomy_id</th>\n",
       "    </tr>\n",
       "  </thead>\n",
       "  <tbody>\n",
       "    <tr>\n",
       "      <th>0</th>\n",
       "      <td>1</td>\n",
       "      <td>29903</td>\n",
       "      <td>taxon:2697049</td>\n",
       "      <td>Homo sapiens</td>\n",
       "      <td>Wuhan-Hu-1</td>\n",
       "      <td></td>\n",
       "      <td>genomic RNA</td>\n",
       "      <td>2019-12-08</td>\n",
       "      <td>China</td>\n",
       "      <td>NC_045512.2</td>\n",
       "      <td>True</td>\n",
       "      <td>ncbiprotein:NC_045512</td>\n",
       "      <td>taxonomy:2697049</td>\n",
       "      <td></td>\n",
       "      <td></td>\n",
       "      <td>taxonomy:9606</td>\n",
       "    </tr>\n",
       "  </tbody>\n",
       "</table>\n",
       "</div>"
      ],
      "text/plain": [
       "   start    end        db_xref          host        name isolation_source  \\\n",
       "0      1  29903  taxon:2697049  Homo sapiens  Wuhan-Hu-1                    \n",
       "\n",
       "      mol_type collection_date country genbank_accession  complete  \\\n",
       "0  genomic RNA      2019-12-08   China       NC_045512.2      True   \n",
       "\n",
       "                      id       taxonomy_id sex age host_taxonomy_id  \n",
       "0  ncbiprotein:NC_045512  taxonomy:2697049            taxonomy:9606  "
      ]
     },
     "execution_count": 20,
     "metadata": {},
     "output_type": "execute_result"
    }
   ],
   "source": [
    "df.head()"
   ]
  },
  {
   "cell_type": "markdown",
   "metadata": {},
   "source": [
    "### Assign locations\n",
    "**TODO replace this section with a general geoparsing solution**"
   ]
  },
  {
   "cell_type": "markdown",
   "metadata": {},
   "source": [
    "Fix inconsistencies and add missing location data"
   ]
  },
  {
   "cell_type": "code",
   "execution_count": 21,
   "metadata": {},
   "outputs": [],
   "source": [
    "locations = {\n",
    "    'India: Kerala State': 'India: Kerala',\n",
    "    'USA: Snohomish County, WA': 'USA: WA, Snohomish County',\n",
    "    'USA: San Francisco, CA': 'USA: CA, San Francisco',\n",
    "    'USA: Nashville, TN': 'USA: TN, Nashville',\n",
    "    'Canada: Toronto': 'Canada: Ontario, Toronto',\n",
    "    'China: Shenzhen': 'China: Guangdong, Shenzhen',\n",
    "    'China: Hangzhou': 'China: Zhejiang, Hangzhou',\n",
    "    'China: Wuhan': 'China: Hubei, Wuhan',\n",
    "    'Italy: Cagliari': 'Italy: Sardinia, Cagliari',\n",
    "    'Viet Nam: Ho Chi Minh city': 'Vietnam: Ho Chi Minh City'\n",
    "}\n",
    "df['country'] = df['country'].apply(lambda s: locations.get(s, s))"
   ]
  },
  {
   "cell_type": "code",
   "execution_count": 22,
   "metadata": {},
   "outputs": [],
   "source": [
    "states = {\n",
    "        # US\n",
    "        'AK': 'Alaska',\n",
    "        'AL': 'Alabama',\n",
    "        'AR': 'Arkansas',\n",
    "        'AS': 'American Samoa',\n",
    "        'AZ': 'Arizona',\n",
    "        'CA': 'California',\n",
    "        'CO': 'Colorado',\n",
    "        'CT': 'Connecticut',\n",
    "        'DC': 'District of Columbia',\n",
    "        'DE': 'Delaware',\n",
    "        'FL': 'Florida',\n",
    "        'GA': 'Georgia',\n",
    "        'GU': 'Guam',\n",
    "        'HI': 'Hawaii',\n",
    "        'IA': 'Iowa',\n",
    "        'ID': 'Idaho',\n",
    "        'IL': 'Illinois',\n",
    "        'IN': 'Indiana',\n",
    "        'KS': 'Kansas',\n",
    "        'KY': 'Kentucky',\n",
    "        'LA': 'Louisiana',\n",
    "        'MA': 'Massachusetts',\n",
    "        'MD': 'Maryland',\n",
    "        'ME': 'Maine',\n",
    "        'MI': 'Michigan',\n",
    "        'MN': 'Minnesota',\n",
    "        'MO': 'Missouri',\n",
    "        'MP': 'Northern Mariana Islands',\n",
    "        'MS': 'Mississippi',\n",
    "        'MT': 'Montana',\n",
    "        'NA': 'National',\n",
    "        'NC': 'North Carolina',\n",
    "        'ND': 'North Dakota',\n",
    "        'NE': 'Nebraska',\n",
    "        'NH': 'New Hampshire',\n",
    "        'NJ': 'New Jersey',\n",
    "        'NM': 'New Mexico',\n",
    "        'NV': 'Nevada',\n",
    "        'NY': 'New York',\n",
    "        'OH': 'Ohio',\n",
    "        'OK': 'Oklahoma',\n",
    "        'OR': 'Oregon',\n",
    "        'PA': 'Pennsylvania',\n",
    "        'PR': 'Puerto Rico',\n",
    "        'RI': 'Rhode Island',\n",
    "        'SC': 'South Carolina',\n",
    "        'SD': 'South Dakota',\n",
    "        'TN': 'Tennessee',\n",
    "        'TX': 'Texas',\n",
    "        'UT': 'Utah',\n",
    "        'VA': 'Virginia',\n",
    "        'VI': 'Virgin Islands',\n",
    "        'VT': 'Vermont',\n",
    "        'WA': 'Washington',\n",
    "        'WI': 'Wisconsin',\n",
    "        'WV': 'West Virginia',\n",
    "        'WY': 'Wyoming',\n",
    "        # Canada\n",
    "        'AB': 'Alberta',\n",
    "        'BC': 'British Columbia',\n",
    "        'MB': 'Manitoba',\n",
    "        'NB': 'New Brunswick',\n",
    "        'NL': 'Newfoundland and Labrador',\n",
    "        'NT': 'Northwest Territories',\n",
    "        'NS': 'Nova Scotia',\n",
    "        'NU': 'Nunavut',\n",
    "        'ON': 'Ontario',\n",
    "        'PE': 'Prince Edward Island',\n",
    "        'QC': 'Quebec',\n",
    "        'SK': 'Saskatchewan',\n",
    "        'YT': 'Yukon'\n",
    "}"
   ]
  },
  {
   "cell_type": "markdown",
   "metadata": {},
   "source": [
    "Split country records into administrative areas"
   ]
  },
  {
   "cell_type": "code",
   "execution_count": 23,
   "metadata": {},
   "outputs": [],
   "source": [
    "# add placeholders in case the country record is incomplete to enable 3-way split below\n",
    "df['country'] = df['country'].apply(lambda s: s if ':' in s else s + ': , ')\n",
    "df[['country','admin1','admin2']] = df['country'].str.split(':|,', 2, expand=True)\n",
    "df['country'] = df['country'].str.strip()\n",
    "df['admin2'] = df['admin2'].str.strip()\n",
    "df['admin1'] = df['admin1'].str.strip()\n",
    "\n",
    "# # expand states to full name\n",
    "df['admin1'] = df['admin1'].apply(lambda s: states.get(s, s))\n",
    "# create a unique ids\n",
    "# TODO use unique ids from Geonames.org\n",
    "df['country_id'] = df['country']\n",
    "df['admin1_id'] = df['country'] + '-' + df['admin1']\n",
    "df['admin2_id'] = df['country'] + '-' + df['admin1'] + '-' + df['admin2']\n",
    "\n",
    "df.fillna(value='', inplace = True)"
   ]
  },
  {
   "cell_type": "markdown",
   "metadata": {},
   "source": [
    "### Save data for Knowledge Graph Import"
   ]
  },
  {
   "cell_type": "code",
   "execution_count": 24,
   "metadata": {},
   "outputs": [
    {
     "data": {
      "text/html": [
       "<div>\n",
       "<style scoped>\n",
       "    .dataframe tbody tr th:only-of-type {\n",
       "        vertical-align: middle;\n",
       "    }\n",
       "\n",
       "    .dataframe tbody tr th {\n",
       "        vertical-align: top;\n",
       "    }\n",
       "\n",
       "    .dataframe thead th {\n",
       "        text-align: right;\n",
       "    }\n",
       "</style>\n",
       "<table border=\"1\" class=\"dataframe\">\n",
       "  <thead>\n",
       "    <tr style=\"text-align: right;\">\n",
       "      <th></th>\n",
       "      <th>id</th>\n",
       "      <th>name</th>\n",
       "      <th>taxonomy_id</th>\n",
       "      <th>collection_date</th>\n",
       "      <th>host_taxonomy_id</th>\n",
       "      <th>sex</th>\n",
       "      <th>age</th>\n",
       "      <th>isolation_source</th>\n",
       "    </tr>\n",
       "  </thead>\n",
       "  <tbody>\n",
       "    <tr>\n",
       "      <th>0</th>\n",
       "      <td>ncbiprotein:NC_045512</td>\n",
       "      <td>Wuhan-Hu-1</td>\n",
       "      <td>taxonomy:2697049</td>\n",
       "      <td>2019-12-08</td>\n",
       "      <td>taxonomy:9606</td>\n",
       "      <td></td>\n",
       "      <td></td>\n",
       "      <td></td>\n",
       "    </tr>\n",
       "  </tbody>\n",
       "</table>\n",
       "</div>"
      ],
      "text/plain": [
       "                      id        name       taxonomy_id collection_date  \\\n",
       "0  ncbiprotein:NC_045512  Wuhan-Hu-1  taxonomy:2697049      2019-12-08   \n",
       "\n",
       "  host_taxonomy_id sex age isolation_source  \n",
       "0    taxonomy:9606                           "
      ]
     },
     "execution_count": 24,
     "metadata": {},
     "output_type": "execute_result"
    }
   ],
   "source": [
    "df = df[['id','name', 'taxonomy_id', 'collection_date', 'host_taxonomy_id',\n",
    "         'sex', 'age', 'isolation_source']]\n",
    "df.head()"
   ]
  },
  {
   "cell_type": "code",
   "execution_count": 25,
   "metadata": {},
   "outputs": [],
   "source": [
    "df.to_csv(NEO4J_HOME / \"import/01a-NCBIStrain.csv\", index=False)"
   ]
  }
 ],
 "metadata": {
  "kernelspec": {
   "display_name": "Python 3",
   "language": "python",
   "name": "python3"
  },
  "language_info": {
   "codemirror_mode": {
    "name": "ipython",
    "version": 3
   },
   "file_extension": ".py",
   "mimetype": "text/x-python",
   "name": "python",
   "nbconvert_exporter": "python",
   "pygments_lexer": "ipython3",
   "version": "3.8.3"
  }
 },
 "nbformat": 4,
 "nbformat_minor": 4
}

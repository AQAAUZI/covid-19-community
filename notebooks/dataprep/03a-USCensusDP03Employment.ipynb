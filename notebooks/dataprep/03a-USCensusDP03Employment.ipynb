{
 "cells": [
  {
   "cell_type": "markdown",
   "metadata": {},
   "source": [
    "# Selected Economic Characteristics: Employment Status from the American Community Survey\n",
    "\n",
    "**[Work in progress]**\n",
    "\n",
    "This notebook downloads [selected economic characteristics (DP03)](https://data.census.gov/cedsci/table?tid=ACSDP5Y2018.DP03) from the American Community Survey 2018 5-Year Data.\n",
    "\n",
    "Data source: [American Community Survey 5-Year Data 2018](https://www.census.gov/data/developers/data-sets/acs-5year.html)\n",
    "\n",
    "Authors: Peter Rose (pwrose@ucsd.edu), Ilya Zaslavsky (zaslavsk@sdsc.edu)"
   ]
  },
  {
   "cell_type": "code",
   "execution_count": 1,
   "metadata": {},
   "outputs": [],
   "source": [
    "import os\n",
    "import pandas as pd\n",
    "from pathlib import Path\n",
    "import time"
   ]
  },
  {
   "cell_type": "code",
   "execution_count": 2,
   "metadata": {},
   "outputs": [],
   "source": [
    "pd.options.display.max_rows = None  # display all rows\n",
    "pd.options.display.max_columns = None  # display all columsns"
   ]
  },
  {
   "cell_type": "code",
   "execution_count": 3,
   "metadata": {},
   "outputs": [
    {
     "name": "stdout",
     "output_type": "stream",
     "text": [
      "/Users/peter/Library/Application Support/Neo4j Desktop/Application/neo4jDatabases/database-9f7418e6-ef5d-4a2d-ae16-29a5a6814849/installation-4.1.0/import\n"
     ]
    }
   ],
   "source": [
    "NEO4J_IMPORT = Path(os.getenv('NEO4J_IMPORT'))\n",
    "print(NEO4J_IMPORT)"
   ]
  },
  {
   "cell_type": "markdown",
   "metadata": {},
   "source": [
    "## Download selected variables\n",
    "\n",
    "* [Selected economic characteristics for US](https://data.census.gov/cedsci/table?tid=ACSDP5Y2018.DP03)\n",
    "\n",
    "* [List of variables as HTML](https://api.census.gov/data/2018/acs/acs5/profile/groups/DP03.html) or [JSON](https://api.census.gov/data/2018/acs/acs5/profile/groups/DP03/)\n",
    "\n",
    "* [Description of variables](https://www2.census.gov/programs-surveys/acs/tech_docs/subject_definitions/2018_ACSSubjectDefinitions.pdf)\n",
    "\n",
    "* [Example URLs for API](https://api.census.gov/data/2018/acs/acs5/profile/examples.html)"
   ]
  },
  {
   "cell_type": "markdown",
   "metadata": {},
   "source": [
    "### Specify variables from DP03 group and assign property names\n",
    "\n",
    "Names must follow the [Neo4j property naming conventions](https://neo4j.com/docs/getting-started/current/graphdb-concepts/#graphdb-naming-rules-and-recommendations)."
   ]
  },
  {
   "cell_type": "code",
   "execution_count": 4,
   "metadata": {},
   "outputs": [],
   "source": [
    "variables = {# EMPLOYMENT STATUS\n",
    "             'DP03_0001E': 'population16YearsAndOver',\n",
    "             'DP03_0002E': 'population16YearsAndOverInLaborForce',\n",
    "             'DP03_0002PE': 'population16YearsAndOverInLaborForcePct',\n",
    "             'DP03_0003E': 'population16YearsAndOverInCivilianLaborForce',\n",
    "             'DP03_0003PE': 'population16YearsAndOverInCivilianLaborForcePct',\n",
    "             'DP03_0006E': 'population16YearsAndOverInArmedForces',\n",
    "             'DP03_0006PE': 'population16YearsAndOverInArmedForcesPct',\n",
    "             'DP03_0007E': 'population16YearsAndOverNotInLaborForce',\n",
    "             'DP03_0007PE': 'population16YearsAndOverNotInLaborForcePct'\n",
    "             #'DP03_0014E': 'ownChildrenOfTheHouseholderUnder6Years',\n",
    "             #'DP03_0015E': 'ownChildrenOfTheHouseholderUnder6YearsAllParentsInLaborForce',\n",
    "             #'DP03_0016E': 'ownChildrenOfTheHouseholder6To17Years',\n",
    "             #'DP03_0017E': 'ownChildrenOfTheHouseholder6To17YearsAllParentsInLaborForce',\n",
    "            }"
   ]
  },
  {
   "cell_type": "code",
   "execution_count": 5,
   "metadata": {},
   "outputs": [],
   "source": [
    "fields = \",\".join(variables.keys())"
   ]
  },
  {
   "cell_type": "code",
   "execution_count": 6,
   "metadata": {},
   "outputs": [
    {
     "name": "stdout",
     "output_type": "stream",
     "text": [
      "e.population16YearsAndOver = toInteger(row.population16YearsAndOver),\n",
      "e.population16YearsAndOverInLaborForce = toInteger(row.population16YearsAndOverInLaborForce),\n",
      "e.population16YearsAndOverInLaborForcePct = toInteger(row.population16YearsAndOverInLaborForcePct),\n",
      "e.population16YearsAndOverInCivilianLaborForce = toInteger(row.population16YearsAndOverInCivilianLaborForce),\n",
      "e.population16YearsAndOverInCivilianLaborForcePct = toInteger(row.population16YearsAndOverInCivilianLaborForcePct),\n",
      "e.population16YearsAndOverInArmedForces = toInteger(row.population16YearsAndOverInArmedForces),\n",
      "e.population16YearsAndOverInArmedForcesPct = toInteger(row.population16YearsAndOverInArmedForcesPct),\n",
      "e.population16YearsAndOverNotInLaborForce = toInteger(row.population16YearsAndOverNotInLaborForce),\n",
      "e.population16YearsAndOverNotInLaborForcePct = toInteger(row.population16YearsAndOverNotInLaborForcePct),\n"
     ]
    }
   ],
   "source": [
    "for v in variables.values():\n",
    "    print('e.' + v + ' = toInteger(row.' + v + '),')"
   ]
  },
  {
   "cell_type": "code",
   "execution_count": 7,
   "metadata": {},
   "outputs": [
    {
     "name": "stdout",
     "output_type": "stream",
     "text": [
      "9\n"
     ]
    }
   ],
   "source": [
    "print(len(variables.keys()))"
   ]
  },
  {
   "cell_type": "markdown",
   "metadata": {},
   "source": [
    "## Download county-level data using US Census API"
   ]
  },
  {
   "cell_type": "code",
   "execution_count": 8,
   "metadata": {},
   "outputs": [],
   "source": [
    "url_county = f'https://api.census.gov/data/2018/acs/acs5/profile?get={fields}&for=county:*'"
   ]
  },
  {
   "cell_type": "code",
   "execution_count": 9,
   "metadata": {},
   "outputs": [
    {
     "data": {
      "text/html": [
       "<div>\n",
       "<style scoped>\n",
       "    .dataframe tbody tr th:only-of-type {\n",
       "        vertical-align: middle;\n",
       "    }\n",
       "\n",
       "    .dataframe tbody tr th {\n",
       "        vertical-align: top;\n",
       "    }\n",
       "\n",
       "    .dataframe thead th {\n",
       "        text-align: right;\n",
       "    }\n",
       "</style>\n",
       "<table border=\"1\" class=\"dataframe\">\n",
       "  <thead>\n",
       "    <tr style=\"text-align: right;\">\n",
       "      <th></th>\n",
       "      <th>0</th>\n",
       "      <th>1</th>\n",
       "      <th>2</th>\n",
       "      <th>3</th>\n",
       "      <th>4</th>\n",
       "      <th>5</th>\n",
       "      <th>6</th>\n",
       "      <th>7</th>\n",
       "      <th>8</th>\n",
       "      <th>9</th>\n",
       "      <th>10</th>\n",
       "    </tr>\n",
       "  </thead>\n",
       "  <tbody>\n",
       "    <tr>\n",
       "      <th>0</th>\n",
       "      <td>DP03_0001E</td>\n",
       "      <td>DP03_0002E</td>\n",
       "      <td>DP03_0002PE</td>\n",
       "      <td>DP03_0003E</td>\n",
       "      <td>DP03_0003PE</td>\n",
       "      <td>DP03_0006E</td>\n",
       "      <td>DP03_0006PE</td>\n",
       "      <td>DP03_0007E</td>\n",
       "      <td>DP03_0007PE</td>\n",
       "      <td>state</td>\n",
       "      <td>county</td>\n",
       "    </tr>\n",
       "    <tr>\n",
       "      <th>1</th>\n",
       "      <td>36109</td>\n",
       "      <td>20200</td>\n",
       "      <td>55.9</td>\n",
       "      <td>20174</td>\n",
       "      <td>55.9</td>\n",
       "      <td>26</td>\n",
       "      <td>0.1</td>\n",
       "      <td>15909</td>\n",
       "      <td>44.1</td>\n",
       "      <td>28</td>\n",
       "      <td>151</td>\n",
       "    </tr>\n",
       "    <tr>\n",
       "      <th>2</th>\n",
       "      <td>9508</td>\n",
       "      <td>4951</td>\n",
       "      <td>52.1</td>\n",
       "      <td>4928</td>\n",
       "      <td>51.8</td>\n",
       "      <td>23</td>\n",
       "      <td>0.2</td>\n",
       "      <td>4557</td>\n",
       "      <td>47.9</td>\n",
       "      <td>28</td>\n",
       "      <td>111</td>\n",
       "    </tr>\n",
       "    <tr>\n",
       "      <th>3</th>\n",
       "      <td>6718</td>\n",
       "      <td>3402</td>\n",
       "      <td>50.6</td>\n",
       "      <td>3398</td>\n",
       "      <td>50.6</td>\n",
       "      <td>4</td>\n",
       "      <td>0.1</td>\n",
       "      <td>3316</td>\n",
       "      <td>49.4</td>\n",
       "      <td>28</td>\n",
       "      <td>019</td>\n",
       "    </tr>\n",
       "    <tr>\n",
       "      <th>4</th>\n",
       "      <td>18949</td>\n",
       "      <td>9923</td>\n",
       "      <td>52.4</td>\n",
       "      <td>9923</td>\n",
       "      <td>52.4</td>\n",
       "      <td>0</td>\n",
       "      <td>0.0</td>\n",
       "      <td>9026</td>\n",
       "      <td>47.6</td>\n",
       "      <td>28</td>\n",
       "      <td>057</td>\n",
       "    </tr>\n",
       "  </tbody>\n",
       "</table>\n",
       "</div>"
      ],
      "text/plain": [
       "           0           1            2           3            4           5   \\\n",
       "0  DP03_0001E  DP03_0002E  DP03_0002PE  DP03_0003E  DP03_0003PE  DP03_0006E   \n",
       "1       36109       20200         55.9       20174         55.9          26   \n",
       "2        9508        4951         52.1        4928         51.8          23   \n",
       "3        6718        3402         50.6        3398         50.6           4   \n",
       "4       18949        9923         52.4        9923         52.4           0   \n",
       "\n",
       "            6           7            8      9       10  \n",
       "0  DP03_0006PE  DP03_0007E  DP03_0007PE  state  county  \n",
       "1          0.1       15909         44.1     28     151  \n",
       "2          0.2        4557         47.9     28     111  \n",
       "3          0.1        3316         49.4     28     019  \n",
       "4          0.0        9026         47.6     28     057  "
      ]
     },
     "execution_count": 9,
     "metadata": {},
     "output_type": "execute_result"
    }
   ],
   "source": [
    "df = pd.read_json(url_county, dtype='str')\n",
    "df.fillna('', inplace=True)\n",
    "df.head()"
   ]
  },
  {
   "cell_type": "markdown",
   "metadata": {},
   "source": [
    "##### Add column names"
   ]
  },
  {
   "cell_type": "code",
   "execution_count": 10,
   "metadata": {},
   "outputs": [],
   "source": [
    "df = df[1:].copy() # skip first row of labels\n",
    "columns = list(variables.values())\n",
    "columns.append('stateFips')\n",
    "columns.append('countyFips')\n",
    "df.columns = columns"
   ]
  },
  {
   "cell_type": "markdown",
   "metadata": {},
   "source": [
    "Remove Puerto Rico (stateFips = 72) to limit data to US States\n",
    "\n",
    "TODO handle data for Puerto Rico (GeoNames represents Puerto Rico as a country)"
   ]
  },
  {
   "cell_type": "code",
   "execution_count": 11,
   "metadata": {},
   "outputs": [],
   "source": [
    "df.query(\"stateFips != '72'\", inplace=True)"
   ]
  },
  {
   "cell_type": "markdown",
   "metadata": {},
   "source": [
    "Save list of state fips (required later to get tract data by state)"
   ]
  },
  {
   "cell_type": "code",
   "execution_count": 12,
   "metadata": {},
   "outputs": [
    {
     "name": "stdout",
     "output_type": "stream",
     "text": [
      "['01', '02', '04', '05', '06', '08', '09', '10', '11', '12', '13', '15', '16', '17', '18', '19', '20', '21', '22', '23', '24', '25', '26', '27', '28', '29', '30', '31', '32', '33', '34', '35', '36', '37', '38', '39', '40', '41', '42', '44', '45', '46', '47', '48', '49', '50', '51', '53', '54', '55', '56']\n"
     ]
    }
   ],
   "source": [
    "stateFips = list(df['stateFips'].unique())\n",
    "stateFips.sort()\n",
    "print(stateFips)"
   ]
  },
  {
   "cell_type": "code",
   "execution_count": 13,
   "metadata": {},
   "outputs": [
    {
     "data": {
      "text/html": [
       "<div>\n",
       "<style scoped>\n",
       "    .dataframe tbody tr th:only-of-type {\n",
       "        vertical-align: middle;\n",
       "    }\n",
       "\n",
       "    .dataframe tbody tr th {\n",
       "        vertical-align: top;\n",
       "    }\n",
       "\n",
       "    .dataframe thead th {\n",
       "        text-align: right;\n",
       "    }\n",
       "</style>\n",
       "<table border=\"1\" class=\"dataframe\">\n",
       "  <thead>\n",
       "    <tr style=\"text-align: right;\">\n",
       "      <th></th>\n",
       "      <th>population16YearsAndOver</th>\n",
       "      <th>population16YearsAndOverInLaborForce</th>\n",
       "      <th>population16YearsAndOverInLaborForcePct</th>\n",
       "      <th>population16YearsAndOverInCivilianLaborForce</th>\n",
       "      <th>population16YearsAndOverInCivilianLaborForcePct</th>\n",
       "      <th>population16YearsAndOverInArmedForces</th>\n",
       "      <th>population16YearsAndOverInArmedForcesPct</th>\n",
       "      <th>population16YearsAndOverNotInLaborForce</th>\n",
       "      <th>population16YearsAndOverNotInLaborForcePct</th>\n",
       "      <th>stateFips</th>\n",
       "      <th>countyFips</th>\n",
       "    </tr>\n",
       "  </thead>\n",
       "  <tbody>\n",
       "    <tr>\n",
       "      <th>1</th>\n",
       "      <td>36109</td>\n",
       "      <td>20200</td>\n",
       "      <td>55.9</td>\n",
       "      <td>20174</td>\n",
       "      <td>55.9</td>\n",
       "      <td>26</td>\n",
       "      <td>0.1</td>\n",
       "      <td>15909</td>\n",
       "      <td>44.1</td>\n",
       "      <td>28</td>\n",
       "      <td>151</td>\n",
       "    </tr>\n",
       "    <tr>\n",
       "      <th>2</th>\n",
       "      <td>9508</td>\n",
       "      <td>4951</td>\n",
       "      <td>52.1</td>\n",
       "      <td>4928</td>\n",
       "      <td>51.8</td>\n",
       "      <td>23</td>\n",
       "      <td>0.2</td>\n",
       "      <td>4557</td>\n",
       "      <td>47.9</td>\n",
       "      <td>28</td>\n",
       "      <td>111</td>\n",
       "    </tr>\n",
       "    <tr>\n",
       "      <th>3</th>\n",
       "      <td>6718</td>\n",
       "      <td>3402</td>\n",
       "      <td>50.6</td>\n",
       "      <td>3398</td>\n",
       "      <td>50.6</td>\n",
       "      <td>4</td>\n",
       "      <td>0.1</td>\n",
       "      <td>3316</td>\n",
       "      <td>49.4</td>\n",
       "      <td>28</td>\n",
       "      <td>019</td>\n",
       "    </tr>\n",
       "    <tr>\n",
       "      <th>4</th>\n",
       "      <td>18949</td>\n",
       "      <td>9923</td>\n",
       "      <td>52.4</td>\n",
       "      <td>9923</td>\n",
       "      <td>52.4</td>\n",
       "      <td>0</td>\n",
       "      <td>0.0</td>\n",
       "      <td>9026</td>\n",
       "      <td>47.6</td>\n",
       "      <td>28</td>\n",
       "      <td>057</td>\n",
       "    </tr>\n",
       "    <tr>\n",
       "      <th>5</th>\n",
       "      <td>8404</td>\n",
       "      <td>3843</td>\n",
       "      <td>45.7</td>\n",
       "      <td>3843</td>\n",
       "      <td>45.7</td>\n",
       "      <td>0</td>\n",
       "      <td>0.0</td>\n",
       "      <td>4561</td>\n",
       "      <td>54.3</td>\n",
       "      <td>28</td>\n",
       "      <td>015</td>\n",
       "    </tr>\n",
       "  </tbody>\n",
       "</table>\n",
       "</div>"
      ],
      "text/plain": [
       "  population16YearsAndOver population16YearsAndOverInLaborForce  \\\n",
       "1                    36109                                20200   \n",
       "2                     9508                                 4951   \n",
       "3                     6718                                 3402   \n",
       "4                    18949                                 9923   \n",
       "5                     8404                                 3843   \n",
       "\n",
       "  population16YearsAndOverInLaborForcePct  \\\n",
       "1                                    55.9   \n",
       "2                                    52.1   \n",
       "3                                    50.6   \n",
       "4                                    52.4   \n",
       "5                                    45.7   \n",
       "\n",
       "  population16YearsAndOverInCivilianLaborForce  \\\n",
       "1                                        20174   \n",
       "2                                         4928   \n",
       "3                                         3398   \n",
       "4                                         9923   \n",
       "5                                         3843   \n",
       "\n",
       "  population16YearsAndOverInCivilianLaborForcePct  \\\n",
       "1                                            55.9   \n",
       "2                                            51.8   \n",
       "3                                            50.6   \n",
       "4                                            52.4   \n",
       "5                                            45.7   \n",
       "\n",
       "  population16YearsAndOverInArmedForces  \\\n",
       "1                                    26   \n",
       "2                                    23   \n",
       "3                                     4   \n",
       "4                                     0   \n",
       "5                                     0   \n",
       "\n",
       "  population16YearsAndOverInArmedForcesPct  \\\n",
       "1                                      0.1   \n",
       "2                                      0.2   \n",
       "3                                      0.1   \n",
       "4                                      0.0   \n",
       "5                                      0.0   \n",
       "\n",
       "  population16YearsAndOverNotInLaborForce  \\\n",
       "1                                   15909   \n",
       "2                                    4557   \n",
       "3                                    3316   \n",
       "4                                    9026   \n",
       "5                                    4561   \n",
       "\n",
       "  population16YearsAndOverNotInLaborForcePct stateFips countyFips  \n",
       "1                                       44.1        28        151  \n",
       "2                                       47.9        28        111  \n",
       "3                                       49.4        28        019  \n",
       "4                                       47.6        28        057  \n",
       "5                                       54.3        28        015  "
      ]
     },
     "execution_count": 13,
     "metadata": {},
     "output_type": "execute_result"
    }
   ],
   "source": [
    "df.head()"
   ]
  },
  {
   "cell_type": "code",
   "execution_count": 14,
   "metadata": {},
   "outputs": [
    {
     "data": {
      "text/html": [
       "<div>\n",
       "<style scoped>\n",
       "    .dataframe tbody tr th:only-of-type {\n",
       "        vertical-align: middle;\n",
       "    }\n",
       "\n",
       "    .dataframe tbody tr th {\n",
       "        vertical-align: top;\n",
       "    }\n",
       "\n",
       "    .dataframe thead th {\n",
       "        text-align: right;\n",
       "    }\n",
       "</style>\n",
       "<table border=\"1\" class=\"dataframe\">\n",
       "  <thead>\n",
       "    <tr style=\"text-align: right;\">\n",
       "      <th></th>\n",
       "      <th>population16YearsAndOver</th>\n",
       "      <th>population16YearsAndOverInLaborForce</th>\n",
       "      <th>population16YearsAndOverInLaborForcePct</th>\n",
       "      <th>population16YearsAndOverInCivilianLaborForce</th>\n",
       "      <th>population16YearsAndOverInCivilianLaborForcePct</th>\n",
       "      <th>population16YearsAndOverInArmedForces</th>\n",
       "      <th>population16YearsAndOverInArmedForcesPct</th>\n",
       "      <th>population16YearsAndOverNotInLaborForce</th>\n",
       "      <th>population16YearsAndOverNotInLaborForcePct</th>\n",
       "      <th>stateFips</th>\n",
       "      <th>countyFips</th>\n",
       "    </tr>\n",
       "  </thead>\n",
       "  <tbody>\n",
       "    <tr>\n",
       "      <th>1869</th>\n",
       "      <td>2656740</td>\n",
       "      <td>1745186</td>\n",
       "      <td>65.7</td>\n",
       "      <td>1671892</td>\n",
       "      <td>62.9</td>\n",
       "      <td>73294</td>\n",
       "      <td>2.8</td>\n",
       "      <td>911554</td>\n",
       "      <td>34.3</td>\n",
       "      <td>06</td>\n",
       "      <td>073</td>\n",
       "    </tr>\n",
       "  </tbody>\n",
       "</table>\n",
       "</div>"
      ],
      "text/plain": [
       "     population16YearsAndOver population16YearsAndOverInLaborForce  \\\n",
       "1869                  2656740                              1745186   \n",
       "\n",
       "     population16YearsAndOverInLaborForcePct  \\\n",
       "1869                                    65.7   \n",
       "\n",
       "     population16YearsAndOverInCivilianLaborForce  \\\n",
       "1869                                      1671892   \n",
       "\n",
       "     population16YearsAndOverInCivilianLaborForcePct  \\\n",
       "1869                                            62.9   \n",
       "\n",
       "     population16YearsAndOverInArmedForces  \\\n",
       "1869                                 73294   \n",
       "\n",
       "     population16YearsAndOverInArmedForcesPct  \\\n",
       "1869                                      2.8   \n",
       "\n",
       "     population16YearsAndOverNotInLaborForce  \\\n",
       "1869                                  911554   \n",
       "\n",
       "     population16YearsAndOverNotInLaborForcePct stateFips countyFips  \n",
       "1869                                       34.3        06        073  "
      ]
     },
     "execution_count": 14,
     "metadata": {},
     "output_type": "execute_result"
    }
   ],
   "source": [
    "# Example data\n",
    "df[(df['stateFips'] == '06') & (df['countyFips'] == '073')]"
   ]
  },
  {
   "cell_type": "code",
   "execution_count": 15,
   "metadata": {},
   "outputs": [],
   "source": [
    "df['source'] = 'American Community Survey 5 year'\n",
    "df['aggregationLevel'] = 'Admin2'"
   ]
  },
  {
   "cell_type": "markdown",
   "metadata": {},
   "source": [
    "### Save data"
   ]
  },
  {
   "cell_type": "code",
   "execution_count": 16,
   "metadata": {},
   "outputs": [],
   "source": [
    "df.to_csv(NEO4J_IMPORT / \"03a-USCensusDP03EmploymentAdmin2.csv\", index=False)"
   ]
  },
  {
   "cell_type": "markdown",
   "metadata": {},
   "source": [
    "## Download zip-level data using US Census API"
   ]
  },
  {
   "cell_type": "code",
   "execution_count": 17,
   "metadata": {},
   "outputs": [],
   "source": [
    "url_zip = f'https://api.census.gov/data/2018/acs/acs5/profile?get={fields}&for=zip%20code%20tabulation%20area:*'"
   ]
  },
  {
   "cell_type": "code",
   "execution_count": 18,
   "metadata": {},
   "outputs": [
    {
     "data": {
      "text/html": [
       "<div>\n",
       "<style scoped>\n",
       "    .dataframe tbody tr th:only-of-type {\n",
       "        vertical-align: middle;\n",
       "    }\n",
       "\n",
       "    .dataframe tbody tr th {\n",
       "        vertical-align: top;\n",
       "    }\n",
       "\n",
       "    .dataframe thead th {\n",
       "        text-align: right;\n",
       "    }\n",
       "</style>\n",
       "<table border=\"1\" class=\"dataframe\">\n",
       "  <thead>\n",
       "    <tr style=\"text-align: right;\">\n",
       "      <th></th>\n",
       "      <th>0</th>\n",
       "      <th>1</th>\n",
       "      <th>2</th>\n",
       "      <th>3</th>\n",
       "      <th>4</th>\n",
       "      <th>5</th>\n",
       "      <th>6</th>\n",
       "      <th>7</th>\n",
       "      <th>8</th>\n",
       "      <th>9</th>\n",
       "    </tr>\n",
       "  </thead>\n",
       "  <tbody>\n",
       "    <tr>\n",
       "      <th>0</th>\n",
       "      <td>DP03_0001E</td>\n",
       "      <td>DP03_0002E</td>\n",
       "      <td>DP03_0002PE</td>\n",
       "      <td>DP03_0003E</td>\n",
       "      <td>DP03_0003PE</td>\n",
       "      <td>DP03_0006E</td>\n",
       "      <td>DP03_0006PE</td>\n",
       "      <td>DP03_0007E</td>\n",
       "      <td>DP03_0007PE</td>\n",
       "      <td>zip code tabulation area</td>\n",
       "    </tr>\n",
       "    <tr>\n",
       "      <th>1</th>\n",
       "      <td>6999</td>\n",
       "      <td>3906</td>\n",
       "      <td>55.8</td>\n",
       "      <td>3906</td>\n",
       "      <td>55.8</td>\n",
       "      <td>0</td>\n",
       "      <td>0.0</td>\n",
       "      <td>3093</td>\n",
       "      <td>44.2</td>\n",
       "      <td>43964</td>\n",
       "    </tr>\n",
       "    <tr>\n",
       "      <th>2</th>\n",
       "      <td>40412</td>\n",
       "      <td>28375</td>\n",
       "      <td>70.2</td>\n",
       "      <td>28333</td>\n",
       "      <td>70.1</td>\n",
       "      <td>42</td>\n",
       "      <td>0.1</td>\n",
       "      <td>12037</td>\n",
       "      <td>29.8</td>\n",
       "      <td>28216</td>\n",
       "    </tr>\n",
       "    <tr>\n",
       "      <th>3</th>\n",
       "      <td>54703</td>\n",
       "      <td>38793</td>\n",
       "      <td>70.9</td>\n",
       "      <td>38793</td>\n",
       "      <td>70.9</td>\n",
       "      <td>0</td>\n",
       "      <td>0.0</td>\n",
       "      <td>15910</td>\n",
       "      <td>29.1</td>\n",
       "      <td>28277</td>\n",
       "    </tr>\n",
       "    <tr>\n",
       "      <th>4</th>\n",
       "      <td>20753</td>\n",
       "      <td>16058</td>\n",
       "      <td>77.4</td>\n",
       "      <td>16038</td>\n",
       "      <td>77.3</td>\n",
       "      <td>20</td>\n",
       "      <td>0.1</td>\n",
       "      <td>4695</td>\n",
       "      <td>22.6</td>\n",
       "      <td>28278</td>\n",
       "    </tr>\n",
       "  </tbody>\n",
       "</table>\n",
       "</div>"
      ],
      "text/plain": [
       "            0           1            2           3            4           5  \\\n",
       "0  DP03_0001E  DP03_0002E  DP03_0002PE  DP03_0003E  DP03_0003PE  DP03_0006E   \n",
       "1        6999        3906         55.8        3906         55.8           0   \n",
       "2       40412       28375         70.2       28333         70.1          42   \n",
       "3       54703       38793         70.9       38793         70.9           0   \n",
       "4       20753       16058         77.4       16038         77.3          20   \n",
       "\n",
       "             6           7            8                         9  \n",
       "0  DP03_0006PE  DP03_0007E  DP03_0007PE  zip code tabulation area  \n",
       "1          0.0        3093         44.2                     43964  \n",
       "2          0.1       12037         29.8                     28216  \n",
       "3          0.0       15910         29.1                     28277  \n",
       "4          0.1        4695         22.6                     28278  "
      ]
     },
     "execution_count": 18,
     "metadata": {},
     "output_type": "execute_result"
    }
   ],
   "source": [
    "df = pd.read_json(url_zip, dtype='str')\n",
    "df.fillna('', inplace=True)\n",
    "df.head()"
   ]
  },
  {
   "cell_type": "markdown",
   "metadata": {},
   "source": [
    "##### Add column names"
   ]
  },
  {
   "cell_type": "code",
   "execution_count": 19,
   "metadata": {},
   "outputs": [],
   "source": [
    "df = df[1:].copy() # skip first row\n",
    "columns = list(variables.values())\n",
    "columns.append('postalCode')\n",
    "df.columns = columns"
   ]
  },
  {
   "cell_type": "code",
   "execution_count": 20,
   "metadata": {},
   "outputs": [
    {
     "data": {
      "text/html": [
       "<div>\n",
       "<style scoped>\n",
       "    .dataframe tbody tr th:only-of-type {\n",
       "        vertical-align: middle;\n",
       "    }\n",
       "\n",
       "    .dataframe tbody tr th {\n",
       "        vertical-align: top;\n",
       "    }\n",
       "\n",
       "    .dataframe thead th {\n",
       "        text-align: right;\n",
       "    }\n",
       "</style>\n",
       "<table border=\"1\" class=\"dataframe\">\n",
       "  <thead>\n",
       "    <tr style=\"text-align: right;\">\n",
       "      <th></th>\n",
       "      <th>population16YearsAndOver</th>\n",
       "      <th>population16YearsAndOverInLaborForce</th>\n",
       "      <th>population16YearsAndOverInLaborForcePct</th>\n",
       "      <th>population16YearsAndOverInCivilianLaborForce</th>\n",
       "      <th>population16YearsAndOverInCivilianLaborForcePct</th>\n",
       "      <th>population16YearsAndOverInArmedForces</th>\n",
       "      <th>population16YearsAndOverInArmedForcesPct</th>\n",
       "      <th>population16YearsAndOverNotInLaborForce</th>\n",
       "      <th>population16YearsAndOverNotInLaborForcePct</th>\n",
       "      <th>postalCode</th>\n",
       "    </tr>\n",
       "  </thead>\n",
       "  <tbody>\n",
       "    <tr>\n",
       "      <th>1</th>\n",
       "      <td>6999</td>\n",
       "      <td>3906</td>\n",
       "      <td>55.8</td>\n",
       "      <td>3906</td>\n",
       "      <td>55.8</td>\n",
       "      <td>0</td>\n",
       "      <td>0.0</td>\n",
       "      <td>3093</td>\n",
       "      <td>44.2</td>\n",
       "      <td>43964</td>\n",
       "    </tr>\n",
       "    <tr>\n",
       "      <th>2</th>\n",
       "      <td>40412</td>\n",
       "      <td>28375</td>\n",
       "      <td>70.2</td>\n",
       "      <td>28333</td>\n",
       "      <td>70.1</td>\n",
       "      <td>42</td>\n",
       "      <td>0.1</td>\n",
       "      <td>12037</td>\n",
       "      <td>29.8</td>\n",
       "      <td>28216</td>\n",
       "    </tr>\n",
       "    <tr>\n",
       "      <th>3</th>\n",
       "      <td>54703</td>\n",
       "      <td>38793</td>\n",
       "      <td>70.9</td>\n",
       "      <td>38793</td>\n",
       "      <td>70.9</td>\n",
       "      <td>0</td>\n",
       "      <td>0.0</td>\n",
       "      <td>15910</td>\n",
       "      <td>29.1</td>\n",
       "      <td>28277</td>\n",
       "    </tr>\n",
       "    <tr>\n",
       "      <th>4</th>\n",
       "      <td>20753</td>\n",
       "      <td>16058</td>\n",
       "      <td>77.4</td>\n",
       "      <td>16038</td>\n",
       "      <td>77.3</td>\n",
       "      <td>20</td>\n",
       "      <td>0.1</td>\n",
       "      <td>4695</td>\n",
       "      <td>22.6</td>\n",
       "      <td>28278</td>\n",
       "    </tr>\n",
       "    <tr>\n",
       "      <th>5</th>\n",
       "      <td>23635</td>\n",
       "      <td>14333</td>\n",
       "      <td>60.6</td>\n",
       "      <td>12189</td>\n",
       "      <td>51.6</td>\n",
       "      <td>2144</td>\n",
       "      <td>9.1</td>\n",
       "      <td>9302</td>\n",
       "      <td>39.4</td>\n",
       "      <td>28303</td>\n",
       "    </tr>\n",
       "  </tbody>\n",
       "</table>\n",
       "</div>"
      ],
      "text/plain": [
       "  population16YearsAndOver population16YearsAndOverInLaborForce  \\\n",
       "1                     6999                                 3906   \n",
       "2                    40412                                28375   \n",
       "3                    54703                                38793   \n",
       "4                    20753                                16058   \n",
       "5                    23635                                14333   \n",
       "\n",
       "  population16YearsAndOverInLaborForcePct  \\\n",
       "1                                    55.8   \n",
       "2                                    70.2   \n",
       "3                                    70.9   \n",
       "4                                    77.4   \n",
       "5                                    60.6   \n",
       "\n",
       "  population16YearsAndOverInCivilianLaborForce  \\\n",
       "1                                         3906   \n",
       "2                                        28333   \n",
       "3                                        38793   \n",
       "4                                        16038   \n",
       "5                                        12189   \n",
       "\n",
       "  population16YearsAndOverInCivilianLaborForcePct  \\\n",
       "1                                            55.8   \n",
       "2                                            70.1   \n",
       "3                                            70.9   \n",
       "4                                            77.3   \n",
       "5                                            51.6   \n",
       "\n",
       "  population16YearsAndOverInArmedForces  \\\n",
       "1                                     0   \n",
       "2                                    42   \n",
       "3                                     0   \n",
       "4                                    20   \n",
       "5                                  2144   \n",
       "\n",
       "  population16YearsAndOverInArmedForcesPct  \\\n",
       "1                                      0.0   \n",
       "2                                      0.1   \n",
       "3                                      0.0   \n",
       "4                                      0.1   \n",
       "5                                      9.1   \n",
       "\n",
       "  population16YearsAndOverNotInLaborForce  \\\n",
       "1                                    3093   \n",
       "2                                   12037   \n",
       "3                                   15910   \n",
       "4                                    4695   \n",
       "5                                    9302   \n",
       "\n",
       "  population16YearsAndOverNotInLaborForcePct postalCode  \n",
       "1                                       44.2      43964  \n",
       "2                                       29.8      28216  \n",
       "3                                       29.1      28277  \n",
       "4                                       22.6      28278  \n",
       "5                                       39.4      28303  "
      ]
     },
     "execution_count": 20,
     "metadata": {},
     "output_type": "execute_result"
    }
   ],
   "source": [
    "df.head()"
   ]
  },
  {
   "cell_type": "code",
   "execution_count": 21,
   "metadata": {},
   "outputs": [
    {
     "data": {
      "text/html": [
       "<div>\n",
       "<style scoped>\n",
       "    .dataframe tbody tr th:only-of-type {\n",
       "        vertical-align: middle;\n",
       "    }\n",
       "\n",
       "    .dataframe tbody tr th {\n",
       "        vertical-align: top;\n",
       "    }\n",
       "\n",
       "    .dataframe thead th {\n",
       "        text-align: right;\n",
       "    }\n",
       "</style>\n",
       "<table border=\"1\" class=\"dataframe\">\n",
       "  <thead>\n",
       "    <tr style=\"text-align: right;\">\n",
       "      <th></th>\n",
       "      <th>population16YearsAndOver</th>\n",
       "      <th>population16YearsAndOverInLaborForce</th>\n",
       "      <th>population16YearsAndOverInLaborForcePct</th>\n",
       "      <th>population16YearsAndOverInCivilianLaborForce</th>\n",
       "      <th>population16YearsAndOverInCivilianLaborForcePct</th>\n",
       "      <th>population16YearsAndOverInArmedForces</th>\n",
       "      <th>population16YearsAndOverInArmedForcesPct</th>\n",
       "      <th>population16YearsAndOverNotInLaborForce</th>\n",
       "      <th>population16YearsAndOverNotInLaborForcePct</th>\n",
       "      <th>postalCode</th>\n",
       "    </tr>\n",
       "  </thead>\n",
       "  <tbody>\n",
       "    <tr>\n",
       "      <th>30897</th>\n",
       "      <td>16439</td>\n",
       "      <td>9181</td>\n",
       "      <td>55.8</td>\n",
       "      <td>9138</td>\n",
       "      <td>55.6</td>\n",
       "      <td>43</td>\n",
       "      <td>0.3</td>\n",
       "      <td>7258</td>\n",
       "      <td>44.2</td>\n",
       "      <td>90210</td>\n",
       "    </tr>\n",
       "  </tbody>\n",
       "</table>\n",
       "</div>"
      ],
      "text/plain": [
       "      population16YearsAndOver population16YearsAndOverInLaborForce  \\\n",
       "30897                    16439                                 9181   \n",
       "\n",
       "      population16YearsAndOverInLaborForcePct  \\\n",
       "30897                                    55.8   \n",
       "\n",
       "      population16YearsAndOverInCivilianLaborForce  \\\n",
       "30897                                         9138   \n",
       "\n",
       "      population16YearsAndOverInCivilianLaborForcePct  \\\n",
       "30897                                            55.6   \n",
       "\n",
       "      population16YearsAndOverInArmedForces  \\\n",
       "30897                                    43   \n",
       "\n",
       "      population16YearsAndOverInArmedForcesPct  \\\n",
       "30897                                      0.3   \n",
       "\n",
       "      population16YearsAndOverNotInLaborForce  \\\n",
       "30897                                    7258   \n",
       "\n",
       "      population16YearsAndOverNotInLaborForcePct postalCode  \n",
       "30897                                       44.2      90210  "
      ]
     },
     "execution_count": 21,
     "metadata": {},
     "output_type": "execute_result"
    }
   ],
   "source": [
    "# Example data\n",
    "df.query(\"postalCode == '90210'\")"
   ]
  },
  {
   "cell_type": "code",
   "execution_count": 22,
   "metadata": {},
   "outputs": [],
   "source": [
    "df['source'] = 'American Community Survey 5 year'\n",
    "df['aggregationLevel'] = 'PostalCode'"
   ]
  },
  {
   "cell_type": "markdown",
   "metadata": {},
   "source": [
    "### Save data"
   ]
  },
  {
   "cell_type": "code",
   "execution_count": 23,
   "metadata": {},
   "outputs": [],
   "source": [
    "df.to_csv(NEO4J_IMPORT / \"03a-USCensusDP03EmploymentZip.csv\", index=False)"
   ]
  },
  {
   "cell_type": "markdown",
   "metadata": {},
   "source": [
    "## Download tract-level data using US Census API\n",
    "Tract-level data are only available by state, so we need to loop over all states."
   ]
  },
  {
   "cell_type": "code",
   "execution_count": 24,
   "metadata": {},
   "outputs": [],
   "source": [
    "def get_tract_data(state):\n",
    "    url_tract = f'https://api.census.gov/data/2018/acs/acs5/profile?get={fields}&for=tract:*&in=state:{state}'\n",
    "    df = pd.read_json(url_tract, dtype='str')\n",
    "    time.sleep(1)\n",
    "    # skip first row of labels\n",
    "    df = df[1:].copy()\n",
    "    # Add column names\n",
    "    columns = list(variables.values())\n",
    "    columns.append('stateFips')\n",
    "    columns.append('countyFips')\n",
    "    columns.append('tract')\n",
    "    df.columns = columns\n",
    "    return df"
   ]
  },
  {
   "cell_type": "code",
   "execution_count": null,
   "metadata": {},
   "outputs": [],
   "source": [
    "df = pd.concat((get_tract_data(state) for state in stateFips))\n",
    "df.fillna('', inplace=True)"
   ]
  },
  {
   "cell_type": "code",
   "execution_count": null,
   "metadata": {},
   "outputs": [],
   "source": [
    "df['tract'] = df['stateFips'] + df['countyFips'] + df['tract']"
   ]
  },
  {
   "cell_type": "code",
   "execution_count": null,
   "metadata": {},
   "outputs": [],
   "source": [
    "df['source'] = 'American Community Survey 5 year'\n",
    "df['aggregationLevel'] = 'Tract'"
   ]
  },
  {
   "cell_type": "code",
   "execution_count": null,
   "metadata": {},
   "outputs": [],
   "source": [
    "# Example data for San Diego County\n",
    "df[(df['stateFips'] == '06') & (df['countyFips'] == '073')].head()"
   ]
  },
  {
   "cell_type": "markdown",
   "metadata": {},
   "source": [
    "### Save data"
   ]
  },
  {
   "cell_type": "code",
   "execution_count": null,
   "metadata": {},
   "outputs": [],
   "source": [
    "df.to_csv(NEO4J_IMPORT / \"03a-USCensusDP03EmploymentTract.csv\", index=False)"
   ]
  },
  {
   "cell_type": "code",
   "execution_count": null,
   "metadata": {},
   "outputs": [],
   "source": [
    "df.shape"
   ]
  }
 ],
 "metadata": {
  "kernelspec": {
   "display_name": "Python 3",
   "language": "python",
   "name": "python3"
  },
  "language_info": {
   "codemirror_mode": {
    "name": "ipython",
    "version": 3
   },
   "file_extension": ".py",
   "mimetype": "text/x-python",
   "name": "python",
   "nbconvert_exporter": "python",
   "pygments_lexer": "ipython3",
   "version": "3.8.5"
  }
 },
 "nbformat": 4,
 "nbformat_minor": 4
}

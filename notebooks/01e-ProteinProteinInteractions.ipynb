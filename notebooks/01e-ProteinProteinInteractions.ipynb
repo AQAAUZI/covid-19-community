{
 "cells": [
  {
   "cell_type": "markdown",
   "metadata": {},
   "source": [
    "# Protein Protein Interaction Data\n",
    "**[Work in progress]**\n",
    "\n",
    "This notebook downloads and standardizes viral-host protein data from IntAct and other sources for ingestion into the Knowledge Graph.\n",
    "\n",
    "Data sources: [IntAct](https://www.ebi.ac.uk/intact/query/pubid:IM-27814), [Sequence Information](https://docs.google.com/spreadsheets/d/1m2SiCxyU_B1f4Ruu0wZafNXu8VQnjmog73bjWCS834A/edit?usp=sharing), [BioArXiv](https://www.biorxiv.org/content/10.1101/2020.03.22.002386v3.full)\n",
    "\n",
    "Authors: Kaushik Ganapathy, Eric Yu (krganapa@ucsd.edu, ery010@ucsd.edu)"
   ]
  },
  {
   "cell_type": "markdown",
   "metadata": {},
   "source": [
    "### External Package Imports"
   ]
  },
  {
   "cell_type": "code",
   "execution_count": 38,
   "metadata": {},
   "outputs": [],
   "source": [
    "import os\n",
    "import re\n",
    "import hashlib \n",
    "\n",
    "import pandas as pd\n",
    "import numpy as np\n",
    "\n",
    "from pathlib import Path\n",
    "\n",
    "pd.options.display.max_rows = None  # display all rows\n",
    "pd.options.display.max_columns = None  # display all columsns"
   ]
  },
  {
   "cell_type": "code",
   "execution_count": null,
   "metadata": {},
   "outputs": [],
   "source": [
    "NEO4J_HOME = Path(os.getenv('NEO4J_HOME'))\n",
    "print(NEO4J_HOME)"
   ]
  },
  {
   "cell_type": "markdown",
   "metadata": {},
   "source": [
    "**Downloaded data from IntAct MI-TAB 2.5 format**\n",
    "\n",
    "Autodownloading this is a WIP"
   ]
  },
  {
   "cell_type": "code",
   "execution_count": 9,
   "metadata": {},
   "outputs": [],
   "source": [
    "data = pd.read_csv('../reference_data/intact_data.txt', sep = '\\t')"
   ]
  },
  {
   "cell_type": "markdown",
   "metadata": {},
   "source": [
    "### Data Cleanup"
   ]
  },
  {
   "cell_type": "markdown",
   "metadata": {},
   "source": [
    "**Dropping unnecessary columns.**"
   ]
  },
  {
   "cell_type": "code",
   "execution_count": 10,
   "metadata": {},
   "outputs": [],
   "source": [
    "columns_to_drop = 'Iteraction detection method(s)\tPublication 1st author(s)\tPublication Identifier(s)\tTaxid interactor A\tTaxid interactor B\tInteraction type(s)\\tSource database(s)\\tConfidence value(s)'\n",
    "columns_to_drop = columns_to_drop.split('\\t')\n",
    "columns_retain = [col for col in data.columns if col not in columns_to_drop]\n",
    "data = data[columns_retain]"
   ]
  },
  {
   "cell_type": "code",
   "execution_count": 11,
   "metadata": {},
   "outputs": [
    {
     "data": {
      "text/html": [
       "<div>\n",
       "<style scoped>\n",
       "    .dataframe tbody tr th:only-of-type {\n",
       "        vertical-align: middle;\n",
       "    }\n",
       "\n",
       "    .dataframe tbody tr th {\n",
       "        vertical-align: top;\n",
       "    }\n",
       "\n",
       "    .dataframe thead th {\n",
       "        text-align: right;\n",
       "    }\n",
       "</style>\n",
       "<table border=\"1\" class=\"dataframe\">\n",
       "  <thead>\n",
       "    <tr style=\"text-align: right;\">\n",
       "      <th></th>\n",
       "      <th>#ID(s) interactor A</th>\n",
       "      <th>ID(s) interactor B</th>\n",
       "      <th>Alt. ID(s) interactor A</th>\n",
       "      <th>Alt. ID(s) interactor B</th>\n",
       "      <th>Alias(es) interactor A</th>\n",
       "      <th>Alias(es) interactor B</th>\n",
       "      <th>Interaction detection method(s)</th>\n",
       "      <th>Interaction identifier(s)</th>\n",
       "    </tr>\n",
       "  </thead>\n",
       "  <tbody>\n",
       "    <tr>\n",
       "      <td>0</td>\n",
       "      <td>uniprotkb:P0DTC4</td>\n",
       "      <td>uniprotkb:Q8IWA5</td>\n",
       "      <td>intact:EBI-25475850|intact:EBI-25475853|intact...</td>\n",
       "      <td>intact:EBI-11722896|uniprotkb:B2RBB1|uniprotkb...</td>\n",
       "      <td>psi-mi:e_wcpv(display_long)</td>\n",
       "      <td>psi-mi:ctl2_human(display_long)|uniprotkb:SLC4...</td>\n",
       "      <td>psi-mi:\"MI:0096\"(pull down)</td>\n",
       "      <td>intact:EBI-25490454</td>\n",
       "    </tr>\n",
       "    <tr>\n",
       "      <td>1</td>\n",
       "      <td>uniprotkb:P0DTC4</td>\n",
       "      <td>uniprotkb:Q86VM9</td>\n",
       "      <td>intact:EBI-25475850|intact:EBI-25475853|intact...</td>\n",
       "      <td>intact:EBI-1045965|uniprotkb:Q96DG4|uniprotkb:...</td>\n",
       "      <td>psi-mi:e_wcpv(display_long)</td>\n",
       "      <td>psi-mi:zch18_human(display_long)|uniprotkb:NHN...</td>\n",
       "      <td>psi-mi:\"MI:0096\"(pull down)</td>\n",
       "      <td>intact:EBI-25490454</td>\n",
       "    </tr>\n",
       "    <tr>\n",
       "      <td>2</td>\n",
       "      <td>uniprotkb:P0DTC4</td>\n",
       "      <td>uniprotkb:Q6UX04</td>\n",
       "      <td>intact:EBI-25475850|intact:EBI-25475853|intact...</td>\n",
       "      <td>intact:EBI-2214108|uniprotkb:O60529|uniprotkb:...</td>\n",
       "      <td>psi-mi:e_wcpv(display_long)</td>\n",
       "      <td>psi-mi:cwc27_human(display_long)|uniprotkb:SDC...</td>\n",
       "      <td>psi-mi:\"MI:0096\"(pull down)</td>\n",
       "      <td>intact:EBI-25490454</td>\n",
       "    </tr>\n",
       "  </tbody>\n",
       "</table>\n",
       "</div>"
      ],
      "text/plain": [
       "  #ID(s) interactor A ID(s) interactor B  \\\n",
       "0    uniprotkb:P0DTC4   uniprotkb:Q8IWA5   \n",
       "1    uniprotkb:P0DTC4   uniprotkb:Q86VM9   \n",
       "2    uniprotkb:P0DTC4   uniprotkb:Q6UX04   \n",
       "\n",
       "                             Alt. ID(s) interactor A  \\\n",
       "0  intact:EBI-25475850|intact:EBI-25475853|intact...   \n",
       "1  intact:EBI-25475850|intact:EBI-25475853|intact...   \n",
       "2  intact:EBI-25475850|intact:EBI-25475853|intact...   \n",
       "\n",
       "                             Alt. ID(s) interactor B  \\\n",
       "0  intact:EBI-11722896|uniprotkb:B2RBB1|uniprotkb...   \n",
       "1  intact:EBI-1045965|uniprotkb:Q96DG4|uniprotkb:...   \n",
       "2  intact:EBI-2214108|uniprotkb:O60529|uniprotkb:...   \n",
       "\n",
       "        Alias(es) interactor A  \\\n",
       "0  psi-mi:e_wcpv(display_long)   \n",
       "1  psi-mi:e_wcpv(display_long)   \n",
       "2  psi-mi:e_wcpv(display_long)   \n",
       "\n",
       "                              Alias(es) interactor B  \\\n",
       "0  psi-mi:ctl2_human(display_long)|uniprotkb:SLC4...   \n",
       "1  psi-mi:zch18_human(display_long)|uniprotkb:NHN...   \n",
       "2  psi-mi:cwc27_human(display_long)|uniprotkb:SDC...   \n",
       "\n",
       "  Interaction detection method(s) Interaction identifier(s)  \n",
       "0     psi-mi:\"MI:0096\"(pull down)       intact:EBI-25490454  \n",
       "1     psi-mi:\"MI:0096\"(pull down)       intact:EBI-25490454  \n",
       "2     psi-mi:\"MI:0096\"(pull down)       intact:EBI-25490454  "
      ]
     },
     "execution_count": 11,
     "metadata": {},
     "output_type": "execute_result"
    }
   ],
   "source": [
    "data.head(3)"
   ]
  },
  {
   "cell_type": "markdown",
   "metadata": {},
   "source": [
    "**Minor Column Renaming and Validation of Data Sources**\n",
    "\n",
    "***Cell should print \"All set to clean up\"***"
   ]
  },
  {
   "cell_type": "code",
   "execution_count": 12,
   "metadata": {},
   "outputs": [
    {
     "name": "stdout",
     "output_type": "stream",
     "text": [
      "All set to clean up SARS-COV-2 Column\n"
     ]
    }
   ],
   "source": [
    "data = data.rename({'#ID(s) interactor A': 'SARS_COV2_Protein_ID'}, axis = 1)\n",
    "unique_ids = data['SARS_COV2_Protein_ID'].unique()\n",
    "unique_data_sources_ids = np.unique([id_.split(':')[0] for id_ in unique_ids])\n",
    "if len(unique_data_sources_ids) == 1 and unique_data_sources_ids[0] == 'uniprotkb':\n",
    "    print('All set to clean up SARS-COV-2 Column')\n",
    "else:\n",
    "    raise ValueError('Unknown Data Sources present. Please check before proceeding')"
   ]
  },
  {
   "cell_type": "code",
   "execution_count": 13,
   "metadata": {},
   "outputs": [],
   "source": [
    "def standardize_names(identifier_id):\n",
    "    if 'uniprot' in identifier_id: return identifier_id.replace('uniprotkb', 'uniprot')\n",
    "    elif 'intact' in identifier_id: return identifier_id\n",
    "data['SARS_COV2_Protein_ID'] = data['SARS_COV2_Protein_ID'].apply(standardize_names)"
   ]
  },
  {
   "cell_type": "code",
   "execution_count": 14,
   "metadata": {},
   "outputs": [
    {
     "name": "stdout",
     "output_type": "stream",
     "text": [
      "All set!\n"
     ]
    }
   ],
   "source": [
    "handled = set(['uniprotkb', 'intact'])\n",
    "data = data.rename({'ID(s) interactor B': 'Human_Protein_ID'}, axis = 1)\n",
    "unique_ids = data['Human_Protein_ID'].unique()\n",
    "unique_data_sources_ids = np.unique([id_.split(':')[0] for id_ in unique_ids])\n",
    "if set(unique_data_sources_ids) == handled: print('All set!')\n",
    "else:\n",
    "    print(unique_data_sources_ids)\n",
    "    print ('Unknown Data Sources present. Please check before proceeding')"
   ]
  },
  {
   "cell_type": "code",
   "execution_count": 15,
   "metadata": {},
   "outputs": [],
   "source": [
    "data['Human_Protein_ID'] = data['Human_Protein_ID'].apply(standardize_names)"
   ]
  },
  {
   "cell_type": "markdown",
   "metadata": {},
   "source": [
    "### Standardizing names to match with other data sources"
   ]
  },
  {
   "cell_type": "code",
   "execution_count": 16,
   "metadata": {},
   "outputs": [],
   "source": [
    "def find_viral_name(viral_name):\n",
    "    return viral_name.split(':')[1].split('(')[0].split('_')[0].upper() \n",
    "\n",
    "\n",
    "def find_human_name(human_name):\n",
    "    return human_name.split(':')[1].split('(')[0].upper() \n",
    "\n",
    "\n",
    "data['Alias(es) interactor A'] = data['Alias(es) interactor A'].apply(find_viral_name)\n",
    "data['Alias(es) interactor B'] = data['Alias(es) interactor B'].apply(find_human_name)\n",
    "\n",
    "data = data.rename({'Alias(es) interactor A':'SARS_COV2_Protein_Name', 'Alias(es) interactor B':'Human_Protein_Name', 'Interaction identifier(s)\\\n",
    "':'Interaction_ID'}, axis = 1)\n",
    "data = data.drop('Interaction detection method(s)', axis = 1)"
   ]
  },
  {
   "cell_type": "markdown",
   "metadata": {},
   "source": [
    "### Manual Fixes to errors in Data Entry \n",
    "_Automated Workflow: WIP_"
   ]
  },
  {
   "cell_type": "markdown",
   "metadata": {},
   "source": [
    "**Correcting ORF3B**"
   ]
  },
  {
   "cell_type": "code",
   "execution_count": 17,
   "metadata": {
    "scrolled": true
   },
   "outputs": [
    {
     "data": {
      "text/html": [
       "<div>\n",
       "<style scoped>\n",
       "    .dataframe tbody tr th:only-of-type {\n",
       "        vertical-align: middle;\n",
       "    }\n",
       "\n",
       "    .dataframe tbody tr th {\n",
       "        vertical-align: top;\n",
       "    }\n",
       "\n",
       "    .dataframe thead th {\n",
       "        text-align: right;\n",
       "    }\n",
       "</style>\n",
       "<table border=\"1\" class=\"dataframe\">\n",
       "  <thead>\n",
       "    <tr style=\"text-align: right;\">\n",
       "      <th></th>\n",
       "      <th>SARS_COV2_Protein_ID</th>\n",
       "      <th>Human_Protein_ID</th>\n",
       "      <th>Alt. ID(s) interactor A</th>\n",
       "      <th>Alt. ID(s) interactor B</th>\n",
       "      <th>SARS_COV2_Protein_Name</th>\n",
       "      <th>Human_Protein_Name</th>\n",
       "      <th>Interaction_ID</th>\n",
       "    </tr>\n",
       "  </thead>\n",
       "  <tbody>\n",
       "    <tr>\n",
       "      <td>159</td>\n",
       "      <td>uniprot:Q9UJZ1</td>\n",
       "      <td>intact:EBI-25475912</td>\n",
       "      <td>intact:EBI-1044428|uniprotkb:B4E1K7|uniprotkb:...</td>\n",
       "      <td>-</td>\n",
       "      <td>STML2</td>\n",
       "      <td>ORF3B_WCPV</td>\n",
       "      <td>intact:EBI-25491308</td>\n",
       "    </tr>\n",
       "  </tbody>\n",
       "</table>\n",
       "</div>"
      ],
      "text/plain": [
       "    SARS_COV2_Protein_ID     Human_Protein_ID  \\\n",
       "159       uniprot:Q9UJZ1  intact:EBI-25475912   \n",
       "\n",
       "                               Alt. ID(s) interactor A  \\\n",
       "159  intact:EBI-1044428|uniprotkb:B4E1K7|uniprotkb:...   \n",
       "\n",
       "    Alt. ID(s) interactor B SARS_COV2_Protein_Name Human_Protein_Name  \\\n",
       "159                       -                  STML2         ORF3B_WCPV   \n",
       "\n",
       "          Interaction_ID  \n",
       "159  intact:EBI-25491308  "
      ]
     },
     "execution_count": 17,
     "metadata": {},
     "output_type": "execute_result"
    }
   ],
   "source": [
    "data[data['Human_Protein_ID'] == 'intact:EBI-25475912']"
   ]
  },
  {
   "cell_type": "code",
   "execution_count": 18,
   "metadata": {},
   "outputs": [],
   "source": [
    "correct = ['intact:EBI-25491308', 'uniprot:Q9UJZ1', '-', 'intact:EBI-1044428|uniprotkb:B4E1K7|uniprotkb:O60376|uniprotkb:Q53G29|uniprotkb:Q96FY2|uniprotkb:Q9P042|uniprotkb:D3DRN3', 'ORF3B', 'STML2', 'intact:EBI-25491308']\n",
    "data.loc[159] = correct"
   ]
  },
  {
   "cell_type": "markdown",
   "metadata": {},
   "source": [
    "**Correcting NSP5**"
   ]
  },
  {
   "cell_type": "code",
   "execution_count": 19,
   "metadata": {},
   "outputs": [
    {
     "data": {
      "text/html": [
       "<div>\n",
       "<style scoped>\n",
       "    .dataframe tbody tr th:only-of-type {\n",
       "        vertical-align: middle;\n",
       "    }\n",
       "\n",
       "    .dataframe tbody tr th {\n",
       "        vertical-align: top;\n",
       "    }\n",
       "\n",
       "    .dataframe thead th {\n",
       "        text-align: right;\n",
       "    }\n",
       "</style>\n",
       "<table border=\"1\" class=\"dataframe\">\n",
       "  <thead>\n",
       "    <tr style=\"text-align: right;\">\n",
       "      <th></th>\n",
       "      <th>SARS_COV2_Protein_ID</th>\n",
       "      <th>Human_Protein_ID</th>\n",
       "      <th>Alt. ID(s) interactor A</th>\n",
       "      <th>Alt. ID(s) interactor B</th>\n",
       "      <th>SARS_COV2_Protein_Name</th>\n",
       "      <th>Human_Protein_Name</th>\n",
       "      <th>Interaction_ID</th>\n",
       "    </tr>\n",
       "  </thead>\n",
       "  <tbody>\n",
       "    <tr>\n",
       "      <td>108</td>\n",
       "      <td>uniprot:Q92769</td>\n",
       "      <td>uniprot:P0DTD1-PRO_0000449623</td>\n",
       "      <td>intact:EBI-301821|uniprotkb:B3KRS5|uniprotkb:E...</td>\n",
       "      <td>intact:EBI-25475864</td>\n",
       "      <td>HDAC2</td>\n",
       "      <td>NSP5_WCPV</td>\n",
       "      <td>intact:EBI-25490970</td>\n",
       "    </tr>\n",
       "  </tbody>\n",
       "</table>\n",
       "</div>"
      ],
      "text/plain": [
       "    SARS_COV2_Protein_ID               Human_Protein_ID  \\\n",
       "108       uniprot:Q92769  uniprot:P0DTD1-PRO_0000449623   \n",
       "\n",
       "                               Alt. ID(s) interactor A  \\\n",
       "108  intact:EBI-301821|uniprotkb:B3KRS5|uniprotkb:E...   \n",
       "\n",
       "    Alt. ID(s) interactor B SARS_COV2_Protein_Name Human_Protein_Name  \\\n",
       "108     intact:EBI-25475864                  HDAC2          NSP5_WCPV   \n",
       "\n",
       "          Interaction_ID  \n",
       "108  intact:EBI-25490970  "
      ]
     },
     "execution_count": 19,
     "metadata": {},
     "output_type": "execute_result"
    }
   ],
   "source": [
    "data[data['SARS_COV2_Protein_ID'] == 'uniprot:Q92769']"
   ]
  },
  {
   "cell_type": "code",
   "execution_count": 20,
   "metadata": {},
   "outputs": [],
   "source": [
    "correct = ['uniprot:P0DTD1-PRO_0000449623', 'uniprot:Q92769', 'intact:EBI-25475864', 'intact:EBI-301821|uniprotkb:B3KRS5|uniprotkb:E1P561|uniprotkb:Q5SRI8|uniprotkb:Q5SZ86|uniprotkb:Q8NEH4|uniprotkb:B4DL58', 'NSP5', 'HDAC2', 'intact:EBI-25490970']\n",
    "data.loc[108] = correct"
   ]
  },
  {
   "cell_type": "markdown",
   "metadata": {},
   "source": [
    "**Correcting NSP11**"
   ]
  },
  {
   "cell_type": "code",
   "execution_count": 21,
   "metadata": {},
   "outputs": [
    {
     "data": {
      "text/html": [
       "<div>\n",
       "<style scoped>\n",
       "    .dataframe tbody tr th:only-of-type {\n",
       "        vertical-align: middle;\n",
       "    }\n",
       "\n",
       "    .dataframe tbody tr th {\n",
       "        vertical-align: top;\n",
       "    }\n",
       "\n",
       "    .dataframe thead th {\n",
       "        text-align: right;\n",
       "    }\n",
       "</style>\n",
       "<table border=\"1\" class=\"dataframe\">\n",
       "  <thead>\n",
       "    <tr style=\"text-align: right;\">\n",
       "      <th></th>\n",
       "      <th>SARS_COV2_Protein_ID</th>\n",
       "      <th>Human_Protein_ID</th>\n",
       "      <th>Alt. ID(s) interactor A</th>\n",
       "      <th>Alt. ID(s) interactor B</th>\n",
       "      <th>SARS_COV2_Protein_Name</th>\n",
       "      <th>Human_Protein_Name</th>\n",
       "      <th>Interaction_ID</th>\n",
       "    </tr>\n",
       "  </thead>\n",
       "  <tbody>\n",
       "    <tr>\n",
       "      <td>33</td>\n",
       "      <td>uniprot:O75347</td>\n",
       "      <td>uniprot:P0DTC1-PRO_0000449645</td>\n",
       "      <td>intact:EBI-2686341|uniprotkb:B4DT30</td>\n",
       "      <td>intact:EBI-25475882</td>\n",
       "      <td>TBCA</td>\n",
       "      <td>NSP11_WCPV</td>\n",
       "      <td>intact:EBI-25490682</td>\n",
       "    </tr>\n",
       "  </tbody>\n",
       "</table>\n",
       "</div>"
      ],
      "text/plain": [
       "   SARS_COV2_Protein_ID               Human_Protein_ID  \\\n",
       "33       uniprot:O75347  uniprot:P0DTC1-PRO_0000449645   \n",
       "\n",
       "                Alt. ID(s) interactor A Alt. ID(s) interactor B  \\\n",
       "33  intact:EBI-2686341|uniprotkb:B4DT30     intact:EBI-25475882   \n",
       "\n",
       "   SARS_COV2_Protein_Name Human_Protein_Name       Interaction_ID  \n",
       "33                   TBCA         NSP11_WCPV  intact:EBI-25490682  "
      ]
     },
     "execution_count": 21,
     "metadata": {},
     "output_type": "execute_result"
    }
   ],
   "source": [
    "data[data['SARS_COV2_Protein_ID'] == 'uniprot:O75347']"
   ]
  },
  {
   "cell_type": "code",
   "execution_count": 22,
   "metadata": {},
   "outputs": [],
   "source": [
    "correct = ['uniprot:P0DTC1-PRO_0000449645', 'uniprot:O75347', 'intact:EBI-25475882','intact:EBI-2686341|uniprotkb:B4DT30', 'NSP11', 'TBCA', 'intact:EBI-25490682']\n",
    "data.loc[33] = correct"
   ]
  },
  {
   "cell_type": "markdown",
   "metadata": {},
   "source": [
    "**Correcting NSP-C145A**"
   ]
  },
  {
   "cell_type": "code",
   "execution_count": 23,
   "metadata": {},
   "outputs": [],
   "source": [
    "data.loc[102]['SARS_COV2_Protein_ID'] = 'uniprot:NSP5_C145A'\n",
    "data.loc[103]['SARS_COV2_Protein_ID'] = 'uniprot:NSP5_C145A'\n",
    "data.loc[102]['SARS_COV2_Protein_Name'] = 'NSP5_C145A'\n",
    "data.loc[103]['SARS_COV2_Protein_Name'] = 'NSP5_C145A'"
   ]
  },
  {
   "cell_type": "markdown",
   "metadata": {},
   "source": [
    "**Writing ```interactions.csv```**"
   ]
  },
  {
   "cell_type": "code",
   "execution_count": 24,
   "metadata": {},
   "outputs": [],
   "source": [
    "interactions = data[['SARS_COV2_Protein_ID', 'Human_Protein_ID', 'Interaction_ID']]\n",
    "interactions.to_csv('interactions_data.csv', index = False)"
   ]
  },
  {
   "cell_type": "markdown",
   "metadata": {},
   "source": [
    "### Creating Node data files"
   ]
  },
  {
   "cell_type": "code",
   "execution_count": 25,
   "metadata": {},
   "outputs": [],
   "source": [
    "data = data.rename({'Alt. ID(s) interactor A':'SARS_COV2_Alt_ID', 'Alt. ID(s) interactor B':'Human_Alt_ID'}, axis = 1)\n",
    "virus_df = data[['SARS_COV2_Protein_ID', 'SARS_COV2_Alt_ID', 'SARS_COV2_Protein_Name']]\n",
    "virus_df = virus_df.drop_duplicates(subset = ['SARS_COV2_Protein_ID', 'SARS_COV2_Protein_Name']).reset_index(drop = True)"
   ]
  },
  {
   "cell_type": "markdown",
   "metadata": {},
   "source": [
    "**Unnesting the Alternate IDs**"
   ]
  },
  {
   "cell_type": "code",
   "execution_count": 26,
   "metadata": {},
   "outputs": [],
   "source": [
    "def pre_un_nest(id_):\n",
    "    if '|' not in id_:\n",
    "        if 'intact' in id_:\n",
    "            return {'Alt_intact_ID': id_, 'Alt_uniprot_ID': np.nan}\n",
    "        elif 'uniprot_ID' in id_:\n",
    "            return {'Alt_intact_ID': np.nan, 'Alt_uniprot_ID': id_}\n",
    "    else:\n",
    "        ids = id_.split('|')\n",
    "        intact_data = []\n",
    "        uniprot_data = []\n",
    "        \n",
    "        for id__ in ids:   \n",
    "            if 'intact' in id__:\n",
    "                intact_data += [id__]\n",
    "                    \n",
    "            elif 'uniprot' in id__:\n",
    "                uniprot_data += [id__]\n",
    "                            \n",
    "        if len(uniprot_data) == 1:\n",
    "            uniprot_data = uniprot_data[0]\n",
    "            \n",
    "        if len(intact_data) == 1:\n",
    "            intact_data = intact_data[0]\n",
    "            \n",
    "        return {'Alt_uniprot_ID': uniprot_data, 'Alt_intact_ID': intact_data}"
   ]
  },
  {
   "cell_type": "code",
   "execution_count": 27,
   "metadata": {},
   "outputs": [],
   "source": [
    "unnested = (virus_df['SARS_COV2_Alt_ID'].apply(pre_un_nest)).apply(pd.Series)\n",
    "unnested['SARS_COV2_Protein_ID'] = virus_df['SARS_COV2_Protein_ID']\n",
    "unnested = unnested[unnested.columns.tolist()[::-1]]\n",
    "virus_df = virus_df.drop('SARS_COV2_Alt_ID', axis = 1)"
   ]
  },
  {
   "cell_type": "markdown",
   "metadata": {},
   "source": [
    "**Load in Jeff Law's Data with Sequences**"
   ]
  },
  {
   "cell_type": "code",
   "execution_count": 28,
   "metadata": {},
   "outputs": [],
   "source": [
    "sequence_interactions = pd.read_excel('../reference_data/2020-04-krogan-sarscov2-sequences-uniprot-mapping.xlsx')\n",
    "sequence_interactions = sequence_interactions.loc[:26, :]"
   ]
  },
  {
   "cell_type": "markdown",
   "metadata": {},
   "source": [
    "**Standardizing Names with IntAct data and selecting appropriate columns**"
   ]
  },
  {
   "cell_type": "code",
   "execution_count": 29,
   "metadata": {},
   "outputs": [],
   "source": [
    "sequence_interactions['SARS_COV2_Protein_Name'] = sequence_interactions['Krogan name'].apply(lambda name: name.split()[-1].upper())\n",
    "all_external_data = sequence_interactions[['SARS_COV2_Protein_Name', 'Sequence', 'Length', 'Start Pos', 'End Pos']]\n",
    "virus_df = virus_df.merge(all_external_data, how = 'outer', indicator=True)\n",
    "virus_df = virus_df[virus_df.columns[:-1]]"
   ]
  },
  {
   "cell_type": "markdown",
   "metadata": {},
   "source": [
    "### Generating md5 hash based on sequence"
   ]
  },
  {
   "cell_type": "code",
   "execution_count": 30,
   "metadata": {},
   "outputs": [],
   "source": [
    "assert len(virus_df) == len(virus_df['Sequence'].unique())\n",
    "\n",
    "virus_df['md5Hash'] = virus_df['Sequence'].apply(lambda seq: hashlib.md5(seq.encode()).hexdigest())\n",
    "virus_df = virus_df.rename({'SARS_COV2_Protein_ID': 'SARS_COV2_Identifier', 'md5Hash': 'SARS_COV2_Protein_ID'}, axis = 1)\n",
    "\n",
    "sequences = virus_df[['SARS_COV2_Protein_ID', 'SARS_COV2_Identifier', 'SARS_COV2_Protein_Name', 'Sequence', 'Length', 'Start Pos', 'End Pos']]\n",
    "sequences['Start Pos'] = sequences['Start Pos'].astype(int)\n",
    "sequences['End Pos'] = sequences['End Pos'].astype(int)\n",
    "\n",
    "map_identifiers = virus_df[['SARS_COV2_Identifier', 'SARS_COV2_Protein_ID']]"
   ]
  },
  {
   "cell_type": "markdown",
   "metadata": {},
   "source": [
    "### Mapping interactions to the ```interactions``` dataframe and the ```unnested``` dataframe"
   ]
  },
  {
   "cell_type": "code",
   "execution_count": 31,
   "metadata": {},
   "outputs": [],
   "source": [
    "interactions = interactions.rename({'SARS_COV2_Protein_ID': 'SARS_COV2_Identifier'}, axis = 1)\n",
    "interactions = interactions.merge(map_identifiers)\n",
    "interactions = interactions.drop('SARS_COV2_Identifier', axis = 1)\n",
    "interactions = interactions[['Interaction_ID', 'SARS_COV2_Protein_ID', 'Human_Protein_ID']]\n",
    "\n",
    "\n",
    "unnested = unnested.rename({'SARS_COV2_Protein_ID': 'SARS_COV2_Identifier'}, axis = 1)\n",
    "unnested['Alt_uniprot_ID'] = unnested['Alt_uniprot_ID'].apply(lambda id_: np.nan if id_ == [] else id_)\n",
    "unnested = unnested.merge(map_identifiers).drop('SARS_COV2_Identifier', axis = 1)\n",
    "unnested = unnested[unnested.columns[::-1]]"
   ]
  },
  {
   "cell_type": "markdown",
   "metadata": {},
   "source": [
    "### Creating the Human Proteins File"
   ]
  },
  {
   "cell_type": "code",
   "execution_count": 32,
   "metadata": {},
   "outputs": [],
   "source": [
    "human_data = data[['Human_Protein_ID', 'Human_Protein_Name', 'Human_Alt_ID']]\n",
    "unnested_aliases = (human_data['Human_Alt_ID'].apply(pre_un_nest)).apply(pd.Series)\n",
    "human_data = human_data.drop('Human_Alt_ID', axis = 1)\n",
    "unnested_aliases['Human_Protein_ID'] = human_data['Human_Protein_ID']\n",
    "unnested_aliases = unnested_aliases[unnested_aliases.columns[::-1]]"
   ]
  },
  {
   "cell_type": "markdown",
   "metadata": {},
   "source": [
    "### Writing all files to csv"
   ]
  },
  {
   "cell_type": "code",
   "execution_count": null,
   "metadata": {},
   "outputs": [],
   "source": [
    "sequences.to_csv(NEO4J_HOME / 'import/01e-virus_data.csv', index = False)\n",
    "unnested.to_csv(NEO4J_HOME / 'import/01e-virus_alias.csv', index = False)\n",
    "human_data.to_csv(NEO4J_HOME / 'import/01e-human_data.csv', index = False)\n",
    "unnested_aliases.to_csv(NEO4J_HOME / 'import/01e-human_alias.csv', index = False)\n",
    "interactions.to_csv(NEO4J_HOME / 'import/01e-interactions.csv', index = False)"
   ]
  },
  {
   "cell_type": "markdown",
   "metadata": {},
   "source": [
    "### End resulting files"
   ]
  },
  {
   "cell_type": "markdown",
   "metadata": {},
   "source": [
    "**```01e-virus_data.csv```**: Contains all the viral protein sequences and associated information, with all conflicts resolved from the 3 data sources. Proteins are identified with the md5 hash a.k.a. protein id. Also contains information on sequences, start-point in genome, end-point in genome, and a standard identifiers.org representation. \n",
    "\n",
    "**```01e-virus_alias.csv```**: Contains all the alias IDs known for the viral sequences,be it interact or uniprot. Keyed by the protein ID.\n",
    "\n",
    "**```01e-human_data.csv```**: Contains all the human protein sequences and associated information.Proteins are identified with the standard identifiers.org representation a.k.a.which is essentially the protein id.\n",
    "\n",
    "**```01e-human_alias.csv```**: Contains all the alias IDs known for the human sequences,be it interact or uniprot. Keyed by the protein ID.\n",
    "\n",
    "**```01e-interactions.csv```**: Contains all the interactions between a viral protein and a human protein. Each one of these interactions also has an ID which is resolvable on identifiers.org."
   ]
  },
  {
   "cell_type": "code",
   "execution_count": 34,
   "metadata": {},
   "outputs": [],
   "source": [
    "#TODO: \n",
    "#Automated Download of Intact Data\n",
    "#Nodes based on Taxonomy ID (eliminating the need for virus_data, human_data)"
   ]
  }
 ],
 "metadata": {
  "kernelspec": {
   "display_name": "Python 3",
   "language": "python",
   "name": "python3"
  },
  "language_info": {
   "codemirror_mode": {
    "name": "ipython",
    "version": 3
   },
   "file_extension": ".py",
   "mimetype": "text/x-python",
   "name": "python",
   "nbconvert_exporter": "python",
   "pygments_lexer": "ipython3",
   "version": "3.7.3"
  }
 },
 "nbformat": 4,
 "nbformat_minor": 2
}

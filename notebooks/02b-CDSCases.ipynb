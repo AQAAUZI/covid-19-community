{
 "cells": [
  {
   "cell_type": "markdown",
   "metadata": {},
   "source": [
    "# COVID-19 Case Counts from Johns Hopkins University"
   ]
  },
  {
   "cell_type": "markdown",
   "metadata": {},
   "source": [
    "**[Work in progress]**\n",
    "\n",
    "This notebook creates a .csv file with cummulative confimed cases and deaths for ingestion into the Knowledge Graph.\n",
    "\n",
    "Data source: [COVID-19 Data Repository by the Center for Systems Science and Engineering (CSSE) at Johns Hopkins University](https://github.com/CSSEGISandData/COVID-19)\n",
    "\n",
    "Author: Peter Rose (pwrose@ucsd.edu)"
   ]
  },
  {
   "cell_type": "code",
   "execution_count": 1,
   "metadata": {},
   "outputs": [],
   "source": [
    "import os\n",
    "from io import BytesIO\n",
    "from zipfile import ZipFile\n",
    "from urllib.request import urlopen\n",
    "from pathlib import Path\n",
    "import pandas as pd\n",
    "import dateutil"
   ]
  },
  {
   "cell_type": "code",
   "execution_count": 2,
   "metadata": {},
   "outputs": [],
   "source": [
    "pd.options.display.max_rows = None  # display all rows\n",
    "pd.options.display.max_columns = None  # display all columsns"
   ]
  },
  {
   "cell_type": "code",
   "execution_count": 3,
   "metadata": {},
   "outputs": [
    {
     "name": "stdout",
     "output_type": "stream",
     "text": [
      "/Users/peter/Library/Application Support/Neo4j Desktop/Application/neo4jDatabases/database-4af96121-2328-4e2f-ba60-6d8b728a26d5/installation-4.0.3\n"
     ]
    }
   ],
   "source": [
    "NEO4J_HOME = Path(os.getenv('NEO4J_HOME'))\n",
    "print(NEO4J_HOME)"
   ]
  },
  {
   "cell_type": "code",
   "execution_count": 4,
   "metadata": {},
   "outputs": [],
   "source": [
    "def split_by_day(df, day, label):\n",
    "    day_df = df[['stateFips', 'countyFips', day]].copy()\n",
    "    day_df.rename(columns={day: label}, inplace=True)\n",
    "    day_df['date'] = day\n",
    "    return day_df"
   ]
  },
  {
   "cell_type": "markdown",
   "metadata": {},
   "source": [
    "### Process cummulative confirmed cases"
   ]
  },
  {
   "cell_type": "code",
   "execution_count": 5,
   "metadata": {},
   "outputs": [],
   "source": [
    "cases = pd.read_csv(\"https://coronadatascraper.com/timeseries-tidy.csv.zip\",  dtype='str')"
   ]
  },
  {
   "cell_type": "code",
   "execution_count": 6,
   "metadata": {},
   "outputs": [],
   "source": [
    "cases = cases.fillna('')"
   ]
  },
  {
   "cell_type": "code",
   "execution_count": 7,
   "metadata": {},
   "outputs": [
    {
     "data": {
      "text/html": [
       "<div>\n",
       "<style scoped>\n",
       "    .dataframe tbody tr th:only-of-type {\n",
       "        vertical-align: middle;\n",
       "    }\n",
       "\n",
       "    .dataframe tbody tr th {\n",
       "        vertical-align: top;\n",
       "    }\n",
       "\n",
       "    .dataframe thead th {\n",
       "        text-align: right;\n",
       "    }\n",
       "</style>\n",
       "<table border=\"1\" class=\"dataframe\">\n",
       "  <thead>\n",
       "    <tr style=\"text-align: right;\">\n",
       "      <th></th>\n",
       "      <th>name</th>\n",
       "      <th>level</th>\n",
       "      <th>city</th>\n",
       "      <th>county</th>\n",
       "      <th>state</th>\n",
       "      <th>country</th>\n",
       "      <th>population</th>\n",
       "      <th>lat</th>\n",
       "      <th>long</th>\n",
       "      <th>aggregate</th>\n",
       "      <th>tz</th>\n",
       "      <th>date</th>\n",
       "      <th>type</th>\n",
       "      <th>value</th>\n",
       "    </tr>\n",
       "  </thead>\n",
       "  <tbody>\n",
       "    <tr>\n",
       "      <th>0</th>\n",
       "      <td>Antwerp, Flanders, Belgium</td>\n",
       "      <td>county</td>\n",
       "      <td></td>\n",
       "      <td>Antwerp</td>\n",
       "      <td>Flanders</td>\n",
       "      <td>Belgium</td>\n",
       "      <td>1847486</td>\n",
       "      <td>51.2485</td>\n",
       "      <td>4.717499999999999</td>\n",
       "      <td></td>\n",
       "      <td>Europe/Brussels</td>\n",
       "      <td>2020-01-22</td>\n",
       "      <td>cases</td>\n",
       "      <td>4</td>\n",
       "    </tr>\n",
       "    <tr>\n",
       "      <th>1</th>\n",
       "      <td>Antwerp, Flanders, Belgium</td>\n",
       "      <td>county</td>\n",
       "      <td></td>\n",
       "      <td>Antwerp</td>\n",
       "      <td>Flanders</td>\n",
       "      <td>Belgium</td>\n",
       "      <td>1847486</td>\n",
       "      <td>51.2485</td>\n",
       "      <td>4.717499999999999</td>\n",
       "      <td></td>\n",
       "      <td>Europe/Brussels</td>\n",
       "      <td>2020-01-23</td>\n",
       "      <td>cases</td>\n",
       "      <td>4</td>\n",
       "    </tr>\n",
       "    <tr>\n",
       "      <th>2</th>\n",
       "      <td>Antwerp, Flanders, Belgium</td>\n",
       "      <td>county</td>\n",
       "      <td></td>\n",
       "      <td>Antwerp</td>\n",
       "      <td>Flanders</td>\n",
       "      <td>Belgium</td>\n",
       "      <td>1847486</td>\n",
       "      <td>51.2485</td>\n",
       "      <td>4.717499999999999</td>\n",
       "      <td></td>\n",
       "      <td>Europe/Brussels</td>\n",
       "      <td>2020-01-23</td>\n",
       "      <td>growthFactor</td>\n",
       "      <td>1</td>\n",
       "    </tr>\n",
       "    <tr>\n",
       "      <th>3</th>\n",
       "      <td>Antwerp, Flanders, Belgium</td>\n",
       "      <td>county</td>\n",
       "      <td></td>\n",
       "      <td>Antwerp</td>\n",
       "      <td>Flanders</td>\n",
       "      <td>Belgium</td>\n",
       "      <td>1847486</td>\n",
       "      <td>51.2485</td>\n",
       "      <td>4.717499999999999</td>\n",
       "      <td></td>\n",
       "      <td>Europe/Brussels</td>\n",
       "      <td>2020-01-24</td>\n",
       "      <td>cases</td>\n",
       "      <td>4</td>\n",
       "    </tr>\n",
       "    <tr>\n",
       "      <th>4</th>\n",
       "      <td>Antwerp, Flanders, Belgium</td>\n",
       "      <td>county</td>\n",
       "      <td></td>\n",
       "      <td>Antwerp</td>\n",
       "      <td>Flanders</td>\n",
       "      <td>Belgium</td>\n",
       "      <td>1847486</td>\n",
       "      <td>51.2485</td>\n",
       "      <td>4.717499999999999</td>\n",
       "      <td></td>\n",
       "      <td>Europe/Brussels</td>\n",
       "      <td>2020-01-24</td>\n",
       "      <td>growthFactor</td>\n",
       "      <td>1</td>\n",
       "    </tr>\n",
       "  </tbody>\n",
       "</table>\n",
       "</div>"
      ],
      "text/plain": [
       "                         name   level city   county     state  country  \\\n",
       "0  Antwerp, Flanders, Belgium  county       Antwerp  Flanders  Belgium   \n",
       "1  Antwerp, Flanders, Belgium  county       Antwerp  Flanders  Belgium   \n",
       "2  Antwerp, Flanders, Belgium  county       Antwerp  Flanders  Belgium   \n",
       "3  Antwerp, Flanders, Belgium  county       Antwerp  Flanders  Belgium   \n",
       "4  Antwerp, Flanders, Belgium  county       Antwerp  Flanders  Belgium   \n",
       "\n",
       "  population      lat               long aggregate               tz  \\\n",
       "0    1847486  51.2485  4.717499999999999            Europe/Brussels   \n",
       "1    1847486  51.2485  4.717499999999999            Europe/Brussels   \n",
       "2    1847486  51.2485  4.717499999999999            Europe/Brussels   \n",
       "3    1847486  51.2485  4.717499999999999            Europe/Brussels   \n",
       "4    1847486  51.2485  4.717499999999999            Europe/Brussels   \n",
       "\n",
       "         date          type value  \n",
       "0  2020-01-22         cases     4  \n",
       "1  2020-01-23         cases     4  \n",
       "2  2020-01-23  growthFactor     1  \n",
       "3  2020-01-24         cases     4  \n",
       "4  2020-01-24  growthFactor     1  "
      ]
     },
     "execution_count": 7,
     "metadata": {},
     "output_type": "execute_result"
    }
   ],
   "source": [
    "cases.head()"
   ]
  }
 ],
 "metadata": {
  "kernelspec": {
   "display_name": "Python 3",
   "language": "python",
   "name": "python3"
  },
  "language_info": {
   "codemirror_mode": {
    "name": "ipython",
    "version": 3
   },
   "file_extension": ".py",
   "mimetype": "text/x-python",
   "name": "python",
   "nbconvert_exporter": "python",
   "pygments_lexer": "ipython3",
   "version": "3.8.2"
  }
 },
 "nbformat": 4,
 "nbformat_minor": 4
}

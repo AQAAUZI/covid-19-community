{
 "cells": [
  {
   "cell_type": "markdown",
   "metadata": {},
   "source": [
    "# Assigns location to Strain Data from CNCB\n",
    "**[Work in progress]**\n",
    "\n",
    "This notebook standardizes location information for viral strain from CNCB for ingestion into a Knowledge Graph.\n",
    "\n",
    "Author: Peter Rose (pwrose@ucsd.edu)"
   ]
  },
  {
   "cell_type": "code",
   "execution_count": 1,
   "metadata": {},
   "outputs": [],
   "source": [
    "import os\n",
    "import pandas as pd\n",
    "#import dateutil\n",
    "from pathlib import Path\n",
    "#from os import path"
   ]
  },
  {
   "cell_type": "code",
   "execution_count": 2,
   "metadata": {},
   "outputs": [],
   "source": [
    "pd.options.display.max_rows = None  # display all rows\n",
    "pd.options.display.max_columns = None  # display all columsns"
   ]
  },
  {
   "cell_type": "code",
   "execution_count": 3,
   "metadata": {},
   "outputs": [
    {
     "name": "stdout",
     "output_type": "stream",
     "text": [
      "/Users/peter/Library/Application Support/Neo4j Desktop/Application/neo4jDatabases/database-4af96121-2328-4e2f-ba60-6d8b728a26d5/installation-4.0.3\n"
     ]
    }
   ],
   "source": [
    "NEO4J_HOME = Path(os.getenv('NEO4J_HOME'))\n",
    "print(NEO4J_HOME)"
   ]
  },
  {
   "cell_type": "markdown",
   "metadata": {},
   "source": [
    "## Standardize Location data for SARS-CoV-2 Strain metadata\n",
    "\n",
    "TODO this code should be replaced with a general solution.\n",
    "\n",
    "Below is a workaround for now."
   ]
  },
  {
   "cell_type": "code",
   "execution_count": 4,
   "metadata": {},
   "outputs": [],
   "source": [
    "df = pd.read_csv(NEO4J_HOME / \"import/01d-CNCBStrain.csv\", dtype='str')\n",
    "df.fillna('', inplace=True)"
   ]
  },
  {
   "cell_type": "code",
   "execution_count": 5,
   "metadata": {},
   "outputs": [
    {
     "data": {
      "text/html": [
       "<div>\n",
       "<style scoped>\n",
       "    .dataframe tbody tr th:only-of-type {\n",
       "        vertical-align: middle;\n",
       "    }\n",
       "\n",
       "    .dataframe tbody tr th {\n",
       "        vertical-align: top;\n",
       "    }\n",
       "\n",
       "    .dataframe thead th {\n",
       "        text-align: right;\n",
       "    }\n",
       "</style>\n",
       "<table border=\"1\" class=\"dataframe\">\n",
       "  <thead>\n",
       "    <tr style=\"text-align: right;\">\n",
       "      <th></th>\n",
       "      <th>id</th>\n",
       "      <th>name</th>\n",
       "      <th>alias</th>\n",
       "      <th>taxonomyId</th>\n",
       "      <th>hostTaxonomyId</th>\n",
       "      <th>collectionDate</th>\n",
       "      <th>location</th>\n",
       "    </tr>\n",
       "  </thead>\n",
       "  <tbody>\n",
       "    <tr>\n",
       "      <th>0</th>\n",
       "      <td>NMDC60013088-01</td>\n",
       "      <td>BetaCoV/Wuhan/HBCDC-HB-01/2019</td>\n",
       "      <td>NMDC60013088-01;EPI_ISL_402132</td>\n",
       "      <td>taxonomy:2697049</td>\n",
       "      <td>taxonomy:9606</td>\n",
       "      <td>2019-12-30</td>\n",
       "      <td>China / Hubei</td>\n",
       "    </tr>\n",
       "    <tr>\n",
       "      <th>1</th>\n",
       "      <td>https://www.gisaid.org/EPI_ISL_402132</td>\n",
       "      <td>BetaCoV/Wuhan/HBCDC-HB-01/2019</td>\n",
       "      <td>NMDC60013088-01;EPI_ISL_402132</td>\n",
       "      <td>taxonomy:2697049</td>\n",
       "      <td>taxonomy:9606</td>\n",
       "      <td>2019-12-30</td>\n",
       "      <td>China / Hubei</td>\n",
       "    </tr>\n",
       "    <tr>\n",
       "      <th>2</th>\n",
       "      <td>https://www.gisaid.org/EPI_ISL_403963</td>\n",
       "      <td>BetaCoV/Nonthaburi/74/2020</td>\n",
       "      <td>EPI_ISL_403963</td>\n",
       "      <td>taxonomy:2697049</td>\n",
       "      <td>taxonomy:9606</td>\n",
       "      <td>2020-01-13</td>\n",
       "      <td>Thailand/ Nonthaburi Province</td>\n",
       "    </tr>\n",
       "    <tr>\n",
       "      <th>3</th>\n",
       "      <td>https://www.gisaid.org/EPI_ISL_403962</td>\n",
       "      <td>BetaCoV/Nonthaburi/61/2020</td>\n",
       "      <td>EPI_ISL_403962</td>\n",
       "      <td>taxonomy:2697049</td>\n",
       "      <td>taxonomy:9606</td>\n",
       "      <td>2020-01-08</td>\n",
       "      <td>Thailand/ Nonthaburi Province</td>\n",
       "    </tr>\n",
       "    <tr>\n",
       "      <th>4</th>\n",
       "      <td>NMDC60013085-01</td>\n",
       "      <td>BetaCoV/Wuhan/IVDC-HB-04/2020</td>\n",
       "      <td>NMDC60013085-01;EPI_ISL_402120</td>\n",
       "      <td>taxonomy:2697049</td>\n",
       "      <td>taxonomy:9606</td>\n",
       "      <td>2020-01-01</td>\n",
       "      <td>China / Hubei / Wuhan</td>\n",
       "    </tr>\n",
       "  </tbody>\n",
       "</table>\n",
       "</div>"
      ],
      "text/plain": [
       "                                      id                            name  \\\n",
       "0                        NMDC60013088-01  BetaCoV/Wuhan/HBCDC-HB-01/2019   \n",
       "1  https://www.gisaid.org/EPI_ISL_402132  BetaCoV/Wuhan/HBCDC-HB-01/2019   \n",
       "2  https://www.gisaid.org/EPI_ISL_403963      BetaCoV/Nonthaburi/74/2020   \n",
       "3  https://www.gisaid.org/EPI_ISL_403962      BetaCoV/Nonthaburi/61/2020   \n",
       "4                        NMDC60013085-01   BetaCoV/Wuhan/IVDC-HB-04/2020   \n",
       "\n",
       "                            alias        taxonomyId hostTaxonomyId  \\\n",
       "0  NMDC60013088-01;EPI_ISL_402132  taxonomy:2697049  taxonomy:9606   \n",
       "1  NMDC60013088-01;EPI_ISL_402132  taxonomy:2697049  taxonomy:9606   \n",
       "2                  EPI_ISL_403963  taxonomy:2697049  taxonomy:9606   \n",
       "3                  EPI_ISL_403962  taxonomy:2697049  taxonomy:9606   \n",
       "4  NMDC60013085-01;EPI_ISL_402120  taxonomy:2697049  taxonomy:9606   \n",
       "\n",
       "  collectionDate                       location  \n",
       "0     2019-12-30                  China / Hubei  \n",
       "1     2019-12-30                  China / Hubei  \n",
       "2     2020-01-13  Thailand/ Nonthaburi Province  \n",
       "3     2020-01-08  Thailand/ Nonthaburi Province  \n",
       "4     2020-01-01          China / Hubei / Wuhan  "
      ]
     },
     "execution_count": 5,
     "metadata": {},
     "output_type": "execute_result"
    }
   ],
   "source": [
    "df.head()"
   ]
  },
  {
   "cell_type": "markdown",
   "metadata": {},
   "source": [
    "#### Split locations"
   ]
  },
  {
   "cell_type": "code",
   "execution_count": 6,
   "metadata": {},
   "outputs": [],
   "source": [
    "df['locationLevels'] = df['location'].str.count('/')"
   ]
  },
  {
   "cell_type": "code",
   "execution_count": 7,
   "metadata": {},
   "outputs": [],
   "source": [
    "df[['country', 'admin1', 'admin2', 'city']] = df['location'].str.split('/', n=3, expand=True)\n",
    "df['country'] = df['country'].str.strip()\n",
    "df['admin1'] = df['admin1'].str.strip()\n",
    "df['admin2'] = df['admin2'].str.strip()\n",
    "df['city'] = df['city'].str.strip()"
   ]
  },
  {
   "cell_type": "markdown",
   "metadata": {},
   "source": [
    "Fix country names"
   ]
  },
  {
   "cell_type": "code",
   "execution_count": 8,
   "metadata": {},
   "outputs": [],
   "source": [
    "df['country'] = df['country'].str.replace('\\u200eRomania','Romania')\n",
    "df['country'] = df['country'].str.replace('Czech Republic','Czechia')\n",
    "df['country'] = df['country'].str.replace('Czech republic','Czechia')\n",
    "df['country'] = df['country'].str.replace('Luxemburg','Luxembourg')\n",
    "df.fillna('', inplace=True)"
   ]
  },
  {
   "cell_type": "markdown",
   "metadata": {},
   "source": [
    "Check for country mismatches"
   ]
  },
  {
   "cell_type": "code",
   "execution_count": 9,
   "metadata": {},
   "outputs": [],
   "source": [
    "countries = pd.read_csv(NEO4J_HOME / \"import/00e-GeoNamesCountry.csv\")\n",
    "loc0 = df[['country']].copy()\n",
    "loc0 = loc0.merge(countries, left_on='country', right_on='name', how='left')"
   ]
  },
  {
   "cell_type": "code",
   "execution_count": 10,
   "metadata": {},
   "outputs": [
    {
     "name": "stdout",
     "output_type": "stream",
     "text": [
      "Country name mismatches:\n"
     ]
    },
    {
     "data": {
      "text/plain": [
       "array([], dtype=object)"
      ]
     },
     "execution_count": 10,
     "metadata": {},
     "output_type": "execute_result"
    }
   ],
   "source": [
    "loc0.fillna('', inplace=True)\n",
    "loc0 = loc0.query(\"name == ''\")\n",
    "print(\"Country name mismatches:\")\n",
    "loc0['country'].unique()"
   ]
  },
  {
   "cell_type": "markdown",
   "metadata": {},
   "source": [
    "Fix Admin1 names"
   ]
  },
  {
   "cell_type": "code",
   "execution_count": 11,
   "metadata": {},
   "outputs": [],
   "source": [
    "states = {\n",
    "        # US\n",
    "        'AK': 'Alaska',\n",
    "        'AL': 'Alabama',\n",
    "        'AR': 'Arkansas',\n",
    "        'AS': 'American Samoa',\n",
    "        'AZ': 'Arizona',\n",
    "        'CA': 'California',\n",
    "        'CO': 'Colorado',\n",
    "        'CT': 'Connecticut',\n",
    "        'DC': 'District of Columbia',\n",
    "        'DE': 'Delaware',\n",
    "        'FL': 'Florida',\n",
    "        'GA': 'Georgia',\n",
    "        'GU': 'Guam',\n",
    "        'HI': 'Hawaii',\n",
    "        'IA': 'Iowa',\n",
    "        'ID': 'Idaho',\n",
    "        'IL': 'Illinois',\n",
    "        'IN': 'Indiana',\n",
    "        'KS': 'Kansas',\n",
    "        'KY': 'Kentucky',\n",
    "        'LA': 'Louisiana',\n",
    "        'MA': 'Massachusetts',\n",
    "        'MD': 'Maryland',\n",
    "        'ME': 'Maine',\n",
    "        'MI': 'Michigan',\n",
    "        'MN': 'Minnesota',\n",
    "        'MO': 'Missouri',\n",
    "        'MP': 'Northern Mariana Islands',\n",
    "        'MS': 'Mississippi',\n",
    "        'MT': 'Montana',\n",
    "        'NA': 'National',\n",
    "        'NC': 'North Carolina',\n",
    "        'ND': 'North Dakota',\n",
    "        'NE': 'Nebraska',\n",
    "        'NH': 'New Hampshire',\n",
    "        'NJ': 'New Jersey',\n",
    "        'NM': 'New Mexico',\n",
    "        'NV': 'Nevada',\n",
    "        'NY': 'New York',\n",
    "        'OH': 'Ohio',\n",
    "        'OK': 'Oklahoma',\n",
    "        'OR': 'Oregon',\n",
    "        'PA': 'Pennsylvania',\n",
    "        'PR': 'Puerto Rico',\n",
    "        'RI': 'Rhode Island',\n",
    "        'SC': 'South Carolina',\n",
    "        'SD': 'South Dakota',\n",
    "        'TN': 'Tennessee',\n",
    "        'TX': 'Texas',\n",
    "        'UT': 'Utah',\n",
    "        'VA': 'Virginia',\n",
    "        'VI': 'Virgin Islands',\n",
    "        'VT': 'Vermont',\n",
    "        'WA': 'Washington',\n",
    "        'WI': 'Wisconsin',\n",
    "        'WV': 'West Virginia',\n",
    "        'WY': 'Wyoming',\n",
    "        # Canada\n",
    "        'AB': 'Alberta',\n",
    "        'BC': 'British Columbia',\n",
    "        'MB': 'Manitoba',\n",
    "        'NB': 'New Brunswick',\n",
    "        'NL': 'Newfoundland and Labrador',\n",
    "        'NT': 'Northwest Territories',\n",
    "        'NS': 'Nova Scotia',\n",
    "        'NU': 'Nunavut',\n",
    "        'ON': 'Ontario',\n",
    "        'PE': 'Prince Edward Island',\n",
    "        'QC': 'Quebec',\n",
    "        'SK': 'Saskatchewan',\n",
    "        'YT': 'Yukon'\n",
    "}"
   ]
  },
  {
   "cell_type": "code",
   "execution_count": 12,
   "metadata": {},
   "outputs": [],
   "source": [
    "# # expand states to full name\n",
    "df['admin1'] = df['admin1'].apply(lambda s: states.get(s, s))\n",
    "df['admin1'] = df['admin1'].str.replace('Nonthaburi Province','Nonthaburi')\n",
    "df['admin1'] = df['admin1'].str.replace('Guangdong Province','Guangdong')\n",
    "df['admin1'] = df['admin1'].str.replace('Ile De France','Ile-de-France')\n",
    "df.fillna('', inplace=True)"
   ]
  },
  {
   "cell_type": "markdown",
   "metadata": {},
   "source": [
    "Check for Admin1 mismatches"
   ]
  },
  {
   "cell_type": "code",
   "execution_count": 13,
   "metadata": {},
   "outputs": [],
   "source": [
    "admin1 = pd.read_csv(NEO4J_HOME / \"import/00f-GeoNamesAdmin1.csv\")\n",
    "loc1 = df[['admin1']].copy()\n",
    "loc1 = loc1.query(\"admin1 != ''\")\n",
    "loc1 = loc1.merge(admin1, left_on='admin1', right_on='name', how='left')"
   ]
  },
  {
   "cell_type": "code",
   "execution_count": 14,
   "metadata": {},
   "outputs": [
    {
     "name": "stdout",
     "output_type": "stream",
     "text": [
      "Admin1 name mismatches:\n"
     ]
    },
    {
     "data": {
      "text/plain": [
       "array(['Leuven', 'Kathmandu', 'Rome', 'Sihanoukville', 'Hong Kong',\n",
       "       'North Rhine Westphalia', 'Kerala State', 'Haarlem', 'Blaricum',\n",
       "       'Hardinxveld Giessendam', 'Naarden', 'Zeewolde', 'Nootdorp',\n",
       "       'Oisterwijk', 'Tilburg', 'Rotterdam', 'NSW', 'Helsinki', 'Argovie',\n",
       "       'Basel', 'Tessin', 'Zuid Holland', 'Noord Brabant',\n",
       "       'Noord Holland', 'Cork', 'Munich', 'Talca', 'Limerick',\n",
       "       'Grand-Est', 'Normandie', 'Hauts de France', 'Huldenberg',\n",
       "       'Kraainem', 'Sint-Niklaas', 'Brussels', 'Genève',\n",
       "       'Ho Chi Minh city', 'Tbilisi', 'IDF', 'Bourgogne-France-Comté',\n",
       "       'Hangzhou', 'Saint Petersburg', 'Copenhagen', 'Quangning',\n",
       "       'Vinhphuc', 'Riyadh', 'Hawali', 'Holsbeek', 'Kessel-Lo',\n",
       "       'Couthuin', 'Comunitat_Valenciana', 'Zielonogorskie',\n",
       "       'Ile de France', 'Bretagne', 'Dasman', 'Prague', 'ARA',\n",
       "       'New York City', 'Castilla y León', 'Liège', 'Amazonas State',\n",
       "       'Gilgit', 'Dilbeek', 'Kasterlee', 'Schoten', 'Sint-Pieters-Woluwe',\n",
       "       'Rixensart', 'Vorst', 'Duesseldorf', 'Marche', 'Reykjavik',\n",
       "       'Kostoliste', 'Bratislava', 'Kosice', 'Martin', 'Touba',\n",
       "       'Centre-Val de Loire', 'Boufarik', 'Castilla-La Mancha',\n",
       "       'Castilla La Mancha', 'Castilla y Leon', 'Antwerp', 'Athens',\n",
       "       'Tipperary', 'Dublin', 'Louth', 'Wicklow', 'Houthalen-Helchteren',\n",
       "       'Zonhoven', 'Nevele', 'Ganshoren', 'Kalmthout', 'Chaineux',\n",
       "       'Gierle', 'Deinze', 'Beersel', 'Barcelona', 'Merelbeke', 'Oevel',\n",
       "       'Asse', 'Kaulile', 'Ellezelles', 'Hoegaarden', 'Eupen', 'Zolder',\n",
       "       'KPK', 'Ramat Gan', 'LaRioja', 'Ghent', 'Comunitat Valenciana',\n",
       "       'BasqueCountry', 'Bourgogne-Franche Comte', 'St-Louis', 'Wuhan',\n",
       "       'Brussel', 'Yernee-fraineux', 'Heverlee', 'Arbre',\n",
       "       'Montigny-le-Tilleul', 'Ukkel', 'Elsene', 'Waterloo',\n",
       "       'Braine-le-Chateau', 'Poppel', 'Winksele', 'Alken', 'Riemst',\n",
       "       'Neerpelt', 'Bree', 'Herstal', 'Seraing', 'Berloz', 'Bierset',\n",
       "       'Soumagne', 'Herve', 'Saive', 'Limbourg', 'Henri-chapelle',\n",
       "       'Theux', 'Temploux', 'Andenne', 'Havelange', 'Couvin', 'Charleroi',\n",
       "       'Courcelles', 'Havre', 'Haulchin', 'Geluwe', 'Gent',\n",
       "       'Sint-Gillis-Waas', 'Stekene', 'Waasmunster', 'Ronse', 'Etterbeek',\n",
       "       'Honnelles', 'Doornik', 'Villerot', 'Quevy', 'Watermaal-Bosvoorde',\n",
       "       'Anderlecht', 'Liege', 'Oudergem', 'Knokke-Heist', 'Boussu',\n",
       "       'La Louviere', 'Namur', 'Hemisem', 'Couillet', 'Tervuren',\n",
       "       'Zinnik', 'Beringen', 'Frameries', 'Tienen', 'Jemappes',\n",
       "       'Saisinne', 'Bassilly', 'Vilvoorde', 'Genappe',\n",
       "       'Sint-Agatha-Berchem', 'Mons', 'Quaregnon', 'Linter', 'Bierbeek',\n",
       "       'Sint-Pieter-Woluwe', 'Trazegnies', 'Colfontaine', 'Zoutleeuw',\n",
       "       'Lummen', 'Ath', 'Geraardsbergen', 'Sint-Truiden', 'Confontaine',\n",
       "       'Quevaucamps', 'Braine-l alleud', 'Blandain', 'Tubize', 'Koersel',\n",
       "       'Mouscron', 'Wanze', 'Montignies-Sur-Sambre', 'Lasne',\n",
       "       'Saint-Ghislain', 'Nieuwerkerken', 'Forchies-la-marche',\n",
       "       'Tielt-Winge', 'Soignies', 'Boutersem', 'Ladeuze', 'Cuesmes',\n",
       "       'Saint-Saulve', 'Helden', 'Fontaine-l Eveque', 'Tertre', 'Jumet',\n",
       "       'Grimbergen', 'Herselt', 'Kain', 'Sint-Genesius-Rode', 'Lubbeek',\n",
       "       'Hasselt', 'Lanaken', 'Wandre', 'Oostrozebeke', 'Dendermonde',\n",
       "       'Dalhem', 'Wevelgem', 'Bonheiden', 'Teramo', 'Castel di Sangro',\n",
       "       'Centre - Val de Loire', 'KZN', 'OHIO', 'Columbus OH',\n",
       "       'Estado de Mexico', 'CDMX', 'District of Columbia', 'Vasterbotten',\n",
       "       'Toulouse', 'Central Czechia and Prague', 'Northern territory',\n",
       "       'Saint-Petersburg', 'Doha', 'Västerbotten', 'Grand-est',\n",
       "       'Hauts De France', 'New Orleans', 'West Coast Region',\n",
       "       'Lipetsk Region', 'Krasnodar Region', 'St. Petersburg',\n",
       "       'Moscow Region', 'Krasnoyarsk Region', 'Sverdlovsk Region',\n",
       "       'Republic of Sakha (Yakutia)', 'Omsk Region', 'Khabarovsk Region',\n",
       "       'Samara Region', 'Republic of Kabardino-Balkaria',\n",
       "       'Republic of Buryatia', 'Perm Region', 'Republic of Crymea',\n",
       "       'Orenburg Region', 'Primorskiy Region', 'Pskov Region',\n",
       "       'Chechen Republic', 'Sakhalin Region', 'Tatarstan',\n",
       "       'Novosibirsk Region', 'Tver Region', 'Chelyabinsk Region',\n",
       "       'Malopolskie', 'Sormland', 'Varmland', 'Orebro lan',\n",
       "       'Ostergotland', 'Gavleborgs lan', 'Unknown', 'Minas gerais',\n",
       "       'Afyon', 'St.Petersburg', 'Buryat Republic', 'GP', 'West_Bengal',\n",
       "       'Ciudad Autonoma de Buenos Aires', 'Milheeze', 'Manila',\n",
       "       'Vysocina Region', 'Jamtland', 'Vastra Gotaland', 'Vastmanland',\n",
       "       'Mumbai', 'Nepal', 'Samut Prakarn', 'Puerto_Rico', 'Balatonfured',\n",
       "       'Balassagyarmat', 'Szeged', 'Kecskemet', 'Oroshaza',\n",
       "       'Bekesszentandras', 'Dolnoslaskie', 'Virgin Islands', 'Rajsathan',\n",
       "       'Pittsburgh', 'Kraljevo', 'Novi Pazar', 'Makkah', 'Madinah',\n",
       "       'Jeddah', 'Kanto', 'Dolnoslakie', 'Telengana', 'MAKKAH', 'MADINAH',\n",
       "       'JEDDAH', 'Ischgl', 'Innsbruck', 'Matrei am Brenner',\n",
       "       'Strass im Zillertal', 'Elbigenalp', 'Aldrans',\n",
       "       'Ramsau im Zillertal', 'Steinach am Brenner', 'Zams',\n",
       "       'Seefeld in Tirol', 'Kematen In Tirol', 'Laengenfeld', 'St. Anton',\n",
       "       'Sistrans', 'Cruise ship', 'South Tyrol', 'Bourgogne',\n",
       "       'Bourgogne Franche comte', 'Hyderabad', 'Guam', 'Bucharest',\n",
       "       'Puerto Montt', 'Punta Arenas', 'Temuco', 'Chillan', 'Rancagua',\n",
       "       'Coyhaique', 'Puerto Rico', 'South Coast District',\n",
       "       'South District', 'North District', 'Tel Aviv District',\n",
       "       'Jerusalem District', 'Norte de santander', 'Ho Chi Minh City'],\n",
       "      dtype=object)"
      ]
     },
     "execution_count": 14,
     "metadata": {},
     "output_type": "execute_result"
    }
   ],
   "source": [
    "loc1.fillna('', inplace=True)\n",
    "loc1 = loc1.query(\"name == ''\")\n",
    "print(\"Admin1 name mismatches:\")\n",
    "loc1['admin1'].unique()"
   ]
  },
  {
   "cell_type": "markdown",
   "metadata": {},
   "source": [
    "Check for Admin2 names"
   ]
  },
  {
   "cell_type": "code",
   "execution_count": 15,
   "metadata": {},
   "outputs": [],
   "source": [
    "admin2 = pd.read_csv(NEO4J_HOME / \"import/00g-GeoNamesAdmin2.csv\")\n",
    "loc2 = df[['admin2']].copy()\n",
    "loc2 = loc2.query(\"admin2 != ''\")\n",
    "loc2 = loc2.merge(admin2, left_on='admin2', right_on='name', how='left')"
   ]
  },
  {
   "cell_type": "code",
   "execution_count": 16,
   "metadata": {},
   "outputs": [
    {
     "name": "stdout",
     "output_type": "stream",
     "text": [
      "Admin2 name mismatches:\n"
     ]
    },
    {
     "data": {
      "text/plain": [
       "array(['Wuhan', 'Zhuhai City', 'Shenzhen City', 'Chicago', 'Los Angeles',\n",
       "       'Phoenix', 'Guangzhou City', \"Pu'er\", 'Clayton', 'Munich',\n",
       "       'Hangzhou', 'Sydney', 'Yongchuan', 'Chengdu', 'Kunming',\n",
       "       'Pingxiang', 'Zhongxian', 'Huaian', 'Qingdao', 'Hefei', 'Jingzhou',\n",
       "       'Guangzhou', 'Tianmen', 'Suzhou', 'Heinsberg District', 'Weifang',\n",
       "       'Yorkshire', 'Kirkland', 'Tacoma', 'Strasbourg', 'Rouen',\n",
       "       'Compiègne', 'Reims', 'Pontoise', 'Crépy en Valois',\n",
       "       'Feira de Santana', 'Seattle', 'Crépy-en -Valois',\n",
       "       'Montreux-Chateau', 'Thise', 'Dane county', 'Château-Thierry',\n",
       "       'Garches', 'Longjumeau', 'Rennes', 'South Yorkshire',\n",
       "       'Northamtonshire', 'London', 'Dane', 'San Francisco County',\n",
       "       'NanChang', 'Manhattan', 'Brest', 'Tours', 'Crouy en Thelle',\n",
       "       'Levallois-Perret', 'Meudon la Forêt', 'Vanves', 'Lyon',\n",
       "       'Saint-Priest', 'Macon', 'Venissieux', 'Valence',\n",
       "       'Bourg-en-Bresse', 'Privas', 'Brooklyn', 'Fuyang', 'Compiegne',\n",
       "       'Orsay', 'Chateau-Thierry', 'Woippy', 'Gennevilliers',\n",
       "       'Saint-Thibault-des-Vignes', 'Asnières-sur-Seine', 'Spicheren',\n",
       "       'Juvisy-sur-Orge', 'Staten Island', 'Queens', 'Bronx', 'Fairbanks',\n",
       "       'Perth', 'Teramo', \"L'Aquila\", 'Jiujiang', 'Nanchang', 'Shangrao',\n",
       "       'Ganzhou', 'Jian', 'Saint Germain en Laye', 'Seine-Port',\n",
       "       'Abondant', 'Tweed Heads', 'COLUMBUS', 'Verona', 'Ketchikan',\n",
       "       'Nassau', 'Rockland', 'New York City', 'Suffolk county',\n",
       "       'Nassau county', 'New Taipei city', 'New Taipei City',\n",
       "       'Xishuangbanna', 'Wauwatosa', 'Milwaukee', 'Oak Creek',\n",
       "       'Elm Grove', 'Pewaukee', 'Greenfield', 'New Berlin', 'Grafton',\n",
       "       'Jackson', 'Brookfield', 'Campbellsp', 'Mequon', 'Franklin',\n",
       "       'South Milw', 'Glendale', 'Cudahy', 'Whitefish', 'Thiensvill',\n",
       "       'Port Washi', 'Racine', 'Gondrecourt-le-chateau',\n",
       "       'Chateau-thierry', 'Carentan', 'LA', 'Huizhou', 'Shanwei',\n",
       "       'Zhanjiang', 'Dongguan', 'Zhongshan', 'Shantou', 'Zhuhai',\n",
       "       'Lishui', 'Ulan-Ude', 'Unknown County', 'Darjeeling', 'Tehatta',\n",
       "       'East Medinipur', 'Bela - Ledec na Sazavou', 'Ahmedabad', 'Noida',\n",
       "       'Faribanks', 'Eielson AFB', 'Juneau', 'New Orleans', 'Anchorage',\n",
       "       'Wasilla', 'Elmendorf AFB', 'NYC', 'River Hills',\n",
       "       'Greater Milwaukee Area', 'Saukville', 'Slinger', 'Hartford',\n",
       "       'Brown Deer', 'SAINT ROSE', 'NEW ORLEANS', 'LOCKPORT', 'LULING',\n",
       "       'RACELAND', 'GHEENS', 'THIBODAUX', 'LACOMBE', 'HOUMA', 'SLIDELL',\n",
       "       'MARINGOUIN', 'Indianapolis', 'Mat-Su', 'Interior', 'Southeast',\n",
       "       'Dijon', 'Pecq', 'Guyancourt', 'Cergy', 'Asnieres sur Seine',\n",
       "       'Chalon sur Saone', 'Ham sous Varsberg', 'Montigny le Bretonneux',\n",
       "       'Ploudalmezeau', \"Nogent l'Artaud\", 'Houston', 'Prantij',\n",
       "       'Dhansura', 'Southeast Queensland', 'Northern Queensland',\n",
       "       'Sagunt', 'Alboraya', 'Lutxent', 'Elda',\n",
       "       'Tavernes_de_la_Valldigna', 'Olleria', 'Meliana', 'Beniganim',\n",
       "       'Gandia', 'Palma_de_Gandia', 'Bonrepos_i_Mirambell', 'Xeraco',\n",
       "       'Oliva', 'Modasa', 'Himatnagar', 'Dahegam', 'Togui', 'Buga',\n",
       "       'El cerrito', 'Ansermo'], dtype=object)"
      ]
     },
     "execution_count": 16,
     "metadata": {},
     "output_type": "execute_result"
    }
   ],
   "source": [
    "loc2.fillna('', inplace=True)\n",
    "loc2 = loc2.query(\"name == ''\")\n",
    "print(\"Admin2 name mismatches:\")\n",
    "loc2['admin2'].unique()"
   ]
  },
  {
   "cell_type": "markdown",
   "metadata": {},
   "source": [
    "Check city names"
   ]
  },
  {
   "cell_type": "code",
   "execution_count": 17,
   "metadata": {},
   "outputs": [],
   "source": [
    "city = pd.read_csv(NEO4J_HOME / \"import/00h-GeoNamesCity.csv\")\n",
    "loc3 = df[['city']].copy()"
   ]
  },
  {
   "cell_type": "code",
   "execution_count": 18,
   "metadata": {},
   "outputs": [],
   "source": [
    "loc3 = loc3.query(\"city != ''\")"
   ]
  },
  {
   "cell_type": "code",
   "execution_count": 19,
   "metadata": {},
   "outputs": [
    {
     "data": {
      "text/html": [
       "<div>\n",
       "<style scoped>\n",
       "    .dataframe tbody tr th:only-of-type {\n",
       "        vertical-align: middle;\n",
       "    }\n",
       "\n",
       "    .dataframe tbody tr th {\n",
       "        vertical-align: top;\n",
       "    }\n",
       "\n",
       "    .dataframe thead th {\n",
       "        text-align: right;\n",
       "    }\n",
       "</style>\n",
       "<table border=\"1\" class=\"dataframe\">\n",
       "  <thead>\n",
       "    <tr style=\"text-align: right;\">\n",
       "      <th></th>\n",
       "      <th>city</th>\n",
       "    </tr>\n",
       "  </thead>\n",
       "  <tbody>\n",
       "    <tr>\n",
       "      <th>531</th>\n",
       "      <td>Sheffield</td>\n",
       "    </tr>\n",
       "    <tr>\n",
       "      <th>9707</th>\n",
       "      <td>Havlickuv Brod</td>\n",
       "    </tr>\n",
       "  </tbody>\n",
       "</table>\n",
       "</div>"
      ],
      "text/plain": [
       "                city\n",
       "531        Sheffield\n",
       "9707  Havlickuv Brod"
      ]
     },
     "execution_count": 19,
     "metadata": {},
     "output_type": "execute_result"
    }
   ],
   "source": [
    "loc3"
   ]
  },
  {
   "cell_type": "code",
   "execution_count": 20,
   "metadata": {},
   "outputs": [],
   "source": [
    "loc3 = loc3.query(\"city != ''\")\n",
    "loc3 = loc3.merge(city, left_on='city', right_on='name', how='left')"
   ]
  },
  {
   "cell_type": "code",
   "execution_count": 21,
   "metadata": {},
   "outputs": [
    {
     "name": "stdout",
     "output_type": "stream",
     "text": [
      "City name mismatches:\n"
     ]
    },
    {
     "data": {
      "text/plain": [
       "array([], dtype=object)"
      ]
     },
     "execution_count": 21,
     "metadata": {},
     "output_type": "execute_result"
    }
   ],
   "source": [
    "loc3.fillna('', inplace=True)\n",
    "loc3 = loc3.query(\"name == ''\")\n",
    "print(\"City name mismatches:\")\n",
    "loc3['city'].unique()"
   ]
  },
  {
   "cell_type": "code",
   "execution_count": 22,
   "metadata": {},
   "outputs": [
    {
     "data": {
      "text/html": [
       "<div>\n",
       "<style scoped>\n",
       "    .dataframe tbody tr th:only-of-type {\n",
       "        vertical-align: middle;\n",
       "    }\n",
       "\n",
       "    .dataframe tbody tr th {\n",
       "        vertical-align: top;\n",
       "    }\n",
       "\n",
       "    .dataframe thead th {\n",
       "        text-align: right;\n",
       "    }\n",
       "</style>\n",
       "<table border=\"1\" class=\"dataframe\">\n",
       "  <thead>\n",
       "    <tr style=\"text-align: right;\">\n",
       "      <th></th>\n",
       "      <th>id</th>\n",
       "      <th>name</th>\n",
       "      <th>alias</th>\n",
       "      <th>taxonomyId</th>\n",
       "      <th>hostTaxonomyId</th>\n",
       "      <th>collectionDate</th>\n",
       "      <th>country</th>\n",
       "      <th>admin1</th>\n",
       "      <th>admin2</th>\n",
       "      <th>city</th>\n",
       "      <th>locationLevels</th>\n",
       "    </tr>\n",
       "  </thead>\n",
       "  <tbody>\n",
       "    <tr>\n",
       "      <th>0</th>\n",
       "      <td>NMDC60013088-01</td>\n",
       "      <td>BetaCoV/Wuhan/HBCDC-HB-01/2019</td>\n",
       "      <td>NMDC60013088-01;EPI_ISL_402132</td>\n",
       "      <td>taxonomy:2697049</td>\n",
       "      <td>taxonomy:9606</td>\n",
       "      <td>2019-12-30</td>\n",
       "      <td>China</td>\n",
       "      <td>Hubei</td>\n",
       "      <td></td>\n",
       "      <td></td>\n",
       "      <td>1</td>\n",
       "    </tr>\n",
       "    <tr>\n",
       "      <th>1</th>\n",
       "      <td>https://www.gisaid.org/EPI_ISL_402132</td>\n",
       "      <td>BetaCoV/Wuhan/HBCDC-HB-01/2019</td>\n",
       "      <td>NMDC60013088-01;EPI_ISL_402132</td>\n",
       "      <td>taxonomy:2697049</td>\n",
       "      <td>taxonomy:9606</td>\n",
       "      <td>2019-12-30</td>\n",
       "      <td>China</td>\n",
       "      <td>Hubei</td>\n",
       "      <td></td>\n",
       "      <td></td>\n",
       "      <td>1</td>\n",
       "    </tr>\n",
       "    <tr>\n",
       "      <th>2</th>\n",
       "      <td>https://www.gisaid.org/EPI_ISL_403963</td>\n",
       "      <td>BetaCoV/Nonthaburi/74/2020</td>\n",
       "      <td>EPI_ISL_403963</td>\n",
       "      <td>taxonomy:2697049</td>\n",
       "      <td>taxonomy:9606</td>\n",
       "      <td>2020-01-13</td>\n",
       "      <td>Thailand</td>\n",
       "      <td>Nonthaburi</td>\n",
       "      <td></td>\n",
       "      <td></td>\n",
       "      <td>1</td>\n",
       "    </tr>\n",
       "    <tr>\n",
       "      <th>3</th>\n",
       "      <td>https://www.gisaid.org/EPI_ISL_403962</td>\n",
       "      <td>BetaCoV/Nonthaburi/61/2020</td>\n",
       "      <td>EPI_ISL_403962</td>\n",
       "      <td>taxonomy:2697049</td>\n",
       "      <td>taxonomy:9606</td>\n",
       "      <td>2020-01-08</td>\n",
       "      <td>Thailand</td>\n",
       "      <td>Nonthaburi</td>\n",
       "      <td></td>\n",
       "      <td></td>\n",
       "      <td>1</td>\n",
       "    </tr>\n",
       "    <tr>\n",
       "      <th>4</th>\n",
       "      <td>NMDC60013085-01</td>\n",
       "      <td>BetaCoV/Wuhan/IVDC-HB-04/2020</td>\n",
       "      <td>NMDC60013085-01;EPI_ISL_402120</td>\n",
       "      <td>taxonomy:2697049</td>\n",
       "      <td>taxonomy:9606</td>\n",
       "      <td>2020-01-01</td>\n",
       "      <td>China</td>\n",
       "      <td>Hubei</td>\n",
       "      <td>Wuhan</td>\n",
       "      <td></td>\n",
       "      <td>2</td>\n",
       "    </tr>\n",
       "  </tbody>\n",
       "</table>\n",
       "</div>"
      ],
      "text/plain": [
       "                                      id                            name  \\\n",
       "0                        NMDC60013088-01  BetaCoV/Wuhan/HBCDC-HB-01/2019   \n",
       "1  https://www.gisaid.org/EPI_ISL_402132  BetaCoV/Wuhan/HBCDC-HB-01/2019   \n",
       "2  https://www.gisaid.org/EPI_ISL_403963      BetaCoV/Nonthaburi/74/2020   \n",
       "3  https://www.gisaid.org/EPI_ISL_403962      BetaCoV/Nonthaburi/61/2020   \n",
       "4                        NMDC60013085-01   BetaCoV/Wuhan/IVDC-HB-04/2020   \n",
       "\n",
       "                            alias        taxonomyId hostTaxonomyId  \\\n",
       "0  NMDC60013088-01;EPI_ISL_402132  taxonomy:2697049  taxonomy:9606   \n",
       "1  NMDC60013088-01;EPI_ISL_402132  taxonomy:2697049  taxonomy:9606   \n",
       "2                  EPI_ISL_403963  taxonomy:2697049  taxonomy:9606   \n",
       "3                  EPI_ISL_403962  taxonomy:2697049  taxonomy:9606   \n",
       "4  NMDC60013085-01;EPI_ISL_402120  taxonomy:2697049  taxonomy:9606   \n",
       "\n",
       "  collectionDate   country      admin1 admin2 city  locationLevels  \n",
       "0     2019-12-30     China       Hubei                           1  \n",
       "1     2019-12-30     China       Hubei                           1  \n",
       "2     2020-01-13  Thailand  Nonthaburi                           1  \n",
       "3     2020-01-08  Thailand  Nonthaburi                           1  \n",
       "4     2020-01-01     China       Hubei  Wuhan                    2  "
      ]
     },
     "execution_count": 22,
     "metadata": {},
     "output_type": "execute_result"
    }
   ],
   "source": [
    "strains = df[['id', 'name', 'alias', 'taxonomyId', 'hostTaxonomyId', 'collectionDate', \n",
    "              'country', 'admin1', 'admin2', 'city','locationLevels']]\n",
    "strains.head()"
   ]
  },
  {
   "cell_type": "code",
   "execution_count": 23,
   "metadata": {},
   "outputs": [],
   "source": [
    "strains.to_csv(NEO4J_HOME / \"import/01d-CNCBStrain.csv\", index=False)"
   ]
  }
 ],
 "metadata": {
  "kernelspec": {
   "display_name": "Python 3",
   "language": "python",
   "name": "python3"
  },
  "language_info": {
   "codemirror_mode": {
    "name": "ipython",
    "version": 3
   },
   "file_extension": ".py",
   "mimetype": "text/x-python",
   "name": "python",
   "nbconvert_exporter": "python",
   "pygments_lexer": "ipython3",
   "version": "3.8.2"
  }
 },
 "nbformat": 4,
 "nbformat_minor": 4
}

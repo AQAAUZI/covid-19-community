{
 "cells": [
  {
   "cell_type": "markdown",
   "metadata": {},
   "source": [
    "# Load Accession Numbers Mappings\n",
    "**[Work in progress]**\n",
    "\n",
    "This notebook downloads and standardizes accession numbers from life science and biological databases textmined from PubMedCentral full text articles by [Europe PMC](https://europepmc.org/) for ingestion into a Knowledge Graph.\n",
    "\n",
    "Data source: [ftp site](ftp://ftp.ebi.ac.uk/pub/databases/pmc/TextMinedTerms/)\n",
    "\n",
    "Author: Peter Rose (pwrose@ucsd.edu)"
   ]
  },
  {
   "cell_type": "code",
   "execution_count": 1,
   "metadata": {},
   "outputs": [],
   "source": [
    "import os\n",
    "import pandas as pd\n",
    "import dateutil\n",
    "from pathlib import Path"
   ]
  },
  {
   "cell_type": "code",
   "execution_count": 2,
   "metadata": {},
   "outputs": [],
   "source": [
    "pd.options.display.max_rows = None  # display all rows\n",
    "pd.options.display.max_columns = None  # display all columsns"
   ]
  },
  {
   "cell_type": "code",
   "execution_count": 3,
   "metadata": {},
   "outputs": [],
   "source": [
    "ftp = 'ftp://ftp.ebi.ac.uk/pub/databases/pmc/TextMinedTerms/'"
   ]
  },
  {
   "cell_type": "code",
   "execution_count": 4,
   "metadata": {},
   "outputs": [
    {
     "name": "stdout",
     "output_type": "stream",
     "text": [
      "/Users/peter/Library/Application Support/Neo4j Desktop/Application/neo4jDatabases/database-4af96121-2328-4e2f-ba60-6d8b728a26d5/installation-4.0.3\n"
     ]
    }
   ],
   "source": [
    "NEO4J_HOME = Path(os.getenv('NEO4J_HOME'))\n",
    "print(NEO4J_HOME)"
   ]
  },
  {
   "cell_type": "markdown",
   "metadata": {},
   "source": [
    "## Assign unique identifiers for interoperabilitiy\n",
    "A [CURIE](https://en.wikipedia.org/wiki/CURIE) (Compact URI) is a compact abbreviation for Uniform Resource Identifiers (URIs). CURIEs consist of registered prefix and an accession number (prefix:accession). They provide a name space for identifiers to enable uniqueness of identifiers and interoperability among data resources.\n",
    "\n",
    "[Identifiers.org](http://identifiers.org/) provides a registry and resolution service for life science CURIEs. "
   ]
  },
  {
   "cell_type": "markdown",
   "metadata": {},
   "source": [
    "### NCBI Reference Sequences (NOT USED YET)\n",
    "**id**: CURIE: [pmc](https://registry.identifiers.org/registry/pmc) (PubMed Central, PMC)\n",
    "\n",
    "**accession**: CURIE: [ncbiprotein](https://registry.identifiers.org/registry/ncbiprotein) (NCBI Reference Sequences, Refseq)"
   ]
  },
  {
   "cell_type": "code",
   "execution_count": 5,
   "metadata": {},
   "outputs": [],
   "source": [
    "df1 = pd.read_csv(ftp + \"refseq.csv\", dtype=str)"
   ]
  },
  {
   "cell_type": "code",
   "execution_count": 6,
   "metadata": {},
   "outputs": [],
   "source": [
    "# Remove version number from refseq to match to the latest version\n",
    "df1['id'] = 'pmc:' + df1['PMCID']\n",
    "df1['accession'] = 'ncbiprotein:' + df1['refseq'].str.split('.', expand=True)[0]\n",
    "df1 = df1[['id','accession']]"
   ]
  },
  {
   "cell_type": "code",
   "execution_count": 7,
   "metadata": {},
   "outputs": [],
   "source": [
    "refseq = pd.read_csv(NEO4J_HOME / \"import/01c-NCBIRefSeq.csv\")\n",
    "refseq = refseq[['genbank_id']]\n",
    "refseq = refseq.drop_duplicates()"
   ]
  },
  {
   "cell_type": "code",
   "execution_count": 8,
   "metadata": {},
   "outputs": [
    {
     "data": {
      "text/html": [
       "<div>\n",
       "<style scoped>\n",
       "    .dataframe tbody tr th:only-of-type {\n",
       "        vertical-align: middle;\n",
       "    }\n",
       "\n",
       "    .dataframe tbody tr th {\n",
       "        vertical-align: top;\n",
       "    }\n",
       "\n",
       "    .dataframe thead th {\n",
       "        text-align: right;\n",
       "    }\n",
       "</style>\n",
       "<table border=\"1\" class=\"dataframe\">\n",
       "  <thead>\n",
       "    <tr style=\"text-align: right;\">\n",
       "      <th></th>\n",
       "      <th>id</th>\n",
       "      <th>accession</th>\n",
       "    </tr>\n",
       "  </thead>\n",
       "  <tbody>\n",
       "    <tr>\n",
       "      <th>0</th>\n",
       "      <td>pmc:PMC7118541</td>\n",
       "      <td>ncbiprotein:NC_045512</td>\n",
       "    </tr>\n",
       "    <tr>\n",
       "      <th>1</th>\n",
       "      <td>pmc:PMC7067954</td>\n",
       "      <td>ncbiprotein:NC_045512</td>\n",
       "    </tr>\n",
       "    <tr>\n",
       "      <th>2</th>\n",
       "      <td>pmc:PMC7092802</td>\n",
       "      <td>ncbiprotein:NC_045512</td>\n",
       "    </tr>\n",
       "    <tr>\n",
       "      <th>3</th>\n",
       "      <td>pmc:PMC7102578</td>\n",
       "      <td>ncbiprotein:NC_045512</td>\n",
       "    </tr>\n",
       "    <tr>\n",
       "      <th>4</th>\n",
       "      <td>pmc:PMC7060195</td>\n",
       "      <td>ncbiprotein:NC_045512</td>\n",
       "    </tr>\n",
       "  </tbody>\n",
       "</table>\n",
       "</div>"
      ],
      "text/plain": [
       "               id              accession\n",
       "0  pmc:PMC7118541  ncbiprotein:NC_045512\n",
       "1  pmc:PMC7067954  ncbiprotein:NC_045512\n",
       "2  pmc:PMC7092802  ncbiprotein:NC_045512\n",
       "3  pmc:PMC7102578  ncbiprotein:NC_045512\n",
       "4  pmc:PMC7060195  ncbiprotein:NC_045512"
      ]
     },
     "execution_count": 8,
     "metadata": {},
     "output_type": "execute_result"
    }
   ],
   "source": [
    "df1 = df1.merge(refseq, left_on=\"accession\", right_on='genbank_id')\n",
    "df1 = df1[['id','accession']]\n",
    "df1.head()"
   ]
  },
  {
   "cell_type": "markdown",
   "metadata": {},
   "source": [
    "### GISAID Genome Sequences\n",
    "**id**: CURIE: [pmc](https://registry.identifiers.org/registry/pmc) (PubMed Central, PMC)\n",
    "\n",
    "**accession**: URI: [https://www.gisaid.org/](https://www.gisaid.org/help/publish-with-gisaid-references) (Global Initiative on Sharing All Influenza Data, GISAID)\n"
   ]
  },
  {
   "cell_type": "code",
   "execution_count": 9,
   "metadata": {},
   "outputs": [],
   "source": [
    "df2 = pd.read_csv(ftp + \"gisaid.csv\", dtype=str)"
   ]
  },
  {
   "cell_type": "code",
   "execution_count": 10,
   "metadata": {},
   "outputs": [
    {
     "data": {
      "text/html": [
       "<div>\n",
       "<style scoped>\n",
       "    .dataframe tbody tr th:only-of-type {\n",
       "        vertical-align: middle;\n",
       "    }\n",
       "\n",
       "    .dataframe tbody tr th {\n",
       "        vertical-align: top;\n",
       "    }\n",
       "\n",
       "    .dataframe thead th {\n",
       "        text-align: right;\n",
       "    }\n",
       "</style>\n",
       "<table border=\"1\" class=\"dataframe\">\n",
       "  <thead>\n",
       "    <tr style=\"text-align: right;\">\n",
       "      <th></th>\n",
       "      <th>id</th>\n",
       "      <th>accession</th>\n",
       "    </tr>\n",
       "  </thead>\n",
       "  <tbody>\n",
       "    <tr>\n",
       "      <th>0</th>\n",
       "      <td>pmc:PMC4634248</td>\n",
       "      <td>https://www.gisaid.org/EPI179482</td>\n",
       "    </tr>\n",
       "    <tr>\n",
       "      <th>1</th>\n",
       "      <td>pmc:PMC4634248</td>\n",
       "      <td>https://www.gisaid.org/EPI179438</td>\n",
       "    </tr>\n",
       "    <tr>\n",
       "      <th>2</th>\n",
       "      <td>pmc:PMC4634248</td>\n",
       "      <td>https://www.gisaid.org/EPI232919</td>\n",
       "    </tr>\n",
       "    <tr>\n",
       "      <th>3</th>\n",
       "      <td>pmc:PMC4634248</td>\n",
       "      <td>https://www.gisaid.org/EPI233018</td>\n",
       "    </tr>\n",
       "    <tr>\n",
       "      <th>4</th>\n",
       "      <td>pmc:PMC4634248</td>\n",
       "      <td>https://www.gisaid.org/EPI272597</td>\n",
       "    </tr>\n",
       "  </tbody>\n",
       "</table>\n",
       "</div>"
      ],
      "text/plain": [
       "               id                         accession\n",
       "0  pmc:PMC4634248  https://www.gisaid.org/EPI179482\n",
       "1  pmc:PMC4634248  https://www.gisaid.org/EPI179438\n",
       "2  pmc:PMC4634248  https://www.gisaid.org/EPI232919\n",
       "3  pmc:PMC4634248  https://www.gisaid.org/EPI233018\n",
       "4  pmc:PMC4634248  https://www.gisaid.org/EPI272597"
      ]
     },
     "execution_count": 10,
     "metadata": {},
     "output_type": "execute_result"
    }
   ],
   "source": [
    "df2['id'] = 'pmc:' + df2['PMCID']\n",
    "df2['accession'] = 'https://www.gisaid.org/' + df2['gisaid']\n",
    "df2 = df2[['id','accession']]\n",
    "df2.head()"
   ]
  },
  {
   "cell_type": "code",
   "execution_count": 11,
   "metadata": {},
   "outputs": [],
   "source": [
    "nextstrain = pd.read_csv(NEO4J_HOME / \"import/01b-Nextstrain.csv\")\n",
    "nextstrain['accession'] = nextstrain['id']\n",
    "nextstrain = nextstrain[['accession']]"
   ]
  },
  {
   "cell_type": "code",
   "execution_count": 12,
   "metadata": {},
   "outputs": [
    {
     "data": {
      "text/html": [
       "<div>\n",
       "<style scoped>\n",
       "    .dataframe tbody tr th:only-of-type {\n",
       "        vertical-align: middle;\n",
       "    }\n",
       "\n",
       "    .dataframe tbody tr th {\n",
       "        vertical-align: top;\n",
       "    }\n",
       "\n",
       "    .dataframe thead th {\n",
       "        text-align: right;\n",
       "    }\n",
       "</style>\n",
       "<table border=\"1\" class=\"dataframe\">\n",
       "  <thead>\n",
       "    <tr style=\"text-align: right;\">\n",
       "      <th></th>\n",
       "      <th>id</th>\n",
       "      <th>accession</th>\n",
       "    </tr>\n",
       "  </thead>\n",
       "  <tbody>\n",
       "    <tr>\n",
       "      <th>0</th>\n",
       "      <td>pmc:PMC7106203</td>\n",
       "      <td>https://www.gisaid.org/EPI_ISL_406716</td>\n",
       "    </tr>\n",
       "    <tr>\n",
       "      <th>1</th>\n",
       "      <td>pmc:PMC7106203</td>\n",
       "      <td>https://www.gisaid.org/EPI_ISL_408008</td>\n",
       "    </tr>\n",
       "    <tr>\n",
       "      <th>2</th>\n",
       "      <td>pmc:PMC7106203</td>\n",
       "      <td>https://www.gisaid.org/EPI_ISL_408009</td>\n",
       "    </tr>\n",
       "    <tr>\n",
       "      <th>3</th>\n",
       "      <td>pmc:PMC7106203</td>\n",
       "      <td>https://www.gisaid.org/EPI_ISL_406034</td>\n",
       "    </tr>\n",
       "    <tr>\n",
       "      <th>4</th>\n",
       "      <td>pmc:PMC7106203</td>\n",
       "      <td>https://www.gisaid.org/EPI_ISL_408010</td>\n",
       "    </tr>\n",
       "  </tbody>\n",
       "</table>\n",
       "</div>"
      ],
      "text/plain": [
       "               id                              accession\n",
       "0  pmc:PMC7106203  https://www.gisaid.org/EPI_ISL_406716\n",
       "1  pmc:PMC7106203  https://www.gisaid.org/EPI_ISL_408008\n",
       "2  pmc:PMC7106203  https://www.gisaid.org/EPI_ISL_408009\n",
       "3  pmc:PMC7106203  https://www.gisaid.org/EPI_ISL_406034\n",
       "4  pmc:PMC7106203  https://www.gisaid.org/EPI_ISL_408010"
      ]
     },
     "execution_count": 12,
     "metadata": {},
     "output_type": "execute_result"
    }
   ],
   "source": [
    "df2 = df2.merge(nextstrain, on=\"accession\")\n",
    "df2.dropna(inplace=True)\n",
    "df2.head()"
   ]
  },
  {
   "cell_type": "markdown",
   "metadata": {},
   "source": [
    "### UniProt (NOT USED YET)\n",
    "**id**: CURIE: [pmc](https://registry.identifiers.org/registry/pmc) (PubMed Central, PMC)\n",
    "\n",
    "**accession**: CURIE: [uniprot](https://registry.identifiers.org/registry/uniprot) ( UniProt Knowledgebase, UniProtKB)"
   ]
  },
  {
   "cell_type": "code",
   "execution_count": 13,
   "metadata": {},
   "outputs": [],
   "source": [
    "# df3 = pd.read_csv(ftp + \"uniprot.csv\", dtype=str)"
   ]
  },
  {
   "cell_type": "code",
   "execution_count": 14,
   "metadata": {},
   "outputs": [],
   "source": [
    "# df3['id'] = 'pmc:' + df3['PMCID']\n",
    "# df3['accession'] = 'uniprot:' + df3['uniprot']\n",
    "# df3 = df3[['id','accession']]\n",
    "# df3.head()"
   ]
  },
  {
   "cell_type": "markdown",
   "metadata": {},
   "source": [
    "### Protein Data Bank (NOT USED YET)\n",
    "**id**: CURIE: [pmc](https://registry.identifiers.org/registry/pmc) (PubMed Central, PMC)\n",
    "\n",
    "**accession**: CURIE: [pdb](https://registry.identifiers.org/registry/pdb) (Protein Data Bank, PDB)"
   ]
  },
  {
   "cell_type": "code",
   "execution_count": 15,
   "metadata": {},
   "outputs": [],
   "source": [
    "# df4 = pd.read_csv(ftp + \"pdb.csv\", dtype=str)"
   ]
  },
  {
   "cell_type": "code",
   "execution_count": 16,
   "metadata": {},
   "outputs": [],
   "source": [
    "# df4['id'] = 'pmc:' + df4['PMCID']\n",
    "# df4['accession'] = 'pdb:' + df4['pdb']\n",
    "# df4 = df4[['id','accession']]\n",
    "# df4.head()"
   ]
  },
  {
   "cell_type": "markdown",
   "metadata": {},
   "source": [
    "### Digital Object Identifier (DOI) (NOT USED YET)\n",
    "**id**: CURIE: [pmc](https://registry.identifiers.org/registry/pmc) (PubMed Central, PMC)\n",
    "\n",
    "**accession**: CURIE: [doi](https://registry.identifiers.org/registry/doi) (Digital Object Identifier System, DOI)"
   ]
  },
  {
   "cell_type": "code",
   "execution_count": 17,
   "metadata": {},
   "outputs": [],
   "source": [
    "#df5 = pd.read_csv(ftp + \"doi.csv\", dtype=str)"
   ]
  },
  {
   "cell_type": "code",
   "execution_count": 18,
   "metadata": {},
   "outputs": [],
   "source": [
    "# df5['id'] = 'pmc:' + df5['PMCID']\n",
    "# df5['accession'] = 'doi' + df5['doi']\n",
    "# df5 = df5[['id','accession']]\n",
    "# df5.head()"
   ]
  },
  {
   "cell_type": "markdown",
   "metadata": {},
   "source": [
    "### Save data for Knowledge Graph Import"
   ]
  },
  {
   "cell_type": "code",
   "execution_count": 19,
   "metadata": {},
   "outputs": [
    {
     "name": "stdout",
     "output_type": "stream",
     "text": [
      "Mappings: id           81\n",
      "accession    81\n",
      "dtype: int64\n"
     ]
    }
   ],
   "source": [
    "df = pd.concat([df1, df2])\n",
    "df = df.fillna('')\n",
    "df = df.query(\"id != ''\")\n",
    "df = df.query(\"accession != ''\")\n",
    "print('Mappings:', df.count())"
   ]
  },
  {
   "cell_type": "code",
   "execution_count": 20,
   "metadata": {},
   "outputs": [],
   "source": [
    "df.to_csv(NEO4J_HOME / \"import/01d-PMC-Accession.csv\", index=False)"
   ]
  }
 ],
 "metadata": {
  "kernelspec": {
   "display_name": "Python 3",
   "language": "python",
   "name": "python3"
  },
  "language_info": {
   "codemirror_mode": {
    "name": "ipython",
    "version": 3
   },
   "file_extension": ".py",
   "mimetype": "text/x-python",
   "name": "python",
   "nbconvert_exporter": "python",
   "pygments_lexer": "ipython3",
   "version": "3.8.2"
  }
 },
 "nbformat": 4,
 "nbformat_minor": 4
}

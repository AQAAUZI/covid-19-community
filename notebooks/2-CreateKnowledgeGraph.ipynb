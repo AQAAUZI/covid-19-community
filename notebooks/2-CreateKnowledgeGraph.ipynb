{
 "cells": [
  {
   "cell_type": "markdown",
   "metadata": {},
   "source": [
    "# Create Neo4j Knowledge Graph\n",
    "This notebook creates the COVID-19-Net knowledge graph by ingesting the .csv files in the Neo4j import directory."
   ]
  },
  {
   "cell_type": "code",
   "execution_count": 1,
   "metadata": {},
   "outputs": [],
   "source": [
    "import os\n",
    "import time\n",
    "from pathlib import Path"
   ]
  },
  {
   "cell_type": "code",
   "execution_count": 2,
   "metadata": {},
   "outputs": [
    {
     "name": "stdout",
     "output_type": "stream",
     "text": [
      "/Users/peter/Library/Application Support/Neo4j Desktop/Application/neo4jDatabases/database-4af96121-2328-4e2f-ba60-6d8b728a26d5/installation-4.0.3\n"
     ]
    }
   ],
   "source": [
    "NEO4J_HOME = Path(os.getenv('NEO4J_HOME'))\n",
    "print(NEO4J_HOME)"
   ]
  },
  {
   "cell_type": "markdown",
   "metadata": {},
   "source": [
    "### Start Neo4j database if it is not running"
   ]
  },
  {
   "cell_type": "code",
   "execution_count": 3,
   "metadata": {},
   "outputs": [
    {
     "name": "stdout",
     "output_type": "stream",
     "text": [
      "Directories in use:\n",
      "  home:         /Users/peter/Library/Application Support/Neo4j Desktop/Application/neo4jDatabases/database-4af96121-2328-4e2f-ba60-6d8b728a26d5/installation-4.0.3\n",
      "  config:       /Users/peter/Library/Application Support/Neo4j Desktop/Application/neo4jDatabases/database-4af96121-2328-4e2f-ba60-6d8b728a26d5/installation-4.0.3/conf\n",
      "  logs:         /Users/peter/Library/Application Support/Neo4j Desktop/Application/neo4jDatabases/database-4af96121-2328-4e2f-ba60-6d8b728a26d5/installation-4.0.3/logs\n",
      "  plugins:      /Users/peter/Library/Application Support/Neo4j Desktop/Application/neo4jDatabases/database-4af96121-2328-4e2f-ba60-6d8b728a26d5/installation-4.0.3/plugins\n",
      "  import:       /Users/peter/Library/Application Support/Neo4j Desktop/Application/neo4jDatabases/database-4af96121-2328-4e2f-ba60-6d8b728a26d5/installation-4.0.3/import\n",
      "  data:         /Users/peter/Library/Application Support/Neo4j Desktop/Application/neo4jDatabases/database-4af96121-2328-4e2f-ba60-6d8b728a26d5/installation-4.0.3/data\n",
      "  certificates: /Users/peter/Library/Application Support/Neo4j Desktop/Application/neo4jDatabases/database-4af96121-2328-4e2f-ba60-6d8b728a26d5/installation-4.0.3/certificates\n",
      "  run:          /Users/peter/Library/Application Support/Neo4j Desktop/Application/neo4jDatabases/database-4af96121-2328-4e2f-ba60-6d8b728a26d5/installation-4.0.3/run\n",
      "Starting Neo4j.\n",
      "Started neo4j (pid 4684). It is available at http://localhost:7474/\n",
      "There may be a short delay until the server is ready.\n",
      "See /Users/peter/Library/Application Support/Neo4j Desktop/Application/neo4jDatabases/database-4af96121-2328-4e2f-ba60-6d8b728a26d5/installation-4.0.3/logs/neo4j.log for current status.\n"
     ]
    }
   ],
   "source": [
    "status = !\"$NEO4J_HOME\"/bin/neo4j status\n",
    "if not 'Neo4j is running' in status:\n",
    "   !\"$NEO4J_HOME\"/bin/neo4j start"
   ]
  },
  {
   "cell_type": "markdown",
   "metadata": {},
   "source": [
    "#### Wait until Neo4j has started up"
   ]
  },
  {
   "cell_type": "code",
   "execution_count": 4,
   "metadata": {},
   "outputs": [
    {
     "name": "stdout",
     "output_type": "stream",
     "text": [
      "['Neo4j is running at pid 4684']\n"
     ]
    }
   ],
   "source": [
    "status = !\"$NEO4J_HOME\"/bin/neo4j status\n",
    "while not 'Neo4j is running' in status:\n",
    "    time.sleep(15)\n",
    "    status = !\"$NEO4J_HOME\"/bin/neo4j status\n",
    "    status = str(status)\n",
    "    print(status)\n",
    "\n",
    "# sometimes neo4j needs more time to be ready\n",
    "time.sleep(15)"
   ]
  },
  {
   "cell_type": "markdown",
   "metadata": {},
   "source": [
    "### Run Cypher commands to create Knowledge Graph"
   ]
  },
  {
   "cell_type": "code",
   "execution_count": 5,
   "metadata": {},
   "outputs": [],
   "source": [
    "start = time.time()"
   ]
  },
  {
   "cell_type": "code",
   "execution_count": null,
   "metadata": {},
   "outputs": [
    {
     "name": "stdout",
     "output_type": "stream",
     "text": [
      "Endpoint: bolt://localhost:7687\n",
      "Username: neo4j\n",
      "Password: neo4jbinder\n",
      " \n",
      "----------------------------------------------\n",
      "Running 00a-Init.cypher:\n",
      " \n",
      "// delete all nodes and drop indices\n",
      "MATCH (n) DETACH DELETE n;\n",
      "CALL apoc.schema.assert({},{});\n",
      "\n",
      "// create constraints\n",
      "CREATE CONSTRAINT location ON (n:Location) ASSERT n.id IS UNIQUE;\n",
      "CREATE CONSTRAINT unregion ON (n:UNRegion) ASSERT n.id IS UNIQUE;\n",
      "CREATE CONSTRAINT unsubregion ON (n:UNSubRegion) ASSERT n.id IS UNIQUE;\n",
      "CREATE CONSTRAINT unintermediateregion ON (n:UNIntermediateRegion) ASSERT n.id IS UNIQUE;\n",
      "CREATE CONSTRAINT country ON (n:Contry) ASSERT n.id IS UNIQUE;\n",
      "CREATE CONSTRAINT admin1 ON (n:Admin1) ASSERT n.id IS UNIQUE;\n",
      "CREATE CONSTRAINT usregion ON (n:USRegion) ASSERT n.id IS UNIQUE;\n",
      "CREATE CONSTRAINT usdivision ON (n:USDivision) ASSERT n.id IS UNIQUE;\n",
      "CREATE CONSTRAINT admin2 ON (n:Admin2) ASSERT n.id IS UNIQUE;\n",
      "CREATE INDEX admin2_f FOR (n:Admin2) ON (n.fips, n.stateFips);\n",
      "CREATE CONSTRAINT city ON (n:City) ASSERT n.id IS UNIQUE;\n",
      "                                   \n",
      "CREATE CONSTRAINT organism ON (n:Organism) ASSERT n.id IS UNIQUE;\n",
      "CREATE CONSTRAINT outbreak ON (n:Outbreak) ASSERT n.id IS UNIQUE;\n",
      "CREATE CONSTRAINT publication ON (n:Publication) ASSERT n.id IS UNIQUE;\n",
      "CREATE CONSTRAINT genome ON (n:Genome) ASSERT n.id IS UNIQUE;\n",
      "CREATE CONSTRAINT strain ON (n:Strain) ASSERT n.id IS UNIQUE;\n",
      "CREATE CONSTRAINT gene ON (n:Gene) ASSERT n.id IS UNIQUE;\n",
      "CREATE CONSTRAINT protein ON (n:Protein) ASSERT n.id IS UNIQUE;\n",
      "CREATE CONSTRAINT cases ON (n:Cases) ASSERT n.id IS UNIQUE;\n",
      "CREATE INDEX cases_d FOR (n:Cases) ON (n.date);\n",
      "\n",
      "// list constraints\n",
      "CALL db.constraints();\n",
      "CALL db.indexes();\n",
      "\n",
      "\n",
      "\n",
      "label, key, keys, unique, action\n",
      "\"Cases\", \"date\", [\"date\"], FALSE, \"DROPPED\"\n",
      "\"Admin2\", NULL, [\"fips\", \"stateFips\"], FALSE, \"DROPPED\"\n",
      "\"USDivision\", \"id\", [\"id\"], TRUE, \"DROPPED\"\n",
      "\"Cases\", \"id\", [\"id\"], TRUE, \"DROPPED\"\n",
      "\"USRegion\", \"id\", [\"id\"], TRUE, \"DROPPED\"\n",
      "\"UNRegion\", \"id\", [\"id\"], TRUE, \"DROPPED\"\n",
      "\"UNIntermediateRegion\", \"id\", [\"id\"], TRUE, \"DROPPED\"\n",
      "\"City\", \"id\", [\"id\"], TRUE, \"DROPPED\"\n",
      "\"UNSubRegion\", \"id\", [\"id\"], TRUE, \"DROPPED\"\n",
      "\"Outbreak\", \"id\", [\"id\"], TRUE, \"DROPPED\"\n",
      "\"Publication\", \"id\", [\"id\"], TRUE, \"DROPPED\"\n",
      "\"Protein\", \"id\", [\"id\"], TRUE, \"DROPPED\"\n",
      "\"Location\", \"id\", [\"id\"], TRUE, \"DROPPED\"\n",
      "\"Gene\", \"id\", [\"id\"], TRUE, \"DROPPED\"\n",
      "\"Contry\", \"id\", [\"id\"], TRUE, \"DROPPED\"\n",
      "\"Admin2\", \"id\", [\"id\"], TRUE, \"DROPPED\"\n",
      "\"Genome\", \"id\", [\"id\"], TRUE, \"DROPPED\"\n",
      "\"Admin1\", \"id\", [\"id\"], TRUE, \"DROPPED\"\n",
      "\"Organism\", \"id\", [\"id\"], TRUE, \"DROPPED\"\n",
      "\"Strain\", \"id\", [\"id\"], TRUE, \"DROPPED\"\n",
      "name, description\n",
      "\"admin1\", \"CONSTRAINT ON ( admin1:Admin1 ) ASSERT (admin1.id) IS UNIQUE\"\n",
      "\"admin2\", \"CONSTRAINT ON ( admin2:Admin2 ) ASSERT (admin2.id) IS UNIQUE\"\n",
      "\"cases\", \"CONSTRAINT ON ( cases:Cases ) ASSERT (cases.id) IS UNIQUE\"\n",
      "\"city\", \"CONSTRAINT ON ( city:City ) ASSERT (city.id) IS UNIQUE\"\n",
      "\"country\", \"CONSTRAINT ON ( contry:Contry ) ASSERT (contry.id) IS UNIQUE\"\n",
      "\"gene\", \"CONSTRAINT ON ( gene:Gene ) ASSERT (gene.id) IS UNIQUE\"\n",
      "\"genome\", \"CONSTRAINT ON ( genome:Genome ) ASSERT (genome.id) IS UNIQUE\"\n",
      "\"location\", \"CONSTRAINT ON ( location:Location ) ASSERT (location.id) IS UNIQUE\"\n",
      "\"organism\", \"CONSTRAINT ON ( organism:Organism ) ASSERT (organism.id) IS UNIQUE\"\n",
      "\"outbreak\", \"CONSTRAINT ON ( outbreak:Outbreak ) ASSERT (outbreak.id) IS UNIQUE\"\n",
      "\"protein\", \"CONSTRAINT ON ( protein:Protein ) ASSERT (protein.id) IS UNIQUE\"\n",
      "\"publication\", \"CONSTRAINT ON ( publication:Publication ) ASSERT (publication.id) IS UNIQUE\"\n",
      "\"strain\", \"CONSTRAINT ON ( strain:Strain ) ASSERT (strain.id) IS UNIQUE\"\n",
      "\"unintermediateregion\", \"CONSTRAINT ON ( unintermediateregion:UNIntermediateRegion ) ASSERT (unintermediateregion.id) IS UNIQUE\"\n",
      "\"unregion\", \"CONSTRAINT ON ( unregion:UNRegion ) ASSERT (unregion.id) IS UNIQUE\"\n",
      "\"unsubregion\", \"CONSTRAINT ON ( unsubregion:UNSubRegion ) ASSERT (unsubregion.id) IS UNIQUE\"\n",
      "\"usdivision\", \"CONSTRAINT ON ( usdivision:USDivision ) ASSERT (usdivision.id) IS UNIQUE\"\n",
      "\"usregion\", \"CONSTRAINT ON ( usregion:USRegion ) ASSERT (usregion.id) IS UNIQUE\"\n",
      "id, name, state, populationPercent, uniqueness, type, entityType, labelsOrTypes, properties, provider\n",
      "49, \"admin1\", \"ONLINE\", 100.0, \"UNIQUE\", \"BTREE\", \"NODE\", [\"Admin1\"], [\"id\"], \"native-btree-1.0\"\n",
      "55, \"admin2\", \"ONLINE\", 100.0, \"UNIQUE\", \"BTREE\", \"NODE\", [\"Admin2\"], [\"id\"], \"native-btree-1.0\"\n",
      "57, \"admin2_f\", \"ONLINE\", 100.0, \"NONUNIQUE\", \"BTREE\", \"NODE\", [\"Admin2\"], [\"fips\", \"stateFips\"], \"native-btree-1.0\"\n",
      "4, \"cases\", \"ONLINE\", 100.0, \"UNIQUE\", \"BTREE\", \"NODE\", [\"Cases\"], [\"id\"], \"native-btree-1.0\"\n",
      "6, \"cases_d\", \"ONLINE\", 100.0, \"NONUNIQUE\", \"BTREE\", \"NODE\", [\"Cases\"], [\"date\"], \"native-btree-1.0\"\n",
      "58, \"city\", \"ONLINE\", 100.0, \"UNIQUE\", \"BTREE\", \"NODE\", [\"City\"], [\"id\"], \"native-btree-1.0\"\n",
      "47, \"country\", \"ONLINE\", 100.0, \"UNIQUE\", \"BTREE\", \"NODE\", [\"Contry\"], [\"id\"], \"native-btree-1.0\"\n",
      "70, \"gene\", \"ONLINE\", 100.0, \"UNIQUE\", \"BTREE\", \"NODE\", [\"Gene\"], [\"id\"], \"native-btree-1.0\"\n",
      "66, \"genome\", \"ONLINE\", 100.0, \"UNIQUE\", \"BTREE\", \"NODE\", [\"Genome\"], [\"id\"], \"native-btree-1.0\"\n",
      "39, \"location\", \"ONLINE\", 100.0, \"UNIQUE\", \"BTREE\", \"NODE\", [\"Location\"], [\"id\"], \"native-btree-1.0\"\n",
      "60, \"organism\", \"ONLINE\", 100.0, \"UNIQUE\", \"BTREE\", \"NODE\", [\"Organism\"], [\"id\"], \"native-btree-1.0\"\n",
      "62, \"outbreak\", \"ONLINE\", 100.0, \"UNIQUE\", \"BTREE\", \"NODE\", [\"Outbreak\"], [\"id\"], \"native-btree-1.0\"\n",
      "2, \"protein\", \"ONLINE\", 100.0, \"UNIQUE\", \"BTREE\", \"NODE\", [\"Protein\"], [\"id\"], \"native-btree-1.0\"\n",
      "64, \"publication\", \"ONLINE\", 100.0, \"UNIQUE\", \"BTREE\", \"NODE\", [\"Publication\"], [\"id\"], \"native-btree-1.0\"\n",
      "68, \"strain\", \"ONLINE\", 100.0, \"UNIQUE\", \"BTREE\", \"NODE\", [\"Strain\"], [\"id\"], \"native-btree-1.0\"\n",
      "45, \"unintermediateregion\", \"ONLINE\", 100.0, \"UNIQUE\", \"BTREE\", \"NODE\", [\"UNIntermediateRegion\"], [\"id\"], \"native-btree-1.0\"\n",
      "41, \"unregion\", \"ONLINE\", 100.0, \"UNIQUE\", \"BTREE\", \"NODE\", [\"UNRegion\"], [\"id\"], \"native-btree-1.0\"\n",
      "43, \"unsubregion\", \"ONLINE\", 100.0, \"UNIQUE\", \"BTREE\", \"NODE\", [\"UNSubRegion\"], [\"id\"], \"native-btree-1.0\"\n",
      "53, \"usdivision\", \"ONLINE\", 100.0, \"UNIQUE\", \"BTREE\", \"NODE\", [\"USDivision\"], [\"id\"], \"native-btree-1.0\"\n",
      "51, \"usregion\", \"ONLINE\", 100.0, \"UNIQUE\", \"BTREE\", \"NODE\", [\"USRegion\"], [\"id\"], \"native-btree-1.0\"\n",
      " \n",
      "----------------------------------------------\n",
      "Running 00b-Organism.cypher:\n",
      " \n",
      "LOAD CSV WITH HEADERS \n",
      "FROM 'FILE:///Organism.csv' AS row \n",
      "MERGE (o:Organism{id: row.id})\n",
      "SET o.name = row.name, o.scientificName = row.scientificName\n",
      "RETURN count(o) as Organism;\n",
      "Organism\n",
      "11\n",
      " \n",
      "----------------------------------------------\n",
      "Running 00c-Outbreak.cypher:\n",
      " \n",
      "LOAD CSV WITH HEADERS \n",
      "FROM 'FILE:///Outbreak.csv' AS row \n",
      "MERGE (o:Outbreak{id: row.id})\n",
      "SET o.name = row.id, o.startDate = row.startDate, o.pathogen = row.pathogen\n",
      "RETURN count(o) as Outbreak\n",
      ";\n",
      "LOAD CSV WITH HEADERS \n",
      "FROM 'FILE:///Outbreak.csv' AS row \n",
      "MATCH (p:Organism{id: row.pathogen})\n",
      "MATCH (o:Outbreak{id: row.id})\n",
      "MERGE(p)-[c:CAUSES]->(o)\n",
      "RETURN count(c) as CAUSES\n",
      ";\n",
      "                    \n",
      "Outbreak\n",
      "3\n",
      "CAUSES\n",
      "3\n",
      " \n",
      "----------------------------------------------\n",
      "Running 00e-GeoNamesCountry.cypher:\n",
      " \n",
      "LOAD CSV WITH HEADERS \n",
      "FROM 'FILE:///00e-GeoNamesCountry.csv' AS row \n",
      "MERGE (c:Country:Location{id: row.id})\n",
      "SET c.name = row.name, c.iso = row.iso, c.iso3 = row.iso3, c.population = row.population, c.areaSqKm = row.areaSqKm\n",
      "RETURN count(c) as Country\n",
      ";\n",
      "Country\n",
      "252\n",
      " \n",
      "----------------------------------------------\n",
      "Running 00f-GeoNamesAdmin1.cypher:\n",
      " \n",
      "LOAD CSV WITH HEADERS \n",
      "FROM 'FILE:///00f-GeoNamesAdmin1.csv' AS row \n",
      "MERGE (a:Admin1:Location{id: row.id})\n",
      "SET a.name = row.name, a.code = row.code, a.country = row.parentId\n",
      "RETURN count(a) as Admin1\n",
      ";\n",
      "LOAD CSV WITH HEADERS \n",
      "FROM 'FILE:///00f-GeoNamesAdmin1.csv' AS row \n",
      "MATCH (a:Admin1{id: row.id})\n",
      "MATCH (ct:Country{id: row.parentId})\n",
      "MERGE (a)-[i:IN]->(ct)\n",
      "RETURN count(i) as IN\n",
      ";\n",
      "Admin1\n",
      "3956\n",
      "IN\n",
      "3956\n",
      " \n",
      "----------------------------------------------\n",
      "Running 00g-GeoNamesAdmin2.cypher:\n",
      " \n",
      "USING PERIODIC COMMIT 500\n",
      "LOAD CSV WITH HEADERS \n",
      "FROM 'FILE:///00g-GeoNamesAdmin2.csv' AS row \n",
      "MERGE (a:Admin2:Location{id: row.id})\n",
      "SET a.name = row.name\n",
      "RETURN count(a) as Admin2\n",
      ";\n",
      "USING PERIODIC COMMIT 500\n",
      "LOAD CSV WITH HEADERS \n",
      "FROM 'FILE:///00g-GeoNamesAdmin2.csv' AS row \n",
      "MATCH (a2:Admin2{id: row.id})\n",
      "MATCH (a1:Admin1{id: row.parentId})\n",
      "MERGE (a2)-[i:IN]->(a1)\n",
      "RETURN count(i) as IN\n",
      ";\n",
      "Admin2\n",
      "44751\n",
      "IN\n",
      "44723\n",
      " \n",
      "----------------------------------------------\n",
      "Running 00h-GeoNamesCity.cypher:\n",
      " \n",
      "USING PERIODIC COMMIT 500\n",
      "LOAD CSV WITH HEADERS \n",
      "FROM 'FILE:///00h-GeoNamesCity.csv' AS row \n",
      "MERGE (c:City:Location{id: row.id})\n",
      "SET c.name = row.name, c.population = row.population, c.elevation = row.elevation\n",
      "RETURN count(c) as City\n",
      ";\n",
      "USING PERIODIC COMMIT 500\n",
      "LOAD CSV WITH HEADERS \n",
      "FROM 'FILE:///00h-GeoNamesCity.csv' AS row \n",
      "MATCH (l:Location{id: row.parentId})\n",
      "MATCH (c:City{id: row.id})\n",
      "MERGE (c)-[i:IN]->(l)\n",
      "RETURN count(i) as IN\n",
      ";\n",
      "City\n",
      "136582\n",
      "IN\n",
      "132633\n",
      " \n",
      "----------------------------------------------\n",
      "Running 00i-USCensusRegionDivisionState2017.cypher:\n",
      " \n",
      "LOAD CSV WITH HEADERS \n",
      "FROM 'FILE:///00i-USCensus2017Region.csv' AS row \n",
      "MERGE (r:USRegion:Location{id: row.id})\n",
      "SET r.name = row.name\n",
      "RETURN count(r) as Region\n",
      ";\n",
      "LOAD CSV WITH HEADERS \n",
      "FROM 'FILE:///00i-USCensus2017Division.csv' AS row \n",
      "MERGE (d:USDivision:Location{id: row.id})\n",
      "SET d.name = row.name\n",
      "RETURN count(d) as Division\n",
      ";\n",
      "LOAD CSV WITH HEADERS \n",
      "FROM 'FILE:///00i-USCensus2017State.csv' AS row \n",
      "MATCH (a:Admin1:Location{name: row.name, country: 'US'})\n",
      "SET a.fips = row.fips, a.division = row.division\n",
      "RETURN count(a) as FIPS\n",
      ";\n",
      "LOAD CSV WITH HEADERS \n",
      "FROM 'FILE:///00i-USCensus2017Region.csv' AS row \n",
      "MATCH (r:USRegion{id: row.id})\n",
      "MATCH (c:Country{id: row.parentId})\n",
      "MERGE (r)-[i:IN]->(c)\n",
      "RETURN count(i) as IN\n",
      ";\n",
      "LOAD CSV WITH HEADERS \n",
      "FROM 'FILE:///00i-USCensus2017Division.csv' AS row \n",
      "MATCH (d:USDivision{id: row.id})\n",
      "MATCH (r:USRegion{id: row.parentId})\n",
      "MERGE (d)-[i:IN]->(r)\n",
      "RETURN count(i) as IN\n",
      ";\n",
      "LOAD CSV WITH HEADERS \n",
      "FROM 'FILE:///00i-USCensus2017State.csv' AS row \n",
      "MATCH (a:Admin1{name: row.name, country: 'US'})\n",
      "MATCH (d:USDivision{id: row.parentId})\n",
      "MERGE (a)-[i:IN]->(d)\n",
      "RETURN count(i) as IN\n",
      ";\n",
      "\n"
     ]
    }
   ],
   "source": [
    "# TODO create a batch script for Windows\n",
    "!./run_cyphers.sh"
   ]
  },
  {
   "cell_type": "code",
   "execution_count": null,
   "metadata": {},
   "outputs": [],
   "source": [
    "end = time.time()\n",
    "print('time:', end-start)"
   ]
  },
  {
   "cell_type": "markdown",
   "metadata": {},
   "source": [
    "### Make sure to shutdown Neo4j!"
   ]
  },
  {
   "cell_type": "code",
   "execution_count": null,
   "metadata": {},
   "outputs": [],
   "source": [
    "!\"$NEO4J_HOME\"/bin/neo4j stop"
   ]
  },
  {
   "cell_type": "code",
   "execution_count": null,
   "metadata": {},
   "outputs": [],
   "source": []
  }
 ],
 "metadata": {
  "kernelspec": {
   "display_name": "Python 3",
   "language": "python",
   "name": "python3"
  },
  "language_info": {
   "codemirror_mode": {
    "name": "ipython",
    "version": 3
   },
   "file_extension": ".py",
   "mimetype": "text/x-python",
   "name": "python",
   "nbconvert_exporter": "python",
   "pygments_lexer": "ipython3",
   "version": "3.8.2"
  }
 },
 "nbformat": 4,
 "nbformat_minor": 4
}

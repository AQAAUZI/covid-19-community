{
 "cells": [
  {
   "cell_type": "markdown",
   "metadata": {},
   "source": [
    "# Create Neo4j Knowledge Graph\n",
    "This notebook creates the COVID-19-Net knowledge graph by ingesting the .csv files in the Neo4j import directory."
   ]
  },
  {
   "cell_type": "code",
   "execution_count": 1,
   "metadata": {},
   "outputs": [],
   "source": [
    "import os\n",
    "import time\n",
    "from pathlib import Path"
   ]
  },
  {
   "cell_type": "code",
   "execution_count": 2,
   "metadata": {},
   "outputs": [
    {
     "name": "stdout",
     "output_type": "stream",
     "text": [
      "/Users/peter/Library/Application Support/Neo4j Desktop/Application/neo4jDatabases/database-4af96121-2328-4e2f-ba60-6d8b728a26d5/installation-4.0.3\n"
     ]
    }
   ],
   "source": [
    "NEO4J_HOME = Path(os.getenv('NEO4J_HOME'))\n",
    "print(NEO4J_HOME)"
   ]
  },
  {
   "cell_type": "markdown",
   "metadata": {},
   "source": [
    "### Start Neo4j database"
   ]
  },
  {
   "cell_type": "code",
   "execution_count": 3,
   "metadata": {},
   "outputs": [
    {
     "name": "stdout",
     "output_type": "stream",
     "text": [
      "Directories in use:\n",
      "  home:         /Users/peter/Library/Application Support/Neo4j Desktop/Application/neo4jDatabases/database-4af96121-2328-4e2f-ba60-6d8b728a26d5/installation-4.0.3\n",
      "  config:       /Users/peter/Library/Application Support/Neo4j Desktop/Application/neo4jDatabases/database-4af96121-2328-4e2f-ba60-6d8b728a26d5/installation-4.0.3/conf\n",
      "  logs:         /Users/peter/Library/Application Support/Neo4j Desktop/Application/neo4jDatabases/database-4af96121-2328-4e2f-ba60-6d8b728a26d5/installation-4.0.3/logs\n",
      "  plugins:      /Users/peter/Library/Application Support/Neo4j Desktop/Application/neo4jDatabases/database-4af96121-2328-4e2f-ba60-6d8b728a26d5/installation-4.0.3/plugins\n",
      "  import:       /Users/peter/Library/Application Support/Neo4j Desktop/Application/neo4jDatabases/database-4af96121-2328-4e2f-ba60-6d8b728a26d5/installation-4.0.3/import\n",
      "  data:         /Users/peter/Library/Application Support/Neo4j Desktop/Application/neo4jDatabases/database-4af96121-2328-4e2f-ba60-6d8b728a26d5/installation-4.0.3/data\n",
      "  certificates: /Users/peter/Library/Application Support/Neo4j Desktop/Application/neo4jDatabases/database-4af96121-2328-4e2f-ba60-6d8b728a26d5/installation-4.0.3/certificates\n",
      "  run:          /Users/peter/Library/Application Support/Neo4j Desktop/Application/neo4jDatabases/database-4af96121-2328-4e2f-ba60-6d8b728a26d5/installation-4.0.3/run\n",
      "Starting Neo4j.\n",
      "Started neo4j (pid 5682). It is available at http://localhost:7474/\n",
      "There may be a short delay until the server is ready.\n",
      "See /Users/peter/Library/Application Support/Neo4j Desktop/Application/neo4jDatabases/database-4af96121-2328-4e2f-ba60-6d8b728a26d5/installation-4.0.3/logs/neo4j.log for current status.\n"
     ]
    }
   ],
   "source": [
    "!\"$NEO4J_HOME\"/bin/neo4j start"
   ]
  },
  {
   "cell_type": "markdown",
   "metadata": {},
   "source": [
    "#### Wait until Neo4j has started up"
   ]
  },
  {
   "cell_type": "code",
   "execution_count": 4,
   "metadata": {},
   "outputs": [],
   "source": [
    "# TODO check status when Neo4j is ready.\n",
    "# Run this step again if the following commands fail.\n",
    "time.sleep(15)"
   ]
  },
  {
   "cell_type": "markdown",
   "metadata": {},
   "source": [
    "### Run Cypher commands to create Knowledge Graph"
   ]
  },
  {
   "cell_type": "code",
   "execution_count": 5,
   "metadata": {},
   "outputs": [],
   "source": [
    "start = time.time()"
   ]
  },
  {
   "cell_type": "code",
   "execution_count": 6,
   "metadata": {},
   "outputs": [
    {
     "name": "stdout",
     "output_type": "stream",
     "text": [
      "Endpoint: bolt://localhost:7687\n",
      "Username: neo4j\n",
      "Password: neo4jbinder\n",
      " \n",
      "----------------------------------------------\n",
      "Running ../cyphers/00a-Init.cypher:\n",
      " \n",
      "// delete all nodes and drop indices\n",
      "MATCH (n) DETACH DELETE n;\n",
      "DROP INDEX ON:Organism(id)\n",
      "DROP INDEX ON:Publication(id)\n",
      "DROP INDEX ON:Publication(accession)\n",
      "DROP INDEX ON:Genome(id)\n",
      "DROP INDEX ON:Strain(id)\n",
      "DROP INDEX ON:Gene(id)\n",
      "DROP INDEX ON:Protein(id\n",
      "\n",
      "// create indices\n",
      "CREATE INDEX ON:Organism(id)\n",
      "CREATE INDEX ON:Publication(id)\n",
      "CREATE INDEX ON:Publication(accession)\n",
      "CREATE INDEX ON:Genome(id)\n",
      "CREATE INDEX ON:Strain(id)\n",
      "CREATE INDEX ON:Gene(id)\n",
      "CREATE INDEX ON:Protein(id) \n",
      "----------------------------------------------\n",
      "Running ../cyphers/00b-Organism.cypher:\n",
      " \n",
      "LOAD CSV WITH HEADERS \n",
      "FROM 'FILE:///Organism.csv' AS row \n",
      "MERGE (o:Organism {id: row.id})\n",
      "SET o.name = row.name, o.scientificName = row.scientificName\n",
      "RETURN count(o) as Organism;\n",
      "Organism\n",
      "9\n",
      " \n",
      "----------------------------------------------\n",
      "Running ../cyphers/00c-Outbreak.cypher:\n",
      " \n",
      "LOAD CSV WITH HEADERS \n",
      "FROM 'FILE:///Outbreak.csv' AS row \n",
      "MERGE (o:Outbreak {id: row.id})\n",
      "SET o.startDate = row.startDate, o.pathogen = row.pathogen\n",
      "RETURN count(o) as Outbreak\n",
      ";\n",
      "LOAD CSV WITH HEADERS \n",
      "FROM 'FILE:///Outbreak.csv' AS row \n",
      "MATCH (p:Organism{id: row.pathogen})\n",
      "MATCH (o:Outbreak{id: row.id})\n",
      "CREATE(p)-[c:CAUSES]->(o)\n",
      "RETURN count(c) as CAUSES\n",
      ";\n",
      "                    \n",
      "Outbreak\n",
      "3\n",
      "CAUSES\n",
      "3\n",
      " \n",
      "----------------------------------------------\n",
      "Running ../cyphers/01a-NCBIStrain.cypher:\n",
      " \n",
      "LOAD CSV WITH HEADERS \n",
      "FROM 'FILE:///01a-NCBIstrain.csv' AS row \n",
      "WITH row WHERE NOT row.id IS null\n",
      "MERGE (s:Genome:Strain{id: row.id})\n",
      "SET s.name = row.name, s.taxonomy = row.taxonomy_id, s.collectionDate = row.collection_date,\n",
      "    s.hostTaxonomyId = row.host_taxonomy_id, s.sex = row.sex, s.age = row.age, \n",
      "    s.isolationSource = row.isolation_source\n",
      "RETURN count(s) as Strain\n",
      ";\n",
      "LOAD CSV WITH HEADERS \n",
      "FROM 'FILE:///01a-NCBIStrain.csv' AS row \n",
      "WITH row WHERE NOT row.taxonomy_id IS null\n",
      "MATCH (o:Organism{id: row.taxonomy_id})\n",
      "MATCH (s:Strain{id: row.id})\n",
      "CREATE(o)-[h:HAS]->(s)\n",
      "RETURN count(h) as HAS\n",
      ";\n",
      "LOAD CSV WITH HEADERS \n",
      "FROM 'FILE:///01a-NCBIStrain.csv' AS row \n",
      "WITH row WHERE NOT row.host_taxonomy_id IS null\n",
      "MATCH (o:Organism{id: row.host_taxonomy_id})\n",
      "MATCH (s:Strain{id: row.id})\n",
      "CREATE(o)-[h:CARRIES]->(s)\n",
      "RETURN count(h) as CARRIES\n",
      ";\n",
      "                \n",
      "Strain\n",
      "442\n",
      "HAS\n",
      "442\n",
      "CARRIES\n",
      "442\n",
      " \n",
      "----------------------------------------------\n",
      "Running ../cyphers/01b-Nextstrain.cypher:\n",
      " \n",
      "USING PERIODIC COMMIT\n",
      "LOAD CSV WITH HEADERS \n",
      "FROM 'FILE:///01b-Nextstrain.csv' AS row \n",
      "WITH row WHERE NOT row.id IS null\n",
      "MERGE (s:Genome:Strain{id: row.id}) \n",
      "SET s.name = row.name, s.alias = row.alias, s.taxonomy = row.taxonomy_id, s.collectionDate = row.collection_date,\n",
      "    s.hostTaxonomyId = row.host_taxonomy_id, s.sex = row.sex, s.age = row.age, s.clade = row.clade,\n",
      "    s.countryExposure = row.country_exposure, s.admin1Exposure = row.admin1_exposure\n",
      "RETURN count(s) as Strain\n",
      ";\n",
      "USING PERIODIC COMMIT\n",
      "LOAD CSV WITH HEADERS \n",
      "FROM 'FILE:///01b-Nextstrain.csv' AS row \n",
      "WITH row WHERE NOT row.clade IS null\n",
      "MERGE (c:Clade{id: row.clade})\n",
      "RETURN count(c) as Clade\n",
      ";\n",
      "USING PERIODIC COMMIT\n",
      "LOAD CSV WITH HEADERS \n",
      "FROM 'FILE:///01b-Nextstrain.csv' AS row \n",
      "WITH row WHERE NOT row.taxonomy_id IS null\n",
      "MATCH (o:Organism{id: row.taxonomy_id})\n",
      "MATCH (s:Strain{id: row.id})\n",
      "MERGE (o)-[h:HAS]->(s)\n",
      "RETURN count(h) as HAS_STRAIN\n",
      ";\n",
      "USING PERIODIC COMMIT\n",
      "LOAD CSV WITH HEADERS \n",
      "FROM 'FILE:///01b-Nextstrain.csv' AS row \n",
      "WITH row WHERE NOT row.clade IS null\n",
      "MATCH (s:Strain{id: row.id})\n",
      "MATCH (c:Clade{id: row.clade})\n",
      "CREATE (s)-[h:HAS]->(c)\n",
      "RETURN count(h) as HAS_CLADE\n",
      ";\n",
      "LOAD CSV WITH HEADERS \n",
      "FROM 'FILE:///01b-Nextstrain.csv' AS row \n",
      "WITH row WHERE NOT row.host_taxonomy_id IS null\n",
      "MATCH (o:Organism{id: row.host_taxonomy_id})\n",
      "MATCH (s:Strain{id: row.id})\n",
      "CREATE(o)-[h:CARRIES]->(s)\n",
      "RETURN count(h) as CARRIES\n",
      ";\n",
      "Strain\n",
      "7552\n",
      "Clade\n",
      "2919\n",
      "HAS_STRAIN\n",
      "7552\n",
      "HAS_CLADE\n",
      "2919\n",
      "CARRIES\n",
      "7548\n",
      " \n",
      "----------------------------------------------\n",
      "Running ../cyphers/01c-NCBIRefSeq.cypher:\n",
      " \n",
      "LOAD CSV WITH HEADERS \n",
      "FROM 'FILE:///01c-NCBIRefSeq.csv' AS row \n",
      "MERGE (g:Gene{id: row.ncbigene_id})\n",
      "SET g.name = row.gene, g.start = row.start, g.end = row.end\n",
      "RETURN count(g) as Gene\n",
      ";\n",
      "LOAD CSV WITH HEADERS \n",
      "FROM 'FILE:///01c-NCBIRefSeq.csv' AS row \n",
      "MATCH (gn:Genome{id: row.genbank_id})\n",
      "MATCH (g:Gene{id: row.ncbigene_id})\n",
      "MERGE(gn)-[h:HAS]->(g)\n",
      "RETURN count(h) as Has\n",
      ";\n",
      "LOAD CSV WITH HEADERS \n",
      "FROM 'FILE:///01c-NCBIRefSeq.csv' AS row \n",
      "MERGE (p:Protein{id: row.ncbiprotein_id})\n",
      "SET p.name = row.product\n",
      "RETURN count(p) as Protein\n",
      ";\n",
      "LOAD CSV WITH HEADERS \n",
      "FROM 'FILE:///01c-NCBIRefSeq.csv' AS row \n",
      "MATCH (g:Gene{id: row.ncbigene_id})\n",
      "MATCH (p:Protein{id: row.ncbiprotein_id})\n",
      "MERGE(g)-[e:ENCODES]->(p)\n",
      "RETURN count(e) as ENCODES\n",
      ";\n",
      "Gene\n",
      "28\n",
      "Has\n",
      "28\n",
      "Protein\n",
      "28\n",
      "ENCODES\n",
      "28\n",
      " \n",
      "----------------------------------------------\n",
      "Running ../cyphers/01d-PMC-Accession.cypher:\n",
      " \n",
      "USING PERIODIC COMMIT\n",
      "LOAD CSV WITH HEADERS \n",
      "FROM 'FILE:///00c-PMC-Accession.csv' AS row\n",
      "WITH row WHERE NOT row.accession IS null\n",
      "MATCH (s:Strain{id: row.accession})\n",
      "MERGE (p:Publication{id: row.id})\n",
      "MERGE (p)-[m:MENTIONS]->(s)\n",
      "RETURN count(m) as Publication\n",
      ";\n",
      "Publication\n",
      "61\n"
     ]
    }
   ],
   "source": [
    "# TODO create a batch script for Windows\n",
    "!./run_cyphers.sh"
   ]
  },
  {
   "cell_type": "code",
   "execution_count": 7,
   "metadata": {},
   "outputs": [
    {
     "name": "stdout",
     "output_type": "stream",
     "text": [
      "time: 248.3993217945099\n"
     ]
    }
   ],
   "source": [
    "end = time.time()\n",
    "print('time:', end-start)"
   ]
  },
  {
   "cell_type": "markdown",
   "metadata": {},
   "source": [
    "### Make sure to shutdown Neo4j!"
   ]
  },
  {
   "cell_type": "code",
   "execution_count": 8,
   "metadata": {},
   "outputs": [
    {
     "name": "stdout",
     "output_type": "stream",
     "text": [
      "Stopping Neo4j....... stopped\n"
     ]
    }
   ],
   "source": [
    "!\"$NEO4J_HOME\"/bin/neo4j stop"
   ]
  }
 ],
 "metadata": {
  "kernelspec": {
   "display_name": "Python 3",
   "language": "python",
   "name": "python3"
  },
  "language_info": {
   "codemirror_mode": {
    "name": "ipython",
    "version": 3
   },
   "file_extension": ".py",
   "mimetype": "text/x-python",
   "name": "python",
   "nbconvert_exporter": "python",
   "pygments_lexer": "ipython3",
   "version": "3.8.2"
  }
 },
 "nbformat": 4,
 "nbformat_minor": 4
}
